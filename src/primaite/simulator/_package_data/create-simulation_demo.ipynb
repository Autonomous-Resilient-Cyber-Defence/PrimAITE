{
 "cells": [
  {
   "cell_type": "markdown",
   "metadata": {},
   "source": [
    "# Build a simulation using the Python API\n",
    "\n",
    "Currently, this notbook manipulates the simulation by directly placing objects inside of the attributes of the network and domain. It should be refactored when proper methods exist for adding these objects.\n"
   ]
  },
  {
   "cell_type": "markdown",
   "metadata": {},
   "source": [
    "Import the Simulation class"
   ]
  },
  {
   "cell_type": "code",
   "execution_count": 1,
   "metadata": {},
   "outputs": [],
   "source": [
    "from primaite.simulator.sim_container import Simulation\n"
   ]
  },
  {
   "cell_type": "markdown",
   "metadata": {},
   "source": [
    "Create an empty simulation. By default this has a network with no nodes or links, and a domain controller with no accounts.\n",
    "\n",
    "Let's use the simulation's `describe_state()` method to verify that it is empty."
   ]
  },
  {
   "cell_type": "code",
   "execution_count": 2,
   "metadata": {},
   "outputs": [
    {
     "data": {
      "text/plain": [
       "{'uuid': '2ef348c6-32e5-4c5c-83b7-3b82d0b6123b',\n",
       " 'network': {'uuid': 'dd2d1a02-d461-4505-8bbd-fd0681750175',\n",
       "  'nodes': {},\n",
       "  'links': {}},\n",
       " 'domain': {'uuid': 'ae0423ee-51fa-41e7-be80-c642b39707f6', 'accounts': {}}}"
      ]
     },
     "execution_count": 2,
     "metadata": {},
     "output_type": "execute_result"
    }
   ],
   "source": [
    "my_sim = Simulation()\n",
    "net = my_sim.network\n",
    "my_sim.describe_state()"
   ]
  },
  {
   "cell_type": "markdown",
   "metadata": {},
   "source": [
    "## Add nodes"
   ]
  },
  {
   "cell_type": "code",
   "execution_count": 3,
   "metadata": {},
   "outputs": [],
   "source": [
    "from primaite.simulator.network.hardware.base import Node\n"
   ]
  },
  {
   "cell_type": "code",
   "execution_count": 4,
   "metadata": {},
   "outputs": [],
   "source": [
    "my_pc = Node(hostname=\"primaite_pc\",)\n",
    "net.add_node(my_pc)\n",
    "my_server = Node(hostname=\"google_server\")\n",
    "net.add_node(my_server)\n"
   ]
  },
  {
   "cell_type": "markdown",
   "metadata": {},
   "source": [
    "## Connect the nodes"
   ]
  },
  {
   "cell_type": "code",
   "execution_count": 5,
   "metadata": {},
   "outputs": [],
   "source": [
    "from primaite.simulator.network.hardware.base import NIC, Link, Switch\n"
   ]
  },
  {
   "cell_type": "code",
   "execution_count": 6,
   "metadata": {},
   "outputs": [
    {
     "name": "stderr",
     "output_type": "stream",
     "text": [
      "2023-08-24 13:06:28,617: NIC cc:be:ec:43:a6:4c/130.1.1.1 connected to Link cc:be:ec:43:a6:4c/130.1.1.1<-->79:2b:4a:70:c3:50\n",
      "2023-08-24 13:06:28,618: SwitchPort 79:2b:4a:70:c3:50 connected to Link cc:be:ec:43:a6:4c/130.1.1.1<-->79:2b:4a:70:c3:50\n",
      "2023-08-24 13:06:28,619: NIC c2:1e:48:e1:a4:ad/130.1.1.2 connected to Link c2:1e:48:e1:a4:ad/130.1.1.2<-->1a:2d:12:38:80:2f\n",
      "2023-08-24 13:06:28,620: SwitchPort 1a:2d:12:38:80:2f connected to Link c2:1e:48:e1:a4:ad/130.1.1.2<-->1a:2d:12:38:80:2f\n"
     ]
    }
   ],
   "source": [
    "my_swtich = Switch(hostname=\"switch1\", num_ports=12)\n",
    "net.add_node(my_swtich)\n",
    "\n",
    "pc_nic = NIC(ip_address=\"130.1.1.1\", gateway=\"130.1.1.255\", subnet_mask=\"255.255.255.0\")\n",
    "my_pc.connect_nic(pc_nic)\n",
    "\n",
    "\n",
    "server_nic = NIC(ip_address=\"130.1.1.2\", gateway=\"130.1.1.255\", subnet_mask=\"255.255.255.0\")\n",
    "my_server.connect_nic(server_nic)\n",
    "\n",
    "\n",
    "net.connect(pc_nic, my_swtich.switch_ports[1])\n",
    "net.connect(server_nic, my_swtich.switch_ports[2])\n"
   ]
  },
  {
   "cell_type": "markdown",
   "metadata": {},
   "source": [
    "## Add files and folders to nodes\n"
   ]
  },
  {
   "cell_type": "code",
   "execution_count": 7,
   "metadata": {},
   "outputs": [],
   "source": [
    "from primaite.simulator.file_system.file_type import FileType\n",
    "from primaite.simulator.file_system.file_system import File"
   ]
  },
  {
   "cell_type": "code",
   "execution_count": 8,
   "metadata": {},
   "outputs": [],
   "source": [
    "my_pc_downloads_folder = my_pc.file_system.create_folder(\"downloads\")\n",
    "my_pc_downloads_folder.add_file(File(name=\"firefox_installer.zip\",file_type=FileType.ZIP))"
   ]
  },
  {
   "cell_type": "code",
   "execution_count": 9,
   "metadata": {},
   "outputs": [
    {
     "data": {
      "text/plain": [
       "File(uuid='7d56a563-ecc0-4011-8c97-240dd6c885c0', name='favicon.ico', size=40.0, file_type=<FileType.PNG: '11'>, action_manager=None)"
      ]
     },
     "execution_count": 9,
     "metadata": {},
     "output_type": "execute_result"
    }
   ],
   "source": [
    "my_server_folder = my_server.file_system.create_folder(\"static\")\n",
    "my_server.file_system.create_file(\"favicon.ico\", file_type=FileType.PNG)"
   ]
  },
  {
   "cell_type": "markdown",
   "metadata": {},
   "source": [
    "## Add applications to nodes"
   ]
  },
  {
   "cell_type": "code",
   "execution_count": 10,
   "metadata": {},
   "outputs": [],
   "source": [
    "from primaite.simulator.system.applications.application import Application, ApplicationOperatingState\n",
    "from primaite.simulator.system.software import SoftwareHealthState, SoftwareCriticality\n",
    "from primaite.simulator.network.transmission.transport_layer import Port\n",
    "\n",
    "# no applications exist yet so we will create our own.\n",
    "class MSPaint(Application):\n",
    "    def describe_state(self):\n",
    "        return super().describe_state()"
   ]
  },
  {
   "cell_type": "code",
   "execution_count": 11,
   "metadata": {},
   "outputs": [],
   "source": [
    "mspaint = MSPaint(name = \"mspaint\", health_state_actual=SoftwareHealthState.GOOD, health_state_visible=SoftwareHealthState.GOOD, criticality=SoftwareCriticality.MEDIUM, ports={Port.HTTP}, operating_state=ApplicationOperatingState.RUNNING,execution_control_status='manual')"
   ]
  },
  {
   "cell_type": "code",
   "execution_count": 12,
   "metadata": {},
   "outputs": [],
   "source": [
    "my_pc.applications[mspaint.uuid] = mspaint"
   ]
  },
  {
   "cell_type": "markdown",
   "metadata": {},
   "source": [
    "## Create a domain account"
   ]
  },
  {
   "cell_type": "code",
   "execution_count": 13,
   "metadata": {},
   "outputs": [],
   "source": [
    "from primaite.simulator.domain.account import Account, AccountType\n"
   ]
  },
  {
   "cell_type": "code",
   "execution_count": 14,
   "metadata": {},
   "outputs": [],
   "source": [
    "acct = Account(username=\"admin\", password=\"admin12\", account_type=AccountType.USER)\n",
    "my_sim.domain.accounts[acct.uuid] = acct"
   ]
  },
  {
   "cell_type": "markdown",
   "metadata": {},
   "source": [
    "Verify that the state dictionary contains no non-serialisable objects."
   ]
  },
  {
   "cell_type": "code",
   "execution_count": 15,
   "metadata": {},
   "outputs": [
    {
     "data": {
      "text/plain": [
       "{'uuid': '2ef348c6-32e5-4c5c-83b7-3b82d0b6123b',\n",
       " 'network': {'uuid': 'dd2d1a02-d461-4505-8bbd-fd0681750175',\n",
       "  'nodes': {'2f03b32b-7290-4921-8670-faebe4a19d63': {'uuid': '2f03b32b-7290-4921-8670-faebe4a19d63',\n",
       "    'hostname': 'primaite_pc',\n",
       "    'operating_state': 0,\n",
       "    'NICs': {'e07e2a7f-b09f-4bd8-8e92-cffbf1f2270b': {'uuid': 'e07e2a7f-b09f-4bd8-8e92-cffbf1f2270b',\n",
       "      'ip_adress': '130.1.1.1',\n",
       "      'subnet_mask': '255.255.255.0',\n",
       "      'gateway': '130.1.1.255',\n",
       "      'mac_address': 'cc:be:ec:43:a6:4c',\n",
       "      'speed': 100,\n",
       "      'mtu': 1500,\n",
       "      'wake_on_lan': False,\n",
       "      'dns_servers': [],\n",
       "      'enabled': False}},\n",
       "    'file_system': {'uuid': '0b7206af-3e0a-41b0-8115-ae9e0dbbcd81',\n",
       "     'folders': {'c161bc7c-9abd-4666-9b49-2745fdb65ebe': {'uuid': 'c161bc7c-9abd-4666-9b49-2745fdb65ebe',\n",
       "       'name': 'downloads',\n",
       "       'size': 1000.0,\n",
       "       'files': {'f807d777-d167-4f37-9f9b-ced634af6ed5': {'uuid': 'f807d777-d167-4f37-9f9b-ced634af6ed5',\n",
       "         'name': 'firefox_installer.zip',\n",
       "         'size': 1000.0,\n",
       "         'file_type': 'ZIP'}},\n",
       "       'is_quarantined': False}}},\n",
       "    'applications': {'ea466b2f-1ed5-49fd-9579-44852bff684d': {'uuid': 'ea466b2f-1ed5-49fd-9579-44852bff684d',\n",
       "      'health_state': 'GOOD',\n",
       "      'health_state_red_view': 'GOOD',\n",
       "      'criticality': 'MEDIUM',\n",
       "      'patching_count': 0,\n",
       "      'scanning_count': 0,\n",
       "      'revealed_to_red': False,\n",
       "      'installing_count': 0,\n",
       "      'max_sessions': 1,\n",
       "      'tcp': True,\n",
       "      'udp': True,\n",
       "      'ports': ['HTTP'],\n",
       "      'opearting_state': 'RUNNING',\n",
       "      'execution_control_status': 'manual',\n",
       "      'num_executions': 0,\n",
       "      'groups': []}},\n",
       "    'services': {},\n",
       "    'process': {}},\n",
       "   'e9afc0bc-fb21-48a3-9868-2ede6a3181dc': {'uuid': 'e9afc0bc-fb21-48a3-9868-2ede6a3181dc',\n",
       "    'hostname': 'google_server',\n",
       "    'operating_state': 0,\n",
       "    'NICs': {'956ce240-8fb3-4fde-8635-ac4ea601a582': {'uuid': '956ce240-8fb3-4fde-8635-ac4ea601a582',\n",
       "      'ip_adress': '130.1.1.2',\n",
       "      'subnet_mask': '255.255.255.0',\n",
       "      'gateway': '130.1.1.255',\n",
       "      'mac_address': 'c2:1e:48:e1:a4:ad',\n",
       "      'speed': 100,\n",
       "      'mtu': 1500,\n",
       "      'wake_on_lan': False,\n",
       "      'dns_servers': [],\n",
       "      'enabled': False}},\n",
       "    'file_system': {'uuid': 'c3f99c30-b493-4fb6-b13e-d2005d851b59',\n",
       "     'folders': {'869eda49-21f2-4fc1-8681-78725cdd5c70': {'uuid': '869eda49-21f2-4fc1-8681-78725cdd5c70',\n",
       "       'name': 'static',\n",
       "       'size': 0,\n",
       "       'files': {},\n",
       "       'is_quarantined': False},\n",
       "      '9fbe0e41-0d6a-4142-9c73-9c0de2dbde6e': {'uuid': '9fbe0e41-0d6a-4142-9c73-9c0de2dbde6e',\n",
       "       'name': 'root',\n",
       "       'size': 40.0,\n",
       "       'files': {'7d56a563-ecc0-4011-8c97-240dd6c885c0': {'uuid': '7d56a563-ecc0-4011-8c97-240dd6c885c0',\n",
       "         'name': 'favicon.ico',\n",
       "         'size': 40.0,\n",
       "         'file_type': 'PNG'}},\n",
       "       'is_quarantined': False}}},\n",
       "    'applications': {},\n",
       "    'services': {},\n",
       "    'process': {}},\n",
       "   '47814452-ef47-4e6b-9087-796c438d4698': {'uuid': '47814452-ef47-4e6b-9087-796c438d4698',\n",
       "    'num_ports': 12,\n",
       "    'ports': {1: {'uuid': 'b76fe86f-bb92-4346-8e83-217a2fb0bc67',\n",
       "      'mac_address': '79:2b:4a:70:c3:50',\n",
       "      'speed': 100,\n",
       "      'mtu': 1500,\n",
       "      'enabled': False},\n",
       "     2: {'uuid': '6f8fc6e7-76a4-441a-b7af-441edbdcc6ac',\n",
       "      'mac_address': '1a:2d:12:38:80:2f',\n",
       "      'speed': 100,\n",
       "      'mtu': 1500,\n",
       "      'enabled': False},\n",
       "     3: {'uuid': '1aa75a3c-01f1-4293-9894-5396fa412690',\n",
       "      'mac_address': 'd1:7b:36:c1:82:c1',\n",
       "      'speed': 100,\n",
       "      'mtu': 1500,\n",
       "      'enabled': False},\n",
       "     4: {'uuid': 'fe6c9f44-59d5-403e-973a-6f19fce7b9b9',\n",
       "      'mac_address': 'e3:6b:cc:0c:98:9b',\n",
       "      'speed': 100,\n",
       "      'mtu': 1500,\n",
       "      'enabled': False},\n",
       "     5: {'uuid': 'e9e83e37-8537-4884-98a6-87017540078f',\n",
       "      'mac_address': '32:09:c0:4a:f1:20',\n",
       "      'speed': 100,\n",
       "      'mtu': 1500,\n",
       "      'enabled': False},\n",
       "     6: {'uuid': '747f2cd3-8902-4da8-8829-b0b53fe79735',\n",
       "      'mac_address': 'e8:20:0b:04:b8:76',\n",
       "      'speed': 100,\n",
       "      'mtu': 1500,\n",
       "      'enabled': False},\n",
       "     7: {'uuid': '88ed129e-0ddb-4d29-ba3c-58d81efe240e',\n",
       "      'mac_address': '7f:b4:f4:2e:b6:71',\n",
       "      'speed': 100,\n",
       "      'mtu': 1500,\n",
       "      'enabled': False},\n",
       "     8: {'uuid': '6c1a4c3c-25d8-46f6-98a8-54073d0ca0d3',\n",
       "      'mac_address': 'f6:22:2d:24:b9:71',\n",
       "      'speed': 100,\n",
       "      'mtu': 1500,\n",
       "      'enabled': False},\n",
       "     9: {'uuid': 'b2bfc006-6a6b-4701-a75a-27954592d429',\n",
       "      'mac_address': 'b6:a5:92:a5:aa:1b',\n",
       "      'speed': 100,\n",
       "      'mtu': 1500,\n",
       "      'enabled': False},\n",
       "     10: {'uuid': '3c607386-87a2-4d0b-ac04-449416ca5b1f',\n",
       "      'mac_address': 'b3:75:7d:ce:88:0a',\n",
       "      'speed': 100,\n",
       "      'mtu': 1500,\n",
       "      'enabled': False},\n",
       "     11: {'uuid': '590002c8-27fa-4c31-b17b-7b89dbf8cdf8',\n",
       "      'mac_address': 'c0:25:a6:64:52:8e',\n",
       "      'speed': 100,\n",
       "      'mtu': 1500,\n",
       "      'enabled': False},\n",
       "     12: {'uuid': 'b7e25eed-547a-4c17-8cb9-8b976ce4bbd9',\n",
       "      'mac_address': '98:50:96:47:ca:bc',\n",
       "      'speed': 100,\n",
       "      'mtu': 1500,\n",
       "      'enabled': False}},\n",
       "    'mac_address_table': {}}},\n",
       "  'links': {'a51a4435-20ae-43cf-a151-26e824968b3d': {'uuid': 'a51a4435-20ae-43cf-a151-26e824968b3d',\n",
       "    'endpoint_a': 'e07e2a7f-b09f-4bd8-8e92-cffbf1f2270b',\n",
       "    'endpoint_b': 'b76fe86f-bb92-4346-8e83-217a2fb0bc67',\n",
       "    'bandwidth': 100.0,\n",
       "    'current_load': 0.0},\n",
       "   'ae3486e5-f78e-4092-96d1-d7e8176f2b7d': {'uuid': 'ae3486e5-f78e-4092-96d1-d7e8176f2b7d',\n",
       "    'endpoint_a': '956ce240-8fb3-4fde-8635-ac4ea601a582',\n",
       "    'endpoint_b': '6f8fc6e7-76a4-441a-b7af-441edbdcc6ac',\n",
       "    'bandwidth': 100.0,\n",
       "    'current_load': 0.0}}},\n",
       " 'domain': {'uuid': 'ae0423ee-51fa-41e7-be80-c642b39707f6',\n",
       "  'accounts': {'917eda28-9a67-4449-bddd-87e2141a3162': {'uuid': '917eda28-9a67-4449-bddd-87e2141a3162',\n",
       "    'num_logons': 0,\n",
       "    'num_logoffs': 0,\n",
       "    'num_group_changes': 0,\n",
       "    'username': 'admin',\n",
       "    'password': 'admin12',\n",
       "    'account_type': 'USER',\n",
       "    'enabled': True}}}}"
      ]
     },
     "execution_count": 15,
     "metadata": {},
     "output_type": "execute_result"
    }
   ],
   "source": [
    "my_sim.describe_state()"
   ]
  },
  {
   "cell_type": "code",
   "execution_count": 16,
   "metadata": {},
   "outputs": [
    {
     "data": {
      "text/plain": [
       "'{\"uuid\": \"2ef348c6-32e5-4c5c-83b7-3b82d0b6123b\", \"network\": {\"uuid\": \"dd2d1a02-d461-4505-8bbd-fd0681750175\", \"nodes\": {\"2f03b32b-7290-4921-8670-faebe4a19d63\": {\"uuid\": \"2f03b32b-7290-4921-8670-faebe4a19d63\", \"hostname\": \"primaite_pc\", \"operating_state\": 0, \"NICs\": {\"e07e2a7f-b09f-4bd8-8e92-cffbf1f2270b\": {\"uuid\": \"e07e2a7f-b09f-4bd8-8e92-cffbf1f2270b\", \"ip_adress\": \"130.1.1.1\", \"subnet_mask\": \"255.255.255.0\", \"gateway\": \"130.1.1.255\", \"mac_address\": \"cc:be:ec:43:a6:4c\", \"speed\": 100, \"mtu\": 1500, \"wake_on_lan\": false, \"dns_servers\": [], \"enabled\": false}}, \"file_system\": {\"uuid\": \"0b7206af-3e0a-41b0-8115-ae9e0dbbcd81\", \"folders\": {\"c161bc7c-9abd-4666-9b49-2745fdb65ebe\": {\"uuid\": \"c161bc7c-9abd-4666-9b49-2745fdb65ebe\", \"name\": \"downloads\", \"size\": 1000.0, \"files\": {\"f807d777-d167-4f37-9f9b-ced634af6ed5\": {\"uuid\": \"f807d777-d167-4f37-9f9b-ced634af6ed5\", \"name\": \"firefox_installer.zip\", \"size\": 1000.0, \"file_type\": \"ZIP\"}}, \"is_quarantined\": false}}}, \"applications\": {\"ea466b2f-1ed5-49fd-9579-44852bff684d\": {\"uuid\": \"ea466b2f-1ed5-49fd-9579-44852bff684d\", \"health_state\": \"GOOD\", \"health_state_red_view\": \"GOOD\", \"criticality\": \"MEDIUM\", \"patching_count\": 0, \"scanning_count\": 0, \"revealed_to_red\": false, \"installing_count\": 0, \"max_sessions\": 1, \"tcp\": true, \"udp\": true, \"ports\": [\"HTTP\"], \"opearting_state\": \"RUNNING\", \"execution_control_status\": \"manual\", \"num_executions\": 0, \"groups\": []}}, \"services\": {}, \"process\": {}}, \"e9afc0bc-fb21-48a3-9868-2ede6a3181dc\": {\"uuid\": \"e9afc0bc-fb21-48a3-9868-2ede6a3181dc\", \"hostname\": \"google_server\", \"operating_state\": 0, \"NICs\": {\"956ce240-8fb3-4fde-8635-ac4ea601a582\": {\"uuid\": \"956ce240-8fb3-4fde-8635-ac4ea601a582\", \"ip_adress\": \"130.1.1.2\", \"subnet_mask\": \"255.255.255.0\", \"gateway\": \"130.1.1.255\", \"mac_address\": \"c2:1e:48:e1:a4:ad\", \"speed\": 100, \"mtu\": 1500, \"wake_on_lan\": false, \"dns_servers\": [], \"enabled\": false}}, \"file_system\": {\"uuid\": \"c3f99c30-b493-4fb6-b13e-d2005d851b59\", \"folders\": {\"869eda49-21f2-4fc1-8681-78725cdd5c70\": {\"uuid\": \"869eda49-21f2-4fc1-8681-78725cdd5c70\", \"name\": \"static\", \"size\": 0, \"files\": {}, \"is_quarantined\": false}, \"9fbe0e41-0d6a-4142-9c73-9c0de2dbde6e\": {\"uuid\": \"9fbe0e41-0d6a-4142-9c73-9c0de2dbde6e\", \"name\": \"root\", \"size\": 40.0, \"files\": {\"7d56a563-ecc0-4011-8c97-240dd6c885c0\": {\"uuid\": \"7d56a563-ecc0-4011-8c97-240dd6c885c0\", \"name\": \"favicon.ico\", \"size\": 40.0, \"file_type\": \"PNG\"}}, \"is_quarantined\": false}}}, \"applications\": {}, \"services\": {}, \"process\": {}}, \"47814452-ef47-4e6b-9087-796c438d4698\": {\"uuid\": \"47814452-ef47-4e6b-9087-796c438d4698\", \"num_ports\": 12, \"ports\": {\"1\": {\"uuid\": \"b76fe86f-bb92-4346-8e83-217a2fb0bc67\", \"mac_address\": \"79:2b:4a:70:c3:50\", \"speed\": 100, \"mtu\": 1500, \"enabled\": false}, \"2\": {\"uuid\": \"6f8fc6e7-76a4-441a-b7af-441edbdcc6ac\", \"mac_address\": \"1a:2d:12:38:80:2f\", \"speed\": 100, \"mtu\": 1500, \"enabled\": false}, \"3\": {\"uuid\": \"1aa75a3c-01f1-4293-9894-5396fa412690\", \"mac_address\": \"d1:7b:36:c1:82:c1\", \"speed\": 100, \"mtu\": 1500, \"enabled\": false}, \"4\": {\"uuid\": \"fe6c9f44-59d5-403e-973a-6f19fce7b9b9\", \"mac_address\": \"e3:6b:cc:0c:98:9b\", \"speed\": 100, \"mtu\": 1500, \"enabled\": false}, \"5\": {\"uuid\": \"e9e83e37-8537-4884-98a6-87017540078f\", \"mac_address\": \"32:09:c0:4a:f1:20\", \"speed\": 100, \"mtu\": 1500, \"enabled\": false}, \"6\": {\"uuid\": \"747f2cd3-8902-4da8-8829-b0b53fe79735\", \"mac_address\": \"e8:20:0b:04:b8:76\", \"speed\": 100, \"mtu\": 1500, \"enabled\": false}, \"7\": {\"uuid\": \"88ed129e-0ddb-4d29-ba3c-58d81efe240e\", \"mac_address\": \"7f:b4:f4:2e:b6:71\", \"speed\": 100, \"mtu\": 1500, \"enabled\": false}, \"8\": {\"uuid\": \"6c1a4c3c-25d8-46f6-98a8-54073d0ca0d3\", \"mac_address\": \"f6:22:2d:24:b9:71\", \"speed\": 100, \"mtu\": 1500, \"enabled\": false}, \"9\": {\"uuid\": \"b2bfc006-6a6b-4701-a75a-27954592d429\", \"mac_address\": \"b6:a5:92:a5:aa:1b\", \"speed\": 100, \"mtu\": 1500, \"enabled\": false}, \"10\": {\"uuid\": \"3c607386-87a2-4d0b-ac04-449416ca5b1f\", \"mac_address\": \"b3:75:7d:ce:88:0a\", \"speed\": 100, \"mtu\": 1500, \"enabled\": false}, \"11\": {\"uuid\": \"590002c8-27fa-4c31-b17b-7b89dbf8cdf8\", \"mac_address\": \"c0:25:a6:64:52:8e\", \"speed\": 100, \"mtu\": 1500, \"enabled\": false}, \"12\": {\"uuid\": \"b7e25eed-547a-4c17-8cb9-8b976ce4bbd9\", \"mac_address\": \"98:50:96:47:ca:bc\", \"speed\": 100, \"mtu\": 1500, \"enabled\": false}}, \"mac_address_table\": {}}}, \"links\": {\"a51a4435-20ae-43cf-a151-26e824968b3d\": {\"uuid\": \"a51a4435-20ae-43cf-a151-26e824968b3d\", \"endpoint_a\": \"e07e2a7f-b09f-4bd8-8e92-cffbf1f2270b\", \"endpoint_b\": \"b76fe86f-bb92-4346-8e83-217a2fb0bc67\", \"bandwidth\": 100.0, \"current_load\": 0.0}, \"ae3486e5-f78e-4092-96d1-d7e8176f2b7d\": {\"uuid\": \"ae3486e5-f78e-4092-96d1-d7e8176f2b7d\", \"endpoint_a\": \"956ce240-8fb3-4fde-8635-ac4ea601a582\", \"endpoint_b\": \"6f8fc6e7-76a4-441a-b7af-441edbdcc6ac\", \"bandwidth\": 100.0, \"current_load\": 0.0}}}, \"domain\": {\"uuid\": \"ae0423ee-51fa-41e7-be80-c642b39707f6\", \"accounts\": {\"917eda28-9a67-4449-bddd-87e2141a3162\": {\"uuid\": \"917eda28-9a67-4449-bddd-87e2141a3162\", \"num_logons\": 0, \"num_logoffs\": 0, \"num_group_changes\": 0, \"username\": \"admin\", \"password\": \"admin12\", \"account_type\": \"USER\", \"enabled\": true}}}}'"
      ]
     },
     "execution_count": 16,
     "metadata": {},
     "output_type": "execute_result"
    }
   ],
   "source": [
    "import json\n",
    "json.dumps(my_sim.describe_state())"
   ]
  }
 ],
 "metadata": {
  "kernelspec": {
   "display_name": "venv",
   "language": "python",
   "name": "python3"
  },
  "language_info": {
   "codemirror_mode": {
    "name": "ipython",
    "version": 3
   },
   "file_extension": ".py",
   "mimetype": "text/x-python",
   "name": "python",
   "nbconvert_exporter": "python",
   "pygments_lexer": "ipython3",
   "version": "3.10.12"
  },
  "orig_nbformat": 4
 },
 "nbformat": 4,
 "nbformat_minor": 2
}
