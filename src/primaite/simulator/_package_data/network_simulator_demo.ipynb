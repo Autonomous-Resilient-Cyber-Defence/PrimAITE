{
 "cells": [
  {
   "cell_type": "markdown",
   "id": "03b2013a-b7d1-47ee-b08c-8dab83833720",
   "metadata": {},
   "source": [
    "# PrimAITE Router Simulation Demo\n",
    "\n",
    "This demo uses the ARCD Use Case 2 Network (seen below) to demonstrate the capabilities of the Network simulator in PrimAITE."
   ]
  },
  {
   "cell_type": "raw",
   "id": "c8bb5698-e746-4e90-9c2f-efe962acdfa0",
   "metadata": {},
   "source": [
    "                                                                                +------------+\n",
    "                                                                                |  domain_   |\n",
    "                                                                   +------------+ controller |\n",
    "                                                                   |            |            |\n",
    "                                                                   |            +------------+\n",
    "                                                                   |\n",
    "                                                                   |\n",
    "+------------+                                                     |            +------------+\n",
    "|            |                                                     |            |            |\n",
    "|  client_1  +---------+                                           |  +---------+ web_server |\n",
    "|            |         |                                           |  |         |            |\n",
    "+------------+         |                                           |  |         +------------+\n",
    "                    +--+---------+      +------------+      +------+--+--+\n",
    "                    |            |      |            |      |            |\n",
    "                    |  switch_2  +------+  router_1  +------+  switch_1  |\n",
    "                    |            |      |            |      |            |\n",
    "                    +--+------+--+      +------------+      +--+---+--+--+\n",
    "+------------+         |      |                                |   |  |         +------------+\n",
    "|            |         |      |                                |   |  |         |  database  |\n",
    "|  client_2  +---------+      |                                |   |  +---------+  _server   |\n",
    "|            |                |                                |   |            |            |\n",
    "+------------+                |                                |   |            +------------+\n",
    "                              |         +------------+         |   |\n",
    "                              |         |  security  |         |   |\n",
    "                              +---------+   _suite   +---------+   |            +------------+\n",
    "                                        |            |             |            |  backup_   |\n",
    "                                        +------------+             +------------+  server    |\n",
    "                                                                                |            |\n",
    "                                                                                +------------+"
   ]
  },
  {
   "cell_type": "markdown",
   "id": "415d487c-6457-497d-85d6-99439b3541e7",
   "metadata": {},
   "source": [
    "## The Network\n",
    "First let's create our network. The network comes 'pre-packaged' with PrimAITE in the `primaite.simulator.network.networks` module.\n",
    "\n",
    "> ℹ️ You'll see a bunch of logs associated with parts of the Network that aern't an 'electronic' device on the Network and thus don't have a stsrem to log to. Soon these logs are going to be pushed to a Network Logger so we're not clogging up the PrimAITE application logs."
   ]
  },
  {
   "cell_type": "code",
   "execution_count": null,
   "id": "de57ac8c-5b28-4847-a759-2ceaf5593329",
   "metadata": {
    "tags": []
   },
   "outputs": [],
   "source": [
    "from primaite.simulator.network.networks import arcd_uc2_network"
   ]
  },
  {
   "cell_type": "code",
   "execution_count": null,
   "id": "a1e2e4df-67c0-4584-ab27-47e2c7c7fcd2",
   "metadata": {
    "tags": []
   },
   "outputs": [],
   "source": [
    "network = arcd_uc2_network()"
   ]
  },
  {
   "cell_type": "markdown",
   "id": "fb052c56-e9ca-4093-9115-d0c440b5ff53",
   "metadata": {},
   "source": [
    "Most of the Network components have a `.show()` function that prints a table of information about that object. We can view the Nodes and Links on the Network by calling `network.show()`."
   ]
  },
  {
   "cell_type": "code",
   "execution_count": null,
   "id": "cc199741-ef2e-47f5-b2f0-e20049ccf40f",
   "metadata": {
    "tags": []
   },
   "outputs": [],
   "source": [
    "network.show()"
   ]
  },
  {
   "cell_type": "markdown",
   "id": "76d2b7e9-280b-4741-a8b3-a84bed219fac",
   "metadata": {
    "tags": []
   },
   "source": [
    "## Nodes\n",
    "\n",
    "Now let's inspect some of the nodes. We can directly access a node on the Network by calling .`get_node_by_hostname`. Like Network, a Node, along with some core services like ARP, have a `.show()` method."
   ]
  },
  {
   "cell_type": "markdown",
   "id": "84113002-843e-4cab-b899-667b50f25f6b",
   "metadata": {},
   "source": [
    "### Router Nodes\n",
    "\n",
    "First we'll inspect the Router node and some of it's core services."
   ]
  },
  {
   "cell_type": "markdown",
   "id": "bf63a178-eee5-4669-bf64-13aea7ecf6cb",
   "metadata": {},
   "source": [
    "Calling `router.show()` displays the Ethernet interfaces on the Router. If you need a table in markdown format, pass `markdown=True`."
   ]
  },
  {
   "cell_type": "code",
   "execution_count": null,
   "id": "e76d1854-961e-438c-b40f-77fd9c3abe38",
   "metadata": {
    "tags": []
   },
   "outputs": [],
   "source": [
    "network.get_node_by_hostname(\"router_1\").show()"
   ]
  },
  {
   "cell_type": "markdown",
   "id": "e000540c-687c-4254-870c-1d814603bdbf",
   "metadata": {},
   "source": [
    "Calling `router.arp.show()` displays the Router ARP Cache."
   ]
  },
  {
   "cell_type": "code",
   "execution_count": null,
   "id": "92de8b42-92d7-4934-9c12-50bf724c9eb2",
   "metadata": {
    "tags": []
   },
   "outputs": [],
   "source": [
    "network.get_node_by_hostname(\"router_1\").arp.show()"
   ]
  },
  {
   "cell_type": "markdown",
   "id": "a9ff7ee8-9482-44de-9039-b684866bdc82",
   "metadata": {},
   "source": [
    "Calling `router.acl.show()` displays the Access Control List."
   ]
  },
  {
   "cell_type": "code",
   "execution_count": null,
   "id": "5922282a-d22b-4e55-9176-f3f3654c849f",
   "metadata": {
    "tags": []
   },
   "outputs": [],
   "source": [
    "network.get_node_by_hostname(\"router_1\").acl.show()"
   ]
  },
  {
   "cell_type": "markdown",
   "id": "71c87884-f793-4c9f-b004-5b0df86cf585",
   "metadata": {},
   "source": [
    "Calling `router.router_table.show()` displays the static routes the Router provides."
   ]
  },
  {
   "cell_type": "code",
   "execution_count": null,
   "id": "327203be-f475-4727-82a1-e992d3b70ed8",
   "metadata": {
    "tags": []
   },
   "outputs": [],
   "source": [
    "network.get_node_by_hostname(\"router_1\").route_table.show()"
   ]
  },
  {
   "cell_type": "markdown",
   "id": "eef561a8-3d39-4c8b-bbc8-e8b10b8ed25f",
   "metadata": {},
   "source": [
    "Calling `router.sys_log.show()` displays the Router system log. By default, only the last 10 log entries are displayed, this can be changed by passing `last_n=<number of log entries>`."
   ]
  },
  {
   "cell_type": "code",
   "execution_count": null,
   "id": "3d0aa004-b10c-445f-aaab-340e0e716c74",
   "metadata": {
    "tags": []
   },
   "outputs": [],
   "source": [
    "network.get_node_by_hostname(\"router_1\").sys_log.show(last_n=10)"
   ]
  },
  {
   "cell_type": "markdown",
   "id": "25630c90-c54e-4b5d-8bf4-ad1b0722e126",
   "metadata": {},
   "source": [
    "### Switch Nodes\n",
    "\n",
    "Next we'll inspect the Switch node and some of it's core services."
   ]
  },
  {
   "cell_type": "markdown",
   "id": "4879394d-2981-40de-a229-e19b09a34e6e",
   "metadata": {},
   "source": [
    "Calling `switch.show()` displays the Switch orts on the Switch."
   ]
  },
  {
   "cell_type": "code",
   "execution_count": null,
   "id": "e7fd439b-5442-4e9d-9e7d-86dacb77f458",
   "metadata": {
    "tags": []
   },
   "outputs": [],
   "source": [
    "network.get_node_by_hostname(\"switch_1\").show()"
   ]
  },
  {
   "cell_type": "markdown",
   "id": "beb8dbd6-7250-4ac9-9fa2-d2a9c0e5fd19",
   "metadata": {
    "tags": []
   },
   "source": [
    "Calling `switch.arp.show()` displays the Switch ARP Cache."
   ]
  },
  {
   "cell_type": "code",
   "execution_count": null,
   "id": "d06e1310-4a77-4315-a59f-cb1b49ca2352",
   "metadata": {
    "tags": []
   },
   "outputs": [],
   "source": [
    "network.get_node_by_hostname(\"switch_1\").arp.show()"
   ]
  },
  {
   "cell_type": "markdown",
   "id": "fda75ac3-8123-4234-8f36-86547891d8df",
   "metadata": {},
   "source": [
    "Calling `switch.sys_log.show()` displays the Switch system log. By default, only the last 10 log entries are displayed, this can be changed by passing `last_n=<number of log entries>`."
   ]
  },
  {
   "cell_type": "code",
   "execution_count": null,
   "id": "a0d984b7-a7c1-4bbd-aa5a-9d3caecb08dc",
   "metadata": {
    "tags": []
   },
   "outputs": [],
   "source": [
    "network.get_node_by_hostname(\"switch_1\").sys_log.show()"
   ]
  },
  {
   "cell_type": "markdown",
   "id": "2f1d99ad-db4f-4baf-8a35-e1d95f269586",
   "metadata": {},
   "source": [
    "### Computer/Server Nodes\n",
    "\n",
    "Finally, we'll inspect a Computer or Server Node and some of its core services."
   ]
  },
  {
   "cell_type": "markdown",
   "id": "c9e2251a-1b47-46e5-840f-7fec3e39c5aa",
   "metadata": {
    "tags": []
   },
   "source": [
    "Calling `computer.show()` displays the NICs on the Computer/Server."
   ]
  },
  {
   "cell_type": "code",
   "execution_count": null,
   "id": "656c37f6-b145-42af-9714-8d2886d0eff8",
   "metadata": {
    "tags": []
   },
   "outputs": [],
   "source": [
    "network.get_node_by_hostname(\"security_suite\").show()"
   ]
  },
  {
   "cell_type": "markdown",
   "id": "f1097a49-a3da-4d79-a06d-ae8af452918f",
   "metadata": {},
   "source": [
    "Calling `computer.arp.show()` displays the Computer/Server ARP Cache."
   ]
  },
  {
   "cell_type": "code",
   "execution_count": null,
   "id": "66b267d6-2308-486a-b9aa-cb8d3bcf0753",
   "metadata": {
    "tags": []
   },
   "outputs": [],
   "source": [
    "network.get_node_by_hostname(\"security_suite\").arp.show()"
   ]
  },
  {
   "cell_type": "markdown",
   "id": "0d1fcad8-5b1a-4d8b-a49f-aa54a95fcaf0",
   "metadata": {},
   "source": [
    "Calling `switch.sys_log.show()` displays the Computer/Server system log. By default, only the last 10 log entries are displayed, this can be changed by passing `last_n=<number of log entries>`."
   ]
  },
  {
   "cell_type": "code",
   "execution_count": null,
   "id": "1b5debe8-ef1b-445d-8fa9-6a45568f21f3",
   "metadata": {
    "tags": []
   },
   "outputs": [],
   "source": [
    "network.get_node_by_hostname(\"security_suite\").sys_log.show()"
   ]
  },
  {
   "cell_type": "markdown",
   "id": "fcfa1773-798c-4ada-9318-c3ad928217da",
   "metadata": {},
   "source": [
    "## Basic Network Comms Check\n",
    "\n",
    "We can perform a good old ping to check that Nodes are able to communicate with each other."
   ]
  },
  {
   "cell_type": "code",
   "execution_count": null,
   "id": "495b7de4-b6ce-41a6-9114-f74752ab4491",
   "metadata": {
    "tags": []
   },
   "outputs": [],
   "source": [
    "network.show(nodes=False, links=False)"
   ]
  },
  {
   "cell_type": "markdown",
   "id": "3e13922a-217f-4f4e-99b6-57a07613cade",
   "metadata": {},
   "source": [
    "We'll first ping client_1's default gateway."
   ]
  },
  {
   "cell_type": "code",
   "execution_count": null,
   "id": "a38abb71-994e-49e8-8f51-e9a550e95b99",
   "metadata": {
    "tags": []
   },
   "outputs": [],
   "source": [
    "network.get_node_by_hostname(\"client_1\").ping(\"192.168.10.1\")"
   ]
  },
  {
   "cell_type": "code",
   "execution_count": null,
   "id": "8388e1e9-30e3-4534-8e5a-c6e9144149d2",
   "metadata": {
    "tags": []
   },
   "outputs": [],
   "source": [
    "network.get_node_by_hostname(\"client_1\").sys_log.show(15)"
   ]
  },
  {
   "cell_type": "markdown",
   "id": "02c76d5c-d954-49db-912d-cb9c52f46375",
   "metadata": {},
   "source": [
    "Next, we'll ping the interface of the 192.168.1.0/24 Network on the Router (port 1)."
   ]
  },
  {
   "cell_type": "code",
   "execution_count": null,
   "id": "ff8e976a-c16b-470c-8923-325713a30d6c",
   "metadata": {
    "tags": []
   },
   "outputs": [],
   "source": [
    "network.get_node_by_hostname(\"client_1\").ping(\"192.168.1.1\")"
   ]
  },
  {
   "cell_type": "markdown",
   "id": "80280404-a5ab-452f-8a02-771a0d7496b1",
   "metadata": {},
   "source": [
    "And finally, we'll ping the web server."
   ]
  },
  {
   "cell_type": "code",
   "execution_count": null,
   "id": "c4163f8d-6a72-410c-9f5c-4f881b7de45e",
   "metadata": {
    "tags": []
   },
   "outputs": [],
   "source": [
    "network.get_node_by_hostname(\"client_1\").ping(\"192.168.1.12\")"
   ]
  },
  {
   "cell_type": "markdown",
   "id": "1194c045-ba77-4427-be30-ed7b5b224850",
   "metadata": {},
   "source": [
    "To confirm that the ping was received and processed by the web_server, we can view the sys log"
   ]
  },
  {
   "cell_type": "code",
   "execution_count": null,
   "id": "e79a523a-5780-45b6-8798-c434e0e522bd",
   "metadata": {
    "tags": []
   },
   "outputs": [],
   "source": [
    "network.get_node_by_hostname(\"web_server\").sys_log.show()"
   ]
  },
  {
   "cell_type": "markdown",
   "id": "5928f6dd-1006-45e3-99f3-8f311a875faa",
   "metadata": {},
   "source": [
    "## Advanced Network Usage\n",
    "\n",
    "We can now use the Network to perform some more advaced things."
   ]
  },
  {
   "cell_type": "markdown",
   "id": "5e023ef3-7d18-4006-96ee-042a06a481fc",
   "metadata": {},
   "source": [
    "Let's attempt to prevent client_2 from being able to ping the web server. First, we'll confirm that it can ping the server first..."
   ]
  },
  {
   "cell_type": "code",
   "execution_count": null,
   "id": "603cf913-e261-49da-a7dd-85e1bb6dec56",
   "metadata": {
    "tags": []
   },
   "outputs": [],
   "source": [
    "network.get_node_by_hostname(\"client_2\").ping(\"192.168.1.12\")"
   ]
  },
  {
   "cell_type": "markdown",
   "id": "5cf962a4-20e6-44ae-9748-7fc5267ae111",
   "metadata": {},
   "source": [
    "If we look at the client_2 sys log we can see that the four ICMP echo requests were sent and four ICMP each replies were received:"
   ]
  },
  {
   "cell_type": "code",
   "execution_count": null,
   "id": "e047de00-3de4-4823-b26a-2c8d64c7a663",
   "metadata": {
    "tags": []
   },
   "outputs": [],
   "source": [
    "network.get_node_by_hostname(\"client_2\").sys_log.show()"
   ]
  },
  {
   "cell_type": "markdown",
   "id": "bdc4741d-6e3e-4aec-a69c-c2e9653bd02c",
   "metadata": {},
   "source": [
    "Now we'll add an ACL to block ICMP from 192.168.10.22"
   ]
  },
  {
   "cell_type": "code",
   "execution_count": null,
   "id": "6db355ae-b99a-441b-a2c4-4ffe78f46bff",
   "metadata": {
    "tags": []
   },
   "outputs": [],
   "source": [
    "from primaite.simulator.network.transmission.network_layer import IPProtocol\n",
    "from primaite.simulator.network.transmission.transport_layer import Port\n",
    "from primaite.simulator.network.hardware.nodes.router import  ACLAction\n",
    "network.get_node_by_hostname(\"router_1\").acl.add_rule(\n",
    "    action=ACLAction.DENY,\n",
    "    protocol=IPProtocol.ICMP,\n",
    "    src_ip=\"192.168.10.22\",\n",
    "    position=1\n",
    ")"
   ]
  },
  {
   "cell_type": "code",
   "execution_count": null,
   "id": "a345e000-8842-4827-af96-adc0fbe390fb",
   "metadata": {
    "tags": []
   },
   "outputs": [],
   "source": [
    "network.get_node_by_hostname(\"router_1\").acl.show()"
   ]
  },
  {
   "cell_type": "markdown",
   "id": "3a5bfd9f-04cb-493e-a86c-cd268563a262",
   "metadata": {},
   "source": [
    "Now we attempt (and fail) to ping the web server"
   ]
  },
  {
   "cell_type": "code",
   "execution_count": null,
   "id": "a4f4ff31-590f-40fb-b13d-efaa8c2720b6",
   "metadata": {
    "tags": []
   },
   "outputs": [],
   "source": [
    "network.get_node_by_hostname(\"client_2\").ping(\"192.168.1.12\")"
   ]
  },
  {
   "cell_type": "markdown",
   "id": "83e56497-097b-45cb-964e-b15c72547b38",
   "metadata": {},
   "source": [
    "We can check that the ping was actually sent by client_2 by viewing the sys log"
   ]
  },
  {
   "cell_type": "code",
   "execution_count": null,
   "id": "f62b8a4e-fd3b-4059-b108-3d4a0b18f2a0",
   "metadata": {
    "tags": []
   },
   "outputs": [],
   "source": [
    "network.get_node_by_hostname(\"client_2\").sys_log.show()"
   ]
  },
  {
   "cell_type": "markdown",
   "id": "c7040311-a879-4620-86a0-55d0774156e5",
   "metadata": {},
   "source": [
    "We can check the router sys log to see why the traffic was blocked"
   ]
  },
  {
   "cell_type": "code",
   "execution_count": null,
   "id": "7e53d776-99da-4d2c-a2a7-bd7ce27bff4c",
   "metadata": {
    "tags": []
   },
   "outputs": [],
   "source": [
    "network.get_node_by_hostname(\"router_1\").sys_log.show()"
   ]
  },
  {
   "cell_type": "markdown",
   "id": "aba0bc7d-da57-477b-b34a-3688b5aab2c6",
   "metadata": {},
   "source": [
    "Now a final check to ensure that client_1 can still ping the web_server."
   ]
  },
  {
   "cell_type": "code",
   "execution_count": null,
   "id": "d542734b-7582-4af7-8254-bda3de50d091",
   "metadata": {
    "tags": []
   },
   "outputs": [],
   "source": [
    "network.get_node_by_hostname(\"client_1\").ping(\"192.168.1.12\")"
   ]
  },
  {
   "cell_type": "code",
   "execution_count": null,
   "id": "d78e9fe3-02c6-4792-944f-5622e26e0412",
   "metadata": {
    "tags": []
   },
   "outputs": [],
   "source": [
    "network.get_node_by_hostname(\"client_1\").sys_log.show()"
   ]
  }
 ],
 "metadata": {
  "kernelspec": {
   "display_name": "Python 3 (ipykernel)",
   "language": "python",
   "name": "python3"
  },
  "language_info": {
   "codemirror_mode": {
    "name": "ipython",
    "version": 3
   },
   "file_extension": ".py",
   "mimetype": "text/x-python",
   "name": "python",
   "nbconvert_exporter": "python",
   "pygments_lexer": "ipython3",
   "version": "3.10.11"
  }
 },
 "nbformat": 4,
 "nbformat_minor": 5
}
