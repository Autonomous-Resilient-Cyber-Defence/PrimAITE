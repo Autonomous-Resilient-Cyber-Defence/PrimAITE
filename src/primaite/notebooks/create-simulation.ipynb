{
 "cells": [
  {
   "cell_type": "markdown",
   "metadata": {},
   "source": [
    "# Build a simulation using the Python API\n"
   ]
  },
  {
   "cell_type": "markdown",
   "metadata": {},
   "source": [
    "Import the Simulation class"
   ]
  },
  {
   "cell_type": "code",
   "execution_count": 1,
   "metadata": {},
   "outputs": [],
   "source": [
    "from primaite.simulator.sim_container import Simulation\n"
   ]
  },
  {
   "cell_type": "markdown",
   "metadata": {},
   "source": [
    "Create an empty simulation. By default this has a network with no nodes or links, and a domain controller with no accounts.\n",
    "\n",
    "Let's use the simulation's `describe_state()` method to verify that it is empty."
   ]
  },
  {
   "cell_type": "code",
   "execution_count": 2,
   "metadata": {},
   "outputs": [
    {
     "data": {
      "text/plain": [
       "{'uuid': 'f0c06262-1bd9-49ee-81f8-793fb4a5e58e',\n",
       " 'network': {'uuid': '455d6a1a-ca23-4135-b326-3ebf75022a45',\n",
       "  'nodes': {},\n",
       "  'links': {}},\n",
       " 'domain': {'uuid': '9da912d5-4c07-4df6-94c2-b3630e178912', 'accounts': {}}}"
      ]
     },
     "execution_count": 2,
     "metadata": {},
     "output_type": "execute_result"
    }
   ],
   "source": [
    "my_sim = Simulation()\n",
    "my_sim.describe_state()"
   ]
  },
  {
   "cell_type": "markdown",
   "metadata": {},
   "source": [
    "## Add nodes"
   ]
  },
  {
   "cell_type": "code",
   "execution_count": 3,
   "metadata": {},
   "outputs": [],
   "source": [
    "from primaite.simulator.network.hardware.base import Node\n"
   ]
  },
  {
   "cell_type": "code",
   "execution_count": 4,
   "metadata": {},
   "outputs": [
    {
     "data": {
      "text/plain": [
       "{'uuid': 'f0c06262-1bd9-49ee-81f8-793fb4a5e58e',\n",
       " 'network': {'uuid': '455d6a1a-ca23-4135-b326-3ebf75022a45',\n",
       "  'nodes': {'c7c91f06-f128-4891-84a2-83beceea3908': {'uuid': 'c7c91f06-f128-4891-84a2-83beceea3908',\n",
       "    'hostname': 'primaite_pc',\n",
       "    'operating_state': 0,\n",
       "    'NICs': {},\n",
       "    'file_system': {'uuid': '04ffd1e8-dea7-47ad-a088-4856df055ed1',\n",
       "     'folders': {}},\n",
       "    'applications': {},\n",
       "    'services': {},\n",
       "    'process': {}},\n",
       "   'dfcc395a-93ff-4dd5-9684-c80c5885d827': {'uuid': 'dfcc395a-93ff-4dd5-9684-c80c5885d827',\n",
       "    'hostname': 'google_server',\n",
       "    'operating_state': 0,\n",
       "    'NICs': {},\n",
       "    'file_system': {'uuid': 'aea8f406-05de-4a02-b65f-972aa1fed70e',\n",
       "     'folders': {}},\n",
       "    'applications': {},\n",
       "    'services': {},\n",
       "    'process': {}}},\n",
       "  'links': {}},\n",
       " 'domain': {'uuid': '9da912d5-4c07-4df6-94c2-b3630e178912', 'accounts': {}}}"
      ]
     },
     "execution_count": 4,
     "metadata": {},
     "output_type": "execute_result"
    }
   ],
   "source": [
    "my_pc = Node(hostname=\"primaite_pc\",)\n",
    "my_server = Node(hostname=\"google_server\")\n",
    "\n",
    "# TODO: when there is a proper function for adding nodes, use it instead of manually adding.\n",
    "\n",
    "my_sim.network.nodes[my_pc.uuid] = my_pc\n",
    "my_sim.network.nodes[my_server.uuid] = my_server\n",
    "\n",
    "my_sim.describe_state()"
   ]
  },
  {
   "cell_type": "markdown",
   "metadata": {},
   "source": [
    "## Connect the nodes"
   ]
  },
  {
   "cell_type": "code",
   "execution_count": 5,
   "metadata": {},
   "outputs": [],
   "source": [
    "from primaite.simulator.network.hardware.base import NIC, Link, Switch\n"
   ]
  },
  {
   "cell_type": "code",
   "execution_count": 6,
   "metadata": {},
   "outputs": [
    {
     "name": "stderr",
     "output_type": "stream",
     "text": [
      "2023-08-20 18:34:59,328: NIC c3:08:90:23:29:cb/130.1.1.1 connected to Link c3:08:90:23:29:cb/130.1.1.1<-->40:4a:3f:2e:ee:2e\n",
      "2023-08-20 18:34:59,329: SwitchPort 40:4a:3f:2e:ee:2e connected to Link c3:08:90:23:29:cb/130.1.1.1<-->40:4a:3f:2e:ee:2e\n",
      "2023-08-20 18:34:59,331: NIC 69:50:cb:76:22:10/130.1.1.2 connected to Link 69:50:cb:76:22:10/130.1.1.2<-->18:5e:49:ed:21:55\n",
      "2023-08-20 18:34:59,331: SwitchPort 18:5e:49:ed:21:55 connected to Link 69:50:cb:76:22:10/130.1.1.2<-->18:5e:49:ed:21:55\n"
     ]
    }
   ],
   "source": [
    "my_swtich = Switch(hostname=\"switch1\", num_ports=12)\n",
    "\n",
    "pc_nic = NIC(ip_address=\"130.1.1.1\", gateway=\"130.1.1.255\", subnet_mask=\"255.255.255.0\")\n",
    "my_pc.connect_nic(pc_nic)\n",
    "\n",
    "\n",
    "server_nic = NIC(ip_address=\"130.1.1.2\", gateway=\"130.1.1.255\", subnet_mask=\"255.255.255.0\")\n",
    "my_server.connect_nic(server_nic)\n",
    "\n",
    "\n",
    "pc_to_switch = Link(endpoint_a=pc_nic, endpoint_b=my_swtich.switch_ports[1])\n",
    "server_to_swtich = Link(endpoint_a=server_nic, endpoint_b=my_swtich.switch_ports[2])\n",
    "\n",
    "my_sim.network.links[pc_to_switch.uuid] = pc_to_switch\n",
    "my_sim.network.links[server_to_swtich.uuid] = server_to_swtich"
   ]
  },
  {
   "cell_type": "code",
   "execution_count": 7,
   "metadata": {},
   "outputs": [
    {
     "data": {
      "text/plain": [
       "{'uuid': 'f0c06262-1bd9-49ee-81f8-793fb4a5e58e',\n",
       " 'network': {'uuid': '455d6a1a-ca23-4135-b326-3ebf75022a45',\n",
       "  'nodes': {'c7c91f06-f128-4891-84a2-83beceea3908': {'uuid': 'c7c91f06-f128-4891-84a2-83beceea3908',\n",
       "    'hostname': 'primaite_pc',\n",
       "    'operating_state': 0,\n",
       "    'NICs': {'f181ea2b-59b6-4724-acf1-a8a7d4e2a1b2': {'uuid': 'f181ea2b-59b6-4724-acf1-a8a7d4e2a1b2',\n",
       "      'ip_adress': '130.1.1.1',\n",
       "      'subnet_mask': '255.255.255.0',\n",
       "      'gateway': '130.1.1.255',\n",
       "      'mac_address': 'c3:08:90:23:29:cb',\n",
       "      'speed': 100,\n",
       "      'mtu': 1500,\n",
       "      'wake_on_lan': False,\n",
       "      'dns_servers': [],\n",
       "      'enabled': False}},\n",
       "    'file_system': {'uuid': '04ffd1e8-dea7-47ad-a088-4856df055ed1',\n",
       "     'folders': {}},\n",
       "    'applications': {},\n",
       "    'services': {},\n",
       "    'process': {}},\n",
       "   'dfcc395a-93ff-4dd5-9684-c80c5885d827': {'uuid': 'dfcc395a-93ff-4dd5-9684-c80c5885d827',\n",
       "    'hostname': 'google_server',\n",
       "    'operating_state': 0,\n",
       "    'NICs': {'1fd281a0-83ae-49d9-9b40-6aae7b465cab': {'uuid': '1fd281a0-83ae-49d9-9b40-6aae7b465cab',\n",
       "      'ip_adress': '130.1.1.2',\n",
       "      'subnet_mask': '255.255.255.0',\n",
       "      'gateway': '130.1.1.255',\n",
       "      'mac_address': '69:50:cb:76:22:10',\n",
       "      'speed': 100,\n",
       "      'mtu': 1500,\n",
       "      'wake_on_lan': False,\n",
       "      'dns_servers': [],\n",
       "      'enabled': False}},\n",
       "    'file_system': {'uuid': 'aea8f406-05de-4a02-b65f-972aa1fed70e',\n",
       "     'folders': {}},\n",
       "    'applications': {},\n",
       "    'services': {},\n",
       "    'process': {}}},\n",
       "  'links': {'cfbf3c88-c2ac-40f2-9466-a92b99f7cfc9': {'uuid': 'cfbf3c88-c2ac-40f2-9466-a92b99f7cfc9',\n",
       "    'endpoint_a': 'f181ea2b-59b6-4724-acf1-a8a7d4e2a1b2',\n",
       "    'endpoint_b': '4e6abc87-b4b9-4f95-a9a9-59cac130c6ff',\n",
       "    'bandwidth': 100.0,\n",
       "    'current_load': 0.0},\n",
       "   '2dab7fc3-470d-44d2-8593-feb8e96d71ae': {'uuid': '2dab7fc3-470d-44d2-8593-feb8e96d71ae',\n",
       "    'endpoint_a': '1fd281a0-83ae-49d9-9b40-6aae7b465cab',\n",
       "    'endpoint_b': 'e136553f-333e-4abf-b1f3-ce352ffa4630',\n",
       "    'bandwidth': 100.0,\n",
       "    'current_load': 0.0}}},\n",
       " 'domain': {'uuid': '9da912d5-4c07-4df6-94c2-b3630e178912', 'accounts': {}}}"
      ]
     },
     "execution_count": 7,
     "metadata": {},
     "output_type": "execute_result"
    }
   ],
   "source": [
    "my_sim.describe_state()"
   ]
  },
  {
   "cell_type": "markdown",
   "metadata": {},
   "source": [
    "## Add files and folders to nodes\n"
   ]
  },
  {
   "cell_type": "code",
   "execution_count": 8,
   "metadata": {},
   "outputs": [],
   "source": [
    "from primaite.simulator.file_system.file_system_file_type import FileSystemFileType\n",
    "from primaite.simulator.file_system.file_system_file import FileSystemFile"
   ]
  },
  {
   "cell_type": "code",
   "execution_count": 9,
   "metadata": {},
   "outputs": [],
   "source": [
    "my_pc_downloads_folder = my_pc.file_system.create_folder(\"downloads\")\n",
    "my_pc_downloads_folder.add_file(FileSystemFile(name=\"firefox_installer.zip\",file_type=FileSystemFileType.ZIP))"
   ]
  },
  {
   "cell_type": "code",
   "execution_count": 10,
   "metadata": {},
   "outputs": [
    {
     "data": {
      "text/plain": [
       "FileSystemFile(uuid='3ecf7223-dafd-4973-8c3b-b85af4e177da', name='favicon.ico', size=40.0, file_type=<FileSystemFileType.PNG: '11'>, action_manager=None)"
      ]
     },
     "execution_count": 10,
     "metadata": {},
     "output_type": "execute_result"
    }
   ],
   "source": [
    "my_server_folder = my_server.file_system.create_folder(\"static\")\n",
    "my_server.file_system.create_file(\"favicon.ico\", file_type=FileSystemFileType.PNG)"
   ]
  },
  {
   "cell_type": "markdown",
   "metadata": {},
   "source": [
    "## Add applications to nodes"
   ]
  },
  {
   "cell_type": "code",
   "execution_count": 11,
   "metadata": {},
   "outputs": [],
   "source": [
    "from primaite.simulator.system.applications.application import Application, ApplicationOperatingState\n",
    "from primaite.simulator.system.software import SoftwareHealthState, SoftwareCriticality\n",
    "from primaite.simulator.network.transmission.transport_layer import Port\n",
    "\n",
    "class MSPaint(Application):\n",
    "    def describe_state(self):\n",
    "        return super().describe_state()"
   ]
  },
  {
   "cell_type": "code",
   "execution_count": 12,
   "metadata": {},
   "outputs": [],
   "source": [
    "mspaint = MSPaint(name = \"mspaint\", health_state_actual=SoftwareHealthState.GOOD, health_state_visible=SoftwareHealthState.GOOD, criticality=SoftwareCriticality.MEDIUM, ports={Port.HTTP}, operating_state=ApplicationOperatingState.RUNNING,execution_control_status='manual')"
   ]
  },
  {
   "cell_type": "code",
   "execution_count": 13,
   "metadata": {},
   "outputs": [],
   "source": [
    "my_pc.applications[mspaint.uuid] = mspaint"
   ]
  },
  {
   "cell_type": "markdown",
   "metadata": {},
   "source": [
    "## Create a domain account"
   ]
  },
  {
   "cell_type": "code",
   "execution_count": 14,
   "metadata": {},
   "outputs": [],
   "source": [
    "from primaite.simulator.domain.account import Account, AccountType\n"
   ]
  },
  {
   "cell_type": "code",
   "execution_count": 15,
   "metadata": {},
   "outputs": [],
   "source": [
    "acct = Account(username=\"admin\", password=\"admin12\", account_type=AccountType.USER)\n",
    "my_sim.domain.accounts[acct.uuid] = acct"
   ]
  },
  {
   "cell_type": "code",
   "execution_count": 16,
   "metadata": {},
   "outputs": [
    {
     "data": {
      "text/plain": [
       "{'uuid': 'f0c06262-1bd9-49ee-81f8-793fb4a5e58e',\n",
       " 'network': {'uuid': '455d6a1a-ca23-4135-b326-3ebf75022a45',\n",
       "  'nodes': {'c7c91f06-f128-4891-84a2-83beceea3908': {'uuid': 'c7c91f06-f128-4891-84a2-83beceea3908',\n",
       "    'hostname': 'primaite_pc',\n",
       "    'operating_state': 0,\n",
       "    'NICs': {'f181ea2b-59b6-4724-acf1-a8a7d4e2a1b2': {'uuid': 'f181ea2b-59b6-4724-acf1-a8a7d4e2a1b2',\n",
       "      'ip_adress': '130.1.1.1',\n",
       "      'subnet_mask': '255.255.255.0',\n",
       "      'gateway': '130.1.1.255',\n",
       "      'mac_address': 'c3:08:90:23:29:cb',\n",
       "      'speed': 100,\n",
       "      'mtu': 1500,\n",
       "      'wake_on_lan': False,\n",
       "      'dns_servers': [],\n",
       "      'enabled': False}},\n",
       "    'file_system': {'uuid': '04ffd1e8-dea7-47ad-a088-4856df055ed1',\n",
       "     'folders': {'f1fdf2ae-6377-4417-a28a-3edb4058712d': {'uuid': 'f1fdf2ae-6377-4417-a28a-3edb4058712d',\n",
       "       'name': 'downloads',\n",
       "       'size': 1000.0,\n",
       "       'files': {'409b09a3-0d98-4c03-adf2-09190539be45': {'uuid': '409b09a3-0d98-4c03-adf2-09190539be45',\n",
       "         'name': 'firefox_installer.zip',\n",
       "         'size': 1000.0,\n",
       "         'file_type': 'ZIP'}},\n",
       "       'is_quarantined': False}}},\n",
       "    'applications': {'cddee888-d1b9-4289-8512-bc0a6672c880': {'uuid': 'cddee888-d1b9-4289-8512-bc0a6672c880',\n",
       "      'health_state': 'GOOD',\n",
       "      'health_state_red_view': 'GOOD',\n",
       "      'criticality': 'MEDIUM',\n",
       "      'patching_count': 0,\n",
       "      'scanning_count': 0,\n",
       "      'revealed_to_red': False,\n",
       "      'installing_count': 0,\n",
       "      'max_sessions': 1,\n",
       "      'tcp': True,\n",
       "      'udp': True,\n",
       "      'ports': ['HTTP'],\n",
       "      'opearting_state': 'RUNNING',\n",
       "      'execution_control_status': 'manual',\n",
       "      'num_executions': 0,\n",
       "      'groups': []}},\n",
       "    'services': {},\n",
       "    'process': {}},\n",
       "   'dfcc395a-93ff-4dd5-9684-c80c5885d827': {'uuid': 'dfcc395a-93ff-4dd5-9684-c80c5885d827',\n",
       "    'hostname': 'google_server',\n",
       "    'operating_state': 0,\n",
       "    'NICs': {'1fd281a0-83ae-49d9-9b40-6aae7b465cab': {'uuid': '1fd281a0-83ae-49d9-9b40-6aae7b465cab',\n",
       "      'ip_adress': '130.1.1.2',\n",
       "      'subnet_mask': '255.255.255.0',\n",
       "      'gateway': '130.1.1.255',\n",
       "      'mac_address': '69:50:cb:76:22:10',\n",
       "      'speed': 100,\n",
       "      'mtu': 1500,\n",
       "      'wake_on_lan': False,\n",
       "      'dns_servers': [],\n",
       "      'enabled': False}},\n",
       "    'file_system': {'uuid': 'aea8f406-05de-4a02-b65f-972aa1fed70e',\n",
       "     'folders': {'beb5b535-cf6c-431d-94f6-d1097910130d': {'uuid': 'beb5b535-cf6c-431d-94f6-d1097910130d',\n",
       "       'name': 'static',\n",
       "       'size': 0,\n",
       "       'files': {},\n",
       "       'is_quarantined': False},\n",
       "      '6644cd6c-1eca-4fe4-9313-e3481abb895e': {'uuid': '6644cd6c-1eca-4fe4-9313-e3481abb895e',\n",
       "       'name': 'root',\n",
       "       'size': 40.0,\n",
       "       'files': {'3ecf7223-dafd-4973-8c3b-b85af4e177da': {'uuid': '3ecf7223-dafd-4973-8c3b-b85af4e177da',\n",
       "         'name': 'favicon.ico',\n",
       "         'size': 40.0,\n",
       "         'file_type': 'PNG'}},\n",
       "       'is_quarantined': False}}},\n",
       "    'applications': {},\n",
       "    'services': {},\n",
       "    'process': {}}},\n",
       "  'links': {'cfbf3c88-c2ac-40f2-9466-a92b99f7cfc9': {'uuid': 'cfbf3c88-c2ac-40f2-9466-a92b99f7cfc9',\n",
       "    'endpoint_a': 'f181ea2b-59b6-4724-acf1-a8a7d4e2a1b2',\n",
       "    'endpoint_b': '4e6abc87-b4b9-4f95-a9a9-59cac130c6ff',\n",
       "    'bandwidth': 100.0,\n",
       "    'current_load': 0.0},\n",
       "   '2dab7fc3-470d-44d2-8593-feb8e96d71ae': {'uuid': '2dab7fc3-470d-44d2-8593-feb8e96d71ae',\n",
       "    'endpoint_a': '1fd281a0-83ae-49d9-9b40-6aae7b465cab',\n",
       "    'endpoint_b': 'e136553f-333e-4abf-b1f3-ce352ffa4630',\n",
       "    'bandwidth': 100.0,\n",
       "    'current_load': 0.0}}},\n",
       " 'domain': {'uuid': '9da912d5-4c07-4df6-94c2-b3630e178912',\n",
       "  'accounts': {'563a1805-0b32-4ba6-9551-e127e5eb57a8': {'uuid': '563a1805-0b32-4ba6-9551-e127e5eb57a8',\n",
       "    'num_logons': 0,\n",
       "    'num_logoffs': 0,\n",
       "    'num_group_changes': 0,\n",
       "    'username': 'admin',\n",
       "    'password': 'admin12',\n",
       "    'account_type': 'USER',\n",
       "    'enabled': True}}}}"
      ]
     },
     "execution_count": 16,
     "metadata": {},
     "output_type": "execute_result"
    }
   ],
   "source": [
    "my_sim.describe_state()"
   ]
  },
  {
   "cell_type": "markdown",
   "metadata": {},
   "source": [
    "Verify that the state dictionary contains no non-serialisable objects."
   ]
  },
  {
   "cell_type": "code",
   "execution_count": 17,
   "metadata": {},
   "outputs": [],
   "source": [
    "import json"
   ]
  },
  {
   "cell_type": "code",
   "execution_count": 22,
   "metadata": {},
   "outputs": [
    {
     "data": {
      "text/plain": [
       "'{\"uuid\": \"f0c06262-1bd9-49ee-81f8-793fb4a5e58e\", \"network\": {\"uuid\": \"455d6a1a-ca23-4135-b326-3ebf75022a45\", \"nodes\": {\"c7c91f06-f128-4891-84a2-83beceea3908\": {\"uuid\": \"c7c91f06-f128-4891-84a2-83beceea3908\", \"hostname\": \"primaite_pc\", \"operating_state\": 0, \"NICs\": {\"f181ea2b-59b6-4724-acf1-a8a7d4e2a1b2\": {\"uuid\": \"f181ea2b-59b6-4724-acf1-a8a7d4e2a1b2\", \"ip_adress\": \"130.1.1.1\", \"subnet_mask\": \"255.255.255.0\", \"gateway\": \"130.1.1.255\", \"mac_address\": \"c3:08:90:23:29:cb\", \"speed\": 100, \"mtu\": 1500, \"wake_on_lan\": false, \"dns_servers\": [], \"enabled\": false}}, \"file_system\": {\"uuid\": \"04ffd1e8-dea7-47ad-a088-4856df055ed1\", \"folders\": {\"f1fdf2ae-6377-4417-a28a-3edb4058712d\": {\"uuid\": \"f1fdf2ae-6377-4417-a28a-3edb4058712d\", \"name\": \"downloads\", \"size\": 1000.0, \"files\": {\"409b09a3-0d98-4c03-adf2-09190539be45\": {\"uuid\": \"409b09a3-0d98-4c03-adf2-09190539be45\", \"name\": \"firefox_installer.zip\", \"size\": 1000.0, \"file_type\": \"ZIP\"}}, \"is_quarantined\": false}}}, \"applications\": {\"cddee888-d1b9-4289-8512-bc0a6672c880\": {\"uuid\": \"cddee888-d1b9-4289-8512-bc0a6672c880\", \"health_state\": \"GOOD\", \"health_state_red_view\": \"GOOD\", \"criticality\": \"MEDIUM\", \"patching_count\": 0, \"scanning_count\": 0, \"revealed_to_red\": false, \"installing_count\": 0, \"max_sessions\": 1, \"tcp\": true, \"udp\": true, \"ports\": [\"HTTP\"], \"opearting_state\": \"RUNNING\", \"execution_control_status\": \"manual\", \"num_executions\": 0, \"groups\": []}}, \"services\": {}, \"process\": {}}, \"dfcc395a-93ff-4dd5-9684-c80c5885d827\": {\"uuid\": \"dfcc395a-93ff-4dd5-9684-c80c5885d827\", \"hostname\": \"google_server\", \"operating_state\": 0, \"NICs\": {\"1fd281a0-83ae-49d9-9b40-6aae7b465cab\": {\"uuid\": \"1fd281a0-83ae-49d9-9b40-6aae7b465cab\", \"ip_adress\": \"130.1.1.2\", \"subnet_mask\": \"255.255.255.0\", \"gateway\": \"130.1.1.255\", \"mac_address\": \"69:50:cb:76:22:10\", \"speed\": 100, \"mtu\": 1500, \"wake_on_lan\": false, \"dns_servers\": [], \"enabled\": false}}, \"file_system\": {\"uuid\": \"aea8f406-05de-4a02-b65f-972aa1fed70e\", \"folders\": {\"beb5b535-cf6c-431d-94f6-d1097910130d\": {\"uuid\": \"beb5b535-cf6c-431d-94f6-d1097910130d\", \"name\": \"static\", \"size\": 0, \"files\": {}, \"is_quarantined\": false}, \"6644cd6c-1eca-4fe4-9313-e3481abb895e\": {\"uuid\": \"6644cd6c-1eca-4fe4-9313-e3481abb895e\", \"name\": \"root\", \"size\": 40.0, \"files\": {\"3ecf7223-dafd-4973-8c3b-b85af4e177da\": {\"uuid\": \"3ecf7223-dafd-4973-8c3b-b85af4e177da\", \"name\": \"favicon.ico\", \"size\": 40.0, \"file_type\": \"PNG\"}}, \"is_quarantined\": false}}}, \"applications\": {}, \"services\": {}, \"process\": {}}}, \"links\": {\"cfbf3c88-c2ac-40f2-9466-a92b99f7cfc9\": {\"uuid\": \"cfbf3c88-c2ac-40f2-9466-a92b99f7cfc9\", \"endpoint_a\": \"f181ea2b-59b6-4724-acf1-a8a7d4e2a1b2\", \"endpoint_b\": \"4e6abc87-b4b9-4f95-a9a9-59cac130c6ff\", \"bandwidth\": 100.0, \"current_load\": 0.0}, \"2dab7fc3-470d-44d2-8593-feb8e96d71ae\": {\"uuid\": \"2dab7fc3-470d-44d2-8593-feb8e96d71ae\", \"endpoint_a\": \"1fd281a0-83ae-49d9-9b40-6aae7b465cab\", \"endpoint_b\": \"e136553f-333e-4abf-b1f3-ce352ffa4630\", \"bandwidth\": 100.0, \"current_load\": 0.0}}}, \"domain\": {\"uuid\": \"9da912d5-4c07-4df6-94c2-b3630e178912\", \"accounts\": {\"563a1805-0b32-4ba6-9551-e127e5eb57a8\": {\"uuid\": \"563a1805-0b32-4ba6-9551-e127e5eb57a8\", \"num_logons\": 0, \"num_logoffs\": 0, \"num_group_changes\": 0, \"username\": \"admin\", \"password\": \"admin12\", \"account_type\": \"USER\", \"enabled\": true}}}}'"
      ]
     },
     "execution_count": 22,
     "metadata": {},
     "output_type": "execute_result"
    }
   ],
   "source": [
    "d = my_sim.describe_state()\n",
    "json.dumps(d)"
   ]
  }
 ],
 "metadata": {
  "kernelspec": {
   "display_name": "venv",
   "language": "python",
   "name": "python3"
  },
  "language_info": {
   "codemirror_mode": {
    "name": "ipython",
    "version": 3
   },
   "file_extension": ".py",
   "mimetype": "text/x-python",
   "name": "python",
   "nbconvert_exporter": "python",
   "pygments_lexer": "ipython3",
   "version": "3.10.12"
  },
  "orig_nbformat": 4
 },
 "nbformat": 4,
 "nbformat_minor": 2
}
