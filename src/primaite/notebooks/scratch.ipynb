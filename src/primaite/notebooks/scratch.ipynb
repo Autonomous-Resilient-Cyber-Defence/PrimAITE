{
 "cells": [
  {
   "cell_type": "code",
   "execution_count": 1,
   "metadata": {},
   "outputs": [],
   "source": [
    "from primaite.simulator.network.networks import arcd_uc2_network\n",
    "%load_ext autoreload\n",
    "%autoreload 2"
   ]
  },
  {
   "cell_type": "code",
   "execution_count": 2,
   "metadata": {},
   "outputs": [
    {
     "name": "stderr",
     "output_type": "stream",
     "text": [
      "2023-09-19 12:47:23,225: Added node d3242ce1-43b7-40b7-86f3-f0473f1bbaec to Network 49f27f36-ea3d-4b3c-8e21-87c8ed489fff\n",
      "2023-09-19 12:47:23,227: Added node 67a2f88b-448c-416d-9fbd-02629347aabd to Network 49f27f36-ea3d-4b3c-8e21-87c8ed489fff\n",
      "2023-09-19 12:47:23,232: Added node 8d69c19e-69ad-41bd-9525-bdefb680a9e2 to Network 49f27f36-ea3d-4b3c-8e21-87c8ed489fff\n",
      "2023-09-19 12:47:23,237: Added node c29ebde3-9748-4a97-b8a0-1673cbd53b62 to Network 49f27f36-ea3d-4b3c-8e21-87c8ed489fff\n",
      "2023-09-19 12:47:23,248: Added node f734ac26-40b3-4380-ad37-f8782202a628 to Network 49f27f36-ea3d-4b3c-8e21-87c8ed489fff\n",
      "2023-09-19 12:47:23,256: Added node 23785fbc-7d27-4697-bd06-937fcbb63e87 to Network 49f27f36-ea3d-4b3c-8e21-87c8ed489fff\n",
      "2023-09-19 12:47:23,262: Added node 1ceaff86-bccd-4a06-81e0-0c616c803eab to Network 49f27f36-ea3d-4b3c-8e21-87c8ed489fff\n",
      "2023-09-19 12:47:23,356: Added node 854b2562-1dc2-4dd4-9e50-8f079ba2971c to Network 49f27f36-ea3d-4b3c-8e21-87c8ed489fff\n",
      "2023-09-19 12:47:23,371: Added node 211e8c06-b3f9-48f1-9627-62a7e81e34d3 to Network 49f27f36-ea3d-4b3c-8e21-87c8ed489fff\n",
      "2023-09-19 12:47:23,376: Added node b2aea8d0-a7fe-4d81-a63d-c40851ab1d9c to Network 49f27f36-ea3d-4b3c-8e21-87c8ed489fff\n",
      "2023-09-19 12:47:23,380::ERROR::primaite.simulator.network.hardware.base::175::NIC 84:42:75:c8:10:28/192.168.10.110 cannot be enabled as it is not connected to a Link\n"
     ]
    }
   ],
   "source": [
    "net = arcd_uc2_network()"
   ]
  },
  {
   "cell_type": "markdown",
   "metadata": {},
   "source": [
    "### set up some services to test if actions are working"
   ]
  },
  {
   "cell_type": "code",
   "execution_count": 3,
   "metadata": {},
   "outputs": [],
   "source": [
    "db_serv = net.get_node_by_hostname('database_server')"
   ]
  },
  {
   "cell_type": "code",
   "execution_count": 4,
   "metadata": {},
   "outputs": [],
   "source": [
    "from primaite.simulator.system.services.database_service import DatabaseService"
   ]
  },
  {
   "cell_type": "code",
   "execution_count": 5,
   "metadata": {},
   "outputs": [],
   "source": [
    "db_svc = DatabaseService(file_system=db_serv.file_system)"
   ]
  },
  {
   "cell_type": "code",
   "execution_count": 6,
   "metadata": {},
   "outputs": [
    {
     "name": "stderr",
     "output_type": "stream",
     "text": [
      "2023-09-19 12:47:26,764: Added service 6a8c0179-3ea6-48c1-bc97-259bb5853118 to node 1ceaff86-bccd-4a06-81e0-0c616c803eab\n"
     ]
    }
   ],
   "source": [
    "db_serv.install_service(db_svc)"
   ]
  },
  {
   "cell_type": "code",
   "execution_count": 7,
   "metadata": {},
   "outputs": [
    {
     "data": {
      "text/plain": [
       "{'uuid': '1ceaff86-bccd-4a06-81e0-0c616c803eab',\n",
       " 'hostname': 'database_server',\n",
       " 'operating_state': 1,\n",
       " 'NICs': {'4b53abce-74ca-4015-868e-3c7dc2f29117': {'uuid': '4b53abce-74ca-4015-868e-3c7dc2f29117',\n",
       "   'ip_adress': '192.168.1.14',\n",
       "   'subnet_mask': '255.255.255.0',\n",
       "   'mac_address': '7b:9e:4e:29:2b:ca',\n",
       "   'speed': 100,\n",
       "   'mtu': 1500,\n",
       "   'wake_on_lan': False,\n",
       "   'enabled': True}},\n",
       " 'file_system': {'uuid': '0b831f3b-a3df-40cc-ab5b-21a3f22f4b68',\n",
       "  'folders': {'root': {'uuid': 'a388f22b-0a4d-465d-b5f6-e98ff9564483',\n",
       "    'name': 'root',\n",
       "    'files': {},\n",
       "    'is_quarantined': False},\n",
       "   'database': {'uuid': 'c13d8734-9e01-42f6-84d7-4ea36424663d',\n",
       "    'name': 'database',\n",
       "    'files': {'database.db': {'uuid': '213ed482-6028-44ff-a6ab-45e5800ac1a1',\n",
       "      'name': 'database.db',\n",
       "      'size': 12288,\n",
       "      'file_type': 'DB'}},\n",
       "    'is_quarantined': False}}},\n",
       " 'applications': {},\n",
       " 'services': {'6a8c0179-3ea6-48c1-bc97-259bb5853118': {'uuid': '6a8c0179-3ea6-48c1-bc97-259bb5853118',\n",
       "   'health_state': 'GOOD',\n",
       "   'health_state_red_view': 'GOOD',\n",
       "   'criticality': 'LOWEST',\n",
       "   'patching_count': 0,\n",
       "   'scanning_count': 0,\n",
       "   'revealed_to_red': False,\n",
       "   'installing_count': 0,\n",
       "   'max_sessions': 1,\n",
       "   'tcp': True,\n",
       "   'udp': True,\n",
       "   'port': 5432,\n",
       "   'operating_state': 'STOPPED'}},\n",
       " 'process': {}}"
      ]
     },
     "execution_count": 7,
     "metadata": {},
     "output_type": "execute_result"
    }
   ],
   "source": [
    "db_serv.describe_state()"
   ]
  },
  {
   "cell_type": "code",
   "execution_count": 8,
   "metadata": {},
   "outputs": [],
   "source": [
    "act_tree = net._action_manager.get_action_tree()"
   ]
  },
  {
   "cell_type": "code",
   "execution_count": 9,
   "metadata": {},
   "outputs": [
    {
     "data": {
      "text/plain": [
       "175"
      ]
     },
     "execution_count": 9,
     "metadata": {},
     "output_type": "execute_result"
    }
   ],
   "source": [
    "len(act_tree)"
   ]
  },
  {
   "cell_type": "code",
   "execution_count": 10,
   "metadata": {},
   "outputs": [
    {
     "name": "stdout",
     "output_type": "stream",
     "text": [
      "[['node', 'd3242ce1-43b7-40b7-86f3-f0473f1bbaec', 'nic', 'cbb4c7b4-d218-41e0-a871-64cf087afbbf', 'enable'], ['node', 'd3242ce1-43b7-40b7-86f3-f0473f1bbaec', 'nic', 'cbb4c7b4-d218-41e0-a871-64cf087afbbf', 'disable'], ['node', 'd3242ce1-43b7-40b7-86f3-f0473f1bbaec', 'nic', 'b26668a8-3ac4-4a0f-8c85-f7776d773f4b', 'enable'], ['node', 'd3242ce1-43b7-40b7-86f3-f0473f1bbaec', 'nic', 'b26668a8-3ac4-4a0f-8c85-f7776d773f4b', 'disable'], ['node', 'd3242ce1-43b7-40b7-86f3-f0473f1bbaec', 'nic', '2cb97c78-2819-48be-8ab1-a938c67731e7', 'enable'], ['node', 'd3242ce1-43b7-40b7-86f3-f0473f1bbaec', 'nic', '2cb97c78-2819-48be-8ab1-a938c67731e7', 'disable'], ['node', 'd3242ce1-43b7-40b7-86f3-f0473f1bbaec', 'nic', 'af5fd9d3-de73-4595-a3c5-c79530415a82', 'enable'], ['node', 'd3242ce1-43b7-40b7-86f3-f0473f1bbaec', 'nic', 'af5fd9d3-de73-4595-a3c5-c79530415a82', 'disable'], ['node', 'd3242ce1-43b7-40b7-86f3-f0473f1bbaec', 'nic', '5c9195e7-82f9-4486-9747-162fbcc31f93', 'enable'], ['node', 'd3242ce1-43b7-40b7-86f3-f0473f1bbaec', 'nic', '5c9195e7-82f9-4486-9747-162fbcc31f93', 'disable'], ['node', 'd3242ce1-43b7-40b7-86f3-f0473f1bbaec', 'file_system', 'folder', '1fd6018b-6619-4408-8a38-acff04f6febe', 'scan'], ['node', 'd3242ce1-43b7-40b7-86f3-f0473f1bbaec', 'file_system', 'folder', '1fd6018b-6619-4408-8a38-acff04f6febe', 'checkhash'], ['node', 'd3242ce1-43b7-40b7-86f3-f0473f1bbaec', 'file_system', 'folder', '1fd6018b-6619-4408-8a38-acff04f6febe', 'repair'], ['node', 'd3242ce1-43b7-40b7-86f3-f0473f1bbaec', 'file_system', 'folder', '1fd6018b-6619-4408-8a38-acff04f6febe', 'restore'], ['node', 'd3242ce1-43b7-40b7-86f3-f0473f1bbaec', 'file_system', 'folder', '1fd6018b-6619-4408-8a38-acff04f6febe', 'delete'], ['node', 'd3242ce1-43b7-40b7-86f3-f0473f1bbaec', 'file_system', 'folder', '1fd6018b-6619-4408-8a38-acff04f6febe', 'corrupt'], ['node', 'd3242ce1-43b7-40b7-86f3-f0473f1bbaec', 'scan'], ['node', 'd3242ce1-43b7-40b7-86f3-f0473f1bbaec', 'shutdown'], ['node', 'd3242ce1-43b7-40b7-86f3-f0473f1bbaec', 'startup'], ['node', 'd3242ce1-43b7-40b7-86f3-f0473f1bbaec', 'reset'], ['node', 'd3242ce1-43b7-40b7-86f3-f0473f1bbaec', 'logon'], ['node', 'd3242ce1-43b7-40b7-86f3-f0473f1bbaec', 'logoff'], ['node', 'd3242ce1-43b7-40b7-86f3-f0473f1bbaec', 'acl', 'add_rule'], ['node', 'd3242ce1-43b7-40b7-86f3-f0473f1bbaec', 'acl', 'remove_rule'], ['node', '67a2f88b-448c-416d-9fbd-02629347aabd', 'file_system', 'folder', '92080f30-ee19-4083-ae03-f9305201911d', 'scan'], ['node', '67a2f88b-448c-416d-9fbd-02629347aabd', 'file_system', 'folder', '92080f30-ee19-4083-ae03-f9305201911d', 'checkhash'], ['node', '67a2f88b-448c-416d-9fbd-02629347aabd', 'file_system', 'folder', '92080f30-ee19-4083-ae03-f9305201911d', 'repair'], ['node', '67a2f88b-448c-416d-9fbd-02629347aabd', 'file_system', 'folder', '92080f30-ee19-4083-ae03-f9305201911d', 'restore'], ['node', '67a2f88b-448c-416d-9fbd-02629347aabd', 'file_system', 'folder', '92080f30-ee19-4083-ae03-f9305201911d', 'delete'], ['node', '67a2f88b-448c-416d-9fbd-02629347aabd', 'file_system', 'folder', '92080f30-ee19-4083-ae03-f9305201911d', 'corrupt'], ['node', '67a2f88b-448c-416d-9fbd-02629347aabd', 'scan'], ['node', '67a2f88b-448c-416d-9fbd-02629347aabd', 'shutdown'], ['node', '67a2f88b-448c-416d-9fbd-02629347aabd', 'startup'], ['node', '67a2f88b-448c-416d-9fbd-02629347aabd', 'reset'], ['node', '67a2f88b-448c-416d-9fbd-02629347aabd', 'logon'], ['node', '67a2f88b-448c-416d-9fbd-02629347aabd', 'logoff'], ['node', '8d69c19e-69ad-41bd-9525-bdefb680a9e2', 'file_system', 'folder', '7141f9fd-9727-4159-b489-c0f5bec703fb', 'scan'], ['node', '8d69c19e-69ad-41bd-9525-bdefb680a9e2', 'file_system', 'folder', '7141f9fd-9727-4159-b489-c0f5bec703fb', 'checkhash'], ['node', '8d69c19e-69ad-41bd-9525-bdefb680a9e2', 'file_system', 'folder', '7141f9fd-9727-4159-b489-c0f5bec703fb', 'repair'], ['node', '8d69c19e-69ad-41bd-9525-bdefb680a9e2', 'file_system', 'folder', '7141f9fd-9727-4159-b489-c0f5bec703fb', 'restore'], ['node', '8d69c19e-69ad-41bd-9525-bdefb680a9e2', 'file_system', 'folder', '7141f9fd-9727-4159-b489-c0f5bec703fb', 'delete'], ['node', '8d69c19e-69ad-41bd-9525-bdefb680a9e2', 'file_system', 'folder', '7141f9fd-9727-4159-b489-c0f5bec703fb', 'corrupt'], ['node', '8d69c19e-69ad-41bd-9525-bdefb680a9e2', 'scan'], ['node', '8d69c19e-69ad-41bd-9525-bdefb680a9e2', 'shutdown'], ['node', '8d69c19e-69ad-41bd-9525-bdefb680a9e2', 'startup'], ['node', '8d69c19e-69ad-41bd-9525-bdefb680a9e2', 'reset'], ['node', '8d69c19e-69ad-41bd-9525-bdefb680a9e2', 'logon'], ['node', '8d69c19e-69ad-41bd-9525-bdefb680a9e2', 'logoff'], ['node', 'c29ebde3-9748-4a97-b8a0-1673cbd53b62', 'nic', '77c037a4-5d66-4275-b34a-3690f0df1fb3', 'enable'], ['node', 'c29ebde3-9748-4a97-b8a0-1673cbd53b62', 'nic', '77c037a4-5d66-4275-b34a-3690f0df1fb3', 'disable'], ['node', 'c29ebde3-9748-4a97-b8a0-1673cbd53b62', 'file_system', 'folder', 'ac6ca8f7-c8c5-4fc6-8cb0-70c664c9095f', 'scan'], ['node', 'c29ebde3-9748-4a97-b8a0-1673cbd53b62', 'file_system', 'folder', 'ac6ca8f7-c8c5-4fc6-8cb0-70c664c9095f', 'checkhash'], ['node', 'c29ebde3-9748-4a97-b8a0-1673cbd53b62', 'file_system', 'folder', 'ac6ca8f7-c8c5-4fc6-8cb0-70c664c9095f', 'repair'], ['node', 'c29ebde3-9748-4a97-b8a0-1673cbd53b62', 'file_system', 'folder', 'ac6ca8f7-c8c5-4fc6-8cb0-70c664c9095f', 'restore'], ['node', 'c29ebde3-9748-4a97-b8a0-1673cbd53b62', 'file_system', 'folder', 'ac6ca8f7-c8c5-4fc6-8cb0-70c664c9095f', 'delete'], ['node', 'c29ebde3-9748-4a97-b8a0-1673cbd53b62', 'file_system', 'folder', 'ac6ca8f7-c8c5-4fc6-8cb0-70c664c9095f', 'corrupt'], ['node', 'c29ebde3-9748-4a97-b8a0-1673cbd53b62', 'scan'], ['node', 'c29ebde3-9748-4a97-b8a0-1673cbd53b62', 'shutdown'], ['node', 'c29ebde3-9748-4a97-b8a0-1673cbd53b62', 'startup'], ['node', 'c29ebde3-9748-4a97-b8a0-1673cbd53b62', 'reset'], ['node', 'c29ebde3-9748-4a97-b8a0-1673cbd53b62', 'logon'], ['node', 'c29ebde3-9748-4a97-b8a0-1673cbd53b62', 'logoff'], ['node', 'f734ac26-40b3-4380-ad37-f8782202a628', 'nic', 'b6bb225c-5782-4374-8e9c-f8ae611c6300', 'enable'], ['node', 'f734ac26-40b3-4380-ad37-f8782202a628', 'nic', 'b6bb225c-5782-4374-8e9c-f8ae611c6300', 'disable'], ['node', 'f734ac26-40b3-4380-ad37-f8782202a628', 'file_system', 'folder', '99089070-8984-41d1-b9bf-bcf9da9e859b', 'scan'], ['node', 'f734ac26-40b3-4380-ad37-f8782202a628', 'file_system', 'folder', '99089070-8984-41d1-b9bf-bcf9da9e859b', 'checkhash'], ['node', 'f734ac26-40b3-4380-ad37-f8782202a628', 'file_system', 'folder', '99089070-8984-41d1-b9bf-bcf9da9e859b', 'repair'], ['node', 'f734ac26-40b3-4380-ad37-f8782202a628', 'file_system', 'folder', '99089070-8984-41d1-b9bf-bcf9da9e859b', 'restore'], ['node', 'f734ac26-40b3-4380-ad37-f8782202a628', 'file_system', 'folder', '99089070-8984-41d1-b9bf-bcf9da9e859b', 'delete'], ['node', 'f734ac26-40b3-4380-ad37-f8782202a628', 'file_system', 'folder', '99089070-8984-41d1-b9bf-bcf9da9e859b', 'corrupt'], ['node', 'f734ac26-40b3-4380-ad37-f8782202a628', 'scan'], ['node', 'f734ac26-40b3-4380-ad37-f8782202a628', 'shutdown'], ['node', 'f734ac26-40b3-4380-ad37-f8782202a628', 'startup'], ['node', 'f734ac26-40b3-4380-ad37-f8782202a628', 'reset'], ['node', 'f734ac26-40b3-4380-ad37-f8782202a628', 'logon'], ['node', 'f734ac26-40b3-4380-ad37-f8782202a628', 'logoff'], ['node', '23785fbc-7d27-4697-bd06-937fcbb63e87', 'nic', 'b6b13073-88ff-4153-ac3d-89475aaa8974', 'enable'], ['node', '23785fbc-7d27-4697-bd06-937fcbb63e87', 'nic', 'b6b13073-88ff-4153-ac3d-89475aaa8974', 'disable'], ['node', '23785fbc-7d27-4697-bd06-937fcbb63e87', 'file_system', 'folder', 'bcab8f58-4d62-48db-924a-a5a45fa215cf', 'scan'], ['node', '23785fbc-7d27-4697-bd06-937fcbb63e87', 'file_system', 'folder', 'bcab8f58-4d62-48db-924a-a5a45fa215cf', 'checkhash'], ['node', '23785fbc-7d27-4697-bd06-937fcbb63e87', 'file_system', 'folder', 'bcab8f58-4d62-48db-924a-a5a45fa215cf', 'repair'], ['node', '23785fbc-7d27-4697-bd06-937fcbb63e87', 'file_system', 'folder', 'bcab8f58-4d62-48db-924a-a5a45fa215cf', 'restore'], ['node', '23785fbc-7d27-4697-bd06-937fcbb63e87', 'file_system', 'folder', 'bcab8f58-4d62-48db-924a-a5a45fa215cf', 'delete'], ['node', '23785fbc-7d27-4697-bd06-937fcbb63e87', 'file_system', 'folder', 'bcab8f58-4d62-48db-924a-a5a45fa215cf', 'corrupt'], ['node', '23785fbc-7d27-4697-bd06-937fcbb63e87', 'scan'], ['node', '23785fbc-7d27-4697-bd06-937fcbb63e87', 'shutdown'], ['node', '23785fbc-7d27-4697-bd06-937fcbb63e87', 'startup'], ['node', '23785fbc-7d27-4697-bd06-937fcbb63e87', 'reset'], ['node', '23785fbc-7d27-4697-bd06-937fcbb63e87', 'logon'], ['node', '23785fbc-7d27-4697-bd06-937fcbb63e87', 'logoff'], ['node', '1ceaff86-bccd-4a06-81e0-0c616c803eab', 'service', '6a8c0179-3ea6-48c1-bc97-259bb5853118', 'compromise'], ['node', '1ceaff86-bccd-4a06-81e0-0c616c803eab', 'service', '6a8c0179-3ea6-48c1-bc97-259bb5853118', 'scan'], ['node', '1ceaff86-bccd-4a06-81e0-0c616c803eab', 'service', '6a8c0179-3ea6-48c1-bc97-259bb5853118', 'stop'], ['node', '1ceaff86-bccd-4a06-81e0-0c616c803eab', 'service', '6a8c0179-3ea6-48c1-bc97-259bb5853118', 'start'], ['node', '1ceaff86-bccd-4a06-81e0-0c616c803eab', 'service', '6a8c0179-3ea6-48c1-bc97-259bb5853118', 'pause'], ['node', '1ceaff86-bccd-4a06-81e0-0c616c803eab', 'service', '6a8c0179-3ea6-48c1-bc97-259bb5853118', 'resume'], ['node', '1ceaff86-bccd-4a06-81e0-0c616c803eab', 'service', '6a8c0179-3ea6-48c1-bc97-259bb5853118', 'restart'], ['node', '1ceaff86-bccd-4a06-81e0-0c616c803eab', 'service', '6a8c0179-3ea6-48c1-bc97-259bb5853118', 'disable'], ['node', '1ceaff86-bccd-4a06-81e0-0c616c803eab', 'service', '6a8c0179-3ea6-48c1-bc97-259bb5853118', 'enable'], ['node', '1ceaff86-bccd-4a06-81e0-0c616c803eab', 'nic', '4b53abce-74ca-4015-868e-3c7dc2f29117', 'enable'], ['node', '1ceaff86-bccd-4a06-81e0-0c616c803eab', 'nic', '4b53abce-74ca-4015-868e-3c7dc2f29117', 'disable'], ['node', '1ceaff86-bccd-4a06-81e0-0c616c803eab', 'file_system', 'folder', 'a388f22b-0a4d-465d-b5f6-e98ff9564483', 'scan'], ['node', '1ceaff86-bccd-4a06-81e0-0c616c803eab', 'file_system', 'folder', 'a388f22b-0a4d-465d-b5f6-e98ff9564483', 'checkhash'], ['node', '1ceaff86-bccd-4a06-81e0-0c616c803eab', 'file_system', 'folder', 'a388f22b-0a4d-465d-b5f6-e98ff9564483', 'repair'], ['node', '1ceaff86-bccd-4a06-81e0-0c616c803eab', 'file_system', 'folder', 'a388f22b-0a4d-465d-b5f6-e98ff9564483', 'restore'], ['node', '1ceaff86-bccd-4a06-81e0-0c616c803eab', 'file_system', 'folder', 'a388f22b-0a4d-465d-b5f6-e98ff9564483', 'delete'], ['node', '1ceaff86-bccd-4a06-81e0-0c616c803eab', 'file_system', 'folder', 'a388f22b-0a4d-465d-b5f6-e98ff9564483', 'corrupt'], ['node', '1ceaff86-bccd-4a06-81e0-0c616c803eab', 'file_system', 'folder', 'c13d8734-9e01-42f6-84d7-4ea36424663d', 'scan'], ['node', '1ceaff86-bccd-4a06-81e0-0c616c803eab', 'file_system', 'folder', 'c13d8734-9e01-42f6-84d7-4ea36424663d', 'checkhash'], ['node', '1ceaff86-bccd-4a06-81e0-0c616c803eab', 'file_system', 'folder', 'c13d8734-9e01-42f6-84d7-4ea36424663d', 'repair'], ['node', '1ceaff86-bccd-4a06-81e0-0c616c803eab', 'file_system', 'folder', 'c13d8734-9e01-42f6-84d7-4ea36424663d', 'restore'], ['node', '1ceaff86-bccd-4a06-81e0-0c616c803eab', 'file_system', 'folder', 'c13d8734-9e01-42f6-84d7-4ea36424663d', 'delete'], ['node', '1ceaff86-bccd-4a06-81e0-0c616c803eab', 'file_system', 'folder', 'c13d8734-9e01-42f6-84d7-4ea36424663d', 'corrupt'], ['node', '1ceaff86-bccd-4a06-81e0-0c616c803eab', 'file_system', 'file', 'ab96a3a6-1779-4789-99a1-fa31dd252121', 'scan'], ['node', '1ceaff86-bccd-4a06-81e0-0c616c803eab', 'file_system', 'file', 'ab96a3a6-1779-4789-99a1-fa31dd252121', 'checkhash'], ['node', '1ceaff86-bccd-4a06-81e0-0c616c803eab', 'file_system', 'file', 'ab96a3a6-1779-4789-99a1-fa31dd252121', 'delete'], ['node', '1ceaff86-bccd-4a06-81e0-0c616c803eab', 'file_system', 'file', 'ab96a3a6-1779-4789-99a1-fa31dd252121', 'repair'], ['node', '1ceaff86-bccd-4a06-81e0-0c616c803eab', 'file_system', 'file', 'ab96a3a6-1779-4789-99a1-fa31dd252121', 'restore'], ['node', '1ceaff86-bccd-4a06-81e0-0c616c803eab', 'file_system', 'file', 'ab96a3a6-1779-4789-99a1-fa31dd252121', 'corrupt'], ['node', '1ceaff86-bccd-4a06-81e0-0c616c803eab', 'file_system', 'file', '213ed482-6028-44ff-a6ab-45e5800ac1a1', 'scan'], ['node', '1ceaff86-bccd-4a06-81e0-0c616c803eab', 'file_system', 'file', '213ed482-6028-44ff-a6ab-45e5800ac1a1', 'checkhash'], ['node', '1ceaff86-bccd-4a06-81e0-0c616c803eab', 'file_system', 'file', '213ed482-6028-44ff-a6ab-45e5800ac1a1', 'delete'], ['node', '1ceaff86-bccd-4a06-81e0-0c616c803eab', 'file_system', 'file', '213ed482-6028-44ff-a6ab-45e5800ac1a1', 'repair'], ['node', '1ceaff86-bccd-4a06-81e0-0c616c803eab', 'file_system', 'file', '213ed482-6028-44ff-a6ab-45e5800ac1a1', 'restore'], ['node', '1ceaff86-bccd-4a06-81e0-0c616c803eab', 'file_system', 'file', '213ed482-6028-44ff-a6ab-45e5800ac1a1', 'corrupt'], ['node', '1ceaff86-bccd-4a06-81e0-0c616c803eab', 'scan'], ['node', '1ceaff86-bccd-4a06-81e0-0c616c803eab', 'shutdown'], ['node', '1ceaff86-bccd-4a06-81e0-0c616c803eab', 'startup'], ['node', '1ceaff86-bccd-4a06-81e0-0c616c803eab', 'reset'], ['node', '1ceaff86-bccd-4a06-81e0-0c616c803eab', 'logon'], ['node', '1ceaff86-bccd-4a06-81e0-0c616c803eab', 'logoff'], ['node', '854b2562-1dc2-4dd4-9e50-8f079ba2971c', 'nic', '229b368c-55f5-463b-bafc-d6a804aa0e85', 'enable'], ['node', '854b2562-1dc2-4dd4-9e50-8f079ba2971c', 'nic', '229b368c-55f5-463b-bafc-d6a804aa0e85', 'disable'], ['node', '854b2562-1dc2-4dd4-9e50-8f079ba2971c', 'file_system', 'folder', '7147bb84-83cd-4c53-ae33-ffb28ac29f03', 'scan'], ['node', '854b2562-1dc2-4dd4-9e50-8f079ba2971c', 'file_system', 'folder', '7147bb84-83cd-4c53-ae33-ffb28ac29f03', 'checkhash'], ['node', '854b2562-1dc2-4dd4-9e50-8f079ba2971c', 'file_system', 'folder', '7147bb84-83cd-4c53-ae33-ffb28ac29f03', 'repair'], ['node', '854b2562-1dc2-4dd4-9e50-8f079ba2971c', 'file_system', 'folder', '7147bb84-83cd-4c53-ae33-ffb28ac29f03', 'restore'], ['node', '854b2562-1dc2-4dd4-9e50-8f079ba2971c', 'file_system', 'folder', '7147bb84-83cd-4c53-ae33-ffb28ac29f03', 'delete'], ['node', '854b2562-1dc2-4dd4-9e50-8f079ba2971c', 'file_system', 'folder', '7147bb84-83cd-4c53-ae33-ffb28ac29f03', 'corrupt'], ['node', '854b2562-1dc2-4dd4-9e50-8f079ba2971c', 'scan'], ['node', '854b2562-1dc2-4dd4-9e50-8f079ba2971c', 'shutdown'], ['node', '854b2562-1dc2-4dd4-9e50-8f079ba2971c', 'startup'], ['node', '854b2562-1dc2-4dd4-9e50-8f079ba2971c', 'reset'], ['node', '854b2562-1dc2-4dd4-9e50-8f079ba2971c', 'logon'], ['node', '854b2562-1dc2-4dd4-9e50-8f079ba2971c', 'logoff'], ['node', '211e8c06-b3f9-48f1-9627-62a7e81e34d3', 'nic', 'e291339e-d212-4807-b475-e779042de3f5', 'enable'], ['node', '211e8c06-b3f9-48f1-9627-62a7e81e34d3', 'nic', 'e291339e-d212-4807-b475-e779042de3f5', 'disable'], ['node', '211e8c06-b3f9-48f1-9627-62a7e81e34d3', 'file_system', 'folder', '287266f2-395a-401c-85b3-4b67e05642d3', 'scan'], ['node', '211e8c06-b3f9-48f1-9627-62a7e81e34d3', 'file_system', 'folder', '287266f2-395a-401c-85b3-4b67e05642d3', 'checkhash'], ['node', '211e8c06-b3f9-48f1-9627-62a7e81e34d3', 'file_system', 'folder', '287266f2-395a-401c-85b3-4b67e05642d3', 'repair'], ['node', '211e8c06-b3f9-48f1-9627-62a7e81e34d3', 'file_system', 'folder', '287266f2-395a-401c-85b3-4b67e05642d3', 'restore'], ['node', '211e8c06-b3f9-48f1-9627-62a7e81e34d3', 'file_system', 'folder', '287266f2-395a-401c-85b3-4b67e05642d3', 'delete'], ['node', '211e8c06-b3f9-48f1-9627-62a7e81e34d3', 'file_system', 'folder', '287266f2-395a-401c-85b3-4b67e05642d3', 'corrupt'], ['node', '211e8c06-b3f9-48f1-9627-62a7e81e34d3', 'scan'], ['node', '211e8c06-b3f9-48f1-9627-62a7e81e34d3', 'shutdown'], ['node', '211e8c06-b3f9-48f1-9627-62a7e81e34d3', 'startup'], ['node', '211e8c06-b3f9-48f1-9627-62a7e81e34d3', 'reset'], ['node', '211e8c06-b3f9-48f1-9627-62a7e81e34d3', 'logon'], ['node', '211e8c06-b3f9-48f1-9627-62a7e81e34d3', 'logoff'], ['node', 'b2aea8d0-a7fe-4d81-a63d-c40851ab1d9c', 'nic', '2b2a29e6-f56f-4328-9376-34d0cdb30d8d', 'enable'], ['node', 'b2aea8d0-a7fe-4d81-a63d-c40851ab1d9c', 'nic', '2b2a29e6-f56f-4328-9376-34d0cdb30d8d', 'disable'], ['node', 'b2aea8d0-a7fe-4d81-a63d-c40851ab1d9c', 'nic', '3b2d0133-9fa0-4872-a449-9f2bb0337b49', 'enable'], ['node', 'b2aea8d0-a7fe-4d81-a63d-c40851ab1d9c', 'nic', '3b2d0133-9fa0-4872-a449-9f2bb0337b49', 'disable'], ['node', 'b2aea8d0-a7fe-4d81-a63d-c40851ab1d9c', 'file_system', 'folder', '34eb8fde-6450-4d87-8136-65c35f11b9a9', 'scan'], ['node', 'b2aea8d0-a7fe-4d81-a63d-c40851ab1d9c', 'file_system', 'folder', '34eb8fde-6450-4d87-8136-65c35f11b9a9', 'checkhash'], ['node', 'b2aea8d0-a7fe-4d81-a63d-c40851ab1d9c', 'file_system', 'folder', '34eb8fde-6450-4d87-8136-65c35f11b9a9', 'repair'], ['node', 'b2aea8d0-a7fe-4d81-a63d-c40851ab1d9c', 'file_system', 'folder', '34eb8fde-6450-4d87-8136-65c35f11b9a9', 'restore'], ['node', 'b2aea8d0-a7fe-4d81-a63d-c40851ab1d9c', 'file_system', 'folder', '34eb8fde-6450-4d87-8136-65c35f11b9a9', 'delete'], ['node', 'b2aea8d0-a7fe-4d81-a63d-c40851ab1d9c', 'file_system', 'folder', '34eb8fde-6450-4d87-8136-65c35f11b9a9', 'corrupt'], ['node', 'b2aea8d0-a7fe-4d81-a63d-c40851ab1d9c', 'scan'], ['node', 'b2aea8d0-a7fe-4d81-a63d-c40851ab1d9c', 'shutdown'], ['node', 'b2aea8d0-a7fe-4d81-a63d-c40851ab1d9c', 'startup'], ['node', 'b2aea8d0-a7fe-4d81-a63d-c40851ab1d9c', 'reset'], ['node', 'b2aea8d0-a7fe-4d81-a63d-c40851ab1d9c', 'logon'], ['node', 'b2aea8d0-a7fe-4d81-a63d-c40851ab1d9c', 'logoff']]\n"
     ]
    }
   ],
   "source": [
    "print(act_tree)"
   ]
  },
  {
   "cell_type": "code",
   "execution_count": 11,
   "metadata": {},
   "outputs": [
    {
     "name": "stdout",
     "output_type": "stream",
     "text": [
      "['node', 'd3242ce1-43b7-40b7-86f3-f0473f1bbaec', 'nic', 'cbb4c7b4-d218-41e0-a871-64cf087afbbf', 'enable']\n",
      "['node', 'd3242ce1-43b7-40b7-86f3-f0473f1bbaec', 'nic', 'cbb4c7b4-d218-41e0-a871-64cf087afbbf', 'disable']\n",
      "['node', 'd3242ce1-43b7-40b7-86f3-f0473f1bbaec', 'nic', 'b26668a8-3ac4-4a0f-8c85-f7776d773f4b', 'enable']\n",
      "['node', 'd3242ce1-43b7-40b7-86f3-f0473f1bbaec', 'nic', 'b26668a8-3ac4-4a0f-8c85-f7776d773f4b', 'disable']\n",
      "['node', 'd3242ce1-43b7-40b7-86f3-f0473f1bbaec', 'nic', '2cb97c78-2819-48be-8ab1-a938c67731e7', 'enable']\n",
      "['node', 'd3242ce1-43b7-40b7-86f3-f0473f1bbaec', 'nic', '2cb97c78-2819-48be-8ab1-a938c67731e7', 'disable']\n",
      "['node', 'd3242ce1-43b7-40b7-86f3-f0473f1bbaec', 'nic', 'af5fd9d3-de73-4595-a3c5-c79530415a82', 'enable']\n",
      "['node', 'd3242ce1-43b7-40b7-86f3-f0473f1bbaec', 'nic', 'af5fd9d3-de73-4595-a3c5-c79530415a82', 'disable']\n",
      "['node', 'd3242ce1-43b7-40b7-86f3-f0473f1bbaec', 'nic', '5c9195e7-82f9-4486-9747-162fbcc31f93', 'enable']\n",
      "['node', 'd3242ce1-43b7-40b7-86f3-f0473f1bbaec', 'nic', '5c9195e7-82f9-4486-9747-162fbcc31f93', 'disable']\n",
      "['node', 'd3242ce1-43b7-40b7-86f3-f0473f1bbaec', 'file_system', 'folder', '1fd6018b-6619-4408-8a38-acff04f6febe', 'scan']\n",
      "['node', 'd3242ce1-43b7-40b7-86f3-f0473f1bbaec', 'file_system', 'folder', '1fd6018b-6619-4408-8a38-acff04f6febe', 'checkhash']\n",
      "['node', 'd3242ce1-43b7-40b7-86f3-f0473f1bbaec', 'file_system', 'folder', '1fd6018b-6619-4408-8a38-acff04f6febe', 'repair']\n",
      "['node', 'd3242ce1-43b7-40b7-86f3-f0473f1bbaec', 'file_system', 'folder', '1fd6018b-6619-4408-8a38-acff04f6febe', 'restore']\n",
      "['node', 'd3242ce1-43b7-40b7-86f3-f0473f1bbaec', 'file_system', 'folder', '1fd6018b-6619-4408-8a38-acff04f6febe', 'delete']\n",
      "['node', 'd3242ce1-43b7-40b7-86f3-f0473f1bbaec', 'file_system', 'folder', '1fd6018b-6619-4408-8a38-acff04f6febe', 'corrupt']\n",
      "['node', 'd3242ce1-43b7-40b7-86f3-f0473f1bbaec', 'scan']\n",
      "['node', 'd3242ce1-43b7-40b7-86f3-f0473f1bbaec', 'shutdown']\n",
      "['node', 'd3242ce1-43b7-40b7-86f3-f0473f1bbaec', 'startup']\n",
      "['node', 'd3242ce1-43b7-40b7-86f3-f0473f1bbaec', 'reset']\n",
      "['node', 'd3242ce1-43b7-40b7-86f3-f0473f1bbaec', 'logon']\n",
      "['node', 'd3242ce1-43b7-40b7-86f3-f0473f1bbaec', 'logoff']\n",
      "['node', 'd3242ce1-43b7-40b7-86f3-f0473f1bbaec', 'acl', 'add_rule']\n",
      "['node', 'd3242ce1-43b7-40b7-86f3-f0473f1bbaec', 'acl', 'remove_rule']\n",
      "['node', '67a2f88b-448c-416d-9fbd-02629347aabd', 'file_system', 'folder', '92080f30-ee19-4083-ae03-f9305201911d', 'scan']\n",
      "['node', '67a2f88b-448c-416d-9fbd-02629347aabd', 'file_system', 'folder', '92080f30-ee19-4083-ae03-f9305201911d', 'checkhash']\n",
      "['node', '67a2f88b-448c-416d-9fbd-02629347aabd', 'file_system', 'folder', '92080f30-ee19-4083-ae03-f9305201911d', 'repair']\n",
      "['node', '67a2f88b-448c-416d-9fbd-02629347aabd', 'file_system', 'folder', '92080f30-ee19-4083-ae03-f9305201911d', 'restore']\n",
      "['node', '67a2f88b-448c-416d-9fbd-02629347aabd', 'file_system', 'folder', '92080f30-ee19-4083-ae03-f9305201911d', 'delete']\n",
      "['node', '67a2f88b-448c-416d-9fbd-02629347aabd', 'file_system', 'folder', '92080f30-ee19-4083-ae03-f9305201911d', 'corrupt']\n",
      "['node', '67a2f88b-448c-416d-9fbd-02629347aabd', 'scan']\n",
      "['node', '67a2f88b-448c-416d-9fbd-02629347aabd', 'shutdown']\n",
      "['node', '67a2f88b-448c-416d-9fbd-02629347aabd', 'startup']\n",
      "['node', '67a2f88b-448c-416d-9fbd-02629347aabd', 'reset']\n",
      "['node', '67a2f88b-448c-416d-9fbd-02629347aabd', 'logon']\n",
      "['node', '67a2f88b-448c-416d-9fbd-02629347aabd', 'logoff']\n",
      "['node', '8d69c19e-69ad-41bd-9525-bdefb680a9e2', 'file_system', 'folder', '7141f9fd-9727-4159-b489-c0f5bec703fb', 'scan']\n",
      "['node', '8d69c19e-69ad-41bd-9525-bdefb680a9e2', 'file_system', 'folder', '7141f9fd-9727-4159-b489-c0f5bec703fb', 'checkhash']\n",
      "['node', '8d69c19e-69ad-41bd-9525-bdefb680a9e2', 'file_system', 'folder', '7141f9fd-9727-4159-b489-c0f5bec703fb', 'repair']\n",
      "['node', '8d69c19e-69ad-41bd-9525-bdefb680a9e2', 'file_system', 'folder', '7141f9fd-9727-4159-b489-c0f5bec703fb', 'restore']\n",
      "['node', '8d69c19e-69ad-41bd-9525-bdefb680a9e2', 'file_system', 'folder', '7141f9fd-9727-4159-b489-c0f5bec703fb', 'delete']\n",
      "['node', '8d69c19e-69ad-41bd-9525-bdefb680a9e2', 'file_system', 'folder', '7141f9fd-9727-4159-b489-c0f5bec703fb', 'corrupt']\n",
      "['node', '8d69c19e-69ad-41bd-9525-bdefb680a9e2', 'scan']\n",
      "['node', '8d69c19e-69ad-41bd-9525-bdefb680a9e2', 'shutdown']\n",
      "['node', '8d69c19e-69ad-41bd-9525-bdefb680a9e2', 'startup']\n",
      "['node', '8d69c19e-69ad-41bd-9525-bdefb680a9e2', 'reset']\n",
      "['node', '8d69c19e-69ad-41bd-9525-bdefb680a9e2', 'logon']\n",
      "['node', '8d69c19e-69ad-41bd-9525-bdefb680a9e2', 'logoff']\n",
      "['node', 'c29ebde3-9748-4a97-b8a0-1673cbd53b62', 'nic', '77c037a4-5d66-4275-b34a-3690f0df1fb3', 'enable']\n",
      "['node', 'c29ebde3-9748-4a97-b8a0-1673cbd53b62', 'nic', '77c037a4-5d66-4275-b34a-3690f0df1fb3', 'disable']\n",
      "['node', 'c29ebde3-9748-4a97-b8a0-1673cbd53b62', 'file_system', 'folder', 'ac6ca8f7-c8c5-4fc6-8cb0-70c664c9095f', 'scan']\n",
      "['node', 'c29ebde3-9748-4a97-b8a0-1673cbd53b62', 'file_system', 'folder', 'ac6ca8f7-c8c5-4fc6-8cb0-70c664c9095f', 'checkhash']\n",
      "['node', 'c29ebde3-9748-4a97-b8a0-1673cbd53b62', 'file_system', 'folder', 'ac6ca8f7-c8c5-4fc6-8cb0-70c664c9095f', 'repair']\n",
      "['node', 'c29ebde3-9748-4a97-b8a0-1673cbd53b62', 'file_system', 'folder', 'ac6ca8f7-c8c5-4fc6-8cb0-70c664c9095f', 'restore']\n",
      "['node', 'c29ebde3-9748-4a97-b8a0-1673cbd53b62', 'file_system', 'folder', 'ac6ca8f7-c8c5-4fc6-8cb0-70c664c9095f', 'delete']\n",
      "['node', 'c29ebde3-9748-4a97-b8a0-1673cbd53b62', 'file_system', 'folder', 'ac6ca8f7-c8c5-4fc6-8cb0-70c664c9095f', 'corrupt']\n",
      "['node', 'c29ebde3-9748-4a97-b8a0-1673cbd53b62', 'scan']\n",
      "['node', 'c29ebde3-9748-4a97-b8a0-1673cbd53b62', 'shutdown']\n",
      "['node', 'c29ebde3-9748-4a97-b8a0-1673cbd53b62', 'startup']\n",
      "['node', 'c29ebde3-9748-4a97-b8a0-1673cbd53b62', 'reset']\n",
      "['node', 'c29ebde3-9748-4a97-b8a0-1673cbd53b62', 'logon']\n",
      "['node', 'c29ebde3-9748-4a97-b8a0-1673cbd53b62', 'logoff']\n",
      "['node', 'f734ac26-40b3-4380-ad37-f8782202a628', 'nic', 'b6bb225c-5782-4374-8e9c-f8ae611c6300', 'enable']\n",
      "['node', 'f734ac26-40b3-4380-ad37-f8782202a628', 'nic', 'b6bb225c-5782-4374-8e9c-f8ae611c6300', 'disable']\n",
      "['node', 'f734ac26-40b3-4380-ad37-f8782202a628', 'file_system', 'folder', '99089070-8984-41d1-b9bf-bcf9da9e859b', 'scan']\n",
      "['node', 'f734ac26-40b3-4380-ad37-f8782202a628', 'file_system', 'folder', '99089070-8984-41d1-b9bf-bcf9da9e859b', 'checkhash']\n",
      "['node', 'f734ac26-40b3-4380-ad37-f8782202a628', 'file_system', 'folder', '99089070-8984-41d1-b9bf-bcf9da9e859b', 'repair']\n",
      "['node', 'f734ac26-40b3-4380-ad37-f8782202a628', 'file_system', 'folder', '99089070-8984-41d1-b9bf-bcf9da9e859b', 'restore']\n",
      "['node', 'f734ac26-40b3-4380-ad37-f8782202a628', 'file_system', 'folder', '99089070-8984-41d1-b9bf-bcf9da9e859b', 'delete']\n",
      "['node', 'f734ac26-40b3-4380-ad37-f8782202a628', 'file_system', 'folder', '99089070-8984-41d1-b9bf-bcf9da9e859b', 'corrupt']\n",
      "['node', 'f734ac26-40b3-4380-ad37-f8782202a628', 'scan']\n",
      "['node', 'f734ac26-40b3-4380-ad37-f8782202a628', 'shutdown']\n",
      "['node', 'f734ac26-40b3-4380-ad37-f8782202a628', 'startup']\n",
      "['node', 'f734ac26-40b3-4380-ad37-f8782202a628', 'reset']\n",
      "['node', 'f734ac26-40b3-4380-ad37-f8782202a628', 'logon']\n",
      "['node', 'f734ac26-40b3-4380-ad37-f8782202a628', 'logoff']\n",
      "['node', '23785fbc-7d27-4697-bd06-937fcbb63e87', 'nic', 'b6b13073-88ff-4153-ac3d-89475aaa8974', 'enable']\n",
      "['node', '23785fbc-7d27-4697-bd06-937fcbb63e87', 'nic', 'b6b13073-88ff-4153-ac3d-89475aaa8974', 'disable']\n",
      "['node', '23785fbc-7d27-4697-bd06-937fcbb63e87', 'file_system', 'folder', 'bcab8f58-4d62-48db-924a-a5a45fa215cf', 'scan']\n",
      "['node', '23785fbc-7d27-4697-bd06-937fcbb63e87', 'file_system', 'folder', 'bcab8f58-4d62-48db-924a-a5a45fa215cf', 'checkhash']\n",
      "['node', '23785fbc-7d27-4697-bd06-937fcbb63e87', 'file_system', 'folder', 'bcab8f58-4d62-48db-924a-a5a45fa215cf', 'repair']\n",
      "['node', '23785fbc-7d27-4697-bd06-937fcbb63e87', 'file_system', 'folder', 'bcab8f58-4d62-48db-924a-a5a45fa215cf', 'restore']\n",
      "['node', '23785fbc-7d27-4697-bd06-937fcbb63e87', 'file_system', 'folder', 'bcab8f58-4d62-48db-924a-a5a45fa215cf', 'delete']\n",
      "['node', '23785fbc-7d27-4697-bd06-937fcbb63e87', 'file_system', 'folder', 'bcab8f58-4d62-48db-924a-a5a45fa215cf', 'corrupt']\n",
      "['node', '23785fbc-7d27-4697-bd06-937fcbb63e87', 'scan']\n",
      "['node', '23785fbc-7d27-4697-bd06-937fcbb63e87', 'shutdown']\n",
      "['node', '23785fbc-7d27-4697-bd06-937fcbb63e87', 'startup']\n",
      "['node', '23785fbc-7d27-4697-bd06-937fcbb63e87', 'reset']\n",
      "['node', '23785fbc-7d27-4697-bd06-937fcbb63e87', 'logon']\n",
      "['node', '23785fbc-7d27-4697-bd06-937fcbb63e87', 'logoff']\n",
      "['node', '1ceaff86-bccd-4a06-81e0-0c616c803eab', 'service', '6a8c0179-3ea6-48c1-bc97-259bb5853118', 'compromise']\n",
      "['node', '1ceaff86-bccd-4a06-81e0-0c616c803eab', 'service', '6a8c0179-3ea6-48c1-bc97-259bb5853118', 'scan']\n",
      "['node', '1ceaff86-bccd-4a06-81e0-0c616c803eab', 'service', '6a8c0179-3ea6-48c1-bc97-259bb5853118', 'stop']\n",
      "['node', '1ceaff86-bccd-4a06-81e0-0c616c803eab', 'service', '6a8c0179-3ea6-48c1-bc97-259bb5853118', 'start']\n",
      "['node', '1ceaff86-bccd-4a06-81e0-0c616c803eab', 'service', '6a8c0179-3ea6-48c1-bc97-259bb5853118', 'pause']\n",
      "['node', '1ceaff86-bccd-4a06-81e0-0c616c803eab', 'service', '6a8c0179-3ea6-48c1-bc97-259bb5853118', 'resume']\n",
      "['node', '1ceaff86-bccd-4a06-81e0-0c616c803eab', 'service', '6a8c0179-3ea6-48c1-bc97-259bb5853118', 'restart']\n",
      "['node', '1ceaff86-bccd-4a06-81e0-0c616c803eab', 'service', '6a8c0179-3ea6-48c1-bc97-259bb5853118', 'disable']\n",
      "['node', '1ceaff86-bccd-4a06-81e0-0c616c803eab', 'service', '6a8c0179-3ea6-48c1-bc97-259bb5853118', 'enable']\n",
      "['node', '1ceaff86-bccd-4a06-81e0-0c616c803eab', 'nic', '4b53abce-74ca-4015-868e-3c7dc2f29117', 'enable']\n",
      "['node', '1ceaff86-bccd-4a06-81e0-0c616c803eab', 'nic', '4b53abce-74ca-4015-868e-3c7dc2f29117', 'disable']\n",
      "['node', '1ceaff86-bccd-4a06-81e0-0c616c803eab', 'file_system', 'folder', 'a388f22b-0a4d-465d-b5f6-e98ff9564483', 'scan']\n",
      "['node', '1ceaff86-bccd-4a06-81e0-0c616c803eab', 'file_system', 'folder', 'a388f22b-0a4d-465d-b5f6-e98ff9564483', 'checkhash']\n",
      "['node', '1ceaff86-bccd-4a06-81e0-0c616c803eab', 'file_system', 'folder', 'a388f22b-0a4d-465d-b5f6-e98ff9564483', 'repair']\n",
      "['node', '1ceaff86-bccd-4a06-81e0-0c616c803eab', 'file_system', 'folder', 'a388f22b-0a4d-465d-b5f6-e98ff9564483', 'restore']\n",
      "['node', '1ceaff86-bccd-4a06-81e0-0c616c803eab', 'file_system', 'folder', 'a388f22b-0a4d-465d-b5f6-e98ff9564483', 'delete']\n",
      "['node', '1ceaff86-bccd-4a06-81e0-0c616c803eab', 'file_system', 'folder', 'a388f22b-0a4d-465d-b5f6-e98ff9564483', 'corrupt']\n",
      "['node', '1ceaff86-bccd-4a06-81e0-0c616c803eab', 'file_system', 'folder', 'c13d8734-9e01-42f6-84d7-4ea36424663d', 'scan']\n",
      "['node', '1ceaff86-bccd-4a06-81e0-0c616c803eab', 'file_system', 'folder', 'c13d8734-9e01-42f6-84d7-4ea36424663d', 'checkhash']\n",
      "['node', '1ceaff86-bccd-4a06-81e0-0c616c803eab', 'file_system', 'folder', 'c13d8734-9e01-42f6-84d7-4ea36424663d', 'repair']\n",
      "['node', '1ceaff86-bccd-4a06-81e0-0c616c803eab', 'file_system', 'folder', 'c13d8734-9e01-42f6-84d7-4ea36424663d', 'restore']\n",
      "['node', '1ceaff86-bccd-4a06-81e0-0c616c803eab', 'file_system', 'folder', 'c13d8734-9e01-42f6-84d7-4ea36424663d', 'delete']\n",
      "['node', '1ceaff86-bccd-4a06-81e0-0c616c803eab', 'file_system', 'folder', 'c13d8734-9e01-42f6-84d7-4ea36424663d', 'corrupt']\n",
      "['node', '1ceaff86-bccd-4a06-81e0-0c616c803eab', 'file_system', 'file', 'ab96a3a6-1779-4789-99a1-fa31dd252121', 'scan']\n",
      "['node', '1ceaff86-bccd-4a06-81e0-0c616c803eab', 'file_system', 'file', 'ab96a3a6-1779-4789-99a1-fa31dd252121', 'checkhash']\n",
      "['node', '1ceaff86-bccd-4a06-81e0-0c616c803eab', 'file_system', 'file', 'ab96a3a6-1779-4789-99a1-fa31dd252121', 'delete']\n",
      "['node', '1ceaff86-bccd-4a06-81e0-0c616c803eab', 'file_system', 'file', 'ab96a3a6-1779-4789-99a1-fa31dd252121', 'repair']\n",
      "['node', '1ceaff86-bccd-4a06-81e0-0c616c803eab', 'file_system', 'file', 'ab96a3a6-1779-4789-99a1-fa31dd252121', 'restore']\n",
      "['node', '1ceaff86-bccd-4a06-81e0-0c616c803eab', 'file_system', 'file', 'ab96a3a6-1779-4789-99a1-fa31dd252121', 'corrupt']\n",
      "['node', '1ceaff86-bccd-4a06-81e0-0c616c803eab', 'file_system', 'file', '213ed482-6028-44ff-a6ab-45e5800ac1a1', 'scan']\n",
      "['node', '1ceaff86-bccd-4a06-81e0-0c616c803eab', 'file_system', 'file', '213ed482-6028-44ff-a6ab-45e5800ac1a1', 'checkhash']\n",
      "['node', '1ceaff86-bccd-4a06-81e0-0c616c803eab', 'file_system', 'file', '213ed482-6028-44ff-a6ab-45e5800ac1a1', 'delete']\n",
      "['node', '1ceaff86-bccd-4a06-81e0-0c616c803eab', 'file_system', 'file', '213ed482-6028-44ff-a6ab-45e5800ac1a1', 'repair']\n",
      "['node', '1ceaff86-bccd-4a06-81e0-0c616c803eab', 'file_system', 'file', '213ed482-6028-44ff-a6ab-45e5800ac1a1', 'restore']\n",
      "['node', '1ceaff86-bccd-4a06-81e0-0c616c803eab', 'file_system', 'file', '213ed482-6028-44ff-a6ab-45e5800ac1a1', 'corrupt']\n",
      "['node', '1ceaff86-bccd-4a06-81e0-0c616c803eab', 'scan']\n",
      "['node', '1ceaff86-bccd-4a06-81e0-0c616c803eab', 'shutdown']\n",
      "['node', '1ceaff86-bccd-4a06-81e0-0c616c803eab', 'startup']\n",
      "['node', '1ceaff86-bccd-4a06-81e0-0c616c803eab', 'reset']\n",
      "['node', '1ceaff86-bccd-4a06-81e0-0c616c803eab', 'logon']\n",
      "['node', '1ceaff86-bccd-4a06-81e0-0c616c803eab', 'logoff']\n",
      "['node', '854b2562-1dc2-4dd4-9e50-8f079ba2971c', 'nic', '229b368c-55f5-463b-bafc-d6a804aa0e85', 'enable']\n",
      "['node', '854b2562-1dc2-4dd4-9e50-8f079ba2971c', 'nic', '229b368c-55f5-463b-bafc-d6a804aa0e85', 'disable']\n",
      "['node', '854b2562-1dc2-4dd4-9e50-8f079ba2971c', 'file_system', 'folder', '7147bb84-83cd-4c53-ae33-ffb28ac29f03', 'scan']\n",
      "['node', '854b2562-1dc2-4dd4-9e50-8f079ba2971c', 'file_system', 'folder', '7147bb84-83cd-4c53-ae33-ffb28ac29f03', 'checkhash']\n",
      "['node', '854b2562-1dc2-4dd4-9e50-8f079ba2971c', 'file_system', 'folder', '7147bb84-83cd-4c53-ae33-ffb28ac29f03', 'repair']\n",
      "['node', '854b2562-1dc2-4dd4-9e50-8f079ba2971c', 'file_system', 'folder', '7147bb84-83cd-4c53-ae33-ffb28ac29f03', 'restore']\n",
      "['node', '854b2562-1dc2-4dd4-9e50-8f079ba2971c', 'file_system', 'folder', '7147bb84-83cd-4c53-ae33-ffb28ac29f03', 'delete']\n",
      "['node', '854b2562-1dc2-4dd4-9e50-8f079ba2971c', 'file_system', 'folder', '7147bb84-83cd-4c53-ae33-ffb28ac29f03', 'corrupt']\n",
      "['node', '854b2562-1dc2-4dd4-9e50-8f079ba2971c', 'scan']\n",
      "['node', '854b2562-1dc2-4dd4-9e50-8f079ba2971c', 'shutdown']\n",
      "['node', '854b2562-1dc2-4dd4-9e50-8f079ba2971c', 'startup']\n",
      "['node', '854b2562-1dc2-4dd4-9e50-8f079ba2971c', 'reset']\n",
      "['node', '854b2562-1dc2-4dd4-9e50-8f079ba2971c', 'logon']\n",
      "['node', '854b2562-1dc2-4dd4-9e50-8f079ba2971c', 'logoff']\n",
      "['node', '211e8c06-b3f9-48f1-9627-62a7e81e34d3', 'nic', 'e291339e-d212-4807-b475-e779042de3f5', 'enable']\n",
      "['node', '211e8c06-b3f9-48f1-9627-62a7e81e34d3', 'nic', 'e291339e-d212-4807-b475-e779042de3f5', 'disable']\n",
      "['node', '211e8c06-b3f9-48f1-9627-62a7e81e34d3', 'file_system', 'folder', '287266f2-395a-401c-85b3-4b67e05642d3', 'scan']\n",
      "['node', '211e8c06-b3f9-48f1-9627-62a7e81e34d3', 'file_system', 'folder', '287266f2-395a-401c-85b3-4b67e05642d3', 'checkhash']\n",
      "['node', '211e8c06-b3f9-48f1-9627-62a7e81e34d3', 'file_system', 'folder', '287266f2-395a-401c-85b3-4b67e05642d3', 'repair']\n",
      "['node', '211e8c06-b3f9-48f1-9627-62a7e81e34d3', 'file_system', 'folder', '287266f2-395a-401c-85b3-4b67e05642d3', 'restore']\n",
      "['node', '211e8c06-b3f9-48f1-9627-62a7e81e34d3', 'file_system', 'folder', '287266f2-395a-401c-85b3-4b67e05642d3', 'delete']\n",
      "['node', '211e8c06-b3f9-48f1-9627-62a7e81e34d3', 'file_system', 'folder', '287266f2-395a-401c-85b3-4b67e05642d3', 'corrupt']\n",
      "['node', '211e8c06-b3f9-48f1-9627-62a7e81e34d3', 'scan']\n",
      "['node', '211e8c06-b3f9-48f1-9627-62a7e81e34d3', 'shutdown']\n",
      "['node', '211e8c06-b3f9-48f1-9627-62a7e81e34d3', 'startup']\n",
      "['node', '211e8c06-b3f9-48f1-9627-62a7e81e34d3', 'reset']\n",
      "['node', '211e8c06-b3f9-48f1-9627-62a7e81e34d3', 'logon']\n",
      "['node', '211e8c06-b3f9-48f1-9627-62a7e81e34d3', 'logoff']\n",
      "['node', 'b2aea8d0-a7fe-4d81-a63d-c40851ab1d9c', 'nic', '2b2a29e6-f56f-4328-9376-34d0cdb30d8d', 'enable']\n",
      "['node', 'b2aea8d0-a7fe-4d81-a63d-c40851ab1d9c', 'nic', '2b2a29e6-f56f-4328-9376-34d0cdb30d8d', 'disable']\n",
      "['node', 'b2aea8d0-a7fe-4d81-a63d-c40851ab1d9c', 'nic', '3b2d0133-9fa0-4872-a449-9f2bb0337b49', 'enable']\n",
      "['node', 'b2aea8d0-a7fe-4d81-a63d-c40851ab1d9c', 'nic', '3b2d0133-9fa0-4872-a449-9f2bb0337b49', 'disable']\n",
      "['node', 'b2aea8d0-a7fe-4d81-a63d-c40851ab1d9c', 'file_system', 'folder', '34eb8fde-6450-4d87-8136-65c35f11b9a9', 'scan']\n",
      "['node', 'b2aea8d0-a7fe-4d81-a63d-c40851ab1d9c', 'file_system', 'folder', '34eb8fde-6450-4d87-8136-65c35f11b9a9', 'checkhash']\n",
      "['node', 'b2aea8d0-a7fe-4d81-a63d-c40851ab1d9c', 'file_system', 'folder', '34eb8fde-6450-4d87-8136-65c35f11b9a9', 'repair']\n",
      "['node', 'b2aea8d0-a7fe-4d81-a63d-c40851ab1d9c', 'file_system', 'folder', '34eb8fde-6450-4d87-8136-65c35f11b9a9', 'restore']\n",
      "['node', 'b2aea8d0-a7fe-4d81-a63d-c40851ab1d9c', 'file_system', 'folder', '34eb8fde-6450-4d87-8136-65c35f11b9a9', 'delete']\n",
      "['node', 'b2aea8d0-a7fe-4d81-a63d-c40851ab1d9c', 'file_system', 'folder', '34eb8fde-6450-4d87-8136-65c35f11b9a9', 'corrupt']\n",
      "['node', 'b2aea8d0-a7fe-4d81-a63d-c40851ab1d9c', 'scan']\n",
      "['node', 'b2aea8d0-a7fe-4d81-a63d-c40851ab1d9c', 'shutdown']\n",
      "['node', 'b2aea8d0-a7fe-4d81-a63d-c40851ab1d9c', 'startup']\n",
      "['node', 'b2aea8d0-a7fe-4d81-a63d-c40851ab1d9c', 'reset']\n",
      "['node', 'b2aea8d0-a7fe-4d81-a63d-c40851ab1d9c', 'logon']\n",
      "['node', 'b2aea8d0-a7fe-4d81-a63d-c40851ab1d9c', 'logoff']\n"
     ]
    }
   ],
   "source": [
    "for a in act_tree:\n",
    "    print(a)\n",
    "# simController.apply_action(\n",
    "#     {\n",
    "#         'network':'<net-uuid>', \n",
    "#         'node': '26e189bb-442e-4f73-ab7a-1c4dd162e986', \n",
    "#         'nic': 'eb6dfd45-d688-47cf-b061-5f45820a6bc7', \n",
    "#         'verb': 'enable', \n",
    "#         'options':{'...':'...'}\n",
    "#     })\n",
    "\n",
    "# a = {\n",
    "#     'target_type': 'network',\n",
    "#     'target_options': {\n",
    "#         'identifier': '<network-uid>',\n",
    "#         'target_type': '<node>',\n",
    "#         'target_options': {\n",
    "#             'identifier': '<node-uid>',\n",
    "            \n",
    "#         }\n",
    "#     }\n",
    "# }\n",
    "# # ^ do something like this where the requests are k:v pairs instead, have a simple/similar approach "
   ]
  },
  {
   "cell_type": "code",
   "execution_count": null,
   "metadata": {},
   "outputs": [],
   "source": [
    "\n"
   ]
  }
 ],
 "metadata": {
  "kernelspec": {
   "display_name": "venv",
   "language": "python",
   "name": "python3"
  },
  "language_info": {
   "codemirror_mode": {
    "name": "ipython",
    "version": 3
   },
   "file_extension": ".py",
   "mimetype": "text/x-python",
   "name": "python",
   "nbconvert_exporter": "python",
   "pygments_lexer": "ipython3",
   "version": "3.10.12"
  },
  "orig_nbformat": 4
 },
 "nbformat": 4,
 "nbformat_minor": 2
}
