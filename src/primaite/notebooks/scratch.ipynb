{
 "cells": [
  {
   "cell_type": "code",
   "execution_count": 1,
   "metadata": {},
   "outputs": [],
   "source": [
    "from primaite.simulator.network.networks import arcd_uc2_network\n",
    "%load_ext autoreload\n",
    "%autoreload 2"
   ]
  },
  {
   "cell_type": "code",
   "execution_count": 2,
   "metadata": {},
   "outputs": [
    {
     "name": "stderr",
     "output_type": "stream",
     "text": [
      "2023-09-19 11:26:37,748: Added node 9a63b1cf-1700-4ea9-94fa-4cdefb7f94a4 to Network f9af7826-619c-4d9c-949c-ec2f4815cb46\n",
      "2023-09-19 11:26:37,750: Added node e0f81131-2c42-4182-99a7-695e9016c518 to Network f9af7826-619c-4d9c-949c-ec2f4815cb46\n",
      "2023-09-19 11:26:37,757: Added node 524ebdb4-ed76-4e8e-8cd6-babbf0d02f69 to Network f9af7826-619c-4d9c-949c-ec2f4815cb46\n",
      "2023-09-19 11:26:37,762: Added node 1e78d3ae-8eb7-4bb7-830e-dcf7fc000625 to Network f9af7826-619c-4d9c-949c-ec2f4815cb46\n",
      "2023-09-19 11:26:37,768: Added node fa1bc1f8-8d28-49a2-bf06-bac6ffdeacf5 to Network f9af7826-619c-4d9c-949c-ec2f4815cb46\n",
      "2023-09-19 11:26:37,773: Added node 40b4845a-11a7-41a7-9ab7-1fb80b1799b3 to Network f9af7826-619c-4d9c-949c-ec2f4815cb46\n",
      "2023-09-19 11:26:37,778: Added node 119850a0-61c2-4050-afd9-709656e65c7b to Network f9af7826-619c-4d9c-949c-ec2f4815cb46\n",
      "2023-09-19 11:26:37,966: Added node f7c983b1-0374-4280-be8f-2eae561dbf08 to Network f9af7826-619c-4d9c-949c-ec2f4815cb46\n",
      "2023-09-19 11:26:37,983: Added node 8479b2e0-9f97-47ea-a2e0-483ad604439f to Network f9af7826-619c-4d9c-949c-ec2f4815cb46\n",
      "2023-09-19 11:26:37,991: Added node a2d78848-9e70-4824-bd91-9a6915988e38 to Network f9af7826-619c-4d9c-949c-ec2f4815cb46\n",
      "2023-09-19 11:26:37,995::ERROR::primaite.simulator.network.hardware.base::176::NIC 68:3b:a1:83:01:a1/192.168.10.110 cannot be enabled as it is not connected to a Link\n"
     ]
    }
   ],
   "source": [
    "net = arcd_uc2_network()"
   ]
  },
  {
   "cell_type": "markdown",
   "metadata": {},
   "source": [
    "### set up some services to test if actions are working"
   ]
  },
  {
   "cell_type": "code",
   "execution_count": 8,
   "metadata": {},
   "outputs": [],
   "source": [
    "db_serv = net.get_node_by_hostname('database_server')"
   ]
  },
  {
   "cell_type": "code",
   "execution_count": 12,
   "metadata": {},
   "outputs": [],
   "source": [
    "from primaite.simulator.system.services.database_service import DatabaseService"
   ]
  },
  {
   "cell_type": "code",
   "execution_count": 14,
   "metadata": {},
   "outputs": [],
   "source": [
    "db_svc = DatabaseService(file_system=db_serv.file_system)"
   ]
  },
  {
   "cell_type": "code",
   "execution_count": 15,
   "metadata": {},
   "outputs": [
    {
     "name": "stderr",
     "output_type": "stream",
     "text": [
      "2023-09-19 11:35:45,008: Added service d2090e0c-1080-4a4e-98af-489f2c7b5370 to node 119850a0-61c2-4050-afd9-709656e65c7b\n"
     ]
    }
   ],
   "source": [
    "db_serv.install_service(db_svc)"
   ]
  },
  {
   "cell_type": "code",
   "execution_count": 17,
   "metadata": {},
   "outputs": [
    {
     "data": {
      "text/plain": [
       "{'uuid': '119850a0-61c2-4050-afd9-709656e65c7b',\n",
       " 'hostname': 'database_server',\n",
       " 'operating_state': 1,\n",
       " 'NICs': {'89cbde58-4726-4a8b-8de0-fb5bdcdf615b': {'uuid': '89cbde58-4726-4a8b-8de0-fb5bdcdf615b',\n",
       "   'ip_adress': '192.168.1.14',\n",
       "   'subnet_mask': '255.255.255.0',\n",
       "   'mac_address': '51:46:0d:52:99:9d',\n",
       "   'speed': 100,\n",
       "   'mtu': 1500,\n",
       "   'wake_on_lan': False,\n",
       "   'enabled': True}},\n",
       " 'file_system': {'uuid': 'af425e71-5437-4de4-b1f2-e7c36d9cff06',\n",
       "  'folders': {'root': {'uuid': 'e75401ee-e311-4519-8d63-f1c04376fb18',\n",
       "    'name': 'root',\n",
       "    'files': {},\n",
       "    'is_quarantined': False},\n",
       "   'database': {'uuid': '6ff67dbf-69ee-465e-935b-3c557c716702',\n",
       "    'name': 'database',\n",
       "    'files': {'database.db': {'uuid': '840c0b5d-e1fb-4500-8769-0a0ea9b1c5f4',\n",
       "      'name': 'database.db',\n",
       "      'size': 12288,\n",
       "      'file_type': 'DB'}},\n",
       "    'is_quarantined': False}}},\n",
       " 'applications': {},\n",
       " 'services': {'d2090e0c-1080-4a4e-98af-489f2c7b5370': {'uuid': 'd2090e0c-1080-4a4e-98af-489f2c7b5370',\n",
       "   'health_state': 'GOOD',\n",
       "   'health_state_red_view': 'GOOD',\n",
       "   'criticality': 'LOWEST',\n",
       "   'patching_count': 0,\n",
       "   'scanning_count': 0,\n",
       "   'revealed_to_red': False,\n",
       "   'installing_count': 0,\n",
       "   'max_sessions': 1,\n",
       "   'tcp': True,\n",
       "   'udp': True,\n",
       "   'port': 5432,\n",
       "   'operating_state': 'STOPPED'}},\n",
       " 'process': {}}"
      ]
     },
     "execution_count": 17,
     "metadata": {},
     "output_type": "execute_result"
    }
   ],
   "source": [
    "db_serv.describe_state()"
   ]
  },
  {
   "cell_type": "code",
   "execution_count": 18,
   "metadata": {},
   "outputs": [],
   "source": [
    "act_tree = net._action_manager.get_action_tree()"
   ]
  },
  {
   "cell_type": "code",
   "execution_count": 19,
   "metadata": {},
   "outputs": [
    {
     "data": {
      "text/plain": [
       "129"
      ]
     },
     "execution_count": 19,
     "metadata": {},
     "output_type": "execute_result"
    }
   ],
   "source": [
    "len(act_tree)"
   ]
  },
  {
   "cell_type": "code",
   "execution_count": 20,
   "metadata": {},
   "outputs": [
    {
     "name": "stdout",
     "output_type": "stream",
     "text": [
      "[['node', '9a63b1cf-1700-4ea9-94fa-4cdefb7f94a4', 'nic', '1b9ef60a-371c-43b9-af56-d0ddb220189e', 'enable'], ['node', '9a63b1cf-1700-4ea9-94fa-4cdefb7f94a4', 'nic', '1b9ef60a-371c-43b9-af56-d0ddb220189e', 'disable'], ['node', '9a63b1cf-1700-4ea9-94fa-4cdefb7f94a4', 'nic', '41e2ffb4-3d19-4824-a665-6f6fa68afcd1', 'enable'], ['node', '9a63b1cf-1700-4ea9-94fa-4cdefb7f94a4', 'nic', '41e2ffb4-3d19-4824-a665-6f6fa68afcd1', 'disable'], ['node', '9a63b1cf-1700-4ea9-94fa-4cdefb7f94a4', 'nic', 'c61a3021-876b-491b-a3af-4e8955f26fc4', 'enable'], ['node', '9a63b1cf-1700-4ea9-94fa-4cdefb7f94a4', 'nic', 'c61a3021-876b-491b-a3af-4e8955f26fc4', 'disable'], ['node', '9a63b1cf-1700-4ea9-94fa-4cdefb7f94a4', 'nic', '217f5929-bb4c-4e4d-b564-efd805be5733', 'enable'], ['node', '9a63b1cf-1700-4ea9-94fa-4cdefb7f94a4', 'nic', '217f5929-bb4c-4e4d-b564-efd805be5733', 'disable'], ['node', '9a63b1cf-1700-4ea9-94fa-4cdefb7f94a4', 'nic', '29708cc6-008e-4db1-b50f-cf4f9246c3e2', 'enable'], ['node', '9a63b1cf-1700-4ea9-94fa-4cdefb7f94a4', 'nic', '29708cc6-008e-4db1-b50f-cf4f9246c3e2', 'disable'], ['node', '9a63b1cf-1700-4ea9-94fa-4cdefb7f94a4', 'file_system', 'folder', 'aeb786fe-145b-4be5-baba-da1d47cf85e9', 'scan'], ['node', '9a63b1cf-1700-4ea9-94fa-4cdefb7f94a4', 'file_system', 'folder', 'aeb786fe-145b-4be5-baba-da1d47cf85e9', 'checkhash'], ['node', '9a63b1cf-1700-4ea9-94fa-4cdefb7f94a4', 'file_system', 'folder', 'aeb786fe-145b-4be5-baba-da1d47cf85e9', 'repair'], ['node', '9a63b1cf-1700-4ea9-94fa-4cdefb7f94a4', 'file_system', 'folder', 'aeb786fe-145b-4be5-baba-da1d47cf85e9', 'restore'], ['node', '9a63b1cf-1700-4ea9-94fa-4cdefb7f94a4', 'scan'], ['node', '9a63b1cf-1700-4ea9-94fa-4cdefb7f94a4', 'shutdown'], ['node', '9a63b1cf-1700-4ea9-94fa-4cdefb7f94a4', 'startup'], ['node', '9a63b1cf-1700-4ea9-94fa-4cdefb7f94a4', 'reset'], ['node', 'e0f81131-2c42-4182-99a7-695e9016c518', 'file_system', 'folder', '08438583-8fd3-4239-851d-b851042bd9a4', 'scan'], ['node', 'e0f81131-2c42-4182-99a7-695e9016c518', 'file_system', 'folder', '08438583-8fd3-4239-851d-b851042bd9a4', 'checkhash'], ['node', 'e0f81131-2c42-4182-99a7-695e9016c518', 'file_system', 'folder', '08438583-8fd3-4239-851d-b851042bd9a4', 'repair'], ['node', 'e0f81131-2c42-4182-99a7-695e9016c518', 'file_system', 'folder', '08438583-8fd3-4239-851d-b851042bd9a4', 'restore'], ['node', 'e0f81131-2c42-4182-99a7-695e9016c518', 'scan'], ['node', 'e0f81131-2c42-4182-99a7-695e9016c518', 'shutdown'], ['node', 'e0f81131-2c42-4182-99a7-695e9016c518', 'startup'], ['node', 'e0f81131-2c42-4182-99a7-695e9016c518', 'reset'], ['node', '524ebdb4-ed76-4e8e-8cd6-babbf0d02f69', 'file_system', 'folder', 'a2333863-f204-4f10-99ad-5ecadd9e0a3e', 'scan'], ['node', '524ebdb4-ed76-4e8e-8cd6-babbf0d02f69', 'file_system', 'folder', 'a2333863-f204-4f10-99ad-5ecadd9e0a3e', 'checkhash'], ['node', '524ebdb4-ed76-4e8e-8cd6-babbf0d02f69', 'file_system', 'folder', 'a2333863-f204-4f10-99ad-5ecadd9e0a3e', 'repair'], ['node', '524ebdb4-ed76-4e8e-8cd6-babbf0d02f69', 'file_system', 'folder', 'a2333863-f204-4f10-99ad-5ecadd9e0a3e', 'restore'], ['node', '524ebdb4-ed76-4e8e-8cd6-babbf0d02f69', 'scan'], ['node', '524ebdb4-ed76-4e8e-8cd6-babbf0d02f69', 'shutdown'], ['node', '524ebdb4-ed76-4e8e-8cd6-babbf0d02f69', 'startup'], ['node', '524ebdb4-ed76-4e8e-8cd6-babbf0d02f69', 'reset'], ['node', '1e78d3ae-8eb7-4bb7-830e-dcf7fc000625', 'nic', '27a09b26-0912-4de1-8fac-afefd06668a7', 'enable'], ['node', '1e78d3ae-8eb7-4bb7-830e-dcf7fc000625', 'nic', '27a09b26-0912-4de1-8fac-afefd06668a7', 'disable'], ['node', '1e78d3ae-8eb7-4bb7-830e-dcf7fc000625', 'file_system', 'folder', '8e9d5646-e151-4902-91e4-58cf6026dccc', 'scan'], ['node', '1e78d3ae-8eb7-4bb7-830e-dcf7fc000625', 'file_system', 'folder', '8e9d5646-e151-4902-91e4-58cf6026dccc', 'checkhash'], ['node', '1e78d3ae-8eb7-4bb7-830e-dcf7fc000625', 'file_system', 'folder', '8e9d5646-e151-4902-91e4-58cf6026dccc', 'repair'], ['node', '1e78d3ae-8eb7-4bb7-830e-dcf7fc000625', 'file_system', 'folder', '8e9d5646-e151-4902-91e4-58cf6026dccc', 'restore'], ['node', '1e78d3ae-8eb7-4bb7-830e-dcf7fc000625', 'scan'], ['node', '1e78d3ae-8eb7-4bb7-830e-dcf7fc000625', 'shutdown'], ['node', '1e78d3ae-8eb7-4bb7-830e-dcf7fc000625', 'startup'], ['node', '1e78d3ae-8eb7-4bb7-830e-dcf7fc000625', 'reset'], ['node', 'fa1bc1f8-8d28-49a2-bf06-bac6ffdeacf5', 'nic', '34050ee7-c5a0-42c3-9be3-f55d6668443d', 'enable'], ['node', 'fa1bc1f8-8d28-49a2-bf06-bac6ffdeacf5', 'nic', '34050ee7-c5a0-42c3-9be3-f55d6668443d', 'disable'], ['node', 'fa1bc1f8-8d28-49a2-bf06-bac6ffdeacf5', 'file_system', 'folder', 'd2fedd6f-4604-42f8-baa4-125db2a62495', 'scan'], ['node', 'fa1bc1f8-8d28-49a2-bf06-bac6ffdeacf5', 'file_system', 'folder', 'd2fedd6f-4604-42f8-baa4-125db2a62495', 'checkhash'], ['node', 'fa1bc1f8-8d28-49a2-bf06-bac6ffdeacf5', 'file_system', 'folder', 'd2fedd6f-4604-42f8-baa4-125db2a62495', 'repair'], ['node', 'fa1bc1f8-8d28-49a2-bf06-bac6ffdeacf5', 'file_system', 'folder', 'd2fedd6f-4604-42f8-baa4-125db2a62495', 'restore'], ['node', 'fa1bc1f8-8d28-49a2-bf06-bac6ffdeacf5', 'scan'], ['node', 'fa1bc1f8-8d28-49a2-bf06-bac6ffdeacf5', 'shutdown'], ['node', 'fa1bc1f8-8d28-49a2-bf06-bac6ffdeacf5', 'startup'], ['node', 'fa1bc1f8-8d28-49a2-bf06-bac6ffdeacf5', 'reset'], ['node', '40b4845a-11a7-41a7-9ab7-1fb80b1799b3', 'nic', 'd0748224-7123-48a7-a0ab-1775ad3390e2', 'enable'], ['node', '40b4845a-11a7-41a7-9ab7-1fb80b1799b3', 'nic', 'd0748224-7123-48a7-a0ab-1775ad3390e2', 'disable'], ['node', '40b4845a-11a7-41a7-9ab7-1fb80b1799b3', 'file_system', 'folder', '3387bfee-5beb-4a1c-9320-52fddf0a24cb', 'scan'], ['node', '40b4845a-11a7-41a7-9ab7-1fb80b1799b3', 'file_system', 'folder', '3387bfee-5beb-4a1c-9320-52fddf0a24cb', 'checkhash'], ['node', '40b4845a-11a7-41a7-9ab7-1fb80b1799b3', 'file_system', 'folder', '3387bfee-5beb-4a1c-9320-52fddf0a24cb', 'repair'], ['node', '40b4845a-11a7-41a7-9ab7-1fb80b1799b3', 'file_system', 'folder', '3387bfee-5beb-4a1c-9320-52fddf0a24cb', 'restore'], ['node', '40b4845a-11a7-41a7-9ab7-1fb80b1799b3', 'scan'], ['node', '40b4845a-11a7-41a7-9ab7-1fb80b1799b3', 'shutdown'], ['node', '40b4845a-11a7-41a7-9ab7-1fb80b1799b3', 'startup'], ['node', '40b4845a-11a7-41a7-9ab7-1fb80b1799b3', 'reset'], ['node', '119850a0-61c2-4050-afd9-709656e65c7b', 'service', 'd2090e0c-1080-4a4e-98af-489f2c7b5370', 'compromise'], ['node', '119850a0-61c2-4050-afd9-709656e65c7b', 'service', 'd2090e0c-1080-4a4e-98af-489f2c7b5370', 'scan'], ['node', '119850a0-61c2-4050-afd9-709656e65c7b', 'service', 'd2090e0c-1080-4a4e-98af-489f2c7b5370', 'stop'], ['node', '119850a0-61c2-4050-afd9-709656e65c7b', 'service', 'd2090e0c-1080-4a4e-98af-489f2c7b5370', 'start'], ['node', '119850a0-61c2-4050-afd9-709656e65c7b', 'service', 'd2090e0c-1080-4a4e-98af-489f2c7b5370', 'pause'], ['node', '119850a0-61c2-4050-afd9-709656e65c7b', 'service', 'd2090e0c-1080-4a4e-98af-489f2c7b5370', 'resume'], ['node', '119850a0-61c2-4050-afd9-709656e65c7b', 'service', 'd2090e0c-1080-4a4e-98af-489f2c7b5370', 'restart'], ['node', '119850a0-61c2-4050-afd9-709656e65c7b', 'service', 'd2090e0c-1080-4a4e-98af-489f2c7b5370', 'disable'], ['node', '119850a0-61c2-4050-afd9-709656e65c7b', 'service', 'd2090e0c-1080-4a4e-98af-489f2c7b5370', 'enable'], ['node', '119850a0-61c2-4050-afd9-709656e65c7b', 'nic', '89cbde58-4726-4a8b-8de0-fb5bdcdf615b', 'enable'], ['node', '119850a0-61c2-4050-afd9-709656e65c7b', 'nic', '89cbde58-4726-4a8b-8de0-fb5bdcdf615b', 'disable'], ['node', '119850a0-61c2-4050-afd9-709656e65c7b', 'file_system', 'folder', 'e75401ee-e311-4519-8d63-f1c04376fb18', 'scan'], ['node', '119850a0-61c2-4050-afd9-709656e65c7b', 'file_system', 'folder', 'e75401ee-e311-4519-8d63-f1c04376fb18', 'checkhash'], ['node', '119850a0-61c2-4050-afd9-709656e65c7b', 'file_system', 'folder', 'e75401ee-e311-4519-8d63-f1c04376fb18', 'repair'], ['node', '119850a0-61c2-4050-afd9-709656e65c7b', 'file_system', 'folder', 'e75401ee-e311-4519-8d63-f1c04376fb18', 'restore'], ['node', '119850a0-61c2-4050-afd9-709656e65c7b', 'file_system', 'folder', '6ff67dbf-69ee-465e-935b-3c557c716702', 'scan'], ['node', '119850a0-61c2-4050-afd9-709656e65c7b', 'file_system', 'folder', '6ff67dbf-69ee-465e-935b-3c557c716702', 'checkhash'], ['node', '119850a0-61c2-4050-afd9-709656e65c7b', 'file_system', 'folder', '6ff67dbf-69ee-465e-935b-3c557c716702', 'repair'], ['node', '119850a0-61c2-4050-afd9-709656e65c7b', 'file_system', 'folder', '6ff67dbf-69ee-465e-935b-3c557c716702', 'restore'], ['node', '119850a0-61c2-4050-afd9-709656e65c7b', 'file_system', 'file', 'c677e354-e93d-44c1-abe3-e6ab148627e2', 'scan'], ['node', '119850a0-61c2-4050-afd9-709656e65c7b', 'file_system', 'file', 'c677e354-e93d-44c1-abe3-e6ab148627e2', 'checkhash'], ['node', '119850a0-61c2-4050-afd9-709656e65c7b', 'file_system', 'file', 'c677e354-e93d-44c1-abe3-e6ab148627e2', 'delete'], ['node', '119850a0-61c2-4050-afd9-709656e65c7b', 'file_system', 'file', 'c677e354-e93d-44c1-abe3-e6ab148627e2', 'repair'], ['node', '119850a0-61c2-4050-afd9-709656e65c7b', 'file_system', 'file', 'c677e354-e93d-44c1-abe3-e6ab148627e2', 'restore'], ['node', '119850a0-61c2-4050-afd9-709656e65c7b', 'file_system', 'file', '840c0b5d-e1fb-4500-8769-0a0ea9b1c5f4', 'scan'], ['node', '119850a0-61c2-4050-afd9-709656e65c7b', 'file_system', 'file', '840c0b5d-e1fb-4500-8769-0a0ea9b1c5f4', 'checkhash'], ['node', '119850a0-61c2-4050-afd9-709656e65c7b', 'file_system', 'file', '840c0b5d-e1fb-4500-8769-0a0ea9b1c5f4', 'delete'], ['node', '119850a0-61c2-4050-afd9-709656e65c7b', 'file_system', 'file', '840c0b5d-e1fb-4500-8769-0a0ea9b1c5f4', 'repair'], ['node', '119850a0-61c2-4050-afd9-709656e65c7b', 'file_system', 'file', '840c0b5d-e1fb-4500-8769-0a0ea9b1c5f4', 'restore'], ['node', '119850a0-61c2-4050-afd9-709656e65c7b', 'scan'], ['node', '119850a0-61c2-4050-afd9-709656e65c7b', 'shutdown'], ['node', '119850a0-61c2-4050-afd9-709656e65c7b', 'startup'], ['node', '119850a0-61c2-4050-afd9-709656e65c7b', 'reset'], ['node', 'f7c983b1-0374-4280-be8f-2eae561dbf08', 'nic', 'c6b8769b-c411-497c-a2e6-b4b46d805d8a', 'enable'], ['node', 'f7c983b1-0374-4280-be8f-2eae561dbf08', 'nic', 'c6b8769b-c411-497c-a2e6-b4b46d805d8a', 'disable'], ['node', 'f7c983b1-0374-4280-be8f-2eae561dbf08', 'file_system', 'folder', 'e1d27b2a-b7a6-4ebf-bbf3-7e23e9e160a4', 'scan'], ['node', 'f7c983b1-0374-4280-be8f-2eae561dbf08', 'file_system', 'folder', 'e1d27b2a-b7a6-4ebf-bbf3-7e23e9e160a4', 'checkhash'], ['node', 'f7c983b1-0374-4280-be8f-2eae561dbf08', 'file_system', 'folder', 'e1d27b2a-b7a6-4ebf-bbf3-7e23e9e160a4', 'repair'], ['node', 'f7c983b1-0374-4280-be8f-2eae561dbf08', 'file_system', 'folder', 'e1d27b2a-b7a6-4ebf-bbf3-7e23e9e160a4', 'restore'], ['node', 'f7c983b1-0374-4280-be8f-2eae561dbf08', 'scan'], ['node', 'f7c983b1-0374-4280-be8f-2eae561dbf08', 'shutdown'], ['node', 'f7c983b1-0374-4280-be8f-2eae561dbf08', 'startup'], ['node', 'f7c983b1-0374-4280-be8f-2eae561dbf08', 'reset'], ['node', '8479b2e0-9f97-47ea-a2e0-483ad604439f', 'nic', 'e72aa295-6132-424c-8892-75f4c9999c8e', 'enable'], ['node', '8479b2e0-9f97-47ea-a2e0-483ad604439f', 'nic', 'e72aa295-6132-424c-8892-75f4c9999c8e', 'disable'], ['node', '8479b2e0-9f97-47ea-a2e0-483ad604439f', 'file_system', 'folder', '91a8fc8b-fbcc-4752-bb08-017d9d266279', 'scan'], ['node', '8479b2e0-9f97-47ea-a2e0-483ad604439f', 'file_system', 'folder', '91a8fc8b-fbcc-4752-bb08-017d9d266279', 'checkhash'], ['node', '8479b2e0-9f97-47ea-a2e0-483ad604439f', 'file_system', 'folder', '91a8fc8b-fbcc-4752-bb08-017d9d266279', 'repair'], ['node', '8479b2e0-9f97-47ea-a2e0-483ad604439f', 'file_system', 'folder', '91a8fc8b-fbcc-4752-bb08-017d9d266279', 'restore'], ['node', '8479b2e0-9f97-47ea-a2e0-483ad604439f', 'scan'], ['node', '8479b2e0-9f97-47ea-a2e0-483ad604439f', 'shutdown'], ['node', '8479b2e0-9f97-47ea-a2e0-483ad604439f', 'startup'], ['node', '8479b2e0-9f97-47ea-a2e0-483ad604439f', 'reset'], ['node', 'a2d78848-9e70-4824-bd91-9a6915988e38', 'nic', '2f3f3ba3-4722-4fe7-9a60-96d55f737c77', 'enable'], ['node', 'a2d78848-9e70-4824-bd91-9a6915988e38', 'nic', '2f3f3ba3-4722-4fe7-9a60-96d55f737c77', 'disable'], ['node', 'a2d78848-9e70-4824-bd91-9a6915988e38', 'nic', 'a4e26b3a-981c-4d77-8f39-dcfc88639da7', 'enable'], ['node', 'a2d78848-9e70-4824-bd91-9a6915988e38', 'nic', 'a4e26b3a-981c-4d77-8f39-dcfc88639da7', 'disable'], ['node', 'a2d78848-9e70-4824-bd91-9a6915988e38', 'file_system', 'folder', '113499d8-b41c-405b-b8c9-44444e87e9d1', 'scan'], ['node', 'a2d78848-9e70-4824-bd91-9a6915988e38', 'file_system', 'folder', '113499d8-b41c-405b-b8c9-44444e87e9d1', 'checkhash'], ['node', 'a2d78848-9e70-4824-bd91-9a6915988e38', 'file_system', 'folder', '113499d8-b41c-405b-b8c9-44444e87e9d1', 'repair'], ['node', 'a2d78848-9e70-4824-bd91-9a6915988e38', 'file_system', 'folder', '113499d8-b41c-405b-b8c9-44444e87e9d1', 'restore'], ['node', 'a2d78848-9e70-4824-bd91-9a6915988e38', 'scan'], ['node', 'a2d78848-9e70-4824-bd91-9a6915988e38', 'shutdown'], ['node', 'a2d78848-9e70-4824-bd91-9a6915988e38', 'startup'], ['node', 'a2d78848-9e70-4824-bd91-9a6915988e38', 'reset']]\n"
     ]
    }
   ],
   "source": [
    "print(act_tree)"
   ]
  },
  {
   "cell_type": "code",
   "execution_count": 21,
   "metadata": {},
   "outputs": [
    {
     "name": "stdout",
     "output_type": "stream",
     "text": [
      "['node', '9a63b1cf-1700-4ea9-94fa-4cdefb7f94a4', 'nic', '1b9ef60a-371c-43b9-af56-d0ddb220189e', 'enable']\n",
      "['node', '9a63b1cf-1700-4ea9-94fa-4cdefb7f94a4', 'nic', '1b9ef60a-371c-43b9-af56-d0ddb220189e', 'disable']\n",
      "['node', '9a63b1cf-1700-4ea9-94fa-4cdefb7f94a4', 'nic', '41e2ffb4-3d19-4824-a665-6f6fa68afcd1', 'enable']\n",
      "['node', '9a63b1cf-1700-4ea9-94fa-4cdefb7f94a4', 'nic', '41e2ffb4-3d19-4824-a665-6f6fa68afcd1', 'disable']\n",
      "['node', '9a63b1cf-1700-4ea9-94fa-4cdefb7f94a4', 'nic', 'c61a3021-876b-491b-a3af-4e8955f26fc4', 'enable']\n",
      "['node', '9a63b1cf-1700-4ea9-94fa-4cdefb7f94a4', 'nic', 'c61a3021-876b-491b-a3af-4e8955f26fc4', 'disable']\n",
      "['node', '9a63b1cf-1700-4ea9-94fa-4cdefb7f94a4', 'nic', '217f5929-bb4c-4e4d-b564-efd805be5733', 'enable']\n",
      "['node', '9a63b1cf-1700-4ea9-94fa-4cdefb7f94a4', 'nic', '217f5929-bb4c-4e4d-b564-efd805be5733', 'disable']\n",
      "['node', '9a63b1cf-1700-4ea9-94fa-4cdefb7f94a4', 'nic', '29708cc6-008e-4db1-b50f-cf4f9246c3e2', 'enable']\n",
      "['node', '9a63b1cf-1700-4ea9-94fa-4cdefb7f94a4', 'nic', '29708cc6-008e-4db1-b50f-cf4f9246c3e2', 'disable']\n",
      "['node', '9a63b1cf-1700-4ea9-94fa-4cdefb7f94a4', 'file_system', 'folder', 'aeb786fe-145b-4be5-baba-da1d47cf85e9', 'scan']\n",
      "['node', '9a63b1cf-1700-4ea9-94fa-4cdefb7f94a4', 'file_system', 'folder', 'aeb786fe-145b-4be5-baba-da1d47cf85e9', 'checkhash']\n",
      "['node', '9a63b1cf-1700-4ea9-94fa-4cdefb7f94a4', 'file_system', 'folder', 'aeb786fe-145b-4be5-baba-da1d47cf85e9', 'repair']\n",
      "['node', '9a63b1cf-1700-4ea9-94fa-4cdefb7f94a4', 'file_system', 'folder', 'aeb786fe-145b-4be5-baba-da1d47cf85e9', 'restore']\n",
      "['node', '9a63b1cf-1700-4ea9-94fa-4cdefb7f94a4', 'scan']\n",
      "['node', '9a63b1cf-1700-4ea9-94fa-4cdefb7f94a4', 'shutdown']\n",
      "['node', '9a63b1cf-1700-4ea9-94fa-4cdefb7f94a4', 'startup']\n",
      "['node', '9a63b1cf-1700-4ea9-94fa-4cdefb7f94a4', 'reset']\n",
      "['node', 'e0f81131-2c42-4182-99a7-695e9016c518', 'file_system', 'folder', '08438583-8fd3-4239-851d-b851042bd9a4', 'scan']\n",
      "['node', 'e0f81131-2c42-4182-99a7-695e9016c518', 'file_system', 'folder', '08438583-8fd3-4239-851d-b851042bd9a4', 'checkhash']\n",
      "['node', 'e0f81131-2c42-4182-99a7-695e9016c518', 'file_system', 'folder', '08438583-8fd3-4239-851d-b851042bd9a4', 'repair']\n",
      "['node', 'e0f81131-2c42-4182-99a7-695e9016c518', 'file_system', 'folder', '08438583-8fd3-4239-851d-b851042bd9a4', 'restore']\n",
      "['node', 'e0f81131-2c42-4182-99a7-695e9016c518', 'scan']\n",
      "['node', 'e0f81131-2c42-4182-99a7-695e9016c518', 'shutdown']\n",
      "['node', 'e0f81131-2c42-4182-99a7-695e9016c518', 'startup']\n",
      "['node', 'e0f81131-2c42-4182-99a7-695e9016c518', 'reset']\n",
      "['node', '524ebdb4-ed76-4e8e-8cd6-babbf0d02f69', 'file_system', 'folder', 'a2333863-f204-4f10-99ad-5ecadd9e0a3e', 'scan']\n",
      "['node', '524ebdb4-ed76-4e8e-8cd6-babbf0d02f69', 'file_system', 'folder', 'a2333863-f204-4f10-99ad-5ecadd9e0a3e', 'checkhash']\n",
      "['node', '524ebdb4-ed76-4e8e-8cd6-babbf0d02f69', 'file_system', 'folder', 'a2333863-f204-4f10-99ad-5ecadd9e0a3e', 'repair']\n",
      "['node', '524ebdb4-ed76-4e8e-8cd6-babbf0d02f69', 'file_system', 'folder', 'a2333863-f204-4f10-99ad-5ecadd9e0a3e', 'restore']\n",
      "['node', '524ebdb4-ed76-4e8e-8cd6-babbf0d02f69', 'scan']\n",
      "['node', '524ebdb4-ed76-4e8e-8cd6-babbf0d02f69', 'shutdown']\n",
      "['node', '524ebdb4-ed76-4e8e-8cd6-babbf0d02f69', 'startup']\n",
      "['node', '524ebdb4-ed76-4e8e-8cd6-babbf0d02f69', 'reset']\n",
      "['node', '1e78d3ae-8eb7-4bb7-830e-dcf7fc000625', 'nic', '27a09b26-0912-4de1-8fac-afefd06668a7', 'enable']\n",
      "['node', '1e78d3ae-8eb7-4bb7-830e-dcf7fc000625', 'nic', '27a09b26-0912-4de1-8fac-afefd06668a7', 'disable']\n",
      "['node', '1e78d3ae-8eb7-4bb7-830e-dcf7fc000625', 'file_system', 'folder', '8e9d5646-e151-4902-91e4-58cf6026dccc', 'scan']\n",
      "['node', '1e78d3ae-8eb7-4bb7-830e-dcf7fc000625', 'file_system', 'folder', '8e9d5646-e151-4902-91e4-58cf6026dccc', 'checkhash']\n",
      "['node', '1e78d3ae-8eb7-4bb7-830e-dcf7fc000625', 'file_system', 'folder', '8e9d5646-e151-4902-91e4-58cf6026dccc', 'repair']\n",
      "['node', '1e78d3ae-8eb7-4bb7-830e-dcf7fc000625', 'file_system', 'folder', '8e9d5646-e151-4902-91e4-58cf6026dccc', 'restore']\n",
      "['node', '1e78d3ae-8eb7-4bb7-830e-dcf7fc000625', 'scan']\n",
      "['node', '1e78d3ae-8eb7-4bb7-830e-dcf7fc000625', 'shutdown']\n",
      "['node', '1e78d3ae-8eb7-4bb7-830e-dcf7fc000625', 'startup']\n",
      "['node', '1e78d3ae-8eb7-4bb7-830e-dcf7fc000625', 'reset']\n",
      "['node', 'fa1bc1f8-8d28-49a2-bf06-bac6ffdeacf5', 'nic', '34050ee7-c5a0-42c3-9be3-f55d6668443d', 'enable']\n",
      "['node', 'fa1bc1f8-8d28-49a2-bf06-bac6ffdeacf5', 'nic', '34050ee7-c5a0-42c3-9be3-f55d6668443d', 'disable']\n",
      "['node', 'fa1bc1f8-8d28-49a2-bf06-bac6ffdeacf5', 'file_system', 'folder', 'd2fedd6f-4604-42f8-baa4-125db2a62495', 'scan']\n",
      "['node', 'fa1bc1f8-8d28-49a2-bf06-bac6ffdeacf5', 'file_system', 'folder', 'd2fedd6f-4604-42f8-baa4-125db2a62495', 'checkhash']\n",
      "['node', 'fa1bc1f8-8d28-49a2-bf06-bac6ffdeacf5', 'file_system', 'folder', 'd2fedd6f-4604-42f8-baa4-125db2a62495', 'repair']\n",
      "['node', 'fa1bc1f8-8d28-49a2-bf06-bac6ffdeacf5', 'file_system', 'folder', 'd2fedd6f-4604-42f8-baa4-125db2a62495', 'restore']\n",
      "['node', 'fa1bc1f8-8d28-49a2-bf06-bac6ffdeacf5', 'scan']\n",
      "['node', 'fa1bc1f8-8d28-49a2-bf06-bac6ffdeacf5', 'shutdown']\n",
      "['node', 'fa1bc1f8-8d28-49a2-bf06-bac6ffdeacf5', 'startup']\n",
      "['node', 'fa1bc1f8-8d28-49a2-bf06-bac6ffdeacf5', 'reset']\n",
      "['node', '40b4845a-11a7-41a7-9ab7-1fb80b1799b3', 'nic', 'd0748224-7123-48a7-a0ab-1775ad3390e2', 'enable']\n",
      "['node', '40b4845a-11a7-41a7-9ab7-1fb80b1799b3', 'nic', 'd0748224-7123-48a7-a0ab-1775ad3390e2', 'disable']\n",
      "['node', '40b4845a-11a7-41a7-9ab7-1fb80b1799b3', 'file_system', 'folder', '3387bfee-5beb-4a1c-9320-52fddf0a24cb', 'scan']\n",
      "['node', '40b4845a-11a7-41a7-9ab7-1fb80b1799b3', 'file_system', 'folder', '3387bfee-5beb-4a1c-9320-52fddf0a24cb', 'checkhash']\n",
      "['node', '40b4845a-11a7-41a7-9ab7-1fb80b1799b3', 'file_system', 'folder', '3387bfee-5beb-4a1c-9320-52fddf0a24cb', 'repair']\n",
      "['node', '40b4845a-11a7-41a7-9ab7-1fb80b1799b3', 'file_system', 'folder', '3387bfee-5beb-4a1c-9320-52fddf0a24cb', 'restore']\n",
      "['node', '40b4845a-11a7-41a7-9ab7-1fb80b1799b3', 'scan']\n",
      "['node', '40b4845a-11a7-41a7-9ab7-1fb80b1799b3', 'shutdown']\n",
      "['node', '40b4845a-11a7-41a7-9ab7-1fb80b1799b3', 'startup']\n",
      "['node', '40b4845a-11a7-41a7-9ab7-1fb80b1799b3', 'reset']\n",
      "['node', '119850a0-61c2-4050-afd9-709656e65c7b', 'service', 'd2090e0c-1080-4a4e-98af-489f2c7b5370', 'compromise']\n",
      "['node', '119850a0-61c2-4050-afd9-709656e65c7b', 'service', 'd2090e0c-1080-4a4e-98af-489f2c7b5370', 'scan']\n",
      "['node', '119850a0-61c2-4050-afd9-709656e65c7b', 'service', 'd2090e0c-1080-4a4e-98af-489f2c7b5370', 'stop']\n",
      "['node', '119850a0-61c2-4050-afd9-709656e65c7b', 'service', 'd2090e0c-1080-4a4e-98af-489f2c7b5370', 'start']\n",
      "['node', '119850a0-61c2-4050-afd9-709656e65c7b', 'service', 'd2090e0c-1080-4a4e-98af-489f2c7b5370', 'pause']\n",
      "['node', '119850a0-61c2-4050-afd9-709656e65c7b', 'service', 'd2090e0c-1080-4a4e-98af-489f2c7b5370', 'resume']\n",
      "['node', '119850a0-61c2-4050-afd9-709656e65c7b', 'service', 'd2090e0c-1080-4a4e-98af-489f2c7b5370', 'restart']\n",
      "['node', '119850a0-61c2-4050-afd9-709656e65c7b', 'service', 'd2090e0c-1080-4a4e-98af-489f2c7b5370', 'disable']\n",
      "['node', '119850a0-61c2-4050-afd9-709656e65c7b', 'service', 'd2090e0c-1080-4a4e-98af-489f2c7b5370', 'enable']\n",
      "['node', '119850a0-61c2-4050-afd9-709656e65c7b', 'nic', '89cbde58-4726-4a8b-8de0-fb5bdcdf615b', 'enable']\n",
      "['node', '119850a0-61c2-4050-afd9-709656e65c7b', 'nic', '89cbde58-4726-4a8b-8de0-fb5bdcdf615b', 'disable']\n",
      "['node', '119850a0-61c2-4050-afd9-709656e65c7b', 'file_system', 'folder', 'e75401ee-e311-4519-8d63-f1c04376fb18', 'scan']\n",
      "['node', '119850a0-61c2-4050-afd9-709656e65c7b', 'file_system', 'folder', 'e75401ee-e311-4519-8d63-f1c04376fb18', 'checkhash']\n",
      "['node', '119850a0-61c2-4050-afd9-709656e65c7b', 'file_system', 'folder', 'e75401ee-e311-4519-8d63-f1c04376fb18', 'repair']\n",
      "['node', '119850a0-61c2-4050-afd9-709656e65c7b', 'file_system', 'folder', 'e75401ee-e311-4519-8d63-f1c04376fb18', 'restore']\n",
      "['node', '119850a0-61c2-4050-afd9-709656e65c7b', 'file_system', 'folder', '6ff67dbf-69ee-465e-935b-3c557c716702', 'scan']\n",
      "['node', '119850a0-61c2-4050-afd9-709656e65c7b', 'file_system', 'folder', '6ff67dbf-69ee-465e-935b-3c557c716702', 'checkhash']\n",
      "['node', '119850a0-61c2-4050-afd9-709656e65c7b', 'file_system', 'folder', '6ff67dbf-69ee-465e-935b-3c557c716702', 'repair']\n",
      "['node', '119850a0-61c2-4050-afd9-709656e65c7b', 'file_system', 'folder', '6ff67dbf-69ee-465e-935b-3c557c716702', 'restore']\n",
      "['node', '119850a0-61c2-4050-afd9-709656e65c7b', 'file_system', 'file', 'c677e354-e93d-44c1-abe3-e6ab148627e2', 'scan']\n",
      "['node', '119850a0-61c2-4050-afd9-709656e65c7b', 'file_system', 'file', 'c677e354-e93d-44c1-abe3-e6ab148627e2', 'checkhash']\n",
      "['node', '119850a0-61c2-4050-afd9-709656e65c7b', 'file_system', 'file', 'c677e354-e93d-44c1-abe3-e6ab148627e2', 'delete']\n",
      "['node', '119850a0-61c2-4050-afd9-709656e65c7b', 'file_system', 'file', 'c677e354-e93d-44c1-abe3-e6ab148627e2', 'repair']\n",
      "['node', '119850a0-61c2-4050-afd9-709656e65c7b', 'file_system', 'file', 'c677e354-e93d-44c1-abe3-e6ab148627e2', 'restore']\n",
      "['node', '119850a0-61c2-4050-afd9-709656e65c7b', 'file_system', 'file', '840c0b5d-e1fb-4500-8769-0a0ea9b1c5f4', 'scan']\n",
      "['node', '119850a0-61c2-4050-afd9-709656e65c7b', 'file_system', 'file', '840c0b5d-e1fb-4500-8769-0a0ea9b1c5f4', 'checkhash']\n",
      "['node', '119850a0-61c2-4050-afd9-709656e65c7b', 'file_system', 'file', '840c0b5d-e1fb-4500-8769-0a0ea9b1c5f4', 'delete']\n",
      "['node', '119850a0-61c2-4050-afd9-709656e65c7b', 'file_system', 'file', '840c0b5d-e1fb-4500-8769-0a0ea9b1c5f4', 'repair']\n",
      "['node', '119850a0-61c2-4050-afd9-709656e65c7b', 'file_system', 'file', '840c0b5d-e1fb-4500-8769-0a0ea9b1c5f4', 'restore']\n",
      "['node', '119850a0-61c2-4050-afd9-709656e65c7b', 'scan']\n",
      "['node', '119850a0-61c2-4050-afd9-709656e65c7b', 'shutdown']\n",
      "['node', '119850a0-61c2-4050-afd9-709656e65c7b', 'startup']\n",
      "['node', '119850a0-61c2-4050-afd9-709656e65c7b', 'reset']\n",
      "['node', 'f7c983b1-0374-4280-be8f-2eae561dbf08', 'nic', 'c6b8769b-c411-497c-a2e6-b4b46d805d8a', 'enable']\n",
      "['node', 'f7c983b1-0374-4280-be8f-2eae561dbf08', 'nic', 'c6b8769b-c411-497c-a2e6-b4b46d805d8a', 'disable']\n",
      "['node', 'f7c983b1-0374-4280-be8f-2eae561dbf08', 'file_system', 'folder', 'e1d27b2a-b7a6-4ebf-bbf3-7e23e9e160a4', 'scan']\n",
      "['node', 'f7c983b1-0374-4280-be8f-2eae561dbf08', 'file_system', 'folder', 'e1d27b2a-b7a6-4ebf-bbf3-7e23e9e160a4', 'checkhash']\n",
      "['node', 'f7c983b1-0374-4280-be8f-2eae561dbf08', 'file_system', 'folder', 'e1d27b2a-b7a6-4ebf-bbf3-7e23e9e160a4', 'repair']\n",
      "['node', 'f7c983b1-0374-4280-be8f-2eae561dbf08', 'file_system', 'folder', 'e1d27b2a-b7a6-4ebf-bbf3-7e23e9e160a4', 'restore']\n",
      "['node', 'f7c983b1-0374-4280-be8f-2eae561dbf08', 'scan']\n",
      "['node', 'f7c983b1-0374-4280-be8f-2eae561dbf08', 'shutdown']\n",
      "['node', 'f7c983b1-0374-4280-be8f-2eae561dbf08', 'startup']\n",
      "['node', 'f7c983b1-0374-4280-be8f-2eae561dbf08', 'reset']\n",
      "['node', '8479b2e0-9f97-47ea-a2e0-483ad604439f', 'nic', 'e72aa295-6132-424c-8892-75f4c9999c8e', 'enable']\n",
      "['node', '8479b2e0-9f97-47ea-a2e0-483ad604439f', 'nic', 'e72aa295-6132-424c-8892-75f4c9999c8e', 'disable']\n",
      "['node', '8479b2e0-9f97-47ea-a2e0-483ad604439f', 'file_system', 'folder', '91a8fc8b-fbcc-4752-bb08-017d9d266279', 'scan']\n",
      "['node', '8479b2e0-9f97-47ea-a2e0-483ad604439f', 'file_system', 'folder', '91a8fc8b-fbcc-4752-bb08-017d9d266279', 'checkhash']\n",
      "['node', '8479b2e0-9f97-47ea-a2e0-483ad604439f', 'file_system', 'folder', '91a8fc8b-fbcc-4752-bb08-017d9d266279', 'repair']\n",
      "['node', '8479b2e0-9f97-47ea-a2e0-483ad604439f', 'file_system', 'folder', '91a8fc8b-fbcc-4752-bb08-017d9d266279', 'restore']\n",
      "['node', '8479b2e0-9f97-47ea-a2e0-483ad604439f', 'scan']\n",
      "['node', '8479b2e0-9f97-47ea-a2e0-483ad604439f', 'shutdown']\n",
      "['node', '8479b2e0-9f97-47ea-a2e0-483ad604439f', 'startup']\n",
      "['node', '8479b2e0-9f97-47ea-a2e0-483ad604439f', 'reset']\n",
      "['node', 'a2d78848-9e70-4824-bd91-9a6915988e38', 'nic', '2f3f3ba3-4722-4fe7-9a60-96d55f737c77', 'enable']\n",
      "['node', 'a2d78848-9e70-4824-bd91-9a6915988e38', 'nic', '2f3f3ba3-4722-4fe7-9a60-96d55f737c77', 'disable']\n",
      "['node', 'a2d78848-9e70-4824-bd91-9a6915988e38', 'nic', 'a4e26b3a-981c-4d77-8f39-dcfc88639da7', 'enable']\n",
      "['node', 'a2d78848-9e70-4824-bd91-9a6915988e38', 'nic', 'a4e26b3a-981c-4d77-8f39-dcfc88639da7', 'disable']\n",
      "['node', 'a2d78848-9e70-4824-bd91-9a6915988e38', 'file_system', 'folder', '113499d8-b41c-405b-b8c9-44444e87e9d1', 'scan']\n",
      "['node', 'a2d78848-9e70-4824-bd91-9a6915988e38', 'file_system', 'folder', '113499d8-b41c-405b-b8c9-44444e87e9d1', 'checkhash']\n",
      "['node', 'a2d78848-9e70-4824-bd91-9a6915988e38', 'file_system', 'folder', '113499d8-b41c-405b-b8c9-44444e87e9d1', 'repair']\n",
      "['node', 'a2d78848-9e70-4824-bd91-9a6915988e38', 'file_system', 'folder', '113499d8-b41c-405b-b8c9-44444e87e9d1', 'restore']\n",
      "['node', 'a2d78848-9e70-4824-bd91-9a6915988e38', 'scan']\n",
      "['node', 'a2d78848-9e70-4824-bd91-9a6915988e38', 'shutdown']\n",
      "['node', 'a2d78848-9e70-4824-bd91-9a6915988e38', 'startup']\n",
      "['node', 'a2d78848-9e70-4824-bd91-9a6915988e38', 'reset']\n"
     ]
    }
   ],
   "source": [
    "for a in act_tree:\n",
    "    print(a)\n",
    "# simController.apply_action(\n",
    "#     {\n",
    "#         'network':'<net-uuid>', \n",
    "#         'node': '26e189bb-442e-4f73-ab7a-1c4dd162e986', \n",
    "#         'nic': 'eb6dfd45-d688-47cf-b061-5f45820a6bc7', \n",
    "#         'verb': 'enable', \n",
    "#         'options':{'...':'...'}\n",
    "#     })\n",
    "\n",
    "# a = {\n",
    "#     'target_type': 'network',\n",
    "#     'target_options': {\n",
    "#         'identifier': '<network-uid>',\n",
    "#         'target_type': '<node>',\n",
    "#         'target_options': {\n",
    "#             'identifier': '<node-uid>',\n",
    "            \n",
    "#         }\n",
    "#     }\n",
    "# }\n",
    "# # ^ do something like this where the requests are k:v pairs instead, have a simple/similar approach "
   ]
  },
  {
   "cell_type": "code",
   "execution_count": null,
   "metadata": {},
   "outputs": [],
   "source": [
    "\n"
   ]
  }
 ],
 "metadata": {
  "kernelspec": {
   "display_name": "venv",
   "language": "python",
   "name": "python3"
  },
  "language_info": {
   "codemirror_mode": {
    "name": "ipython",
    "version": 3
   },
   "file_extension": ".py",
   "mimetype": "text/x-python",
   "name": "python",
   "nbconvert_exporter": "python",
   "pygments_lexer": "ipython3",
   "version": "3.10.12"
  },
  "orig_nbformat": 4
 },
 "nbformat": 4,
 "nbformat_minor": 2
}
