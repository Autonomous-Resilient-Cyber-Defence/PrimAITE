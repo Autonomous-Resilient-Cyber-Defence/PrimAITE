{
 "cells": [
  {
   "cell_type": "markdown",
   "metadata": {},
   "source": [
    "# Command and Control Application Suite E2E Demonstration\n",
    "\n",
    "© Crown-owned copyright 2024, Defence Science and Technology Laboratory UK\n",
    "\n",
    "This notebook demonstrates the current implementation of the command and control (C2) server and beacon applications in primAITE."
   ]
  },
  {
   "cell_type": "code",
   "execution_count": 1,
   "metadata": {},
   "outputs": [
    {
     "name": "stdout",
     "output_type": "stream",
     "text": [
      "2025-02-03 16:04:19,828: Performing the PrimAITE first-time setup...\n",
      "2025-02-03 16:04:19,829: Building the PrimAITE app directories...\n",
      "2025-02-03 16:04:19,829: Building primaite_config.yaml...\n",
      "2025-02-03 16:04:19,829: Rebuilding the demo notebooks...\n",
      "/home/nick/primaite/4.0.0a1-dev/notebooks/example_notebooks/Command-and-Control-E2E-Demonstration.ipynb\n",
      "2025-02-03 16:04:19,831: Reset example notebook: /home/nick/primaite/4.0.0a1-dev/notebooks/example_notebooks/Command-and-Control-E2E-Demonstration.ipynb\n",
      "2025-02-03 16:04:19,836: Rebuilding the example notebooks...\n",
      "2025-02-03 16:04:19,840: PrimAITE setup complete!\n"
     ]
    }
   ],
   "source": [
    "!primaite setup"
   ]
  },
  {
   "cell_type": "code",
   "execution_count": 2,
   "metadata": {},
   "outputs": [],
   "source": [
    "# Imports\n",
    "import yaml\n",
    "from primaite.config.load import data_manipulation_config_path\n",
    "from primaite.session.environment import PrimaiteGymEnv\n",
    "from primaite.simulator.network.hardware.nodes.network.router import Router\n",
    "from primaite.simulator.system.applications.red_applications.c2.c2_beacon import C2Beacon\n",
    "from primaite.simulator.system.applications.red_applications.c2.c2_server import C2Server\n",
    "from primaite.simulator.system.applications.red_applications.c2.abstract_c2 import C2Command\n",
    "from primaite.simulator.system.applications.red_applications.ransomware_script import RansomwareScript\n",
    "from primaite.simulator.network.hardware.nodes.host.computer import Computer\n",
    "from primaite.simulator.network.hardware.nodes.host.server import Server"
   ]
  },
  {
   "cell_type": "markdown",
   "metadata": {},
   "source": [
    "## **Notebook Setup** | **Network Configuration:**\n",
    "\n",
    "This notebook uses the same network setup as UC2. Please refer to the main [UC2-E2E-Demo notebook for further reference](./Data-Manipulation-E2E-Demonstration.ipynb).\n",
    "\n",
    "However, this notebook replaces the red agent used in UC2 with a custom proxy red agent built for this notebook."
   ]
  },
  {
   "cell_type": "code",
   "execution_count": 3,
   "metadata": {},
   "outputs": [],
   "source": [
    "custom_c2_agent = \"\"\"\n",
    "  - ref: CustomC2Agent\n",
    "    team: RED\n",
    "    type: ProxyAgent\n",
    "\n",
    "    action_space:\n",
    "      # options:\n",
    "      #   nodes:\n",
    "      #     - node_name: web_server\n",
    "      #       applications:\n",
    "      #         - application_name: C2Beacon\n",
    "      #     - node_name: client_1\n",
    "      #       applications:\n",
    "      #         - application_name: C2Server\n",
    "      #   max_folders_per_node: 1\n",
    "      #   max_files_per_folder: 1\n",
    "      #   max_services_per_node: 2\n",
    "      #   max_nics_per_node: 8\n",
    "      #   max_acl_rules: 10\n",
    "      #   ip_list:\n",
    "      #     - 192.168.1.21\n",
    "      #     - 192.168.1.14\n",
    "      #   wildcard_list:\n",
    "      #     - 0.0.0.1\n",
    "      action_map:\n",
    "        0:\n",
    "          action: do_nothing\n",
    "          options: {}\n",
    "        1:\n",
    "          action: node_application_install\n",
    "          options:\n",
    "            node_name: web_server\n",
    "            application_name: C2Beacon\n",
    "        2:\n",
    "          action: configure_c2_beacon\n",
    "          options:\n",
    "            node_name: web_server\n",
    "            # config:\n",
    "            c2_server_ip_address: 192.168.10.21\n",
    "            #   keep_alive_frequency: 10\n",
    "            #   masquerade_protocol: TCP\n",
    "            #   masquerade_port: DNS\n",
    "        3:\n",
    "          action: node_application_execute\n",
    "          options:\n",
    "            node_name: web_server\n",
    "            application_name: C2Beacon\n",
    "        4:\n",
    "          action: c2_server_terminal_command\n",
    "          options:\n",
    "            node_name: client_1\n",
    "            ip_address:\n",
    "            # account:\n",
    "            username: admin\n",
    "            password: admin\n",
    "            commands:\n",
    "              -\n",
    "                - software_manager\n",
    "                - application\n",
    "                - install\n",
    "                - RansomwareScript\n",
    "        5:\n",
    "          action: c2_server_ransomware_configure\n",
    "          options:\n",
    "            node_name: client_1\n",
    "            # config:\n",
    "            server_ip_address: 192.168.1.14\n",
    "            payload: ENCRYPT\n",
    "        6:\n",
    "          action: c2_server_data_exfiltrate\n",
    "          options:\n",
    "            node_name: client_1\n",
    "            target_file_name: \"database.db\"\n",
    "            target_folder_name: \"database\"\n",
    "            exfiltration_folder_name: \"spoils\"\n",
    "            target_ip_address: 192.168.1.14\n",
    "            # account:\n",
    "            username: admin\n",
    "            password: admin\n",
    "\n",
    "        7:\n",
    "          action: c2_server_ransomware_launch\n",
    "          options:\n",
    "            node_name: client_1\n",
    "        8:\n",
    "          action: configure_c2_beacon\n",
    "          options:\n",
    "            node_name: web_server\n",
    "            # config:\n",
    "            c2_server_ip_address: 192.168.10.21\n",
    "            #   keep_alive_frequency: 10\n",
    "            #   masquerade_protocol: TCP\n",
    "            #   masquerade_port: DNS\n",
    "        9:\n",
    "          action: configure_c2_beacon\n",
    "          options:\n",
    "            node_name: web_server\n",
    "            # config:\n",
    "            c2_server_ip_address: 192.168.10.22\n",
    "            #   keep_alive_frequency: 10\n",
    "            #   masquerade_protocol: TCP\n",
    "            #   masquerade_port: DNS\n",
    "\n",
    "    reward_function:\n",
    "      reward_components:\n",
    "        - type: DUMMY\n",
    "\"\"\"\n",
    "c2_agent_yaml = yaml.safe_load(custom_c2_agent)"
   ]
  },
  {
   "cell_type": "code",
   "execution_count": 4,
   "metadata": {},
   "outputs": [
    {
     "name": "stderr",
     "output_type": "stream",
     "text": [
      "2025-02-03 16:04:24,734: PrimaiteGymEnv RNG seed = None\n"
     ]
    }
   ],
   "source": [
    "with open(data_manipulation_config_path()) as f:\n",
    "    cfg = yaml.safe_load(f)\n",
    "    # removing all agents & adding the custom agent.\n",
    "    cfg['agents'] = {}\n",
    "    cfg['agents'] = c2_agent_yaml\n",
    "\n",
    "\n",
    "env = PrimaiteGymEnv(env_config=cfg)"
   ]
  },
  {
   "cell_type": "markdown",
   "metadata": {},
   "source": [
    "## **Notebook Setup** | Network Prerequisites\n",
    "\n",
    "Before the Red Agent is able to perform any C2 specific actions, the C2 Server needs to be installed and run.\n",
    "This is because in higher fidelity environments (and the real-world) a C2 server would not be accessible by a private network blue agent and the C2 Server would already be in place before the an adversary (Red Agent) starts.\n",
    "\n",
    "The cells below install and run the C2 Server on client_1 directly via the simulation API."
   ]
  },
  {
   "cell_type": "code",
   "execution_count": 5,
   "metadata": {},
   "outputs": [
    {
     "name": "stdout",
     "output_type": "stream",
     "text": [
      "+--------------------------------------------------------------------------------------+\n",
      "|                              client_1 Software Manager                               |\n",
      "+---------------------+-------------+-----------------+--------------+------+----------+\n",
      "| Name                | Type        | Operating State | Health State | Port | Protocol |\n",
      "+---------------------+-------------+-----------------+--------------+------+----------+\n",
      "| ARP                 | Service     | RUNNING         | GOOD         | 219  | udp      |\n",
      "| ICMP                | Service     | RUNNING         | GOOD         | None | icmp     |\n",
      "| DNSClient           | Service     | RUNNING         | GOOD         | 53   | tcp      |\n",
      "| NTPClient           | Service     | RUNNING         | GOOD         | 123  | udp      |\n",
      "| WebBrowser          | Application | RUNNING         | GOOD         | 80   | tcp      |\n",
      "| NMAP                | Application | RUNNING         | GOOD         | None | none     |\n",
      "| UserSessionManager  | Service     | RUNNING         | GOOD         | None | none     |\n",
      "| UserManager         | Service     | RUNNING         | GOOD         | None | none     |\n",
      "| Terminal            | Service     | RUNNING         | GOOD         | 22   | tcp      |\n",
      "| FTPClient           | Service     | RUNNING         | GOOD         | 21   | tcp      |\n",
      "| DataManipulationBot | Application | RUNNING         | GOOD         | None | none     |\n",
      "| DatabaseClient      | Application | RUNNING         | GOOD         | 5432 | tcp      |\n",
      "| C2Server            | Application | RUNNING         | GOOD         | None | tcp      |\n",
      "+---------------------+-------------+-----------------+--------------+------+----------+\n"
     ]
    }
   ],
   "source": [
    "client_1: Computer = env.game.simulation.network.get_node_by_hostname(\"client_1\")\n",
    "client_1.software_manager.install(C2Server)\n",
    "c2_server: C2Server = client_1.software_manager.software[\"C2Server\"]\n",
    "c2_server.run()\n",
    "client_1.software_manager.show()"
   ]
  },
  {
   "cell_type": "markdown",
   "metadata": {},
   "source": [
    "## **Command and Control** | C2 Beacon Actions\n",
    "\n",
    "Before a C2 Server can accept any commands it must first establish connection with a C2 Beacon.\n",
    "\n",
    "A red agent is able to install, configure and establish a C2 beacon at any point in an episode. The code cells below demonstrate the actions and option parameters that are needed to perform this."
   ]
  },
  {
   "cell_type": "markdown",
   "metadata": {},
   "source": [
    "### **Command and Control** | C2 Beacon Actions | node_application_install\n",
    "\n",
    "The custom proxy red agent defined at the start of this notebook has been configured to install the C2 Beacon as action ``1`` in it's action map. \n",
    "\n",
    "The below yaml snippet shows all the relevant agent options for this action:\n",
    "\n",
    "```yaml\n",
    "    action_space:\n",
    "      options:\n",
    "        nodes: # Node List\n",
    "          - node_name: web_server\n",
    "            applications: \n",
    "              - application_name: C2Beacon\n",
    "        ...\n",
    "    ...\n",
    "      action_map:\n",
    "        1:\n",
    "          action: node_application_install \n",
    "          options:\n",
    "            node_id: 0 # Index 0 at the node list.\n",
    "            application_name: C2Beacon\n",
    "```"
   ]
  },
  {
   "cell_type": "code",
   "execution_count": 6,
   "metadata": {},
   "outputs": [
    {
     "name": "stdout",
     "output_type": "stream",
     "text": [
      "+-------------------------------------------------------------------------------------+\n",
      "|                             web_server Software Manager                             |\n",
      "+--------------------+-------------+-----------------+--------------+------+----------+\n",
      "| Name               | Type        | Operating State | Health State | Port | Protocol |\n",
      "+--------------------+-------------+-----------------+--------------+------+----------+\n",
      "| ARP                | Service     | RUNNING         | GOOD         | 219  | udp      |\n",
      "| ICMP               | Service     | RUNNING         | GOOD         | None | icmp     |\n",
      "| DNSClient          | Service     | RUNNING         | GOOD         | 53   | tcp      |\n",
      "| NTPClient          | Service     | RUNNING         | GOOD         | 123  | udp      |\n",
      "| WebBrowser         | Application | RUNNING         | GOOD         | 80   | tcp      |\n",
      "| NMAP               | Application | RUNNING         | GOOD         | None | none     |\n",
      "| UserSessionManager | Service     | RUNNING         | GOOD         | None | none     |\n",
      "| UserManager        | Service     | RUNNING         | GOOD         | None | none     |\n",
      "| Terminal           | Service     | RUNNING         | GOOD         | 22   | tcp      |\n",
      "| WebServer          | Service     | RUNNING         | GOOD         | 80   | tcp      |\n",
      "| DatabaseClient     | Application | RUNNING         | GOOD         | 5432 | tcp      |\n",
      "| C2Beacon           | Application | INSTALLING      | UNUSED       | None | tcp      |\n",
      "+--------------------+-------------+-----------------+--------------+------+----------+\n"
     ]
    }
   ],
   "source": [
    "env.step(1)\n",
    "web_server: Computer = env.game.simulation.network.get_node_by_hostname(\"web_server\")\n",
    "web_server.software_manager.show()"
   ]
  },
  {
   "cell_type": "markdown",
   "metadata": {},
   "source": [
    "### **Command and Control** | C2 Beacon Actions | configure_c2_beacon \n",
    "\n",
    "The custom proxy red agent defined at the start of this notebook can configure the C2 Beacon via action ``2`` in it's action map. \n",
    "\n",
    "The yaml snippet below shows all the relevant agent options for this action:\n",
    "\n",
    "```yaml\n",
    "    action_space:\n",
    "      options:\n",
    "        nodes: # Node List\n",
    "          - node_name: web_server\n",
    "        ...\n",
    "    ...\n",
    "      action_map:\n",
    "        ...\n",
    "        2:\n",
    "          action: configure_c2_beacon\n",
    "          options:\n",
    "            node_id: 0 # Node Index\n",
    "            config: # Further information about these config options can be found at the bottom of this notebook.\n",
    "              c2_server_ip_address: 192.168.10.21\n",
    "              keep_alive_frequency:\n",
    "              masquerade_protocol:\n",
    "              masquerade_port:\n",
    "```"
   ]
  },
  {
   "cell_type": "code",
   "execution_count": 7,
   "metadata": {},
   "outputs": [
    {
     "name": "stdout",
     "output_type": "stream",
     "text": [
      "+-------------------------------------------------------------------------------------+\n",
      "|                             web_server Software Manager                             |\n",
      "+--------------------+-------------+-----------------+--------------+------+----------+\n",
      "| Name               | Type        | Operating State | Health State | Port | Protocol |\n",
      "+--------------------+-------------+-----------------+--------------+------+----------+\n",
      "| ARP                | Service     | RUNNING         | GOOD         | 219  | udp      |\n",
      "| ICMP               | Service     | RUNNING         | GOOD         | None | icmp     |\n",
      "| DNSClient          | Service     | RUNNING         | GOOD         | 53   | tcp      |\n",
      "| NTPClient          | Service     | RUNNING         | GOOD         | 123  | udp      |\n",
      "| WebBrowser         | Application | RUNNING         | GOOD         | 80   | tcp      |\n",
      "| NMAP               | Application | RUNNING         | GOOD         | None | none     |\n",
      "| UserSessionManager | Service     | RUNNING         | GOOD         | None | none     |\n",
      "| UserManager        | Service     | RUNNING         | GOOD         | None | none     |\n",
      "| Terminal           | Service     | RUNNING         | GOOD         | 22   | tcp      |\n",
      "| WebServer          | Service     | RUNNING         | GOOD         | 80   | tcp      |\n",
      "| DatabaseClient     | Application | RUNNING         | GOOD         | 5432 | tcp      |\n",
      "| C2Beacon           | Application | RUNNING         | GOOD         | None | tcp      |\n",
      "+--------------------+-------------+-----------------+--------------+------+----------+\n",
      "+----------------------------------------------------------------------------------------------------------------------------------------------------+\n",
      "|                                                              C2Beacon Running Status                                                               |\n",
      "+----------------------+----------------------+-----------------------+----------------------+-----------------------------+-------------------------+\n",
      "| C2 Connection Active | C2 Remote Connection | Keep Alive Inactivity | Keep Alive Frequency | Current Masquerade Protocol | Current Masquerade Port |\n",
      "+----------------------+----------------------+-----------------------+----------------------+-----------------------------+-------------------------+\n",
      "| False                | 192.168.10.21        | 0                     | 5                    | tcp                         | 80                      |\n",
      "+----------------------+----------------------+-----------------------+----------------------+-----------------------------+-------------------------+\n"
     ]
    }
   ],
   "source": [
    "env.step(2)\n",
    "c2_beacon: C2Beacon = web_server.software_manager.software[\"C2Beacon\"]\n",
    "web_server.software_manager.show()\n",
    "c2_beacon.show()"
   ]
  },
  {
   "cell_type": "markdown",
   "metadata": {},
   "source": [
    "### **Command and Control** | C2 Beacon Actions | node_application_execute\n",
    "\n",
    "The final action is ``node_application_execute`` which is used to establish a connection for the C2 application. This action can be called by the Red Agent via action ``3`` in it's action map. \n",
    "\n",
    "The yaml snippet below shows all the relevant agent options for this action:\n",
    "\n",
    "```yaml\n",
    "    action_space:\n",
    "      options:\n",
    "        nodes: # Node List\n",
    "          - node_name: web_server\n",
    "              applications: \n",
    "              - application_name: C2Beacon\n",
    "        ...\n",
    "    ...\n",
    "      action_map:\n",
    "        ...\n",
    "        3:\n",
    "          action: node_application_execute\n",
    "          options:\n",
    "            node_id: 0\n",
    "            application_id: 0\n",
    "```"
   ]
  },
  {
   "cell_type": "code",
   "execution_count": 8,
   "metadata": {},
   "outputs": [
    {
     "data": {
      "text/plain": [
       "(0,\n",
       " 0.0,\n",
       " False,\n",
       " False,\n",
       " {'agent_actions': {'CustomC2Agent': AgentHistoryItem(timestep=2, action='node_application_execute', parameters={'node_name': 'web_server', 'application_name': 'C2Beacon'}, request=['network', 'node', 'web_server', 'application', 'C2Beacon', 'execute'], response=RequestResponse(status='success', data={}), reward=0.0, reward_info={})}})"
      ]
     },
     "execution_count": 8,
     "metadata": {},
     "output_type": "execute_result"
    }
   ],
   "source": [
    "env.step(3)"
   ]
  },
  {
   "cell_type": "code",
   "execution_count": 9,
   "metadata": {},
   "outputs": [
    {
     "name": "stdout",
     "output_type": "stream",
     "text": [
      "+----------------------------------------------------------------------------------------------------------------------------------------------------+\n",
      "|                                                              C2Beacon Running Status                                                               |\n",
      "+----------------------+----------------------+-----------------------+----------------------+-----------------------------+-------------------------+\n",
      "| C2 Connection Active | C2 Remote Connection | Keep Alive Inactivity | Keep Alive Frequency | Current Masquerade Protocol | Current Masquerade Port |\n",
      "+----------------------+----------------------+-----------------------+----------------------+-----------------------------+-------------------------+\n",
      "| True                 | 192.168.10.21        | 1                     | 5                    | tcp                         | 80                      |\n",
      "+----------------------+----------------------+-----------------------+----------------------+-----------------------------+-------------------------+\n",
      "+-----------------------------------------------------------------------------------------------------+\n",
      "|                                       C2Server Running Status                                       |\n",
      "+----------------------+----------------------+-----------------------------+-------------------------+\n",
      "| C2 Connection Active | C2 Remote Connection | Current Masquerade Protocol | Current Masquerade Port |\n",
      "+----------------------+----------------------+-----------------------------+-------------------------+\n",
      "| True                 | 192.168.1.12         | tcp                         | 80                      |\n",
      "+----------------------+----------------------+-----------------------------+-------------------------+\n"
     ]
    }
   ],
   "source": [
    "c2_beacon.show()\n",
    "c2_server.show()"
   ]
  },
  {
   "cell_type": "markdown",
   "metadata": {},
   "source": [
    "## **Command and Control** | C2 Server Actions\n",
    "\n",
    "Once the C2 suite has been successfully established, the C2 Server based actions become available to the Red Agent. \n",
    "\n",
    "\n",
    "This next section will demonstrate the different actions that become available to a red agent after establishing a C2 connection:"
   ]
  },
  {
   "cell_type": "markdown",
   "metadata": {},
   "source": [
    "### **Command and Control** | C2 Server Actions | C2_SERVER_TERMINAL_COMMAND\n",
    "\n",
    "The C2 Server's terminal action: ``C2_SERVER_TERMINAL_COMMAND`` is indexed at  ``4`` in it's action map. \n",
    "\n",
    "This action leverages the terminal service that is installed by default on all nodes to grant red agents a lot more configurability. If you're unfamiliar with terminals then it's recommended that you refer to the ``Terminal Processing`` notebook.\n",
    "\n",
    "It's worth noting that an additional benefit a red agent has when using the terminal service via the C2 Server is that you can execute multiple commands in one action. \n",
    "\n",
    "In this notebook, the ``C2_SERVER_TERMINAL_COMMAND`` is used to install a RansomwareScript application on the ``web_server`` node.\n",
    "\n",
    "The yaml snippet below shows all the relevant agent options for this action:\n",
    "\n",
    "``` yaml\n",
    "    action_space:\n",
    "      options:\n",
    "        nodes: # Node List\n",
    "        ...\n",
    "        - node_name: client_1\n",
    "            applications: \n",
    "              - application_name: C2Server\n",
    "        ...\n",
    "        action_map:\n",
    "           4:\n",
    "            action: C2_SERVER_TERMINAL_COMMAND\n",
    "            options:\n",
    "              node_id: 1\n",
    "              ip_address:\n",
    "              account:\n",
    "              username: admin\n",
    "              password: admin\n",
    "              commands:\n",
    "              - \n",
    "                  - software_manager\n",
    "                  - application\n",
    "                  - install\n",
    "                  - RansomwareScript\n",
    "```"
   ]
  },
  {
   "cell_type": "code",
   "execution_count": 10,
   "metadata": {},
   "outputs": [
    {
     "data": {
      "text/plain": [
       "(0,\n",
       " 0.0,\n",
       " False,\n",
       " False,\n",
       " {'agent_actions': {'CustomC2Agent': AgentHistoryItem(timestep=3, action='c2_server_terminal_command', parameters={'node_name': 'client_1', 'ip_address': None, 'username': 'admin', 'password': 'admin', 'commands': [['software_manager', 'application', 'install', 'RansomwareScript']]}, request=['network', 'node', 'client_1', 'application', 'C2Server', 'terminal_command', {'commands': [['software_manager', 'application', 'install', 'RansomwareScript']], 'ip_address': None, 'username': 'admin', 'password': 'admin'}], response=RequestResponse(status='success', data={0: RequestResponse(status='success', data={})}), reward=0.0, reward_info={})}})"
      ]
     },
     "execution_count": 10,
     "metadata": {},
     "output_type": "execute_result"
    }
   ],
   "source": [
    "env.step(4)"
   ]
  },
  {
   "cell_type": "code",
   "execution_count": 11,
   "metadata": {},
   "outputs": [
    {
     "name": "stdout",
     "output_type": "stream",
     "text": [
      "+--------------------------------------------------------------------------------------+\n",
      "|                              client_1 Software Manager                               |\n",
      "+---------------------+-------------+-----------------+--------------+------+----------+\n",
      "| Name                | Type        | Operating State | Health State | Port | Protocol |\n",
      "+---------------------+-------------+-----------------+--------------+------+----------+\n",
      "| ARP                 | Service     | RUNNING         | GOOD         | 219  | udp      |\n",
      "| ICMP                | Service     | RUNNING         | GOOD         | None | icmp     |\n",
      "| DNSClient           | Service     | RUNNING         | GOOD         | 53   | tcp      |\n",
      "| NTPClient           | Service     | RUNNING         | GOOD         | 123  | udp      |\n",
      "| WebBrowser          | Application | RUNNING         | GOOD         | 80   | tcp      |\n",
      "| NMAP                | Application | RUNNING         | GOOD         | None | none     |\n",
      "| UserSessionManager  | Service     | RUNNING         | GOOD         | None | none     |\n",
      "| UserManager         | Service     | RUNNING         | GOOD         | None | none     |\n",
      "| Terminal            | Service     | RUNNING         | GOOD         | 22   | tcp      |\n",
      "| FTPClient           | Service     | RUNNING         | GOOD         | 21   | tcp      |\n",
      "| DataManipulationBot | Application | RUNNING         | GOOD         | None | none     |\n",
      "| DatabaseClient      | Application | RUNNING         | GOOD         | 5432 | tcp      |\n",
      "| C2Server            | Application | RUNNING         | GOOD         | None | tcp      |\n",
      "+---------------------+-------------+-----------------+--------------+------+----------+\n"
     ]
    }
   ],
   "source": [
    "client_1.software_manager.show()"
   ]
  },
  {
   "cell_type": "markdown",
   "metadata": {},
   "source": [
    "### **Command and Control** | C2 Server Actions | c2_server_ransomware_configure\n",
    "\n",
    "Another action the C2 Server grants is the ability for a Red Agent to configure the RansomwareScript via the C2 Server rather than the note directly.\n",
    "\n",
    "This action is indexed as action ``5``.\n",
    "\n",
    "The yaml snippet below shows all the relevant agent options for this action:\n",
    "\n",
    "``` yaml\n",
    "    action_space:\n",
    "      options:\n",
    "        nodes: # Node List\n",
    "        ...\n",
    "        - node_name: client_1\n",
    "            applications: \n",
    "              - application_name: C2Server\n",
    "        ...\n",
    "        action_map:\n",
    "           5:\n",
    "            action: c2_server_ransomware_configure\n",
    "            options:\n",
    "              node_id: 1\n",
    "              config:\n",
    "                server_ip_address: 192.168.1.14\n",
    "                payload: ENCRYPT\n",
    "```\n"
   ]
  },
  {
   "cell_type": "code",
   "execution_count": 12,
   "metadata": {},
   "outputs": [
    {
     "data": {
      "text/plain": [
       "(0,\n",
       " 0.0,\n",
       " False,\n",
       " False,\n",
       " {'agent_actions': {'CustomC2Agent': AgentHistoryItem(timestep=4, action='c2_server_ransomware_configure', parameters={'node_name': 'client_1', 'server_ip_address': '192.168.1.14', 'payload': 'ENCRYPT'}, request=['network', 'node', 'client_1', 'application', 'C2Server', 'ransomware_configure', {'server_ip_address': '192.168.1.14', 'server_password': None, 'payload': 'ENCRYPT'}], response=RequestResponse(status='success', data={}), reward=0.0, reward_info={})}})"
      ]
     },
     "execution_count": 12,
     "metadata": {},
     "output_type": "execute_result"
    }
   ],
   "source": [
    "env.step(5)"
   ]
  },
  {
   "cell_type": "code",
   "execution_count": 13,
   "metadata": {},
   "outputs": [
    {
     "name": "stdout",
     "output_type": "stream",
     "text": [
      "+-------------------------------------------------------------------------------------+\n",
      "|                             web_server Software Manager                             |\n",
      "+--------------------+-------------+-----------------+--------------+------+----------+\n",
      "| Name               | Type        | Operating State | Health State | Port | Protocol |\n",
      "+--------------------+-------------+-----------------+--------------+------+----------+\n",
      "| ARP                | Service     | RUNNING         | GOOD         | 219  | udp      |\n",
      "| ICMP               | Service     | RUNNING         | GOOD         | None | icmp     |\n",
      "| DNSClient          | Service     | RUNNING         | GOOD         | 53   | tcp      |\n",
      "| NTPClient          | Service     | RUNNING         | GOOD         | 123  | udp      |\n",
      "| WebBrowser         | Application | RUNNING         | GOOD         | 80   | tcp      |\n",
      "| NMAP               | Application | RUNNING         | GOOD         | None | none     |\n",
      "| UserSessionManager | Service     | RUNNING         | GOOD         | None | none     |\n",
      "| UserManager        | Service     | RUNNING         | GOOD         | None | none     |\n",
      "| Terminal           | Service     | RUNNING         | GOOD         | 22   | tcp      |\n",
      "| WebServer          | Service     | RUNNING         | GOOD         | 80   | tcp      |\n",
      "| DatabaseClient     | Application | RUNNING         | GOOD         | 5432 | tcp      |\n",
      "| C2Beacon           | Application | RUNNING         | GOOD         | None | tcp      |\n",
      "| RansomwareScript   | Application | RUNNING         | GOOD         | None | none     |\n",
      "+--------------------+-------------+-----------------+--------------+------+----------+\n",
      "+------------------------------------+\n",
      "|  RansomwareScript Running Status   |\n",
      "+--------------------------+---------+\n",
      "| Target Server IP Address | Payload |\n",
      "+--------------------------+---------+\n",
      "| 192.168.1.14             | ENCRYPT |\n",
      "+--------------------------+---------+\n"
     ]
    }
   ],
   "source": [
    "ransomware_script: RansomwareScript = web_server.software_manager.software[\"RansomwareScript\"]\n",
    "web_server.software_manager.show()\n",
    "ransomware_script.show()"
   ]
  },
  {
   "cell_type": "markdown",
   "metadata": {},
   "source": [
    "### **Command and Control** | C2 Server Actions | c2_server_data_exfiltrate\n",
    "\n",
    "The second to last action available is the ``c2_server_data_exfiltrate`` which is indexed as action ``6`` in the action map.\n",
    "\n",
    "This action can be used to exfiltrate a target file on a remote node to the C2 Beacon and the C2 Server's host file system via the ``FTP`` services.\n",
    "\n",
    "The below yaml snippet shows all the relevant agent options for this action:\n",
    "\n",
    "``` yaml\n",
    "    action_space:\n",
    "      options:\n",
    "        nodes: # Node List\n",
    "        ...\n",
    "        - node_name: client_1\n",
    "            applications: \n",
    "              - application_name: C2Server\n",
    "        ...\n",
    "        action_map:\n",
    "           6:\n",
    "            action: c2_server_data_exfiltrate\n",
    "            options:\n",
    "              node_id: 1\n",
    "              target_file_name: \"database.db\"\n",
    "              target_folder_name: \"database\"\n",
    "              exfiltration_folder_name: \"spoils\"\n",
    "              target_ip_address: \"192.168.1.14\"\n",
    "              account:\n",
    "                username: \"admin\",\n",
    "                password: \"admin\"\n",
    "\n",
    "```"
   ]
  },
  {
   "cell_type": "code",
   "execution_count": 14,
   "metadata": {},
   "outputs": [
    {
     "data": {
      "text/plain": [
       "(0,\n",
       " 0.0,\n",
       " False,\n",
       " False,\n",
       " {'agent_actions': {'CustomC2Agent': AgentHistoryItem(timestep=5, action='c2_server_data_exfiltrate', parameters={'node_name': 'client_1', 'target_file_name': 'database.db', 'target_folder_name': 'database', 'exfiltration_folder_name': 'spoils', 'target_ip_address': '192.168.1.14', 'username': 'admin', 'password': 'admin'}, request=['network', 'node', 'client_1', 'application', 'C2Server', 'exfiltrate', {'target_file_name': 'database.db', 'target_folder_name': 'database', 'exfiltration_folder_name': 'spoils', 'target_ip_address': '192.168.1.14', 'username': 'admin', 'password': 'admin'}], response=RequestResponse(status='success', data={}), reward=0.0, reward_info={})}})"
      ]
     },
     "execution_count": 14,
     "metadata": {},
     "output_type": "execute_result"
    }
   ],
   "source": [
    "env.step(6)"
   ]
  },
  {
   "cell_type": "code",
   "execution_count": 15,
   "metadata": {},
   "outputs": [
    {
     "name": "stdout",
     "output_type": "stream",
     "text": [
      "+--------------------------------------------------------------------------------+\n",
      "|                              client_1 File System                              |\n",
      "+--------------------+---------+---------------+-----------------------+---------+\n",
      "| File Path          | Size    | Health status | Visible health status | Deleted |\n",
      "+--------------------+---------+---------------+-----------------------+---------+\n",
      "| root               | 0 B     | GOOD          | NONE                  | False   |\n",
      "| spoils/database.db | 4.77 MB | GOOD          | NONE                  | False   |\n",
      "+--------------------+---------+---------------+-----------------------+---------+\n"
     ]
    }
   ],
   "source": [
    "client_1: Computer = env.game.simulation.network.get_node_by_hostname(\"client_1\")\n",
    "client_1.software_manager.file_system.show(full=True)"
   ]
  },
  {
   "cell_type": "code",
   "execution_count": 16,
   "metadata": {},
   "outputs": [
    {
     "name": "stdout",
     "output_type": "stream",
     "text": [
      "+---------------------------------------------------------------------------------+\n",
      "|                              web_server File System                             |\n",
      "+---------------------+---------+---------------+-----------------------+---------+\n",
      "| File Path           | Size    | Health status | Visible health status | Deleted |\n",
      "+---------------------+---------+---------------+-----------------------+---------+\n",
      "| primaite/index.html | 15.0 KB | GOOD          | NONE                  | False   |\n",
      "| root                | 0 B     | GOOD          | NONE                  | False   |\n",
      "| spoils/database.db  | 4.77 MB | GOOD          | NONE                  | False   |\n",
      "+---------------------+---------+---------------+-----------------------+---------+\n"
     ]
    }
   ],
   "source": [
    "web_server: Computer = env.game.simulation.network.get_node_by_hostname(\"web_server\")\n",
    "web_server.software_manager.file_system.show(full=True)"
   ]
  },
  {
   "cell_type": "markdown",
   "metadata": {},
   "source": [
    "### **Command and Control** | C2 Server Actions | c2_server_ransomware_launch\n",
    "\n",
    "Finally, the last available action is for the c2_server_ransomware_launch to start the ransomware script installed on the same node as the C2 beacon.\n",
    "\n",
    "This action is indexed as action ``7``.\n",
    "\n",
    "\"The yaml snippet below shows all the relevant agent options for this action:\n",
    "\n",
    "``` yaml\n",
    "    action_space:\n",
    "      options:\n",
    "        nodes: # Node List\n",
    "        ...\n",
    "        - node_name: client_1\n",
    "            applications: \n",
    "              - application_name: C2Server\n",
    "        ...\n",
    "        action_map:\n",
    "           7:\n",
    "            action: c2_server_ransomware_launch\n",
    "            options:\n",
    "              node_id: 1\n",
    "```\n"
   ]
  },
  {
   "cell_type": "code",
   "execution_count": 17,
   "metadata": {},
   "outputs": [
    {
     "data": {
      "text/plain": [
       "(0,\n",
       " 0.0,\n",
       " False,\n",
       " False,\n",
       " {'agent_actions': {'CustomC2Agent': AgentHistoryItem(timestep=6, action='c2_server_ransomware_launch', parameters={'node_name': 'client_1'}, request=['network', 'node', 'client_1', 'application', 'C2Server', 'ransomware_launch'], response=RequestResponse(status='success', data={}), reward=0.0, reward_info={})}})"
      ]
     },
     "execution_count": 17,
     "metadata": {},
     "output_type": "execute_result"
    }
   ],
   "source": [
    "env.step(7)"
   ]
  },
  {
   "cell_type": "code",
   "execution_count": 18,
   "metadata": {},
   "outputs": [
    {
     "name": "stdout",
     "output_type": "stream",
     "text": [
      "+----------------------------------------------------------------------------------+\n",
      "|                           database_server File System                            |\n",
      "+----------------------+---------+---------------+-----------------------+---------+\n",
      "| File Path            | Size    | Health status | Visible health status | Deleted |\n",
      "+----------------------+---------+---------------+-----------------------+---------+\n",
      "| database/database.db | 4.77 MB | CORRUPT       | NONE                  | False   |\n",
      "| root                 | 0 B     | GOOD          | NONE                  | False   |\n",
      "+----------------------+---------+---------------+-----------------------+---------+\n"
     ]
    }
   ],
   "source": [
    "database_server: Server = env.game.simulation.network.get_node_by_hostname(\"database_server\")\n",
    "database_server.software_manager.file_system.show(full=True)"
   ]
  },
  {
   "cell_type": "markdown",
   "metadata": {},
   "source": [
    "## **Command and Control** | Blue Agent Relevance\n",
    "\n",
    "The next section of the notebook will demonstrate the impact the command and control suite has on the Blue Agent's observation space as well as some potential actions that can be used to prevent the attack from being successful.\n",
    "\n",
    "The code cell below recreates the UC2 network and swaps out the previous custom red agent with a custom blue agent. "
   ]
  },
  {
   "cell_type": "code",
   "execution_count": 19,
   "metadata": {},
   "outputs": [],
   "source": [
    "custom_blue_agent_yaml = \"\"\"\n",
    "  - ref: defender\n",
    "    team: BLUE\n",
    "    type: ProxyAgent\n",
    "\n",
    "    observation_space:\n",
    "      type: CUSTOM\n",
    "      options:\n",
    "        components:\n",
    "          - type: NODES\n",
    "            label: NODES\n",
    "            options:\n",
    "              hosts:\n",
    "                - hostname: web_server\n",
    "                  applications:\n",
    "                    - application_name: C2Beacon\n",
    "                    - application_name: RansomwareScript\n",
    "                  folders:\n",
    "                    - folder_name: exfiltration_folder\n",
    "                      files:\n",
    "                      - file_name: database.db\n",
    "                - hostname: database_server\n",
    "                  folders:\n",
    "                    - folder_name: exfiltration_folder\n",
    "                      files:\n",
    "                      - file_name: database.db\n",
    "                - hostname: client_1\n",
    "                - hostname: client_2\n",
    "              num_services: 0\n",
    "              num_applications: 2\n",
    "              num_folders: 1\n",
    "              num_files: 1\n",
    "              num_nics: 1\n",
    "              include_num_access: true\n",
    "              include_nmne: false\n",
    "              monitored_traffic:\n",
    "                icmp:\n",
    "                    - NONE\n",
    "                tcp:\n",
    "                    - HTTP\n",
    "                    - DNS\n",
    "                    - FTP\n",
    "              routers:\n",
    "                - hostname: router_1\n",
    "              num_ports: 3\n",
    "              ip_list:\n",
    "                - 192.168.1.10\n",
    "                - 192.168.1.12\n",
    "                - 192.168.1.14\n",
    "                - 192.168.1.16\n",
    "                - 192.168.1.110\n",
    "                - 192.168.10.21\n",
    "                - 192.168.10.22\n",
    "                - 192.168.10.110\n",
    "              wildcard_list:\n",
    "                - 0.0.0.1\n",
    "              port_list:\n",
    "                - 80\n",
    "                - 53\n",
    "                - 21\n",
    "              protocol_list:\n",
    "                - ICMP\n",
    "                - TCP\n",
    "                - UDP\n",
    "              num_rules: 10\n",
    "\n",
    "          - type: LINKS\n",
    "            label: LINKS\n",
    "            options:\n",
    "              link_references:\n",
    "                - router_1:eth-1<->switch_1:eth-8\n",
    "                - router_1:eth-2<->switch_2:eth-8\n",
    "                - switch_1:eth-1<->web_server:eth-1\n",
    "                - switch_1:eth-2<->web_server:eth-1\n",
    "                - switch_1:eth-3<->database_server:eth-1\n",
    "                - switch_1:eth-4<->backup_server:eth-1\n",
    "                - switch_1:eth-7<->security_suite:eth-1\n",
    "                - switch_2:eth-1<->client_1:eth-1\n",
    "                - switch_2:eth-2<->client_2:eth-1\n",
    "                - switch_2:eth-7<->security_suite:eth-2\n",
    "          - type: \"NONE\"\n",
    "            label: ICS\n",
    "            options: {}\n",
    "\n",
    "    action_space:\n",
    "      action_map:\n",
    "          0:\n",
    "            action: do_nothing\n",
    "            options: {}\n",
    "          1:\n",
    "            action: node_application_remove\n",
    "            options:\n",
    "              node_name: web_server\n",
    "              application_name: C2Beacon\n",
    "          2:\n",
    "            action: node_shutdown\n",
    "            options:\n",
    "              node_name: web_server\n",
    "          3:\n",
    "            action: router_acl_add_rule\n",
    "            options:\n",
    "              target_router: router_1\n",
    "              position: 1\n",
    "              permission: DENY\n",
    "              src_ip: 192.168.10.21\n",
    "              dst_ip: 192.168.1.12\n",
    "              src_port: HTTP\n",
    "              dst_port: HTTP\n",
    "              protocol_name: ALL\n",
    "              src_wildcard: NONE\n",
    "              dst_wildcard: NONE\n",
    "\n",
    "\n",
    "      # options:\n",
    "      #   nodes:\n",
    "      #   - node_name: web_server\n",
    "      #     applications:\n",
    "      #     - application_name: C2Beacon\n",
    "\n",
    "      #   - node_name: database_server\n",
    "      #     folders:\n",
    "      #     - folder_name: database\n",
    "      #       files:\n",
    "      #       - file_name: database.db\n",
    "      #     services:\n",
    "      #     - service_name: DatabaseService\n",
    "      #   - node_name: router_1\n",
    "\n",
    "      #   max_folders_per_node: 2\n",
    "      #   max_files_per_folder: 2\n",
    "      #   max_services_per_node: 2\n",
    "      #   max_nics_per_node: 8\n",
    "      #   max_acl_rules: 10\n",
    "      #   ip_list:\n",
    "      #     - 192.168.10.21\n",
    "      #     - 192.168.1.12\n",
    "      #   wildcard_list:\n",
    "      #     - 0.0.0.1\n",
    "    reward_function:\n",
    "      reward_components:\n",
    "        - type: DUMMY\n",
    "\n",
    "    agent_settings:\n",
    "      flatten_obs: False\n",
    "\"\"\"\n",
    "custom_blue = yaml.safe_load(custom_blue_agent_yaml)"
   ]
  },
  {
   "cell_type": "code",
   "execution_count": 20,
   "metadata": {},
   "outputs": [
    {
     "name": "stderr",
     "output_type": "stream",
     "text": [
      "2025-02-03 16:04:26,020: PrimaiteGymEnv RNG seed = None\n"
     ]
    }
   ],
   "source": [
    "with open(data_manipulation_config_path()) as f:\n",
    "    cfg = yaml.safe_load(f)\n",
    "    # removing all agents & adding the custom agent.\n",
    "    cfg['agents'] = {}\n",
    "    cfg['agents'] = custom_blue\n",
    "\n",
    "\n",
    "blue_env = PrimaiteGymEnv(env_config=cfg)"
   ]
  },
  {
   "cell_type": "code",
   "execution_count": 21,
   "metadata": {},
   "outputs": [],
   "source": [
    "# Utility function for showing OBS changes between each time step.\n",
    "\n",
    "from deepdiff.diff import DeepDiff\n",
    "\n",
    "def display_obs_diffs(old, new, step_counter):\n",
    "    \"\"\"\n",
    "    Use DeepDiff to extract and display differences in old and new instances of\n",
    "    the observation space.\n",
    "\n",
    "    :param old: observation space instance.\n",
    "    :param new: observation space instance.\n",
    "    :param step_counter: current step counter.\n",
    "    \"\"\"\n",
    "    print(\"\\nObservation space differences\")\n",
    "    print(\"-----------------------------\")\n",
    "    diff = DeepDiff(old, new)\n",
    "    print(f\"Step {step_counter}\")\n",
    "    for d,v in diff.get('values_changed', {}).items():\n",
    "        print(f\"{d}: {v['old_value']} -> {v['new_value']}\")"
   ]
  },
  {
   "cell_type": "markdown",
   "metadata": {},
   "source": [
    "### **Command and Control** | Blue Agent Relevance | Observation Space\n",
    "\n",
    "This section demonstrates the impacts that each of that the C2 Beacon and the C2 Server's commands cause on the observation space (OBS)."
   ]
  },
  {
   "cell_type": "markdown",
   "metadata": {},
   "source": [
    "#### **Command and Control** | OBS Impact | C2 Beacon | Installation & Configuration"
   ]
  },
  {
   "cell_type": "code",
   "execution_count": 22,
   "metadata": {},
   "outputs": [
    {
     "name": "stderr",
     "output_type": "stream",
     "text": [
      "2025-02-03 16:04:26,440: Resetting environment, episode 0, avg. reward: 0.0\n",
      "2025-02-03 16:04:26,445: Saving agent action log to /home/nick/primaite/4.0.0a1-dev/sessions/2025-02-03/16-04-20/agent_actions/episode_0.json\n"
     ]
    }
   ],
   "source": [
    "# Resetting the environment and capturing the default observation space.\n",
    "blue_env.reset()\n",
    "default_obs, _, _, _, _ = blue_env.step(0)"
   ]
  },
  {
   "cell_type": "code",
   "execution_count": 23,
   "metadata": {},
   "outputs": [
    {
     "data": {
      "text/plain": [
       "True"
      ]
     },
     "execution_count": 23,
     "metadata": {},
     "output_type": "execute_result"
    }
   ],
   "source": [
    "# Setting up the C2 Suite via the simulation API.\n",
    "\n",
    "client_1: Computer = blue_env.game.simulation.network.get_node_by_hostname(\"client_1\")\n",
    "web_server: Server = blue_env.game.simulation.network.get_node_by_hostname(\"web_server\")\n",
    "\n",
    "# Installing the C2 Server.\n",
    "client_1.software_manager.install(C2Server)\n",
    "c2_server: C2Server = client_1.software_manager.software[\"C2Server\"]\n",
    "c2_server.run()\n",
    "\n",
    "# Installing the C2 Beacon.\n",
    "web_server.software_manager.install(C2Beacon)\n",
    "c2_beacon: C2Beacon = web_server.software_manager.software[\"C2Beacon\"]\n",
    "c2_beacon.configure(c2_server_ip_address=\"192.168.10.21\")\n",
    "c2_beacon.establish()"
   ]
  },
  {
   "cell_type": "code",
   "execution_count": 24,
   "metadata": {},
   "outputs": [],
   "source": [
    "# Capturing the observation impacts of the previous code cell: C2 Suite setup.\n",
    "c2_configuration_obs, _, _, _, _ = blue_env.step(0)"
   ]
  },
  {
   "cell_type": "code",
   "execution_count": 25,
   "metadata": {},
   "outputs": [
    {
     "name": "stdout",
     "output_type": "stream",
     "text": [
      "\n",
      "Observation space differences\n",
      "-----------------------------\n",
      "Step 2\n",
      "root['NODES']['HOST0']['APPLICATIONS'][1]['operating_status']: 0 -> 1\n",
      "root['NODES']['HOST1']['NICS'][1]['TRAFFIC']['tcp'][21]['inbound']: 1 -> 0\n",
      "root['NODES']['HOST1']['NICS'][1]['TRAFFIC']['tcp'][21]['outbound']: 4 -> 0\n",
      "root['LINKS'][1]['PROTOCOLS']['ALL']: 1 -> 0\n",
      "root['LINKS'][5]['PROTOCOLS']['ALL']: 4 -> 0\n",
      "root['LINKS'][6]['PROTOCOLS']['ALL']: 4 -> 0\n"
     ]
    }
   ],
   "source": [
    "display_obs_diffs(default_obs, c2_configuration_obs, blue_env.game.step_counter)"
   ]
  },
  {
   "cell_type": "markdown",
   "metadata": {},
   "source": [
    "#### **Command and Control** | OBS Impact | C2 Server | Terminal Command\n",
    "\n",
    "Using the C2 Server's ``TERMINAL`` command it is possible to install a ``RansomwareScript`` application onto the C2 Beacon's host.\n",
    "\n",
    "The below code cells perform this as well as capturing the OBS impacts.\n",
    "\n",
    "It's important to note that the ``TERMINAL`` command is not limited to just installing software."
   ]
  },
  {
   "cell_type": "code",
   "execution_count": 26,
   "metadata": {},
   "outputs": [
    {
     "data": {
      "text/plain": [
       "RequestResponse(status='success', data={0: RequestResponse(status='success', data={})})"
      ]
     },
     "execution_count": 26,
     "metadata": {},
     "output_type": "execute_result"
    }
   ],
   "source": [
    "# Installing RansomwareScript via C2 Terminal Commands\n",
    "ransomware_install_command = {\"commands\":[[\"software_manager\", \"application\", \"install\", \"RansomwareScript\"]],\n",
    "                              \"username\": \"admin\",\n",
    "                              \"password\": \"admin\"}\n",
    "c2_server.send_command(C2Command.TERMINAL, command_options=ransomware_install_command)\n"
   ]
  },
  {
   "cell_type": "code",
   "execution_count": 27,
   "metadata": {},
   "outputs": [
    {
     "data": {
      "text/plain": [
       "RequestResponse(status='success', data={})"
      ]
     },
     "execution_count": 27,
     "metadata": {},
     "output_type": "execute_result"
    }
   ],
   "source": [
    "# Configuring the RansomwareScript\n",
    "ransomware_config = {\"server_ip_address\": \"192.168.1.14\", \"payload\": \"ENCRYPT\"}\n",
    "c2_server.send_command(C2Command.RANSOMWARE_CONFIGURE, command_options=ransomware_config)"
   ]
  },
  {
   "cell_type": "code",
   "execution_count": 28,
   "metadata": {},
   "outputs": [],
   "source": [
    "# Capturing the observation impacts of the previous code cell: Ransomware installation & configuration.\n",
    "c2_ransomware_obs, _, _, _, _ = blue_env.step(0)"
   ]
  },
  {
   "cell_type": "code",
   "execution_count": 29,
   "metadata": {},
   "outputs": [
    {
     "name": "stdout",
     "output_type": "stream",
     "text": [
      "\n",
      "Observation space differences\n",
      "-----------------------------\n",
      "Step 7\n",
      "root['NODES']['HOST0']['APPLICATIONS'][1]['operating_status']: 0 -> 1\n",
      "root['NODES']['HOST0']['APPLICATIONS'][2]['operating_status']: 0 -> 3\n",
      "root['NODES']['HOST0']['users']['local_login']: 0 -> 1\n",
      "root['NODES']['HOST1']['NICS'][1]['TRAFFIC']['tcp'][21]['inbound']: 1 -> 0\n",
      "root['NODES']['HOST1']['NICS'][1]['TRAFFIC']['tcp'][21]['outbound']: 4 -> 0\n",
      "root['LINKS'][1]['PROTOCOLS']['ALL']: 1 -> 0\n",
      "root['LINKS'][5]['PROTOCOLS']['ALL']: 4 -> 0\n",
      "root['LINKS'][6]['PROTOCOLS']['ALL']: 4 -> 0\n"
     ]
    }
   ],
   "source": [
    "display_obs_diffs(default_obs, c2_ransomware_obs, env.game.step_counter)"
   ]
  },
  {
   "cell_type": "markdown",
   "metadata": {},
   "source": [
    "#### **Command and Control** | OBS Impact | C2 Server | Data Exfiltration\n",
    "\n",
    "Before encrypting the database.db file, the ``DATA_EXFILTRATION`` command can be used to copy the database.db file onto both the C2 Server and the C2 Beacon's file systems:"
   ]
  },
  {
   "cell_type": "code",
   "execution_count": 30,
   "metadata": {},
   "outputs": [],
   "source": [
    "exfil_options={\n",
    "    \"username\": \"admin\",\n",
    "    \"password\": \"admin\",\n",
    "    \"target_ip_address\": \"192.168.1.14\",\n",
    "    \"target_folder_name\": \"database\",\n",
    "    \"exfiltration_folder_name\": \"exfiltration_folder\",\n",
    "    \"target_file_name\": \"database.db\",\n",
    "}"
   ]
  },
  {
   "cell_type": "code",
   "execution_count": 31,
   "metadata": {},
   "outputs": [
    {
     "data": {
      "text/plain": [
       "RequestResponse(status='success', data={})"
      ]
     },
     "execution_count": 31,
     "metadata": {},
     "output_type": "execute_result"
    }
   ],
   "source": [
    "c2_server.send_command(given_command=C2Command.DATA_EXFILTRATION, command_options=exfil_options)"
   ]
  },
  {
   "cell_type": "code",
   "execution_count": 32,
   "metadata": {},
   "outputs": [],
   "source": [
    "c2_exfil_obs, _, _, _, _ = blue_env.step(0)"
   ]
  },
  {
   "cell_type": "code",
   "execution_count": 33,
   "metadata": {},
   "outputs": [
    {
     "name": "stdout",
     "output_type": "stream",
     "text": [
      "\n",
      "Observation space differences\n",
      "-----------------------------\n",
      "Step 7\n",
      "root['NODES']['HOST0']['APPLICATIONS'][2]['operating_status']: 3 -> 1\n",
      "root['NODES']['HOST1']['users']['remote_sessions']: 0 -> 1\n"
     ]
    }
   ],
   "source": [
    "display_obs_diffs(c2_ransomware_obs, c2_exfil_obs, env.game.step_counter)"
   ]
  },
  {
   "cell_type": "markdown",
   "metadata": {},
   "source": [
    "#### **Command and Control** | OBS Impact | C2 Server | Ransomware Commands\n",
    "\n",
    "The code cell below demonstrates the differences between the ransomware script installation obs and the impact of RansomwareScript upon the database."
   ]
  },
  {
   "cell_type": "code",
   "execution_count": 34,
   "metadata": {},
   "outputs": [
    {
     "data": {
      "text/plain": [
       "RequestResponse(status='success', data={})"
      ]
     },
     "execution_count": 34,
     "metadata": {},
     "output_type": "execute_result"
    }
   ],
   "source": [
    "# Configuring the RansomwareScript\n",
    "ransomware_config = {\"server_ip_address\": \"192.168.1.14\", \"payload\": \"ENCRYPT\"}\n",
    "c2_server.send_command(C2Command.RANSOMWARE_CONFIGURE, command_options=ransomware_config)"
   ]
  },
  {
   "cell_type": "code",
   "execution_count": 35,
   "metadata": {},
   "outputs": [
    {
     "data": {
      "text/plain": [
       "RequestResponse(status='success', data={})"
      ]
     },
     "execution_count": 35,
     "metadata": {},
     "output_type": "execute_result"
    }
   ],
   "source": [
    "# Waiting for the ransomware to finish installing and then launching the RansomwareScript.\n",
    "blue_env.step(0)\n",
    "c2_server.send_command(C2Command.RANSOMWARE_LAUNCH, command_options={})"
   ]
  },
  {
   "cell_type": "code",
   "execution_count": 36,
   "metadata": {},
   "outputs": [],
   "source": [
    "# Capturing the observation impacts of the previous code cell: Launching the RansomwareScript.\n",
    "c2_final_obs, _, _, _, _ = blue_env.step(0)"
   ]
  },
  {
   "cell_type": "code",
   "execution_count": 37,
   "metadata": {},
   "outputs": [
    {
     "name": "stdout",
     "output_type": "stream",
     "text": [
      "\n",
      "Observation space differences\n",
      "-----------------------------\n",
      "Step 6\n",
      "root['NODES']['HOST0']['APPLICATIONS'][2]['operating_status']: 3 -> 1\n",
      "root['NODES']['HOST0']['NICS'][1]['TRAFFIC']['tcp'][80]['inbound']: 0 -> 1\n",
      "root['NODES']['HOST0']['NICS'][1]['TRAFFIC']['tcp'][80]['outbound']: 0 -> 1\n",
      "root['NODES']['HOST1']['users']['remote_sessions']: 0 -> 1\n",
      "root['NODES']['HOST2']['NICS'][1]['TRAFFIC']['tcp'][80]['inbound']: 0 -> 1\n",
      "root['NODES']['HOST2']['NICS'][1]['TRAFFIC']['tcp'][80]['outbound']: 0 -> 1\n",
      "root['LINKS'][1]['PROTOCOLS']['ALL']: 0 -> 1\n",
      "root['LINKS'][2]['PROTOCOLS']['ALL']: 0 -> 1\n",
      "root['LINKS'][4]['PROTOCOLS']['ALL']: 0 -> 1\n",
      "root['LINKS'][8]['PROTOCOLS']['ALL']: 0 -> 1\n"
     ]
    }
   ],
   "source": [
    "display_obs_diffs(c2_ransomware_obs, c2_final_obs, blue_env.game.step_counter)"
   ]
  },
  {
   "cell_type": "markdown",
   "metadata": {},
   "source": [
    "### **Command and Control** | Blue Agent Relevance | Action Space\n",
    "\n",
    "The next section of this notebook will go over some potential blue agent actions that could be use to thwart the previously demonstrated attack."
   ]
  },
  {
   "cell_type": "code",
   "execution_count": 38,
   "metadata": {},
   "outputs": [],
   "source": [
    "# This method is used to simplify setting up the C2Server and the C2 Beacon.\n",
    "def c2_setup(given_env: PrimaiteGymEnv):\n",
    "    client_1: Computer = given_env.game.simulation.network.get_node_by_hostname(\"client_1\")\n",
    "    web_server: Server = given_env.game.simulation.network.get_node_by_hostname(\"web_server\")\n",
    "\n",
    "    client_1.software_manager.install(C2Server)\n",
    "    c2_server: C2Server = client_1.software_manager.software[\"C2Server\"]\n",
    "    c2_server.run()\n",
    "\n",
    "    web_server.software_manager.install(C2Beacon)\n",
    "    c2_beacon: C2Beacon = web_server.software_manager.software[\"C2Beacon\"]\n",
    "    c2_beacon.configure(c2_server_ip_address=\"192.168.10.21\")\n",
    "    c2_beacon.establish()\n",
    "\n",
    "    return given_env, c2_server, c2_beacon, client_1, web_server"
   ]
  },
  {
   "cell_type": "markdown",
   "metadata": {},
   "source": [
    "#### Removing the C2 Beacon.\n",
    "\n",
    "The simplest way a blue agent could prevent the C2 suite is by simply removing the C2 beacon from it's installation point. "
   ]
  },
  {
   "cell_type": "code",
   "execution_count": 39,
   "metadata": {},
   "outputs": [
    {
     "name": "stderr",
     "output_type": "stream",
     "text": [
      "2025-02-03 16:04:27,571: Resetting environment, episode 1, avg. reward: 0.0\n",
      "2025-02-03 16:04:27,574: Saving agent action log to /home/nick/primaite/4.0.0a1-dev/sessions/2025-02-03/16-04-20/agent_actions/episode_1.json\n"
     ]
    },
    {
     "data": {
      "text/plain": [
       "({'NODES': {'HOST0': {'APPLICATIONS': {1: {'operating_status': 0,\n",
       "      'health_status': 0,\n",
       "      'num_executions': 0},\n",
       "     2: {'operating_status': 0, 'health_status': 0, 'num_executions': 0}},\n",
       "    'FOLDERS': {1: {'health_status': 0,\n",
       "      'FILES': {1: {'health_status': 0, 'num_access': 0}}}},\n",
       "    'NICS': {1: {'nic_status': 1,\n",
       "      'TRAFFIC': {'icmp': {'inbound': 0, 'outbound': 0},\n",
       "       'tcp': {80: {'inbound': 0, 'outbound': 0},\n",
       "        53: {'inbound': 0, 'outbound': 0},\n",
       "        21: {'inbound': 0, 'outbound': 0}}}}},\n",
       "    'num_file_creations': 1,\n",
       "    'num_file_deletions': 0,\n",
       "    'users': {'local_login': 0, 'remote_sessions': 0},\n",
       "    'operating_status': 1},\n",
       "   'HOST1': {'APPLICATIONS': {1: {'operating_status': 0,\n",
       "      'health_status': 0,\n",
       "      'num_executions': 0},\n",
       "     2: {'operating_status': 0, 'health_status': 0, 'num_executions': 0}},\n",
       "    'FOLDERS': {1: {'health_status': 0,\n",
       "      'FILES': {1: {'health_status': 0, 'num_access': 0}}}},\n",
       "    'NICS': {1: {'nic_status': 1,\n",
       "      'TRAFFIC': {'icmp': {'inbound': 0, 'outbound': 0},\n",
       "       'tcp': {80: {'inbound': 0, 'outbound': 0},\n",
       "        53: {'inbound': 0, 'outbound': 0},\n",
       "        21: {'inbound': 0, 'outbound': 0}}}}},\n",
       "    'num_file_creations': 1,\n",
       "    'num_file_deletions': 0,\n",
       "    'users': {'local_login': 0, 'remote_sessions': 0},\n",
       "    'operating_status': 1},\n",
       "   'HOST2': {'APPLICATIONS': {1: {'operating_status': 0,\n",
       "      'health_status': 0,\n",
       "      'num_executions': 0},\n",
       "     2: {'operating_status': 0, 'health_status': 0, 'num_executions': 0}},\n",
       "    'FOLDERS': {1: {'health_status': 0,\n",
       "      'FILES': {1: {'health_status': 0, 'num_access': 0}}}},\n",
       "    'NICS': {1: {'nic_status': 1,\n",
       "      'TRAFFIC': {'icmp': {'inbound': 0, 'outbound': 0},\n",
       "       'tcp': {80: {'inbound': 0, 'outbound': 0},\n",
       "        53: {'inbound': 0, 'outbound': 0},\n",
       "        21: {'inbound': 0, 'outbound': 0}}}}},\n",
       "    'num_file_creations': 0,\n",
       "    'num_file_deletions': 0,\n",
       "    'users': {'local_login': 0, 'remote_sessions': 0},\n",
       "    'operating_status': 1},\n",
       "   'HOST3': {'APPLICATIONS': {1: {'operating_status': 0,\n",
       "      'health_status': 0,\n",
       "      'num_executions': 0},\n",
       "     2: {'operating_status': 0, 'health_status': 0, 'num_executions': 0}},\n",
       "    'FOLDERS': {1: {'health_status': 0,\n",
       "      'FILES': {1: {'health_status': 0, 'num_access': 0}}}},\n",
       "    'NICS': {1: {'nic_status': 1,\n",
       "      'TRAFFIC': {'icmp': {'inbound': 0, 'outbound': 0},\n",
       "       'tcp': {80: {'inbound': 0, 'outbound': 0},\n",
       "        53: {'inbound': 0, 'outbound': 0},\n",
       "        21: {'inbound': 0, 'outbound': 0}}}}},\n",
       "    'num_file_creations': 0,\n",
       "    'num_file_deletions': 0,\n",
       "    'users': {'local_login': 0, 'remote_sessions': 0},\n",
       "    'operating_status': 1},\n",
       "   'ROUTER0': {'ACL': {1: {'position': 0,\n",
       "      'permission': 0,\n",
       "      'source_ip_id': 0,\n",
       "      'source_wildcard_id': 0,\n",
       "      'source_port_id': 0,\n",
       "      'dest_ip_id': 0,\n",
       "      'dest_wildcard_id': 0,\n",
       "      'dest_port_id': 0,\n",
       "      'protocol_id': 0},\n",
       "     2: {'position': 1,\n",
       "      'permission': 0,\n",
       "      'source_ip_id': 0,\n",
       "      'source_wildcard_id': 0,\n",
       "      'source_port_id': 0,\n",
       "      'dest_ip_id': 0,\n",
       "      'dest_wildcard_id': 0,\n",
       "      'dest_port_id': 0,\n",
       "      'protocol_id': 0},\n",
       "     3: {'position': 2,\n",
       "      'permission': 0,\n",
       "      'source_ip_id': 0,\n",
       "      'source_wildcard_id': 0,\n",
       "      'source_port_id': 0,\n",
       "      'dest_ip_id': 0,\n",
       "      'dest_wildcard_id': 0,\n",
       "      'dest_port_id': 0,\n",
       "      'protocol_id': 0},\n",
       "     4: {'position': 3,\n",
       "      'permission': 0,\n",
       "      'source_ip_id': 0,\n",
       "      'source_wildcard_id': 0,\n",
       "      'source_port_id': 0,\n",
       "      'dest_ip_id': 0,\n",
       "      'dest_wildcard_id': 0,\n",
       "      'dest_port_id': 0,\n",
       "      'protocol_id': 0},\n",
       "     5: {'position': 4,\n",
       "      'permission': 0,\n",
       "      'source_ip_id': 0,\n",
       "      'source_wildcard_id': 0,\n",
       "      'source_port_id': 0,\n",
       "      'dest_ip_id': 0,\n",
       "      'dest_wildcard_id': 0,\n",
       "      'dest_port_id': 0,\n",
       "      'protocol_id': 0},\n",
       "     6: {'position': 5,\n",
       "      'permission': 0,\n",
       "      'source_ip_id': 0,\n",
       "      'source_wildcard_id': 0,\n",
       "      'source_port_id': 0,\n",
       "      'dest_ip_id': 0,\n",
       "      'dest_wildcard_id': 0,\n",
       "      'dest_port_id': 0,\n",
       "      'protocol_id': 0},\n",
       "     7: {'position': 6,\n",
       "      'permission': 0,\n",
       "      'source_ip_id': 0,\n",
       "      'source_wildcard_id': 0,\n",
       "      'source_port_id': 0,\n",
       "      'dest_ip_id': 0,\n",
       "      'dest_wildcard_id': 0,\n",
       "      'dest_port_id': 0,\n",
       "      'protocol_id': 0},\n",
       "     8: {'position': 7,\n",
       "      'permission': 0,\n",
       "      'source_ip_id': 0,\n",
       "      'source_wildcard_id': 0,\n",
       "      'source_port_id': 0,\n",
       "      'dest_ip_id': 0,\n",
       "      'dest_wildcard_id': 0,\n",
       "      'dest_port_id': 0,\n",
       "      'protocol_id': 0},\n",
       "     9: {'position': 8,\n",
       "      'permission': 0,\n",
       "      'source_ip_id': 0,\n",
       "      'source_wildcard_id': 0,\n",
       "      'source_port_id': 0,\n",
       "      'dest_ip_id': 0,\n",
       "      'dest_wildcard_id': 0,\n",
       "      'dest_port_id': 0,\n",
       "      'protocol_id': 0},\n",
       "     10: {'position': 9,\n",
       "      'permission': 0,\n",
       "      'source_ip_id': 0,\n",
       "      'source_wildcard_id': 0,\n",
       "      'source_port_id': 0,\n",
       "      'dest_ip_id': 0,\n",
       "      'dest_wildcard_id': 0,\n",
       "      'dest_port_id': 0,\n",
       "      'protocol_id': 0}},\n",
       "    'PORTS': {1: {'operating_status': 1},\n",
       "     2: {'operating_status': 1},\n",
       "     3: {'operating_status': 2}},\n",
       "    'users': {'local_login': 0, 'remote_sessions': 0}}},\n",
       "  'LINKS': {1: {'PROTOCOLS': {'ALL': 1}},\n",
       "   2: {'PROTOCOLS': {'ALL': 1}},\n",
       "   3: {'PROTOCOLS': {'ALL': 0}},\n",
       "   4: {'PROTOCOLS': {'ALL': 1}},\n",
       "   5: {'PROTOCOLS': {'ALL': 1}},\n",
       "   6: {'PROTOCOLS': {'ALL': 1}},\n",
       "   7: {'PROTOCOLS': {'ALL': 1}},\n",
       "   8: {'PROTOCOLS': {'ALL': 1}},\n",
       "   9: {'PROTOCOLS': {'ALL': 1}},\n",
       "   10: {'PROTOCOLS': {'ALL': 0}}},\n",
       "  'ICS': 0},\n",
       " {})"
      ]
     },
     "execution_count": 39,
     "metadata": {},
     "output_type": "execute_result"
    }
   ],
   "source": [
    "blue_env.reset()"
   ]
  },
  {
   "cell_type": "code",
   "execution_count": 40,
   "metadata": {},
   "outputs": [],
   "source": [
    "# Setting up the C2 Suite using the c2_setup method & capturing the OBS impacts\n",
    "\n",
    "blue_env, c2_server, c2_beacon, client_1, web_server = c2_setup(given_env=blue_env)\n",
    "pre_blue_action_obs, _, _, _, _ = blue_env.step(0)"
   ]
  },
  {
   "cell_type": "markdown",
   "metadata": {},
   "source": [
    "The code cell below uses the custom blue agent defined at the start of this section perform a node_application_remove on the C2 beacon:"
   ]
  },
  {
   "cell_type": "code",
   "execution_count": 41,
   "metadata": {},
   "outputs": [],
   "source": [
    "# Using CAOS ACTION: node_application_remove & capturing the OBS\n",
    "post_blue_action_obs, _, _, _, _ = blue_env.step(1)"
   ]
  },
  {
   "cell_type": "markdown",
   "metadata": {},
   "source": [
    "Which we can see after the effects of after stepping another timestep and looking at the web_servers software manager and the OBS differences."
   ]
  },
  {
   "cell_type": "code",
   "execution_count": 42,
   "metadata": {},
   "outputs": [
    {
     "name": "stdout",
     "output_type": "stream",
     "text": [
      "+-------------------------------------------------------------------------------------+\n",
      "|                             web_server Software Manager                             |\n",
      "+--------------------+-------------+-----------------+--------------+------+----------+\n",
      "| Name               | Type        | Operating State | Health State | Port | Protocol |\n",
      "+--------------------+-------------+-----------------+--------------+------+----------+\n",
      "| ARP                | Service     | RUNNING         | GOOD         | 219  | udp      |\n",
      "| ICMP               | Service     | RUNNING         | GOOD         | None | icmp     |\n",
      "| DNSClient          | Service     | RUNNING         | GOOD         | 53   | tcp      |\n",
      "| NTPClient          | Service     | RUNNING         | GOOD         | 123  | udp      |\n",
      "| WebBrowser         | Application | RUNNING         | GOOD         | 80   | tcp      |\n",
      "| NMAP               | Application | RUNNING         | GOOD         | None | none     |\n",
      "| UserSessionManager | Service     | RUNNING         | GOOD         | None | none     |\n",
      "| UserManager        | Service     | RUNNING         | GOOD         | None | none     |\n",
      "| Terminal           | Service     | RUNNING         | GOOD         | 22   | tcp      |\n",
      "| WebServer          | Service     | RUNNING         | GOOD         | 80   | tcp      |\n",
      "| DatabaseClient     | Application | RUNNING         | GOOD         | 5432 | tcp      |\n",
      "+--------------------+-------------+-----------------+--------------+------+----------+\n"
     ]
    }
   ],
   "source": [
    "blue_env.step(0)\n",
    "web_server.software_manager.show()"
   ]
  },
  {
   "cell_type": "code",
   "execution_count": 43,
   "metadata": {},
   "outputs": [
    {
     "name": "stdout",
     "output_type": "stream",
     "text": [
      "\n",
      "Observation space differences\n",
      "-----------------------------\n",
      "Step 3\n",
      "root['NODES']['HOST0']['APPLICATIONS'][1]['operating_status']: 1 -> 0\n",
      "root['NODES']['HOST1']['NICS'][1]['TRAFFIC']['tcp'][21]['inbound']: 1 -> 0\n",
      "root['NODES']['HOST1']['NICS'][1]['TRAFFIC']['tcp'][21]['outbound']: 4 -> 0\n",
      "root['LINKS'][1]['PROTOCOLS']['ALL']: 1 -> 0\n",
      "root['LINKS'][5]['PROTOCOLS']['ALL']: 4 -> 0\n",
      "root['LINKS'][6]['PROTOCOLS']['ALL']: 4 -> 0\n"
     ]
    }
   ],
   "source": [
    "display_obs_diffs(pre_blue_action_obs, post_blue_action_obs, blue_env.game.step_counter)"
   ]
  },
  {
   "cell_type": "markdown",
   "metadata": {},
   "source": [
    "Now we are unable to do so as the C2 Server has lost its connection to the C2 Beacon:"
   ]
  },
  {
   "cell_type": "code",
   "execution_count": 44,
   "metadata": {},
   "outputs": [
    {
     "data": {
      "text/plain": [
       "RequestResponse(status='failure', data={'Reason': 'Command sent to the C2 Beacon but no response was ever received.'})"
      ]
     },
     "execution_count": 44,
     "metadata": {},
     "output_type": "execute_result"
    }
   ],
   "source": [
    "# Attempting to install the C2 RansomwareScript\n",
    "ransomware_install_command = {\"commands\":[[\"software_manager\", \"application\", \"install\", \"RansomwareScript\"]],\n",
    "                            \"username\": \"admin\",\n",
    "                            \"password\": \"admin\"}\n",
    "\n",
    "c2_server: C2Server = client_1.software_manager.software[\"C2Server\"]\n",
    "c2_server.send_command(C2Command.TERMINAL, command_options=ransomware_install_command)"
   ]
  },
  {
   "cell_type": "markdown",
   "metadata": {},
   "source": [
    "#### Shutting down the node infected with a C2 Beacon.\n",
    "\n",
    "Another way a blue agent can prevent the C2 suite is by shutting down the C2 beacon's host node. Whilst not as effective as the previous option, depending on the situation (such as multiple malicious applications) or other scenarios it may be more timestep efficient for a blue agent to shut down a node directly."
   ]
  },
  {
   "cell_type": "code",
   "execution_count": 45,
   "metadata": {},
   "outputs": [
    {
     "name": "stderr",
     "output_type": "stream",
     "text": [
      "2025-02-03 16:04:28,041: Resetting environment, episode 2, avg. reward: 0.0\n",
      "2025-02-03 16:04:28,045: Saving agent action log to /home/nick/primaite/4.0.0a1-dev/sessions/2025-02-03/16-04-20/agent_actions/episode_2.json\n"
     ]
    },
    {
     "data": {
      "text/plain": [
       "({'NODES': {'HOST0': {'APPLICATIONS': {1: {'operating_status': 0,\n",
       "      'health_status': 0,\n",
       "      'num_executions': 0},\n",
       "     2: {'operating_status': 0, 'health_status': 0, 'num_executions': 0}},\n",
       "    'FOLDERS': {1: {'health_status': 0,\n",
       "      'FILES': {1: {'health_status': 0, 'num_access': 0}}}},\n",
       "    'NICS': {1: {'nic_status': 1,\n",
       "      'TRAFFIC': {'icmp': {'inbound': 0, 'outbound': 0},\n",
       "       'tcp': {80: {'inbound': 0, 'outbound': 0},\n",
       "        53: {'inbound': 0, 'outbound': 0},\n",
       "        21: {'inbound': 0, 'outbound': 0}}}}},\n",
       "    'num_file_creations': 1,\n",
       "    'num_file_deletions': 0,\n",
       "    'users': {'local_login': 0, 'remote_sessions': 0},\n",
       "    'operating_status': 1},\n",
       "   'HOST1': {'APPLICATIONS': {1: {'operating_status': 0,\n",
       "      'health_status': 0,\n",
       "      'num_executions': 0},\n",
       "     2: {'operating_status': 0, 'health_status': 0, 'num_executions': 0}},\n",
       "    'FOLDERS': {1: {'health_status': 0,\n",
       "      'FILES': {1: {'health_status': 0, 'num_access': 0}}}},\n",
       "    'NICS': {1: {'nic_status': 1,\n",
       "      'TRAFFIC': {'icmp': {'inbound': 0, 'outbound': 0},\n",
       "       'tcp': {80: {'inbound': 0, 'outbound': 0},\n",
       "        53: {'inbound': 0, 'outbound': 0},\n",
       "        21: {'inbound': 0, 'outbound': 0}}}}},\n",
       "    'num_file_creations': 1,\n",
       "    'num_file_deletions': 0,\n",
       "    'users': {'local_login': 0, 'remote_sessions': 0},\n",
       "    'operating_status': 1},\n",
       "   'HOST2': {'APPLICATIONS': {1: {'operating_status': 0,\n",
       "      'health_status': 0,\n",
       "      'num_executions': 0},\n",
       "     2: {'operating_status': 0, 'health_status': 0, 'num_executions': 0}},\n",
       "    'FOLDERS': {1: {'health_status': 0,\n",
       "      'FILES': {1: {'health_status': 0, 'num_access': 0}}}},\n",
       "    'NICS': {1: {'nic_status': 1,\n",
       "      'TRAFFIC': {'icmp': {'inbound': 0, 'outbound': 0},\n",
       "       'tcp': {80: {'inbound': 0, 'outbound': 0},\n",
       "        53: {'inbound': 0, 'outbound': 0},\n",
       "        21: {'inbound': 0, 'outbound': 0}}}}},\n",
       "    'num_file_creations': 0,\n",
       "    'num_file_deletions': 0,\n",
       "    'users': {'local_login': 0, 'remote_sessions': 0},\n",
       "    'operating_status': 1},\n",
       "   'HOST3': {'APPLICATIONS': {1: {'operating_status': 0,\n",
       "      'health_status': 0,\n",
       "      'num_executions': 0},\n",
       "     2: {'operating_status': 0, 'health_status': 0, 'num_executions': 0}},\n",
       "    'FOLDERS': {1: {'health_status': 0,\n",
       "      'FILES': {1: {'health_status': 0, 'num_access': 0}}}},\n",
       "    'NICS': {1: {'nic_status': 1,\n",
       "      'TRAFFIC': {'icmp': {'inbound': 0, 'outbound': 0},\n",
       "       'tcp': {80: {'inbound': 0, 'outbound': 0},\n",
       "        53: {'inbound': 0, 'outbound': 0},\n",
       "        21: {'inbound': 0, 'outbound': 0}}}}},\n",
       "    'num_file_creations': 0,\n",
       "    'num_file_deletions': 0,\n",
       "    'users': {'local_login': 0, 'remote_sessions': 0},\n",
       "    'operating_status': 1},\n",
       "   'ROUTER0': {'ACL': {1: {'position': 0,\n",
       "      'permission': 0,\n",
       "      'source_ip_id': 0,\n",
       "      'source_wildcard_id': 0,\n",
       "      'source_port_id': 0,\n",
       "      'dest_ip_id': 0,\n",
       "      'dest_wildcard_id': 0,\n",
       "      'dest_port_id': 0,\n",
       "      'protocol_id': 0},\n",
       "     2: {'position': 1,\n",
       "      'permission': 0,\n",
       "      'source_ip_id': 0,\n",
       "      'source_wildcard_id': 0,\n",
       "      'source_port_id': 0,\n",
       "      'dest_ip_id': 0,\n",
       "      'dest_wildcard_id': 0,\n",
       "      'dest_port_id': 0,\n",
       "      'protocol_id': 0},\n",
       "     3: {'position': 2,\n",
       "      'permission': 0,\n",
       "      'source_ip_id': 0,\n",
       "      'source_wildcard_id': 0,\n",
       "      'source_port_id': 0,\n",
       "      'dest_ip_id': 0,\n",
       "      'dest_wildcard_id': 0,\n",
       "      'dest_port_id': 0,\n",
       "      'protocol_id': 0},\n",
       "     4: {'position': 3,\n",
       "      'permission': 0,\n",
       "      'source_ip_id': 0,\n",
       "      'source_wildcard_id': 0,\n",
       "      'source_port_id': 0,\n",
       "      'dest_ip_id': 0,\n",
       "      'dest_wildcard_id': 0,\n",
       "      'dest_port_id': 0,\n",
       "      'protocol_id': 0},\n",
       "     5: {'position': 4,\n",
       "      'permission': 0,\n",
       "      'source_ip_id': 0,\n",
       "      'source_wildcard_id': 0,\n",
       "      'source_port_id': 0,\n",
       "      'dest_ip_id': 0,\n",
       "      'dest_wildcard_id': 0,\n",
       "      'dest_port_id': 0,\n",
       "      'protocol_id': 0},\n",
       "     6: {'position': 5,\n",
       "      'permission': 0,\n",
       "      'source_ip_id': 0,\n",
       "      'source_wildcard_id': 0,\n",
       "      'source_port_id': 0,\n",
       "      'dest_ip_id': 0,\n",
       "      'dest_wildcard_id': 0,\n",
       "      'dest_port_id': 0,\n",
       "      'protocol_id': 0},\n",
       "     7: {'position': 6,\n",
       "      'permission': 0,\n",
       "      'source_ip_id': 0,\n",
       "      'source_wildcard_id': 0,\n",
       "      'source_port_id': 0,\n",
       "      'dest_ip_id': 0,\n",
       "      'dest_wildcard_id': 0,\n",
       "      'dest_port_id': 0,\n",
       "      'protocol_id': 0},\n",
       "     8: {'position': 7,\n",
       "      'permission': 0,\n",
       "      'source_ip_id': 0,\n",
       "      'source_wildcard_id': 0,\n",
       "      'source_port_id': 0,\n",
       "      'dest_ip_id': 0,\n",
       "      'dest_wildcard_id': 0,\n",
       "      'dest_port_id': 0,\n",
       "      'protocol_id': 0},\n",
       "     9: {'position': 8,\n",
       "      'permission': 0,\n",
       "      'source_ip_id': 0,\n",
       "      'source_wildcard_id': 0,\n",
       "      'source_port_id': 0,\n",
       "      'dest_ip_id': 0,\n",
       "      'dest_wildcard_id': 0,\n",
       "      'dest_port_id': 0,\n",
       "      'protocol_id': 0},\n",
       "     10: {'position': 9,\n",
       "      'permission': 0,\n",
       "      'source_ip_id': 0,\n",
       "      'source_wildcard_id': 0,\n",
       "      'source_port_id': 0,\n",
       "      'dest_ip_id': 0,\n",
       "      'dest_wildcard_id': 0,\n",
       "      'dest_port_id': 0,\n",
       "      'protocol_id': 0}},\n",
       "    'PORTS': {1: {'operating_status': 1},\n",
       "     2: {'operating_status': 1},\n",
       "     3: {'operating_status': 2}},\n",
       "    'users': {'local_login': 0, 'remote_sessions': 0}}},\n",
       "  'LINKS': {1: {'PROTOCOLS': {'ALL': 1}},\n",
       "   2: {'PROTOCOLS': {'ALL': 1}},\n",
       "   3: {'PROTOCOLS': {'ALL': 0}},\n",
       "   4: {'PROTOCOLS': {'ALL': 1}},\n",
       "   5: {'PROTOCOLS': {'ALL': 1}},\n",
       "   6: {'PROTOCOLS': {'ALL': 1}},\n",
       "   7: {'PROTOCOLS': {'ALL': 1}},\n",
       "   8: {'PROTOCOLS': {'ALL': 1}},\n",
       "   9: {'PROTOCOLS': {'ALL': 1}},\n",
       "   10: {'PROTOCOLS': {'ALL': 0}}},\n",
       "  'ICS': 0},\n",
       " {})"
      ]
     },
     "execution_count": 45,
     "metadata": {},
     "output_type": "execute_result"
    }
   ],
   "source": [
    "blue_env.reset()"
   ]
  },
  {
   "cell_type": "code",
   "execution_count": 46,
   "metadata": {},
   "outputs": [],
   "source": [
    "# Setting up the C2 Suite using the c2_setup method & capturing the OBS impacts\n",
    "\n",
    "blue_env, c2_server, c2_beacon, client_1, web_server = c2_setup(given_env=blue_env)\n",
    "pre_blue_action_obs, _, _, _, _ = blue_env.step(0)"
   ]
  },
  {
   "cell_type": "markdown",
   "metadata": {},
   "source": [
    "The code cell below uses the custom blue agent defined at the start of this section to perform a ``node_shut_down`` action on the web server."
   ]
  },
  {
   "cell_type": "code",
   "execution_count": 47,
   "metadata": {},
   "outputs": [],
   "source": [
    "# Using CAOS ACTION: node_shut_down & capturing the OBS\n",
    "post_blue_action_obs, _, _, _, _ = blue_env.step(2)"
   ]
  },
  {
   "cell_type": "markdown",
   "metadata": {},
   "source": [
    "Which we can see the effects of after another timestep and looking at the web server's operating state & the OBS differences."
   ]
  },
  {
   "cell_type": "code",
   "execution_count": 48,
   "metadata": {},
   "outputs": [
    {
     "name": "stdout",
     "output_type": "stream",
     "text": [
      "NodeOperatingState.SHUTTING_DOWN\n"
     ]
    }
   ],
   "source": [
    "web_server = blue_env.game.simulation.network.get_node_by_hostname(\"web_server\")\n",
    "print(web_server.operating_state)"
   ]
  },
  {
   "cell_type": "code",
   "execution_count": 49,
   "metadata": {},
   "outputs": [
    {
     "name": "stdout",
     "output_type": "stream",
     "text": [
      "\n",
      "Observation space differences\n",
      "-----------------------------\n",
      "Step 2\n",
      "root['NODES']['HOST0']['operating_status']: 1 -> 4\n",
      "root['NODES']['HOST0']['APPLICATIONS'][1]['operating_status']: 1 -> 0\n",
      "root['NODES']['HOST0']['NICS'][1]['nic_status']: 1 -> 0\n",
      "root['NODES']['HOST1']['NICS'][1]['TRAFFIC']['tcp'][21]['inbound']: 1 -> 0\n",
      "root['NODES']['HOST1']['NICS'][1]['TRAFFIC']['tcp'][21]['outbound']: 4 -> 0\n",
      "root['LINKS'][1]['PROTOCOLS']['ALL']: 1 -> 0\n",
      "root['LINKS'][5]['PROTOCOLS']['ALL']: 4 -> 0\n",
      "root['LINKS'][6]['PROTOCOLS']['ALL']: 4 -> 0\n"
     ]
    }
   ],
   "source": [
    "display_obs_diffs(pre_blue_action_obs, post_blue_action_obs, blue_env.game.step_counter)"
   ]
  },
  {
   "cell_type": "code",
   "execution_count": 50,
   "metadata": {},
   "outputs": [
    {
     "data": {
      "text/plain": [
       "RequestResponse(status='failure', data={'Reason': 'Command sent to the C2 Beacon but no response was ever received.'})"
      ]
     },
     "execution_count": 50,
     "metadata": {},
     "output_type": "execute_result"
    }
   ],
   "source": [
    "# Attempting to install the C2 RansomwareScript\n",
    "ransomware_install_command = {\"commands\":[\"software_manager\", \"application\", \"install\", \"RansomwareScript\"],\n",
    "                            \"username\": \"admin\",\n",
    "                            \"password\": \"admin\"}\n",
    "\n",
    "c2_server: C2Server = client_1.software_manager.software[\"C2Server\"]\n",
    "c2_server.send_command(C2Command.TERMINAL, command_options=ransomware_install_command)"
   ]
  },
  {
   "cell_type": "markdown",
   "metadata": {},
   "source": [
    "#### Blocking C2 Traffic via ACL.\n",
    "\n",
    "Another potential option a blue agent could take is by placing an ACL rule which blocks traffic between the C2 Server and C2 Beacon.\n",
    "\n",
    "It's worth noting the potential effectiveness of this approach is connected to the current green agent traffic on the network. For example, if there are multiple green agents using the C2 Beacon's host node then blocking all traffic would lead to a negative reward. The same applies for the previous example."
   ]
  },
  {
   "cell_type": "code",
   "execution_count": 51,
   "metadata": {},
   "outputs": [
    {
     "name": "stderr",
     "output_type": "stream",
     "text": [
      "2025-02-03 16:04:28,560: Resetting environment, episode 3, avg. reward: 0.0\n",
      "2025-02-03 16:04:28,564: Saving agent action log to /home/nick/primaite/4.0.0a1-dev/sessions/2025-02-03/16-04-20/agent_actions/episode_3.json\n"
     ]
    },
    {
     "data": {
      "text/plain": [
       "({'NODES': {'HOST0': {'APPLICATIONS': {1: {'operating_status': 0,\n",
       "      'health_status': 0,\n",
       "      'num_executions': 0},\n",
       "     2: {'operating_status': 0, 'health_status': 0, 'num_executions': 0}},\n",
       "    'FOLDERS': {1: {'health_status': 0,\n",
       "      'FILES': {1: {'health_status': 0, 'num_access': 0}}}},\n",
       "    'NICS': {1: {'nic_status': 1,\n",
       "      'TRAFFIC': {'icmp': {'inbound': 0, 'outbound': 0},\n",
       "       'tcp': {80: {'inbound': 0, 'outbound': 0},\n",
       "        53: {'inbound': 0, 'outbound': 0},\n",
       "        21: {'inbound': 0, 'outbound': 0}}}}},\n",
       "    'num_file_creations': 1,\n",
       "    'num_file_deletions': 0,\n",
       "    'users': {'local_login': 0, 'remote_sessions': 0},\n",
       "    'operating_status': 1},\n",
       "   'HOST1': {'APPLICATIONS': {1: {'operating_status': 0,\n",
       "      'health_status': 0,\n",
       "      'num_executions': 0},\n",
       "     2: {'operating_status': 0, 'health_status': 0, 'num_executions': 0}},\n",
       "    'FOLDERS': {1: {'health_status': 0,\n",
       "      'FILES': {1: {'health_status': 0, 'num_access': 0}}}},\n",
       "    'NICS': {1: {'nic_status': 1,\n",
       "      'TRAFFIC': {'icmp': {'inbound': 0, 'outbound': 0},\n",
       "       'tcp': {80: {'inbound': 0, 'outbound': 0},\n",
       "        53: {'inbound': 0, 'outbound': 0},\n",
       "        21: {'inbound': 0, 'outbound': 0}}}}},\n",
       "    'num_file_creations': 1,\n",
       "    'num_file_deletions': 0,\n",
       "    'users': {'local_login': 0, 'remote_sessions': 0},\n",
       "    'operating_status': 1},\n",
       "   'HOST2': {'APPLICATIONS': {1: {'operating_status': 0,\n",
       "      'health_status': 0,\n",
       "      'num_executions': 0},\n",
       "     2: {'operating_status': 0, 'health_status': 0, 'num_executions': 0}},\n",
       "    'FOLDERS': {1: {'health_status': 0,\n",
       "      'FILES': {1: {'health_status': 0, 'num_access': 0}}}},\n",
       "    'NICS': {1: {'nic_status': 1,\n",
       "      'TRAFFIC': {'icmp': {'inbound': 0, 'outbound': 0},\n",
       "       'tcp': {80: {'inbound': 0, 'outbound': 0},\n",
       "        53: {'inbound': 0, 'outbound': 0},\n",
       "        21: {'inbound': 0, 'outbound': 0}}}}},\n",
       "    'num_file_creations': 0,\n",
       "    'num_file_deletions': 0,\n",
       "    'users': {'local_login': 0, 'remote_sessions': 0},\n",
       "    'operating_status': 1},\n",
       "   'HOST3': {'APPLICATIONS': {1: {'operating_status': 0,\n",
       "      'health_status': 0,\n",
       "      'num_executions': 0},\n",
       "     2: {'operating_status': 0, 'health_status': 0, 'num_executions': 0}},\n",
       "    'FOLDERS': {1: {'health_status': 0,\n",
       "      'FILES': {1: {'health_status': 0, 'num_access': 0}}}},\n",
       "    'NICS': {1: {'nic_status': 1,\n",
       "      'TRAFFIC': {'icmp': {'inbound': 0, 'outbound': 0},\n",
       "       'tcp': {80: {'inbound': 0, 'outbound': 0},\n",
       "        53: {'inbound': 0, 'outbound': 0},\n",
       "        21: {'inbound': 0, 'outbound': 0}}}}},\n",
       "    'num_file_creations': 0,\n",
       "    'num_file_deletions': 0,\n",
       "    'users': {'local_login': 0, 'remote_sessions': 0},\n",
       "    'operating_status': 1},\n",
       "   'ROUTER0': {'ACL': {1: {'position': 0,\n",
       "      'permission': 0,\n",
       "      'source_ip_id': 0,\n",
       "      'source_wildcard_id': 0,\n",
       "      'source_port_id': 0,\n",
       "      'dest_ip_id': 0,\n",
       "      'dest_wildcard_id': 0,\n",
       "      'dest_port_id': 0,\n",
       "      'protocol_id': 0},\n",
       "     2: {'position': 1,\n",
       "      'permission': 0,\n",
       "      'source_ip_id': 0,\n",
       "      'source_wildcard_id': 0,\n",
       "      'source_port_id': 0,\n",
       "      'dest_ip_id': 0,\n",
       "      'dest_wildcard_id': 0,\n",
       "      'dest_port_id': 0,\n",
       "      'protocol_id': 0},\n",
       "     3: {'position': 2,\n",
       "      'permission': 0,\n",
       "      'source_ip_id': 0,\n",
       "      'source_wildcard_id': 0,\n",
       "      'source_port_id': 0,\n",
       "      'dest_ip_id': 0,\n",
       "      'dest_wildcard_id': 0,\n",
       "      'dest_port_id': 0,\n",
       "      'protocol_id': 0},\n",
       "     4: {'position': 3,\n",
       "      'permission': 0,\n",
       "      'source_ip_id': 0,\n",
       "      'source_wildcard_id': 0,\n",
       "      'source_port_id': 0,\n",
       "      'dest_ip_id': 0,\n",
       "      'dest_wildcard_id': 0,\n",
       "      'dest_port_id': 0,\n",
       "      'protocol_id': 0},\n",
       "     5: {'position': 4,\n",
       "      'permission': 0,\n",
       "      'source_ip_id': 0,\n",
       "      'source_wildcard_id': 0,\n",
       "      'source_port_id': 0,\n",
       "      'dest_ip_id': 0,\n",
       "      'dest_wildcard_id': 0,\n",
       "      'dest_port_id': 0,\n",
       "      'protocol_id': 0},\n",
       "     6: {'position': 5,\n",
       "      'permission': 0,\n",
       "      'source_ip_id': 0,\n",
       "      'source_wildcard_id': 0,\n",
       "      'source_port_id': 0,\n",
       "      'dest_ip_id': 0,\n",
       "      'dest_wildcard_id': 0,\n",
       "      'dest_port_id': 0,\n",
       "      'protocol_id': 0},\n",
       "     7: {'position': 6,\n",
       "      'permission': 0,\n",
       "      'source_ip_id': 0,\n",
       "      'source_wildcard_id': 0,\n",
       "      'source_port_id': 0,\n",
       "      'dest_ip_id': 0,\n",
       "      'dest_wildcard_id': 0,\n",
       "      'dest_port_id': 0,\n",
       "      'protocol_id': 0},\n",
       "     8: {'position': 7,\n",
       "      'permission': 0,\n",
       "      'source_ip_id': 0,\n",
       "      'source_wildcard_id': 0,\n",
       "      'source_port_id': 0,\n",
       "      'dest_ip_id': 0,\n",
       "      'dest_wildcard_id': 0,\n",
       "      'dest_port_id': 0,\n",
       "      'protocol_id': 0},\n",
       "     9: {'position': 8,\n",
       "      'permission': 0,\n",
       "      'source_ip_id': 0,\n",
       "      'source_wildcard_id': 0,\n",
       "      'source_port_id': 0,\n",
       "      'dest_ip_id': 0,\n",
       "      'dest_wildcard_id': 0,\n",
       "      'dest_port_id': 0,\n",
       "      'protocol_id': 0},\n",
       "     10: {'position': 9,\n",
       "      'permission': 0,\n",
       "      'source_ip_id': 0,\n",
       "      'source_wildcard_id': 0,\n",
       "      'source_port_id': 0,\n",
       "      'dest_ip_id': 0,\n",
       "      'dest_wildcard_id': 0,\n",
       "      'dest_port_id': 0,\n",
       "      'protocol_id': 0}},\n",
       "    'PORTS': {1: {'operating_status': 1},\n",
       "     2: {'operating_status': 1},\n",
       "     3: {'operating_status': 2}},\n",
       "    'users': {'local_login': 0, 'remote_sessions': 0}}},\n",
       "  'LINKS': {1: {'PROTOCOLS': {'ALL': 1}},\n",
       "   2: {'PROTOCOLS': {'ALL': 1}},\n",
       "   3: {'PROTOCOLS': {'ALL': 0}},\n",
       "   4: {'PROTOCOLS': {'ALL': 1}},\n",
       "   5: {'PROTOCOLS': {'ALL': 1}},\n",
       "   6: {'PROTOCOLS': {'ALL': 1}},\n",
       "   7: {'PROTOCOLS': {'ALL': 1}},\n",
       "   8: {'PROTOCOLS': {'ALL': 1}},\n",
       "   9: {'PROTOCOLS': {'ALL': 1}},\n",
       "   10: {'PROTOCOLS': {'ALL': 0}}},\n",
       "  'ICS': 0},\n",
       " {})"
      ]
     },
     "execution_count": 51,
     "metadata": {},
     "output_type": "execute_result"
    }
   ],
   "source": [
    "blue_env.reset()"
   ]
  },
  {
   "cell_type": "code",
   "execution_count": 52,
   "metadata": {},
   "outputs": [],
   "source": [
    "# Setting up the C2 Suite using the c2_setup method & capturing the OBS impacts\n",
    "\n",
    "blue_env, c2_server, c2_beacon, client_1, web_server = c2_setup(given_env=blue_env)\n",
    "pre_blue_action_obs, _, _, _, _ = blue_env.step(0)"
   ]
  },
  {
   "cell_type": "markdown",
   "metadata": {},
   "source": [
    "The code cell below uses the custom blue agent defined at the start of this section to perform a router_acl_add_rule on router 1."
   ]
  },
  {
   "cell_type": "code",
   "execution_count": 53,
   "metadata": {},
   "outputs": [],
   "source": [
    "# Using CAOS ACTION: router_acl_add_rule & capturing the OBS\n",
    "post_blue_action_obs, _, _, _, _ = blue_env.step(3)"
   ]
  },
  {
   "cell_type": "markdown",
   "metadata": {},
   "source": [
    "Which we can see the effects of after another timestep and looking at router 1's ACLs and the OBS differences."
   ]
  },
  {
   "cell_type": "code",
   "execution_count": 54,
   "metadata": {},
   "outputs": [
    {
     "name": "stdout",
     "output_type": "stream",
     "text": [
      "+---------------------------------------------------------------+\n",
      "|                  router_1 Network Interfaces                  |\n",
      "+------+-------------------+-----------------+-------+----------+\n",
      "| Port | MAC Address       | Address         | Speed | Status   |\n",
      "+------+-------------------+-----------------+-------+----------+\n",
      "| 1    | dd:6e:95:d4:3f:74 | 192.168.1.1/24  | 100.0 | Enabled  |\n",
      "| 2    | 8b:79:07:fc:69:2c | 192.168.10.1/24 | 100.0 | Enabled  |\n",
      "| 3    | 1f:fd:c4:ae:7a:00 | 127.0.0.1/8     | 100.0 | Disabled |\n",
      "| 4    | 7b:e3:bf:4b:76:e8 | 127.0.0.1/8     | 100.0 | Disabled |\n",
      "| 5    | 4f:37:b0:6b:5d:44 | 127.0.0.1/8     | 100.0 | Disabled |\n",
      "+------+-------------------+-----------------+-------+----------+\n",
      "+------------------------------------------------------------------------------------------------------------------------+\n",
      "|                                              router_1 Access Control List                                              |\n",
      "+-------+--------+----------+---------------+--------------+----------+--------------+--------------+----------+---------+\n",
      "| Index | Action | Protocol | Src IP        | Src Wildcard | Src Port | Dst IP       | Dst Wildcard | Dst Port | Matched |\n",
      "+-------+--------+----------+---------------+--------------+----------+--------------+--------------+----------+---------+\n",
      "| 1     | DENY   | ANY      | 192.168.10.21 | ANY          | 80       | 192.168.1.12 | ANY          | 80       | 0       |\n",
      "| 18    | PERMIT | ANY      | ANY           | ANY          | 5432     | ANY          | ANY          | 5432     | 0       |\n",
      "| 19    | PERMIT | ANY      | ANY           | ANY          | 53       | ANY          | ANY          | 53       | 0       |\n",
      "| 20    | PERMIT | ANY      | ANY           | ANY          | 21       | ANY          | ANY          | 21       | 0       |\n",
      "| 21    | PERMIT | ANY      | ANY           | ANY          | 80       | ANY          | ANY          | 80       | 4       |\n",
      "| 22    | PERMIT | ANY      | ANY           | ANY          | 219      | ANY          | ANY          | 219      | 10      |\n",
      "| 23    | PERMIT | icmp     | ANY           | ANY          | ANY      | ANY          | ANY          | ANY      | 0       |\n",
      "| 24    | DENY   | ANY      | ANY           | ANY          | ANY      | ANY          | ANY          | ANY      | 0       |\n",
      "+-------+--------+----------+---------------+--------------+----------+--------------+--------------+----------+---------+\n"
     ]
    }
   ],
   "source": [
    "router_1: Router = blue_env.game.simulation.network.get_node_by_hostname(\"router_1\")\n",
    "router_1.show()\n",
    "router_1.acl.show()"
   ]
  },
  {
   "cell_type": "markdown",
   "metadata": {},
   "source": [
    "Now we can see that the C2 applications are unable to maintain connection - thus being unable to execute correctly."
   ]
  },
  {
   "cell_type": "code",
   "execution_count": 55,
   "metadata": {},
   "outputs": [
    {
     "data": {
      "text/plain": [
       "RequestResponse(status='failure', data={'Reason': 'Command sent to the C2 Beacon but no response was ever received.'})"
      ]
     },
     "execution_count": 55,
     "metadata": {},
     "output_type": "execute_result"
    }
   ],
   "source": [
    "blue_env.step(0)\n",
    "\n",
    "# Attempting to install and execute the ransomware script\n",
    "c2_server.send_command(C2Command.TERMINAL, command_options=ransomware_install_command)\n",
    "c2_server.send_command(C2Command.RANSOMWARE_LAUNCH, command_options={})"
   ]
  },
  {
   "cell_type": "code",
   "execution_count": 56,
   "metadata": {},
   "outputs": [
    {
     "name": "stdout",
     "output_type": "stream",
     "text": [
      "+------------------------------------------------------------------------------------------------------------------------+\n",
      "|                                              router_1 Access Control List                                              |\n",
      "+-------+--------+----------+---------------+--------------+----------+--------------+--------------+----------+---------+\n",
      "| Index | Action | Protocol | Src IP        | Src Wildcard | Src Port | Dst IP       | Dst Wildcard | Dst Port | Matched |\n",
      "+-------+--------+----------+---------------+--------------+----------+--------------+--------------+----------+---------+\n",
      "| 1     | DENY   | ANY      | 192.168.10.21 | ANY          | 80       | 192.168.1.12 | ANY          | 80       | 2       |\n",
      "| 18    | PERMIT | ANY      | ANY           | ANY          | 5432     | ANY          | ANY          | 5432     | 0       |\n",
      "| 19    | PERMIT | ANY      | ANY           | ANY          | 53       | ANY          | ANY          | 53       | 0       |\n",
      "| 20    | PERMIT | ANY      | ANY           | ANY          | 21       | ANY          | ANY          | 21       | 0       |\n",
      "| 21    | PERMIT | ANY      | ANY           | ANY          | 80       | ANY          | ANY          | 80       | 4       |\n",
      "| 22    | PERMIT | ANY      | ANY           | ANY          | 219      | ANY          | ANY          | 219      | 10      |\n",
      "| 23    | PERMIT | icmp     | ANY           | ANY          | ANY      | ANY          | ANY          | ANY      | 0       |\n",
      "| 24    | DENY   | ANY      | ANY           | ANY          | ANY      | ANY          | ANY          | ANY      | 0       |\n",
      "+-------+--------+----------+---------------+--------------+----------+--------------+--------------+----------+---------+\n"
     ]
    }
   ],
   "source": [
    "router_1.acl.show()"
   ]
  },
  {
   "cell_type": "markdown",
   "metadata": {},
   "source": [
    "Because of the ACL rule the C2 beacon never received the ransomware installation and execute commands from the C2 server:"
   ]
  },
  {
   "cell_type": "code",
   "execution_count": 57,
   "metadata": {},
   "outputs": [
    {
     "name": "stdout",
     "output_type": "stream",
     "text": [
      "+-------------------------------------------------------------------------------------+\n",
      "|                             web_server Software Manager                             |\n",
      "+--------------------+-------------+-----------------+--------------+------+----------+\n",
      "| Name               | Type        | Operating State | Health State | Port | Protocol |\n",
      "+--------------------+-------------+-----------------+--------------+------+----------+\n",
      "| ARP                | Service     | RUNNING         | GOOD         | 219  | udp      |\n",
      "| ICMP               | Service     | RUNNING         | GOOD         | None | icmp     |\n",
      "| DNSClient          | Service     | RUNNING         | GOOD         | 53   | tcp      |\n",
      "| NTPClient          | Service     | RUNNING         | GOOD         | 123  | udp      |\n",
      "| WebBrowser         | Application | RUNNING         | GOOD         | 80   | tcp      |\n",
      "| NMAP               | Application | RUNNING         | GOOD         | None | none     |\n",
      "| UserSessionManager | Service     | RUNNING         | GOOD         | None | none     |\n",
      "| UserManager        | Service     | RUNNING         | GOOD         | None | none     |\n",
      "| Terminal           | Service     | RUNNING         | GOOD         | 22   | tcp      |\n",
      "| WebServer          | Service     | RUNNING         | GOOD         | 80   | tcp      |\n",
      "| DatabaseClient     | Application | RUNNING         | GOOD         | 5432 | tcp      |\n",
      "| C2Beacon           | Application | RUNNING         | GOOD         | None | tcp      |\n",
      "+--------------------+-------------+-----------------+--------------+------+----------+\n"
     ]
    }
   ],
   "source": [
    "web_server.software_manager.show()"
   ]
  },
  {
   "cell_type": "code",
   "execution_count": 58,
   "metadata": {},
   "outputs": [
    {
     "name": "stdout",
     "output_type": "stream",
     "text": [
      "+----------------------------------------------------------------------------------+\n",
      "|                           database_server File System                            |\n",
      "+----------------------+---------+---------------+-----------------------+---------+\n",
      "| File Path            | Size    | Health status | Visible health status | Deleted |\n",
      "+----------------------+---------+---------------+-----------------------+---------+\n",
      "| database/database.db | 4.77 MB | GOOD          | NONE                  | False   |\n",
      "| root                 | 0 B     | GOOD          | NONE                  | False   |\n",
      "+----------------------+---------+---------------+-----------------------+---------+\n"
     ]
    }
   ],
   "source": [
    "database_server: Server = blue_env.game.simulation.network.get_node_by_hostname(\"database_server\")\n",
    "database_server.software_manager.file_system.show(full=True)"
   ]
  },
  {
   "cell_type": "code",
   "execution_count": 59,
   "metadata": {},
   "outputs": [
    {
     "name": "stdout",
     "output_type": "stream",
     "text": [
      "\n",
      "Observation space differences\n",
      "-----------------------------\n",
      "Step 3\n",
      "root['NODES']['HOST1']['NICS'][1]['TRAFFIC']['tcp'][21]['inbound']: 1 -> 0\n",
      "root['NODES']['HOST1']['NICS'][1]['TRAFFIC']['tcp'][21]['outbound']: 4 -> 0\n",
      "root['NODES']['ROUTER0']['ACL'][1]['permission']: 0 -> 2\n",
      "root['NODES']['ROUTER0']['ACL'][1]['source_ip_id']: 0 -> 7\n",
      "root['NODES']['ROUTER0']['ACL'][1]['source_wildcard_id']: 0 -> 1\n",
      "root['NODES']['ROUTER0']['ACL'][1]['source_port_id']: 0 -> 2\n",
      "root['NODES']['ROUTER0']['ACL'][1]['dest_ip_id']: 0 -> 3\n",
      "root['NODES']['ROUTER0']['ACL'][1]['dest_wildcard_id']: 0 -> 1\n",
      "root['NODES']['ROUTER0']['ACL'][1]['dest_port_id']: 0 -> 2\n",
      "root['NODES']['ROUTER0']['ACL'][1]['protocol_id']: 0 -> 1\n",
      "root['LINKS'][1]['PROTOCOLS']['ALL']: 1 -> 0\n",
      "root['LINKS'][5]['PROTOCOLS']['ALL']: 4 -> 0\n",
      "root['LINKS'][6]['PROTOCOLS']['ALL']: 4 -> 0\n"
     ]
    }
   ],
   "source": [
    "display_obs_diffs(pre_blue_action_obs, post_blue_action_obs, blue_env.game.step_counter)"
   ]
  },
  {
   "cell_type": "markdown",
   "metadata": {},
   "source": [
    "## **Command and Control** | Configurability \n",
    "\n",
    "This section of the notebook demonstrates the C2 configuration options and their impact on the simulation layer and the game layer."
   ]
  },
  {
   "cell_type": "markdown",
   "metadata": {},
   "source": [
    "The table below is the currently offered C2 Beacon configuration options:\n",
    "\n",
    "|Configuration Option | Option Meaning                                                            |Default Option | Type    | _Optional_ |\n",
    "|---------------------|---------------------------------------------------------------------------|---------------|---------|------------|\n",
    "|c2_server_ip_address | The IP Address of the C2 Server. (The C2 Server must be running)          |_None_         |str (IP) | _No_       |\n",
    "|keep_alive_frequency | How often should the C2 Beacon confirm it's connection in timesteps.      |5              |Int      | _Yes_      |\n",
    "|masquerade_port      | What port should the C2 traffic use? (TCP or UDP)                         |TCP            |Str      | _Yes_      |\n",
    "|masquerade_protocol  | What protocol should the C2 traffic masquerade as? (HTTP, FTP or DNS)     |HTTP           |Str      | _Yes_      |\n",
    "\n",
    "The C2 Server currently does not offer any unique configuration options. The C2 Server aligns itself with the C2 Beacon's configuration options once connection is established."
   ]
  },
  {
   "cell_type": "markdown",
   "metadata": {},
   "source": [
    "As demonstrated earlier, red agents can use the ``configure_c2_beacon`` action to configure these settings mid episode through the configuration options:\n",
    "\n",
    "``` YAML\n",
    "...\n",
    "    action: configure_c2_beacon\n",
    "        options:\n",
    "        node_id: 0\n",
    "        config:\n",
    "            c2_server_ip_address: 192.168.10.21\n",
    "            keep_alive_frequency: 10\n",
    "            masquerade_protocol: TCP\n",
    "            masquerade_port: DNS\n",
    "```"
   ]
  },
  {
   "cell_type": "markdown",
   "metadata": {},
   "source": [
    "### **Command and Control** | Configurability | C2 Server IP Address\n",
    "\n",
    "As with a majority of client and server based application configurations in primaite, the remote IP of a server must be supplied.\n",
    "\n",
    "In the case of the C2 Beacon, the C2 Server's IP address must be supplied before the C2 beacon will be able to perform any other actions (including ``APPLICATION EXECUTE``).\n",
    "\n",
    "If the network contains multiple C2 Servers then it's also possible to switch to a different C2 server mid-episode which is demonstrated in the below code cells."
   ]
  },
  {
   "cell_type": "code",
   "execution_count": 60,
   "metadata": {},
   "outputs": [
    {
     "name": "stderr",
     "output_type": "stream",
     "text": [
      "2025-02-03 16:04:29,610: PrimaiteGymEnv RNG seed = None\n"
     ]
    }
   ],
   "source": [
    "with open(data_manipulation_config_path()) as f:\n",
    "    cfg = yaml.safe_load(f)\n",
    "    # removing all agents & adding the custom agent.\n",
    "    cfg['agents'] = {}\n",
    "    cfg['agents'] = c2_agent_yaml\n",
    "\n",
    "\n",
    "c2_config_env = PrimaiteGymEnv(env_config=cfg)"
   ]
  },
  {
   "cell_type": "markdown",
   "metadata": {},
   "source": [
    "Installing the C2 Server on both client 1 and client 2."
   ]
  },
  {
   "cell_type": "code",
   "execution_count": 61,
   "metadata": {},
   "outputs": [],
   "source": [
    "web_server: Server = c2_config_env.game.simulation.network.get_node_by_hostname(\"web_server\")\n",
    "web_server.software_manager.install(C2Beacon)\n",
    "c2_beacon: C2Beacon = web_server.software_manager.software[\"C2Beacon\"]\n",
    "\n",
    "client_1: Computer = c2_config_env.game.simulation.network.get_node_by_hostname(\"client_1\")\n",
    "client_1.software_manager.install(C2Server)\n",
    "c2_server_1: C2Server = client_1.software_manager.software[\"C2Server\"]\n",
    "c2_server_1.run()\n",
    "\n",
    "client_2: Computer = c2_config_env.game.simulation.network.get_node_by_hostname(\"client_2\")\n",
    "client_2.software_manager.install(C2Server)\n",
    "c2_server_2: C2Server = client_2.software_manager.software[\"C2Server\"]\n",
    "c2_server_2.run()"
   ]
  },
  {
   "cell_type": "markdown",
   "metadata": {},
   "source": [
    "Configuring the C2 Beacon to establish connection to the C2 Server on client_1 (192.168.10.21)"
   ]
  },
  {
   "cell_type": "code",
   "execution_count": 62,
   "metadata": {},
   "outputs": [
    {
     "name": "stdout",
     "output_type": "stream",
     "text": [
      "+----------------------------------------------------------------------------------------------------------------------------------------------------+\n",
      "|                                                              C2Beacon Running Status                                                               |\n",
      "+----------------------+----------------------+-----------------------+----------------------+-----------------------------+-------------------------+\n",
      "| C2 Connection Active | C2 Remote Connection | Keep Alive Inactivity | Keep Alive Frequency | Current Masquerade Protocol | Current Masquerade Port |\n",
      "+----------------------+----------------------+-----------------------+----------------------+-----------------------------+-------------------------+\n",
      "| False                | None                 | 0                     | 5                    | tcp                         | 80                      |\n",
      "+----------------------+----------------------+-----------------------+----------------------+-----------------------------+-------------------------+\n",
      "+-----------------------------------------------------------------------------------------------------+\n",
      "|                                       C2Server Running Status                                       |\n",
      "+----------------------+----------------------+-----------------------------+-------------------------+\n",
      "| C2 Connection Active | C2 Remote Connection | Current Masquerade Protocol | Current Masquerade Port |\n",
      "+----------------------+----------------------+-----------------------------+-------------------------+\n",
      "| False                | None                 | tcp                         | 80                      |\n",
      "+----------------------+----------------------+-----------------------------+-------------------------+\n"
     ]
    }
   ],
   "source": [
    "env.step(2) # Agent Action Equivalent to c2_beacon.configure(c2_server_ip_address=\"192.168.10.21\")\n",
    "env.step(3) # Agent action Equivalent to c2_beacon.establish()\n",
    "c2_beacon.show()\n",
    "c2_server_1.show()"
   ]
  },
  {
   "cell_type": "markdown",
   "metadata": {},
   "source": [
    "Now reconfiguring the C2 Beacon to establish connection to the C2 Server on client_2 (192.168.10.22)"
   ]
  },
  {
   "cell_type": "code",
   "execution_count": 63,
   "metadata": {},
   "outputs": [
    {
     "name": "stdout",
     "output_type": "stream",
     "text": [
      "+----------------------------------------------------------------------------------------------------------------------------------------------------+\n",
      "|                                                              C2Beacon Running Status                                                               |\n",
      "+----------------------+----------------------+-----------------------+----------------------+-----------------------------+-------------------------+\n",
      "| C2 Connection Active | C2 Remote Connection | Keep Alive Inactivity | Keep Alive Frequency | Current Masquerade Protocol | Current Masquerade Port |\n",
      "+----------------------+----------------------+-----------------------+----------------------+-----------------------------+-------------------------+\n",
      "| False                | None                 | 0                     | 5                    | tcp                         | 80                      |\n",
      "+----------------------+----------------------+-----------------------+----------------------+-----------------------------+-------------------------+\n",
      "+-----------------------------------------------------------------------------------------------------+\n",
      "|                                       C2Server Running Status                                       |\n",
      "+----------------------+----------------------+-----------------------------+-------------------------+\n",
      "| C2 Connection Active | C2 Remote Connection | Current Masquerade Protocol | Current Masquerade Port |\n",
      "+----------------------+----------------------+-----------------------------+-------------------------+\n",
      "| False                | None                 | tcp                         | 80                      |\n",
      "+----------------------+----------------------+-----------------------------+-------------------------+\n"
     ]
    }
   ],
   "source": [
    "env.step(9) # Equivalent of to c2_beacon.configure(c2_server_ip_address=\"192.168.10.22\")\n",
    "env.step(3)\n",
    "\n",
    "c2_beacon.show()\n",
    "c2_server_2.show()"
   ]
  },
  {
   "cell_type": "markdown",
   "metadata": {},
   "source": [
    "After six timesteps the client_1 server will recognise the C2 beacon's previous connection as dead and clear its connections. (This is dependent on the ``Keep Alive Frequency`` setting.)"
   ]
  },
  {
   "cell_type": "code",
   "execution_count": 64,
   "metadata": {},
   "outputs": [
    {
     "name": "stdout",
     "output_type": "stream",
     "text": [
      "+-----------------------------------------------------------------------------------------------------+\n",
      "|                                       C2Server Running Status                                       |\n",
      "+----------------------+----------------------+-----------------------------+-------------------------+\n",
      "| C2 Connection Active | C2 Remote Connection | Current Masquerade Protocol | Current Masquerade Port |\n",
      "+----------------------+----------------------+-----------------------------+-------------------------+\n",
      "| False                | None                 | tcp                         | 80                      |\n",
      "+----------------------+----------------------+-----------------------------+-------------------------+\n"
     ]
    }
   ],
   "source": [
    "for i in range(6):\n",
    "    env.step(0)\n",
    "\n",
    "c2_server_1.show()"
   ]
  },
  {
   "cell_type": "markdown",
   "metadata": {},
   "source": [
    "### **Command and Control** | Configurability | Keep Alive Frequency\n",
    "\n",
    "In order to confirm it's connection the  C2 Beacon will send out a ``Keep Alive`` to the C2 Server and receive a keep alive back. \n",
    "\n",
    "By default, this occurs every 5 timesteps. However, this setting can be configured to be much more infrequent or as frequent as every timestep. \n",
    "\n",
    "The next set of code cells below demonstrate the impact that this setting has on blue agent observation space."
   ]
  },
  {
   "cell_type": "code",
   "execution_count": 65,
   "metadata": {},
   "outputs": [
    {
     "name": "stderr",
     "output_type": "stream",
     "text": [
      "2025-02-03 16:04:30,011: PrimaiteGymEnv RNG seed = None\n"
     ]
    }
   ],
   "source": [
    "with open(data_manipulation_config_path()) as f:\n",
    "    cfg = yaml.safe_load(f)\n",
    "    # removing all agents & adding the custom agent.\n",
    "    cfg['agents'] = {}\n",
    "    cfg['agents'] = custom_blue\n",
    "    cfg['agents'][0]['observation_space']['options']['components'][0]['options']['num_ports'] = 3\n",
    "    cfg['agents'][0]['observation_space']['options']['components'][0]['options']['monitored_traffic'].update({\"tcp\": [\"HTTP\",\"FTP\"]})\n",
    "    cfg['agents'][0]['observation_space']['options']['components'][0]['options']['monitored_traffic'].update({\"udp\": [\"DNS\"]})\n",
    "\n",
    "blue_config_env = PrimaiteGymEnv(env_config=cfg)"
   ]
  },
  {
   "cell_type": "code",
   "execution_count": 66,
   "metadata": {},
   "outputs": [],
   "source": [
    "# Performing the usual c2 setup:\n",
    "blue_config_env, c2_server, c2_beacon, client_1, web_server = c2_setup(given_env=blue_config_env)\n",
    "\n",
    "# Flushing out the OBS impacts from setting up the C2 suite.\n",
    "blue_config_env.step(0)\n",
    "blue_config_env.step(0)\n",
    "\n",
    "# Capturing the 'default' obs (Post C2 installation and configuration):\n",
    "default_obs, _, _, _, _ = blue_config_env.step(0)"
   ]
  },
  {
   "cell_type": "markdown",
   "metadata": {},
   "source": [
    "The next code cells capture the obs impact of the default Keep Alive Frequency which is 5 timesteps:"
   ]
  },
  {
   "cell_type": "code",
   "execution_count": 67,
   "metadata": {},
   "outputs": [
    {
     "name": "stdout",
     "output_type": "stream",
     "text": [
      "+----------------------------------------------------------------------------------------------------------------------------------------------------+\n",
      "|                                                              C2Beacon Running Status                                                               |\n",
      "+----------------------+----------------------+-----------------------+----------------------+-----------------------------+-------------------------+\n",
      "| C2 Connection Active | C2 Remote Connection | Keep Alive Inactivity | Keep Alive Frequency | Current Masquerade Protocol | Current Masquerade Port |\n",
      "+----------------------+----------------------+-----------------------+----------------------+-----------------------------+-------------------------+\n",
      "| True                 | 192.168.10.21        | 0                     | 5                    | tcp                         | 80                      |\n",
      "+----------------------+----------------------+-----------------------+----------------------+-----------------------------+-------------------------+\n"
     ]
    }
   ],
   "source": [
    "c2_beacon.configure(c2_server_ip_address=\"192.168.10.21\")\n",
    "c2_beacon.establish()\n",
    "c2_beacon.show()"
   ]
  },
  {
   "cell_type": "markdown",
   "metadata": {},
   "source": [
    "The code cell below executes 10 timesteps and displays the differences between the default and the current timestep.\n",
    "\n",
    "You will notice that the only two timesteps displayed observation space differences. This is due to the C2 Suite confirming their connection through sending ``Keep Alive`` traffic across the network every 5 timesteps."
   ]
  },
  {
   "cell_type": "code",
   "execution_count": 68,
   "metadata": {},
   "outputs": [
    {
     "name": "stdout",
     "output_type": "stream",
     "text": [
      "\n",
      "Observation space differences\n",
      "-----------------------------\n",
      "Step 4\n",
      "\n",
      "Observation space differences\n",
      "-----------------------------\n",
      "Step 5\n",
      "\n",
      "Observation space differences\n",
      "-----------------------------\n",
      "Step 6\n",
      "\n",
      "Observation space differences\n",
      "-----------------------------\n",
      "Step 7\n",
      "\n",
      "Observation space differences\n",
      "-----------------------------\n",
      "Step 8\n",
      "root['NODES']['HOST0']['NICS'][1]['TRAFFIC']['tcp'][80]['inbound']: 0 -> 1\n",
      "root['NODES']['HOST0']['NICS'][1]['TRAFFIC']['tcp'][80]['outbound']: 0 -> 1\n",
      "root['NODES']['HOST2']['NICS'][1]['TRAFFIC']['tcp'][80]['inbound']: 0 -> 1\n",
      "root['NODES']['HOST2']['NICS'][1]['TRAFFIC']['tcp'][80]['outbound']: 0 -> 1\n",
      "root['LINKS'][1]['PROTOCOLS']['ALL']: 0 -> 1\n",
      "root['LINKS'][2]['PROTOCOLS']['ALL']: 0 -> 1\n",
      "root['LINKS'][4]['PROTOCOLS']['ALL']: 0 -> 1\n",
      "root['LINKS'][8]['PROTOCOLS']['ALL']: 0 -> 1\n",
      "\n",
      "Observation space differences\n",
      "-----------------------------\n",
      "Step 9\n",
      "\n",
      "Observation space differences\n",
      "-----------------------------\n",
      "Step 10\n",
      "\n",
      "Observation space differences\n",
      "-----------------------------\n",
      "Step 11\n",
      "\n",
      "Observation space differences\n",
      "-----------------------------\n",
      "Step 12\n",
      "\n",
      "Observation space differences\n",
      "-----------------------------\n",
      "Step 13\n",
      "root['NODES']['HOST0']['NICS'][1]['TRAFFIC']['tcp'][80]['inbound']: 0 -> 1\n",
      "root['NODES']['HOST0']['NICS'][1]['TRAFFIC']['tcp'][80]['outbound']: 0 -> 1\n",
      "root['NODES']['HOST2']['NICS'][1]['TRAFFIC']['tcp'][80]['inbound']: 0 -> 1\n",
      "root['NODES']['HOST2']['NICS'][1]['TRAFFIC']['tcp'][80]['outbound']: 0 -> 1\n",
      "root['LINKS'][1]['PROTOCOLS']['ALL']: 0 -> 1\n",
      "root['LINKS'][2]['PROTOCOLS']['ALL']: 0 -> 1\n",
      "root['LINKS'][4]['PROTOCOLS']['ALL']: 0 -> 1\n",
      "root['LINKS'][8]['PROTOCOLS']['ALL']: 0 -> 1\n"
     ]
    }
   ],
   "source": [
    "for i in range(10):\n",
    "    keep_alive_obs, _, _, _, _ = blue_config_env.step(0)\n",
    "    display_obs_diffs(default_obs, keep_alive_obs, blue_config_env.game.step_counter)"
   ]
  },
  {
   "cell_type": "markdown",
   "metadata": {},
   "source": [
    "Next, the code cells below configure the C2 Beacon to confirm connection on every timestep via changing the ``keep_alive_frequency`` to ``1``."
   ]
  },
  {
   "cell_type": "code",
   "execution_count": 69,
   "metadata": {},
   "outputs": [
    {
     "name": "stdout",
     "output_type": "stream",
     "text": [
      "+----------------------------------------------------------------------------------------------------------------------------------------------------+\n",
      "|                                                              C2Beacon Running Status                                                               |\n",
      "+----------------------+----------------------+-----------------------+----------------------+-----------------------------+-------------------------+\n",
      "| C2 Connection Active | C2 Remote Connection | Keep Alive Inactivity | Keep Alive Frequency | Current Masquerade Protocol | Current Masquerade Port |\n",
      "+----------------------+----------------------+-----------------------+----------------------+-----------------------------+-------------------------+\n",
      "| True                 | 192.168.10.21        | 0                     | 1                    | tcp                         | 80                      |\n",
      "+----------------------+----------------------+-----------------------+----------------------+-----------------------------+-------------------------+\n"
     ]
    }
   ],
   "source": [
    "c2_beacon.configure(c2_server_ip_address=\"192.168.10.21\", keep_alive_frequency=1)\n",
    "c2_beacon.establish()\n",
    "c2_beacon.show()"
   ]
  },
  {
   "cell_type": "markdown",
   "metadata": {},
   "source": [
    "Demonstrating that the observation impacts of the Keep Alive can be seen on every timestep:"
   ]
  },
  {
   "cell_type": "code",
   "execution_count": 70,
   "metadata": {},
   "outputs": [
    {
     "name": "stdout",
     "output_type": "stream",
     "text": [
      "\n",
      "Observation space differences\n",
      "-----------------------------\n",
      "Step 14\n",
      "root['NODES']['HOST0']['NICS'][1]['TRAFFIC']['tcp'][80]['inbound']: 0 -> 1\n",
      "root['NODES']['HOST0']['NICS'][1]['TRAFFIC']['tcp'][80]['outbound']: 0 -> 1\n",
      "root['NODES']['HOST2']['NICS'][1]['TRAFFIC']['tcp'][80]['inbound']: 0 -> 1\n",
      "root['NODES']['HOST2']['NICS'][1]['TRAFFIC']['tcp'][80]['outbound']: 0 -> 1\n",
      "root['LINKS'][1]['PROTOCOLS']['ALL']: 0 -> 1\n",
      "root['LINKS'][2]['PROTOCOLS']['ALL']: 0 -> 1\n",
      "root['LINKS'][4]['PROTOCOLS']['ALL']: 0 -> 1\n",
      "root['LINKS'][8]['PROTOCOLS']['ALL']: 0 -> 1\n",
      "\n",
      "Observation space differences\n",
      "-----------------------------\n",
      "Step 15\n",
      "root['NODES']['HOST0']['NICS'][1]['TRAFFIC']['tcp'][80]['inbound']: 0 -> 1\n",
      "root['NODES']['HOST0']['NICS'][1]['TRAFFIC']['tcp'][80]['outbound']: 0 -> 1\n",
      "root['NODES']['HOST2']['NICS'][1]['TRAFFIC']['tcp'][80]['inbound']: 0 -> 1\n",
      "root['NODES']['HOST2']['NICS'][1]['TRAFFIC']['tcp'][80]['outbound']: 0 -> 1\n",
      "root['LINKS'][1]['PROTOCOLS']['ALL']: 0 -> 1\n",
      "root['LINKS'][2]['PROTOCOLS']['ALL']: 0 -> 1\n",
      "root['LINKS'][4]['PROTOCOLS']['ALL']: 0 -> 1\n",
      "root['LINKS'][8]['PROTOCOLS']['ALL']: 0 -> 1\n"
     ]
    }
   ],
   "source": [
    "# Comparing the OBS of the default frequency to a timestep frequency of 1\n",
    "for i in range(2):\n",
    "    keep_alive_obs, _, _, _, _ = blue_config_env.step(0)\n",
    "    display_obs_diffs(default_obs, keep_alive_obs, blue_config_env.game.step_counter)"
   ]
  },
  {
   "cell_type": "markdown",
   "metadata": {},
   "source": [
    "Lastly, the keep_alive_frequency can also be used to configure the C2 Beacon to confirm connection less frequently. \n",
    "\n",
    "The code cells below demonstrate the impacts of changing the frequency rate to ``7`` timesteps."
   ]
  },
  {
   "cell_type": "code",
   "execution_count": 71,
   "metadata": {},
   "outputs": [
    {
     "name": "stdout",
     "output_type": "stream",
     "text": [
      "\n",
      "Observation space differences\n",
      "-----------------------------\n",
      "Step 16\n",
      "\n",
      "Observation space differences\n",
      "-----------------------------\n",
      "Step 17\n",
      "\n",
      "Observation space differences\n",
      "-----------------------------\n",
      "Step 18\n",
      "\n",
      "Observation space differences\n",
      "-----------------------------\n",
      "Step 19\n",
      "\n",
      "Observation space differences\n",
      "-----------------------------\n",
      "Step 20\n",
      "\n",
      "Observation space differences\n",
      "-----------------------------\n",
      "Step 21\n",
      "\n",
      "Observation space differences\n",
      "-----------------------------\n",
      "Step 22\n",
      "root['NODES']['HOST0']['NICS'][1]['TRAFFIC']['tcp'][80]['inbound']: 0 -> 1\n",
      "root['NODES']['HOST0']['NICS'][1]['TRAFFIC']['tcp'][80]['outbound']: 0 -> 1\n",
      "root['NODES']['HOST2']['NICS'][1]['TRAFFIC']['tcp'][80]['inbound']: 0 -> 1\n",
      "root['NODES']['HOST2']['NICS'][1]['TRAFFIC']['tcp'][80]['outbound']: 0 -> 1\n",
      "root['LINKS'][1]['PROTOCOLS']['ALL']: 0 -> 1\n",
      "root['LINKS'][2]['PROTOCOLS']['ALL']: 0 -> 1\n",
      "root['LINKS'][4]['PROTOCOLS']['ALL']: 0 -> 1\n",
      "root['LINKS'][8]['PROTOCOLS']['ALL']: 0 -> 1\n"
     ]
    }
   ],
   "source": [
    "c2_beacon.configure(c2_server_ip_address=\"192.168.10.21\", keep_alive_frequency=7)\n",
    "\n",
    "# Comparing the OBS of the default frequency to a timestep frequency of 7\n",
    "for i in range(7):\n",
    "    keep_alive_obs, _, _, _, _ = blue_config_env.step(0)\n",
    "    display_obs_diffs(default_obs, keep_alive_obs, blue_config_env.game.step_counter)"
   ]
  },
  {
   "cell_type": "markdown",
   "metadata": {},
   "source": [
    "### **Command and Control** | Configurability | Masquerade Port & Masquerade Protocol\n",
    "\n",
    "The final configurable options are ``Masquerade Port`` & ``Masquerade Protocol``. These options can be used to control the networking IP Protocol and Port the C2 traffic is currently using.\n",
    "\n",
    "In the real world, adversaries take defensive steps to reduce the chance that an installed C2 Beacon is discovered. One of the most commonly used methods is to masquerade C2 traffic as other commonly used networking protocols.\n",
    "\n",
    "In primAITE, red agents can begin to simulate stealth behaviour by configuring C2 traffic to use different protocols mid episode or between episodes.\n",
    "\n",
    "Currently, red agent actions support the following port and protocol options:\n",
    "\n",
    "| Supported Ports  | Supported Protocols |\n",
    "|------------------|---------------------|\n",
    "|``DNS``           | ``UDP``             |\n",
    "|``FTP``           | ``TCP``             |\n",
    "|``HTTP``          |                     |\n",
    "\n",
    "\n",
    "\n",
    "The next set of code cells will demonstrate the impact of this option from a blue agent perspective."
   ]
  },
  {
   "cell_type": "code",
   "execution_count": 72,
   "metadata": {},
   "outputs": [
    {
     "name": "stderr",
     "output_type": "stream",
     "text": [
      "2025-02-03 16:04:30,864: Resetting environment, episode 0, avg. reward: 0.0\n",
      "2025-02-03 16:04:30,867: Saving agent action log to /home/nick/primaite/4.0.0a1-dev/sessions/2025-02-03/16-04-20/agent_actions/episode_0.json\n"
     ]
    }
   ],
   "source": [
    "blue_config_env.reset()\n",
    "\n",
    "# Performing the usual c2 setup:\n",
    "blue_config_env, c2_server, c2_beacon, client_1, web_server = c2_setup(given_env=blue_config_env)\n",
    "\n",
    "blue_config_env.step(0)\n",
    "\n",
    "# Capturing the 'default' obs (Post C2 installation and configuration):\n",
    "default_obs, _, _, _, _ = blue_config_env.step(0)"
   ]
  },
  {
   "cell_type": "markdown",
   "metadata": {},
   "source": [
    "By default, the C2 suite will masquerade a Web Browser, meaning C2 Traffic will opt to use ``TCP`` and ``HTTP`` (Port 80):"
   ]
  },
  {
   "cell_type": "code",
   "execution_count": 73,
   "metadata": {},
   "outputs": [
    {
     "name": "stdout",
     "output_type": "stream",
     "text": [
      "\n",
      "Observation space differences\n",
      "-----------------------------\n",
      "Step 5\n",
      "root['NODES']['HOST0']['NICS'][1]['TRAFFIC']['tcp'][80]['inbound']: 0 -> 1\n",
      "root['NODES']['HOST0']['NICS'][1]['TRAFFIC']['tcp'][80]['outbound']: 0 -> 1\n",
      "root['NODES']['HOST2']['NICS'][1]['TRAFFIC']['tcp'][80]['inbound']: 0 -> 1\n",
      "root['NODES']['HOST2']['NICS'][1]['TRAFFIC']['tcp'][80]['outbound']: 0 -> 1\n",
      "root['LINKS'][1]['PROTOCOLS']['ALL']: 0 -> 1\n",
      "root['LINKS'][2]['PROTOCOLS']['ALL']: 0 -> 1\n",
      "root['LINKS'][4]['PROTOCOLS']['ALL']: 0 -> 1\n",
      "root['LINKS'][8]['PROTOCOLS']['ALL']: 0 -> 1\n"
     ]
    }
   ],
   "source": [
    "# Capturing default C2 Traffic\n",
    "for i in range(3):\n",
    "    tcp_c2_obs, _, _, _, _ = blue_config_env.step(0)\n",
    "\n",
    "display_obs_diffs(default_obs, tcp_c2_obs, blue_config_env.game.step_counter)"
   ]
  },
  {
   "cell_type": "markdown",
   "metadata": {},
   "source": [
    "However, C2 Beacon can be configured to use UDP (``Masquerade Protocol``) and we can also configure the C2 Beacon to use a different Port (``Masquerade Port``) for example ``DNS``.  "
   ]
  },
  {
   "cell_type": "code",
   "execution_count": 74,
   "metadata": {},
   "outputs": [
    {
     "name": "stdout",
     "output_type": "stream",
     "text": [
      "+----------------------------------------------------------------------------------------------------------------------------------------------------+\n",
      "|                                                              C2Beacon Running Status                                                               |\n",
      "+----------------------+----------------------+-----------------------+----------------------+-----------------------------+-------------------------+\n",
      "| C2 Connection Active | C2 Remote Connection | Keep Alive Inactivity | Keep Alive Frequency | Current Masquerade Protocol | Current Masquerade Port |\n",
      "+----------------------+----------------------+-----------------------+----------------------+-----------------------------+-------------------------+\n",
      "| True                 | 192.168.10.21        | 0                     | 5                    | udp                         | 53                      |\n",
      "+----------------------+----------------------+-----------------------+----------------------+-----------------------------+-------------------------+\n"
     ]
    }
   ],
   "source": [
    "from primaite.utils.validation.ip_protocol import PROTOCOL_LOOKUP\n",
    "from primaite.utils.validation.port import PORT_LOOKUP\n",
    "\n",
    "# As we're configuring via the PrimAITE API we need to pass the actual IPProtocol/Port (Agents leverage the simulation via the game layer and thus can pass strings).\n",
    "c2_beacon.configure(c2_server_ip_address=\"192.168.10.21\", masquerade_protocol=PROTOCOL_LOOKUP[\"UDP\"],  masquerade_port=PORT_LOOKUP[\"DNS\"])\n",
    "c2_beacon.establish()\n",
    "c2_beacon.show()"
   ]
  },
  {
   "cell_type": "code",
   "execution_count": 75,
   "metadata": {},
   "outputs": [
    {
     "name": "stdout",
     "output_type": "stream",
     "text": [
      "\n",
      "Observation space differences\n",
      "-----------------------------\n",
      "Step 10\n",
      "root['NODES']['HOST0']['NICS'][1]['TRAFFIC']['tcp'][80]['inbound']: 1 -> 0\n",
      "root['NODES']['HOST0']['NICS'][1]['TRAFFIC']['tcp'][80]['outbound']: 1 -> 0\n",
      "root['NODES']['HOST0']['NICS'][1]['TRAFFIC']['udp'][53]['inbound']: 0 -> 1\n",
      "root['NODES']['HOST0']['NICS'][1]['TRAFFIC']['udp'][53]['outbound']: 0 -> 1\n",
      "root['NODES']['HOST2']['NICS'][1]['TRAFFIC']['tcp'][80]['inbound']: 1 -> 0\n",
      "root['NODES']['HOST2']['NICS'][1]['TRAFFIC']['tcp'][80]['outbound']: 1 -> 0\n",
      "root['NODES']['HOST2']['NICS'][1]['TRAFFIC']['udp'][53]['inbound']: 0 -> 1\n",
      "root['NODES']['HOST2']['NICS'][1]['TRAFFIC']['udp'][53]['outbound']: 0 -> 1\n"
     ]
    }
   ],
   "source": [
    "# Capturing UDP C2 Traffic\n",
    "for i in range(5):\n",
    "    udp_c2_obs, _, _, _, _ = blue_config_env.step(0)\n",
    "\n",
    "display_obs_diffs(tcp_c2_obs, udp_c2_obs, blue_config_env.game.step_counter)"
   ]
  }
 ],
 "metadata": {
  "kernelspec": {
   "display_name": "Python 3 (ipykernel)",
   "language": "python",
   "name": "python3"
  },
  "language_info": {
   "codemirror_mode": {
    "name": "ipython",
    "version": 3
   },
   "file_extension": ".py",
   "mimetype": "text/x-python",
   "name": "python",
   "nbconvert_exporter": "python",
   "pygments_lexer": "ipython3",
   "version": "3.10.12"
  }
 },
 "nbformat": 4,
 "nbformat_minor": 2
}
