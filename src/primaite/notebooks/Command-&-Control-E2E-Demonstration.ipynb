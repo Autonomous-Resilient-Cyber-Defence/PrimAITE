{
 "cells": [
  {
   "cell_type": "markdown",
   "metadata": {},
   "source": [
    "# Command and Control Application Suite E2E Demonstration\n",
    "\n",
    "© Crown-owned copyright 2024, Defence Science and Technology Laboratory UK\n",
    "\n",
    "This notebook demonstrates the current implementation of the command and control (C2) server and beacon applications in primAITE."
   ]
  },
  {
   "cell_type": "code",
   "execution_count": null,
   "metadata": {},
   "outputs": [],
   "source": [
    "# Imports\n",
    "from primaite.config.load import data_manipulation_config_path\n",
    "from primaite.session.environment import PrimaiteGymEnv\n",
    "from primaite.game.agent.interface import AgentHistoryItem\n",
    "import yaml\n",
    "from pprint import pprint\n",
    "from primaite.simulator.network.container import Network\n",
    "from primaite.game.game import PrimaiteGame\n",
    "from primaite.simulator.system.applications.red_applications.c2.c2_beacon import C2Beacon\n",
    "from primaite.simulator.system.applications.red_applications.c2.c2_server import C2Server\n",
    "from primaite.simulator.system.applications.red_applications.c2.abstract_c2 import C2Command, C2Payload\n",
    "from primaite.simulator.system.applications.red_applications.ransomware_script import RansomwareScript\n",
    "from primaite.simulator.network.hardware.nodes.host.computer import Computer\n",
    "from primaite.simulator.network.hardware.nodes.host.server import Server"
   ]
  },
  {
   "cell_type": "markdown",
   "metadata": {},
   "source": [
    "## **Notebook Setup** | **Network Configuration:**\n",
    "\n",
    "This notebook uses the same network setup as UC2. Please refer to the main [UC2-E2E-Demo notebook for further reference](./Data-Manipulation-E2E-Demonstration.ipynb).\n",
    "\n",
    "However, this notebook will replaces with the red agent used in UC2 with a custom proxy red agent built for this notebook."
   ]
  },
  {
   "cell_type": "code",
   "execution_count": null,
   "metadata": {},
   "outputs": [],
   "source": [
    "custom_c2_agent = \"\"\"\n",
    "  - ref: CustomC2Agent\n",
    "    team: RED\n",
    "    type: ProxyAgent\n",
    "    observation_space: null\n",
    "    action_space:\n",
    "      action_list:\n",
    "        - type: DONOTHING\n",
    "        - type: NODE_APPLICATION_INSTALL\n",
    "        - type: NODE_APPLICATION_EXECUTE\n",
    "        - type: CONFIGURE_C2_BEACON\n",
    "        - type: C2_SERVER_RANSOMWARE_LAUNCH\n",
    "        - type: C2_SERVER_RANSOMWARE_CONFIGURE\n",
    "        - type: C2_SERVER_TERMINAL_COMMAND\n",
    "      options:\n",
    "        nodes:\n",
    "          - node_name: client_1\n",
    "            applications: \n",
    "              - application_name: C2Beacon\n",
    "          - node_name: domain_controller\n",
    "            applications: \n",
    "              - application_name: C2Server\n",
    "        max_folders_per_node: 1\n",
    "        max_files_per_folder: 1\n",
    "        max_services_per_node: 2\n",
    "        max_nics_per_node: 8\n",
    "        max_acl_rules: 10\n",
    "        ip_list:\n",
    "          - 192.168.1.10\n",
    "          - 192.168.1.14\n",
    "      action_map:\n",
    "        0:\n",
    "          action: DONOTHING\n",
    "          options: {}\n",
    "        1:\n",
    "          action: NODE_APPLICATION_INSTALL\n",
    "          options:\n",
    "            node_id: 0\n",
    "            application_name: C2Beacon\n",
    "        2:\n",
    "          action: CONFIGURE_C2_BEACON\n",
    "          options:\n",
    "            node_id: 0\n",
    "            config:\n",
    "              c2_server_ip_address: 192.168.1.10\n",
    "              keep_alive_frequency:\n",
    "              masquerade_protocol:\n",
    "              masquerade_port:\n",
    "        3:\n",
    "          action: NODE_APPLICATION_EXECUTE\n",
    "          options:\n",
    "            node_id: 0\n",
    "            application_id: 0  \n",
    "        4:\n",
    "          action: NODE_APPLICATION_INSTALL\n",
    "          options:\n",
    "            node_id: 0\n",
    "            application_name: RansomwareScript  \n",
    "        5:\n",
    "          action: C2_SERVER_RANSOMWARE_CONFIGURE\n",
    "          options:\n",
    "            node_id: 1\n",
    "            config:\n",
    "              server_ip_address: 192.168.1.14\n",
    "              payload: ENCRYPT\n",
    "        6:\n",
    "          action: C2_SERVER_RANSOMWARE_LAUNCH\n",
    "          options:\n",
    "            node_id: 1\n",
    "        7:\n",
    "          action: C2_SERVER_TERMINAL_COMMAND\n",
    "          options:\n",
    "            node_id: 1\n",
    "            application_id: 0   \n",
    "\n",
    "    reward_function:\n",
    "      reward_components:\n",
    "        - type: DUMMY\n",
    "\"\"\"\n",
    "c2_agent_yaml = yaml.safe_load(custom_c2_agent)"
   ]
  },
  {
   "cell_type": "code",
   "execution_count": null,
   "metadata": {},
   "outputs": [],
   "source": [
    "with open(data_manipulation_config_path()) as f:\n",
    "    cfg = yaml.safe_load(f)\n",
    "    # removing all agents & adding the custom agent.\n",
    "    cfg['agents'] = {}\n",
    "    cfg['agents'] = c2_agent_yaml\n",
    "    \n",
    "\n",
    "env = PrimaiteGymEnv(env_config=cfg)"
   ]
  },
  {
   "cell_type": "markdown",
   "metadata": {},
   "source": [
    "## **Notebook Setup** | Network Prerequisites\n",
    "\n",
    "Before the Red Agent is able to perform any C2 specific actions, the C2 Server needs to be installed and run before the episode begins.\n",
    "\n",
    "This is because higher fidelity environments (and the real-world) a C2 server would not be accessible by private network blue agent and the C2 Server would already be in place before the an adversary (Red Agent) before the narrative of the use case.\n",
    "\n",
    "The cells below installs and runs the C2 Server on the domain controller server directly via the simulation API."
   ]
  },
  {
   "cell_type": "code",
   "execution_count": null,
   "metadata": {},
   "outputs": [],
   "source": [
    "domain_controller: Server = env.game.simulation.network.get_node_by_hostname(\"domain_controller\")\n",
    "domain_controller.software_manager.install(C2Server)\n",
    "c2_server: C2Server = domain_controller.software_manager.software[\"C2Server\"]\n",
    "c2_server.run()\n",
    "domain_controller.software_manager.show()"
   ]
  },
  {
   "cell_type": "markdown",
   "metadata": {},
   "source": [
    "## **Command and Control** | C2 Beacon Actions\n",
    "\n",
    "Before the Red Agent is able to perform any C2 Server commands, it must first establish connection with a C2 beacon.\n",
    "\n",
    "This can be done by installing, configuring and then executing a C2 Beacon. "
   ]
  },
  {
   "cell_type": "code",
   "execution_count": null,
   "metadata": {},
   "outputs": [],
   "source": [
    "c2_red_agent = env.game.agents[\"CustomC2Agent\"]\n",
    "client_1: Computer = env.game.simulation.network.get_node_by_hostname(\"client_1\")\n"
   ]
  },
  {
   "cell_type": "markdown",
   "metadata": {},
   "source": [
    "### **Command and Control** | C2 Beacon Actions | Installation"
   ]
  },
  {
   "cell_type": "code",
   "execution_count": null,
   "metadata": {},
   "outputs": [],
   "source": [
    "env.step(1)\n",
    "client_1.software_manager.show()\n",
    "c2_beacon: C2Beacon = client_1.software_manager.software[\"C2Beacon\"]"
   ]
  },
  {
   "cell_type": "markdown",
   "metadata": {},
   "source": [
    "### **Command and Control** | C2 Beacon Actions | Configuration"
   ]
  },
  {
   "cell_type": "code",
   "execution_count": null,
   "metadata": {},
   "outputs": [],
   "source": [
    "env.step(2)\n",
    "c2_beacon.show()"
   ]
  },
  {
   "cell_type": "markdown",
   "metadata": {},
   "source": [
    "### **Command and Control** | C2 Beacon Actions | Establishing Connection"
   ]
  },
  {
   "cell_type": "code",
   "execution_count": null,
   "metadata": {},
   "outputs": [],
   "source": [
    "env.step(3)"
   ]
  },
  {
   "cell_type": "code",
   "execution_count": null,
   "metadata": {},
   "outputs": [],
   "source": [
    "c2_beacon.show()\n",
    "c2_server.show()"
   ]
  },
  {
   "cell_type": "markdown",
   "metadata": {},
   "source": [
    "## **Command and Control** | C2 Server Actions"
   ]
  },
  {
   "cell_type": "markdown",
   "metadata": {},
   "source": [
    "### **Command and Control** | C2 Server Actions | Configuring Ransomware"
   ]
  },
  {
   "cell_type": "code",
   "execution_count": null,
   "metadata": {},
   "outputs": [],
   "source": [
    "env.step(4)"
   ]
  },
  {
   "cell_type": "code",
   "execution_count": null,
   "metadata": {},
   "outputs": [],
   "source": [
    "env.step(5)"
   ]
  },
  {
   "cell_type": "code",
   "execution_count": null,
   "metadata": {},
   "outputs": [],
   "source": [
    "ransomware_script: RansomwareScript = client_1.software_manager.software[\"RansomwareScript\"]\n",
    "client_1.software_manager.show()\n",
    "ransomware_script.show()"
   ]
  },
  {
   "cell_type": "markdown",
   "metadata": {},
   "source": [
    "### **Command and Control** | C2 Server Actions | Launching Ransomware"
   ]
  },
  {
   "cell_type": "code",
   "execution_count": null,
   "metadata": {},
   "outputs": [],
   "source": [
    "env.step(6)"
   ]
  },
  {
   "cell_type": "code",
   "execution_count": null,
   "metadata": {},
   "outputs": [],
   "source": [
    "database_server: Server = env.game.simulation.network.get_node_by_hostname(\"database_server\")\n",
    "database_server.software_manager.file_system.show(full=True)"
   ]
  },
  {
   "cell_type": "markdown",
   "metadata": {},
   "source": [
    "### **Command and Control** | C2 Server Actions | Executing Terminal Commands"
   ]
  },
  {
   "cell_type": "code",
   "execution_count": null,
   "metadata": {},
   "outputs": [],
   "source": [
    "# TODO: Post Terminal.\n",
    "#env.step(7)"
   ]
  }
 ],
 "metadata": {
  "kernelspec": {
   "display_name": "venv",
   "language": "python",
   "name": "python3"
  },
  "language_info": {
   "codemirror_mode": {
    "name": "ipython",
    "version": 3
   },
   "file_extension": ".py",
   "mimetype": "text/x-python",
   "name": "python",
   "nbconvert_exporter": "python",
   "pygments_lexer": "ipython3",
   "version": "3.10.8"
  }
 },
 "nbformat": 4,
 "nbformat_minor": 2
}
