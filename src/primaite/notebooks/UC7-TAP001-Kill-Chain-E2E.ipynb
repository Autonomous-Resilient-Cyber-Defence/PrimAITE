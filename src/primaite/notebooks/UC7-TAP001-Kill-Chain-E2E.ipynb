{
 "cells": [
  {
   "cell_type": "markdown",
   "metadata": {},
   "source": [
    "# TAP001 - Mobile Malware Kill Chain\n",
    "\n",
    "© Crown-owned copyright 2025, Defence Science and Technology Laboratory UK\n",
    "\n",
    "**Threat Actor Profile (TAP):** 001 <br/>\n",
    "**Kill Chain**: Mobile Malware - Ransomware Script Variant\n",
    "\n",
    "This notebook demonstrates the new threat actor profile (TAP) on the UC7 network infrastructure. In this scenario, a `some_tech` employee within the development project network plugs in his personal device. Whilst browsing, they encounter a ransomware virus which moves onto the host machine thus triggering the malware! \n",
    "\n",
    "\n",
    "This malware variant targets the database service's file directly, rather than the disrupting the service, hence why in this scenario the `data-service` is still functional after becoming corrupted.\n",
    "\n",
    "This new red agent intends to introduce more realistic impacts to the observation space, such as files created/removed and applications installing mid-episode whilst still providing the configurability needed for effective blue agent training."
   ]
  },
  {
   "cell_type": "code",
   "execution_count": null,
   "metadata": {},
   "outputs": [],
   "source": [
    "!primaite setup"
   ]
  },
  {
   "cell_type": "code",
   "execution_count": null,
   "metadata": {},
   "outputs": [],
   "source": [
    "# Importing the necessary PrimAITE libraries\n",
    "from primaite.session.environment import PrimaiteGymEnv\n",
    "import yaml\n",
    "from primaite.game.agent.scripted_agents.TAP001 import TAP001, MobileMalwareKillChain\n",
    "from primaite.config.load import load, _EXAMPLE_CFG\n",
    "from deepdiff.diff import DeepDiff"
   ]
  },
  {
   "cell_type": "code",
   "execution_count": null,
   "metadata": {},
   "outputs": [],
   "source": [
    "# Utility functions\n",
    "\n",
    "def display_obs_diffs(old, new, step_counter):\n",
    "    \"\"\"\n",
    "    Use DeepDiff to extract and display differences in old and new instances of\n",
    "    the observation space.\n",
    "\n",
    "    :param old: observation space instance.\n",
    "    :param new: observation space instance.\n",
    "    :param step_counter: current step counter.\n",
    "    \"\"\"\n",
    "    print(\"\\nObservation space differences\")\n",
    "    print(\"-----------------------------\")\n",
    "    diff = DeepDiff(old, new)\n",
    "    print(f\"Step {step_counter}\")\n",
    "    for d,v in diff.get('values_changed', {}).items():\n",
    "        print(f\"{d}: {v['old_value']} -> {v['new_value']}\")\n",
    "\n"
   ]
  },
  {
   "cell_type": "markdown",
   "metadata": {},
   "source": [
    "### **Notebook Sections:**\n",
    "1. Notebook Intro\n",
    "2. Notebook Setup\n",
    "3. Initial States\n",
    "4. Attack Trigger\n",
    "5. Post Attack States\n",
    "6. Configurations"
   ]
  },
  {
   "cell_type": "markdown",
   "metadata": {},
   "source": [
    "### **Notebook Intro** | **TAP001 - Mobile Malware Kill Chain** \n",
    "\n",
    "The TAP001 kill chain is comprised of 6 different stages. <br> The table below describes the impact of the current TAP001 implementation as well as the attack stage order.\n",
    "\n",
    "_DOWNLOAD_\n",
    "\n",
    "|Index|Attack Stage|OBS Impact|Narrative|\n",
    "|-----|------------|----------|---------|\n",
    "|1|Download|**Starting Host** HOST:num_file_creations: HOST:FOLDER:FILES:* |The employee encounters a malicious payload through web browsing on his mobile phone, often disguised as legitimate content.|\n",
    "\n",
    "_INSTALL_\n",
    "\n",
    "|Index|Attack Stage|OBS Impact|Narrative|\n",
    "|-----|------------|----------|---------|\n",
    "|2|Install | **Starting Host** HOST:FOLDER:FILES:num_access:|The malware is activated, either by the employee opening the file or automatically upon download, initiating its malicious functions.|\n",
    "\n",
    "_ACTIVATE_\n",
    "\n",
    "|Index|Attack Stage|OBS Impact|Narrative|\n",
    "|-----|------------|----------|---------|\n",
    "|3|Activate | **Starting Host** HOST:APPLICATION:operating_status|The malware installs itself on the terminal, often seeking to gain persistence by embedding itself into system processes or startup routines.|\n",
    "\n",
    "_PROPAGATE_\n",
    "\n",
    "|Index|Attack Stage|OBS Impact|Narrative|\n",
    "|-----|------------|----------|---------|\n",
    "|4|Propagate| **Multiple Hosts** HOST:NICS:NIC:TRAFFIC:PROTOCOL:PORT:*|The malware attempts to spread to other systems or networks, looking for vulnerable services.|\n",
    "\n",
    "_COMMAND_AND_CONTROL_\n",
    "\n",
    "|Index|Attack Stage|OBS Impact|Narrative|\n",
    "|-----|------------|----------|---------|\n",
    "|5|Command and Control|**Starting Host** HOST:NICS:NIC:TRAFFIC:PROTOCOL:PORT:* HOST:APPLICATIONS:APPLICATION:*|The malware establishes a connection to an external command and control (C&C) server, receiving instructions and possibly exfiltrating data.|\n",
    "\n",
    "_PAYLOAD_\n",
    "\n",
    "|Index|Attack Stage|OBS Impact|Narrative|\n",
    "|-----|------------|----------|---------|\n",
    "|6A|Corruption| **Target Host** HOST:FOLDERS:FOLDER:FILES:FILE:num_access HOST:num_file_creations  HOST:num_file_deletions  HOST:FOLDERS:FOLDER:FILES:FILE:health_status | The attacker configures the ransomware script to target the IP address of the discovered database, then it performs its intended malicious activities, allowing it to corrupt the Database whilst leaving the database service operable|\n",
    "|6B|Exfiltration| **Starting Host** HOST:FOLDER:FILES:FILE HOST:NICS:NIC:TRAFFIC:PROTOCOL:PORT:* HOST:APPLICATIONS:APPLICATION:* | The attacker remotely logins into the target host and exfiltrates the database.db file onto the starting host which then relays this file back to the C2 Server.|\n",
    "\n"
   ]
  },
  {
   "cell_type": "markdown",
   "metadata": {},
   "source": [
    "## **Notebook Setup** | **Network Configuration:**\n",
    "\n",
    "This notebook uses the same network setup as UC7. Please refer to the main [UC7-E2E-Demo notebook for further reference](./UC7-E2E-Demo.ipynb)."
   ]
  },
  {
   "cell_type": "markdown",
   "metadata": {},
   "source": [
    "<p align=\"center\">\n",
    "    <a href=\"./_package_data/uc7/uc7_tap001/uc7_tap001_main.png\" target=\"_blank\">\n",
    "        <img src=\"./_package_data/uc7/uc7_tap001/uc7_tap001_main.png\" alt=\"Image\" style=\"width:1000px;\">\n",
    "    </a>  \n",
    "    \n",
    "</p>\n",
    "<p style=\"text-align: center;\"> TAP001 Mobile Malware Kill Chain Demonstration - Ransomware Variant</p>\n",
    "\n",
    "_(Click to enlarge)_"
   ]
  },
  {
   "cell_type": "code",
   "execution_count": null,
   "metadata": {},
   "outputs": [],
   "source": [
    "with open(_EXAMPLE_CFG/\"uc7_config.yaml\", mode=\"r\") as uc7_config:\n",
    "    cfg = yaml.safe_load(uc7_config)\n",
    "    cfg[\"agents\"][33][\"agent_settings\"][\"flatten_obs\"] = False\n",
    "    cfg['io_settings']['save_sys_logs'] = True # Saving syslogs\n",
    "    cfg['io_settings']['save_agent_actions'] = True # Saving attacker logs\n",
    "env = PrimaiteGymEnv(env_config=cfg)\n",
    "env.game.simulation.network.show()"
   ]
  },
  {
   "cell_type": "markdown",
   "metadata": {},
   "source": [
    "### **Notebook Setup** | Instantiating Relevant Simulation Objects\n",
    "\n",
    "Simulation objects can be instantiated and called independently of agents via the environment.game.simulation (PrimAITE API) which is useful for demonstrating the simulation state at different points within an episode.\n",
    "\n",
    "Any readers unfamiliar with the UC7 scenario should refer to the [main UC7 notebook for further details](./UC7-E2E-Demo.ipynb)"
   ]
  },
  {
   "cell_type": "code",
   "execution_count": null,
   "metadata": {},
   "outputs": [],
   "source": [
    "env.reset() # resetting the environment\n",
    "# The TAP001 Agent\n",
    "tap001 = env.game.agents.get(\"attacker\")\n",
    "# A potential starting client\n",
    "starting_host = env.game.simulation.network.get_node_by_hostname('ST_PROJ-A-PRV-PC-1')\n",
    "\n",
    "# The database server which acts as the initial target of the ransomware kill-chain\n",
    "database_server = env.game.simulation.network.get_node_by_hostname('ST_DATA-PRV-SRV-DB')"
   ]
  },
  {
   "cell_type": "markdown",
   "metadata": {},
   "source": [
    "## **Prior To Attack** | Initial States:"
   ]
  },
  {
   "cell_type": "markdown",
   "metadata": {},
   "source": [
    "The first section of this notebook displays the relevant initial `observation_space` (OBS) of effected nodes before the attack takes place."
   ]
  },
  {
   "cell_type": "markdown",
   "metadata": {},
   "source": [
    "#### **Initial State** | Starting Client:\n",
    "The starting point of the ransomware infection. This is where the kill chain attack originates from."
   ]
  },
  {
   "cell_type": "code",
   "execution_count": null,
   "metadata": {},
   "outputs": [],
   "source": [
    "starting_host.show()\n",
    "starting_host.file_system.show()"
   ]
  },
  {
   "cell_type": "code",
   "execution_count": null,
   "metadata": {},
   "outputs": [],
   "source": [
    "starting_host.software_manager.show()"
   ]
  },
  {
   "cell_type": "markdown",
   "metadata": {},
   "source": [
    "#### **Initial State** | Database Server:\n",
    "\n",
    "TAP001 opts to attack the UC7 database server (`ST_DATA-PRV-SRV-DB`):"
   ]
  },
  {
   "cell_type": "code",
   "execution_count": null,
   "metadata": {},
   "outputs": [],
   "source": [
    "database_server.software_manager.show()\n",
    "database_server.file_system.show()\n",
    "database_server.show()"
   ]
  },
  {
   "cell_type": "markdown",
   "metadata": {},
   "source": [
    "## **Kill Chain** | Kill Chain Stage Demonstration"
   ]
  },
  {
   "cell_type": "markdown",
   "metadata": {},
   "source": [
    "### **Kill Chain** | NOT STARTED\n",
    "\n",
    "This stage indicates that the TAP001 hasn't begun it's kill chain. \n",
    "TAP001 will begin the Mobile Malware Kill chain on the next execution step."
   ]
  },
  {
   "cell_type": "code",
   "execution_count": null,
   "metadata": {},
   "outputs": [],
   "source": [
    "env.reset();\n",
    "tap001 = env.game.agents.get(\"attacker\")\n",
    "# The TAP001's Starting Client:\n",
    "starting_host = env.game.simulation.network.get_node_by_hostname(tap001.starting_node)\n",
    "# The TAP001's Database Server:\n",
    "target_host = env.game.simulation.network.get_node_by_hostname('ST_DATA-PRV-SRV-DB')"
   ]
  },
  {
   "cell_type": "code",
   "execution_count": null,
   "metadata": {},
   "outputs": [],
   "source": [
    "print(f\"Current Environment Step: {env.game.step_counter}\")\n",
    "print(f\"Current Kill Chain Stage: {tap001.current_kill_chain_stage.name}\")\n",
    "print(f\"Next Execution Step: {tap001.next_execution_timestep}\")\n",
    "print(f\"Next Kill Chain Stage {tap001.next_kill_chain_stage.name}\")\n",
    "while(tap001.current_kill_chain_stage == MobileMalwareKillChain.NOT_STARTED):\n",
    "    default_obs, _, _, _, _ = env.step(0)"
   ]
  },
  {
   "cell_type": "markdown",
   "metadata": {},
   "source": [
    "### **Kill Chain** | DOWNLOAD\n",
    "\n",
    "|Index|Action Stage|OBS Impact|Narrative|\n",
    "|-----|------------|----------|---------|\n",
    "|1|DOWNLOAD|HOST:FOLDER:FILE:*|The `some_tech` employee encounters a malicious payload through web browsing on his mobile phone, often disguised as legitimate content.|\n",
    "\n",
    "<p align=\"center\">\n",
    "    <a href=\"./_package_data/uc7/uc7_tap001/uc7_tap001_download_install.png\" target=\"_blank\">\n",
    "        <img src=\"./_package_data/uc7/uc7_tap001/uc7_tap001_download_install.png\" alt=\"Image\" style=\"width:700px;\">\n",
    "    </a>  \n",
    "</p>\n",
    "\n",
    "In this stage, TAP001 uses the **node-folder-create** and **node-file-create** to create a file called ```\"malware_dropper.ps1\"``` within a ```\"Downloads\"``` folder. <br>\n",
    "These actions are intended to simulate the malicious payload creating a  ```ps1``` (A windows powershell script) malware dropper on the `SOME_TECH` employee's phone. \n",
    "\n",
    "Currently, PrimAITE cannot simulate hosts joining the simulation mid-episode thus we must treat `ST_PROJ-A-PRV-PC-1`'s as also including the employee's phone. <br>\n",
    "From a narrative perspective, this could be explained as the employee plugging his phone into the `ST_PROJ-A-PRV-PC-1`.\n",
    "\n",
    "Additionally, it's worth noting that in the real world, malware droppers (small scripts or executables which download/install the malware after initially entering a host) use a variety of obfuscation methods to avoid detection. <br> For example, some malware droppers are concealed within legitimate files such as word document macros in order to trick a user into running the dropper.\n",
    "\n",
    "Currently, PrimAITE's simulation does not operate a high enough fidelity to faithfully represent these techniques and their impacts to warrant their inclusion. Thus the file has been named as ```\"malware_dropper\"``` to prevent any potential confusion."
   ]
  },
  {
   "cell_type": "code",
   "execution_count": null,
   "metadata": {},
   "outputs": [],
   "source": [
    "print(f\"Current Environment Step: {env.game.step_counter}\")\n",
    "print(f\"Current Kill Chain Stage: {tap001.current_kill_chain_stage.name}\")\n",
    "print(f\"Next Execution Step: {tap001.next_execution_timestep}\")\n",
    "print(f\"Next Kill Chain Stage {tap001.next_kill_chain_stage.name}\")\n",
    "while(tap001.current_kill_chain_stage == MobileMalwareKillChain.DOWNLOAD):\n",
    "    download_obs_impact, _, _, _, _ = env.step(0)\n",
    "starting_host.file_system.show(full=True)\n",
    "starting_host.file_system.show_num_files()\n",
    "display_obs_diffs(default_obs, download_obs_impact, env.game.step_counter)"
   ]
  },
  {
   "cell_type": "code",
   "execution_count": null,
   "metadata": {},
   "outputs": [],
   "source": [
    "tap001.logger.show()\n",
    "tap001.show_history()"
   ]
  },
  {
   "cell_type": "markdown",
   "metadata": {},
   "source": [
    "### **Kill Chain** | INSTALL\n",
    "|Index|Attack Stage|OBS Impact|Narrative|\n",
    "|-----|------------|----------|---------|\n",
    "|2|Install | HOST:FOLDER:FILES:num_access |The malware is activated, either by the employee opening the file or automatically upon download, initiating its malicious functions.|\n",
    "\n",
    "<p align=\"center\">\n",
    "    <a href=\"./_package_data/uc7/uc7_tap001/uc7_tap001_download_install.png\" target=\"_blank\">\n",
    "        <img src=\"./_package_data/uc7/uc7_tap001/uc7_tap001_download_install.png\" alt=\"Image\" style=\"width:700px;\">\n",
    "    </a>  \n",
    "    \n",
    "</p>\n",
    "\n",
    "In this stage, TAP001 uses the **node-file-access** to increase the number of accesses of the ```\"malware_dropper.ps1\"```. <br>\n",
    "\n",
    "These actions represent the employee executing malware dropper created in the previous stage. "
   ]
  },
  {
   "cell_type": "code",
   "execution_count": null,
   "metadata": {},
   "outputs": [],
   "source": [
    "print(f\"Current Environment Step: {env.game.step_counter}\")\n",
    "print(f\"Current Kill Chain Stage: {tap001.current_kill_chain_stage.name}\")\n",
    "print(f\"Next Execution Step: {tap001.next_execution_timestep}\")\n",
    "print(f\"Next Kill Chain Stage {tap001.next_kill_chain_stage.name}\")\n",
    "while(tap001.current_kill_chain_stage == MobileMalwareKillChain.INSTALL):\n",
    "    install_obs_impact, _, _, _, _ = env.step(0)\n",
    "\n",
    "malware_file = starting_host.file_system.get_file(\"downloads\",\"malware_dropper.ps1\")\n",
    "malware_file.show()\n",
    "\n",
    "display_obs_diffs(download_obs_impact, install_obs_impact, env.game.step_counter)"
   ]
  },
  {
   "cell_type": "code",
   "execution_count": null,
   "metadata": {},
   "outputs": [],
   "source": [
    "tap001.logger.show()\n",
    "tap001.show_history()"
   ]
  },
  {
   "cell_type": "markdown",
   "metadata": {},
   "source": [
    "### **Kill Chain** | ACTIVATE\n",
    "\n",
    "|Index|Attack Stage|OBS Impact|Narrative|\n",
    "|-----|------------|----------|---------|\n",
    "|3|Activate | HOST:APPLICATION:operating_status |The malware installs itself on the terminal, often seeking to gain persistence by embedding itself into system processes or startup routines.|\n",
    "\n",
    "<p align=\"center\">\n",
    "    <a href=\"./_package_data/uc7/uc7_tap001/uc7_tap001_activate.png\" target=\"_blank\">\n",
    "        <img src=\"./_package_data/uc7/uc7_tap001/uc7_tap001_activate.png\" alt=\"Image\" style=\"width:700px;\">\n",
    "    </a>  \n",
    "    \n",
    "</p>\n",
    "\n",
    "In this stage, TAP001 uses the **node-application-install** to install the ransomware application onto the starting host. <br>\n",
    "\n",
    "These actions represent the malware dropper successfully installing ransomware on the host machine. Similarly to the malware dropper, the ransomware currently implemented is intended to be a generic and OS agnostic ransomware which is not intended to represent any specific real world implementation. \n",
    "\n",
    "Future versions of PrimAITE intend to expand the capability of the ransomware application to more faithfully represent a real-world example; for example, a Trickbot variation such as Ryuk or Conti."
   ]
  },
  {
   "cell_type": "code",
   "execution_count": null,
   "metadata": {},
   "outputs": [],
   "source": [
    "print(f\"Current Environment Step: {env.game.step_counter}\")\n",
    "print(f\"Current Kill Chain Stage: {tap001.current_kill_chain_stage.name}\")\n",
    "print(f\"Next Execution Step: {tap001.next_execution_timestep}\")\n",
    "print(f\"Next Kill Chain Stage {tap001.next_kill_chain_stage.name}\")\n",
    "while(tap001.current_kill_chain_stage == MobileMalwareKillChain.ACTIVATE):\n",
    "    activate_obs_impact, _, _, _, _ = env.step(0)\n",
    "starting_host.software_manager.show()\n",
    "display_obs_diffs(install_obs_impact, activate_obs_impact, env.game.step_counter)"
   ]
  },
  {
   "cell_type": "code",
   "execution_count": null,
   "metadata": {},
   "outputs": [],
   "source": [
    "tap001.logger.show()"
   ]
  },
  {
   "cell_type": "markdown",
   "metadata": {},
   "source": [
    "### **Kill Chain** | PROPAGATE\n",
    "\n",
    "|Index|Attack Stage|OBS Impact|Narrative|\n",
    "|-----|------------|----------|---------|\n",
    "|4|Propagate|HOST:NICS:NIC:TRAFFIC:PROTOCOL:PORT:*|The malware attempts to spread to other systems or networks, looking for vulnerable services.|\n",
    "\n",
    "In this stage, TAP001 uses **node-nmap-port-scan**, **node-nmap-ping-scan** and **node-nmap-network-service-recon** to scan the simulation in order to search for a valid database target.\n",
    "\n",
    "Unlike previous stages, the behaviour of this stage is dependant on the simulation and thus will perform differently dependant on the location of the target as well as the topology of the network. Specifically, the ```PROPAGATE``` stage uses three network enumeration actions and their action responses to populate its knowledge of the network.<br>\n",
    "These actions represent the now infected `ST_PROJ-A-PRV-PC-1` searching the UC7 network for valid targets ransomware. \n",
    "\n",
    "For more information around how agent requests and responses work then the [request-response notebook can provide some useful insights](./Requests-and-Responses.ipynb).\n",
    "\n",
    "It's worth noting that the implementation of the ```PROPAGATE``` stage does not class routers and switches as valid targets and thus will not scan them. <br>\n",
    "\n",
    "_Currently, red agents have no way of probing the routing information of the simulation so must be provided the network addresses of the network. <br> See the mobile malware configuration option section of this notebook for further information_"
   ]
  },
  {
   "cell_type": "markdown",
   "metadata": {},
   "source": [
    "#### **Kill Chain** | PROPAGATE | Scan walkthrough\n",
    "\n",
    "The next juypter cells of this notebook will go through each individual nmap action that the TAP001 leverages to reach the target host as well as the OBS each action impacts.\n",
    "\n",
    "This section uses the following ```PROPAGATE``` relevant TAP001 settings:\n",
    "```yaml\n",
    "    kill chain:\n",
    "        PROPAGATE:\n",
    "          probability: 1\n",
    "          scan_attempts: 20\n",
    "          repeat_scan: false\n",
    "          network_addresses:\n",
    "            - 192.168.230.0/29 # ST Project A\n",
    "            - 192.168.10.0/26  # Remote Site\n",
    "            - 192.168.20.0/30  # Remote DMZ\n",
    "            # - 192.168.240.0/29 # ST Project B\n",
    "            # - 192.168.250.0/29 # ST Project C\n",
    "            - 192.168.220.0/29 # ST Data (Contains Target)\n",
    "```\n"
   ]
  },
  {
   "cell_type": "code",
   "execution_count": null,
   "metadata": {},
   "outputs": [],
   "source": [
    "print(f\"Current Environment Step: {env.game.step_counter}\")\n",
    "print(f\"Current Kill Chain Stage: {tap001.current_kill_chain_stage.name}\")\n",
    "print(f\"Next Execution Step: {tap001.next_execution_timestep}\")\n",
    "print(f\"Next Kill Chain Stage {tap001.next_kill_chain_stage.name}\")\n",
    "\n",
    "def propagate_obs_and_show(tap001: TAP001, previous_obs, propagate_obs_impact, timestep):\n",
    "    tap001._show_scan()\n",
    "    display_obs_diffs(previous_obs, propagate_obs_impact, timestep)"
   ]
  },
  {
   "cell_type": "code",
   "execution_count": null,
   "metadata": {},
   "outputs": [],
   "source": [
    "tap001.logger.show()"
   ]
  },
  {
   "cell_type": "markdown",
   "metadata": {},
   "source": [
    "#### **Kill Chain** | PROPAGATE | ST_PROJ-A-PRV-PC-1\n",
    "\n",
    "<p align=\"center\">\n",
    "    <a href=\"./_package_data/uc7/uc7_tap001/uc7_tap001_propagate_1.png\" target=\"_blank\">\n",
    "        <img src=\"./_package_data/uc7/uc7_tap001/uc7_tap001_propagate_1.png\" alt=\"Image\" style=\"width:700px;\">\n",
    "    </a>  \n",
    "    \n",
    "</p>"
   ]
  },
  {
   "cell_type": "code",
   "execution_count": null,
   "metadata": {},
   "outputs": [],
   "source": [
    "# Ping Scan\n",
    "for _ in range(5):\n",
    "    PROJ_A_SITE_ping, *_ = env.step(0)"
   ]
  },
  {
   "cell_type": "code",
   "execution_count": null,
   "metadata": {},
   "outputs": [],
   "source": [
    "propagate_obs_and_show(tap001, previous_obs=activate_obs_impact, propagate_obs_impact=PROJ_A_SITE_ping, timestep=env.game.step_counter)"
   ]
  },
  {
   "cell_type": "code",
   "execution_count": null,
   "metadata": {},
   "outputs": [],
   "source": [
    "# Recon Scan\n",
    "for _ in range(5):\n",
    "    PROJ_A_SITE_recon, *_  = env.step(0);"
   ]
  },
  {
   "cell_type": "code",
   "execution_count": null,
   "metadata": {},
   "outputs": [],
   "source": [
    "propagate_obs_and_show(tap001, PROJ_A_SITE_ping, PROJ_A_SITE_recon, env.game.step_counter)"
   ]
  },
  {
   "cell_type": "markdown",
   "metadata": {},
   "source": [
    "#### **Kill Chain** | PROPAGATE | REMOTE SITE\n",
    "\n",
    "<p align=\"center\">\n",
    "    <a href=\"./_package_data/uc7/uc7_tap001/uc7_tap001_propagate_2.png\" target=\"_blank\">\n",
    "        <img src=\"./_package_data/uc7/uc7_tap001/uc7_tap001_propagate_2.png\" alt=\"Image\" style=\"width:1000px;\">\n",
    "    </a>  \n",
    "    \n",
    "</p>"
   ]
  },
  {
   "cell_type": "code",
   "execution_count": null,
   "metadata": {},
   "outputs": [],
   "source": [
    "# Ping Scan\n",
    "for _ in range(5):\n",
    "    REMOTE_SITE_ping, *_ = env.step(0)"
   ]
  },
  {
   "cell_type": "code",
   "execution_count": null,
   "metadata": {},
   "outputs": [],
   "source": [
    "propagate_obs_and_show(tap001, previous_obs=activate_obs_impact, propagate_obs_impact=REMOTE_SITE_ping, timestep=env.game.step_counter)"
   ]
  },
  {
   "cell_type": "code",
   "execution_count": null,
   "metadata": {},
   "outputs": [],
   "source": [
    "# Recon Scan\n",
    "for _ in range(5):\n",
    "    REMOTE_SITE_recon, *_  = env.step(0);"
   ]
  },
  {
   "cell_type": "code",
   "execution_count": null,
   "metadata": {},
   "outputs": [],
   "source": [
    "propagate_obs_and_show(tap001, REMOTE_SITE_ping, REMOTE_SITE_recon, env.game.step_counter)"
   ]
  },
  {
   "cell_type": "markdown",
   "metadata": {},
   "source": [
    "#### **Kill Chain** | PROPAGATE | REMOTE DMZ\n",
    "\n",
    "<p align=\"center\">\n",
    "    <a href=\"./_package_data/uc7/uc7_tap001/uc7_tap001_propagate_3.png\" target=\"_blank\">\n",
    "        <img src=\"./_package_data/uc7/uc7_tap001/uc7_tap001_propagate_3.png\" alt=\"Image\" style=\"width:700px;\">\n",
    "    </a>  \n",
    "    \n",
    "</p>"
   ]
  },
  {
   "cell_type": "code",
   "execution_count": null,
   "metadata": {},
   "outputs": [],
   "source": [
    "# Ping Scan\n",
    "for _ in range(5):\n",
    "    REMOTE_DMZ_ping, *_ = env.step(0)"
   ]
  },
  {
   "cell_type": "code",
   "execution_count": null,
   "metadata": {},
   "outputs": [],
   "source": [
    "propagate_obs_and_show(tap001, previous_obs=REMOTE_SITE_recon, propagate_obs_impact=REMOTE_DMZ_ping, timestep=env.game.step_counter)"
   ]
  },
  {
   "cell_type": "code",
   "execution_count": null,
   "metadata": {},
   "outputs": [],
   "source": [
    "# Recon Scan\n",
    "for _ in range(5):\n",
    "    REMOTE_DMZ_recon, *_  = env.step(0);"
   ]
  },
  {
   "cell_type": "code",
   "execution_count": null,
   "metadata": {},
   "outputs": [],
   "source": [
    "propagate_obs_and_show(tap001, previous_obs=REMOTE_DMZ_ping, propagate_obs_impact=REMOTE_DMZ_recon, timestep=env.game.step_counter)"
   ]
  },
  {
   "cell_type": "markdown",
   "metadata": {},
   "source": [
    "#### **Kill Chain** | PROPAGATE | SOME_TECH DATA \n",
    "\n",
    "\n",
    "<p align=\"center\">\n",
    "    <a href=\"./_package_data/uc7/uc7_tap001/uc7_tap001_propagate_4.png\" target=\"_blank\">\n",
    "        <img src=\"./_package_data/uc7/uc7_tap001/uc7_tap001_propagate_4.png\" alt=\"Image\" style=\"width:700px;\">\n",
    "    </a>  \n",
    "    \n",
    "</p>"
   ]
  },
  {
   "cell_type": "code",
   "execution_count": null,
   "metadata": {},
   "outputs": [],
   "source": [
    "# Ping Scan\n",
    "for _ in range(5):\n",
    "    ST_DATA_ping, *_ = env.step(0)"
   ]
  },
  {
   "cell_type": "code",
   "execution_count": null,
   "metadata": {},
   "outputs": [],
   "source": [
    "propagate_obs_and_show(tap001, previous_obs=REMOTE_DMZ_recon, propagate_obs_impact=ST_DATA_ping, timestep=env.game.step_counter)"
   ]
  },
  {
   "cell_type": "code",
   "execution_count": null,
   "metadata": {},
   "outputs": [],
   "source": [
    "# Recon Scan\n",
    "for _ in range(5):\n",
    "    ST_DATA_recon, *_ = env.step(0)"
   ]
  },
  {
   "cell_type": "code",
   "execution_count": null,
   "metadata": {},
   "outputs": [],
   "source": [
    "propagate_obs_and_show(tap001, previous_obs=ST_DATA_ping, propagate_obs_impact=ST_DATA_recon, timestep=env.game.step_counter)"
   ]
  },
  {
   "cell_type": "code",
   "execution_count": null,
   "metadata": {},
   "outputs": [],
   "source": [
    "for _ in range(5):\n",
    "    propagate_obs_impact, *_  = env.step(0)"
   ]
  },
  {
   "cell_type": "code",
   "execution_count": null,
   "metadata": {},
   "outputs": [],
   "source": [
    "tap001._show_scan()"
   ]
  },
  {
   "cell_type": "code",
   "execution_count": null,
   "metadata": {},
   "outputs": [],
   "source": [
    "tap001.logger.show()"
   ]
  },
  {
   "cell_type": "markdown",
   "metadata": {},
   "source": [
    "### **Kill Chain** | COMMAND_AND_CONTROL\n",
    "|Index|Attack Stage|OBS Impact|Narrative|\n",
    "|-----|------------|----------|---------|\n",
    "|5|Command and Control| **Starting Host** HOST:NICS:NIC:TRAFFIC:PROTOCOL:PORT:* HOST:APPLICATIONS:APPLICATION:* |The malware establishes a connection to an external command and control (C&C) server, receiving instructions and possibly exfiltrating data.|\n",
    "\n",
    "\n",
    "<p align=\"center\">\n",
    "    <a href=\"./_package_data/uc7/uc7_tap001/uc7_tap001_c2.png\" target=\"_blank\">\n",
    "        <img src=\"./_package_data/uc7/uc7_tap001/uc7_tap001_c2.png\" alt=\"Image\" style=\"width:700px;\">\n",
    "    </a>  \n",
    "    \n",
    "</p>\n",
    "\n",
    "\n",
    "For further details please refer to the [Command-and-Control-E2E-Demonstration notebook](./Command-and-Control-E2E-Demonstration.ipynb).\n",
    "\n",
    "_Note: The referenced notebook above uses the UC2 scenario for demonstration purposes, however all the OBS impacts and C2 suite functionality is equally applicable to UC7._\n",
    "\n"
   ]
  },
  {
   "cell_type": "code",
   "execution_count": null,
   "metadata": {},
   "outputs": [],
   "source": [
    "print(f\"Current Environment Step: {env.game.step_counter}\")\n",
    "print(f\"Current Kill Chain Stage: {tap001.current_kill_chain_stage.name}\")\n",
    "print(f\"Next Execution Step: {tap001.next_execution_timestep}\")\n",
    "print(f\"Next Kill Chain Stage {tap001.next_kill_chain_stage.name}\")\n",
    "while(tap001.current_kill_chain_stage == MobileMalwareKillChain.COMMAND_AND_CONTROL):\n",
    "    c_and_c_obs_impact, _, _, _, _ = env.step(0)"
   ]
  },
  {
   "cell_type": "code",
   "execution_count": null,
   "metadata": {},
   "outputs": [],
   "source": [
    "display_obs_diffs(propagate_obs_impact, c_and_c_obs_impact,env.game.step_counter)"
   ]
  },
  {
   "cell_type": "code",
   "execution_count": null,
   "metadata": {},
   "outputs": [],
   "source": [
    "tap001.logger.show()"
   ]
  },
  {
   "cell_type": "markdown",
   "metadata": {},
   "source": [
    "### **Kill Chain** | PAYLOAD - Corruption & Exfiltration\n",
    "|Index|Attack Stage|OBS Impact|Narrative|\n",
    "|-----|------------|----------|---------|\n",
    "|6A|Corruption| **Target Host** HOST:FOLDERS:FOLDER:FILES:FILE:num_access HOST:num_file_creations  HOST:num_file_deletions  HOST:FOLDERS:FOLDER:FILES:FILE:health_status | The attacker configures the ransomware script to target the IP address of the discovered database, then it performs it's intended malicious activities, allowing it to corrupt the Database whilst leaving the database service operable|\n",
    "|6B|Exfiltration| **Starting Host** HOST:FOLDER:FILES:FILE HOST:NICS:NIC:TRAFFIC:PROTOCOL:PORT:* HOST:APPLICATIONS:APPLICATION:* | The attacker remotely logins into the target host and exfiltrates the database.db file onto the starting host which then relays this file back to the C2 Server.|\n",
    "\n",
    "\n",
    "<p align=\"center\">\n",
    "    <a href=\"./_package_data/uc7/uc7_tap001/uc7_tap001_payload.png\" target=\"_blank\">\n",
    "        <img src=\"./_package_data/uc7/uc7_tap001/uc7_tap001_payload.png\" alt=\"Image\" style=\"width:700px;\">\n",
    "    </a>  \n",
    "    \n",
    "</p>\n"
   ]
  },
  {
   "cell_type": "code",
   "execution_count": null,
   "metadata": {},
   "outputs": [],
   "source": [
    "print(f\"Current Environment Step: {env.game.step_counter}\")\n",
    "print(f\"Current Kill Chain Stage: {tap001.current_kill_chain_stage.name}\")\n",
    "print(f\"Next Execution Step: {tap001.next_execution_timestep}\")\n",
    "print(f\"Next Kill Chain Stage {tap001.next_kill_chain_stage.name}\")\n",
    "while(tap001.current_kill_chain_stage == MobileMalwareKillChain.PAYLOAD):\n",
    "    payload_obs_impact, _, _, _, _ = env.step(0)"
   ]
  },
  {
   "cell_type": "code",
   "execution_count": null,
   "metadata": {},
   "outputs": [],
   "source": [
    "target_host.file_system.show(full=True)\n",
    "display_obs_diffs(c_and_c_obs_impact, payload_obs_impact, env.game.step_counter)"
   ]
  },
  {
   "cell_type": "code",
   "execution_count": null,
   "metadata": {},
   "outputs": [],
   "source": [
    "tap001.logger.show()"
   ]
  },
  {
   "cell_type": "markdown",
   "metadata": {},
   "source": [
    "We can use the blue agent's NODE_FILE_SCAN action to scan the database file:\n",
    "\n",
    "```yaml\n",
    "# ST_DATA-PRV-SRV-DB | node-file-scan | Scans the database.db file (health status)\n",
    "49:\n",
    "    action: node-file-scan\n",
    "    options:\n",
    "        node_name: ST_DATA-PRV-SRV-DB\n",
    "        folder_name: database\n",
    "        file_name: database.db\n",
    "```\n",
    "\n",
    "*You should notice a file `health_status` change to a value of 3*"
   ]
  },
  {
   "cell_type": "code",
   "execution_count": null,
   "metadata": {},
   "outputs": [],
   "source": [
    "env.step(0)\n",
    "post_scan_payload_impact, _, _, _, _ = env.step(49) # \n",
    "display_obs_diffs(payload_obs_impact, post_scan_payload_impact, env.game.step_counter)"
   ]
  },
  {
   "cell_type": "code",
   "execution_count": null,
   "metadata": {},
   "outputs": [],
   "source": [
    "target_host.file_system.show(full=True)"
   ]
  },
  {
   "cell_type": "markdown",
   "metadata": {},
   "source": [
    "We can also see that the `database.db` file was successfully exfiltrated."
   ]
  },
  {
   "cell_type": "code",
   "execution_count": null,
   "metadata": {},
   "outputs": [],
   "source": [
    "c2_server = env.game.simulation.network.get_node_by_hostname(tap001.c2_settings['c2_server'])\n",
    "starting_host.file_system.show(full=True)\n",
    "c2_server.file_system.show(full=True)"
   ]
  },
  {
   "cell_type": "code",
   "execution_count": null,
   "metadata": {},
   "outputs": [],
   "source": [
    "tap001.logger.show()"
   ]
  },
  {
   "cell_type": "markdown",
   "metadata": {},
   "source": [
    "### **Attack Configurations** "
   ]
  },
  {
   "cell_type": "markdown",
   "metadata": {},
   "source": [
    "All TAP's inherit the same general configurability shown in the following table:\n",
    "\n",
    "<details> <summary> TAP Agent Config Options </summary>\n",
    "\n",
    "|Option Field|Meaning|Expected Type|Required/Optional|\n",
    "|------------|-------|-------------|-----------------|\n",
    "|start_step|The initial kill chain starting step.|Int|_Required_|\n",
    "|frequency|The frequency of each kill chains starting steps.|Int|_Required_|\n",
    "|variance| The timestep variance between frequency|Int|_Required_|\n",
    "|repeat_kill_chain|Indicates whether the attack is repeated throughout the episode.|Bool|_Required_|\n",
    "|repeat_kill_chain_stages|Indicates if the kill_chain stage should reset upon failure or retry.|Bool|_Required_|\n",
    "|default_target_ip | The IP address of the target host |Str|_Required_|\n",
    "|default_target_node|The Target Host|Str|_Required_|\n",
    "|target_nodes|A list of Potential Target Hosts (database services) - Selected on per episode basis.|List|_Optional_|\n",
    "|default_starting_node|The Starting Host|Str|_Required_|\n",
    "|starting_nodes|A list of Potential Targets|List|_Optional_|\n",
    "|kill_chain|TAP001 Specific Config (_See the next notebook section_)|Dict|_Required_|\n",
    "|description|Free Text|Str|_Optional_|\n",
    "\n",
    "</details>"
   ]
  },
  {
   "cell_type": "markdown",
   "metadata": {},
   "source": [
    "```yaml\n",
    "\n",
    "  - ref: attacker\n",
    "    team: RED\n",
    "    type: TAP001\n",
    "    agent_settings:\n",
    "      start_step: 1\n",
    "      frequency: 3\n",
    "      variance: 0\n",
    "      repeat_kill_chain: false\n",
    "      repeat_kill_chain_stages: true\n",
    "      default_target_ip: *ST_SRV_DB_IP\n",
    "      default_starting_node: \"ST_PROJ-A-PRV-PC-1\"\n",
    "      # starting_nodes: [\"ST_PROJ-A-PRV-PC-1\", \"ST_PROJ-B-PRV-PC-2\", \"ST_PROJ-C-PRV-PC-3\"]\n",
    "      kill_chain:\n",
    "        ... # Next notebook section will cover this configuration option\n",
    "\n",
    "```"
   ]
  },
  {
   "cell_type": "markdown",
   "metadata": {},
   "source": [
    "This notebook assumes the reader is already familiar with the below `agent_settings` and won't provide any code snippet examples. \n",
    "\n",
    "|Option Field|Meaning|Expected Type|Required/Optional|\n",
    "|------------|-------|-------------|-----------------|\n",
    "|start_step|The initial kill chain starting step.|Int|_Required_|\n",
    "|frequency|The frequency of each kill chains starting steps.|Int|_Required_|\n",
    "|variance| The timestep variance between frequency|Int|_Required_|\n",
    "|repeat_kill_chain|Indicates whether the attack is repeated throughout the episode.|Bool|_Required_|\n",
    "|repeat_kill_chain_stages|Indicates if the kill_chain stage should reset upon failure or retry.|Bool|_Required_|\n",
    "|default_target_node|The Target Host|Str|_Required_|\n",
    "|starting_nodes|A list of Potential Targets|List|_Optional_|\n",
    "|kill_chain|_See the next notebook section_|Dict|_Required_||\n",
    "\n",
    "\n",
    "If you're unfamiliar with the above then refer to the equivalent `agent_settings` section within the [TAP003 Kill Chain E2E Demonstration notebook](./TAP003-Kill-Chain-E2E.ipynb). "
   ]
  },
  {
   "cell_type": "code",
   "execution_count": null,
   "metadata": {},
   "outputs": [],
   "source": [
    "tap001 = env.game.agents.get(\"attacker\")\n",
    "for key,value in tap001.config.agent_settings:\n",
    "    if key == 'kill_chain':\n",
    "        pass\n",
    "    else:\n",
    "        print(f\"{key} : {value}\")"
   ]
  },
  {
   "cell_type": "markdown",
   "metadata": {},
   "source": [
    "### **Attack Configurations** | Kill Chain Settings\n",
    "\n",
    "Additionally, TAP001's Mobile Malware Kill Chain comes with some extra configuration options. \n",
    "\n",
    "These options can be configured to customise the behaviour of certain stages. \n",
    "\n",
    "The YAML snippet below is the current default configuration of the mobile malware kill chain:"
   ]
  },
  {
   "cell_type": "markdown",
   "metadata": {},
   "source": [
    "``` YAML\n",
    "  - ref: attacker\n",
    "    team: RED\n",
    "    type: TAP001\n",
    "    agent_settings:\n",
    "      kill_chain:\n",
    "        ACTIVATE:\n",
    "          probability: 1\n",
    "        PROPAGATE:\n",
    "          probability: 1\n",
    "          scan_attempts: 20\n",
    "          repeat_scan: false\n",
    "          network_addresses:\n",
    "            - 192.168.230.0/29 # ST Project A\n",
    "            - 192.168.10.0/26  # Remote Site\n",
    "            - 192.168.20.0/30  # Remote DMZ\n",
    "            # - 192.168.240.0/29 # ST Project B\n",
    "            # - 192.168.250.0/29 # ST Project C\n",
    "            - 192.168.220.0/29 # ST Data (Contains Target)\n",
    "        COMMAND_AND_CONTROL:\n",
    "          probability: 1\n",
    "          keep_alive_frequency: 5\n",
    "          masquerade_port: HTTP\n",
    "          masquerade_protocol: TCP\n",
    "          c2_server_name: ISP-PUB-SRV-DNS\n",
    "          c2_server_ip: *PUBLIC_DNS_IP\n",
    "        PAYLOAD:\n",
    "          probability: 1\n",
    "          exfiltrate: true\n",
    "          corrupt: true\n",
    "          exfiltration_folder_name:\n",
    "          target_username: admin\n",
    "          target_password: admin\n",
    "          continue_on_failed_exfil: True\n",
    "```"
   ]
  },
  {
   "cell_type": "markdown",
   "metadata": {},
   "source": [
    "#### **Attack Configurations** | Mobile Malware Kill Chain | General Settings"
   ]
  },
  {
   "cell_type": "markdown",
   "metadata": {},
   "source": [
    "TAP001's ``ACTIVATE``, ``PROPAGATE``, ``COMMAND_AND_CONTROL`` and ``PAYLOAD`` stages's probability of success can be configured.\n",
    "\n",
    "Similarly to other TAPs, the argument given to probability is the chance of action performing that stage of kill chain successfully. \n",
    "The argument given is expected to be between **0** - **1**.  \n",
    "\n",
    "_(With '1' equalling 100% chance of 'success')_\n",
    "\n",
    "It's important to note that the probabilities of success are calculated within the game layer meaning that if an TAP fails because of probability then the TAP will perform a ``DONOTHING`` action for that step. "
   ]
  },
  {
   "cell_type": "markdown",
   "metadata": {},
   "source": [
    "```yaml\n",
    "        kill_chain:\n",
    "          ACTIVATE:\n",
    "            probability: 1\n",
    "          PROPAGATE:\n",
    "            probability: 1\n",
    "          COMMAND_AND_CONTROL:\n",
    "            probability: 1\n",
    "          PAYLOAD:\n",
    "            probability: 1\n",
    "```"
   ]
  },
  {
   "cell_type": "markdown",
   "metadata": {},
   "source": [
    "#### **Attack Configurations** | Mobile Malware Kill Chain | Propagate Stage\n",
    "\n",
    "TAP001's propagate step leverages the NMAP application to scan the network. This kill chain stage is a considerably more complex than the other stages and thus has more configuration options.\n",
    "\n",
    "<details> <summary> Propagate Configuration Settings </summary>\n",
    "\n",
    "|Option Field |Meaning|Expected Type|Required/Optional|\n",
    "|------------|-------|-------------|-----------------|\n",
    "|probability|Action Probability - This is only calculated on the initial scan.|int|_Required_|\n",
    "|network_addresses|The network-addresses that are scanned during the propagate step. Scanned in the order they are defined.|list[str]|_Required_|\n",
    "|scan_attempts|The amount of permitted scan attempts.|int|_Required_|\n",
    "|repeat_scan|Should the scan repeat if the target is not found within the given network address|bool|_optional_|\n",
    "\n",
    "</details> "
   ]
  },
  {
   "cell_type": "markdown",
   "metadata": {},
   "source": [
    "**Probability**\n",
    "\n",
    "***\n",
    "\n",
    "|Option Field |Meaning|Expected Type|Required/Optional|\n",
    "|------------|-------|-------------|-----------------|\n",
    "|probability|Action Probability |Int|_Required_|\n",
    "\n",
    "Similarly, to every other stage, probability is the chance of success of TAP001 has to successfully perform the Propagate Stage.\n",
    "\n",
    "However, it's important to note that the **probability of success is only calculated once**. \n",
    "\n",
    "After the first scan is performed, the TAP agent will perform the rest of the stage without trialing probability."
   ]
  },
  {
   "cell_type": "markdown",
   "metadata": {},
   "source": [
    "**Network Addresses**\n",
    "\n",
    "***\n",
    "\n",
    "|Option Field |Meaning|Expected Type|Required/Optional|\n",
    "|------------|-------|-------------|-----------------|\n",
    "|network_addresses|The network-addresses that are scanned during the propagate step. Scanned in the order they are defined.|list[str]|_Required_|\n",
    "\n",
    "At present, TAPs cannot probe the simulation for routing information.\n",
    "\n",
    "Therefore, to scan multiple networks, the ``PROPAGATE`` stage must be provided a list of each network address.\n",
    "\n",
    "These network's are scanned in sequential order.\n",
    "\n",
    "For example; this notebook is configured with the following ``PROPAGATE`` network_address setting.\n",
    "\n",
    "| Network Address | Use Case 7 Subnet Name  |\n",
    "|-----------------|-------------------------|\n",
    "| 192.168.10.0/26  | REMOTE-SITE            |\n",
    "| 192.168.20.0/30  | REMOTE-DMZ             |\n",
    "| 192.168.220.0/29 | SOME_TECH_DATA         |\n",
    "\n",
    "\n",
    "Which when represented in the yaml config is as follows:\n",
    "\n",
    "```yaml\n",
    "      kill_chain:\n",
    "        PROPAGATE:\n",
    "          probability: 1\n",
    "          scan_attempts: 20\n",
    "          repeat_scan: false\n",
    "          network_addresses:\n",
    "            - 192.168.230.0/29 # ST Project A\n",
    "            - 192.168.10.0/26  # Remote Site\n",
    "            - 192.168.20.0/30  # Remote DMZ\n",
    "            # - 192.168.240.0/29 # ST Project B\n",
    "            # - 192.168.250.0/29 # ST Project C\n",
    "            - 192.168.220.0/29 # ST Data (Contains Target)\n",
    "```\n",
    "Which is loaded into the TAP001 agent as the following list:\n",
    "```Python\n",
    "[\"192.168.230.0/29\", \"192.168.10.0/26\", \"192.168.20.0/30\", \"192.168.220.0/29\"]\n",
    "```\n",
    "\n",
    "As PrimAITE expands and TAP agents are provided more ways of probing the simulation, then the ```PROPAGATE``` stage will be able to perform independently thus no longer requiring the network_address configuration option. "
   ]
  },
  {
   "cell_type": "markdown",
   "metadata": {},
   "source": [
    "**Scan Attempts**\n",
    "\n",
    "***\n",
    "|Option Field |Meaning|Expected Type|Required/Optional|\n",
    "|------------|-------|-------------|-----------------|\n",
    "|scan_attempts|The amount of permitted scan attempts.|int|_Required_|\n",
    "\n",
    "Simply, the ``scan_attempts`` configuration option indicates how many SCAN actions ``PROPAGATE`` stage is permitted to perform before the kill chain is considered to have failed. \n",
    "\n",
    "The ``scan_attempts`` option should mainly be kept higher than the length of the list provided in the previous ``network_address`` option.\n",
    "\n",
    "Currently, this setting is mainly used in conjunction with next setting: ```repeat_scan```.\n"
   ]
  },
  {
   "cell_type": "markdown",
   "metadata": {},
   "source": [
    "**Repeat Scan**\n",
    "\n",
    "***\n",
    "|Option Field |Meaning|Expected Type|Required/Optional|\n",
    "|------------|-------|-------------|-----------------|\n",
    "|repeat_scan|Should the scan repeat if the target is not found within the given network address|bool|_optional_|\n",
    "\n",
    "This boolean flag controls whether the ```PROPAGATE``` stage should repeat if the target is not found within the given ```network_addresses```.\n",
    "\n",
    "This setting used in conjunction with the ```permitted_scan``` option allows the Red Agent to continue scanning even if the target is not found. \n",
    "\n",
    "The network addresses will be selected at random after the first sequential scan(s) of the given ```network_addresses``` for further domain randomisation. "
   ]
  },
  {
   "cell_type": "code",
   "execution_count": null,
   "metadata": {},
   "outputs": [],
   "source": [
    "# Removing the target network address. (Thus the target will never be found)\n",
    "network_addresses = [\"192.168.10.0/26\", \"192.168.20.0/30\"]\n",
    "\n",
    "with open(_EXAMPLE_CFG/\"uc7_config.yaml\", mode=\"r\") as f:\n",
    "    cfg = yaml.safe_load(f)\n",
    "    cfg['io_settings']['save_sys_logs'] = True # Saving syslogs\n",
    "    cfg['agents'][32]['agent_settings']['repeat_kill_chain_stages'] = True\n",
    "    cfg['agents'][32]['agent_settings']['kill_chain']['PROPAGATE']['network_addresses'] = network_addresses\n",
    "    cfg['agents'][32]['agent_settings']['kill_chain']['PROPAGATE']['probability'] = 1\n",
    "    cfg['agents'][32]['agent_settings']['kill_chain']['PROPAGATE']['scan_attempts'] = 30\n",
    "    cfg['agents'][32]['agent_settings']['kill_chain']['PROPAGATE']['repeat_scan'] = True\n",
    "env = PrimaiteGymEnv(env_config = cfg)\n",
    "env.reset()\n",
    "for _ in range (256):\n",
    "    env.step(0)"
   ]
  },
  {
   "cell_type": "markdown",
   "metadata": {},
   "source": [
    "***\n",
    "\n",
    "<sup>[1]</sup> _PrimAITE does not actually enforce agent type (Red/Green/Blue) specific actions_\n",
    "\n",
    "_However, some actions such as `node-application-execute` and `node-nmap-network-service-recon` require an understanding of the simulation that is beyond the blue agent's current observation and thus are not suitable for use by reinforcement algorithms._\n",
    "\n",
    "_These actions are usually only leveraged by Green or Red agents; hence why they are commonly referenced as such._\n",
    "\n",
    "***"
   ]
  },
  {
   "cell_type": "markdown",
   "metadata": {},
   "source": [
    "#### **Attack Configurations** | Mobile Malware Kill Chain | Command and Control Stage\n",
    "\n",
    "TAP001's Command and Control stage leverages the `c2-beacon` which has it's own set of configuration options. In the case of TAP001 some of these settings are already pre-defined based on other settings such as ``target_node``. The table below details the currently available options.\n",
    "\n",
    "<details> <summary> Command and Control Configuration Settings </summary>\n",
    "\n",
    "|Option Field         | Meaning                                                                            |Expected Type  |Required/Optional|\n",
    "|---------------------|------------------------------------------------------------------------------------|---------------|-----------------|\n",
    "|probability          | Action Probability - This is only calculated once at this stage.                   |Int            | _Required_      |\n",
    "|c2_server            | What host should the C2 Beacon attempt to connect to as the chosen C2 Server       |Str            | _Required_      |\n",
    "|keep_alive_frequency | How often should the C2 Beacon confirm its connection in timesteps. Defaults to 5  |Int            | _Optional_      |\n",
    "|masquerade_port      | What port should the C2 traffic use? Defaults to TCP.                              |Str            | _Optional_      |\n",
    "|masquerade_protocol  | What protocol should the C2 traffic masquerade as? Defaults to HTTP.               |Str            | _Optional_      |\n",
    "\n",
    "</details> \n",
    "\n",
    "For further information around the configuration of the `c2-beacon` please refer to the [Command-&-Control-E2E-Demonstration notebook](./Command-and-Control-E2E-Demonstration.ipynb)'s last section on configurability."
   ]
  },
  {
   "cell_type": "code",
   "execution_count": null,
   "metadata": {},
   "outputs": [],
   "source": [
    "with open(_EXAMPLE_CFG/\"uc7_config.yaml\", mode=\"r\") as f:\n",
    "    cfg = yaml.safe_load(f)\n",
    "    # Adding the C2 Server to a different node (REM-PUB-PC-1)\n",
    "    cfg['simulation']['network']['nodes'][10].update(\n",
    "        {\"applications\": [\n",
    "            {\"type\": \"database-client\", \"options\":{\"db_server_ip\":\"192.168.220.3\"}},\n",
    "            {\"type\": \"web-browser\", \"options\":{\"target_url\": \"http://some_tech.com\"}},\n",
    "            {\"type\": \"c2-server\", \"options\":{\"listen_on_ports\":[21]}}]\n",
    "        })\n",
    "\n",
    "    # Configuring the C2 stage to use the REM-PUB-PC-1 as it's C2 Server and to use a different masquerade port.\n",
    "    cfg['agents'][32]['agent_settings']['kill_chain']['COMMAND_AND_CONTROL'][\"c2_server_name\"] = \"REM-PUB-PC-1\"\n",
    "    cfg['agents'][32]['agent_settings']['kill_chain']['COMMAND_AND_CONTROL'][\"c2_server_ip\"] = \"192.168.20.2\"\n",
    "    cfg['agents'][32]['agent_settings']['kill_chain']['COMMAND_AND_CONTROL'][\"keep_alive_frequency\"] = 3\n",
    "    cfg['agents'][32]['agent_settings']['kill_chain']['COMMAND_AND_CONTROL'][\"masquerade_port\"] = \"FTP\"\n",
    "    cfg['agents'][32]['agent_settings']['kill_chain']['COMMAND_AND_CONTROL'][\"masquerade_protocol\"] = \"TCP\"\n",
    "env = PrimaiteGymEnv(env_config = cfg)\n",
    "env.reset()\n",
    "# TAP001 requires around 110 timesteps using default TAP settings.\n",
    "for _ in range(110):\n",
    "    env.step(0)"
   ]
  },
  {
   "cell_type": "markdown",
   "metadata": {},
   "source": [
    "The code cells below use .show() methods to show that the configuration options have successfully altered the C2's suite configuration. For example the `c2-beacon`'s remote connection is now ``REM-PUB-PC-1``'s ip address which is ``192.168.20.2``."
   ]
  },
  {
   "cell_type": "code",
   "execution_count": null,
   "metadata": {},
   "outputs": [],
   "source": [
    "starting_host = env.game.simulation.network.get_node_by_hostname('ST_PROJ-A-PRV-PC-1')\n",
    "c2_beacon = starting_host.software_manager.software[\"c2-beacon\"]\n",
    "c2_beacon.show()"
   ]
  },
  {
   "cell_type": "code",
   "execution_count": null,
   "metadata": {},
   "outputs": [],
   "source": [
    "c2_server_host = env.game.simulation.network.get_node_by_hostname('REM-PUB-PC-1')\n",
    "c2_server = c2_server_host.software_manager.software[\"c2-server\"]\n",
    "c2_server.show()"
   ]
  },
  {
   "cell_type": "markdown",
   "metadata": {},
   "source": [
    "#### **Attack Configurations** | Mobile Malware Kill Chain | Payload Stage\n",
    "\n",
    "<details> <summary> Payload Settings </summary>\n",
    "\n",
    "|Option Field         | Meaning                                                                            |Expected Type  |Required/Optional|\n",
    "|---------------------|------------------------------------------------------------------------------------|---------------|-----------------|\n",
    "|probability          | Action Probability - This is only calculated once at this stage.                   |Int            | _Required_      |\n",
    "|corrupt              | Should TAP001 launch the ransomware script against the target database?            |Boolean        | _Required_      |\n",
    "|exfiltrate           | Should TAP001 exfiltrate the target database.db file?                              |Boolean        | _Required_      |\n",
    "\n",
    "</details>"
   ]
  },
  {
   "cell_type": "markdown",
   "metadata": {},
   "source": [
    "**Probability**\n",
    "\n",
    "***\n",
    "\n",
    "|Option Field         | Meaning                                                                            |Expected Type  |Required/Optional|\n",
    "|---------------------|------------------------------------------------------------------------------------|---------------|-----------------|\n",
    "|probability          | Action Probability - This is only calculated once at this stage.                   |Int            | _Required_      |\n",
    "\n",
    "Similarly, to every other stage, probability is the chance of success of TAP001 has to successfully perform the Payload Stage.\n",
    "\n",
    "However, it's important to note that the **probability of success is only calculated once**. \n",
    "\n",
    "After the agent is successful once then the TAP agent will perform the rest of the stage without trialing any further."
   ]
  },
  {
   "cell_type": "markdown",
   "metadata": {},
   "source": [
    "**Corrupt**\n",
    "\n",
    "***\n",
    "\n",
    "|Option Field         | Meaning                                                                            |Expected Type  |Required/Optional|\n",
    "|---------------------|------------------------------------------------------------------------------------|---------------|-----------------|\n",
    "|corrupt              | Should TAP001 launch the ransomware script against the target database?            |Boolean        | _Required_      |\n",
    "\n",
    "This option is a boolean value which indicates if TAP001 should launch the ransomware script against the target database. \n",
    "\n",
    "By default this is enabled but if users wish to disable the ransomware attack for training purposes then this value can be set to ``False`` which will prevent the installed ``RansomwareScript`` from launching at the final step.\n",
    "\n"
   ]
  },
  {
   "cell_type": "markdown",
   "metadata": {},
   "source": [
    "**Exfiltrate**\n",
    "\n",
    "***\n",
    "\n",
    "|Option Field         | Meaning                                                                            |Expected Type  |Required/Optional|\n",
    "|---------------------|------------------------------------------------------------------------------------|---------------|-----------------|\n",
    "|exfiltrate           | Should TAP001 exfiltrate the target database.db file?                              |Boolean        | _Required_      |\n",
    "\n",
    "\n",
    "Similar to ``corrupt``, this option is a boolean value which indicates if TAP001 should attempt to exfiltrate the `database.db` file.\n",
    "\n",
    "By default this is enabled but if users wish to disable the exfiltration for training purposes then this value can be set to ``False`` which will prevent the TAP001 agent from attempting to exfiltrate the database.db file."
   ]
  },
  {
   "cell_type": "markdown",
   "metadata": {},
   "source": [
    "_If both ``exfiltrate`` and ``corrupt`` options are enabled then the TAP001 agent will exfiltrate the database.db and then launch the ``ransomware-script`` against the target._"
   ]
  },
  {
   "cell_type": "markdown",
   "metadata": {},
   "source": [
    "_yaml config example_\n",
    "\n",
    "```yaml\n",
    "      kill_chain:\n",
    "        PAYLOAD:\n",
    "          probability: 1\n",
    "          exfiltrate: true\n",
    "          corrupt: true\n",
    "          exfiltration_folder_name:\n",
    "          target_username: admin\n",
    "          target_password: admin\n",
    "          continue_on_failed_exfil: True\n",
    "```"
   ]
  },
  {
   "cell_type": "markdown",
   "metadata": {},
   "source": [
    "The following code cells demonstrate how ``corrupt`` and ``exfiltrate`` can be enabled/disabled and their effects on the environment. After each example the file systems of the target and starting hosts are displayed. If ``corrupt`` is enabled then the target database file will be encrypted and if the ``exfiltrate`` option is enabled then the target database.db will be present within the starting host's file system."
   ]
  },
  {
   "cell_type": "code",
   "execution_count": null,
   "metadata": {},
   "outputs": [],
   "source": [
    "with open(_EXAMPLE_CFG/\"uc7_config.yaml\", mode=\"r\") as f:\n",
    "    cfg = yaml.safe_load(f)\n",
    "    cfg['agents'][32]['agent_settings']['kill_chain']['PAYLOAD'][\"corrupt\"] = True\n",
    "    cfg['agents'][32]['agent_settings']['kill_chain']['PAYLOAD'][\"exfiltrate\"] = False\n",
    "env = PrimaiteGymEnv(env_config = cfg)\n",
    "env.reset()\n",
    "for _ in range(110):\n",
    "    env.step(0)"
   ]
  },
  {
   "cell_type": "code",
   "execution_count": null,
   "metadata": {},
   "outputs": [],
   "source": [
    "starting_host = env.game.simulation.network.get_node_by_hostname('ST_PROJ-A-PRV-PC-1')\n",
    "target_host = env.game.simulation.network.get_node_by_hostname('ST_DATA-PRV-SRV-DB')\n",
    "target_host.file_system.show(full=True)\n",
    "starting_host.file_system.show(full=True)"
   ]
  },
  {
   "cell_type": "code",
   "execution_count": null,
   "metadata": {},
   "outputs": [],
   "source": [
    "with open(_EXAMPLE_CFG/\"uc7_config.yaml\", mode=\"r\") as f:\n",
    "    cfg = yaml.safe_load(f)\n",
    "    cfg['agents'][32]['agent_settings']['kill_chain']['PAYLOAD'][\"corrupt\"] = False\n",
    "    cfg['agents'][32]['agent_settings']['kill_chain']['PAYLOAD'][\"exfiltrate\"] = True\n",
    "env = PrimaiteGymEnv(env_config = cfg)\n",
    "env.reset()\n",
    "for _ in range(110):\n",
    "    env.step(0)\n"
   ]
  },
  {
   "cell_type": "code",
   "execution_count": null,
   "metadata": {},
   "outputs": [],
   "source": [
    "starting_host = env.game.simulation.network.get_node_by_hostname('ST_PROJ-A-PRV-PC-1')\n",
    "target_host = env.game.simulation.network.get_node_by_hostname('ST_DATA-PRV-SRV-DB')\n",
    "target_host.file_system.show(full=True)\n",
    "starting_host.file_system.show(full=True)"
   ]
  },
  {
   "cell_type": "code",
   "execution_count": null,
   "metadata": {},
   "outputs": [],
   "source": [
    "with open(_EXAMPLE_CFG/\"uc7_config.yaml\", mode=\"r\") as f:\n",
    "    cfg = yaml.safe_load(f)\n",
    "    cfg['agents'][32]['agent_settings']['kill_chain']['PAYLOAD'][\"corrupt\"] = True\n",
    "    cfg['agents'][32]['agent_settings']['kill_chain']['PAYLOAD'][\"exfiltrate\"] = True\n",
    "env = PrimaiteGymEnv(env_config = cfg)\n",
    "env.reset()\n",
    "for _ in range(110):\n",
    "    env.step(0)"
   ]
  },
  {
   "cell_type": "code",
   "execution_count": null,
   "metadata": {},
   "outputs": [],
   "source": [
    "starting_host = env.game.simulation.network.get_node_by_hostname('ST_PROJ-A-PRV-PC-1')\n",
    "target_host = env.game.simulation.network.get_node_by_hostname('ST_DATA-PRV-SRV-DB')\n",
    "target_host.file_system.show(full=True)\n",
    "starting_host.file_system.show(full=True)"
   ]
  },
  {
   "cell_type": "markdown",
   "metadata": {},
   "source": [
    "#### Payload Stage | Exfiltration Settings\n",
    "\n",
    "If TAP001 is configured to exfiltrate the database.db file then the following configuration options are relevant.\n",
    "\n",
    "<details> <summary> Exfiltration Settings </summary>\n",
    "\n",
    "|Option Field             | Meaning                                                                            |Expected Type  |Required/Optional|\n",
    "|-------------------------|------------------------------------------------------------------------------------|---------------|-----------------|\n",
    "|exfiltration_folder_name | The folder used to store the database.db file. Defaults to ``exfiltration_folder`` |Str            | _Optional_      |\n",
    "|target_username          | The username used to login into a target node. Defaults to ``admin``               |Str            | _Required_      |\n",
    "|target_password          | The password used to login into a target node. Defaults to ``admin``               |Str            | _Required_      |\n",
    "|continue_on_failed_exfil | Indicates if the attacker should encrypt the target even if the exfiltration fails |Bool           | _Required_      |\n",
    "\n",
    "</details> "
   ]
  },
  {
   "cell_type": "markdown",
   "metadata": {},
   "source": [
    "**exfiltration_folder_name**\n",
    "\n",
    "***\n",
    "\n",
    "|Option Field             | Meaning                                                                            |Expected Type  |Required/Optional|\n",
    "|-------------------------|------------------------------------------------------------------------------------|---------------|-----------------|\n",
    "|exfiltration_folder_name | The folder used to store the database.db file. Defaults to ``exfiltration_folder``.|str            | _Optional_      |\n",
    "\n",
    "Users are able to configure what folder the database.db is stored within after successful database exfiltration. For example, if this option was set to ``crown_jewels`` then the TAP001 agent would create a new folder on the starting node called ``crown_jewels`` and once the data-exfiltration is successful that folder will be populated with the ``database.db`` file from the target database. "
   ]
  },
  {
   "cell_type": "code",
   "execution_count": null,
   "metadata": {},
   "outputs": [],
   "source": [
    "with open(_EXAMPLE_CFG/\"uc7_config.yaml\", mode=\"r\") as f:\n",
    "    cfg = yaml.safe_load(f)\n",
    "    cfg['agents'][32]['agent_settings']['kill_chain']['PAYLOAD'][\"exfiltration_folder_name\"] = \"crown_jewels\"\n",
    "env = PrimaiteGymEnv(env_config = cfg)\n",
    "env.reset()\n",
    "for _ in range(110):\n",
    "    env.step(0)"
   ]
  },
  {
   "cell_type": "code",
   "execution_count": null,
   "metadata": {},
   "outputs": [],
   "source": [
    "starting_host = env.game.simulation.network.get_node_by_hostname('ST_PROJ-A-PRV-PC-1')\n",
    "target_host = env.game.simulation.network.get_node_by_hostname('ST_DATA-PRV-SRV-DB')\n",
    "target_host.file_system.show(full=True)\n",
    "starting_host.file_system.show(full=True)"
   ]
  },
  {
   "cell_type": "markdown",
   "metadata": {},
   "source": [
    "**target_username & target_password**\n",
    "\n",
    "***\n",
    "\n",
    "|Option Field             | Meaning                                                                            |Expected Type  |Required/Optional|\n",
    "|-------------------------|------------------------------------------------------------------------------------|---------------|-----------------|\n",
    "|target_username          | The username used to login into a target node. Defaults to ``admin``               |Str            | _required_      |\n",
    "|target_password          | The password used to login into a target node. Defaults to ``admin``               |Str            | _required_      |\n",
    "\n",
    "These fields indicate what user credentials the TAP001 agent will use when attempting to exfiltrate the `database.db` file from the target."
   ]
  },
  {
   "cell_type": "code",
   "execution_count": null,
   "metadata": {},
   "outputs": [],
   "source": [
    "# Creating a new user for the TAP001 to use.\n",
    "users = [{\n",
    "    \"username\": \"example_user\",\n",
    "    \"password\": \"example_pass\",\n",
    "    \"is_admin\": \"False\",\n",
    "}]\n",
    "with open(_EXAMPLE_CFG/\"uc7_config.yaml\", mode=\"r\") as f:\n",
    "    cfg = yaml.safe_load(f)\n",
    "    cfg['simulation']['network']['nodes'][28].update({\"users\":users}) # Adding this new user to the target\n",
    "    cfg['agents'][32]['agent_settings']['kill_chain']['PAYLOAD'][\"target_username\"] = \"example_user\" # Setting TAP001 to use the new user credentials.\n",
    "    cfg['agents'][32]['agent_settings']['kill_chain']['PAYLOAD'][\"target_password\"] = \"example_pass\"\n",
    "env = PrimaiteGymEnv(env_config = cfg)\n",
    "env.reset()\n",
    "for _ in range(110):\n",
    "    env.step(0)\n"
   ]
  },
  {
   "cell_type": "code",
   "execution_count": null,
   "metadata": {},
   "outputs": [],
   "source": [
    "target_host = env.game.simulation.network.get_node_by_hostname('ST_DATA-PRV-SRV-DB')\n",
    "target_host.user_manager.show()\n",
    "target_host.file_system.show()\n",
    "tap001.logger.show()"
   ]
  },
  {
   "cell_type": "markdown",
   "metadata": {},
   "source": [
    "**continue_on_failed_exfil**\n",
    "\n",
    "***\n",
    "|Option Field             | Meaning                                                                            |Expected Type  |Required/Optional|\n",
    "|-------------------------|------------------------------------------------------------------------------------|---------------|-----------------|\n",
    "|continue_on_failed_exfil | Indicates if the attacker should encrypt the target even if the exfiltration fails |Bool           | _Required_      |\n",
    "\n",
    "\n",
    "This option will affect how the TAP001 agent responds to failing the exfiltration. If this option is set to `True` then the TAP001 agent will attempt the final attack against the database even if the `database.db` exfiltration attempt is unsuccessful. Likewise, if this option is set to `False` then the TAP001 agent will consider it's attack failed if it cannot complete the exfiltration.\n",
    "\n",
    "The code cells below demonstrate the differences by using the blue agent to change the user account details on the target database before the exfiltration occurs using action 50\n",
    "\n",
    "```yaml\n",
    "    # ST_DATA-PRV-SRV-DB | node-account-change-password | Changes the password of a user account\n",
    "    50:\n",
    "        action: node-account-change-password\n",
    "        options:\n",
    "        node_name: ST_DATA-PRV-SRV-DB\n",
    "        username: admin   # default account\n",
    "        current_password: admin   # default password\n",
    "        new_password: thr33_alert_wolv3z # A more 'secure' password\n",
    "```\n"
   ]
  },
  {
   "cell_type": "markdown",
   "metadata": {},
   "source": [
    "If we set the `continue_on_failed_exfil` to true we can see that the despite the exfiltration failing the `database.db` still ends up corrupted by the end of the attack."
   ]
  },
  {
   "cell_type": "code",
   "execution_count": null,
   "metadata": {},
   "outputs": [],
   "source": [
    "with open(_EXAMPLE_CFG/\"uc7_config.yaml\", mode=\"r\") as f:\n",
    "    cfg = yaml.safe_load(f)\n",
    "    cfg['agents'][32]['agent_settings']['kill_chain']['PAYLOAD'][\"continue_on_failed_exfil\"] = True\n",
    "    cfg['agents'][32]['agent_settings']['repeat_kill_chain'] = False\n",
    "env = PrimaiteGymEnv(env_config = cfg)\n",
    "env.reset()\n",
    "\n",
    "# Changing the target database credentials:\n",
    "env.step(50)\n",
    "\n",
    "# Finishing the episode:\n",
    "for _ in range(127):\n",
    "    env.step(0)\n",
    "    \n",
    "tap001.logger.show()"
   ]
  },
  {
   "cell_type": "code",
   "execution_count": null,
   "metadata": {},
   "outputs": [],
   "source": [
    "# The exfiltration was not successful\n",
    "starting_host = env.game.simulation.network.get_node_by_hostname(tap001.starting_node)\n",
    "\n",
    "starting_host.file_system.show()"
   ]
  },
  {
   "cell_type": "code",
   "execution_count": null,
   "metadata": {},
   "outputs": [],
   "source": [
    "# Yet the target database.db is still corrupt.\n",
    "\n",
    "target_host = env.game.simulation.network.get_node_by_hostname('ST_DATA-PRV-SRV-DB')\n",
    "target_host.file_system.show()"
   ]
  },
  {
   "cell_type": "markdown",
   "metadata": {},
   "source": [
    "Whereas now if we set `continue_on_failed_exfil` to false we can see that the attack failed and the database health status remains `GOOD`."
   ]
  },
  {
   "cell_type": "code",
   "execution_count": null,
   "metadata": {},
   "outputs": [],
   "source": [
    "with open(_EXAMPLE_CFG/\"uc7_config.yaml\", mode=\"r\") as f:\n",
    "    cfg = yaml.safe_load(f)\n",
    "    cfg['agents'][32]['agent_settings']['kill_chain']['PAYLOAD'][\"continue_on_failed_exfil\"] = False\n",
    "    cfg['agents'][32]['agent_settings']['repeat_kill_chain'] = False\n",
    "env = PrimaiteGymEnv(env_config = cfg)\n",
    "env.reset()\n",
    "\n",
    "# Changing the target database credentials:\n",
    "env.step(50)\n",
    "\n",
    "# Finishing the episode:\n",
    "for _ in range(127):\n",
    "    env.step(0)\n",
    "    \n",
    "tap001.logger.show()"
   ]
  },
  {
   "cell_type": "code",
   "execution_count": null,
   "metadata": {},
   "outputs": [],
   "source": [
    "# The exfiltration was not successful\n",
    "starting_host = env.game.simulation.network.get_node_by_hostname(tap001.starting_node)\n",
    "\n",
    "starting_host.file_system.show()"
   ]
  },
  {
   "cell_type": "code",
   "execution_count": null,
   "metadata": {},
   "outputs": [],
   "source": [
    "# And the target database.db remains healthy.\n",
    "\n",
    "target_host = env.game.simulation.network.get_node_by_hostname('ST_DATA-PRV-SRV-DB')\n",
    "target_host.file_system.show()"
   ]
  }
 ],
 "metadata": {
  "kernelspec": {
   "display_name": "Python 3 (ipykernel)",
   "language": "python",
   "name": "python3"
  },
  "language_info": {
   "codemirror_mode": {
    "name": "ipython",
    "version": 3
   },
   "file_extension": ".py",
   "mimetype": "text/x-python",
   "name": "python",
   "nbconvert_exporter": "python",
   "pygments_lexer": "ipython3",
   "version": "3.10.12"
  }
 },
 "nbformat": 4,
 "nbformat_minor": 2
}
