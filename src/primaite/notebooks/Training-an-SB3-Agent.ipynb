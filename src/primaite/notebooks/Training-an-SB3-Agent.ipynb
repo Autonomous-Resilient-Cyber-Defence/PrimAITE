{
 "cells": [
  {
   "cell_type": "code",
   "execution_count": 2,
   "metadata": {},
   "outputs": [],
   "source": [
    "from primaite.game.game import PrimaiteGame\n",
    "from primaite.session.environment import PrimaiteGymEnv\n",
    "import yaml"
   ]
  },
  {
   "cell_type": "code",
   "execution_count": 3,
   "metadata": {},
   "outputs": [],
   "source": [
    "from primaite.config.load import data_manipulation_config_path"
   ]
  },
  {
   "cell_type": "code",
   "execution_count": 4,
   "metadata": {},
   "outputs": [],
   "source": [
    "with open(data_manipulation_config_path(), 'r') as f:\n",
    "    cfg = yaml.safe_load(f)\n"
   ]
  },
  {
   "cell_type": "code",
   "execution_count": 5,
   "metadata": {},
   "outputs": [
    {
     "name": "stdout",
     "output_type": "stream",
     "text": [
      "{'type': 'CUSTOM', 'options': {'components': [{'type': 'NODES', 'label': 'NODES', 'options': {'hosts': [{'hostname': 'domain_controller'}, {'hostname': 'web_server', 'services': [{'service_name': 'WebServer'}]}, {'hostname': 'database_server', 'folders': [{'folder_name': 'database', 'files': [{'file_name': 'database.db'}]}]}, {'hostname': 'backup_server'}, {'hostname': 'security_suite'}, {'hostname': 'client_1'}, {'hostname': 'client_2'}], 'num_services': 1, 'num_applications': 0, 'num_folders': 1, 'num_files': 1, 'num_nics': 2, 'include_num_access': False, 'include_nmne': True, 'routers': [{'hostname': 'router_1'}], 'num_ports': 0, 'ip_list': ['192.168.1.10', '192.168.1.12', '192.168.1.14', '192.168.1.16', '192.168.1.110', '192.168.10.21', '192.168.10.22', '192.168.10.110'], 'wildcard_list': ['0.0.0.1'], 'port_list': [80, 5432], 'protocol_list': ['ICMP', 'TCP', 'UDP'], 'num_rules': 10}}, {'type': 'LINKS', 'label': 'LINKS', 'options': {'link_references': ['router_1:eth-1<->switch_1:eth-8', 'router_1:eth-2<->switch_2:eth-8', 'switch_1:eth-1<->domain_controller:eth-1', 'switch_1:eth-2<->web_server:eth-1', 'switch_1:eth-3<->database_server:eth-1', 'switch_1:eth-4<->backup_server:eth-1', 'switch_1:eth-7<->security_suite:eth-1', 'switch_2:eth-1<->client_1:eth-1', 'switch_2:eth-2<->client_2:eth-1', 'switch_2:eth-7<->security_suite:eth-2']}}, {'type': 'NONE', 'label': 'ICS', 'options': {}}]}}\n"
     ]
    }
   ],
   "source": [
    "gym = PrimaiteGymEnv(game_config=cfg)"
   ]
  },
  {
   "cell_type": "code",
   "execution_count": 6,
   "metadata": {},
   "outputs": [],
   "source": [
    "from stable_baselines3 import PPO\n",
    "\n",
    "EPISODE_LEN = 128\n",
    "NO_STEPS = EPISODE_LEN * 10\n",
    "BATCH_SIZE = EPISODE_LEN * 10\n",
    "TOTAL_TIMESTEPS = 5e3 * EPISODE_LEN\n",
    "LEARNING_RATE = 3e-4"
   ]
  },
  {
   "cell_type": "code",
   "execution_count": 7,
   "metadata": {},
   "outputs": [],
   "source": [
    "model = PPO('MlpPolicy', gym, learning_rate=LEARNING_RATE,  n_steps=NO_STEPS, batch_size=BATCH_SIZE, verbose=0, tensorboard_log=\"./PPO_UC2/\")\n"
   ]
  },
  {
   "cell_type": "code",
   "execution_count": 8,
   "metadata": {},
   "outputs": [
    {
     "name": "stderr",
     "output_type": "stream",
     "text": [
      "2024-04-08 14:49:28,065: Resetting environment, episode 0, avg. reward: 0.0\n",
      "2024-04-08 14:49:28,068: Saving agent action log to C:\\Users\\CharlieCrane\\primaite\\3.0.0b7\\sessions\\2024-04-08\\14-49-25\\agent_actions\\episode_0.json\n"
     ]
    },
    {
     "name": "stdout",
     "output_type": "stream",
     "text": [
      "{'type': 'CUSTOM', 'options': {'components': [{'type': 'NODES', 'label': 'NODES', 'options': {'hosts': [{'hostname': 'domain_controller'}, {'hostname': 'web_server', 'services': [{'service_name': 'WebServer'}]}, {'hostname': 'database_server', 'folders': [{'folder_name': 'database', 'files': [{'file_name': 'database.db'}]}]}, {'hostname': 'backup_server'}, {'hostname': 'security_suite'}, {'hostname': 'client_1'}, {'hostname': 'client_2'}], 'num_services': 1, 'num_applications': 0, 'num_folders': 1, 'num_files': 1, 'num_nics': 2, 'include_num_access': False, 'include_nmne': True, 'routers': [{'hostname': 'router_1'}], 'num_ports': 0, 'ip_list': ['192.168.1.10', '192.168.1.12', '192.168.1.14', '192.168.1.16', '192.168.1.110', '192.168.10.21', '192.168.10.22', '192.168.10.110'], 'wildcard_list': ['0.0.0.1'], 'port_list': [80, 5432], 'protocol_list': ['ICMP', 'TCP', 'UDP'], 'num_rules': 10}}, {'type': 'LINKS', 'label': 'LINKS', 'options': {'link_references': ['router_1:eth-1<->switch_1:eth-8', 'router_1:eth-2<->switch_2:eth-8', 'switch_1:eth-1<->domain_controller:eth-1', 'switch_1:eth-2<->web_server:eth-1', 'switch_1:eth-3<->database_server:eth-1', 'switch_1:eth-4<->backup_server:eth-1', 'switch_1:eth-7<->security_suite:eth-1', 'switch_2:eth-1<->client_1:eth-1', 'switch_2:eth-2<->client_2:eth-1', 'switch_2:eth-7<->security_suite:eth-2']}}, {'type': 'NONE', 'label': 'ICS', 'options': {}}]}}\n"
     ]
    },
    {
     "name": "stderr",
     "output_type": "stream",
     "text": [
      "2024-04-08 14:49:29,639: Resetting environment, episode 1, avg. reward: -17.149999999999974\n",
      "2024-04-08 14:49:29,643: Saving agent action log to C:\\Users\\CharlieCrane\\primaite\\3.0.0b7\\sessions\\2024-04-08\\14-49-25\\agent_actions\\episode_1.json\n"
     ]
    },
    {
     "name": "stdout",
     "output_type": "stream",
     "text": [
      "{'type': 'CUSTOM', 'options': {'components': [{'type': 'NODES', 'label': 'NODES', 'options': {'hosts': [{'hostname': 'domain_controller'}, {'hostname': 'web_server', 'services': [{'service_name': 'WebServer'}]}, {'hostname': 'database_server', 'folders': [{'folder_name': 'database', 'files': [{'file_name': 'database.db'}]}]}, {'hostname': 'backup_server'}, {'hostname': 'security_suite'}, {'hostname': 'client_1'}, {'hostname': 'client_2'}], 'num_services': 1, 'num_applications': 0, 'num_folders': 1, 'num_files': 1, 'num_nics': 2, 'include_num_access': False, 'include_nmne': True, 'routers': [{'hostname': 'router_1'}], 'num_ports': 0, 'ip_list': ['192.168.1.10', '192.168.1.12', '192.168.1.14', '192.168.1.16', '192.168.1.110', '192.168.10.21', '192.168.10.22', '192.168.10.110'], 'wildcard_list': ['0.0.0.1'], 'port_list': [80, 5432], 'protocol_list': ['ICMP', 'TCP', 'UDP'], 'num_rules': 10}}, {'type': 'LINKS', 'label': 'LINKS', 'options': {'link_references': ['router_1:eth-1<->switch_1:eth-8', 'router_1:eth-2<->switch_2:eth-8', 'switch_1:eth-1<->domain_controller:eth-1', 'switch_1:eth-2<->web_server:eth-1', 'switch_1:eth-3<->database_server:eth-1', 'switch_1:eth-4<->backup_server:eth-1', 'switch_1:eth-7<->security_suite:eth-1', 'switch_2:eth-1<->client_1:eth-1', 'switch_2:eth-2<->client_2:eth-1', 'switch_2:eth-7<->security_suite:eth-2']}}, {'type': 'NONE', 'label': 'ICS', 'options': {}}]}}\n"
     ]
    },
    {
     "name": "stderr",
     "output_type": "stream",
     "text": [
      "2024-04-08 14:49:31,337: Resetting environment, episode 2, avg. reward: -12.099999999999989\n",
      "2024-04-08 14:49:31,339: Saving agent action log to C:\\Users\\CharlieCrane\\primaite\\3.0.0b7\\sessions\\2024-04-08\\14-49-25\\agent_actions\\episode_2.json\n"
     ]
    },
    {
     "name": "stdout",
     "output_type": "stream",
     "text": [
      "{'type': 'CUSTOM', 'options': {'components': [{'type': 'NODES', 'label': 'NODES', 'options': {'hosts': [{'hostname': 'domain_controller'}, {'hostname': 'web_server', 'services': [{'service_name': 'WebServer'}]}, {'hostname': 'database_server', 'folders': [{'folder_name': 'database', 'files': [{'file_name': 'database.db'}]}]}, {'hostname': 'backup_server'}, {'hostname': 'security_suite'}, {'hostname': 'client_1'}, {'hostname': 'client_2'}], 'num_services': 1, 'num_applications': 0, 'num_folders': 1, 'num_files': 1, 'num_nics': 2, 'include_num_access': False, 'include_nmne': True, 'routers': [{'hostname': 'router_1'}], 'num_ports': 0, 'ip_list': ['192.168.1.10', '192.168.1.12', '192.168.1.14', '192.168.1.16', '192.168.1.110', '192.168.10.21', '192.168.10.22', '192.168.10.110'], 'wildcard_list': ['0.0.0.1'], 'port_list': [80, 5432], 'protocol_list': ['ICMP', 'TCP', 'UDP'], 'num_rules': 10}}, {'type': 'LINKS', 'label': 'LINKS', 'options': {'link_references': ['router_1:eth-1<->switch_1:eth-8', 'router_1:eth-2<->switch_2:eth-8', 'switch_1:eth-1<->domain_controller:eth-1', 'switch_1:eth-2<->web_server:eth-1', 'switch_1:eth-3<->database_server:eth-1', 'switch_1:eth-4<->backup_server:eth-1', 'switch_1:eth-7<->security_suite:eth-1', 'switch_2:eth-1<->client_1:eth-1', 'switch_2:eth-2<->client_2:eth-1', 'switch_2:eth-7<->security_suite:eth-2']}}, {'type': 'NONE', 'label': 'ICS', 'options': {}}]}}\n"
     ]
    },
    {
     "name": "stderr",
     "output_type": "stream",
     "text": [
      "2024-04-08 14:49:32,540: Resetting environment, episode 3, avg. reward: -44.500000000000064\n",
      "2024-04-08 14:49:32,543: Saving agent action log to C:\\Users\\CharlieCrane\\primaite\\3.0.0b7\\sessions\\2024-04-08\\14-49-25\\agent_actions\\episode_3.json\n"
     ]
    },
    {
     "name": "stdout",
     "output_type": "stream",
     "text": [
      "{'type': 'CUSTOM', 'options': {'components': [{'type': 'NODES', 'label': 'NODES', 'options': {'hosts': [{'hostname': 'domain_controller'}, {'hostname': 'web_server', 'services': [{'service_name': 'WebServer'}]}, {'hostname': 'database_server', 'folders': [{'folder_name': 'database', 'files': [{'file_name': 'database.db'}]}]}, {'hostname': 'backup_server'}, {'hostname': 'security_suite'}, {'hostname': 'client_1'}, {'hostname': 'client_2'}], 'num_services': 1, 'num_applications': 0, 'num_folders': 1, 'num_files': 1, 'num_nics': 2, 'include_num_access': False, 'include_nmne': True, 'routers': [{'hostname': 'router_1'}], 'num_ports': 0, 'ip_list': ['192.168.1.10', '192.168.1.12', '192.168.1.14', '192.168.1.16', '192.168.1.110', '192.168.10.21', '192.168.10.22', '192.168.10.110'], 'wildcard_list': ['0.0.0.1'], 'port_list': [80, 5432], 'protocol_list': ['ICMP', 'TCP', 'UDP'], 'num_rules': 10}}, {'type': 'LINKS', 'label': 'LINKS', 'options': {'link_references': ['router_1:eth-1<->switch_1:eth-8', 'router_1:eth-2<->switch_2:eth-8', 'switch_1:eth-1<->domain_controller:eth-1', 'switch_1:eth-2<->web_server:eth-1', 'switch_1:eth-3<->database_server:eth-1', 'switch_1:eth-4<->backup_server:eth-1', 'switch_1:eth-7<->security_suite:eth-1', 'switch_2:eth-1<->client_1:eth-1', 'switch_2:eth-2<->client_2:eth-1', 'switch_2:eth-7<->security_suite:eth-2']}}, {'type': 'NONE', 'label': 'ICS', 'options': {}}]}}\n"
     ]
    },
    {
     "name": "stderr",
     "output_type": "stream",
     "text": [
      "2024-04-08 14:49:33,721: Resetting environment, episode 4, avg. reward: -22.949999999999953\n",
      "2024-04-08 14:49:33,724: Saving agent action log to C:\\Users\\CharlieCrane\\primaite\\3.0.0b7\\sessions\\2024-04-08\\14-49-25\\agent_actions\\episode_4.json\n"
     ]
    },
    {
     "name": "stdout",
     "output_type": "stream",
     "text": [
      "{'type': 'CUSTOM', 'options': {'components': [{'type': 'NODES', 'label': 'NODES', 'options': {'hosts': [{'hostname': 'domain_controller'}, {'hostname': 'web_server', 'services': [{'service_name': 'WebServer'}]}, {'hostname': 'database_server', 'folders': [{'folder_name': 'database', 'files': [{'file_name': 'database.db'}]}]}, {'hostname': 'backup_server'}, {'hostname': 'security_suite'}, {'hostname': 'client_1'}, {'hostname': 'client_2'}], 'num_services': 1, 'num_applications': 0, 'num_folders': 1, 'num_files': 1, 'num_nics': 2, 'include_num_access': False, 'include_nmne': True, 'routers': [{'hostname': 'router_1'}], 'num_ports': 0, 'ip_list': ['192.168.1.10', '192.168.1.12', '192.168.1.14', '192.168.1.16', '192.168.1.110', '192.168.10.21', '192.168.10.22', '192.168.10.110'], 'wildcard_list': ['0.0.0.1'], 'port_list': [80, 5432], 'protocol_list': ['ICMP', 'TCP', 'UDP'], 'num_rules': 10}}, {'type': 'LINKS', 'label': 'LINKS', 'options': {'link_references': ['router_1:eth-1<->switch_1:eth-8', 'router_1:eth-2<->switch_2:eth-8', 'switch_1:eth-1<->domain_controller:eth-1', 'switch_1:eth-2<->web_server:eth-1', 'switch_1:eth-3<->database_server:eth-1', 'switch_1:eth-4<->backup_server:eth-1', 'switch_1:eth-7<->security_suite:eth-1', 'switch_2:eth-1<->client_1:eth-1', 'switch_2:eth-2<->client_2:eth-1', 'switch_2:eth-7<->security_suite:eth-2']}}, {'type': 'NONE', 'label': 'ICS', 'options': {}}]}}\n"
     ]
    },
    {
     "name": "stderr",
     "output_type": "stream",
     "text": [
      "2024-04-08 14:49:35,248: Resetting environment, episode 5, avg. reward: -17.64999999999998\n",
      "2024-04-08 14:49:35,253: Saving agent action log to C:\\Users\\CharlieCrane\\primaite\\3.0.0b7\\sessions\\2024-04-08\\14-49-25\\agent_actions\\episode_5.json\n"
     ]
    },
    {
     "name": "stdout",
     "output_type": "stream",
     "text": [
      "{'type': 'CUSTOM', 'options': {'components': [{'type': 'NODES', 'label': 'NODES', 'options': {'hosts': [{'hostname': 'domain_controller'}, {'hostname': 'web_server', 'services': [{'service_name': 'WebServer'}]}, {'hostname': 'database_server', 'folders': [{'folder_name': 'database', 'files': [{'file_name': 'database.db'}]}]}, {'hostname': 'backup_server'}, {'hostname': 'security_suite'}, {'hostname': 'client_1'}, {'hostname': 'client_2'}], 'num_services': 1, 'num_applications': 0, 'num_folders': 1, 'num_files': 1, 'num_nics': 2, 'include_num_access': False, 'include_nmne': True, 'routers': [{'hostname': 'router_1'}], 'num_ports': 0, 'ip_list': ['192.168.1.10', '192.168.1.12', '192.168.1.14', '192.168.1.16', '192.168.1.110', '192.168.10.21', '192.168.10.22', '192.168.10.110'], 'wildcard_list': ['0.0.0.1'], 'port_list': [80, 5432], 'protocol_list': ['ICMP', 'TCP', 'UDP'], 'num_rules': 10}}, {'type': 'LINKS', 'label': 'LINKS', 'options': {'link_references': ['router_1:eth-1<->switch_1:eth-8', 'router_1:eth-2<->switch_2:eth-8', 'switch_1:eth-1<->domain_controller:eth-1', 'switch_1:eth-2<->web_server:eth-1', 'switch_1:eth-3<->database_server:eth-1', 'switch_1:eth-4<->backup_server:eth-1', 'switch_1:eth-7<->security_suite:eth-1', 'switch_2:eth-1<->client_1:eth-1', 'switch_2:eth-2<->client_2:eth-1', 'switch_2:eth-7<->security_suite:eth-2']}}, {'type': 'NONE', 'label': 'ICS', 'options': {}}]}}\n"
     ]
    },
    {
     "name": "stderr",
     "output_type": "stream",
     "text": [
      "2024-04-08 14:49:36,676: Resetting environment, episode 6, avg. reward: -21.949999999999953\n",
      "2024-04-08 14:49:36,679: Saving agent action log to C:\\Users\\CharlieCrane\\primaite\\3.0.0b7\\sessions\\2024-04-08\\14-49-25\\agent_actions\\episode_6.json\n"
     ]
    },
    {
     "name": "stdout",
     "output_type": "stream",
     "text": [
      "{'type': 'CUSTOM', 'options': {'components': [{'type': 'NODES', 'label': 'NODES', 'options': {'hosts': [{'hostname': 'domain_controller'}, {'hostname': 'web_server', 'services': [{'service_name': 'WebServer'}]}, {'hostname': 'database_server', 'folders': [{'folder_name': 'database', 'files': [{'file_name': 'database.db'}]}]}, {'hostname': 'backup_server'}, {'hostname': 'security_suite'}, {'hostname': 'client_1'}, {'hostname': 'client_2'}], 'num_services': 1, 'num_applications': 0, 'num_folders': 1, 'num_files': 1, 'num_nics': 2, 'include_num_access': False, 'include_nmne': True, 'routers': [{'hostname': 'router_1'}], 'num_ports': 0, 'ip_list': ['192.168.1.10', '192.168.1.12', '192.168.1.14', '192.168.1.16', '192.168.1.110', '192.168.10.21', '192.168.10.22', '192.168.10.110'], 'wildcard_list': ['0.0.0.1'], 'port_list': [80, 5432], 'protocol_list': ['ICMP', 'TCP', 'UDP'], 'num_rules': 10}}, {'type': 'LINKS', 'label': 'LINKS', 'options': {'link_references': ['router_1:eth-1<->switch_1:eth-8', 'router_1:eth-2<->switch_2:eth-8', 'switch_1:eth-1<->domain_controller:eth-1', 'switch_1:eth-2<->web_server:eth-1', 'switch_1:eth-3<->database_server:eth-1', 'switch_1:eth-4<->backup_server:eth-1', 'switch_1:eth-7<->security_suite:eth-1', 'switch_2:eth-1<->client_1:eth-1', 'switch_2:eth-2<->client_2:eth-1', 'switch_2:eth-7<->security_suite:eth-2']}}, {'type': 'NONE', 'label': 'ICS', 'options': {}}]}}\n"
     ]
    },
    {
     "name": "stderr",
     "output_type": "stream",
     "text": [
      "2024-04-08 14:49:38,158: Resetting environment, episode 7, avg. reward: -88.5999999999998\n",
      "2024-04-08 14:49:38,161: Saving agent action log to C:\\Users\\CharlieCrane\\primaite\\3.0.0b7\\sessions\\2024-04-08\\14-49-25\\agent_actions\\episode_7.json\n"
     ]
    },
    {
     "name": "stdout",
     "output_type": "stream",
     "text": [
      "{'type': 'CUSTOM', 'options': {'components': [{'type': 'NODES', 'label': 'NODES', 'options': {'hosts': [{'hostname': 'domain_controller'}, {'hostname': 'web_server', 'services': [{'service_name': 'WebServer'}]}, {'hostname': 'database_server', 'folders': [{'folder_name': 'database', 'files': [{'file_name': 'database.db'}]}]}, {'hostname': 'backup_server'}, {'hostname': 'security_suite'}, {'hostname': 'client_1'}, {'hostname': 'client_2'}], 'num_services': 1, 'num_applications': 0, 'num_folders': 1, 'num_files': 1, 'num_nics': 2, 'include_num_access': False, 'include_nmne': True, 'routers': [{'hostname': 'router_1'}], 'num_ports': 0, 'ip_list': ['192.168.1.10', '192.168.1.12', '192.168.1.14', '192.168.1.16', '192.168.1.110', '192.168.10.21', '192.168.10.22', '192.168.10.110'], 'wildcard_list': ['0.0.0.1'], 'port_list': [80, 5432], 'protocol_list': ['ICMP', 'TCP', 'UDP'], 'num_rules': 10}}, {'type': 'LINKS', 'label': 'LINKS', 'options': {'link_references': ['router_1:eth-1<->switch_1:eth-8', 'router_1:eth-2<->switch_2:eth-8', 'switch_1:eth-1<->domain_controller:eth-1', 'switch_1:eth-2<->web_server:eth-1', 'switch_1:eth-3<->database_server:eth-1', 'switch_1:eth-4<->backup_server:eth-1', 'switch_1:eth-7<->security_suite:eth-1', 'switch_2:eth-1<->client_1:eth-1', 'switch_2:eth-2<->client_2:eth-1', 'switch_2:eth-7<->security_suite:eth-2']}}, {'type': 'NONE', 'label': 'ICS', 'options': {}}]}}\n"
     ]
    },
    {
     "name": "stderr",
     "output_type": "stream",
     "text": [
      "2024-04-08 14:49:39,570: Resetting environment, episode 8, avg. reward: -42.750000000000156\n",
      "2024-04-08 14:49:39,572: Saving agent action log to C:\\Users\\CharlieCrane\\primaite\\3.0.0b7\\sessions\\2024-04-08\\14-49-25\\agent_actions\\episode_8.json\n"
     ]
    },
    {
     "name": "stdout",
     "output_type": "stream",
     "text": [
      "{'type': 'CUSTOM', 'options': {'components': [{'type': 'NODES', 'label': 'NODES', 'options': {'hosts': [{'hostname': 'domain_controller'}, {'hostname': 'web_server', 'services': [{'service_name': 'WebServer'}]}, {'hostname': 'database_server', 'folders': [{'folder_name': 'database', 'files': [{'file_name': 'database.db'}]}]}, {'hostname': 'backup_server'}, {'hostname': 'security_suite'}, {'hostname': 'client_1'}, {'hostname': 'client_2'}], 'num_services': 1, 'num_applications': 0, 'num_folders': 1, 'num_files': 1, 'num_nics': 2, 'include_num_access': False, 'include_nmne': True, 'routers': [{'hostname': 'router_1'}], 'num_ports': 0, 'ip_list': ['192.168.1.10', '192.168.1.12', '192.168.1.14', '192.168.1.16', '192.168.1.110', '192.168.10.21', '192.168.10.22', '192.168.10.110'], 'wildcard_list': ['0.0.0.1'], 'port_list': [80, 5432], 'protocol_list': ['ICMP', 'TCP', 'UDP'], 'num_rules': 10}}, {'type': 'LINKS', 'label': 'LINKS', 'options': {'link_references': ['router_1:eth-1<->switch_1:eth-8', 'router_1:eth-2<->switch_2:eth-8', 'switch_1:eth-1<->domain_controller:eth-1', 'switch_1:eth-2<->web_server:eth-1', 'switch_1:eth-3<->database_server:eth-1', 'switch_1:eth-4<->backup_server:eth-1', 'switch_1:eth-7<->security_suite:eth-1', 'switch_2:eth-1<->client_1:eth-1', 'switch_2:eth-2<->client_2:eth-1', 'switch_2:eth-7<->security_suite:eth-2']}}, {'type': 'NONE', 'label': 'ICS', 'options': {}}]}}\n"
     ]
    },
    {
     "name": "stderr",
     "output_type": "stream",
     "text": [
      "2024-04-08 14:49:40,917: Resetting environment, episode 9, avg. reward: -13.999999999999982\n",
      "2024-04-08 14:49:40,920: Saving agent action log to C:\\Users\\CharlieCrane\\primaite\\3.0.0b7\\sessions\\2024-04-08\\14-49-25\\agent_actions\\episode_9.json\n"
     ]
    },
    {
     "name": "stdout",
     "output_type": "stream",
     "text": [
      "{'type': 'CUSTOM', 'options': {'components': [{'type': 'NODES', 'label': 'NODES', 'options': {'hosts': [{'hostname': 'domain_controller'}, {'hostname': 'web_server', 'services': [{'service_name': 'WebServer'}]}, {'hostname': 'database_server', 'folders': [{'folder_name': 'database', 'files': [{'file_name': 'database.db'}]}]}, {'hostname': 'backup_server'}, {'hostname': 'security_suite'}, {'hostname': 'client_1'}, {'hostname': 'client_2'}], 'num_services': 1, 'num_applications': 0, 'num_folders': 1, 'num_files': 1, 'num_nics': 2, 'include_num_access': False, 'include_nmne': True, 'routers': [{'hostname': 'router_1'}], 'num_ports': 0, 'ip_list': ['192.168.1.10', '192.168.1.12', '192.168.1.14', '192.168.1.16', '192.168.1.110', '192.168.10.21', '192.168.10.22', '192.168.10.110'], 'wildcard_list': ['0.0.0.1'], 'port_list': [80, 5432], 'protocol_list': ['ICMP', 'TCP', 'UDP'], 'num_rules': 10}}, {'type': 'LINKS', 'label': 'LINKS', 'options': {'link_references': ['router_1:eth-1<->switch_1:eth-8', 'router_1:eth-2<->switch_2:eth-8', 'switch_1:eth-1<->domain_controller:eth-1', 'switch_1:eth-2<->web_server:eth-1', 'switch_1:eth-3<->database_server:eth-1', 'switch_1:eth-4<->backup_server:eth-1', 'switch_1:eth-7<->security_suite:eth-1', 'switch_2:eth-1<->client_1:eth-1', 'switch_2:eth-2<->client_2:eth-1', 'switch_2:eth-7<->security_suite:eth-2']}}, {'type': 'NONE', 'label': 'ICS', 'options': {}}]}}\n"
     ]
    },
    {
     "name": "stderr",
     "output_type": "stream",
     "text": [
      "2024-04-08 14:49:42,112: Resetting environment, episode 10, avg. reward: -34.55000000000001\n",
      "2024-04-08 14:49:42,116: Saving agent action log to C:\\Users\\CharlieCrane\\primaite\\3.0.0b7\\sessions\\2024-04-08\\14-49-25\\agent_actions\\episode_10.json\n"
     ]
    },
    {
     "name": "stdout",
     "output_type": "stream",
     "text": [
      "{'type': 'CUSTOM', 'options': {'components': [{'type': 'NODES', 'label': 'NODES', 'options': {'hosts': [{'hostname': 'domain_controller'}, {'hostname': 'web_server', 'services': [{'service_name': 'WebServer'}]}, {'hostname': 'database_server', 'folders': [{'folder_name': 'database', 'files': [{'file_name': 'database.db'}]}]}, {'hostname': 'backup_server'}, {'hostname': 'security_suite'}, {'hostname': 'client_1'}, {'hostname': 'client_2'}], 'num_services': 1, 'num_applications': 0, 'num_folders': 1, 'num_files': 1, 'num_nics': 2, 'include_num_access': False, 'include_nmne': True, 'routers': [{'hostname': 'router_1'}], 'num_ports': 0, 'ip_list': ['192.168.1.10', '192.168.1.12', '192.168.1.14', '192.168.1.16', '192.168.1.110', '192.168.10.21', '192.168.10.22', '192.168.10.110'], 'wildcard_list': ['0.0.0.1'], 'port_list': [80, 5432], 'protocol_list': ['ICMP', 'TCP', 'UDP'], 'num_rules': 10}}, {'type': 'LINKS', 'label': 'LINKS', 'options': {'link_references': ['router_1:eth-1<->switch_1:eth-8', 'router_1:eth-2<->switch_2:eth-8', 'switch_1:eth-1<->domain_controller:eth-1', 'switch_1:eth-2<->web_server:eth-1', 'switch_1:eth-3<->database_server:eth-1', 'switch_1:eth-4<->backup_server:eth-1', 'switch_1:eth-7<->security_suite:eth-1', 'switch_2:eth-1<->client_1:eth-1', 'switch_2:eth-2<->client_2:eth-1', 'switch_2:eth-7<->security_suite:eth-2']}}, {'type': 'NONE', 'label': 'ICS', 'options': {}}]}}\n"
     ]
    },
    {
     "name": "stderr",
     "output_type": "stream",
     "text": [
      "2024-04-08 14:49:43,768: Resetting environment, episode 11, avg. reward: -19.399999999999963\n",
      "2024-04-08 14:49:43,771: Saving agent action log to C:\\Users\\CharlieCrane\\primaite\\3.0.0b7\\sessions\\2024-04-08\\14-49-25\\agent_actions\\episode_11.json\n"
     ]
    },
    {
     "name": "stdout",
     "output_type": "stream",
     "text": [
      "{'type': 'CUSTOM', 'options': {'components': [{'type': 'NODES', 'label': 'NODES', 'options': {'hosts': [{'hostname': 'domain_controller'}, {'hostname': 'web_server', 'services': [{'service_name': 'WebServer'}]}, {'hostname': 'database_server', 'folders': [{'folder_name': 'database', 'files': [{'file_name': 'database.db'}]}]}, {'hostname': 'backup_server'}, {'hostname': 'security_suite'}, {'hostname': 'client_1'}, {'hostname': 'client_2'}], 'num_services': 1, 'num_applications': 0, 'num_folders': 1, 'num_files': 1, 'num_nics': 2, 'include_num_access': False, 'include_nmne': True, 'routers': [{'hostname': 'router_1'}], 'num_ports': 0, 'ip_list': ['192.168.1.10', '192.168.1.12', '192.168.1.14', '192.168.1.16', '192.168.1.110', '192.168.10.21', '192.168.10.22', '192.168.10.110'], 'wildcard_list': ['0.0.0.1'], 'port_list': [80, 5432], 'protocol_list': ['ICMP', 'TCP', 'UDP'], 'num_rules': 10}}, {'type': 'LINKS', 'label': 'LINKS', 'options': {'link_references': ['router_1:eth-1<->switch_1:eth-8', 'router_1:eth-2<->switch_2:eth-8', 'switch_1:eth-1<->domain_controller:eth-1', 'switch_1:eth-2<->web_server:eth-1', 'switch_1:eth-3<->database_server:eth-1', 'switch_1:eth-4<->backup_server:eth-1', 'switch_1:eth-7<->security_suite:eth-1', 'switch_2:eth-1<->client_1:eth-1', 'switch_2:eth-2<->client_2:eth-1', 'switch_2:eth-7<->security_suite:eth-2']}}, {'type': 'NONE', 'label': 'ICS', 'options': {}}]}}\n"
     ]
    },
    {
     "name": "stderr",
     "output_type": "stream",
     "text": [
      "2024-04-08 14:49:45,216: Resetting environment, episode 12, avg. reward: -11.049999999999988\n",
      "2024-04-08 14:49:45,219: Saving agent action log to C:\\Users\\CharlieCrane\\primaite\\3.0.0b7\\sessions\\2024-04-08\\14-49-25\\agent_actions\\episode_12.json\n"
     ]
    },
    {
     "name": "stdout",
     "output_type": "stream",
     "text": [
      "{'type': 'CUSTOM', 'options': {'components': [{'type': 'NODES', 'label': 'NODES', 'options': {'hosts': [{'hostname': 'domain_controller'}, {'hostname': 'web_server', 'services': [{'service_name': 'WebServer'}]}, {'hostname': 'database_server', 'folders': [{'folder_name': 'database', 'files': [{'file_name': 'database.db'}]}]}, {'hostname': 'backup_server'}, {'hostname': 'security_suite'}, {'hostname': 'client_1'}, {'hostname': 'client_2'}], 'num_services': 1, 'num_applications': 0, 'num_folders': 1, 'num_files': 1, 'num_nics': 2, 'include_num_access': False, 'include_nmne': True, 'routers': [{'hostname': 'router_1'}], 'num_ports': 0, 'ip_list': ['192.168.1.10', '192.168.1.12', '192.168.1.14', '192.168.1.16', '192.168.1.110', '192.168.10.21', '192.168.10.22', '192.168.10.110'], 'wildcard_list': ['0.0.0.1'], 'port_list': [80, 5432], 'protocol_list': ['ICMP', 'TCP', 'UDP'], 'num_rules': 10}}, {'type': 'LINKS', 'label': 'LINKS', 'options': {'link_references': ['router_1:eth-1<->switch_1:eth-8', 'router_1:eth-2<->switch_2:eth-8', 'switch_1:eth-1<->domain_controller:eth-1', 'switch_1:eth-2<->web_server:eth-1', 'switch_1:eth-3<->database_server:eth-1', 'switch_1:eth-4<->backup_server:eth-1', 'switch_1:eth-7<->security_suite:eth-1', 'switch_2:eth-1<->client_1:eth-1', 'switch_2:eth-2<->client_2:eth-1', 'switch_2:eth-7<->security_suite:eth-2']}}, {'type': 'NONE', 'label': 'ICS', 'options': {}}]}}\n"
     ]
    },
    {
     "name": "stderr",
     "output_type": "stream",
     "text": [
      "2024-04-08 14:49:46,830: Resetting environment, episode 13, avg. reward: -33.1\n",
      "2024-04-08 14:49:46,833: Saving agent action log to C:\\Users\\CharlieCrane\\primaite\\3.0.0b7\\sessions\\2024-04-08\\14-49-25\\agent_actions\\episode_13.json\n"
     ]
    },
    {
     "name": "stdout",
     "output_type": "stream",
     "text": [
      "{'type': 'CUSTOM', 'options': {'components': [{'type': 'NODES', 'label': 'NODES', 'options': {'hosts': [{'hostname': 'domain_controller'}, {'hostname': 'web_server', 'services': [{'service_name': 'WebServer'}]}, {'hostname': 'database_server', 'folders': [{'folder_name': 'database', 'files': [{'file_name': 'database.db'}]}]}, {'hostname': 'backup_server'}, {'hostname': 'security_suite'}, {'hostname': 'client_1'}, {'hostname': 'client_2'}], 'num_services': 1, 'num_applications': 0, 'num_folders': 1, 'num_files': 1, 'num_nics': 2, 'include_num_access': False, 'include_nmne': True, 'routers': [{'hostname': 'router_1'}], 'num_ports': 0, 'ip_list': ['192.168.1.10', '192.168.1.12', '192.168.1.14', '192.168.1.16', '192.168.1.110', '192.168.10.21', '192.168.10.22', '192.168.10.110'], 'wildcard_list': ['0.0.0.1'], 'port_list': [80, 5432], 'protocol_list': ['ICMP', 'TCP', 'UDP'], 'num_rules': 10}}, {'type': 'LINKS', 'label': 'LINKS', 'options': {'link_references': ['router_1:eth-1<->switch_1:eth-8', 'router_1:eth-2<->switch_2:eth-8', 'switch_1:eth-1<->domain_controller:eth-1', 'switch_1:eth-2<->web_server:eth-1', 'switch_1:eth-3<->database_server:eth-1', 'switch_1:eth-4<->backup_server:eth-1', 'switch_1:eth-7<->security_suite:eth-1', 'switch_2:eth-1<->client_1:eth-1', 'switch_2:eth-2<->client_2:eth-1', 'switch_2:eth-7<->security_suite:eth-2']}}, {'type': 'NONE', 'label': 'ICS', 'options': {}}]}}\n"
     ]
    },
    {
     "name": "stderr",
     "output_type": "stream",
     "text": [
      "2024-04-08 14:49:48,302: Resetting environment, episode 14, avg. reward: -17.499999999999968\n",
      "2024-04-08 14:49:48,306: Saving agent action log to C:\\Users\\CharlieCrane\\primaite\\3.0.0b7\\sessions\\2024-04-08\\14-49-25\\agent_actions\\episode_14.json\n"
     ]
    },
    {
     "name": "stdout",
     "output_type": "stream",
     "text": [
      "{'type': 'CUSTOM', 'options': {'components': [{'type': 'NODES', 'label': 'NODES', 'options': {'hosts': [{'hostname': 'domain_controller'}, {'hostname': 'web_server', 'services': [{'service_name': 'WebServer'}]}, {'hostname': 'database_server', 'folders': [{'folder_name': 'database', 'files': [{'file_name': 'database.db'}]}]}, {'hostname': 'backup_server'}, {'hostname': 'security_suite'}, {'hostname': 'client_1'}, {'hostname': 'client_2'}], 'num_services': 1, 'num_applications': 0, 'num_folders': 1, 'num_files': 1, 'num_nics': 2, 'include_num_access': False, 'include_nmne': True, 'routers': [{'hostname': 'router_1'}], 'num_ports': 0, 'ip_list': ['192.168.1.10', '192.168.1.12', '192.168.1.14', '192.168.1.16', '192.168.1.110', '192.168.10.21', '192.168.10.22', '192.168.10.110'], 'wildcard_list': ['0.0.0.1'], 'port_list': [80, 5432], 'protocol_list': ['ICMP', 'TCP', 'UDP'], 'num_rules': 10}}, {'type': 'LINKS', 'label': 'LINKS', 'options': {'link_references': ['router_1:eth-1<->switch_1:eth-8', 'router_1:eth-2<->switch_2:eth-8', 'switch_1:eth-1<->domain_controller:eth-1', 'switch_1:eth-2<->web_server:eth-1', 'switch_1:eth-3<->database_server:eth-1', 'switch_1:eth-4<->backup_server:eth-1', 'switch_1:eth-7<->security_suite:eth-1', 'switch_2:eth-1<->client_1:eth-1', 'switch_2:eth-2<->client_2:eth-1', 'switch_2:eth-7<->security_suite:eth-2']}}, {'type': 'NONE', 'label': 'ICS', 'options': {}}]}}\n"
     ]
    },
    {
     "name": "stderr",
     "output_type": "stream",
     "text": [
      "2024-04-08 14:49:50,142: Resetting environment, episode 15, avg. reward: -22.299999999999955\n",
      "2024-04-08 14:49:50,146: Saving agent action log to C:\\Users\\CharlieCrane\\primaite\\3.0.0b7\\sessions\\2024-04-08\\14-49-25\\agent_actions\\episode_15.json\n"
     ]
    },
    {
     "name": "stdout",
     "output_type": "stream",
     "text": [
      "{'type': 'CUSTOM', 'options': {'components': [{'type': 'NODES', 'label': 'NODES', 'options': {'hosts': [{'hostname': 'domain_controller'}, {'hostname': 'web_server', 'services': [{'service_name': 'WebServer'}]}, {'hostname': 'database_server', 'folders': [{'folder_name': 'database', 'files': [{'file_name': 'database.db'}]}]}, {'hostname': 'backup_server'}, {'hostname': 'security_suite'}, {'hostname': 'client_1'}, {'hostname': 'client_2'}], 'num_services': 1, 'num_applications': 0, 'num_folders': 1, 'num_files': 1, 'num_nics': 2, 'include_num_access': False, 'include_nmne': True, 'routers': [{'hostname': 'router_1'}], 'num_ports': 0, 'ip_list': ['192.168.1.10', '192.168.1.12', '192.168.1.14', '192.168.1.16', '192.168.1.110', '192.168.10.21', '192.168.10.22', '192.168.10.110'], 'wildcard_list': ['0.0.0.1'], 'port_list': [80, 5432], 'protocol_list': ['ICMP', 'TCP', 'UDP'], 'num_rules': 10}}, {'type': 'LINKS', 'label': 'LINKS', 'options': {'link_references': ['router_1:eth-1<->switch_1:eth-8', 'router_1:eth-2<->switch_2:eth-8', 'switch_1:eth-1<->domain_controller:eth-1', 'switch_1:eth-2<->web_server:eth-1', 'switch_1:eth-3<->database_server:eth-1', 'switch_1:eth-4<->backup_server:eth-1', 'switch_1:eth-7<->security_suite:eth-1', 'switch_2:eth-1<->client_1:eth-1', 'switch_2:eth-2<->client_2:eth-1', 'switch_2:eth-7<->security_suite:eth-2']}}, {'type': 'NONE', 'label': 'ICS', 'options': {}}]}}\n"
     ]
    },
    {
     "name": "stderr",
     "output_type": "stream",
     "text": [
      "2024-04-08 14:49:51,603: Resetting environment, episode 16, avg. reward: -64.8500000000001\n",
      "2024-04-08 14:49:51,606: Saving agent action log to C:\\Users\\CharlieCrane\\primaite\\3.0.0b7\\sessions\\2024-04-08\\14-49-25\\agent_actions\\episode_16.json\n"
     ]
    },
    {
     "name": "stdout",
     "output_type": "stream",
     "text": [
      "{'type': 'CUSTOM', 'options': {'components': [{'type': 'NODES', 'label': 'NODES', 'options': {'hosts': [{'hostname': 'domain_controller'}, {'hostname': 'web_server', 'services': [{'service_name': 'WebServer'}]}, {'hostname': 'database_server', 'folders': [{'folder_name': 'database', 'files': [{'file_name': 'database.db'}]}]}, {'hostname': 'backup_server'}, {'hostname': 'security_suite'}, {'hostname': 'client_1'}, {'hostname': 'client_2'}], 'num_services': 1, 'num_applications': 0, 'num_folders': 1, 'num_files': 1, 'num_nics': 2, 'include_num_access': False, 'include_nmne': True, 'routers': [{'hostname': 'router_1'}], 'num_ports': 0, 'ip_list': ['192.168.1.10', '192.168.1.12', '192.168.1.14', '192.168.1.16', '192.168.1.110', '192.168.10.21', '192.168.10.22', '192.168.10.110'], 'wildcard_list': ['0.0.0.1'], 'port_list': [80, 5432], 'protocol_list': ['ICMP', 'TCP', 'UDP'], 'num_rules': 10}}, {'type': 'LINKS', 'label': 'LINKS', 'options': {'link_references': ['router_1:eth-1<->switch_1:eth-8', 'router_1:eth-2<->switch_2:eth-8', 'switch_1:eth-1<->domain_controller:eth-1', 'switch_1:eth-2<->web_server:eth-1', 'switch_1:eth-3<->database_server:eth-1', 'switch_1:eth-4<->backup_server:eth-1', 'switch_1:eth-7<->security_suite:eth-1', 'switch_2:eth-1<->client_1:eth-1', 'switch_2:eth-2<->client_2:eth-1', 'switch_2:eth-7<->security_suite:eth-2']}}, {'type': 'NONE', 'label': 'ICS', 'options': {}}]}}\n"
     ]
    },
    {
     "name": "stderr",
     "output_type": "stream",
     "text": [
      "2024-04-08 14:49:53,295: Resetting environment, episode 17, avg. reward: -67.24999999999999\n",
      "2024-04-08 14:49:53,298: Saving agent action log to C:\\Users\\CharlieCrane\\primaite\\3.0.0b7\\sessions\\2024-04-08\\14-49-25\\agent_actions\\episode_17.json\n"
     ]
    },
    {
     "name": "stdout",
     "output_type": "stream",
     "text": [
      "{'type': 'CUSTOM', 'options': {'components': [{'type': 'NODES', 'label': 'NODES', 'options': {'hosts': [{'hostname': 'domain_controller'}, {'hostname': 'web_server', 'services': [{'service_name': 'WebServer'}]}, {'hostname': 'database_server', 'folders': [{'folder_name': 'database', 'files': [{'file_name': 'database.db'}]}]}, {'hostname': 'backup_server'}, {'hostname': 'security_suite'}, {'hostname': 'client_1'}, {'hostname': 'client_2'}], 'num_services': 1, 'num_applications': 0, 'num_folders': 1, 'num_files': 1, 'num_nics': 2, 'include_num_access': False, 'include_nmne': True, 'routers': [{'hostname': 'router_1'}], 'num_ports': 0, 'ip_list': ['192.168.1.10', '192.168.1.12', '192.168.1.14', '192.168.1.16', '192.168.1.110', '192.168.10.21', '192.168.10.22', '192.168.10.110'], 'wildcard_list': ['0.0.0.1'], 'port_list': [80, 5432], 'protocol_list': ['ICMP', 'TCP', 'UDP'], 'num_rules': 10}}, {'type': 'LINKS', 'label': 'LINKS', 'options': {'link_references': ['router_1:eth-1<->switch_1:eth-8', 'router_1:eth-2<->switch_2:eth-8', 'switch_1:eth-1<->domain_controller:eth-1', 'switch_1:eth-2<->web_server:eth-1', 'switch_1:eth-3<->database_server:eth-1', 'switch_1:eth-4<->backup_server:eth-1', 'switch_1:eth-7<->security_suite:eth-1', 'switch_2:eth-1<->client_1:eth-1', 'switch_2:eth-2<->client_2:eth-1', 'switch_2:eth-7<->security_suite:eth-2']}}, {'type': 'NONE', 'label': 'ICS', 'options': {}}]}}\n"
     ]
    },
    {
     "name": "stderr",
     "output_type": "stream",
     "text": [
      "2024-04-08 14:49:54,630: Resetting environment, episode 18, avg. reward: -20.799999999999958\n",
      "2024-04-08 14:49:54,633: Saving agent action log to C:\\Users\\CharlieCrane\\primaite\\3.0.0b7\\sessions\\2024-04-08\\14-49-25\\agent_actions\\episode_18.json\n"
     ]
    },
    {
     "name": "stdout",
     "output_type": "stream",
     "text": [
      "{'type': 'CUSTOM', 'options': {'components': [{'type': 'NODES', 'label': 'NODES', 'options': {'hosts': [{'hostname': 'domain_controller'}, {'hostname': 'web_server', 'services': [{'service_name': 'WebServer'}]}, {'hostname': 'database_server', 'folders': [{'folder_name': 'database', 'files': [{'file_name': 'database.db'}]}]}, {'hostname': 'backup_server'}, {'hostname': 'security_suite'}, {'hostname': 'client_1'}, {'hostname': 'client_2'}], 'num_services': 1, 'num_applications': 0, 'num_folders': 1, 'num_files': 1, 'num_nics': 2, 'include_num_access': False, 'include_nmne': True, 'routers': [{'hostname': 'router_1'}], 'num_ports': 0, 'ip_list': ['192.168.1.10', '192.168.1.12', '192.168.1.14', '192.168.1.16', '192.168.1.110', '192.168.10.21', '192.168.10.22', '192.168.10.110'], 'wildcard_list': ['0.0.0.1'], 'port_list': [80, 5432], 'protocol_list': ['ICMP', 'TCP', 'UDP'], 'num_rules': 10}}, {'type': 'LINKS', 'label': 'LINKS', 'options': {'link_references': ['router_1:eth-1<->switch_1:eth-8', 'router_1:eth-2<->switch_2:eth-8', 'switch_1:eth-1<->domain_controller:eth-1', 'switch_1:eth-2<->web_server:eth-1', 'switch_1:eth-3<->database_server:eth-1', 'switch_1:eth-4<->backup_server:eth-1', 'switch_1:eth-7<->security_suite:eth-1', 'switch_2:eth-1<->client_1:eth-1', 'switch_2:eth-2<->client_2:eth-1', 'switch_2:eth-7<->security_suite:eth-2']}}, {'type': 'NONE', 'label': 'ICS', 'options': {}}]}}\n"
     ]
    },
    {
     "name": "stderr",
     "output_type": "stream",
     "text": [
      "2024-04-08 14:49:56,091: Resetting environment, episode 19, avg. reward: -62.55000000000001\n",
      "2024-04-08 14:49:56,093: Saving agent action log to C:\\Users\\CharlieCrane\\primaite\\3.0.0b7\\sessions\\2024-04-08\\14-49-25\\agent_actions\\episode_19.json\n"
     ]
    },
    {
     "name": "stdout",
     "output_type": "stream",
     "text": [
      "{'type': 'CUSTOM', 'options': {'components': [{'type': 'NODES', 'label': 'NODES', 'options': {'hosts': [{'hostname': 'domain_controller'}, {'hostname': 'web_server', 'services': [{'service_name': 'WebServer'}]}, {'hostname': 'database_server', 'folders': [{'folder_name': 'database', 'files': [{'file_name': 'database.db'}]}]}, {'hostname': 'backup_server'}, {'hostname': 'security_suite'}, {'hostname': 'client_1'}, {'hostname': 'client_2'}], 'num_services': 1, 'num_applications': 0, 'num_folders': 1, 'num_files': 1, 'num_nics': 2, 'include_num_access': False, 'include_nmne': True, 'routers': [{'hostname': 'router_1'}], 'num_ports': 0, 'ip_list': ['192.168.1.10', '192.168.1.12', '192.168.1.14', '192.168.1.16', '192.168.1.110', '192.168.10.21', '192.168.10.22', '192.168.10.110'], 'wildcard_list': ['0.0.0.1'], 'port_list': [80, 5432], 'protocol_list': ['ICMP', 'TCP', 'UDP'], 'num_rules': 10}}, {'type': 'LINKS', 'label': 'LINKS', 'options': {'link_references': ['router_1:eth-1<->switch_1:eth-8', 'router_1:eth-2<->switch_2:eth-8', 'switch_1:eth-1<->domain_controller:eth-1', 'switch_1:eth-2<->web_server:eth-1', 'switch_1:eth-3<->database_server:eth-1', 'switch_1:eth-4<->backup_server:eth-1', 'switch_1:eth-7<->security_suite:eth-1', 'switch_2:eth-1<->client_1:eth-1', 'switch_2:eth-2<->client_2:eth-1', 'switch_2:eth-7<->security_suite:eth-2']}}, {'type': 'NONE', 'label': 'ICS', 'options': {}}]}}\n"
     ]
    },
    {
     "name": "stderr",
     "output_type": "stream",
     "text": [
      "2024-04-08 14:49:57,486: Resetting environment, episode 20, avg. reward: -24.649999999999984\n",
      "2024-04-08 14:49:57,489: Saving agent action log to C:\\Users\\CharlieCrane\\primaite\\3.0.0b7\\sessions\\2024-04-08\\14-49-25\\agent_actions\\episode_20.json\n"
     ]
    },
    {
     "name": "stdout",
     "output_type": "stream",
     "text": [
      "{'type': 'CUSTOM', 'options': {'components': [{'type': 'NODES', 'label': 'NODES', 'options': {'hosts': [{'hostname': 'domain_controller'}, {'hostname': 'web_server', 'services': [{'service_name': 'WebServer'}]}, {'hostname': 'database_server', 'folders': [{'folder_name': 'database', 'files': [{'file_name': 'database.db'}]}]}, {'hostname': 'backup_server'}, {'hostname': 'security_suite'}, {'hostname': 'client_1'}, {'hostname': 'client_2'}], 'num_services': 1, 'num_applications': 0, 'num_folders': 1, 'num_files': 1, 'num_nics': 2, 'include_num_access': False, 'include_nmne': True, 'routers': [{'hostname': 'router_1'}], 'num_ports': 0, 'ip_list': ['192.168.1.10', '192.168.1.12', '192.168.1.14', '192.168.1.16', '192.168.1.110', '192.168.10.21', '192.168.10.22', '192.168.10.110'], 'wildcard_list': ['0.0.0.1'], 'port_list': [80, 5432], 'protocol_list': ['ICMP', 'TCP', 'UDP'], 'num_rules': 10}}, {'type': 'LINKS', 'label': 'LINKS', 'options': {'link_references': ['router_1:eth-1<->switch_1:eth-8', 'router_1:eth-2<->switch_2:eth-8', 'switch_1:eth-1<->domain_controller:eth-1', 'switch_1:eth-2<->web_server:eth-1', 'switch_1:eth-3<->database_server:eth-1', 'switch_1:eth-4<->backup_server:eth-1', 'switch_1:eth-7<->security_suite:eth-1', 'switch_2:eth-1<->client_1:eth-1', 'switch_2:eth-2<->client_2:eth-1', 'switch_2:eth-7<->security_suite:eth-2']}}, {'type': 'NONE', 'label': 'ICS', 'options': {}}]}}\n"
     ]
    },
    {
     "name": "stderr",
     "output_type": "stream",
     "text": [
      "2024-04-08 14:49:59,243: Resetting environment, episode 21, avg. reward: -9.649999999999997\n",
      "2024-04-08 14:49:59,246: Saving agent action log to C:\\Users\\CharlieCrane\\primaite\\3.0.0b7\\sessions\\2024-04-08\\14-49-25\\agent_actions\\episode_21.json\n"
     ]
    },
    {
     "name": "stdout",
     "output_type": "stream",
     "text": [
      "{'type': 'CUSTOM', 'options': {'components': [{'type': 'NODES', 'label': 'NODES', 'options': {'hosts': [{'hostname': 'domain_controller'}, {'hostname': 'web_server', 'services': [{'service_name': 'WebServer'}]}, {'hostname': 'database_server', 'folders': [{'folder_name': 'database', 'files': [{'file_name': 'database.db'}]}]}, {'hostname': 'backup_server'}, {'hostname': 'security_suite'}, {'hostname': 'client_1'}, {'hostname': 'client_2'}], 'num_services': 1, 'num_applications': 0, 'num_folders': 1, 'num_files': 1, 'num_nics': 2, 'include_num_access': False, 'include_nmne': True, 'routers': [{'hostname': 'router_1'}], 'num_ports': 0, 'ip_list': ['192.168.1.10', '192.168.1.12', '192.168.1.14', '192.168.1.16', '192.168.1.110', '192.168.10.21', '192.168.10.22', '192.168.10.110'], 'wildcard_list': ['0.0.0.1'], 'port_list': [80, 5432], 'protocol_list': ['ICMP', 'TCP', 'UDP'], 'num_rules': 10}}, {'type': 'LINKS', 'label': 'LINKS', 'options': {'link_references': ['router_1:eth-1<->switch_1:eth-8', 'router_1:eth-2<->switch_2:eth-8', 'switch_1:eth-1<->domain_controller:eth-1', 'switch_1:eth-2<->web_server:eth-1', 'switch_1:eth-3<->database_server:eth-1', 'switch_1:eth-4<->backup_server:eth-1', 'switch_1:eth-7<->security_suite:eth-1', 'switch_2:eth-1<->client_1:eth-1', 'switch_2:eth-2<->client_2:eth-1', 'switch_2:eth-7<->security_suite:eth-2']}}, {'type': 'NONE', 'label': 'ICS', 'options': {}}]}}\n"
     ]
    },
    {
     "name": "stderr",
     "output_type": "stream",
     "text": [
      "2024-04-08 14:50:00,812: Resetting environment, episode 22, avg. reward: -21.749999999999957\n",
      "2024-04-08 14:50:00,815: Saving agent action log to C:\\Users\\CharlieCrane\\primaite\\3.0.0b7\\sessions\\2024-04-08\\14-49-25\\agent_actions\\episode_22.json\n"
     ]
    },
    {
     "name": "stdout",
     "output_type": "stream",
     "text": [
      "{'type': 'CUSTOM', 'options': {'components': [{'type': 'NODES', 'label': 'NODES', 'options': {'hosts': [{'hostname': 'domain_controller'}, {'hostname': 'web_server', 'services': [{'service_name': 'WebServer'}]}, {'hostname': 'database_server', 'folders': [{'folder_name': 'database', 'files': [{'file_name': 'database.db'}]}]}, {'hostname': 'backup_server'}, {'hostname': 'security_suite'}, {'hostname': 'client_1'}, {'hostname': 'client_2'}], 'num_services': 1, 'num_applications': 0, 'num_folders': 1, 'num_files': 1, 'num_nics': 2, 'include_num_access': False, 'include_nmne': True, 'routers': [{'hostname': 'router_1'}], 'num_ports': 0, 'ip_list': ['192.168.1.10', '192.168.1.12', '192.168.1.14', '192.168.1.16', '192.168.1.110', '192.168.10.21', '192.168.10.22', '192.168.10.110'], 'wildcard_list': ['0.0.0.1'], 'port_list': [80, 5432], 'protocol_list': ['ICMP', 'TCP', 'UDP'], 'num_rules': 10}}, {'type': 'LINKS', 'label': 'LINKS', 'options': {'link_references': ['router_1:eth-1<->switch_1:eth-8', 'router_1:eth-2<->switch_2:eth-8', 'switch_1:eth-1<->domain_controller:eth-1', 'switch_1:eth-2<->web_server:eth-1', 'switch_1:eth-3<->database_server:eth-1', 'switch_1:eth-4<->backup_server:eth-1', 'switch_1:eth-7<->security_suite:eth-1', 'switch_2:eth-1<->client_1:eth-1', 'switch_2:eth-2<->client_2:eth-1', 'switch_2:eth-7<->security_suite:eth-2']}}, {'type': 'NONE', 'label': 'ICS', 'options': {}}]}}\n"
     ]
    },
    {
     "name": "stderr",
     "output_type": "stream",
     "text": [
      "2024-04-08 14:50:02,403: Resetting environment, episode 23, avg. reward: -15.949999999999978\n",
      "2024-04-08 14:50:02,405: Saving agent action log to C:\\Users\\CharlieCrane\\primaite\\3.0.0b7\\sessions\\2024-04-08\\14-49-25\\agent_actions\\episode_23.json\n"
     ]
    },
    {
     "name": "stdout",
     "output_type": "stream",
     "text": [
      "{'type': 'CUSTOM', 'options': {'components': [{'type': 'NODES', 'label': 'NODES', 'options': {'hosts': [{'hostname': 'domain_controller'}, {'hostname': 'web_server', 'services': [{'service_name': 'WebServer'}]}, {'hostname': 'database_server', 'folders': [{'folder_name': 'database', 'files': [{'file_name': 'database.db'}]}]}, {'hostname': 'backup_server'}, {'hostname': 'security_suite'}, {'hostname': 'client_1'}, {'hostname': 'client_2'}], 'num_services': 1, 'num_applications': 0, 'num_folders': 1, 'num_files': 1, 'num_nics': 2, 'include_num_access': False, 'include_nmne': True, 'routers': [{'hostname': 'router_1'}], 'num_ports': 0, 'ip_list': ['192.168.1.10', '192.168.1.12', '192.168.1.14', '192.168.1.16', '192.168.1.110', '192.168.10.21', '192.168.10.22', '192.168.10.110'], 'wildcard_list': ['0.0.0.1'], 'port_list': [80, 5432], 'protocol_list': ['ICMP', 'TCP', 'UDP'], 'num_rules': 10}}, {'type': 'LINKS', 'label': 'LINKS', 'options': {'link_references': ['router_1:eth-1<->switch_1:eth-8', 'router_1:eth-2<->switch_2:eth-8', 'switch_1:eth-1<->domain_controller:eth-1', 'switch_1:eth-2<->web_server:eth-1', 'switch_1:eth-3<->database_server:eth-1', 'switch_1:eth-4<->backup_server:eth-1', 'switch_1:eth-7<->security_suite:eth-1', 'switch_2:eth-1<->client_1:eth-1', 'switch_2:eth-2<->client_2:eth-1', 'switch_2:eth-7<->security_suite:eth-2']}}, {'type': 'NONE', 'label': 'ICS', 'options': {}}]}}\n"
     ]
    },
    {
     "name": "stderr",
     "output_type": "stream",
     "text": [
      "2024-04-08 14:50:04,363: Resetting environment, episode 24, avg. reward: -83.15000000000002\n",
      "2024-04-08 14:50:04,366: Saving agent action log to C:\\Users\\CharlieCrane\\primaite\\3.0.0b7\\sessions\\2024-04-08\\14-49-25\\agent_actions\\episode_24.json\n"
     ]
    },
    {
     "name": "stdout",
     "output_type": "stream",
     "text": [
      "{'type': 'CUSTOM', 'options': {'components': [{'type': 'NODES', 'label': 'NODES', 'options': {'hosts': [{'hostname': 'domain_controller'}, {'hostname': 'web_server', 'services': [{'service_name': 'WebServer'}]}, {'hostname': 'database_server', 'folders': [{'folder_name': 'database', 'files': [{'file_name': 'database.db'}]}]}, {'hostname': 'backup_server'}, {'hostname': 'security_suite'}, {'hostname': 'client_1'}, {'hostname': 'client_2'}], 'num_services': 1, 'num_applications': 0, 'num_folders': 1, 'num_files': 1, 'num_nics': 2, 'include_num_access': False, 'include_nmne': True, 'routers': [{'hostname': 'router_1'}], 'num_ports': 0, 'ip_list': ['192.168.1.10', '192.168.1.12', '192.168.1.14', '192.168.1.16', '192.168.1.110', '192.168.10.21', '192.168.10.22', '192.168.10.110'], 'wildcard_list': ['0.0.0.1'], 'port_list': [80, 5432], 'protocol_list': ['ICMP', 'TCP', 'UDP'], 'num_rules': 10}}, {'type': 'LINKS', 'label': 'LINKS', 'options': {'link_references': ['router_1:eth-1<->switch_1:eth-8', 'router_1:eth-2<->switch_2:eth-8', 'switch_1:eth-1<->domain_controller:eth-1', 'switch_1:eth-2<->web_server:eth-1', 'switch_1:eth-3<->database_server:eth-1', 'switch_1:eth-4<->backup_server:eth-1', 'switch_1:eth-7<->security_suite:eth-1', 'switch_2:eth-1<->client_1:eth-1', 'switch_2:eth-2<->client_2:eth-1', 'switch_2:eth-7<->security_suite:eth-2']}}, {'type': 'NONE', 'label': 'ICS', 'options': {}}]}}\n"
     ]
    },
    {
     "name": "stderr",
     "output_type": "stream",
     "text": [
      "2024-04-08 14:50:06,083: Resetting environment, episode 25, avg. reward: -36.15000000000003\n",
      "2024-04-08 14:50:06,085: Saving agent action log to C:\\Users\\CharlieCrane\\primaite\\3.0.0b7\\sessions\\2024-04-08\\14-49-25\\agent_actions\\episode_25.json\n"
     ]
    },
    {
     "name": "stdout",
     "output_type": "stream",
     "text": [
      "{'type': 'CUSTOM', 'options': {'components': [{'type': 'NODES', 'label': 'NODES', 'options': {'hosts': [{'hostname': 'domain_controller'}, {'hostname': 'web_server', 'services': [{'service_name': 'WebServer'}]}, {'hostname': 'database_server', 'folders': [{'folder_name': 'database', 'files': [{'file_name': 'database.db'}]}]}, {'hostname': 'backup_server'}, {'hostname': 'security_suite'}, {'hostname': 'client_1'}, {'hostname': 'client_2'}], 'num_services': 1, 'num_applications': 0, 'num_folders': 1, 'num_files': 1, 'num_nics': 2, 'include_num_access': False, 'include_nmne': True, 'routers': [{'hostname': 'router_1'}], 'num_ports': 0, 'ip_list': ['192.168.1.10', '192.168.1.12', '192.168.1.14', '192.168.1.16', '192.168.1.110', '192.168.10.21', '192.168.10.22', '192.168.10.110'], 'wildcard_list': ['0.0.0.1'], 'port_list': [80, 5432], 'protocol_list': ['ICMP', 'TCP', 'UDP'], 'num_rules': 10}}, {'type': 'LINKS', 'label': 'LINKS', 'options': {'link_references': ['router_1:eth-1<->switch_1:eth-8', 'router_1:eth-2<->switch_2:eth-8', 'switch_1:eth-1<->domain_controller:eth-1', 'switch_1:eth-2<->web_server:eth-1', 'switch_1:eth-3<->database_server:eth-1', 'switch_1:eth-4<->backup_server:eth-1', 'switch_1:eth-7<->security_suite:eth-1', 'switch_2:eth-1<->client_1:eth-1', 'switch_2:eth-2<->client_2:eth-1', 'switch_2:eth-7<->security_suite:eth-2']}}, {'type': 'NONE', 'label': 'ICS', 'options': {}}]}}\n"
     ]
    },
    {
     "name": "stderr",
     "output_type": "stream",
     "text": [
      "2024-04-08 14:50:07,813: Resetting environment, episode 26, avg. reward: -67.25000000000007\n",
      "2024-04-08 14:50:07,816: Saving agent action log to C:\\Users\\CharlieCrane\\primaite\\3.0.0b7\\sessions\\2024-04-08\\14-49-25\\agent_actions\\episode_26.json\n"
     ]
    },
    {
     "name": "stdout",
     "output_type": "stream",
     "text": [
      "{'type': 'CUSTOM', 'options': {'components': [{'type': 'NODES', 'label': 'NODES', 'options': {'hosts': [{'hostname': 'domain_controller'}, {'hostname': 'web_server', 'services': [{'service_name': 'WebServer'}]}, {'hostname': 'database_server', 'folders': [{'folder_name': 'database', 'files': [{'file_name': 'database.db'}]}]}, {'hostname': 'backup_server'}, {'hostname': 'security_suite'}, {'hostname': 'client_1'}, {'hostname': 'client_2'}], 'num_services': 1, 'num_applications': 0, 'num_folders': 1, 'num_files': 1, 'num_nics': 2, 'include_num_access': False, 'include_nmne': True, 'routers': [{'hostname': 'router_1'}], 'num_ports': 0, 'ip_list': ['192.168.1.10', '192.168.1.12', '192.168.1.14', '192.168.1.16', '192.168.1.110', '192.168.10.21', '192.168.10.22', '192.168.10.110'], 'wildcard_list': ['0.0.0.1'], 'port_list': [80, 5432], 'protocol_list': ['ICMP', 'TCP', 'UDP'], 'num_rules': 10}}, {'type': 'LINKS', 'label': 'LINKS', 'options': {'link_references': ['router_1:eth-1<->switch_1:eth-8', 'router_1:eth-2<->switch_2:eth-8', 'switch_1:eth-1<->domain_controller:eth-1', 'switch_1:eth-2<->web_server:eth-1', 'switch_1:eth-3<->database_server:eth-1', 'switch_1:eth-4<->backup_server:eth-1', 'switch_1:eth-7<->security_suite:eth-1', 'switch_2:eth-1<->client_1:eth-1', 'switch_2:eth-2<->client_2:eth-1', 'switch_2:eth-7<->security_suite:eth-2']}}, {'type': 'NONE', 'label': 'ICS', 'options': {}}]}}\n"
     ]
    },
    {
     "name": "stderr",
     "output_type": "stream",
     "text": [
      "2024-04-08 14:50:09,419: Resetting environment, episode 27, avg. reward: -44.200000000000074\n",
      "2024-04-08 14:50:09,422: Saving agent action log to C:\\Users\\CharlieCrane\\primaite\\3.0.0b7\\sessions\\2024-04-08\\14-49-25\\agent_actions\\episode_27.json\n"
     ]
    },
    {
     "name": "stdout",
     "output_type": "stream",
     "text": [
      "{'type': 'CUSTOM', 'options': {'components': [{'type': 'NODES', 'label': 'NODES', 'options': {'hosts': [{'hostname': 'domain_controller'}, {'hostname': 'web_server', 'services': [{'service_name': 'WebServer'}]}, {'hostname': 'database_server', 'folders': [{'folder_name': 'database', 'files': [{'file_name': 'database.db'}]}]}, {'hostname': 'backup_server'}, {'hostname': 'security_suite'}, {'hostname': 'client_1'}, {'hostname': 'client_2'}], 'num_services': 1, 'num_applications': 0, 'num_folders': 1, 'num_files': 1, 'num_nics': 2, 'include_num_access': False, 'include_nmne': True, 'routers': [{'hostname': 'router_1'}], 'num_ports': 0, 'ip_list': ['192.168.1.10', '192.168.1.12', '192.168.1.14', '192.168.1.16', '192.168.1.110', '192.168.10.21', '192.168.10.22', '192.168.10.110'], 'wildcard_list': ['0.0.0.1'], 'port_list': [80, 5432], 'protocol_list': ['ICMP', 'TCP', 'UDP'], 'num_rules': 10}}, {'type': 'LINKS', 'label': 'LINKS', 'options': {'link_references': ['router_1:eth-1<->switch_1:eth-8', 'router_1:eth-2<->switch_2:eth-8', 'switch_1:eth-1<->domain_controller:eth-1', 'switch_1:eth-2<->web_server:eth-1', 'switch_1:eth-3<->database_server:eth-1', 'switch_1:eth-4<->backup_server:eth-1', 'switch_1:eth-7<->security_suite:eth-1', 'switch_2:eth-1<->client_1:eth-1', 'switch_2:eth-2<->client_2:eth-1', 'switch_2:eth-7<->security_suite:eth-2']}}, {'type': 'NONE', 'label': 'ICS', 'options': {}}]}}\n"
     ]
    },
    {
     "name": "stderr",
     "output_type": "stream",
     "text": [
      "2024-04-08 14:50:10,969: Resetting environment, episode 28, avg. reward: -64.1500000000001\n",
      "2024-04-08 14:50:10,973: Saving agent action log to C:\\Users\\CharlieCrane\\primaite\\3.0.0b7\\sessions\\2024-04-08\\14-49-25\\agent_actions\\episode_28.json\n"
     ]
    },
    {
     "name": "stdout",
     "output_type": "stream",
     "text": [
      "{'type': 'CUSTOM', 'options': {'components': [{'type': 'NODES', 'label': 'NODES', 'options': {'hosts': [{'hostname': 'domain_controller'}, {'hostname': 'web_server', 'services': [{'service_name': 'WebServer'}]}, {'hostname': 'database_server', 'folders': [{'folder_name': 'database', 'files': [{'file_name': 'database.db'}]}]}, {'hostname': 'backup_server'}, {'hostname': 'security_suite'}, {'hostname': 'client_1'}, {'hostname': 'client_2'}], 'num_services': 1, 'num_applications': 0, 'num_folders': 1, 'num_files': 1, 'num_nics': 2, 'include_num_access': False, 'include_nmne': True, 'routers': [{'hostname': 'router_1'}], 'num_ports': 0, 'ip_list': ['192.168.1.10', '192.168.1.12', '192.168.1.14', '192.168.1.16', '192.168.1.110', '192.168.10.21', '192.168.10.22', '192.168.10.110'], 'wildcard_list': ['0.0.0.1'], 'port_list': [80, 5432], 'protocol_list': ['ICMP', 'TCP', 'UDP'], 'num_rules': 10}}, {'type': 'LINKS', 'label': 'LINKS', 'options': {'link_references': ['router_1:eth-1<->switch_1:eth-8', 'router_1:eth-2<->switch_2:eth-8', 'switch_1:eth-1<->domain_controller:eth-1', 'switch_1:eth-2<->web_server:eth-1', 'switch_1:eth-3<->database_server:eth-1', 'switch_1:eth-4<->backup_server:eth-1', 'switch_1:eth-7<->security_suite:eth-1', 'switch_2:eth-1<->client_1:eth-1', 'switch_2:eth-2<->client_2:eth-1', 'switch_2:eth-7<->security_suite:eth-2']}}, {'type': 'NONE', 'label': 'ICS', 'options': {}}]}}\n"
     ]
    },
    {
     "name": "stderr",
     "output_type": "stream",
     "text": [
      "2024-04-08 14:50:12,518: Resetting environment, episode 29, avg. reward: -18.34999999999997\n",
      "2024-04-08 14:50:12,519: Saving agent action log to C:\\Users\\CharlieCrane\\primaite\\3.0.0b7\\sessions\\2024-04-08\\14-49-25\\agent_actions\\episode_29.json\n"
     ]
    },
    {
     "name": "stdout",
     "output_type": "stream",
     "text": [
      "{'type': 'CUSTOM', 'options': {'components': [{'type': 'NODES', 'label': 'NODES', 'options': {'hosts': [{'hostname': 'domain_controller'}, {'hostname': 'web_server', 'services': [{'service_name': 'WebServer'}]}, {'hostname': 'database_server', 'folders': [{'folder_name': 'database', 'files': [{'file_name': 'database.db'}]}]}, {'hostname': 'backup_server'}, {'hostname': 'security_suite'}, {'hostname': 'client_1'}, {'hostname': 'client_2'}], 'num_services': 1, 'num_applications': 0, 'num_folders': 1, 'num_files': 1, 'num_nics': 2, 'include_num_access': False, 'include_nmne': True, 'routers': [{'hostname': 'router_1'}], 'num_ports': 0, 'ip_list': ['192.168.1.10', '192.168.1.12', '192.168.1.14', '192.168.1.16', '192.168.1.110', '192.168.10.21', '192.168.10.22', '192.168.10.110'], 'wildcard_list': ['0.0.0.1'], 'port_list': [80, 5432], 'protocol_list': ['ICMP', 'TCP', 'UDP'], 'num_rules': 10}}, {'type': 'LINKS', 'label': 'LINKS', 'options': {'link_references': ['router_1:eth-1<->switch_1:eth-8', 'router_1:eth-2<->switch_2:eth-8', 'switch_1:eth-1<->domain_controller:eth-1', 'switch_1:eth-2<->web_server:eth-1', 'switch_1:eth-3<->database_server:eth-1', 'switch_1:eth-4<->backup_server:eth-1', 'switch_1:eth-7<->security_suite:eth-1', 'switch_2:eth-1<->client_1:eth-1', 'switch_2:eth-2<->client_2:eth-1', 'switch_2:eth-7<->security_suite:eth-2']}}, {'type': 'NONE', 'label': 'ICS', 'options': {}}]}}\n"
     ]
    },
    {
     "name": "stderr",
     "output_type": "stream",
     "text": [
      "2024-04-08 14:50:14,004: Resetting environment, episode 30, avg. reward: -17.69999999999997\n",
      "2024-04-08 14:50:14,007: Saving agent action log to C:\\Users\\CharlieCrane\\primaite\\3.0.0b7\\sessions\\2024-04-08\\14-49-25\\agent_actions\\episode_30.json\n"
     ]
    },
    {
     "name": "stdout",
     "output_type": "stream",
     "text": [
      "{'type': 'CUSTOM', 'options': {'components': [{'type': 'NODES', 'label': 'NODES', 'options': {'hosts': [{'hostname': 'domain_controller'}, {'hostname': 'web_server', 'services': [{'service_name': 'WebServer'}]}, {'hostname': 'database_server', 'folders': [{'folder_name': 'database', 'files': [{'file_name': 'database.db'}]}]}, {'hostname': 'backup_server'}, {'hostname': 'security_suite'}, {'hostname': 'client_1'}, {'hostname': 'client_2'}], 'num_services': 1, 'num_applications': 0, 'num_folders': 1, 'num_files': 1, 'num_nics': 2, 'include_num_access': False, 'include_nmne': True, 'routers': [{'hostname': 'router_1'}], 'num_ports': 0, 'ip_list': ['192.168.1.10', '192.168.1.12', '192.168.1.14', '192.168.1.16', '192.168.1.110', '192.168.10.21', '192.168.10.22', '192.168.10.110'], 'wildcard_list': ['0.0.0.1'], 'port_list': [80, 5432], 'protocol_list': ['ICMP', 'TCP', 'UDP'], 'num_rules': 10}}, {'type': 'LINKS', 'label': 'LINKS', 'options': {'link_references': ['router_1:eth-1<->switch_1:eth-8', 'router_1:eth-2<->switch_2:eth-8', 'switch_1:eth-1<->domain_controller:eth-1', 'switch_1:eth-2<->web_server:eth-1', 'switch_1:eth-3<->database_server:eth-1', 'switch_1:eth-4<->backup_server:eth-1', 'switch_1:eth-7<->security_suite:eth-1', 'switch_2:eth-1<->client_1:eth-1', 'switch_2:eth-2<->client_2:eth-1', 'switch_2:eth-7<->security_suite:eth-2']}}, {'type': 'NONE', 'label': 'ICS', 'options': {}}]}}\n"
     ]
    },
    {
     "name": "stderr",
     "output_type": "stream",
     "text": [
      "2024-04-08 14:50:16,007: Resetting environment, episode 31, avg. reward: -28.700000000000017\n",
      "2024-04-08 14:50:16,010: Saving agent action log to C:\\Users\\CharlieCrane\\primaite\\3.0.0b7\\sessions\\2024-04-08\\14-49-25\\agent_actions\\episode_31.json\n"
     ]
    },
    {
     "name": "stdout",
     "output_type": "stream",
     "text": [
      "{'type': 'CUSTOM', 'options': {'components': [{'type': 'NODES', 'label': 'NODES', 'options': {'hosts': [{'hostname': 'domain_controller'}, {'hostname': 'web_server', 'services': [{'service_name': 'WebServer'}]}, {'hostname': 'database_server', 'folders': [{'folder_name': 'database', 'files': [{'file_name': 'database.db'}]}]}, {'hostname': 'backup_server'}, {'hostname': 'security_suite'}, {'hostname': 'client_1'}, {'hostname': 'client_2'}], 'num_services': 1, 'num_applications': 0, 'num_folders': 1, 'num_files': 1, 'num_nics': 2, 'include_num_access': False, 'include_nmne': True, 'routers': [{'hostname': 'router_1'}], 'num_ports': 0, 'ip_list': ['192.168.1.10', '192.168.1.12', '192.168.1.14', '192.168.1.16', '192.168.1.110', '192.168.10.21', '192.168.10.22', '192.168.10.110'], 'wildcard_list': ['0.0.0.1'], 'port_list': [80, 5432], 'protocol_list': ['ICMP', 'TCP', 'UDP'], 'num_rules': 10}}, {'type': 'LINKS', 'label': 'LINKS', 'options': {'link_references': ['router_1:eth-1<->switch_1:eth-8', 'router_1:eth-2<->switch_2:eth-8', 'switch_1:eth-1<->domain_controller:eth-1', 'switch_1:eth-2<->web_server:eth-1', 'switch_1:eth-3<->database_server:eth-1', 'switch_1:eth-4<->backup_server:eth-1', 'switch_1:eth-7<->security_suite:eth-1', 'switch_2:eth-1<->client_1:eth-1', 'switch_2:eth-2<->client_2:eth-1', 'switch_2:eth-7<->security_suite:eth-2']}}, {'type': 'NONE', 'label': 'ICS', 'options': {}}]}}\n"
     ]
    },
    {
     "name": "stderr",
     "output_type": "stream",
     "text": [
      "2024-04-08 14:50:17,755: Resetting environment, episode 32, avg. reward: -53.65000000000015\n",
      "2024-04-08 14:50:17,758: Saving agent action log to C:\\Users\\CharlieCrane\\primaite\\3.0.0b7\\sessions\\2024-04-08\\14-49-25\\agent_actions\\episode_32.json\n"
     ]
    },
    {
     "name": "stdout",
     "output_type": "stream",
     "text": [
      "{'type': 'CUSTOM', 'options': {'components': [{'type': 'NODES', 'label': 'NODES', 'options': {'hosts': [{'hostname': 'domain_controller'}, {'hostname': 'web_server', 'services': [{'service_name': 'WebServer'}]}, {'hostname': 'database_server', 'folders': [{'folder_name': 'database', 'files': [{'file_name': 'database.db'}]}]}, {'hostname': 'backup_server'}, {'hostname': 'security_suite'}, {'hostname': 'client_1'}, {'hostname': 'client_2'}], 'num_services': 1, 'num_applications': 0, 'num_folders': 1, 'num_files': 1, 'num_nics': 2, 'include_num_access': False, 'include_nmne': True, 'routers': [{'hostname': 'router_1'}], 'num_ports': 0, 'ip_list': ['192.168.1.10', '192.168.1.12', '192.168.1.14', '192.168.1.16', '192.168.1.110', '192.168.10.21', '192.168.10.22', '192.168.10.110'], 'wildcard_list': ['0.0.0.1'], 'port_list': [80, 5432], 'protocol_list': ['ICMP', 'TCP', 'UDP'], 'num_rules': 10}}, {'type': 'LINKS', 'label': 'LINKS', 'options': {'link_references': ['router_1:eth-1<->switch_1:eth-8', 'router_1:eth-2<->switch_2:eth-8', 'switch_1:eth-1<->domain_controller:eth-1', 'switch_1:eth-2<->web_server:eth-1', 'switch_1:eth-3<->database_server:eth-1', 'switch_1:eth-4<->backup_server:eth-1', 'switch_1:eth-7<->security_suite:eth-1', 'switch_2:eth-1<->client_1:eth-1', 'switch_2:eth-2<->client_2:eth-1', 'switch_2:eth-7<->security_suite:eth-2']}}, {'type': 'NONE', 'label': 'ICS', 'options': {}}]}}\n"
     ]
    },
    {
     "name": "stderr",
     "output_type": "stream",
     "text": [
      "2024-04-08 14:50:19,232: Resetting environment, episode 33, avg. reward: -43.65000000000005\n",
      "2024-04-08 14:50:19,235: Saving agent action log to C:\\Users\\CharlieCrane\\primaite\\3.0.0b7\\sessions\\2024-04-08\\14-49-25\\agent_actions\\episode_33.json\n"
     ]
    },
    {
     "name": "stdout",
     "output_type": "stream",
     "text": [
      "{'type': 'CUSTOM', 'options': {'components': [{'type': 'NODES', 'label': 'NODES', 'options': {'hosts': [{'hostname': 'domain_controller'}, {'hostname': 'web_server', 'services': [{'service_name': 'WebServer'}]}, {'hostname': 'database_server', 'folders': [{'folder_name': 'database', 'files': [{'file_name': 'database.db'}]}]}, {'hostname': 'backup_server'}, {'hostname': 'security_suite'}, {'hostname': 'client_1'}, {'hostname': 'client_2'}], 'num_services': 1, 'num_applications': 0, 'num_folders': 1, 'num_files': 1, 'num_nics': 2, 'include_num_access': False, 'include_nmne': True, 'routers': [{'hostname': 'router_1'}], 'num_ports': 0, 'ip_list': ['192.168.1.10', '192.168.1.12', '192.168.1.14', '192.168.1.16', '192.168.1.110', '192.168.10.21', '192.168.10.22', '192.168.10.110'], 'wildcard_list': ['0.0.0.1'], 'port_list': [80, 5432], 'protocol_list': ['ICMP', 'TCP', 'UDP'], 'num_rules': 10}}, {'type': 'LINKS', 'label': 'LINKS', 'options': {'link_references': ['router_1:eth-1<->switch_1:eth-8', 'router_1:eth-2<->switch_2:eth-8', 'switch_1:eth-1<->domain_controller:eth-1', 'switch_1:eth-2<->web_server:eth-1', 'switch_1:eth-3<->database_server:eth-1', 'switch_1:eth-4<->backup_server:eth-1', 'switch_1:eth-7<->security_suite:eth-1', 'switch_2:eth-1<->client_1:eth-1', 'switch_2:eth-2<->client_2:eth-1', 'switch_2:eth-7<->security_suite:eth-2']}}, {'type': 'NONE', 'label': 'ICS', 'options': {}}]}}\n"
     ]
    },
    {
     "name": "stderr",
     "output_type": "stream",
     "text": [
      "2024-04-08 14:50:20,708: Resetting environment, episode 34, avg. reward: -2.499999999999969\n",
      "2024-04-08 14:50:20,711: Saving agent action log to C:\\Users\\CharlieCrane\\primaite\\3.0.0b7\\sessions\\2024-04-08\\14-49-25\\agent_actions\\episode_34.json\n"
     ]
    },
    {
     "name": "stdout",
     "output_type": "stream",
     "text": [
      "{'type': 'CUSTOM', 'options': {'components': [{'type': 'NODES', 'label': 'NODES', 'options': {'hosts': [{'hostname': 'domain_controller'}, {'hostname': 'web_server', 'services': [{'service_name': 'WebServer'}]}, {'hostname': 'database_server', 'folders': [{'folder_name': 'database', 'files': [{'file_name': 'database.db'}]}]}, {'hostname': 'backup_server'}, {'hostname': 'security_suite'}, {'hostname': 'client_1'}, {'hostname': 'client_2'}], 'num_services': 1, 'num_applications': 0, 'num_folders': 1, 'num_files': 1, 'num_nics': 2, 'include_num_access': False, 'include_nmne': True, 'routers': [{'hostname': 'router_1'}], 'num_ports': 0, 'ip_list': ['192.168.1.10', '192.168.1.12', '192.168.1.14', '192.168.1.16', '192.168.1.110', '192.168.10.21', '192.168.10.22', '192.168.10.110'], 'wildcard_list': ['0.0.0.1'], 'port_list': [80, 5432], 'protocol_list': ['ICMP', 'TCP', 'UDP'], 'num_rules': 10}}, {'type': 'LINKS', 'label': 'LINKS', 'options': {'link_references': ['router_1:eth-1<->switch_1:eth-8', 'router_1:eth-2<->switch_2:eth-8', 'switch_1:eth-1<->domain_controller:eth-1', 'switch_1:eth-2<->web_server:eth-1', 'switch_1:eth-3<->database_server:eth-1', 'switch_1:eth-4<->backup_server:eth-1', 'switch_1:eth-7<->security_suite:eth-1', 'switch_2:eth-1<->client_1:eth-1', 'switch_2:eth-2<->client_2:eth-1', 'switch_2:eth-7<->security_suite:eth-2']}}, {'type': 'NONE', 'label': 'ICS', 'options': {}}]}}\n"
     ]
    },
    {
     "name": "stderr",
     "output_type": "stream",
     "text": [
      "2024-04-08 14:50:22,081: Resetting environment, episode 35, avg. reward: -51.45000000000008\n",
      "2024-04-08 14:50:22,084: Saving agent action log to C:\\Users\\CharlieCrane\\primaite\\3.0.0b7\\sessions\\2024-04-08\\14-49-25\\agent_actions\\episode_35.json\n"
     ]
    },
    {
     "name": "stdout",
     "output_type": "stream",
     "text": [
      "{'type': 'CUSTOM', 'options': {'components': [{'type': 'NODES', 'label': 'NODES', 'options': {'hosts': [{'hostname': 'domain_controller'}, {'hostname': 'web_server', 'services': [{'service_name': 'WebServer'}]}, {'hostname': 'database_server', 'folders': [{'folder_name': 'database', 'files': [{'file_name': 'database.db'}]}]}, {'hostname': 'backup_server'}, {'hostname': 'security_suite'}, {'hostname': 'client_1'}, {'hostname': 'client_2'}], 'num_services': 1, 'num_applications': 0, 'num_folders': 1, 'num_files': 1, 'num_nics': 2, 'include_num_access': False, 'include_nmne': True, 'routers': [{'hostname': 'router_1'}], 'num_ports': 0, 'ip_list': ['192.168.1.10', '192.168.1.12', '192.168.1.14', '192.168.1.16', '192.168.1.110', '192.168.10.21', '192.168.10.22', '192.168.10.110'], 'wildcard_list': ['0.0.0.1'], 'port_list': [80, 5432], 'protocol_list': ['ICMP', 'TCP', 'UDP'], 'num_rules': 10}}, {'type': 'LINKS', 'label': 'LINKS', 'options': {'link_references': ['router_1:eth-1<->switch_1:eth-8', 'router_1:eth-2<->switch_2:eth-8', 'switch_1:eth-1<->domain_controller:eth-1', 'switch_1:eth-2<->web_server:eth-1', 'switch_1:eth-3<->database_server:eth-1', 'switch_1:eth-4<->backup_server:eth-1', 'switch_1:eth-7<->security_suite:eth-1', 'switch_2:eth-1<->client_1:eth-1', 'switch_2:eth-2<->client_2:eth-1', 'switch_2:eth-7<->security_suite:eth-2']}}, {'type': 'NONE', 'label': 'ICS', 'options': {}}]}}\n"
     ]
    },
    {
     "name": "stderr",
     "output_type": "stream",
     "text": [
      "2024-04-08 14:50:23,461: Resetting environment, episode 36, avg. reward: -24.749999999999986\n",
      "2024-04-08 14:50:23,465: Saving agent action log to C:\\Users\\CharlieCrane\\primaite\\3.0.0b7\\sessions\\2024-04-08\\14-49-25\\agent_actions\\episode_36.json\n"
     ]
    },
    {
     "name": "stdout",
     "output_type": "stream",
     "text": [
      "{'type': 'CUSTOM', 'options': {'components': [{'type': 'NODES', 'label': 'NODES', 'options': {'hosts': [{'hostname': 'domain_controller'}, {'hostname': 'web_server', 'services': [{'service_name': 'WebServer'}]}, {'hostname': 'database_server', 'folders': [{'folder_name': 'database', 'files': [{'file_name': 'database.db'}]}]}, {'hostname': 'backup_server'}, {'hostname': 'security_suite'}, {'hostname': 'client_1'}, {'hostname': 'client_2'}], 'num_services': 1, 'num_applications': 0, 'num_folders': 1, 'num_files': 1, 'num_nics': 2, 'include_num_access': False, 'include_nmne': True, 'routers': [{'hostname': 'router_1'}], 'num_ports': 0, 'ip_list': ['192.168.1.10', '192.168.1.12', '192.168.1.14', '192.168.1.16', '192.168.1.110', '192.168.10.21', '192.168.10.22', '192.168.10.110'], 'wildcard_list': ['0.0.0.1'], 'port_list': [80, 5432], 'protocol_list': ['ICMP', 'TCP', 'UDP'], 'num_rules': 10}}, {'type': 'LINKS', 'label': 'LINKS', 'options': {'link_references': ['router_1:eth-1<->switch_1:eth-8', 'router_1:eth-2<->switch_2:eth-8', 'switch_1:eth-1<->domain_controller:eth-1', 'switch_1:eth-2<->web_server:eth-1', 'switch_1:eth-3<->database_server:eth-1', 'switch_1:eth-4<->backup_server:eth-1', 'switch_1:eth-7<->security_suite:eth-1', 'switch_2:eth-1<->client_1:eth-1', 'switch_2:eth-2<->client_2:eth-1', 'switch_2:eth-7<->security_suite:eth-2']}}, {'type': 'NONE', 'label': 'ICS', 'options': {}}]}}\n"
     ]
    },
    {
     "name": "stderr",
     "output_type": "stream",
     "text": [
      "2024-04-08 14:50:24,909: Resetting environment, episode 37, avg. reward: -72.70000000000002\n",
      "2024-04-08 14:50:24,912: Saving agent action log to C:\\Users\\CharlieCrane\\primaite\\3.0.0b7\\sessions\\2024-04-08\\14-49-25\\agent_actions\\episode_37.json\n"
     ]
    },
    {
     "name": "stdout",
     "output_type": "stream",
     "text": [
      "{'type': 'CUSTOM', 'options': {'components': [{'type': 'NODES', 'label': 'NODES', 'options': {'hosts': [{'hostname': 'domain_controller'}, {'hostname': 'web_server', 'services': [{'service_name': 'WebServer'}]}, {'hostname': 'database_server', 'folders': [{'folder_name': 'database', 'files': [{'file_name': 'database.db'}]}]}, {'hostname': 'backup_server'}, {'hostname': 'security_suite'}, {'hostname': 'client_1'}, {'hostname': 'client_2'}], 'num_services': 1, 'num_applications': 0, 'num_folders': 1, 'num_files': 1, 'num_nics': 2, 'include_num_access': False, 'include_nmne': True, 'routers': [{'hostname': 'router_1'}], 'num_ports': 0, 'ip_list': ['192.168.1.10', '192.168.1.12', '192.168.1.14', '192.168.1.16', '192.168.1.110', '192.168.10.21', '192.168.10.22', '192.168.10.110'], 'wildcard_list': ['0.0.0.1'], 'port_list': [80, 5432], 'protocol_list': ['ICMP', 'TCP', 'UDP'], 'num_rules': 10}}, {'type': 'LINKS', 'label': 'LINKS', 'options': {'link_references': ['router_1:eth-1<->switch_1:eth-8', 'router_1:eth-2<->switch_2:eth-8', 'switch_1:eth-1<->domain_controller:eth-1', 'switch_1:eth-2<->web_server:eth-1', 'switch_1:eth-3<->database_server:eth-1', 'switch_1:eth-4<->backup_server:eth-1', 'switch_1:eth-7<->security_suite:eth-1', 'switch_2:eth-1<->client_1:eth-1', 'switch_2:eth-2<->client_2:eth-1', 'switch_2:eth-7<->security_suite:eth-2']}}, {'type': 'NONE', 'label': 'ICS', 'options': {}}]}}\n"
     ]
    },
    {
     "name": "stderr",
     "output_type": "stream",
     "text": [
      "2024-04-08 14:50:27,049: Resetting environment, episode 38, avg. reward: -16.049999999999976\n",
      "2024-04-08 14:50:27,052: Saving agent action log to C:\\Users\\CharlieCrane\\primaite\\3.0.0b7\\sessions\\2024-04-08\\14-49-25\\agent_actions\\episode_38.json\n"
     ]
    },
    {
     "name": "stdout",
     "output_type": "stream",
     "text": [
      "{'type': 'CUSTOM', 'options': {'components': [{'type': 'NODES', 'label': 'NODES', 'options': {'hosts': [{'hostname': 'domain_controller'}, {'hostname': 'web_server', 'services': [{'service_name': 'WebServer'}]}, {'hostname': 'database_server', 'folders': [{'folder_name': 'database', 'files': [{'file_name': 'database.db'}]}]}, {'hostname': 'backup_server'}, {'hostname': 'security_suite'}, {'hostname': 'client_1'}, {'hostname': 'client_2'}], 'num_services': 1, 'num_applications': 0, 'num_folders': 1, 'num_files': 1, 'num_nics': 2, 'include_num_access': False, 'include_nmne': True, 'routers': [{'hostname': 'router_1'}], 'num_ports': 0, 'ip_list': ['192.168.1.10', '192.168.1.12', '192.168.1.14', '192.168.1.16', '192.168.1.110', '192.168.10.21', '192.168.10.22', '192.168.10.110'], 'wildcard_list': ['0.0.0.1'], 'port_list': [80, 5432], 'protocol_list': ['ICMP', 'TCP', 'UDP'], 'num_rules': 10}}, {'type': 'LINKS', 'label': 'LINKS', 'options': {'link_references': ['router_1:eth-1<->switch_1:eth-8', 'router_1:eth-2<->switch_2:eth-8', 'switch_1:eth-1<->domain_controller:eth-1', 'switch_1:eth-2<->web_server:eth-1', 'switch_1:eth-3<->database_server:eth-1', 'switch_1:eth-4<->backup_server:eth-1', 'switch_1:eth-7<->security_suite:eth-1', 'switch_2:eth-1<->client_1:eth-1', 'switch_2:eth-2<->client_2:eth-1', 'switch_2:eth-7<->security_suite:eth-2']}}, {'type': 'NONE', 'label': 'ICS', 'options': {}}]}}\n"
     ]
    },
    {
     "name": "stderr",
     "output_type": "stream",
     "text": [
      "2024-04-08 14:50:28,362: Resetting environment, episode 39, avg. reward: -27.79999999999996\n",
      "2024-04-08 14:50:28,364: Saving agent action log to C:\\Users\\CharlieCrane\\primaite\\3.0.0b7\\sessions\\2024-04-08\\14-49-25\\agent_actions\\episode_39.json\n"
     ]
    },
    {
     "name": "stdout",
     "output_type": "stream",
     "text": [
      "{'type': 'CUSTOM', 'options': {'components': [{'type': 'NODES', 'label': 'NODES', 'options': {'hosts': [{'hostname': 'domain_controller'}, {'hostname': 'web_server', 'services': [{'service_name': 'WebServer'}]}, {'hostname': 'database_server', 'folders': [{'folder_name': 'database', 'files': [{'file_name': 'database.db'}]}]}, {'hostname': 'backup_server'}, {'hostname': 'security_suite'}, {'hostname': 'client_1'}, {'hostname': 'client_2'}], 'num_services': 1, 'num_applications': 0, 'num_folders': 1, 'num_files': 1, 'num_nics': 2, 'include_num_access': False, 'include_nmne': True, 'routers': [{'hostname': 'router_1'}], 'num_ports': 0, 'ip_list': ['192.168.1.10', '192.168.1.12', '192.168.1.14', '192.168.1.16', '192.168.1.110', '192.168.10.21', '192.168.10.22', '192.168.10.110'], 'wildcard_list': ['0.0.0.1'], 'port_list': [80, 5432], 'protocol_list': ['ICMP', 'TCP', 'UDP'], 'num_rules': 10}}, {'type': 'LINKS', 'label': 'LINKS', 'options': {'link_references': ['router_1:eth-1<->switch_1:eth-8', 'router_1:eth-2<->switch_2:eth-8', 'switch_1:eth-1<->domain_controller:eth-1', 'switch_1:eth-2<->web_server:eth-1', 'switch_1:eth-3<->database_server:eth-1', 'switch_1:eth-4<->backup_server:eth-1', 'switch_1:eth-7<->security_suite:eth-1', 'switch_2:eth-1<->client_1:eth-1', 'switch_2:eth-2<->client_2:eth-1', 'switch_2:eth-7<->security_suite:eth-2']}}, {'type': 'NONE', 'label': 'ICS', 'options': {}}]}}\n"
     ]
    },
    {
     "name": "stderr",
     "output_type": "stream",
     "text": [
      "2024-04-08 14:50:29,821: Resetting environment, episode 40, avg. reward: -61.9500000000001\n",
      "2024-04-08 14:50:29,824: Saving agent action log to C:\\Users\\CharlieCrane\\primaite\\3.0.0b7\\sessions\\2024-04-08\\14-49-25\\agent_actions\\episode_40.json\n"
     ]
    },
    {
     "name": "stdout",
     "output_type": "stream",
     "text": [
      "{'type': 'CUSTOM', 'options': {'components': [{'type': 'NODES', 'label': 'NODES', 'options': {'hosts': [{'hostname': 'domain_controller'}, {'hostname': 'web_server', 'services': [{'service_name': 'WebServer'}]}, {'hostname': 'database_server', 'folders': [{'folder_name': 'database', 'files': [{'file_name': 'database.db'}]}]}, {'hostname': 'backup_server'}, {'hostname': 'security_suite'}, {'hostname': 'client_1'}, {'hostname': 'client_2'}], 'num_services': 1, 'num_applications': 0, 'num_folders': 1, 'num_files': 1, 'num_nics': 2, 'include_num_access': False, 'include_nmne': True, 'routers': [{'hostname': 'router_1'}], 'num_ports': 0, 'ip_list': ['192.168.1.10', '192.168.1.12', '192.168.1.14', '192.168.1.16', '192.168.1.110', '192.168.10.21', '192.168.10.22', '192.168.10.110'], 'wildcard_list': ['0.0.0.1'], 'port_list': [80, 5432], 'protocol_list': ['ICMP', 'TCP', 'UDP'], 'num_rules': 10}}, {'type': 'LINKS', 'label': 'LINKS', 'options': {'link_references': ['router_1:eth-1<->switch_1:eth-8', 'router_1:eth-2<->switch_2:eth-8', 'switch_1:eth-1<->domain_controller:eth-1', 'switch_1:eth-2<->web_server:eth-1', 'switch_1:eth-3<->database_server:eth-1', 'switch_1:eth-4<->backup_server:eth-1', 'switch_1:eth-7<->security_suite:eth-1', 'switch_2:eth-1<->client_1:eth-1', 'switch_2:eth-2<->client_2:eth-1', 'switch_2:eth-7<->security_suite:eth-2']}}, {'type': 'NONE', 'label': 'ICS', 'options': {}}]}}\n"
     ]
    },
    {
     "name": "stderr",
     "output_type": "stream",
     "text": [
      "2024-04-08 14:50:31,787: Resetting environment, episode 41, avg. reward: -36.00000000000004\n",
      "2024-04-08 14:50:31,790: Saving agent action log to C:\\Users\\CharlieCrane\\primaite\\3.0.0b7\\sessions\\2024-04-08\\14-49-25\\agent_actions\\episode_41.json\n"
     ]
    },
    {
     "name": "stdout",
     "output_type": "stream",
     "text": [
      "{'type': 'CUSTOM', 'options': {'components': [{'type': 'NODES', 'label': 'NODES', 'options': {'hosts': [{'hostname': 'domain_controller'}, {'hostname': 'web_server', 'services': [{'service_name': 'WebServer'}]}, {'hostname': 'database_server', 'folders': [{'folder_name': 'database', 'files': [{'file_name': 'database.db'}]}]}, {'hostname': 'backup_server'}, {'hostname': 'security_suite'}, {'hostname': 'client_1'}, {'hostname': 'client_2'}], 'num_services': 1, 'num_applications': 0, 'num_folders': 1, 'num_files': 1, 'num_nics': 2, 'include_num_access': False, 'include_nmne': True, 'routers': [{'hostname': 'router_1'}], 'num_ports': 0, 'ip_list': ['192.168.1.10', '192.168.1.12', '192.168.1.14', '192.168.1.16', '192.168.1.110', '192.168.10.21', '192.168.10.22', '192.168.10.110'], 'wildcard_list': ['0.0.0.1'], 'port_list': [80, 5432], 'protocol_list': ['ICMP', 'TCP', 'UDP'], 'num_rules': 10}}, {'type': 'LINKS', 'label': 'LINKS', 'options': {'link_references': ['router_1:eth-1<->switch_1:eth-8', 'router_1:eth-2<->switch_2:eth-8', 'switch_1:eth-1<->domain_controller:eth-1', 'switch_1:eth-2<->web_server:eth-1', 'switch_1:eth-3<->database_server:eth-1', 'switch_1:eth-4<->backup_server:eth-1', 'switch_1:eth-7<->security_suite:eth-1', 'switch_2:eth-1<->client_1:eth-1', 'switch_2:eth-2<->client_2:eth-1', 'switch_2:eth-7<->security_suite:eth-2']}}, {'type': 'NONE', 'label': 'ICS', 'options': {}}]}}\n"
     ]
    },
    {
     "name": "stderr",
     "output_type": "stream",
     "text": [
      "2024-04-08 14:50:33,074: Resetting environment, episode 42, avg. reward: -44.35000000000007\n",
      "2024-04-08 14:50:33,077: Saving agent action log to C:\\Users\\CharlieCrane\\primaite\\3.0.0b7\\sessions\\2024-04-08\\14-49-25\\agent_actions\\episode_42.json\n"
     ]
    },
    {
     "name": "stdout",
     "output_type": "stream",
     "text": [
      "{'type': 'CUSTOM', 'options': {'components': [{'type': 'NODES', 'label': 'NODES', 'options': {'hosts': [{'hostname': 'domain_controller'}, {'hostname': 'web_server', 'services': [{'service_name': 'WebServer'}]}, {'hostname': 'database_server', 'folders': [{'folder_name': 'database', 'files': [{'file_name': 'database.db'}]}]}, {'hostname': 'backup_server'}, {'hostname': 'security_suite'}, {'hostname': 'client_1'}, {'hostname': 'client_2'}], 'num_services': 1, 'num_applications': 0, 'num_folders': 1, 'num_files': 1, 'num_nics': 2, 'include_num_access': False, 'include_nmne': True, 'routers': [{'hostname': 'router_1'}], 'num_ports': 0, 'ip_list': ['192.168.1.10', '192.168.1.12', '192.168.1.14', '192.168.1.16', '192.168.1.110', '192.168.10.21', '192.168.10.22', '192.168.10.110'], 'wildcard_list': ['0.0.0.1'], 'port_list': [80, 5432], 'protocol_list': ['ICMP', 'TCP', 'UDP'], 'num_rules': 10}}, {'type': 'LINKS', 'label': 'LINKS', 'options': {'link_references': ['router_1:eth-1<->switch_1:eth-8', 'router_1:eth-2<->switch_2:eth-8', 'switch_1:eth-1<->domain_controller:eth-1', 'switch_1:eth-2<->web_server:eth-1', 'switch_1:eth-3<->database_server:eth-1', 'switch_1:eth-4<->backup_server:eth-1', 'switch_1:eth-7<->security_suite:eth-1', 'switch_2:eth-1<->client_1:eth-1', 'switch_2:eth-2<->client_2:eth-1', 'switch_2:eth-7<->security_suite:eth-2']}}, {'type': 'NONE', 'label': 'ICS', 'options': {}}]}}\n"
     ]
    },
    {
     "name": "stderr",
     "output_type": "stream",
     "text": [
      "2024-04-08 14:50:34,739: Resetting environment, episode 43, avg. reward: -51.100000000000065\n",
      "2024-04-08 14:50:34,742: Saving agent action log to C:\\Users\\CharlieCrane\\primaite\\3.0.0b7\\sessions\\2024-04-08\\14-49-25\\agent_actions\\episode_43.json\n"
     ]
    },
    {
     "name": "stdout",
     "output_type": "stream",
     "text": [
      "{'type': 'CUSTOM', 'options': {'components': [{'type': 'NODES', 'label': 'NODES', 'options': {'hosts': [{'hostname': 'domain_controller'}, {'hostname': 'web_server', 'services': [{'service_name': 'WebServer'}]}, {'hostname': 'database_server', 'folders': [{'folder_name': 'database', 'files': [{'file_name': 'database.db'}]}]}, {'hostname': 'backup_server'}, {'hostname': 'security_suite'}, {'hostname': 'client_1'}, {'hostname': 'client_2'}], 'num_services': 1, 'num_applications': 0, 'num_folders': 1, 'num_files': 1, 'num_nics': 2, 'include_num_access': False, 'include_nmne': True, 'routers': [{'hostname': 'router_1'}], 'num_ports': 0, 'ip_list': ['192.168.1.10', '192.168.1.12', '192.168.1.14', '192.168.1.16', '192.168.1.110', '192.168.10.21', '192.168.10.22', '192.168.10.110'], 'wildcard_list': ['0.0.0.1'], 'port_list': [80, 5432], 'protocol_list': ['ICMP', 'TCP', 'UDP'], 'num_rules': 10}}, {'type': 'LINKS', 'label': 'LINKS', 'options': {'link_references': ['router_1:eth-1<->switch_1:eth-8', 'router_1:eth-2<->switch_2:eth-8', 'switch_1:eth-1<->domain_controller:eth-1', 'switch_1:eth-2<->web_server:eth-1', 'switch_1:eth-3<->database_server:eth-1', 'switch_1:eth-4<->backup_server:eth-1', 'switch_1:eth-7<->security_suite:eth-1', 'switch_2:eth-1<->client_1:eth-1', 'switch_2:eth-2<->client_2:eth-1', 'switch_2:eth-7<->security_suite:eth-2']}}, {'type': 'NONE', 'label': 'ICS', 'options': {}}]}}\n"
     ]
    },
    {
     "name": "stderr",
     "output_type": "stream",
     "text": [
      "2024-04-08 14:50:36,357: Resetting environment, episode 44, avg. reward: -65.95000000000002\n",
      "2024-04-08 14:50:36,359: Saving agent action log to C:\\Users\\CharlieCrane\\primaite\\3.0.0b7\\sessions\\2024-04-08\\14-49-25\\agent_actions\\episode_44.json\n"
     ]
    },
    {
     "name": "stdout",
     "output_type": "stream",
     "text": [
      "{'type': 'CUSTOM', 'options': {'components': [{'type': 'NODES', 'label': 'NODES', 'options': {'hosts': [{'hostname': 'domain_controller'}, {'hostname': 'web_server', 'services': [{'service_name': 'WebServer'}]}, {'hostname': 'database_server', 'folders': [{'folder_name': 'database', 'files': [{'file_name': 'database.db'}]}]}, {'hostname': 'backup_server'}, {'hostname': 'security_suite'}, {'hostname': 'client_1'}, {'hostname': 'client_2'}], 'num_services': 1, 'num_applications': 0, 'num_folders': 1, 'num_files': 1, 'num_nics': 2, 'include_num_access': False, 'include_nmne': True, 'routers': [{'hostname': 'router_1'}], 'num_ports': 0, 'ip_list': ['192.168.1.10', '192.168.1.12', '192.168.1.14', '192.168.1.16', '192.168.1.110', '192.168.10.21', '192.168.10.22', '192.168.10.110'], 'wildcard_list': ['0.0.0.1'], 'port_list': [80, 5432], 'protocol_list': ['ICMP', 'TCP', 'UDP'], 'num_rules': 10}}, {'type': 'LINKS', 'label': 'LINKS', 'options': {'link_references': ['router_1:eth-1<->switch_1:eth-8', 'router_1:eth-2<->switch_2:eth-8', 'switch_1:eth-1<->domain_controller:eth-1', 'switch_1:eth-2<->web_server:eth-1', 'switch_1:eth-3<->database_server:eth-1', 'switch_1:eth-4<->backup_server:eth-1', 'switch_1:eth-7<->security_suite:eth-1', 'switch_2:eth-1<->client_1:eth-1', 'switch_2:eth-2<->client_2:eth-1', 'switch_2:eth-7<->security_suite:eth-2']}}, {'type': 'NONE', 'label': 'ICS', 'options': {}}]}}\n"
     ]
    },
    {
     "name": "stderr",
     "output_type": "stream",
     "text": [
      "2024-04-08 14:50:37,834: Resetting environment, episode 45, avg. reward: -45.750000000000064\n",
      "2024-04-08 14:50:37,838: Saving agent action log to C:\\Users\\CharlieCrane\\primaite\\3.0.0b7\\sessions\\2024-04-08\\14-49-25\\agent_actions\\episode_45.json\n"
     ]
    },
    {
     "name": "stdout",
     "output_type": "stream",
     "text": [
      "{'type': 'CUSTOM', 'options': {'components': [{'type': 'NODES', 'label': 'NODES', 'options': {'hosts': [{'hostname': 'domain_controller'}, {'hostname': 'web_server', 'services': [{'service_name': 'WebServer'}]}, {'hostname': 'database_server', 'folders': [{'folder_name': 'database', 'files': [{'file_name': 'database.db'}]}]}, {'hostname': 'backup_server'}, {'hostname': 'security_suite'}, {'hostname': 'client_1'}, {'hostname': 'client_2'}], 'num_services': 1, 'num_applications': 0, 'num_folders': 1, 'num_files': 1, 'num_nics': 2, 'include_num_access': False, 'include_nmne': True, 'routers': [{'hostname': 'router_1'}], 'num_ports': 0, 'ip_list': ['192.168.1.10', '192.168.1.12', '192.168.1.14', '192.168.1.16', '192.168.1.110', '192.168.10.21', '192.168.10.22', '192.168.10.110'], 'wildcard_list': ['0.0.0.1'], 'port_list': [80, 5432], 'protocol_list': ['ICMP', 'TCP', 'UDP'], 'num_rules': 10}}, {'type': 'LINKS', 'label': 'LINKS', 'options': {'link_references': ['router_1:eth-1<->switch_1:eth-8', 'router_1:eth-2<->switch_2:eth-8', 'switch_1:eth-1<->domain_controller:eth-1', 'switch_1:eth-2<->web_server:eth-1', 'switch_1:eth-3<->database_server:eth-1', 'switch_1:eth-4<->backup_server:eth-1', 'switch_1:eth-7<->security_suite:eth-1', 'switch_2:eth-1<->client_1:eth-1', 'switch_2:eth-2<->client_2:eth-1', 'switch_2:eth-7<->security_suite:eth-2']}}, {'type': 'NONE', 'label': 'ICS', 'options': {}}]}}\n"
     ]
    },
    {
     "name": "stderr",
     "output_type": "stream",
     "text": [
      "2024-04-08 14:50:39,768: Resetting environment, episode 46, avg. reward: -22.39999999999994\n",
      "2024-04-08 14:50:39,774: Saving agent action log to C:\\Users\\CharlieCrane\\primaite\\3.0.0b7\\sessions\\2024-04-08\\14-49-25\\agent_actions\\episode_46.json\n"
     ]
    },
    {
     "name": "stdout",
     "output_type": "stream",
     "text": [
      "{'type': 'CUSTOM', 'options': {'components': [{'type': 'NODES', 'label': 'NODES', 'options': {'hosts': [{'hostname': 'domain_controller'}, {'hostname': 'web_server', 'services': [{'service_name': 'WebServer'}]}, {'hostname': 'database_server', 'folders': [{'folder_name': 'database', 'files': [{'file_name': 'database.db'}]}]}, {'hostname': 'backup_server'}, {'hostname': 'security_suite'}, {'hostname': 'client_1'}, {'hostname': 'client_2'}], 'num_services': 1, 'num_applications': 0, 'num_folders': 1, 'num_files': 1, 'num_nics': 2, 'include_num_access': False, 'include_nmne': True, 'routers': [{'hostname': 'router_1'}], 'num_ports': 0, 'ip_list': ['192.168.1.10', '192.168.1.12', '192.168.1.14', '192.168.1.16', '192.168.1.110', '192.168.10.21', '192.168.10.22', '192.168.10.110'], 'wildcard_list': ['0.0.0.1'], 'port_list': [80, 5432], 'protocol_list': ['ICMP', 'TCP', 'UDP'], 'num_rules': 10}}, {'type': 'LINKS', 'label': 'LINKS', 'options': {'link_references': ['router_1:eth-1<->switch_1:eth-8', 'router_1:eth-2<->switch_2:eth-8', 'switch_1:eth-1<->domain_controller:eth-1', 'switch_1:eth-2<->web_server:eth-1', 'switch_1:eth-3<->database_server:eth-1', 'switch_1:eth-4<->backup_server:eth-1', 'switch_1:eth-7<->security_suite:eth-1', 'switch_2:eth-1<->client_1:eth-1', 'switch_2:eth-2<->client_2:eth-1', 'switch_2:eth-7<->security_suite:eth-2']}}, {'type': 'NONE', 'label': 'ICS', 'options': {}}]}}\n"
     ]
    },
    {
     "name": "stderr",
     "output_type": "stream",
     "text": [
      "2024-04-08 14:50:41,672: Resetting environment, episode 47, avg. reward: -18.749999999999993\n",
      "2024-04-08 14:50:41,677: Saving agent action log to C:\\Users\\CharlieCrane\\primaite\\3.0.0b7\\sessions\\2024-04-08\\14-49-25\\agent_actions\\episode_47.json\n"
     ]
    },
    {
     "name": "stdout",
     "output_type": "stream",
     "text": [
      "{'type': 'CUSTOM', 'options': {'components': [{'type': 'NODES', 'label': 'NODES', 'options': {'hosts': [{'hostname': 'domain_controller'}, {'hostname': 'web_server', 'services': [{'service_name': 'WebServer'}]}, {'hostname': 'database_server', 'folders': [{'folder_name': 'database', 'files': [{'file_name': 'database.db'}]}]}, {'hostname': 'backup_server'}, {'hostname': 'security_suite'}, {'hostname': 'client_1'}, {'hostname': 'client_2'}], 'num_services': 1, 'num_applications': 0, 'num_folders': 1, 'num_files': 1, 'num_nics': 2, 'include_num_access': False, 'include_nmne': True, 'routers': [{'hostname': 'router_1'}], 'num_ports': 0, 'ip_list': ['192.168.1.10', '192.168.1.12', '192.168.1.14', '192.168.1.16', '192.168.1.110', '192.168.10.21', '192.168.10.22', '192.168.10.110'], 'wildcard_list': ['0.0.0.1'], 'port_list': [80, 5432], 'protocol_list': ['ICMP', 'TCP', 'UDP'], 'num_rules': 10}}, {'type': 'LINKS', 'label': 'LINKS', 'options': {'link_references': ['router_1:eth-1<->switch_1:eth-8', 'router_1:eth-2<->switch_2:eth-8', 'switch_1:eth-1<->domain_controller:eth-1', 'switch_1:eth-2<->web_server:eth-1', 'switch_1:eth-3<->database_server:eth-1', 'switch_1:eth-4<->backup_server:eth-1', 'switch_1:eth-7<->security_suite:eth-1', 'switch_2:eth-1<->client_1:eth-1', 'switch_2:eth-2<->client_2:eth-1', 'switch_2:eth-7<->security_suite:eth-2']}}, {'type': 'NONE', 'label': 'ICS', 'options': {}}]}}\n"
     ]
    },
    {
     "name": "stderr",
     "output_type": "stream",
     "text": [
      "2024-04-08 14:50:43,816: Resetting environment, episode 48, avg. reward: -65.4\n",
      "2024-04-08 14:50:43,818: Saving agent action log to C:\\Users\\CharlieCrane\\primaite\\3.0.0b7\\sessions\\2024-04-08\\14-49-25\\agent_actions\\episode_48.json\n"
     ]
    },
    {
     "name": "stdout",
     "output_type": "stream",
     "text": [
      "{'type': 'CUSTOM', 'options': {'components': [{'type': 'NODES', 'label': 'NODES', 'options': {'hosts': [{'hostname': 'domain_controller'}, {'hostname': 'web_server', 'services': [{'service_name': 'WebServer'}]}, {'hostname': 'database_server', 'folders': [{'folder_name': 'database', 'files': [{'file_name': 'database.db'}]}]}, {'hostname': 'backup_server'}, {'hostname': 'security_suite'}, {'hostname': 'client_1'}, {'hostname': 'client_2'}], 'num_services': 1, 'num_applications': 0, 'num_folders': 1, 'num_files': 1, 'num_nics': 2, 'include_num_access': False, 'include_nmne': True, 'routers': [{'hostname': 'router_1'}], 'num_ports': 0, 'ip_list': ['192.168.1.10', '192.168.1.12', '192.168.1.14', '192.168.1.16', '192.168.1.110', '192.168.10.21', '192.168.10.22', '192.168.10.110'], 'wildcard_list': ['0.0.0.1'], 'port_list': [80, 5432], 'protocol_list': ['ICMP', 'TCP', 'UDP'], 'num_rules': 10}}, {'type': 'LINKS', 'label': 'LINKS', 'options': {'link_references': ['router_1:eth-1<->switch_1:eth-8', 'router_1:eth-2<->switch_2:eth-8', 'switch_1:eth-1<->domain_controller:eth-1', 'switch_1:eth-2<->web_server:eth-1', 'switch_1:eth-3<->database_server:eth-1', 'switch_1:eth-4<->backup_server:eth-1', 'switch_1:eth-7<->security_suite:eth-1', 'switch_2:eth-1<->client_1:eth-1', 'switch_2:eth-2<->client_2:eth-1', 'switch_2:eth-7<->security_suite:eth-2']}}, {'type': 'NONE', 'label': 'ICS', 'options': {}}]}}\n"
     ]
    },
    {
     "name": "stderr",
     "output_type": "stream",
     "text": [
      "2024-04-08 14:50:45,262: Resetting environment, episode 49, avg. reward: -20.09999999999996\n",
      "2024-04-08 14:50:45,266: Saving agent action log to C:\\Users\\CharlieCrane\\primaite\\3.0.0b7\\sessions\\2024-04-08\\14-49-25\\agent_actions\\episode_49.json\n"
     ]
    },
    {
     "name": "stdout",
     "output_type": "stream",
     "text": [
      "{'type': 'CUSTOM', 'options': {'components': [{'type': 'NODES', 'label': 'NODES', 'options': {'hosts': [{'hostname': 'domain_controller'}, {'hostname': 'web_server', 'services': [{'service_name': 'WebServer'}]}, {'hostname': 'database_server', 'folders': [{'folder_name': 'database', 'files': [{'file_name': 'database.db'}]}]}, {'hostname': 'backup_server'}, {'hostname': 'security_suite'}, {'hostname': 'client_1'}, {'hostname': 'client_2'}], 'num_services': 1, 'num_applications': 0, 'num_folders': 1, 'num_files': 1, 'num_nics': 2, 'include_num_access': False, 'include_nmne': True, 'routers': [{'hostname': 'router_1'}], 'num_ports': 0, 'ip_list': ['192.168.1.10', '192.168.1.12', '192.168.1.14', '192.168.1.16', '192.168.1.110', '192.168.10.21', '192.168.10.22', '192.168.10.110'], 'wildcard_list': ['0.0.0.1'], 'port_list': [80, 5432], 'protocol_list': ['ICMP', 'TCP', 'UDP'], 'num_rules': 10}}, {'type': 'LINKS', 'label': 'LINKS', 'options': {'link_references': ['router_1:eth-1<->switch_1:eth-8', 'router_1:eth-2<->switch_2:eth-8', 'switch_1:eth-1<->domain_controller:eth-1', 'switch_1:eth-2<->web_server:eth-1', 'switch_1:eth-3<->database_server:eth-1', 'switch_1:eth-4<->backup_server:eth-1', 'switch_1:eth-7<->security_suite:eth-1', 'switch_2:eth-1<->client_1:eth-1', 'switch_2:eth-2<->client_2:eth-1', 'switch_2:eth-7<->security_suite:eth-2']}}, {'type': 'NONE', 'label': 'ICS', 'options': {}}]}}\n"
     ]
    },
    {
     "name": "stderr",
     "output_type": "stream",
     "text": [
      "2024-04-08 14:50:46,955: Resetting environment, episode 50, avg. reward: -21.899999999999967\n",
      "2024-04-08 14:50:46,958: Saving agent action log to C:\\Users\\CharlieCrane\\primaite\\3.0.0b7\\sessions\\2024-04-08\\14-49-25\\agent_actions\\episode_50.json\n"
     ]
    },
    {
     "name": "stdout",
     "output_type": "stream",
     "text": [
      "{'type': 'CUSTOM', 'options': {'components': [{'type': 'NODES', 'label': 'NODES', 'options': {'hosts': [{'hostname': 'domain_controller'}, {'hostname': 'web_server', 'services': [{'service_name': 'WebServer'}]}, {'hostname': 'database_server', 'folders': [{'folder_name': 'database', 'files': [{'file_name': 'database.db'}]}]}, {'hostname': 'backup_server'}, {'hostname': 'security_suite'}, {'hostname': 'client_1'}, {'hostname': 'client_2'}], 'num_services': 1, 'num_applications': 0, 'num_folders': 1, 'num_files': 1, 'num_nics': 2, 'include_num_access': False, 'include_nmne': True, 'routers': [{'hostname': 'router_1'}], 'num_ports': 0, 'ip_list': ['192.168.1.10', '192.168.1.12', '192.168.1.14', '192.168.1.16', '192.168.1.110', '192.168.10.21', '192.168.10.22', '192.168.10.110'], 'wildcard_list': ['0.0.0.1'], 'port_list': [80, 5432], 'protocol_list': ['ICMP', 'TCP', 'UDP'], 'num_rules': 10}}, {'type': 'LINKS', 'label': 'LINKS', 'options': {'link_references': ['router_1:eth-1<->switch_1:eth-8', 'router_1:eth-2<->switch_2:eth-8', 'switch_1:eth-1<->domain_controller:eth-1', 'switch_1:eth-2<->web_server:eth-1', 'switch_1:eth-3<->database_server:eth-1', 'switch_1:eth-4<->backup_server:eth-1', 'switch_1:eth-7<->security_suite:eth-1', 'switch_2:eth-1<->client_1:eth-1', 'switch_2:eth-2<->client_2:eth-1', 'switch_2:eth-7<->security_suite:eth-2']}}, {'type': 'NONE', 'label': 'ICS', 'options': {}}]}}\n"
     ]
    },
    {
     "name": "stderr",
     "output_type": "stream",
     "text": [
      "2024-04-08 14:50:49,698: Resetting environment, episode 51, avg. reward: -20.399999999999963\n",
      "2024-04-08 14:50:49,701: Saving agent action log to C:\\Users\\CharlieCrane\\primaite\\3.0.0b7\\sessions\\2024-04-08\\14-49-25\\agent_actions\\episode_51.json\n"
     ]
    },
    {
     "name": "stdout",
     "output_type": "stream",
     "text": [
      "{'type': 'CUSTOM', 'options': {'components': [{'type': 'NODES', 'label': 'NODES', 'options': {'hosts': [{'hostname': 'domain_controller'}, {'hostname': 'web_server', 'services': [{'service_name': 'WebServer'}]}, {'hostname': 'database_server', 'folders': [{'folder_name': 'database', 'files': [{'file_name': 'database.db'}]}]}, {'hostname': 'backup_server'}, {'hostname': 'security_suite'}, {'hostname': 'client_1'}, {'hostname': 'client_2'}], 'num_services': 1, 'num_applications': 0, 'num_folders': 1, 'num_files': 1, 'num_nics': 2, 'include_num_access': False, 'include_nmne': True, 'routers': [{'hostname': 'router_1'}], 'num_ports': 0, 'ip_list': ['192.168.1.10', '192.168.1.12', '192.168.1.14', '192.168.1.16', '192.168.1.110', '192.168.10.21', '192.168.10.22', '192.168.10.110'], 'wildcard_list': ['0.0.0.1'], 'port_list': [80, 5432], 'protocol_list': ['ICMP', 'TCP', 'UDP'], 'num_rules': 10}}, {'type': 'LINKS', 'label': 'LINKS', 'options': {'link_references': ['router_1:eth-1<->switch_1:eth-8', 'router_1:eth-2<->switch_2:eth-8', 'switch_1:eth-1<->domain_controller:eth-1', 'switch_1:eth-2<->web_server:eth-1', 'switch_1:eth-3<->database_server:eth-1', 'switch_1:eth-4<->backup_server:eth-1', 'switch_1:eth-7<->security_suite:eth-1', 'switch_2:eth-1<->client_1:eth-1', 'switch_2:eth-2<->client_2:eth-1', 'switch_2:eth-7<->security_suite:eth-2']}}, {'type': 'NONE', 'label': 'ICS', 'options': {}}]}}\n"
     ]
    },
    {
     "name": "stderr",
     "output_type": "stream",
     "text": [
      "2024-04-08 14:50:51,463: Resetting environment, episode 52, avg. reward: -21.399999999999956\n",
      "2024-04-08 14:50:51,467: Saving agent action log to C:\\Users\\CharlieCrane\\primaite\\3.0.0b7\\sessions\\2024-04-08\\14-49-25\\agent_actions\\episode_52.json\n"
     ]
    },
    {
     "name": "stdout",
     "output_type": "stream",
     "text": [
      "{'type': 'CUSTOM', 'options': {'components': [{'type': 'NODES', 'label': 'NODES', 'options': {'hosts': [{'hostname': 'domain_controller'}, {'hostname': 'web_server', 'services': [{'service_name': 'WebServer'}]}, {'hostname': 'database_server', 'folders': [{'folder_name': 'database', 'files': [{'file_name': 'database.db'}]}]}, {'hostname': 'backup_server'}, {'hostname': 'security_suite'}, {'hostname': 'client_1'}, {'hostname': 'client_2'}], 'num_services': 1, 'num_applications': 0, 'num_folders': 1, 'num_files': 1, 'num_nics': 2, 'include_num_access': False, 'include_nmne': True, 'routers': [{'hostname': 'router_1'}], 'num_ports': 0, 'ip_list': ['192.168.1.10', '192.168.1.12', '192.168.1.14', '192.168.1.16', '192.168.1.110', '192.168.10.21', '192.168.10.22', '192.168.10.110'], 'wildcard_list': ['0.0.0.1'], 'port_list': [80, 5432], 'protocol_list': ['ICMP', 'TCP', 'UDP'], 'num_rules': 10}}, {'type': 'LINKS', 'label': 'LINKS', 'options': {'link_references': ['router_1:eth-1<->switch_1:eth-8', 'router_1:eth-2<->switch_2:eth-8', 'switch_1:eth-1<->domain_controller:eth-1', 'switch_1:eth-2<->web_server:eth-1', 'switch_1:eth-3<->database_server:eth-1', 'switch_1:eth-4<->backup_server:eth-1', 'switch_1:eth-7<->security_suite:eth-1', 'switch_2:eth-1<->client_1:eth-1', 'switch_2:eth-2<->client_2:eth-1', 'switch_2:eth-7<->security_suite:eth-2']}}, {'type': 'NONE', 'label': 'ICS', 'options': {}}]}}\n"
     ]
    },
    {
     "name": "stderr",
     "output_type": "stream",
     "text": [
      "2024-04-08 14:50:53,214: Resetting environment, episode 53, avg. reward: -19.249999999999982\n",
      "2024-04-08 14:50:53,218: Saving agent action log to C:\\Users\\CharlieCrane\\primaite\\3.0.0b7\\sessions\\2024-04-08\\14-49-25\\agent_actions\\episode_53.json\n"
     ]
    },
    {
     "name": "stdout",
     "output_type": "stream",
     "text": [
      "{'type': 'CUSTOM', 'options': {'components': [{'type': 'NODES', 'label': 'NODES', 'options': {'hosts': [{'hostname': 'domain_controller'}, {'hostname': 'web_server', 'services': [{'service_name': 'WebServer'}]}, {'hostname': 'database_server', 'folders': [{'folder_name': 'database', 'files': [{'file_name': 'database.db'}]}]}, {'hostname': 'backup_server'}, {'hostname': 'security_suite'}, {'hostname': 'client_1'}, {'hostname': 'client_2'}], 'num_services': 1, 'num_applications': 0, 'num_folders': 1, 'num_files': 1, 'num_nics': 2, 'include_num_access': False, 'include_nmne': True, 'routers': [{'hostname': 'router_1'}], 'num_ports': 0, 'ip_list': ['192.168.1.10', '192.168.1.12', '192.168.1.14', '192.168.1.16', '192.168.1.110', '192.168.10.21', '192.168.10.22', '192.168.10.110'], 'wildcard_list': ['0.0.0.1'], 'port_list': [80, 5432], 'protocol_list': ['ICMP', 'TCP', 'UDP'], 'num_rules': 10}}, {'type': 'LINKS', 'label': 'LINKS', 'options': {'link_references': ['router_1:eth-1<->switch_1:eth-8', 'router_1:eth-2<->switch_2:eth-8', 'switch_1:eth-1<->domain_controller:eth-1', 'switch_1:eth-2<->web_server:eth-1', 'switch_1:eth-3<->database_server:eth-1', 'switch_1:eth-4<->backup_server:eth-1', 'switch_1:eth-7<->security_suite:eth-1', 'switch_2:eth-1<->client_1:eth-1', 'switch_2:eth-2<->client_2:eth-1', 'switch_2:eth-7<->security_suite:eth-2']}}, {'type': 'NONE', 'label': 'ICS', 'options': {}}]}}\n"
     ]
    },
    {
     "name": "stderr",
     "output_type": "stream",
     "text": [
      "2024-04-08 14:50:55,080: Resetting environment, episode 54, avg. reward: -57.90000000000009\n",
      "2024-04-08 14:50:55,084: Saving agent action log to C:\\Users\\CharlieCrane\\primaite\\3.0.0b7\\sessions\\2024-04-08\\14-49-25\\agent_actions\\episode_54.json\n"
     ]
    },
    {
     "name": "stdout",
     "output_type": "stream",
     "text": [
      "{'type': 'CUSTOM', 'options': {'components': [{'type': 'NODES', 'label': 'NODES', 'options': {'hosts': [{'hostname': 'domain_controller'}, {'hostname': 'web_server', 'services': [{'service_name': 'WebServer'}]}, {'hostname': 'database_server', 'folders': [{'folder_name': 'database', 'files': [{'file_name': 'database.db'}]}]}, {'hostname': 'backup_server'}, {'hostname': 'security_suite'}, {'hostname': 'client_1'}, {'hostname': 'client_2'}], 'num_services': 1, 'num_applications': 0, 'num_folders': 1, 'num_files': 1, 'num_nics': 2, 'include_num_access': False, 'include_nmne': True, 'routers': [{'hostname': 'router_1'}], 'num_ports': 0, 'ip_list': ['192.168.1.10', '192.168.1.12', '192.168.1.14', '192.168.1.16', '192.168.1.110', '192.168.10.21', '192.168.10.22', '192.168.10.110'], 'wildcard_list': ['0.0.0.1'], 'port_list': [80, 5432], 'protocol_list': ['ICMP', 'TCP', 'UDP'], 'num_rules': 10}}, {'type': 'LINKS', 'label': 'LINKS', 'options': {'link_references': ['router_1:eth-1<->switch_1:eth-8', 'router_1:eth-2<->switch_2:eth-8', 'switch_1:eth-1<->domain_controller:eth-1', 'switch_1:eth-2<->web_server:eth-1', 'switch_1:eth-3<->database_server:eth-1', 'switch_1:eth-4<->backup_server:eth-1', 'switch_1:eth-7<->security_suite:eth-1', 'switch_2:eth-1<->client_1:eth-1', 'switch_2:eth-2<->client_2:eth-1', 'switch_2:eth-7<->security_suite:eth-2']}}, {'type': 'NONE', 'label': 'ICS', 'options': {}}]}}\n"
     ]
    },
    {
     "name": "stderr",
     "output_type": "stream",
     "text": [
      "2024-04-08 14:50:56,690: Resetting environment, episode 55, avg. reward: -14.099999999999982\n",
      "2024-04-08 14:50:56,694: Saving agent action log to C:\\Users\\CharlieCrane\\primaite\\3.0.0b7\\sessions\\2024-04-08\\14-49-25\\agent_actions\\episode_55.json\n"
     ]
    },
    {
     "name": "stdout",
     "output_type": "stream",
     "text": [
      "{'type': 'CUSTOM', 'options': {'components': [{'type': 'NODES', 'label': 'NODES', 'options': {'hosts': [{'hostname': 'domain_controller'}, {'hostname': 'web_server', 'services': [{'service_name': 'WebServer'}]}, {'hostname': 'database_server', 'folders': [{'folder_name': 'database', 'files': [{'file_name': 'database.db'}]}]}, {'hostname': 'backup_server'}, {'hostname': 'security_suite'}, {'hostname': 'client_1'}, {'hostname': 'client_2'}], 'num_services': 1, 'num_applications': 0, 'num_folders': 1, 'num_files': 1, 'num_nics': 2, 'include_num_access': False, 'include_nmne': True, 'routers': [{'hostname': 'router_1'}], 'num_ports': 0, 'ip_list': ['192.168.1.10', '192.168.1.12', '192.168.1.14', '192.168.1.16', '192.168.1.110', '192.168.10.21', '192.168.10.22', '192.168.10.110'], 'wildcard_list': ['0.0.0.1'], 'port_list': [80, 5432], 'protocol_list': ['ICMP', 'TCP', 'UDP'], 'num_rules': 10}}, {'type': 'LINKS', 'label': 'LINKS', 'options': {'link_references': ['router_1:eth-1<->switch_1:eth-8', 'router_1:eth-2<->switch_2:eth-8', 'switch_1:eth-1<->domain_controller:eth-1', 'switch_1:eth-2<->web_server:eth-1', 'switch_1:eth-3<->database_server:eth-1', 'switch_1:eth-4<->backup_server:eth-1', 'switch_1:eth-7<->security_suite:eth-1', 'switch_2:eth-1<->client_1:eth-1', 'switch_2:eth-2<->client_2:eth-1', 'switch_2:eth-7<->security_suite:eth-2']}}, {'type': 'NONE', 'label': 'ICS', 'options': {}}]}}\n"
     ]
    },
    {
     "name": "stderr",
     "output_type": "stream",
     "text": [
      "2024-04-08 14:50:58,423: Resetting environment, episode 56, avg. reward: -22.79999999999995\n",
      "2024-04-08 14:50:58,427: Saving agent action log to C:\\Users\\CharlieCrane\\primaite\\3.0.0b7\\sessions\\2024-04-08\\14-49-25\\agent_actions\\episode_56.json\n"
     ]
    },
    {
     "name": "stdout",
     "output_type": "stream",
     "text": [
      "{'type': 'CUSTOM', 'options': {'components': [{'type': 'NODES', 'label': 'NODES', 'options': {'hosts': [{'hostname': 'domain_controller'}, {'hostname': 'web_server', 'services': [{'service_name': 'WebServer'}]}, {'hostname': 'database_server', 'folders': [{'folder_name': 'database', 'files': [{'file_name': 'database.db'}]}]}, {'hostname': 'backup_server'}, {'hostname': 'security_suite'}, {'hostname': 'client_1'}, {'hostname': 'client_2'}], 'num_services': 1, 'num_applications': 0, 'num_folders': 1, 'num_files': 1, 'num_nics': 2, 'include_num_access': False, 'include_nmne': True, 'routers': [{'hostname': 'router_1'}], 'num_ports': 0, 'ip_list': ['192.168.1.10', '192.168.1.12', '192.168.1.14', '192.168.1.16', '192.168.1.110', '192.168.10.21', '192.168.10.22', '192.168.10.110'], 'wildcard_list': ['0.0.0.1'], 'port_list': [80, 5432], 'protocol_list': ['ICMP', 'TCP', 'UDP'], 'num_rules': 10}}, {'type': 'LINKS', 'label': 'LINKS', 'options': {'link_references': ['router_1:eth-1<->switch_1:eth-8', 'router_1:eth-2<->switch_2:eth-8', 'switch_1:eth-1<->domain_controller:eth-1', 'switch_1:eth-2<->web_server:eth-1', 'switch_1:eth-3<->database_server:eth-1', 'switch_1:eth-4<->backup_server:eth-1', 'switch_1:eth-7<->security_suite:eth-1', 'switch_2:eth-1<->client_1:eth-1', 'switch_2:eth-2<->client_2:eth-1', 'switch_2:eth-7<->security_suite:eth-2']}}, {'type': 'NONE', 'label': 'ICS', 'options': {}}]}}\n"
     ]
    },
    {
     "name": "stderr",
     "output_type": "stream",
     "text": [
      "2024-04-08 14:50:59,941: Resetting environment, episode 57, avg. reward: -18.39999999999997\n",
      "2024-04-08 14:50:59,944: Saving agent action log to C:\\Users\\CharlieCrane\\primaite\\3.0.0b7\\sessions\\2024-04-08\\14-49-25\\agent_actions\\episode_57.json\n"
     ]
    },
    {
     "name": "stdout",
     "output_type": "stream",
     "text": [
      "{'type': 'CUSTOM', 'options': {'components': [{'type': 'NODES', 'label': 'NODES', 'options': {'hosts': [{'hostname': 'domain_controller'}, {'hostname': 'web_server', 'services': [{'service_name': 'WebServer'}]}, {'hostname': 'database_server', 'folders': [{'folder_name': 'database', 'files': [{'file_name': 'database.db'}]}]}, {'hostname': 'backup_server'}, {'hostname': 'security_suite'}, {'hostname': 'client_1'}, {'hostname': 'client_2'}], 'num_services': 1, 'num_applications': 0, 'num_folders': 1, 'num_files': 1, 'num_nics': 2, 'include_num_access': False, 'include_nmne': True, 'routers': [{'hostname': 'router_1'}], 'num_ports': 0, 'ip_list': ['192.168.1.10', '192.168.1.12', '192.168.1.14', '192.168.1.16', '192.168.1.110', '192.168.10.21', '192.168.10.22', '192.168.10.110'], 'wildcard_list': ['0.0.0.1'], 'port_list': [80, 5432], 'protocol_list': ['ICMP', 'TCP', 'UDP'], 'num_rules': 10}}, {'type': 'LINKS', 'label': 'LINKS', 'options': {'link_references': ['router_1:eth-1<->switch_1:eth-8', 'router_1:eth-2<->switch_2:eth-8', 'switch_1:eth-1<->domain_controller:eth-1', 'switch_1:eth-2<->web_server:eth-1', 'switch_1:eth-3<->database_server:eth-1', 'switch_1:eth-4<->backup_server:eth-1', 'switch_1:eth-7<->security_suite:eth-1', 'switch_2:eth-1<->client_1:eth-1', 'switch_2:eth-2<->client_2:eth-1', 'switch_2:eth-7<->security_suite:eth-2']}}, {'type': 'NONE', 'label': 'ICS', 'options': {}}]}}\n"
     ]
    },
    {
     "name": "stderr",
     "output_type": "stream",
     "text": [
      "2024-04-08 14:51:01,528: Resetting environment, episode 58, avg. reward: -49.25000000000011\n",
      "2024-04-08 14:51:01,532: Saving agent action log to C:\\Users\\CharlieCrane\\primaite\\3.0.0b7\\sessions\\2024-04-08\\14-49-25\\agent_actions\\episode_58.json\n"
     ]
    },
    {
     "name": "stdout",
     "output_type": "stream",
     "text": [
      "{'type': 'CUSTOM', 'options': {'components': [{'type': 'NODES', 'label': 'NODES', 'options': {'hosts': [{'hostname': 'domain_controller'}, {'hostname': 'web_server', 'services': [{'service_name': 'WebServer'}]}, {'hostname': 'database_server', 'folders': [{'folder_name': 'database', 'files': [{'file_name': 'database.db'}]}]}, {'hostname': 'backup_server'}, {'hostname': 'security_suite'}, {'hostname': 'client_1'}, {'hostname': 'client_2'}], 'num_services': 1, 'num_applications': 0, 'num_folders': 1, 'num_files': 1, 'num_nics': 2, 'include_num_access': False, 'include_nmne': True, 'routers': [{'hostname': 'router_1'}], 'num_ports': 0, 'ip_list': ['192.168.1.10', '192.168.1.12', '192.168.1.14', '192.168.1.16', '192.168.1.110', '192.168.10.21', '192.168.10.22', '192.168.10.110'], 'wildcard_list': ['0.0.0.1'], 'port_list': [80, 5432], 'protocol_list': ['ICMP', 'TCP', 'UDP'], 'num_rules': 10}}, {'type': 'LINKS', 'label': 'LINKS', 'options': {'link_references': ['router_1:eth-1<->switch_1:eth-8', 'router_1:eth-2<->switch_2:eth-8', 'switch_1:eth-1<->domain_controller:eth-1', 'switch_1:eth-2<->web_server:eth-1', 'switch_1:eth-3<->database_server:eth-1', 'switch_1:eth-4<->backup_server:eth-1', 'switch_1:eth-7<->security_suite:eth-1', 'switch_2:eth-1<->client_1:eth-1', 'switch_2:eth-2<->client_2:eth-1', 'switch_2:eth-7<->security_suite:eth-2']}}, {'type': 'NONE', 'label': 'ICS', 'options': {}}]}}\n"
     ]
    },
    {
     "name": "stderr",
     "output_type": "stream",
     "text": [
      "2024-04-08 14:51:03,202: Resetting environment, episode 59, avg. reward: -14.449999999999964\n",
      "2024-04-08 14:51:03,204: Saving agent action log to C:\\Users\\CharlieCrane\\primaite\\3.0.0b7\\sessions\\2024-04-08\\14-49-25\\agent_actions\\episode_59.json\n"
     ]
    },
    {
     "name": "stdout",
     "output_type": "stream",
     "text": [
      "{'type': 'CUSTOM', 'options': {'components': [{'type': 'NODES', 'label': 'NODES', 'options': {'hosts': [{'hostname': 'domain_controller'}, {'hostname': 'web_server', 'services': [{'service_name': 'WebServer'}]}, {'hostname': 'database_server', 'folders': [{'folder_name': 'database', 'files': [{'file_name': 'database.db'}]}]}, {'hostname': 'backup_server'}, {'hostname': 'security_suite'}, {'hostname': 'client_1'}, {'hostname': 'client_2'}], 'num_services': 1, 'num_applications': 0, 'num_folders': 1, 'num_files': 1, 'num_nics': 2, 'include_num_access': False, 'include_nmne': True, 'routers': [{'hostname': 'router_1'}], 'num_ports': 0, 'ip_list': ['192.168.1.10', '192.168.1.12', '192.168.1.14', '192.168.1.16', '192.168.1.110', '192.168.10.21', '192.168.10.22', '192.168.10.110'], 'wildcard_list': ['0.0.0.1'], 'port_list': [80, 5432], 'protocol_list': ['ICMP', 'TCP', 'UDP'], 'num_rules': 10}}, {'type': 'LINKS', 'label': 'LINKS', 'options': {'link_references': ['router_1:eth-1<->switch_1:eth-8', 'router_1:eth-2<->switch_2:eth-8', 'switch_1:eth-1<->domain_controller:eth-1', 'switch_1:eth-2<->web_server:eth-1', 'switch_1:eth-3<->database_server:eth-1', 'switch_1:eth-4<->backup_server:eth-1', 'switch_1:eth-7<->security_suite:eth-1', 'switch_2:eth-1<->client_1:eth-1', 'switch_2:eth-2<->client_2:eth-1', 'switch_2:eth-7<->security_suite:eth-2']}}, {'type': 'NONE', 'label': 'ICS', 'options': {}}]}}\n"
     ]
    },
    {
     "name": "stderr",
     "output_type": "stream",
     "text": [
      "2024-04-08 14:51:04,611: Resetting environment, episode 60, avg. reward: -11.649999999999991\n",
      "2024-04-08 14:51:04,614: Saving agent action log to C:\\Users\\CharlieCrane\\primaite\\3.0.0b7\\sessions\\2024-04-08\\14-49-25\\agent_actions\\episode_60.json\n"
     ]
    },
    {
     "name": "stdout",
     "output_type": "stream",
     "text": [
      "{'type': 'CUSTOM', 'options': {'components': [{'type': 'NODES', 'label': 'NODES', 'options': {'hosts': [{'hostname': 'domain_controller'}, {'hostname': 'web_server', 'services': [{'service_name': 'WebServer'}]}, {'hostname': 'database_server', 'folders': [{'folder_name': 'database', 'files': [{'file_name': 'database.db'}]}]}, {'hostname': 'backup_server'}, {'hostname': 'security_suite'}, {'hostname': 'client_1'}, {'hostname': 'client_2'}], 'num_services': 1, 'num_applications': 0, 'num_folders': 1, 'num_files': 1, 'num_nics': 2, 'include_num_access': False, 'include_nmne': True, 'routers': [{'hostname': 'router_1'}], 'num_ports': 0, 'ip_list': ['192.168.1.10', '192.168.1.12', '192.168.1.14', '192.168.1.16', '192.168.1.110', '192.168.10.21', '192.168.10.22', '192.168.10.110'], 'wildcard_list': ['0.0.0.1'], 'port_list': [80, 5432], 'protocol_list': ['ICMP', 'TCP', 'UDP'], 'num_rules': 10}}, {'type': 'LINKS', 'label': 'LINKS', 'options': {'link_references': ['router_1:eth-1<->switch_1:eth-8', 'router_1:eth-2<->switch_2:eth-8', 'switch_1:eth-1<->domain_controller:eth-1', 'switch_1:eth-2<->web_server:eth-1', 'switch_1:eth-3<->database_server:eth-1', 'switch_1:eth-4<->backup_server:eth-1', 'switch_1:eth-7<->security_suite:eth-1', 'switch_2:eth-1<->client_1:eth-1', 'switch_2:eth-2<->client_2:eth-1', 'switch_2:eth-7<->security_suite:eth-2']}}, {'type': 'NONE', 'label': 'ICS', 'options': {}}]}}\n"
     ]
    },
    {
     "name": "stderr",
     "output_type": "stream",
     "text": [
      "2024-04-08 14:51:06,388: Resetting environment, episode 61, avg. reward: -17.59999999999997\n",
      "2024-04-08 14:51:06,391: Saving agent action log to C:\\Users\\CharlieCrane\\primaite\\3.0.0b7\\sessions\\2024-04-08\\14-49-25\\agent_actions\\episode_61.json\n"
     ]
    },
    {
     "name": "stdout",
     "output_type": "stream",
     "text": [
      "{'type': 'CUSTOM', 'options': {'components': [{'type': 'NODES', 'label': 'NODES', 'options': {'hosts': [{'hostname': 'domain_controller'}, {'hostname': 'web_server', 'services': [{'service_name': 'WebServer'}]}, {'hostname': 'database_server', 'folders': [{'folder_name': 'database', 'files': [{'file_name': 'database.db'}]}]}, {'hostname': 'backup_server'}, {'hostname': 'security_suite'}, {'hostname': 'client_1'}, {'hostname': 'client_2'}], 'num_services': 1, 'num_applications': 0, 'num_folders': 1, 'num_files': 1, 'num_nics': 2, 'include_num_access': False, 'include_nmne': True, 'routers': [{'hostname': 'router_1'}], 'num_ports': 0, 'ip_list': ['192.168.1.10', '192.168.1.12', '192.168.1.14', '192.168.1.16', '192.168.1.110', '192.168.10.21', '192.168.10.22', '192.168.10.110'], 'wildcard_list': ['0.0.0.1'], 'port_list': [80, 5432], 'protocol_list': ['ICMP', 'TCP', 'UDP'], 'num_rules': 10}}, {'type': 'LINKS', 'label': 'LINKS', 'options': {'link_references': ['router_1:eth-1<->switch_1:eth-8', 'router_1:eth-2<->switch_2:eth-8', 'switch_1:eth-1<->domain_controller:eth-1', 'switch_1:eth-2<->web_server:eth-1', 'switch_1:eth-3<->database_server:eth-1', 'switch_1:eth-4<->backup_server:eth-1', 'switch_1:eth-7<->security_suite:eth-1', 'switch_2:eth-1<->client_1:eth-1', 'switch_2:eth-2<->client_2:eth-1', 'switch_2:eth-7<->security_suite:eth-2']}}, {'type': 'NONE', 'label': 'ICS', 'options': {}}]}}\n"
     ]
    },
    {
     "name": "stderr",
     "output_type": "stream",
     "text": [
      "2024-04-08 14:51:07,952: Resetting environment, episode 62, avg. reward: -68.39999999999998\n",
      "2024-04-08 14:51:07,956: Saving agent action log to C:\\Users\\CharlieCrane\\primaite\\3.0.0b7\\sessions\\2024-04-08\\14-49-25\\agent_actions\\episode_62.json\n"
     ]
    },
    {
     "name": "stdout",
     "output_type": "stream",
     "text": [
      "{'type': 'CUSTOM', 'options': {'components': [{'type': 'NODES', 'label': 'NODES', 'options': {'hosts': [{'hostname': 'domain_controller'}, {'hostname': 'web_server', 'services': [{'service_name': 'WebServer'}]}, {'hostname': 'database_server', 'folders': [{'folder_name': 'database', 'files': [{'file_name': 'database.db'}]}]}, {'hostname': 'backup_server'}, {'hostname': 'security_suite'}, {'hostname': 'client_1'}, {'hostname': 'client_2'}], 'num_services': 1, 'num_applications': 0, 'num_folders': 1, 'num_files': 1, 'num_nics': 2, 'include_num_access': False, 'include_nmne': True, 'routers': [{'hostname': 'router_1'}], 'num_ports': 0, 'ip_list': ['192.168.1.10', '192.168.1.12', '192.168.1.14', '192.168.1.16', '192.168.1.110', '192.168.10.21', '192.168.10.22', '192.168.10.110'], 'wildcard_list': ['0.0.0.1'], 'port_list': [80, 5432], 'protocol_list': ['ICMP', 'TCP', 'UDP'], 'num_rules': 10}}, {'type': 'LINKS', 'label': 'LINKS', 'options': {'link_references': ['router_1:eth-1<->switch_1:eth-8', 'router_1:eth-2<->switch_2:eth-8', 'switch_1:eth-1<->domain_controller:eth-1', 'switch_1:eth-2<->web_server:eth-1', 'switch_1:eth-3<->database_server:eth-1', 'switch_1:eth-4<->backup_server:eth-1', 'switch_1:eth-7<->security_suite:eth-1', 'switch_2:eth-1<->client_1:eth-1', 'switch_2:eth-2<->client_2:eth-1', 'switch_2:eth-7<->security_suite:eth-2']}}, {'type': 'NONE', 'label': 'ICS', 'options': {}}]}}\n"
     ]
    },
    {
     "name": "stderr",
     "output_type": "stream",
     "text": [
      "2024-04-08 14:51:09,416: Resetting environment, episode 63, avg. reward: -19.999999999999957\n",
      "2024-04-08 14:51:09,420: Saving agent action log to C:\\Users\\CharlieCrane\\primaite\\3.0.0b7\\sessions\\2024-04-08\\14-49-25\\agent_actions\\episode_63.json\n"
     ]
    },
    {
     "name": "stdout",
     "output_type": "stream",
     "text": [
      "{'type': 'CUSTOM', 'options': {'components': [{'type': 'NODES', 'label': 'NODES', 'options': {'hosts': [{'hostname': 'domain_controller'}, {'hostname': 'web_server', 'services': [{'service_name': 'WebServer'}]}, {'hostname': 'database_server', 'folders': [{'folder_name': 'database', 'files': [{'file_name': 'database.db'}]}]}, {'hostname': 'backup_server'}, {'hostname': 'security_suite'}, {'hostname': 'client_1'}, {'hostname': 'client_2'}], 'num_services': 1, 'num_applications': 0, 'num_folders': 1, 'num_files': 1, 'num_nics': 2, 'include_num_access': False, 'include_nmne': True, 'routers': [{'hostname': 'router_1'}], 'num_ports': 0, 'ip_list': ['192.168.1.10', '192.168.1.12', '192.168.1.14', '192.168.1.16', '192.168.1.110', '192.168.10.21', '192.168.10.22', '192.168.10.110'], 'wildcard_list': ['0.0.0.1'], 'port_list': [80, 5432], 'protocol_list': ['ICMP', 'TCP', 'UDP'], 'num_rules': 10}}, {'type': 'LINKS', 'label': 'LINKS', 'options': {'link_references': ['router_1:eth-1<->switch_1:eth-8', 'router_1:eth-2<->switch_2:eth-8', 'switch_1:eth-1<->domain_controller:eth-1', 'switch_1:eth-2<->web_server:eth-1', 'switch_1:eth-3<->database_server:eth-1', 'switch_1:eth-4<->backup_server:eth-1', 'switch_1:eth-7<->security_suite:eth-1', 'switch_2:eth-1<->client_1:eth-1', 'switch_2:eth-2<->client_2:eth-1', 'switch_2:eth-7<->security_suite:eth-2']}}, {'type': 'NONE', 'label': 'ICS', 'options': {}}]}}\n"
     ]
    },
    {
     "name": "stderr",
     "output_type": "stream",
     "text": [
      "2024-04-08 14:51:10,728: Resetting environment, episode 64, avg. reward: -49.25000000000008\n",
      "2024-04-08 14:51:10,731: Saving agent action log to C:\\Users\\CharlieCrane\\primaite\\3.0.0b7\\sessions\\2024-04-08\\14-49-25\\agent_actions\\episode_64.json\n"
     ]
    },
    {
     "name": "stdout",
     "output_type": "stream",
     "text": [
      "{'type': 'CUSTOM', 'options': {'components': [{'type': 'NODES', 'label': 'NODES', 'options': {'hosts': [{'hostname': 'domain_controller'}, {'hostname': 'web_server', 'services': [{'service_name': 'WebServer'}]}, {'hostname': 'database_server', 'folders': [{'folder_name': 'database', 'files': [{'file_name': 'database.db'}]}]}, {'hostname': 'backup_server'}, {'hostname': 'security_suite'}, {'hostname': 'client_1'}, {'hostname': 'client_2'}], 'num_services': 1, 'num_applications': 0, 'num_folders': 1, 'num_files': 1, 'num_nics': 2, 'include_num_access': False, 'include_nmne': True, 'routers': [{'hostname': 'router_1'}], 'num_ports': 0, 'ip_list': ['192.168.1.10', '192.168.1.12', '192.168.1.14', '192.168.1.16', '192.168.1.110', '192.168.10.21', '192.168.10.22', '192.168.10.110'], 'wildcard_list': ['0.0.0.1'], 'port_list': [80, 5432], 'protocol_list': ['ICMP', 'TCP', 'UDP'], 'num_rules': 10}}, {'type': 'LINKS', 'label': 'LINKS', 'options': {'link_references': ['router_1:eth-1<->switch_1:eth-8', 'router_1:eth-2<->switch_2:eth-8', 'switch_1:eth-1<->domain_controller:eth-1', 'switch_1:eth-2<->web_server:eth-1', 'switch_1:eth-3<->database_server:eth-1', 'switch_1:eth-4<->backup_server:eth-1', 'switch_1:eth-7<->security_suite:eth-1', 'switch_2:eth-1<->client_1:eth-1', 'switch_2:eth-2<->client_2:eth-1', 'switch_2:eth-7<->security_suite:eth-2']}}, {'type': 'NONE', 'label': 'ICS', 'options': {}}]}}\n"
     ]
    },
    {
     "name": "stderr",
     "output_type": "stream",
     "text": [
      "2024-04-08 14:51:12,298: Resetting environment, episode 65, avg. reward: -21.29999999999999\n",
      "2024-04-08 14:51:12,302: Saving agent action log to C:\\Users\\CharlieCrane\\primaite\\3.0.0b7\\sessions\\2024-04-08\\14-49-25\\agent_actions\\episode_65.json\n"
     ]
    },
    {
     "name": "stdout",
     "output_type": "stream",
     "text": [
      "{'type': 'CUSTOM', 'options': {'components': [{'type': 'NODES', 'label': 'NODES', 'options': {'hosts': [{'hostname': 'domain_controller'}, {'hostname': 'web_server', 'services': [{'service_name': 'WebServer'}]}, {'hostname': 'database_server', 'folders': [{'folder_name': 'database', 'files': [{'file_name': 'database.db'}]}]}, {'hostname': 'backup_server'}, {'hostname': 'security_suite'}, {'hostname': 'client_1'}, {'hostname': 'client_2'}], 'num_services': 1, 'num_applications': 0, 'num_folders': 1, 'num_files': 1, 'num_nics': 2, 'include_num_access': False, 'include_nmne': True, 'routers': [{'hostname': 'router_1'}], 'num_ports': 0, 'ip_list': ['192.168.1.10', '192.168.1.12', '192.168.1.14', '192.168.1.16', '192.168.1.110', '192.168.10.21', '192.168.10.22', '192.168.10.110'], 'wildcard_list': ['0.0.0.1'], 'port_list': [80, 5432], 'protocol_list': ['ICMP', 'TCP', 'UDP'], 'num_rules': 10}}, {'type': 'LINKS', 'label': 'LINKS', 'options': {'link_references': ['router_1:eth-1<->switch_1:eth-8', 'router_1:eth-2<->switch_2:eth-8', 'switch_1:eth-1<->domain_controller:eth-1', 'switch_1:eth-2<->web_server:eth-1', 'switch_1:eth-3<->database_server:eth-1', 'switch_1:eth-4<->backup_server:eth-1', 'switch_1:eth-7<->security_suite:eth-1', 'switch_2:eth-1<->client_1:eth-1', 'switch_2:eth-2<->client_2:eth-1', 'switch_2:eth-7<->security_suite:eth-2']}}, {'type': 'NONE', 'label': 'ICS', 'options': {}}]}}\n"
     ]
    },
    {
     "name": "stderr",
     "output_type": "stream",
     "text": [
      "2024-04-08 14:51:14,232: Resetting environment, episode 66, avg. reward: -46.55000000000018\n",
      "2024-04-08 14:51:14,235: Saving agent action log to C:\\Users\\CharlieCrane\\primaite\\3.0.0b7\\sessions\\2024-04-08\\14-49-25\\agent_actions\\episode_66.json\n"
     ]
    },
    {
     "name": "stdout",
     "output_type": "stream",
     "text": [
      "{'type': 'CUSTOM', 'options': {'components': [{'type': 'NODES', 'label': 'NODES', 'options': {'hosts': [{'hostname': 'domain_controller'}, {'hostname': 'web_server', 'services': [{'service_name': 'WebServer'}]}, {'hostname': 'database_server', 'folders': [{'folder_name': 'database', 'files': [{'file_name': 'database.db'}]}]}, {'hostname': 'backup_server'}, {'hostname': 'security_suite'}, {'hostname': 'client_1'}, {'hostname': 'client_2'}], 'num_services': 1, 'num_applications': 0, 'num_folders': 1, 'num_files': 1, 'num_nics': 2, 'include_num_access': False, 'include_nmne': True, 'routers': [{'hostname': 'router_1'}], 'num_ports': 0, 'ip_list': ['192.168.1.10', '192.168.1.12', '192.168.1.14', '192.168.1.16', '192.168.1.110', '192.168.10.21', '192.168.10.22', '192.168.10.110'], 'wildcard_list': ['0.0.0.1'], 'port_list': [80, 5432], 'protocol_list': ['ICMP', 'TCP', 'UDP'], 'num_rules': 10}}, {'type': 'LINKS', 'label': 'LINKS', 'options': {'link_references': ['router_1:eth-1<->switch_1:eth-8', 'router_1:eth-2<->switch_2:eth-8', 'switch_1:eth-1<->domain_controller:eth-1', 'switch_1:eth-2<->web_server:eth-1', 'switch_1:eth-3<->database_server:eth-1', 'switch_1:eth-4<->backup_server:eth-1', 'switch_1:eth-7<->security_suite:eth-1', 'switch_2:eth-1<->client_1:eth-1', 'switch_2:eth-2<->client_2:eth-1', 'switch_2:eth-7<->security_suite:eth-2']}}, {'type': 'NONE', 'label': 'ICS', 'options': {}}]}}\n"
     ]
    },
    {
     "name": "stderr",
     "output_type": "stream",
     "text": [
      "2024-04-08 14:51:15,645: Resetting environment, episode 67, avg. reward: -30.050000000000008\n",
      "2024-04-08 14:51:15,648: Saving agent action log to C:\\Users\\CharlieCrane\\primaite\\3.0.0b7\\sessions\\2024-04-08\\14-49-25\\agent_actions\\episode_67.json\n"
     ]
    },
    {
     "name": "stdout",
     "output_type": "stream",
     "text": [
      "{'type': 'CUSTOM', 'options': {'components': [{'type': 'NODES', 'label': 'NODES', 'options': {'hosts': [{'hostname': 'domain_controller'}, {'hostname': 'web_server', 'services': [{'service_name': 'WebServer'}]}, {'hostname': 'database_server', 'folders': [{'folder_name': 'database', 'files': [{'file_name': 'database.db'}]}]}, {'hostname': 'backup_server'}, {'hostname': 'security_suite'}, {'hostname': 'client_1'}, {'hostname': 'client_2'}], 'num_services': 1, 'num_applications': 0, 'num_folders': 1, 'num_files': 1, 'num_nics': 2, 'include_num_access': False, 'include_nmne': True, 'routers': [{'hostname': 'router_1'}], 'num_ports': 0, 'ip_list': ['192.168.1.10', '192.168.1.12', '192.168.1.14', '192.168.1.16', '192.168.1.110', '192.168.10.21', '192.168.10.22', '192.168.10.110'], 'wildcard_list': ['0.0.0.1'], 'port_list': [80, 5432], 'protocol_list': ['ICMP', 'TCP', 'UDP'], 'num_rules': 10}}, {'type': 'LINKS', 'label': 'LINKS', 'options': {'link_references': ['router_1:eth-1<->switch_1:eth-8', 'router_1:eth-2<->switch_2:eth-8', 'switch_1:eth-1<->domain_controller:eth-1', 'switch_1:eth-2<->web_server:eth-1', 'switch_1:eth-3<->database_server:eth-1', 'switch_1:eth-4<->backup_server:eth-1', 'switch_1:eth-7<->security_suite:eth-1', 'switch_2:eth-1<->client_1:eth-1', 'switch_2:eth-2<->client_2:eth-1', 'switch_2:eth-7<->security_suite:eth-2']}}, {'type': 'NONE', 'label': 'ICS', 'options': {}}]}}\n"
     ]
    },
    {
     "name": "stderr",
     "output_type": "stream",
     "text": [
      "2024-04-08 14:51:17,264: Resetting environment, episode 68, avg. reward: -72.80000000000003\n",
      "2024-04-08 14:51:17,268: Saving agent action log to C:\\Users\\CharlieCrane\\primaite\\3.0.0b7\\sessions\\2024-04-08\\14-49-25\\agent_actions\\episode_68.json\n"
     ]
    },
    {
     "name": "stdout",
     "output_type": "stream",
     "text": [
      "{'type': 'CUSTOM', 'options': {'components': [{'type': 'NODES', 'label': 'NODES', 'options': {'hosts': [{'hostname': 'domain_controller'}, {'hostname': 'web_server', 'services': [{'service_name': 'WebServer'}]}, {'hostname': 'database_server', 'folders': [{'folder_name': 'database', 'files': [{'file_name': 'database.db'}]}]}, {'hostname': 'backup_server'}, {'hostname': 'security_suite'}, {'hostname': 'client_1'}, {'hostname': 'client_2'}], 'num_services': 1, 'num_applications': 0, 'num_folders': 1, 'num_files': 1, 'num_nics': 2, 'include_num_access': False, 'include_nmne': True, 'routers': [{'hostname': 'router_1'}], 'num_ports': 0, 'ip_list': ['192.168.1.10', '192.168.1.12', '192.168.1.14', '192.168.1.16', '192.168.1.110', '192.168.10.21', '192.168.10.22', '192.168.10.110'], 'wildcard_list': ['0.0.0.1'], 'port_list': [80, 5432], 'protocol_list': ['ICMP', 'TCP', 'UDP'], 'num_rules': 10}}, {'type': 'LINKS', 'label': 'LINKS', 'options': {'link_references': ['router_1:eth-1<->switch_1:eth-8', 'router_1:eth-2<->switch_2:eth-8', 'switch_1:eth-1<->domain_controller:eth-1', 'switch_1:eth-2<->web_server:eth-1', 'switch_1:eth-3<->database_server:eth-1', 'switch_1:eth-4<->backup_server:eth-1', 'switch_1:eth-7<->security_suite:eth-1', 'switch_2:eth-1<->client_1:eth-1', 'switch_2:eth-2<->client_2:eth-1', 'switch_2:eth-7<->security_suite:eth-2']}}, {'type': 'NONE', 'label': 'ICS', 'options': {}}]}}\n"
     ]
    },
    {
     "name": "stderr",
     "output_type": "stream",
     "text": [
      "2024-04-08 14:51:18,742: Resetting environment, episode 69, avg. reward: -100.84999999999998\n",
      "2024-04-08 14:51:18,745: Saving agent action log to C:\\Users\\CharlieCrane\\primaite\\3.0.0b7\\sessions\\2024-04-08\\14-49-25\\agent_actions\\episode_69.json\n"
     ]
    },
    {
     "name": "stdout",
     "output_type": "stream",
     "text": [
      "{'type': 'CUSTOM', 'options': {'components': [{'type': 'NODES', 'label': 'NODES', 'options': {'hosts': [{'hostname': 'domain_controller'}, {'hostname': 'web_server', 'services': [{'service_name': 'WebServer'}]}, {'hostname': 'database_server', 'folders': [{'folder_name': 'database', 'files': [{'file_name': 'database.db'}]}]}, {'hostname': 'backup_server'}, {'hostname': 'security_suite'}, {'hostname': 'client_1'}, {'hostname': 'client_2'}], 'num_services': 1, 'num_applications': 0, 'num_folders': 1, 'num_files': 1, 'num_nics': 2, 'include_num_access': False, 'include_nmne': True, 'routers': [{'hostname': 'router_1'}], 'num_ports': 0, 'ip_list': ['192.168.1.10', '192.168.1.12', '192.168.1.14', '192.168.1.16', '192.168.1.110', '192.168.10.21', '192.168.10.22', '192.168.10.110'], 'wildcard_list': ['0.0.0.1'], 'port_list': [80, 5432], 'protocol_list': ['ICMP', 'TCP', 'UDP'], 'num_rules': 10}}, {'type': 'LINKS', 'label': 'LINKS', 'options': {'link_references': ['router_1:eth-1<->switch_1:eth-8', 'router_1:eth-2<->switch_2:eth-8', 'switch_1:eth-1<->domain_controller:eth-1', 'switch_1:eth-2<->web_server:eth-1', 'switch_1:eth-3<->database_server:eth-1', 'switch_1:eth-4<->backup_server:eth-1', 'switch_1:eth-7<->security_suite:eth-1', 'switch_2:eth-1<->client_1:eth-1', 'switch_2:eth-2<->client_2:eth-1', 'switch_2:eth-7<->security_suite:eth-2']}}, {'type': 'NONE', 'label': 'ICS', 'options': {}}]}}\n"
     ]
    },
    {
     "name": "stderr",
     "output_type": "stream",
     "text": [
      "2024-04-08 14:51:20,149: Resetting environment, episode 70, avg. reward: -33.85000000000002\n",
      "2024-04-08 14:51:20,153: Saving agent action log to C:\\Users\\CharlieCrane\\primaite\\3.0.0b7\\sessions\\2024-04-08\\14-49-25\\agent_actions\\episode_70.json\n"
     ]
    },
    {
     "name": "stdout",
     "output_type": "stream",
     "text": [
      "{'type': 'CUSTOM', 'options': {'components': [{'type': 'NODES', 'label': 'NODES', 'options': {'hosts': [{'hostname': 'domain_controller'}, {'hostname': 'web_server', 'services': [{'service_name': 'WebServer'}]}, {'hostname': 'database_server', 'folders': [{'folder_name': 'database', 'files': [{'file_name': 'database.db'}]}]}, {'hostname': 'backup_server'}, {'hostname': 'security_suite'}, {'hostname': 'client_1'}, {'hostname': 'client_2'}], 'num_services': 1, 'num_applications': 0, 'num_folders': 1, 'num_files': 1, 'num_nics': 2, 'include_num_access': False, 'include_nmne': True, 'routers': [{'hostname': 'router_1'}], 'num_ports': 0, 'ip_list': ['192.168.1.10', '192.168.1.12', '192.168.1.14', '192.168.1.16', '192.168.1.110', '192.168.10.21', '192.168.10.22', '192.168.10.110'], 'wildcard_list': ['0.0.0.1'], 'port_list': [80, 5432], 'protocol_list': ['ICMP', 'TCP', 'UDP'], 'num_rules': 10}}, {'type': 'LINKS', 'label': 'LINKS', 'options': {'link_references': ['router_1:eth-1<->switch_1:eth-8', 'router_1:eth-2<->switch_2:eth-8', 'switch_1:eth-1<->domain_controller:eth-1', 'switch_1:eth-2<->web_server:eth-1', 'switch_1:eth-3<->database_server:eth-1', 'switch_1:eth-4<->backup_server:eth-1', 'switch_1:eth-7<->security_suite:eth-1', 'switch_2:eth-1<->client_1:eth-1', 'switch_2:eth-2<->client_2:eth-1', 'switch_2:eth-7<->security_suite:eth-2']}}, {'type': 'NONE', 'label': 'ICS', 'options': {}}]}}\n"
     ]
    },
    {
     "name": "stderr",
     "output_type": "stream",
     "text": [
      "2024-04-08 14:51:21,992: Resetting environment, episode 71, avg. reward: -93.30000000000003\n",
      "2024-04-08 14:51:21,995: Saving agent action log to C:\\Users\\CharlieCrane\\primaite\\3.0.0b7\\sessions\\2024-04-08\\14-49-25\\agent_actions\\episode_71.json\n"
     ]
    },
    {
     "name": "stdout",
     "output_type": "stream",
     "text": [
      "{'type': 'CUSTOM', 'options': {'components': [{'type': 'NODES', 'label': 'NODES', 'options': {'hosts': [{'hostname': 'domain_controller'}, {'hostname': 'web_server', 'services': [{'service_name': 'WebServer'}]}, {'hostname': 'database_server', 'folders': [{'folder_name': 'database', 'files': [{'file_name': 'database.db'}]}]}, {'hostname': 'backup_server'}, {'hostname': 'security_suite'}, {'hostname': 'client_1'}, {'hostname': 'client_2'}], 'num_services': 1, 'num_applications': 0, 'num_folders': 1, 'num_files': 1, 'num_nics': 2, 'include_num_access': False, 'include_nmne': True, 'routers': [{'hostname': 'router_1'}], 'num_ports': 0, 'ip_list': ['192.168.1.10', '192.168.1.12', '192.168.1.14', '192.168.1.16', '192.168.1.110', '192.168.10.21', '192.168.10.22', '192.168.10.110'], 'wildcard_list': ['0.0.0.1'], 'port_list': [80, 5432], 'protocol_list': ['ICMP', 'TCP', 'UDP'], 'num_rules': 10}}, {'type': 'LINKS', 'label': 'LINKS', 'options': {'link_references': ['router_1:eth-1<->switch_1:eth-8', 'router_1:eth-2<->switch_2:eth-8', 'switch_1:eth-1<->domain_controller:eth-1', 'switch_1:eth-2<->web_server:eth-1', 'switch_1:eth-3<->database_server:eth-1', 'switch_1:eth-4<->backup_server:eth-1', 'switch_1:eth-7<->security_suite:eth-1', 'switch_2:eth-1<->client_1:eth-1', 'switch_2:eth-2<->client_2:eth-1', 'switch_2:eth-7<->security_suite:eth-2']}}, {'type': 'NONE', 'label': 'ICS', 'options': {}}]}}\n"
     ]
    },
    {
     "name": "stderr",
     "output_type": "stream",
     "text": [
      "2024-04-08 14:51:23,375: Resetting environment, episode 72, avg. reward: -18.049999999999965\n",
      "2024-04-08 14:51:23,378: Saving agent action log to C:\\Users\\CharlieCrane\\primaite\\3.0.0b7\\sessions\\2024-04-08\\14-49-25\\agent_actions\\episode_72.json\n"
     ]
    },
    {
     "name": "stdout",
     "output_type": "stream",
     "text": [
      "{'type': 'CUSTOM', 'options': {'components': [{'type': 'NODES', 'label': 'NODES', 'options': {'hosts': [{'hostname': 'domain_controller'}, {'hostname': 'web_server', 'services': [{'service_name': 'WebServer'}]}, {'hostname': 'database_server', 'folders': [{'folder_name': 'database', 'files': [{'file_name': 'database.db'}]}]}, {'hostname': 'backup_server'}, {'hostname': 'security_suite'}, {'hostname': 'client_1'}, {'hostname': 'client_2'}], 'num_services': 1, 'num_applications': 0, 'num_folders': 1, 'num_files': 1, 'num_nics': 2, 'include_num_access': False, 'include_nmne': True, 'routers': [{'hostname': 'router_1'}], 'num_ports': 0, 'ip_list': ['192.168.1.10', '192.168.1.12', '192.168.1.14', '192.168.1.16', '192.168.1.110', '192.168.10.21', '192.168.10.22', '192.168.10.110'], 'wildcard_list': ['0.0.0.1'], 'port_list': [80, 5432], 'protocol_list': ['ICMP', 'TCP', 'UDP'], 'num_rules': 10}}, {'type': 'LINKS', 'label': 'LINKS', 'options': {'link_references': ['router_1:eth-1<->switch_1:eth-8', 'router_1:eth-2<->switch_2:eth-8', 'switch_1:eth-1<->domain_controller:eth-1', 'switch_1:eth-2<->web_server:eth-1', 'switch_1:eth-3<->database_server:eth-1', 'switch_1:eth-4<->backup_server:eth-1', 'switch_1:eth-7<->security_suite:eth-1', 'switch_2:eth-1<->client_1:eth-1', 'switch_2:eth-2<->client_2:eth-1', 'switch_2:eth-7<->security_suite:eth-2']}}, {'type': 'NONE', 'label': 'ICS', 'options': {}}]}}\n"
     ]
    },
    {
     "name": "stderr",
     "output_type": "stream",
     "text": [
      "2024-04-08 14:51:24,808: Resetting environment, episode 73, avg. reward: -52.80000000000021\n",
      "2024-04-08 14:51:24,811: Saving agent action log to C:\\Users\\CharlieCrane\\primaite\\3.0.0b7\\sessions\\2024-04-08\\14-49-25\\agent_actions\\episode_73.json\n"
     ]
    },
    {
     "name": "stdout",
     "output_type": "stream",
     "text": [
      "{'type': 'CUSTOM', 'options': {'components': [{'type': 'NODES', 'label': 'NODES', 'options': {'hosts': [{'hostname': 'domain_controller'}, {'hostname': 'web_server', 'services': [{'service_name': 'WebServer'}]}, {'hostname': 'database_server', 'folders': [{'folder_name': 'database', 'files': [{'file_name': 'database.db'}]}]}, {'hostname': 'backup_server'}, {'hostname': 'security_suite'}, {'hostname': 'client_1'}, {'hostname': 'client_2'}], 'num_services': 1, 'num_applications': 0, 'num_folders': 1, 'num_files': 1, 'num_nics': 2, 'include_num_access': False, 'include_nmne': True, 'routers': [{'hostname': 'router_1'}], 'num_ports': 0, 'ip_list': ['192.168.1.10', '192.168.1.12', '192.168.1.14', '192.168.1.16', '192.168.1.110', '192.168.10.21', '192.168.10.22', '192.168.10.110'], 'wildcard_list': ['0.0.0.1'], 'port_list': [80, 5432], 'protocol_list': ['ICMP', 'TCP', 'UDP'], 'num_rules': 10}}, {'type': 'LINKS', 'label': 'LINKS', 'options': {'link_references': ['router_1:eth-1<->switch_1:eth-8', 'router_1:eth-2<->switch_2:eth-8', 'switch_1:eth-1<->domain_controller:eth-1', 'switch_1:eth-2<->web_server:eth-1', 'switch_1:eth-3<->database_server:eth-1', 'switch_1:eth-4<->backup_server:eth-1', 'switch_1:eth-7<->security_suite:eth-1', 'switch_2:eth-1<->client_1:eth-1', 'switch_2:eth-2<->client_2:eth-1', 'switch_2:eth-7<->security_suite:eth-2']}}, {'type': 'NONE', 'label': 'ICS', 'options': {}}]}}\n"
     ]
    },
    {
     "name": "stderr",
     "output_type": "stream",
     "text": [
      "2024-04-08 14:51:26,230: Resetting environment, episode 74, avg. reward: -16.449999999999974\n",
      "2024-04-08 14:51:26,234: Saving agent action log to C:\\Users\\CharlieCrane\\primaite\\3.0.0b7\\sessions\\2024-04-08\\14-49-25\\agent_actions\\episode_74.json\n"
     ]
    },
    {
     "name": "stdout",
     "output_type": "stream",
     "text": [
      "{'type': 'CUSTOM', 'options': {'components': [{'type': 'NODES', 'label': 'NODES', 'options': {'hosts': [{'hostname': 'domain_controller'}, {'hostname': 'web_server', 'services': [{'service_name': 'WebServer'}]}, {'hostname': 'database_server', 'folders': [{'folder_name': 'database', 'files': [{'file_name': 'database.db'}]}]}, {'hostname': 'backup_server'}, {'hostname': 'security_suite'}, {'hostname': 'client_1'}, {'hostname': 'client_2'}], 'num_services': 1, 'num_applications': 0, 'num_folders': 1, 'num_files': 1, 'num_nics': 2, 'include_num_access': False, 'include_nmne': True, 'routers': [{'hostname': 'router_1'}], 'num_ports': 0, 'ip_list': ['192.168.1.10', '192.168.1.12', '192.168.1.14', '192.168.1.16', '192.168.1.110', '192.168.10.21', '192.168.10.22', '192.168.10.110'], 'wildcard_list': ['0.0.0.1'], 'port_list': [80, 5432], 'protocol_list': ['ICMP', 'TCP', 'UDP'], 'num_rules': 10}}, {'type': 'LINKS', 'label': 'LINKS', 'options': {'link_references': ['router_1:eth-1<->switch_1:eth-8', 'router_1:eth-2<->switch_2:eth-8', 'switch_1:eth-1<->domain_controller:eth-1', 'switch_1:eth-2<->web_server:eth-1', 'switch_1:eth-3<->database_server:eth-1', 'switch_1:eth-4<->backup_server:eth-1', 'switch_1:eth-7<->security_suite:eth-1', 'switch_2:eth-1<->client_1:eth-1', 'switch_2:eth-2<->client_2:eth-1', 'switch_2:eth-7<->security_suite:eth-2']}}, {'type': 'NONE', 'label': 'ICS', 'options': {}}]}}\n"
     ]
    },
    {
     "name": "stderr",
     "output_type": "stream",
     "text": [
      "2024-04-08 14:51:27,721: Resetting environment, episode 75, avg. reward: -56.400000000000006\n",
      "2024-04-08 14:51:27,724: Saving agent action log to C:\\Users\\CharlieCrane\\primaite\\3.0.0b7\\sessions\\2024-04-08\\14-49-25\\agent_actions\\episode_75.json\n"
     ]
    },
    {
     "name": "stdout",
     "output_type": "stream",
     "text": [
      "{'type': 'CUSTOM', 'options': {'components': [{'type': 'NODES', 'label': 'NODES', 'options': {'hosts': [{'hostname': 'domain_controller'}, {'hostname': 'web_server', 'services': [{'service_name': 'WebServer'}]}, {'hostname': 'database_server', 'folders': [{'folder_name': 'database', 'files': [{'file_name': 'database.db'}]}]}, {'hostname': 'backup_server'}, {'hostname': 'security_suite'}, {'hostname': 'client_1'}, {'hostname': 'client_2'}], 'num_services': 1, 'num_applications': 0, 'num_folders': 1, 'num_files': 1, 'num_nics': 2, 'include_num_access': False, 'include_nmne': True, 'routers': [{'hostname': 'router_1'}], 'num_ports': 0, 'ip_list': ['192.168.1.10', '192.168.1.12', '192.168.1.14', '192.168.1.16', '192.168.1.110', '192.168.10.21', '192.168.10.22', '192.168.10.110'], 'wildcard_list': ['0.0.0.1'], 'port_list': [80, 5432], 'protocol_list': ['ICMP', 'TCP', 'UDP'], 'num_rules': 10}}, {'type': 'LINKS', 'label': 'LINKS', 'options': {'link_references': ['router_1:eth-1<->switch_1:eth-8', 'router_1:eth-2<->switch_2:eth-8', 'switch_1:eth-1<->domain_controller:eth-1', 'switch_1:eth-2<->web_server:eth-1', 'switch_1:eth-3<->database_server:eth-1', 'switch_1:eth-4<->backup_server:eth-1', 'switch_1:eth-7<->security_suite:eth-1', 'switch_2:eth-1<->client_1:eth-1', 'switch_2:eth-2<->client_2:eth-1', 'switch_2:eth-7<->security_suite:eth-2']}}, {'type': 'NONE', 'label': 'ICS', 'options': {}}]}}\n"
     ]
    },
    {
     "name": "stderr",
     "output_type": "stream",
     "text": [
      "2024-04-08 14:51:29,150: Resetting environment, episode 76, avg. reward: -13.799999999999976\n",
      "2024-04-08 14:51:29,152: Saving agent action log to C:\\Users\\CharlieCrane\\primaite\\3.0.0b7\\sessions\\2024-04-08\\14-49-25\\agent_actions\\episode_76.json\n"
     ]
    },
    {
     "name": "stdout",
     "output_type": "stream",
     "text": [
      "{'type': 'CUSTOM', 'options': {'components': [{'type': 'NODES', 'label': 'NODES', 'options': {'hosts': [{'hostname': 'domain_controller'}, {'hostname': 'web_server', 'services': [{'service_name': 'WebServer'}]}, {'hostname': 'database_server', 'folders': [{'folder_name': 'database', 'files': [{'file_name': 'database.db'}]}]}, {'hostname': 'backup_server'}, {'hostname': 'security_suite'}, {'hostname': 'client_1'}, {'hostname': 'client_2'}], 'num_services': 1, 'num_applications': 0, 'num_folders': 1, 'num_files': 1, 'num_nics': 2, 'include_num_access': False, 'include_nmne': True, 'routers': [{'hostname': 'router_1'}], 'num_ports': 0, 'ip_list': ['192.168.1.10', '192.168.1.12', '192.168.1.14', '192.168.1.16', '192.168.1.110', '192.168.10.21', '192.168.10.22', '192.168.10.110'], 'wildcard_list': ['0.0.0.1'], 'port_list': [80, 5432], 'protocol_list': ['ICMP', 'TCP', 'UDP'], 'num_rules': 10}}, {'type': 'LINKS', 'label': 'LINKS', 'options': {'link_references': ['router_1:eth-1<->switch_1:eth-8', 'router_1:eth-2<->switch_2:eth-8', 'switch_1:eth-1<->domain_controller:eth-1', 'switch_1:eth-2<->web_server:eth-1', 'switch_1:eth-3<->database_server:eth-1', 'switch_1:eth-4<->backup_server:eth-1', 'switch_1:eth-7<->security_suite:eth-1', 'switch_2:eth-1<->client_1:eth-1', 'switch_2:eth-2<->client_2:eth-1', 'switch_2:eth-7<->security_suite:eth-2']}}, {'type': 'NONE', 'label': 'ICS', 'options': {}}]}}\n"
     ]
    },
    {
     "name": "stderr",
     "output_type": "stream",
     "text": [
      "2024-04-08 14:51:30,654: Resetting environment, episode 77, avg. reward: -22.749999999999996\n",
      "2024-04-08 14:51:30,658: Saving agent action log to C:\\Users\\CharlieCrane\\primaite\\3.0.0b7\\sessions\\2024-04-08\\14-49-25\\agent_actions\\episode_77.json\n"
     ]
    },
    {
     "name": "stdout",
     "output_type": "stream",
     "text": [
      "{'type': 'CUSTOM', 'options': {'components': [{'type': 'NODES', 'label': 'NODES', 'options': {'hosts': [{'hostname': 'domain_controller'}, {'hostname': 'web_server', 'services': [{'service_name': 'WebServer'}]}, {'hostname': 'database_server', 'folders': [{'folder_name': 'database', 'files': [{'file_name': 'database.db'}]}]}, {'hostname': 'backup_server'}, {'hostname': 'security_suite'}, {'hostname': 'client_1'}, {'hostname': 'client_2'}], 'num_services': 1, 'num_applications': 0, 'num_folders': 1, 'num_files': 1, 'num_nics': 2, 'include_num_access': False, 'include_nmne': True, 'routers': [{'hostname': 'router_1'}], 'num_ports': 0, 'ip_list': ['192.168.1.10', '192.168.1.12', '192.168.1.14', '192.168.1.16', '192.168.1.110', '192.168.10.21', '192.168.10.22', '192.168.10.110'], 'wildcard_list': ['0.0.0.1'], 'port_list': [80, 5432], 'protocol_list': ['ICMP', 'TCP', 'UDP'], 'num_rules': 10}}, {'type': 'LINKS', 'label': 'LINKS', 'options': {'link_references': ['router_1:eth-1<->switch_1:eth-8', 'router_1:eth-2<->switch_2:eth-8', 'switch_1:eth-1<->domain_controller:eth-1', 'switch_1:eth-2<->web_server:eth-1', 'switch_1:eth-3<->database_server:eth-1', 'switch_1:eth-4<->backup_server:eth-1', 'switch_1:eth-7<->security_suite:eth-1', 'switch_2:eth-1<->client_1:eth-1', 'switch_2:eth-2<->client_2:eth-1', 'switch_2:eth-7<->security_suite:eth-2']}}, {'type': 'NONE', 'label': 'ICS', 'options': {}}]}}\n"
     ]
    },
    {
     "name": "stderr",
     "output_type": "stream",
     "text": [
      "2024-04-08 14:51:32,221: Resetting environment, episode 78, avg. reward: -8.949999999999998\n",
      "2024-04-08 14:51:32,224: Saving agent action log to C:\\Users\\CharlieCrane\\primaite\\3.0.0b7\\sessions\\2024-04-08\\14-49-25\\agent_actions\\episode_78.json\n"
     ]
    },
    {
     "name": "stdout",
     "output_type": "stream",
     "text": [
      "{'type': 'CUSTOM', 'options': {'components': [{'type': 'NODES', 'label': 'NODES', 'options': {'hosts': [{'hostname': 'domain_controller'}, {'hostname': 'web_server', 'services': [{'service_name': 'WebServer'}]}, {'hostname': 'database_server', 'folders': [{'folder_name': 'database', 'files': [{'file_name': 'database.db'}]}]}, {'hostname': 'backup_server'}, {'hostname': 'security_suite'}, {'hostname': 'client_1'}, {'hostname': 'client_2'}], 'num_services': 1, 'num_applications': 0, 'num_folders': 1, 'num_files': 1, 'num_nics': 2, 'include_num_access': False, 'include_nmne': True, 'routers': [{'hostname': 'router_1'}], 'num_ports': 0, 'ip_list': ['192.168.1.10', '192.168.1.12', '192.168.1.14', '192.168.1.16', '192.168.1.110', '192.168.10.21', '192.168.10.22', '192.168.10.110'], 'wildcard_list': ['0.0.0.1'], 'port_list': [80, 5432], 'protocol_list': ['ICMP', 'TCP', 'UDP'], 'num_rules': 10}}, {'type': 'LINKS', 'label': 'LINKS', 'options': {'link_references': ['router_1:eth-1<->switch_1:eth-8', 'router_1:eth-2<->switch_2:eth-8', 'switch_1:eth-1<->domain_controller:eth-1', 'switch_1:eth-2<->web_server:eth-1', 'switch_1:eth-3<->database_server:eth-1', 'switch_1:eth-4<->backup_server:eth-1', 'switch_1:eth-7<->security_suite:eth-1', 'switch_2:eth-1<->client_1:eth-1', 'switch_2:eth-2<->client_2:eth-1', 'switch_2:eth-7<->security_suite:eth-2']}}, {'type': 'NONE', 'label': 'ICS', 'options': {}}]}}\n"
     ]
    },
    {
     "name": "stderr",
     "output_type": "stream",
     "text": [
      "2024-04-08 14:51:33,561: Resetting environment, episode 79, avg. reward: -35.84999999999997\n",
      "2024-04-08 14:51:33,565: Saving agent action log to C:\\Users\\CharlieCrane\\primaite\\3.0.0b7\\sessions\\2024-04-08\\14-49-25\\agent_actions\\episode_79.json\n"
     ]
    },
    {
     "name": "stdout",
     "output_type": "stream",
     "text": [
      "{'type': 'CUSTOM', 'options': {'components': [{'type': 'NODES', 'label': 'NODES', 'options': {'hosts': [{'hostname': 'domain_controller'}, {'hostname': 'web_server', 'services': [{'service_name': 'WebServer'}]}, {'hostname': 'database_server', 'folders': [{'folder_name': 'database', 'files': [{'file_name': 'database.db'}]}]}, {'hostname': 'backup_server'}, {'hostname': 'security_suite'}, {'hostname': 'client_1'}, {'hostname': 'client_2'}], 'num_services': 1, 'num_applications': 0, 'num_folders': 1, 'num_files': 1, 'num_nics': 2, 'include_num_access': False, 'include_nmne': True, 'routers': [{'hostname': 'router_1'}], 'num_ports': 0, 'ip_list': ['192.168.1.10', '192.168.1.12', '192.168.1.14', '192.168.1.16', '192.168.1.110', '192.168.10.21', '192.168.10.22', '192.168.10.110'], 'wildcard_list': ['0.0.0.1'], 'port_list': [80, 5432], 'protocol_list': ['ICMP', 'TCP', 'UDP'], 'num_rules': 10}}, {'type': 'LINKS', 'label': 'LINKS', 'options': {'link_references': ['router_1:eth-1<->switch_1:eth-8', 'router_1:eth-2<->switch_2:eth-8', 'switch_1:eth-1<->domain_controller:eth-1', 'switch_1:eth-2<->web_server:eth-1', 'switch_1:eth-3<->database_server:eth-1', 'switch_1:eth-4<->backup_server:eth-1', 'switch_1:eth-7<->security_suite:eth-1', 'switch_2:eth-1<->client_1:eth-1', 'switch_2:eth-2<->client_2:eth-1', 'switch_2:eth-7<->security_suite:eth-2']}}, {'type': 'NONE', 'label': 'ICS', 'options': {}}]}}\n"
     ]
    },
    {
     "name": "stderr",
     "output_type": "stream",
     "text": [
      "2024-04-08 14:51:35,158: Resetting environment, episode 80, avg. reward: -7.049999999999989\n",
      "2024-04-08 14:51:35,160: Saving agent action log to C:\\Users\\CharlieCrane\\primaite\\3.0.0b7\\sessions\\2024-04-08\\14-49-25\\agent_actions\\episode_80.json\n"
     ]
    },
    {
     "name": "stdout",
     "output_type": "stream",
     "text": [
      "{'type': 'CUSTOM', 'options': {'components': [{'type': 'NODES', 'label': 'NODES', 'options': {'hosts': [{'hostname': 'domain_controller'}, {'hostname': 'web_server', 'services': [{'service_name': 'WebServer'}]}, {'hostname': 'database_server', 'folders': [{'folder_name': 'database', 'files': [{'file_name': 'database.db'}]}]}, {'hostname': 'backup_server'}, {'hostname': 'security_suite'}, {'hostname': 'client_1'}, {'hostname': 'client_2'}], 'num_services': 1, 'num_applications': 0, 'num_folders': 1, 'num_files': 1, 'num_nics': 2, 'include_num_access': False, 'include_nmne': True, 'routers': [{'hostname': 'router_1'}], 'num_ports': 0, 'ip_list': ['192.168.1.10', '192.168.1.12', '192.168.1.14', '192.168.1.16', '192.168.1.110', '192.168.10.21', '192.168.10.22', '192.168.10.110'], 'wildcard_list': ['0.0.0.1'], 'port_list': [80, 5432], 'protocol_list': ['ICMP', 'TCP', 'UDP'], 'num_rules': 10}}, {'type': 'LINKS', 'label': 'LINKS', 'options': {'link_references': ['router_1:eth-1<->switch_1:eth-8', 'router_1:eth-2<->switch_2:eth-8', 'switch_1:eth-1<->domain_controller:eth-1', 'switch_1:eth-2<->web_server:eth-1', 'switch_1:eth-3<->database_server:eth-1', 'switch_1:eth-4<->backup_server:eth-1', 'switch_1:eth-7<->security_suite:eth-1', 'switch_2:eth-1<->client_1:eth-1', 'switch_2:eth-2<->client_2:eth-1', 'switch_2:eth-7<->security_suite:eth-2']}}, {'type': 'NONE', 'label': 'ICS', 'options': {}}]}}\n"
     ]
    },
    {
     "name": "stderr",
     "output_type": "stream",
     "text": [
      "2024-04-08 14:51:37,129: Resetting environment, episode 81, avg. reward: -27.349999999999984\n",
      "2024-04-08 14:51:37,131: Saving agent action log to C:\\Users\\CharlieCrane\\primaite\\3.0.0b7\\sessions\\2024-04-08\\14-49-25\\agent_actions\\episode_81.json\n"
     ]
    },
    {
     "name": "stdout",
     "output_type": "stream",
     "text": [
      "{'type': 'CUSTOM', 'options': {'components': [{'type': 'NODES', 'label': 'NODES', 'options': {'hosts': [{'hostname': 'domain_controller'}, {'hostname': 'web_server', 'services': [{'service_name': 'WebServer'}]}, {'hostname': 'database_server', 'folders': [{'folder_name': 'database', 'files': [{'file_name': 'database.db'}]}]}, {'hostname': 'backup_server'}, {'hostname': 'security_suite'}, {'hostname': 'client_1'}, {'hostname': 'client_2'}], 'num_services': 1, 'num_applications': 0, 'num_folders': 1, 'num_files': 1, 'num_nics': 2, 'include_num_access': False, 'include_nmne': True, 'routers': [{'hostname': 'router_1'}], 'num_ports': 0, 'ip_list': ['192.168.1.10', '192.168.1.12', '192.168.1.14', '192.168.1.16', '192.168.1.110', '192.168.10.21', '192.168.10.22', '192.168.10.110'], 'wildcard_list': ['0.0.0.1'], 'port_list': [80, 5432], 'protocol_list': ['ICMP', 'TCP', 'UDP'], 'num_rules': 10}}, {'type': 'LINKS', 'label': 'LINKS', 'options': {'link_references': ['router_1:eth-1<->switch_1:eth-8', 'router_1:eth-2<->switch_2:eth-8', 'switch_1:eth-1<->domain_controller:eth-1', 'switch_1:eth-2<->web_server:eth-1', 'switch_1:eth-3<->database_server:eth-1', 'switch_1:eth-4<->backup_server:eth-1', 'switch_1:eth-7<->security_suite:eth-1', 'switch_2:eth-1<->client_1:eth-1', 'switch_2:eth-2<->client_2:eth-1', 'switch_2:eth-7<->security_suite:eth-2']}}, {'type': 'NONE', 'label': 'ICS', 'options': {}}]}}\n"
     ]
    },
    {
     "name": "stderr",
     "output_type": "stream",
     "text": [
      "2024-04-08 14:51:38,672: Resetting environment, episode 82, avg. reward: -40.65000000000012\n",
      "2024-04-08 14:51:38,675: Saving agent action log to C:\\Users\\CharlieCrane\\primaite\\3.0.0b7\\sessions\\2024-04-08\\14-49-25\\agent_actions\\episode_82.json\n"
     ]
    },
    {
     "name": "stdout",
     "output_type": "stream",
     "text": [
      "{'type': 'CUSTOM', 'options': {'components': [{'type': 'NODES', 'label': 'NODES', 'options': {'hosts': [{'hostname': 'domain_controller'}, {'hostname': 'web_server', 'services': [{'service_name': 'WebServer'}]}, {'hostname': 'database_server', 'folders': [{'folder_name': 'database', 'files': [{'file_name': 'database.db'}]}]}, {'hostname': 'backup_server'}, {'hostname': 'security_suite'}, {'hostname': 'client_1'}, {'hostname': 'client_2'}], 'num_services': 1, 'num_applications': 0, 'num_folders': 1, 'num_files': 1, 'num_nics': 2, 'include_num_access': False, 'include_nmne': True, 'routers': [{'hostname': 'router_1'}], 'num_ports': 0, 'ip_list': ['192.168.1.10', '192.168.1.12', '192.168.1.14', '192.168.1.16', '192.168.1.110', '192.168.10.21', '192.168.10.22', '192.168.10.110'], 'wildcard_list': ['0.0.0.1'], 'port_list': [80, 5432], 'protocol_list': ['ICMP', 'TCP', 'UDP'], 'num_rules': 10}}, {'type': 'LINKS', 'label': 'LINKS', 'options': {'link_references': ['router_1:eth-1<->switch_1:eth-8', 'router_1:eth-2<->switch_2:eth-8', 'switch_1:eth-1<->domain_controller:eth-1', 'switch_1:eth-2<->web_server:eth-1', 'switch_1:eth-3<->database_server:eth-1', 'switch_1:eth-4<->backup_server:eth-1', 'switch_1:eth-7<->security_suite:eth-1', 'switch_2:eth-1<->client_1:eth-1', 'switch_2:eth-2<->client_2:eth-1', 'switch_2:eth-7<->security_suite:eth-2']}}, {'type': 'NONE', 'label': 'ICS', 'options': {}}]}}\n"
     ]
    },
    {
     "name": "stderr",
     "output_type": "stream",
     "text": [
      "2024-04-08 14:51:41,263: Resetting environment, episode 83, avg. reward: -52.10000000000015\n",
      "2024-04-08 14:51:41,267: Saving agent action log to C:\\Users\\CharlieCrane\\primaite\\3.0.0b7\\sessions\\2024-04-08\\14-49-25\\agent_actions\\episode_83.json\n"
     ]
    },
    {
     "name": "stdout",
     "output_type": "stream",
     "text": [
      "{'type': 'CUSTOM', 'options': {'components': [{'type': 'NODES', 'label': 'NODES', 'options': {'hosts': [{'hostname': 'domain_controller'}, {'hostname': 'web_server', 'services': [{'service_name': 'WebServer'}]}, {'hostname': 'database_server', 'folders': [{'folder_name': 'database', 'files': [{'file_name': 'database.db'}]}]}, {'hostname': 'backup_server'}, {'hostname': 'security_suite'}, {'hostname': 'client_1'}, {'hostname': 'client_2'}], 'num_services': 1, 'num_applications': 0, 'num_folders': 1, 'num_files': 1, 'num_nics': 2, 'include_num_access': False, 'include_nmne': True, 'routers': [{'hostname': 'router_1'}], 'num_ports': 0, 'ip_list': ['192.168.1.10', '192.168.1.12', '192.168.1.14', '192.168.1.16', '192.168.1.110', '192.168.10.21', '192.168.10.22', '192.168.10.110'], 'wildcard_list': ['0.0.0.1'], 'port_list': [80, 5432], 'protocol_list': ['ICMP', 'TCP', 'UDP'], 'num_rules': 10}}, {'type': 'LINKS', 'label': 'LINKS', 'options': {'link_references': ['router_1:eth-1<->switch_1:eth-8', 'router_1:eth-2<->switch_2:eth-8', 'switch_1:eth-1<->domain_controller:eth-1', 'switch_1:eth-2<->web_server:eth-1', 'switch_1:eth-3<->database_server:eth-1', 'switch_1:eth-4<->backup_server:eth-1', 'switch_1:eth-7<->security_suite:eth-1', 'switch_2:eth-1<->client_1:eth-1', 'switch_2:eth-2<->client_2:eth-1', 'switch_2:eth-7<->security_suite:eth-2']}}, {'type': 'NONE', 'label': 'ICS', 'options': {}}]}}\n"
     ]
    },
    {
     "name": "stderr",
     "output_type": "stream",
     "text": [
      "2024-04-08 14:51:42,701: Resetting environment, episode 84, avg. reward: -21.649999999999956\n",
      "2024-04-08 14:51:42,705: Saving agent action log to C:\\Users\\CharlieCrane\\primaite\\3.0.0b7\\sessions\\2024-04-08\\14-49-25\\agent_actions\\episode_84.json\n"
     ]
    },
    {
     "name": "stdout",
     "output_type": "stream",
     "text": [
      "{'type': 'CUSTOM', 'options': {'components': [{'type': 'NODES', 'label': 'NODES', 'options': {'hosts': [{'hostname': 'domain_controller'}, {'hostname': 'web_server', 'services': [{'service_name': 'WebServer'}]}, {'hostname': 'database_server', 'folders': [{'folder_name': 'database', 'files': [{'file_name': 'database.db'}]}]}, {'hostname': 'backup_server'}, {'hostname': 'security_suite'}, {'hostname': 'client_1'}, {'hostname': 'client_2'}], 'num_services': 1, 'num_applications': 0, 'num_folders': 1, 'num_files': 1, 'num_nics': 2, 'include_num_access': False, 'include_nmne': True, 'routers': [{'hostname': 'router_1'}], 'num_ports': 0, 'ip_list': ['192.168.1.10', '192.168.1.12', '192.168.1.14', '192.168.1.16', '192.168.1.110', '192.168.10.21', '192.168.10.22', '192.168.10.110'], 'wildcard_list': ['0.0.0.1'], 'port_list': [80, 5432], 'protocol_list': ['ICMP', 'TCP', 'UDP'], 'num_rules': 10}}, {'type': 'LINKS', 'label': 'LINKS', 'options': {'link_references': ['router_1:eth-1<->switch_1:eth-8', 'router_1:eth-2<->switch_2:eth-8', 'switch_1:eth-1<->domain_controller:eth-1', 'switch_1:eth-2<->web_server:eth-1', 'switch_1:eth-3<->database_server:eth-1', 'switch_1:eth-4<->backup_server:eth-1', 'switch_1:eth-7<->security_suite:eth-1', 'switch_2:eth-1<->client_1:eth-1', 'switch_2:eth-2<->client_2:eth-1', 'switch_2:eth-7<->security_suite:eth-2']}}, {'type': 'NONE', 'label': 'ICS', 'options': {}}]}}\n"
     ]
    },
    {
     "name": "stderr",
     "output_type": "stream",
     "text": [
      "2024-04-08 14:51:44,319: Resetting environment, episode 85, avg. reward: -31.600000000000016\n",
      "2024-04-08 14:51:44,322: Saving agent action log to C:\\Users\\CharlieCrane\\primaite\\3.0.0b7\\sessions\\2024-04-08\\14-49-25\\agent_actions\\episode_85.json\n"
     ]
    },
    {
     "name": "stdout",
     "output_type": "stream",
     "text": [
      "{'type': 'CUSTOM', 'options': {'components': [{'type': 'NODES', 'label': 'NODES', 'options': {'hosts': [{'hostname': 'domain_controller'}, {'hostname': 'web_server', 'services': [{'service_name': 'WebServer'}]}, {'hostname': 'database_server', 'folders': [{'folder_name': 'database', 'files': [{'file_name': 'database.db'}]}]}, {'hostname': 'backup_server'}, {'hostname': 'security_suite'}, {'hostname': 'client_1'}, {'hostname': 'client_2'}], 'num_services': 1, 'num_applications': 0, 'num_folders': 1, 'num_files': 1, 'num_nics': 2, 'include_num_access': False, 'include_nmne': True, 'routers': [{'hostname': 'router_1'}], 'num_ports': 0, 'ip_list': ['192.168.1.10', '192.168.1.12', '192.168.1.14', '192.168.1.16', '192.168.1.110', '192.168.10.21', '192.168.10.22', '192.168.10.110'], 'wildcard_list': ['0.0.0.1'], 'port_list': [80, 5432], 'protocol_list': ['ICMP', 'TCP', 'UDP'], 'num_rules': 10}}, {'type': 'LINKS', 'label': 'LINKS', 'options': {'link_references': ['router_1:eth-1<->switch_1:eth-8', 'router_1:eth-2<->switch_2:eth-8', 'switch_1:eth-1<->domain_controller:eth-1', 'switch_1:eth-2<->web_server:eth-1', 'switch_1:eth-3<->database_server:eth-1', 'switch_1:eth-4<->backup_server:eth-1', 'switch_1:eth-7<->security_suite:eth-1', 'switch_2:eth-1<->client_1:eth-1', 'switch_2:eth-2<->client_2:eth-1', 'switch_2:eth-7<->security_suite:eth-2']}}, {'type': 'NONE', 'label': 'ICS', 'options': {}}]}}\n"
     ]
    },
    {
     "name": "stderr",
     "output_type": "stream",
     "text": [
      "2024-04-08 14:51:45,992: Resetting environment, episode 86, avg. reward: -24.300000000000004\n",
      "2024-04-08 14:51:45,992: Saving agent action log to C:\\Users\\CharlieCrane\\primaite\\3.0.0b7\\sessions\\2024-04-08\\14-49-25\\agent_actions\\episode_86.json\n"
     ]
    },
    {
     "name": "stdout",
     "output_type": "stream",
     "text": [
      "{'type': 'CUSTOM', 'options': {'components': [{'type': 'NODES', 'label': 'NODES', 'options': {'hosts': [{'hostname': 'domain_controller'}, {'hostname': 'web_server', 'services': [{'service_name': 'WebServer'}]}, {'hostname': 'database_server', 'folders': [{'folder_name': 'database', 'files': [{'file_name': 'database.db'}]}]}, {'hostname': 'backup_server'}, {'hostname': 'security_suite'}, {'hostname': 'client_1'}, {'hostname': 'client_2'}], 'num_services': 1, 'num_applications': 0, 'num_folders': 1, 'num_files': 1, 'num_nics': 2, 'include_num_access': False, 'include_nmne': True, 'routers': [{'hostname': 'router_1'}], 'num_ports': 0, 'ip_list': ['192.168.1.10', '192.168.1.12', '192.168.1.14', '192.168.1.16', '192.168.1.110', '192.168.10.21', '192.168.10.22', '192.168.10.110'], 'wildcard_list': ['0.0.0.1'], 'port_list': [80, 5432], 'protocol_list': ['ICMP', 'TCP', 'UDP'], 'num_rules': 10}}, {'type': 'LINKS', 'label': 'LINKS', 'options': {'link_references': ['router_1:eth-1<->switch_1:eth-8', 'router_1:eth-2<->switch_2:eth-8', 'switch_1:eth-1<->domain_controller:eth-1', 'switch_1:eth-2<->web_server:eth-1', 'switch_1:eth-3<->database_server:eth-1', 'switch_1:eth-4<->backup_server:eth-1', 'switch_1:eth-7<->security_suite:eth-1', 'switch_2:eth-1<->client_1:eth-1', 'switch_2:eth-2<->client_2:eth-1', 'switch_2:eth-7<->security_suite:eth-2']}}, {'type': 'NONE', 'label': 'ICS', 'options': {}}]}}\n"
     ]
    },
    {
     "name": "stderr",
     "output_type": "stream",
     "text": [
      "2024-04-08 14:51:47,709: Resetting environment, episode 87, avg. reward: -11.849999999999982\n",
      "2024-04-08 14:51:47,711: Saving agent action log to C:\\Users\\CharlieCrane\\primaite\\3.0.0b7\\sessions\\2024-04-08\\14-49-25\\agent_actions\\episode_87.json\n"
     ]
    },
    {
     "name": "stdout",
     "output_type": "stream",
     "text": [
      "{'type': 'CUSTOM', 'options': {'components': [{'type': 'NODES', 'label': 'NODES', 'options': {'hosts': [{'hostname': 'domain_controller'}, {'hostname': 'web_server', 'services': [{'service_name': 'WebServer'}]}, {'hostname': 'database_server', 'folders': [{'folder_name': 'database', 'files': [{'file_name': 'database.db'}]}]}, {'hostname': 'backup_server'}, {'hostname': 'security_suite'}, {'hostname': 'client_1'}, {'hostname': 'client_2'}], 'num_services': 1, 'num_applications': 0, 'num_folders': 1, 'num_files': 1, 'num_nics': 2, 'include_num_access': False, 'include_nmne': True, 'routers': [{'hostname': 'router_1'}], 'num_ports': 0, 'ip_list': ['192.168.1.10', '192.168.1.12', '192.168.1.14', '192.168.1.16', '192.168.1.110', '192.168.10.21', '192.168.10.22', '192.168.10.110'], 'wildcard_list': ['0.0.0.1'], 'port_list': [80, 5432], 'protocol_list': ['ICMP', 'TCP', 'UDP'], 'num_rules': 10}}, {'type': 'LINKS', 'label': 'LINKS', 'options': {'link_references': ['router_1:eth-1<->switch_1:eth-8', 'router_1:eth-2<->switch_2:eth-8', 'switch_1:eth-1<->domain_controller:eth-1', 'switch_1:eth-2<->web_server:eth-1', 'switch_1:eth-3<->database_server:eth-1', 'switch_1:eth-4<->backup_server:eth-1', 'switch_1:eth-7<->security_suite:eth-1', 'switch_2:eth-1<->client_1:eth-1', 'switch_2:eth-2<->client_2:eth-1', 'switch_2:eth-7<->security_suite:eth-2']}}, {'type': 'NONE', 'label': 'ICS', 'options': {}}]}}\n"
     ]
    },
    {
     "name": "stderr",
     "output_type": "stream",
     "text": [
      "2024-04-08 14:51:49,249: Resetting environment, episode 88, avg. reward: -11.799999999999992\n",
      "2024-04-08 14:51:49,252: Saving agent action log to C:\\Users\\CharlieCrane\\primaite\\3.0.0b7\\sessions\\2024-04-08\\14-49-25\\agent_actions\\episode_88.json\n"
     ]
    },
    {
     "name": "stdout",
     "output_type": "stream",
     "text": [
      "{'type': 'CUSTOM', 'options': {'components': [{'type': 'NODES', 'label': 'NODES', 'options': {'hosts': [{'hostname': 'domain_controller'}, {'hostname': 'web_server', 'services': [{'service_name': 'WebServer'}]}, {'hostname': 'database_server', 'folders': [{'folder_name': 'database', 'files': [{'file_name': 'database.db'}]}]}, {'hostname': 'backup_server'}, {'hostname': 'security_suite'}, {'hostname': 'client_1'}, {'hostname': 'client_2'}], 'num_services': 1, 'num_applications': 0, 'num_folders': 1, 'num_files': 1, 'num_nics': 2, 'include_num_access': False, 'include_nmne': True, 'routers': [{'hostname': 'router_1'}], 'num_ports': 0, 'ip_list': ['192.168.1.10', '192.168.1.12', '192.168.1.14', '192.168.1.16', '192.168.1.110', '192.168.10.21', '192.168.10.22', '192.168.10.110'], 'wildcard_list': ['0.0.0.1'], 'port_list': [80, 5432], 'protocol_list': ['ICMP', 'TCP', 'UDP'], 'num_rules': 10}}, {'type': 'LINKS', 'label': 'LINKS', 'options': {'link_references': ['router_1:eth-1<->switch_1:eth-8', 'router_1:eth-2<->switch_2:eth-8', 'switch_1:eth-1<->domain_controller:eth-1', 'switch_1:eth-2<->web_server:eth-1', 'switch_1:eth-3<->database_server:eth-1', 'switch_1:eth-4<->backup_server:eth-1', 'switch_1:eth-7<->security_suite:eth-1', 'switch_2:eth-1<->client_1:eth-1', 'switch_2:eth-2<->client_2:eth-1', 'switch_2:eth-7<->security_suite:eth-2']}}, {'type': 'NONE', 'label': 'ICS', 'options': {}}]}}\n"
     ]
    },
    {
     "name": "stderr",
     "output_type": "stream",
     "text": [
      "2024-04-08 14:51:50,852: Resetting environment, episode 89, avg. reward: -10.099999999999964\n",
      "2024-04-08 14:51:50,854: Saving agent action log to C:\\Users\\CharlieCrane\\primaite\\3.0.0b7\\sessions\\2024-04-08\\14-49-25\\agent_actions\\episode_89.json\n"
     ]
    },
    {
     "name": "stdout",
     "output_type": "stream",
     "text": [
      "{'type': 'CUSTOM', 'options': {'components': [{'type': 'NODES', 'label': 'NODES', 'options': {'hosts': [{'hostname': 'domain_controller'}, {'hostname': 'web_server', 'services': [{'service_name': 'WebServer'}]}, {'hostname': 'database_server', 'folders': [{'folder_name': 'database', 'files': [{'file_name': 'database.db'}]}]}, {'hostname': 'backup_server'}, {'hostname': 'security_suite'}, {'hostname': 'client_1'}, {'hostname': 'client_2'}], 'num_services': 1, 'num_applications': 0, 'num_folders': 1, 'num_files': 1, 'num_nics': 2, 'include_num_access': False, 'include_nmne': True, 'routers': [{'hostname': 'router_1'}], 'num_ports': 0, 'ip_list': ['192.168.1.10', '192.168.1.12', '192.168.1.14', '192.168.1.16', '192.168.1.110', '192.168.10.21', '192.168.10.22', '192.168.10.110'], 'wildcard_list': ['0.0.0.1'], 'port_list': [80, 5432], 'protocol_list': ['ICMP', 'TCP', 'UDP'], 'num_rules': 10}}, {'type': 'LINKS', 'label': 'LINKS', 'options': {'link_references': ['router_1:eth-1<->switch_1:eth-8', 'router_1:eth-2<->switch_2:eth-8', 'switch_1:eth-1<->domain_controller:eth-1', 'switch_1:eth-2<->web_server:eth-1', 'switch_1:eth-3<->database_server:eth-1', 'switch_1:eth-4<->backup_server:eth-1', 'switch_1:eth-7<->security_suite:eth-1', 'switch_2:eth-1<->client_1:eth-1', 'switch_2:eth-2<->client_2:eth-1', 'switch_2:eth-7<->security_suite:eth-2']}}, {'type': 'NONE', 'label': 'ICS', 'options': {}}]}}\n"
     ]
    },
    {
     "name": "stderr",
     "output_type": "stream",
     "text": [
      "2024-04-08 14:51:52,578: Resetting environment, episode 90, avg. reward: -27.799999999999972\n",
      "2024-04-08 14:51:52,581: Saving agent action log to C:\\Users\\CharlieCrane\\primaite\\3.0.0b7\\sessions\\2024-04-08\\14-49-25\\agent_actions\\episode_90.json\n"
     ]
    },
    {
     "name": "stdout",
     "output_type": "stream",
     "text": [
      "{'type': 'CUSTOM', 'options': {'components': [{'type': 'NODES', 'label': 'NODES', 'options': {'hosts': [{'hostname': 'domain_controller'}, {'hostname': 'web_server', 'services': [{'service_name': 'WebServer'}]}, {'hostname': 'database_server', 'folders': [{'folder_name': 'database', 'files': [{'file_name': 'database.db'}]}]}, {'hostname': 'backup_server'}, {'hostname': 'security_suite'}, {'hostname': 'client_1'}, {'hostname': 'client_2'}], 'num_services': 1, 'num_applications': 0, 'num_folders': 1, 'num_files': 1, 'num_nics': 2, 'include_num_access': False, 'include_nmne': True, 'routers': [{'hostname': 'router_1'}], 'num_ports': 0, 'ip_list': ['192.168.1.10', '192.168.1.12', '192.168.1.14', '192.168.1.16', '192.168.1.110', '192.168.10.21', '192.168.10.22', '192.168.10.110'], 'wildcard_list': ['0.0.0.1'], 'port_list': [80, 5432], 'protocol_list': ['ICMP', 'TCP', 'UDP'], 'num_rules': 10}}, {'type': 'LINKS', 'label': 'LINKS', 'options': {'link_references': ['router_1:eth-1<->switch_1:eth-8', 'router_1:eth-2<->switch_2:eth-8', 'switch_1:eth-1<->domain_controller:eth-1', 'switch_1:eth-2<->web_server:eth-1', 'switch_1:eth-3<->database_server:eth-1', 'switch_1:eth-4<->backup_server:eth-1', 'switch_1:eth-7<->security_suite:eth-1', 'switch_2:eth-1<->client_1:eth-1', 'switch_2:eth-2<->client_2:eth-1', 'switch_2:eth-7<->security_suite:eth-2']}}, {'type': 'NONE', 'label': 'ICS', 'options': {}}]}}\n"
     ]
    },
    {
     "name": "stderr",
     "output_type": "stream",
     "text": [
      "2024-04-08 14:51:54,406: Resetting environment, episode 91, avg. reward: -23.04999999999995\n",
      "2024-04-08 14:51:54,410: Saving agent action log to C:\\Users\\CharlieCrane\\primaite\\3.0.0b7\\sessions\\2024-04-08\\14-49-25\\agent_actions\\episode_91.json\n"
     ]
    },
    {
     "name": "stdout",
     "output_type": "stream",
     "text": [
      "{'type': 'CUSTOM', 'options': {'components': [{'type': 'NODES', 'label': 'NODES', 'options': {'hosts': [{'hostname': 'domain_controller'}, {'hostname': 'web_server', 'services': [{'service_name': 'WebServer'}]}, {'hostname': 'database_server', 'folders': [{'folder_name': 'database', 'files': [{'file_name': 'database.db'}]}]}, {'hostname': 'backup_server'}, {'hostname': 'security_suite'}, {'hostname': 'client_1'}, {'hostname': 'client_2'}], 'num_services': 1, 'num_applications': 0, 'num_folders': 1, 'num_files': 1, 'num_nics': 2, 'include_num_access': False, 'include_nmne': True, 'routers': [{'hostname': 'router_1'}], 'num_ports': 0, 'ip_list': ['192.168.1.10', '192.168.1.12', '192.168.1.14', '192.168.1.16', '192.168.1.110', '192.168.10.21', '192.168.10.22', '192.168.10.110'], 'wildcard_list': ['0.0.0.1'], 'port_list': [80, 5432], 'protocol_list': ['ICMP', 'TCP', 'UDP'], 'num_rules': 10}}, {'type': 'LINKS', 'label': 'LINKS', 'options': {'link_references': ['router_1:eth-1<->switch_1:eth-8', 'router_1:eth-2<->switch_2:eth-8', 'switch_1:eth-1<->domain_controller:eth-1', 'switch_1:eth-2<->web_server:eth-1', 'switch_1:eth-3<->database_server:eth-1', 'switch_1:eth-4<->backup_server:eth-1', 'switch_1:eth-7<->security_suite:eth-1', 'switch_2:eth-1<->client_1:eth-1', 'switch_2:eth-2<->client_2:eth-1', 'switch_2:eth-7<->security_suite:eth-2']}}, {'type': 'NONE', 'label': 'ICS', 'options': {}}]}}\n"
     ]
    },
    {
     "name": "stderr",
     "output_type": "stream",
     "text": [
      "2024-04-08 14:51:56,371: Resetting environment, episode 92, avg. reward: -18.449999999999967\n",
      "2024-04-08 14:51:56,375: Saving agent action log to C:\\Users\\CharlieCrane\\primaite\\3.0.0b7\\sessions\\2024-04-08\\14-49-25\\agent_actions\\episode_92.json\n"
     ]
    },
    {
     "name": "stdout",
     "output_type": "stream",
     "text": [
      "{'type': 'CUSTOM', 'options': {'components': [{'type': 'NODES', 'label': 'NODES', 'options': {'hosts': [{'hostname': 'domain_controller'}, {'hostname': 'web_server', 'services': [{'service_name': 'WebServer'}]}, {'hostname': 'database_server', 'folders': [{'folder_name': 'database', 'files': [{'file_name': 'database.db'}]}]}, {'hostname': 'backup_server'}, {'hostname': 'security_suite'}, {'hostname': 'client_1'}, {'hostname': 'client_2'}], 'num_services': 1, 'num_applications': 0, 'num_folders': 1, 'num_files': 1, 'num_nics': 2, 'include_num_access': False, 'include_nmne': True, 'routers': [{'hostname': 'router_1'}], 'num_ports': 0, 'ip_list': ['192.168.1.10', '192.168.1.12', '192.168.1.14', '192.168.1.16', '192.168.1.110', '192.168.10.21', '192.168.10.22', '192.168.10.110'], 'wildcard_list': ['0.0.0.1'], 'port_list': [80, 5432], 'protocol_list': ['ICMP', 'TCP', 'UDP'], 'num_rules': 10}}, {'type': 'LINKS', 'label': 'LINKS', 'options': {'link_references': ['router_1:eth-1<->switch_1:eth-8', 'router_1:eth-2<->switch_2:eth-8', 'switch_1:eth-1<->domain_controller:eth-1', 'switch_1:eth-2<->web_server:eth-1', 'switch_1:eth-3<->database_server:eth-1', 'switch_1:eth-4<->backup_server:eth-1', 'switch_1:eth-7<->security_suite:eth-1', 'switch_2:eth-1<->client_1:eth-1', 'switch_2:eth-2<->client_2:eth-1', 'switch_2:eth-7<->security_suite:eth-2']}}, {'type': 'NONE', 'label': 'ICS', 'options': {}}]}}\n"
     ]
    },
    {
     "name": "stderr",
     "output_type": "stream",
     "text": [
      "2024-04-08 14:51:58,036: Resetting environment, episode 93, avg. reward: -12.04999999999997\n",
      "2024-04-08 14:51:58,040: Saving agent action log to C:\\Users\\CharlieCrane\\primaite\\3.0.0b7\\sessions\\2024-04-08\\14-49-25\\agent_actions\\episode_93.json\n"
     ]
    },
    {
     "name": "stdout",
     "output_type": "stream",
     "text": [
      "{'type': 'CUSTOM', 'options': {'components': [{'type': 'NODES', 'label': 'NODES', 'options': {'hosts': [{'hostname': 'domain_controller'}, {'hostname': 'web_server', 'services': [{'service_name': 'WebServer'}]}, {'hostname': 'database_server', 'folders': [{'folder_name': 'database', 'files': [{'file_name': 'database.db'}]}]}, {'hostname': 'backup_server'}, {'hostname': 'security_suite'}, {'hostname': 'client_1'}, {'hostname': 'client_2'}], 'num_services': 1, 'num_applications': 0, 'num_folders': 1, 'num_files': 1, 'num_nics': 2, 'include_num_access': False, 'include_nmne': True, 'routers': [{'hostname': 'router_1'}], 'num_ports': 0, 'ip_list': ['192.168.1.10', '192.168.1.12', '192.168.1.14', '192.168.1.16', '192.168.1.110', '192.168.10.21', '192.168.10.22', '192.168.10.110'], 'wildcard_list': ['0.0.0.1'], 'port_list': [80, 5432], 'protocol_list': ['ICMP', 'TCP', 'UDP'], 'num_rules': 10}}, {'type': 'LINKS', 'label': 'LINKS', 'options': {'link_references': ['router_1:eth-1<->switch_1:eth-8', 'router_1:eth-2<->switch_2:eth-8', 'switch_1:eth-1<->domain_controller:eth-1', 'switch_1:eth-2<->web_server:eth-1', 'switch_1:eth-3<->database_server:eth-1', 'switch_1:eth-4<->backup_server:eth-1', 'switch_1:eth-7<->security_suite:eth-1', 'switch_2:eth-1<->client_1:eth-1', 'switch_2:eth-2<->client_2:eth-1', 'switch_2:eth-7<->security_suite:eth-2']}}, {'type': 'NONE', 'label': 'ICS', 'options': {}}]}}\n"
     ]
    },
    {
     "name": "stderr",
     "output_type": "stream",
     "text": [
      "2024-04-08 14:51:59,859: Resetting environment, episode 94, avg. reward: -10.749999999999984\n",
      "2024-04-08 14:51:59,862: Saving agent action log to C:\\Users\\CharlieCrane\\primaite\\3.0.0b7\\sessions\\2024-04-08\\14-49-25\\agent_actions\\episode_94.json\n"
     ]
    },
    {
     "name": "stdout",
     "output_type": "stream",
     "text": [
      "{'type': 'CUSTOM', 'options': {'components': [{'type': 'NODES', 'label': 'NODES', 'options': {'hosts': [{'hostname': 'domain_controller'}, {'hostname': 'web_server', 'services': [{'service_name': 'WebServer'}]}, {'hostname': 'database_server', 'folders': [{'folder_name': 'database', 'files': [{'file_name': 'database.db'}]}]}, {'hostname': 'backup_server'}, {'hostname': 'security_suite'}, {'hostname': 'client_1'}, {'hostname': 'client_2'}], 'num_services': 1, 'num_applications': 0, 'num_folders': 1, 'num_files': 1, 'num_nics': 2, 'include_num_access': False, 'include_nmne': True, 'routers': [{'hostname': 'router_1'}], 'num_ports': 0, 'ip_list': ['192.168.1.10', '192.168.1.12', '192.168.1.14', '192.168.1.16', '192.168.1.110', '192.168.10.21', '192.168.10.22', '192.168.10.110'], 'wildcard_list': ['0.0.0.1'], 'port_list': [80, 5432], 'protocol_list': ['ICMP', 'TCP', 'UDP'], 'num_rules': 10}}, {'type': 'LINKS', 'label': 'LINKS', 'options': {'link_references': ['router_1:eth-1<->switch_1:eth-8', 'router_1:eth-2<->switch_2:eth-8', 'switch_1:eth-1<->domain_controller:eth-1', 'switch_1:eth-2<->web_server:eth-1', 'switch_1:eth-3<->database_server:eth-1', 'switch_1:eth-4<->backup_server:eth-1', 'switch_1:eth-7<->security_suite:eth-1', 'switch_2:eth-1<->client_1:eth-1', 'switch_2:eth-2<->client_2:eth-1', 'switch_2:eth-7<->security_suite:eth-2']}}, {'type': 'NONE', 'label': 'ICS', 'options': {}}]}}\n"
     ]
    },
    {
     "name": "stderr",
     "output_type": "stream",
     "text": [
      "2024-04-08 14:52:01,324: Resetting environment, episode 95, avg. reward: -16.999999999999975\n",
      "2024-04-08 14:52:01,327: Saving agent action log to C:\\Users\\CharlieCrane\\primaite\\3.0.0b7\\sessions\\2024-04-08\\14-49-25\\agent_actions\\episode_95.json\n"
     ]
    },
    {
     "name": "stdout",
     "output_type": "stream",
     "text": [
      "{'type': 'CUSTOM', 'options': {'components': [{'type': 'NODES', 'label': 'NODES', 'options': {'hosts': [{'hostname': 'domain_controller'}, {'hostname': 'web_server', 'services': [{'service_name': 'WebServer'}]}, {'hostname': 'database_server', 'folders': [{'folder_name': 'database', 'files': [{'file_name': 'database.db'}]}]}, {'hostname': 'backup_server'}, {'hostname': 'security_suite'}, {'hostname': 'client_1'}, {'hostname': 'client_2'}], 'num_services': 1, 'num_applications': 0, 'num_folders': 1, 'num_files': 1, 'num_nics': 2, 'include_num_access': False, 'include_nmne': True, 'routers': [{'hostname': 'router_1'}], 'num_ports': 0, 'ip_list': ['192.168.1.10', '192.168.1.12', '192.168.1.14', '192.168.1.16', '192.168.1.110', '192.168.10.21', '192.168.10.22', '192.168.10.110'], 'wildcard_list': ['0.0.0.1'], 'port_list': [80, 5432], 'protocol_list': ['ICMP', 'TCP', 'UDP'], 'num_rules': 10}}, {'type': 'LINKS', 'label': 'LINKS', 'options': {'link_references': ['router_1:eth-1<->switch_1:eth-8', 'router_1:eth-2<->switch_2:eth-8', 'switch_1:eth-1<->domain_controller:eth-1', 'switch_1:eth-2<->web_server:eth-1', 'switch_1:eth-3<->database_server:eth-1', 'switch_1:eth-4<->backup_server:eth-1', 'switch_1:eth-7<->security_suite:eth-1', 'switch_2:eth-1<->client_1:eth-1', 'switch_2:eth-2<->client_2:eth-1', 'switch_2:eth-7<->security_suite:eth-2']}}, {'type': 'NONE', 'label': 'ICS', 'options': {}}]}}\n"
     ]
    },
    {
     "name": "stderr",
     "output_type": "stream",
     "text": [
      "2024-04-08 14:52:03,061: Resetting environment, episode 96, avg. reward: -64.80000000000003\n",
      "2024-04-08 14:52:03,064: Saving agent action log to C:\\Users\\CharlieCrane\\primaite\\3.0.0b7\\sessions\\2024-04-08\\14-49-25\\agent_actions\\episode_96.json\n"
     ]
    },
    {
     "name": "stdout",
     "output_type": "stream",
     "text": [
      "{'type': 'CUSTOM', 'options': {'components': [{'type': 'NODES', 'label': 'NODES', 'options': {'hosts': [{'hostname': 'domain_controller'}, {'hostname': 'web_server', 'services': [{'service_name': 'WebServer'}]}, {'hostname': 'database_server', 'folders': [{'folder_name': 'database', 'files': [{'file_name': 'database.db'}]}]}, {'hostname': 'backup_server'}, {'hostname': 'security_suite'}, {'hostname': 'client_1'}, {'hostname': 'client_2'}], 'num_services': 1, 'num_applications': 0, 'num_folders': 1, 'num_files': 1, 'num_nics': 2, 'include_num_access': False, 'include_nmne': True, 'routers': [{'hostname': 'router_1'}], 'num_ports': 0, 'ip_list': ['192.168.1.10', '192.168.1.12', '192.168.1.14', '192.168.1.16', '192.168.1.110', '192.168.10.21', '192.168.10.22', '192.168.10.110'], 'wildcard_list': ['0.0.0.1'], 'port_list': [80, 5432], 'protocol_list': ['ICMP', 'TCP', 'UDP'], 'num_rules': 10}}, {'type': 'LINKS', 'label': 'LINKS', 'options': {'link_references': ['router_1:eth-1<->switch_1:eth-8', 'router_1:eth-2<->switch_2:eth-8', 'switch_1:eth-1<->domain_controller:eth-1', 'switch_1:eth-2<->web_server:eth-1', 'switch_1:eth-3<->database_server:eth-1', 'switch_1:eth-4<->backup_server:eth-1', 'switch_1:eth-7<->security_suite:eth-1', 'switch_2:eth-1<->client_1:eth-1', 'switch_2:eth-2<->client_2:eth-1', 'switch_2:eth-7<->security_suite:eth-2']}}, {'type': 'NONE', 'label': 'ICS', 'options': {}}]}}\n"
     ]
    },
    {
     "name": "stderr",
     "output_type": "stream",
     "text": [
      "2024-04-08 14:52:04,843: Resetting environment, episode 97, avg. reward: -93.19999999999995\n",
      "2024-04-08 14:52:04,846: Saving agent action log to C:\\Users\\CharlieCrane\\primaite\\3.0.0b7\\sessions\\2024-04-08\\14-49-25\\agent_actions\\episode_97.json\n"
     ]
    },
    {
     "name": "stdout",
     "output_type": "stream",
     "text": [
      "{'type': 'CUSTOM', 'options': {'components': [{'type': 'NODES', 'label': 'NODES', 'options': {'hosts': [{'hostname': 'domain_controller'}, {'hostname': 'web_server', 'services': [{'service_name': 'WebServer'}]}, {'hostname': 'database_server', 'folders': [{'folder_name': 'database', 'files': [{'file_name': 'database.db'}]}]}, {'hostname': 'backup_server'}, {'hostname': 'security_suite'}, {'hostname': 'client_1'}, {'hostname': 'client_2'}], 'num_services': 1, 'num_applications': 0, 'num_folders': 1, 'num_files': 1, 'num_nics': 2, 'include_num_access': False, 'include_nmne': True, 'routers': [{'hostname': 'router_1'}], 'num_ports': 0, 'ip_list': ['192.168.1.10', '192.168.1.12', '192.168.1.14', '192.168.1.16', '192.168.1.110', '192.168.10.21', '192.168.10.22', '192.168.10.110'], 'wildcard_list': ['0.0.0.1'], 'port_list': [80, 5432], 'protocol_list': ['ICMP', 'TCP', 'UDP'], 'num_rules': 10}}, {'type': 'LINKS', 'label': 'LINKS', 'options': {'link_references': ['router_1:eth-1<->switch_1:eth-8', 'router_1:eth-2<->switch_2:eth-8', 'switch_1:eth-1<->domain_controller:eth-1', 'switch_1:eth-2<->web_server:eth-1', 'switch_1:eth-3<->database_server:eth-1', 'switch_1:eth-4<->backup_server:eth-1', 'switch_1:eth-7<->security_suite:eth-1', 'switch_2:eth-1<->client_1:eth-1', 'switch_2:eth-2<->client_2:eth-1', 'switch_2:eth-7<->security_suite:eth-2']}}, {'type': 'NONE', 'label': 'ICS', 'options': {}}]}}\n"
     ]
    },
    {
     "name": "stderr",
     "output_type": "stream",
     "text": [
      "2024-04-08 14:52:06,197: Resetting environment, episode 98, avg. reward: -23.44999999999995\n",
      "2024-04-08 14:52:06,200: Saving agent action log to C:\\Users\\CharlieCrane\\primaite\\3.0.0b7\\sessions\\2024-04-08\\14-49-25\\agent_actions\\episode_98.json\n"
     ]
    },
    {
     "name": "stdout",
     "output_type": "stream",
     "text": [
      "{'type': 'CUSTOM', 'options': {'components': [{'type': 'NODES', 'label': 'NODES', 'options': {'hosts': [{'hostname': 'domain_controller'}, {'hostname': 'web_server', 'services': [{'service_name': 'WebServer'}]}, {'hostname': 'database_server', 'folders': [{'folder_name': 'database', 'files': [{'file_name': 'database.db'}]}]}, {'hostname': 'backup_server'}, {'hostname': 'security_suite'}, {'hostname': 'client_1'}, {'hostname': 'client_2'}], 'num_services': 1, 'num_applications': 0, 'num_folders': 1, 'num_files': 1, 'num_nics': 2, 'include_num_access': False, 'include_nmne': True, 'routers': [{'hostname': 'router_1'}], 'num_ports': 0, 'ip_list': ['192.168.1.10', '192.168.1.12', '192.168.1.14', '192.168.1.16', '192.168.1.110', '192.168.10.21', '192.168.10.22', '192.168.10.110'], 'wildcard_list': ['0.0.0.1'], 'port_list': [80, 5432], 'protocol_list': ['ICMP', 'TCP', 'UDP'], 'num_rules': 10}}, {'type': 'LINKS', 'label': 'LINKS', 'options': {'link_references': ['router_1:eth-1<->switch_1:eth-8', 'router_1:eth-2<->switch_2:eth-8', 'switch_1:eth-1<->domain_controller:eth-1', 'switch_1:eth-2<->web_server:eth-1', 'switch_1:eth-3<->database_server:eth-1', 'switch_1:eth-4<->backup_server:eth-1', 'switch_1:eth-7<->security_suite:eth-1', 'switch_2:eth-1<->client_1:eth-1', 'switch_2:eth-2<->client_2:eth-1', 'switch_2:eth-7<->security_suite:eth-2']}}, {'type': 'NONE', 'label': 'ICS', 'options': {}}]}}\n"
     ]
    },
    {
     "name": "stderr",
     "output_type": "stream",
     "text": [
      "2024-04-08 14:52:07,802: Resetting environment, episode 99, avg. reward: 1.7500000000000147\n",
      "2024-04-08 14:52:07,810: Saving agent action log to C:\\Users\\CharlieCrane\\primaite\\3.0.0b7\\sessions\\2024-04-08\\14-49-25\\agent_actions\\episode_99.json\n"
     ]
    },
    {
     "name": "stdout",
     "output_type": "stream",
     "text": [
      "{'type': 'CUSTOM', 'options': {'components': [{'type': 'NODES', 'label': 'NODES', 'options': {'hosts': [{'hostname': 'domain_controller'}, {'hostname': 'web_server', 'services': [{'service_name': 'WebServer'}]}, {'hostname': 'database_server', 'folders': [{'folder_name': 'database', 'files': [{'file_name': 'database.db'}]}]}, {'hostname': 'backup_server'}, {'hostname': 'security_suite'}, {'hostname': 'client_1'}, {'hostname': 'client_2'}], 'num_services': 1, 'num_applications': 0, 'num_folders': 1, 'num_files': 1, 'num_nics': 2, 'include_num_access': False, 'include_nmne': True, 'routers': [{'hostname': 'router_1'}], 'num_ports': 0, 'ip_list': ['192.168.1.10', '192.168.1.12', '192.168.1.14', '192.168.1.16', '192.168.1.110', '192.168.10.21', '192.168.10.22', '192.168.10.110'], 'wildcard_list': ['0.0.0.1'], 'port_list': [80, 5432], 'protocol_list': ['ICMP', 'TCP', 'UDP'], 'num_rules': 10}}, {'type': 'LINKS', 'label': 'LINKS', 'options': {'link_references': ['router_1:eth-1<->switch_1:eth-8', 'router_1:eth-2<->switch_2:eth-8', 'switch_1:eth-1<->domain_controller:eth-1', 'switch_1:eth-2<->web_server:eth-1', 'switch_1:eth-3<->database_server:eth-1', 'switch_1:eth-4<->backup_server:eth-1', 'switch_1:eth-7<->security_suite:eth-1', 'switch_2:eth-1<->client_1:eth-1', 'switch_2:eth-2<->client_2:eth-1', 'switch_2:eth-7<->security_suite:eth-2']}}, {'type': 'NONE', 'label': 'ICS', 'options': {}}]}}\n"
     ]
    },
    {
     "name": "stderr",
     "output_type": "stream",
     "text": [
      "2024-04-08 14:52:09,595: Resetting environment, episode 100, avg. reward: -31.450000000000003\n",
      "2024-04-08 14:52:09,598: Saving agent action log to C:\\Users\\CharlieCrane\\primaite\\3.0.0b7\\sessions\\2024-04-08\\14-49-25\\agent_actions\\episode_100.json\n"
     ]
    },
    {
     "name": "stdout",
     "output_type": "stream",
     "text": [
      "{'type': 'CUSTOM', 'options': {'components': [{'type': 'NODES', 'label': 'NODES', 'options': {'hosts': [{'hostname': 'domain_controller'}, {'hostname': 'web_server', 'services': [{'service_name': 'WebServer'}]}, {'hostname': 'database_server', 'folders': [{'folder_name': 'database', 'files': [{'file_name': 'database.db'}]}]}, {'hostname': 'backup_server'}, {'hostname': 'security_suite'}, {'hostname': 'client_1'}, {'hostname': 'client_2'}], 'num_services': 1, 'num_applications': 0, 'num_folders': 1, 'num_files': 1, 'num_nics': 2, 'include_num_access': False, 'include_nmne': True, 'routers': [{'hostname': 'router_1'}], 'num_ports': 0, 'ip_list': ['192.168.1.10', '192.168.1.12', '192.168.1.14', '192.168.1.16', '192.168.1.110', '192.168.10.21', '192.168.10.22', '192.168.10.110'], 'wildcard_list': ['0.0.0.1'], 'port_list': [80, 5432], 'protocol_list': ['ICMP', 'TCP', 'UDP'], 'num_rules': 10}}, {'type': 'LINKS', 'label': 'LINKS', 'options': {'link_references': ['router_1:eth-1<->switch_1:eth-8', 'router_1:eth-2<->switch_2:eth-8', 'switch_1:eth-1<->domain_controller:eth-1', 'switch_1:eth-2<->web_server:eth-1', 'switch_1:eth-3<->database_server:eth-1', 'switch_1:eth-4<->backup_server:eth-1', 'switch_1:eth-7<->security_suite:eth-1', 'switch_2:eth-1<->client_1:eth-1', 'switch_2:eth-2<->client_2:eth-1', 'switch_2:eth-7<->security_suite:eth-2']}}, {'type': 'NONE', 'label': 'ICS', 'options': {}}]}}\n"
     ]
    },
    {
     "name": "stderr",
     "output_type": "stream",
     "text": [
      "2024-04-08 14:52:11,206: Resetting environment, episode 101, avg. reward: -9.499999999999988\n",
      "2024-04-08 14:52:11,209: Saving agent action log to C:\\Users\\CharlieCrane\\primaite\\3.0.0b7\\sessions\\2024-04-08\\14-49-25\\agent_actions\\episode_101.json\n"
     ]
    },
    {
     "name": "stdout",
     "output_type": "stream",
     "text": [
      "{'type': 'CUSTOM', 'options': {'components': [{'type': 'NODES', 'label': 'NODES', 'options': {'hosts': [{'hostname': 'domain_controller'}, {'hostname': 'web_server', 'services': [{'service_name': 'WebServer'}]}, {'hostname': 'database_server', 'folders': [{'folder_name': 'database', 'files': [{'file_name': 'database.db'}]}]}, {'hostname': 'backup_server'}, {'hostname': 'security_suite'}, {'hostname': 'client_1'}, {'hostname': 'client_2'}], 'num_services': 1, 'num_applications': 0, 'num_folders': 1, 'num_files': 1, 'num_nics': 2, 'include_num_access': False, 'include_nmne': True, 'routers': [{'hostname': 'router_1'}], 'num_ports': 0, 'ip_list': ['192.168.1.10', '192.168.1.12', '192.168.1.14', '192.168.1.16', '192.168.1.110', '192.168.10.21', '192.168.10.22', '192.168.10.110'], 'wildcard_list': ['0.0.0.1'], 'port_list': [80, 5432], 'protocol_list': ['ICMP', 'TCP', 'UDP'], 'num_rules': 10}}, {'type': 'LINKS', 'label': 'LINKS', 'options': {'link_references': ['router_1:eth-1<->switch_1:eth-8', 'router_1:eth-2<->switch_2:eth-8', 'switch_1:eth-1<->domain_controller:eth-1', 'switch_1:eth-2<->web_server:eth-1', 'switch_1:eth-3<->database_server:eth-1', 'switch_1:eth-4<->backup_server:eth-1', 'switch_1:eth-7<->security_suite:eth-1', 'switch_2:eth-1<->client_1:eth-1', 'switch_2:eth-2<->client_2:eth-1', 'switch_2:eth-7<->security_suite:eth-2']}}, {'type': 'NONE', 'label': 'ICS', 'options': {}}]}}\n"
     ]
    },
    {
     "name": "stderr",
     "output_type": "stream",
     "text": [
      "2024-04-08 14:52:13,334: Resetting environment, episode 102, avg. reward: -15.149999999999983\n",
      "2024-04-08 14:52:13,337: Saving agent action log to C:\\Users\\CharlieCrane\\primaite\\3.0.0b7\\sessions\\2024-04-08\\14-49-25\\agent_actions\\episode_102.json\n"
     ]
    },
    {
     "name": "stdout",
     "output_type": "stream",
     "text": [
      "{'type': 'CUSTOM', 'options': {'components': [{'type': 'NODES', 'label': 'NODES', 'options': {'hosts': [{'hostname': 'domain_controller'}, {'hostname': 'web_server', 'services': [{'service_name': 'WebServer'}]}, {'hostname': 'database_server', 'folders': [{'folder_name': 'database', 'files': [{'file_name': 'database.db'}]}]}, {'hostname': 'backup_server'}, {'hostname': 'security_suite'}, {'hostname': 'client_1'}, {'hostname': 'client_2'}], 'num_services': 1, 'num_applications': 0, 'num_folders': 1, 'num_files': 1, 'num_nics': 2, 'include_num_access': False, 'include_nmne': True, 'routers': [{'hostname': 'router_1'}], 'num_ports': 0, 'ip_list': ['192.168.1.10', '192.168.1.12', '192.168.1.14', '192.168.1.16', '192.168.1.110', '192.168.10.21', '192.168.10.22', '192.168.10.110'], 'wildcard_list': ['0.0.0.1'], 'port_list': [80, 5432], 'protocol_list': ['ICMP', 'TCP', 'UDP'], 'num_rules': 10}}, {'type': 'LINKS', 'label': 'LINKS', 'options': {'link_references': ['router_1:eth-1<->switch_1:eth-8', 'router_1:eth-2<->switch_2:eth-8', 'switch_1:eth-1<->domain_controller:eth-1', 'switch_1:eth-2<->web_server:eth-1', 'switch_1:eth-3<->database_server:eth-1', 'switch_1:eth-4<->backup_server:eth-1', 'switch_1:eth-7<->security_suite:eth-1', 'switch_2:eth-1<->client_1:eth-1', 'switch_2:eth-2<->client_2:eth-1', 'switch_2:eth-7<->security_suite:eth-2']}}, {'type': 'NONE', 'label': 'ICS', 'options': {}}]}}\n"
     ]
    },
    {
     "name": "stderr",
     "output_type": "stream",
     "text": [
      "2024-04-08 14:52:15,208: Resetting environment, episode 103, avg. reward: 0.2500000000000171\n",
      "2024-04-08 14:52:15,212: Saving agent action log to C:\\Users\\CharlieCrane\\primaite\\3.0.0b7\\sessions\\2024-04-08\\14-49-25\\agent_actions\\episode_103.json\n"
     ]
    },
    {
     "name": "stdout",
     "output_type": "stream",
     "text": [
      "{'type': 'CUSTOM', 'options': {'components': [{'type': 'NODES', 'label': 'NODES', 'options': {'hosts': [{'hostname': 'domain_controller'}, {'hostname': 'web_server', 'services': [{'service_name': 'WebServer'}]}, {'hostname': 'database_server', 'folders': [{'folder_name': 'database', 'files': [{'file_name': 'database.db'}]}]}, {'hostname': 'backup_server'}, {'hostname': 'security_suite'}, {'hostname': 'client_1'}, {'hostname': 'client_2'}], 'num_services': 1, 'num_applications': 0, 'num_folders': 1, 'num_files': 1, 'num_nics': 2, 'include_num_access': False, 'include_nmne': True, 'routers': [{'hostname': 'router_1'}], 'num_ports': 0, 'ip_list': ['192.168.1.10', '192.168.1.12', '192.168.1.14', '192.168.1.16', '192.168.1.110', '192.168.10.21', '192.168.10.22', '192.168.10.110'], 'wildcard_list': ['0.0.0.1'], 'port_list': [80, 5432], 'protocol_list': ['ICMP', 'TCP', 'UDP'], 'num_rules': 10}}, {'type': 'LINKS', 'label': 'LINKS', 'options': {'link_references': ['router_1:eth-1<->switch_1:eth-8', 'router_1:eth-2<->switch_2:eth-8', 'switch_1:eth-1<->domain_controller:eth-1', 'switch_1:eth-2<->web_server:eth-1', 'switch_1:eth-3<->database_server:eth-1', 'switch_1:eth-4<->backup_server:eth-1', 'switch_1:eth-7<->security_suite:eth-1', 'switch_2:eth-1<->client_1:eth-1', 'switch_2:eth-2<->client_2:eth-1', 'switch_2:eth-7<->security_suite:eth-2']}}, {'type': 'NONE', 'label': 'ICS', 'options': {}}]}}\n"
     ]
    },
    {
     "name": "stderr",
     "output_type": "stream",
     "text": [
      "2024-04-08 14:52:17,126: Resetting environment, episode 104, avg. reward: 14.55\n",
      "2024-04-08 14:52:17,130: Saving agent action log to C:\\Users\\CharlieCrane\\primaite\\3.0.0b7\\sessions\\2024-04-08\\14-49-25\\agent_actions\\episode_104.json\n"
     ]
    },
    {
     "name": "stdout",
     "output_type": "stream",
     "text": [
      "{'type': 'CUSTOM', 'options': {'components': [{'type': 'NODES', 'label': 'NODES', 'options': {'hosts': [{'hostname': 'domain_controller'}, {'hostname': 'web_server', 'services': [{'service_name': 'WebServer'}]}, {'hostname': 'database_server', 'folders': [{'folder_name': 'database', 'files': [{'file_name': 'database.db'}]}]}, {'hostname': 'backup_server'}, {'hostname': 'security_suite'}, {'hostname': 'client_1'}, {'hostname': 'client_2'}], 'num_services': 1, 'num_applications': 0, 'num_folders': 1, 'num_files': 1, 'num_nics': 2, 'include_num_access': False, 'include_nmne': True, 'routers': [{'hostname': 'router_1'}], 'num_ports': 0, 'ip_list': ['192.168.1.10', '192.168.1.12', '192.168.1.14', '192.168.1.16', '192.168.1.110', '192.168.10.21', '192.168.10.22', '192.168.10.110'], 'wildcard_list': ['0.0.0.1'], 'port_list': [80, 5432], 'protocol_list': ['ICMP', 'TCP', 'UDP'], 'num_rules': 10}}, {'type': 'LINKS', 'label': 'LINKS', 'options': {'link_references': ['router_1:eth-1<->switch_1:eth-8', 'router_1:eth-2<->switch_2:eth-8', 'switch_1:eth-1<->domain_controller:eth-1', 'switch_1:eth-2<->web_server:eth-1', 'switch_1:eth-3<->database_server:eth-1', 'switch_1:eth-4<->backup_server:eth-1', 'switch_1:eth-7<->security_suite:eth-1', 'switch_2:eth-1<->client_1:eth-1', 'switch_2:eth-2<->client_2:eth-1', 'switch_2:eth-7<->security_suite:eth-2']}}, {'type': 'NONE', 'label': 'ICS', 'options': {}}]}}\n"
     ]
    },
    {
     "name": "stderr",
     "output_type": "stream",
     "text": [
      "2024-04-08 14:52:18,662: Resetting environment, episode 105, avg. reward: -16.04999999999997\n",
      "2024-04-08 14:52:18,666: Saving agent action log to C:\\Users\\CharlieCrane\\primaite\\3.0.0b7\\sessions\\2024-04-08\\14-49-25\\agent_actions\\episode_105.json\n"
     ]
    },
    {
     "name": "stdout",
     "output_type": "stream",
     "text": [
      "{'type': 'CUSTOM', 'options': {'components': [{'type': 'NODES', 'label': 'NODES', 'options': {'hosts': [{'hostname': 'domain_controller'}, {'hostname': 'web_server', 'services': [{'service_name': 'WebServer'}]}, {'hostname': 'database_server', 'folders': [{'folder_name': 'database', 'files': [{'file_name': 'database.db'}]}]}, {'hostname': 'backup_server'}, {'hostname': 'security_suite'}, {'hostname': 'client_1'}, {'hostname': 'client_2'}], 'num_services': 1, 'num_applications': 0, 'num_folders': 1, 'num_files': 1, 'num_nics': 2, 'include_num_access': False, 'include_nmne': True, 'routers': [{'hostname': 'router_1'}], 'num_ports': 0, 'ip_list': ['192.168.1.10', '192.168.1.12', '192.168.1.14', '192.168.1.16', '192.168.1.110', '192.168.10.21', '192.168.10.22', '192.168.10.110'], 'wildcard_list': ['0.0.0.1'], 'port_list': [80, 5432], 'protocol_list': ['ICMP', 'TCP', 'UDP'], 'num_rules': 10}}, {'type': 'LINKS', 'label': 'LINKS', 'options': {'link_references': ['router_1:eth-1<->switch_1:eth-8', 'router_1:eth-2<->switch_2:eth-8', 'switch_1:eth-1<->domain_controller:eth-1', 'switch_1:eth-2<->web_server:eth-1', 'switch_1:eth-3<->database_server:eth-1', 'switch_1:eth-4<->backup_server:eth-1', 'switch_1:eth-7<->security_suite:eth-1', 'switch_2:eth-1<->client_1:eth-1', 'switch_2:eth-2<->client_2:eth-1', 'switch_2:eth-7<->security_suite:eth-2']}}, {'type': 'NONE', 'label': 'ICS', 'options': {}}]}}\n"
     ]
    },
    {
     "name": "stderr",
     "output_type": "stream",
     "text": [
      "2024-04-08 14:52:20,144: Resetting environment, episode 106, avg. reward: -80.69999999999997\n",
      "2024-04-08 14:52:20,147: Saving agent action log to C:\\Users\\CharlieCrane\\primaite\\3.0.0b7\\sessions\\2024-04-08\\14-49-25\\agent_actions\\episode_106.json\n"
     ]
    },
    {
     "name": "stdout",
     "output_type": "stream",
     "text": [
      "{'type': 'CUSTOM', 'options': {'components': [{'type': 'NODES', 'label': 'NODES', 'options': {'hosts': [{'hostname': 'domain_controller'}, {'hostname': 'web_server', 'services': [{'service_name': 'WebServer'}]}, {'hostname': 'database_server', 'folders': [{'folder_name': 'database', 'files': [{'file_name': 'database.db'}]}]}, {'hostname': 'backup_server'}, {'hostname': 'security_suite'}, {'hostname': 'client_1'}, {'hostname': 'client_2'}], 'num_services': 1, 'num_applications': 0, 'num_folders': 1, 'num_files': 1, 'num_nics': 2, 'include_num_access': False, 'include_nmne': True, 'routers': [{'hostname': 'router_1'}], 'num_ports': 0, 'ip_list': ['192.168.1.10', '192.168.1.12', '192.168.1.14', '192.168.1.16', '192.168.1.110', '192.168.10.21', '192.168.10.22', '192.168.10.110'], 'wildcard_list': ['0.0.0.1'], 'port_list': [80, 5432], 'protocol_list': ['ICMP', 'TCP', 'UDP'], 'num_rules': 10}}, {'type': 'LINKS', 'label': 'LINKS', 'options': {'link_references': ['router_1:eth-1<->switch_1:eth-8', 'router_1:eth-2<->switch_2:eth-8', 'switch_1:eth-1<->domain_controller:eth-1', 'switch_1:eth-2<->web_server:eth-1', 'switch_1:eth-3<->database_server:eth-1', 'switch_1:eth-4<->backup_server:eth-1', 'switch_1:eth-7<->security_suite:eth-1', 'switch_2:eth-1<->client_1:eth-1', 'switch_2:eth-2<->client_2:eth-1', 'switch_2:eth-7<->security_suite:eth-2']}}, {'type': 'NONE', 'label': 'ICS', 'options': {}}]}}\n"
     ]
    },
    {
     "name": "stderr",
     "output_type": "stream",
     "text": [
      "2024-04-08 14:52:21,595: Resetting environment, episode 107, avg. reward: -16.099999999999977\n",
      "2024-04-08 14:52:21,599: Saving agent action log to C:\\Users\\CharlieCrane\\primaite\\3.0.0b7\\sessions\\2024-04-08\\14-49-25\\agent_actions\\episode_107.json\n"
     ]
    },
    {
     "name": "stdout",
     "output_type": "stream",
     "text": [
      "{'type': 'CUSTOM', 'options': {'components': [{'type': 'NODES', 'label': 'NODES', 'options': {'hosts': [{'hostname': 'domain_controller'}, {'hostname': 'web_server', 'services': [{'service_name': 'WebServer'}]}, {'hostname': 'database_server', 'folders': [{'folder_name': 'database', 'files': [{'file_name': 'database.db'}]}]}, {'hostname': 'backup_server'}, {'hostname': 'security_suite'}, {'hostname': 'client_1'}, {'hostname': 'client_2'}], 'num_services': 1, 'num_applications': 0, 'num_folders': 1, 'num_files': 1, 'num_nics': 2, 'include_num_access': False, 'include_nmne': True, 'routers': [{'hostname': 'router_1'}], 'num_ports': 0, 'ip_list': ['192.168.1.10', '192.168.1.12', '192.168.1.14', '192.168.1.16', '192.168.1.110', '192.168.10.21', '192.168.10.22', '192.168.10.110'], 'wildcard_list': ['0.0.0.1'], 'port_list': [80, 5432], 'protocol_list': ['ICMP', 'TCP', 'UDP'], 'num_rules': 10}}, {'type': 'LINKS', 'label': 'LINKS', 'options': {'link_references': ['router_1:eth-1<->switch_1:eth-8', 'router_1:eth-2<->switch_2:eth-8', 'switch_1:eth-1<->domain_controller:eth-1', 'switch_1:eth-2<->web_server:eth-1', 'switch_1:eth-3<->database_server:eth-1', 'switch_1:eth-4<->backup_server:eth-1', 'switch_1:eth-7<->security_suite:eth-1', 'switch_2:eth-1<->client_1:eth-1', 'switch_2:eth-2<->client_2:eth-1', 'switch_2:eth-7<->security_suite:eth-2']}}, {'type': 'NONE', 'label': 'ICS', 'options': {}}]}}\n"
     ]
    },
    {
     "name": "stderr",
     "output_type": "stream",
     "text": [
      "2024-04-08 14:52:23,331: Resetting environment, episode 108, avg. reward: -46.80000000000007\n",
      "2024-04-08 14:52:23,335: Saving agent action log to C:\\Users\\CharlieCrane\\primaite\\3.0.0b7\\sessions\\2024-04-08\\14-49-25\\agent_actions\\episode_108.json\n"
     ]
    },
    {
     "name": "stdout",
     "output_type": "stream",
     "text": [
      "{'type': 'CUSTOM', 'options': {'components': [{'type': 'NODES', 'label': 'NODES', 'options': {'hosts': [{'hostname': 'domain_controller'}, {'hostname': 'web_server', 'services': [{'service_name': 'WebServer'}]}, {'hostname': 'database_server', 'folders': [{'folder_name': 'database', 'files': [{'file_name': 'database.db'}]}]}, {'hostname': 'backup_server'}, {'hostname': 'security_suite'}, {'hostname': 'client_1'}, {'hostname': 'client_2'}], 'num_services': 1, 'num_applications': 0, 'num_folders': 1, 'num_files': 1, 'num_nics': 2, 'include_num_access': False, 'include_nmne': True, 'routers': [{'hostname': 'router_1'}], 'num_ports': 0, 'ip_list': ['192.168.1.10', '192.168.1.12', '192.168.1.14', '192.168.1.16', '192.168.1.110', '192.168.10.21', '192.168.10.22', '192.168.10.110'], 'wildcard_list': ['0.0.0.1'], 'port_list': [80, 5432], 'protocol_list': ['ICMP', 'TCP', 'UDP'], 'num_rules': 10}}, {'type': 'LINKS', 'label': 'LINKS', 'options': {'link_references': ['router_1:eth-1<->switch_1:eth-8', 'router_1:eth-2<->switch_2:eth-8', 'switch_1:eth-1<->domain_controller:eth-1', 'switch_1:eth-2<->web_server:eth-1', 'switch_1:eth-3<->database_server:eth-1', 'switch_1:eth-4<->backup_server:eth-1', 'switch_1:eth-7<->security_suite:eth-1', 'switch_2:eth-1<->client_1:eth-1', 'switch_2:eth-2<->client_2:eth-1', 'switch_2:eth-7<->security_suite:eth-2']}}, {'type': 'NONE', 'label': 'ICS', 'options': {}}]}}\n"
     ]
    },
    {
     "name": "stderr",
     "output_type": "stream",
     "text": [
      "2024-04-08 14:52:25,083: Resetting environment, episode 109, avg. reward: -22.84999999999995\n",
      "2024-04-08 14:52:25,086: Saving agent action log to C:\\Users\\CharlieCrane\\primaite\\3.0.0b7\\sessions\\2024-04-08\\14-49-25\\agent_actions\\episode_109.json\n"
     ]
    },
    {
     "name": "stdout",
     "output_type": "stream",
     "text": [
      "{'type': 'CUSTOM', 'options': {'components': [{'type': 'NODES', 'label': 'NODES', 'options': {'hosts': [{'hostname': 'domain_controller'}, {'hostname': 'web_server', 'services': [{'service_name': 'WebServer'}]}, {'hostname': 'database_server', 'folders': [{'folder_name': 'database', 'files': [{'file_name': 'database.db'}]}]}, {'hostname': 'backup_server'}, {'hostname': 'security_suite'}, {'hostname': 'client_1'}, {'hostname': 'client_2'}], 'num_services': 1, 'num_applications': 0, 'num_folders': 1, 'num_files': 1, 'num_nics': 2, 'include_num_access': False, 'include_nmne': True, 'routers': [{'hostname': 'router_1'}], 'num_ports': 0, 'ip_list': ['192.168.1.10', '192.168.1.12', '192.168.1.14', '192.168.1.16', '192.168.1.110', '192.168.10.21', '192.168.10.22', '192.168.10.110'], 'wildcard_list': ['0.0.0.1'], 'port_list': [80, 5432], 'protocol_list': ['ICMP', 'TCP', 'UDP'], 'num_rules': 10}}, {'type': 'LINKS', 'label': 'LINKS', 'options': {'link_references': ['router_1:eth-1<->switch_1:eth-8', 'router_1:eth-2<->switch_2:eth-8', 'switch_1:eth-1<->domain_controller:eth-1', 'switch_1:eth-2<->web_server:eth-1', 'switch_1:eth-3<->database_server:eth-1', 'switch_1:eth-4<->backup_server:eth-1', 'switch_1:eth-7<->security_suite:eth-1', 'switch_2:eth-1<->client_1:eth-1', 'switch_2:eth-2<->client_2:eth-1', 'switch_2:eth-7<->security_suite:eth-2']}}, {'type': 'NONE', 'label': 'ICS', 'options': {}}]}}\n"
     ]
    },
    {
     "name": "stderr",
     "output_type": "stream",
     "text": [
      "2024-04-08 14:52:26,589: Resetting environment, episode 110, avg. reward: -10.199999999999996\n",
      "2024-04-08 14:52:26,592: Saving agent action log to C:\\Users\\CharlieCrane\\primaite\\3.0.0b7\\sessions\\2024-04-08\\14-49-25\\agent_actions\\episode_110.json\n"
     ]
    },
    {
     "name": "stdout",
     "output_type": "stream",
     "text": [
      "{'type': 'CUSTOM', 'options': {'components': [{'type': 'NODES', 'label': 'NODES', 'options': {'hosts': [{'hostname': 'domain_controller'}, {'hostname': 'web_server', 'services': [{'service_name': 'WebServer'}]}, {'hostname': 'database_server', 'folders': [{'folder_name': 'database', 'files': [{'file_name': 'database.db'}]}]}, {'hostname': 'backup_server'}, {'hostname': 'security_suite'}, {'hostname': 'client_1'}, {'hostname': 'client_2'}], 'num_services': 1, 'num_applications': 0, 'num_folders': 1, 'num_files': 1, 'num_nics': 2, 'include_num_access': False, 'include_nmne': True, 'routers': [{'hostname': 'router_1'}], 'num_ports': 0, 'ip_list': ['192.168.1.10', '192.168.1.12', '192.168.1.14', '192.168.1.16', '192.168.1.110', '192.168.10.21', '192.168.10.22', '192.168.10.110'], 'wildcard_list': ['0.0.0.1'], 'port_list': [80, 5432], 'protocol_list': ['ICMP', 'TCP', 'UDP'], 'num_rules': 10}}, {'type': 'LINKS', 'label': 'LINKS', 'options': {'link_references': ['router_1:eth-1<->switch_1:eth-8', 'router_1:eth-2<->switch_2:eth-8', 'switch_1:eth-1<->domain_controller:eth-1', 'switch_1:eth-2<->web_server:eth-1', 'switch_1:eth-3<->database_server:eth-1', 'switch_1:eth-4<->backup_server:eth-1', 'switch_1:eth-7<->security_suite:eth-1', 'switch_2:eth-1<->client_1:eth-1', 'switch_2:eth-2<->client_2:eth-1', 'switch_2:eth-7<->security_suite:eth-2']}}, {'type': 'NONE', 'label': 'ICS', 'options': {}}]}}\n"
     ]
    },
    {
     "name": "stderr",
     "output_type": "stream",
     "text": [
      "2024-04-08 14:52:28,410: Resetting environment, episode 111, avg. reward: -95.99999999999997\n",
      "2024-04-08 14:52:28,413: Saving agent action log to C:\\Users\\CharlieCrane\\primaite\\3.0.0b7\\sessions\\2024-04-08\\14-49-25\\agent_actions\\episode_111.json\n"
     ]
    },
    {
     "name": "stdout",
     "output_type": "stream",
     "text": [
      "{'type': 'CUSTOM', 'options': {'components': [{'type': 'NODES', 'label': 'NODES', 'options': {'hosts': [{'hostname': 'domain_controller'}, {'hostname': 'web_server', 'services': [{'service_name': 'WebServer'}]}, {'hostname': 'database_server', 'folders': [{'folder_name': 'database', 'files': [{'file_name': 'database.db'}]}]}, {'hostname': 'backup_server'}, {'hostname': 'security_suite'}, {'hostname': 'client_1'}, {'hostname': 'client_2'}], 'num_services': 1, 'num_applications': 0, 'num_folders': 1, 'num_files': 1, 'num_nics': 2, 'include_num_access': False, 'include_nmne': True, 'routers': [{'hostname': 'router_1'}], 'num_ports': 0, 'ip_list': ['192.168.1.10', '192.168.1.12', '192.168.1.14', '192.168.1.16', '192.168.1.110', '192.168.10.21', '192.168.10.22', '192.168.10.110'], 'wildcard_list': ['0.0.0.1'], 'port_list': [80, 5432], 'protocol_list': ['ICMP', 'TCP', 'UDP'], 'num_rules': 10}}, {'type': 'LINKS', 'label': 'LINKS', 'options': {'link_references': ['router_1:eth-1<->switch_1:eth-8', 'router_1:eth-2<->switch_2:eth-8', 'switch_1:eth-1<->domain_controller:eth-1', 'switch_1:eth-2<->web_server:eth-1', 'switch_1:eth-3<->database_server:eth-1', 'switch_1:eth-4<->backup_server:eth-1', 'switch_1:eth-7<->security_suite:eth-1', 'switch_2:eth-1<->client_1:eth-1', 'switch_2:eth-2<->client_2:eth-1', 'switch_2:eth-7<->security_suite:eth-2']}}, {'type': 'NONE', 'label': 'ICS', 'options': {}}]}}\n"
     ]
    },
    {
     "name": "stderr",
     "output_type": "stream",
     "text": [
      "2024-04-08 14:52:29,966: Resetting environment, episode 112, avg. reward: -17.59999999999997\n",
      "2024-04-08 14:52:29,969: Saving agent action log to C:\\Users\\CharlieCrane\\primaite\\3.0.0b7\\sessions\\2024-04-08\\14-49-25\\agent_actions\\episode_112.json\n"
     ]
    },
    {
     "name": "stdout",
     "output_type": "stream",
     "text": [
      "{'type': 'CUSTOM', 'options': {'components': [{'type': 'NODES', 'label': 'NODES', 'options': {'hosts': [{'hostname': 'domain_controller'}, {'hostname': 'web_server', 'services': [{'service_name': 'WebServer'}]}, {'hostname': 'database_server', 'folders': [{'folder_name': 'database', 'files': [{'file_name': 'database.db'}]}]}, {'hostname': 'backup_server'}, {'hostname': 'security_suite'}, {'hostname': 'client_1'}, {'hostname': 'client_2'}], 'num_services': 1, 'num_applications': 0, 'num_folders': 1, 'num_files': 1, 'num_nics': 2, 'include_num_access': False, 'include_nmne': True, 'routers': [{'hostname': 'router_1'}], 'num_ports': 0, 'ip_list': ['192.168.1.10', '192.168.1.12', '192.168.1.14', '192.168.1.16', '192.168.1.110', '192.168.10.21', '192.168.10.22', '192.168.10.110'], 'wildcard_list': ['0.0.0.1'], 'port_list': [80, 5432], 'protocol_list': ['ICMP', 'TCP', 'UDP'], 'num_rules': 10}}, {'type': 'LINKS', 'label': 'LINKS', 'options': {'link_references': ['router_1:eth-1<->switch_1:eth-8', 'router_1:eth-2<->switch_2:eth-8', 'switch_1:eth-1<->domain_controller:eth-1', 'switch_1:eth-2<->web_server:eth-1', 'switch_1:eth-3<->database_server:eth-1', 'switch_1:eth-4<->backup_server:eth-1', 'switch_1:eth-7<->security_suite:eth-1', 'switch_2:eth-1<->client_1:eth-1', 'switch_2:eth-2<->client_2:eth-1', 'switch_2:eth-7<->security_suite:eth-2']}}, {'type': 'NONE', 'label': 'ICS', 'options': {}}]}}\n"
     ]
    },
    {
     "name": "stderr",
     "output_type": "stream",
     "text": [
      "2024-04-08 14:52:31,317: Resetting environment, episode 113, avg. reward: -20.099999999999962\n",
      "2024-04-08 14:52:31,321: Saving agent action log to C:\\Users\\CharlieCrane\\primaite\\3.0.0b7\\sessions\\2024-04-08\\14-49-25\\agent_actions\\episode_113.json\n"
     ]
    },
    {
     "name": "stdout",
     "output_type": "stream",
     "text": [
      "{'type': 'CUSTOM', 'options': {'components': [{'type': 'NODES', 'label': 'NODES', 'options': {'hosts': [{'hostname': 'domain_controller'}, {'hostname': 'web_server', 'services': [{'service_name': 'WebServer'}]}, {'hostname': 'database_server', 'folders': [{'folder_name': 'database', 'files': [{'file_name': 'database.db'}]}]}, {'hostname': 'backup_server'}, {'hostname': 'security_suite'}, {'hostname': 'client_1'}, {'hostname': 'client_2'}], 'num_services': 1, 'num_applications': 0, 'num_folders': 1, 'num_files': 1, 'num_nics': 2, 'include_num_access': False, 'include_nmne': True, 'routers': [{'hostname': 'router_1'}], 'num_ports': 0, 'ip_list': ['192.168.1.10', '192.168.1.12', '192.168.1.14', '192.168.1.16', '192.168.1.110', '192.168.10.21', '192.168.10.22', '192.168.10.110'], 'wildcard_list': ['0.0.0.1'], 'port_list': [80, 5432], 'protocol_list': ['ICMP', 'TCP', 'UDP'], 'num_rules': 10}}, {'type': 'LINKS', 'label': 'LINKS', 'options': {'link_references': ['router_1:eth-1<->switch_1:eth-8', 'router_1:eth-2<->switch_2:eth-8', 'switch_1:eth-1<->domain_controller:eth-1', 'switch_1:eth-2<->web_server:eth-1', 'switch_1:eth-3<->database_server:eth-1', 'switch_1:eth-4<->backup_server:eth-1', 'switch_1:eth-7<->security_suite:eth-1', 'switch_2:eth-1<->client_1:eth-1', 'switch_2:eth-2<->client_2:eth-1', 'switch_2:eth-7<->security_suite:eth-2']}}, {'type': 'NONE', 'label': 'ICS', 'options': {}}]}}\n"
     ]
    },
    {
     "name": "stderr",
     "output_type": "stream",
     "text": [
      "2024-04-08 14:52:32,840: Resetting environment, episode 114, avg. reward: -42.850000000000165\n",
      "2024-04-08 14:52:32,843: Saving agent action log to C:\\Users\\CharlieCrane\\primaite\\3.0.0b7\\sessions\\2024-04-08\\14-49-25\\agent_actions\\episode_114.json\n"
     ]
    },
    {
     "name": "stdout",
     "output_type": "stream",
     "text": [
      "{'type': 'CUSTOM', 'options': {'components': [{'type': 'NODES', 'label': 'NODES', 'options': {'hosts': [{'hostname': 'domain_controller'}, {'hostname': 'web_server', 'services': [{'service_name': 'WebServer'}]}, {'hostname': 'database_server', 'folders': [{'folder_name': 'database', 'files': [{'file_name': 'database.db'}]}]}, {'hostname': 'backup_server'}, {'hostname': 'security_suite'}, {'hostname': 'client_1'}, {'hostname': 'client_2'}], 'num_services': 1, 'num_applications': 0, 'num_folders': 1, 'num_files': 1, 'num_nics': 2, 'include_num_access': False, 'include_nmne': True, 'routers': [{'hostname': 'router_1'}], 'num_ports': 0, 'ip_list': ['192.168.1.10', '192.168.1.12', '192.168.1.14', '192.168.1.16', '192.168.1.110', '192.168.10.21', '192.168.10.22', '192.168.10.110'], 'wildcard_list': ['0.0.0.1'], 'port_list': [80, 5432], 'protocol_list': ['ICMP', 'TCP', 'UDP'], 'num_rules': 10}}, {'type': 'LINKS', 'label': 'LINKS', 'options': {'link_references': ['router_1:eth-1<->switch_1:eth-8', 'router_1:eth-2<->switch_2:eth-8', 'switch_1:eth-1<->domain_controller:eth-1', 'switch_1:eth-2<->web_server:eth-1', 'switch_1:eth-3<->database_server:eth-1', 'switch_1:eth-4<->backup_server:eth-1', 'switch_1:eth-7<->security_suite:eth-1', 'switch_2:eth-1<->client_1:eth-1', 'switch_2:eth-2<->client_2:eth-1', 'switch_2:eth-7<->security_suite:eth-2']}}, {'type': 'NONE', 'label': 'ICS', 'options': {}}]}}\n"
     ]
    },
    {
     "name": "stderr",
     "output_type": "stream",
     "text": [
      "2024-04-08 14:52:34,336: Resetting environment, episode 115, avg. reward: -22.249999999999954\n",
      "2024-04-08 14:52:34,339: Saving agent action log to C:\\Users\\CharlieCrane\\primaite\\3.0.0b7\\sessions\\2024-04-08\\14-49-25\\agent_actions\\episode_115.json\n"
     ]
    },
    {
     "name": "stdout",
     "output_type": "stream",
     "text": [
      "{'type': 'CUSTOM', 'options': {'components': [{'type': 'NODES', 'label': 'NODES', 'options': {'hosts': [{'hostname': 'domain_controller'}, {'hostname': 'web_server', 'services': [{'service_name': 'WebServer'}]}, {'hostname': 'database_server', 'folders': [{'folder_name': 'database', 'files': [{'file_name': 'database.db'}]}]}, {'hostname': 'backup_server'}, {'hostname': 'security_suite'}, {'hostname': 'client_1'}, {'hostname': 'client_2'}], 'num_services': 1, 'num_applications': 0, 'num_folders': 1, 'num_files': 1, 'num_nics': 2, 'include_num_access': False, 'include_nmne': True, 'routers': [{'hostname': 'router_1'}], 'num_ports': 0, 'ip_list': ['192.168.1.10', '192.168.1.12', '192.168.1.14', '192.168.1.16', '192.168.1.110', '192.168.10.21', '192.168.10.22', '192.168.10.110'], 'wildcard_list': ['0.0.0.1'], 'port_list': [80, 5432], 'protocol_list': ['ICMP', 'TCP', 'UDP'], 'num_rules': 10}}, {'type': 'LINKS', 'label': 'LINKS', 'options': {'link_references': ['router_1:eth-1<->switch_1:eth-8', 'router_1:eth-2<->switch_2:eth-8', 'switch_1:eth-1<->domain_controller:eth-1', 'switch_1:eth-2<->web_server:eth-1', 'switch_1:eth-3<->database_server:eth-1', 'switch_1:eth-4<->backup_server:eth-1', 'switch_1:eth-7<->security_suite:eth-1', 'switch_2:eth-1<->client_1:eth-1', 'switch_2:eth-2<->client_2:eth-1', 'switch_2:eth-7<->security_suite:eth-2']}}, {'type': 'NONE', 'label': 'ICS', 'options': {}}]}}\n"
     ]
    },
    {
     "name": "stderr",
     "output_type": "stream",
     "text": [
      "2024-04-08 14:52:35,794: Resetting environment, episode 116, avg. reward: -90.9\n",
      "2024-04-08 14:52:35,797: Saving agent action log to C:\\Users\\CharlieCrane\\primaite\\3.0.0b7\\sessions\\2024-04-08\\14-49-25\\agent_actions\\episode_116.json\n"
     ]
    },
    {
     "name": "stdout",
     "output_type": "stream",
     "text": [
      "{'type': 'CUSTOM', 'options': {'components': [{'type': 'NODES', 'label': 'NODES', 'options': {'hosts': [{'hostname': 'domain_controller'}, {'hostname': 'web_server', 'services': [{'service_name': 'WebServer'}]}, {'hostname': 'database_server', 'folders': [{'folder_name': 'database', 'files': [{'file_name': 'database.db'}]}]}, {'hostname': 'backup_server'}, {'hostname': 'security_suite'}, {'hostname': 'client_1'}, {'hostname': 'client_2'}], 'num_services': 1, 'num_applications': 0, 'num_folders': 1, 'num_files': 1, 'num_nics': 2, 'include_num_access': False, 'include_nmne': True, 'routers': [{'hostname': 'router_1'}], 'num_ports': 0, 'ip_list': ['192.168.1.10', '192.168.1.12', '192.168.1.14', '192.168.1.16', '192.168.1.110', '192.168.10.21', '192.168.10.22', '192.168.10.110'], 'wildcard_list': ['0.0.0.1'], 'port_list': [80, 5432], 'protocol_list': ['ICMP', 'TCP', 'UDP'], 'num_rules': 10}}, {'type': 'LINKS', 'label': 'LINKS', 'options': {'link_references': ['router_1:eth-1<->switch_1:eth-8', 'router_1:eth-2<->switch_2:eth-8', 'switch_1:eth-1<->domain_controller:eth-1', 'switch_1:eth-2<->web_server:eth-1', 'switch_1:eth-3<->database_server:eth-1', 'switch_1:eth-4<->backup_server:eth-1', 'switch_1:eth-7<->security_suite:eth-1', 'switch_2:eth-1<->client_1:eth-1', 'switch_2:eth-2<->client_2:eth-1', 'switch_2:eth-7<->security_suite:eth-2']}}, {'type': 'NONE', 'label': 'ICS', 'options': {}}]}}\n"
     ]
    },
    {
     "name": "stderr",
     "output_type": "stream",
     "text": [
      "2024-04-08 14:52:37,489: Resetting environment, episode 117, avg. reward: 5.90000000000003\n",
      "2024-04-08 14:52:37,492: Saving agent action log to C:\\Users\\CharlieCrane\\primaite\\3.0.0b7\\sessions\\2024-04-08\\14-49-25\\agent_actions\\episode_117.json\n"
     ]
    },
    {
     "name": "stdout",
     "output_type": "stream",
     "text": [
      "{'type': 'CUSTOM', 'options': {'components': [{'type': 'NODES', 'label': 'NODES', 'options': {'hosts': [{'hostname': 'domain_controller'}, {'hostname': 'web_server', 'services': [{'service_name': 'WebServer'}]}, {'hostname': 'database_server', 'folders': [{'folder_name': 'database', 'files': [{'file_name': 'database.db'}]}]}, {'hostname': 'backup_server'}, {'hostname': 'security_suite'}, {'hostname': 'client_1'}, {'hostname': 'client_2'}], 'num_services': 1, 'num_applications': 0, 'num_folders': 1, 'num_files': 1, 'num_nics': 2, 'include_num_access': False, 'include_nmne': True, 'routers': [{'hostname': 'router_1'}], 'num_ports': 0, 'ip_list': ['192.168.1.10', '192.168.1.12', '192.168.1.14', '192.168.1.16', '192.168.1.110', '192.168.10.21', '192.168.10.22', '192.168.10.110'], 'wildcard_list': ['0.0.0.1'], 'port_list': [80, 5432], 'protocol_list': ['ICMP', 'TCP', 'UDP'], 'num_rules': 10}}, {'type': 'LINKS', 'label': 'LINKS', 'options': {'link_references': ['router_1:eth-1<->switch_1:eth-8', 'router_1:eth-2<->switch_2:eth-8', 'switch_1:eth-1<->domain_controller:eth-1', 'switch_1:eth-2<->web_server:eth-1', 'switch_1:eth-3<->database_server:eth-1', 'switch_1:eth-4<->backup_server:eth-1', 'switch_1:eth-7<->security_suite:eth-1', 'switch_2:eth-1<->client_1:eth-1', 'switch_2:eth-2<->client_2:eth-1', 'switch_2:eth-7<->security_suite:eth-2']}}, {'type': 'NONE', 'label': 'ICS', 'options': {}}]}}\n"
     ]
    },
    {
     "name": "stderr",
     "output_type": "stream",
     "text": [
      "2024-04-08 14:52:39,009: Resetting environment, episode 118, avg. reward: -66.1\n",
      "2024-04-08 14:52:39,012: Saving agent action log to C:\\Users\\CharlieCrane\\primaite\\3.0.0b7\\sessions\\2024-04-08\\14-49-25\\agent_actions\\episode_118.json\n"
     ]
    },
    {
     "name": "stdout",
     "output_type": "stream",
     "text": [
      "{'type': 'CUSTOM', 'options': {'components': [{'type': 'NODES', 'label': 'NODES', 'options': {'hosts': [{'hostname': 'domain_controller'}, {'hostname': 'web_server', 'services': [{'service_name': 'WebServer'}]}, {'hostname': 'database_server', 'folders': [{'folder_name': 'database', 'files': [{'file_name': 'database.db'}]}]}, {'hostname': 'backup_server'}, {'hostname': 'security_suite'}, {'hostname': 'client_1'}, {'hostname': 'client_2'}], 'num_services': 1, 'num_applications': 0, 'num_folders': 1, 'num_files': 1, 'num_nics': 2, 'include_num_access': False, 'include_nmne': True, 'routers': [{'hostname': 'router_1'}], 'num_ports': 0, 'ip_list': ['192.168.1.10', '192.168.1.12', '192.168.1.14', '192.168.1.16', '192.168.1.110', '192.168.10.21', '192.168.10.22', '192.168.10.110'], 'wildcard_list': ['0.0.0.1'], 'port_list': [80, 5432], 'protocol_list': ['ICMP', 'TCP', 'UDP'], 'num_rules': 10}}, {'type': 'LINKS', 'label': 'LINKS', 'options': {'link_references': ['router_1:eth-1<->switch_1:eth-8', 'router_1:eth-2<->switch_2:eth-8', 'switch_1:eth-1<->domain_controller:eth-1', 'switch_1:eth-2<->web_server:eth-1', 'switch_1:eth-3<->database_server:eth-1', 'switch_1:eth-4<->backup_server:eth-1', 'switch_1:eth-7<->security_suite:eth-1', 'switch_2:eth-1<->client_1:eth-1', 'switch_2:eth-2<->client_2:eth-1', 'switch_2:eth-7<->security_suite:eth-2']}}, {'type': 'NONE', 'label': 'ICS', 'options': {}}]}}\n"
     ]
    },
    {
     "name": "stderr",
     "output_type": "stream",
     "text": [
      "2024-04-08 14:52:40,602: Resetting environment, episode 119, avg. reward: -36.749999999999964\n",
      "2024-04-08 14:52:40,605: Saving agent action log to C:\\Users\\CharlieCrane\\primaite\\3.0.0b7\\sessions\\2024-04-08\\14-49-25\\agent_actions\\episode_119.json\n"
     ]
    },
    {
     "name": "stdout",
     "output_type": "stream",
     "text": [
      "{'type': 'CUSTOM', 'options': {'components': [{'type': 'NODES', 'label': 'NODES', 'options': {'hosts': [{'hostname': 'domain_controller'}, {'hostname': 'web_server', 'services': [{'service_name': 'WebServer'}]}, {'hostname': 'database_server', 'folders': [{'folder_name': 'database', 'files': [{'file_name': 'database.db'}]}]}, {'hostname': 'backup_server'}, {'hostname': 'security_suite'}, {'hostname': 'client_1'}, {'hostname': 'client_2'}], 'num_services': 1, 'num_applications': 0, 'num_folders': 1, 'num_files': 1, 'num_nics': 2, 'include_num_access': False, 'include_nmne': True, 'routers': [{'hostname': 'router_1'}], 'num_ports': 0, 'ip_list': ['192.168.1.10', '192.168.1.12', '192.168.1.14', '192.168.1.16', '192.168.1.110', '192.168.10.21', '192.168.10.22', '192.168.10.110'], 'wildcard_list': ['0.0.0.1'], 'port_list': [80, 5432], 'protocol_list': ['ICMP', 'TCP', 'UDP'], 'num_rules': 10}}, {'type': 'LINKS', 'label': 'LINKS', 'options': {'link_references': ['router_1:eth-1<->switch_1:eth-8', 'router_1:eth-2<->switch_2:eth-8', 'switch_1:eth-1<->domain_controller:eth-1', 'switch_1:eth-2<->web_server:eth-1', 'switch_1:eth-3<->database_server:eth-1', 'switch_1:eth-4<->backup_server:eth-1', 'switch_1:eth-7<->security_suite:eth-1', 'switch_2:eth-1<->client_1:eth-1', 'switch_2:eth-2<->client_2:eth-1', 'switch_2:eth-7<->security_suite:eth-2']}}, {'type': 'NONE', 'label': 'ICS', 'options': {}}]}}\n"
     ]
    },
    {
     "name": "stderr",
     "output_type": "stream",
     "text": [
      "2024-04-08 14:52:42,128: Resetting environment, episode 120, avg. reward: -13.79999999999999\n",
      "2024-04-08 14:52:42,131: Saving agent action log to C:\\Users\\CharlieCrane\\primaite\\3.0.0b7\\sessions\\2024-04-08\\14-49-25\\agent_actions\\episode_120.json\n"
     ]
    },
    {
     "name": "stdout",
     "output_type": "stream",
     "text": [
      "{'type': 'CUSTOM', 'options': {'components': [{'type': 'NODES', 'label': 'NODES', 'options': {'hosts': [{'hostname': 'domain_controller'}, {'hostname': 'web_server', 'services': [{'service_name': 'WebServer'}]}, {'hostname': 'database_server', 'folders': [{'folder_name': 'database', 'files': [{'file_name': 'database.db'}]}]}, {'hostname': 'backup_server'}, {'hostname': 'security_suite'}, {'hostname': 'client_1'}, {'hostname': 'client_2'}], 'num_services': 1, 'num_applications': 0, 'num_folders': 1, 'num_files': 1, 'num_nics': 2, 'include_num_access': False, 'include_nmne': True, 'routers': [{'hostname': 'router_1'}], 'num_ports': 0, 'ip_list': ['192.168.1.10', '192.168.1.12', '192.168.1.14', '192.168.1.16', '192.168.1.110', '192.168.10.21', '192.168.10.22', '192.168.10.110'], 'wildcard_list': ['0.0.0.1'], 'port_list': [80, 5432], 'protocol_list': ['ICMP', 'TCP', 'UDP'], 'num_rules': 10}}, {'type': 'LINKS', 'label': 'LINKS', 'options': {'link_references': ['router_1:eth-1<->switch_1:eth-8', 'router_1:eth-2<->switch_2:eth-8', 'switch_1:eth-1<->domain_controller:eth-1', 'switch_1:eth-2<->web_server:eth-1', 'switch_1:eth-3<->database_server:eth-1', 'switch_1:eth-4<->backup_server:eth-1', 'switch_1:eth-7<->security_suite:eth-1', 'switch_2:eth-1<->client_1:eth-1', 'switch_2:eth-2<->client_2:eth-1', 'switch_2:eth-7<->security_suite:eth-2']}}, {'type': 'NONE', 'label': 'ICS', 'options': {}}]}}\n"
     ]
    },
    {
     "name": "stderr",
     "output_type": "stream",
     "text": [
      "2024-04-08 14:52:43,990: Resetting environment, episode 121, avg. reward: -30.750000000000007\n",
      "2024-04-08 14:52:43,993: Saving agent action log to C:\\Users\\CharlieCrane\\primaite\\3.0.0b7\\sessions\\2024-04-08\\14-49-25\\agent_actions\\episode_121.json\n"
     ]
    },
    {
     "name": "stdout",
     "output_type": "stream",
     "text": [
      "{'type': 'CUSTOM', 'options': {'components': [{'type': 'NODES', 'label': 'NODES', 'options': {'hosts': [{'hostname': 'domain_controller'}, {'hostname': 'web_server', 'services': [{'service_name': 'WebServer'}]}, {'hostname': 'database_server', 'folders': [{'folder_name': 'database', 'files': [{'file_name': 'database.db'}]}]}, {'hostname': 'backup_server'}, {'hostname': 'security_suite'}, {'hostname': 'client_1'}, {'hostname': 'client_2'}], 'num_services': 1, 'num_applications': 0, 'num_folders': 1, 'num_files': 1, 'num_nics': 2, 'include_num_access': False, 'include_nmne': True, 'routers': [{'hostname': 'router_1'}], 'num_ports': 0, 'ip_list': ['192.168.1.10', '192.168.1.12', '192.168.1.14', '192.168.1.16', '192.168.1.110', '192.168.10.21', '192.168.10.22', '192.168.10.110'], 'wildcard_list': ['0.0.0.1'], 'port_list': [80, 5432], 'protocol_list': ['ICMP', 'TCP', 'UDP'], 'num_rules': 10}}, {'type': 'LINKS', 'label': 'LINKS', 'options': {'link_references': ['router_1:eth-1<->switch_1:eth-8', 'router_1:eth-2<->switch_2:eth-8', 'switch_1:eth-1<->domain_controller:eth-1', 'switch_1:eth-2<->web_server:eth-1', 'switch_1:eth-3<->database_server:eth-1', 'switch_1:eth-4<->backup_server:eth-1', 'switch_1:eth-7<->security_suite:eth-1', 'switch_2:eth-1<->client_1:eth-1', 'switch_2:eth-2<->client_2:eth-1', 'switch_2:eth-7<->security_suite:eth-2']}}, {'type': 'NONE', 'label': 'ICS', 'options': {}}]}}\n"
     ]
    },
    {
     "name": "stderr",
     "output_type": "stream",
     "text": [
      "2024-04-08 14:52:45,565: Resetting environment, episode 122, avg. reward: -99.95\n",
      "2024-04-08 14:52:45,568: Saving agent action log to C:\\Users\\CharlieCrane\\primaite\\3.0.0b7\\sessions\\2024-04-08\\14-49-25\\agent_actions\\episode_122.json\n"
     ]
    },
    {
     "name": "stdout",
     "output_type": "stream",
     "text": [
      "{'type': 'CUSTOM', 'options': {'components': [{'type': 'NODES', 'label': 'NODES', 'options': {'hosts': [{'hostname': 'domain_controller'}, {'hostname': 'web_server', 'services': [{'service_name': 'WebServer'}]}, {'hostname': 'database_server', 'folders': [{'folder_name': 'database', 'files': [{'file_name': 'database.db'}]}]}, {'hostname': 'backup_server'}, {'hostname': 'security_suite'}, {'hostname': 'client_1'}, {'hostname': 'client_2'}], 'num_services': 1, 'num_applications': 0, 'num_folders': 1, 'num_files': 1, 'num_nics': 2, 'include_num_access': False, 'include_nmne': True, 'routers': [{'hostname': 'router_1'}], 'num_ports': 0, 'ip_list': ['192.168.1.10', '192.168.1.12', '192.168.1.14', '192.168.1.16', '192.168.1.110', '192.168.10.21', '192.168.10.22', '192.168.10.110'], 'wildcard_list': ['0.0.0.1'], 'port_list': [80, 5432], 'protocol_list': ['ICMP', 'TCP', 'UDP'], 'num_rules': 10}}, {'type': 'LINKS', 'label': 'LINKS', 'options': {'link_references': ['router_1:eth-1<->switch_1:eth-8', 'router_1:eth-2<->switch_2:eth-8', 'switch_1:eth-1<->domain_controller:eth-1', 'switch_1:eth-2<->web_server:eth-1', 'switch_1:eth-3<->database_server:eth-1', 'switch_1:eth-4<->backup_server:eth-1', 'switch_1:eth-7<->security_suite:eth-1', 'switch_2:eth-1<->client_1:eth-1', 'switch_2:eth-2<->client_2:eth-1', 'switch_2:eth-7<->security_suite:eth-2']}}, {'type': 'NONE', 'label': 'ICS', 'options': {}}]}}\n"
     ]
    },
    {
     "name": "stderr",
     "output_type": "stream",
     "text": [
      "2024-04-08 14:52:48,013: Resetting environment, episode 123, avg. reward: 0.3500000000000256\n",
      "2024-04-08 14:52:48,016: Saving agent action log to C:\\Users\\CharlieCrane\\primaite\\3.0.0b7\\sessions\\2024-04-08\\14-49-25\\agent_actions\\episode_123.json\n"
     ]
    },
    {
     "name": "stdout",
     "output_type": "stream",
     "text": [
      "{'type': 'CUSTOM', 'options': {'components': [{'type': 'NODES', 'label': 'NODES', 'options': {'hosts': [{'hostname': 'domain_controller'}, {'hostname': 'web_server', 'services': [{'service_name': 'WebServer'}]}, {'hostname': 'database_server', 'folders': [{'folder_name': 'database', 'files': [{'file_name': 'database.db'}]}]}, {'hostname': 'backup_server'}, {'hostname': 'security_suite'}, {'hostname': 'client_1'}, {'hostname': 'client_2'}], 'num_services': 1, 'num_applications': 0, 'num_folders': 1, 'num_files': 1, 'num_nics': 2, 'include_num_access': False, 'include_nmne': True, 'routers': [{'hostname': 'router_1'}], 'num_ports': 0, 'ip_list': ['192.168.1.10', '192.168.1.12', '192.168.1.14', '192.168.1.16', '192.168.1.110', '192.168.10.21', '192.168.10.22', '192.168.10.110'], 'wildcard_list': ['0.0.0.1'], 'port_list': [80, 5432], 'protocol_list': ['ICMP', 'TCP', 'UDP'], 'num_rules': 10}}, {'type': 'LINKS', 'label': 'LINKS', 'options': {'link_references': ['router_1:eth-1<->switch_1:eth-8', 'router_1:eth-2<->switch_2:eth-8', 'switch_1:eth-1<->domain_controller:eth-1', 'switch_1:eth-2<->web_server:eth-1', 'switch_1:eth-3<->database_server:eth-1', 'switch_1:eth-4<->backup_server:eth-1', 'switch_1:eth-7<->security_suite:eth-1', 'switch_2:eth-1<->client_1:eth-1', 'switch_2:eth-2<->client_2:eth-1', 'switch_2:eth-7<->security_suite:eth-2']}}, {'type': 'NONE', 'label': 'ICS', 'options': {}}]}}\n"
     ]
    },
    {
     "name": "stderr",
     "output_type": "stream",
     "text": [
      "2024-04-08 14:52:50,029: Resetting environment, episode 124, avg. reward: -15.299999999999981\n",
      "2024-04-08 14:52:50,032: Saving agent action log to C:\\Users\\CharlieCrane\\primaite\\3.0.0b7\\sessions\\2024-04-08\\14-49-25\\agent_actions\\episode_124.json\n"
     ]
    },
    {
     "name": "stdout",
     "output_type": "stream",
     "text": [
      "{'type': 'CUSTOM', 'options': {'components': [{'type': 'NODES', 'label': 'NODES', 'options': {'hosts': [{'hostname': 'domain_controller'}, {'hostname': 'web_server', 'services': [{'service_name': 'WebServer'}]}, {'hostname': 'database_server', 'folders': [{'folder_name': 'database', 'files': [{'file_name': 'database.db'}]}]}, {'hostname': 'backup_server'}, {'hostname': 'security_suite'}, {'hostname': 'client_1'}, {'hostname': 'client_2'}], 'num_services': 1, 'num_applications': 0, 'num_folders': 1, 'num_files': 1, 'num_nics': 2, 'include_num_access': False, 'include_nmne': True, 'routers': [{'hostname': 'router_1'}], 'num_ports': 0, 'ip_list': ['192.168.1.10', '192.168.1.12', '192.168.1.14', '192.168.1.16', '192.168.1.110', '192.168.10.21', '192.168.10.22', '192.168.10.110'], 'wildcard_list': ['0.0.0.1'], 'port_list': [80, 5432], 'protocol_list': ['ICMP', 'TCP', 'UDP'], 'num_rules': 10}}, {'type': 'LINKS', 'label': 'LINKS', 'options': {'link_references': ['router_1:eth-1<->switch_1:eth-8', 'router_1:eth-2<->switch_2:eth-8', 'switch_1:eth-1<->domain_controller:eth-1', 'switch_1:eth-2<->web_server:eth-1', 'switch_1:eth-3<->database_server:eth-1', 'switch_1:eth-4<->backup_server:eth-1', 'switch_1:eth-7<->security_suite:eth-1', 'switch_2:eth-1<->client_1:eth-1', 'switch_2:eth-2<->client_2:eth-1', 'switch_2:eth-7<->security_suite:eth-2']}}, {'type': 'NONE', 'label': 'ICS', 'options': {}}]}}\n"
     ]
    },
    {
     "name": "stderr",
     "output_type": "stream",
     "text": [
      "2024-04-08 14:52:51,501: Resetting environment, episode 125, avg. reward: -15.149999999999975\n",
      "2024-04-08 14:52:51,502: Saving agent action log to C:\\Users\\CharlieCrane\\primaite\\3.0.0b7\\sessions\\2024-04-08\\14-49-25\\agent_actions\\episode_125.json\n"
     ]
    },
    {
     "name": "stdout",
     "output_type": "stream",
     "text": [
      "{'type': 'CUSTOM', 'options': {'components': [{'type': 'NODES', 'label': 'NODES', 'options': {'hosts': [{'hostname': 'domain_controller'}, {'hostname': 'web_server', 'services': [{'service_name': 'WebServer'}]}, {'hostname': 'database_server', 'folders': [{'folder_name': 'database', 'files': [{'file_name': 'database.db'}]}]}, {'hostname': 'backup_server'}, {'hostname': 'security_suite'}, {'hostname': 'client_1'}, {'hostname': 'client_2'}], 'num_services': 1, 'num_applications': 0, 'num_folders': 1, 'num_files': 1, 'num_nics': 2, 'include_num_access': False, 'include_nmne': True, 'routers': [{'hostname': 'router_1'}], 'num_ports': 0, 'ip_list': ['192.168.1.10', '192.168.1.12', '192.168.1.14', '192.168.1.16', '192.168.1.110', '192.168.10.21', '192.168.10.22', '192.168.10.110'], 'wildcard_list': ['0.0.0.1'], 'port_list': [80, 5432], 'protocol_list': ['ICMP', 'TCP', 'UDP'], 'num_rules': 10}}, {'type': 'LINKS', 'label': 'LINKS', 'options': {'link_references': ['router_1:eth-1<->switch_1:eth-8', 'router_1:eth-2<->switch_2:eth-8', 'switch_1:eth-1<->domain_controller:eth-1', 'switch_1:eth-2<->web_server:eth-1', 'switch_1:eth-3<->database_server:eth-1', 'switch_1:eth-4<->backup_server:eth-1', 'switch_1:eth-7<->security_suite:eth-1', 'switch_2:eth-1<->client_1:eth-1', 'switch_2:eth-2<->client_2:eth-1', 'switch_2:eth-7<->security_suite:eth-2']}}, {'type': 'NONE', 'label': 'ICS', 'options': {}}]}}\n"
     ]
    },
    {
     "name": "stderr",
     "output_type": "stream",
     "text": [
      "2024-04-08 14:52:53,184: Resetting environment, episode 126, avg. reward: -90.35\n",
      "2024-04-08 14:52:53,186: Saving agent action log to C:\\Users\\CharlieCrane\\primaite\\3.0.0b7\\sessions\\2024-04-08\\14-49-25\\agent_actions\\episode_126.json\n"
     ]
    },
    {
     "name": "stdout",
     "output_type": "stream",
     "text": [
      "{'type': 'CUSTOM', 'options': {'components': [{'type': 'NODES', 'label': 'NODES', 'options': {'hosts': [{'hostname': 'domain_controller'}, {'hostname': 'web_server', 'services': [{'service_name': 'WebServer'}]}, {'hostname': 'database_server', 'folders': [{'folder_name': 'database', 'files': [{'file_name': 'database.db'}]}]}, {'hostname': 'backup_server'}, {'hostname': 'security_suite'}, {'hostname': 'client_1'}, {'hostname': 'client_2'}], 'num_services': 1, 'num_applications': 0, 'num_folders': 1, 'num_files': 1, 'num_nics': 2, 'include_num_access': False, 'include_nmne': True, 'routers': [{'hostname': 'router_1'}], 'num_ports': 0, 'ip_list': ['192.168.1.10', '192.168.1.12', '192.168.1.14', '192.168.1.16', '192.168.1.110', '192.168.10.21', '192.168.10.22', '192.168.10.110'], 'wildcard_list': ['0.0.0.1'], 'port_list': [80, 5432], 'protocol_list': ['ICMP', 'TCP', 'UDP'], 'num_rules': 10}}, {'type': 'LINKS', 'label': 'LINKS', 'options': {'link_references': ['router_1:eth-1<->switch_1:eth-8', 'router_1:eth-2<->switch_2:eth-8', 'switch_1:eth-1<->domain_controller:eth-1', 'switch_1:eth-2<->web_server:eth-1', 'switch_1:eth-3<->database_server:eth-1', 'switch_1:eth-4<->backup_server:eth-1', 'switch_1:eth-7<->security_suite:eth-1', 'switch_2:eth-1<->client_1:eth-1', 'switch_2:eth-2<->client_2:eth-1', 'switch_2:eth-7<->security_suite:eth-2']}}, {'type': 'NONE', 'label': 'ICS', 'options': {}}]}}\n"
     ]
    },
    {
     "name": "stderr",
     "output_type": "stream",
     "text": [
      "2024-04-08 14:52:54,836: Resetting environment, episode 127, avg. reward: -19.9\n",
      "2024-04-08 14:52:54,839: Saving agent action log to C:\\Users\\CharlieCrane\\primaite\\3.0.0b7\\sessions\\2024-04-08\\14-49-25\\agent_actions\\episode_127.json\n"
     ]
    },
    {
     "name": "stdout",
     "output_type": "stream",
     "text": [
      "{'type': 'CUSTOM', 'options': {'components': [{'type': 'NODES', 'label': 'NODES', 'options': {'hosts': [{'hostname': 'domain_controller'}, {'hostname': 'web_server', 'services': [{'service_name': 'WebServer'}]}, {'hostname': 'database_server', 'folders': [{'folder_name': 'database', 'files': [{'file_name': 'database.db'}]}]}, {'hostname': 'backup_server'}, {'hostname': 'security_suite'}, {'hostname': 'client_1'}, {'hostname': 'client_2'}], 'num_services': 1, 'num_applications': 0, 'num_folders': 1, 'num_files': 1, 'num_nics': 2, 'include_num_access': False, 'include_nmne': True, 'routers': [{'hostname': 'router_1'}], 'num_ports': 0, 'ip_list': ['192.168.1.10', '192.168.1.12', '192.168.1.14', '192.168.1.16', '192.168.1.110', '192.168.10.21', '192.168.10.22', '192.168.10.110'], 'wildcard_list': ['0.0.0.1'], 'port_list': [80, 5432], 'protocol_list': ['ICMP', 'TCP', 'UDP'], 'num_rules': 10}}, {'type': 'LINKS', 'label': 'LINKS', 'options': {'link_references': ['router_1:eth-1<->switch_1:eth-8', 'router_1:eth-2<->switch_2:eth-8', 'switch_1:eth-1<->domain_controller:eth-1', 'switch_1:eth-2<->web_server:eth-1', 'switch_1:eth-3<->database_server:eth-1', 'switch_1:eth-4<->backup_server:eth-1', 'switch_1:eth-7<->security_suite:eth-1', 'switch_2:eth-1<->client_1:eth-1', 'switch_2:eth-2<->client_2:eth-1', 'switch_2:eth-7<->security_suite:eth-2']}}, {'type': 'NONE', 'label': 'ICS', 'options': {}}]}}\n"
     ]
    },
    {
     "name": "stderr",
     "output_type": "stream",
     "text": [
      "2024-04-08 14:52:56,110: Resetting environment, episode 128, avg. reward: -17.299999999999976\n",
      "2024-04-08 14:52:56,113: Saving agent action log to C:\\Users\\CharlieCrane\\primaite\\3.0.0b7\\sessions\\2024-04-08\\14-49-25\\agent_actions\\episode_128.json\n"
     ]
    },
    {
     "name": "stdout",
     "output_type": "stream",
     "text": [
      "{'type': 'CUSTOM', 'options': {'components': [{'type': 'NODES', 'label': 'NODES', 'options': {'hosts': [{'hostname': 'domain_controller'}, {'hostname': 'web_server', 'services': [{'service_name': 'WebServer'}]}, {'hostname': 'database_server', 'folders': [{'folder_name': 'database', 'files': [{'file_name': 'database.db'}]}]}, {'hostname': 'backup_server'}, {'hostname': 'security_suite'}, {'hostname': 'client_1'}, {'hostname': 'client_2'}], 'num_services': 1, 'num_applications': 0, 'num_folders': 1, 'num_files': 1, 'num_nics': 2, 'include_num_access': False, 'include_nmne': True, 'routers': [{'hostname': 'router_1'}], 'num_ports': 0, 'ip_list': ['192.168.1.10', '192.168.1.12', '192.168.1.14', '192.168.1.16', '192.168.1.110', '192.168.10.21', '192.168.10.22', '192.168.10.110'], 'wildcard_list': ['0.0.0.1'], 'port_list': [80, 5432], 'protocol_list': ['ICMP', 'TCP', 'UDP'], 'num_rules': 10}}, {'type': 'LINKS', 'label': 'LINKS', 'options': {'link_references': ['router_1:eth-1<->switch_1:eth-8', 'router_1:eth-2<->switch_2:eth-8', 'switch_1:eth-1<->domain_controller:eth-1', 'switch_1:eth-2<->web_server:eth-1', 'switch_1:eth-3<->database_server:eth-1', 'switch_1:eth-4<->backup_server:eth-1', 'switch_1:eth-7<->security_suite:eth-1', 'switch_2:eth-1<->client_1:eth-1', 'switch_2:eth-2<->client_2:eth-1', 'switch_2:eth-7<->security_suite:eth-2']}}, {'type': 'NONE', 'label': 'ICS', 'options': {}}]}}\n"
     ]
    },
    {
     "name": "stderr",
     "output_type": "stream",
     "text": [
      "2024-04-08 14:52:57,610: Resetting environment, episode 129, avg. reward: -12.499999999999996\n",
      "2024-04-08 14:52:57,613: Saving agent action log to C:\\Users\\CharlieCrane\\primaite\\3.0.0b7\\sessions\\2024-04-08\\14-49-25\\agent_actions\\episode_129.json\n"
     ]
    },
    {
     "name": "stdout",
     "output_type": "stream",
     "text": [
      "{'type': 'CUSTOM', 'options': {'components': [{'type': 'NODES', 'label': 'NODES', 'options': {'hosts': [{'hostname': 'domain_controller'}, {'hostname': 'web_server', 'services': [{'service_name': 'WebServer'}]}, {'hostname': 'database_server', 'folders': [{'folder_name': 'database', 'files': [{'file_name': 'database.db'}]}]}, {'hostname': 'backup_server'}, {'hostname': 'security_suite'}, {'hostname': 'client_1'}, {'hostname': 'client_2'}], 'num_services': 1, 'num_applications': 0, 'num_folders': 1, 'num_files': 1, 'num_nics': 2, 'include_num_access': False, 'include_nmne': True, 'routers': [{'hostname': 'router_1'}], 'num_ports': 0, 'ip_list': ['192.168.1.10', '192.168.1.12', '192.168.1.14', '192.168.1.16', '192.168.1.110', '192.168.10.21', '192.168.10.22', '192.168.10.110'], 'wildcard_list': ['0.0.0.1'], 'port_list': [80, 5432], 'protocol_list': ['ICMP', 'TCP', 'UDP'], 'num_rules': 10}}, {'type': 'LINKS', 'label': 'LINKS', 'options': {'link_references': ['router_1:eth-1<->switch_1:eth-8', 'router_1:eth-2<->switch_2:eth-8', 'switch_1:eth-1<->domain_controller:eth-1', 'switch_1:eth-2<->web_server:eth-1', 'switch_1:eth-3<->database_server:eth-1', 'switch_1:eth-4<->backup_server:eth-1', 'switch_1:eth-7<->security_suite:eth-1', 'switch_2:eth-1<->client_1:eth-1', 'switch_2:eth-2<->client_2:eth-1', 'switch_2:eth-7<->security_suite:eth-2']}}, {'type': 'NONE', 'label': 'ICS', 'options': {}}]}}\n"
     ]
    },
    {
     "name": "stderr",
     "output_type": "stream",
     "text": [
      "2024-04-08 14:52:59,237: Resetting environment, episode 130, avg. reward: -17.24999999999996\n",
      "2024-04-08 14:52:59,240: Saving agent action log to C:\\Users\\CharlieCrane\\primaite\\3.0.0b7\\sessions\\2024-04-08\\14-49-25\\agent_actions\\episode_130.json\n"
     ]
    },
    {
     "name": "stdout",
     "output_type": "stream",
     "text": [
      "{'type': 'CUSTOM', 'options': {'components': [{'type': 'NODES', 'label': 'NODES', 'options': {'hosts': [{'hostname': 'domain_controller'}, {'hostname': 'web_server', 'services': [{'service_name': 'WebServer'}]}, {'hostname': 'database_server', 'folders': [{'folder_name': 'database', 'files': [{'file_name': 'database.db'}]}]}, {'hostname': 'backup_server'}, {'hostname': 'security_suite'}, {'hostname': 'client_1'}, {'hostname': 'client_2'}], 'num_services': 1, 'num_applications': 0, 'num_folders': 1, 'num_files': 1, 'num_nics': 2, 'include_num_access': False, 'include_nmne': True, 'routers': [{'hostname': 'router_1'}], 'num_ports': 0, 'ip_list': ['192.168.1.10', '192.168.1.12', '192.168.1.14', '192.168.1.16', '192.168.1.110', '192.168.10.21', '192.168.10.22', '192.168.10.110'], 'wildcard_list': ['0.0.0.1'], 'port_list': [80, 5432], 'protocol_list': ['ICMP', 'TCP', 'UDP'], 'num_rules': 10}}, {'type': 'LINKS', 'label': 'LINKS', 'options': {'link_references': ['router_1:eth-1<->switch_1:eth-8', 'router_1:eth-2<->switch_2:eth-8', 'switch_1:eth-1<->domain_controller:eth-1', 'switch_1:eth-2<->web_server:eth-1', 'switch_1:eth-3<->database_server:eth-1', 'switch_1:eth-4<->backup_server:eth-1', 'switch_1:eth-7<->security_suite:eth-1', 'switch_2:eth-1<->client_1:eth-1', 'switch_2:eth-2<->client_2:eth-1', 'switch_2:eth-7<->security_suite:eth-2']}}, {'type': 'NONE', 'label': 'ICS', 'options': {}}]}}\n"
     ]
    },
    {
     "name": "stderr",
     "output_type": "stream",
     "text": [
      "2024-04-08 14:53:00,835: Resetting environment, episode 131, avg. reward: -11.64999999999998\n",
      "2024-04-08 14:53:00,838: Saving agent action log to C:\\Users\\CharlieCrane\\primaite\\3.0.0b7\\sessions\\2024-04-08\\14-49-25\\agent_actions\\episode_131.json\n"
     ]
    },
    {
     "name": "stdout",
     "output_type": "stream",
     "text": [
      "{'type': 'CUSTOM', 'options': {'components': [{'type': 'NODES', 'label': 'NODES', 'options': {'hosts': [{'hostname': 'domain_controller'}, {'hostname': 'web_server', 'services': [{'service_name': 'WebServer'}]}, {'hostname': 'database_server', 'folders': [{'folder_name': 'database', 'files': [{'file_name': 'database.db'}]}]}, {'hostname': 'backup_server'}, {'hostname': 'security_suite'}, {'hostname': 'client_1'}, {'hostname': 'client_2'}], 'num_services': 1, 'num_applications': 0, 'num_folders': 1, 'num_files': 1, 'num_nics': 2, 'include_num_access': False, 'include_nmne': True, 'routers': [{'hostname': 'router_1'}], 'num_ports': 0, 'ip_list': ['192.168.1.10', '192.168.1.12', '192.168.1.14', '192.168.1.16', '192.168.1.110', '192.168.10.21', '192.168.10.22', '192.168.10.110'], 'wildcard_list': ['0.0.0.1'], 'port_list': [80, 5432], 'protocol_list': ['ICMP', 'TCP', 'UDP'], 'num_rules': 10}}, {'type': 'LINKS', 'label': 'LINKS', 'options': {'link_references': ['router_1:eth-1<->switch_1:eth-8', 'router_1:eth-2<->switch_2:eth-8', 'switch_1:eth-1<->domain_controller:eth-1', 'switch_1:eth-2<->web_server:eth-1', 'switch_1:eth-3<->database_server:eth-1', 'switch_1:eth-4<->backup_server:eth-1', 'switch_1:eth-7<->security_suite:eth-1', 'switch_2:eth-1<->client_1:eth-1', 'switch_2:eth-2<->client_2:eth-1', 'switch_2:eth-7<->security_suite:eth-2']}}, {'type': 'NONE', 'label': 'ICS', 'options': {}}]}}\n"
     ]
    },
    {
     "name": "stderr",
     "output_type": "stream",
     "text": [
      "2024-04-08 14:53:02,203: Resetting environment, episode 132, avg. reward: -27.799999999999986\n",
      "2024-04-08 14:53:02,206: Saving agent action log to C:\\Users\\CharlieCrane\\primaite\\3.0.0b7\\sessions\\2024-04-08\\14-49-25\\agent_actions\\episode_132.json\n"
     ]
    },
    {
     "name": "stdout",
     "output_type": "stream",
     "text": [
      "{'type': 'CUSTOM', 'options': {'components': [{'type': 'NODES', 'label': 'NODES', 'options': {'hosts': [{'hostname': 'domain_controller'}, {'hostname': 'web_server', 'services': [{'service_name': 'WebServer'}]}, {'hostname': 'database_server', 'folders': [{'folder_name': 'database', 'files': [{'file_name': 'database.db'}]}]}, {'hostname': 'backup_server'}, {'hostname': 'security_suite'}, {'hostname': 'client_1'}, {'hostname': 'client_2'}], 'num_services': 1, 'num_applications': 0, 'num_folders': 1, 'num_files': 1, 'num_nics': 2, 'include_num_access': False, 'include_nmne': True, 'routers': [{'hostname': 'router_1'}], 'num_ports': 0, 'ip_list': ['192.168.1.10', '192.168.1.12', '192.168.1.14', '192.168.1.16', '192.168.1.110', '192.168.10.21', '192.168.10.22', '192.168.10.110'], 'wildcard_list': ['0.0.0.1'], 'port_list': [80, 5432], 'protocol_list': ['ICMP', 'TCP', 'UDP'], 'num_rules': 10}}, {'type': 'LINKS', 'label': 'LINKS', 'options': {'link_references': ['router_1:eth-1<->switch_1:eth-8', 'router_1:eth-2<->switch_2:eth-8', 'switch_1:eth-1<->domain_controller:eth-1', 'switch_1:eth-2<->web_server:eth-1', 'switch_1:eth-3<->database_server:eth-1', 'switch_1:eth-4<->backup_server:eth-1', 'switch_1:eth-7<->security_suite:eth-1', 'switch_2:eth-1<->client_1:eth-1', 'switch_2:eth-2<->client_2:eth-1', 'switch_2:eth-7<->security_suite:eth-2']}}, {'type': 'NONE', 'label': 'ICS', 'options': {}}]}}\n"
     ]
    },
    {
     "name": "stderr",
     "output_type": "stream",
     "text": [
      "2024-04-08 14:53:03,544: Resetting environment, episode 133, avg. reward: -10.399999999999997\n",
      "2024-04-08 14:53:03,547: Saving agent action log to C:\\Users\\CharlieCrane\\primaite\\3.0.0b7\\sessions\\2024-04-08\\14-49-25\\agent_actions\\episode_133.json\n"
     ]
    },
    {
     "name": "stdout",
     "output_type": "stream",
     "text": [
      "{'type': 'CUSTOM', 'options': {'components': [{'type': 'NODES', 'label': 'NODES', 'options': {'hosts': [{'hostname': 'domain_controller'}, {'hostname': 'web_server', 'services': [{'service_name': 'WebServer'}]}, {'hostname': 'database_server', 'folders': [{'folder_name': 'database', 'files': [{'file_name': 'database.db'}]}]}, {'hostname': 'backup_server'}, {'hostname': 'security_suite'}, {'hostname': 'client_1'}, {'hostname': 'client_2'}], 'num_services': 1, 'num_applications': 0, 'num_folders': 1, 'num_files': 1, 'num_nics': 2, 'include_num_access': False, 'include_nmne': True, 'routers': [{'hostname': 'router_1'}], 'num_ports': 0, 'ip_list': ['192.168.1.10', '192.168.1.12', '192.168.1.14', '192.168.1.16', '192.168.1.110', '192.168.10.21', '192.168.10.22', '192.168.10.110'], 'wildcard_list': ['0.0.0.1'], 'port_list': [80, 5432], 'protocol_list': ['ICMP', 'TCP', 'UDP'], 'num_rules': 10}}, {'type': 'LINKS', 'label': 'LINKS', 'options': {'link_references': ['router_1:eth-1<->switch_1:eth-8', 'router_1:eth-2<->switch_2:eth-8', 'switch_1:eth-1<->domain_controller:eth-1', 'switch_1:eth-2<->web_server:eth-1', 'switch_1:eth-3<->database_server:eth-1', 'switch_1:eth-4<->backup_server:eth-1', 'switch_1:eth-7<->security_suite:eth-1', 'switch_2:eth-1<->client_1:eth-1', 'switch_2:eth-2<->client_2:eth-1', 'switch_2:eth-7<->security_suite:eth-2']}}, {'type': 'NONE', 'label': 'ICS', 'options': {}}]}}\n"
     ]
    },
    {
     "name": "stderr",
     "output_type": "stream",
     "text": [
      "2024-04-08 14:53:04,974: Resetting environment, episode 134, avg. reward: -18.0\n",
      "2024-04-08 14:53:04,977: Saving agent action log to C:\\Users\\CharlieCrane\\primaite\\3.0.0b7\\sessions\\2024-04-08\\14-49-25\\agent_actions\\episode_134.json\n"
     ]
    },
    {
     "name": "stdout",
     "output_type": "stream",
     "text": [
      "{'type': 'CUSTOM', 'options': {'components': [{'type': 'NODES', 'label': 'NODES', 'options': {'hosts': [{'hostname': 'domain_controller'}, {'hostname': 'web_server', 'services': [{'service_name': 'WebServer'}]}, {'hostname': 'database_server', 'folders': [{'folder_name': 'database', 'files': [{'file_name': 'database.db'}]}]}, {'hostname': 'backup_server'}, {'hostname': 'security_suite'}, {'hostname': 'client_1'}, {'hostname': 'client_2'}], 'num_services': 1, 'num_applications': 0, 'num_folders': 1, 'num_files': 1, 'num_nics': 2, 'include_num_access': False, 'include_nmne': True, 'routers': [{'hostname': 'router_1'}], 'num_ports': 0, 'ip_list': ['192.168.1.10', '192.168.1.12', '192.168.1.14', '192.168.1.16', '192.168.1.110', '192.168.10.21', '192.168.10.22', '192.168.10.110'], 'wildcard_list': ['0.0.0.1'], 'port_list': [80, 5432], 'protocol_list': ['ICMP', 'TCP', 'UDP'], 'num_rules': 10}}, {'type': 'LINKS', 'label': 'LINKS', 'options': {'link_references': ['router_1:eth-1<->switch_1:eth-8', 'router_1:eth-2<->switch_2:eth-8', 'switch_1:eth-1<->domain_controller:eth-1', 'switch_1:eth-2<->web_server:eth-1', 'switch_1:eth-3<->database_server:eth-1', 'switch_1:eth-4<->backup_server:eth-1', 'switch_1:eth-7<->security_suite:eth-1', 'switch_2:eth-1<->client_1:eth-1', 'switch_2:eth-2<->client_2:eth-1', 'switch_2:eth-7<->security_suite:eth-2']}}, {'type': 'NONE', 'label': 'ICS', 'options': {}}]}}\n"
     ]
    },
    {
     "name": "stderr",
     "output_type": "stream",
     "text": [
      "2024-04-08 14:53:06,363: Resetting environment, episode 135, avg. reward: -84.0\n",
      "2024-04-08 14:53:06,367: Saving agent action log to C:\\Users\\CharlieCrane\\primaite\\3.0.0b7\\sessions\\2024-04-08\\14-49-25\\agent_actions\\episode_135.json\n"
     ]
    },
    {
     "name": "stdout",
     "output_type": "stream",
     "text": [
      "{'type': 'CUSTOM', 'options': {'components': [{'type': 'NODES', 'label': 'NODES', 'options': {'hosts': [{'hostname': 'domain_controller'}, {'hostname': 'web_server', 'services': [{'service_name': 'WebServer'}]}, {'hostname': 'database_server', 'folders': [{'folder_name': 'database', 'files': [{'file_name': 'database.db'}]}]}, {'hostname': 'backup_server'}, {'hostname': 'security_suite'}, {'hostname': 'client_1'}, {'hostname': 'client_2'}], 'num_services': 1, 'num_applications': 0, 'num_folders': 1, 'num_files': 1, 'num_nics': 2, 'include_num_access': False, 'include_nmne': True, 'routers': [{'hostname': 'router_1'}], 'num_ports': 0, 'ip_list': ['192.168.1.10', '192.168.1.12', '192.168.1.14', '192.168.1.16', '192.168.1.110', '192.168.10.21', '192.168.10.22', '192.168.10.110'], 'wildcard_list': ['0.0.0.1'], 'port_list': [80, 5432], 'protocol_list': ['ICMP', 'TCP', 'UDP'], 'num_rules': 10}}, {'type': 'LINKS', 'label': 'LINKS', 'options': {'link_references': ['router_1:eth-1<->switch_1:eth-8', 'router_1:eth-2<->switch_2:eth-8', 'switch_1:eth-1<->domain_controller:eth-1', 'switch_1:eth-2<->web_server:eth-1', 'switch_1:eth-3<->database_server:eth-1', 'switch_1:eth-4<->backup_server:eth-1', 'switch_1:eth-7<->security_suite:eth-1', 'switch_2:eth-1<->client_1:eth-1', 'switch_2:eth-2<->client_2:eth-1', 'switch_2:eth-7<->security_suite:eth-2']}}, {'type': 'NONE', 'label': 'ICS', 'options': {}}]}}\n"
     ]
    },
    {
     "name": "stderr",
     "output_type": "stream",
     "text": [
      "2024-04-08 14:53:07,884: Resetting environment, episode 136, avg. reward: -20.949999999999964\n",
      "2024-04-08 14:53:07,886: Saving agent action log to C:\\Users\\CharlieCrane\\primaite\\3.0.0b7\\sessions\\2024-04-08\\14-49-25\\agent_actions\\episode_136.json\n"
     ]
    },
    {
     "name": "stdout",
     "output_type": "stream",
     "text": [
      "{'type': 'CUSTOM', 'options': {'components': [{'type': 'NODES', 'label': 'NODES', 'options': {'hosts': [{'hostname': 'domain_controller'}, {'hostname': 'web_server', 'services': [{'service_name': 'WebServer'}]}, {'hostname': 'database_server', 'folders': [{'folder_name': 'database', 'files': [{'file_name': 'database.db'}]}]}, {'hostname': 'backup_server'}, {'hostname': 'security_suite'}, {'hostname': 'client_1'}, {'hostname': 'client_2'}], 'num_services': 1, 'num_applications': 0, 'num_folders': 1, 'num_files': 1, 'num_nics': 2, 'include_num_access': False, 'include_nmne': True, 'routers': [{'hostname': 'router_1'}], 'num_ports': 0, 'ip_list': ['192.168.1.10', '192.168.1.12', '192.168.1.14', '192.168.1.16', '192.168.1.110', '192.168.10.21', '192.168.10.22', '192.168.10.110'], 'wildcard_list': ['0.0.0.1'], 'port_list': [80, 5432], 'protocol_list': ['ICMP', 'TCP', 'UDP'], 'num_rules': 10}}, {'type': 'LINKS', 'label': 'LINKS', 'options': {'link_references': ['router_1:eth-1<->switch_1:eth-8', 'router_1:eth-2<->switch_2:eth-8', 'switch_1:eth-1<->domain_controller:eth-1', 'switch_1:eth-2<->web_server:eth-1', 'switch_1:eth-3<->database_server:eth-1', 'switch_1:eth-4<->backup_server:eth-1', 'switch_1:eth-7<->security_suite:eth-1', 'switch_2:eth-1<->client_1:eth-1', 'switch_2:eth-2<->client_2:eth-1', 'switch_2:eth-7<->security_suite:eth-2']}}, {'type': 'NONE', 'label': 'ICS', 'options': {}}]}}\n"
     ]
    },
    {
     "name": "stderr",
     "output_type": "stream",
     "text": [
      "2024-04-08 14:53:09,146: Resetting environment, episode 137, avg. reward: -13.749999999999984\n",
      "2024-04-08 14:53:09,149: Saving agent action log to C:\\Users\\CharlieCrane\\primaite\\3.0.0b7\\sessions\\2024-04-08\\14-49-25\\agent_actions\\episode_137.json\n"
     ]
    },
    {
     "name": "stdout",
     "output_type": "stream",
     "text": [
      "{'type': 'CUSTOM', 'options': {'components': [{'type': 'NODES', 'label': 'NODES', 'options': {'hosts': [{'hostname': 'domain_controller'}, {'hostname': 'web_server', 'services': [{'service_name': 'WebServer'}]}, {'hostname': 'database_server', 'folders': [{'folder_name': 'database', 'files': [{'file_name': 'database.db'}]}]}, {'hostname': 'backup_server'}, {'hostname': 'security_suite'}, {'hostname': 'client_1'}, {'hostname': 'client_2'}], 'num_services': 1, 'num_applications': 0, 'num_folders': 1, 'num_files': 1, 'num_nics': 2, 'include_num_access': False, 'include_nmne': True, 'routers': [{'hostname': 'router_1'}], 'num_ports': 0, 'ip_list': ['192.168.1.10', '192.168.1.12', '192.168.1.14', '192.168.1.16', '192.168.1.110', '192.168.10.21', '192.168.10.22', '192.168.10.110'], 'wildcard_list': ['0.0.0.1'], 'port_list': [80, 5432], 'protocol_list': ['ICMP', 'TCP', 'UDP'], 'num_rules': 10}}, {'type': 'LINKS', 'label': 'LINKS', 'options': {'link_references': ['router_1:eth-1<->switch_1:eth-8', 'router_1:eth-2<->switch_2:eth-8', 'switch_1:eth-1<->domain_controller:eth-1', 'switch_1:eth-2<->web_server:eth-1', 'switch_1:eth-3<->database_server:eth-1', 'switch_1:eth-4<->backup_server:eth-1', 'switch_1:eth-7<->security_suite:eth-1', 'switch_2:eth-1<->client_1:eth-1', 'switch_2:eth-2<->client_2:eth-1', 'switch_2:eth-7<->security_suite:eth-2']}}, {'type': 'NONE', 'label': 'ICS', 'options': {}}]}}\n"
     ]
    },
    {
     "name": "stderr",
     "output_type": "stream",
     "text": [
      "2024-04-08 14:53:10,482: Resetting environment, episode 138, avg. reward: -15.299999999999976\n",
      "2024-04-08 14:53:10,484: Saving agent action log to C:\\Users\\CharlieCrane\\primaite\\3.0.0b7\\sessions\\2024-04-08\\14-49-25\\agent_actions\\episode_138.json\n"
     ]
    },
    {
     "name": "stdout",
     "output_type": "stream",
     "text": [
      "{'type': 'CUSTOM', 'options': {'components': [{'type': 'NODES', 'label': 'NODES', 'options': {'hosts': [{'hostname': 'domain_controller'}, {'hostname': 'web_server', 'services': [{'service_name': 'WebServer'}]}, {'hostname': 'database_server', 'folders': [{'folder_name': 'database', 'files': [{'file_name': 'database.db'}]}]}, {'hostname': 'backup_server'}, {'hostname': 'security_suite'}, {'hostname': 'client_1'}, {'hostname': 'client_2'}], 'num_services': 1, 'num_applications': 0, 'num_folders': 1, 'num_files': 1, 'num_nics': 2, 'include_num_access': False, 'include_nmne': True, 'routers': [{'hostname': 'router_1'}], 'num_ports': 0, 'ip_list': ['192.168.1.10', '192.168.1.12', '192.168.1.14', '192.168.1.16', '192.168.1.110', '192.168.10.21', '192.168.10.22', '192.168.10.110'], 'wildcard_list': ['0.0.0.1'], 'port_list': [80, 5432], 'protocol_list': ['ICMP', 'TCP', 'UDP'], 'num_rules': 10}}, {'type': 'LINKS', 'label': 'LINKS', 'options': {'link_references': ['router_1:eth-1<->switch_1:eth-8', 'router_1:eth-2<->switch_2:eth-8', 'switch_1:eth-1<->domain_controller:eth-1', 'switch_1:eth-2<->web_server:eth-1', 'switch_1:eth-3<->database_server:eth-1', 'switch_1:eth-4<->backup_server:eth-1', 'switch_1:eth-7<->security_suite:eth-1', 'switch_2:eth-1<->client_1:eth-1', 'switch_2:eth-2<->client_2:eth-1', 'switch_2:eth-7<->security_suite:eth-2']}}, {'type': 'NONE', 'label': 'ICS', 'options': {}}]}}\n"
     ]
    },
    {
     "name": "stderr",
     "output_type": "stream",
     "text": [
      "2024-04-08 14:53:11,761: Resetting environment, episode 139, avg. reward: -87.34999999999994\n",
      "2024-04-08 14:53:11,764: Saving agent action log to C:\\Users\\CharlieCrane\\primaite\\3.0.0b7\\sessions\\2024-04-08\\14-49-25\\agent_actions\\episode_139.json\n"
     ]
    },
    {
     "name": "stdout",
     "output_type": "stream",
     "text": [
      "{'type': 'CUSTOM', 'options': {'components': [{'type': 'NODES', 'label': 'NODES', 'options': {'hosts': [{'hostname': 'domain_controller'}, {'hostname': 'web_server', 'services': [{'service_name': 'WebServer'}]}, {'hostname': 'database_server', 'folders': [{'folder_name': 'database', 'files': [{'file_name': 'database.db'}]}]}, {'hostname': 'backup_server'}, {'hostname': 'security_suite'}, {'hostname': 'client_1'}, {'hostname': 'client_2'}], 'num_services': 1, 'num_applications': 0, 'num_folders': 1, 'num_files': 1, 'num_nics': 2, 'include_num_access': False, 'include_nmne': True, 'routers': [{'hostname': 'router_1'}], 'num_ports': 0, 'ip_list': ['192.168.1.10', '192.168.1.12', '192.168.1.14', '192.168.1.16', '192.168.1.110', '192.168.10.21', '192.168.10.22', '192.168.10.110'], 'wildcard_list': ['0.0.0.1'], 'port_list': [80, 5432], 'protocol_list': ['ICMP', 'TCP', 'UDP'], 'num_rules': 10}}, {'type': 'LINKS', 'label': 'LINKS', 'options': {'link_references': ['router_1:eth-1<->switch_1:eth-8', 'router_1:eth-2<->switch_2:eth-8', 'switch_1:eth-1<->domain_controller:eth-1', 'switch_1:eth-2<->web_server:eth-1', 'switch_1:eth-3<->database_server:eth-1', 'switch_1:eth-4<->backup_server:eth-1', 'switch_1:eth-7<->security_suite:eth-1', 'switch_2:eth-1<->client_1:eth-1', 'switch_2:eth-2<->client_2:eth-1', 'switch_2:eth-7<->security_suite:eth-2']}}, {'type': 'NONE', 'label': 'ICS', 'options': {}}]}}\n"
     ]
    },
    {
     "name": "stderr",
     "output_type": "stream",
     "text": [
      "2024-04-08 14:53:13,069: Resetting environment, episode 140, avg. reward: -13.249999999999986\n",
      "2024-04-08 14:53:13,072: Saving agent action log to C:\\Users\\CharlieCrane\\primaite\\3.0.0b7\\sessions\\2024-04-08\\14-49-25\\agent_actions\\episode_140.json\n"
     ]
    },
    {
     "name": "stdout",
     "output_type": "stream",
     "text": [
      "{'type': 'CUSTOM', 'options': {'components': [{'type': 'NODES', 'label': 'NODES', 'options': {'hosts': [{'hostname': 'domain_controller'}, {'hostname': 'web_server', 'services': [{'service_name': 'WebServer'}]}, {'hostname': 'database_server', 'folders': [{'folder_name': 'database', 'files': [{'file_name': 'database.db'}]}]}, {'hostname': 'backup_server'}, {'hostname': 'security_suite'}, {'hostname': 'client_1'}, {'hostname': 'client_2'}], 'num_services': 1, 'num_applications': 0, 'num_folders': 1, 'num_files': 1, 'num_nics': 2, 'include_num_access': False, 'include_nmne': True, 'routers': [{'hostname': 'router_1'}], 'num_ports': 0, 'ip_list': ['192.168.1.10', '192.168.1.12', '192.168.1.14', '192.168.1.16', '192.168.1.110', '192.168.10.21', '192.168.10.22', '192.168.10.110'], 'wildcard_list': ['0.0.0.1'], 'port_list': [80, 5432], 'protocol_list': ['ICMP', 'TCP', 'UDP'], 'num_rules': 10}}, {'type': 'LINKS', 'label': 'LINKS', 'options': {'link_references': ['router_1:eth-1<->switch_1:eth-8', 'router_1:eth-2<->switch_2:eth-8', 'switch_1:eth-1<->domain_controller:eth-1', 'switch_1:eth-2<->web_server:eth-1', 'switch_1:eth-3<->database_server:eth-1', 'switch_1:eth-4<->backup_server:eth-1', 'switch_1:eth-7<->security_suite:eth-1', 'switch_2:eth-1<->client_1:eth-1', 'switch_2:eth-2<->client_2:eth-1', 'switch_2:eth-7<->security_suite:eth-2']}}, {'type': 'NONE', 'label': 'ICS', 'options': {}}]}}\n"
     ]
    },
    {
     "name": "stderr",
     "output_type": "stream",
     "text": [
      "2024-04-08 14:53:14,623: Resetting environment, episode 141, avg. reward: -22.499999999999968\n",
      "2024-04-08 14:53:14,626: Saving agent action log to C:\\Users\\CharlieCrane\\primaite\\3.0.0b7\\sessions\\2024-04-08\\14-49-25\\agent_actions\\episode_141.json\n"
     ]
    },
    {
     "name": "stdout",
     "output_type": "stream",
     "text": [
      "{'type': 'CUSTOM', 'options': {'components': [{'type': 'NODES', 'label': 'NODES', 'options': {'hosts': [{'hostname': 'domain_controller'}, {'hostname': 'web_server', 'services': [{'service_name': 'WebServer'}]}, {'hostname': 'database_server', 'folders': [{'folder_name': 'database', 'files': [{'file_name': 'database.db'}]}]}, {'hostname': 'backup_server'}, {'hostname': 'security_suite'}, {'hostname': 'client_1'}, {'hostname': 'client_2'}], 'num_services': 1, 'num_applications': 0, 'num_folders': 1, 'num_files': 1, 'num_nics': 2, 'include_num_access': False, 'include_nmne': True, 'routers': [{'hostname': 'router_1'}], 'num_ports': 0, 'ip_list': ['192.168.1.10', '192.168.1.12', '192.168.1.14', '192.168.1.16', '192.168.1.110', '192.168.10.21', '192.168.10.22', '192.168.10.110'], 'wildcard_list': ['0.0.0.1'], 'port_list': [80, 5432], 'protocol_list': ['ICMP', 'TCP', 'UDP'], 'num_rules': 10}}, {'type': 'LINKS', 'label': 'LINKS', 'options': {'link_references': ['router_1:eth-1<->switch_1:eth-8', 'router_1:eth-2<->switch_2:eth-8', 'switch_1:eth-1<->domain_controller:eth-1', 'switch_1:eth-2<->web_server:eth-1', 'switch_1:eth-3<->database_server:eth-1', 'switch_1:eth-4<->backup_server:eth-1', 'switch_1:eth-7<->security_suite:eth-1', 'switch_2:eth-1<->client_1:eth-1', 'switch_2:eth-2<->client_2:eth-1', 'switch_2:eth-7<->security_suite:eth-2']}}, {'type': 'NONE', 'label': 'ICS', 'options': {}}]}}\n"
     ]
    },
    {
     "name": "stderr",
     "output_type": "stream",
     "text": [
      "2024-04-08 14:53:16,023: Resetting environment, episode 142, avg. reward: -42.25\n",
      "2024-04-08 14:53:16,026: Saving agent action log to C:\\Users\\CharlieCrane\\primaite\\3.0.0b7\\sessions\\2024-04-08\\14-49-25\\agent_actions\\episode_142.json\n"
     ]
    },
    {
     "name": "stdout",
     "output_type": "stream",
     "text": [
      "{'type': 'CUSTOM', 'options': {'components': [{'type': 'NODES', 'label': 'NODES', 'options': {'hosts': [{'hostname': 'domain_controller'}, {'hostname': 'web_server', 'services': [{'service_name': 'WebServer'}]}, {'hostname': 'database_server', 'folders': [{'folder_name': 'database', 'files': [{'file_name': 'database.db'}]}]}, {'hostname': 'backup_server'}, {'hostname': 'security_suite'}, {'hostname': 'client_1'}, {'hostname': 'client_2'}], 'num_services': 1, 'num_applications': 0, 'num_folders': 1, 'num_files': 1, 'num_nics': 2, 'include_num_access': False, 'include_nmne': True, 'routers': [{'hostname': 'router_1'}], 'num_ports': 0, 'ip_list': ['192.168.1.10', '192.168.1.12', '192.168.1.14', '192.168.1.16', '192.168.1.110', '192.168.10.21', '192.168.10.22', '192.168.10.110'], 'wildcard_list': ['0.0.0.1'], 'port_list': [80, 5432], 'protocol_list': ['ICMP', 'TCP', 'UDP'], 'num_rules': 10}}, {'type': 'LINKS', 'label': 'LINKS', 'options': {'link_references': ['router_1:eth-1<->switch_1:eth-8', 'router_1:eth-2<->switch_2:eth-8', 'switch_1:eth-1<->domain_controller:eth-1', 'switch_1:eth-2<->web_server:eth-1', 'switch_1:eth-3<->database_server:eth-1', 'switch_1:eth-4<->backup_server:eth-1', 'switch_1:eth-7<->security_suite:eth-1', 'switch_2:eth-1<->client_1:eth-1', 'switch_2:eth-2<->client_2:eth-1', 'switch_2:eth-7<->security_suite:eth-2']}}, {'type': 'NONE', 'label': 'ICS', 'options': {}}]}}\n"
     ]
    },
    {
     "name": "stderr",
     "output_type": "stream",
     "text": [
      "2024-04-08 14:53:17,572: Resetting environment, episode 143, avg. reward: -16.35000000000001\n",
      "2024-04-08 14:53:17,575: Saving agent action log to C:\\Users\\CharlieCrane\\primaite\\3.0.0b7\\sessions\\2024-04-08\\14-49-25\\agent_actions\\episode_143.json\n"
     ]
    },
    {
     "name": "stdout",
     "output_type": "stream",
     "text": [
      "{'type': 'CUSTOM', 'options': {'components': [{'type': 'NODES', 'label': 'NODES', 'options': {'hosts': [{'hostname': 'domain_controller'}, {'hostname': 'web_server', 'services': [{'service_name': 'WebServer'}]}, {'hostname': 'database_server', 'folders': [{'folder_name': 'database', 'files': [{'file_name': 'database.db'}]}]}, {'hostname': 'backup_server'}, {'hostname': 'security_suite'}, {'hostname': 'client_1'}, {'hostname': 'client_2'}], 'num_services': 1, 'num_applications': 0, 'num_folders': 1, 'num_files': 1, 'num_nics': 2, 'include_num_access': False, 'include_nmne': True, 'routers': [{'hostname': 'router_1'}], 'num_ports': 0, 'ip_list': ['192.168.1.10', '192.168.1.12', '192.168.1.14', '192.168.1.16', '192.168.1.110', '192.168.10.21', '192.168.10.22', '192.168.10.110'], 'wildcard_list': ['0.0.0.1'], 'port_list': [80, 5432], 'protocol_list': ['ICMP', 'TCP', 'UDP'], 'num_rules': 10}}, {'type': 'LINKS', 'label': 'LINKS', 'options': {'link_references': ['router_1:eth-1<->switch_1:eth-8', 'router_1:eth-2<->switch_2:eth-8', 'switch_1:eth-1<->domain_controller:eth-1', 'switch_1:eth-2<->web_server:eth-1', 'switch_1:eth-3<->database_server:eth-1', 'switch_1:eth-4<->backup_server:eth-1', 'switch_1:eth-7<->security_suite:eth-1', 'switch_2:eth-1<->client_1:eth-1', 'switch_2:eth-2<->client_2:eth-1', 'switch_2:eth-7<->security_suite:eth-2']}}, {'type': 'NONE', 'label': 'ICS', 'options': {}}]}}\n"
     ]
    },
    {
     "name": "stderr",
     "output_type": "stream",
     "text": [
      "2024-04-08 14:53:18,887: Resetting environment, episode 144, avg. reward: -80.9\n",
      "2024-04-08 14:53:18,891: Saving agent action log to C:\\Users\\CharlieCrane\\primaite\\3.0.0b7\\sessions\\2024-04-08\\14-49-25\\agent_actions\\episode_144.json\n"
     ]
    },
    {
     "name": "stdout",
     "output_type": "stream",
     "text": [
      "{'type': 'CUSTOM', 'options': {'components': [{'type': 'NODES', 'label': 'NODES', 'options': {'hosts': [{'hostname': 'domain_controller'}, {'hostname': 'web_server', 'services': [{'service_name': 'WebServer'}]}, {'hostname': 'database_server', 'folders': [{'folder_name': 'database', 'files': [{'file_name': 'database.db'}]}]}, {'hostname': 'backup_server'}, {'hostname': 'security_suite'}, {'hostname': 'client_1'}, {'hostname': 'client_2'}], 'num_services': 1, 'num_applications': 0, 'num_folders': 1, 'num_files': 1, 'num_nics': 2, 'include_num_access': False, 'include_nmne': True, 'routers': [{'hostname': 'router_1'}], 'num_ports': 0, 'ip_list': ['192.168.1.10', '192.168.1.12', '192.168.1.14', '192.168.1.16', '192.168.1.110', '192.168.10.21', '192.168.10.22', '192.168.10.110'], 'wildcard_list': ['0.0.0.1'], 'port_list': [80, 5432], 'protocol_list': ['ICMP', 'TCP', 'UDP'], 'num_rules': 10}}, {'type': 'LINKS', 'label': 'LINKS', 'options': {'link_references': ['router_1:eth-1<->switch_1:eth-8', 'router_1:eth-2<->switch_2:eth-8', 'switch_1:eth-1<->domain_controller:eth-1', 'switch_1:eth-2<->web_server:eth-1', 'switch_1:eth-3<->database_server:eth-1', 'switch_1:eth-4<->backup_server:eth-1', 'switch_1:eth-7<->security_suite:eth-1', 'switch_2:eth-1<->client_1:eth-1', 'switch_2:eth-2<->client_2:eth-1', 'switch_2:eth-7<->security_suite:eth-2']}}, {'type': 'NONE', 'label': 'ICS', 'options': {}}]}}\n"
     ]
    },
    {
     "name": "stderr",
     "output_type": "stream",
     "text": [
      "2024-04-08 14:53:20,236: Resetting environment, episode 145, avg. reward: -15.299999999999974\n",
      "2024-04-08 14:53:20,239: Saving agent action log to C:\\Users\\CharlieCrane\\primaite\\3.0.0b7\\sessions\\2024-04-08\\14-49-25\\agent_actions\\episode_145.json\n"
     ]
    },
    {
     "name": "stdout",
     "output_type": "stream",
     "text": [
      "{'type': 'CUSTOM', 'options': {'components': [{'type': 'NODES', 'label': 'NODES', 'options': {'hosts': [{'hostname': 'domain_controller'}, {'hostname': 'web_server', 'services': [{'service_name': 'WebServer'}]}, {'hostname': 'database_server', 'folders': [{'folder_name': 'database', 'files': [{'file_name': 'database.db'}]}]}, {'hostname': 'backup_server'}, {'hostname': 'security_suite'}, {'hostname': 'client_1'}, {'hostname': 'client_2'}], 'num_services': 1, 'num_applications': 0, 'num_folders': 1, 'num_files': 1, 'num_nics': 2, 'include_num_access': False, 'include_nmne': True, 'routers': [{'hostname': 'router_1'}], 'num_ports': 0, 'ip_list': ['192.168.1.10', '192.168.1.12', '192.168.1.14', '192.168.1.16', '192.168.1.110', '192.168.10.21', '192.168.10.22', '192.168.10.110'], 'wildcard_list': ['0.0.0.1'], 'port_list': [80, 5432], 'protocol_list': ['ICMP', 'TCP', 'UDP'], 'num_rules': 10}}, {'type': 'LINKS', 'label': 'LINKS', 'options': {'link_references': ['router_1:eth-1<->switch_1:eth-8', 'router_1:eth-2<->switch_2:eth-8', 'switch_1:eth-1<->domain_controller:eth-1', 'switch_1:eth-2<->web_server:eth-1', 'switch_1:eth-3<->database_server:eth-1', 'switch_1:eth-4<->backup_server:eth-1', 'switch_1:eth-7<->security_suite:eth-1', 'switch_2:eth-1<->client_1:eth-1', 'switch_2:eth-2<->client_2:eth-1', 'switch_2:eth-7<->security_suite:eth-2']}}, {'type': 'NONE', 'label': 'ICS', 'options': {}}]}}\n"
     ]
    },
    {
     "name": "stderr",
     "output_type": "stream",
     "text": [
      "2024-04-08 14:53:21,625: Resetting environment, episode 146, avg. reward: -21.799999999999955\n",
      "2024-04-08 14:53:21,628: Saving agent action log to C:\\Users\\CharlieCrane\\primaite\\3.0.0b7\\sessions\\2024-04-08\\14-49-25\\agent_actions\\episode_146.json\n"
     ]
    },
    {
     "name": "stdout",
     "output_type": "stream",
     "text": [
      "{'type': 'CUSTOM', 'options': {'components': [{'type': 'NODES', 'label': 'NODES', 'options': {'hosts': [{'hostname': 'domain_controller'}, {'hostname': 'web_server', 'services': [{'service_name': 'WebServer'}]}, {'hostname': 'database_server', 'folders': [{'folder_name': 'database', 'files': [{'file_name': 'database.db'}]}]}, {'hostname': 'backup_server'}, {'hostname': 'security_suite'}, {'hostname': 'client_1'}, {'hostname': 'client_2'}], 'num_services': 1, 'num_applications': 0, 'num_folders': 1, 'num_files': 1, 'num_nics': 2, 'include_num_access': False, 'include_nmne': True, 'routers': [{'hostname': 'router_1'}], 'num_ports': 0, 'ip_list': ['192.168.1.10', '192.168.1.12', '192.168.1.14', '192.168.1.16', '192.168.1.110', '192.168.10.21', '192.168.10.22', '192.168.10.110'], 'wildcard_list': ['0.0.0.1'], 'port_list': [80, 5432], 'protocol_list': ['ICMP', 'TCP', 'UDP'], 'num_rules': 10}}, {'type': 'LINKS', 'label': 'LINKS', 'options': {'link_references': ['router_1:eth-1<->switch_1:eth-8', 'router_1:eth-2<->switch_2:eth-8', 'switch_1:eth-1<->domain_controller:eth-1', 'switch_1:eth-2<->web_server:eth-1', 'switch_1:eth-3<->database_server:eth-1', 'switch_1:eth-4<->backup_server:eth-1', 'switch_1:eth-7<->security_suite:eth-1', 'switch_2:eth-1<->client_1:eth-1', 'switch_2:eth-2<->client_2:eth-1', 'switch_2:eth-7<->security_suite:eth-2']}}, {'type': 'NONE', 'label': 'ICS', 'options': {}}]}}\n"
     ]
    },
    {
     "name": "stderr",
     "output_type": "stream",
     "text": [
      "2024-04-08 14:53:23,799: Resetting environment, episode 147, avg. reward: -13.599999999999998\n",
      "2024-04-08 14:53:23,802: Saving agent action log to C:\\Users\\CharlieCrane\\primaite\\3.0.0b7\\sessions\\2024-04-08\\14-49-25\\agent_actions\\episode_147.json\n"
     ]
    },
    {
     "name": "stdout",
     "output_type": "stream",
     "text": [
      "{'type': 'CUSTOM', 'options': {'components': [{'type': 'NODES', 'label': 'NODES', 'options': {'hosts': [{'hostname': 'domain_controller'}, {'hostname': 'web_server', 'services': [{'service_name': 'WebServer'}]}, {'hostname': 'database_server', 'folders': [{'folder_name': 'database', 'files': [{'file_name': 'database.db'}]}]}, {'hostname': 'backup_server'}, {'hostname': 'security_suite'}, {'hostname': 'client_1'}, {'hostname': 'client_2'}], 'num_services': 1, 'num_applications': 0, 'num_folders': 1, 'num_files': 1, 'num_nics': 2, 'include_num_access': False, 'include_nmne': True, 'routers': [{'hostname': 'router_1'}], 'num_ports': 0, 'ip_list': ['192.168.1.10', '192.168.1.12', '192.168.1.14', '192.168.1.16', '192.168.1.110', '192.168.10.21', '192.168.10.22', '192.168.10.110'], 'wildcard_list': ['0.0.0.1'], 'port_list': [80, 5432], 'protocol_list': ['ICMP', 'TCP', 'UDP'], 'num_rules': 10}}, {'type': 'LINKS', 'label': 'LINKS', 'options': {'link_references': ['router_1:eth-1<->switch_1:eth-8', 'router_1:eth-2<->switch_2:eth-8', 'switch_1:eth-1<->domain_controller:eth-1', 'switch_1:eth-2<->web_server:eth-1', 'switch_1:eth-3<->database_server:eth-1', 'switch_1:eth-4<->backup_server:eth-1', 'switch_1:eth-7<->security_suite:eth-1', 'switch_2:eth-1<->client_1:eth-1', 'switch_2:eth-2<->client_2:eth-1', 'switch_2:eth-7<->security_suite:eth-2']}}, {'type': 'NONE', 'label': 'ICS', 'options': {}}]}}\n"
     ]
    },
    {
     "name": "stderr",
     "output_type": "stream",
     "text": [
      "2024-04-08 14:53:25,308: Resetting environment, episode 148, avg. reward: -99.1\n",
      "2024-04-08 14:53:25,310: Saving agent action log to C:\\Users\\CharlieCrane\\primaite\\3.0.0b7\\sessions\\2024-04-08\\14-49-25\\agent_actions\\episode_148.json\n"
     ]
    },
    {
     "name": "stdout",
     "output_type": "stream",
     "text": [
      "{'type': 'CUSTOM', 'options': {'components': [{'type': 'NODES', 'label': 'NODES', 'options': {'hosts': [{'hostname': 'domain_controller'}, {'hostname': 'web_server', 'services': [{'service_name': 'WebServer'}]}, {'hostname': 'database_server', 'folders': [{'folder_name': 'database', 'files': [{'file_name': 'database.db'}]}]}, {'hostname': 'backup_server'}, {'hostname': 'security_suite'}, {'hostname': 'client_1'}, {'hostname': 'client_2'}], 'num_services': 1, 'num_applications': 0, 'num_folders': 1, 'num_files': 1, 'num_nics': 2, 'include_num_access': False, 'include_nmne': True, 'routers': [{'hostname': 'router_1'}], 'num_ports': 0, 'ip_list': ['192.168.1.10', '192.168.1.12', '192.168.1.14', '192.168.1.16', '192.168.1.110', '192.168.10.21', '192.168.10.22', '192.168.10.110'], 'wildcard_list': ['0.0.0.1'], 'port_list': [80, 5432], 'protocol_list': ['ICMP', 'TCP', 'UDP'], 'num_rules': 10}}, {'type': 'LINKS', 'label': 'LINKS', 'options': {'link_references': ['router_1:eth-1<->switch_1:eth-8', 'router_1:eth-2<->switch_2:eth-8', 'switch_1:eth-1<->domain_controller:eth-1', 'switch_1:eth-2<->web_server:eth-1', 'switch_1:eth-3<->database_server:eth-1', 'switch_1:eth-4<->backup_server:eth-1', 'switch_1:eth-7<->security_suite:eth-1', 'switch_2:eth-1<->client_1:eth-1', 'switch_2:eth-2<->client_2:eth-1', 'switch_2:eth-7<->security_suite:eth-2']}}, {'type': 'NONE', 'label': 'ICS', 'options': {}}]}}\n"
     ]
    },
    {
     "name": "stderr",
     "output_type": "stream",
     "text": [
      "2024-04-08 14:53:27,254: Resetting environment, episode 149, avg. reward: -16.74999999999997\n",
      "2024-04-08 14:53:27,259: Saving agent action log to C:\\Users\\CharlieCrane\\primaite\\3.0.0b7\\sessions\\2024-04-08\\14-49-25\\agent_actions\\episode_149.json\n"
     ]
    },
    {
     "name": "stdout",
     "output_type": "stream",
     "text": [
      "{'type': 'CUSTOM', 'options': {'components': [{'type': 'NODES', 'label': 'NODES', 'options': {'hosts': [{'hostname': 'domain_controller'}, {'hostname': 'web_server', 'services': [{'service_name': 'WebServer'}]}, {'hostname': 'database_server', 'folders': [{'folder_name': 'database', 'files': [{'file_name': 'database.db'}]}]}, {'hostname': 'backup_server'}, {'hostname': 'security_suite'}, {'hostname': 'client_1'}, {'hostname': 'client_2'}], 'num_services': 1, 'num_applications': 0, 'num_folders': 1, 'num_files': 1, 'num_nics': 2, 'include_num_access': False, 'include_nmne': True, 'routers': [{'hostname': 'router_1'}], 'num_ports': 0, 'ip_list': ['192.168.1.10', '192.168.1.12', '192.168.1.14', '192.168.1.16', '192.168.1.110', '192.168.10.21', '192.168.10.22', '192.168.10.110'], 'wildcard_list': ['0.0.0.1'], 'port_list': [80, 5432], 'protocol_list': ['ICMP', 'TCP', 'UDP'], 'num_rules': 10}}, {'type': 'LINKS', 'label': 'LINKS', 'options': {'link_references': ['router_1:eth-1<->switch_1:eth-8', 'router_1:eth-2<->switch_2:eth-8', 'switch_1:eth-1<->domain_controller:eth-1', 'switch_1:eth-2<->web_server:eth-1', 'switch_1:eth-3<->database_server:eth-1', 'switch_1:eth-4<->backup_server:eth-1', 'switch_1:eth-7<->security_suite:eth-1', 'switch_2:eth-1<->client_1:eth-1', 'switch_2:eth-2<->client_2:eth-1', 'switch_2:eth-7<->security_suite:eth-2']}}, {'type': 'NONE', 'label': 'ICS', 'options': {}}]}}\n"
     ]
    },
    {
     "name": "stderr",
     "output_type": "stream",
     "text": [
      "2024-04-08 14:53:29,053: Resetting environment, episode 150, avg. reward: -10.749999999999979\n",
      "2024-04-08 14:53:29,057: Saving agent action log to C:\\Users\\CharlieCrane\\primaite\\3.0.0b7\\sessions\\2024-04-08\\14-49-25\\agent_actions\\episode_150.json\n"
     ]
    },
    {
     "name": "stdout",
     "output_type": "stream",
     "text": [
      "{'type': 'CUSTOM', 'options': {'components': [{'type': 'NODES', 'label': 'NODES', 'options': {'hosts': [{'hostname': 'domain_controller'}, {'hostname': 'web_server', 'services': [{'service_name': 'WebServer'}]}, {'hostname': 'database_server', 'folders': [{'folder_name': 'database', 'files': [{'file_name': 'database.db'}]}]}, {'hostname': 'backup_server'}, {'hostname': 'security_suite'}, {'hostname': 'client_1'}, {'hostname': 'client_2'}], 'num_services': 1, 'num_applications': 0, 'num_folders': 1, 'num_files': 1, 'num_nics': 2, 'include_num_access': False, 'include_nmne': True, 'routers': [{'hostname': 'router_1'}], 'num_ports': 0, 'ip_list': ['192.168.1.10', '192.168.1.12', '192.168.1.14', '192.168.1.16', '192.168.1.110', '192.168.10.21', '192.168.10.22', '192.168.10.110'], 'wildcard_list': ['0.0.0.1'], 'port_list': [80, 5432], 'protocol_list': ['ICMP', 'TCP', 'UDP'], 'num_rules': 10}}, {'type': 'LINKS', 'label': 'LINKS', 'options': {'link_references': ['router_1:eth-1<->switch_1:eth-8', 'router_1:eth-2<->switch_2:eth-8', 'switch_1:eth-1<->domain_controller:eth-1', 'switch_1:eth-2<->web_server:eth-1', 'switch_1:eth-3<->database_server:eth-1', 'switch_1:eth-4<->backup_server:eth-1', 'switch_1:eth-7<->security_suite:eth-1', 'switch_2:eth-1<->client_1:eth-1', 'switch_2:eth-2<->client_2:eth-1', 'switch_2:eth-7<->security_suite:eth-2']}}, {'type': 'NONE', 'label': 'ICS', 'options': {}}]}}\n"
     ]
    },
    {
     "name": "stderr",
     "output_type": "stream",
     "text": [
      "2024-04-08 14:53:30,939: Resetting environment, episode 151, avg. reward: -74.05\n",
      "2024-04-08 14:53:30,942: Saving agent action log to C:\\Users\\CharlieCrane\\primaite\\3.0.0b7\\sessions\\2024-04-08\\14-49-25\\agent_actions\\episode_151.json\n"
     ]
    },
    {
     "name": "stdout",
     "output_type": "stream",
     "text": [
      "{'type': 'CUSTOM', 'options': {'components': [{'type': 'NODES', 'label': 'NODES', 'options': {'hosts': [{'hostname': 'domain_controller'}, {'hostname': 'web_server', 'services': [{'service_name': 'WebServer'}]}, {'hostname': 'database_server', 'folders': [{'folder_name': 'database', 'files': [{'file_name': 'database.db'}]}]}, {'hostname': 'backup_server'}, {'hostname': 'security_suite'}, {'hostname': 'client_1'}, {'hostname': 'client_2'}], 'num_services': 1, 'num_applications': 0, 'num_folders': 1, 'num_files': 1, 'num_nics': 2, 'include_num_access': False, 'include_nmne': True, 'routers': [{'hostname': 'router_1'}], 'num_ports': 0, 'ip_list': ['192.168.1.10', '192.168.1.12', '192.168.1.14', '192.168.1.16', '192.168.1.110', '192.168.10.21', '192.168.10.22', '192.168.10.110'], 'wildcard_list': ['0.0.0.1'], 'port_list': [80, 5432], 'protocol_list': ['ICMP', 'TCP', 'UDP'], 'num_rules': 10}}, {'type': 'LINKS', 'label': 'LINKS', 'options': {'link_references': ['router_1:eth-1<->switch_1:eth-8', 'router_1:eth-2<->switch_2:eth-8', 'switch_1:eth-1<->domain_controller:eth-1', 'switch_1:eth-2<->web_server:eth-1', 'switch_1:eth-3<->database_server:eth-1', 'switch_1:eth-4<->backup_server:eth-1', 'switch_1:eth-7<->security_suite:eth-1', 'switch_2:eth-1<->client_1:eth-1', 'switch_2:eth-2<->client_2:eth-1', 'switch_2:eth-7<->security_suite:eth-2']}}, {'type': 'NONE', 'label': 'ICS', 'options': {}}]}}\n"
     ]
    },
    {
     "name": "stderr",
     "output_type": "stream",
     "text": [
      "2024-04-08 14:53:32,476: Resetting environment, episode 152, avg. reward: -71.6\n",
      "2024-04-08 14:53:32,476: Saving agent action log to C:\\Users\\CharlieCrane\\primaite\\3.0.0b7\\sessions\\2024-04-08\\14-49-25\\agent_actions\\episode_152.json\n"
     ]
    },
    {
     "name": "stdout",
     "output_type": "stream",
     "text": [
      "{'type': 'CUSTOM', 'options': {'components': [{'type': 'NODES', 'label': 'NODES', 'options': {'hosts': [{'hostname': 'domain_controller'}, {'hostname': 'web_server', 'services': [{'service_name': 'WebServer'}]}, {'hostname': 'database_server', 'folders': [{'folder_name': 'database', 'files': [{'file_name': 'database.db'}]}]}, {'hostname': 'backup_server'}, {'hostname': 'security_suite'}, {'hostname': 'client_1'}, {'hostname': 'client_2'}], 'num_services': 1, 'num_applications': 0, 'num_folders': 1, 'num_files': 1, 'num_nics': 2, 'include_num_access': False, 'include_nmne': True, 'routers': [{'hostname': 'router_1'}], 'num_ports': 0, 'ip_list': ['192.168.1.10', '192.168.1.12', '192.168.1.14', '192.168.1.16', '192.168.1.110', '192.168.10.21', '192.168.10.22', '192.168.10.110'], 'wildcard_list': ['0.0.0.1'], 'port_list': [80, 5432], 'protocol_list': ['ICMP', 'TCP', 'UDP'], 'num_rules': 10}}, {'type': 'LINKS', 'label': 'LINKS', 'options': {'link_references': ['router_1:eth-1<->switch_1:eth-8', 'router_1:eth-2<->switch_2:eth-8', 'switch_1:eth-1<->domain_controller:eth-1', 'switch_1:eth-2<->web_server:eth-1', 'switch_1:eth-3<->database_server:eth-1', 'switch_1:eth-4<->backup_server:eth-1', 'switch_1:eth-7<->security_suite:eth-1', 'switch_2:eth-1<->client_1:eth-1', 'switch_2:eth-2<->client_2:eth-1', 'switch_2:eth-7<->security_suite:eth-2']}}, {'type': 'NONE', 'label': 'ICS', 'options': {}}]}}\n"
     ]
    },
    {
     "name": "stderr",
     "output_type": "stream",
     "text": [
      "2024-04-08 14:53:34,490: Resetting environment, episode 153, avg. reward: -11.749999999999961\n",
      "2024-04-08 14:53:34,493: Saving agent action log to C:\\Users\\CharlieCrane\\primaite\\3.0.0b7\\sessions\\2024-04-08\\14-49-25\\agent_actions\\episode_153.json\n"
     ]
    },
    {
     "name": "stdout",
     "output_type": "stream",
     "text": [
      "{'type': 'CUSTOM', 'options': {'components': [{'type': 'NODES', 'label': 'NODES', 'options': {'hosts': [{'hostname': 'domain_controller'}, {'hostname': 'web_server', 'services': [{'service_name': 'WebServer'}]}, {'hostname': 'database_server', 'folders': [{'folder_name': 'database', 'files': [{'file_name': 'database.db'}]}]}, {'hostname': 'backup_server'}, {'hostname': 'security_suite'}, {'hostname': 'client_1'}, {'hostname': 'client_2'}], 'num_services': 1, 'num_applications': 0, 'num_folders': 1, 'num_files': 1, 'num_nics': 2, 'include_num_access': False, 'include_nmne': True, 'routers': [{'hostname': 'router_1'}], 'num_ports': 0, 'ip_list': ['192.168.1.10', '192.168.1.12', '192.168.1.14', '192.168.1.16', '192.168.1.110', '192.168.10.21', '192.168.10.22', '192.168.10.110'], 'wildcard_list': ['0.0.0.1'], 'port_list': [80, 5432], 'protocol_list': ['ICMP', 'TCP', 'UDP'], 'num_rules': 10}}, {'type': 'LINKS', 'label': 'LINKS', 'options': {'link_references': ['router_1:eth-1<->switch_1:eth-8', 'router_1:eth-2<->switch_2:eth-8', 'switch_1:eth-1<->domain_controller:eth-1', 'switch_1:eth-2<->web_server:eth-1', 'switch_1:eth-3<->database_server:eth-1', 'switch_1:eth-4<->backup_server:eth-1', 'switch_1:eth-7<->security_suite:eth-1', 'switch_2:eth-1<->client_1:eth-1', 'switch_2:eth-2<->client_2:eth-1', 'switch_2:eth-7<->security_suite:eth-2']}}, {'type': 'NONE', 'label': 'ICS', 'options': {}}]}}\n"
     ]
    },
    {
     "name": "stderr",
     "output_type": "stream",
     "text": [
      "2024-04-08 14:53:36,594: Resetting environment, episode 154, avg. reward: -8.700000000000005\n",
      "2024-04-08 14:53:36,598: Saving agent action log to C:\\Users\\CharlieCrane\\primaite\\3.0.0b7\\sessions\\2024-04-08\\14-49-25\\agent_actions\\episode_154.json\n"
     ]
    },
    {
     "name": "stdout",
     "output_type": "stream",
     "text": [
      "{'type': 'CUSTOM', 'options': {'components': [{'type': 'NODES', 'label': 'NODES', 'options': {'hosts': [{'hostname': 'domain_controller'}, {'hostname': 'web_server', 'services': [{'service_name': 'WebServer'}]}, {'hostname': 'database_server', 'folders': [{'folder_name': 'database', 'files': [{'file_name': 'database.db'}]}]}, {'hostname': 'backup_server'}, {'hostname': 'security_suite'}, {'hostname': 'client_1'}, {'hostname': 'client_2'}], 'num_services': 1, 'num_applications': 0, 'num_folders': 1, 'num_files': 1, 'num_nics': 2, 'include_num_access': False, 'include_nmne': True, 'routers': [{'hostname': 'router_1'}], 'num_ports': 0, 'ip_list': ['192.168.1.10', '192.168.1.12', '192.168.1.14', '192.168.1.16', '192.168.1.110', '192.168.10.21', '192.168.10.22', '192.168.10.110'], 'wildcard_list': ['0.0.0.1'], 'port_list': [80, 5432], 'protocol_list': ['ICMP', 'TCP', 'UDP'], 'num_rules': 10}}, {'type': 'LINKS', 'label': 'LINKS', 'options': {'link_references': ['router_1:eth-1<->switch_1:eth-8', 'router_1:eth-2<->switch_2:eth-8', 'switch_1:eth-1<->domain_controller:eth-1', 'switch_1:eth-2<->web_server:eth-1', 'switch_1:eth-3<->database_server:eth-1', 'switch_1:eth-4<->backup_server:eth-1', 'switch_1:eth-7<->security_suite:eth-1', 'switch_2:eth-1<->client_1:eth-1', 'switch_2:eth-2<->client_2:eth-1', 'switch_2:eth-7<->security_suite:eth-2']}}, {'type': 'NONE', 'label': 'ICS', 'options': {}}]}}\n"
     ]
    },
    {
     "name": "stderr",
     "output_type": "stream",
     "text": [
      "2024-04-08 14:53:38,245: Resetting environment, episode 155, avg. reward: -21.649999999999956\n",
      "2024-04-08 14:53:38,249: Saving agent action log to C:\\Users\\CharlieCrane\\primaite\\3.0.0b7\\sessions\\2024-04-08\\14-49-25\\agent_actions\\episode_155.json\n"
     ]
    },
    {
     "name": "stdout",
     "output_type": "stream",
     "text": [
      "{'type': 'CUSTOM', 'options': {'components': [{'type': 'NODES', 'label': 'NODES', 'options': {'hosts': [{'hostname': 'domain_controller'}, {'hostname': 'web_server', 'services': [{'service_name': 'WebServer'}]}, {'hostname': 'database_server', 'folders': [{'folder_name': 'database', 'files': [{'file_name': 'database.db'}]}]}, {'hostname': 'backup_server'}, {'hostname': 'security_suite'}, {'hostname': 'client_1'}, {'hostname': 'client_2'}], 'num_services': 1, 'num_applications': 0, 'num_folders': 1, 'num_files': 1, 'num_nics': 2, 'include_num_access': False, 'include_nmne': True, 'routers': [{'hostname': 'router_1'}], 'num_ports': 0, 'ip_list': ['192.168.1.10', '192.168.1.12', '192.168.1.14', '192.168.1.16', '192.168.1.110', '192.168.10.21', '192.168.10.22', '192.168.10.110'], 'wildcard_list': ['0.0.0.1'], 'port_list': [80, 5432], 'protocol_list': ['ICMP', 'TCP', 'UDP'], 'num_rules': 10}}, {'type': 'LINKS', 'label': 'LINKS', 'options': {'link_references': ['router_1:eth-1<->switch_1:eth-8', 'router_1:eth-2<->switch_2:eth-8', 'switch_1:eth-1<->domain_controller:eth-1', 'switch_1:eth-2<->web_server:eth-1', 'switch_1:eth-3<->database_server:eth-1', 'switch_1:eth-4<->backup_server:eth-1', 'switch_1:eth-7<->security_suite:eth-1', 'switch_2:eth-1<->client_1:eth-1', 'switch_2:eth-2<->client_2:eth-1', 'switch_2:eth-7<->security_suite:eth-2']}}, {'type': 'NONE', 'label': 'ICS', 'options': {}}]}}\n"
     ]
    },
    {
     "name": "stderr",
     "output_type": "stream",
     "text": [
      "2024-04-08 14:53:39,875: Resetting environment, episode 156, avg. reward: -7.649999999999994\n",
      "2024-04-08 14:53:39,879: Saving agent action log to C:\\Users\\CharlieCrane\\primaite\\3.0.0b7\\sessions\\2024-04-08\\14-49-25\\agent_actions\\episode_156.json\n"
     ]
    },
    {
     "name": "stdout",
     "output_type": "stream",
     "text": [
      "{'type': 'CUSTOM', 'options': {'components': [{'type': 'NODES', 'label': 'NODES', 'options': {'hosts': [{'hostname': 'domain_controller'}, {'hostname': 'web_server', 'services': [{'service_name': 'WebServer'}]}, {'hostname': 'database_server', 'folders': [{'folder_name': 'database', 'files': [{'file_name': 'database.db'}]}]}, {'hostname': 'backup_server'}, {'hostname': 'security_suite'}, {'hostname': 'client_1'}, {'hostname': 'client_2'}], 'num_services': 1, 'num_applications': 0, 'num_folders': 1, 'num_files': 1, 'num_nics': 2, 'include_num_access': False, 'include_nmne': True, 'routers': [{'hostname': 'router_1'}], 'num_ports': 0, 'ip_list': ['192.168.1.10', '192.168.1.12', '192.168.1.14', '192.168.1.16', '192.168.1.110', '192.168.10.21', '192.168.10.22', '192.168.10.110'], 'wildcard_list': ['0.0.0.1'], 'port_list': [80, 5432], 'protocol_list': ['ICMP', 'TCP', 'UDP'], 'num_rules': 10}}, {'type': 'LINKS', 'label': 'LINKS', 'options': {'link_references': ['router_1:eth-1<->switch_1:eth-8', 'router_1:eth-2<->switch_2:eth-8', 'switch_1:eth-1<->domain_controller:eth-1', 'switch_1:eth-2<->web_server:eth-1', 'switch_1:eth-3<->database_server:eth-1', 'switch_1:eth-4<->backup_server:eth-1', 'switch_1:eth-7<->security_suite:eth-1', 'switch_2:eth-1<->client_1:eth-1', 'switch_2:eth-2<->client_2:eth-1', 'switch_2:eth-7<->security_suite:eth-2']}}, {'type': 'NONE', 'label': 'ICS', 'options': {}}]}}\n"
     ]
    },
    {
     "name": "stderr",
     "output_type": "stream",
     "text": [
      "2024-04-08 14:53:41,685: Resetting environment, episode 157, avg. reward: -80.54999999999998\n",
      "2024-04-08 14:53:41,690: Saving agent action log to C:\\Users\\CharlieCrane\\primaite\\3.0.0b7\\sessions\\2024-04-08\\14-49-25\\agent_actions\\episode_157.json\n"
     ]
    },
    {
     "name": "stdout",
     "output_type": "stream",
     "text": [
      "{'type': 'CUSTOM', 'options': {'components': [{'type': 'NODES', 'label': 'NODES', 'options': {'hosts': [{'hostname': 'domain_controller'}, {'hostname': 'web_server', 'services': [{'service_name': 'WebServer'}]}, {'hostname': 'database_server', 'folders': [{'folder_name': 'database', 'files': [{'file_name': 'database.db'}]}]}, {'hostname': 'backup_server'}, {'hostname': 'security_suite'}, {'hostname': 'client_1'}, {'hostname': 'client_2'}], 'num_services': 1, 'num_applications': 0, 'num_folders': 1, 'num_files': 1, 'num_nics': 2, 'include_num_access': False, 'include_nmne': True, 'routers': [{'hostname': 'router_1'}], 'num_ports': 0, 'ip_list': ['192.168.1.10', '192.168.1.12', '192.168.1.14', '192.168.1.16', '192.168.1.110', '192.168.10.21', '192.168.10.22', '192.168.10.110'], 'wildcard_list': ['0.0.0.1'], 'port_list': [80, 5432], 'protocol_list': ['ICMP', 'TCP', 'UDP'], 'num_rules': 10}}, {'type': 'LINKS', 'label': 'LINKS', 'options': {'link_references': ['router_1:eth-1<->switch_1:eth-8', 'router_1:eth-2<->switch_2:eth-8', 'switch_1:eth-1<->domain_controller:eth-1', 'switch_1:eth-2<->web_server:eth-1', 'switch_1:eth-3<->database_server:eth-1', 'switch_1:eth-4<->backup_server:eth-1', 'switch_1:eth-7<->security_suite:eth-1', 'switch_2:eth-1<->client_1:eth-1', 'switch_2:eth-2<->client_2:eth-1', 'switch_2:eth-7<->security_suite:eth-2']}}, {'type': 'NONE', 'label': 'ICS', 'options': {}}]}}\n"
     ]
    },
    {
     "name": "stderr",
     "output_type": "stream",
     "text": [
      "2024-04-08 14:53:43,273: Resetting environment, episode 158, avg. reward: -14.799999999999978\n",
      "2024-04-08 14:53:43,279: Saving agent action log to C:\\Users\\CharlieCrane\\primaite\\3.0.0b7\\sessions\\2024-04-08\\14-49-25\\agent_actions\\episode_158.json\n"
     ]
    },
    {
     "name": "stdout",
     "output_type": "stream",
     "text": [
      "{'type': 'CUSTOM', 'options': {'components': [{'type': 'NODES', 'label': 'NODES', 'options': {'hosts': [{'hostname': 'domain_controller'}, {'hostname': 'web_server', 'services': [{'service_name': 'WebServer'}]}, {'hostname': 'database_server', 'folders': [{'folder_name': 'database', 'files': [{'file_name': 'database.db'}]}]}, {'hostname': 'backup_server'}, {'hostname': 'security_suite'}, {'hostname': 'client_1'}, {'hostname': 'client_2'}], 'num_services': 1, 'num_applications': 0, 'num_folders': 1, 'num_files': 1, 'num_nics': 2, 'include_num_access': False, 'include_nmne': True, 'routers': [{'hostname': 'router_1'}], 'num_ports': 0, 'ip_list': ['192.168.1.10', '192.168.1.12', '192.168.1.14', '192.168.1.16', '192.168.1.110', '192.168.10.21', '192.168.10.22', '192.168.10.110'], 'wildcard_list': ['0.0.0.1'], 'port_list': [80, 5432], 'protocol_list': ['ICMP', 'TCP', 'UDP'], 'num_rules': 10}}, {'type': 'LINKS', 'label': 'LINKS', 'options': {'link_references': ['router_1:eth-1<->switch_1:eth-8', 'router_1:eth-2<->switch_2:eth-8', 'switch_1:eth-1<->domain_controller:eth-1', 'switch_1:eth-2<->web_server:eth-1', 'switch_1:eth-3<->database_server:eth-1', 'switch_1:eth-4<->backup_server:eth-1', 'switch_1:eth-7<->security_suite:eth-1', 'switch_2:eth-1<->client_1:eth-1', 'switch_2:eth-2<->client_2:eth-1', 'switch_2:eth-7<->security_suite:eth-2']}}, {'type': 'NONE', 'label': 'ICS', 'options': {}}]}}\n"
     ]
    },
    {
     "name": "stderr",
     "output_type": "stream",
     "text": [
      "2024-04-08 14:53:44,718: Resetting environment, episode 159, avg. reward: -8.299999999999976\n",
      "2024-04-08 14:53:44,720: Saving agent action log to C:\\Users\\CharlieCrane\\primaite\\3.0.0b7\\sessions\\2024-04-08\\14-49-25\\agent_actions\\episode_159.json\n"
     ]
    },
    {
     "name": "stdout",
     "output_type": "stream",
     "text": [
      "{'type': 'CUSTOM', 'options': {'components': [{'type': 'NODES', 'label': 'NODES', 'options': {'hosts': [{'hostname': 'domain_controller'}, {'hostname': 'web_server', 'services': [{'service_name': 'WebServer'}]}, {'hostname': 'database_server', 'folders': [{'folder_name': 'database', 'files': [{'file_name': 'database.db'}]}]}, {'hostname': 'backup_server'}, {'hostname': 'security_suite'}, {'hostname': 'client_1'}, {'hostname': 'client_2'}], 'num_services': 1, 'num_applications': 0, 'num_folders': 1, 'num_files': 1, 'num_nics': 2, 'include_num_access': False, 'include_nmne': True, 'routers': [{'hostname': 'router_1'}], 'num_ports': 0, 'ip_list': ['192.168.1.10', '192.168.1.12', '192.168.1.14', '192.168.1.16', '192.168.1.110', '192.168.10.21', '192.168.10.22', '192.168.10.110'], 'wildcard_list': ['0.0.0.1'], 'port_list': [80, 5432], 'protocol_list': ['ICMP', 'TCP', 'UDP'], 'num_rules': 10}}, {'type': 'LINKS', 'label': 'LINKS', 'options': {'link_references': ['router_1:eth-1<->switch_1:eth-8', 'router_1:eth-2<->switch_2:eth-8', 'switch_1:eth-1<->domain_controller:eth-1', 'switch_1:eth-2<->web_server:eth-1', 'switch_1:eth-3<->database_server:eth-1', 'switch_1:eth-4<->backup_server:eth-1', 'switch_1:eth-7<->security_suite:eth-1', 'switch_2:eth-1<->client_1:eth-1', 'switch_2:eth-2<->client_2:eth-1', 'switch_2:eth-7<->security_suite:eth-2']}}, {'type': 'NONE', 'label': 'ICS', 'options': {}}]}}\n"
     ]
    },
    {
     "name": "stderr",
     "output_type": "stream",
     "text": [
      "2024-04-08 14:53:46,211: Resetting environment, episode 160, avg. reward: -45.05000000000009\n",
      "2024-04-08 14:53:46,215: Saving agent action log to C:\\Users\\CharlieCrane\\primaite\\3.0.0b7\\sessions\\2024-04-08\\14-49-25\\agent_actions\\episode_160.json\n"
     ]
    },
    {
     "name": "stdout",
     "output_type": "stream",
     "text": [
      "{'type': 'CUSTOM', 'options': {'components': [{'type': 'NODES', 'label': 'NODES', 'options': {'hosts': [{'hostname': 'domain_controller'}, {'hostname': 'web_server', 'services': [{'service_name': 'WebServer'}]}, {'hostname': 'database_server', 'folders': [{'folder_name': 'database', 'files': [{'file_name': 'database.db'}]}]}, {'hostname': 'backup_server'}, {'hostname': 'security_suite'}, {'hostname': 'client_1'}, {'hostname': 'client_2'}], 'num_services': 1, 'num_applications': 0, 'num_folders': 1, 'num_files': 1, 'num_nics': 2, 'include_num_access': False, 'include_nmne': True, 'routers': [{'hostname': 'router_1'}], 'num_ports': 0, 'ip_list': ['192.168.1.10', '192.168.1.12', '192.168.1.14', '192.168.1.16', '192.168.1.110', '192.168.10.21', '192.168.10.22', '192.168.10.110'], 'wildcard_list': ['0.0.0.1'], 'port_list': [80, 5432], 'protocol_list': ['ICMP', 'TCP', 'UDP'], 'num_rules': 10}}, {'type': 'LINKS', 'label': 'LINKS', 'options': {'link_references': ['router_1:eth-1<->switch_1:eth-8', 'router_1:eth-2<->switch_2:eth-8', 'switch_1:eth-1<->domain_controller:eth-1', 'switch_1:eth-2<->web_server:eth-1', 'switch_1:eth-3<->database_server:eth-1', 'switch_1:eth-4<->backup_server:eth-1', 'switch_1:eth-7<->security_suite:eth-1', 'switch_2:eth-1<->client_1:eth-1', 'switch_2:eth-2<->client_2:eth-1', 'switch_2:eth-7<->security_suite:eth-2']}}, {'type': 'NONE', 'label': 'ICS', 'options': {}}]}}\n"
     ]
    },
    {
     "name": "stderr",
     "output_type": "stream",
     "text": [
      "2024-04-08 14:53:48,427: Resetting environment, episode 161, avg. reward: -0.29999999999997673\n",
      "2024-04-08 14:53:48,431: Saving agent action log to C:\\Users\\CharlieCrane\\primaite\\3.0.0b7\\sessions\\2024-04-08\\14-49-25\\agent_actions\\episode_161.json\n"
     ]
    },
    {
     "name": "stdout",
     "output_type": "stream",
     "text": [
      "{'type': 'CUSTOM', 'options': {'components': [{'type': 'NODES', 'label': 'NODES', 'options': {'hosts': [{'hostname': 'domain_controller'}, {'hostname': 'web_server', 'services': [{'service_name': 'WebServer'}]}, {'hostname': 'database_server', 'folders': [{'folder_name': 'database', 'files': [{'file_name': 'database.db'}]}]}, {'hostname': 'backup_server'}, {'hostname': 'security_suite'}, {'hostname': 'client_1'}, {'hostname': 'client_2'}], 'num_services': 1, 'num_applications': 0, 'num_folders': 1, 'num_files': 1, 'num_nics': 2, 'include_num_access': False, 'include_nmne': True, 'routers': [{'hostname': 'router_1'}], 'num_ports': 0, 'ip_list': ['192.168.1.10', '192.168.1.12', '192.168.1.14', '192.168.1.16', '192.168.1.110', '192.168.10.21', '192.168.10.22', '192.168.10.110'], 'wildcard_list': ['0.0.0.1'], 'port_list': [80, 5432], 'protocol_list': ['ICMP', 'TCP', 'UDP'], 'num_rules': 10}}, {'type': 'LINKS', 'label': 'LINKS', 'options': {'link_references': ['router_1:eth-1<->switch_1:eth-8', 'router_1:eth-2<->switch_2:eth-8', 'switch_1:eth-1<->domain_controller:eth-1', 'switch_1:eth-2<->web_server:eth-1', 'switch_1:eth-3<->database_server:eth-1', 'switch_1:eth-4<->backup_server:eth-1', 'switch_1:eth-7<->security_suite:eth-1', 'switch_2:eth-1<->client_1:eth-1', 'switch_2:eth-2<->client_2:eth-1', 'switch_2:eth-7<->security_suite:eth-2']}}, {'type': 'NONE', 'label': 'ICS', 'options': {}}]}}\n"
     ]
    },
    {
     "name": "stderr",
     "output_type": "stream",
     "text": [
      "2024-04-08 14:53:50,514: Resetting environment, episode 162, avg. reward: -24.199999999999946\n",
      "2024-04-08 14:53:50,517: Saving agent action log to C:\\Users\\CharlieCrane\\primaite\\3.0.0b7\\sessions\\2024-04-08\\14-49-25\\agent_actions\\episode_162.json\n"
     ]
    },
    {
     "name": "stdout",
     "output_type": "stream",
     "text": [
      "{'type': 'CUSTOM', 'options': {'components': [{'type': 'NODES', 'label': 'NODES', 'options': {'hosts': [{'hostname': 'domain_controller'}, {'hostname': 'web_server', 'services': [{'service_name': 'WebServer'}]}, {'hostname': 'database_server', 'folders': [{'folder_name': 'database', 'files': [{'file_name': 'database.db'}]}]}, {'hostname': 'backup_server'}, {'hostname': 'security_suite'}, {'hostname': 'client_1'}, {'hostname': 'client_2'}], 'num_services': 1, 'num_applications': 0, 'num_folders': 1, 'num_files': 1, 'num_nics': 2, 'include_num_access': False, 'include_nmne': True, 'routers': [{'hostname': 'router_1'}], 'num_ports': 0, 'ip_list': ['192.168.1.10', '192.168.1.12', '192.168.1.14', '192.168.1.16', '192.168.1.110', '192.168.10.21', '192.168.10.22', '192.168.10.110'], 'wildcard_list': ['0.0.0.1'], 'port_list': [80, 5432], 'protocol_list': ['ICMP', 'TCP', 'UDP'], 'num_rules': 10}}, {'type': 'LINKS', 'label': 'LINKS', 'options': {'link_references': ['router_1:eth-1<->switch_1:eth-8', 'router_1:eth-2<->switch_2:eth-8', 'switch_1:eth-1<->domain_controller:eth-1', 'switch_1:eth-2<->web_server:eth-1', 'switch_1:eth-3<->database_server:eth-1', 'switch_1:eth-4<->backup_server:eth-1', 'switch_1:eth-7<->security_suite:eth-1', 'switch_2:eth-1<->client_1:eth-1', 'switch_2:eth-2<->client_2:eth-1', 'switch_2:eth-7<->security_suite:eth-2']}}, {'type': 'NONE', 'label': 'ICS', 'options': {}}]}}\n"
     ]
    },
    {
     "name": "stderr",
     "output_type": "stream",
     "text": [
      "2024-04-08 14:53:52,023: Resetting environment, episode 163, avg. reward: -22.249999999999954\n",
      "2024-04-08 14:53:52,027: Saving agent action log to C:\\Users\\CharlieCrane\\primaite\\3.0.0b7\\sessions\\2024-04-08\\14-49-25\\agent_actions\\episode_163.json\n"
     ]
    },
    {
     "name": "stdout",
     "output_type": "stream",
     "text": [
      "{'type': 'CUSTOM', 'options': {'components': [{'type': 'NODES', 'label': 'NODES', 'options': {'hosts': [{'hostname': 'domain_controller'}, {'hostname': 'web_server', 'services': [{'service_name': 'WebServer'}]}, {'hostname': 'database_server', 'folders': [{'folder_name': 'database', 'files': [{'file_name': 'database.db'}]}]}, {'hostname': 'backup_server'}, {'hostname': 'security_suite'}, {'hostname': 'client_1'}, {'hostname': 'client_2'}], 'num_services': 1, 'num_applications': 0, 'num_folders': 1, 'num_files': 1, 'num_nics': 2, 'include_num_access': False, 'include_nmne': True, 'routers': [{'hostname': 'router_1'}], 'num_ports': 0, 'ip_list': ['192.168.1.10', '192.168.1.12', '192.168.1.14', '192.168.1.16', '192.168.1.110', '192.168.10.21', '192.168.10.22', '192.168.10.110'], 'wildcard_list': ['0.0.0.1'], 'port_list': [80, 5432], 'protocol_list': ['ICMP', 'TCP', 'UDP'], 'num_rules': 10}}, {'type': 'LINKS', 'label': 'LINKS', 'options': {'link_references': ['router_1:eth-1<->switch_1:eth-8', 'router_1:eth-2<->switch_2:eth-8', 'switch_1:eth-1<->domain_controller:eth-1', 'switch_1:eth-2<->web_server:eth-1', 'switch_1:eth-3<->database_server:eth-1', 'switch_1:eth-4<->backup_server:eth-1', 'switch_1:eth-7<->security_suite:eth-1', 'switch_2:eth-1<->client_1:eth-1', 'switch_2:eth-2<->client_2:eth-1', 'switch_2:eth-7<->security_suite:eth-2']}}, {'type': 'NONE', 'label': 'ICS', 'options': {}}]}}\n"
     ]
    },
    {
     "name": "stderr",
     "output_type": "stream",
     "text": [
      "2024-04-08 14:53:53,865: Resetting environment, episode 164, avg. reward: -16.44999999999996\n",
      "2024-04-08 14:53:53,868: Saving agent action log to C:\\Users\\CharlieCrane\\primaite\\3.0.0b7\\sessions\\2024-04-08\\14-49-25\\agent_actions\\episode_164.json\n"
     ]
    },
    {
     "name": "stdout",
     "output_type": "stream",
     "text": [
      "{'type': 'CUSTOM', 'options': {'components': [{'type': 'NODES', 'label': 'NODES', 'options': {'hosts': [{'hostname': 'domain_controller'}, {'hostname': 'web_server', 'services': [{'service_name': 'WebServer'}]}, {'hostname': 'database_server', 'folders': [{'folder_name': 'database', 'files': [{'file_name': 'database.db'}]}]}, {'hostname': 'backup_server'}, {'hostname': 'security_suite'}, {'hostname': 'client_1'}, {'hostname': 'client_2'}], 'num_services': 1, 'num_applications': 0, 'num_folders': 1, 'num_files': 1, 'num_nics': 2, 'include_num_access': False, 'include_nmne': True, 'routers': [{'hostname': 'router_1'}], 'num_ports': 0, 'ip_list': ['192.168.1.10', '192.168.1.12', '192.168.1.14', '192.168.1.16', '192.168.1.110', '192.168.10.21', '192.168.10.22', '192.168.10.110'], 'wildcard_list': ['0.0.0.1'], 'port_list': [80, 5432], 'protocol_list': ['ICMP', 'TCP', 'UDP'], 'num_rules': 10}}, {'type': 'LINKS', 'label': 'LINKS', 'options': {'link_references': ['router_1:eth-1<->switch_1:eth-8', 'router_1:eth-2<->switch_2:eth-8', 'switch_1:eth-1<->domain_controller:eth-1', 'switch_1:eth-2<->web_server:eth-1', 'switch_1:eth-3<->database_server:eth-1', 'switch_1:eth-4<->backup_server:eth-1', 'switch_1:eth-7<->security_suite:eth-1', 'switch_2:eth-1<->client_1:eth-1', 'switch_2:eth-2<->client_2:eth-1', 'switch_2:eth-7<->security_suite:eth-2']}}, {'type': 'NONE', 'label': 'ICS', 'options': {}}]}}\n"
     ]
    },
    {
     "name": "stderr",
     "output_type": "stream",
     "text": [
      "2024-04-08 14:53:55,434: Resetting environment, episode 165, avg. reward: -75.8\n",
      "2024-04-08 14:53:55,437: Saving agent action log to C:\\Users\\CharlieCrane\\primaite\\3.0.0b7\\sessions\\2024-04-08\\14-49-25\\agent_actions\\episode_165.json\n"
     ]
    },
    {
     "name": "stdout",
     "output_type": "stream",
     "text": [
      "{'type': 'CUSTOM', 'options': {'components': [{'type': 'NODES', 'label': 'NODES', 'options': {'hosts': [{'hostname': 'domain_controller'}, {'hostname': 'web_server', 'services': [{'service_name': 'WebServer'}]}, {'hostname': 'database_server', 'folders': [{'folder_name': 'database', 'files': [{'file_name': 'database.db'}]}]}, {'hostname': 'backup_server'}, {'hostname': 'security_suite'}, {'hostname': 'client_1'}, {'hostname': 'client_2'}], 'num_services': 1, 'num_applications': 0, 'num_folders': 1, 'num_files': 1, 'num_nics': 2, 'include_num_access': False, 'include_nmne': True, 'routers': [{'hostname': 'router_1'}], 'num_ports': 0, 'ip_list': ['192.168.1.10', '192.168.1.12', '192.168.1.14', '192.168.1.16', '192.168.1.110', '192.168.10.21', '192.168.10.22', '192.168.10.110'], 'wildcard_list': ['0.0.0.1'], 'port_list': [80, 5432], 'protocol_list': ['ICMP', 'TCP', 'UDP'], 'num_rules': 10}}, {'type': 'LINKS', 'label': 'LINKS', 'options': {'link_references': ['router_1:eth-1<->switch_1:eth-8', 'router_1:eth-2<->switch_2:eth-8', 'switch_1:eth-1<->domain_controller:eth-1', 'switch_1:eth-2<->web_server:eth-1', 'switch_1:eth-3<->database_server:eth-1', 'switch_1:eth-4<->backup_server:eth-1', 'switch_1:eth-7<->security_suite:eth-1', 'switch_2:eth-1<->client_1:eth-1', 'switch_2:eth-2<->client_2:eth-1', 'switch_2:eth-7<->security_suite:eth-2']}}, {'type': 'NONE', 'label': 'ICS', 'options': {}}]}}\n"
     ]
    },
    {
     "name": "stderr",
     "output_type": "stream",
     "text": [
      "2024-04-08 14:53:57,361: Resetting environment, episode 166, avg. reward: -15.74999999999998\n",
      "2024-04-08 14:53:57,364: Saving agent action log to C:\\Users\\CharlieCrane\\primaite\\3.0.0b7\\sessions\\2024-04-08\\14-49-25\\agent_actions\\episode_166.json\n"
     ]
    },
    {
     "name": "stdout",
     "output_type": "stream",
     "text": [
      "{'type': 'CUSTOM', 'options': {'components': [{'type': 'NODES', 'label': 'NODES', 'options': {'hosts': [{'hostname': 'domain_controller'}, {'hostname': 'web_server', 'services': [{'service_name': 'WebServer'}]}, {'hostname': 'database_server', 'folders': [{'folder_name': 'database', 'files': [{'file_name': 'database.db'}]}]}, {'hostname': 'backup_server'}, {'hostname': 'security_suite'}, {'hostname': 'client_1'}, {'hostname': 'client_2'}], 'num_services': 1, 'num_applications': 0, 'num_folders': 1, 'num_files': 1, 'num_nics': 2, 'include_num_access': False, 'include_nmne': True, 'routers': [{'hostname': 'router_1'}], 'num_ports': 0, 'ip_list': ['192.168.1.10', '192.168.1.12', '192.168.1.14', '192.168.1.16', '192.168.1.110', '192.168.10.21', '192.168.10.22', '192.168.10.110'], 'wildcard_list': ['0.0.0.1'], 'port_list': [80, 5432], 'protocol_list': ['ICMP', 'TCP', 'UDP'], 'num_rules': 10}}, {'type': 'LINKS', 'label': 'LINKS', 'options': {'link_references': ['router_1:eth-1<->switch_1:eth-8', 'router_1:eth-2<->switch_2:eth-8', 'switch_1:eth-1<->domain_controller:eth-1', 'switch_1:eth-2<->web_server:eth-1', 'switch_1:eth-3<->database_server:eth-1', 'switch_1:eth-4<->backup_server:eth-1', 'switch_1:eth-7<->security_suite:eth-1', 'switch_2:eth-1<->client_1:eth-1', 'switch_2:eth-2<->client_2:eth-1', 'switch_2:eth-7<->security_suite:eth-2']}}, {'type': 'NONE', 'label': 'ICS', 'options': {}}]}}\n"
     ]
    },
    {
     "name": "stderr",
     "output_type": "stream",
     "text": [
      "2024-04-08 14:53:59,167: Resetting environment, episode 167, avg. reward: -97.04999999999997\n",
      "2024-04-08 14:53:59,171: Saving agent action log to C:\\Users\\CharlieCrane\\primaite\\3.0.0b7\\sessions\\2024-04-08\\14-49-25\\agent_actions\\episode_167.json\n"
     ]
    },
    {
     "name": "stdout",
     "output_type": "stream",
     "text": [
      "{'type': 'CUSTOM', 'options': {'components': [{'type': 'NODES', 'label': 'NODES', 'options': {'hosts': [{'hostname': 'domain_controller'}, {'hostname': 'web_server', 'services': [{'service_name': 'WebServer'}]}, {'hostname': 'database_server', 'folders': [{'folder_name': 'database', 'files': [{'file_name': 'database.db'}]}]}, {'hostname': 'backup_server'}, {'hostname': 'security_suite'}, {'hostname': 'client_1'}, {'hostname': 'client_2'}], 'num_services': 1, 'num_applications': 0, 'num_folders': 1, 'num_files': 1, 'num_nics': 2, 'include_num_access': False, 'include_nmne': True, 'routers': [{'hostname': 'router_1'}], 'num_ports': 0, 'ip_list': ['192.168.1.10', '192.168.1.12', '192.168.1.14', '192.168.1.16', '192.168.1.110', '192.168.10.21', '192.168.10.22', '192.168.10.110'], 'wildcard_list': ['0.0.0.1'], 'port_list': [80, 5432], 'protocol_list': ['ICMP', 'TCP', 'UDP'], 'num_rules': 10}}, {'type': 'LINKS', 'label': 'LINKS', 'options': {'link_references': ['router_1:eth-1<->switch_1:eth-8', 'router_1:eth-2<->switch_2:eth-8', 'switch_1:eth-1<->domain_controller:eth-1', 'switch_1:eth-2<->web_server:eth-1', 'switch_1:eth-3<->database_server:eth-1', 'switch_1:eth-4<->backup_server:eth-1', 'switch_1:eth-7<->security_suite:eth-1', 'switch_2:eth-1<->client_1:eth-1', 'switch_2:eth-2<->client_2:eth-1', 'switch_2:eth-7<->security_suite:eth-2']}}, {'type': 'NONE', 'label': 'ICS', 'options': {}}]}}\n"
     ]
    },
    {
     "name": "stderr",
     "output_type": "stream",
     "text": [
      "2024-04-08 14:54:00,965: Resetting environment, episode 168, avg. reward: -26.450000000000006\n",
      "2024-04-08 14:54:00,970: Saving agent action log to C:\\Users\\CharlieCrane\\primaite\\3.0.0b7\\sessions\\2024-04-08\\14-49-25\\agent_actions\\episode_168.json\n"
     ]
    },
    {
     "name": "stdout",
     "output_type": "stream",
     "text": [
      "{'type': 'CUSTOM', 'options': {'components': [{'type': 'NODES', 'label': 'NODES', 'options': {'hosts': [{'hostname': 'domain_controller'}, {'hostname': 'web_server', 'services': [{'service_name': 'WebServer'}]}, {'hostname': 'database_server', 'folders': [{'folder_name': 'database', 'files': [{'file_name': 'database.db'}]}]}, {'hostname': 'backup_server'}, {'hostname': 'security_suite'}, {'hostname': 'client_1'}, {'hostname': 'client_2'}], 'num_services': 1, 'num_applications': 0, 'num_folders': 1, 'num_files': 1, 'num_nics': 2, 'include_num_access': False, 'include_nmne': True, 'routers': [{'hostname': 'router_1'}], 'num_ports': 0, 'ip_list': ['192.168.1.10', '192.168.1.12', '192.168.1.14', '192.168.1.16', '192.168.1.110', '192.168.10.21', '192.168.10.22', '192.168.10.110'], 'wildcard_list': ['0.0.0.1'], 'port_list': [80, 5432], 'protocol_list': ['ICMP', 'TCP', 'UDP'], 'num_rules': 10}}, {'type': 'LINKS', 'label': 'LINKS', 'options': {'link_references': ['router_1:eth-1<->switch_1:eth-8', 'router_1:eth-2<->switch_2:eth-8', 'switch_1:eth-1<->domain_controller:eth-1', 'switch_1:eth-2<->web_server:eth-1', 'switch_1:eth-3<->database_server:eth-1', 'switch_1:eth-4<->backup_server:eth-1', 'switch_1:eth-7<->security_suite:eth-1', 'switch_2:eth-1<->client_1:eth-1', 'switch_2:eth-2<->client_2:eth-1', 'switch_2:eth-7<->security_suite:eth-2']}}, {'type': 'NONE', 'label': 'ICS', 'options': {}}]}}\n"
     ]
    },
    {
     "name": "stderr",
     "output_type": "stream",
     "text": [
      "2024-04-08 14:54:02,555: Resetting environment, episode 169, avg. reward: -1.7999999999999803\n",
      "2024-04-08 14:54:02,556: Saving agent action log to C:\\Users\\CharlieCrane\\primaite\\3.0.0b7\\sessions\\2024-04-08\\14-49-25\\agent_actions\\episode_169.json\n"
     ]
    },
    {
     "name": "stdout",
     "output_type": "stream",
     "text": [
      "{'type': 'CUSTOM', 'options': {'components': [{'type': 'NODES', 'label': 'NODES', 'options': {'hosts': [{'hostname': 'domain_controller'}, {'hostname': 'web_server', 'services': [{'service_name': 'WebServer'}]}, {'hostname': 'database_server', 'folders': [{'folder_name': 'database', 'files': [{'file_name': 'database.db'}]}]}, {'hostname': 'backup_server'}, {'hostname': 'security_suite'}, {'hostname': 'client_1'}, {'hostname': 'client_2'}], 'num_services': 1, 'num_applications': 0, 'num_folders': 1, 'num_files': 1, 'num_nics': 2, 'include_num_access': False, 'include_nmne': True, 'routers': [{'hostname': 'router_1'}], 'num_ports': 0, 'ip_list': ['192.168.1.10', '192.168.1.12', '192.168.1.14', '192.168.1.16', '192.168.1.110', '192.168.10.21', '192.168.10.22', '192.168.10.110'], 'wildcard_list': ['0.0.0.1'], 'port_list': [80, 5432], 'protocol_list': ['ICMP', 'TCP', 'UDP'], 'num_rules': 10}}, {'type': 'LINKS', 'label': 'LINKS', 'options': {'link_references': ['router_1:eth-1<->switch_1:eth-8', 'router_1:eth-2<->switch_2:eth-8', 'switch_1:eth-1<->domain_controller:eth-1', 'switch_1:eth-2<->web_server:eth-1', 'switch_1:eth-3<->database_server:eth-1', 'switch_1:eth-4<->backup_server:eth-1', 'switch_1:eth-7<->security_suite:eth-1', 'switch_2:eth-1<->client_1:eth-1', 'switch_2:eth-2<->client_2:eth-1', 'switch_2:eth-7<->security_suite:eth-2']}}, {'type': 'NONE', 'label': 'ICS', 'options': {}}]}}\n"
     ]
    },
    {
     "name": "stderr",
     "output_type": "stream",
     "text": [
      "2024-04-08 14:54:04,283: Resetting environment, episode 170, avg. reward: -16.499999999999964\n",
      "2024-04-08 14:54:04,292: Saving agent action log to C:\\Users\\CharlieCrane\\primaite\\3.0.0b7\\sessions\\2024-04-08\\14-49-25\\agent_actions\\episode_170.json\n"
     ]
    },
    {
     "name": "stdout",
     "output_type": "stream",
     "text": [
      "{'type': 'CUSTOM', 'options': {'components': [{'type': 'NODES', 'label': 'NODES', 'options': {'hosts': [{'hostname': 'domain_controller'}, {'hostname': 'web_server', 'services': [{'service_name': 'WebServer'}]}, {'hostname': 'database_server', 'folders': [{'folder_name': 'database', 'files': [{'file_name': 'database.db'}]}]}, {'hostname': 'backup_server'}, {'hostname': 'security_suite'}, {'hostname': 'client_1'}, {'hostname': 'client_2'}], 'num_services': 1, 'num_applications': 0, 'num_folders': 1, 'num_files': 1, 'num_nics': 2, 'include_num_access': False, 'include_nmne': True, 'routers': [{'hostname': 'router_1'}], 'num_ports': 0, 'ip_list': ['192.168.1.10', '192.168.1.12', '192.168.1.14', '192.168.1.16', '192.168.1.110', '192.168.10.21', '192.168.10.22', '192.168.10.110'], 'wildcard_list': ['0.0.0.1'], 'port_list': [80, 5432], 'protocol_list': ['ICMP', 'TCP', 'UDP'], 'num_rules': 10}}, {'type': 'LINKS', 'label': 'LINKS', 'options': {'link_references': ['router_1:eth-1<->switch_1:eth-8', 'router_1:eth-2<->switch_2:eth-8', 'switch_1:eth-1<->domain_controller:eth-1', 'switch_1:eth-2<->web_server:eth-1', 'switch_1:eth-3<->database_server:eth-1', 'switch_1:eth-4<->backup_server:eth-1', 'switch_1:eth-7<->security_suite:eth-1', 'switch_2:eth-1<->client_1:eth-1', 'switch_2:eth-2<->client_2:eth-1', 'switch_2:eth-7<->security_suite:eth-2']}}, {'type': 'NONE', 'label': 'ICS', 'options': {}}]}}\n"
     ]
    },
    {
     "name": "stderr",
     "output_type": "stream",
     "text": [
      "2024-04-08 14:54:06,710: Resetting environment, episode 171, avg. reward: -56.99999999999997\n",
      "2024-04-08 14:54:06,714: Saving agent action log to C:\\Users\\CharlieCrane\\primaite\\3.0.0b7\\sessions\\2024-04-08\\14-49-25\\agent_actions\\episode_171.json\n"
     ]
    },
    {
     "name": "stdout",
     "output_type": "stream",
     "text": [
      "{'type': 'CUSTOM', 'options': {'components': [{'type': 'NODES', 'label': 'NODES', 'options': {'hosts': [{'hostname': 'domain_controller'}, {'hostname': 'web_server', 'services': [{'service_name': 'WebServer'}]}, {'hostname': 'database_server', 'folders': [{'folder_name': 'database', 'files': [{'file_name': 'database.db'}]}]}, {'hostname': 'backup_server'}, {'hostname': 'security_suite'}, {'hostname': 'client_1'}, {'hostname': 'client_2'}], 'num_services': 1, 'num_applications': 0, 'num_folders': 1, 'num_files': 1, 'num_nics': 2, 'include_num_access': False, 'include_nmne': True, 'routers': [{'hostname': 'router_1'}], 'num_ports': 0, 'ip_list': ['192.168.1.10', '192.168.1.12', '192.168.1.14', '192.168.1.16', '192.168.1.110', '192.168.10.21', '192.168.10.22', '192.168.10.110'], 'wildcard_list': ['0.0.0.1'], 'port_list': [80, 5432], 'protocol_list': ['ICMP', 'TCP', 'UDP'], 'num_rules': 10}}, {'type': 'LINKS', 'label': 'LINKS', 'options': {'link_references': ['router_1:eth-1<->switch_1:eth-8', 'router_1:eth-2<->switch_2:eth-8', 'switch_1:eth-1<->domain_controller:eth-1', 'switch_1:eth-2<->web_server:eth-1', 'switch_1:eth-3<->database_server:eth-1', 'switch_1:eth-4<->backup_server:eth-1', 'switch_1:eth-7<->security_suite:eth-1', 'switch_2:eth-1<->client_1:eth-1', 'switch_2:eth-2<->client_2:eth-1', 'switch_2:eth-7<->security_suite:eth-2']}}, {'type': 'NONE', 'label': 'ICS', 'options': {}}]}}\n"
     ]
    },
    {
     "name": "stderr",
     "output_type": "stream",
     "text": [
      "2024-04-08 14:54:08,495: Resetting environment, episode 172, avg. reward: -5.550000000000001\n",
      "2024-04-08 14:54:08,502: Saving agent action log to C:\\Users\\CharlieCrane\\primaite\\3.0.0b7\\sessions\\2024-04-08\\14-49-25\\agent_actions\\episode_172.json\n"
     ]
    },
    {
     "name": "stdout",
     "output_type": "stream",
     "text": [
      "{'type': 'CUSTOM', 'options': {'components': [{'type': 'NODES', 'label': 'NODES', 'options': {'hosts': [{'hostname': 'domain_controller'}, {'hostname': 'web_server', 'services': [{'service_name': 'WebServer'}]}, {'hostname': 'database_server', 'folders': [{'folder_name': 'database', 'files': [{'file_name': 'database.db'}]}]}, {'hostname': 'backup_server'}, {'hostname': 'security_suite'}, {'hostname': 'client_1'}, {'hostname': 'client_2'}], 'num_services': 1, 'num_applications': 0, 'num_folders': 1, 'num_files': 1, 'num_nics': 2, 'include_num_access': False, 'include_nmne': True, 'routers': [{'hostname': 'router_1'}], 'num_ports': 0, 'ip_list': ['192.168.1.10', '192.168.1.12', '192.168.1.14', '192.168.1.16', '192.168.1.110', '192.168.10.21', '192.168.10.22', '192.168.10.110'], 'wildcard_list': ['0.0.0.1'], 'port_list': [80, 5432], 'protocol_list': ['ICMP', 'TCP', 'UDP'], 'num_rules': 10}}, {'type': 'LINKS', 'label': 'LINKS', 'options': {'link_references': ['router_1:eth-1<->switch_1:eth-8', 'router_1:eth-2<->switch_2:eth-8', 'switch_1:eth-1<->domain_controller:eth-1', 'switch_1:eth-2<->web_server:eth-1', 'switch_1:eth-3<->database_server:eth-1', 'switch_1:eth-4<->backup_server:eth-1', 'switch_1:eth-7<->security_suite:eth-1', 'switch_2:eth-1<->client_1:eth-1', 'switch_2:eth-2<->client_2:eth-1', 'switch_2:eth-7<->security_suite:eth-2']}}, {'type': 'NONE', 'label': 'ICS', 'options': {}}]}}\n"
     ]
    },
    {
     "name": "stderr",
     "output_type": "stream",
     "text": [
      "2024-04-08 14:54:10,090: Resetting environment, episode 173, avg. reward: -16.249999999999968\n",
      "2024-04-08 14:54:10,094: Saving agent action log to C:\\Users\\CharlieCrane\\primaite\\3.0.0b7\\sessions\\2024-04-08\\14-49-25\\agent_actions\\episode_173.json\n"
     ]
    },
    {
     "name": "stdout",
     "output_type": "stream",
     "text": [
      "{'type': 'CUSTOM', 'options': {'components': [{'type': 'NODES', 'label': 'NODES', 'options': {'hosts': [{'hostname': 'domain_controller'}, {'hostname': 'web_server', 'services': [{'service_name': 'WebServer'}]}, {'hostname': 'database_server', 'folders': [{'folder_name': 'database', 'files': [{'file_name': 'database.db'}]}]}, {'hostname': 'backup_server'}, {'hostname': 'security_suite'}, {'hostname': 'client_1'}, {'hostname': 'client_2'}], 'num_services': 1, 'num_applications': 0, 'num_folders': 1, 'num_files': 1, 'num_nics': 2, 'include_num_access': False, 'include_nmne': True, 'routers': [{'hostname': 'router_1'}], 'num_ports': 0, 'ip_list': ['192.168.1.10', '192.168.1.12', '192.168.1.14', '192.168.1.16', '192.168.1.110', '192.168.10.21', '192.168.10.22', '192.168.10.110'], 'wildcard_list': ['0.0.0.1'], 'port_list': [80, 5432], 'protocol_list': ['ICMP', 'TCP', 'UDP'], 'num_rules': 10}}, {'type': 'LINKS', 'label': 'LINKS', 'options': {'link_references': ['router_1:eth-1<->switch_1:eth-8', 'router_1:eth-2<->switch_2:eth-8', 'switch_1:eth-1<->domain_controller:eth-1', 'switch_1:eth-2<->web_server:eth-1', 'switch_1:eth-3<->database_server:eth-1', 'switch_1:eth-4<->backup_server:eth-1', 'switch_1:eth-7<->security_suite:eth-1', 'switch_2:eth-1<->client_1:eth-1', 'switch_2:eth-2<->client_2:eth-1', 'switch_2:eth-7<->security_suite:eth-2']}}, {'type': 'NONE', 'label': 'ICS', 'options': {}}]}}\n"
     ]
    },
    {
     "name": "stderr",
     "output_type": "stream",
     "text": [
      "2024-04-08 14:54:13,065: Resetting environment, episode 174, avg. reward: -6.6499999999999915\n",
      "2024-04-08 14:54:13,071: Saving agent action log to C:\\Users\\CharlieCrane\\primaite\\3.0.0b7\\sessions\\2024-04-08\\14-49-25\\agent_actions\\episode_174.json\n"
     ]
    },
    {
     "name": "stdout",
     "output_type": "stream",
     "text": [
      "{'type': 'CUSTOM', 'options': {'components': [{'type': 'NODES', 'label': 'NODES', 'options': {'hosts': [{'hostname': 'domain_controller'}, {'hostname': 'web_server', 'services': [{'service_name': 'WebServer'}]}, {'hostname': 'database_server', 'folders': [{'folder_name': 'database', 'files': [{'file_name': 'database.db'}]}]}, {'hostname': 'backup_server'}, {'hostname': 'security_suite'}, {'hostname': 'client_1'}, {'hostname': 'client_2'}], 'num_services': 1, 'num_applications': 0, 'num_folders': 1, 'num_files': 1, 'num_nics': 2, 'include_num_access': False, 'include_nmne': True, 'routers': [{'hostname': 'router_1'}], 'num_ports': 0, 'ip_list': ['192.168.1.10', '192.168.1.12', '192.168.1.14', '192.168.1.16', '192.168.1.110', '192.168.10.21', '192.168.10.22', '192.168.10.110'], 'wildcard_list': ['0.0.0.1'], 'port_list': [80, 5432], 'protocol_list': ['ICMP', 'TCP', 'UDP'], 'num_rules': 10}}, {'type': 'LINKS', 'label': 'LINKS', 'options': {'link_references': ['router_1:eth-1<->switch_1:eth-8', 'router_1:eth-2<->switch_2:eth-8', 'switch_1:eth-1<->domain_controller:eth-1', 'switch_1:eth-2<->web_server:eth-1', 'switch_1:eth-3<->database_server:eth-1', 'switch_1:eth-4<->backup_server:eth-1', 'switch_1:eth-7<->security_suite:eth-1', 'switch_2:eth-1<->client_1:eth-1', 'switch_2:eth-2<->client_2:eth-1', 'switch_2:eth-7<->security_suite:eth-2']}}, {'type': 'NONE', 'label': 'ICS', 'options': {}}]}}\n"
     ]
    },
    {
     "name": "stderr",
     "output_type": "stream",
     "text": [
      "2024-04-08 14:54:15,757: Resetting environment, episode 175, avg. reward: -3.7499999999999707\n",
      "2024-04-08 14:54:15,761: Saving agent action log to C:\\Users\\CharlieCrane\\primaite\\3.0.0b7\\sessions\\2024-04-08\\14-49-25\\agent_actions\\episode_175.json\n"
     ]
    },
    {
     "name": "stdout",
     "output_type": "stream",
     "text": [
      "{'type': 'CUSTOM', 'options': {'components': [{'type': 'NODES', 'label': 'NODES', 'options': {'hosts': [{'hostname': 'domain_controller'}, {'hostname': 'web_server', 'services': [{'service_name': 'WebServer'}]}, {'hostname': 'database_server', 'folders': [{'folder_name': 'database', 'files': [{'file_name': 'database.db'}]}]}, {'hostname': 'backup_server'}, {'hostname': 'security_suite'}, {'hostname': 'client_1'}, {'hostname': 'client_2'}], 'num_services': 1, 'num_applications': 0, 'num_folders': 1, 'num_files': 1, 'num_nics': 2, 'include_num_access': False, 'include_nmne': True, 'routers': [{'hostname': 'router_1'}], 'num_ports': 0, 'ip_list': ['192.168.1.10', '192.168.1.12', '192.168.1.14', '192.168.1.16', '192.168.1.110', '192.168.10.21', '192.168.10.22', '192.168.10.110'], 'wildcard_list': ['0.0.0.1'], 'port_list': [80, 5432], 'protocol_list': ['ICMP', 'TCP', 'UDP'], 'num_rules': 10}}, {'type': 'LINKS', 'label': 'LINKS', 'options': {'link_references': ['router_1:eth-1<->switch_1:eth-8', 'router_1:eth-2<->switch_2:eth-8', 'switch_1:eth-1<->domain_controller:eth-1', 'switch_1:eth-2<->web_server:eth-1', 'switch_1:eth-3<->database_server:eth-1', 'switch_1:eth-4<->backup_server:eth-1', 'switch_1:eth-7<->security_suite:eth-1', 'switch_2:eth-1<->client_1:eth-1', 'switch_2:eth-2<->client_2:eth-1', 'switch_2:eth-7<->security_suite:eth-2']}}, {'type': 'NONE', 'label': 'ICS', 'options': {}}]}}\n"
     ]
    },
    {
     "name": "stderr",
     "output_type": "stream",
     "text": [
      "2024-04-08 14:54:18,490: Resetting environment, episode 176, avg. reward: 34.24999999999989\n",
      "2024-04-08 14:54:18,493: Saving agent action log to C:\\Users\\CharlieCrane\\primaite\\3.0.0b7\\sessions\\2024-04-08\\14-49-25\\agent_actions\\episode_176.json\n"
     ]
    },
    {
     "name": "stdout",
     "output_type": "stream",
     "text": [
      "{'type': 'CUSTOM', 'options': {'components': [{'type': 'NODES', 'label': 'NODES', 'options': {'hosts': [{'hostname': 'domain_controller'}, {'hostname': 'web_server', 'services': [{'service_name': 'WebServer'}]}, {'hostname': 'database_server', 'folders': [{'folder_name': 'database', 'files': [{'file_name': 'database.db'}]}]}, {'hostname': 'backup_server'}, {'hostname': 'security_suite'}, {'hostname': 'client_1'}, {'hostname': 'client_2'}], 'num_services': 1, 'num_applications': 0, 'num_folders': 1, 'num_files': 1, 'num_nics': 2, 'include_num_access': False, 'include_nmne': True, 'routers': [{'hostname': 'router_1'}], 'num_ports': 0, 'ip_list': ['192.168.1.10', '192.168.1.12', '192.168.1.14', '192.168.1.16', '192.168.1.110', '192.168.10.21', '192.168.10.22', '192.168.10.110'], 'wildcard_list': ['0.0.0.1'], 'port_list': [80, 5432], 'protocol_list': ['ICMP', 'TCP', 'UDP'], 'num_rules': 10}}, {'type': 'LINKS', 'label': 'LINKS', 'options': {'link_references': ['router_1:eth-1<->switch_1:eth-8', 'router_1:eth-2<->switch_2:eth-8', 'switch_1:eth-1<->domain_controller:eth-1', 'switch_1:eth-2<->web_server:eth-1', 'switch_1:eth-3<->database_server:eth-1', 'switch_1:eth-4<->backup_server:eth-1', 'switch_1:eth-7<->security_suite:eth-1', 'switch_2:eth-1<->client_1:eth-1', 'switch_2:eth-2<->client_2:eth-1', 'switch_2:eth-7<->security_suite:eth-2']}}, {'type': 'NONE', 'label': 'ICS', 'options': {}}]}}\n"
     ]
    },
    {
     "name": "stderr",
     "output_type": "stream",
     "text": [
      "2024-04-08 14:54:20,751: Resetting environment, episode 177, avg. reward: -15.999999999999977\n",
      "2024-04-08 14:54:20,755: Saving agent action log to C:\\Users\\CharlieCrane\\primaite\\3.0.0b7\\sessions\\2024-04-08\\14-49-25\\agent_actions\\episode_177.json\n"
     ]
    },
    {
     "name": "stdout",
     "output_type": "stream",
     "text": [
      "{'type': 'CUSTOM', 'options': {'components': [{'type': 'NODES', 'label': 'NODES', 'options': {'hosts': [{'hostname': 'domain_controller'}, {'hostname': 'web_server', 'services': [{'service_name': 'WebServer'}]}, {'hostname': 'database_server', 'folders': [{'folder_name': 'database', 'files': [{'file_name': 'database.db'}]}]}, {'hostname': 'backup_server'}, {'hostname': 'security_suite'}, {'hostname': 'client_1'}, {'hostname': 'client_2'}], 'num_services': 1, 'num_applications': 0, 'num_folders': 1, 'num_files': 1, 'num_nics': 2, 'include_num_access': False, 'include_nmne': True, 'routers': [{'hostname': 'router_1'}], 'num_ports': 0, 'ip_list': ['192.168.1.10', '192.168.1.12', '192.168.1.14', '192.168.1.16', '192.168.1.110', '192.168.10.21', '192.168.10.22', '192.168.10.110'], 'wildcard_list': ['0.0.0.1'], 'port_list': [80, 5432], 'protocol_list': ['ICMP', 'TCP', 'UDP'], 'num_rules': 10}}, {'type': 'LINKS', 'label': 'LINKS', 'options': {'link_references': ['router_1:eth-1<->switch_1:eth-8', 'router_1:eth-2<->switch_2:eth-8', 'switch_1:eth-1<->domain_controller:eth-1', 'switch_1:eth-2<->web_server:eth-1', 'switch_1:eth-3<->database_server:eth-1', 'switch_1:eth-4<->backup_server:eth-1', 'switch_1:eth-7<->security_suite:eth-1', 'switch_2:eth-1<->client_1:eth-1', 'switch_2:eth-2<->client_2:eth-1', 'switch_2:eth-7<->security_suite:eth-2']}}, {'type': 'NONE', 'label': 'ICS', 'options': {}}]}}\n"
     ]
    },
    {
     "name": "stderr",
     "output_type": "stream",
     "text": [
      "2024-04-08 14:54:23,269: Resetting environment, episode 178, avg. reward: -80.50000000000001\n",
      "2024-04-08 14:54:23,273: Saving agent action log to C:\\Users\\CharlieCrane\\primaite\\3.0.0b7\\sessions\\2024-04-08\\14-49-25\\agent_actions\\episode_178.json\n"
     ]
    },
    {
     "name": "stdout",
     "output_type": "stream",
     "text": [
      "{'type': 'CUSTOM', 'options': {'components': [{'type': 'NODES', 'label': 'NODES', 'options': {'hosts': [{'hostname': 'domain_controller'}, {'hostname': 'web_server', 'services': [{'service_name': 'WebServer'}]}, {'hostname': 'database_server', 'folders': [{'folder_name': 'database', 'files': [{'file_name': 'database.db'}]}]}, {'hostname': 'backup_server'}, {'hostname': 'security_suite'}, {'hostname': 'client_1'}, {'hostname': 'client_2'}], 'num_services': 1, 'num_applications': 0, 'num_folders': 1, 'num_files': 1, 'num_nics': 2, 'include_num_access': False, 'include_nmne': True, 'routers': [{'hostname': 'router_1'}], 'num_ports': 0, 'ip_list': ['192.168.1.10', '192.168.1.12', '192.168.1.14', '192.168.1.16', '192.168.1.110', '192.168.10.21', '192.168.10.22', '192.168.10.110'], 'wildcard_list': ['0.0.0.1'], 'port_list': [80, 5432], 'protocol_list': ['ICMP', 'TCP', 'UDP'], 'num_rules': 10}}, {'type': 'LINKS', 'label': 'LINKS', 'options': {'link_references': ['router_1:eth-1<->switch_1:eth-8', 'router_1:eth-2<->switch_2:eth-8', 'switch_1:eth-1<->domain_controller:eth-1', 'switch_1:eth-2<->web_server:eth-1', 'switch_1:eth-3<->database_server:eth-1', 'switch_1:eth-4<->backup_server:eth-1', 'switch_1:eth-7<->security_suite:eth-1', 'switch_2:eth-1<->client_1:eth-1', 'switch_2:eth-2<->client_2:eth-1', 'switch_2:eth-7<->security_suite:eth-2']}}, {'type': 'NONE', 'label': 'ICS', 'options': {}}]}}\n"
     ]
    },
    {
     "name": "stderr",
     "output_type": "stream",
     "text": [
      "2024-04-08 14:54:25,507: Resetting environment, episode 179, avg. reward: -12.849999999999989\n",
      "2024-04-08 14:54:25,510: Saving agent action log to C:\\Users\\CharlieCrane\\primaite\\3.0.0b7\\sessions\\2024-04-08\\14-49-25\\agent_actions\\episode_179.json\n"
     ]
    },
    {
     "name": "stdout",
     "output_type": "stream",
     "text": [
      "{'type': 'CUSTOM', 'options': {'components': [{'type': 'NODES', 'label': 'NODES', 'options': {'hosts': [{'hostname': 'domain_controller'}, {'hostname': 'web_server', 'services': [{'service_name': 'WebServer'}]}, {'hostname': 'database_server', 'folders': [{'folder_name': 'database', 'files': [{'file_name': 'database.db'}]}]}, {'hostname': 'backup_server'}, {'hostname': 'security_suite'}, {'hostname': 'client_1'}, {'hostname': 'client_2'}], 'num_services': 1, 'num_applications': 0, 'num_folders': 1, 'num_files': 1, 'num_nics': 2, 'include_num_access': False, 'include_nmne': True, 'routers': [{'hostname': 'router_1'}], 'num_ports': 0, 'ip_list': ['192.168.1.10', '192.168.1.12', '192.168.1.14', '192.168.1.16', '192.168.1.110', '192.168.10.21', '192.168.10.22', '192.168.10.110'], 'wildcard_list': ['0.0.0.1'], 'port_list': [80, 5432], 'protocol_list': ['ICMP', 'TCP', 'UDP'], 'num_rules': 10}}, {'type': 'LINKS', 'label': 'LINKS', 'options': {'link_references': ['router_1:eth-1<->switch_1:eth-8', 'router_1:eth-2<->switch_2:eth-8', 'switch_1:eth-1<->domain_controller:eth-1', 'switch_1:eth-2<->web_server:eth-1', 'switch_1:eth-3<->database_server:eth-1', 'switch_1:eth-4<->backup_server:eth-1', 'switch_1:eth-7<->security_suite:eth-1', 'switch_2:eth-1<->client_1:eth-1', 'switch_2:eth-2<->client_2:eth-1', 'switch_2:eth-7<->security_suite:eth-2']}}, {'type': 'NONE', 'label': 'ICS', 'options': {}}]}}\n"
     ]
    },
    {
     "name": "stderr",
     "output_type": "stream",
     "text": [
      "2024-04-08 14:54:27,454: Resetting environment, episode 180, avg. reward: -16.949999999999996\n",
      "2024-04-08 14:54:27,458: Saving agent action log to C:\\Users\\CharlieCrane\\primaite\\3.0.0b7\\sessions\\2024-04-08\\14-49-25\\agent_actions\\episode_180.json\n"
     ]
    },
    {
     "name": "stdout",
     "output_type": "stream",
     "text": [
      "{'type': 'CUSTOM', 'options': {'components': [{'type': 'NODES', 'label': 'NODES', 'options': {'hosts': [{'hostname': 'domain_controller'}, {'hostname': 'web_server', 'services': [{'service_name': 'WebServer'}]}, {'hostname': 'database_server', 'folders': [{'folder_name': 'database', 'files': [{'file_name': 'database.db'}]}]}, {'hostname': 'backup_server'}, {'hostname': 'security_suite'}, {'hostname': 'client_1'}, {'hostname': 'client_2'}], 'num_services': 1, 'num_applications': 0, 'num_folders': 1, 'num_files': 1, 'num_nics': 2, 'include_num_access': False, 'include_nmne': True, 'routers': [{'hostname': 'router_1'}], 'num_ports': 0, 'ip_list': ['192.168.1.10', '192.168.1.12', '192.168.1.14', '192.168.1.16', '192.168.1.110', '192.168.10.21', '192.168.10.22', '192.168.10.110'], 'wildcard_list': ['0.0.0.1'], 'port_list': [80, 5432], 'protocol_list': ['ICMP', 'TCP', 'UDP'], 'num_rules': 10}}, {'type': 'LINKS', 'label': 'LINKS', 'options': {'link_references': ['router_1:eth-1<->switch_1:eth-8', 'router_1:eth-2<->switch_2:eth-8', 'switch_1:eth-1<->domain_controller:eth-1', 'switch_1:eth-2<->web_server:eth-1', 'switch_1:eth-3<->database_server:eth-1', 'switch_1:eth-4<->backup_server:eth-1', 'switch_1:eth-7<->security_suite:eth-1', 'switch_2:eth-1<->client_1:eth-1', 'switch_2:eth-2<->client_2:eth-1', 'switch_2:eth-7<->security_suite:eth-2']}}, {'type': 'NONE', 'label': 'ICS', 'options': {}}]}}\n"
     ]
    },
    {
     "name": "stderr",
     "output_type": "stream",
     "text": [
      "2024-04-08 14:54:29,884: Resetting environment, episode 181, avg. reward: 1.9000000000000221\n",
      "2024-04-08 14:54:29,887: Saving agent action log to C:\\Users\\CharlieCrane\\primaite\\3.0.0b7\\sessions\\2024-04-08\\14-49-25\\agent_actions\\episode_181.json\n"
     ]
    },
    {
     "name": "stdout",
     "output_type": "stream",
     "text": [
      "{'type': 'CUSTOM', 'options': {'components': [{'type': 'NODES', 'label': 'NODES', 'options': {'hosts': [{'hostname': 'domain_controller'}, {'hostname': 'web_server', 'services': [{'service_name': 'WebServer'}]}, {'hostname': 'database_server', 'folders': [{'folder_name': 'database', 'files': [{'file_name': 'database.db'}]}]}, {'hostname': 'backup_server'}, {'hostname': 'security_suite'}, {'hostname': 'client_1'}, {'hostname': 'client_2'}], 'num_services': 1, 'num_applications': 0, 'num_folders': 1, 'num_files': 1, 'num_nics': 2, 'include_num_access': False, 'include_nmne': True, 'routers': [{'hostname': 'router_1'}], 'num_ports': 0, 'ip_list': ['192.168.1.10', '192.168.1.12', '192.168.1.14', '192.168.1.16', '192.168.1.110', '192.168.10.21', '192.168.10.22', '192.168.10.110'], 'wildcard_list': ['0.0.0.1'], 'port_list': [80, 5432], 'protocol_list': ['ICMP', 'TCP', 'UDP'], 'num_rules': 10}}, {'type': 'LINKS', 'label': 'LINKS', 'options': {'link_references': ['router_1:eth-1<->switch_1:eth-8', 'router_1:eth-2<->switch_2:eth-8', 'switch_1:eth-1<->domain_controller:eth-1', 'switch_1:eth-2<->web_server:eth-1', 'switch_1:eth-3<->database_server:eth-1', 'switch_1:eth-4<->backup_server:eth-1', 'switch_1:eth-7<->security_suite:eth-1', 'switch_2:eth-1<->client_1:eth-1', 'switch_2:eth-2<->client_2:eth-1', 'switch_2:eth-7<->security_suite:eth-2']}}, {'type': 'NONE', 'label': 'ICS', 'options': {}}]}}\n"
     ]
    },
    {
     "name": "stderr",
     "output_type": "stream",
     "text": [
      "2024-04-08 14:54:32,113: Resetting environment, episode 182, avg. reward: 9.500000000000046\n",
      "2024-04-08 14:54:32,117: Saving agent action log to C:\\Users\\CharlieCrane\\primaite\\3.0.0b7\\sessions\\2024-04-08\\14-49-25\\agent_actions\\episode_182.json\n"
     ]
    },
    {
     "name": "stdout",
     "output_type": "stream",
     "text": [
      "{'type': 'CUSTOM', 'options': {'components': [{'type': 'NODES', 'label': 'NODES', 'options': {'hosts': [{'hostname': 'domain_controller'}, {'hostname': 'web_server', 'services': [{'service_name': 'WebServer'}]}, {'hostname': 'database_server', 'folders': [{'folder_name': 'database', 'files': [{'file_name': 'database.db'}]}]}, {'hostname': 'backup_server'}, {'hostname': 'security_suite'}, {'hostname': 'client_1'}, {'hostname': 'client_2'}], 'num_services': 1, 'num_applications': 0, 'num_folders': 1, 'num_files': 1, 'num_nics': 2, 'include_num_access': False, 'include_nmne': True, 'routers': [{'hostname': 'router_1'}], 'num_ports': 0, 'ip_list': ['192.168.1.10', '192.168.1.12', '192.168.1.14', '192.168.1.16', '192.168.1.110', '192.168.10.21', '192.168.10.22', '192.168.10.110'], 'wildcard_list': ['0.0.0.1'], 'port_list': [80, 5432], 'protocol_list': ['ICMP', 'TCP', 'UDP'], 'num_rules': 10}}, {'type': 'LINKS', 'label': 'LINKS', 'options': {'link_references': ['router_1:eth-1<->switch_1:eth-8', 'router_1:eth-2<->switch_2:eth-8', 'switch_1:eth-1<->domain_controller:eth-1', 'switch_1:eth-2<->web_server:eth-1', 'switch_1:eth-3<->database_server:eth-1', 'switch_1:eth-4<->backup_server:eth-1', 'switch_1:eth-7<->security_suite:eth-1', 'switch_2:eth-1<->client_1:eth-1', 'switch_2:eth-2<->client_2:eth-1', 'switch_2:eth-7<->security_suite:eth-2']}}, {'type': 'NONE', 'label': 'ICS', 'options': {}}]}}\n"
     ]
    },
    {
     "name": "stderr",
     "output_type": "stream",
     "text": [
      "2024-04-08 14:54:34,283: Resetting environment, episode 183, avg. reward: -91.0500000000001\n",
      "2024-04-08 14:54:34,286: Saving agent action log to C:\\Users\\CharlieCrane\\primaite\\3.0.0b7\\sessions\\2024-04-08\\14-49-25\\agent_actions\\episode_183.json\n"
     ]
    },
    {
     "name": "stdout",
     "output_type": "stream",
     "text": [
      "{'type': 'CUSTOM', 'options': {'components': [{'type': 'NODES', 'label': 'NODES', 'options': {'hosts': [{'hostname': 'domain_controller'}, {'hostname': 'web_server', 'services': [{'service_name': 'WebServer'}]}, {'hostname': 'database_server', 'folders': [{'folder_name': 'database', 'files': [{'file_name': 'database.db'}]}]}, {'hostname': 'backup_server'}, {'hostname': 'security_suite'}, {'hostname': 'client_1'}, {'hostname': 'client_2'}], 'num_services': 1, 'num_applications': 0, 'num_folders': 1, 'num_files': 1, 'num_nics': 2, 'include_num_access': False, 'include_nmne': True, 'routers': [{'hostname': 'router_1'}], 'num_ports': 0, 'ip_list': ['192.168.1.10', '192.168.1.12', '192.168.1.14', '192.168.1.16', '192.168.1.110', '192.168.10.21', '192.168.10.22', '192.168.10.110'], 'wildcard_list': ['0.0.0.1'], 'port_list': [80, 5432], 'protocol_list': ['ICMP', 'TCP', 'UDP'], 'num_rules': 10}}, {'type': 'LINKS', 'label': 'LINKS', 'options': {'link_references': ['router_1:eth-1<->switch_1:eth-8', 'router_1:eth-2<->switch_2:eth-8', 'switch_1:eth-1<->domain_controller:eth-1', 'switch_1:eth-2<->web_server:eth-1', 'switch_1:eth-3<->database_server:eth-1', 'switch_1:eth-4<->backup_server:eth-1', 'switch_1:eth-7<->security_suite:eth-1', 'switch_2:eth-1<->client_1:eth-1', 'switch_2:eth-2<->client_2:eth-1', 'switch_2:eth-7<->security_suite:eth-2']}}, {'type': 'NONE', 'label': 'ICS', 'options': {}}]}}\n"
     ]
    },
    {
     "name": "stderr",
     "output_type": "stream",
     "text": [
      "2024-04-08 14:54:36,330: Resetting environment, episode 184, avg. reward: -43.15000000000006\n",
      "2024-04-08 14:54:36,332: Saving agent action log to C:\\Users\\CharlieCrane\\primaite\\3.0.0b7\\sessions\\2024-04-08\\14-49-25\\agent_actions\\episode_184.json\n"
     ]
    },
    {
     "name": "stdout",
     "output_type": "stream",
     "text": [
      "{'type': 'CUSTOM', 'options': {'components': [{'type': 'NODES', 'label': 'NODES', 'options': {'hosts': [{'hostname': 'domain_controller'}, {'hostname': 'web_server', 'services': [{'service_name': 'WebServer'}]}, {'hostname': 'database_server', 'folders': [{'folder_name': 'database', 'files': [{'file_name': 'database.db'}]}]}, {'hostname': 'backup_server'}, {'hostname': 'security_suite'}, {'hostname': 'client_1'}, {'hostname': 'client_2'}], 'num_services': 1, 'num_applications': 0, 'num_folders': 1, 'num_files': 1, 'num_nics': 2, 'include_num_access': False, 'include_nmne': True, 'routers': [{'hostname': 'router_1'}], 'num_ports': 0, 'ip_list': ['192.168.1.10', '192.168.1.12', '192.168.1.14', '192.168.1.16', '192.168.1.110', '192.168.10.21', '192.168.10.22', '192.168.10.110'], 'wildcard_list': ['0.0.0.1'], 'port_list': [80, 5432], 'protocol_list': ['ICMP', 'TCP', 'UDP'], 'num_rules': 10}}, {'type': 'LINKS', 'label': 'LINKS', 'options': {'link_references': ['router_1:eth-1<->switch_1:eth-8', 'router_1:eth-2<->switch_2:eth-8', 'switch_1:eth-1<->domain_controller:eth-1', 'switch_1:eth-2<->web_server:eth-1', 'switch_1:eth-3<->database_server:eth-1', 'switch_1:eth-4<->backup_server:eth-1', 'switch_1:eth-7<->security_suite:eth-1', 'switch_2:eth-1<->client_1:eth-1', 'switch_2:eth-2<->client_2:eth-1', 'switch_2:eth-7<->security_suite:eth-2']}}, {'type': 'NONE', 'label': 'ICS', 'options': {}}]}}\n"
     ]
    },
    {
     "name": "stderr",
     "output_type": "stream",
     "text": [
      "2024-04-08 14:54:38,270: Resetting environment, episode 185, avg. reward: -99.0\n",
      "2024-04-08 14:54:38,274: Saving agent action log to C:\\Users\\CharlieCrane\\primaite\\3.0.0b7\\sessions\\2024-04-08\\14-49-25\\agent_actions\\episode_185.json\n"
     ]
    },
    {
     "name": "stdout",
     "output_type": "stream",
     "text": [
      "{'type': 'CUSTOM', 'options': {'components': [{'type': 'NODES', 'label': 'NODES', 'options': {'hosts': [{'hostname': 'domain_controller'}, {'hostname': 'web_server', 'services': [{'service_name': 'WebServer'}]}, {'hostname': 'database_server', 'folders': [{'folder_name': 'database', 'files': [{'file_name': 'database.db'}]}]}, {'hostname': 'backup_server'}, {'hostname': 'security_suite'}, {'hostname': 'client_1'}, {'hostname': 'client_2'}], 'num_services': 1, 'num_applications': 0, 'num_folders': 1, 'num_files': 1, 'num_nics': 2, 'include_num_access': False, 'include_nmne': True, 'routers': [{'hostname': 'router_1'}], 'num_ports': 0, 'ip_list': ['192.168.1.10', '192.168.1.12', '192.168.1.14', '192.168.1.16', '192.168.1.110', '192.168.10.21', '192.168.10.22', '192.168.10.110'], 'wildcard_list': ['0.0.0.1'], 'port_list': [80, 5432], 'protocol_list': ['ICMP', 'TCP', 'UDP'], 'num_rules': 10}}, {'type': 'LINKS', 'label': 'LINKS', 'options': {'link_references': ['router_1:eth-1<->switch_1:eth-8', 'router_1:eth-2<->switch_2:eth-8', 'switch_1:eth-1<->domain_controller:eth-1', 'switch_1:eth-2<->web_server:eth-1', 'switch_1:eth-3<->database_server:eth-1', 'switch_1:eth-4<->backup_server:eth-1', 'switch_1:eth-7<->security_suite:eth-1', 'switch_2:eth-1<->client_1:eth-1', 'switch_2:eth-2<->client_2:eth-1', 'switch_2:eth-7<->security_suite:eth-2']}}, {'type': 'NONE', 'label': 'ICS', 'options': {}}]}}\n"
     ]
    },
    {
     "name": "stderr",
     "output_type": "stream",
     "text": [
      "2024-04-08 14:54:40,645: Resetting environment, episode 186, avg. reward: -19.849999999999962\n",
      "2024-04-08 14:54:40,648: Saving agent action log to C:\\Users\\CharlieCrane\\primaite\\3.0.0b7\\sessions\\2024-04-08\\14-49-25\\agent_actions\\episode_186.json\n"
     ]
    },
    {
     "name": "stdout",
     "output_type": "stream",
     "text": [
      "{'type': 'CUSTOM', 'options': {'components': [{'type': 'NODES', 'label': 'NODES', 'options': {'hosts': [{'hostname': 'domain_controller'}, {'hostname': 'web_server', 'services': [{'service_name': 'WebServer'}]}, {'hostname': 'database_server', 'folders': [{'folder_name': 'database', 'files': [{'file_name': 'database.db'}]}]}, {'hostname': 'backup_server'}, {'hostname': 'security_suite'}, {'hostname': 'client_1'}, {'hostname': 'client_2'}], 'num_services': 1, 'num_applications': 0, 'num_folders': 1, 'num_files': 1, 'num_nics': 2, 'include_num_access': False, 'include_nmne': True, 'routers': [{'hostname': 'router_1'}], 'num_ports': 0, 'ip_list': ['192.168.1.10', '192.168.1.12', '192.168.1.14', '192.168.1.16', '192.168.1.110', '192.168.10.21', '192.168.10.22', '192.168.10.110'], 'wildcard_list': ['0.0.0.1'], 'port_list': [80, 5432], 'protocol_list': ['ICMP', 'TCP', 'UDP'], 'num_rules': 10}}, {'type': 'LINKS', 'label': 'LINKS', 'options': {'link_references': ['router_1:eth-1<->switch_1:eth-8', 'router_1:eth-2<->switch_2:eth-8', 'switch_1:eth-1<->domain_controller:eth-1', 'switch_1:eth-2<->web_server:eth-1', 'switch_1:eth-3<->database_server:eth-1', 'switch_1:eth-4<->backup_server:eth-1', 'switch_1:eth-7<->security_suite:eth-1', 'switch_2:eth-1<->client_1:eth-1', 'switch_2:eth-2<->client_2:eth-1', 'switch_2:eth-7<->security_suite:eth-2']}}, {'type': 'NONE', 'label': 'ICS', 'options': {}}]}}\n"
     ]
    },
    {
     "name": "stderr",
     "output_type": "stream",
     "text": [
      "2024-04-08 14:54:42,998: Resetting environment, episode 187, avg. reward: -24.299999999999983\n",
      "2024-04-08 14:54:43,002: Saving agent action log to C:\\Users\\CharlieCrane\\primaite\\3.0.0b7\\sessions\\2024-04-08\\14-49-25\\agent_actions\\episode_187.json\n"
     ]
    },
    {
     "name": "stdout",
     "output_type": "stream",
     "text": [
      "{'type': 'CUSTOM', 'options': {'components': [{'type': 'NODES', 'label': 'NODES', 'options': {'hosts': [{'hostname': 'domain_controller'}, {'hostname': 'web_server', 'services': [{'service_name': 'WebServer'}]}, {'hostname': 'database_server', 'folders': [{'folder_name': 'database', 'files': [{'file_name': 'database.db'}]}]}, {'hostname': 'backup_server'}, {'hostname': 'security_suite'}, {'hostname': 'client_1'}, {'hostname': 'client_2'}], 'num_services': 1, 'num_applications': 0, 'num_folders': 1, 'num_files': 1, 'num_nics': 2, 'include_num_access': False, 'include_nmne': True, 'routers': [{'hostname': 'router_1'}], 'num_ports': 0, 'ip_list': ['192.168.1.10', '192.168.1.12', '192.168.1.14', '192.168.1.16', '192.168.1.110', '192.168.10.21', '192.168.10.22', '192.168.10.110'], 'wildcard_list': ['0.0.0.1'], 'port_list': [80, 5432], 'protocol_list': ['ICMP', 'TCP', 'UDP'], 'num_rules': 10}}, {'type': 'LINKS', 'label': 'LINKS', 'options': {'link_references': ['router_1:eth-1<->switch_1:eth-8', 'router_1:eth-2<->switch_2:eth-8', 'switch_1:eth-1<->domain_controller:eth-1', 'switch_1:eth-2<->web_server:eth-1', 'switch_1:eth-3<->database_server:eth-1', 'switch_1:eth-4<->backup_server:eth-1', 'switch_1:eth-7<->security_suite:eth-1', 'switch_2:eth-1<->client_1:eth-1', 'switch_2:eth-2<->client_2:eth-1', 'switch_2:eth-7<->security_suite:eth-2']}}, {'type': 'NONE', 'label': 'ICS', 'options': {}}]}}\n"
     ]
    },
    {
     "name": "stderr",
     "output_type": "stream",
     "text": [
      "2024-04-08 14:54:45,260: Resetting environment, episode 188, avg. reward: -15.449999999999973\n",
      "2024-04-08 14:54:45,263: Saving agent action log to C:\\Users\\CharlieCrane\\primaite\\3.0.0b7\\sessions\\2024-04-08\\14-49-25\\agent_actions\\episode_188.json\n"
     ]
    },
    {
     "name": "stdout",
     "output_type": "stream",
     "text": [
      "{'type': 'CUSTOM', 'options': {'components': [{'type': 'NODES', 'label': 'NODES', 'options': {'hosts': [{'hostname': 'domain_controller'}, {'hostname': 'web_server', 'services': [{'service_name': 'WebServer'}]}, {'hostname': 'database_server', 'folders': [{'folder_name': 'database', 'files': [{'file_name': 'database.db'}]}]}, {'hostname': 'backup_server'}, {'hostname': 'security_suite'}, {'hostname': 'client_1'}, {'hostname': 'client_2'}], 'num_services': 1, 'num_applications': 0, 'num_folders': 1, 'num_files': 1, 'num_nics': 2, 'include_num_access': False, 'include_nmne': True, 'routers': [{'hostname': 'router_1'}], 'num_ports': 0, 'ip_list': ['192.168.1.10', '192.168.1.12', '192.168.1.14', '192.168.1.16', '192.168.1.110', '192.168.10.21', '192.168.10.22', '192.168.10.110'], 'wildcard_list': ['0.0.0.1'], 'port_list': [80, 5432], 'protocol_list': ['ICMP', 'TCP', 'UDP'], 'num_rules': 10}}, {'type': 'LINKS', 'label': 'LINKS', 'options': {'link_references': ['router_1:eth-1<->switch_1:eth-8', 'router_1:eth-2<->switch_2:eth-8', 'switch_1:eth-1<->domain_controller:eth-1', 'switch_1:eth-2<->web_server:eth-1', 'switch_1:eth-3<->database_server:eth-1', 'switch_1:eth-4<->backup_server:eth-1', 'switch_1:eth-7<->security_suite:eth-1', 'switch_2:eth-1<->client_1:eth-1', 'switch_2:eth-2<->client_2:eth-1', 'switch_2:eth-7<->security_suite:eth-2']}}, {'type': 'NONE', 'label': 'ICS', 'options': {}}]}}\n"
     ]
    },
    {
     "name": "stderr",
     "output_type": "stream",
     "text": [
      "2024-04-08 14:54:47,356: Resetting environment, episode 189, avg. reward: -46.15000000000005\n",
      "2024-04-08 14:54:47,362: Saving agent action log to C:\\Users\\CharlieCrane\\primaite\\3.0.0b7\\sessions\\2024-04-08\\14-49-25\\agent_actions\\episode_189.json\n"
     ]
    },
    {
     "name": "stdout",
     "output_type": "stream",
     "text": [
      "{'type': 'CUSTOM', 'options': {'components': [{'type': 'NODES', 'label': 'NODES', 'options': {'hosts': [{'hostname': 'domain_controller'}, {'hostname': 'web_server', 'services': [{'service_name': 'WebServer'}]}, {'hostname': 'database_server', 'folders': [{'folder_name': 'database', 'files': [{'file_name': 'database.db'}]}]}, {'hostname': 'backup_server'}, {'hostname': 'security_suite'}, {'hostname': 'client_1'}, {'hostname': 'client_2'}], 'num_services': 1, 'num_applications': 0, 'num_folders': 1, 'num_files': 1, 'num_nics': 2, 'include_num_access': False, 'include_nmne': True, 'routers': [{'hostname': 'router_1'}], 'num_ports': 0, 'ip_list': ['192.168.1.10', '192.168.1.12', '192.168.1.14', '192.168.1.16', '192.168.1.110', '192.168.10.21', '192.168.10.22', '192.168.10.110'], 'wildcard_list': ['0.0.0.1'], 'port_list': [80, 5432], 'protocol_list': ['ICMP', 'TCP', 'UDP'], 'num_rules': 10}}, {'type': 'LINKS', 'label': 'LINKS', 'options': {'link_references': ['router_1:eth-1<->switch_1:eth-8', 'router_1:eth-2<->switch_2:eth-8', 'switch_1:eth-1<->domain_controller:eth-1', 'switch_1:eth-2<->web_server:eth-1', 'switch_1:eth-3<->database_server:eth-1', 'switch_1:eth-4<->backup_server:eth-1', 'switch_1:eth-7<->security_suite:eth-1', 'switch_2:eth-1<->client_1:eth-1', 'switch_2:eth-2<->client_2:eth-1', 'switch_2:eth-7<->security_suite:eth-2']}}, {'type': 'NONE', 'label': 'ICS', 'options': {}}]}}\n"
     ]
    },
    {
     "name": "stderr",
     "output_type": "stream",
     "text": [
      "2024-04-08 14:54:49,422: Resetting environment, episode 190, avg. reward: -15.849999999999996\n",
      "2024-04-08 14:54:49,425: Saving agent action log to C:\\Users\\CharlieCrane\\primaite\\3.0.0b7\\sessions\\2024-04-08\\14-49-25\\agent_actions\\episode_190.json\n"
     ]
    },
    {
     "name": "stdout",
     "output_type": "stream",
     "text": [
      "{'type': 'CUSTOM', 'options': {'components': [{'type': 'NODES', 'label': 'NODES', 'options': {'hosts': [{'hostname': 'domain_controller'}, {'hostname': 'web_server', 'services': [{'service_name': 'WebServer'}]}, {'hostname': 'database_server', 'folders': [{'folder_name': 'database', 'files': [{'file_name': 'database.db'}]}]}, {'hostname': 'backup_server'}, {'hostname': 'security_suite'}, {'hostname': 'client_1'}, {'hostname': 'client_2'}], 'num_services': 1, 'num_applications': 0, 'num_folders': 1, 'num_files': 1, 'num_nics': 2, 'include_num_access': False, 'include_nmne': True, 'routers': [{'hostname': 'router_1'}], 'num_ports': 0, 'ip_list': ['192.168.1.10', '192.168.1.12', '192.168.1.14', '192.168.1.16', '192.168.1.110', '192.168.10.21', '192.168.10.22', '192.168.10.110'], 'wildcard_list': ['0.0.0.1'], 'port_list': [80, 5432], 'protocol_list': ['ICMP', 'TCP', 'UDP'], 'num_rules': 10}}, {'type': 'LINKS', 'label': 'LINKS', 'options': {'link_references': ['router_1:eth-1<->switch_1:eth-8', 'router_1:eth-2<->switch_2:eth-8', 'switch_1:eth-1<->domain_controller:eth-1', 'switch_1:eth-2<->web_server:eth-1', 'switch_1:eth-3<->database_server:eth-1', 'switch_1:eth-4<->backup_server:eth-1', 'switch_1:eth-7<->security_suite:eth-1', 'switch_2:eth-1<->client_1:eth-1', 'switch_2:eth-2<->client_2:eth-1', 'switch_2:eth-7<->security_suite:eth-2']}}, {'type': 'NONE', 'label': 'ICS', 'options': {}}]}}\n"
     ]
    },
    {
     "name": "stderr",
     "output_type": "stream",
     "text": [
      "2024-04-08 14:54:51,753: Resetting environment, episode 191, avg. reward: 2.200000000000034\n",
      "2024-04-08 14:54:51,757: Saving agent action log to C:\\Users\\CharlieCrane\\primaite\\3.0.0b7\\sessions\\2024-04-08\\14-49-25\\agent_actions\\episode_191.json\n"
     ]
    },
    {
     "name": "stdout",
     "output_type": "stream",
     "text": [
      "{'type': 'CUSTOM', 'options': {'components': [{'type': 'NODES', 'label': 'NODES', 'options': {'hosts': [{'hostname': 'domain_controller'}, {'hostname': 'web_server', 'services': [{'service_name': 'WebServer'}]}, {'hostname': 'database_server', 'folders': [{'folder_name': 'database', 'files': [{'file_name': 'database.db'}]}]}, {'hostname': 'backup_server'}, {'hostname': 'security_suite'}, {'hostname': 'client_1'}, {'hostname': 'client_2'}], 'num_services': 1, 'num_applications': 0, 'num_folders': 1, 'num_files': 1, 'num_nics': 2, 'include_num_access': False, 'include_nmne': True, 'routers': [{'hostname': 'router_1'}], 'num_ports': 0, 'ip_list': ['192.168.1.10', '192.168.1.12', '192.168.1.14', '192.168.1.16', '192.168.1.110', '192.168.10.21', '192.168.10.22', '192.168.10.110'], 'wildcard_list': ['0.0.0.1'], 'port_list': [80, 5432], 'protocol_list': ['ICMP', 'TCP', 'UDP'], 'num_rules': 10}}, {'type': 'LINKS', 'label': 'LINKS', 'options': {'link_references': ['router_1:eth-1<->switch_1:eth-8', 'router_1:eth-2<->switch_2:eth-8', 'switch_1:eth-1<->domain_controller:eth-1', 'switch_1:eth-2<->web_server:eth-1', 'switch_1:eth-3<->database_server:eth-1', 'switch_1:eth-4<->backup_server:eth-1', 'switch_1:eth-7<->security_suite:eth-1', 'switch_2:eth-1<->client_1:eth-1', 'switch_2:eth-2<->client_2:eth-1', 'switch_2:eth-7<->security_suite:eth-2']}}, {'type': 'NONE', 'label': 'ICS', 'options': {}}]}}\n"
     ]
    },
    {
     "name": "stderr",
     "output_type": "stream",
     "text": [
      "2024-04-08 14:54:54,077: Resetting environment, episode 192, avg. reward: 8.950000000000049\n",
      "2024-04-08 14:54:54,081: Saving agent action log to C:\\Users\\CharlieCrane\\primaite\\3.0.0b7\\sessions\\2024-04-08\\14-49-25\\agent_actions\\episode_192.json\n"
     ]
    },
    {
     "name": "stdout",
     "output_type": "stream",
     "text": [
      "{'type': 'CUSTOM', 'options': {'components': [{'type': 'NODES', 'label': 'NODES', 'options': {'hosts': [{'hostname': 'domain_controller'}, {'hostname': 'web_server', 'services': [{'service_name': 'WebServer'}]}, {'hostname': 'database_server', 'folders': [{'folder_name': 'database', 'files': [{'file_name': 'database.db'}]}]}, {'hostname': 'backup_server'}, {'hostname': 'security_suite'}, {'hostname': 'client_1'}, {'hostname': 'client_2'}], 'num_services': 1, 'num_applications': 0, 'num_folders': 1, 'num_files': 1, 'num_nics': 2, 'include_num_access': False, 'include_nmne': True, 'routers': [{'hostname': 'router_1'}], 'num_ports': 0, 'ip_list': ['192.168.1.10', '192.168.1.12', '192.168.1.14', '192.168.1.16', '192.168.1.110', '192.168.10.21', '192.168.10.22', '192.168.10.110'], 'wildcard_list': ['0.0.0.1'], 'port_list': [80, 5432], 'protocol_list': ['ICMP', 'TCP', 'UDP'], 'num_rules': 10}}, {'type': 'LINKS', 'label': 'LINKS', 'options': {'link_references': ['router_1:eth-1<->switch_1:eth-8', 'router_1:eth-2<->switch_2:eth-8', 'switch_1:eth-1<->domain_controller:eth-1', 'switch_1:eth-2<->web_server:eth-1', 'switch_1:eth-3<->database_server:eth-1', 'switch_1:eth-4<->backup_server:eth-1', 'switch_1:eth-7<->security_suite:eth-1', 'switch_2:eth-1<->client_1:eth-1', 'switch_2:eth-2<->client_2:eth-1', 'switch_2:eth-7<->security_suite:eth-2']}}, {'type': 'NONE', 'label': 'ICS', 'options': {}}]}}\n"
     ]
    },
    {
     "name": "stderr",
     "output_type": "stream",
     "text": [
      "2024-04-08 14:54:56,257: Resetting environment, episode 193, avg. reward: -10.949999999999985\n",
      "2024-04-08 14:54:56,261: Saving agent action log to C:\\Users\\CharlieCrane\\primaite\\3.0.0b7\\sessions\\2024-04-08\\14-49-25\\agent_actions\\episode_193.json\n"
     ]
    },
    {
     "name": "stdout",
     "output_type": "stream",
     "text": [
      "{'type': 'CUSTOM', 'options': {'components': [{'type': 'NODES', 'label': 'NODES', 'options': {'hosts': [{'hostname': 'domain_controller'}, {'hostname': 'web_server', 'services': [{'service_name': 'WebServer'}]}, {'hostname': 'database_server', 'folders': [{'folder_name': 'database', 'files': [{'file_name': 'database.db'}]}]}, {'hostname': 'backup_server'}, {'hostname': 'security_suite'}, {'hostname': 'client_1'}, {'hostname': 'client_2'}], 'num_services': 1, 'num_applications': 0, 'num_folders': 1, 'num_files': 1, 'num_nics': 2, 'include_num_access': False, 'include_nmne': True, 'routers': [{'hostname': 'router_1'}], 'num_ports': 0, 'ip_list': ['192.168.1.10', '192.168.1.12', '192.168.1.14', '192.168.1.16', '192.168.1.110', '192.168.10.21', '192.168.10.22', '192.168.10.110'], 'wildcard_list': ['0.0.0.1'], 'port_list': [80, 5432], 'protocol_list': ['ICMP', 'TCP', 'UDP'], 'num_rules': 10}}, {'type': 'LINKS', 'label': 'LINKS', 'options': {'link_references': ['router_1:eth-1<->switch_1:eth-8', 'router_1:eth-2<->switch_2:eth-8', 'switch_1:eth-1<->domain_controller:eth-1', 'switch_1:eth-2<->web_server:eth-1', 'switch_1:eth-3<->database_server:eth-1', 'switch_1:eth-4<->backup_server:eth-1', 'switch_1:eth-7<->security_suite:eth-1', 'switch_2:eth-1<->client_1:eth-1', 'switch_2:eth-2<->client_2:eth-1', 'switch_2:eth-7<->security_suite:eth-2']}}, {'type': 'NONE', 'label': 'ICS', 'options': {}}]}}\n"
     ]
    },
    {
     "name": "stderr",
     "output_type": "stream",
     "text": [
      "2024-04-08 14:54:59,376: Resetting environment, episode 194, avg. reward: -23.449999999999957\n",
      "2024-04-08 14:54:59,379: Saving agent action log to C:\\Users\\CharlieCrane\\primaite\\3.0.0b7\\sessions\\2024-04-08\\14-49-25\\agent_actions\\episode_194.json\n"
     ]
    },
    {
     "name": "stdout",
     "output_type": "stream",
     "text": [
      "{'type': 'CUSTOM', 'options': {'components': [{'type': 'NODES', 'label': 'NODES', 'options': {'hosts': [{'hostname': 'domain_controller'}, {'hostname': 'web_server', 'services': [{'service_name': 'WebServer'}]}, {'hostname': 'database_server', 'folders': [{'folder_name': 'database', 'files': [{'file_name': 'database.db'}]}]}, {'hostname': 'backup_server'}, {'hostname': 'security_suite'}, {'hostname': 'client_1'}, {'hostname': 'client_2'}], 'num_services': 1, 'num_applications': 0, 'num_folders': 1, 'num_files': 1, 'num_nics': 2, 'include_num_access': False, 'include_nmne': True, 'routers': [{'hostname': 'router_1'}], 'num_ports': 0, 'ip_list': ['192.168.1.10', '192.168.1.12', '192.168.1.14', '192.168.1.16', '192.168.1.110', '192.168.10.21', '192.168.10.22', '192.168.10.110'], 'wildcard_list': ['0.0.0.1'], 'port_list': [80, 5432], 'protocol_list': ['ICMP', 'TCP', 'UDP'], 'num_rules': 10}}, {'type': 'LINKS', 'label': 'LINKS', 'options': {'link_references': ['router_1:eth-1<->switch_1:eth-8', 'router_1:eth-2<->switch_2:eth-8', 'switch_1:eth-1<->domain_controller:eth-1', 'switch_1:eth-2<->web_server:eth-1', 'switch_1:eth-3<->database_server:eth-1', 'switch_1:eth-4<->backup_server:eth-1', 'switch_1:eth-7<->security_suite:eth-1', 'switch_2:eth-1<->client_1:eth-1', 'switch_2:eth-2<->client_2:eth-1', 'switch_2:eth-7<->security_suite:eth-2']}}, {'type': 'NONE', 'label': 'ICS', 'options': {}}]}}\n"
     ]
    },
    {
     "name": "stderr",
     "output_type": "stream",
     "text": [
      "2024-04-08 14:55:02,626: Resetting environment, episode 195, avg. reward: -98.24999999999996\n",
      "2024-04-08 14:55:02,630: Saving agent action log to C:\\Users\\CharlieCrane\\primaite\\3.0.0b7\\sessions\\2024-04-08\\14-49-25\\agent_actions\\episode_195.json\n"
     ]
    },
    {
     "name": "stdout",
     "output_type": "stream",
     "text": [
      "{'type': 'CUSTOM', 'options': {'components': [{'type': 'NODES', 'label': 'NODES', 'options': {'hosts': [{'hostname': 'domain_controller'}, {'hostname': 'web_server', 'services': [{'service_name': 'WebServer'}]}, {'hostname': 'database_server', 'folders': [{'folder_name': 'database', 'files': [{'file_name': 'database.db'}]}]}, {'hostname': 'backup_server'}, {'hostname': 'security_suite'}, {'hostname': 'client_1'}, {'hostname': 'client_2'}], 'num_services': 1, 'num_applications': 0, 'num_folders': 1, 'num_files': 1, 'num_nics': 2, 'include_num_access': False, 'include_nmne': True, 'routers': [{'hostname': 'router_1'}], 'num_ports': 0, 'ip_list': ['192.168.1.10', '192.168.1.12', '192.168.1.14', '192.168.1.16', '192.168.1.110', '192.168.10.21', '192.168.10.22', '192.168.10.110'], 'wildcard_list': ['0.0.0.1'], 'port_list': [80, 5432], 'protocol_list': ['ICMP', 'TCP', 'UDP'], 'num_rules': 10}}, {'type': 'LINKS', 'label': 'LINKS', 'options': {'link_references': ['router_1:eth-1<->switch_1:eth-8', 'router_1:eth-2<->switch_2:eth-8', 'switch_1:eth-1<->domain_controller:eth-1', 'switch_1:eth-2<->web_server:eth-1', 'switch_1:eth-3<->database_server:eth-1', 'switch_1:eth-4<->backup_server:eth-1', 'switch_1:eth-7<->security_suite:eth-1', 'switch_2:eth-1<->client_1:eth-1', 'switch_2:eth-2<->client_2:eth-1', 'switch_2:eth-7<->security_suite:eth-2']}}, {'type': 'NONE', 'label': 'ICS', 'options': {}}]}}\n"
     ]
    },
    {
     "name": "stderr",
     "output_type": "stream",
     "text": [
      "2024-04-08 14:55:05,232: Resetting environment, episode 196, avg. reward: -20.299999999999976\n",
      "2024-04-08 14:55:05,236: Saving agent action log to C:\\Users\\CharlieCrane\\primaite\\3.0.0b7\\sessions\\2024-04-08\\14-49-25\\agent_actions\\episode_196.json\n"
     ]
    },
    {
     "name": "stdout",
     "output_type": "stream",
     "text": [
      "{'type': 'CUSTOM', 'options': {'components': [{'type': 'NODES', 'label': 'NODES', 'options': {'hosts': [{'hostname': 'domain_controller'}, {'hostname': 'web_server', 'services': [{'service_name': 'WebServer'}]}, {'hostname': 'database_server', 'folders': [{'folder_name': 'database', 'files': [{'file_name': 'database.db'}]}]}, {'hostname': 'backup_server'}, {'hostname': 'security_suite'}, {'hostname': 'client_1'}, {'hostname': 'client_2'}], 'num_services': 1, 'num_applications': 0, 'num_folders': 1, 'num_files': 1, 'num_nics': 2, 'include_num_access': False, 'include_nmne': True, 'routers': [{'hostname': 'router_1'}], 'num_ports': 0, 'ip_list': ['192.168.1.10', '192.168.1.12', '192.168.1.14', '192.168.1.16', '192.168.1.110', '192.168.10.21', '192.168.10.22', '192.168.10.110'], 'wildcard_list': ['0.0.0.1'], 'port_list': [80, 5432], 'protocol_list': ['ICMP', 'TCP', 'UDP'], 'num_rules': 10}}, {'type': 'LINKS', 'label': 'LINKS', 'options': {'link_references': ['router_1:eth-1<->switch_1:eth-8', 'router_1:eth-2<->switch_2:eth-8', 'switch_1:eth-1<->domain_controller:eth-1', 'switch_1:eth-2<->web_server:eth-1', 'switch_1:eth-3<->database_server:eth-1', 'switch_1:eth-4<->backup_server:eth-1', 'switch_1:eth-7<->security_suite:eth-1', 'switch_2:eth-1<->client_1:eth-1', 'switch_2:eth-2<->client_2:eth-1', 'switch_2:eth-7<->security_suite:eth-2']}}, {'type': 'NONE', 'label': 'ICS', 'options': {}}]}}\n"
     ]
    },
    {
     "name": "stderr",
     "output_type": "stream",
     "text": [
      "2024-04-08 14:55:08,026: Resetting environment, episode 197, avg. reward: -6.399999999999993\n",
      "2024-04-08 14:55:08,029: Saving agent action log to C:\\Users\\CharlieCrane\\primaite\\3.0.0b7\\sessions\\2024-04-08\\14-49-25\\agent_actions\\episode_197.json\n"
     ]
    },
    {
     "name": "stdout",
     "output_type": "stream",
     "text": [
      "{'type': 'CUSTOM', 'options': {'components': [{'type': 'NODES', 'label': 'NODES', 'options': {'hosts': [{'hostname': 'domain_controller'}, {'hostname': 'web_server', 'services': [{'service_name': 'WebServer'}]}, {'hostname': 'database_server', 'folders': [{'folder_name': 'database', 'files': [{'file_name': 'database.db'}]}]}, {'hostname': 'backup_server'}, {'hostname': 'security_suite'}, {'hostname': 'client_1'}, {'hostname': 'client_2'}], 'num_services': 1, 'num_applications': 0, 'num_folders': 1, 'num_files': 1, 'num_nics': 2, 'include_num_access': False, 'include_nmne': True, 'routers': [{'hostname': 'router_1'}], 'num_ports': 0, 'ip_list': ['192.168.1.10', '192.168.1.12', '192.168.1.14', '192.168.1.16', '192.168.1.110', '192.168.10.21', '192.168.10.22', '192.168.10.110'], 'wildcard_list': ['0.0.0.1'], 'port_list': [80, 5432], 'protocol_list': ['ICMP', 'TCP', 'UDP'], 'num_rules': 10}}, {'type': 'LINKS', 'label': 'LINKS', 'options': {'link_references': ['router_1:eth-1<->switch_1:eth-8', 'router_1:eth-2<->switch_2:eth-8', 'switch_1:eth-1<->domain_controller:eth-1', 'switch_1:eth-2<->web_server:eth-1', 'switch_1:eth-3<->database_server:eth-1', 'switch_1:eth-4<->backup_server:eth-1', 'switch_1:eth-7<->security_suite:eth-1', 'switch_2:eth-1<->client_1:eth-1', 'switch_2:eth-2<->client_2:eth-1', 'switch_2:eth-7<->security_suite:eth-2']}}, {'type': 'NONE', 'label': 'ICS', 'options': {}}]}}\n"
     ]
    },
    {
     "name": "stderr",
     "output_type": "stream",
     "text": [
      "2024-04-08 14:55:09,878: Resetting environment, episode 198, avg. reward: -20.099999999999962\n",
      "2024-04-08 14:55:09,882: Saving agent action log to C:\\Users\\CharlieCrane\\primaite\\3.0.0b7\\sessions\\2024-04-08\\14-49-25\\agent_actions\\episode_198.json\n"
     ]
    },
    {
     "name": "stdout",
     "output_type": "stream",
     "text": [
      "{'type': 'CUSTOM', 'options': {'components': [{'type': 'NODES', 'label': 'NODES', 'options': {'hosts': [{'hostname': 'domain_controller'}, {'hostname': 'web_server', 'services': [{'service_name': 'WebServer'}]}, {'hostname': 'database_server', 'folders': [{'folder_name': 'database', 'files': [{'file_name': 'database.db'}]}]}, {'hostname': 'backup_server'}, {'hostname': 'security_suite'}, {'hostname': 'client_1'}, {'hostname': 'client_2'}], 'num_services': 1, 'num_applications': 0, 'num_folders': 1, 'num_files': 1, 'num_nics': 2, 'include_num_access': False, 'include_nmne': True, 'routers': [{'hostname': 'router_1'}], 'num_ports': 0, 'ip_list': ['192.168.1.10', '192.168.1.12', '192.168.1.14', '192.168.1.16', '192.168.1.110', '192.168.10.21', '192.168.10.22', '192.168.10.110'], 'wildcard_list': ['0.0.0.1'], 'port_list': [80, 5432], 'protocol_list': ['ICMP', 'TCP', 'UDP'], 'num_rules': 10}}, {'type': 'LINKS', 'label': 'LINKS', 'options': {'link_references': ['router_1:eth-1<->switch_1:eth-8', 'router_1:eth-2<->switch_2:eth-8', 'switch_1:eth-1<->domain_controller:eth-1', 'switch_1:eth-2<->web_server:eth-1', 'switch_1:eth-3<->database_server:eth-1', 'switch_1:eth-4<->backup_server:eth-1', 'switch_1:eth-7<->security_suite:eth-1', 'switch_2:eth-1<->client_1:eth-1', 'switch_2:eth-2<->client_2:eth-1', 'switch_2:eth-7<->security_suite:eth-2']}}, {'type': 'NONE', 'label': 'ICS', 'options': {}}]}}\n"
     ]
    },
    {
     "name": "stderr",
     "output_type": "stream",
     "text": [
      "2024-04-08 14:55:12,337: Resetting environment, episode 199, avg. reward: -20.59999999999996\n",
      "2024-04-08 14:55:12,340: Saving agent action log to C:\\Users\\CharlieCrane\\primaite\\3.0.0b7\\sessions\\2024-04-08\\14-49-25\\agent_actions\\episode_199.json\n"
     ]
    },
    {
     "name": "stdout",
     "output_type": "stream",
     "text": [
      "{'type': 'CUSTOM', 'options': {'components': [{'type': 'NODES', 'label': 'NODES', 'options': {'hosts': [{'hostname': 'domain_controller'}, {'hostname': 'web_server', 'services': [{'service_name': 'WebServer'}]}, {'hostname': 'database_server', 'folders': [{'folder_name': 'database', 'files': [{'file_name': 'database.db'}]}]}, {'hostname': 'backup_server'}, {'hostname': 'security_suite'}, {'hostname': 'client_1'}, {'hostname': 'client_2'}], 'num_services': 1, 'num_applications': 0, 'num_folders': 1, 'num_files': 1, 'num_nics': 2, 'include_num_access': False, 'include_nmne': True, 'routers': [{'hostname': 'router_1'}], 'num_ports': 0, 'ip_list': ['192.168.1.10', '192.168.1.12', '192.168.1.14', '192.168.1.16', '192.168.1.110', '192.168.10.21', '192.168.10.22', '192.168.10.110'], 'wildcard_list': ['0.0.0.1'], 'port_list': [80, 5432], 'protocol_list': ['ICMP', 'TCP', 'UDP'], 'num_rules': 10}}, {'type': 'LINKS', 'label': 'LINKS', 'options': {'link_references': ['router_1:eth-1<->switch_1:eth-8', 'router_1:eth-2<->switch_2:eth-8', 'switch_1:eth-1<->domain_controller:eth-1', 'switch_1:eth-2<->web_server:eth-1', 'switch_1:eth-3<->database_server:eth-1', 'switch_1:eth-4<->backup_server:eth-1', 'switch_1:eth-7<->security_suite:eth-1', 'switch_2:eth-1<->client_1:eth-1', 'switch_2:eth-2<->client_2:eth-1', 'switch_2:eth-7<->security_suite:eth-2']}}, {'type': 'NONE', 'label': 'ICS', 'options': {}}]}}\n"
     ]
    },
    {
     "name": "stderr",
     "output_type": "stream",
     "text": [
      "2024-04-08 14:55:14,794: Resetting environment, episode 200, avg. reward: -80.65000000000002\n",
      "2024-04-08 14:55:14,798: Saving agent action log to C:\\Users\\CharlieCrane\\primaite\\3.0.0b7\\sessions\\2024-04-08\\14-49-25\\agent_actions\\episode_200.json\n"
     ]
    },
    {
     "name": "stdout",
     "output_type": "stream",
     "text": [
      "{'type': 'CUSTOM', 'options': {'components': [{'type': 'NODES', 'label': 'NODES', 'options': {'hosts': [{'hostname': 'domain_controller'}, {'hostname': 'web_server', 'services': [{'service_name': 'WebServer'}]}, {'hostname': 'database_server', 'folders': [{'folder_name': 'database', 'files': [{'file_name': 'database.db'}]}]}, {'hostname': 'backup_server'}, {'hostname': 'security_suite'}, {'hostname': 'client_1'}, {'hostname': 'client_2'}], 'num_services': 1, 'num_applications': 0, 'num_folders': 1, 'num_files': 1, 'num_nics': 2, 'include_num_access': False, 'include_nmne': True, 'routers': [{'hostname': 'router_1'}], 'num_ports': 0, 'ip_list': ['192.168.1.10', '192.168.1.12', '192.168.1.14', '192.168.1.16', '192.168.1.110', '192.168.10.21', '192.168.10.22', '192.168.10.110'], 'wildcard_list': ['0.0.0.1'], 'port_list': [80, 5432], 'protocol_list': ['ICMP', 'TCP', 'UDP'], 'num_rules': 10}}, {'type': 'LINKS', 'label': 'LINKS', 'options': {'link_references': ['router_1:eth-1<->switch_1:eth-8', 'router_1:eth-2<->switch_2:eth-8', 'switch_1:eth-1<->domain_controller:eth-1', 'switch_1:eth-2<->web_server:eth-1', 'switch_1:eth-3<->database_server:eth-1', 'switch_1:eth-4<->backup_server:eth-1', 'switch_1:eth-7<->security_suite:eth-1', 'switch_2:eth-1<->client_1:eth-1', 'switch_2:eth-2<->client_2:eth-1', 'switch_2:eth-7<->security_suite:eth-2']}}, {'type': 'NONE', 'label': 'ICS', 'options': {}}]}}\n"
     ]
    },
    {
     "name": "stderr",
     "output_type": "stream",
     "text": [
      "2024-04-08 14:55:17,788: Resetting environment, episode 201, avg. reward: 11.249999999999932\n",
      "2024-04-08 14:55:17,792: Saving agent action log to C:\\Users\\CharlieCrane\\primaite\\3.0.0b7\\sessions\\2024-04-08\\14-49-25\\agent_actions\\episode_201.json\n"
     ]
    },
    {
     "name": "stdout",
     "output_type": "stream",
     "text": [
      "{'type': 'CUSTOM', 'options': {'components': [{'type': 'NODES', 'label': 'NODES', 'options': {'hosts': [{'hostname': 'domain_controller'}, {'hostname': 'web_server', 'services': [{'service_name': 'WebServer'}]}, {'hostname': 'database_server', 'folders': [{'folder_name': 'database', 'files': [{'file_name': 'database.db'}]}]}, {'hostname': 'backup_server'}, {'hostname': 'security_suite'}, {'hostname': 'client_1'}, {'hostname': 'client_2'}], 'num_services': 1, 'num_applications': 0, 'num_folders': 1, 'num_files': 1, 'num_nics': 2, 'include_num_access': False, 'include_nmne': True, 'routers': [{'hostname': 'router_1'}], 'num_ports': 0, 'ip_list': ['192.168.1.10', '192.168.1.12', '192.168.1.14', '192.168.1.16', '192.168.1.110', '192.168.10.21', '192.168.10.22', '192.168.10.110'], 'wildcard_list': ['0.0.0.1'], 'port_list': [80, 5432], 'protocol_list': ['ICMP', 'TCP', 'UDP'], 'num_rules': 10}}, {'type': 'LINKS', 'label': 'LINKS', 'options': {'link_references': ['router_1:eth-1<->switch_1:eth-8', 'router_1:eth-2<->switch_2:eth-8', 'switch_1:eth-1<->domain_controller:eth-1', 'switch_1:eth-2<->web_server:eth-1', 'switch_1:eth-3<->database_server:eth-1', 'switch_1:eth-4<->backup_server:eth-1', 'switch_1:eth-7<->security_suite:eth-1', 'switch_2:eth-1<->client_1:eth-1', 'switch_2:eth-2<->client_2:eth-1', 'switch_2:eth-7<->security_suite:eth-2']}}, {'type': 'NONE', 'label': 'ICS', 'options': {}}]}}\n"
     ]
    },
    {
     "name": "stderr",
     "output_type": "stream",
     "text": [
      "2024-04-08 14:55:20,227: Resetting environment, episode 202, avg. reward: -85.35\n",
      "2024-04-08 14:55:20,230: Saving agent action log to C:\\Users\\CharlieCrane\\primaite\\3.0.0b7\\sessions\\2024-04-08\\14-49-25\\agent_actions\\episode_202.json\n"
     ]
    },
    {
     "name": "stdout",
     "output_type": "stream",
     "text": [
      "{'type': 'CUSTOM', 'options': {'components': [{'type': 'NODES', 'label': 'NODES', 'options': {'hosts': [{'hostname': 'domain_controller'}, {'hostname': 'web_server', 'services': [{'service_name': 'WebServer'}]}, {'hostname': 'database_server', 'folders': [{'folder_name': 'database', 'files': [{'file_name': 'database.db'}]}]}, {'hostname': 'backup_server'}, {'hostname': 'security_suite'}, {'hostname': 'client_1'}, {'hostname': 'client_2'}], 'num_services': 1, 'num_applications': 0, 'num_folders': 1, 'num_files': 1, 'num_nics': 2, 'include_num_access': False, 'include_nmne': True, 'routers': [{'hostname': 'router_1'}], 'num_ports': 0, 'ip_list': ['192.168.1.10', '192.168.1.12', '192.168.1.14', '192.168.1.16', '192.168.1.110', '192.168.10.21', '192.168.10.22', '192.168.10.110'], 'wildcard_list': ['0.0.0.1'], 'port_list': [80, 5432], 'protocol_list': ['ICMP', 'TCP', 'UDP'], 'num_rules': 10}}, {'type': 'LINKS', 'label': 'LINKS', 'options': {'link_references': ['router_1:eth-1<->switch_1:eth-8', 'router_1:eth-2<->switch_2:eth-8', 'switch_1:eth-1<->domain_controller:eth-1', 'switch_1:eth-2<->web_server:eth-1', 'switch_1:eth-3<->database_server:eth-1', 'switch_1:eth-4<->backup_server:eth-1', 'switch_1:eth-7<->security_suite:eth-1', 'switch_2:eth-1<->client_1:eth-1', 'switch_2:eth-2<->client_2:eth-1', 'switch_2:eth-7<->security_suite:eth-2']}}, {'type': 'NONE', 'label': 'ICS', 'options': {}}]}}\n"
     ]
    },
    {
     "name": "stderr",
     "output_type": "stream",
     "text": [
      "2024-04-08 14:55:22,623: Resetting environment, episode 203, avg. reward: -67.9\n",
      "2024-04-08 14:55:22,626: Saving agent action log to C:\\Users\\CharlieCrane\\primaite\\3.0.0b7\\sessions\\2024-04-08\\14-49-25\\agent_actions\\episode_203.json\n"
     ]
    },
    {
     "name": "stdout",
     "output_type": "stream",
     "text": [
      "{'type': 'CUSTOM', 'options': {'components': [{'type': 'NODES', 'label': 'NODES', 'options': {'hosts': [{'hostname': 'domain_controller'}, {'hostname': 'web_server', 'services': [{'service_name': 'WebServer'}]}, {'hostname': 'database_server', 'folders': [{'folder_name': 'database', 'files': [{'file_name': 'database.db'}]}]}, {'hostname': 'backup_server'}, {'hostname': 'security_suite'}, {'hostname': 'client_1'}, {'hostname': 'client_2'}], 'num_services': 1, 'num_applications': 0, 'num_folders': 1, 'num_files': 1, 'num_nics': 2, 'include_num_access': False, 'include_nmne': True, 'routers': [{'hostname': 'router_1'}], 'num_ports': 0, 'ip_list': ['192.168.1.10', '192.168.1.12', '192.168.1.14', '192.168.1.16', '192.168.1.110', '192.168.10.21', '192.168.10.22', '192.168.10.110'], 'wildcard_list': ['0.0.0.1'], 'port_list': [80, 5432], 'protocol_list': ['ICMP', 'TCP', 'UDP'], 'num_rules': 10}}, {'type': 'LINKS', 'label': 'LINKS', 'options': {'link_references': ['router_1:eth-1<->switch_1:eth-8', 'router_1:eth-2<->switch_2:eth-8', 'switch_1:eth-1<->domain_controller:eth-1', 'switch_1:eth-2<->web_server:eth-1', 'switch_1:eth-3<->database_server:eth-1', 'switch_1:eth-4<->backup_server:eth-1', 'switch_1:eth-7<->security_suite:eth-1', 'switch_2:eth-1<->client_1:eth-1', 'switch_2:eth-2<->client_2:eth-1', 'switch_2:eth-7<->security_suite:eth-2']}}, {'type': 'NONE', 'label': 'ICS', 'options': {}}]}}\n"
     ]
    },
    {
     "name": "stderr",
     "output_type": "stream",
     "text": [
      "2024-04-08 14:55:27,001: Resetting environment, episode 204, avg. reward: -94.30000000000017\n",
      "2024-04-08 14:55:27,004: Saving agent action log to C:\\Users\\CharlieCrane\\primaite\\3.0.0b7\\sessions\\2024-04-08\\14-49-25\\agent_actions\\episode_204.json\n"
     ]
    },
    {
     "name": "stdout",
     "output_type": "stream",
     "text": [
      "{'type': 'CUSTOM', 'options': {'components': [{'type': 'NODES', 'label': 'NODES', 'options': {'hosts': [{'hostname': 'domain_controller'}, {'hostname': 'web_server', 'services': [{'service_name': 'WebServer'}]}, {'hostname': 'database_server', 'folders': [{'folder_name': 'database', 'files': [{'file_name': 'database.db'}]}]}, {'hostname': 'backup_server'}, {'hostname': 'security_suite'}, {'hostname': 'client_1'}, {'hostname': 'client_2'}], 'num_services': 1, 'num_applications': 0, 'num_folders': 1, 'num_files': 1, 'num_nics': 2, 'include_num_access': False, 'include_nmne': True, 'routers': [{'hostname': 'router_1'}], 'num_ports': 0, 'ip_list': ['192.168.1.10', '192.168.1.12', '192.168.1.14', '192.168.1.16', '192.168.1.110', '192.168.10.21', '192.168.10.22', '192.168.10.110'], 'wildcard_list': ['0.0.0.1'], 'port_list': [80, 5432], 'protocol_list': ['ICMP', 'TCP', 'UDP'], 'num_rules': 10}}, {'type': 'LINKS', 'label': 'LINKS', 'options': {'link_references': ['router_1:eth-1<->switch_1:eth-8', 'router_1:eth-2<->switch_2:eth-8', 'switch_1:eth-1<->domain_controller:eth-1', 'switch_1:eth-2<->web_server:eth-1', 'switch_1:eth-3<->database_server:eth-1', 'switch_1:eth-4<->backup_server:eth-1', 'switch_1:eth-7<->security_suite:eth-1', 'switch_2:eth-1<->client_1:eth-1', 'switch_2:eth-2<->client_2:eth-1', 'switch_2:eth-7<->security_suite:eth-2']}}, {'type': 'NONE', 'label': 'ICS', 'options': {}}]}}\n"
     ]
    },
    {
     "name": "stderr",
     "output_type": "stream",
     "text": [
      "2024-04-08 14:55:28,803: Resetting environment, episode 205, avg. reward: -30.39999999999997\n",
      "2024-04-08 14:55:28,808: Saving agent action log to C:\\Users\\CharlieCrane\\primaite\\3.0.0b7\\sessions\\2024-04-08\\14-49-25\\agent_actions\\episode_205.json\n"
     ]
    },
    {
     "name": "stdout",
     "output_type": "stream",
     "text": [
      "{'type': 'CUSTOM', 'options': {'components': [{'type': 'NODES', 'label': 'NODES', 'options': {'hosts': [{'hostname': 'domain_controller'}, {'hostname': 'web_server', 'services': [{'service_name': 'WebServer'}]}, {'hostname': 'database_server', 'folders': [{'folder_name': 'database', 'files': [{'file_name': 'database.db'}]}]}, {'hostname': 'backup_server'}, {'hostname': 'security_suite'}, {'hostname': 'client_1'}, {'hostname': 'client_2'}], 'num_services': 1, 'num_applications': 0, 'num_folders': 1, 'num_files': 1, 'num_nics': 2, 'include_num_access': False, 'include_nmne': True, 'routers': [{'hostname': 'router_1'}], 'num_ports': 0, 'ip_list': ['192.168.1.10', '192.168.1.12', '192.168.1.14', '192.168.1.16', '192.168.1.110', '192.168.10.21', '192.168.10.22', '192.168.10.110'], 'wildcard_list': ['0.0.0.1'], 'port_list': [80, 5432], 'protocol_list': ['ICMP', 'TCP', 'UDP'], 'num_rules': 10}}, {'type': 'LINKS', 'label': 'LINKS', 'options': {'link_references': ['router_1:eth-1<->switch_1:eth-8', 'router_1:eth-2<->switch_2:eth-8', 'switch_1:eth-1<->domain_controller:eth-1', 'switch_1:eth-2<->web_server:eth-1', 'switch_1:eth-3<->database_server:eth-1', 'switch_1:eth-4<->backup_server:eth-1', 'switch_1:eth-7<->security_suite:eth-1', 'switch_2:eth-1<->client_1:eth-1', 'switch_2:eth-2<->client_2:eth-1', 'switch_2:eth-7<->security_suite:eth-2']}}, {'type': 'NONE', 'label': 'ICS', 'options': {}}]}}\n"
     ]
    },
    {
     "name": "stderr",
     "output_type": "stream",
     "text": [
      "2024-04-08 14:55:30,621: Resetting environment, episode 206, avg. reward: -25.14999999999995\n",
      "2024-04-08 14:55:30,623: Saving agent action log to C:\\Users\\CharlieCrane\\primaite\\3.0.0b7\\sessions\\2024-04-08\\14-49-25\\agent_actions\\episode_206.json\n"
     ]
    },
    {
     "name": "stdout",
     "output_type": "stream",
     "text": [
      "{'type': 'CUSTOM', 'options': {'components': [{'type': 'NODES', 'label': 'NODES', 'options': {'hosts': [{'hostname': 'domain_controller'}, {'hostname': 'web_server', 'services': [{'service_name': 'WebServer'}]}, {'hostname': 'database_server', 'folders': [{'folder_name': 'database', 'files': [{'file_name': 'database.db'}]}]}, {'hostname': 'backup_server'}, {'hostname': 'security_suite'}, {'hostname': 'client_1'}, {'hostname': 'client_2'}], 'num_services': 1, 'num_applications': 0, 'num_folders': 1, 'num_files': 1, 'num_nics': 2, 'include_num_access': False, 'include_nmne': True, 'routers': [{'hostname': 'router_1'}], 'num_ports': 0, 'ip_list': ['192.168.1.10', '192.168.1.12', '192.168.1.14', '192.168.1.16', '192.168.1.110', '192.168.10.21', '192.168.10.22', '192.168.10.110'], 'wildcard_list': ['0.0.0.1'], 'port_list': [80, 5432], 'protocol_list': ['ICMP', 'TCP', 'UDP'], 'num_rules': 10}}, {'type': 'LINKS', 'label': 'LINKS', 'options': {'link_references': ['router_1:eth-1<->switch_1:eth-8', 'router_1:eth-2<->switch_2:eth-8', 'switch_1:eth-1<->domain_controller:eth-1', 'switch_1:eth-2<->web_server:eth-1', 'switch_1:eth-3<->database_server:eth-1', 'switch_1:eth-4<->backup_server:eth-1', 'switch_1:eth-7<->security_suite:eth-1', 'switch_2:eth-1<->client_1:eth-1', 'switch_2:eth-2<->client_2:eth-1', 'switch_2:eth-7<->security_suite:eth-2']}}, {'type': 'NONE', 'label': 'ICS', 'options': {}}]}}\n"
     ]
    },
    {
     "name": "stderr",
     "output_type": "stream",
     "text": [
      "2024-04-08 14:55:32,191: Resetting environment, episode 207, avg. reward: -98.14999999999998\n",
      "2024-04-08 14:55:32,194: Saving agent action log to C:\\Users\\CharlieCrane\\primaite\\3.0.0b7\\sessions\\2024-04-08\\14-49-25\\agent_actions\\episode_207.json\n"
     ]
    },
    {
     "name": "stdout",
     "output_type": "stream",
     "text": [
      "{'type': 'CUSTOM', 'options': {'components': [{'type': 'NODES', 'label': 'NODES', 'options': {'hosts': [{'hostname': 'domain_controller'}, {'hostname': 'web_server', 'services': [{'service_name': 'WebServer'}]}, {'hostname': 'database_server', 'folders': [{'folder_name': 'database', 'files': [{'file_name': 'database.db'}]}]}, {'hostname': 'backup_server'}, {'hostname': 'security_suite'}, {'hostname': 'client_1'}, {'hostname': 'client_2'}], 'num_services': 1, 'num_applications': 0, 'num_folders': 1, 'num_files': 1, 'num_nics': 2, 'include_num_access': False, 'include_nmne': True, 'routers': [{'hostname': 'router_1'}], 'num_ports': 0, 'ip_list': ['192.168.1.10', '192.168.1.12', '192.168.1.14', '192.168.1.16', '192.168.1.110', '192.168.10.21', '192.168.10.22', '192.168.10.110'], 'wildcard_list': ['0.0.0.1'], 'port_list': [80, 5432], 'protocol_list': ['ICMP', 'TCP', 'UDP'], 'num_rules': 10}}, {'type': 'LINKS', 'label': 'LINKS', 'options': {'link_references': ['router_1:eth-1<->switch_1:eth-8', 'router_1:eth-2<->switch_2:eth-8', 'switch_1:eth-1<->domain_controller:eth-1', 'switch_1:eth-2<->web_server:eth-1', 'switch_1:eth-3<->database_server:eth-1', 'switch_1:eth-4<->backup_server:eth-1', 'switch_1:eth-7<->security_suite:eth-1', 'switch_2:eth-1<->client_1:eth-1', 'switch_2:eth-2<->client_2:eth-1', 'switch_2:eth-7<->security_suite:eth-2']}}, {'type': 'NONE', 'label': 'ICS', 'options': {}}]}}\n"
     ]
    },
    {
     "name": "stderr",
     "output_type": "stream",
     "text": [
      "2024-04-08 14:55:33,920: Resetting environment, episode 208, avg. reward: -17.64999999999998\n",
      "2024-04-08 14:55:33,923: Saving agent action log to C:\\Users\\CharlieCrane\\primaite\\3.0.0b7\\sessions\\2024-04-08\\14-49-25\\agent_actions\\episode_208.json\n"
     ]
    },
    {
     "name": "stdout",
     "output_type": "stream",
     "text": [
      "{'type': 'CUSTOM', 'options': {'components': [{'type': 'NODES', 'label': 'NODES', 'options': {'hosts': [{'hostname': 'domain_controller'}, {'hostname': 'web_server', 'services': [{'service_name': 'WebServer'}]}, {'hostname': 'database_server', 'folders': [{'folder_name': 'database', 'files': [{'file_name': 'database.db'}]}]}, {'hostname': 'backup_server'}, {'hostname': 'security_suite'}, {'hostname': 'client_1'}, {'hostname': 'client_2'}], 'num_services': 1, 'num_applications': 0, 'num_folders': 1, 'num_files': 1, 'num_nics': 2, 'include_num_access': False, 'include_nmne': True, 'routers': [{'hostname': 'router_1'}], 'num_ports': 0, 'ip_list': ['192.168.1.10', '192.168.1.12', '192.168.1.14', '192.168.1.16', '192.168.1.110', '192.168.10.21', '192.168.10.22', '192.168.10.110'], 'wildcard_list': ['0.0.0.1'], 'port_list': [80, 5432], 'protocol_list': ['ICMP', 'TCP', 'UDP'], 'num_rules': 10}}, {'type': 'LINKS', 'label': 'LINKS', 'options': {'link_references': ['router_1:eth-1<->switch_1:eth-8', 'router_1:eth-2<->switch_2:eth-8', 'switch_1:eth-1<->domain_controller:eth-1', 'switch_1:eth-2<->web_server:eth-1', 'switch_1:eth-3<->database_server:eth-1', 'switch_1:eth-4<->backup_server:eth-1', 'switch_1:eth-7<->security_suite:eth-1', 'switch_2:eth-1<->client_1:eth-1', 'switch_2:eth-2<->client_2:eth-1', 'switch_2:eth-7<->security_suite:eth-2']}}, {'type': 'NONE', 'label': 'ICS', 'options': {}}]}}\n"
     ]
    },
    {
     "name": "stderr",
     "output_type": "stream",
     "text": [
      "2024-04-08 14:55:36,333: Resetting environment, episode 209, avg. reward: -88.25\n",
      "2024-04-08 14:55:36,336: Saving agent action log to C:\\Users\\CharlieCrane\\primaite\\3.0.0b7\\sessions\\2024-04-08\\14-49-25\\agent_actions\\episode_209.json\n"
     ]
    },
    {
     "name": "stdout",
     "output_type": "stream",
     "text": [
      "{'type': 'CUSTOM', 'options': {'components': [{'type': 'NODES', 'label': 'NODES', 'options': {'hosts': [{'hostname': 'domain_controller'}, {'hostname': 'web_server', 'services': [{'service_name': 'WebServer'}]}, {'hostname': 'database_server', 'folders': [{'folder_name': 'database', 'files': [{'file_name': 'database.db'}]}]}, {'hostname': 'backup_server'}, {'hostname': 'security_suite'}, {'hostname': 'client_1'}, {'hostname': 'client_2'}], 'num_services': 1, 'num_applications': 0, 'num_folders': 1, 'num_files': 1, 'num_nics': 2, 'include_num_access': False, 'include_nmne': True, 'routers': [{'hostname': 'router_1'}], 'num_ports': 0, 'ip_list': ['192.168.1.10', '192.168.1.12', '192.168.1.14', '192.168.1.16', '192.168.1.110', '192.168.10.21', '192.168.10.22', '192.168.10.110'], 'wildcard_list': ['0.0.0.1'], 'port_list': [80, 5432], 'protocol_list': ['ICMP', 'TCP', 'UDP'], 'num_rules': 10}}, {'type': 'LINKS', 'label': 'LINKS', 'options': {'link_references': ['router_1:eth-1<->switch_1:eth-8', 'router_1:eth-2<->switch_2:eth-8', 'switch_1:eth-1<->domain_controller:eth-1', 'switch_1:eth-2<->web_server:eth-1', 'switch_1:eth-3<->database_server:eth-1', 'switch_1:eth-4<->backup_server:eth-1', 'switch_1:eth-7<->security_suite:eth-1', 'switch_2:eth-1<->client_1:eth-1', 'switch_2:eth-2<->client_2:eth-1', 'switch_2:eth-7<->security_suite:eth-2']}}, {'type': 'NONE', 'label': 'ICS', 'options': {}}]}}\n"
     ]
    },
    {
     "name": "stderr",
     "output_type": "stream",
     "text": [
      "2024-04-08 14:55:38,489: Resetting environment, episode 210, avg. reward: -85.35\n",
      "2024-04-08 14:55:38,494: Saving agent action log to C:\\Users\\CharlieCrane\\primaite\\3.0.0b7\\sessions\\2024-04-08\\14-49-25\\agent_actions\\episode_210.json\n"
     ]
    },
    {
     "name": "stdout",
     "output_type": "stream",
     "text": [
      "{'type': 'CUSTOM', 'options': {'components': [{'type': 'NODES', 'label': 'NODES', 'options': {'hosts': [{'hostname': 'domain_controller'}, {'hostname': 'web_server', 'services': [{'service_name': 'WebServer'}]}, {'hostname': 'database_server', 'folders': [{'folder_name': 'database', 'files': [{'file_name': 'database.db'}]}]}, {'hostname': 'backup_server'}, {'hostname': 'security_suite'}, {'hostname': 'client_1'}, {'hostname': 'client_2'}], 'num_services': 1, 'num_applications': 0, 'num_folders': 1, 'num_files': 1, 'num_nics': 2, 'include_num_access': False, 'include_nmne': True, 'routers': [{'hostname': 'router_1'}], 'num_ports': 0, 'ip_list': ['192.168.1.10', '192.168.1.12', '192.168.1.14', '192.168.1.16', '192.168.1.110', '192.168.10.21', '192.168.10.22', '192.168.10.110'], 'wildcard_list': ['0.0.0.1'], 'port_list': [80, 5432], 'protocol_list': ['ICMP', 'TCP', 'UDP'], 'num_rules': 10}}, {'type': 'LINKS', 'label': 'LINKS', 'options': {'link_references': ['router_1:eth-1<->switch_1:eth-8', 'router_1:eth-2<->switch_2:eth-8', 'switch_1:eth-1<->domain_controller:eth-1', 'switch_1:eth-2<->web_server:eth-1', 'switch_1:eth-3<->database_server:eth-1', 'switch_1:eth-4<->backup_server:eth-1', 'switch_1:eth-7<->security_suite:eth-1', 'switch_2:eth-1<->client_1:eth-1', 'switch_2:eth-2<->client_2:eth-1', 'switch_2:eth-7<->security_suite:eth-2']}}, {'type': 'NONE', 'label': 'ICS', 'options': {}}]}}\n"
     ]
    },
    {
     "name": "stderr",
     "output_type": "stream",
     "text": [
      "2024-04-08 14:55:40,664: Resetting environment, episode 211, avg. reward: -15.649999999999979\n",
      "2024-04-08 14:55:40,668: Saving agent action log to C:\\Users\\CharlieCrane\\primaite\\3.0.0b7\\sessions\\2024-04-08\\14-49-25\\agent_actions\\episode_211.json\n"
     ]
    },
    {
     "name": "stdout",
     "output_type": "stream",
     "text": [
      "{'type': 'CUSTOM', 'options': {'components': [{'type': 'NODES', 'label': 'NODES', 'options': {'hosts': [{'hostname': 'domain_controller'}, {'hostname': 'web_server', 'services': [{'service_name': 'WebServer'}]}, {'hostname': 'database_server', 'folders': [{'folder_name': 'database', 'files': [{'file_name': 'database.db'}]}]}, {'hostname': 'backup_server'}, {'hostname': 'security_suite'}, {'hostname': 'client_1'}, {'hostname': 'client_2'}], 'num_services': 1, 'num_applications': 0, 'num_folders': 1, 'num_files': 1, 'num_nics': 2, 'include_num_access': False, 'include_nmne': True, 'routers': [{'hostname': 'router_1'}], 'num_ports': 0, 'ip_list': ['192.168.1.10', '192.168.1.12', '192.168.1.14', '192.168.1.16', '192.168.1.110', '192.168.10.21', '192.168.10.22', '192.168.10.110'], 'wildcard_list': ['0.0.0.1'], 'port_list': [80, 5432], 'protocol_list': ['ICMP', 'TCP', 'UDP'], 'num_rules': 10}}, {'type': 'LINKS', 'label': 'LINKS', 'options': {'link_references': ['router_1:eth-1<->switch_1:eth-8', 'router_1:eth-2<->switch_2:eth-8', 'switch_1:eth-1<->domain_controller:eth-1', 'switch_1:eth-2<->web_server:eth-1', 'switch_1:eth-3<->database_server:eth-1', 'switch_1:eth-4<->backup_server:eth-1', 'switch_1:eth-7<->security_suite:eth-1', 'switch_2:eth-1<->client_1:eth-1', 'switch_2:eth-2<->client_2:eth-1', 'switch_2:eth-7<->security_suite:eth-2']}}, {'type': 'NONE', 'label': 'ICS', 'options': {}}]}}\n"
     ]
    },
    {
     "name": "stderr",
     "output_type": "stream",
     "text": [
      "2024-04-08 14:55:42,341: Resetting environment, episode 212, avg. reward: -15.24999999999998\n",
      "2024-04-08 14:55:42,344: Saving agent action log to C:\\Users\\CharlieCrane\\primaite\\3.0.0b7\\sessions\\2024-04-08\\14-49-25\\agent_actions\\episode_212.json\n"
     ]
    },
    {
     "name": "stdout",
     "output_type": "stream",
     "text": [
      "{'type': 'CUSTOM', 'options': {'components': [{'type': 'NODES', 'label': 'NODES', 'options': {'hosts': [{'hostname': 'domain_controller'}, {'hostname': 'web_server', 'services': [{'service_name': 'WebServer'}]}, {'hostname': 'database_server', 'folders': [{'folder_name': 'database', 'files': [{'file_name': 'database.db'}]}]}, {'hostname': 'backup_server'}, {'hostname': 'security_suite'}, {'hostname': 'client_1'}, {'hostname': 'client_2'}], 'num_services': 1, 'num_applications': 0, 'num_folders': 1, 'num_files': 1, 'num_nics': 2, 'include_num_access': False, 'include_nmne': True, 'routers': [{'hostname': 'router_1'}], 'num_ports': 0, 'ip_list': ['192.168.1.10', '192.168.1.12', '192.168.1.14', '192.168.1.16', '192.168.1.110', '192.168.10.21', '192.168.10.22', '192.168.10.110'], 'wildcard_list': ['0.0.0.1'], 'port_list': [80, 5432], 'protocol_list': ['ICMP', 'TCP', 'UDP'], 'num_rules': 10}}, {'type': 'LINKS', 'label': 'LINKS', 'options': {'link_references': ['router_1:eth-1<->switch_1:eth-8', 'router_1:eth-2<->switch_2:eth-8', 'switch_1:eth-1<->domain_controller:eth-1', 'switch_1:eth-2<->web_server:eth-1', 'switch_1:eth-3<->database_server:eth-1', 'switch_1:eth-4<->backup_server:eth-1', 'switch_1:eth-7<->security_suite:eth-1', 'switch_2:eth-1<->client_1:eth-1', 'switch_2:eth-2<->client_2:eth-1', 'switch_2:eth-7<->security_suite:eth-2']}}, {'type': 'NONE', 'label': 'ICS', 'options': {}}]}}\n"
     ]
    },
    {
     "name": "stderr",
     "output_type": "stream",
     "text": [
      "2024-04-08 14:55:43,931: Resetting environment, episode 213, avg. reward: -100.25000000000009\n",
      "2024-04-08 14:55:43,935: Saving agent action log to C:\\Users\\CharlieCrane\\primaite\\3.0.0b7\\sessions\\2024-04-08\\14-49-25\\agent_actions\\episode_213.json\n"
     ]
    },
    {
     "name": "stdout",
     "output_type": "stream",
     "text": [
      "{'type': 'CUSTOM', 'options': {'components': [{'type': 'NODES', 'label': 'NODES', 'options': {'hosts': [{'hostname': 'domain_controller'}, {'hostname': 'web_server', 'services': [{'service_name': 'WebServer'}]}, {'hostname': 'database_server', 'folders': [{'folder_name': 'database', 'files': [{'file_name': 'database.db'}]}]}, {'hostname': 'backup_server'}, {'hostname': 'security_suite'}, {'hostname': 'client_1'}, {'hostname': 'client_2'}], 'num_services': 1, 'num_applications': 0, 'num_folders': 1, 'num_files': 1, 'num_nics': 2, 'include_num_access': False, 'include_nmne': True, 'routers': [{'hostname': 'router_1'}], 'num_ports': 0, 'ip_list': ['192.168.1.10', '192.168.1.12', '192.168.1.14', '192.168.1.16', '192.168.1.110', '192.168.10.21', '192.168.10.22', '192.168.10.110'], 'wildcard_list': ['0.0.0.1'], 'port_list': [80, 5432], 'protocol_list': ['ICMP', 'TCP', 'UDP'], 'num_rules': 10}}, {'type': 'LINKS', 'label': 'LINKS', 'options': {'link_references': ['router_1:eth-1<->switch_1:eth-8', 'router_1:eth-2<->switch_2:eth-8', 'switch_1:eth-1<->domain_controller:eth-1', 'switch_1:eth-2<->web_server:eth-1', 'switch_1:eth-3<->database_server:eth-1', 'switch_1:eth-4<->backup_server:eth-1', 'switch_1:eth-7<->security_suite:eth-1', 'switch_2:eth-1<->client_1:eth-1', 'switch_2:eth-2<->client_2:eth-1', 'switch_2:eth-7<->security_suite:eth-2']}}, {'type': 'NONE', 'label': 'ICS', 'options': {}}]}}\n"
     ]
    },
    {
     "name": "stderr",
     "output_type": "stream",
     "text": [
      "2024-04-08 14:55:45,687: Resetting environment, episode 214, avg. reward: -50.59999999999998\n",
      "2024-04-08 14:55:45,690: Saving agent action log to C:\\Users\\CharlieCrane\\primaite\\3.0.0b7\\sessions\\2024-04-08\\14-49-25\\agent_actions\\episode_214.json\n"
     ]
    },
    {
     "name": "stdout",
     "output_type": "stream",
     "text": [
      "{'type': 'CUSTOM', 'options': {'components': [{'type': 'NODES', 'label': 'NODES', 'options': {'hosts': [{'hostname': 'domain_controller'}, {'hostname': 'web_server', 'services': [{'service_name': 'WebServer'}]}, {'hostname': 'database_server', 'folders': [{'folder_name': 'database', 'files': [{'file_name': 'database.db'}]}]}, {'hostname': 'backup_server'}, {'hostname': 'security_suite'}, {'hostname': 'client_1'}, {'hostname': 'client_2'}], 'num_services': 1, 'num_applications': 0, 'num_folders': 1, 'num_files': 1, 'num_nics': 2, 'include_num_access': False, 'include_nmne': True, 'routers': [{'hostname': 'router_1'}], 'num_ports': 0, 'ip_list': ['192.168.1.10', '192.168.1.12', '192.168.1.14', '192.168.1.16', '192.168.1.110', '192.168.10.21', '192.168.10.22', '192.168.10.110'], 'wildcard_list': ['0.0.0.1'], 'port_list': [80, 5432], 'protocol_list': ['ICMP', 'TCP', 'UDP'], 'num_rules': 10}}, {'type': 'LINKS', 'label': 'LINKS', 'options': {'link_references': ['router_1:eth-1<->switch_1:eth-8', 'router_1:eth-2<->switch_2:eth-8', 'switch_1:eth-1<->domain_controller:eth-1', 'switch_1:eth-2<->web_server:eth-1', 'switch_1:eth-3<->database_server:eth-1', 'switch_1:eth-4<->backup_server:eth-1', 'switch_1:eth-7<->security_suite:eth-1', 'switch_2:eth-1<->client_1:eth-1', 'switch_2:eth-2<->client_2:eth-1', 'switch_2:eth-7<->security_suite:eth-2']}}, {'type': 'NONE', 'label': 'ICS', 'options': {}}]}}\n"
     ]
    },
    {
     "name": "stderr",
     "output_type": "stream",
     "text": [
      "2024-04-08 14:55:47,397: Resetting environment, episode 215, avg. reward: -14.94999999999998\n",
      "2024-04-08 14:55:47,400: Saving agent action log to C:\\Users\\CharlieCrane\\primaite\\3.0.0b7\\sessions\\2024-04-08\\14-49-25\\agent_actions\\episode_215.json\n"
     ]
    },
    {
     "name": "stdout",
     "output_type": "stream",
     "text": [
      "{'type': 'CUSTOM', 'options': {'components': [{'type': 'NODES', 'label': 'NODES', 'options': {'hosts': [{'hostname': 'domain_controller'}, {'hostname': 'web_server', 'services': [{'service_name': 'WebServer'}]}, {'hostname': 'database_server', 'folders': [{'folder_name': 'database', 'files': [{'file_name': 'database.db'}]}]}, {'hostname': 'backup_server'}, {'hostname': 'security_suite'}, {'hostname': 'client_1'}, {'hostname': 'client_2'}], 'num_services': 1, 'num_applications': 0, 'num_folders': 1, 'num_files': 1, 'num_nics': 2, 'include_num_access': False, 'include_nmne': True, 'routers': [{'hostname': 'router_1'}], 'num_ports': 0, 'ip_list': ['192.168.1.10', '192.168.1.12', '192.168.1.14', '192.168.1.16', '192.168.1.110', '192.168.10.21', '192.168.10.22', '192.168.10.110'], 'wildcard_list': ['0.0.0.1'], 'port_list': [80, 5432], 'protocol_list': ['ICMP', 'TCP', 'UDP'], 'num_rules': 10}}, {'type': 'LINKS', 'label': 'LINKS', 'options': {'link_references': ['router_1:eth-1<->switch_1:eth-8', 'router_1:eth-2<->switch_2:eth-8', 'switch_1:eth-1<->domain_controller:eth-1', 'switch_1:eth-2<->web_server:eth-1', 'switch_1:eth-3<->database_server:eth-1', 'switch_1:eth-4<->backup_server:eth-1', 'switch_1:eth-7<->security_suite:eth-1', 'switch_2:eth-1<->client_1:eth-1', 'switch_2:eth-2<->client_2:eth-1', 'switch_2:eth-7<->security_suite:eth-2']}}, {'type': 'NONE', 'label': 'ICS', 'options': {}}]}}\n"
     ]
    },
    {
     "name": "stderr",
     "output_type": "stream",
     "text": [
      "2024-04-08 14:55:49,303: Resetting environment, episode 216, avg. reward: -91.64999999999995\n",
      "2024-04-08 14:55:49,306: Saving agent action log to C:\\Users\\CharlieCrane\\primaite\\3.0.0b7\\sessions\\2024-04-08\\14-49-25\\agent_actions\\episode_216.json\n"
     ]
    },
    {
     "name": "stdout",
     "output_type": "stream",
     "text": [
      "{'type': 'CUSTOM', 'options': {'components': [{'type': 'NODES', 'label': 'NODES', 'options': {'hosts': [{'hostname': 'domain_controller'}, {'hostname': 'web_server', 'services': [{'service_name': 'WebServer'}]}, {'hostname': 'database_server', 'folders': [{'folder_name': 'database', 'files': [{'file_name': 'database.db'}]}]}, {'hostname': 'backup_server'}, {'hostname': 'security_suite'}, {'hostname': 'client_1'}, {'hostname': 'client_2'}], 'num_services': 1, 'num_applications': 0, 'num_folders': 1, 'num_files': 1, 'num_nics': 2, 'include_num_access': False, 'include_nmne': True, 'routers': [{'hostname': 'router_1'}], 'num_ports': 0, 'ip_list': ['192.168.1.10', '192.168.1.12', '192.168.1.14', '192.168.1.16', '192.168.1.110', '192.168.10.21', '192.168.10.22', '192.168.10.110'], 'wildcard_list': ['0.0.0.1'], 'port_list': [80, 5432], 'protocol_list': ['ICMP', 'TCP', 'UDP'], 'num_rules': 10}}, {'type': 'LINKS', 'label': 'LINKS', 'options': {'link_references': ['router_1:eth-1<->switch_1:eth-8', 'router_1:eth-2<->switch_2:eth-8', 'switch_1:eth-1<->domain_controller:eth-1', 'switch_1:eth-2<->web_server:eth-1', 'switch_1:eth-3<->database_server:eth-1', 'switch_1:eth-4<->backup_server:eth-1', 'switch_1:eth-7<->security_suite:eth-1', 'switch_2:eth-1<->client_1:eth-1', 'switch_2:eth-2<->client_2:eth-1', 'switch_2:eth-7<->security_suite:eth-2']}}, {'type': 'NONE', 'label': 'ICS', 'options': {}}]}}\n"
     ]
    },
    {
     "name": "stderr",
     "output_type": "stream",
     "text": [
      "2024-04-08 14:55:50,916: Resetting environment, episode 217, avg. reward: -75.89999999999999\n",
      "2024-04-08 14:55:50,918: Saving agent action log to C:\\Users\\CharlieCrane\\primaite\\3.0.0b7\\sessions\\2024-04-08\\14-49-25\\agent_actions\\episode_217.json\n"
     ]
    },
    {
     "name": "stdout",
     "output_type": "stream",
     "text": [
      "{'type': 'CUSTOM', 'options': {'components': [{'type': 'NODES', 'label': 'NODES', 'options': {'hosts': [{'hostname': 'domain_controller'}, {'hostname': 'web_server', 'services': [{'service_name': 'WebServer'}]}, {'hostname': 'database_server', 'folders': [{'folder_name': 'database', 'files': [{'file_name': 'database.db'}]}]}, {'hostname': 'backup_server'}, {'hostname': 'security_suite'}, {'hostname': 'client_1'}, {'hostname': 'client_2'}], 'num_services': 1, 'num_applications': 0, 'num_folders': 1, 'num_files': 1, 'num_nics': 2, 'include_num_access': False, 'include_nmne': True, 'routers': [{'hostname': 'router_1'}], 'num_ports': 0, 'ip_list': ['192.168.1.10', '192.168.1.12', '192.168.1.14', '192.168.1.16', '192.168.1.110', '192.168.10.21', '192.168.10.22', '192.168.10.110'], 'wildcard_list': ['0.0.0.1'], 'port_list': [80, 5432], 'protocol_list': ['ICMP', 'TCP', 'UDP'], 'num_rules': 10}}, {'type': 'LINKS', 'label': 'LINKS', 'options': {'link_references': ['router_1:eth-1<->switch_1:eth-8', 'router_1:eth-2<->switch_2:eth-8', 'switch_1:eth-1<->domain_controller:eth-1', 'switch_1:eth-2<->web_server:eth-1', 'switch_1:eth-3<->database_server:eth-1', 'switch_1:eth-4<->backup_server:eth-1', 'switch_1:eth-7<->security_suite:eth-1', 'switch_2:eth-1<->client_1:eth-1', 'switch_2:eth-2<->client_2:eth-1', 'switch_2:eth-7<->security_suite:eth-2']}}, {'type': 'NONE', 'label': 'ICS', 'options': {}}]}}\n"
     ]
    },
    {
     "name": "stderr",
     "output_type": "stream",
     "text": [
      "2024-04-08 14:55:53,007: Resetting environment, episode 218, avg. reward: -91.50000000000007\n",
      "2024-04-08 14:55:53,011: Saving agent action log to C:\\Users\\CharlieCrane\\primaite\\3.0.0b7\\sessions\\2024-04-08\\14-49-25\\agent_actions\\episode_218.json\n"
     ]
    },
    {
     "name": "stdout",
     "output_type": "stream",
     "text": [
      "{'type': 'CUSTOM', 'options': {'components': [{'type': 'NODES', 'label': 'NODES', 'options': {'hosts': [{'hostname': 'domain_controller'}, {'hostname': 'web_server', 'services': [{'service_name': 'WebServer'}]}, {'hostname': 'database_server', 'folders': [{'folder_name': 'database', 'files': [{'file_name': 'database.db'}]}]}, {'hostname': 'backup_server'}, {'hostname': 'security_suite'}, {'hostname': 'client_1'}, {'hostname': 'client_2'}], 'num_services': 1, 'num_applications': 0, 'num_folders': 1, 'num_files': 1, 'num_nics': 2, 'include_num_access': False, 'include_nmne': True, 'routers': [{'hostname': 'router_1'}], 'num_ports': 0, 'ip_list': ['192.168.1.10', '192.168.1.12', '192.168.1.14', '192.168.1.16', '192.168.1.110', '192.168.10.21', '192.168.10.22', '192.168.10.110'], 'wildcard_list': ['0.0.0.1'], 'port_list': [80, 5432], 'protocol_list': ['ICMP', 'TCP', 'UDP'], 'num_rules': 10}}, {'type': 'LINKS', 'label': 'LINKS', 'options': {'link_references': ['router_1:eth-1<->switch_1:eth-8', 'router_1:eth-2<->switch_2:eth-8', 'switch_1:eth-1<->domain_controller:eth-1', 'switch_1:eth-2<->web_server:eth-1', 'switch_1:eth-3<->database_server:eth-1', 'switch_1:eth-4<->backup_server:eth-1', 'switch_1:eth-7<->security_suite:eth-1', 'switch_2:eth-1<->client_1:eth-1', 'switch_2:eth-2<->client_2:eth-1', 'switch_2:eth-7<->security_suite:eth-2']}}, {'type': 'NONE', 'label': 'ICS', 'options': {}}]}}\n"
     ]
    },
    {
     "name": "stderr",
     "output_type": "stream",
     "text": [
      "2024-04-08 14:55:55,088: Resetting environment, episode 219, avg. reward: -8.300000000000004\n",
      "2024-04-08 14:55:55,092: Saving agent action log to C:\\Users\\CharlieCrane\\primaite\\3.0.0b7\\sessions\\2024-04-08\\14-49-25\\agent_actions\\episode_219.json\n"
     ]
    },
    {
     "name": "stdout",
     "output_type": "stream",
     "text": [
      "{'type': 'CUSTOM', 'options': {'components': [{'type': 'NODES', 'label': 'NODES', 'options': {'hosts': [{'hostname': 'domain_controller'}, {'hostname': 'web_server', 'services': [{'service_name': 'WebServer'}]}, {'hostname': 'database_server', 'folders': [{'folder_name': 'database', 'files': [{'file_name': 'database.db'}]}]}, {'hostname': 'backup_server'}, {'hostname': 'security_suite'}, {'hostname': 'client_1'}, {'hostname': 'client_2'}], 'num_services': 1, 'num_applications': 0, 'num_folders': 1, 'num_files': 1, 'num_nics': 2, 'include_num_access': False, 'include_nmne': True, 'routers': [{'hostname': 'router_1'}], 'num_ports': 0, 'ip_list': ['192.168.1.10', '192.168.1.12', '192.168.1.14', '192.168.1.16', '192.168.1.110', '192.168.10.21', '192.168.10.22', '192.168.10.110'], 'wildcard_list': ['0.0.0.1'], 'port_list': [80, 5432], 'protocol_list': ['ICMP', 'TCP', 'UDP'], 'num_rules': 10}}, {'type': 'LINKS', 'label': 'LINKS', 'options': {'link_references': ['router_1:eth-1<->switch_1:eth-8', 'router_1:eth-2<->switch_2:eth-8', 'switch_1:eth-1<->domain_controller:eth-1', 'switch_1:eth-2<->web_server:eth-1', 'switch_1:eth-3<->database_server:eth-1', 'switch_1:eth-4<->backup_server:eth-1', 'switch_1:eth-7<->security_suite:eth-1', 'switch_2:eth-1<->client_1:eth-1', 'switch_2:eth-2<->client_2:eth-1', 'switch_2:eth-7<->security_suite:eth-2']}}, {'type': 'NONE', 'label': 'ICS', 'options': {}}]}}\n"
     ]
    },
    {
     "name": "stderr",
     "output_type": "stream",
     "text": [
      "2024-04-08 14:55:57,164: Resetting environment, episode 220, avg. reward: -29.449999999999996\n",
      "2024-04-08 14:55:57,167: Saving agent action log to C:\\Users\\CharlieCrane\\primaite\\3.0.0b7\\sessions\\2024-04-08\\14-49-25\\agent_actions\\episode_220.json\n"
     ]
    },
    {
     "name": "stdout",
     "output_type": "stream",
     "text": [
      "{'type': 'CUSTOM', 'options': {'components': [{'type': 'NODES', 'label': 'NODES', 'options': {'hosts': [{'hostname': 'domain_controller'}, {'hostname': 'web_server', 'services': [{'service_name': 'WebServer'}]}, {'hostname': 'database_server', 'folders': [{'folder_name': 'database', 'files': [{'file_name': 'database.db'}]}]}, {'hostname': 'backup_server'}, {'hostname': 'security_suite'}, {'hostname': 'client_1'}, {'hostname': 'client_2'}], 'num_services': 1, 'num_applications': 0, 'num_folders': 1, 'num_files': 1, 'num_nics': 2, 'include_num_access': False, 'include_nmne': True, 'routers': [{'hostname': 'router_1'}], 'num_ports': 0, 'ip_list': ['192.168.1.10', '192.168.1.12', '192.168.1.14', '192.168.1.16', '192.168.1.110', '192.168.10.21', '192.168.10.22', '192.168.10.110'], 'wildcard_list': ['0.0.0.1'], 'port_list': [80, 5432], 'protocol_list': ['ICMP', 'TCP', 'UDP'], 'num_rules': 10}}, {'type': 'LINKS', 'label': 'LINKS', 'options': {'link_references': ['router_1:eth-1<->switch_1:eth-8', 'router_1:eth-2<->switch_2:eth-8', 'switch_1:eth-1<->domain_controller:eth-1', 'switch_1:eth-2<->web_server:eth-1', 'switch_1:eth-3<->database_server:eth-1', 'switch_1:eth-4<->backup_server:eth-1', 'switch_1:eth-7<->security_suite:eth-1', 'switch_2:eth-1<->client_1:eth-1', 'switch_2:eth-2<->client_2:eth-1', 'switch_2:eth-7<->security_suite:eth-2']}}, {'type': 'NONE', 'label': 'ICS', 'options': {}}]}}\n"
     ]
    },
    {
     "name": "stderr",
     "output_type": "stream",
     "text": [
      "2024-04-08 14:55:58,938: Resetting environment, episode 221, avg. reward: -38.20000000000004\n",
      "2024-04-08 14:55:58,942: Saving agent action log to C:\\Users\\CharlieCrane\\primaite\\3.0.0b7\\sessions\\2024-04-08\\14-49-25\\agent_actions\\episode_221.json\n"
     ]
    },
    {
     "name": "stdout",
     "output_type": "stream",
     "text": [
      "{'type': 'CUSTOM', 'options': {'components': [{'type': 'NODES', 'label': 'NODES', 'options': {'hosts': [{'hostname': 'domain_controller'}, {'hostname': 'web_server', 'services': [{'service_name': 'WebServer'}]}, {'hostname': 'database_server', 'folders': [{'folder_name': 'database', 'files': [{'file_name': 'database.db'}]}]}, {'hostname': 'backup_server'}, {'hostname': 'security_suite'}, {'hostname': 'client_1'}, {'hostname': 'client_2'}], 'num_services': 1, 'num_applications': 0, 'num_folders': 1, 'num_files': 1, 'num_nics': 2, 'include_num_access': False, 'include_nmne': True, 'routers': [{'hostname': 'router_1'}], 'num_ports': 0, 'ip_list': ['192.168.1.10', '192.168.1.12', '192.168.1.14', '192.168.1.16', '192.168.1.110', '192.168.10.21', '192.168.10.22', '192.168.10.110'], 'wildcard_list': ['0.0.0.1'], 'port_list': [80, 5432], 'protocol_list': ['ICMP', 'TCP', 'UDP'], 'num_rules': 10}}, {'type': 'LINKS', 'label': 'LINKS', 'options': {'link_references': ['router_1:eth-1<->switch_1:eth-8', 'router_1:eth-2<->switch_2:eth-8', 'switch_1:eth-1<->domain_controller:eth-1', 'switch_1:eth-2<->web_server:eth-1', 'switch_1:eth-3<->database_server:eth-1', 'switch_1:eth-4<->backup_server:eth-1', 'switch_1:eth-7<->security_suite:eth-1', 'switch_2:eth-1<->client_1:eth-1', 'switch_2:eth-2<->client_2:eth-1', 'switch_2:eth-7<->security_suite:eth-2']}}, {'type': 'NONE', 'label': 'ICS', 'options': {}}]}}\n"
     ]
    },
    {
     "name": "stderr",
     "output_type": "stream",
     "text": [
      "2024-04-08 14:56:00,655: Resetting environment, episode 222, avg. reward: -38.60000000000001\n",
      "2024-04-08 14:56:00,658: Saving agent action log to C:\\Users\\CharlieCrane\\primaite\\3.0.0b7\\sessions\\2024-04-08\\14-49-25\\agent_actions\\episode_222.json\n"
     ]
    },
    {
     "name": "stdout",
     "output_type": "stream",
     "text": [
      "{'type': 'CUSTOM', 'options': {'components': [{'type': 'NODES', 'label': 'NODES', 'options': {'hosts': [{'hostname': 'domain_controller'}, {'hostname': 'web_server', 'services': [{'service_name': 'WebServer'}]}, {'hostname': 'database_server', 'folders': [{'folder_name': 'database', 'files': [{'file_name': 'database.db'}]}]}, {'hostname': 'backup_server'}, {'hostname': 'security_suite'}, {'hostname': 'client_1'}, {'hostname': 'client_2'}], 'num_services': 1, 'num_applications': 0, 'num_folders': 1, 'num_files': 1, 'num_nics': 2, 'include_num_access': False, 'include_nmne': True, 'routers': [{'hostname': 'router_1'}], 'num_ports': 0, 'ip_list': ['192.168.1.10', '192.168.1.12', '192.168.1.14', '192.168.1.16', '192.168.1.110', '192.168.10.21', '192.168.10.22', '192.168.10.110'], 'wildcard_list': ['0.0.0.1'], 'port_list': [80, 5432], 'protocol_list': ['ICMP', 'TCP', 'UDP'], 'num_rules': 10}}, {'type': 'LINKS', 'label': 'LINKS', 'options': {'link_references': ['router_1:eth-1<->switch_1:eth-8', 'router_1:eth-2<->switch_2:eth-8', 'switch_1:eth-1<->domain_controller:eth-1', 'switch_1:eth-2<->web_server:eth-1', 'switch_1:eth-3<->database_server:eth-1', 'switch_1:eth-4<->backup_server:eth-1', 'switch_1:eth-7<->security_suite:eth-1', 'switch_2:eth-1<->client_1:eth-1', 'switch_2:eth-2<->client_2:eth-1', 'switch_2:eth-7<->security_suite:eth-2']}}, {'type': 'NONE', 'label': 'ICS', 'options': {}}]}}\n"
     ]
    },
    {
     "name": "stderr",
     "output_type": "stream",
     "text": [
      "2024-04-08 14:56:02,297: Resetting environment, episode 223, avg. reward: -37.79999999999999\n",
      "2024-04-08 14:56:02,300: Saving agent action log to C:\\Users\\CharlieCrane\\primaite\\3.0.0b7\\sessions\\2024-04-08\\14-49-25\\agent_actions\\episode_223.json\n"
     ]
    },
    {
     "name": "stdout",
     "output_type": "stream",
     "text": [
      "{'type': 'CUSTOM', 'options': {'components': [{'type': 'NODES', 'label': 'NODES', 'options': {'hosts': [{'hostname': 'domain_controller'}, {'hostname': 'web_server', 'services': [{'service_name': 'WebServer'}]}, {'hostname': 'database_server', 'folders': [{'folder_name': 'database', 'files': [{'file_name': 'database.db'}]}]}, {'hostname': 'backup_server'}, {'hostname': 'security_suite'}, {'hostname': 'client_1'}, {'hostname': 'client_2'}], 'num_services': 1, 'num_applications': 0, 'num_folders': 1, 'num_files': 1, 'num_nics': 2, 'include_num_access': False, 'include_nmne': True, 'routers': [{'hostname': 'router_1'}], 'num_ports': 0, 'ip_list': ['192.168.1.10', '192.168.1.12', '192.168.1.14', '192.168.1.16', '192.168.1.110', '192.168.10.21', '192.168.10.22', '192.168.10.110'], 'wildcard_list': ['0.0.0.1'], 'port_list': [80, 5432], 'protocol_list': ['ICMP', 'TCP', 'UDP'], 'num_rules': 10}}, {'type': 'LINKS', 'label': 'LINKS', 'options': {'link_references': ['router_1:eth-1<->switch_1:eth-8', 'router_1:eth-2<->switch_2:eth-8', 'switch_1:eth-1<->domain_controller:eth-1', 'switch_1:eth-2<->web_server:eth-1', 'switch_1:eth-3<->database_server:eth-1', 'switch_1:eth-4<->backup_server:eth-1', 'switch_1:eth-7<->security_suite:eth-1', 'switch_2:eth-1<->client_1:eth-1', 'switch_2:eth-2<->client_2:eth-1', 'switch_2:eth-7<->security_suite:eth-2']}}, {'type': 'NONE', 'label': 'ICS', 'options': {}}]}}\n"
     ]
    },
    {
     "name": "stderr",
     "output_type": "stream",
     "text": [
      "2024-04-08 14:56:03,931: Resetting environment, episode 224, avg. reward: -53.24999999999996\n",
      "2024-04-08 14:56:03,935: Saving agent action log to C:\\Users\\CharlieCrane\\primaite\\3.0.0b7\\sessions\\2024-04-08\\14-49-25\\agent_actions\\episode_224.json\n"
     ]
    },
    {
     "name": "stdout",
     "output_type": "stream",
     "text": [
      "{'type': 'CUSTOM', 'options': {'components': [{'type': 'NODES', 'label': 'NODES', 'options': {'hosts': [{'hostname': 'domain_controller'}, {'hostname': 'web_server', 'services': [{'service_name': 'WebServer'}]}, {'hostname': 'database_server', 'folders': [{'folder_name': 'database', 'files': [{'file_name': 'database.db'}]}]}, {'hostname': 'backup_server'}, {'hostname': 'security_suite'}, {'hostname': 'client_1'}, {'hostname': 'client_2'}], 'num_services': 1, 'num_applications': 0, 'num_folders': 1, 'num_files': 1, 'num_nics': 2, 'include_num_access': False, 'include_nmne': True, 'routers': [{'hostname': 'router_1'}], 'num_ports': 0, 'ip_list': ['192.168.1.10', '192.168.1.12', '192.168.1.14', '192.168.1.16', '192.168.1.110', '192.168.10.21', '192.168.10.22', '192.168.10.110'], 'wildcard_list': ['0.0.0.1'], 'port_list': [80, 5432], 'protocol_list': ['ICMP', 'TCP', 'UDP'], 'num_rules': 10}}, {'type': 'LINKS', 'label': 'LINKS', 'options': {'link_references': ['router_1:eth-1<->switch_1:eth-8', 'router_1:eth-2<->switch_2:eth-8', 'switch_1:eth-1<->domain_controller:eth-1', 'switch_1:eth-2<->web_server:eth-1', 'switch_1:eth-3<->database_server:eth-1', 'switch_1:eth-4<->backup_server:eth-1', 'switch_1:eth-7<->security_suite:eth-1', 'switch_2:eth-1<->client_1:eth-1', 'switch_2:eth-2<->client_2:eth-1', 'switch_2:eth-7<->security_suite:eth-2']}}, {'type': 'NONE', 'label': 'ICS', 'options': {}}]}}\n"
     ]
    },
    {
     "name": "stderr",
     "output_type": "stream",
     "text": [
      "2024-04-08 14:56:05,761: Resetting environment, episode 225, avg. reward: -77.99999999999997\n",
      "2024-04-08 14:56:05,764: Saving agent action log to C:\\Users\\CharlieCrane\\primaite\\3.0.0b7\\sessions\\2024-04-08\\14-49-25\\agent_actions\\episode_225.json\n"
     ]
    },
    {
     "name": "stdout",
     "output_type": "stream",
     "text": [
      "{'type': 'CUSTOM', 'options': {'components': [{'type': 'NODES', 'label': 'NODES', 'options': {'hosts': [{'hostname': 'domain_controller'}, {'hostname': 'web_server', 'services': [{'service_name': 'WebServer'}]}, {'hostname': 'database_server', 'folders': [{'folder_name': 'database', 'files': [{'file_name': 'database.db'}]}]}, {'hostname': 'backup_server'}, {'hostname': 'security_suite'}, {'hostname': 'client_1'}, {'hostname': 'client_2'}], 'num_services': 1, 'num_applications': 0, 'num_folders': 1, 'num_files': 1, 'num_nics': 2, 'include_num_access': False, 'include_nmne': True, 'routers': [{'hostname': 'router_1'}], 'num_ports': 0, 'ip_list': ['192.168.1.10', '192.168.1.12', '192.168.1.14', '192.168.1.16', '192.168.1.110', '192.168.10.21', '192.168.10.22', '192.168.10.110'], 'wildcard_list': ['0.0.0.1'], 'port_list': [80, 5432], 'protocol_list': ['ICMP', 'TCP', 'UDP'], 'num_rules': 10}}, {'type': 'LINKS', 'label': 'LINKS', 'options': {'link_references': ['router_1:eth-1<->switch_1:eth-8', 'router_1:eth-2<->switch_2:eth-8', 'switch_1:eth-1<->domain_controller:eth-1', 'switch_1:eth-2<->web_server:eth-1', 'switch_1:eth-3<->database_server:eth-1', 'switch_1:eth-4<->backup_server:eth-1', 'switch_1:eth-7<->security_suite:eth-1', 'switch_2:eth-1<->client_1:eth-1', 'switch_2:eth-2<->client_2:eth-1', 'switch_2:eth-7<->security_suite:eth-2']}}, {'type': 'NONE', 'label': 'ICS', 'options': {}}]}}\n"
     ]
    },
    {
     "name": "stderr",
     "output_type": "stream",
     "text": [
      "2024-04-08 14:56:07,294: Resetting environment, episode 226, avg. reward: -26.799999999999972\n",
      "2024-04-08 14:56:07,298: Saving agent action log to C:\\Users\\CharlieCrane\\primaite\\3.0.0b7\\sessions\\2024-04-08\\14-49-25\\agent_actions\\episode_226.json\n"
     ]
    },
    {
     "name": "stdout",
     "output_type": "stream",
     "text": [
      "{'type': 'CUSTOM', 'options': {'components': [{'type': 'NODES', 'label': 'NODES', 'options': {'hosts': [{'hostname': 'domain_controller'}, {'hostname': 'web_server', 'services': [{'service_name': 'WebServer'}]}, {'hostname': 'database_server', 'folders': [{'folder_name': 'database', 'files': [{'file_name': 'database.db'}]}]}, {'hostname': 'backup_server'}, {'hostname': 'security_suite'}, {'hostname': 'client_1'}, {'hostname': 'client_2'}], 'num_services': 1, 'num_applications': 0, 'num_folders': 1, 'num_files': 1, 'num_nics': 2, 'include_num_access': False, 'include_nmne': True, 'routers': [{'hostname': 'router_1'}], 'num_ports': 0, 'ip_list': ['192.168.1.10', '192.168.1.12', '192.168.1.14', '192.168.1.16', '192.168.1.110', '192.168.10.21', '192.168.10.22', '192.168.10.110'], 'wildcard_list': ['0.0.0.1'], 'port_list': [80, 5432], 'protocol_list': ['ICMP', 'TCP', 'UDP'], 'num_rules': 10}}, {'type': 'LINKS', 'label': 'LINKS', 'options': {'link_references': ['router_1:eth-1<->switch_1:eth-8', 'router_1:eth-2<->switch_2:eth-8', 'switch_1:eth-1<->domain_controller:eth-1', 'switch_1:eth-2<->web_server:eth-1', 'switch_1:eth-3<->database_server:eth-1', 'switch_1:eth-4<->backup_server:eth-1', 'switch_1:eth-7<->security_suite:eth-1', 'switch_2:eth-1<->client_1:eth-1', 'switch_2:eth-2<->client_2:eth-1', 'switch_2:eth-7<->security_suite:eth-2']}}, {'type': 'NONE', 'label': 'ICS', 'options': {}}]}}\n"
     ]
    },
    {
     "name": "stderr",
     "output_type": "stream",
     "text": [
      "2024-04-08 14:56:09,002: Resetting environment, episode 227, avg. reward: -94.5500000000001\n",
      "2024-04-08 14:56:09,006: Saving agent action log to C:\\Users\\CharlieCrane\\primaite\\3.0.0b7\\sessions\\2024-04-08\\14-49-25\\agent_actions\\episode_227.json\n"
     ]
    },
    {
     "name": "stdout",
     "output_type": "stream",
     "text": [
      "{'type': 'CUSTOM', 'options': {'components': [{'type': 'NODES', 'label': 'NODES', 'options': {'hosts': [{'hostname': 'domain_controller'}, {'hostname': 'web_server', 'services': [{'service_name': 'WebServer'}]}, {'hostname': 'database_server', 'folders': [{'folder_name': 'database', 'files': [{'file_name': 'database.db'}]}]}, {'hostname': 'backup_server'}, {'hostname': 'security_suite'}, {'hostname': 'client_1'}, {'hostname': 'client_2'}], 'num_services': 1, 'num_applications': 0, 'num_folders': 1, 'num_files': 1, 'num_nics': 2, 'include_num_access': False, 'include_nmne': True, 'routers': [{'hostname': 'router_1'}], 'num_ports': 0, 'ip_list': ['192.168.1.10', '192.168.1.12', '192.168.1.14', '192.168.1.16', '192.168.1.110', '192.168.10.21', '192.168.10.22', '192.168.10.110'], 'wildcard_list': ['0.0.0.1'], 'port_list': [80, 5432], 'protocol_list': ['ICMP', 'TCP', 'UDP'], 'num_rules': 10}}, {'type': 'LINKS', 'label': 'LINKS', 'options': {'link_references': ['router_1:eth-1<->switch_1:eth-8', 'router_1:eth-2<->switch_2:eth-8', 'switch_1:eth-1<->domain_controller:eth-1', 'switch_1:eth-2<->web_server:eth-1', 'switch_1:eth-3<->database_server:eth-1', 'switch_1:eth-4<->backup_server:eth-1', 'switch_1:eth-7<->security_suite:eth-1', 'switch_2:eth-1<->client_1:eth-1', 'switch_2:eth-2<->client_2:eth-1', 'switch_2:eth-7<->security_suite:eth-2']}}, {'type': 'NONE', 'label': 'ICS', 'options': {}}]}}\n"
     ]
    },
    {
     "name": "stderr",
     "output_type": "stream",
     "text": [
      "2024-04-08 14:56:10,831: Resetting environment, episode 228, avg. reward: -76.05000000000001\n",
      "2024-04-08 14:56:10,834: Saving agent action log to C:\\Users\\CharlieCrane\\primaite\\3.0.0b7\\sessions\\2024-04-08\\14-49-25\\agent_actions\\episode_228.json\n"
     ]
    },
    {
     "name": "stdout",
     "output_type": "stream",
     "text": [
      "{'type': 'CUSTOM', 'options': {'components': [{'type': 'NODES', 'label': 'NODES', 'options': {'hosts': [{'hostname': 'domain_controller'}, {'hostname': 'web_server', 'services': [{'service_name': 'WebServer'}]}, {'hostname': 'database_server', 'folders': [{'folder_name': 'database', 'files': [{'file_name': 'database.db'}]}]}, {'hostname': 'backup_server'}, {'hostname': 'security_suite'}, {'hostname': 'client_1'}, {'hostname': 'client_2'}], 'num_services': 1, 'num_applications': 0, 'num_folders': 1, 'num_files': 1, 'num_nics': 2, 'include_num_access': False, 'include_nmne': True, 'routers': [{'hostname': 'router_1'}], 'num_ports': 0, 'ip_list': ['192.168.1.10', '192.168.1.12', '192.168.1.14', '192.168.1.16', '192.168.1.110', '192.168.10.21', '192.168.10.22', '192.168.10.110'], 'wildcard_list': ['0.0.0.1'], 'port_list': [80, 5432], 'protocol_list': ['ICMP', 'TCP', 'UDP'], 'num_rules': 10}}, {'type': 'LINKS', 'label': 'LINKS', 'options': {'link_references': ['router_1:eth-1<->switch_1:eth-8', 'router_1:eth-2<->switch_2:eth-8', 'switch_1:eth-1<->domain_controller:eth-1', 'switch_1:eth-2<->web_server:eth-1', 'switch_1:eth-3<->database_server:eth-1', 'switch_1:eth-4<->backup_server:eth-1', 'switch_1:eth-7<->security_suite:eth-1', 'switch_2:eth-1<->client_1:eth-1', 'switch_2:eth-2<->client_2:eth-1', 'switch_2:eth-7<->security_suite:eth-2']}}, {'type': 'NONE', 'label': 'ICS', 'options': {}}]}}\n"
     ]
    },
    {
     "name": "stderr",
     "output_type": "stream",
     "text": [
      "2024-04-08 14:56:12,658: Resetting environment, episode 229, avg. reward: 3.350000000000028\n",
      "2024-04-08 14:56:12,661: Saving agent action log to C:\\Users\\CharlieCrane\\primaite\\3.0.0b7\\sessions\\2024-04-08\\14-49-25\\agent_actions\\episode_229.json\n"
     ]
    },
    {
     "name": "stdout",
     "output_type": "stream",
     "text": [
      "{'type': 'CUSTOM', 'options': {'components': [{'type': 'NODES', 'label': 'NODES', 'options': {'hosts': [{'hostname': 'domain_controller'}, {'hostname': 'web_server', 'services': [{'service_name': 'WebServer'}]}, {'hostname': 'database_server', 'folders': [{'folder_name': 'database', 'files': [{'file_name': 'database.db'}]}]}, {'hostname': 'backup_server'}, {'hostname': 'security_suite'}, {'hostname': 'client_1'}, {'hostname': 'client_2'}], 'num_services': 1, 'num_applications': 0, 'num_folders': 1, 'num_files': 1, 'num_nics': 2, 'include_num_access': False, 'include_nmne': True, 'routers': [{'hostname': 'router_1'}], 'num_ports': 0, 'ip_list': ['192.168.1.10', '192.168.1.12', '192.168.1.14', '192.168.1.16', '192.168.1.110', '192.168.10.21', '192.168.10.22', '192.168.10.110'], 'wildcard_list': ['0.0.0.1'], 'port_list': [80, 5432], 'protocol_list': ['ICMP', 'TCP', 'UDP'], 'num_rules': 10}}, {'type': 'LINKS', 'label': 'LINKS', 'options': {'link_references': ['router_1:eth-1<->switch_1:eth-8', 'router_1:eth-2<->switch_2:eth-8', 'switch_1:eth-1<->domain_controller:eth-1', 'switch_1:eth-2<->web_server:eth-1', 'switch_1:eth-3<->database_server:eth-1', 'switch_1:eth-4<->backup_server:eth-1', 'switch_1:eth-7<->security_suite:eth-1', 'switch_2:eth-1<->client_1:eth-1', 'switch_2:eth-2<->client_2:eth-1', 'switch_2:eth-7<->security_suite:eth-2']}}, {'type': 'NONE', 'label': 'ICS', 'options': {}}]}}\n"
     ]
    },
    {
     "name": "stderr",
     "output_type": "stream",
     "text": [
      "2024-04-08 14:56:14,404: Resetting environment, episode 230, avg. reward: -51.25000000000004\n",
      "2024-04-08 14:56:14,409: Saving agent action log to C:\\Users\\CharlieCrane\\primaite\\3.0.0b7\\sessions\\2024-04-08\\14-49-25\\agent_actions\\episode_230.json\n"
     ]
    },
    {
     "name": "stdout",
     "output_type": "stream",
     "text": [
      "{'type': 'CUSTOM', 'options': {'components': [{'type': 'NODES', 'label': 'NODES', 'options': {'hosts': [{'hostname': 'domain_controller'}, {'hostname': 'web_server', 'services': [{'service_name': 'WebServer'}]}, {'hostname': 'database_server', 'folders': [{'folder_name': 'database', 'files': [{'file_name': 'database.db'}]}]}, {'hostname': 'backup_server'}, {'hostname': 'security_suite'}, {'hostname': 'client_1'}, {'hostname': 'client_2'}], 'num_services': 1, 'num_applications': 0, 'num_folders': 1, 'num_files': 1, 'num_nics': 2, 'include_num_access': False, 'include_nmne': True, 'routers': [{'hostname': 'router_1'}], 'num_ports': 0, 'ip_list': ['192.168.1.10', '192.168.1.12', '192.168.1.14', '192.168.1.16', '192.168.1.110', '192.168.10.21', '192.168.10.22', '192.168.10.110'], 'wildcard_list': ['0.0.0.1'], 'port_list': [80, 5432], 'protocol_list': ['ICMP', 'TCP', 'UDP'], 'num_rules': 10}}, {'type': 'LINKS', 'label': 'LINKS', 'options': {'link_references': ['router_1:eth-1<->switch_1:eth-8', 'router_1:eth-2<->switch_2:eth-8', 'switch_1:eth-1<->domain_controller:eth-1', 'switch_1:eth-2<->web_server:eth-1', 'switch_1:eth-3<->database_server:eth-1', 'switch_1:eth-4<->backup_server:eth-1', 'switch_1:eth-7<->security_suite:eth-1', 'switch_2:eth-1<->client_1:eth-1', 'switch_2:eth-2<->client_2:eth-1', 'switch_2:eth-7<->security_suite:eth-2']}}, {'type': 'NONE', 'label': 'ICS', 'options': {}}]}}\n"
     ]
    },
    {
     "name": "stderr",
     "output_type": "stream",
     "text": [
      "2024-04-08 14:56:16,439: Resetting environment, episode 231, avg. reward: -86.5\n",
      "2024-04-08 14:56:16,442: Saving agent action log to C:\\Users\\CharlieCrane\\primaite\\3.0.0b7\\sessions\\2024-04-08\\14-49-25\\agent_actions\\episode_231.json\n"
     ]
    },
    {
     "name": "stdout",
     "output_type": "stream",
     "text": [
      "{'type': 'CUSTOM', 'options': {'components': [{'type': 'NODES', 'label': 'NODES', 'options': {'hosts': [{'hostname': 'domain_controller'}, {'hostname': 'web_server', 'services': [{'service_name': 'WebServer'}]}, {'hostname': 'database_server', 'folders': [{'folder_name': 'database', 'files': [{'file_name': 'database.db'}]}]}, {'hostname': 'backup_server'}, {'hostname': 'security_suite'}, {'hostname': 'client_1'}, {'hostname': 'client_2'}], 'num_services': 1, 'num_applications': 0, 'num_folders': 1, 'num_files': 1, 'num_nics': 2, 'include_num_access': False, 'include_nmne': True, 'routers': [{'hostname': 'router_1'}], 'num_ports': 0, 'ip_list': ['192.168.1.10', '192.168.1.12', '192.168.1.14', '192.168.1.16', '192.168.1.110', '192.168.10.21', '192.168.10.22', '192.168.10.110'], 'wildcard_list': ['0.0.0.1'], 'port_list': [80, 5432], 'protocol_list': ['ICMP', 'TCP', 'UDP'], 'num_rules': 10}}, {'type': 'LINKS', 'label': 'LINKS', 'options': {'link_references': ['router_1:eth-1<->switch_1:eth-8', 'router_1:eth-2<->switch_2:eth-8', 'switch_1:eth-1<->domain_controller:eth-1', 'switch_1:eth-2<->web_server:eth-1', 'switch_1:eth-3<->database_server:eth-1', 'switch_1:eth-4<->backup_server:eth-1', 'switch_1:eth-7<->security_suite:eth-1', 'switch_2:eth-1<->client_1:eth-1', 'switch_2:eth-2<->client_2:eth-1', 'switch_2:eth-7<->security_suite:eth-2']}}, {'type': 'NONE', 'label': 'ICS', 'options': {}}]}}\n"
     ]
    },
    {
     "name": "stderr",
     "output_type": "stream",
     "text": [
      "2024-04-08 14:56:18,025: Resetting environment, episode 232, avg. reward: -9.550000000000002\n",
      "2024-04-08 14:56:18,029: Saving agent action log to C:\\Users\\CharlieCrane\\primaite\\3.0.0b7\\sessions\\2024-04-08\\14-49-25\\agent_actions\\episode_232.json\n"
     ]
    },
    {
     "name": "stdout",
     "output_type": "stream",
     "text": [
      "{'type': 'CUSTOM', 'options': {'components': [{'type': 'NODES', 'label': 'NODES', 'options': {'hosts': [{'hostname': 'domain_controller'}, {'hostname': 'web_server', 'services': [{'service_name': 'WebServer'}]}, {'hostname': 'database_server', 'folders': [{'folder_name': 'database', 'files': [{'file_name': 'database.db'}]}]}, {'hostname': 'backup_server'}, {'hostname': 'security_suite'}, {'hostname': 'client_1'}, {'hostname': 'client_2'}], 'num_services': 1, 'num_applications': 0, 'num_folders': 1, 'num_files': 1, 'num_nics': 2, 'include_num_access': False, 'include_nmne': True, 'routers': [{'hostname': 'router_1'}], 'num_ports': 0, 'ip_list': ['192.168.1.10', '192.168.1.12', '192.168.1.14', '192.168.1.16', '192.168.1.110', '192.168.10.21', '192.168.10.22', '192.168.10.110'], 'wildcard_list': ['0.0.0.1'], 'port_list': [80, 5432], 'protocol_list': ['ICMP', 'TCP', 'UDP'], 'num_rules': 10}}, {'type': 'LINKS', 'label': 'LINKS', 'options': {'link_references': ['router_1:eth-1<->switch_1:eth-8', 'router_1:eth-2<->switch_2:eth-8', 'switch_1:eth-1<->domain_controller:eth-1', 'switch_1:eth-2<->web_server:eth-1', 'switch_1:eth-3<->database_server:eth-1', 'switch_1:eth-4<->backup_server:eth-1', 'switch_1:eth-7<->security_suite:eth-1', 'switch_2:eth-1<->client_1:eth-1', 'switch_2:eth-2<->client_2:eth-1', 'switch_2:eth-7<->security_suite:eth-2']}}, {'type': 'NONE', 'label': 'ICS', 'options': {}}]}}\n"
     ]
    },
    {
     "name": "stderr",
     "output_type": "stream",
     "text": [
      "2024-04-08 14:56:19,978: Resetting environment, episode 233, avg. reward: -46.75\n",
      "2024-04-08 14:56:19,982: Saving agent action log to C:\\Users\\CharlieCrane\\primaite\\3.0.0b7\\sessions\\2024-04-08\\14-49-25\\agent_actions\\episode_233.json\n"
     ]
    },
    {
     "name": "stdout",
     "output_type": "stream",
     "text": [
      "{'type': 'CUSTOM', 'options': {'components': [{'type': 'NODES', 'label': 'NODES', 'options': {'hosts': [{'hostname': 'domain_controller'}, {'hostname': 'web_server', 'services': [{'service_name': 'WebServer'}]}, {'hostname': 'database_server', 'folders': [{'folder_name': 'database', 'files': [{'file_name': 'database.db'}]}]}, {'hostname': 'backup_server'}, {'hostname': 'security_suite'}, {'hostname': 'client_1'}, {'hostname': 'client_2'}], 'num_services': 1, 'num_applications': 0, 'num_folders': 1, 'num_files': 1, 'num_nics': 2, 'include_num_access': False, 'include_nmne': True, 'routers': [{'hostname': 'router_1'}], 'num_ports': 0, 'ip_list': ['192.168.1.10', '192.168.1.12', '192.168.1.14', '192.168.1.16', '192.168.1.110', '192.168.10.21', '192.168.10.22', '192.168.10.110'], 'wildcard_list': ['0.0.0.1'], 'port_list': [80, 5432], 'protocol_list': ['ICMP', 'TCP', 'UDP'], 'num_rules': 10}}, {'type': 'LINKS', 'label': 'LINKS', 'options': {'link_references': ['router_1:eth-1<->switch_1:eth-8', 'router_1:eth-2<->switch_2:eth-8', 'switch_1:eth-1<->domain_controller:eth-1', 'switch_1:eth-2<->web_server:eth-1', 'switch_1:eth-3<->database_server:eth-1', 'switch_1:eth-4<->backup_server:eth-1', 'switch_1:eth-7<->security_suite:eth-1', 'switch_2:eth-1<->client_1:eth-1', 'switch_2:eth-2<->client_2:eth-1', 'switch_2:eth-7<->security_suite:eth-2']}}, {'type': 'NONE', 'label': 'ICS', 'options': {}}]}}\n"
     ]
    },
    {
     "name": "stderr",
     "output_type": "stream",
     "text": [
      "2024-04-08 14:56:21,638: Resetting environment, episode 234, avg. reward: -87.14999999999999\n",
      "2024-04-08 14:56:21,642: Saving agent action log to C:\\Users\\CharlieCrane\\primaite\\3.0.0b7\\sessions\\2024-04-08\\14-49-25\\agent_actions\\episode_234.json\n"
     ]
    },
    {
     "name": "stdout",
     "output_type": "stream",
     "text": [
      "{'type': 'CUSTOM', 'options': {'components': [{'type': 'NODES', 'label': 'NODES', 'options': {'hosts': [{'hostname': 'domain_controller'}, {'hostname': 'web_server', 'services': [{'service_name': 'WebServer'}]}, {'hostname': 'database_server', 'folders': [{'folder_name': 'database', 'files': [{'file_name': 'database.db'}]}]}, {'hostname': 'backup_server'}, {'hostname': 'security_suite'}, {'hostname': 'client_1'}, {'hostname': 'client_2'}], 'num_services': 1, 'num_applications': 0, 'num_folders': 1, 'num_files': 1, 'num_nics': 2, 'include_num_access': False, 'include_nmne': True, 'routers': [{'hostname': 'router_1'}], 'num_ports': 0, 'ip_list': ['192.168.1.10', '192.168.1.12', '192.168.1.14', '192.168.1.16', '192.168.1.110', '192.168.10.21', '192.168.10.22', '192.168.10.110'], 'wildcard_list': ['0.0.0.1'], 'port_list': [80, 5432], 'protocol_list': ['ICMP', 'TCP', 'UDP'], 'num_rules': 10}}, {'type': 'LINKS', 'label': 'LINKS', 'options': {'link_references': ['router_1:eth-1<->switch_1:eth-8', 'router_1:eth-2<->switch_2:eth-8', 'switch_1:eth-1<->domain_controller:eth-1', 'switch_1:eth-2<->web_server:eth-1', 'switch_1:eth-3<->database_server:eth-1', 'switch_1:eth-4<->backup_server:eth-1', 'switch_1:eth-7<->security_suite:eth-1', 'switch_2:eth-1<->client_1:eth-1', 'switch_2:eth-2<->client_2:eth-1', 'switch_2:eth-7<->security_suite:eth-2']}}, {'type': 'NONE', 'label': 'ICS', 'options': {}}]}}\n"
     ]
    },
    {
     "name": "stderr",
     "output_type": "stream",
     "text": [
      "2024-04-08 14:56:23,262: Resetting environment, episode 235, avg. reward: -60.94999999999995\n",
      "2024-04-08 14:56:23,265: Saving agent action log to C:\\Users\\CharlieCrane\\primaite\\3.0.0b7\\sessions\\2024-04-08\\14-49-25\\agent_actions\\episode_235.json\n"
     ]
    },
    {
     "name": "stdout",
     "output_type": "stream",
     "text": [
      "{'type': 'CUSTOM', 'options': {'components': [{'type': 'NODES', 'label': 'NODES', 'options': {'hosts': [{'hostname': 'domain_controller'}, {'hostname': 'web_server', 'services': [{'service_name': 'WebServer'}]}, {'hostname': 'database_server', 'folders': [{'folder_name': 'database', 'files': [{'file_name': 'database.db'}]}]}, {'hostname': 'backup_server'}, {'hostname': 'security_suite'}, {'hostname': 'client_1'}, {'hostname': 'client_2'}], 'num_services': 1, 'num_applications': 0, 'num_folders': 1, 'num_files': 1, 'num_nics': 2, 'include_num_access': False, 'include_nmne': True, 'routers': [{'hostname': 'router_1'}], 'num_ports': 0, 'ip_list': ['192.168.1.10', '192.168.1.12', '192.168.1.14', '192.168.1.16', '192.168.1.110', '192.168.10.21', '192.168.10.22', '192.168.10.110'], 'wildcard_list': ['0.0.0.1'], 'port_list': [80, 5432], 'protocol_list': ['ICMP', 'TCP', 'UDP'], 'num_rules': 10}}, {'type': 'LINKS', 'label': 'LINKS', 'options': {'link_references': ['router_1:eth-1<->switch_1:eth-8', 'router_1:eth-2<->switch_2:eth-8', 'switch_1:eth-1<->domain_controller:eth-1', 'switch_1:eth-2<->web_server:eth-1', 'switch_1:eth-3<->database_server:eth-1', 'switch_1:eth-4<->backup_server:eth-1', 'switch_1:eth-7<->security_suite:eth-1', 'switch_2:eth-1<->client_1:eth-1', 'switch_2:eth-2<->client_2:eth-1', 'switch_2:eth-7<->security_suite:eth-2']}}, {'type': 'NONE', 'label': 'ICS', 'options': {}}]}}\n"
     ]
    },
    {
     "name": "stderr",
     "output_type": "stream",
     "text": [
      "2024-04-08 14:56:24,866: Resetting environment, episode 236, avg. reward: -5.299999999999963\n",
      "2024-04-08 14:56:24,870: Saving agent action log to C:\\Users\\CharlieCrane\\primaite\\3.0.0b7\\sessions\\2024-04-08\\14-49-25\\agent_actions\\episode_236.json\n"
     ]
    },
    {
     "name": "stdout",
     "output_type": "stream",
     "text": [
      "{'type': 'CUSTOM', 'options': {'components': [{'type': 'NODES', 'label': 'NODES', 'options': {'hosts': [{'hostname': 'domain_controller'}, {'hostname': 'web_server', 'services': [{'service_name': 'WebServer'}]}, {'hostname': 'database_server', 'folders': [{'folder_name': 'database', 'files': [{'file_name': 'database.db'}]}]}, {'hostname': 'backup_server'}, {'hostname': 'security_suite'}, {'hostname': 'client_1'}, {'hostname': 'client_2'}], 'num_services': 1, 'num_applications': 0, 'num_folders': 1, 'num_files': 1, 'num_nics': 2, 'include_num_access': False, 'include_nmne': True, 'routers': [{'hostname': 'router_1'}], 'num_ports': 0, 'ip_list': ['192.168.1.10', '192.168.1.12', '192.168.1.14', '192.168.1.16', '192.168.1.110', '192.168.10.21', '192.168.10.22', '192.168.10.110'], 'wildcard_list': ['0.0.0.1'], 'port_list': [80, 5432], 'protocol_list': ['ICMP', 'TCP', 'UDP'], 'num_rules': 10}}, {'type': 'LINKS', 'label': 'LINKS', 'options': {'link_references': ['router_1:eth-1<->switch_1:eth-8', 'router_1:eth-2<->switch_2:eth-8', 'switch_1:eth-1<->domain_controller:eth-1', 'switch_1:eth-2<->web_server:eth-1', 'switch_1:eth-3<->database_server:eth-1', 'switch_1:eth-4<->backup_server:eth-1', 'switch_1:eth-7<->security_suite:eth-1', 'switch_2:eth-1<->client_1:eth-1', 'switch_2:eth-2<->client_2:eth-1', 'switch_2:eth-7<->security_suite:eth-2']}}, {'type': 'NONE', 'label': 'ICS', 'options': {}}]}}\n"
     ]
    },
    {
     "name": "stderr",
     "output_type": "stream",
     "text": [
      "2024-04-08 14:56:26,594: Resetting environment, episode 237, avg. reward: -7.49999999999999\n",
      "2024-04-08 14:56:26,597: Saving agent action log to C:\\Users\\CharlieCrane\\primaite\\3.0.0b7\\sessions\\2024-04-08\\14-49-25\\agent_actions\\episode_237.json\n"
     ]
    },
    {
     "name": "stdout",
     "output_type": "stream",
     "text": [
      "{'type': 'CUSTOM', 'options': {'components': [{'type': 'NODES', 'label': 'NODES', 'options': {'hosts': [{'hostname': 'domain_controller'}, {'hostname': 'web_server', 'services': [{'service_name': 'WebServer'}]}, {'hostname': 'database_server', 'folders': [{'folder_name': 'database', 'files': [{'file_name': 'database.db'}]}]}, {'hostname': 'backup_server'}, {'hostname': 'security_suite'}, {'hostname': 'client_1'}, {'hostname': 'client_2'}], 'num_services': 1, 'num_applications': 0, 'num_folders': 1, 'num_files': 1, 'num_nics': 2, 'include_num_access': False, 'include_nmne': True, 'routers': [{'hostname': 'router_1'}], 'num_ports': 0, 'ip_list': ['192.168.1.10', '192.168.1.12', '192.168.1.14', '192.168.1.16', '192.168.1.110', '192.168.10.21', '192.168.10.22', '192.168.10.110'], 'wildcard_list': ['0.0.0.1'], 'port_list': [80, 5432], 'protocol_list': ['ICMP', 'TCP', 'UDP'], 'num_rules': 10}}, {'type': 'LINKS', 'label': 'LINKS', 'options': {'link_references': ['router_1:eth-1<->switch_1:eth-8', 'router_1:eth-2<->switch_2:eth-8', 'switch_1:eth-1<->domain_controller:eth-1', 'switch_1:eth-2<->web_server:eth-1', 'switch_1:eth-3<->database_server:eth-1', 'switch_1:eth-4<->backup_server:eth-1', 'switch_1:eth-7<->security_suite:eth-1', 'switch_2:eth-1<->client_1:eth-1', 'switch_2:eth-2<->client_2:eth-1', 'switch_2:eth-7<->security_suite:eth-2']}}, {'type': 'NONE', 'label': 'ICS', 'options': {}}]}}\n"
     ]
    },
    {
     "name": "stderr",
     "output_type": "stream",
     "text": [
      "2024-04-08 14:56:29,812: Resetting environment, episode 238, avg. reward: -4.749999999999977\n",
      "2024-04-08 14:56:29,815: Saving agent action log to C:\\Users\\CharlieCrane\\primaite\\3.0.0b7\\sessions\\2024-04-08\\14-49-25\\agent_actions\\episode_238.json\n"
     ]
    },
    {
     "name": "stdout",
     "output_type": "stream",
     "text": [
      "{'type': 'CUSTOM', 'options': {'components': [{'type': 'NODES', 'label': 'NODES', 'options': {'hosts': [{'hostname': 'domain_controller'}, {'hostname': 'web_server', 'services': [{'service_name': 'WebServer'}]}, {'hostname': 'database_server', 'folders': [{'folder_name': 'database', 'files': [{'file_name': 'database.db'}]}]}, {'hostname': 'backup_server'}, {'hostname': 'security_suite'}, {'hostname': 'client_1'}, {'hostname': 'client_2'}], 'num_services': 1, 'num_applications': 0, 'num_folders': 1, 'num_files': 1, 'num_nics': 2, 'include_num_access': False, 'include_nmne': True, 'routers': [{'hostname': 'router_1'}], 'num_ports': 0, 'ip_list': ['192.168.1.10', '192.168.1.12', '192.168.1.14', '192.168.1.16', '192.168.1.110', '192.168.10.21', '192.168.10.22', '192.168.10.110'], 'wildcard_list': ['0.0.0.1'], 'port_list': [80, 5432], 'protocol_list': ['ICMP', 'TCP', 'UDP'], 'num_rules': 10}}, {'type': 'LINKS', 'label': 'LINKS', 'options': {'link_references': ['router_1:eth-1<->switch_1:eth-8', 'router_1:eth-2<->switch_2:eth-8', 'switch_1:eth-1<->domain_controller:eth-1', 'switch_1:eth-2<->web_server:eth-1', 'switch_1:eth-3<->database_server:eth-1', 'switch_1:eth-4<->backup_server:eth-1', 'switch_1:eth-7<->security_suite:eth-1', 'switch_2:eth-1<->client_1:eth-1', 'switch_2:eth-2<->client_2:eth-1', 'switch_2:eth-7<->security_suite:eth-2']}}, {'type': 'NONE', 'label': 'ICS', 'options': {}}]}}\n"
     ]
    },
    {
     "name": "stderr",
     "output_type": "stream",
     "text": [
      "2024-04-08 14:56:31,530: Resetting environment, episode 239, avg. reward: -13.349999999999982\n",
      "2024-04-08 14:56:31,533: Saving agent action log to C:\\Users\\CharlieCrane\\primaite\\3.0.0b7\\sessions\\2024-04-08\\14-49-25\\agent_actions\\episode_239.json\n"
     ]
    },
    {
     "name": "stdout",
     "output_type": "stream",
     "text": [
      "{'type': 'CUSTOM', 'options': {'components': [{'type': 'NODES', 'label': 'NODES', 'options': {'hosts': [{'hostname': 'domain_controller'}, {'hostname': 'web_server', 'services': [{'service_name': 'WebServer'}]}, {'hostname': 'database_server', 'folders': [{'folder_name': 'database', 'files': [{'file_name': 'database.db'}]}]}, {'hostname': 'backup_server'}, {'hostname': 'security_suite'}, {'hostname': 'client_1'}, {'hostname': 'client_2'}], 'num_services': 1, 'num_applications': 0, 'num_folders': 1, 'num_files': 1, 'num_nics': 2, 'include_num_access': False, 'include_nmne': True, 'routers': [{'hostname': 'router_1'}], 'num_ports': 0, 'ip_list': ['192.168.1.10', '192.168.1.12', '192.168.1.14', '192.168.1.16', '192.168.1.110', '192.168.10.21', '192.168.10.22', '192.168.10.110'], 'wildcard_list': ['0.0.0.1'], 'port_list': [80, 5432], 'protocol_list': ['ICMP', 'TCP', 'UDP'], 'num_rules': 10}}, {'type': 'LINKS', 'label': 'LINKS', 'options': {'link_references': ['router_1:eth-1<->switch_1:eth-8', 'router_1:eth-2<->switch_2:eth-8', 'switch_1:eth-1<->domain_controller:eth-1', 'switch_1:eth-2<->web_server:eth-1', 'switch_1:eth-3<->database_server:eth-1', 'switch_1:eth-4<->backup_server:eth-1', 'switch_1:eth-7<->security_suite:eth-1', 'switch_2:eth-1<->client_1:eth-1', 'switch_2:eth-2<->client_2:eth-1', 'switch_2:eth-7<->security_suite:eth-2']}}, {'type': 'NONE', 'label': 'ICS', 'options': {}}]}}\n"
     ]
    },
    {
     "name": "stderr",
     "output_type": "stream",
     "text": [
      "2024-04-08 14:56:33,444: Resetting environment, episode 240, avg. reward: -0.599999999999985\n",
      "2024-04-08 14:56:33,447: Saving agent action log to C:\\Users\\CharlieCrane\\primaite\\3.0.0b7\\sessions\\2024-04-08\\14-49-25\\agent_actions\\episode_240.json\n"
     ]
    },
    {
     "name": "stdout",
     "output_type": "stream",
     "text": [
      "{'type': 'CUSTOM', 'options': {'components': [{'type': 'NODES', 'label': 'NODES', 'options': {'hosts': [{'hostname': 'domain_controller'}, {'hostname': 'web_server', 'services': [{'service_name': 'WebServer'}]}, {'hostname': 'database_server', 'folders': [{'folder_name': 'database', 'files': [{'file_name': 'database.db'}]}]}, {'hostname': 'backup_server'}, {'hostname': 'security_suite'}, {'hostname': 'client_1'}, {'hostname': 'client_2'}], 'num_services': 1, 'num_applications': 0, 'num_folders': 1, 'num_files': 1, 'num_nics': 2, 'include_num_access': False, 'include_nmne': True, 'routers': [{'hostname': 'router_1'}], 'num_ports': 0, 'ip_list': ['192.168.1.10', '192.168.1.12', '192.168.1.14', '192.168.1.16', '192.168.1.110', '192.168.10.21', '192.168.10.22', '192.168.10.110'], 'wildcard_list': ['0.0.0.1'], 'port_list': [80, 5432], 'protocol_list': ['ICMP', 'TCP', 'UDP'], 'num_rules': 10}}, {'type': 'LINKS', 'label': 'LINKS', 'options': {'link_references': ['router_1:eth-1<->switch_1:eth-8', 'router_1:eth-2<->switch_2:eth-8', 'switch_1:eth-1<->domain_controller:eth-1', 'switch_1:eth-2<->web_server:eth-1', 'switch_1:eth-3<->database_server:eth-1', 'switch_1:eth-4<->backup_server:eth-1', 'switch_1:eth-7<->security_suite:eth-1', 'switch_2:eth-1<->client_1:eth-1', 'switch_2:eth-2<->client_2:eth-1', 'switch_2:eth-7<->security_suite:eth-2']}}, {'type': 'NONE', 'label': 'ICS', 'options': {}}]}}\n"
     ]
    },
    {
     "name": "stderr",
     "output_type": "stream",
     "text": [
      "2024-04-08 14:56:35,290: Resetting environment, episode 241, avg. reward: -95.3\n",
      "2024-04-08 14:56:35,292: Saving agent action log to C:\\Users\\CharlieCrane\\primaite\\3.0.0b7\\sessions\\2024-04-08\\14-49-25\\agent_actions\\episode_241.json\n"
     ]
    },
    {
     "name": "stdout",
     "output_type": "stream",
     "text": [
      "{'type': 'CUSTOM', 'options': {'components': [{'type': 'NODES', 'label': 'NODES', 'options': {'hosts': [{'hostname': 'domain_controller'}, {'hostname': 'web_server', 'services': [{'service_name': 'WebServer'}]}, {'hostname': 'database_server', 'folders': [{'folder_name': 'database', 'files': [{'file_name': 'database.db'}]}]}, {'hostname': 'backup_server'}, {'hostname': 'security_suite'}, {'hostname': 'client_1'}, {'hostname': 'client_2'}], 'num_services': 1, 'num_applications': 0, 'num_folders': 1, 'num_files': 1, 'num_nics': 2, 'include_num_access': False, 'include_nmne': True, 'routers': [{'hostname': 'router_1'}], 'num_ports': 0, 'ip_list': ['192.168.1.10', '192.168.1.12', '192.168.1.14', '192.168.1.16', '192.168.1.110', '192.168.10.21', '192.168.10.22', '192.168.10.110'], 'wildcard_list': ['0.0.0.1'], 'port_list': [80, 5432], 'protocol_list': ['ICMP', 'TCP', 'UDP'], 'num_rules': 10}}, {'type': 'LINKS', 'label': 'LINKS', 'options': {'link_references': ['router_1:eth-1<->switch_1:eth-8', 'router_1:eth-2<->switch_2:eth-8', 'switch_1:eth-1<->domain_controller:eth-1', 'switch_1:eth-2<->web_server:eth-1', 'switch_1:eth-3<->database_server:eth-1', 'switch_1:eth-4<->backup_server:eth-1', 'switch_1:eth-7<->security_suite:eth-1', 'switch_2:eth-1<->client_1:eth-1', 'switch_2:eth-2<->client_2:eth-1', 'switch_2:eth-7<->security_suite:eth-2']}}, {'type': 'NONE', 'label': 'ICS', 'options': {}}]}}\n"
     ]
    },
    {
     "name": "stderr",
     "output_type": "stream",
     "text": [
      "2024-04-08 14:56:36,923: Resetting environment, episode 242, avg. reward: -94.94999999999996\n",
      "2024-04-08 14:56:36,927: Saving agent action log to C:\\Users\\CharlieCrane\\primaite\\3.0.0b7\\sessions\\2024-04-08\\14-49-25\\agent_actions\\episode_242.json\n"
     ]
    },
    {
     "name": "stdout",
     "output_type": "stream",
     "text": [
      "{'type': 'CUSTOM', 'options': {'components': [{'type': 'NODES', 'label': 'NODES', 'options': {'hosts': [{'hostname': 'domain_controller'}, {'hostname': 'web_server', 'services': [{'service_name': 'WebServer'}]}, {'hostname': 'database_server', 'folders': [{'folder_name': 'database', 'files': [{'file_name': 'database.db'}]}]}, {'hostname': 'backup_server'}, {'hostname': 'security_suite'}, {'hostname': 'client_1'}, {'hostname': 'client_2'}], 'num_services': 1, 'num_applications': 0, 'num_folders': 1, 'num_files': 1, 'num_nics': 2, 'include_num_access': False, 'include_nmne': True, 'routers': [{'hostname': 'router_1'}], 'num_ports': 0, 'ip_list': ['192.168.1.10', '192.168.1.12', '192.168.1.14', '192.168.1.16', '192.168.1.110', '192.168.10.21', '192.168.10.22', '192.168.10.110'], 'wildcard_list': ['0.0.0.1'], 'port_list': [80, 5432], 'protocol_list': ['ICMP', 'TCP', 'UDP'], 'num_rules': 10}}, {'type': 'LINKS', 'label': 'LINKS', 'options': {'link_references': ['router_1:eth-1<->switch_1:eth-8', 'router_1:eth-2<->switch_2:eth-8', 'switch_1:eth-1<->domain_controller:eth-1', 'switch_1:eth-2<->web_server:eth-1', 'switch_1:eth-3<->database_server:eth-1', 'switch_1:eth-4<->backup_server:eth-1', 'switch_1:eth-7<->security_suite:eth-1', 'switch_2:eth-1<->client_1:eth-1', 'switch_2:eth-2<->client_2:eth-1', 'switch_2:eth-7<->security_suite:eth-2']}}, {'type': 'NONE', 'label': 'ICS', 'options': {}}]}}\n"
     ]
    },
    {
     "name": "stderr",
     "output_type": "stream",
     "text": [
      "2024-04-08 14:56:38,916: Resetting environment, episode 243, avg. reward: -72.49999999999993\n",
      "2024-04-08 14:56:38,919: Saving agent action log to C:\\Users\\CharlieCrane\\primaite\\3.0.0b7\\sessions\\2024-04-08\\14-49-25\\agent_actions\\episode_243.json\n"
     ]
    },
    {
     "name": "stdout",
     "output_type": "stream",
     "text": [
      "{'type': 'CUSTOM', 'options': {'components': [{'type': 'NODES', 'label': 'NODES', 'options': {'hosts': [{'hostname': 'domain_controller'}, {'hostname': 'web_server', 'services': [{'service_name': 'WebServer'}]}, {'hostname': 'database_server', 'folders': [{'folder_name': 'database', 'files': [{'file_name': 'database.db'}]}]}, {'hostname': 'backup_server'}, {'hostname': 'security_suite'}, {'hostname': 'client_1'}, {'hostname': 'client_2'}], 'num_services': 1, 'num_applications': 0, 'num_folders': 1, 'num_files': 1, 'num_nics': 2, 'include_num_access': False, 'include_nmne': True, 'routers': [{'hostname': 'router_1'}], 'num_ports': 0, 'ip_list': ['192.168.1.10', '192.168.1.12', '192.168.1.14', '192.168.1.16', '192.168.1.110', '192.168.10.21', '192.168.10.22', '192.168.10.110'], 'wildcard_list': ['0.0.0.1'], 'port_list': [80, 5432], 'protocol_list': ['ICMP', 'TCP', 'UDP'], 'num_rules': 10}}, {'type': 'LINKS', 'label': 'LINKS', 'options': {'link_references': ['router_1:eth-1<->switch_1:eth-8', 'router_1:eth-2<->switch_2:eth-8', 'switch_1:eth-1<->domain_controller:eth-1', 'switch_1:eth-2<->web_server:eth-1', 'switch_1:eth-3<->database_server:eth-1', 'switch_1:eth-4<->backup_server:eth-1', 'switch_1:eth-7<->security_suite:eth-1', 'switch_2:eth-1<->client_1:eth-1', 'switch_2:eth-2<->client_2:eth-1', 'switch_2:eth-7<->security_suite:eth-2']}}, {'type': 'NONE', 'label': 'ICS', 'options': {}}]}}\n"
     ]
    },
    {
     "name": "stderr",
     "output_type": "stream",
     "text": [
      "2024-04-08 14:56:40,743: Resetting environment, episode 244, avg. reward: -0.7499999999999888\n",
      "2024-04-08 14:56:40,746: Saving agent action log to C:\\Users\\CharlieCrane\\primaite\\3.0.0b7\\sessions\\2024-04-08\\14-49-25\\agent_actions\\episode_244.json\n"
     ]
    },
    {
     "name": "stdout",
     "output_type": "stream",
     "text": [
      "{'type': 'CUSTOM', 'options': {'components': [{'type': 'NODES', 'label': 'NODES', 'options': {'hosts': [{'hostname': 'domain_controller'}, {'hostname': 'web_server', 'services': [{'service_name': 'WebServer'}]}, {'hostname': 'database_server', 'folders': [{'folder_name': 'database', 'files': [{'file_name': 'database.db'}]}]}, {'hostname': 'backup_server'}, {'hostname': 'security_suite'}, {'hostname': 'client_1'}, {'hostname': 'client_2'}], 'num_services': 1, 'num_applications': 0, 'num_folders': 1, 'num_files': 1, 'num_nics': 2, 'include_num_access': False, 'include_nmne': True, 'routers': [{'hostname': 'router_1'}], 'num_ports': 0, 'ip_list': ['192.168.1.10', '192.168.1.12', '192.168.1.14', '192.168.1.16', '192.168.1.110', '192.168.10.21', '192.168.10.22', '192.168.10.110'], 'wildcard_list': ['0.0.0.1'], 'port_list': [80, 5432], 'protocol_list': ['ICMP', 'TCP', 'UDP'], 'num_rules': 10}}, {'type': 'LINKS', 'label': 'LINKS', 'options': {'link_references': ['router_1:eth-1<->switch_1:eth-8', 'router_1:eth-2<->switch_2:eth-8', 'switch_1:eth-1<->domain_controller:eth-1', 'switch_1:eth-2<->web_server:eth-1', 'switch_1:eth-3<->database_server:eth-1', 'switch_1:eth-4<->backup_server:eth-1', 'switch_1:eth-7<->security_suite:eth-1', 'switch_2:eth-1<->client_1:eth-1', 'switch_2:eth-2<->client_2:eth-1', 'switch_2:eth-7<->security_suite:eth-2']}}, {'type': 'NONE', 'label': 'ICS', 'options': {}}]}}\n"
     ]
    },
    {
     "name": "stderr",
     "output_type": "stream",
     "text": [
      "2024-04-08 14:56:42,525: Resetting environment, episode 245, avg. reward: -2.5999999999999943\n",
      "2024-04-08 14:56:42,528: Saving agent action log to C:\\Users\\CharlieCrane\\primaite\\3.0.0b7\\sessions\\2024-04-08\\14-49-25\\agent_actions\\episode_245.json\n"
     ]
    },
    {
     "name": "stdout",
     "output_type": "stream",
     "text": [
      "{'type': 'CUSTOM', 'options': {'components': [{'type': 'NODES', 'label': 'NODES', 'options': {'hosts': [{'hostname': 'domain_controller'}, {'hostname': 'web_server', 'services': [{'service_name': 'WebServer'}]}, {'hostname': 'database_server', 'folders': [{'folder_name': 'database', 'files': [{'file_name': 'database.db'}]}]}, {'hostname': 'backup_server'}, {'hostname': 'security_suite'}, {'hostname': 'client_1'}, {'hostname': 'client_2'}], 'num_services': 1, 'num_applications': 0, 'num_folders': 1, 'num_files': 1, 'num_nics': 2, 'include_num_access': False, 'include_nmne': True, 'routers': [{'hostname': 'router_1'}], 'num_ports': 0, 'ip_list': ['192.168.1.10', '192.168.1.12', '192.168.1.14', '192.168.1.16', '192.168.1.110', '192.168.10.21', '192.168.10.22', '192.168.10.110'], 'wildcard_list': ['0.0.0.1'], 'port_list': [80, 5432], 'protocol_list': ['ICMP', 'TCP', 'UDP'], 'num_rules': 10}}, {'type': 'LINKS', 'label': 'LINKS', 'options': {'link_references': ['router_1:eth-1<->switch_1:eth-8', 'router_1:eth-2<->switch_2:eth-8', 'switch_1:eth-1<->domain_controller:eth-1', 'switch_1:eth-2<->web_server:eth-1', 'switch_1:eth-3<->database_server:eth-1', 'switch_1:eth-4<->backup_server:eth-1', 'switch_1:eth-7<->security_suite:eth-1', 'switch_2:eth-1<->client_1:eth-1', 'switch_2:eth-2<->client_2:eth-1', 'switch_2:eth-7<->security_suite:eth-2']}}, {'type': 'NONE', 'label': 'ICS', 'options': {}}]}}\n"
     ]
    },
    {
     "name": "stderr",
     "output_type": "stream",
     "text": [
      "2024-04-08 14:56:44,452: Resetting environment, episode 246, avg. reward: -79.40000000000002\n",
      "2024-04-08 14:56:44,455: Saving agent action log to C:\\Users\\CharlieCrane\\primaite\\3.0.0b7\\sessions\\2024-04-08\\14-49-25\\agent_actions\\episode_246.json\n"
     ]
    },
    {
     "name": "stdout",
     "output_type": "stream",
     "text": [
      "{'type': 'CUSTOM', 'options': {'components': [{'type': 'NODES', 'label': 'NODES', 'options': {'hosts': [{'hostname': 'domain_controller'}, {'hostname': 'web_server', 'services': [{'service_name': 'WebServer'}]}, {'hostname': 'database_server', 'folders': [{'folder_name': 'database', 'files': [{'file_name': 'database.db'}]}]}, {'hostname': 'backup_server'}, {'hostname': 'security_suite'}, {'hostname': 'client_1'}, {'hostname': 'client_2'}], 'num_services': 1, 'num_applications': 0, 'num_folders': 1, 'num_files': 1, 'num_nics': 2, 'include_num_access': False, 'include_nmne': True, 'routers': [{'hostname': 'router_1'}], 'num_ports': 0, 'ip_list': ['192.168.1.10', '192.168.1.12', '192.168.1.14', '192.168.1.16', '192.168.1.110', '192.168.10.21', '192.168.10.22', '192.168.10.110'], 'wildcard_list': ['0.0.0.1'], 'port_list': [80, 5432], 'protocol_list': ['ICMP', 'TCP', 'UDP'], 'num_rules': 10}}, {'type': 'LINKS', 'label': 'LINKS', 'options': {'link_references': ['router_1:eth-1<->switch_1:eth-8', 'router_1:eth-2<->switch_2:eth-8', 'switch_1:eth-1<->domain_controller:eth-1', 'switch_1:eth-2<->web_server:eth-1', 'switch_1:eth-3<->database_server:eth-1', 'switch_1:eth-4<->backup_server:eth-1', 'switch_1:eth-7<->security_suite:eth-1', 'switch_2:eth-1<->client_1:eth-1', 'switch_2:eth-2<->client_2:eth-1', 'switch_2:eth-7<->security_suite:eth-2']}}, {'type': 'NONE', 'label': 'ICS', 'options': {}}]}}\n"
     ]
    },
    {
     "name": "stderr",
     "output_type": "stream",
     "text": [
      "2024-04-08 14:56:46,246: Resetting environment, episode 247, avg. reward: -72.7\n",
      "2024-04-08 14:56:46,249: Saving agent action log to C:\\Users\\CharlieCrane\\primaite\\3.0.0b7\\sessions\\2024-04-08\\14-49-25\\agent_actions\\episode_247.json\n"
     ]
    },
    {
     "name": "stdout",
     "output_type": "stream",
     "text": [
      "{'type': 'CUSTOM', 'options': {'components': [{'type': 'NODES', 'label': 'NODES', 'options': {'hosts': [{'hostname': 'domain_controller'}, {'hostname': 'web_server', 'services': [{'service_name': 'WebServer'}]}, {'hostname': 'database_server', 'folders': [{'folder_name': 'database', 'files': [{'file_name': 'database.db'}]}]}, {'hostname': 'backup_server'}, {'hostname': 'security_suite'}, {'hostname': 'client_1'}, {'hostname': 'client_2'}], 'num_services': 1, 'num_applications': 0, 'num_folders': 1, 'num_files': 1, 'num_nics': 2, 'include_num_access': False, 'include_nmne': True, 'routers': [{'hostname': 'router_1'}], 'num_ports': 0, 'ip_list': ['192.168.1.10', '192.168.1.12', '192.168.1.14', '192.168.1.16', '192.168.1.110', '192.168.10.21', '192.168.10.22', '192.168.10.110'], 'wildcard_list': ['0.0.0.1'], 'port_list': [80, 5432], 'protocol_list': ['ICMP', 'TCP', 'UDP'], 'num_rules': 10}}, {'type': 'LINKS', 'label': 'LINKS', 'options': {'link_references': ['router_1:eth-1<->switch_1:eth-8', 'router_1:eth-2<->switch_2:eth-8', 'switch_1:eth-1<->domain_controller:eth-1', 'switch_1:eth-2<->web_server:eth-1', 'switch_1:eth-3<->database_server:eth-1', 'switch_1:eth-4<->backup_server:eth-1', 'switch_1:eth-7<->security_suite:eth-1', 'switch_2:eth-1<->client_1:eth-1', 'switch_2:eth-2<->client_2:eth-1', 'switch_2:eth-7<->security_suite:eth-2']}}, {'type': 'NONE', 'label': 'ICS', 'options': {}}]}}\n"
     ]
    },
    {
     "name": "stderr",
     "output_type": "stream",
     "text": [
      "2024-04-08 14:56:48,054: Resetting environment, episode 248, avg. reward: -26.04999999999994\n",
      "2024-04-08 14:56:48,058: Saving agent action log to C:\\Users\\CharlieCrane\\primaite\\3.0.0b7\\sessions\\2024-04-08\\14-49-25\\agent_actions\\episode_248.json\n"
     ]
    },
    {
     "name": "stdout",
     "output_type": "stream",
     "text": [
      "{'type': 'CUSTOM', 'options': {'components': [{'type': 'NODES', 'label': 'NODES', 'options': {'hosts': [{'hostname': 'domain_controller'}, {'hostname': 'web_server', 'services': [{'service_name': 'WebServer'}]}, {'hostname': 'database_server', 'folders': [{'folder_name': 'database', 'files': [{'file_name': 'database.db'}]}]}, {'hostname': 'backup_server'}, {'hostname': 'security_suite'}, {'hostname': 'client_1'}, {'hostname': 'client_2'}], 'num_services': 1, 'num_applications': 0, 'num_folders': 1, 'num_files': 1, 'num_nics': 2, 'include_num_access': False, 'include_nmne': True, 'routers': [{'hostname': 'router_1'}], 'num_ports': 0, 'ip_list': ['192.168.1.10', '192.168.1.12', '192.168.1.14', '192.168.1.16', '192.168.1.110', '192.168.10.21', '192.168.10.22', '192.168.10.110'], 'wildcard_list': ['0.0.0.1'], 'port_list': [80, 5432], 'protocol_list': ['ICMP', 'TCP', 'UDP'], 'num_rules': 10}}, {'type': 'LINKS', 'label': 'LINKS', 'options': {'link_references': ['router_1:eth-1<->switch_1:eth-8', 'router_1:eth-2<->switch_2:eth-8', 'switch_1:eth-1<->domain_controller:eth-1', 'switch_1:eth-2<->web_server:eth-1', 'switch_1:eth-3<->database_server:eth-1', 'switch_1:eth-4<->backup_server:eth-1', 'switch_1:eth-7<->security_suite:eth-1', 'switch_2:eth-1<->client_1:eth-1', 'switch_2:eth-2<->client_2:eth-1', 'switch_2:eth-7<->security_suite:eth-2']}}, {'type': 'NONE', 'label': 'ICS', 'options': {}}]}}\n"
     ]
    },
    {
     "name": "stderr",
     "output_type": "stream",
     "text": [
      "2024-04-08 14:56:50,022: Resetting environment, episode 249, avg. reward: -51.100000000000016\n",
      "2024-04-08 14:56:50,025: Saving agent action log to C:\\Users\\CharlieCrane\\primaite\\3.0.0b7\\sessions\\2024-04-08\\14-49-25\\agent_actions\\episode_249.json\n"
     ]
    },
    {
     "name": "stdout",
     "output_type": "stream",
     "text": [
      "{'type': 'CUSTOM', 'options': {'components': [{'type': 'NODES', 'label': 'NODES', 'options': {'hosts': [{'hostname': 'domain_controller'}, {'hostname': 'web_server', 'services': [{'service_name': 'WebServer'}]}, {'hostname': 'database_server', 'folders': [{'folder_name': 'database', 'files': [{'file_name': 'database.db'}]}]}, {'hostname': 'backup_server'}, {'hostname': 'security_suite'}, {'hostname': 'client_1'}, {'hostname': 'client_2'}], 'num_services': 1, 'num_applications': 0, 'num_folders': 1, 'num_files': 1, 'num_nics': 2, 'include_num_access': False, 'include_nmne': True, 'routers': [{'hostname': 'router_1'}], 'num_ports': 0, 'ip_list': ['192.168.1.10', '192.168.1.12', '192.168.1.14', '192.168.1.16', '192.168.1.110', '192.168.10.21', '192.168.10.22', '192.168.10.110'], 'wildcard_list': ['0.0.0.1'], 'port_list': [80, 5432], 'protocol_list': ['ICMP', 'TCP', 'UDP'], 'num_rules': 10}}, {'type': 'LINKS', 'label': 'LINKS', 'options': {'link_references': ['router_1:eth-1<->switch_1:eth-8', 'router_1:eth-2<->switch_2:eth-8', 'switch_1:eth-1<->domain_controller:eth-1', 'switch_1:eth-2<->web_server:eth-1', 'switch_1:eth-3<->database_server:eth-1', 'switch_1:eth-4<->backup_server:eth-1', 'switch_1:eth-7<->security_suite:eth-1', 'switch_2:eth-1<->client_1:eth-1', 'switch_2:eth-2<->client_2:eth-1', 'switch_2:eth-7<->security_suite:eth-2']}}, {'type': 'NONE', 'label': 'ICS', 'options': {}}]}}\n"
     ]
    },
    {
     "name": "stderr",
     "output_type": "stream",
     "text": [
      "2024-04-08 14:56:51,853: Resetting environment, episode 250, avg. reward: -9.89999999999996\n",
      "2024-04-08 14:56:51,857: Saving agent action log to C:\\Users\\CharlieCrane\\primaite\\3.0.0b7\\sessions\\2024-04-08\\14-49-25\\agent_actions\\episode_250.json\n"
     ]
    },
    {
     "name": "stdout",
     "output_type": "stream",
     "text": [
      "{'type': 'CUSTOM', 'options': {'components': [{'type': 'NODES', 'label': 'NODES', 'options': {'hosts': [{'hostname': 'domain_controller'}, {'hostname': 'web_server', 'services': [{'service_name': 'WebServer'}]}, {'hostname': 'database_server', 'folders': [{'folder_name': 'database', 'files': [{'file_name': 'database.db'}]}]}, {'hostname': 'backup_server'}, {'hostname': 'security_suite'}, {'hostname': 'client_1'}, {'hostname': 'client_2'}], 'num_services': 1, 'num_applications': 0, 'num_folders': 1, 'num_files': 1, 'num_nics': 2, 'include_num_access': False, 'include_nmne': True, 'routers': [{'hostname': 'router_1'}], 'num_ports': 0, 'ip_list': ['192.168.1.10', '192.168.1.12', '192.168.1.14', '192.168.1.16', '192.168.1.110', '192.168.10.21', '192.168.10.22', '192.168.10.110'], 'wildcard_list': ['0.0.0.1'], 'port_list': [80, 5432], 'protocol_list': ['ICMP', 'TCP', 'UDP'], 'num_rules': 10}}, {'type': 'LINKS', 'label': 'LINKS', 'options': {'link_references': ['router_1:eth-1<->switch_1:eth-8', 'router_1:eth-2<->switch_2:eth-8', 'switch_1:eth-1<->domain_controller:eth-1', 'switch_1:eth-2<->web_server:eth-1', 'switch_1:eth-3<->database_server:eth-1', 'switch_1:eth-4<->backup_server:eth-1', 'switch_1:eth-7<->security_suite:eth-1', 'switch_2:eth-1<->client_1:eth-1', 'switch_2:eth-2<->client_2:eth-1', 'switch_2:eth-7<->security_suite:eth-2']}}, {'type': 'NONE', 'label': 'ICS', 'options': {}}]}}\n"
     ]
    },
    {
     "name": "stderr",
     "output_type": "stream",
     "text": [
      "2024-04-08 14:56:53,997: Resetting environment, episode 251, avg. reward: -64.64999999999995\n",
      "2024-04-08 14:56:54,001: Saving agent action log to C:\\Users\\CharlieCrane\\primaite\\3.0.0b7\\sessions\\2024-04-08\\14-49-25\\agent_actions\\episode_251.json\n"
     ]
    },
    {
     "name": "stdout",
     "output_type": "stream",
     "text": [
      "{'type': 'CUSTOM', 'options': {'components': [{'type': 'NODES', 'label': 'NODES', 'options': {'hosts': [{'hostname': 'domain_controller'}, {'hostname': 'web_server', 'services': [{'service_name': 'WebServer'}]}, {'hostname': 'database_server', 'folders': [{'folder_name': 'database', 'files': [{'file_name': 'database.db'}]}]}, {'hostname': 'backup_server'}, {'hostname': 'security_suite'}, {'hostname': 'client_1'}, {'hostname': 'client_2'}], 'num_services': 1, 'num_applications': 0, 'num_folders': 1, 'num_files': 1, 'num_nics': 2, 'include_num_access': False, 'include_nmne': True, 'routers': [{'hostname': 'router_1'}], 'num_ports': 0, 'ip_list': ['192.168.1.10', '192.168.1.12', '192.168.1.14', '192.168.1.16', '192.168.1.110', '192.168.10.21', '192.168.10.22', '192.168.10.110'], 'wildcard_list': ['0.0.0.1'], 'port_list': [80, 5432], 'protocol_list': ['ICMP', 'TCP', 'UDP'], 'num_rules': 10}}, {'type': 'LINKS', 'label': 'LINKS', 'options': {'link_references': ['router_1:eth-1<->switch_1:eth-8', 'router_1:eth-2<->switch_2:eth-8', 'switch_1:eth-1<->domain_controller:eth-1', 'switch_1:eth-2<->web_server:eth-1', 'switch_1:eth-3<->database_server:eth-1', 'switch_1:eth-4<->backup_server:eth-1', 'switch_1:eth-7<->security_suite:eth-1', 'switch_2:eth-1<->client_1:eth-1', 'switch_2:eth-2<->client_2:eth-1', 'switch_2:eth-7<->security_suite:eth-2']}}, {'type': 'NONE', 'label': 'ICS', 'options': {}}]}}\n"
     ]
    },
    {
     "name": "stderr",
     "output_type": "stream",
     "text": [
      "2024-04-08 14:56:56,347: Resetting environment, episode 252, avg. reward: -44.999999999999964\n",
      "2024-04-08 14:56:56,350: Saving agent action log to C:\\Users\\CharlieCrane\\primaite\\3.0.0b7\\sessions\\2024-04-08\\14-49-25\\agent_actions\\episode_252.json\n"
     ]
    },
    {
     "name": "stdout",
     "output_type": "stream",
     "text": [
      "{'type': 'CUSTOM', 'options': {'components': [{'type': 'NODES', 'label': 'NODES', 'options': {'hosts': [{'hostname': 'domain_controller'}, {'hostname': 'web_server', 'services': [{'service_name': 'WebServer'}]}, {'hostname': 'database_server', 'folders': [{'folder_name': 'database', 'files': [{'file_name': 'database.db'}]}]}, {'hostname': 'backup_server'}, {'hostname': 'security_suite'}, {'hostname': 'client_1'}, {'hostname': 'client_2'}], 'num_services': 1, 'num_applications': 0, 'num_folders': 1, 'num_files': 1, 'num_nics': 2, 'include_num_access': False, 'include_nmne': True, 'routers': [{'hostname': 'router_1'}], 'num_ports': 0, 'ip_list': ['192.168.1.10', '192.168.1.12', '192.168.1.14', '192.168.1.16', '192.168.1.110', '192.168.10.21', '192.168.10.22', '192.168.10.110'], 'wildcard_list': ['0.0.0.1'], 'port_list': [80, 5432], 'protocol_list': ['ICMP', 'TCP', 'UDP'], 'num_rules': 10}}, {'type': 'LINKS', 'label': 'LINKS', 'options': {'link_references': ['router_1:eth-1<->switch_1:eth-8', 'router_1:eth-2<->switch_2:eth-8', 'switch_1:eth-1<->domain_controller:eth-1', 'switch_1:eth-2<->web_server:eth-1', 'switch_1:eth-3<->database_server:eth-1', 'switch_1:eth-4<->backup_server:eth-1', 'switch_1:eth-7<->security_suite:eth-1', 'switch_2:eth-1<->client_1:eth-1', 'switch_2:eth-2<->client_2:eth-1', 'switch_2:eth-7<->security_suite:eth-2']}}, {'type': 'NONE', 'label': 'ICS', 'options': {}}]}}\n"
     ]
    },
    {
     "name": "stderr",
     "output_type": "stream",
     "text": [
      "2024-04-08 14:56:58,286: Resetting environment, episode 253, avg. reward: -91.30000000000001\n",
      "2024-04-08 14:56:58,288: Saving agent action log to C:\\Users\\CharlieCrane\\primaite\\3.0.0b7\\sessions\\2024-04-08\\14-49-25\\agent_actions\\episode_253.json\n"
     ]
    },
    {
     "name": "stdout",
     "output_type": "stream",
     "text": [
      "{'type': 'CUSTOM', 'options': {'components': [{'type': 'NODES', 'label': 'NODES', 'options': {'hosts': [{'hostname': 'domain_controller'}, {'hostname': 'web_server', 'services': [{'service_name': 'WebServer'}]}, {'hostname': 'database_server', 'folders': [{'folder_name': 'database', 'files': [{'file_name': 'database.db'}]}]}, {'hostname': 'backup_server'}, {'hostname': 'security_suite'}, {'hostname': 'client_1'}, {'hostname': 'client_2'}], 'num_services': 1, 'num_applications': 0, 'num_folders': 1, 'num_files': 1, 'num_nics': 2, 'include_num_access': False, 'include_nmne': True, 'routers': [{'hostname': 'router_1'}], 'num_ports': 0, 'ip_list': ['192.168.1.10', '192.168.1.12', '192.168.1.14', '192.168.1.16', '192.168.1.110', '192.168.10.21', '192.168.10.22', '192.168.10.110'], 'wildcard_list': ['0.0.0.1'], 'port_list': [80, 5432], 'protocol_list': ['ICMP', 'TCP', 'UDP'], 'num_rules': 10}}, {'type': 'LINKS', 'label': 'LINKS', 'options': {'link_references': ['router_1:eth-1<->switch_1:eth-8', 'router_1:eth-2<->switch_2:eth-8', 'switch_1:eth-1<->domain_controller:eth-1', 'switch_1:eth-2<->web_server:eth-1', 'switch_1:eth-3<->database_server:eth-1', 'switch_1:eth-4<->backup_server:eth-1', 'switch_1:eth-7<->security_suite:eth-1', 'switch_2:eth-1<->client_1:eth-1', 'switch_2:eth-2<->client_2:eth-1', 'switch_2:eth-7<->security_suite:eth-2']}}, {'type': 'NONE', 'label': 'ICS', 'options': {}}]}}\n"
     ]
    },
    {
     "name": "stderr",
     "output_type": "stream",
     "text": [
      "2024-04-08 14:57:00,634: Resetting environment, episode 254, avg. reward: -95.24999999999997\n",
      "2024-04-08 14:57:00,638: Saving agent action log to C:\\Users\\CharlieCrane\\primaite\\3.0.0b7\\sessions\\2024-04-08\\14-49-25\\agent_actions\\episode_254.json\n"
     ]
    },
    {
     "name": "stdout",
     "output_type": "stream",
     "text": [
      "{'type': 'CUSTOM', 'options': {'components': [{'type': 'NODES', 'label': 'NODES', 'options': {'hosts': [{'hostname': 'domain_controller'}, {'hostname': 'web_server', 'services': [{'service_name': 'WebServer'}]}, {'hostname': 'database_server', 'folders': [{'folder_name': 'database', 'files': [{'file_name': 'database.db'}]}]}, {'hostname': 'backup_server'}, {'hostname': 'security_suite'}, {'hostname': 'client_1'}, {'hostname': 'client_2'}], 'num_services': 1, 'num_applications': 0, 'num_folders': 1, 'num_files': 1, 'num_nics': 2, 'include_num_access': False, 'include_nmne': True, 'routers': [{'hostname': 'router_1'}], 'num_ports': 0, 'ip_list': ['192.168.1.10', '192.168.1.12', '192.168.1.14', '192.168.1.16', '192.168.1.110', '192.168.10.21', '192.168.10.22', '192.168.10.110'], 'wildcard_list': ['0.0.0.1'], 'port_list': [80, 5432], 'protocol_list': ['ICMP', 'TCP', 'UDP'], 'num_rules': 10}}, {'type': 'LINKS', 'label': 'LINKS', 'options': {'link_references': ['router_1:eth-1<->switch_1:eth-8', 'router_1:eth-2<->switch_2:eth-8', 'switch_1:eth-1<->domain_controller:eth-1', 'switch_1:eth-2<->web_server:eth-1', 'switch_1:eth-3<->database_server:eth-1', 'switch_1:eth-4<->backup_server:eth-1', 'switch_1:eth-7<->security_suite:eth-1', 'switch_2:eth-1<->client_1:eth-1', 'switch_2:eth-2<->client_2:eth-1', 'switch_2:eth-7<->security_suite:eth-2']}}, {'type': 'NONE', 'label': 'ICS', 'options': {}}]}}\n"
     ]
    },
    {
     "name": "stderr",
     "output_type": "stream",
     "text": [
      "2024-04-08 14:57:02,345: Resetting environment, episode 255, avg. reward: -15.099999999999978\n",
      "2024-04-08 14:57:02,350: Saving agent action log to C:\\Users\\CharlieCrane\\primaite\\3.0.0b7\\sessions\\2024-04-08\\14-49-25\\agent_actions\\episode_255.json\n"
     ]
    },
    {
     "name": "stdout",
     "output_type": "stream",
     "text": [
      "{'type': 'CUSTOM', 'options': {'components': [{'type': 'NODES', 'label': 'NODES', 'options': {'hosts': [{'hostname': 'domain_controller'}, {'hostname': 'web_server', 'services': [{'service_name': 'WebServer'}]}, {'hostname': 'database_server', 'folders': [{'folder_name': 'database', 'files': [{'file_name': 'database.db'}]}]}, {'hostname': 'backup_server'}, {'hostname': 'security_suite'}, {'hostname': 'client_1'}, {'hostname': 'client_2'}], 'num_services': 1, 'num_applications': 0, 'num_folders': 1, 'num_files': 1, 'num_nics': 2, 'include_num_access': False, 'include_nmne': True, 'routers': [{'hostname': 'router_1'}], 'num_ports': 0, 'ip_list': ['192.168.1.10', '192.168.1.12', '192.168.1.14', '192.168.1.16', '192.168.1.110', '192.168.10.21', '192.168.10.22', '192.168.10.110'], 'wildcard_list': ['0.0.0.1'], 'port_list': [80, 5432], 'protocol_list': ['ICMP', 'TCP', 'UDP'], 'num_rules': 10}}, {'type': 'LINKS', 'label': 'LINKS', 'options': {'link_references': ['router_1:eth-1<->switch_1:eth-8', 'router_1:eth-2<->switch_2:eth-8', 'switch_1:eth-1<->domain_controller:eth-1', 'switch_1:eth-2<->web_server:eth-1', 'switch_1:eth-3<->database_server:eth-1', 'switch_1:eth-4<->backup_server:eth-1', 'switch_1:eth-7<->security_suite:eth-1', 'switch_2:eth-1<->client_1:eth-1', 'switch_2:eth-2<->client_2:eth-1', 'switch_2:eth-7<->security_suite:eth-2']}}, {'type': 'NONE', 'label': 'ICS', 'options': {}}]}}\n"
     ]
    },
    {
     "name": "stderr",
     "output_type": "stream",
     "text": [
      "2024-04-08 14:57:04,152: Resetting environment, episode 256, avg. reward: -84.75000000000011\n",
      "2024-04-08 14:57:04,155: Saving agent action log to C:\\Users\\CharlieCrane\\primaite\\3.0.0b7\\sessions\\2024-04-08\\14-49-25\\agent_actions\\episode_256.json\n"
     ]
    },
    {
     "name": "stdout",
     "output_type": "stream",
     "text": [
      "{'type': 'CUSTOM', 'options': {'components': [{'type': 'NODES', 'label': 'NODES', 'options': {'hosts': [{'hostname': 'domain_controller'}, {'hostname': 'web_server', 'services': [{'service_name': 'WebServer'}]}, {'hostname': 'database_server', 'folders': [{'folder_name': 'database', 'files': [{'file_name': 'database.db'}]}]}, {'hostname': 'backup_server'}, {'hostname': 'security_suite'}, {'hostname': 'client_1'}, {'hostname': 'client_2'}], 'num_services': 1, 'num_applications': 0, 'num_folders': 1, 'num_files': 1, 'num_nics': 2, 'include_num_access': False, 'include_nmne': True, 'routers': [{'hostname': 'router_1'}], 'num_ports': 0, 'ip_list': ['192.168.1.10', '192.168.1.12', '192.168.1.14', '192.168.1.16', '192.168.1.110', '192.168.10.21', '192.168.10.22', '192.168.10.110'], 'wildcard_list': ['0.0.0.1'], 'port_list': [80, 5432], 'protocol_list': ['ICMP', 'TCP', 'UDP'], 'num_rules': 10}}, {'type': 'LINKS', 'label': 'LINKS', 'options': {'link_references': ['router_1:eth-1<->switch_1:eth-8', 'router_1:eth-2<->switch_2:eth-8', 'switch_1:eth-1<->domain_controller:eth-1', 'switch_1:eth-2<->web_server:eth-1', 'switch_1:eth-3<->database_server:eth-1', 'switch_1:eth-4<->backup_server:eth-1', 'switch_1:eth-7<->security_suite:eth-1', 'switch_2:eth-1<->client_1:eth-1', 'switch_2:eth-2<->client_2:eth-1', 'switch_2:eth-7<->security_suite:eth-2']}}, {'type': 'NONE', 'label': 'ICS', 'options': {}}]}}\n"
     ]
    },
    {
     "name": "stderr",
     "output_type": "stream",
     "text": [
      "2024-04-08 14:57:05,658: Resetting environment, episode 257, avg. reward: -17.399999999999974\n",
      "2024-04-08 14:57:05,661: Saving agent action log to C:\\Users\\CharlieCrane\\primaite\\3.0.0b7\\sessions\\2024-04-08\\14-49-25\\agent_actions\\episode_257.json\n"
     ]
    },
    {
     "name": "stdout",
     "output_type": "stream",
     "text": [
      "{'type': 'CUSTOM', 'options': {'components': [{'type': 'NODES', 'label': 'NODES', 'options': {'hosts': [{'hostname': 'domain_controller'}, {'hostname': 'web_server', 'services': [{'service_name': 'WebServer'}]}, {'hostname': 'database_server', 'folders': [{'folder_name': 'database', 'files': [{'file_name': 'database.db'}]}]}, {'hostname': 'backup_server'}, {'hostname': 'security_suite'}, {'hostname': 'client_1'}, {'hostname': 'client_2'}], 'num_services': 1, 'num_applications': 0, 'num_folders': 1, 'num_files': 1, 'num_nics': 2, 'include_num_access': False, 'include_nmne': True, 'routers': [{'hostname': 'router_1'}], 'num_ports': 0, 'ip_list': ['192.168.1.10', '192.168.1.12', '192.168.1.14', '192.168.1.16', '192.168.1.110', '192.168.10.21', '192.168.10.22', '192.168.10.110'], 'wildcard_list': ['0.0.0.1'], 'port_list': [80, 5432], 'protocol_list': ['ICMP', 'TCP', 'UDP'], 'num_rules': 10}}, {'type': 'LINKS', 'label': 'LINKS', 'options': {'link_references': ['router_1:eth-1<->switch_1:eth-8', 'router_1:eth-2<->switch_2:eth-8', 'switch_1:eth-1<->domain_controller:eth-1', 'switch_1:eth-2<->web_server:eth-1', 'switch_1:eth-3<->database_server:eth-1', 'switch_1:eth-4<->backup_server:eth-1', 'switch_1:eth-7<->security_suite:eth-1', 'switch_2:eth-1<->client_1:eth-1', 'switch_2:eth-2<->client_2:eth-1', 'switch_2:eth-7<->security_suite:eth-2']}}, {'type': 'NONE', 'label': 'ICS', 'options': {}}]}}\n"
     ]
    },
    {
     "name": "stderr",
     "output_type": "stream",
     "text": [
      "2024-04-08 14:57:07,257: Resetting environment, episode 258, avg. reward: -17.74999999999997\n",
      "2024-04-08 14:57:07,267: Saving agent action log to C:\\Users\\CharlieCrane\\primaite\\3.0.0b7\\sessions\\2024-04-08\\14-49-25\\agent_actions\\episode_258.json\n"
     ]
    },
    {
     "name": "stdout",
     "output_type": "stream",
     "text": [
      "{'type': 'CUSTOM', 'options': {'components': [{'type': 'NODES', 'label': 'NODES', 'options': {'hosts': [{'hostname': 'domain_controller'}, {'hostname': 'web_server', 'services': [{'service_name': 'WebServer'}]}, {'hostname': 'database_server', 'folders': [{'folder_name': 'database', 'files': [{'file_name': 'database.db'}]}]}, {'hostname': 'backup_server'}, {'hostname': 'security_suite'}, {'hostname': 'client_1'}, {'hostname': 'client_2'}], 'num_services': 1, 'num_applications': 0, 'num_folders': 1, 'num_files': 1, 'num_nics': 2, 'include_num_access': False, 'include_nmne': True, 'routers': [{'hostname': 'router_1'}], 'num_ports': 0, 'ip_list': ['192.168.1.10', '192.168.1.12', '192.168.1.14', '192.168.1.16', '192.168.1.110', '192.168.10.21', '192.168.10.22', '192.168.10.110'], 'wildcard_list': ['0.0.0.1'], 'port_list': [80, 5432], 'protocol_list': ['ICMP', 'TCP', 'UDP'], 'num_rules': 10}}, {'type': 'LINKS', 'label': 'LINKS', 'options': {'link_references': ['router_1:eth-1<->switch_1:eth-8', 'router_1:eth-2<->switch_2:eth-8', 'switch_1:eth-1<->domain_controller:eth-1', 'switch_1:eth-2<->web_server:eth-1', 'switch_1:eth-3<->database_server:eth-1', 'switch_1:eth-4<->backup_server:eth-1', 'switch_1:eth-7<->security_suite:eth-1', 'switch_2:eth-1<->client_1:eth-1', 'switch_2:eth-2<->client_2:eth-1', 'switch_2:eth-7<->security_suite:eth-2']}}, {'type': 'NONE', 'label': 'ICS', 'options': {}}]}}\n"
     ]
    },
    {
     "name": "stderr",
     "output_type": "stream",
     "text": [
      "2024-04-08 14:57:09,280: Resetting environment, episode 259, avg. reward: -95.50000000000001\n",
      "2024-04-08 14:57:09,283: Saving agent action log to C:\\Users\\CharlieCrane\\primaite\\3.0.0b7\\sessions\\2024-04-08\\14-49-25\\agent_actions\\episode_259.json\n"
     ]
    },
    {
     "name": "stdout",
     "output_type": "stream",
     "text": [
      "{'type': 'CUSTOM', 'options': {'components': [{'type': 'NODES', 'label': 'NODES', 'options': {'hosts': [{'hostname': 'domain_controller'}, {'hostname': 'web_server', 'services': [{'service_name': 'WebServer'}]}, {'hostname': 'database_server', 'folders': [{'folder_name': 'database', 'files': [{'file_name': 'database.db'}]}]}, {'hostname': 'backup_server'}, {'hostname': 'security_suite'}, {'hostname': 'client_1'}, {'hostname': 'client_2'}], 'num_services': 1, 'num_applications': 0, 'num_folders': 1, 'num_files': 1, 'num_nics': 2, 'include_num_access': False, 'include_nmne': True, 'routers': [{'hostname': 'router_1'}], 'num_ports': 0, 'ip_list': ['192.168.1.10', '192.168.1.12', '192.168.1.14', '192.168.1.16', '192.168.1.110', '192.168.10.21', '192.168.10.22', '192.168.10.110'], 'wildcard_list': ['0.0.0.1'], 'port_list': [80, 5432], 'protocol_list': ['ICMP', 'TCP', 'UDP'], 'num_rules': 10}}, {'type': 'LINKS', 'label': 'LINKS', 'options': {'link_references': ['router_1:eth-1<->switch_1:eth-8', 'router_1:eth-2<->switch_2:eth-8', 'switch_1:eth-1<->domain_controller:eth-1', 'switch_1:eth-2<->web_server:eth-1', 'switch_1:eth-3<->database_server:eth-1', 'switch_1:eth-4<->backup_server:eth-1', 'switch_1:eth-7<->security_suite:eth-1', 'switch_2:eth-1<->client_1:eth-1', 'switch_2:eth-2<->client_2:eth-1', 'switch_2:eth-7<->security_suite:eth-2']}}, {'type': 'NONE', 'label': 'ICS', 'options': {}}]}}\n"
     ]
    },
    {
     "name": "stderr",
     "output_type": "stream",
     "text": [
      "2024-04-08 14:57:11,050: Resetting environment, episode 260, avg. reward: -1.4499999999999633\n",
      "2024-04-08 14:57:11,054: Saving agent action log to C:\\Users\\CharlieCrane\\primaite\\3.0.0b7\\sessions\\2024-04-08\\14-49-25\\agent_actions\\episode_260.json\n"
     ]
    },
    {
     "name": "stdout",
     "output_type": "stream",
     "text": [
      "{'type': 'CUSTOM', 'options': {'components': [{'type': 'NODES', 'label': 'NODES', 'options': {'hosts': [{'hostname': 'domain_controller'}, {'hostname': 'web_server', 'services': [{'service_name': 'WebServer'}]}, {'hostname': 'database_server', 'folders': [{'folder_name': 'database', 'files': [{'file_name': 'database.db'}]}]}, {'hostname': 'backup_server'}, {'hostname': 'security_suite'}, {'hostname': 'client_1'}, {'hostname': 'client_2'}], 'num_services': 1, 'num_applications': 0, 'num_folders': 1, 'num_files': 1, 'num_nics': 2, 'include_num_access': False, 'include_nmne': True, 'routers': [{'hostname': 'router_1'}], 'num_ports': 0, 'ip_list': ['192.168.1.10', '192.168.1.12', '192.168.1.14', '192.168.1.16', '192.168.1.110', '192.168.10.21', '192.168.10.22', '192.168.10.110'], 'wildcard_list': ['0.0.0.1'], 'port_list': [80, 5432], 'protocol_list': ['ICMP', 'TCP', 'UDP'], 'num_rules': 10}}, {'type': 'LINKS', 'label': 'LINKS', 'options': {'link_references': ['router_1:eth-1<->switch_1:eth-8', 'router_1:eth-2<->switch_2:eth-8', 'switch_1:eth-1<->domain_controller:eth-1', 'switch_1:eth-2<->web_server:eth-1', 'switch_1:eth-3<->database_server:eth-1', 'switch_1:eth-4<->backup_server:eth-1', 'switch_1:eth-7<->security_suite:eth-1', 'switch_2:eth-1<->client_1:eth-1', 'switch_2:eth-2<->client_2:eth-1', 'switch_2:eth-7<->security_suite:eth-2']}}, {'type': 'NONE', 'label': 'ICS', 'options': {}}]}}\n"
     ]
    },
    {
     "name": "stderr",
     "output_type": "stream",
     "text": [
      "2024-04-08 14:57:13,023: Resetting environment, episode 261, avg. reward: -92.59999999999997\n",
      "2024-04-08 14:57:13,026: Saving agent action log to C:\\Users\\CharlieCrane\\primaite\\3.0.0b7\\sessions\\2024-04-08\\14-49-25\\agent_actions\\episode_261.json\n"
     ]
    },
    {
     "name": "stdout",
     "output_type": "stream",
     "text": [
      "{'type': 'CUSTOM', 'options': {'components': [{'type': 'NODES', 'label': 'NODES', 'options': {'hosts': [{'hostname': 'domain_controller'}, {'hostname': 'web_server', 'services': [{'service_name': 'WebServer'}]}, {'hostname': 'database_server', 'folders': [{'folder_name': 'database', 'files': [{'file_name': 'database.db'}]}]}, {'hostname': 'backup_server'}, {'hostname': 'security_suite'}, {'hostname': 'client_1'}, {'hostname': 'client_2'}], 'num_services': 1, 'num_applications': 0, 'num_folders': 1, 'num_files': 1, 'num_nics': 2, 'include_num_access': False, 'include_nmne': True, 'routers': [{'hostname': 'router_1'}], 'num_ports': 0, 'ip_list': ['192.168.1.10', '192.168.1.12', '192.168.1.14', '192.168.1.16', '192.168.1.110', '192.168.10.21', '192.168.10.22', '192.168.10.110'], 'wildcard_list': ['0.0.0.1'], 'port_list': [80, 5432], 'protocol_list': ['ICMP', 'TCP', 'UDP'], 'num_rules': 10}}, {'type': 'LINKS', 'label': 'LINKS', 'options': {'link_references': ['router_1:eth-1<->switch_1:eth-8', 'router_1:eth-2<->switch_2:eth-8', 'switch_1:eth-1<->domain_controller:eth-1', 'switch_1:eth-2<->web_server:eth-1', 'switch_1:eth-3<->database_server:eth-1', 'switch_1:eth-4<->backup_server:eth-1', 'switch_1:eth-7<->security_suite:eth-1', 'switch_2:eth-1<->client_1:eth-1', 'switch_2:eth-2<->client_2:eth-1', 'switch_2:eth-7<->security_suite:eth-2']}}, {'type': 'NONE', 'label': 'ICS', 'options': {}}]}}\n"
     ]
    },
    {
     "name": "stderr",
     "output_type": "stream",
     "text": [
      "2024-04-08 14:57:14,723: Resetting environment, episode 262, avg. reward: -2.5999999999999814\n",
      "2024-04-08 14:57:14,726: Saving agent action log to C:\\Users\\CharlieCrane\\primaite\\3.0.0b7\\sessions\\2024-04-08\\14-49-25\\agent_actions\\episode_262.json\n"
     ]
    },
    {
     "name": "stdout",
     "output_type": "stream",
     "text": [
      "{'type': 'CUSTOM', 'options': {'components': [{'type': 'NODES', 'label': 'NODES', 'options': {'hosts': [{'hostname': 'domain_controller'}, {'hostname': 'web_server', 'services': [{'service_name': 'WebServer'}]}, {'hostname': 'database_server', 'folders': [{'folder_name': 'database', 'files': [{'file_name': 'database.db'}]}]}, {'hostname': 'backup_server'}, {'hostname': 'security_suite'}, {'hostname': 'client_1'}, {'hostname': 'client_2'}], 'num_services': 1, 'num_applications': 0, 'num_folders': 1, 'num_files': 1, 'num_nics': 2, 'include_num_access': False, 'include_nmne': True, 'routers': [{'hostname': 'router_1'}], 'num_ports': 0, 'ip_list': ['192.168.1.10', '192.168.1.12', '192.168.1.14', '192.168.1.16', '192.168.1.110', '192.168.10.21', '192.168.10.22', '192.168.10.110'], 'wildcard_list': ['0.0.0.1'], 'port_list': [80, 5432], 'protocol_list': ['ICMP', 'TCP', 'UDP'], 'num_rules': 10}}, {'type': 'LINKS', 'label': 'LINKS', 'options': {'link_references': ['router_1:eth-1<->switch_1:eth-8', 'router_1:eth-2<->switch_2:eth-8', 'switch_1:eth-1<->domain_controller:eth-1', 'switch_1:eth-2<->web_server:eth-1', 'switch_1:eth-3<->database_server:eth-1', 'switch_1:eth-4<->backup_server:eth-1', 'switch_1:eth-7<->security_suite:eth-1', 'switch_2:eth-1<->client_1:eth-1', 'switch_2:eth-2<->client_2:eth-1', 'switch_2:eth-7<->security_suite:eth-2']}}, {'type': 'NONE', 'label': 'ICS', 'options': {}}]}}\n"
     ]
    },
    {
     "name": "stderr",
     "output_type": "stream",
     "text": [
      "2024-04-08 14:57:17,321: Resetting environment, episode 263, avg. reward: -60.95000000000002\n",
      "2024-04-08 14:57:17,324: Saving agent action log to C:\\Users\\CharlieCrane\\primaite\\3.0.0b7\\sessions\\2024-04-08\\14-49-25\\agent_actions\\episode_263.json\n"
     ]
    },
    {
     "name": "stdout",
     "output_type": "stream",
     "text": [
      "{'type': 'CUSTOM', 'options': {'components': [{'type': 'NODES', 'label': 'NODES', 'options': {'hosts': [{'hostname': 'domain_controller'}, {'hostname': 'web_server', 'services': [{'service_name': 'WebServer'}]}, {'hostname': 'database_server', 'folders': [{'folder_name': 'database', 'files': [{'file_name': 'database.db'}]}]}, {'hostname': 'backup_server'}, {'hostname': 'security_suite'}, {'hostname': 'client_1'}, {'hostname': 'client_2'}], 'num_services': 1, 'num_applications': 0, 'num_folders': 1, 'num_files': 1, 'num_nics': 2, 'include_num_access': False, 'include_nmne': True, 'routers': [{'hostname': 'router_1'}], 'num_ports': 0, 'ip_list': ['192.168.1.10', '192.168.1.12', '192.168.1.14', '192.168.1.16', '192.168.1.110', '192.168.10.21', '192.168.10.22', '192.168.10.110'], 'wildcard_list': ['0.0.0.1'], 'port_list': [80, 5432], 'protocol_list': ['ICMP', 'TCP', 'UDP'], 'num_rules': 10}}, {'type': 'LINKS', 'label': 'LINKS', 'options': {'link_references': ['router_1:eth-1<->switch_1:eth-8', 'router_1:eth-2<->switch_2:eth-8', 'switch_1:eth-1<->domain_controller:eth-1', 'switch_1:eth-2<->web_server:eth-1', 'switch_1:eth-3<->database_server:eth-1', 'switch_1:eth-4<->backup_server:eth-1', 'switch_1:eth-7<->security_suite:eth-1', 'switch_2:eth-1<->client_1:eth-1', 'switch_2:eth-2<->client_2:eth-1', 'switch_2:eth-7<->security_suite:eth-2']}}, {'type': 'NONE', 'label': 'ICS', 'options': {}}]}}\n"
     ]
    },
    {
     "name": "stderr",
     "output_type": "stream",
     "text": [
      "2024-04-08 14:57:19,220: Resetting environment, episode 264, avg. reward: -19.449999999999964\n",
      "2024-04-08 14:57:19,223: Saving agent action log to C:\\Users\\CharlieCrane\\primaite\\3.0.0b7\\sessions\\2024-04-08\\14-49-25\\agent_actions\\episode_264.json\n"
     ]
    },
    {
     "name": "stdout",
     "output_type": "stream",
     "text": [
      "{'type': 'CUSTOM', 'options': {'components': [{'type': 'NODES', 'label': 'NODES', 'options': {'hosts': [{'hostname': 'domain_controller'}, {'hostname': 'web_server', 'services': [{'service_name': 'WebServer'}]}, {'hostname': 'database_server', 'folders': [{'folder_name': 'database', 'files': [{'file_name': 'database.db'}]}]}, {'hostname': 'backup_server'}, {'hostname': 'security_suite'}, {'hostname': 'client_1'}, {'hostname': 'client_2'}], 'num_services': 1, 'num_applications': 0, 'num_folders': 1, 'num_files': 1, 'num_nics': 2, 'include_num_access': False, 'include_nmne': True, 'routers': [{'hostname': 'router_1'}], 'num_ports': 0, 'ip_list': ['192.168.1.10', '192.168.1.12', '192.168.1.14', '192.168.1.16', '192.168.1.110', '192.168.10.21', '192.168.10.22', '192.168.10.110'], 'wildcard_list': ['0.0.0.1'], 'port_list': [80, 5432], 'protocol_list': ['ICMP', 'TCP', 'UDP'], 'num_rules': 10}}, {'type': 'LINKS', 'label': 'LINKS', 'options': {'link_references': ['router_1:eth-1<->switch_1:eth-8', 'router_1:eth-2<->switch_2:eth-8', 'switch_1:eth-1<->domain_controller:eth-1', 'switch_1:eth-2<->web_server:eth-1', 'switch_1:eth-3<->database_server:eth-1', 'switch_1:eth-4<->backup_server:eth-1', 'switch_1:eth-7<->security_suite:eth-1', 'switch_2:eth-1<->client_1:eth-1', 'switch_2:eth-2<->client_2:eth-1', 'switch_2:eth-7<->security_suite:eth-2']}}, {'type': 'NONE', 'label': 'ICS', 'options': {}}]}}\n"
     ]
    },
    {
     "name": "stderr",
     "output_type": "stream",
     "text": [
      "2024-04-08 14:57:21,072: Resetting environment, episode 265, avg. reward: -86.4\n",
      "2024-04-08 14:57:21,076: Saving agent action log to C:\\Users\\CharlieCrane\\primaite\\3.0.0b7\\sessions\\2024-04-08\\14-49-25\\agent_actions\\episode_265.json\n"
     ]
    },
    {
     "name": "stdout",
     "output_type": "stream",
     "text": [
      "{'type': 'CUSTOM', 'options': {'components': [{'type': 'NODES', 'label': 'NODES', 'options': {'hosts': [{'hostname': 'domain_controller'}, {'hostname': 'web_server', 'services': [{'service_name': 'WebServer'}]}, {'hostname': 'database_server', 'folders': [{'folder_name': 'database', 'files': [{'file_name': 'database.db'}]}]}, {'hostname': 'backup_server'}, {'hostname': 'security_suite'}, {'hostname': 'client_1'}, {'hostname': 'client_2'}], 'num_services': 1, 'num_applications': 0, 'num_folders': 1, 'num_files': 1, 'num_nics': 2, 'include_num_access': False, 'include_nmne': True, 'routers': [{'hostname': 'router_1'}], 'num_ports': 0, 'ip_list': ['192.168.1.10', '192.168.1.12', '192.168.1.14', '192.168.1.16', '192.168.1.110', '192.168.10.21', '192.168.10.22', '192.168.10.110'], 'wildcard_list': ['0.0.0.1'], 'port_list': [80, 5432], 'protocol_list': ['ICMP', 'TCP', 'UDP'], 'num_rules': 10}}, {'type': 'LINKS', 'label': 'LINKS', 'options': {'link_references': ['router_1:eth-1<->switch_1:eth-8', 'router_1:eth-2<->switch_2:eth-8', 'switch_1:eth-1<->domain_controller:eth-1', 'switch_1:eth-2<->web_server:eth-1', 'switch_1:eth-3<->database_server:eth-1', 'switch_1:eth-4<->backup_server:eth-1', 'switch_1:eth-7<->security_suite:eth-1', 'switch_2:eth-1<->client_1:eth-1', 'switch_2:eth-2<->client_2:eth-1', 'switch_2:eth-7<->security_suite:eth-2']}}, {'type': 'NONE', 'label': 'ICS', 'options': {}}]}}\n"
     ]
    },
    {
     "name": "stderr",
     "output_type": "stream",
     "text": [
      "2024-04-08 14:57:22,895: Resetting environment, episode 266, avg. reward: -91.89999999999996\n",
      "2024-04-08 14:57:22,899: Saving agent action log to C:\\Users\\CharlieCrane\\primaite\\3.0.0b7\\sessions\\2024-04-08\\14-49-25\\agent_actions\\episode_266.json\n"
     ]
    },
    {
     "name": "stdout",
     "output_type": "stream",
     "text": [
      "{'type': 'CUSTOM', 'options': {'components': [{'type': 'NODES', 'label': 'NODES', 'options': {'hosts': [{'hostname': 'domain_controller'}, {'hostname': 'web_server', 'services': [{'service_name': 'WebServer'}]}, {'hostname': 'database_server', 'folders': [{'folder_name': 'database', 'files': [{'file_name': 'database.db'}]}]}, {'hostname': 'backup_server'}, {'hostname': 'security_suite'}, {'hostname': 'client_1'}, {'hostname': 'client_2'}], 'num_services': 1, 'num_applications': 0, 'num_folders': 1, 'num_files': 1, 'num_nics': 2, 'include_num_access': False, 'include_nmne': True, 'routers': [{'hostname': 'router_1'}], 'num_ports': 0, 'ip_list': ['192.168.1.10', '192.168.1.12', '192.168.1.14', '192.168.1.16', '192.168.1.110', '192.168.10.21', '192.168.10.22', '192.168.10.110'], 'wildcard_list': ['0.0.0.1'], 'port_list': [80, 5432], 'protocol_list': ['ICMP', 'TCP', 'UDP'], 'num_rules': 10}}, {'type': 'LINKS', 'label': 'LINKS', 'options': {'link_references': ['router_1:eth-1<->switch_1:eth-8', 'router_1:eth-2<->switch_2:eth-8', 'switch_1:eth-1<->domain_controller:eth-1', 'switch_1:eth-2<->web_server:eth-1', 'switch_1:eth-3<->database_server:eth-1', 'switch_1:eth-4<->backup_server:eth-1', 'switch_1:eth-7<->security_suite:eth-1', 'switch_2:eth-1<->client_1:eth-1', 'switch_2:eth-2<->client_2:eth-1', 'switch_2:eth-7<->security_suite:eth-2']}}, {'type': 'NONE', 'label': 'ICS', 'options': {}}]}}\n"
     ]
    },
    {
     "name": "stderr",
     "output_type": "stream",
     "text": [
      "2024-04-08 14:57:24,815: Resetting environment, episode 267, avg. reward: -44.5\n",
      "2024-04-08 14:57:24,819: Saving agent action log to C:\\Users\\CharlieCrane\\primaite\\3.0.0b7\\sessions\\2024-04-08\\14-49-25\\agent_actions\\episode_267.json\n"
     ]
    },
    {
     "name": "stdout",
     "output_type": "stream",
     "text": [
      "{'type': 'CUSTOM', 'options': {'components': [{'type': 'NODES', 'label': 'NODES', 'options': {'hosts': [{'hostname': 'domain_controller'}, {'hostname': 'web_server', 'services': [{'service_name': 'WebServer'}]}, {'hostname': 'database_server', 'folders': [{'folder_name': 'database', 'files': [{'file_name': 'database.db'}]}]}, {'hostname': 'backup_server'}, {'hostname': 'security_suite'}, {'hostname': 'client_1'}, {'hostname': 'client_2'}], 'num_services': 1, 'num_applications': 0, 'num_folders': 1, 'num_files': 1, 'num_nics': 2, 'include_num_access': False, 'include_nmne': True, 'routers': [{'hostname': 'router_1'}], 'num_ports': 0, 'ip_list': ['192.168.1.10', '192.168.1.12', '192.168.1.14', '192.168.1.16', '192.168.1.110', '192.168.10.21', '192.168.10.22', '192.168.10.110'], 'wildcard_list': ['0.0.0.1'], 'port_list': [80, 5432], 'protocol_list': ['ICMP', 'TCP', 'UDP'], 'num_rules': 10}}, {'type': 'LINKS', 'label': 'LINKS', 'options': {'link_references': ['router_1:eth-1<->switch_1:eth-8', 'router_1:eth-2<->switch_2:eth-8', 'switch_1:eth-1<->domain_controller:eth-1', 'switch_1:eth-2<->web_server:eth-1', 'switch_1:eth-3<->database_server:eth-1', 'switch_1:eth-4<->backup_server:eth-1', 'switch_1:eth-7<->security_suite:eth-1', 'switch_2:eth-1<->client_1:eth-1', 'switch_2:eth-2<->client_2:eth-1', 'switch_2:eth-7<->security_suite:eth-2']}}, {'type': 'NONE', 'label': 'ICS', 'options': {}}]}}\n"
     ]
    },
    {
     "name": "stderr",
     "output_type": "stream",
     "text": [
      "2024-04-08 14:57:26,841: Resetting environment, episode 268, avg. reward: -3.3999999999999875\n",
      "2024-04-08 14:57:26,845: Saving agent action log to C:\\Users\\CharlieCrane\\primaite\\3.0.0b7\\sessions\\2024-04-08\\14-49-25\\agent_actions\\episode_268.json\n"
     ]
    },
    {
     "name": "stdout",
     "output_type": "stream",
     "text": [
      "{'type': 'CUSTOM', 'options': {'components': [{'type': 'NODES', 'label': 'NODES', 'options': {'hosts': [{'hostname': 'domain_controller'}, {'hostname': 'web_server', 'services': [{'service_name': 'WebServer'}]}, {'hostname': 'database_server', 'folders': [{'folder_name': 'database', 'files': [{'file_name': 'database.db'}]}]}, {'hostname': 'backup_server'}, {'hostname': 'security_suite'}, {'hostname': 'client_1'}, {'hostname': 'client_2'}], 'num_services': 1, 'num_applications': 0, 'num_folders': 1, 'num_files': 1, 'num_nics': 2, 'include_num_access': False, 'include_nmne': True, 'routers': [{'hostname': 'router_1'}], 'num_ports': 0, 'ip_list': ['192.168.1.10', '192.168.1.12', '192.168.1.14', '192.168.1.16', '192.168.1.110', '192.168.10.21', '192.168.10.22', '192.168.10.110'], 'wildcard_list': ['0.0.0.1'], 'port_list': [80, 5432], 'protocol_list': ['ICMP', 'TCP', 'UDP'], 'num_rules': 10}}, {'type': 'LINKS', 'label': 'LINKS', 'options': {'link_references': ['router_1:eth-1<->switch_1:eth-8', 'router_1:eth-2<->switch_2:eth-8', 'switch_1:eth-1<->domain_controller:eth-1', 'switch_1:eth-2<->web_server:eth-1', 'switch_1:eth-3<->database_server:eth-1', 'switch_1:eth-4<->backup_server:eth-1', 'switch_1:eth-7<->security_suite:eth-1', 'switch_2:eth-1<->client_1:eth-1', 'switch_2:eth-2<->client_2:eth-1', 'switch_2:eth-7<->security_suite:eth-2']}}, {'type': 'NONE', 'label': 'ICS', 'options': {}}]}}\n"
     ]
    },
    {
     "name": "stderr",
     "output_type": "stream",
     "text": [
      "2024-04-08 14:57:28,525: Resetting environment, episode 269, avg. reward: -61.79999999999996\n",
      "2024-04-08 14:57:28,528: Saving agent action log to C:\\Users\\CharlieCrane\\primaite\\3.0.0b7\\sessions\\2024-04-08\\14-49-25\\agent_actions\\episode_269.json\n"
     ]
    },
    {
     "name": "stdout",
     "output_type": "stream",
     "text": [
      "{'type': 'CUSTOM', 'options': {'components': [{'type': 'NODES', 'label': 'NODES', 'options': {'hosts': [{'hostname': 'domain_controller'}, {'hostname': 'web_server', 'services': [{'service_name': 'WebServer'}]}, {'hostname': 'database_server', 'folders': [{'folder_name': 'database', 'files': [{'file_name': 'database.db'}]}]}, {'hostname': 'backup_server'}, {'hostname': 'security_suite'}, {'hostname': 'client_1'}, {'hostname': 'client_2'}], 'num_services': 1, 'num_applications': 0, 'num_folders': 1, 'num_files': 1, 'num_nics': 2, 'include_num_access': False, 'include_nmne': True, 'routers': [{'hostname': 'router_1'}], 'num_ports': 0, 'ip_list': ['192.168.1.10', '192.168.1.12', '192.168.1.14', '192.168.1.16', '192.168.1.110', '192.168.10.21', '192.168.10.22', '192.168.10.110'], 'wildcard_list': ['0.0.0.1'], 'port_list': [80, 5432], 'protocol_list': ['ICMP', 'TCP', 'UDP'], 'num_rules': 10}}, {'type': 'LINKS', 'label': 'LINKS', 'options': {'link_references': ['router_1:eth-1<->switch_1:eth-8', 'router_1:eth-2<->switch_2:eth-8', 'switch_1:eth-1<->domain_controller:eth-1', 'switch_1:eth-2<->web_server:eth-1', 'switch_1:eth-3<->database_server:eth-1', 'switch_1:eth-4<->backup_server:eth-1', 'switch_1:eth-7<->security_suite:eth-1', 'switch_2:eth-1<->client_1:eth-1', 'switch_2:eth-2<->client_2:eth-1', 'switch_2:eth-7<->security_suite:eth-2']}}, {'type': 'NONE', 'label': 'ICS', 'options': {}}]}}\n"
     ]
    },
    {
     "name": "stderr",
     "output_type": "stream",
     "text": [
      "2024-04-08 14:57:30,709: Resetting environment, episode 270, avg. reward: -72.09999999999991\n",
      "2024-04-08 14:57:30,712: Saving agent action log to C:\\Users\\CharlieCrane\\primaite\\3.0.0b7\\sessions\\2024-04-08\\14-49-25\\agent_actions\\episode_270.json\n"
     ]
    },
    {
     "name": "stdout",
     "output_type": "stream",
     "text": [
      "{'type': 'CUSTOM', 'options': {'components': [{'type': 'NODES', 'label': 'NODES', 'options': {'hosts': [{'hostname': 'domain_controller'}, {'hostname': 'web_server', 'services': [{'service_name': 'WebServer'}]}, {'hostname': 'database_server', 'folders': [{'folder_name': 'database', 'files': [{'file_name': 'database.db'}]}]}, {'hostname': 'backup_server'}, {'hostname': 'security_suite'}, {'hostname': 'client_1'}, {'hostname': 'client_2'}], 'num_services': 1, 'num_applications': 0, 'num_folders': 1, 'num_files': 1, 'num_nics': 2, 'include_num_access': False, 'include_nmne': True, 'routers': [{'hostname': 'router_1'}], 'num_ports': 0, 'ip_list': ['192.168.1.10', '192.168.1.12', '192.168.1.14', '192.168.1.16', '192.168.1.110', '192.168.10.21', '192.168.10.22', '192.168.10.110'], 'wildcard_list': ['0.0.0.1'], 'port_list': [80, 5432], 'protocol_list': ['ICMP', 'TCP', 'UDP'], 'num_rules': 10}}, {'type': 'LINKS', 'label': 'LINKS', 'options': {'link_references': ['router_1:eth-1<->switch_1:eth-8', 'router_1:eth-2<->switch_2:eth-8', 'switch_1:eth-1<->domain_controller:eth-1', 'switch_1:eth-2<->web_server:eth-1', 'switch_1:eth-3<->database_server:eth-1', 'switch_1:eth-4<->backup_server:eth-1', 'switch_1:eth-7<->security_suite:eth-1', 'switch_2:eth-1<->client_1:eth-1', 'switch_2:eth-2<->client_2:eth-1', 'switch_2:eth-7<->security_suite:eth-2']}}, {'type': 'NONE', 'label': 'ICS', 'options': {}}]}}\n"
     ]
    },
    {
     "name": "stderr",
     "output_type": "stream",
     "text": [
      "2024-04-08 14:57:33,009: Resetting environment, episode 271, avg. reward: -10.749999999999986\n",
      "2024-04-08 14:57:33,012: Saving agent action log to C:\\Users\\CharlieCrane\\primaite\\3.0.0b7\\sessions\\2024-04-08\\14-49-25\\agent_actions\\episode_271.json\n"
     ]
    },
    {
     "name": "stdout",
     "output_type": "stream",
     "text": [
      "{'type': 'CUSTOM', 'options': {'components': [{'type': 'NODES', 'label': 'NODES', 'options': {'hosts': [{'hostname': 'domain_controller'}, {'hostname': 'web_server', 'services': [{'service_name': 'WebServer'}]}, {'hostname': 'database_server', 'folders': [{'folder_name': 'database', 'files': [{'file_name': 'database.db'}]}]}, {'hostname': 'backup_server'}, {'hostname': 'security_suite'}, {'hostname': 'client_1'}, {'hostname': 'client_2'}], 'num_services': 1, 'num_applications': 0, 'num_folders': 1, 'num_files': 1, 'num_nics': 2, 'include_num_access': False, 'include_nmne': True, 'routers': [{'hostname': 'router_1'}], 'num_ports': 0, 'ip_list': ['192.168.1.10', '192.168.1.12', '192.168.1.14', '192.168.1.16', '192.168.1.110', '192.168.10.21', '192.168.10.22', '192.168.10.110'], 'wildcard_list': ['0.0.0.1'], 'port_list': [80, 5432], 'protocol_list': ['ICMP', 'TCP', 'UDP'], 'num_rules': 10}}, {'type': 'LINKS', 'label': 'LINKS', 'options': {'link_references': ['router_1:eth-1<->switch_1:eth-8', 'router_1:eth-2<->switch_2:eth-8', 'switch_1:eth-1<->domain_controller:eth-1', 'switch_1:eth-2<->web_server:eth-1', 'switch_1:eth-3<->database_server:eth-1', 'switch_1:eth-4<->backup_server:eth-1', 'switch_1:eth-7<->security_suite:eth-1', 'switch_2:eth-1<->client_1:eth-1', 'switch_2:eth-2<->client_2:eth-1', 'switch_2:eth-7<->security_suite:eth-2']}}, {'type': 'NONE', 'label': 'ICS', 'options': {}}]}}\n"
     ]
    },
    {
     "name": "stderr",
     "output_type": "stream",
     "text": [
      "2024-04-08 14:57:34,883: Resetting environment, episode 272, avg. reward: -9.799999999999994\n",
      "2024-04-08 14:57:34,886: Saving agent action log to C:\\Users\\CharlieCrane\\primaite\\3.0.0b7\\sessions\\2024-04-08\\14-49-25\\agent_actions\\episode_272.json\n"
     ]
    },
    {
     "name": "stdout",
     "output_type": "stream",
     "text": [
      "{'type': 'CUSTOM', 'options': {'components': [{'type': 'NODES', 'label': 'NODES', 'options': {'hosts': [{'hostname': 'domain_controller'}, {'hostname': 'web_server', 'services': [{'service_name': 'WebServer'}]}, {'hostname': 'database_server', 'folders': [{'folder_name': 'database', 'files': [{'file_name': 'database.db'}]}]}, {'hostname': 'backup_server'}, {'hostname': 'security_suite'}, {'hostname': 'client_1'}, {'hostname': 'client_2'}], 'num_services': 1, 'num_applications': 0, 'num_folders': 1, 'num_files': 1, 'num_nics': 2, 'include_num_access': False, 'include_nmne': True, 'routers': [{'hostname': 'router_1'}], 'num_ports': 0, 'ip_list': ['192.168.1.10', '192.168.1.12', '192.168.1.14', '192.168.1.16', '192.168.1.110', '192.168.10.21', '192.168.10.22', '192.168.10.110'], 'wildcard_list': ['0.0.0.1'], 'port_list': [80, 5432], 'protocol_list': ['ICMP', 'TCP', 'UDP'], 'num_rules': 10}}, {'type': 'LINKS', 'label': 'LINKS', 'options': {'link_references': ['router_1:eth-1<->switch_1:eth-8', 'router_1:eth-2<->switch_2:eth-8', 'switch_1:eth-1<->domain_controller:eth-1', 'switch_1:eth-2<->web_server:eth-1', 'switch_1:eth-3<->database_server:eth-1', 'switch_1:eth-4<->backup_server:eth-1', 'switch_1:eth-7<->security_suite:eth-1', 'switch_2:eth-1<->client_1:eth-1', 'switch_2:eth-2<->client_2:eth-1', 'switch_2:eth-7<->security_suite:eth-2']}}, {'type': 'NONE', 'label': 'ICS', 'options': {}}]}}\n"
     ]
    },
    {
     "name": "stderr",
     "output_type": "stream",
     "text": [
      "2024-04-08 14:57:36,728: Resetting environment, episode 273, avg. reward: -59.85000000000001\n",
      "2024-04-08 14:57:36,730: Saving agent action log to C:\\Users\\CharlieCrane\\primaite\\3.0.0b7\\sessions\\2024-04-08\\14-49-25\\agent_actions\\episode_273.json\n"
     ]
    },
    {
     "name": "stdout",
     "output_type": "stream",
     "text": [
      "{'type': 'CUSTOM', 'options': {'components': [{'type': 'NODES', 'label': 'NODES', 'options': {'hosts': [{'hostname': 'domain_controller'}, {'hostname': 'web_server', 'services': [{'service_name': 'WebServer'}]}, {'hostname': 'database_server', 'folders': [{'folder_name': 'database', 'files': [{'file_name': 'database.db'}]}]}, {'hostname': 'backup_server'}, {'hostname': 'security_suite'}, {'hostname': 'client_1'}, {'hostname': 'client_2'}], 'num_services': 1, 'num_applications': 0, 'num_folders': 1, 'num_files': 1, 'num_nics': 2, 'include_num_access': False, 'include_nmne': True, 'routers': [{'hostname': 'router_1'}], 'num_ports': 0, 'ip_list': ['192.168.1.10', '192.168.1.12', '192.168.1.14', '192.168.1.16', '192.168.1.110', '192.168.10.21', '192.168.10.22', '192.168.10.110'], 'wildcard_list': ['0.0.0.1'], 'port_list': [80, 5432], 'protocol_list': ['ICMP', 'TCP', 'UDP'], 'num_rules': 10}}, {'type': 'LINKS', 'label': 'LINKS', 'options': {'link_references': ['router_1:eth-1<->switch_1:eth-8', 'router_1:eth-2<->switch_2:eth-8', 'switch_1:eth-1<->domain_controller:eth-1', 'switch_1:eth-2<->web_server:eth-1', 'switch_1:eth-3<->database_server:eth-1', 'switch_1:eth-4<->backup_server:eth-1', 'switch_1:eth-7<->security_suite:eth-1', 'switch_2:eth-1<->client_1:eth-1', 'switch_2:eth-2<->client_2:eth-1', 'switch_2:eth-7<->security_suite:eth-2']}}, {'type': 'NONE', 'label': 'ICS', 'options': {}}]}}\n"
     ]
    },
    {
     "name": "stderr",
     "output_type": "stream",
     "text": [
      "2024-04-08 14:57:38,769: Resetting environment, episode 274, avg. reward: -33.500000000000014\n",
      "2024-04-08 14:57:38,772: Saving agent action log to C:\\Users\\CharlieCrane\\primaite\\3.0.0b7\\sessions\\2024-04-08\\14-49-25\\agent_actions\\episode_274.json\n"
     ]
    },
    {
     "name": "stdout",
     "output_type": "stream",
     "text": [
      "{'type': 'CUSTOM', 'options': {'components': [{'type': 'NODES', 'label': 'NODES', 'options': {'hosts': [{'hostname': 'domain_controller'}, {'hostname': 'web_server', 'services': [{'service_name': 'WebServer'}]}, {'hostname': 'database_server', 'folders': [{'folder_name': 'database', 'files': [{'file_name': 'database.db'}]}]}, {'hostname': 'backup_server'}, {'hostname': 'security_suite'}, {'hostname': 'client_1'}, {'hostname': 'client_2'}], 'num_services': 1, 'num_applications': 0, 'num_folders': 1, 'num_files': 1, 'num_nics': 2, 'include_num_access': False, 'include_nmne': True, 'routers': [{'hostname': 'router_1'}], 'num_ports': 0, 'ip_list': ['192.168.1.10', '192.168.1.12', '192.168.1.14', '192.168.1.16', '192.168.1.110', '192.168.10.21', '192.168.10.22', '192.168.10.110'], 'wildcard_list': ['0.0.0.1'], 'port_list': [80, 5432], 'protocol_list': ['ICMP', 'TCP', 'UDP'], 'num_rules': 10}}, {'type': 'LINKS', 'label': 'LINKS', 'options': {'link_references': ['router_1:eth-1<->switch_1:eth-8', 'router_1:eth-2<->switch_2:eth-8', 'switch_1:eth-1<->domain_controller:eth-1', 'switch_1:eth-2<->web_server:eth-1', 'switch_1:eth-3<->database_server:eth-1', 'switch_1:eth-4<->backup_server:eth-1', 'switch_1:eth-7<->security_suite:eth-1', 'switch_2:eth-1<->client_1:eth-1', 'switch_2:eth-2<->client_2:eth-1', 'switch_2:eth-7<->security_suite:eth-2']}}, {'type': 'NONE', 'label': 'ICS', 'options': {}}]}}\n"
     ]
    },
    {
     "name": "stderr",
     "output_type": "stream",
     "text": [
      "2024-04-08 14:57:40,947: Resetting environment, episode 275, avg. reward: -50.44999999999995\n",
      "2024-04-08 14:57:40,950: Saving agent action log to C:\\Users\\CharlieCrane\\primaite\\3.0.0b7\\sessions\\2024-04-08\\14-49-25\\agent_actions\\episode_275.json\n"
     ]
    },
    {
     "name": "stdout",
     "output_type": "stream",
     "text": [
      "{'type': 'CUSTOM', 'options': {'components': [{'type': 'NODES', 'label': 'NODES', 'options': {'hosts': [{'hostname': 'domain_controller'}, {'hostname': 'web_server', 'services': [{'service_name': 'WebServer'}]}, {'hostname': 'database_server', 'folders': [{'folder_name': 'database', 'files': [{'file_name': 'database.db'}]}]}, {'hostname': 'backup_server'}, {'hostname': 'security_suite'}, {'hostname': 'client_1'}, {'hostname': 'client_2'}], 'num_services': 1, 'num_applications': 0, 'num_folders': 1, 'num_files': 1, 'num_nics': 2, 'include_num_access': False, 'include_nmne': True, 'routers': [{'hostname': 'router_1'}], 'num_ports': 0, 'ip_list': ['192.168.1.10', '192.168.1.12', '192.168.1.14', '192.168.1.16', '192.168.1.110', '192.168.10.21', '192.168.10.22', '192.168.10.110'], 'wildcard_list': ['0.0.0.1'], 'port_list': [80, 5432], 'protocol_list': ['ICMP', 'TCP', 'UDP'], 'num_rules': 10}}, {'type': 'LINKS', 'label': 'LINKS', 'options': {'link_references': ['router_1:eth-1<->switch_1:eth-8', 'router_1:eth-2<->switch_2:eth-8', 'switch_1:eth-1<->domain_controller:eth-1', 'switch_1:eth-2<->web_server:eth-1', 'switch_1:eth-3<->database_server:eth-1', 'switch_1:eth-4<->backup_server:eth-1', 'switch_1:eth-7<->security_suite:eth-1', 'switch_2:eth-1<->client_1:eth-1', 'switch_2:eth-2<->client_2:eth-1', 'switch_2:eth-7<->security_suite:eth-2']}}, {'type': 'NONE', 'label': 'ICS', 'options': {}}]}}\n"
     ]
    },
    {
     "name": "stderr",
     "output_type": "stream",
     "text": [
      "2024-04-08 14:57:44,475: Resetting environment, episode 276, avg. reward: -5.800000000000008\n",
      "2024-04-08 14:57:44,479: Saving agent action log to C:\\Users\\CharlieCrane\\primaite\\3.0.0b7\\sessions\\2024-04-08\\14-49-25\\agent_actions\\episode_276.json\n"
     ]
    },
    {
     "name": "stdout",
     "output_type": "stream",
     "text": [
      "{'type': 'CUSTOM', 'options': {'components': [{'type': 'NODES', 'label': 'NODES', 'options': {'hosts': [{'hostname': 'domain_controller'}, {'hostname': 'web_server', 'services': [{'service_name': 'WebServer'}]}, {'hostname': 'database_server', 'folders': [{'folder_name': 'database', 'files': [{'file_name': 'database.db'}]}]}, {'hostname': 'backup_server'}, {'hostname': 'security_suite'}, {'hostname': 'client_1'}, {'hostname': 'client_2'}], 'num_services': 1, 'num_applications': 0, 'num_folders': 1, 'num_files': 1, 'num_nics': 2, 'include_num_access': False, 'include_nmne': True, 'routers': [{'hostname': 'router_1'}], 'num_ports': 0, 'ip_list': ['192.168.1.10', '192.168.1.12', '192.168.1.14', '192.168.1.16', '192.168.1.110', '192.168.10.21', '192.168.10.22', '192.168.10.110'], 'wildcard_list': ['0.0.0.1'], 'port_list': [80, 5432], 'protocol_list': ['ICMP', 'TCP', 'UDP'], 'num_rules': 10}}, {'type': 'LINKS', 'label': 'LINKS', 'options': {'link_references': ['router_1:eth-1<->switch_1:eth-8', 'router_1:eth-2<->switch_2:eth-8', 'switch_1:eth-1<->domain_controller:eth-1', 'switch_1:eth-2<->web_server:eth-1', 'switch_1:eth-3<->database_server:eth-1', 'switch_1:eth-4<->backup_server:eth-1', 'switch_1:eth-7<->security_suite:eth-1', 'switch_2:eth-1<->client_1:eth-1', 'switch_2:eth-2<->client_2:eth-1', 'switch_2:eth-7<->security_suite:eth-2']}}, {'type': 'NONE', 'label': 'ICS', 'options': {}}]}}\n"
     ]
    },
    {
     "name": "stderr",
     "output_type": "stream",
     "text": [
      "2024-04-08 14:57:47,898: Resetting environment, episode 277, avg. reward: -13.899999999999979\n",
      "2024-04-08 14:57:47,901: Saving agent action log to C:\\Users\\CharlieCrane\\primaite\\3.0.0b7\\sessions\\2024-04-08\\14-49-25\\agent_actions\\episode_277.json\n"
     ]
    },
    {
     "name": "stdout",
     "output_type": "stream",
     "text": [
      "{'type': 'CUSTOM', 'options': {'components': [{'type': 'NODES', 'label': 'NODES', 'options': {'hosts': [{'hostname': 'domain_controller'}, {'hostname': 'web_server', 'services': [{'service_name': 'WebServer'}]}, {'hostname': 'database_server', 'folders': [{'folder_name': 'database', 'files': [{'file_name': 'database.db'}]}]}, {'hostname': 'backup_server'}, {'hostname': 'security_suite'}, {'hostname': 'client_1'}, {'hostname': 'client_2'}], 'num_services': 1, 'num_applications': 0, 'num_folders': 1, 'num_files': 1, 'num_nics': 2, 'include_num_access': False, 'include_nmne': True, 'routers': [{'hostname': 'router_1'}], 'num_ports': 0, 'ip_list': ['192.168.1.10', '192.168.1.12', '192.168.1.14', '192.168.1.16', '192.168.1.110', '192.168.10.21', '192.168.10.22', '192.168.10.110'], 'wildcard_list': ['0.0.0.1'], 'port_list': [80, 5432], 'protocol_list': ['ICMP', 'TCP', 'UDP'], 'num_rules': 10}}, {'type': 'LINKS', 'label': 'LINKS', 'options': {'link_references': ['router_1:eth-1<->switch_1:eth-8', 'router_1:eth-2<->switch_2:eth-8', 'switch_1:eth-1<->domain_controller:eth-1', 'switch_1:eth-2<->web_server:eth-1', 'switch_1:eth-3<->database_server:eth-1', 'switch_1:eth-4<->backup_server:eth-1', 'switch_1:eth-7<->security_suite:eth-1', 'switch_2:eth-1<->client_1:eth-1', 'switch_2:eth-2<->client_2:eth-1', 'switch_2:eth-7<->security_suite:eth-2']}}, {'type': 'NONE', 'label': 'ICS', 'options': {}}]}}\n"
     ]
    },
    {
     "name": "stderr",
     "output_type": "stream",
     "text": [
      "2024-04-08 14:57:50,377: Resetting environment, episode 278, avg. reward: -101.4\n",
      "2024-04-08 14:57:50,380: Saving agent action log to C:\\Users\\CharlieCrane\\primaite\\3.0.0b7\\sessions\\2024-04-08\\14-49-25\\agent_actions\\episode_278.json\n"
     ]
    },
    {
     "name": "stdout",
     "output_type": "stream",
     "text": [
      "{'type': 'CUSTOM', 'options': {'components': [{'type': 'NODES', 'label': 'NODES', 'options': {'hosts': [{'hostname': 'domain_controller'}, {'hostname': 'web_server', 'services': [{'service_name': 'WebServer'}]}, {'hostname': 'database_server', 'folders': [{'folder_name': 'database', 'files': [{'file_name': 'database.db'}]}]}, {'hostname': 'backup_server'}, {'hostname': 'security_suite'}, {'hostname': 'client_1'}, {'hostname': 'client_2'}], 'num_services': 1, 'num_applications': 0, 'num_folders': 1, 'num_files': 1, 'num_nics': 2, 'include_num_access': False, 'include_nmne': True, 'routers': [{'hostname': 'router_1'}], 'num_ports': 0, 'ip_list': ['192.168.1.10', '192.168.1.12', '192.168.1.14', '192.168.1.16', '192.168.1.110', '192.168.10.21', '192.168.10.22', '192.168.10.110'], 'wildcard_list': ['0.0.0.1'], 'port_list': [80, 5432], 'protocol_list': ['ICMP', 'TCP', 'UDP'], 'num_rules': 10}}, {'type': 'LINKS', 'label': 'LINKS', 'options': {'link_references': ['router_1:eth-1<->switch_1:eth-8', 'router_1:eth-2<->switch_2:eth-8', 'switch_1:eth-1<->domain_controller:eth-1', 'switch_1:eth-2<->web_server:eth-1', 'switch_1:eth-3<->database_server:eth-1', 'switch_1:eth-4<->backup_server:eth-1', 'switch_1:eth-7<->security_suite:eth-1', 'switch_2:eth-1<->client_1:eth-1', 'switch_2:eth-2<->client_2:eth-1', 'switch_2:eth-7<->security_suite:eth-2']}}, {'type': 'NONE', 'label': 'ICS', 'options': {}}]}}\n"
     ]
    },
    {
     "name": "stderr",
     "output_type": "stream",
     "text": [
      "2024-04-08 14:57:52,619: Resetting environment, episode 279, avg. reward: 0.9500000000000095\n",
      "2024-04-08 14:57:52,621: Saving agent action log to C:\\Users\\CharlieCrane\\primaite\\3.0.0b7\\sessions\\2024-04-08\\14-49-25\\agent_actions\\episode_279.json\n"
     ]
    },
    {
     "name": "stdout",
     "output_type": "stream",
     "text": [
      "{'type': 'CUSTOM', 'options': {'components': [{'type': 'NODES', 'label': 'NODES', 'options': {'hosts': [{'hostname': 'domain_controller'}, {'hostname': 'web_server', 'services': [{'service_name': 'WebServer'}]}, {'hostname': 'database_server', 'folders': [{'folder_name': 'database', 'files': [{'file_name': 'database.db'}]}]}, {'hostname': 'backup_server'}, {'hostname': 'security_suite'}, {'hostname': 'client_1'}, {'hostname': 'client_2'}], 'num_services': 1, 'num_applications': 0, 'num_folders': 1, 'num_files': 1, 'num_nics': 2, 'include_num_access': False, 'include_nmne': True, 'routers': [{'hostname': 'router_1'}], 'num_ports': 0, 'ip_list': ['192.168.1.10', '192.168.1.12', '192.168.1.14', '192.168.1.16', '192.168.1.110', '192.168.10.21', '192.168.10.22', '192.168.10.110'], 'wildcard_list': ['0.0.0.1'], 'port_list': [80, 5432], 'protocol_list': ['ICMP', 'TCP', 'UDP'], 'num_rules': 10}}, {'type': 'LINKS', 'label': 'LINKS', 'options': {'link_references': ['router_1:eth-1<->switch_1:eth-8', 'router_1:eth-2<->switch_2:eth-8', 'switch_1:eth-1<->domain_controller:eth-1', 'switch_1:eth-2<->web_server:eth-1', 'switch_1:eth-3<->database_server:eth-1', 'switch_1:eth-4<->backup_server:eth-1', 'switch_1:eth-7<->security_suite:eth-1', 'switch_2:eth-1<->client_1:eth-1', 'switch_2:eth-2<->client_2:eth-1', 'switch_2:eth-7<->security_suite:eth-2']}}, {'type': 'NONE', 'label': 'ICS', 'options': {}}]}}\n"
     ]
    },
    {
     "name": "stderr",
     "output_type": "stream",
     "text": [
      "2024-04-08 14:57:54,559: Resetting environment, episode 280, avg. reward: -86.94999999999999\n",
      "2024-04-08 14:57:54,562: Saving agent action log to C:\\Users\\CharlieCrane\\primaite\\3.0.0b7\\sessions\\2024-04-08\\14-49-25\\agent_actions\\episode_280.json\n"
     ]
    },
    {
     "name": "stdout",
     "output_type": "stream",
     "text": [
      "{'type': 'CUSTOM', 'options': {'components': [{'type': 'NODES', 'label': 'NODES', 'options': {'hosts': [{'hostname': 'domain_controller'}, {'hostname': 'web_server', 'services': [{'service_name': 'WebServer'}]}, {'hostname': 'database_server', 'folders': [{'folder_name': 'database', 'files': [{'file_name': 'database.db'}]}]}, {'hostname': 'backup_server'}, {'hostname': 'security_suite'}, {'hostname': 'client_1'}, {'hostname': 'client_2'}], 'num_services': 1, 'num_applications': 0, 'num_folders': 1, 'num_files': 1, 'num_nics': 2, 'include_num_access': False, 'include_nmne': True, 'routers': [{'hostname': 'router_1'}], 'num_ports': 0, 'ip_list': ['192.168.1.10', '192.168.1.12', '192.168.1.14', '192.168.1.16', '192.168.1.110', '192.168.10.21', '192.168.10.22', '192.168.10.110'], 'wildcard_list': ['0.0.0.1'], 'port_list': [80, 5432], 'protocol_list': ['ICMP', 'TCP', 'UDP'], 'num_rules': 10}}, {'type': 'LINKS', 'label': 'LINKS', 'options': {'link_references': ['router_1:eth-1<->switch_1:eth-8', 'router_1:eth-2<->switch_2:eth-8', 'switch_1:eth-1<->domain_controller:eth-1', 'switch_1:eth-2<->web_server:eth-1', 'switch_1:eth-3<->database_server:eth-1', 'switch_1:eth-4<->backup_server:eth-1', 'switch_1:eth-7<->security_suite:eth-1', 'switch_2:eth-1<->client_1:eth-1', 'switch_2:eth-2<->client_2:eth-1', 'switch_2:eth-7<->security_suite:eth-2']}}, {'type': 'NONE', 'label': 'ICS', 'options': {}}]}}\n"
     ]
    },
    {
     "name": "stderr",
     "output_type": "stream",
     "text": [
      "2024-04-08 14:57:56,801: Resetting environment, episode 281, avg. reward: -6.999999999999982\n",
      "2024-04-08 14:57:56,803: Saving agent action log to C:\\Users\\CharlieCrane\\primaite\\3.0.0b7\\sessions\\2024-04-08\\14-49-25\\agent_actions\\episode_281.json\n"
     ]
    },
    {
     "name": "stdout",
     "output_type": "stream",
     "text": [
      "{'type': 'CUSTOM', 'options': {'components': [{'type': 'NODES', 'label': 'NODES', 'options': {'hosts': [{'hostname': 'domain_controller'}, {'hostname': 'web_server', 'services': [{'service_name': 'WebServer'}]}, {'hostname': 'database_server', 'folders': [{'folder_name': 'database', 'files': [{'file_name': 'database.db'}]}]}, {'hostname': 'backup_server'}, {'hostname': 'security_suite'}, {'hostname': 'client_1'}, {'hostname': 'client_2'}], 'num_services': 1, 'num_applications': 0, 'num_folders': 1, 'num_files': 1, 'num_nics': 2, 'include_num_access': False, 'include_nmne': True, 'routers': [{'hostname': 'router_1'}], 'num_ports': 0, 'ip_list': ['192.168.1.10', '192.168.1.12', '192.168.1.14', '192.168.1.16', '192.168.1.110', '192.168.10.21', '192.168.10.22', '192.168.10.110'], 'wildcard_list': ['0.0.0.1'], 'port_list': [80, 5432], 'protocol_list': ['ICMP', 'TCP', 'UDP'], 'num_rules': 10}}, {'type': 'LINKS', 'label': 'LINKS', 'options': {'link_references': ['router_1:eth-1<->switch_1:eth-8', 'router_1:eth-2<->switch_2:eth-8', 'switch_1:eth-1<->domain_controller:eth-1', 'switch_1:eth-2<->web_server:eth-1', 'switch_1:eth-3<->database_server:eth-1', 'switch_1:eth-4<->backup_server:eth-1', 'switch_1:eth-7<->security_suite:eth-1', 'switch_2:eth-1<->client_1:eth-1', 'switch_2:eth-2<->client_2:eth-1', 'switch_2:eth-7<->security_suite:eth-2']}}, {'type': 'NONE', 'label': 'ICS', 'options': {}}]}}\n"
     ]
    },
    {
     "name": "stderr",
     "output_type": "stream",
     "text": [
      "2024-04-08 14:57:58,672: Resetting environment, episode 282, avg. reward: 11.200000000000063\n",
      "2024-04-08 14:57:58,675: Saving agent action log to C:\\Users\\CharlieCrane\\primaite\\3.0.0b7\\sessions\\2024-04-08\\14-49-25\\agent_actions\\episode_282.json\n"
     ]
    },
    {
     "name": "stdout",
     "output_type": "stream",
     "text": [
      "{'type': 'CUSTOM', 'options': {'components': [{'type': 'NODES', 'label': 'NODES', 'options': {'hosts': [{'hostname': 'domain_controller'}, {'hostname': 'web_server', 'services': [{'service_name': 'WebServer'}]}, {'hostname': 'database_server', 'folders': [{'folder_name': 'database', 'files': [{'file_name': 'database.db'}]}]}, {'hostname': 'backup_server'}, {'hostname': 'security_suite'}, {'hostname': 'client_1'}, {'hostname': 'client_2'}], 'num_services': 1, 'num_applications': 0, 'num_folders': 1, 'num_files': 1, 'num_nics': 2, 'include_num_access': False, 'include_nmne': True, 'routers': [{'hostname': 'router_1'}], 'num_ports': 0, 'ip_list': ['192.168.1.10', '192.168.1.12', '192.168.1.14', '192.168.1.16', '192.168.1.110', '192.168.10.21', '192.168.10.22', '192.168.10.110'], 'wildcard_list': ['0.0.0.1'], 'port_list': [80, 5432], 'protocol_list': ['ICMP', 'TCP', 'UDP'], 'num_rules': 10}}, {'type': 'LINKS', 'label': 'LINKS', 'options': {'link_references': ['router_1:eth-1<->switch_1:eth-8', 'router_1:eth-2<->switch_2:eth-8', 'switch_1:eth-1<->domain_controller:eth-1', 'switch_1:eth-2<->web_server:eth-1', 'switch_1:eth-3<->database_server:eth-1', 'switch_1:eth-4<->backup_server:eth-1', 'switch_1:eth-7<->security_suite:eth-1', 'switch_2:eth-1<->client_1:eth-1', 'switch_2:eth-2<->client_2:eth-1', 'switch_2:eth-7<->security_suite:eth-2']}}, {'type': 'NONE', 'label': 'ICS', 'options': {}}]}}\n"
     ]
    },
    {
     "name": "stderr",
     "output_type": "stream",
     "text": [
      "2024-04-08 14:58:00,781: Resetting environment, episode 283, avg. reward: -78.80000000000007\n",
      "2024-04-08 14:58:00,785: Saving agent action log to C:\\Users\\CharlieCrane\\primaite\\3.0.0b7\\sessions\\2024-04-08\\14-49-25\\agent_actions\\episode_283.json\n"
     ]
    },
    {
     "name": "stdout",
     "output_type": "stream",
     "text": [
      "{'type': 'CUSTOM', 'options': {'components': [{'type': 'NODES', 'label': 'NODES', 'options': {'hosts': [{'hostname': 'domain_controller'}, {'hostname': 'web_server', 'services': [{'service_name': 'WebServer'}]}, {'hostname': 'database_server', 'folders': [{'folder_name': 'database', 'files': [{'file_name': 'database.db'}]}]}, {'hostname': 'backup_server'}, {'hostname': 'security_suite'}, {'hostname': 'client_1'}, {'hostname': 'client_2'}], 'num_services': 1, 'num_applications': 0, 'num_folders': 1, 'num_files': 1, 'num_nics': 2, 'include_num_access': False, 'include_nmne': True, 'routers': [{'hostname': 'router_1'}], 'num_ports': 0, 'ip_list': ['192.168.1.10', '192.168.1.12', '192.168.1.14', '192.168.1.16', '192.168.1.110', '192.168.10.21', '192.168.10.22', '192.168.10.110'], 'wildcard_list': ['0.0.0.1'], 'port_list': [80, 5432], 'protocol_list': ['ICMP', 'TCP', 'UDP'], 'num_rules': 10}}, {'type': 'LINKS', 'label': 'LINKS', 'options': {'link_references': ['router_1:eth-1<->switch_1:eth-8', 'router_1:eth-2<->switch_2:eth-8', 'switch_1:eth-1<->domain_controller:eth-1', 'switch_1:eth-2<->web_server:eth-1', 'switch_1:eth-3<->database_server:eth-1', 'switch_1:eth-4<->backup_server:eth-1', 'switch_1:eth-7<->security_suite:eth-1', 'switch_2:eth-1<->client_1:eth-1', 'switch_2:eth-2<->client_2:eth-1', 'switch_2:eth-7<->security_suite:eth-2']}}, {'type': 'NONE', 'label': 'ICS', 'options': {}}]}}\n"
     ]
    },
    {
     "name": "stderr",
     "output_type": "stream",
     "text": [
      "2024-04-08 14:58:02,893: Resetting environment, episode 284, avg. reward: -68.24999999999996\n",
      "2024-04-08 14:58:02,896: Saving agent action log to C:\\Users\\CharlieCrane\\primaite\\3.0.0b7\\sessions\\2024-04-08\\14-49-25\\agent_actions\\episode_284.json\n"
     ]
    },
    {
     "name": "stdout",
     "output_type": "stream",
     "text": [
      "{'type': 'CUSTOM', 'options': {'components': [{'type': 'NODES', 'label': 'NODES', 'options': {'hosts': [{'hostname': 'domain_controller'}, {'hostname': 'web_server', 'services': [{'service_name': 'WebServer'}]}, {'hostname': 'database_server', 'folders': [{'folder_name': 'database', 'files': [{'file_name': 'database.db'}]}]}, {'hostname': 'backup_server'}, {'hostname': 'security_suite'}, {'hostname': 'client_1'}, {'hostname': 'client_2'}], 'num_services': 1, 'num_applications': 0, 'num_folders': 1, 'num_files': 1, 'num_nics': 2, 'include_num_access': False, 'include_nmne': True, 'routers': [{'hostname': 'router_1'}], 'num_ports': 0, 'ip_list': ['192.168.1.10', '192.168.1.12', '192.168.1.14', '192.168.1.16', '192.168.1.110', '192.168.10.21', '192.168.10.22', '192.168.10.110'], 'wildcard_list': ['0.0.0.1'], 'port_list': [80, 5432], 'protocol_list': ['ICMP', 'TCP', 'UDP'], 'num_rules': 10}}, {'type': 'LINKS', 'label': 'LINKS', 'options': {'link_references': ['router_1:eth-1<->switch_1:eth-8', 'router_1:eth-2<->switch_2:eth-8', 'switch_1:eth-1<->domain_controller:eth-1', 'switch_1:eth-2<->web_server:eth-1', 'switch_1:eth-3<->database_server:eth-1', 'switch_1:eth-4<->backup_server:eth-1', 'switch_1:eth-7<->security_suite:eth-1', 'switch_2:eth-1<->client_1:eth-1', 'switch_2:eth-2<->client_2:eth-1', 'switch_2:eth-7<->security_suite:eth-2']}}, {'type': 'NONE', 'label': 'ICS', 'options': {}}]}}\n"
     ]
    },
    {
     "name": "stderr",
     "output_type": "stream",
     "text": [
      "2024-04-08 14:58:04,854: Resetting environment, episode 285, avg. reward: -43.44999999999995\n",
      "2024-04-08 14:58:04,858: Saving agent action log to C:\\Users\\CharlieCrane\\primaite\\3.0.0b7\\sessions\\2024-04-08\\14-49-25\\agent_actions\\episode_285.json\n"
     ]
    },
    {
     "name": "stdout",
     "output_type": "stream",
     "text": [
      "{'type': 'CUSTOM', 'options': {'components': [{'type': 'NODES', 'label': 'NODES', 'options': {'hosts': [{'hostname': 'domain_controller'}, {'hostname': 'web_server', 'services': [{'service_name': 'WebServer'}]}, {'hostname': 'database_server', 'folders': [{'folder_name': 'database', 'files': [{'file_name': 'database.db'}]}]}, {'hostname': 'backup_server'}, {'hostname': 'security_suite'}, {'hostname': 'client_1'}, {'hostname': 'client_2'}], 'num_services': 1, 'num_applications': 0, 'num_folders': 1, 'num_files': 1, 'num_nics': 2, 'include_num_access': False, 'include_nmne': True, 'routers': [{'hostname': 'router_1'}], 'num_ports': 0, 'ip_list': ['192.168.1.10', '192.168.1.12', '192.168.1.14', '192.168.1.16', '192.168.1.110', '192.168.10.21', '192.168.10.22', '192.168.10.110'], 'wildcard_list': ['0.0.0.1'], 'port_list': [80, 5432], 'protocol_list': ['ICMP', 'TCP', 'UDP'], 'num_rules': 10}}, {'type': 'LINKS', 'label': 'LINKS', 'options': {'link_references': ['router_1:eth-1<->switch_1:eth-8', 'router_1:eth-2<->switch_2:eth-8', 'switch_1:eth-1<->domain_controller:eth-1', 'switch_1:eth-2<->web_server:eth-1', 'switch_1:eth-3<->database_server:eth-1', 'switch_1:eth-4<->backup_server:eth-1', 'switch_1:eth-7<->security_suite:eth-1', 'switch_2:eth-1<->client_1:eth-1', 'switch_2:eth-2<->client_2:eth-1', 'switch_2:eth-7<->security_suite:eth-2']}}, {'type': 'NONE', 'label': 'ICS', 'options': {}}]}}\n"
     ]
    },
    {
     "name": "stderr",
     "output_type": "stream",
     "text": [
      "2024-04-08 14:58:07,133: Resetting environment, episode 286, avg. reward: -4.199999999999984\n",
      "2024-04-08 14:58:07,136: Saving agent action log to C:\\Users\\CharlieCrane\\primaite\\3.0.0b7\\sessions\\2024-04-08\\14-49-25\\agent_actions\\episode_286.json\n"
     ]
    },
    {
     "name": "stdout",
     "output_type": "stream",
     "text": [
      "{'type': 'CUSTOM', 'options': {'components': [{'type': 'NODES', 'label': 'NODES', 'options': {'hosts': [{'hostname': 'domain_controller'}, {'hostname': 'web_server', 'services': [{'service_name': 'WebServer'}]}, {'hostname': 'database_server', 'folders': [{'folder_name': 'database', 'files': [{'file_name': 'database.db'}]}]}, {'hostname': 'backup_server'}, {'hostname': 'security_suite'}, {'hostname': 'client_1'}, {'hostname': 'client_2'}], 'num_services': 1, 'num_applications': 0, 'num_folders': 1, 'num_files': 1, 'num_nics': 2, 'include_num_access': False, 'include_nmne': True, 'routers': [{'hostname': 'router_1'}], 'num_ports': 0, 'ip_list': ['192.168.1.10', '192.168.1.12', '192.168.1.14', '192.168.1.16', '192.168.1.110', '192.168.10.21', '192.168.10.22', '192.168.10.110'], 'wildcard_list': ['0.0.0.1'], 'port_list': [80, 5432], 'protocol_list': ['ICMP', 'TCP', 'UDP'], 'num_rules': 10}}, {'type': 'LINKS', 'label': 'LINKS', 'options': {'link_references': ['router_1:eth-1<->switch_1:eth-8', 'router_1:eth-2<->switch_2:eth-8', 'switch_1:eth-1<->domain_controller:eth-1', 'switch_1:eth-2<->web_server:eth-1', 'switch_1:eth-3<->database_server:eth-1', 'switch_1:eth-4<->backup_server:eth-1', 'switch_1:eth-7<->security_suite:eth-1', 'switch_2:eth-1<->client_1:eth-1', 'switch_2:eth-2<->client_2:eth-1', 'switch_2:eth-7<->security_suite:eth-2']}}, {'type': 'NONE', 'label': 'ICS', 'options': {}}]}}\n"
     ]
    },
    {
     "name": "stderr",
     "output_type": "stream",
     "text": [
      "2024-04-08 14:58:09,427: Resetting environment, episode 287, avg. reward: 25.550000000000022\n",
      "2024-04-08 14:58:09,430: Saving agent action log to C:\\Users\\CharlieCrane\\primaite\\3.0.0b7\\sessions\\2024-04-08\\14-49-25\\agent_actions\\episode_287.json\n"
     ]
    },
    {
     "name": "stdout",
     "output_type": "stream",
     "text": [
      "{'type': 'CUSTOM', 'options': {'components': [{'type': 'NODES', 'label': 'NODES', 'options': {'hosts': [{'hostname': 'domain_controller'}, {'hostname': 'web_server', 'services': [{'service_name': 'WebServer'}]}, {'hostname': 'database_server', 'folders': [{'folder_name': 'database', 'files': [{'file_name': 'database.db'}]}]}, {'hostname': 'backup_server'}, {'hostname': 'security_suite'}, {'hostname': 'client_1'}, {'hostname': 'client_2'}], 'num_services': 1, 'num_applications': 0, 'num_folders': 1, 'num_files': 1, 'num_nics': 2, 'include_num_access': False, 'include_nmne': True, 'routers': [{'hostname': 'router_1'}], 'num_ports': 0, 'ip_list': ['192.168.1.10', '192.168.1.12', '192.168.1.14', '192.168.1.16', '192.168.1.110', '192.168.10.21', '192.168.10.22', '192.168.10.110'], 'wildcard_list': ['0.0.0.1'], 'port_list': [80, 5432], 'protocol_list': ['ICMP', 'TCP', 'UDP'], 'num_rules': 10}}, {'type': 'LINKS', 'label': 'LINKS', 'options': {'link_references': ['router_1:eth-1<->switch_1:eth-8', 'router_1:eth-2<->switch_2:eth-8', 'switch_1:eth-1<->domain_controller:eth-1', 'switch_1:eth-2<->web_server:eth-1', 'switch_1:eth-3<->database_server:eth-1', 'switch_1:eth-4<->backup_server:eth-1', 'switch_1:eth-7<->security_suite:eth-1', 'switch_2:eth-1<->client_1:eth-1', 'switch_2:eth-2<->client_2:eth-1', 'switch_2:eth-7<->security_suite:eth-2']}}, {'type': 'NONE', 'label': 'ICS', 'options': {}}]}}\n"
     ]
    },
    {
     "name": "stderr",
     "output_type": "stream",
     "text": [
      "2024-04-08 14:58:11,576: Resetting environment, episode 288, avg. reward: -11.599999999999985\n",
      "2024-04-08 14:58:11,580: Saving agent action log to C:\\Users\\CharlieCrane\\primaite\\3.0.0b7\\sessions\\2024-04-08\\14-49-25\\agent_actions\\episode_288.json\n"
     ]
    },
    {
     "name": "stdout",
     "output_type": "stream",
     "text": [
      "{'type': 'CUSTOM', 'options': {'components': [{'type': 'NODES', 'label': 'NODES', 'options': {'hosts': [{'hostname': 'domain_controller'}, {'hostname': 'web_server', 'services': [{'service_name': 'WebServer'}]}, {'hostname': 'database_server', 'folders': [{'folder_name': 'database', 'files': [{'file_name': 'database.db'}]}]}, {'hostname': 'backup_server'}, {'hostname': 'security_suite'}, {'hostname': 'client_1'}, {'hostname': 'client_2'}], 'num_services': 1, 'num_applications': 0, 'num_folders': 1, 'num_files': 1, 'num_nics': 2, 'include_num_access': False, 'include_nmne': True, 'routers': [{'hostname': 'router_1'}], 'num_ports': 0, 'ip_list': ['192.168.1.10', '192.168.1.12', '192.168.1.14', '192.168.1.16', '192.168.1.110', '192.168.10.21', '192.168.10.22', '192.168.10.110'], 'wildcard_list': ['0.0.0.1'], 'port_list': [80, 5432], 'protocol_list': ['ICMP', 'TCP', 'UDP'], 'num_rules': 10}}, {'type': 'LINKS', 'label': 'LINKS', 'options': {'link_references': ['router_1:eth-1<->switch_1:eth-8', 'router_1:eth-2<->switch_2:eth-8', 'switch_1:eth-1<->domain_controller:eth-1', 'switch_1:eth-2<->web_server:eth-1', 'switch_1:eth-3<->database_server:eth-1', 'switch_1:eth-4<->backup_server:eth-1', 'switch_1:eth-7<->security_suite:eth-1', 'switch_2:eth-1<->client_1:eth-1', 'switch_2:eth-2<->client_2:eth-1', 'switch_2:eth-7<->security_suite:eth-2']}}, {'type': 'NONE', 'label': 'ICS', 'options': {}}]}}\n"
     ]
    },
    {
     "name": "stderr",
     "output_type": "stream",
     "text": [
      "2024-04-08 14:58:13,448: Resetting environment, episode 289, avg. reward: -37.44999999999999\n",
      "2024-04-08 14:58:13,451: Saving agent action log to C:\\Users\\CharlieCrane\\primaite\\3.0.0b7\\sessions\\2024-04-08\\14-49-25\\agent_actions\\episode_289.json\n"
     ]
    },
    {
     "name": "stdout",
     "output_type": "stream",
     "text": [
      "{'type': 'CUSTOM', 'options': {'components': [{'type': 'NODES', 'label': 'NODES', 'options': {'hosts': [{'hostname': 'domain_controller'}, {'hostname': 'web_server', 'services': [{'service_name': 'WebServer'}]}, {'hostname': 'database_server', 'folders': [{'folder_name': 'database', 'files': [{'file_name': 'database.db'}]}]}, {'hostname': 'backup_server'}, {'hostname': 'security_suite'}, {'hostname': 'client_1'}, {'hostname': 'client_2'}], 'num_services': 1, 'num_applications': 0, 'num_folders': 1, 'num_files': 1, 'num_nics': 2, 'include_num_access': False, 'include_nmne': True, 'routers': [{'hostname': 'router_1'}], 'num_ports': 0, 'ip_list': ['192.168.1.10', '192.168.1.12', '192.168.1.14', '192.168.1.16', '192.168.1.110', '192.168.10.21', '192.168.10.22', '192.168.10.110'], 'wildcard_list': ['0.0.0.1'], 'port_list': [80, 5432], 'protocol_list': ['ICMP', 'TCP', 'UDP'], 'num_rules': 10}}, {'type': 'LINKS', 'label': 'LINKS', 'options': {'link_references': ['router_1:eth-1<->switch_1:eth-8', 'router_1:eth-2<->switch_2:eth-8', 'switch_1:eth-1<->domain_controller:eth-1', 'switch_1:eth-2<->web_server:eth-1', 'switch_1:eth-3<->database_server:eth-1', 'switch_1:eth-4<->backup_server:eth-1', 'switch_1:eth-7<->security_suite:eth-1', 'switch_2:eth-1<->client_1:eth-1', 'switch_2:eth-2<->client_2:eth-1', 'switch_2:eth-7<->security_suite:eth-2']}}, {'type': 'NONE', 'label': 'ICS', 'options': {}}]}}\n"
     ]
    },
    {
     "name": "stderr",
     "output_type": "stream",
     "text": [
      "2024-04-08 14:58:15,328: Resetting environment, episode 290, avg. reward: -78.99999999999999\n",
      "2024-04-08 14:58:15,331: Saving agent action log to C:\\Users\\CharlieCrane\\primaite\\3.0.0b7\\sessions\\2024-04-08\\14-49-25\\agent_actions\\episode_290.json\n"
     ]
    },
    {
     "name": "stdout",
     "output_type": "stream",
     "text": [
      "{'type': 'CUSTOM', 'options': {'components': [{'type': 'NODES', 'label': 'NODES', 'options': {'hosts': [{'hostname': 'domain_controller'}, {'hostname': 'web_server', 'services': [{'service_name': 'WebServer'}]}, {'hostname': 'database_server', 'folders': [{'folder_name': 'database', 'files': [{'file_name': 'database.db'}]}]}, {'hostname': 'backup_server'}, {'hostname': 'security_suite'}, {'hostname': 'client_1'}, {'hostname': 'client_2'}], 'num_services': 1, 'num_applications': 0, 'num_folders': 1, 'num_files': 1, 'num_nics': 2, 'include_num_access': False, 'include_nmne': True, 'routers': [{'hostname': 'router_1'}], 'num_ports': 0, 'ip_list': ['192.168.1.10', '192.168.1.12', '192.168.1.14', '192.168.1.16', '192.168.1.110', '192.168.10.21', '192.168.10.22', '192.168.10.110'], 'wildcard_list': ['0.0.0.1'], 'port_list': [80, 5432], 'protocol_list': ['ICMP', 'TCP', 'UDP'], 'num_rules': 10}}, {'type': 'LINKS', 'label': 'LINKS', 'options': {'link_references': ['router_1:eth-1<->switch_1:eth-8', 'router_1:eth-2<->switch_2:eth-8', 'switch_1:eth-1<->domain_controller:eth-1', 'switch_1:eth-2<->web_server:eth-1', 'switch_1:eth-3<->database_server:eth-1', 'switch_1:eth-4<->backup_server:eth-1', 'switch_1:eth-7<->security_suite:eth-1', 'switch_2:eth-1<->client_1:eth-1', 'switch_2:eth-2<->client_2:eth-1', 'switch_2:eth-7<->security_suite:eth-2']}}, {'type': 'NONE', 'label': 'ICS', 'options': {}}]}}\n"
     ]
    },
    {
     "name": "stderr",
     "output_type": "stream",
     "text": [
      "2024-04-08 14:58:18,155: Resetting environment, episode 291, avg. reward: -56.800000000000026\n",
      "2024-04-08 14:58:18,159: Saving agent action log to C:\\Users\\CharlieCrane\\primaite\\3.0.0b7\\sessions\\2024-04-08\\14-49-25\\agent_actions\\episode_291.json\n"
     ]
    },
    {
     "name": "stdout",
     "output_type": "stream",
     "text": [
      "{'type': 'CUSTOM', 'options': {'components': [{'type': 'NODES', 'label': 'NODES', 'options': {'hosts': [{'hostname': 'domain_controller'}, {'hostname': 'web_server', 'services': [{'service_name': 'WebServer'}]}, {'hostname': 'database_server', 'folders': [{'folder_name': 'database', 'files': [{'file_name': 'database.db'}]}]}, {'hostname': 'backup_server'}, {'hostname': 'security_suite'}, {'hostname': 'client_1'}, {'hostname': 'client_2'}], 'num_services': 1, 'num_applications': 0, 'num_folders': 1, 'num_files': 1, 'num_nics': 2, 'include_num_access': False, 'include_nmne': True, 'routers': [{'hostname': 'router_1'}], 'num_ports': 0, 'ip_list': ['192.168.1.10', '192.168.1.12', '192.168.1.14', '192.168.1.16', '192.168.1.110', '192.168.10.21', '192.168.10.22', '192.168.10.110'], 'wildcard_list': ['0.0.0.1'], 'port_list': [80, 5432], 'protocol_list': ['ICMP', 'TCP', 'UDP'], 'num_rules': 10}}, {'type': 'LINKS', 'label': 'LINKS', 'options': {'link_references': ['router_1:eth-1<->switch_1:eth-8', 'router_1:eth-2<->switch_2:eth-8', 'switch_1:eth-1<->domain_controller:eth-1', 'switch_1:eth-2<->web_server:eth-1', 'switch_1:eth-3<->database_server:eth-1', 'switch_1:eth-4<->backup_server:eth-1', 'switch_1:eth-7<->security_suite:eth-1', 'switch_2:eth-1<->client_1:eth-1', 'switch_2:eth-2<->client_2:eth-1', 'switch_2:eth-7<->security_suite:eth-2']}}, {'type': 'NONE', 'label': 'ICS', 'options': {}}]}}\n"
     ]
    },
    {
     "name": "stderr",
     "output_type": "stream",
     "text": [
      "2024-04-08 14:58:20,609: Resetting environment, episode 292, avg. reward: -91.19999999999995\n",
      "2024-04-08 14:58:20,614: Saving agent action log to C:\\Users\\CharlieCrane\\primaite\\3.0.0b7\\sessions\\2024-04-08\\14-49-25\\agent_actions\\episode_292.json\n"
     ]
    },
    {
     "name": "stdout",
     "output_type": "stream",
     "text": [
      "{'type': 'CUSTOM', 'options': {'components': [{'type': 'NODES', 'label': 'NODES', 'options': {'hosts': [{'hostname': 'domain_controller'}, {'hostname': 'web_server', 'services': [{'service_name': 'WebServer'}]}, {'hostname': 'database_server', 'folders': [{'folder_name': 'database', 'files': [{'file_name': 'database.db'}]}]}, {'hostname': 'backup_server'}, {'hostname': 'security_suite'}, {'hostname': 'client_1'}, {'hostname': 'client_2'}], 'num_services': 1, 'num_applications': 0, 'num_folders': 1, 'num_files': 1, 'num_nics': 2, 'include_num_access': False, 'include_nmne': True, 'routers': [{'hostname': 'router_1'}], 'num_ports': 0, 'ip_list': ['192.168.1.10', '192.168.1.12', '192.168.1.14', '192.168.1.16', '192.168.1.110', '192.168.10.21', '192.168.10.22', '192.168.10.110'], 'wildcard_list': ['0.0.0.1'], 'port_list': [80, 5432], 'protocol_list': ['ICMP', 'TCP', 'UDP'], 'num_rules': 10}}, {'type': 'LINKS', 'label': 'LINKS', 'options': {'link_references': ['router_1:eth-1<->switch_1:eth-8', 'router_1:eth-2<->switch_2:eth-8', 'switch_1:eth-1<->domain_controller:eth-1', 'switch_1:eth-2<->web_server:eth-1', 'switch_1:eth-3<->database_server:eth-1', 'switch_1:eth-4<->backup_server:eth-1', 'switch_1:eth-7<->security_suite:eth-1', 'switch_2:eth-1<->client_1:eth-1', 'switch_2:eth-2<->client_2:eth-1', 'switch_2:eth-7<->security_suite:eth-2']}}, {'type': 'NONE', 'label': 'ICS', 'options': {}}]}}\n"
     ]
    },
    {
     "name": "stderr",
     "output_type": "stream",
     "text": [
      "2024-04-08 14:58:22,444: Resetting environment, episode 293, avg. reward: 5.200000000000042\n",
      "2024-04-08 14:58:22,447: Saving agent action log to C:\\Users\\CharlieCrane\\primaite\\3.0.0b7\\sessions\\2024-04-08\\14-49-25\\agent_actions\\episode_293.json\n"
     ]
    },
    {
     "name": "stdout",
     "output_type": "stream",
     "text": [
      "{'type': 'CUSTOM', 'options': {'components': [{'type': 'NODES', 'label': 'NODES', 'options': {'hosts': [{'hostname': 'domain_controller'}, {'hostname': 'web_server', 'services': [{'service_name': 'WebServer'}]}, {'hostname': 'database_server', 'folders': [{'folder_name': 'database', 'files': [{'file_name': 'database.db'}]}]}, {'hostname': 'backup_server'}, {'hostname': 'security_suite'}, {'hostname': 'client_1'}, {'hostname': 'client_2'}], 'num_services': 1, 'num_applications': 0, 'num_folders': 1, 'num_files': 1, 'num_nics': 2, 'include_num_access': False, 'include_nmne': True, 'routers': [{'hostname': 'router_1'}], 'num_ports': 0, 'ip_list': ['192.168.1.10', '192.168.1.12', '192.168.1.14', '192.168.1.16', '192.168.1.110', '192.168.10.21', '192.168.10.22', '192.168.10.110'], 'wildcard_list': ['0.0.0.1'], 'port_list': [80, 5432], 'protocol_list': ['ICMP', 'TCP', 'UDP'], 'num_rules': 10}}, {'type': 'LINKS', 'label': 'LINKS', 'options': {'link_references': ['router_1:eth-1<->switch_1:eth-8', 'router_1:eth-2<->switch_2:eth-8', 'switch_1:eth-1<->domain_controller:eth-1', 'switch_1:eth-2<->web_server:eth-1', 'switch_1:eth-3<->database_server:eth-1', 'switch_1:eth-4<->backup_server:eth-1', 'switch_1:eth-7<->security_suite:eth-1', 'switch_2:eth-1<->client_1:eth-1', 'switch_2:eth-2<->client_2:eth-1', 'switch_2:eth-7<->security_suite:eth-2']}}, {'type': 'NONE', 'label': 'ICS', 'options': {}}]}}\n"
     ]
    },
    {
     "name": "stderr",
     "output_type": "stream",
     "text": [
      "2024-04-08 14:58:24,809: Resetting environment, episode 294, avg. reward: -20.550000000000047\n",
      "2024-04-08 14:58:24,814: Saving agent action log to C:\\Users\\CharlieCrane\\primaite\\3.0.0b7\\sessions\\2024-04-08\\14-49-25\\agent_actions\\episode_294.json\n"
     ]
    },
    {
     "name": "stdout",
     "output_type": "stream",
     "text": [
      "{'type': 'CUSTOM', 'options': {'components': [{'type': 'NODES', 'label': 'NODES', 'options': {'hosts': [{'hostname': 'domain_controller'}, {'hostname': 'web_server', 'services': [{'service_name': 'WebServer'}]}, {'hostname': 'database_server', 'folders': [{'folder_name': 'database', 'files': [{'file_name': 'database.db'}]}]}, {'hostname': 'backup_server'}, {'hostname': 'security_suite'}, {'hostname': 'client_1'}, {'hostname': 'client_2'}], 'num_services': 1, 'num_applications': 0, 'num_folders': 1, 'num_files': 1, 'num_nics': 2, 'include_num_access': False, 'include_nmne': True, 'routers': [{'hostname': 'router_1'}], 'num_ports': 0, 'ip_list': ['192.168.1.10', '192.168.1.12', '192.168.1.14', '192.168.1.16', '192.168.1.110', '192.168.10.21', '192.168.10.22', '192.168.10.110'], 'wildcard_list': ['0.0.0.1'], 'port_list': [80, 5432], 'protocol_list': ['ICMP', 'TCP', 'UDP'], 'num_rules': 10}}, {'type': 'LINKS', 'label': 'LINKS', 'options': {'link_references': ['router_1:eth-1<->switch_1:eth-8', 'router_1:eth-2<->switch_2:eth-8', 'switch_1:eth-1<->domain_controller:eth-1', 'switch_1:eth-2<->web_server:eth-1', 'switch_1:eth-3<->database_server:eth-1', 'switch_1:eth-4<->backup_server:eth-1', 'switch_1:eth-7<->security_suite:eth-1', 'switch_2:eth-1<->client_1:eth-1', 'switch_2:eth-2<->client_2:eth-1', 'switch_2:eth-7<->security_suite:eth-2']}}, {'type': 'NONE', 'label': 'ICS', 'options': {}}]}}\n"
     ]
    },
    {
     "name": "stderr",
     "output_type": "stream",
     "text": [
      "2024-04-08 14:58:26,613: Resetting environment, episode 295, avg. reward: -90.79999999999998\n",
      "2024-04-08 14:58:26,616: Saving agent action log to C:\\Users\\CharlieCrane\\primaite\\3.0.0b7\\sessions\\2024-04-08\\14-49-25\\agent_actions\\episode_295.json\n"
     ]
    },
    {
     "name": "stdout",
     "output_type": "stream",
     "text": [
      "{'type': 'CUSTOM', 'options': {'components': [{'type': 'NODES', 'label': 'NODES', 'options': {'hosts': [{'hostname': 'domain_controller'}, {'hostname': 'web_server', 'services': [{'service_name': 'WebServer'}]}, {'hostname': 'database_server', 'folders': [{'folder_name': 'database', 'files': [{'file_name': 'database.db'}]}]}, {'hostname': 'backup_server'}, {'hostname': 'security_suite'}, {'hostname': 'client_1'}, {'hostname': 'client_2'}], 'num_services': 1, 'num_applications': 0, 'num_folders': 1, 'num_files': 1, 'num_nics': 2, 'include_num_access': False, 'include_nmne': True, 'routers': [{'hostname': 'router_1'}], 'num_ports': 0, 'ip_list': ['192.168.1.10', '192.168.1.12', '192.168.1.14', '192.168.1.16', '192.168.1.110', '192.168.10.21', '192.168.10.22', '192.168.10.110'], 'wildcard_list': ['0.0.0.1'], 'port_list': [80, 5432], 'protocol_list': ['ICMP', 'TCP', 'UDP'], 'num_rules': 10}}, {'type': 'LINKS', 'label': 'LINKS', 'options': {'link_references': ['router_1:eth-1<->switch_1:eth-8', 'router_1:eth-2<->switch_2:eth-8', 'switch_1:eth-1<->domain_controller:eth-1', 'switch_1:eth-2<->web_server:eth-1', 'switch_1:eth-3<->database_server:eth-1', 'switch_1:eth-4<->backup_server:eth-1', 'switch_1:eth-7<->security_suite:eth-1', 'switch_2:eth-1<->client_1:eth-1', 'switch_2:eth-2<->client_2:eth-1', 'switch_2:eth-7<->security_suite:eth-2']}}, {'type': 'NONE', 'label': 'ICS', 'options': {}}]}}\n"
     ]
    },
    {
     "name": "stderr",
     "output_type": "stream",
     "text": [
      "2024-04-08 14:58:28,191: Resetting environment, episode 296, avg. reward: -81.50000000000001\n",
      "2024-04-08 14:58:28,191: Saving agent action log to C:\\Users\\CharlieCrane\\primaite\\3.0.0b7\\sessions\\2024-04-08\\14-49-25\\agent_actions\\episode_296.json\n"
     ]
    },
    {
     "name": "stdout",
     "output_type": "stream",
     "text": [
      "{'type': 'CUSTOM', 'options': {'components': [{'type': 'NODES', 'label': 'NODES', 'options': {'hosts': [{'hostname': 'domain_controller'}, {'hostname': 'web_server', 'services': [{'service_name': 'WebServer'}]}, {'hostname': 'database_server', 'folders': [{'folder_name': 'database', 'files': [{'file_name': 'database.db'}]}]}, {'hostname': 'backup_server'}, {'hostname': 'security_suite'}, {'hostname': 'client_1'}, {'hostname': 'client_2'}], 'num_services': 1, 'num_applications': 0, 'num_folders': 1, 'num_files': 1, 'num_nics': 2, 'include_num_access': False, 'include_nmne': True, 'routers': [{'hostname': 'router_1'}], 'num_ports': 0, 'ip_list': ['192.168.1.10', '192.168.1.12', '192.168.1.14', '192.168.1.16', '192.168.1.110', '192.168.10.21', '192.168.10.22', '192.168.10.110'], 'wildcard_list': ['0.0.0.1'], 'port_list': [80, 5432], 'protocol_list': ['ICMP', 'TCP', 'UDP'], 'num_rules': 10}}, {'type': 'LINKS', 'label': 'LINKS', 'options': {'link_references': ['router_1:eth-1<->switch_1:eth-8', 'router_1:eth-2<->switch_2:eth-8', 'switch_1:eth-1<->domain_controller:eth-1', 'switch_1:eth-2<->web_server:eth-1', 'switch_1:eth-3<->database_server:eth-1', 'switch_1:eth-4<->backup_server:eth-1', 'switch_1:eth-7<->security_suite:eth-1', 'switch_2:eth-1<->client_1:eth-1', 'switch_2:eth-2<->client_2:eth-1', 'switch_2:eth-7<->security_suite:eth-2']}}, {'type': 'NONE', 'label': 'ICS', 'options': {}}]}}\n"
     ]
    },
    {
     "name": "stderr",
     "output_type": "stream",
     "text": [
      "2024-04-08 14:58:30,080: Resetting environment, episode 297, avg. reward: 18.799999999999965\n",
      "2024-04-08 14:58:30,083: Saving agent action log to C:\\Users\\CharlieCrane\\primaite\\3.0.0b7\\sessions\\2024-04-08\\14-49-25\\agent_actions\\episode_297.json\n"
     ]
    },
    {
     "name": "stdout",
     "output_type": "stream",
     "text": [
      "{'type': 'CUSTOM', 'options': {'components': [{'type': 'NODES', 'label': 'NODES', 'options': {'hosts': [{'hostname': 'domain_controller'}, {'hostname': 'web_server', 'services': [{'service_name': 'WebServer'}]}, {'hostname': 'database_server', 'folders': [{'folder_name': 'database', 'files': [{'file_name': 'database.db'}]}]}, {'hostname': 'backup_server'}, {'hostname': 'security_suite'}, {'hostname': 'client_1'}, {'hostname': 'client_2'}], 'num_services': 1, 'num_applications': 0, 'num_folders': 1, 'num_files': 1, 'num_nics': 2, 'include_num_access': False, 'include_nmne': True, 'routers': [{'hostname': 'router_1'}], 'num_ports': 0, 'ip_list': ['192.168.1.10', '192.168.1.12', '192.168.1.14', '192.168.1.16', '192.168.1.110', '192.168.10.21', '192.168.10.22', '192.168.10.110'], 'wildcard_list': ['0.0.0.1'], 'port_list': [80, 5432], 'protocol_list': ['ICMP', 'TCP', 'UDP'], 'num_rules': 10}}, {'type': 'LINKS', 'label': 'LINKS', 'options': {'link_references': ['router_1:eth-1<->switch_1:eth-8', 'router_1:eth-2<->switch_2:eth-8', 'switch_1:eth-1<->domain_controller:eth-1', 'switch_1:eth-2<->web_server:eth-1', 'switch_1:eth-3<->database_server:eth-1', 'switch_1:eth-4<->backup_server:eth-1', 'switch_1:eth-7<->security_suite:eth-1', 'switch_2:eth-1<->client_1:eth-1', 'switch_2:eth-2<->client_2:eth-1', 'switch_2:eth-7<->security_suite:eth-2']}}, {'type': 'NONE', 'label': 'ICS', 'options': {}}]}}\n"
     ]
    },
    {
     "name": "stderr",
     "output_type": "stream",
     "text": [
      "2024-04-08 14:58:32,060: Resetting environment, episode 298, avg. reward: -16.649999999999995\n",
      "2024-04-08 14:58:32,062: Saving agent action log to C:\\Users\\CharlieCrane\\primaite\\3.0.0b7\\sessions\\2024-04-08\\14-49-25\\agent_actions\\episode_298.json\n"
     ]
    },
    {
     "name": "stdout",
     "output_type": "stream",
     "text": [
      "{'type': 'CUSTOM', 'options': {'components': [{'type': 'NODES', 'label': 'NODES', 'options': {'hosts': [{'hostname': 'domain_controller'}, {'hostname': 'web_server', 'services': [{'service_name': 'WebServer'}]}, {'hostname': 'database_server', 'folders': [{'folder_name': 'database', 'files': [{'file_name': 'database.db'}]}]}, {'hostname': 'backup_server'}, {'hostname': 'security_suite'}, {'hostname': 'client_1'}, {'hostname': 'client_2'}], 'num_services': 1, 'num_applications': 0, 'num_folders': 1, 'num_files': 1, 'num_nics': 2, 'include_num_access': False, 'include_nmne': True, 'routers': [{'hostname': 'router_1'}], 'num_ports': 0, 'ip_list': ['192.168.1.10', '192.168.1.12', '192.168.1.14', '192.168.1.16', '192.168.1.110', '192.168.10.21', '192.168.10.22', '192.168.10.110'], 'wildcard_list': ['0.0.0.1'], 'port_list': [80, 5432], 'protocol_list': ['ICMP', 'TCP', 'UDP'], 'num_rules': 10}}, {'type': 'LINKS', 'label': 'LINKS', 'options': {'link_references': ['router_1:eth-1<->switch_1:eth-8', 'router_1:eth-2<->switch_2:eth-8', 'switch_1:eth-1<->domain_controller:eth-1', 'switch_1:eth-2<->web_server:eth-1', 'switch_1:eth-3<->database_server:eth-1', 'switch_1:eth-4<->backup_server:eth-1', 'switch_1:eth-7<->security_suite:eth-1', 'switch_2:eth-1<->client_1:eth-1', 'switch_2:eth-2<->client_2:eth-1', 'switch_2:eth-7<->security_suite:eth-2']}}, {'type': 'NONE', 'label': 'ICS', 'options': {}}]}}\n"
     ]
    },
    {
     "name": "stderr",
     "output_type": "stream",
     "text": [
      "2024-04-08 14:58:34,037: Resetting environment, episode 299, avg. reward: 10.250000000000062\n",
      "2024-04-08 14:58:34,040: Saving agent action log to C:\\Users\\CharlieCrane\\primaite\\3.0.0b7\\sessions\\2024-04-08\\14-49-25\\agent_actions\\episode_299.json\n"
     ]
    },
    {
     "name": "stdout",
     "output_type": "stream",
     "text": [
      "{'type': 'CUSTOM', 'options': {'components': [{'type': 'NODES', 'label': 'NODES', 'options': {'hosts': [{'hostname': 'domain_controller'}, {'hostname': 'web_server', 'services': [{'service_name': 'WebServer'}]}, {'hostname': 'database_server', 'folders': [{'folder_name': 'database', 'files': [{'file_name': 'database.db'}]}]}, {'hostname': 'backup_server'}, {'hostname': 'security_suite'}, {'hostname': 'client_1'}, {'hostname': 'client_2'}], 'num_services': 1, 'num_applications': 0, 'num_folders': 1, 'num_files': 1, 'num_nics': 2, 'include_num_access': False, 'include_nmne': True, 'routers': [{'hostname': 'router_1'}], 'num_ports': 0, 'ip_list': ['192.168.1.10', '192.168.1.12', '192.168.1.14', '192.168.1.16', '192.168.1.110', '192.168.10.21', '192.168.10.22', '192.168.10.110'], 'wildcard_list': ['0.0.0.1'], 'port_list': [80, 5432], 'protocol_list': ['ICMP', 'TCP', 'UDP'], 'num_rules': 10}}, {'type': 'LINKS', 'label': 'LINKS', 'options': {'link_references': ['router_1:eth-1<->switch_1:eth-8', 'router_1:eth-2<->switch_2:eth-8', 'switch_1:eth-1<->domain_controller:eth-1', 'switch_1:eth-2<->web_server:eth-1', 'switch_1:eth-3<->database_server:eth-1', 'switch_1:eth-4<->backup_server:eth-1', 'switch_1:eth-7<->security_suite:eth-1', 'switch_2:eth-1<->client_1:eth-1', 'switch_2:eth-2<->client_2:eth-1', 'switch_2:eth-7<->security_suite:eth-2']}}, {'type': 'NONE', 'label': 'ICS', 'options': {}}]}}\n"
     ]
    },
    {
     "name": "stderr",
     "output_type": "stream",
     "text": [
      "2024-04-08 14:58:36,089: Resetting environment, episode 300, avg. reward: -41.89999999999998\n",
      "2024-04-08 14:58:36,092: Saving agent action log to C:\\Users\\CharlieCrane\\primaite\\3.0.0b7\\sessions\\2024-04-08\\14-49-25\\agent_actions\\episode_300.json\n"
     ]
    },
    {
     "name": "stdout",
     "output_type": "stream",
     "text": [
      "{'type': 'CUSTOM', 'options': {'components': [{'type': 'NODES', 'label': 'NODES', 'options': {'hosts': [{'hostname': 'domain_controller'}, {'hostname': 'web_server', 'services': [{'service_name': 'WebServer'}]}, {'hostname': 'database_server', 'folders': [{'folder_name': 'database', 'files': [{'file_name': 'database.db'}]}]}, {'hostname': 'backup_server'}, {'hostname': 'security_suite'}, {'hostname': 'client_1'}, {'hostname': 'client_2'}], 'num_services': 1, 'num_applications': 0, 'num_folders': 1, 'num_files': 1, 'num_nics': 2, 'include_num_access': False, 'include_nmne': True, 'routers': [{'hostname': 'router_1'}], 'num_ports': 0, 'ip_list': ['192.168.1.10', '192.168.1.12', '192.168.1.14', '192.168.1.16', '192.168.1.110', '192.168.10.21', '192.168.10.22', '192.168.10.110'], 'wildcard_list': ['0.0.0.1'], 'port_list': [80, 5432], 'protocol_list': ['ICMP', 'TCP', 'UDP'], 'num_rules': 10}}, {'type': 'LINKS', 'label': 'LINKS', 'options': {'link_references': ['router_1:eth-1<->switch_1:eth-8', 'router_1:eth-2<->switch_2:eth-8', 'switch_1:eth-1<->domain_controller:eth-1', 'switch_1:eth-2<->web_server:eth-1', 'switch_1:eth-3<->database_server:eth-1', 'switch_1:eth-4<->backup_server:eth-1', 'switch_1:eth-7<->security_suite:eth-1', 'switch_2:eth-1<->client_1:eth-1', 'switch_2:eth-2<->client_2:eth-1', 'switch_2:eth-7<->security_suite:eth-2']}}, {'type': 'NONE', 'label': 'ICS', 'options': {}}]}}\n"
     ]
    },
    {
     "name": "stderr",
     "output_type": "stream",
     "text": [
      "2024-04-08 14:58:38,616: Resetting environment, episode 301, avg. reward: 7.69999999999999\n",
      "2024-04-08 14:58:38,616: Saving agent action log to C:\\Users\\CharlieCrane\\primaite\\3.0.0b7\\sessions\\2024-04-08\\14-49-25\\agent_actions\\episode_301.json\n"
     ]
    },
    {
     "name": "stdout",
     "output_type": "stream",
     "text": [
      "{'type': 'CUSTOM', 'options': {'components': [{'type': 'NODES', 'label': 'NODES', 'options': {'hosts': [{'hostname': 'domain_controller'}, {'hostname': 'web_server', 'services': [{'service_name': 'WebServer'}]}, {'hostname': 'database_server', 'folders': [{'folder_name': 'database', 'files': [{'file_name': 'database.db'}]}]}, {'hostname': 'backup_server'}, {'hostname': 'security_suite'}, {'hostname': 'client_1'}, {'hostname': 'client_2'}], 'num_services': 1, 'num_applications': 0, 'num_folders': 1, 'num_files': 1, 'num_nics': 2, 'include_num_access': False, 'include_nmne': True, 'routers': [{'hostname': 'router_1'}], 'num_ports': 0, 'ip_list': ['192.168.1.10', '192.168.1.12', '192.168.1.14', '192.168.1.16', '192.168.1.110', '192.168.10.21', '192.168.10.22', '192.168.10.110'], 'wildcard_list': ['0.0.0.1'], 'port_list': [80, 5432], 'protocol_list': ['ICMP', 'TCP', 'UDP'], 'num_rules': 10}}, {'type': 'LINKS', 'label': 'LINKS', 'options': {'link_references': ['router_1:eth-1<->switch_1:eth-8', 'router_1:eth-2<->switch_2:eth-8', 'switch_1:eth-1<->domain_controller:eth-1', 'switch_1:eth-2<->web_server:eth-1', 'switch_1:eth-3<->database_server:eth-1', 'switch_1:eth-4<->backup_server:eth-1', 'switch_1:eth-7<->security_suite:eth-1', 'switch_2:eth-1<->client_1:eth-1', 'switch_2:eth-2<->client_2:eth-1', 'switch_2:eth-7<->security_suite:eth-2']}}, {'type': 'NONE', 'label': 'ICS', 'options': {}}]}}\n"
     ]
    },
    {
     "name": "stderr",
     "output_type": "stream",
     "text": [
      "2024-04-08 14:58:40,914: Resetting environment, episode 302, avg. reward: 39.7999999999998\n",
      "2024-04-08 14:58:40,918: Saving agent action log to C:\\Users\\CharlieCrane\\primaite\\3.0.0b7\\sessions\\2024-04-08\\14-49-25\\agent_actions\\episode_302.json\n"
     ]
    },
    {
     "name": "stdout",
     "output_type": "stream",
     "text": [
      "{'type': 'CUSTOM', 'options': {'components': [{'type': 'NODES', 'label': 'NODES', 'options': {'hosts': [{'hostname': 'domain_controller'}, {'hostname': 'web_server', 'services': [{'service_name': 'WebServer'}]}, {'hostname': 'database_server', 'folders': [{'folder_name': 'database', 'files': [{'file_name': 'database.db'}]}]}, {'hostname': 'backup_server'}, {'hostname': 'security_suite'}, {'hostname': 'client_1'}, {'hostname': 'client_2'}], 'num_services': 1, 'num_applications': 0, 'num_folders': 1, 'num_files': 1, 'num_nics': 2, 'include_num_access': False, 'include_nmne': True, 'routers': [{'hostname': 'router_1'}], 'num_ports': 0, 'ip_list': ['192.168.1.10', '192.168.1.12', '192.168.1.14', '192.168.1.16', '192.168.1.110', '192.168.10.21', '192.168.10.22', '192.168.10.110'], 'wildcard_list': ['0.0.0.1'], 'port_list': [80, 5432], 'protocol_list': ['ICMP', 'TCP', 'UDP'], 'num_rules': 10}}, {'type': 'LINKS', 'label': 'LINKS', 'options': {'link_references': ['router_1:eth-1<->switch_1:eth-8', 'router_1:eth-2<->switch_2:eth-8', 'switch_1:eth-1<->domain_controller:eth-1', 'switch_1:eth-2<->web_server:eth-1', 'switch_1:eth-3<->database_server:eth-1', 'switch_1:eth-4<->backup_server:eth-1', 'switch_1:eth-7<->security_suite:eth-1', 'switch_2:eth-1<->client_1:eth-1', 'switch_2:eth-2<->client_2:eth-1', 'switch_2:eth-7<->security_suite:eth-2']}}, {'type': 'NONE', 'label': 'ICS', 'options': {}}]}}\n"
     ]
    },
    {
     "name": "stderr",
     "output_type": "stream",
     "text": [
      "2024-04-08 14:58:42,618: Resetting environment, episode 303, avg. reward: 6.25000000000006\n",
      "2024-04-08 14:58:42,622: Saving agent action log to C:\\Users\\CharlieCrane\\primaite\\3.0.0b7\\sessions\\2024-04-08\\14-49-25\\agent_actions\\episode_303.json\n"
     ]
    },
    {
     "name": "stdout",
     "output_type": "stream",
     "text": [
      "{'type': 'CUSTOM', 'options': {'components': [{'type': 'NODES', 'label': 'NODES', 'options': {'hosts': [{'hostname': 'domain_controller'}, {'hostname': 'web_server', 'services': [{'service_name': 'WebServer'}]}, {'hostname': 'database_server', 'folders': [{'folder_name': 'database', 'files': [{'file_name': 'database.db'}]}]}, {'hostname': 'backup_server'}, {'hostname': 'security_suite'}, {'hostname': 'client_1'}, {'hostname': 'client_2'}], 'num_services': 1, 'num_applications': 0, 'num_folders': 1, 'num_files': 1, 'num_nics': 2, 'include_num_access': False, 'include_nmne': True, 'routers': [{'hostname': 'router_1'}], 'num_ports': 0, 'ip_list': ['192.168.1.10', '192.168.1.12', '192.168.1.14', '192.168.1.16', '192.168.1.110', '192.168.10.21', '192.168.10.22', '192.168.10.110'], 'wildcard_list': ['0.0.0.1'], 'port_list': [80, 5432], 'protocol_list': ['ICMP', 'TCP', 'UDP'], 'num_rules': 10}}, {'type': 'LINKS', 'label': 'LINKS', 'options': {'link_references': ['router_1:eth-1<->switch_1:eth-8', 'router_1:eth-2<->switch_2:eth-8', 'switch_1:eth-1<->domain_controller:eth-1', 'switch_1:eth-2<->web_server:eth-1', 'switch_1:eth-3<->database_server:eth-1', 'switch_1:eth-4<->backup_server:eth-1', 'switch_1:eth-7<->security_suite:eth-1', 'switch_2:eth-1<->client_1:eth-1', 'switch_2:eth-2<->client_2:eth-1', 'switch_2:eth-7<->security_suite:eth-2']}}, {'type': 'NONE', 'label': 'ICS', 'options': {}}]}}\n"
     ]
    },
    {
     "name": "stderr",
     "output_type": "stream",
     "text": [
      "2024-04-08 14:58:44,477: Resetting environment, episode 304, avg. reward: -31.200000000000017\n",
      "2024-04-08 14:58:44,477: Saving agent action log to C:\\Users\\CharlieCrane\\primaite\\3.0.0b7\\sessions\\2024-04-08\\14-49-25\\agent_actions\\episode_304.json\n"
     ]
    },
    {
     "name": "stdout",
     "output_type": "stream",
     "text": [
      "{'type': 'CUSTOM', 'options': {'components': [{'type': 'NODES', 'label': 'NODES', 'options': {'hosts': [{'hostname': 'domain_controller'}, {'hostname': 'web_server', 'services': [{'service_name': 'WebServer'}]}, {'hostname': 'database_server', 'folders': [{'folder_name': 'database', 'files': [{'file_name': 'database.db'}]}]}, {'hostname': 'backup_server'}, {'hostname': 'security_suite'}, {'hostname': 'client_1'}, {'hostname': 'client_2'}], 'num_services': 1, 'num_applications': 0, 'num_folders': 1, 'num_files': 1, 'num_nics': 2, 'include_num_access': False, 'include_nmne': True, 'routers': [{'hostname': 'router_1'}], 'num_ports': 0, 'ip_list': ['192.168.1.10', '192.168.1.12', '192.168.1.14', '192.168.1.16', '192.168.1.110', '192.168.10.21', '192.168.10.22', '192.168.10.110'], 'wildcard_list': ['0.0.0.1'], 'port_list': [80, 5432], 'protocol_list': ['ICMP', 'TCP', 'UDP'], 'num_rules': 10}}, {'type': 'LINKS', 'label': 'LINKS', 'options': {'link_references': ['router_1:eth-1<->switch_1:eth-8', 'router_1:eth-2<->switch_2:eth-8', 'switch_1:eth-1<->domain_controller:eth-1', 'switch_1:eth-2<->web_server:eth-1', 'switch_1:eth-3<->database_server:eth-1', 'switch_1:eth-4<->backup_server:eth-1', 'switch_1:eth-7<->security_suite:eth-1', 'switch_2:eth-1<->client_1:eth-1', 'switch_2:eth-2<->client_2:eth-1', 'switch_2:eth-7<->security_suite:eth-2']}}, {'type': 'NONE', 'label': 'ICS', 'options': {}}]}}\n"
     ]
    },
    {
     "name": "stderr",
     "output_type": "stream",
     "text": [
      "2024-04-08 14:58:46,336: Resetting environment, episode 305, avg. reward: -93.50000000000017\n",
      "2024-04-08 14:58:46,340: Saving agent action log to C:\\Users\\CharlieCrane\\primaite\\3.0.0b7\\sessions\\2024-04-08\\14-49-25\\agent_actions\\episode_305.json\n"
     ]
    },
    {
     "name": "stdout",
     "output_type": "stream",
     "text": [
      "{'type': 'CUSTOM', 'options': {'components': [{'type': 'NODES', 'label': 'NODES', 'options': {'hosts': [{'hostname': 'domain_controller'}, {'hostname': 'web_server', 'services': [{'service_name': 'WebServer'}]}, {'hostname': 'database_server', 'folders': [{'folder_name': 'database', 'files': [{'file_name': 'database.db'}]}]}, {'hostname': 'backup_server'}, {'hostname': 'security_suite'}, {'hostname': 'client_1'}, {'hostname': 'client_2'}], 'num_services': 1, 'num_applications': 0, 'num_folders': 1, 'num_files': 1, 'num_nics': 2, 'include_num_access': False, 'include_nmne': True, 'routers': [{'hostname': 'router_1'}], 'num_ports': 0, 'ip_list': ['192.168.1.10', '192.168.1.12', '192.168.1.14', '192.168.1.16', '192.168.1.110', '192.168.10.21', '192.168.10.22', '192.168.10.110'], 'wildcard_list': ['0.0.0.1'], 'port_list': [80, 5432], 'protocol_list': ['ICMP', 'TCP', 'UDP'], 'num_rules': 10}}, {'type': 'LINKS', 'label': 'LINKS', 'options': {'link_references': ['router_1:eth-1<->switch_1:eth-8', 'router_1:eth-2<->switch_2:eth-8', 'switch_1:eth-1<->domain_controller:eth-1', 'switch_1:eth-2<->web_server:eth-1', 'switch_1:eth-3<->database_server:eth-1', 'switch_1:eth-4<->backup_server:eth-1', 'switch_1:eth-7<->security_suite:eth-1', 'switch_2:eth-1<->client_1:eth-1', 'switch_2:eth-2<->client_2:eth-1', 'switch_2:eth-7<->security_suite:eth-2']}}, {'type': 'NONE', 'label': 'ICS', 'options': {}}]}}\n"
     ]
    },
    {
     "name": "stderr",
     "output_type": "stream",
     "text": [
      "2024-04-08 14:58:48,689: Resetting environment, episode 306, avg. reward: -33.549999999999955\n",
      "2024-04-08 14:58:48,693: Saving agent action log to C:\\Users\\CharlieCrane\\primaite\\3.0.0b7\\sessions\\2024-04-08\\14-49-25\\agent_actions\\episode_306.json\n"
     ]
    },
    {
     "name": "stdout",
     "output_type": "stream",
     "text": [
      "{'type': 'CUSTOM', 'options': {'components': [{'type': 'NODES', 'label': 'NODES', 'options': {'hosts': [{'hostname': 'domain_controller'}, {'hostname': 'web_server', 'services': [{'service_name': 'WebServer'}]}, {'hostname': 'database_server', 'folders': [{'folder_name': 'database', 'files': [{'file_name': 'database.db'}]}]}, {'hostname': 'backup_server'}, {'hostname': 'security_suite'}, {'hostname': 'client_1'}, {'hostname': 'client_2'}], 'num_services': 1, 'num_applications': 0, 'num_folders': 1, 'num_files': 1, 'num_nics': 2, 'include_num_access': False, 'include_nmne': True, 'routers': [{'hostname': 'router_1'}], 'num_ports': 0, 'ip_list': ['192.168.1.10', '192.168.1.12', '192.168.1.14', '192.168.1.16', '192.168.1.110', '192.168.10.21', '192.168.10.22', '192.168.10.110'], 'wildcard_list': ['0.0.0.1'], 'port_list': [80, 5432], 'protocol_list': ['ICMP', 'TCP', 'UDP'], 'num_rules': 10}}, {'type': 'LINKS', 'label': 'LINKS', 'options': {'link_references': ['router_1:eth-1<->switch_1:eth-8', 'router_1:eth-2<->switch_2:eth-8', 'switch_1:eth-1<->domain_controller:eth-1', 'switch_1:eth-2<->web_server:eth-1', 'switch_1:eth-3<->database_server:eth-1', 'switch_1:eth-4<->backup_server:eth-1', 'switch_1:eth-7<->security_suite:eth-1', 'switch_2:eth-1<->client_1:eth-1', 'switch_2:eth-2<->client_2:eth-1', 'switch_2:eth-7<->security_suite:eth-2']}}, {'type': 'NONE', 'label': 'ICS', 'options': {}}]}}\n"
     ]
    },
    {
     "name": "stderr",
     "output_type": "stream",
     "text": [
      "2024-04-08 14:58:51,197: Resetting environment, episode 307, avg. reward: -11.599999999999987\n",
      "2024-04-08 14:58:51,200: Saving agent action log to C:\\Users\\CharlieCrane\\primaite\\3.0.0b7\\sessions\\2024-04-08\\14-49-25\\agent_actions\\episode_307.json\n"
     ]
    },
    {
     "name": "stdout",
     "output_type": "stream",
     "text": [
      "{'type': 'CUSTOM', 'options': {'components': [{'type': 'NODES', 'label': 'NODES', 'options': {'hosts': [{'hostname': 'domain_controller'}, {'hostname': 'web_server', 'services': [{'service_name': 'WebServer'}]}, {'hostname': 'database_server', 'folders': [{'folder_name': 'database', 'files': [{'file_name': 'database.db'}]}]}, {'hostname': 'backup_server'}, {'hostname': 'security_suite'}, {'hostname': 'client_1'}, {'hostname': 'client_2'}], 'num_services': 1, 'num_applications': 0, 'num_folders': 1, 'num_files': 1, 'num_nics': 2, 'include_num_access': False, 'include_nmne': True, 'routers': [{'hostname': 'router_1'}], 'num_ports': 0, 'ip_list': ['192.168.1.10', '192.168.1.12', '192.168.1.14', '192.168.1.16', '192.168.1.110', '192.168.10.21', '192.168.10.22', '192.168.10.110'], 'wildcard_list': ['0.0.0.1'], 'port_list': [80, 5432], 'protocol_list': ['ICMP', 'TCP', 'UDP'], 'num_rules': 10}}, {'type': 'LINKS', 'label': 'LINKS', 'options': {'link_references': ['router_1:eth-1<->switch_1:eth-8', 'router_1:eth-2<->switch_2:eth-8', 'switch_1:eth-1<->domain_controller:eth-1', 'switch_1:eth-2<->web_server:eth-1', 'switch_1:eth-3<->database_server:eth-1', 'switch_1:eth-4<->backup_server:eth-1', 'switch_1:eth-7<->security_suite:eth-1', 'switch_2:eth-1<->client_1:eth-1', 'switch_2:eth-2<->client_2:eth-1', 'switch_2:eth-7<->security_suite:eth-2']}}, {'type': 'NONE', 'label': 'ICS', 'options': {}}]}}\n"
     ]
    },
    {
     "name": "stderr",
     "output_type": "stream",
     "text": [
      "2024-04-08 14:58:53,602: Resetting environment, episode 308, avg. reward: -23.900000000000034\n",
      "2024-04-08 14:58:53,605: Saving agent action log to C:\\Users\\CharlieCrane\\primaite\\3.0.0b7\\sessions\\2024-04-08\\14-49-25\\agent_actions\\episode_308.json\n"
     ]
    },
    {
     "name": "stdout",
     "output_type": "stream",
     "text": [
      "{'type': 'CUSTOM', 'options': {'components': [{'type': 'NODES', 'label': 'NODES', 'options': {'hosts': [{'hostname': 'domain_controller'}, {'hostname': 'web_server', 'services': [{'service_name': 'WebServer'}]}, {'hostname': 'database_server', 'folders': [{'folder_name': 'database', 'files': [{'file_name': 'database.db'}]}]}, {'hostname': 'backup_server'}, {'hostname': 'security_suite'}, {'hostname': 'client_1'}, {'hostname': 'client_2'}], 'num_services': 1, 'num_applications': 0, 'num_folders': 1, 'num_files': 1, 'num_nics': 2, 'include_num_access': False, 'include_nmne': True, 'routers': [{'hostname': 'router_1'}], 'num_ports': 0, 'ip_list': ['192.168.1.10', '192.168.1.12', '192.168.1.14', '192.168.1.16', '192.168.1.110', '192.168.10.21', '192.168.10.22', '192.168.10.110'], 'wildcard_list': ['0.0.0.1'], 'port_list': [80, 5432], 'protocol_list': ['ICMP', 'TCP', 'UDP'], 'num_rules': 10}}, {'type': 'LINKS', 'label': 'LINKS', 'options': {'link_references': ['router_1:eth-1<->switch_1:eth-8', 'router_1:eth-2<->switch_2:eth-8', 'switch_1:eth-1<->domain_controller:eth-1', 'switch_1:eth-2<->web_server:eth-1', 'switch_1:eth-3<->database_server:eth-1', 'switch_1:eth-4<->backup_server:eth-1', 'switch_1:eth-7<->security_suite:eth-1', 'switch_2:eth-1<->client_1:eth-1', 'switch_2:eth-2<->client_2:eth-1', 'switch_2:eth-7<->security_suite:eth-2']}}, {'type': 'NONE', 'label': 'ICS', 'options': {}}]}}\n"
     ]
    },
    {
     "name": "stderr",
     "output_type": "stream",
     "text": [
      "2024-04-08 14:58:56,033: Resetting environment, episode 309, avg. reward: 3.500000000000001\n",
      "2024-04-08 14:58:56,037: Saving agent action log to C:\\Users\\CharlieCrane\\primaite\\3.0.0b7\\sessions\\2024-04-08\\14-49-25\\agent_actions\\episode_309.json\n"
     ]
    },
    {
     "name": "stdout",
     "output_type": "stream",
     "text": [
      "{'type': 'CUSTOM', 'options': {'components': [{'type': 'NODES', 'label': 'NODES', 'options': {'hosts': [{'hostname': 'domain_controller'}, {'hostname': 'web_server', 'services': [{'service_name': 'WebServer'}]}, {'hostname': 'database_server', 'folders': [{'folder_name': 'database', 'files': [{'file_name': 'database.db'}]}]}, {'hostname': 'backup_server'}, {'hostname': 'security_suite'}, {'hostname': 'client_1'}, {'hostname': 'client_2'}], 'num_services': 1, 'num_applications': 0, 'num_folders': 1, 'num_files': 1, 'num_nics': 2, 'include_num_access': False, 'include_nmne': True, 'routers': [{'hostname': 'router_1'}], 'num_ports': 0, 'ip_list': ['192.168.1.10', '192.168.1.12', '192.168.1.14', '192.168.1.16', '192.168.1.110', '192.168.10.21', '192.168.10.22', '192.168.10.110'], 'wildcard_list': ['0.0.0.1'], 'port_list': [80, 5432], 'protocol_list': ['ICMP', 'TCP', 'UDP'], 'num_rules': 10}}, {'type': 'LINKS', 'label': 'LINKS', 'options': {'link_references': ['router_1:eth-1<->switch_1:eth-8', 'router_1:eth-2<->switch_2:eth-8', 'switch_1:eth-1<->domain_controller:eth-1', 'switch_1:eth-2<->web_server:eth-1', 'switch_1:eth-3<->database_server:eth-1', 'switch_1:eth-4<->backup_server:eth-1', 'switch_1:eth-7<->security_suite:eth-1', 'switch_2:eth-1<->client_1:eth-1', 'switch_2:eth-2<->client_2:eth-1', 'switch_2:eth-7<->security_suite:eth-2']}}, {'type': 'NONE', 'label': 'ICS', 'options': {}}]}}\n"
     ]
    },
    {
     "name": "stderr",
     "output_type": "stream",
     "text": [
      "2024-04-08 14:58:58,038: Resetting environment, episode 310, avg. reward: 16.04999999999999\n",
      "2024-04-08 14:58:58,046: Saving agent action log to C:\\Users\\CharlieCrane\\primaite\\3.0.0b7\\sessions\\2024-04-08\\14-49-25\\agent_actions\\episode_310.json\n"
     ]
    },
    {
     "name": "stdout",
     "output_type": "stream",
     "text": [
      "{'type': 'CUSTOM', 'options': {'components': [{'type': 'NODES', 'label': 'NODES', 'options': {'hosts': [{'hostname': 'domain_controller'}, {'hostname': 'web_server', 'services': [{'service_name': 'WebServer'}]}, {'hostname': 'database_server', 'folders': [{'folder_name': 'database', 'files': [{'file_name': 'database.db'}]}]}, {'hostname': 'backup_server'}, {'hostname': 'security_suite'}, {'hostname': 'client_1'}, {'hostname': 'client_2'}], 'num_services': 1, 'num_applications': 0, 'num_folders': 1, 'num_files': 1, 'num_nics': 2, 'include_num_access': False, 'include_nmne': True, 'routers': [{'hostname': 'router_1'}], 'num_ports': 0, 'ip_list': ['192.168.1.10', '192.168.1.12', '192.168.1.14', '192.168.1.16', '192.168.1.110', '192.168.10.21', '192.168.10.22', '192.168.10.110'], 'wildcard_list': ['0.0.0.1'], 'port_list': [80, 5432], 'protocol_list': ['ICMP', 'TCP', 'UDP'], 'num_rules': 10}}, {'type': 'LINKS', 'label': 'LINKS', 'options': {'link_references': ['router_1:eth-1<->switch_1:eth-8', 'router_1:eth-2<->switch_2:eth-8', 'switch_1:eth-1<->domain_controller:eth-1', 'switch_1:eth-2<->web_server:eth-1', 'switch_1:eth-3<->database_server:eth-1', 'switch_1:eth-4<->backup_server:eth-1', 'switch_1:eth-7<->security_suite:eth-1', 'switch_2:eth-1<->client_1:eth-1', 'switch_2:eth-2<->client_2:eth-1', 'switch_2:eth-7<->security_suite:eth-2']}}, {'type': 'NONE', 'label': 'ICS', 'options': {}}]}}\n"
     ]
    },
    {
     "name": "stderr",
     "output_type": "stream",
     "text": [
      "2024-04-08 14:59:00,171: Resetting environment, episode 311, avg. reward: -13.449999999999982\n",
      "2024-04-08 14:59:00,174: Saving agent action log to C:\\Users\\CharlieCrane\\primaite\\3.0.0b7\\sessions\\2024-04-08\\14-49-25\\agent_actions\\episode_311.json\n"
     ]
    },
    {
     "name": "stdout",
     "output_type": "stream",
     "text": [
      "{'type': 'CUSTOM', 'options': {'components': [{'type': 'NODES', 'label': 'NODES', 'options': {'hosts': [{'hostname': 'domain_controller'}, {'hostname': 'web_server', 'services': [{'service_name': 'WebServer'}]}, {'hostname': 'database_server', 'folders': [{'folder_name': 'database', 'files': [{'file_name': 'database.db'}]}]}, {'hostname': 'backup_server'}, {'hostname': 'security_suite'}, {'hostname': 'client_1'}, {'hostname': 'client_2'}], 'num_services': 1, 'num_applications': 0, 'num_folders': 1, 'num_files': 1, 'num_nics': 2, 'include_num_access': False, 'include_nmne': True, 'routers': [{'hostname': 'router_1'}], 'num_ports': 0, 'ip_list': ['192.168.1.10', '192.168.1.12', '192.168.1.14', '192.168.1.16', '192.168.1.110', '192.168.10.21', '192.168.10.22', '192.168.10.110'], 'wildcard_list': ['0.0.0.1'], 'port_list': [80, 5432], 'protocol_list': ['ICMP', 'TCP', 'UDP'], 'num_rules': 10}}, {'type': 'LINKS', 'label': 'LINKS', 'options': {'link_references': ['router_1:eth-1<->switch_1:eth-8', 'router_1:eth-2<->switch_2:eth-8', 'switch_1:eth-1<->domain_controller:eth-1', 'switch_1:eth-2<->web_server:eth-1', 'switch_1:eth-3<->database_server:eth-1', 'switch_1:eth-4<->backup_server:eth-1', 'switch_1:eth-7<->security_suite:eth-1', 'switch_2:eth-1<->client_1:eth-1', 'switch_2:eth-2<->client_2:eth-1', 'switch_2:eth-7<->security_suite:eth-2']}}, {'type': 'NONE', 'label': 'ICS', 'options': {}}]}}\n"
     ]
    },
    {
     "name": "stderr",
     "output_type": "stream",
     "text": [
      "2024-04-08 14:59:02,046: Resetting environment, episode 312, avg. reward: -82.39999999999998\n",
      "2024-04-08 14:59:02,057: Saving agent action log to C:\\Users\\CharlieCrane\\primaite\\3.0.0b7\\sessions\\2024-04-08\\14-49-25\\agent_actions\\episode_312.json\n"
     ]
    },
    {
     "name": "stdout",
     "output_type": "stream",
     "text": [
      "{'type': 'CUSTOM', 'options': {'components': [{'type': 'NODES', 'label': 'NODES', 'options': {'hosts': [{'hostname': 'domain_controller'}, {'hostname': 'web_server', 'services': [{'service_name': 'WebServer'}]}, {'hostname': 'database_server', 'folders': [{'folder_name': 'database', 'files': [{'file_name': 'database.db'}]}]}, {'hostname': 'backup_server'}, {'hostname': 'security_suite'}, {'hostname': 'client_1'}, {'hostname': 'client_2'}], 'num_services': 1, 'num_applications': 0, 'num_folders': 1, 'num_files': 1, 'num_nics': 2, 'include_num_access': False, 'include_nmne': True, 'routers': [{'hostname': 'router_1'}], 'num_ports': 0, 'ip_list': ['192.168.1.10', '192.168.1.12', '192.168.1.14', '192.168.1.16', '192.168.1.110', '192.168.10.21', '192.168.10.22', '192.168.10.110'], 'wildcard_list': ['0.0.0.1'], 'port_list': [80, 5432], 'protocol_list': ['ICMP', 'TCP', 'UDP'], 'num_rules': 10}}, {'type': 'LINKS', 'label': 'LINKS', 'options': {'link_references': ['router_1:eth-1<->switch_1:eth-8', 'router_1:eth-2<->switch_2:eth-8', 'switch_1:eth-1<->domain_controller:eth-1', 'switch_1:eth-2<->web_server:eth-1', 'switch_1:eth-3<->database_server:eth-1', 'switch_1:eth-4<->backup_server:eth-1', 'switch_1:eth-7<->security_suite:eth-1', 'switch_2:eth-1<->client_1:eth-1', 'switch_2:eth-2<->client_2:eth-1', 'switch_2:eth-7<->security_suite:eth-2']}}, {'type': 'NONE', 'label': 'ICS', 'options': {}}]}}\n"
     ]
    },
    {
     "name": "stderr",
     "output_type": "stream",
     "text": [
      "2024-04-08 14:59:03,942: Resetting environment, episode 313, avg. reward: 0.3000000000000045\n",
      "2024-04-08 14:59:03,944: Saving agent action log to C:\\Users\\CharlieCrane\\primaite\\3.0.0b7\\sessions\\2024-04-08\\14-49-25\\agent_actions\\episode_313.json\n"
     ]
    },
    {
     "name": "stdout",
     "output_type": "stream",
     "text": [
      "{'type': 'CUSTOM', 'options': {'components': [{'type': 'NODES', 'label': 'NODES', 'options': {'hosts': [{'hostname': 'domain_controller'}, {'hostname': 'web_server', 'services': [{'service_name': 'WebServer'}]}, {'hostname': 'database_server', 'folders': [{'folder_name': 'database', 'files': [{'file_name': 'database.db'}]}]}, {'hostname': 'backup_server'}, {'hostname': 'security_suite'}, {'hostname': 'client_1'}, {'hostname': 'client_2'}], 'num_services': 1, 'num_applications': 0, 'num_folders': 1, 'num_files': 1, 'num_nics': 2, 'include_num_access': False, 'include_nmne': True, 'routers': [{'hostname': 'router_1'}], 'num_ports': 0, 'ip_list': ['192.168.1.10', '192.168.1.12', '192.168.1.14', '192.168.1.16', '192.168.1.110', '192.168.10.21', '192.168.10.22', '192.168.10.110'], 'wildcard_list': ['0.0.0.1'], 'port_list': [80, 5432], 'protocol_list': ['ICMP', 'TCP', 'UDP'], 'num_rules': 10}}, {'type': 'LINKS', 'label': 'LINKS', 'options': {'link_references': ['router_1:eth-1<->switch_1:eth-8', 'router_1:eth-2<->switch_2:eth-8', 'switch_1:eth-1<->domain_controller:eth-1', 'switch_1:eth-2<->web_server:eth-1', 'switch_1:eth-3<->database_server:eth-1', 'switch_1:eth-4<->backup_server:eth-1', 'switch_1:eth-7<->security_suite:eth-1', 'switch_2:eth-1<->client_1:eth-1', 'switch_2:eth-2<->client_2:eth-1', 'switch_2:eth-7<->security_suite:eth-2']}}, {'type': 'NONE', 'label': 'ICS', 'options': {}}]}}\n"
     ]
    },
    {
     "name": "stderr",
     "output_type": "stream",
     "text": [
      "2024-04-08 14:59:05,578: Resetting environment, episode 314, avg. reward: -90.35000000000015\n",
      "2024-04-08 14:59:05,582: Saving agent action log to C:\\Users\\CharlieCrane\\primaite\\3.0.0b7\\sessions\\2024-04-08\\14-49-25\\agent_actions\\episode_314.json\n"
     ]
    },
    {
     "name": "stdout",
     "output_type": "stream",
     "text": [
      "{'type': 'CUSTOM', 'options': {'components': [{'type': 'NODES', 'label': 'NODES', 'options': {'hosts': [{'hostname': 'domain_controller'}, {'hostname': 'web_server', 'services': [{'service_name': 'WebServer'}]}, {'hostname': 'database_server', 'folders': [{'folder_name': 'database', 'files': [{'file_name': 'database.db'}]}]}, {'hostname': 'backup_server'}, {'hostname': 'security_suite'}, {'hostname': 'client_1'}, {'hostname': 'client_2'}], 'num_services': 1, 'num_applications': 0, 'num_folders': 1, 'num_files': 1, 'num_nics': 2, 'include_num_access': False, 'include_nmne': True, 'routers': [{'hostname': 'router_1'}], 'num_ports': 0, 'ip_list': ['192.168.1.10', '192.168.1.12', '192.168.1.14', '192.168.1.16', '192.168.1.110', '192.168.10.21', '192.168.10.22', '192.168.10.110'], 'wildcard_list': ['0.0.0.1'], 'port_list': [80, 5432], 'protocol_list': ['ICMP', 'TCP', 'UDP'], 'num_rules': 10}}, {'type': 'LINKS', 'label': 'LINKS', 'options': {'link_references': ['router_1:eth-1<->switch_1:eth-8', 'router_1:eth-2<->switch_2:eth-8', 'switch_1:eth-1<->domain_controller:eth-1', 'switch_1:eth-2<->web_server:eth-1', 'switch_1:eth-3<->database_server:eth-1', 'switch_1:eth-4<->backup_server:eth-1', 'switch_1:eth-7<->security_suite:eth-1', 'switch_2:eth-1<->client_1:eth-1', 'switch_2:eth-2<->client_2:eth-1', 'switch_2:eth-7<->security_suite:eth-2']}}, {'type': 'NONE', 'label': 'ICS', 'options': {}}]}}\n"
     ]
    },
    {
     "name": "stderr",
     "output_type": "stream",
     "text": [
      "2024-04-08 14:59:07,340: Resetting environment, episode 315, avg. reward: 3.3000000000000043\n",
      "2024-04-08 14:59:07,343: Saving agent action log to C:\\Users\\CharlieCrane\\primaite\\3.0.0b7\\sessions\\2024-04-08\\14-49-25\\agent_actions\\episode_315.json\n"
     ]
    },
    {
     "name": "stdout",
     "output_type": "stream",
     "text": [
      "{'type': 'CUSTOM', 'options': {'components': [{'type': 'NODES', 'label': 'NODES', 'options': {'hosts': [{'hostname': 'domain_controller'}, {'hostname': 'web_server', 'services': [{'service_name': 'WebServer'}]}, {'hostname': 'database_server', 'folders': [{'folder_name': 'database', 'files': [{'file_name': 'database.db'}]}]}, {'hostname': 'backup_server'}, {'hostname': 'security_suite'}, {'hostname': 'client_1'}, {'hostname': 'client_2'}], 'num_services': 1, 'num_applications': 0, 'num_folders': 1, 'num_files': 1, 'num_nics': 2, 'include_num_access': False, 'include_nmne': True, 'routers': [{'hostname': 'router_1'}], 'num_ports': 0, 'ip_list': ['192.168.1.10', '192.168.1.12', '192.168.1.14', '192.168.1.16', '192.168.1.110', '192.168.10.21', '192.168.10.22', '192.168.10.110'], 'wildcard_list': ['0.0.0.1'], 'port_list': [80, 5432], 'protocol_list': ['ICMP', 'TCP', 'UDP'], 'num_rules': 10}}, {'type': 'LINKS', 'label': 'LINKS', 'options': {'link_references': ['router_1:eth-1<->switch_1:eth-8', 'router_1:eth-2<->switch_2:eth-8', 'switch_1:eth-1<->domain_controller:eth-1', 'switch_1:eth-2<->web_server:eth-1', 'switch_1:eth-3<->database_server:eth-1', 'switch_1:eth-4<->backup_server:eth-1', 'switch_1:eth-7<->security_suite:eth-1', 'switch_2:eth-1<->client_1:eth-1', 'switch_2:eth-2<->client_2:eth-1', 'switch_2:eth-7<->security_suite:eth-2']}}, {'type': 'NONE', 'label': 'ICS', 'options': {}}]}}\n"
     ]
    },
    {
     "name": "stderr",
     "output_type": "stream",
     "text": [
      "2024-04-08 14:59:09,117: Resetting environment, episode 316, avg. reward: -44.74999999999995\n",
      "2024-04-08 14:59:09,128: Saving agent action log to C:\\Users\\CharlieCrane\\primaite\\3.0.0b7\\sessions\\2024-04-08\\14-49-25\\agent_actions\\episode_316.json\n"
     ]
    },
    {
     "name": "stdout",
     "output_type": "stream",
     "text": [
      "{'type': 'CUSTOM', 'options': {'components': [{'type': 'NODES', 'label': 'NODES', 'options': {'hosts': [{'hostname': 'domain_controller'}, {'hostname': 'web_server', 'services': [{'service_name': 'WebServer'}]}, {'hostname': 'database_server', 'folders': [{'folder_name': 'database', 'files': [{'file_name': 'database.db'}]}]}, {'hostname': 'backup_server'}, {'hostname': 'security_suite'}, {'hostname': 'client_1'}, {'hostname': 'client_2'}], 'num_services': 1, 'num_applications': 0, 'num_folders': 1, 'num_files': 1, 'num_nics': 2, 'include_num_access': False, 'include_nmne': True, 'routers': [{'hostname': 'router_1'}], 'num_ports': 0, 'ip_list': ['192.168.1.10', '192.168.1.12', '192.168.1.14', '192.168.1.16', '192.168.1.110', '192.168.10.21', '192.168.10.22', '192.168.10.110'], 'wildcard_list': ['0.0.0.1'], 'port_list': [80, 5432], 'protocol_list': ['ICMP', 'TCP', 'UDP'], 'num_rules': 10}}, {'type': 'LINKS', 'label': 'LINKS', 'options': {'link_references': ['router_1:eth-1<->switch_1:eth-8', 'router_1:eth-2<->switch_2:eth-8', 'switch_1:eth-1<->domain_controller:eth-1', 'switch_1:eth-2<->web_server:eth-1', 'switch_1:eth-3<->database_server:eth-1', 'switch_1:eth-4<->backup_server:eth-1', 'switch_1:eth-7<->security_suite:eth-1', 'switch_2:eth-1<->client_1:eth-1', 'switch_2:eth-2<->client_2:eth-1', 'switch_2:eth-7<->security_suite:eth-2']}}, {'type': 'NONE', 'label': 'ICS', 'options': {}}]}}\n"
     ]
    },
    {
     "name": "stderr",
     "output_type": "stream",
     "text": [
      "2024-04-08 14:59:11,162: Resetting environment, episode 317, avg. reward: 8.450000000000045\n",
      "2024-04-08 14:59:11,165: Saving agent action log to C:\\Users\\CharlieCrane\\primaite\\3.0.0b7\\sessions\\2024-04-08\\14-49-25\\agent_actions\\episode_317.json\n"
     ]
    },
    {
     "name": "stdout",
     "output_type": "stream",
     "text": [
      "{'type': 'CUSTOM', 'options': {'components': [{'type': 'NODES', 'label': 'NODES', 'options': {'hosts': [{'hostname': 'domain_controller'}, {'hostname': 'web_server', 'services': [{'service_name': 'WebServer'}]}, {'hostname': 'database_server', 'folders': [{'folder_name': 'database', 'files': [{'file_name': 'database.db'}]}]}, {'hostname': 'backup_server'}, {'hostname': 'security_suite'}, {'hostname': 'client_1'}, {'hostname': 'client_2'}], 'num_services': 1, 'num_applications': 0, 'num_folders': 1, 'num_files': 1, 'num_nics': 2, 'include_num_access': False, 'include_nmne': True, 'routers': [{'hostname': 'router_1'}], 'num_ports': 0, 'ip_list': ['192.168.1.10', '192.168.1.12', '192.168.1.14', '192.168.1.16', '192.168.1.110', '192.168.10.21', '192.168.10.22', '192.168.10.110'], 'wildcard_list': ['0.0.0.1'], 'port_list': [80, 5432], 'protocol_list': ['ICMP', 'TCP', 'UDP'], 'num_rules': 10}}, {'type': 'LINKS', 'label': 'LINKS', 'options': {'link_references': ['router_1:eth-1<->switch_1:eth-8', 'router_1:eth-2<->switch_2:eth-8', 'switch_1:eth-1<->domain_controller:eth-1', 'switch_1:eth-2<->web_server:eth-1', 'switch_1:eth-3<->database_server:eth-1', 'switch_1:eth-4<->backup_server:eth-1', 'switch_1:eth-7<->security_suite:eth-1', 'switch_2:eth-1<->client_1:eth-1', 'switch_2:eth-2<->client_2:eth-1', 'switch_2:eth-7<->security_suite:eth-2']}}, {'type': 'NONE', 'label': 'ICS', 'options': {}}]}}\n"
     ]
    },
    {
     "name": "stderr",
     "output_type": "stream",
     "text": [
      "2024-04-08 14:59:13,123: Resetting environment, episode 318, avg. reward: -10.049999999999985\n",
      "2024-04-08 14:59:13,127: Saving agent action log to C:\\Users\\CharlieCrane\\primaite\\3.0.0b7\\sessions\\2024-04-08\\14-49-25\\agent_actions\\episode_318.json\n"
     ]
    },
    {
     "name": "stdout",
     "output_type": "stream",
     "text": [
      "{'type': 'CUSTOM', 'options': {'components': [{'type': 'NODES', 'label': 'NODES', 'options': {'hosts': [{'hostname': 'domain_controller'}, {'hostname': 'web_server', 'services': [{'service_name': 'WebServer'}]}, {'hostname': 'database_server', 'folders': [{'folder_name': 'database', 'files': [{'file_name': 'database.db'}]}]}, {'hostname': 'backup_server'}, {'hostname': 'security_suite'}, {'hostname': 'client_1'}, {'hostname': 'client_2'}], 'num_services': 1, 'num_applications': 0, 'num_folders': 1, 'num_files': 1, 'num_nics': 2, 'include_num_access': False, 'include_nmne': True, 'routers': [{'hostname': 'router_1'}], 'num_ports': 0, 'ip_list': ['192.168.1.10', '192.168.1.12', '192.168.1.14', '192.168.1.16', '192.168.1.110', '192.168.10.21', '192.168.10.22', '192.168.10.110'], 'wildcard_list': ['0.0.0.1'], 'port_list': [80, 5432], 'protocol_list': ['ICMP', 'TCP', 'UDP'], 'num_rules': 10}}, {'type': 'LINKS', 'label': 'LINKS', 'options': {'link_references': ['router_1:eth-1<->switch_1:eth-8', 'router_1:eth-2<->switch_2:eth-8', 'switch_1:eth-1<->domain_controller:eth-1', 'switch_1:eth-2<->web_server:eth-1', 'switch_1:eth-3<->database_server:eth-1', 'switch_1:eth-4<->backup_server:eth-1', 'switch_1:eth-7<->security_suite:eth-1', 'switch_2:eth-1<->client_1:eth-1', 'switch_2:eth-2<->client_2:eth-1', 'switch_2:eth-7<->security_suite:eth-2']}}, {'type': 'NONE', 'label': 'ICS', 'options': {}}]}}\n"
     ]
    },
    {
     "name": "stderr",
     "output_type": "stream",
     "text": [
      "2024-04-08 14:59:18,061: Resetting environment, episode 319, avg. reward: -17.04999999999999\n",
      "2024-04-08 14:59:18,067: Saving agent action log to C:\\Users\\CharlieCrane\\primaite\\3.0.0b7\\sessions\\2024-04-08\\14-49-25\\agent_actions\\episode_319.json\n"
     ]
    },
    {
     "name": "stdout",
     "output_type": "stream",
     "text": [
      "{'type': 'CUSTOM', 'options': {'components': [{'type': 'NODES', 'label': 'NODES', 'options': {'hosts': [{'hostname': 'domain_controller'}, {'hostname': 'web_server', 'services': [{'service_name': 'WebServer'}]}, {'hostname': 'database_server', 'folders': [{'folder_name': 'database', 'files': [{'file_name': 'database.db'}]}]}, {'hostname': 'backup_server'}, {'hostname': 'security_suite'}, {'hostname': 'client_1'}, {'hostname': 'client_2'}], 'num_services': 1, 'num_applications': 0, 'num_folders': 1, 'num_files': 1, 'num_nics': 2, 'include_num_access': False, 'include_nmne': True, 'routers': [{'hostname': 'router_1'}], 'num_ports': 0, 'ip_list': ['192.168.1.10', '192.168.1.12', '192.168.1.14', '192.168.1.16', '192.168.1.110', '192.168.10.21', '192.168.10.22', '192.168.10.110'], 'wildcard_list': ['0.0.0.1'], 'port_list': [80, 5432], 'protocol_list': ['ICMP', 'TCP', 'UDP'], 'num_rules': 10}}, {'type': 'LINKS', 'label': 'LINKS', 'options': {'link_references': ['router_1:eth-1<->switch_1:eth-8', 'router_1:eth-2<->switch_2:eth-8', 'switch_1:eth-1<->domain_controller:eth-1', 'switch_1:eth-2<->web_server:eth-1', 'switch_1:eth-3<->database_server:eth-1', 'switch_1:eth-4<->backup_server:eth-1', 'switch_1:eth-7<->security_suite:eth-1', 'switch_2:eth-1<->client_1:eth-1', 'switch_2:eth-2<->client_2:eth-1', 'switch_2:eth-7<->security_suite:eth-2']}}, {'type': 'NONE', 'label': 'ICS', 'options': {}}]}}\n"
     ]
    },
    {
     "name": "stderr",
     "output_type": "stream",
     "text": [
      "2024-04-08 14:59:19,985: Resetting environment, episode 320, avg. reward: -81.19999999999999\n",
      "2024-04-08 14:59:19,989: Saving agent action log to C:\\Users\\CharlieCrane\\primaite\\3.0.0b7\\sessions\\2024-04-08\\14-49-25\\agent_actions\\episode_320.json\n"
     ]
    },
    {
     "name": "stdout",
     "output_type": "stream",
     "text": [
      "{'type': 'CUSTOM', 'options': {'components': [{'type': 'NODES', 'label': 'NODES', 'options': {'hosts': [{'hostname': 'domain_controller'}, {'hostname': 'web_server', 'services': [{'service_name': 'WebServer'}]}, {'hostname': 'database_server', 'folders': [{'folder_name': 'database', 'files': [{'file_name': 'database.db'}]}]}, {'hostname': 'backup_server'}, {'hostname': 'security_suite'}, {'hostname': 'client_1'}, {'hostname': 'client_2'}], 'num_services': 1, 'num_applications': 0, 'num_folders': 1, 'num_files': 1, 'num_nics': 2, 'include_num_access': False, 'include_nmne': True, 'routers': [{'hostname': 'router_1'}], 'num_ports': 0, 'ip_list': ['192.168.1.10', '192.168.1.12', '192.168.1.14', '192.168.1.16', '192.168.1.110', '192.168.10.21', '192.168.10.22', '192.168.10.110'], 'wildcard_list': ['0.0.0.1'], 'port_list': [80, 5432], 'protocol_list': ['ICMP', 'TCP', 'UDP'], 'num_rules': 10}}, {'type': 'LINKS', 'label': 'LINKS', 'options': {'link_references': ['router_1:eth-1<->switch_1:eth-8', 'router_1:eth-2<->switch_2:eth-8', 'switch_1:eth-1<->domain_controller:eth-1', 'switch_1:eth-2<->web_server:eth-1', 'switch_1:eth-3<->database_server:eth-1', 'switch_1:eth-4<->backup_server:eth-1', 'switch_1:eth-7<->security_suite:eth-1', 'switch_2:eth-1<->client_1:eth-1', 'switch_2:eth-2<->client_2:eth-1', 'switch_2:eth-7<->security_suite:eth-2']}}, {'type': 'NONE', 'label': 'ICS', 'options': {}}]}}\n"
     ]
    },
    {
     "name": "stderr",
     "output_type": "stream",
     "text": [
      "2024-04-08 14:59:22,591: Resetting environment, episode 321, avg. reward: 25.900000000000055\n",
      "2024-04-08 14:59:22,593: Saving agent action log to C:\\Users\\CharlieCrane\\primaite\\3.0.0b7\\sessions\\2024-04-08\\14-49-25\\agent_actions\\episode_321.json\n"
     ]
    },
    {
     "name": "stdout",
     "output_type": "stream",
     "text": [
      "{'type': 'CUSTOM', 'options': {'components': [{'type': 'NODES', 'label': 'NODES', 'options': {'hosts': [{'hostname': 'domain_controller'}, {'hostname': 'web_server', 'services': [{'service_name': 'WebServer'}]}, {'hostname': 'database_server', 'folders': [{'folder_name': 'database', 'files': [{'file_name': 'database.db'}]}]}, {'hostname': 'backup_server'}, {'hostname': 'security_suite'}, {'hostname': 'client_1'}, {'hostname': 'client_2'}], 'num_services': 1, 'num_applications': 0, 'num_folders': 1, 'num_files': 1, 'num_nics': 2, 'include_num_access': False, 'include_nmne': True, 'routers': [{'hostname': 'router_1'}], 'num_ports': 0, 'ip_list': ['192.168.1.10', '192.168.1.12', '192.168.1.14', '192.168.1.16', '192.168.1.110', '192.168.10.21', '192.168.10.22', '192.168.10.110'], 'wildcard_list': ['0.0.0.1'], 'port_list': [80, 5432], 'protocol_list': ['ICMP', 'TCP', 'UDP'], 'num_rules': 10}}, {'type': 'LINKS', 'label': 'LINKS', 'options': {'link_references': ['router_1:eth-1<->switch_1:eth-8', 'router_1:eth-2<->switch_2:eth-8', 'switch_1:eth-1<->domain_controller:eth-1', 'switch_1:eth-2<->web_server:eth-1', 'switch_1:eth-3<->database_server:eth-1', 'switch_1:eth-4<->backup_server:eth-1', 'switch_1:eth-7<->security_suite:eth-1', 'switch_2:eth-1<->client_1:eth-1', 'switch_2:eth-2<->client_2:eth-1', 'switch_2:eth-7<->security_suite:eth-2']}}, {'type': 'NONE', 'label': 'ICS', 'options': {}}]}}\n"
     ]
    },
    {
     "name": "stderr",
     "output_type": "stream",
     "text": [
      "2024-04-08 14:59:25,075: Resetting environment, episode 322, avg. reward: -6.0500000000000025\n",
      "2024-04-08 14:59:25,079: Saving agent action log to C:\\Users\\CharlieCrane\\primaite\\3.0.0b7\\sessions\\2024-04-08\\14-49-25\\agent_actions\\episode_322.json\n"
     ]
    },
    {
     "name": "stdout",
     "output_type": "stream",
     "text": [
      "{'type': 'CUSTOM', 'options': {'components': [{'type': 'NODES', 'label': 'NODES', 'options': {'hosts': [{'hostname': 'domain_controller'}, {'hostname': 'web_server', 'services': [{'service_name': 'WebServer'}]}, {'hostname': 'database_server', 'folders': [{'folder_name': 'database', 'files': [{'file_name': 'database.db'}]}]}, {'hostname': 'backup_server'}, {'hostname': 'security_suite'}, {'hostname': 'client_1'}, {'hostname': 'client_2'}], 'num_services': 1, 'num_applications': 0, 'num_folders': 1, 'num_files': 1, 'num_nics': 2, 'include_num_access': False, 'include_nmne': True, 'routers': [{'hostname': 'router_1'}], 'num_ports': 0, 'ip_list': ['192.168.1.10', '192.168.1.12', '192.168.1.14', '192.168.1.16', '192.168.1.110', '192.168.10.21', '192.168.10.22', '192.168.10.110'], 'wildcard_list': ['0.0.0.1'], 'port_list': [80, 5432], 'protocol_list': ['ICMP', 'TCP', 'UDP'], 'num_rules': 10}}, {'type': 'LINKS', 'label': 'LINKS', 'options': {'link_references': ['router_1:eth-1<->switch_1:eth-8', 'router_1:eth-2<->switch_2:eth-8', 'switch_1:eth-1<->domain_controller:eth-1', 'switch_1:eth-2<->web_server:eth-1', 'switch_1:eth-3<->database_server:eth-1', 'switch_1:eth-4<->backup_server:eth-1', 'switch_1:eth-7<->security_suite:eth-1', 'switch_2:eth-1<->client_1:eth-1', 'switch_2:eth-2<->client_2:eth-1', 'switch_2:eth-7<->security_suite:eth-2']}}, {'type': 'NONE', 'label': 'ICS', 'options': {}}]}}\n"
     ]
    },
    {
     "name": "stderr",
     "output_type": "stream",
     "text": [
      "2024-04-08 14:59:27,224: Resetting environment, episode 323, avg. reward: -0.349999999999965\n",
      "2024-04-08 14:59:27,227: Saving agent action log to C:\\Users\\CharlieCrane\\primaite\\3.0.0b7\\sessions\\2024-04-08\\14-49-25\\agent_actions\\episode_323.json\n"
     ]
    },
    {
     "name": "stdout",
     "output_type": "stream",
     "text": [
      "{'type': 'CUSTOM', 'options': {'components': [{'type': 'NODES', 'label': 'NODES', 'options': {'hosts': [{'hostname': 'domain_controller'}, {'hostname': 'web_server', 'services': [{'service_name': 'WebServer'}]}, {'hostname': 'database_server', 'folders': [{'folder_name': 'database', 'files': [{'file_name': 'database.db'}]}]}, {'hostname': 'backup_server'}, {'hostname': 'security_suite'}, {'hostname': 'client_1'}, {'hostname': 'client_2'}], 'num_services': 1, 'num_applications': 0, 'num_folders': 1, 'num_files': 1, 'num_nics': 2, 'include_num_access': False, 'include_nmne': True, 'routers': [{'hostname': 'router_1'}], 'num_ports': 0, 'ip_list': ['192.168.1.10', '192.168.1.12', '192.168.1.14', '192.168.1.16', '192.168.1.110', '192.168.10.21', '192.168.10.22', '192.168.10.110'], 'wildcard_list': ['0.0.0.1'], 'port_list': [80, 5432], 'protocol_list': ['ICMP', 'TCP', 'UDP'], 'num_rules': 10}}, {'type': 'LINKS', 'label': 'LINKS', 'options': {'link_references': ['router_1:eth-1<->switch_1:eth-8', 'router_1:eth-2<->switch_2:eth-8', 'switch_1:eth-1<->domain_controller:eth-1', 'switch_1:eth-2<->web_server:eth-1', 'switch_1:eth-3<->database_server:eth-1', 'switch_1:eth-4<->backup_server:eth-1', 'switch_1:eth-7<->security_suite:eth-1', 'switch_2:eth-1<->client_1:eth-1', 'switch_2:eth-2<->client_2:eth-1', 'switch_2:eth-7<->security_suite:eth-2']}}, {'type': 'NONE', 'label': 'ICS', 'options': {}}]}}\n"
     ]
    },
    {
     "name": "stderr",
     "output_type": "stream",
     "text": [
      "2024-04-08 14:59:29,419: Resetting environment, episode 324, avg. reward: -42.45\n",
      "2024-04-08 14:59:29,423: Saving agent action log to C:\\Users\\CharlieCrane\\primaite\\3.0.0b7\\sessions\\2024-04-08\\14-49-25\\agent_actions\\episode_324.json\n"
     ]
    },
    {
     "name": "stdout",
     "output_type": "stream",
     "text": [
      "{'type': 'CUSTOM', 'options': {'components': [{'type': 'NODES', 'label': 'NODES', 'options': {'hosts': [{'hostname': 'domain_controller'}, {'hostname': 'web_server', 'services': [{'service_name': 'WebServer'}]}, {'hostname': 'database_server', 'folders': [{'folder_name': 'database', 'files': [{'file_name': 'database.db'}]}]}, {'hostname': 'backup_server'}, {'hostname': 'security_suite'}, {'hostname': 'client_1'}, {'hostname': 'client_2'}], 'num_services': 1, 'num_applications': 0, 'num_folders': 1, 'num_files': 1, 'num_nics': 2, 'include_num_access': False, 'include_nmne': True, 'routers': [{'hostname': 'router_1'}], 'num_ports': 0, 'ip_list': ['192.168.1.10', '192.168.1.12', '192.168.1.14', '192.168.1.16', '192.168.1.110', '192.168.10.21', '192.168.10.22', '192.168.10.110'], 'wildcard_list': ['0.0.0.1'], 'port_list': [80, 5432], 'protocol_list': ['ICMP', 'TCP', 'UDP'], 'num_rules': 10}}, {'type': 'LINKS', 'label': 'LINKS', 'options': {'link_references': ['router_1:eth-1<->switch_1:eth-8', 'router_1:eth-2<->switch_2:eth-8', 'switch_1:eth-1<->domain_controller:eth-1', 'switch_1:eth-2<->web_server:eth-1', 'switch_1:eth-3<->database_server:eth-1', 'switch_1:eth-4<->backup_server:eth-1', 'switch_1:eth-7<->security_suite:eth-1', 'switch_2:eth-1<->client_1:eth-1', 'switch_2:eth-2<->client_2:eth-1', 'switch_2:eth-7<->security_suite:eth-2']}}, {'type': 'NONE', 'label': 'ICS', 'options': {}}]}}\n"
     ]
    },
    {
     "name": "stderr",
     "output_type": "stream",
     "text": [
      "2024-04-08 14:59:31,350: Resetting environment, episode 325, avg. reward: -36.199999999999974\n",
      "2024-04-08 14:59:31,353: Saving agent action log to C:\\Users\\CharlieCrane\\primaite\\3.0.0b7\\sessions\\2024-04-08\\14-49-25\\agent_actions\\episode_325.json\n"
     ]
    },
    {
     "name": "stdout",
     "output_type": "stream",
     "text": [
      "{'type': 'CUSTOM', 'options': {'components': [{'type': 'NODES', 'label': 'NODES', 'options': {'hosts': [{'hostname': 'domain_controller'}, {'hostname': 'web_server', 'services': [{'service_name': 'WebServer'}]}, {'hostname': 'database_server', 'folders': [{'folder_name': 'database', 'files': [{'file_name': 'database.db'}]}]}, {'hostname': 'backup_server'}, {'hostname': 'security_suite'}, {'hostname': 'client_1'}, {'hostname': 'client_2'}], 'num_services': 1, 'num_applications': 0, 'num_folders': 1, 'num_files': 1, 'num_nics': 2, 'include_num_access': False, 'include_nmne': True, 'routers': [{'hostname': 'router_1'}], 'num_ports': 0, 'ip_list': ['192.168.1.10', '192.168.1.12', '192.168.1.14', '192.168.1.16', '192.168.1.110', '192.168.10.21', '192.168.10.22', '192.168.10.110'], 'wildcard_list': ['0.0.0.1'], 'port_list': [80, 5432], 'protocol_list': ['ICMP', 'TCP', 'UDP'], 'num_rules': 10}}, {'type': 'LINKS', 'label': 'LINKS', 'options': {'link_references': ['router_1:eth-1<->switch_1:eth-8', 'router_1:eth-2<->switch_2:eth-8', 'switch_1:eth-1<->domain_controller:eth-1', 'switch_1:eth-2<->web_server:eth-1', 'switch_1:eth-3<->database_server:eth-1', 'switch_1:eth-4<->backup_server:eth-1', 'switch_1:eth-7<->security_suite:eth-1', 'switch_2:eth-1<->client_1:eth-1', 'switch_2:eth-2<->client_2:eth-1', 'switch_2:eth-7<->security_suite:eth-2']}}, {'type': 'NONE', 'label': 'ICS', 'options': {}}]}}\n"
     ]
    },
    {
     "name": "stderr",
     "output_type": "stream",
     "text": [
      "2024-04-08 14:59:33,118: Resetting environment, episode 326, avg. reward: -27.699999999999996\n",
      "2024-04-08 14:59:33,120: Saving agent action log to C:\\Users\\CharlieCrane\\primaite\\3.0.0b7\\sessions\\2024-04-08\\14-49-25\\agent_actions\\episode_326.json\n"
     ]
    },
    {
     "name": "stdout",
     "output_type": "stream",
     "text": [
      "{'type': 'CUSTOM', 'options': {'components': [{'type': 'NODES', 'label': 'NODES', 'options': {'hosts': [{'hostname': 'domain_controller'}, {'hostname': 'web_server', 'services': [{'service_name': 'WebServer'}]}, {'hostname': 'database_server', 'folders': [{'folder_name': 'database', 'files': [{'file_name': 'database.db'}]}]}, {'hostname': 'backup_server'}, {'hostname': 'security_suite'}, {'hostname': 'client_1'}, {'hostname': 'client_2'}], 'num_services': 1, 'num_applications': 0, 'num_folders': 1, 'num_files': 1, 'num_nics': 2, 'include_num_access': False, 'include_nmne': True, 'routers': [{'hostname': 'router_1'}], 'num_ports': 0, 'ip_list': ['192.168.1.10', '192.168.1.12', '192.168.1.14', '192.168.1.16', '192.168.1.110', '192.168.10.21', '192.168.10.22', '192.168.10.110'], 'wildcard_list': ['0.0.0.1'], 'port_list': [80, 5432], 'protocol_list': ['ICMP', 'TCP', 'UDP'], 'num_rules': 10}}, {'type': 'LINKS', 'label': 'LINKS', 'options': {'link_references': ['router_1:eth-1<->switch_1:eth-8', 'router_1:eth-2<->switch_2:eth-8', 'switch_1:eth-1<->domain_controller:eth-1', 'switch_1:eth-2<->web_server:eth-1', 'switch_1:eth-3<->database_server:eth-1', 'switch_1:eth-4<->backup_server:eth-1', 'switch_1:eth-7<->security_suite:eth-1', 'switch_2:eth-1<->client_1:eth-1', 'switch_2:eth-2<->client_2:eth-1', 'switch_2:eth-7<->security_suite:eth-2']}}, {'type': 'NONE', 'label': 'ICS', 'options': {}}]}}\n"
     ]
    },
    {
     "name": "stderr",
     "output_type": "stream",
     "text": [
      "2024-04-08 14:59:35,352: Resetting environment, episode 327, avg. reward: 32.74999999999989\n",
      "2024-04-08 14:59:35,356: Saving agent action log to C:\\Users\\CharlieCrane\\primaite\\3.0.0b7\\sessions\\2024-04-08\\14-49-25\\agent_actions\\episode_327.json\n"
     ]
    },
    {
     "name": "stdout",
     "output_type": "stream",
     "text": [
      "{'type': 'CUSTOM', 'options': {'components': [{'type': 'NODES', 'label': 'NODES', 'options': {'hosts': [{'hostname': 'domain_controller'}, {'hostname': 'web_server', 'services': [{'service_name': 'WebServer'}]}, {'hostname': 'database_server', 'folders': [{'folder_name': 'database', 'files': [{'file_name': 'database.db'}]}]}, {'hostname': 'backup_server'}, {'hostname': 'security_suite'}, {'hostname': 'client_1'}, {'hostname': 'client_2'}], 'num_services': 1, 'num_applications': 0, 'num_folders': 1, 'num_files': 1, 'num_nics': 2, 'include_num_access': False, 'include_nmne': True, 'routers': [{'hostname': 'router_1'}], 'num_ports': 0, 'ip_list': ['192.168.1.10', '192.168.1.12', '192.168.1.14', '192.168.1.16', '192.168.1.110', '192.168.10.21', '192.168.10.22', '192.168.10.110'], 'wildcard_list': ['0.0.0.1'], 'port_list': [80, 5432], 'protocol_list': ['ICMP', 'TCP', 'UDP'], 'num_rules': 10}}, {'type': 'LINKS', 'label': 'LINKS', 'options': {'link_references': ['router_1:eth-1<->switch_1:eth-8', 'router_1:eth-2<->switch_2:eth-8', 'switch_1:eth-1<->domain_controller:eth-1', 'switch_1:eth-2<->web_server:eth-1', 'switch_1:eth-3<->database_server:eth-1', 'switch_1:eth-4<->backup_server:eth-1', 'switch_1:eth-7<->security_suite:eth-1', 'switch_2:eth-1<->client_1:eth-1', 'switch_2:eth-2<->client_2:eth-1', 'switch_2:eth-7<->security_suite:eth-2']}}, {'type': 'NONE', 'label': 'ICS', 'options': {}}]}}\n"
     ]
    },
    {
     "name": "stderr",
     "output_type": "stream",
     "text": [
      "2024-04-08 14:59:37,251: Resetting environment, episode 328, avg. reward: -16.34999999999998\n",
      "2024-04-08 14:59:37,254: Saving agent action log to C:\\Users\\CharlieCrane\\primaite\\3.0.0b7\\sessions\\2024-04-08\\14-49-25\\agent_actions\\episode_328.json\n"
     ]
    },
    {
     "name": "stdout",
     "output_type": "stream",
     "text": [
      "{'type': 'CUSTOM', 'options': {'components': [{'type': 'NODES', 'label': 'NODES', 'options': {'hosts': [{'hostname': 'domain_controller'}, {'hostname': 'web_server', 'services': [{'service_name': 'WebServer'}]}, {'hostname': 'database_server', 'folders': [{'folder_name': 'database', 'files': [{'file_name': 'database.db'}]}]}, {'hostname': 'backup_server'}, {'hostname': 'security_suite'}, {'hostname': 'client_1'}, {'hostname': 'client_2'}], 'num_services': 1, 'num_applications': 0, 'num_folders': 1, 'num_files': 1, 'num_nics': 2, 'include_num_access': False, 'include_nmne': True, 'routers': [{'hostname': 'router_1'}], 'num_ports': 0, 'ip_list': ['192.168.1.10', '192.168.1.12', '192.168.1.14', '192.168.1.16', '192.168.1.110', '192.168.10.21', '192.168.10.22', '192.168.10.110'], 'wildcard_list': ['0.0.0.1'], 'port_list': [80, 5432], 'protocol_list': ['ICMP', 'TCP', 'UDP'], 'num_rules': 10}}, {'type': 'LINKS', 'label': 'LINKS', 'options': {'link_references': ['router_1:eth-1<->switch_1:eth-8', 'router_1:eth-2<->switch_2:eth-8', 'switch_1:eth-1<->domain_controller:eth-1', 'switch_1:eth-2<->web_server:eth-1', 'switch_1:eth-3<->database_server:eth-1', 'switch_1:eth-4<->backup_server:eth-1', 'switch_1:eth-7<->security_suite:eth-1', 'switch_2:eth-1<->client_1:eth-1', 'switch_2:eth-2<->client_2:eth-1', 'switch_2:eth-7<->security_suite:eth-2']}}, {'type': 'NONE', 'label': 'ICS', 'options': {}}]}}\n"
     ]
    },
    {
     "name": "stderr",
     "output_type": "stream",
     "text": [
      "2024-04-08 14:59:39,253: Resetting environment, episode 329, avg. reward: -8.000000000000007\n",
      "2024-04-08 14:59:39,259: Saving agent action log to C:\\Users\\CharlieCrane\\primaite\\3.0.0b7\\sessions\\2024-04-08\\14-49-25\\agent_actions\\episode_329.json\n"
     ]
    },
    {
     "name": "stdout",
     "output_type": "stream",
     "text": [
      "{'type': 'CUSTOM', 'options': {'components': [{'type': 'NODES', 'label': 'NODES', 'options': {'hosts': [{'hostname': 'domain_controller'}, {'hostname': 'web_server', 'services': [{'service_name': 'WebServer'}]}, {'hostname': 'database_server', 'folders': [{'folder_name': 'database', 'files': [{'file_name': 'database.db'}]}]}, {'hostname': 'backup_server'}, {'hostname': 'security_suite'}, {'hostname': 'client_1'}, {'hostname': 'client_2'}], 'num_services': 1, 'num_applications': 0, 'num_folders': 1, 'num_files': 1, 'num_nics': 2, 'include_num_access': False, 'include_nmne': True, 'routers': [{'hostname': 'router_1'}], 'num_ports': 0, 'ip_list': ['192.168.1.10', '192.168.1.12', '192.168.1.14', '192.168.1.16', '192.168.1.110', '192.168.10.21', '192.168.10.22', '192.168.10.110'], 'wildcard_list': ['0.0.0.1'], 'port_list': [80, 5432], 'protocol_list': ['ICMP', 'TCP', 'UDP'], 'num_rules': 10}}, {'type': 'LINKS', 'label': 'LINKS', 'options': {'link_references': ['router_1:eth-1<->switch_1:eth-8', 'router_1:eth-2<->switch_2:eth-8', 'switch_1:eth-1<->domain_controller:eth-1', 'switch_1:eth-2<->web_server:eth-1', 'switch_1:eth-3<->database_server:eth-1', 'switch_1:eth-4<->backup_server:eth-1', 'switch_1:eth-7<->security_suite:eth-1', 'switch_2:eth-1<->client_1:eth-1', 'switch_2:eth-2<->client_2:eth-1', 'switch_2:eth-7<->security_suite:eth-2']}}, {'type': 'NONE', 'label': 'ICS', 'options': {}}]}}\n"
     ]
    },
    {
     "name": "stderr",
     "output_type": "stream",
     "text": [
      "2024-04-08 14:59:41,104: Resetting environment, episode 330, avg. reward: -78.60000000000001\n",
      "2024-04-08 14:59:41,107: Saving agent action log to C:\\Users\\CharlieCrane\\primaite\\3.0.0b7\\sessions\\2024-04-08\\14-49-25\\agent_actions\\episode_330.json\n"
     ]
    },
    {
     "name": "stdout",
     "output_type": "stream",
     "text": [
      "{'type': 'CUSTOM', 'options': {'components': [{'type': 'NODES', 'label': 'NODES', 'options': {'hosts': [{'hostname': 'domain_controller'}, {'hostname': 'web_server', 'services': [{'service_name': 'WebServer'}]}, {'hostname': 'database_server', 'folders': [{'folder_name': 'database', 'files': [{'file_name': 'database.db'}]}]}, {'hostname': 'backup_server'}, {'hostname': 'security_suite'}, {'hostname': 'client_1'}, {'hostname': 'client_2'}], 'num_services': 1, 'num_applications': 0, 'num_folders': 1, 'num_files': 1, 'num_nics': 2, 'include_num_access': False, 'include_nmne': True, 'routers': [{'hostname': 'router_1'}], 'num_ports': 0, 'ip_list': ['192.168.1.10', '192.168.1.12', '192.168.1.14', '192.168.1.16', '192.168.1.110', '192.168.10.21', '192.168.10.22', '192.168.10.110'], 'wildcard_list': ['0.0.0.1'], 'port_list': [80, 5432], 'protocol_list': ['ICMP', 'TCP', 'UDP'], 'num_rules': 10}}, {'type': 'LINKS', 'label': 'LINKS', 'options': {'link_references': ['router_1:eth-1<->switch_1:eth-8', 'router_1:eth-2<->switch_2:eth-8', 'switch_1:eth-1<->domain_controller:eth-1', 'switch_1:eth-2<->web_server:eth-1', 'switch_1:eth-3<->database_server:eth-1', 'switch_1:eth-4<->backup_server:eth-1', 'switch_1:eth-7<->security_suite:eth-1', 'switch_2:eth-1<->client_1:eth-1', 'switch_2:eth-2<->client_2:eth-1', 'switch_2:eth-7<->security_suite:eth-2']}}, {'type': 'NONE', 'label': 'ICS', 'options': {}}]}}\n"
     ]
    },
    {
     "name": "stderr",
     "output_type": "stream",
     "text": [
      "2024-04-08 14:59:43,172: Resetting environment, episode 331, avg. reward: 12.800000000000024\n",
      "2024-04-08 14:59:43,176: Saving agent action log to C:\\Users\\CharlieCrane\\primaite\\3.0.0b7\\sessions\\2024-04-08\\14-49-25\\agent_actions\\episode_331.json\n"
     ]
    },
    {
     "name": "stdout",
     "output_type": "stream",
     "text": [
      "{'type': 'CUSTOM', 'options': {'components': [{'type': 'NODES', 'label': 'NODES', 'options': {'hosts': [{'hostname': 'domain_controller'}, {'hostname': 'web_server', 'services': [{'service_name': 'WebServer'}]}, {'hostname': 'database_server', 'folders': [{'folder_name': 'database', 'files': [{'file_name': 'database.db'}]}]}, {'hostname': 'backup_server'}, {'hostname': 'security_suite'}, {'hostname': 'client_1'}, {'hostname': 'client_2'}], 'num_services': 1, 'num_applications': 0, 'num_folders': 1, 'num_files': 1, 'num_nics': 2, 'include_num_access': False, 'include_nmne': True, 'routers': [{'hostname': 'router_1'}], 'num_ports': 0, 'ip_list': ['192.168.1.10', '192.168.1.12', '192.168.1.14', '192.168.1.16', '192.168.1.110', '192.168.10.21', '192.168.10.22', '192.168.10.110'], 'wildcard_list': ['0.0.0.1'], 'port_list': [80, 5432], 'protocol_list': ['ICMP', 'TCP', 'UDP'], 'num_rules': 10}}, {'type': 'LINKS', 'label': 'LINKS', 'options': {'link_references': ['router_1:eth-1<->switch_1:eth-8', 'router_1:eth-2<->switch_2:eth-8', 'switch_1:eth-1<->domain_controller:eth-1', 'switch_1:eth-2<->web_server:eth-1', 'switch_1:eth-3<->database_server:eth-1', 'switch_1:eth-4<->backup_server:eth-1', 'switch_1:eth-7<->security_suite:eth-1', 'switch_2:eth-1<->client_1:eth-1', 'switch_2:eth-2<->client_2:eth-1', 'switch_2:eth-7<->security_suite:eth-2']}}, {'type': 'NONE', 'label': 'ICS', 'options': {}}]}}\n"
     ]
    },
    {
     "name": "stderr",
     "output_type": "stream",
     "text": [
      "2024-04-08 14:59:45,374: Resetting environment, episode 332, avg. reward: 13.349999999999932\n",
      "2024-04-08 14:59:45,378: Saving agent action log to C:\\Users\\CharlieCrane\\primaite\\3.0.0b7\\sessions\\2024-04-08\\14-49-25\\agent_actions\\episode_332.json\n"
     ]
    },
    {
     "name": "stdout",
     "output_type": "stream",
     "text": [
      "{'type': 'CUSTOM', 'options': {'components': [{'type': 'NODES', 'label': 'NODES', 'options': {'hosts': [{'hostname': 'domain_controller'}, {'hostname': 'web_server', 'services': [{'service_name': 'WebServer'}]}, {'hostname': 'database_server', 'folders': [{'folder_name': 'database', 'files': [{'file_name': 'database.db'}]}]}, {'hostname': 'backup_server'}, {'hostname': 'security_suite'}, {'hostname': 'client_1'}, {'hostname': 'client_2'}], 'num_services': 1, 'num_applications': 0, 'num_folders': 1, 'num_files': 1, 'num_nics': 2, 'include_num_access': False, 'include_nmne': True, 'routers': [{'hostname': 'router_1'}], 'num_ports': 0, 'ip_list': ['192.168.1.10', '192.168.1.12', '192.168.1.14', '192.168.1.16', '192.168.1.110', '192.168.10.21', '192.168.10.22', '192.168.10.110'], 'wildcard_list': ['0.0.0.1'], 'port_list': [80, 5432], 'protocol_list': ['ICMP', 'TCP', 'UDP'], 'num_rules': 10}}, {'type': 'LINKS', 'label': 'LINKS', 'options': {'link_references': ['router_1:eth-1<->switch_1:eth-8', 'router_1:eth-2<->switch_2:eth-8', 'switch_1:eth-1<->domain_controller:eth-1', 'switch_1:eth-2<->web_server:eth-1', 'switch_1:eth-3<->database_server:eth-1', 'switch_1:eth-4<->backup_server:eth-1', 'switch_1:eth-7<->security_suite:eth-1', 'switch_2:eth-1<->client_1:eth-1', 'switch_2:eth-2<->client_2:eth-1', 'switch_2:eth-7<->security_suite:eth-2']}}, {'type': 'NONE', 'label': 'ICS', 'options': {}}]}}\n"
     ]
    },
    {
     "name": "stderr",
     "output_type": "stream",
     "text": [
      "2024-04-08 14:59:47,299: Resetting environment, episode 333, avg. reward: -69.95000000000005\n",
      "2024-04-08 14:59:47,302: Saving agent action log to C:\\Users\\CharlieCrane\\primaite\\3.0.0b7\\sessions\\2024-04-08\\14-49-25\\agent_actions\\episode_333.json\n"
     ]
    },
    {
     "name": "stdout",
     "output_type": "stream",
     "text": [
      "{'type': 'CUSTOM', 'options': {'components': [{'type': 'NODES', 'label': 'NODES', 'options': {'hosts': [{'hostname': 'domain_controller'}, {'hostname': 'web_server', 'services': [{'service_name': 'WebServer'}]}, {'hostname': 'database_server', 'folders': [{'folder_name': 'database', 'files': [{'file_name': 'database.db'}]}]}, {'hostname': 'backup_server'}, {'hostname': 'security_suite'}, {'hostname': 'client_1'}, {'hostname': 'client_2'}], 'num_services': 1, 'num_applications': 0, 'num_folders': 1, 'num_files': 1, 'num_nics': 2, 'include_num_access': False, 'include_nmne': True, 'routers': [{'hostname': 'router_1'}], 'num_ports': 0, 'ip_list': ['192.168.1.10', '192.168.1.12', '192.168.1.14', '192.168.1.16', '192.168.1.110', '192.168.10.21', '192.168.10.22', '192.168.10.110'], 'wildcard_list': ['0.0.0.1'], 'port_list': [80, 5432], 'protocol_list': ['ICMP', 'TCP', 'UDP'], 'num_rules': 10}}, {'type': 'LINKS', 'label': 'LINKS', 'options': {'link_references': ['router_1:eth-1<->switch_1:eth-8', 'router_1:eth-2<->switch_2:eth-8', 'switch_1:eth-1<->domain_controller:eth-1', 'switch_1:eth-2<->web_server:eth-1', 'switch_1:eth-3<->database_server:eth-1', 'switch_1:eth-4<->backup_server:eth-1', 'switch_1:eth-7<->security_suite:eth-1', 'switch_2:eth-1<->client_1:eth-1', 'switch_2:eth-2<->client_2:eth-1', 'switch_2:eth-7<->security_suite:eth-2']}}, {'type': 'NONE', 'label': 'ICS', 'options': {}}]}}\n"
     ]
    },
    {
     "name": "stderr",
     "output_type": "stream",
     "text": [
      "2024-04-08 14:59:49,565: Resetting environment, episode 334, avg. reward: -88.9000000000001\n",
      "2024-04-08 14:59:49,568: Saving agent action log to C:\\Users\\CharlieCrane\\primaite\\3.0.0b7\\sessions\\2024-04-08\\14-49-25\\agent_actions\\episode_334.json\n"
     ]
    },
    {
     "name": "stdout",
     "output_type": "stream",
     "text": [
      "{'type': 'CUSTOM', 'options': {'components': [{'type': 'NODES', 'label': 'NODES', 'options': {'hosts': [{'hostname': 'domain_controller'}, {'hostname': 'web_server', 'services': [{'service_name': 'WebServer'}]}, {'hostname': 'database_server', 'folders': [{'folder_name': 'database', 'files': [{'file_name': 'database.db'}]}]}, {'hostname': 'backup_server'}, {'hostname': 'security_suite'}, {'hostname': 'client_1'}, {'hostname': 'client_2'}], 'num_services': 1, 'num_applications': 0, 'num_folders': 1, 'num_files': 1, 'num_nics': 2, 'include_num_access': False, 'include_nmne': True, 'routers': [{'hostname': 'router_1'}], 'num_ports': 0, 'ip_list': ['192.168.1.10', '192.168.1.12', '192.168.1.14', '192.168.1.16', '192.168.1.110', '192.168.10.21', '192.168.10.22', '192.168.10.110'], 'wildcard_list': ['0.0.0.1'], 'port_list': [80, 5432], 'protocol_list': ['ICMP', 'TCP', 'UDP'], 'num_rules': 10}}, {'type': 'LINKS', 'label': 'LINKS', 'options': {'link_references': ['router_1:eth-1<->switch_1:eth-8', 'router_1:eth-2<->switch_2:eth-8', 'switch_1:eth-1<->domain_controller:eth-1', 'switch_1:eth-2<->web_server:eth-1', 'switch_1:eth-3<->database_server:eth-1', 'switch_1:eth-4<->backup_server:eth-1', 'switch_1:eth-7<->security_suite:eth-1', 'switch_2:eth-1<->client_1:eth-1', 'switch_2:eth-2<->client_2:eth-1', 'switch_2:eth-7<->security_suite:eth-2']}}, {'type': 'NONE', 'label': 'ICS', 'options': {}}]}}\n"
     ]
    },
    {
     "name": "stderr",
     "output_type": "stream",
     "text": [
      "2024-04-08 14:59:51,919: Resetting environment, episode 335, avg. reward: -53.49999999999996\n",
      "2024-04-08 14:59:51,919: Saving agent action log to C:\\Users\\CharlieCrane\\primaite\\3.0.0b7\\sessions\\2024-04-08\\14-49-25\\agent_actions\\episode_335.json\n"
     ]
    },
    {
     "name": "stdout",
     "output_type": "stream",
     "text": [
      "{'type': 'CUSTOM', 'options': {'components': [{'type': 'NODES', 'label': 'NODES', 'options': {'hosts': [{'hostname': 'domain_controller'}, {'hostname': 'web_server', 'services': [{'service_name': 'WebServer'}]}, {'hostname': 'database_server', 'folders': [{'folder_name': 'database', 'files': [{'file_name': 'database.db'}]}]}, {'hostname': 'backup_server'}, {'hostname': 'security_suite'}, {'hostname': 'client_1'}, {'hostname': 'client_2'}], 'num_services': 1, 'num_applications': 0, 'num_folders': 1, 'num_files': 1, 'num_nics': 2, 'include_num_access': False, 'include_nmne': True, 'routers': [{'hostname': 'router_1'}], 'num_ports': 0, 'ip_list': ['192.168.1.10', '192.168.1.12', '192.168.1.14', '192.168.1.16', '192.168.1.110', '192.168.10.21', '192.168.10.22', '192.168.10.110'], 'wildcard_list': ['0.0.0.1'], 'port_list': [80, 5432], 'protocol_list': ['ICMP', 'TCP', 'UDP'], 'num_rules': 10}}, {'type': 'LINKS', 'label': 'LINKS', 'options': {'link_references': ['router_1:eth-1<->switch_1:eth-8', 'router_1:eth-2<->switch_2:eth-8', 'switch_1:eth-1<->domain_controller:eth-1', 'switch_1:eth-2<->web_server:eth-1', 'switch_1:eth-3<->database_server:eth-1', 'switch_1:eth-4<->backup_server:eth-1', 'switch_1:eth-7<->security_suite:eth-1', 'switch_2:eth-1<->client_1:eth-1', 'switch_2:eth-2<->client_2:eth-1', 'switch_2:eth-7<->security_suite:eth-2']}}, {'type': 'NONE', 'label': 'ICS', 'options': {}}]}}\n"
     ]
    },
    {
     "name": "stderr",
     "output_type": "stream",
     "text": [
      "2024-04-08 14:59:54,398: Resetting environment, episode 336, avg. reward: -76.90000000000008\n",
      "2024-04-08 14:59:54,401: Saving agent action log to C:\\Users\\CharlieCrane\\primaite\\3.0.0b7\\sessions\\2024-04-08\\14-49-25\\agent_actions\\episode_336.json\n"
     ]
    },
    {
     "name": "stdout",
     "output_type": "stream",
     "text": [
      "{'type': 'CUSTOM', 'options': {'components': [{'type': 'NODES', 'label': 'NODES', 'options': {'hosts': [{'hostname': 'domain_controller'}, {'hostname': 'web_server', 'services': [{'service_name': 'WebServer'}]}, {'hostname': 'database_server', 'folders': [{'folder_name': 'database', 'files': [{'file_name': 'database.db'}]}]}, {'hostname': 'backup_server'}, {'hostname': 'security_suite'}, {'hostname': 'client_1'}, {'hostname': 'client_2'}], 'num_services': 1, 'num_applications': 0, 'num_folders': 1, 'num_files': 1, 'num_nics': 2, 'include_num_access': False, 'include_nmne': True, 'routers': [{'hostname': 'router_1'}], 'num_ports': 0, 'ip_list': ['192.168.1.10', '192.168.1.12', '192.168.1.14', '192.168.1.16', '192.168.1.110', '192.168.10.21', '192.168.10.22', '192.168.10.110'], 'wildcard_list': ['0.0.0.1'], 'port_list': [80, 5432], 'protocol_list': ['ICMP', 'TCP', 'UDP'], 'num_rules': 10}}, {'type': 'LINKS', 'label': 'LINKS', 'options': {'link_references': ['router_1:eth-1<->switch_1:eth-8', 'router_1:eth-2<->switch_2:eth-8', 'switch_1:eth-1<->domain_controller:eth-1', 'switch_1:eth-2<->web_server:eth-1', 'switch_1:eth-3<->database_server:eth-1', 'switch_1:eth-4<->backup_server:eth-1', 'switch_1:eth-7<->security_suite:eth-1', 'switch_2:eth-1<->client_1:eth-1', 'switch_2:eth-2<->client_2:eth-1', 'switch_2:eth-7<->security_suite:eth-2']}}, {'type': 'NONE', 'label': 'ICS', 'options': {}}]}}\n"
     ]
    },
    {
     "name": "stderr",
     "output_type": "stream",
     "text": [
      "2024-04-08 14:59:56,196: Resetting environment, episode 337, avg. reward: -43.799999999999955\n",
      "2024-04-08 14:59:56,199: Saving agent action log to C:\\Users\\CharlieCrane\\primaite\\3.0.0b7\\sessions\\2024-04-08\\14-49-25\\agent_actions\\episode_337.json\n"
     ]
    },
    {
     "name": "stdout",
     "output_type": "stream",
     "text": [
      "{'type': 'CUSTOM', 'options': {'components': [{'type': 'NODES', 'label': 'NODES', 'options': {'hosts': [{'hostname': 'domain_controller'}, {'hostname': 'web_server', 'services': [{'service_name': 'WebServer'}]}, {'hostname': 'database_server', 'folders': [{'folder_name': 'database', 'files': [{'file_name': 'database.db'}]}]}, {'hostname': 'backup_server'}, {'hostname': 'security_suite'}, {'hostname': 'client_1'}, {'hostname': 'client_2'}], 'num_services': 1, 'num_applications': 0, 'num_folders': 1, 'num_files': 1, 'num_nics': 2, 'include_num_access': False, 'include_nmne': True, 'routers': [{'hostname': 'router_1'}], 'num_ports': 0, 'ip_list': ['192.168.1.10', '192.168.1.12', '192.168.1.14', '192.168.1.16', '192.168.1.110', '192.168.10.21', '192.168.10.22', '192.168.10.110'], 'wildcard_list': ['0.0.0.1'], 'port_list': [80, 5432], 'protocol_list': ['ICMP', 'TCP', 'UDP'], 'num_rules': 10}}, {'type': 'LINKS', 'label': 'LINKS', 'options': {'link_references': ['router_1:eth-1<->switch_1:eth-8', 'router_1:eth-2<->switch_2:eth-8', 'switch_1:eth-1<->domain_controller:eth-1', 'switch_1:eth-2<->web_server:eth-1', 'switch_1:eth-3<->database_server:eth-1', 'switch_1:eth-4<->backup_server:eth-1', 'switch_1:eth-7<->security_suite:eth-1', 'switch_2:eth-1<->client_1:eth-1', 'switch_2:eth-2<->client_2:eth-1', 'switch_2:eth-7<->security_suite:eth-2']}}, {'type': 'NONE', 'label': 'ICS', 'options': {}}]}}\n"
     ]
    },
    {
     "name": "stderr",
     "output_type": "stream",
     "text": [
      "2024-04-08 14:59:57,848: Resetting environment, episode 338, avg. reward: -12.200000000000006\n",
      "2024-04-08 14:59:57,852: Saving agent action log to C:\\Users\\CharlieCrane\\primaite\\3.0.0b7\\sessions\\2024-04-08\\14-49-25\\agent_actions\\episode_338.json\n"
     ]
    },
    {
     "name": "stdout",
     "output_type": "stream",
     "text": [
      "{'type': 'CUSTOM', 'options': {'components': [{'type': 'NODES', 'label': 'NODES', 'options': {'hosts': [{'hostname': 'domain_controller'}, {'hostname': 'web_server', 'services': [{'service_name': 'WebServer'}]}, {'hostname': 'database_server', 'folders': [{'folder_name': 'database', 'files': [{'file_name': 'database.db'}]}]}, {'hostname': 'backup_server'}, {'hostname': 'security_suite'}, {'hostname': 'client_1'}, {'hostname': 'client_2'}], 'num_services': 1, 'num_applications': 0, 'num_folders': 1, 'num_files': 1, 'num_nics': 2, 'include_num_access': False, 'include_nmne': True, 'routers': [{'hostname': 'router_1'}], 'num_ports': 0, 'ip_list': ['192.168.1.10', '192.168.1.12', '192.168.1.14', '192.168.1.16', '192.168.1.110', '192.168.10.21', '192.168.10.22', '192.168.10.110'], 'wildcard_list': ['0.0.0.1'], 'port_list': [80, 5432], 'protocol_list': ['ICMP', 'TCP', 'UDP'], 'num_rules': 10}}, {'type': 'LINKS', 'label': 'LINKS', 'options': {'link_references': ['router_1:eth-1<->switch_1:eth-8', 'router_1:eth-2<->switch_2:eth-8', 'switch_1:eth-1<->domain_controller:eth-1', 'switch_1:eth-2<->web_server:eth-1', 'switch_1:eth-3<->database_server:eth-1', 'switch_1:eth-4<->backup_server:eth-1', 'switch_1:eth-7<->security_suite:eth-1', 'switch_2:eth-1<->client_1:eth-1', 'switch_2:eth-2<->client_2:eth-1', 'switch_2:eth-7<->security_suite:eth-2']}}, {'type': 'NONE', 'label': 'ICS', 'options': {}}]}}\n"
     ]
    },
    {
     "name": "stderr",
     "output_type": "stream",
     "text": [
      "2024-04-08 14:59:59,546: Resetting environment, episode 339, avg. reward: -12.549999999999985\n",
      "2024-04-08 14:59:59,550: Saving agent action log to C:\\Users\\CharlieCrane\\primaite\\3.0.0b7\\sessions\\2024-04-08\\14-49-25\\agent_actions\\episode_339.json\n"
     ]
    },
    {
     "name": "stdout",
     "output_type": "stream",
     "text": [
      "{'type': 'CUSTOM', 'options': {'components': [{'type': 'NODES', 'label': 'NODES', 'options': {'hosts': [{'hostname': 'domain_controller'}, {'hostname': 'web_server', 'services': [{'service_name': 'WebServer'}]}, {'hostname': 'database_server', 'folders': [{'folder_name': 'database', 'files': [{'file_name': 'database.db'}]}]}, {'hostname': 'backup_server'}, {'hostname': 'security_suite'}, {'hostname': 'client_1'}, {'hostname': 'client_2'}], 'num_services': 1, 'num_applications': 0, 'num_folders': 1, 'num_files': 1, 'num_nics': 2, 'include_num_access': False, 'include_nmne': True, 'routers': [{'hostname': 'router_1'}], 'num_ports': 0, 'ip_list': ['192.168.1.10', '192.168.1.12', '192.168.1.14', '192.168.1.16', '192.168.1.110', '192.168.10.21', '192.168.10.22', '192.168.10.110'], 'wildcard_list': ['0.0.0.1'], 'port_list': [80, 5432], 'protocol_list': ['ICMP', 'TCP', 'UDP'], 'num_rules': 10}}, {'type': 'LINKS', 'label': 'LINKS', 'options': {'link_references': ['router_1:eth-1<->switch_1:eth-8', 'router_1:eth-2<->switch_2:eth-8', 'switch_1:eth-1<->domain_controller:eth-1', 'switch_1:eth-2<->web_server:eth-1', 'switch_1:eth-3<->database_server:eth-1', 'switch_1:eth-4<->backup_server:eth-1', 'switch_1:eth-7<->security_suite:eth-1', 'switch_2:eth-1<->client_1:eth-1', 'switch_2:eth-2<->client_2:eth-1', 'switch_2:eth-7<->security_suite:eth-2']}}, {'type': 'NONE', 'label': 'ICS', 'options': {}}]}}\n"
     ]
    },
    {
     "name": "stderr",
     "output_type": "stream",
     "text": [
      "2024-04-08 15:00:01,249: Resetting environment, episode 340, avg. reward: -72.65\n",
      "2024-04-08 15:00:01,252: Saving agent action log to C:\\Users\\CharlieCrane\\primaite\\3.0.0b7\\sessions\\2024-04-08\\14-49-25\\agent_actions\\episode_340.json\n"
     ]
    },
    {
     "name": "stdout",
     "output_type": "stream",
     "text": [
      "{'type': 'CUSTOM', 'options': {'components': [{'type': 'NODES', 'label': 'NODES', 'options': {'hosts': [{'hostname': 'domain_controller'}, {'hostname': 'web_server', 'services': [{'service_name': 'WebServer'}]}, {'hostname': 'database_server', 'folders': [{'folder_name': 'database', 'files': [{'file_name': 'database.db'}]}]}, {'hostname': 'backup_server'}, {'hostname': 'security_suite'}, {'hostname': 'client_1'}, {'hostname': 'client_2'}], 'num_services': 1, 'num_applications': 0, 'num_folders': 1, 'num_files': 1, 'num_nics': 2, 'include_num_access': False, 'include_nmne': True, 'routers': [{'hostname': 'router_1'}], 'num_ports': 0, 'ip_list': ['192.168.1.10', '192.168.1.12', '192.168.1.14', '192.168.1.16', '192.168.1.110', '192.168.10.21', '192.168.10.22', '192.168.10.110'], 'wildcard_list': ['0.0.0.1'], 'port_list': [80, 5432], 'protocol_list': ['ICMP', 'TCP', 'UDP'], 'num_rules': 10}}, {'type': 'LINKS', 'label': 'LINKS', 'options': {'link_references': ['router_1:eth-1<->switch_1:eth-8', 'router_1:eth-2<->switch_2:eth-8', 'switch_1:eth-1<->domain_controller:eth-1', 'switch_1:eth-2<->web_server:eth-1', 'switch_1:eth-3<->database_server:eth-1', 'switch_1:eth-4<->backup_server:eth-1', 'switch_1:eth-7<->security_suite:eth-1', 'switch_2:eth-1<->client_1:eth-1', 'switch_2:eth-2<->client_2:eth-1', 'switch_2:eth-7<->security_suite:eth-2']}}, {'type': 'NONE', 'label': 'ICS', 'options': {}}]}}\n"
     ]
    },
    {
     "name": "stderr",
     "output_type": "stream",
     "text": [
      "2024-04-08 15:00:03,211: Resetting environment, episode 341, avg. reward: -84.65000000000006\n",
      "2024-04-08 15:00:03,214: Saving agent action log to C:\\Users\\CharlieCrane\\primaite\\3.0.0b7\\sessions\\2024-04-08\\14-49-25\\agent_actions\\episode_341.json\n"
     ]
    },
    {
     "name": "stdout",
     "output_type": "stream",
     "text": [
      "{'type': 'CUSTOM', 'options': {'components': [{'type': 'NODES', 'label': 'NODES', 'options': {'hosts': [{'hostname': 'domain_controller'}, {'hostname': 'web_server', 'services': [{'service_name': 'WebServer'}]}, {'hostname': 'database_server', 'folders': [{'folder_name': 'database', 'files': [{'file_name': 'database.db'}]}]}, {'hostname': 'backup_server'}, {'hostname': 'security_suite'}, {'hostname': 'client_1'}, {'hostname': 'client_2'}], 'num_services': 1, 'num_applications': 0, 'num_folders': 1, 'num_files': 1, 'num_nics': 2, 'include_num_access': False, 'include_nmne': True, 'routers': [{'hostname': 'router_1'}], 'num_ports': 0, 'ip_list': ['192.168.1.10', '192.168.1.12', '192.168.1.14', '192.168.1.16', '192.168.1.110', '192.168.10.21', '192.168.10.22', '192.168.10.110'], 'wildcard_list': ['0.0.0.1'], 'port_list': [80, 5432], 'protocol_list': ['ICMP', 'TCP', 'UDP'], 'num_rules': 10}}, {'type': 'LINKS', 'label': 'LINKS', 'options': {'link_references': ['router_1:eth-1<->switch_1:eth-8', 'router_1:eth-2<->switch_2:eth-8', 'switch_1:eth-1<->domain_controller:eth-1', 'switch_1:eth-2<->web_server:eth-1', 'switch_1:eth-3<->database_server:eth-1', 'switch_1:eth-4<->backup_server:eth-1', 'switch_1:eth-7<->security_suite:eth-1', 'switch_2:eth-1<->client_1:eth-1', 'switch_2:eth-2<->client_2:eth-1', 'switch_2:eth-7<->security_suite:eth-2']}}, {'type': 'NONE', 'label': 'ICS', 'options': {}}]}}\n"
     ]
    },
    {
     "name": "stderr",
     "output_type": "stream",
     "text": [
      "2024-04-08 15:00:04,902: Resetting environment, episode 342, avg. reward: -88.64999999999998\n",
      "2024-04-08 15:00:04,905: Saving agent action log to C:\\Users\\CharlieCrane\\primaite\\3.0.0b7\\sessions\\2024-04-08\\14-49-25\\agent_actions\\episode_342.json\n"
     ]
    },
    {
     "name": "stdout",
     "output_type": "stream",
     "text": [
      "{'type': 'CUSTOM', 'options': {'components': [{'type': 'NODES', 'label': 'NODES', 'options': {'hosts': [{'hostname': 'domain_controller'}, {'hostname': 'web_server', 'services': [{'service_name': 'WebServer'}]}, {'hostname': 'database_server', 'folders': [{'folder_name': 'database', 'files': [{'file_name': 'database.db'}]}]}, {'hostname': 'backup_server'}, {'hostname': 'security_suite'}, {'hostname': 'client_1'}, {'hostname': 'client_2'}], 'num_services': 1, 'num_applications': 0, 'num_folders': 1, 'num_files': 1, 'num_nics': 2, 'include_num_access': False, 'include_nmne': True, 'routers': [{'hostname': 'router_1'}], 'num_ports': 0, 'ip_list': ['192.168.1.10', '192.168.1.12', '192.168.1.14', '192.168.1.16', '192.168.1.110', '192.168.10.21', '192.168.10.22', '192.168.10.110'], 'wildcard_list': ['0.0.0.1'], 'port_list': [80, 5432], 'protocol_list': ['ICMP', 'TCP', 'UDP'], 'num_rules': 10}}, {'type': 'LINKS', 'label': 'LINKS', 'options': {'link_references': ['router_1:eth-1<->switch_1:eth-8', 'router_1:eth-2<->switch_2:eth-8', 'switch_1:eth-1<->domain_controller:eth-1', 'switch_1:eth-2<->web_server:eth-1', 'switch_1:eth-3<->database_server:eth-1', 'switch_1:eth-4<->backup_server:eth-1', 'switch_1:eth-7<->security_suite:eth-1', 'switch_2:eth-1<->client_1:eth-1', 'switch_2:eth-2<->client_2:eth-1', 'switch_2:eth-7<->security_suite:eth-2']}}, {'type': 'NONE', 'label': 'ICS', 'options': {}}]}}\n"
     ]
    },
    {
     "name": "stderr",
     "output_type": "stream",
     "text": [
      "2024-04-08 15:00:06,894: Resetting environment, episode 343, avg. reward: 37.34999999999988\n",
      "2024-04-08 15:00:06,898: Saving agent action log to C:\\Users\\CharlieCrane\\primaite\\3.0.0b7\\sessions\\2024-04-08\\14-49-25\\agent_actions\\episode_343.json\n"
     ]
    },
    {
     "name": "stdout",
     "output_type": "stream",
     "text": [
      "{'type': 'CUSTOM', 'options': {'components': [{'type': 'NODES', 'label': 'NODES', 'options': {'hosts': [{'hostname': 'domain_controller'}, {'hostname': 'web_server', 'services': [{'service_name': 'WebServer'}]}, {'hostname': 'database_server', 'folders': [{'folder_name': 'database', 'files': [{'file_name': 'database.db'}]}]}, {'hostname': 'backup_server'}, {'hostname': 'security_suite'}, {'hostname': 'client_1'}, {'hostname': 'client_2'}], 'num_services': 1, 'num_applications': 0, 'num_folders': 1, 'num_files': 1, 'num_nics': 2, 'include_num_access': False, 'include_nmne': True, 'routers': [{'hostname': 'router_1'}], 'num_ports': 0, 'ip_list': ['192.168.1.10', '192.168.1.12', '192.168.1.14', '192.168.1.16', '192.168.1.110', '192.168.10.21', '192.168.10.22', '192.168.10.110'], 'wildcard_list': ['0.0.0.1'], 'port_list': [80, 5432], 'protocol_list': ['ICMP', 'TCP', 'UDP'], 'num_rules': 10}}, {'type': 'LINKS', 'label': 'LINKS', 'options': {'link_references': ['router_1:eth-1<->switch_1:eth-8', 'router_1:eth-2<->switch_2:eth-8', 'switch_1:eth-1<->domain_controller:eth-1', 'switch_1:eth-2<->web_server:eth-1', 'switch_1:eth-3<->database_server:eth-1', 'switch_1:eth-4<->backup_server:eth-1', 'switch_1:eth-7<->security_suite:eth-1', 'switch_2:eth-1<->client_1:eth-1', 'switch_2:eth-2<->client_2:eth-1', 'switch_2:eth-7<->security_suite:eth-2']}}, {'type': 'NONE', 'label': 'ICS', 'options': {}}]}}\n"
     ]
    },
    {
     "name": "stderr",
     "output_type": "stream",
     "text": [
      "2024-04-08 15:00:08,548: Resetting environment, episode 344, avg. reward: -95.5\n",
      "2024-04-08 15:00:08,551: Saving agent action log to C:\\Users\\CharlieCrane\\primaite\\3.0.0b7\\sessions\\2024-04-08\\14-49-25\\agent_actions\\episode_344.json\n"
     ]
    },
    {
     "name": "stdout",
     "output_type": "stream",
     "text": [
      "{'type': 'CUSTOM', 'options': {'components': [{'type': 'NODES', 'label': 'NODES', 'options': {'hosts': [{'hostname': 'domain_controller'}, {'hostname': 'web_server', 'services': [{'service_name': 'WebServer'}]}, {'hostname': 'database_server', 'folders': [{'folder_name': 'database', 'files': [{'file_name': 'database.db'}]}]}, {'hostname': 'backup_server'}, {'hostname': 'security_suite'}, {'hostname': 'client_1'}, {'hostname': 'client_2'}], 'num_services': 1, 'num_applications': 0, 'num_folders': 1, 'num_files': 1, 'num_nics': 2, 'include_num_access': False, 'include_nmne': True, 'routers': [{'hostname': 'router_1'}], 'num_ports': 0, 'ip_list': ['192.168.1.10', '192.168.1.12', '192.168.1.14', '192.168.1.16', '192.168.1.110', '192.168.10.21', '192.168.10.22', '192.168.10.110'], 'wildcard_list': ['0.0.0.1'], 'port_list': [80, 5432], 'protocol_list': ['ICMP', 'TCP', 'UDP'], 'num_rules': 10}}, {'type': 'LINKS', 'label': 'LINKS', 'options': {'link_references': ['router_1:eth-1<->switch_1:eth-8', 'router_1:eth-2<->switch_2:eth-8', 'switch_1:eth-1<->domain_controller:eth-1', 'switch_1:eth-2<->web_server:eth-1', 'switch_1:eth-3<->database_server:eth-1', 'switch_1:eth-4<->backup_server:eth-1', 'switch_1:eth-7<->security_suite:eth-1', 'switch_2:eth-1<->client_1:eth-1', 'switch_2:eth-2<->client_2:eth-1', 'switch_2:eth-7<->security_suite:eth-2']}}, {'type': 'NONE', 'label': 'ICS', 'options': {}}]}}\n"
     ]
    },
    {
     "name": "stderr",
     "output_type": "stream",
     "text": [
      "2024-04-08 15:00:10,369: Resetting environment, episode 345, avg. reward: -98.44999999999996\n",
      "2024-04-08 15:00:10,372: Saving agent action log to C:\\Users\\CharlieCrane\\primaite\\3.0.0b7\\sessions\\2024-04-08\\14-49-25\\agent_actions\\episode_345.json\n"
     ]
    },
    {
     "name": "stdout",
     "output_type": "stream",
     "text": [
      "{'type': 'CUSTOM', 'options': {'components': [{'type': 'NODES', 'label': 'NODES', 'options': {'hosts': [{'hostname': 'domain_controller'}, {'hostname': 'web_server', 'services': [{'service_name': 'WebServer'}]}, {'hostname': 'database_server', 'folders': [{'folder_name': 'database', 'files': [{'file_name': 'database.db'}]}]}, {'hostname': 'backup_server'}, {'hostname': 'security_suite'}, {'hostname': 'client_1'}, {'hostname': 'client_2'}], 'num_services': 1, 'num_applications': 0, 'num_folders': 1, 'num_files': 1, 'num_nics': 2, 'include_num_access': False, 'include_nmne': True, 'routers': [{'hostname': 'router_1'}], 'num_ports': 0, 'ip_list': ['192.168.1.10', '192.168.1.12', '192.168.1.14', '192.168.1.16', '192.168.1.110', '192.168.10.21', '192.168.10.22', '192.168.10.110'], 'wildcard_list': ['0.0.0.1'], 'port_list': [80, 5432], 'protocol_list': ['ICMP', 'TCP', 'UDP'], 'num_rules': 10}}, {'type': 'LINKS', 'label': 'LINKS', 'options': {'link_references': ['router_1:eth-1<->switch_1:eth-8', 'router_1:eth-2<->switch_2:eth-8', 'switch_1:eth-1<->domain_controller:eth-1', 'switch_1:eth-2<->web_server:eth-1', 'switch_1:eth-3<->database_server:eth-1', 'switch_1:eth-4<->backup_server:eth-1', 'switch_1:eth-7<->security_suite:eth-1', 'switch_2:eth-1<->client_1:eth-1', 'switch_2:eth-2<->client_2:eth-1', 'switch_2:eth-7<->security_suite:eth-2']}}, {'type': 'NONE', 'label': 'ICS', 'options': {}}]}}\n"
     ]
    },
    {
     "name": "stderr",
     "output_type": "stream",
     "text": [
      "2024-04-08 15:00:12,514: Resetting environment, episode 346, avg. reward: -4.499999999999958\n",
      "2024-04-08 15:00:12,517: Saving agent action log to C:\\Users\\CharlieCrane\\primaite\\3.0.0b7\\sessions\\2024-04-08\\14-49-25\\agent_actions\\episode_346.json\n"
     ]
    },
    {
     "name": "stdout",
     "output_type": "stream",
     "text": [
      "{'type': 'CUSTOM', 'options': {'components': [{'type': 'NODES', 'label': 'NODES', 'options': {'hosts': [{'hostname': 'domain_controller'}, {'hostname': 'web_server', 'services': [{'service_name': 'WebServer'}]}, {'hostname': 'database_server', 'folders': [{'folder_name': 'database', 'files': [{'file_name': 'database.db'}]}]}, {'hostname': 'backup_server'}, {'hostname': 'security_suite'}, {'hostname': 'client_1'}, {'hostname': 'client_2'}], 'num_services': 1, 'num_applications': 0, 'num_folders': 1, 'num_files': 1, 'num_nics': 2, 'include_num_access': False, 'include_nmne': True, 'routers': [{'hostname': 'router_1'}], 'num_ports': 0, 'ip_list': ['192.168.1.10', '192.168.1.12', '192.168.1.14', '192.168.1.16', '192.168.1.110', '192.168.10.21', '192.168.10.22', '192.168.10.110'], 'wildcard_list': ['0.0.0.1'], 'port_list': [80, 5432], 'protocol_list': ['ICMP', 'TCP', 'UDP'], 'num_rules': 10}}, {'type': 'LINKS', 'label': 'LINKS', 'options': {'link_references': ['router_1:eth-1<->switch_1:eth-8', 'router_1:eth-2<->switch_2:eth-8', 'switch_1:eth-1<->domain_controller:eth-1', 'switch_1:eth-2<->web_server:eth-1', 'switch_1:eth-3<->database_server:eth-1', 'switch_1:eth-4<->backup_server:eth-1', 'switch_1:eth-7<->security_suite:eth-1', 'switch_2:eth-1<->client_1:eth-1', 'switch_2:eth-2<->client_2:eth-1', 'switch_2:eth-7<->security_suite:eth-2']}}, {'type': 'NONE', 'label': 'ICS', 'options': {}}]}}\n"
     ]
    },
    {
     "name": "stderr",
     "output_type": "stream",
     "text": [
      "2024-04-08 15:00:14,791: Resetting environment, episode 347, avg. reward: -35.90000000000002\n",
      "2024-04-08 15:00:14,795: Saving agent action log to C:\\Users\\CharlieCrane\\primaite\\3.0.0b7\\sessions\\2024-04-08\\14-49-25\\agent_actions\\episode_347.json\n"
     ]
    },
    {
     "name": "stdout",
     "output_type": "stream",
     "text": [
      "{'type': 'CUSTOM', 'options': {'components': [{'type': 'NODES', 'label': 'NODES', 'options': {'hosts': [{'hostname': 'domain_controller'}, {'hostname': 'web_server', 'services': [{'service_name': 'WebServer'}]}, {'hostname': 'database_server', 'folders': [{'folder_name': 'database', 'files': [{'file_name': 'database.db'}]}]}, {'hostname': 'backup_server'}, {'hostname': 'security_suite'}, {'hostname': 'client_1'}, {'hostname': 'client_2'}], 'num_services': 1, 'num_applications': 0, 'num_folders': 1, 'num_files': 1, 'num_nics': 2, 'include_num_access': False, 'include_nmne': True, 'routers': [{'hostname': 'router_1'}], 'num_ports': 0, 'ip_list': ['192.168.1.10', '192.168.1.12', '192.168.1.14', '192.168.1.16', '192.168.1.110', '192.168.10.21', '192.168.10.22', '192.168.10.110'], 'wildcard_list': ['0.0.0.1'], 'port_list': [80, 5432], 'protocol_list': ['ICMP', 'TCP', 'UDP'], 'num_rules': 10}}, {'type': 'LINKS', 'label': 'LINKS', 'options': {'link_references': ['router_1:eth-1<->switch_1:eth-8', 'router_1:eth-2<->switch_2:eth-8', 'switch_1:eth-1<->domain_controller:eth-1', 'switch_1:eth-2<->web_server:eth-1', 'switch_1:eth-3<->database_server:eth-1', 'switch_1:eth-4<->backup_server:eth-1', 'switch_1:eth-7<->security_suite:eth-1', 'switch_2:eth-1<->client_1:eth-1', 'switch_2:eth-2<->client_2:eth-1', 'switch_2:eth-7<->security_suite:eth-2']}}, {'type': 'NONE', 'label': 'ICS', 'options': {}}]}}\n"
     ]
    },
    {
     "name": "stderr",
     "output_type": "stream",
     "text": [
      "2024-04-08 15:00:17,226: Resetting environment, episode 348, avg. reward: 12.30000000000003\n",
      "2024-04-08 15:00:17,230: Saving agent action log to C:\\Users\\CharlieCrane\\primaite\\3.0.0b7\\sessions\\2024-04-08\\14-49-25\\agent_actions\\episode_348.json\n"
     ]
    },
    {
     "name": "stdout",
     "output_type": "stream",
     "text": [
      "{'type': 'CUSTOM', 'options': {'components': [{'type': 'NODES', 'label': 'NODES', 'options': {'hosts': [{'hostname': 'domain_controller'}, {'hostname': 'web_server', 'services': [{'service_name': 'WebServer'}]}, {'hostname': 'database_server', 'folders': [{'folder_name': 'database', 'files': [{'file_name': 'database.db'}]}]}, {'hostname': 'backup_server'}, {'hostname': 'security_suite'}, {'hostname': 'client_1'}, {'hostname': 'client_2'}], 'num_services': 1, 'num_applications': 0, 'num_folders': 1, 'num_files': 1, 'num_nics': 2, 'include_num_access': False, 'include_nmne': True, 'routers': [{'hostname': 'router_1'}], 'num_ports': 0, 'ip_list': ['192.168.1.10', '192.168.1.12', '192.168.1.14', '192.168.1.16', '192.168.1.110', '192.168.10.21', '192.168.10.22', '192.168.10.110'], 'wildcard_list': ['0.0.0.1'], 'port_list': [80, 5432], 'protocol_list': ['ICMP', 'TCP', 'UDP'], 'num_rules': 10}}, {'type': 'LINKS', 'label': 'LINKS', 'options': {'link_references': ['router_1:eth-1<->switch_1:eth-8', 'router_1:eth-2<->switch_2:eth-8', 'switch_1:eth-1<->domain_controller:eth-1', 'switch_1:eth-2<->web_server:eth-1', 'switch_1:eth-3<->database_server:eth-1', 'switch_1:eth-4<->backup_server:eth-1', 'switch_1:eth-7<->security_suite:eth-1', 'switch_2:eth-1<->client_1:eth-1', 'switch_2:eth-2<->client_2:eth-1', 'switch_2:eth-7<->security_suite:eth-2']}}, {'type': 'NONE', 'label': 'ICS', 'options': {}}]}}\n"
     ]
    },
    {
     "name": "stderr",
     "output_type": "stream",
     "text": [
      "2024-04-08 15:00:18,972: Resetting environment, episode 349, avg. reward: -11.299999999999983\n",
      "2024-04-08 15:00:18,972: Saving agent action log to C:\\Users\\CharlieCrane\\primaite\\3.0.0b7\\sessions\\2024-04-08\\14-49-25\\agent_actions\\episode_349.json\n"
     ]
    },
    {
     "name": "stdout",
     "output_type": "stream",
     "text": [
      "{'type': 'CUSTOM', 'options': {'components': [{'type': 'NODES', 'label': 'NODES', 'options': {'hosts': [{'hostname': 'domain_controller'}, {'hostname': 'web_server', 'services': [{'service_name': 'WebServer'}]}, {'hostname': 'database_server', 'folders': [{'folder_name': 'database', 'files': [{'file_name': 'database.db'}]}]}, {'hostname': 'backup_server'}, {'hostname': 'security_suite'}, {'hostname': 'client_1'}, {'hostname': 'client_2'}], 'num_services': 1, 'num_applications': 0, 'num_folders': 1, 'num_files': 1, 'num_nics': 2, 'include_num_access': False, 'include_nmne': True, 'routers': [{'hostname': 'router_1'}], 'num_ports': 0, 'ip_list': ['192.168.1.10', '192.168.1.12', '192.168.1.14', '192.168.1.16', '192.168.1.110', '192.168.10.21', '192.168.10.22', '192.168.10.110'], 'wildcard_list': ['0.0.0.1'], 'port_list': [80, 5432], 'protocol_list': ['ICMP', 'TCP', 'UDP'], 'num_rules': 10}}, {'type': 'LINKS', 'label': 'LINKS', 'options': {'link_references': ['router_1:eth-1<->switch_1:eth-8', 'router_1:eth-2<->switch_2:eth-8', 'switch_1:eth-1<->domain_controller:eth-1', 'switch_1:eth-2<->web_server:eth-1', 'switch_1:eth-3<->database_server:eth-1', 'switch_1:eth-4<->backup_server:eth-1', 'switch_1:eth-7<->security_suite:eth-1', 'switch_2:eth-1<->client_1:eth-1', 'switch_2:eth-2<->client_2:eth-1', 'switch_2:eth-7<->security_suite:eth-2']}}, {'type': 'NONE', 'label': 'ICS', 'options': {}}]}}\n"
     ]
    },
    {
     "name": "stderr",
     "output_type": "stream",
     "text": [
      "2024-04-08 15:00:20,959: Resetting environment, episode 350, avg. reward: -70.59999999999997\n",
      "2024-04-08 15:00:20,962: Saving agent action log to C:\\Users\\CharlieCrane\\primaite\\3.0.0b7\\sessions\\2024-04-08\\14-49-25\\agent_actions\\episode_350.json\n"
     ]
    },
    {
     "name": "stdout",
     "output_type": "stream",
     "text": [
      "{'type': 'CUSTOM', 'options': {'components': [{'type': 'NODES', 'label': 'NODES', 'options': {'hosts': [{'hostname': 'domain_controller'}, {'hostname': 'web_server', 'services': [{'service_name': 'WebServer'}]}, {'hostname': 'database_server', 'folders': [{'folder_name': 'database', 'files': [{'file_name': 'database.db'}]}]}, {'hostname': 'backup_server'}, {'hostname': 'security_suite'}, {'hostname': 'client_1'}, {'hostname': 'client_2'}], 'num_services': 1, 'num_applications': 0, 'num_folders': 1, 'num_files': 1, 'num_nics': 2, 'include_num_access': False, 'include_nmne': True, 'routers': [{'hostname': 'router_1'}], 'num_ports': 0, 'ip_list': ['192.168.1.10', '192.168.1.12', '192.168.1.14', '192.168.1.16', '192.168.1.110', '192.168.10.21', '192.168.10.22', '192.168.10.110'], 'wildcard_list': ['0.0.0.1'], 'port_list': [80, 5432], 'protocol_list': ['ICMP', 'TCP', 'UDP'], 'num_rules': 10}}, {'type': 'LINKS', 'label': 'LINKS', 'options': {'link_references': ['router_1:eth-1<->switch_1:eth-8', 'router_1:eth-2<->switch_2:eth-8', 'switch_1:eth-1<->domain_controller:eth-1', 'switch_1:eth-2<->web_server:eth-1', 'switch_1:eth-3<->database_server:eth-1', 'switch_1:eth-4<->backup_server:eth-1', 'switch_1:eth-7<->security_suite:eth-1', 'switch_2:eth-1<->client_1:eth-1', 'switch_2:eth-2<->client_2:eth-1', 'switch_2:eth-7<->security_suite:eth-2']}}, {'type': 'NONE', 'label': 'ICS', 'options': {}}]}}\n"
     ]
    },
    {
     "name": "stderr",
     "output_type": "stream",
     "text": [
      "2024-04-08 15:00:22,880: Resetting environment, episode 351, avg. reward: -20.44999999999996\n",
      "2024-04-08 15:00:22,883: Saving agent action log to C:\\Users\\CharlieCrane\\primaite\\3.0.0b7\\sessions\\2024-04-08\\14-49-25\\agent_actions\\episode_351.json\n"
     ]
    },
    {
     "name": "stdout",
     "output_type": "stream",
     "text": [
      "{'type': 'CUSTOM', 'options': {'components': [{'type': 'NODES', 'label': 'NODES', 'options': {'hosts': [{'hostname': 'domain_controller'}, {'hostname': 'web_server', 'services': [{'service_name': 'WebServer'}]}, {'hostname': 'database_server', 'folders': [{'folder_name': 'database', 'files': [{'file_name': 'database.db'}]}]}, {'hostname': 'backup_server'}, {'hostname': 'security_suite'}, {'hostname': 'client_1'}, {'hostname': 'client_2'}], 'num_services': 1, 'num_applications': 0, 'num_folders': 1, 'num_files': 1, 'num_nics': 2, 'include_num_access': False, 'include_nmne': True, 'routers': [{'hostname': 'router_1'}], 'num_ports': 0, 'ip_list': ['192.168.1.10', '192.168.1.12', '192.168.1.14', '192.168.1.16', '192.168.1.110', '192.168.10.21', '192.168.10.22', '192.168.10.110'], 'wildcard_list': ['0.0.0.1'], 'port_list': [80, 5432], 'protocol_list': ['ICMP', 'TCP', 'UDP'], 'num_rules': 10}}, {'type': 'LINKS', 'label': 'LINKS', 'options': {'link_references': ['router_1:eth-1<->switch_1:eth-8', 'router_1:eth-2<->switch_2:eth-8', 'switch_1:eth-1<->domain_controller:eth-1', 'switch_1:eth-2<->web_server:eth-1', 'switch_1:eth-3<->database_server:eth-1', 'switch_1:eth-4<->backup_server:eth-1', 'switch_1:eth-7<->security_suite:eth-1', 'switch_2:eth-1<->client_1:eth-1', 'switch_2:eth-2<->client_2:eth-1', 'switch_2:eth-7<->security_suite:eth-2']}}, {'type': 'NONE', 'label': 'ICS', 'options': {}}]}}\n"
     ]
    },
    {
     "name": "stderr",
     "output_type": "stream",
     "text": [
      "2024-04-08 15:00:24,645: Resetting environment, episode 352, avg. reward: 27.44999999999996\n",
      "2024-04-08 15:00:24,649: Saving agent action log to C:\\Users\\CharlieCrane\\primaite\\3.0.0b7\\sessions\\2024-04-08\\14-49-25\\agent_actions\\episode_352.json\n"
     ]
    },
    {
     "name": "stdout",
     "output_type": "stream",
     "text": [
      "{'type': 'CUSTOM', 'options': {'components': [{'type': 'NODES', 'label': 'NODES', 'options': {'hosts': [{'hostname': 'domain_controller'}, {'hostname': 'web_server', 'services': [{'service_name': 'WebServer'}]}, {'hostname': 'database_server', 'folders': [{'folder_name': 'database', 'files': [{'file_name': 'database.db'}]}]}, {'hostname': 'backup_server'}, {'hostname': 'security_suite'}, {'hostname': 'client_1'}, {'hostname': 'client_2'}], 'num_services': 1, 'num_applications': 0, 'num_folders': 1, 'num_files': 1, 'num_nics': 2, 'include_num_access': False, 'include_nmne': True, 'routers': [{'hostname': 'router_1'}], 'num_ports': 0, 'ip_list': ['192.168.1.10', '192.168.1.12', '192.168.1.14', '192.168.1.16', '192.168.1.110', '192.168.10.21', '192.168.10.22', '192.168.10.110'], 'wildcard_list': ['0.0.0.1'], 'port_list': [80, 5432], 'protocol_list': ['ICMP', 'TCP', 'UDP'], 'num_rules': 10}}, {'type': 'LINKS', 'label': 'LINKS', 'options': {'link_references': ['router_1:eth-1<->switch_1:eth-8', 'router_1:eth-2<->switch_2:eth-8', 'switch_1:eth-1<->domain_controller:eth-1', 'switch_1:eth-2<->web_server:eth-1', 'switch_1:eth-3<->database_server:eth-1', 'switch_1:eth-4<->backup_server:eth-1', 'switch_1:eth-7<->security_suite:eth-1', 'switch_2:eth-1<->client_1:eth-1', 'switch_2:eth-2<->client_2:eth-1', 'switch_2:eth-7<->security_suite:eth-2']}}, {'type': 'NONE', 'label': 'ICS', 'options': {}}]}}\n"
     ]
    },
    {
     "name": "stderr",
     "output_type": "stream",
     "text": [
      "2024-04-08 15:00:26,468: Resetting environment, episode 353, avg. reward: 9.349999999999948\n",
      "2024-04-08 15:00:26,470: Saving agent action log to C:\\Users\\CharlieCrane\\primaite\\3.0.0b7\\sessions\\2024-04-08\\14-49-25\\agent_actions\\episode_353.json\n"
     ]
    },
    {
     "name": "stdout",
     "output_type": "stream",
     "text": [
      "{'type': 'CUSTOM', 'options': {'components': [{'type': 'NODES', 'label': 'NODES', 'options': {'hosts': [{'hostname': 'domain_controller'}, {'hostname': 'web_server', 'services': [{'service_name': 'WebServer'}]}, {'hostname': 'database_server', 'folders': [{'folder_name': 'database', 'files': [{'file_name': 'database.db'}]}]}, {'hostname': 'backup_server'}, {'hostname': 'security_suite'}, {'hostname': 'client_1'}, {'hostname': 'client_2'}], 'num_services': 1, 'num_applications': 0, 'num_folders': 1, 'num_files': 1, 'num_nics': 2, 'include_num_access': False, 'include_nmne': True, 'routers': [{'hostname': 'router_1'}], 'num_ports': 0, 'ip_list': ['192.168.1.10', '192.168.1.12', '192.168.1.14', '192.168.1.16', '192.168.1.110', '192.168.10.21', '192.168.10.22', '192.168.10.110'], 'wildcard_list': ['0.0.0.1'], 'port_list': [80, 5432], 'protocol_list': ['ICMP', 'TCP', 'UDP'], 'num_rules': 10}}, {'type': 'LINKS', 'label': 'LINKS', 'options': {'link_references': ['router_1:eth-1<->switch_1:eth-8', 'router_1:eth-2<->switch_2:eth-8', 'switch_1:eth-1<->domain_controller:eth-1', 'switch_1:eth-2<->web_server:eth-1', 'switch_1:eth-3<->database_server:eth-1', 'switch_1:eth-4<->backup_server:eth-1', 'switch_1:eth-7<->security_suite:eth-1', 'switch_2:eth-1<->client_1:eth-1', 'switch_2:eth-2<->client_2:eth-1', 'switch_2:eth-7<->security_suite:eth-2']}}, {'type': 'NONE', 'label': 'ICS', 'options': {}}]}}\n"
     ]
    },
    {
     "name": "stderr",
     "output_type": "stream",
     "text": [
      "2024-04-08 15:00:28,268: Resetting environment, episode 354, avg. reward: -71.55\n",
      "2024-04-08 15:00:28,271: Saving agent action log to C:\\Users\\CharlieCrane\\primaite\\3.0.0b7\\sessions\\2024-04-08\\14-49-25\\agent_actions\\episode_354.json\n"
     ]
    },
    {
     "name": "stdout",
     "output_type": "stream",
     "text": [
      "{'type': 'CUSTOM', 'options': {'components': [{'type': 'NODES', 'label': 'NODES', 'options': {'hosts': [{'hostname': 'domain_controller'}, {'hostname': 'web_server', 'services': [{'service_name': 'WebServer'}]}, {'hostname': 'database_server', 'folders': [{'folder_name': 'database', 'files': [{'file_name': 'database.db'}]}]}, {'hostname': 'backup_server'}, {'hostname': 'security_suite'}, {'hostname': 'client_1'}, {'hostname': 'client_2'}], 'num_services': 1, 'num_applications': 0, 'num_folders': 1, 'num_files': 1, 'num_nics': 2, 'include_num_access': False, 'include_nmne': True, 'routers': [{'hostname': 'router_1'}], 'num_ports': 0, 'ip_list': ['192.168.1.10', '192.168.1.12', '192.168.1.14', '192.168.1.16', '192.168.1.110', '192.168.10.21', '192.168.10.22', '192.168.10.110'], 'wildcard_list': ['0.0.0.1'], 'port_list': [80, 5432], 'protocol_list': ['ICMP', 'TCP', 'UDP'], 'num_rules': 10}}, {'type': 'LINKS', 'label': 'LINKS', 'options': {'link_references': ['router_1:eth-1<->switch_1:eth-8', 'router_1:eth-2<->switch_2:eth-8', 'switch_1:eth-1<->domain_controller:eth-1', 'switch_1:eth-2<->web_server:eth-1', 'switch_1:eth-3<->database_server:eth-1', 'switch_1:eth-4<->backup_server:eth-1', 'switch_1:eth-7<->security_suite:eth-1', 'switch_2:eth-1<->client_1:eth-1', 'switch_2:eth-2<->client_2:eth-1', 'switch_2:eth-7<->security_suite:eth-2']}}, {'type': 'NONE', 'label': 'ICS', 'options': {}}]}}\n"
     ]
    },
    {
     "name": "stderr",
     "output_type": "stream",
     "text": [
      "2024-04-08 15:00:29,968: Resetting environment, episode 355, avg. reward: -7.849999999999993\n",
      "2024-04-08 15:00:29,972: Saving agent action log to C:\\Users\\CharlieCrane\\primaite\\3.0.0b7\\sessions\\2024-04-08\\14-49-25\\agent_actions\\episode_355.json\n"
     ]
    },
    {
     "name": "stdout",
     "output_type": "stream",
     "text": [
      "{'type': 'CUSTOM', 'options': {'components': [{'type': 'NODES', 'label': 'NODES', 'options': {'hosts': [{'hostname': 'domain_controller'}, {'hostname': 'web_server', 'services': [{'service_name': 'WebServer'}]}, {'hostname': 'database_server', 'folders': [{'folder_name': 'database', 'files': [{'file_name': 'database.db'}]}]}, {'hostname': 'backup_server'}, {'hostname': 'security_suite'}, {'hostname': 'client_1'}, {'hostname': 'client_2'}], 'num_services': 1, 'num_applications': 0, 'num_folders': 1, 'num_files': 1, 'num_nics': 2, 'include_num_access': False, 'include_nmne': True, 'routers': [{'hostname': 'router_1'}], 'num_ports': 0, 'ip_list': ['192.168.1.10', '192.168.1.12', '192.168.1.14', '192.168.1.16', '192.168.1.110', '192.168.10.21', '192.168.10.22', '192.168.10.110'], 'wildcard_list': ['0.0.0.1'], 'port_list': [80, 5432], 'protocol_list': ['ICMP', 'TCP', 'UDP'], 'num_rules': 10}}, {'type': 'LINKS', 'label': 'LINKS', 'options': {'link_references': ['router_1:eth-1<->switch_1:eth-8', 'router_1:eth-2<->switch_2:eth-8', 'switch_1:eth-1<->domain_controller:eth-1', 'switch_1:eth-2<->web_server:eth-1', 'switch_1:eth-3<->database_server:eth-1', 'switch_1:eth-4<->backup_server:eth-1', 'switch_1:eth-7<->security_suite:eth-1', 'switch_2:eth-1<->client_1:eth-1', 'switch_2:eth-2<->client_2:eth-1', 'switch_2:eth-7<->security_suite:eth-2']}}, {'type': 'NONE', 'label': 'ICS', 'options': {}}]}}\n"
     ]
    },
    {
     "name": "stderr",
     "output_type": "stream",
     "text": [
      "2024-04-08 15:00:31,672: Resetting environment, episode 356, avg. reward: -58.14999999999992\n",
      "2024-04-08 15:00:31,676: Saving agent action log to C:\\Users\\CharlieCrane\\primaite\\3.0.0b7\\sessions\\2024-04-08\\14-49-25\\agent_actions\\episode_356.json\n"
     ]
    },
    {
     "name": "stdout",
     "output_type": "stream",
     "text": [
      "{'type': 'CUSTOM', 'options': {'components': [{'type': 'NODES', 'label': 'NODES', 'options': {'hosts': [{'hostname': 'domain_controller'}, {'hostname': 'web_server', 'services': [{'service_name': 'WebServer'}]}, {'hostname': 'database_server', 'folders': [{'folder_name': 'database', 'files': [{'file_name': 'database.db'}]}]}, {'hostname': 'backup_server'}, {'hostname': 'security_suite'}, {'hostname': 'client_1'}, {'hostname': 'client_2'}], 'num_services': 1, 'num_applications': 0, 'num_folders': 1, 'num_files': 1, 'num_nics': 2, 'include_num_access': False, 'include_nmne': True, 'routers': [{'hostname': 'router_1'}], 'num_ports': 0, 'ip_list': ['192.168.1.10', '192.168.1.12', '192.168.1.14', '192.168.1.16', '192.168.1.110', '192.168.10.21', '192.168.10.22', '192.168.10.110'], 'wildcard_list': ['0.0.0.1'], 'port_list': [80, 5432], 'protocol_list': ['ICMP', 'TCP', 'UDP'], 'num_rules': 10}}, {'type': 'LINKS', 'label': 'LINKS', 'options': {'link_references': ['router_1:eth-1<->switch_1:eth-8', 'router_1:eth-2<->switch_2:eth-8', 'switch_1:eth-1<->domain_controller:eth-1', 'switch_1:eth-2<->web_server:eth-1', 'switch_1:eth-3<->database_server:eth-1', 'switch_1:eth-4<->backup_server:eth-1', 'switch_1:eth-7<->security_suite:eth-1', 'switch_2:eth-1<->client_1:eth-1', 'switch_2:eth-2<->client_2:eth-1', 'switch_2:eth-7<->security_suite:eth-2']}}, {'type': 'NONE', 'label': 'ICS', 'options': {}}]}}\n"
     ]
    },
    {
     "name": "stderr",
     "output_type": "stream",
     "text": [
      "2024-04-08 15:00:33,599: Resetting environment, episode 357, avg. reward: 21.54999999999989\n",
      "2024-04-08 15:00:33,602: Saving agent action log to C:\\Users\\CharlieCrane\\primaite\\3.0.0b7\\sessions\\2024-04-08\\14-49-25\\agent_actions\\episode_357.json\n"
     ]
    },
    {
     "name": "stdout",
     "output_type": "stream",
     "text": [
      "{'type': 'CUSTOM', 'options': {'components': [{'type': 'NODES', 'label': 'NODES', 'options': {'hosts': [{'hostname': 'domain_controller'}, {'hostname': 'web_server', 'services': [{'service_name': 'WebServer'}]}, {'hostname': 'database_server', 'folders': [{'folder_name': 'database', 'files': [{'file_name': 'database.db'}]}]}, {'hostname': 'backup_server'}, {'hostname': 'security_suite'}, {'hostname': 'client_1'}, {'hostname': 'client_2'}], 'num_services': 1, 'num_applications': 0, 'num_folders': 1, 'num_files': 1, 'num_nics': 2, 'include_num_access': False, 'include_nmne': True, 'routers': [{'hostname': 'router_1'}], 'num_ports': 0, 'ip_list': ['192.168.1.10', '192.168.1.12', '192.168.1.14', '192.168.1.16', '192.168.1.110', '192.168.10.21', '192.168.10.22', '192.168.10.110'], 'wildcard_list': ['0.0.0.1'], 'port_list': [80, 5432], 'protocol_list': ['ICMP', 'TCP', 'UDP'], 'num_rules': 10}}, {'type': 'LINKS', 'label': 'LINKS', 'options': {'link_references': ['router_1:eth-1<->switch_1:eth-8', 'router_1:eth-2<->switch_2:eth-8', 'switch_1:eth-1<->domain_controller:eth-1', 'switch_1:eth-2<->web_server:eth-1', 'switch_1:eth-3<->database_server:eth-1', 'switch_1:eth-4<->backup_server:eth-1', 'switch_1:eth-7<->security_suite:eth-1', 'switch_2:eth-1<->client_1:eth-1', 'switch_2:eth-2<->client_2:eth-1', 'switch_2:eth-7<->security_suite:eth-2']}}, {'type': 'NONE', 'label': 'ICS', 'options': {}}]}}\n"
     ]
    },
    {
     "name": "stderr",
     "output_type": "stream",
     "text": [
      "2024-04-08 15:00:35,524: Resetting environment, episode 358, avg. reward: 10.350000000000037\n",
      "2024-04-08 15:00:35,533: Saving agent action log to C:\\Users\\CharlieCrane\\primaite\\3.0.0b7\\sessions\\2024-04-08\\14-49-25\\agent_actions\\episode_358.json\n"
     ]
    },
    {
     "name": "stdout",
     "output_type": "stream",
     "text": [
      "{'type': 'CUSTOM', 'options': {'components': [{'type': 'NODES', 'label': 'NODES', 'options': {'hosts': [{'hostname': 'domain_controller'}, {'hostname': 'web_server', 'services': [{'service_name': 'WebServer'}]}, {'hostname': 'database_server', 'folders': [{'folder_name': 'database', 'files': [{'file_name': 'database.db'}]}]}, {'hostname': 'backup_server'}, {'hostname': 'security_suite'}, {'hostname': 'client_1'}, {'hostname': 'client_2'}], 'num_services': 1, 'num_applications': 0, 'num_folders': 1, 'num_files': 1, 'num_nics': 2, 'include_num_access': False, 'include_nmne': True, 'routers': [{'hostname': 'router_1'}], 'num_ports': 0, 'ip_list': ['192.168.1.10', '192.168.1.12', '192.168.1.14', '192.168.1.16', '192.168.1.110', '192.168.10.21', '192.168.10.22', '192.168.10.110'], 'wildcard_list': ['0.0.0.1'], 'port_list': [80, 5432], 'protocol_list': ['ICMP', 'TCP', 'UDP'], 'num_rules': 10}}, {'type': 'LINKS', 'label': 'LINKS', 'options': {'link_references': ['router_1:eth-1<->switch_1:eth-8', 'router_1:eth-2<->switch_2:eth-8', 'switch_1:eth-1<->domain_controller:eth-1', 'switch_1:eth-2<->web_server:eth-1', 'switch_1:eth-3<->database_server:eth-1', 'switch_1:eth-4<->backup_server:eth-1', 'switch_1:eth-7<->security_suite:eth-1', 'switch_2:eth-1<->client_1:eth-1', 'switch_2:eth-2<->client_2:eth-1', 'switch_2:eth-7<->security_suite:eth-2']}}, {'type': 'NONE', 'label': 'ICS', 'options': {}}]}}\n"
     ]
    },
    {
     "name": "stderr",
     "output_type": "stream",
     "text": [
      "2024-04-08 15:00:37,442: Resetting environment, episode 359, avg. reward: 12.749999999999961\n",
      "2024-04-08 15:00:37,446: Saving agent action log to C:\\Users\\CharlieCrane\\primaite\\3.0.0b7\\sessions\\2024-04-08\\14-49-25\\agent_actions\\episode_359.json\n"
     ]
    },
    {
     "name": "stdout",
     "output_type": "stream",
     "text": [
      "{'type': 'CUSTOM', 'options': {'components': [{'type': 'NODES', 'label': 'NODES', 'options': {'hosts': [{'hostname': 'domain_controller'}, {'hostname': 'web_server', 'services': [{'service_name': 'WebServer'}]}, {'hostname': 'database_server', 'folders': [{'folder_name': 'database', 'files': [{'file_name': 'database.db'}]}]}, {'hostname': 'backup_server'}, {'hostname': 'security_suite'}, {'hostname': 'client_1'}, {'hostname': 'client_2'}], 'num_services': 1, 'num_applications': 0, 'num_folders': 1, 'num_files': 1, 'num_nics': 2, 'include_num_access': False, 'include_nmne': True, 'routers': [{'hostname': 'router_1'}], 'num_ports': 0, 'ip_list': ['192.168.1.10', '192.168.1.12', '192.168.1.14', '192.168.1.16', '192.168.1.110', '192.168.10.21', '192.168.10.22', '192.168.10.110'], 'wildcard_list': ['0.0.0.1'], 'port_list': [80, 5432], 'protocol_list': ['ICMP', 'TCP', 'UDP'], 'num_rules': 10}}, {'type': 'LINKS', 'label': 'LINKS', 'options': {'link_references': ['router_1:eth-1<->switch_1:eth-8', 'router_1:eth-2<->switch_2:eth-8', 'switch_1:eth-1<->domain_controller:eth-1', 'switch_1:eth-2<->web_server:eth-1', 'switch_1:eth-3<->database_server:eth-1', 'switch_1:eth-4<->backup_server:eth-1', 'switch_1:eth-7<->security_suite:eth-1', 'switch_2:eth-1<->client_1:eth-1', 'switch_2:eth-2<->client_2:eth-1', 'switch_2:eth-7<->security_suite:eth-2']}}, {'type': 'NONE', 'label': 'ICS', 'options': {}}]}}\n"
     ]
    },
    {
     "name": "stderr",
     "output_type": "stream",
     "text": [
      "2024-04-08 15:00:39,754: Resetting environment, episode 360, avg. reward: 26.849999999999863\n",
      "2024-04-08 15:00:39,758: Saving agent action log to C:\\Users\\CharlieCrane\\primaite\\3.0.0b7\\sessions\\2024-04-08\\14-49-25\\agent_actions\\episode_360.json\n"
     ]
    },
    {
     "name": "stdout",
     "output_type": "stream",
     "text": [
      "{'type': 'CUSTOM', 'options': {'components': [{'type': 'NODES', 'label': 'NODES', 'options': {'hosts': [{'hostname': 'domain_controller'}, {'hostname': 'web_server', 'services': [{'service_name': 'WebServer'}]}, {'hostname': 'database_server', 'folders': [{'folder_name': 'database', 'files': [{'file_name': 'database.db'}]}]}, {'hostname': 'backup_server'}, {'hostname': 'security_suite'}, {'hostname': 'client_1'}, {'hostname': 'client_2'}], 'num_services': 1, 'num_applications': 0, 'num_folders': 1, 'num_files': 1, 'num_nics': 2, 'include_num_access': False, 'include_nmne': True, 'routers': [{'hostname': 'router_1'}], 'num_ports': 0, 'ip_list': ['192.168.1.10', '192.168.1.12', '192.168.1.14', '192.168.1.16', '192.168.1.110', '192.168.10.21', '192.168.10.22', '192.168.10.110'], 'wildcard_list': ['0.0.0.1'], 'port_list': [80, 5432], 'protocol_list': ['ICMP', 'TCP', 'UDP'], 'num_rules': 10}}, {'type': 'LINKS', 'label': 'LINKS', 'options': {'link_references': ['router_1:eth-1<->switch_1:eth-8', 'router_1:eth-2<->switch_2:eth-8', 'switch_1:eth-1<->domain_controller:eth-1', 'switch_1:eth-2<->web_server:eth-1', 'switch_1:eth-3<->database_server:eth-1', 'switch_1:eth-4<->backup_server:eth-1', 'switch_1:eth-7<->security_suite:eth-1', 'switch_2:eth-1<->client_1:eth-1', 'switch_2:eth-2<->client_2:eth-1', 'switch_2:eth-7<->security_suite:eth-2']}}, {'type': 'NONE', 'label': 'ICS', 'options': {}}]}}\n"
     ]
    },
    {
     "name": "stderr",
     "output_type": "stream",
     "text": [
      "2024-04-08 15:00:42,148: Resetting environment, episode 361, avg. reward: 1.9500000000000377\n",
      "2024-04-08 15:00:42,152: Saving agent action log to C:\\Users\\CharlieCrane\\primaite\\3.0.0b7\\sessions\\2024-04-08\\14-49-25\\agent_actions\\episode_361.json\n"
     ]
    },
    {
     "name": "stdout",
     "output_type": "stream",
     "text": [
      "{'type': 'CUSTOM', 'options': {'components': [{'type': 'NODES', 'label': 'NODES', 'options': {'hosts': [{'hostname': 'domain_controller'}, {'hostname': 'web_server', 'services': [{'service_name': 'WebServer'}]}, {'hostname': 'database_server', 'folders': [{'folder_name': 'database', 'files': [{'file_name': 'database.db'}]}]}, {'hostname': 'backup_server'}, {'hostname': 'security_suite'}, {'hostname': 'client_1'}, {'hostname': 'client_2'}], 'num_services': 1, 'num_applications': 0, 'num_folders': 1, 'num_files': 1, 'num_nics': 2, 'include_num_access': False, 'include_nmne': True, 'routers': [{'hostname': 'router_1'}], 'num_ports': 0, 'ip_list': ['192.168.1.10', '192.168.1.12', '192.168.1.14', '192.168.1.16', '192.168.1.110', '192.168.10.21', '192.168.10.22', '192.168.10.110'], 'wildcard_list': ['0.0.0.1'], 'port_list': [80, 5432], 'protocol_list': ['ICMP', 'TCP', 'UDP'], 'num_rules': 10}}, {'type': 'LINKS', 'label': 'LINKS', 'options': {'link_references': ['router_1:eth-1<->switch_1:eth-8', 'router_1:eth-2<->switch_2:eth-8', 'switch_1:eth-1<->domain_controller:eth-1', 'switch_1:eth-2<->web_server:eth-1', 'switch_1:eth-3<->database_server:eth-1', 'switch_1:eth-4<->backup_server:eth-1', 'switch_1:eth-7<->security_suite:eth-1', 'switch_2:eth-1<->client_1:eth-1', 'switch_2:eth-2<->client_2:eth-1', 'switch_2:eth-7<->security_suite:eth-2']}}, {'type': 'NONE', 'label': 'ICS', 'options': {}}]}}\n"
     ]
    },
    {
     "name": "stderr",
     "output_type": "stream",
     "text": [
      "2024-04-08 15:00:44,863: Resetting environment, episode 362, avg. reward: -84.79999999999984\n",
      "2024-04-08 15:00:44,867: Saving agent action log to C:\\Users\\CharlieCrane\\primaite\\3.0.0b7\\sessions\\2024-04-08\\14-49-25\\agent_actions\\episode_362.json\n"
     ]
    },
    {
     "name": "stdout",
     "output_type": "stream",
     "text": [
      "{'type': 'CUSTOM', 'options': {'components': [{'type': 'NODES', 'label': 'NODES', 'options': {'hosts': [{'hostname': 'domain_controller'}, {'hostname': 'web_server', 'services': [{'service_name': 'WebServer'}]}, {'hostname': 'database_server', 'folders': [{'folder_name': 'database', 'files': [{'file_name': 'database.db'}]}]}, {'hostname': 'backup_server'}, {'hostname': 'security_suite'}, {'hostname': 'client_1'}, {'hostname': 'client_2'}], 'num_services': 1, 'num_applications': 0, 'num_folders': 1, 'num_files': 1, 'num_nics': 2, 'include_num_access': False, 'include_nmne': True, 'routers': [{'hostname': 'router_1'}], 'num_ports': 0, 'ip_list': ['192.168.1.10', '192.168.1.12', '192.168.1.14', '192.168.1.16', '192.168.1.110', '192.168.10.21', '192.168.10.22', '192.168.10.110'], 'wildcard_list': ['0.0.0.1'], 'port_list': [80, 5432], 'protocol_list': ['ICMP', 'TCP', 'UDP'], 'num_rules': 10}}, {'type': 'LINKS', 'label': 'LINKS', 'options': {'link_references': ['router_1:eth-1<->switch_1:eth-8', 'router_1:eth-2<->switch_2:eth-8', 'switch_1:eth-1<->domain_controller:eth-1', 'switch_1:eth-2<->web_server:eth-1', 'switch_1:eth-3<->database_server:eth-1', 'switch_1:eth-4<->backup_server:eth-1', 'switch_1:eth-7<->security_suite:eth-1', 'switch_2:eth-1<->client_1:eth-1', 'switch_2:eth-2<->client_2:eth-1', 'switch_2:eth-7<->security_suite:eth-2']}}, {'type': 'NONE', 'label': 'ICS', 'options': {}}]}}\n"
     ]
    },
    {
     "name": "stderr",
     "output_type": "stream",
     "text": [
      "2024-04-08 15:00:47,398: Resetting environment, episode 363, avg. reward: -37.899999999999956\n",
      "2024-04-08 15:00:47,402: Saving agent action log to C:\\Users\\CharlieCrane\\primaite\\3.0.0b7\\sessions\\2024-04-08\\14-49-25\\agent_actions\\episode_363.json\n"
     ]
    },
    {
     "name": "stdout",
     "output_type": "stream",
     "text": [
      "{'type': 'CUSTOM', 'options': {'components': [{'type': 'NODES', 'label': 'NODES', 'options': {'hosts': [{'hostname': 'domain_controller'}, {'hostname': 'web_server', 'services': [{'service_name': 'WebServer'}]}, {'hostname': 'database_server', 'folders': [{'folder_name': 'database', 'files': [{'file_name': 'database.db'}]}]}, {'hostname': 'backup_server'}, {'hostname': 'security_suite'}, {'hostname': 'client_1'}, {'hostname': 'client_2'}], 'num_services': 1, 'num_applications': 0, 'num_folders': 1, 'num_files': 1, 'num_nics': 2, 'include_num_access': False, 'include_nmne': True, 'routers': [{'hostname': 'router_1'}], 'num_ports': 0, 'ip_list': ['192.168.1.10', '192.168.1.12', '192.168.1.14', '192.168.1.16', '192.168.1.110', '192.168.10.21', '192.168.10.22', '192.168.10.110'], 'wildcard_list': ['0.0.0.1'], 'port_list': [80, 5432], 'protocol_list': ['ICMP', 'TCP', 'UDP'], 'num_rules': 10}}, {'type': 'LINKS', 'label': 'LINKS', 'options': {'link_references': ['router_1:eth-1<->switch_1:eth-8', 'router_1:eth-2<->switch_2:eth-8', 'switch_1:eth-1<->domain_controller:eth-1', 'switch_1:eth-2<->web_server:eth-1', 'switch_1:eth-3<->database_server:eth-1', 'switch_1:eth-4<->backup_server:eth-1', 'switch_1:eth-7<->security_suite:eth-1', 'switch_2:eth-1<->client_1:eth-1', 'switch_2:eth-2<->client_2:eth-1', 'switch_2:eth-7<->security_suite:eth-2']}}, {'type': 'NONE', 'label': 'ICS', 'options': {}}]}}\n"
     ]
    },
    {
     "name": "stderr",
     "output_type": "stream",
     "text": [
      "2024-04-08 15:00:50,122: Resetting environment, episode 364, avg. reward: -11.250000000000085\n",
      "2024-04-08 15:00:50,126: Saving agent action log to C:\\Users\\CharlieCrane\\primaite\\3.0.0b7\\sessions\\2024-04-08\\14-49-25\\agent_actions\\episode_364.json\n"
     ]
    },
    {
     "name": "stdout",
     "output_type": "stream",
     "text": [
      "{'type': 'CUSTOM', 'options': {'components': [{'type': 'NODES', 'label': 'NODES', 'options': {'hosts': [{'hostname': 'domain_controller'}, {'hostname': 'web_server', 'services': [{'service_name': 'WebServer'}]}, {'hostname': 'database_server', 'folders': [{'folder_name': 'database', 'files': [{'file_name': 'database.db'}]}]}, {'hostname': 'backup_server'}, {'hostname': 'security_suite'}, {'hostname': 'client_1'}, {'hostname': 'client_2'}], 'num_services': 1, 'num_applications': 0, 'num_folders': 1, 'num_files': 1, 'num_nics': 2, 'include_num_access': False, 'include_nmne': True, 'routers': [{'hostname': 'router_1'}], 'num_ports': 0, 'ip_list': ['192.168.1.10', '192.168.1.12', '192.168.1.14', '192.168.1.16', '192.168.1.110', '192.168.10.21', '192.168.10.22', '192.168.10.110'], 'wildcard_list': ['0.0.0.1'], 'port_list': [80, 5432], 'protocol_list': ['ICMP', 'TCP', 'UDP'], 'num_rules': 10}}, {'type': 'LINKS', 'label': 'LINKS', 'options': {'link_references': ['router_1:eth-1<->switch_1:eth-8', 'router_1:eth-2<->switch_2:eth-8', 'switch_1:eth-1<->domain_controller:eth-1', 'switch_1:eth-2<->web_server:eth-1', 'switch_1:eth-3<->database_server:eth-1', 'switch_1:eth-4<->backup_server:eth-1', 'switch_1:eth-7<->security_suite:eth-1', 'switch_2:eth-1<->client_1:eth-1', 'switch_2:eth-2<->client_2:eth-1', 'switch_2:eth-7<->security_suite:eth-2']}}, {'type': 'NONE', 'label': 'ICS', 'options': {}}]}}\n"
     ]
    },
    {
     "name": "stderr",
     "output_type": "stream",
     "text": [
      "2024-04-08 15:00:52,560: Resetting environment, episode 365, avg. reward: -84.9\n",
      "2024-04-08 15:00:52,562: Saving agent action log to C:\\Users\\CharlieCrane\\primaite\\3.0.0b7\\sessions\\2024-04-08\\14-49-25\\agent_actions\\episode_365.json\n"
     ]
    },
    {
     "name": "stdout",
     "output_type": "stream",
     "text": [
      "{'type': 'CUSTOM', 'options': {'components': [{'type': 'NODES', 'label': 'NODES', 'options': {'hosts': [{'hostname': 'domain_controller'}, {'hostname': 'web_server', 'services': [{'service_name': 'WebServer'}]}, {'hostname': 'database_server', 'folders': [{'folder_name': 'database', 'files': [{'file_name': 'database.db'}]}]}, {'hostname': 'backup_server'}, {'hostname': 'security_suite'}, {'hostname': 'client_1'}, {'hostname': 'client_2'}], 'num_services': 1, 'num_applications': 0, 'num_folders': 1, 'num_files': 1, 'num_nics': 2, 'include_num_access': False, 'include_nmne': True, 'routers': [{'hostname': 'router_1'}], 'num_ports': 0, 'ip_list': ['192.168.1.10', '192.168.1.12', '192.168.1.14', '192.168.1.16', '192.168.1.110', '192.168.10.21', '192.168.10.22', '192.168.10.110'], 'wildcard_list': ['0.0.0.1'], 'port_list': [80, 5432], 'protocol_list': ['ICMP', 'TCP', 'UDP'], 'num_rules': 10}}, {'type': 'LINKS', 'label': 'LINKS', 'options': {'link_references': ['router_1:eth-1<->switch_1:eth-8', 'router_1:eth-2<->switch_2:eth-8', 'switch_1:eth-1<->domain_controller:eth-1', 'switch_1:eth-2<->web_server:eth-1', 'switch_1:eth-3<->database_server:eth-1', 'switch_1:eth-4<->backup_server:eth-1', 'switch_1:eth-7<->security_suite:eth-1', 'switch_2:eth-1<->client_1:eth-1', 'switch_2:eth-2<->client_2:eth-1', 'switch_2:eth-7<->security_suite:eth-2']}}, {'type': 'NONE', 'label': 'ICS', 'options': {}}]}}\n"
     ]
    },
    {
     "name": "stderr",
     "output_type": "stream",
     "text": [
      "2024-04-08 15:00:54,688: Resetting environment, episode 366, avg. reward: -66.45000000000002\n",
      "2024-04-08 15:00:54,692: Saving agent action log to C:\\Users\\CharlieCrane\\primaite\\3.0.0b7\\sessions\\2024-04-08\\14-49-25\\agent_actions\\episode_366.json\n"
     ]
    },
    {
     "name": "stdout",
     "output_type": "stream",
     "text": [
      "{'type': 'CUSTOM', 'options': {'components': [{'type': 'NODES', 'label': 'NODES', 'options': {'hosts': [{'hostname': 'domain_controller'}, {'hostname': 'web_server', 'services': [{'service_name': 'WebServer'}]}, {'hostname': 'database_server', 'folders': [{'folder_name': 'database', 'files': [{'file_name': 'database.db'}]}]}, {'hostname': 'backup_server'}, {'hostname': 'security_suite'}, {'hostname': 'client_1'}, {'hostname': 'client_2'}], 'num_services': 1, 'num_applications': 0, 'num_folders': 1, 'num_files': 1, 'num_nics': 2, 'include_num_access': False, 'include_nmne': True, 'routers': [{'hostname': 'router_1'}], 'num_ports': 0, 'ip_list': ['192.168.1.10', '192.168.1.12', '192.168.1.14', '192.168.1.16', '192.168.1.110', '192.168.10.21', '192.168.10.22', '192.168.10.110'], 'wildcard_list': ['0.0.0.1'], 'port_list': [80, 5432], 'protocol_list': ['ICMP', 'TCP', 'UDP'], 'num_rules': 10}}, {'type': 'LINKS', 'label': 'LINKS', 'options': {'link_references': ['router_1:eth-1<->switch_1:eth-8', 'router_1:eth-2<->switch_2:eth-8', 'switch_1:eth-1<->domain_controller:eth-1', 'switch_1:eth-2<->web_server:eth-1', 'switch_1:eth-3<->database_server:eth-1', 'switch_1:eth-4<->backup_server:eth-1', 'switch_1:eth-7<->security_suite:eth-1', 'switch_2:eth-1<->client_1:eth-1', 'switch_2:eth-2<->client_2:eth-1', 'switch_2:eth-7<->security_suite:eth-2']}}, {'type': 'NONE', 'label': 'ICS', 'options': {}}]}}\n"
     ]
    },
    {
     "name": "stderr",
     "output_type": "stream",
     "text": [
      "2024-04-08 15:00:59,582: Resetting environment, episode 367, avg. reward: 26.95\n",
      "2024-04-08 15:00:59,585: Saving agent action log to C:\\Users\\CharlieCrane\\primaite\\3.0.0b7\\sessions\\2024-04-08\\14-49-25\\agent_actions\\episode_367.json\n"
     ]
    },
    {
     "name": "stdout",
     "output_type": "stream",
     "text": [
      "{'type': 'CUSTOM', 'options': {'components': [{'type': 'NODES', 'label': 'NODES', 'options': {'hosts': [{'hostname': 'domain_controller'}, {'hostname': 'web_server', 'services': [{'service_name': 'WebServer'}]}, {'hostname': 'database_server', 'folders': [{'folder_name': 'database', 'files': [{'file_name': 'database.db'}]}]}, {'hostname': 'backup_server'}, {'hostname': 'security_suite'}, {'hostname': 'client_1'}, {'hostname': 'client_2'}], 'num_services': 1, 'num_applications': 0, 'num_folders': 1, 'num_files': 1, 'num_nics': 2, 'include_num_access': False, 'include_nmne': True, 'routers': [{'hostname': 'router_1'}], 'num_ports': 0, 'ip_list': ['192.168.1.10', '192.168.1.12', '192.168.1.14', '192.168.1.16', '192.168.1.110', '192.168.10.21', '192.168.10.22', '192.168.10.110'], 'wildcard_list': ['0.0.0.1'], 'port_list': [80, 5432], 'protocol_list': ['ICMP', 'TCP', 'UDP'], 'num_rules': 10}}, {'type': 'LINKS', 'label': 'LINKS', 'options': {'link_references': ['router_1:eth-1<->switch_1:eth-8', 'router_1:eth-2<->switch_2:eth-8', 'switch_1:eth-1<->domain_controller:eth-1', 'switch_1:eth-2<->web_server:eth-1', 'switch_1:eth-3<->database_server:eth-1', 'switch_1:eth-4<->backup_server:eth-1', 'switch_1:eth-7<->security_suite:eth-1', 'switch_2:eth-1<->client_1:eth-1', 'switch_2:eth-2<->client_2:eth-1', 'switch_2:eth-7<->security_suite:eth-2']}}, {'type': 'NONE', 'label': 'ICS', 'options': {}}]}}\n"
     ]
    },
    {
     "name": "stderr",
     "output_type": "stream",
     "text": [
      "2024-04-08 15:01:01,883: Resetting environment, episode 368, avg. reward: -36.3\n",
      "2024-04-08 15:01:01,886: Saving agent action log to C:\\Users\\CharlieCrane\\primaite\\3.0.0b7\\sessions\\2024-04-08\\14-49-25\\agent_actions\\episode_368.json\n"
     ]
    },
    {
     "name": "stdout",
     "output_type": "stream",
     "text": [
      "{'type': 'CUSTOM', 'options': {'components': [{'type': 'NODES', 'label': 'NODES', 'options': {'hosts': [{'hostname': 'domain_controller'}, {'hostname': 'web_server', 'services': [{'service_name': 'WebServer'}]}, {'hostname': 'database_server', 'folders': [{'folder_name': 'database', 'files': [{'file_name': 'database.db'}]}]}, {'hostname': 'backup_server'}, {'hostname': 'security_suite'}, {'hostname': 'client_1'}, {'hostname': 'client_2'}], 'num_services': 1, 'num_applications': 0, 'num_folders': 1, 'num_files': 1, 'num_nics': 2, 'include_num_access': False, 'include_nmne': True, 'routers': [{'hostname': 'router_1'}], 'num_ports': 0, 'ip_list': ['192.168.1.10', '192.168.1.12', '192.168.1.14', '192.168.1.16', '192.168.1.110', '192.168.10.21', '192.168.10.22', '192.168.10.110'], 'wildcard_list': ['0.0.0.1'], 'port_list': [80, 5432], 'protocol_list': ['ICMP', 'TCP', 'UDP'], 'num_rules': 10}}, {'type': 'LINKS', 'label': 'LINKS', 'options': {'link_references': ['router_1:eth-1<->switch_1:eth-8', 'router_1:eth-2<->switch_2:eth-8', 'switch_1:eth-1<->domain_controller:eth-1', 'switch_1:eth-2<->web_server:eth-1', 'switch_1:eth-3<->database_server:eth-1', 'switch_1:eth-4<->backup_server:eth-1', 'switch_1:eth-7<->security_suite:eth-1', 'switch_2:eth-1<->client_1:eth-1', 'switch_2:eth-2<->client_2:eth-1', 'switch_2:eth-7<->security_suite:eth-2']}}, {'type': 'NONE', 'label': 'ICS', 'options': {}}]}}\n"
     ]
    },
    {
     "name": "stderr",
     "output_type": "stream",
     "text": [
      "2024-04-08 15:01:04,194: Resetting environment, episode 369, avg. reward: -42.04999999999998\n",
      "2024-04-08 15:01:04,197: Saving agent action log to C:\\Users\\CharlieCrane\\primaite\\3.0.0b7\\sessions\\2024-04-08\\14-49-25\\agent_actions\\episode_369.json\n"
     ]
    },
    {
     "name": "stdout",
     "output_type": "stream",
     "text": [
      "{'type': 'CUSTOM', 'options': {'components': [{'type': 'NODES', 'label': 'NODES', 'options': {'hosts': [{'hostname': 'domain_controller'}, {'hostname': 'web_server', 'services': [{'service_name': 'WebServer'}]}, {'hostname': 'database_server', 'folders': [{'folder_name': 'database', 'files': [{'file_name': 'database.db'}]}]}, {'hostname': 'backup_server'}, {'hostname': 'security_suite'}, {'hostname': 'client_1'}, {'hostname': 'client_2'}], 'num_services': 1, 'num_applications': 0, 'num_folders': 1, 'num_files': 1, 'num_nics': 2, 'include_num_access': False, 'include_nmne': True, 'routers': [{'hostname': 'router_1'}], 'num_ports': 0, 'ip_list': ['192.168.1.10', '192.168.1.12', '192.168.1.14', '192.168.1.16', '192.168.1.110', '192.168.10.21', '192.168.10.22', '192.168.10.110'], 'wildcard_list': ['0.0.0.1'], 'port_list': [80, 5432], 'protocol_list': ['ICMP', 'TCP', 'UDP'], 'num_rules': 10}}, {'type': 'LINKS', 'label': 'LINKS', 'options': {'link_references': ['router_1:eth-1<->switch_1:eth-8', 'router_1:eth-2<->switch_2:eth-8', 'switch_1:eth-1<->domain_controller:eth-1', 'switch_1:eth-2<->web_server:eth-1', 'switch_1:eth-3<->database_server:eth-1', 'switch_1:eth-4<->backup_server:eth-1', 'switch_1:eth-7<->security_suite:eth-1', 'switch_2:eth-1<->client_1:eth-1', 'switch_2:eth-2<->client_2:eth-1', 'switch_2:eth-7<->security_suite:eth-2']}}, {'type': 'NONE', 'label': 'ICS', 'options': {}}]}}\n"
     ]
    },
    {
     "name": "stderr",
     "output_type": "stream",
     "text": [
      "2024-04-08 15:01:06,476: Resetting environment, episode 370, avg. reward: -79.85000000000004\n",
      "2024-04-08 15:01:06,480: Saving agent action log to C:\\Users\\CharlieCrane\\primaite\\3.0.0b7\\sessions\\2024-04-08\\14-49-25\\agent_actions\\episode_370.json\n"
     ]
    },
    {
     "name": "stdout",
     "output_type": "stream",
     "text": [
      "{'type': 'CUSTOM', 'options': {'components': [{'type': 'NODES', 'label': 'NODES', 'options': {'hosts': [{'hostname': 'domain_controller'}, {'hostname': 'web_server', 'services': [{'service_name': 'WebServer'}]}, {'hostname': 'database_server', 'folders': [{'folder_name': 'database', 'files': [{'file_name': 'database.db'}]}]}, {'hostname': 'backup_server'}, {'hostname': 'security_suite'}, {'hostname': 'client_1'}, {'hostname': 'client_2'}], 'num_services': 1, 'num_applications': 0, 'num_folders': 1, 'num_files': 1, 'num_nics': 2, 'include_num_access': False, 'include_nmne': True, 'routers': [{'hostname': 'router_1'}], 'num_ports': 0, 'ip_list': ['192.168.1.10', '192.168.1.12', '192.168.1.14', '192.168.1.16', '192.168.1.110', '192.168.10.21', '192.168.10.22', '192.168.10.110'], 'wildcard_list': ['0.0.0.1'], 'port_list': [80, 5432], 'protocol_list': ['ICMP', 'TCP', 'UDP'], 'num_rules': 10}}, {'type': 'LINKS', 'label': 'LINKS', 'options': {'link_references': ['router_1:eth-1<->switch_1:eth-8', 'router_1:eth-2<->switch_2:eth-8', 'switch_1:eth-1<->domain_controller:eth-1', 'switch_1:eth-2<->web_server:eth-1', 'switch_1:eth-3<->database_server:eth-1', 'switch_1:eth-4<->backup_server:eth-1', 'switch_1:eth-7<->security_suite:eth-1', 'switch_2:eth-1<->client_1:eth-1', 'switch_2:eth-2<->client_2:eth-1', 'switch_2:eth-7<->security_suite:eth-2']}}, {'type': 'NONE', 'label': 'ICS', 'options': {}}]}}\n"
     ]
    },
    {
     "name": "stderr",
     "output_type": "stream",
     "text": [
      "2024-04-08 15:01:08,804: Resetting environment, episode 371, avg. reward: 42.4499999999998\n",
      "2024-04-08 15:01:08,809: Saving agent action log to C:\\Users\\CharlieCrane\\primaite\\3.0.0b7\\sessions\\2024-04-08\\14-49-25\\agent_actions\\episode_371.json\n"
     ]
    },
    {
     "name": "stdout",
     "output_type": "stream",
     "text": [
      "{'type': 'CUSTOM', 'options': {'components': [{'type': 'NODES', 'label': 'NODES', 'options': {'hosts': [{'hostname': 'domain_controller'}, {'hostname': 'web_server', 'services': [{'service_name': 'WebServer'}]}, {'hostname': 'database_server', 'folders': [{'folder_name': 'database', 'files': [{'file_name': 'database.db'}]}]}, {'hostname': 'backup_server'}, {'hostname': 'security_suite'}, {'hostname': 'client_1'}, {'hostname': 'client_2'}], 'num_services': 1, 'num_applications': 0, 'num_folders': 1, 'num_files': 1, 'num_nics': 2, 'include_num_access': False, 'include_nmne': True, 'routers': [{'hostname': 'router_1'}], 'num_ports': 0, 'ip_list': ['192.168.1.10', '192.168.1.12', '192.168.1.14', '192.168.1.16', '192.168.1.110', '192.168.10.21', '192.168.10.22', '192.168.10.110'], 'wildcard_list': ['0.0.0.1'], 'port_list': [80, 5432], 'protocol_list': ['ICMP', 'TCP', 'UDP'], 'num_rules': 10}}, {'type': 'LINKS', 'label': 'LINKS', 'options': {'link_references': ['router_1:eth-1<->switch_1:eth-8', 'router_1:eth-2<->switch_2:eth-8', 'switch_1:eth-1<->domain_controller:eth-1', 'switch_1:eth-2<->web_server:eth-1', 'switch_1:eth-3<->database_server:eth-1', 'switch_1:eth-4<->backup_server:eth-1', 'switch_1:eth-7<->security_suite:eth-1', 'switch_2:eth-1<->client_1:eth-1', 'switch_2:eth-2<->client_2:eth-1', 'switch_2:eth-7<->security_suite:eth-2']}}, {'type': 'NONE', 'label': 'ICS', 'options': {}}]}}\n"
     ]
    },
    {
     "name": "stderr",
     "output_type": "stream",
     "text": [
      "2024-04-08 15:01:11,021: Resetting environment, episode 372, avg. reward: -21.04999999999998\n",
      "2024-04-08 15:01:11,025: Saving agent action log to C:\\Users\\CharlieCrane\\primaite\\3.0.0b7\\sessions\\2024-04-08\\14-49-25\\agent_actions\\episode_372.json\n"
     ]
    },
    {
     "name": "stdout",
     "output_type": "stream",
     "text": [
      "{'type': 'CUSTOM', 'options': {'components': [{'type': 'NODES', 'label': 'NODES', 'options': {'hosts': [{'hostname': 'domain_controller'}, {'hostname': 'web_server', 'services': [{'service_name': 'WebServer'}]}, {'hostname': 'database_server', 'folders': [{'folder_name': 'database', 'files': [{'file_name': 'database.db'}]}]}, {'hostname': 'backup_server'}, {'hostname': 'security_suite'}, {'hostname': 'client_1'}, {'hostname': 'client_2'}], 'num_services': 1, 'num_applications': 0, 'num_folders': 1, 'num_files': 1, 'num_nics': 2, 'include_num_access': False, 'include_nmne': True, 'routers': [{'hostname': 'router_1'}], 'num_ports': 0, 'ip_list': ['192.168.1.10', '192.168.1.12', '192.168.1.14', '192.168.1.16', '192.168.1.110', '192.168.10.21', '192.168.10.22', '192.168.10.110'], 'wildcard_list': ['0.0.0.1'], 'port_list': [80, 5432], 'protocol_list': ['ICMP', 'TCP', 'UDP'], 'num_rules': 10}}, {'type': 'LINKS', 'label': 'LINKS', 'options': {'link_references': ['router_1:eth-1<->switch_1:eth-8', 'router_1:eth-2<->switch_2:eth-8', 'switch_1:eth-1<->domain_controller:eth-1', 'switch_1:eth-2<->web_server:eth-1', 'switch_1:eth-3<->database_server:eth-1', 'switch_1:eth-4<->backup_server:eth-1', 'switch_1:eth-7<->security_suite:eth-1', 'switch_2:eth-1<->client_1:eth-1', 'switch_2:eth-2<->client_2:eth-1', 'switch_2:eth-7<->security_suite:eth-2']}}, {'type': 'NONE', 'label': 'ICS', 'options': {}}]}}\n"
     ]
    },
    {
     "name": "stderr",
     "output_type": "stream",
     "text": [
      "2024-04-08 15:01:13,427: Resetting environment, episode 373, avg. reward: 60.24999999999987\n",
      "2024-04-08 15:01:13,430: Saving agent action log to C:\\Users\\CharlieCrane\\primaite\\3.0.0b7\\sessions\\2024-04-08\\14-49-25\\agent_actions\\episode_373.json\n"
     ]
    },
    {
     "name": "stdout",
     "output_type": "stream",
     "text": [
      "{'type': 'CUSTOM', 'options': {'components': [{'type': 'NODES', 'label': 'NODES', 'options': {'hosts': [{'hostname': 'domain_controller'}, {'hostname': 'web_server', 'services': [{'service_name': 'WebServer'}]}, {'hostname': 'database_server', 'folders': [{'folder_name': 'database', 'files': [{'file_name': 'database.db'}]}]}, {'hostname': 'backup_server'}, {'hostname': 'security_suite'}, {'hostname': 'client_1'}, {'hostname': 'client_2'}], 'num_services': 1, 'num_applications': 0, 'num_folders': 1, 'num_files': 1, 'num_nics': 2, 'include_num_access': False, 'include_nmne': True, 'routers': [{'hostname': 'router_1'}], 'num_ports': 0, 'ip_list': ['192.168.1.10', '192.168.1.12', '192.168.1.14', '192.168.1.16', '192.168.1.110', '192.168.10.21', '192.168.10.22', '192.168.10.110'], 'wildcard_list': ['0.0.0.1'], 'port_list': [80, 5432], 'protocol_list': ['ICMP', 'TCP', 'UDP'], 'num_rules': 10}}, {'type': 'LINKS', 'label': 'LINKS', 'options': {'link_references': ['router_1:eth-1<->switch_1:eth-8', 'router_1:eth-2<->switch_2:eth-8', 'switch_1:eth-1<->domain_controller:eth-1', 'switch_1:eth-2<->web_server:eth-1', 'switch_1:eth-3<->database_server:eth-1', 'switch_1:eth-4<->backup_server:eth-1', 'switch_1:eth-7<->security_suite:eth-1', 'switch_2:eth-1<->client_1:eth-1', 'switch_2:eth-2<->client_2:eth-1', 'switch_2:eth-7<->security_suite:eth-2']}}, {'type': 'NONE', 'label': 'ICS', 'options': {}}]}}\n"
     ]
    },
    {
     "name": "stderr",
     "output_type": "stream",
     "text": [
      "2024-04-08 15:01:15,228: Resetting environment, episode 374, avg. reward: -71.3\n",
      "2024-04-08 15:01:15,231: Saving agent action log to C:\\Users\\CharlieCrane\\primaite\\3.0.0b7\\sessions\\2024-04-08\\14-49-25\\agent_actions\\episode_374.json\n"
     ]
    },
    {
     "name": "stdout",
     "output_type": "stream",
     "text": [
      "{'type': 'CUSTOM', 'options': {'components': [{'type': 'NODES', 'label': 'NODES', 'options': {'hosts': [{'hostname': 'domain_controller'}, {'hostname': 'web_server', 'services': [{'service_name': 'WebServer'}]}, {'hostname': 'database_server', 'folders': [{'folder_name': 'database', 'files': [{'file_name': 'database.db'}]}]}, {'hostname': 'backup_server'}, {'hostname': 'security_suite'}, {'hostname': 'client_1'}, {'hostname': 'client_2'}], 'num_services': 1, 'num_applications': 0, 'num_folders': 1, 'num_files': 1, 'num_nics': 2, 'include_num_access': False, 'include_nmne': True, 'routers': [{'hostname': 'router_1'}], 'num_ports': 0, 'ip_list': ['192.168.1.10', '192.168.1.12', '192.168.1.14', '192.168.1.16', '192.168.1.110', '192.168.10.21', '192.168.10.22', '192.168.10.110'], 'wildcard_list': ['0.0.0.1'], 'port_list': [80, 5432], 'protocol_list': ['ICMP', 'TCP', 'UDP'], 'num_rules': 10}}, {'type': 'LINKS', 'label': 'LINKS', 'options': {'link_references': ['router_1:eth-1<->switch_1:eth-8', 'router_1:eth-2<->switch_2:eth-8', 'switch_1:eth-1<->domain_controller:eth-1', 'switch_1:eth-2<->web_server:eth-1', 'switch_1:eth-3<->database_server:eth-1', 'switch_1:eth-4<->backup_server:eth-1', 'switch_1:eth-7<->security_suite:eth-1', 'switch_2:eth-1<->client_1:eth-1', 'switch_2:eth-2<->client_2:eth-1', 'switch_2:eth-7<->security_suite:eth-2']}}, {'type': 'NONE', 'label': 'ICS', 'options': {}}]}}\n"
     ]
    },
    {
     "name": "stderr",
     "output_type": "stream",
     "text": [
      "2024-04-08 15:01:17,086: Resetting environment, episode 375, avg. reward: 27.249999999999872\n",
      "2024-04-08 15:01:17,089: Saving agent action log to C:\\Users\\CharlieCrane\\primaite\\3.0.0b7\\sessions\\2024-04-08\\14-49-25\\agent_actions\\episode_375.json\n"
     ]
    },
    {
     "name": "stdout",
     "output_type": "stream",
     "text": [
      "{'type': 'CUSTOM', 'options': {'components': [{'type': 'NODES', 'label': 'NODES', 'options': {'hosts': [{'hostname': 'domain_controller'}, {'hostname': 'web_server', 'services': [{'service_name': 'WebServer'}]}, {'hostname': 'database_server', 'folders': [{'folder_name': 'database', 'files': [{'file_name': 'database.db'}]}]}, {'hostname': 'backup_server'}, {'hostname': 'security_suite'}, {'hostname': 'client_1'}, {'hostname': 'client_2'}], 'num_services': 1, 'num_applications': 0, 'num_folders': 1, 'num_files': 1, 'num_nics': 2, 'include_num_access': False, 'include_nmne': True, 'routers': [{'hostname': 'router_1'}], 'num_ports': 0, 'ip_list': ['192.168.1.10', '192.168.1.12', '192.168.1.14', '192.168.1.16', '192.168.1.110', '192.168.10.21', '192.168.10.22', '192.168.10.110'], 'wildcard_list': ['0.0.0.1'], 'port_list': [80, 5432], 'protocol_list': ['ICMP', 'TCP', 'UDP'], 'num_rules': 10}}, {'type': 'LINKS', 'label': 'LINKS', 'options': {'link_references': ['router_1:eth-1<->switch_1:eth-8', 'router_1:eth-2<->switch_2:eth-8', 'switch_1:eth-1<->domain_controller:eth-1', 'switch_1:eth-2<->web_server:eth-1', 'switch_1:eth-3<->database_server:eth-1', 'switch_1:eth-4<->backup_server:eth-1', 'switch_1:eth-7<->security_suite:eth-1', 'switch_2:eth-1<->client_1:eth-1', 'switch_2:eth-2<->client_2:eth-1', 'switch_2:eth-7<->security_suite:eth-2']}}, {'type': 'NONE', 'label': 'ICS', 'options': {}}]}}\n"
     ]
    },
    {
     "name": "stderr",
     "output_type": "stream",
     "text": [
      "2024-04-08 15:01:18,949: Resetting environment, episode 376, avg. reward: 24.149999999999984\n",
      "2024-04-08 15:01:18,952: Saving agent action log to C:\\Users\\CharlieCrane\\primaite\\3.0.0b7\\sessions\\2024-04-08\\14-49-25\\agent_actions\\episode_376.json\n"
     ]
    },
    {
     "name": "stdout",
     "output_type": "stream",
     "text": [
      "{'type': 'CUSTOM', 'options': {'components': [{'type': 'NODES', 'label': 'NODES', 'options': {'hosts': [{'hostname': 'domain_controller'}, {'hostname': 'web_server', 'services': [{'service_name': 'WebServer'}]}, {'hostname': 'database_server', 'folders': [{'folder_name': 'database', 'files': [{'file_name': 'database.db'}]}]}, {'hostname': 'backup_server'}, {'hostname': 'security_suite'}, {'hostname': 'client_1'}, {'hostname': 'client_2'}], 'num_services': 1, 'num_applications': 0, 'num_folders': 1, 'num_files': 1, 'num_nics': 2, 'include_num_access': False, 'include_nmne': True, 'routers': [{'hostname': 'router_1'}], 'num_ports': 0, 'ip_list': ['192.168.1.10', '192.168.1.12', '192.168.1.14', '192.168.1.16', '192.168.1.110', '192.168.10.21', '192.168.10.22', '192.168.10.110'], 'wildcard_list': ['0.0.0.1'], 'port_list': [80, 5432], 'protocol_list': ['ICMP', 'TCP', 'UDP'], 'num_rules': 10}}, {'type': 'LINKS', 'label': 'LINKS', 'options': {'link_references': ['router_1:eth-1<->switch_1:eth-8', 'router_1:eth-2<->switch_2:eth-8', 'switch_1:eth-1<->domain_controller:eth-1', 'switch_1:eth-2<->web_server:eth-1', 'switch_1:eth-3<->database_server:eth-1', 'switch_1:eth-4<->backup_server:eth-1', 'switch_1:eth-7<->security_suite:eth-1', 'switch_2:eth-1<->client_1:eth-1', 'switch_2:eth-2<->client_2:eth-1', 'switch_2:eth-7<->security_suite:eth-2']}}, {'type': 'NONE', 'label': 'ICS', 'options': {}}]}}\n"
     ]
    },
    {
     "name": "stderr",
     "output_type": "stream",
     "text": [
      "2024-04-08 15:01:20,875: Resetting environment, episode 377, avg. reward: -53.54999999999999\n",
      "2024-04-08 15:01:20,879: Saving agent action log to C:\\Users\\CharlieCrane\\primaite\\3.0.0b7\\sessions\\2024-04-08\\14-49-25\\agent_actions\\episode_377.json\n"
     ]
    },
    {
     "name": "stdout",
     "output_type": "stream",
     "text": [
      "{'type': 'CUSTOM', 'options': {'components': [{'type': 'NODES', 'label': 'NODES', 'options': {'hosts': [{'hostname': 'domain_controller'}, {'hostname': 'web_server', 'services': [{'service_name': 'WebServer'}]}, {'hostname': 'database_server', 'folders': [{'folder_name': 'database', 'files': [{'file_name': 'database.db'}]}]}, {'hostname': 'backup_server'}, {'hostname': 'security_suite'}, {'hostname': 'client_1'}, {'hostname': 'client_2'}], 'num_services': 1, 'num_applications': 0, 'num_folders': 1, 'num_files': 1, 'num_nics': 2, 'include_num_access': False, 'include_nmne': True, 'routers': [{'hostname': 'router_1'}], 'num_ports': 0, 'ip_list': ['192.168.1.10', '192.168.1.12', '192.168.1.14', '192.168.1.16', '192.168.1.110', '192.168.10.21', '192.168.10.22', '192.168.10.110'], 'wildcard_list': ['0.0.0.1'], 'port_list': [80, 5432], 'protocol_list': ['ICMP', 'TCP', 'UDP'], 'num_rules': 10}}, {'type': 'LINKS', 'label': 'LINKS', 'options': {'link_references': ['router_1:eth-1<->switch_1:eth-8', 'router_1:eth-2<->switch_2:eth-8', 'switch_1:eth-1<->domain_controller:eth-1', 'switch_1:eth-2<->web_server:eth-1', 'switch_1:eth-3<->database_server:eth-1', 'switch_1:eth-4<->backup_server:eth-1', 'switch_1:eth-7<->security_suite:eth-1', 'switch_2:eth-1<->client_1:eth-1', 'switch_2:eth-2<->client_2:eth-1', 'switch_2:eth-7<->security_suite:eth-2']}}, {'type': 'NONE', 'label': 'ICS', 'options': {}}]}}\n"
     ]
    },
    {
     "name": "stderr",
     "output_type": "stream",
     "text": [
      "2024-04-08 15:01:22,686: Resetting environment, episode 378, avg. reward: 31.84999999999999\n",
      "2024-04-08 15:01:22,690: Saving agent action log to C:\\Users\\CharlieCrane\\primaite\\3.0.0b7\\sessions\\2024-04-08\\14-49-25\\agent_actions\\episode_378.json\n"
     ]
    },
    {
     "name": "stdout",
     "output_type": "stream",
     "text": [
      "{'type': 'CUSTOM', 'options': {'components': [{'type': 'NODES', 'label': 'NODES', 'options': {'hosts': [{'hostname': 'domain_controller'}, {'hostname': 'web_server', 'services': [{'service_name': 'WebServer'}]}, {'hostname': 'database_server', 'folders': [{'folder_name': 'database', 'files': [{'file_name': 'database.db'}]}]}, {'hostname': 'backup_server'}, {'hostname': 'security_suite'}, {'hostname': 'client_1'}, {'hostname': 'client_2'}], 'num_services': 1, 'num_applications': 0, 'num_folders': 1, 'num_files': 1, 'num_nics': 2, 'include_num_access': False, 'include_nmne': True, 'routers': [{'hostname': 'router_1'}], 'num_ports': 0, 'ip_list': ['192.168.1.10', '192.168.1.12', '192.168.1.14', '192.168.1.16', '192.168.1.110', '192.168.10.21', '192.168.10.22', '192.168.10.110'], 'wildcard_list': ['0.0.0.1'], 'port_list': [80, 5432], 'protocol_list': ['ICMP', 'TCP', 'UDP'], 'num_rules': 10}}, {'type': 'LINKS', 'label': 'LINKS', 'options': {'link_references': ['router_1:eth-1<->switch_1:eth-8', 'router_1:eth-2<->switch_2:eth-8', 'switch_1:eth-1<->domain_controller:eth-1', 'switch_1:eth-2<->web_server:eth-1', 'switch_1:eth-3<->database_server:eth-1', 'switch_1:eth-4<->backup_server:eth-1', 'switch_1:eth-7<->security_suite:eth-1', 'switch_2:eth-1<->client_1:eth-1', 'switch_2:eth-2<->client_2:eth-1', 'switch_2:eth-7<->security_suite:eth-2']}}, {'type': 'NONE', 'label': 'ICS', 'options': {}}]}}\n"
     ]
    },
    {
     "name": "stderr",
     "output_type": "stream",
     "text": [
      "2024-04-08 15:01:24,470: Resetting environment, episode 379, avg. reward: -65.4\n",
      "2024-04-08 15:01:24,473: Saving agent action log to C:\\Users\\CharlieCrane\\primaite\\3.0.0b7\\sessions\\2024-04-08\\14-49-25\\agent_actions\\episode_379.json\n"
     ]
    },
    {
     "name": "stdout",
     "output_type": "stream",
     "text": [
      "{'type': 'CUSTOM', 'options': {'components': [{'type': 'NODES', 'label': 'NODES', 'options': {'hosts': [{'hostname': 'domain_controller'}, {'hostname': 'web_server', 'services': [{'service_name': 'WebServer'}]}, {'hostname': 'database_server', 'folders': [{'folder_name': 'database', 'files': [{'file_name': 'database.db'}]}]}, {'hostname': 'backup_server'}, {'hostname': 'security_suite'}, {'hostname': 'client_1'}, {'hostname': 'client_2'}], 'num_services': 1, 'num_applications': 0, 'num_folders': 1, 'num_files': 1, 'num_nics': 2, 'include_num_access': False, 'include_nmne': True, 'routers': [{'hostname': 'router_1'}], 'num_ports': 0, 'ip_list': ['192.168.1.10', '192.168.1.12', '192.168.1.14', '192.168.1.16', '192.168.1.110', '192.168.10.21', '192.168.10.22', '192.168.10.110'], 'wildcard_list': ['0.0.0.1'], 'port_list': [80, 5432], 'protocol_list': ['ICMP', 'TCP', 'UDP'], 'num_rules': 10}}, {'type': 'LINKS', 'label': 'LINKS', 'options': {'link_references': ['router_1:eth-1<->switch_1:eth-8', 'router_1:eth-2<->switch_2:eth-8', 'switch_1:eth-1<->domain_controller:eth-1', 'switch_1:eth-2<->web_server:eth-1', 'switch_1:eth-3<->database_server:eth-1', 'switch_1:eth-4<->backup_server:eth-1', 'switch_1:eth-7<->security_suite:eth-1', 'switch_2:eth-1<->client_1:eth-1', 'switch_2:eth-2<->client_2:eth-1', 'switch_2:eth-7<->security_suite:eth-2']}}, {'type': 'NONE', 'label': 'ICS', 'options': {}}]}}\n"
     ]
    },
    {
     "name": "stderr",
     "output_type": "stream",
     "text": [
      "2024-04-08 15:01:26,345: Resetting environment, episode 380, avg. reward: 52.84999999999978\n",
      "2024-04-08 15:01:26,348: Saving agent action log to C:\\Users\\CharlieCrane\\primaite\\3.0.0b7\\sessions\\2024-04-08\\14-49-25\\agent_actions\\episode_380.json\n"
     ]
    },
    {
     "name": "stdout",
     "output_type": "stream",
     "text": [
      "{'type': 'CUSTOM', 'options': {'components': [{'type': 'NODES', 'label': 'NODES', 'options': {'hosts': [{'hostname': 'domain_controller'}, {'hostname': 'web_server', 'services': [{'service_name': 'WebServer'}]}, {'hostname': 'database_server', 'folders': [{'folder_name': 'database', 'files': [{'file_name': 'database.db'}]}]}, {'hostname': 'backup_server'}, {'hostname': 'security_suite'}, {'hostname': 'client_1'}, {'hostname': 'client_2'}], 'num_services': 1, 'num_applications': 0, 'num_folders': 1, 'num_files': 1, 'num_nics': 2, 'include_num_access': False, 'include_nmne': True, 'routers': [{'hostname': 'router_1'}], 'num_ports': 0, 'ip_list': ['192.168.1.10', '192.168.1.12', '192.168.1.14', '192.168.1.16', '192.168.1.110', '192.168.10.21', '192.168.10.22', '192.168.10.110'], 'wildcard_list': ['0.0.0.1'], 'port_list': [80, 5432], 'protocol_list': ['ICMP', 'TCP', 'UDP'], 'num_rules': 10}}, {'type': 'LINKS', 'label': 'LINKS', 'options': {'link_references': ['router_1:eth-1<->switch_1:eth-8', 'router_1:eth-2<->switch_2:eth-8', 'switch_1:eth-1<->domain_controller:eth-1', 'switch_1:eth-2<->web_server:eth-1', 'switch_1:eth-3<->database_server:eth-1', 'switch_1:eth-4<->backup_server:eth-1', 'switch_1:eth-7<->security_suite:eth-1', 'switch_2:eth-1<->client_1:eth-1', 'switch_2:eth-2<->client_2:eth-1', 'switch_2:eth-7<->security_suite:eth-2']}}, {'type': 'NONE', 'label': 'ICS', 'options': {}}]}}\n"
     ]
    },
    {
     "name": "stderr",
     "output_type": "stream",
     "text": [
      "2024-04-08 15:01:28,494: Resetting environment, episode 381, avg. reward: -50.450000000000024\n",
      "2024-04-08 15:01:28,497: Saving agent action log to C:\\Users\\CharlieCrane\\primaite\\3.0.0b7\\sessions\\2024-04-08\\14-49-25\\agent_actions\\episode_381.json\n"
     ]
    },
    {
     "name": "stdout",
     "output_type": "stream",
     "text": [
      "{'type': 'CUSTOM', 'options': {'components': [{'type': 'NODES', 'label': 'NODES', 'options': {'hosts': [{'hostname': 'domain_controller'}, {'hostname': 'web_server', 'services': [{'service_name': 'WebServer'}]}, {'hostname': 'database_server', 'folders': [{'folder_name': 'database', 'files': [{'file_name': 'database.db'}]}]}, {'hostname': 'backup_server'}, {'hostname': 'security_suite'}, {'hostname': 'client_1'}, {'hostname': 'client_2'}], 'num_services': 1, 'num_applications': 0, 'num_folders': 1, 'num_files': 1, 'num_nics': 2, 'include_num_access': False, 'include_nmne': True, 'routers': [{'hostname': 'router_1'}], 'num_ports': 0, 'ip_list': ['192.168.1.10', '192.168.1.12', '192.168.1.14', '192.168.1.16', '192.168.1.110', '192.168.10.21', '192.168.10.22', '192.168.10.110'], 'wildcard_list': ['0.0.0.1'], 'port_list': [80, 5432], 'protocol_list': ['ICMP', 'TCP', 'UDP'], 'num_rules': 10}}, {'type': 'LINKS', 'label': 'LINKS', 'options': {'link_references': ['router_1:eth-1<->switch_1:eth-8', 'router_1:eth-2<->switch_2:eth-8', 'switch_1:eth-1<->domain_controller:eth-1', 'switch_1:eth-2<->web_server:eth-1', 'switch_1:eth-3<->database_server:eth-1', 'switch_1:eth-4<->backup_server:eth-1', 'switch_1:eth-7<->security_suite:eth-1', 'switch_2:eth-1<->client_1:eth-1', 'switch_2:eth-2<->client_2:eth-1', 'switch_2:eth-7<->security_suite:eth-2']}}, {'type': 'NONE', 'label': 'ICS', 'options': {}}]}}\n"
     ]
    },
    {
     "name": "stderr",
     "output_type": "stream",
     "text": [
      "2024-04-08 15:01:30,231: Resetting environment, episode 382, avg. reward: -71.99999999999991\n",
      "2024-04-08 15:01:30,235: Saving agent action log to C:\\Users\\CharlieCrane\\primaite\\3.0.0b7\\sessions\\2024-04-08\\14-49-25\\agent_actions\\episode_382.json\n"
     ]
    },
    {
     "name": "stdout",
     "output_type": "stream",
     "text": [
      "{'type': 'CUSTOM', 'options': {'components': [{'type': 'NODES', 'label': 'NODES', 'options': {'hosts': [{'hostname': 'domain_controller'}, {'hostname': 'web_server', 'services': [{'service_name': 'WebServer'}]}, {'hostname': 'database_server', 'folders': [{'folder_name': 'database', 'files': [{'file_name': 'database.db'}]}]}, {'hostname': 'backup_server'}, {'hostname': 'security_suite'}, {'hostname': 'client_1'}, {'hostname': 'client_2'}], 'num_services': 1, 'num_applications': 0, 'num_folders': 1, 'num_files': 1, 'num_nics': 2, 'include_num_access': False, 'include_nmne': True, 'routers': [{'hostname': 'router_1'}], 'num_ports': 0, 'ip_list': ['192.168.1.10', '192.168.1.12', '192.168.1.14', '192.168.1.16', '192.168.1.110', '192.168.10.21', '192.168.10.22', '192.168.10.110'], 'wildcard_list': ['0.0.0.1'], 'port_list': [80, 5432], 'protocol_list': ['ICMP', 'TCP', 'UDP'], 'num_rules': 10}}, {'type': 'LINKS', 'label': 'LINKS', 'options': {'link_references': ['router_1:eth-1<->switch_1:eth-8', 'router_1:eth-2<->switch_2:eth-8', 'switch_1:eth-1<->domain_controller:eth-1', 'switch_1:eth-2<->web_server:eth-1', 'switch_1:eth-3<->database_server:eth-1', 'switch_1:eth-4<->backup_server:eth-1', 'switch_1:eth-7<->security_suite:eth-1', 'switch_2:eth-1<->client_1:eth-1', 'switch_2:eth-2<->client_2:eth-1', 'switch_2:eth-7<->security_suite:eth-2']}}, {'type': 'NONE', 'label': 'ICS', 'options': {}}]}}\n"
     ]
    },
    {
     "name": "stderr",
     "output_type": "stream",
     "text": [
      "2024-04-08 15:01:32,232: Resetting environment, episode 383, avg. reward: 20.400000000000073\n",
      "2024-04-08 15:01:32,236: Saving agent action log to C:\\Users\\CharlieCrane\\primaite\\3.0.0b7\\sessions\\2024-04-08\\14-49-25\\agent_actions\\episode_383.json\n"
     ]
    },
    {
     "name": "stdout",
     "output_type": "stream",
     "text": [
      "{'type': 'CUSTOM', 'options': {'components': [{'type': 'NODES', 'label': 'NODES', 'options': {'hosts': [{'hostname': 'domain_controller'}, {'hostname': 'web_server', 'services': [{'service_name': 'WebServer'}]}, {'hostname': 'database_server', 'folders': [{'folder_name': 'database', 'files': [{'file_name': 'database.db'}]}]}, {'hostname': 'backup_server'}, {'hostname': 'security_suite'}, {'hostname': 'client_1'}, {'hostname': 'client_2'}], 'num_services': 1, 'num_applications': 0, 'num_folders': 1, 'num_files': 1, 'num_nics': 2, 'include_num_access': False, 'include_nmne': True, 'routers': [{'hostname': 'router_1'}], 'num_ports': 0, 'ip_list': ['192.168.1.10', '192.168.1.12', '192.168.1.14', '192.168.1.16', '192.168.1.110', '192.168.10.21', '192.168.10.22', '192.168.10.110'], 'wildcard_list': ['0.0.0.1'], 'port_list': [80, 5432], 'protocol_list': ['ICMP', 'TCP', 'UDP'], 'num_rules': 10}}, {'type': 'LINKS', 'label': 'LINKS', 'options': {'link_references': ['router_1:eth-1<->switch_1:eth-8', 'router_1:eth-2<->switch_2:eth-8', 'switch_1:eth-1<->domain_controller:eth-1', 'switch_1:eth-2<->web_server:eth-1', 'switch_1:eth-3<->database_server:eth-1', 'switch_1:eth-4<->backup_server:eth-1', 'switch_1:eth-7<->security_suite:eth-1', 'switch_2:eth-1<->client_1:eth-1', 'switch_2:eth-2<->client_2:eth-1', 'switch_2:eth-7<->security_suite:eth-2']}}, {'type': 'NONE', 'label': 'ICS', 'options': {}}]}}\n"
     ]
    },
    {
     "name": "stderr",
     "output_type": "stream",
     "text": [
      "2024-04-08 15:01:33,887: Resetting environment, episode 384, avg. reward: 14.799999999999994\n",
      "2024-04-08 15:01:33,890: Saving agent action log to C:\\Users\\CharlieCrane\\primaite\\3.0.0b7\\sessions\\2024-04-08\\14-49-25\\agent_actions\\episode_384.json\n"
     ]
    },
    {
     "name": "stdout",
     "output_type": "stream",
     "text": [
      "{'type': 'CUSTOM', 'options': {'components': [{'type': 'NODES', 'label': 'NODES', 'options': {'hosts': [{'hostname': 'domain_controller'}, {'hostname': 'web_server', 'services': [{'service_name': 'WebServer'}]}, {'hostname': 'database_server', 'folders': [{'folder_name': 'database', 'files': [{'file_name': 'database.db'}]}]}, {'hostname': 'backup_server'}, {'hostname': 'security_suite'}, {'hostname': 'client_1'}, {'hostname': 'client_2'}], 'num_services': 1, 'num_applications': 0, 'num_folders': 1, 'num_files': 1, 'num_nics': 2, 'include_num_access': False, 'include_nmne': True, 'routers': [{'hostname': 'router_1'}], 'num_ports': 0, 'ip_list': ['192.168.1.10', '192.168.1.12', '192.168.1.14', '192.168.1.16', '192.168.1.110', '192.168.10.21', '192.168.10.22', '192.168.10.110'], 'wildcard_list': ['0.0.0.1'], 'port_list': [80, 5432], 'protocol_list': ['ICMP', 'TCP', 'UDP'], 'num_rules': 10}}, {'type': 'LINKS', 'label': 'LINKS', 'options': {'link_references': ['router_1:eth-1<->switch_1:eth-8', 'router_1:eth-2<->switch_2:eth-8', 'switch_1:eth-1<->domain_controller:eth-1', 'switch_1:eth-2<->web_server:eth-1', 'switch_1:eth-3<->database_server:eth-1', 'switch_1:eth-4<->backup_server:eth-1', 'switch_1:eth-7<->security_suite:eth-1', 'switch_2:eth-1<->client_1:eth-1', 'switch_2:eth-2<->client_2:eth-1', 'switch_2:eth-7<->security_suite:eth-2']}}, {'type': 'NONE', 'label': 'ICS', 'options': {}}]}}\n"
     ]
    },
    {
     "name": "stderr",
     "output_type": "stream",
     "text": [
      "2024-04-08 15:01:35,491: Resetting environment, episode 385, avg. reward: -46.900000000000055\n",
      "2024-04-08 15:01:35,494: Saving agent action log to C:\\Users\\CharlieCrane\\primaite\\3.0.0b7\\sessions\\2024-04-08\\14-49-25\\agent_actions\\episode_385.json\n"
     ]
    },
    {
     "name": "stdout",
     "output_type": "stream",
     "text": [
      "{'type': 'CUSTOM', 'options': {'components': [{'type': 'NODES', 'label': 'NODES', 'options': {'hosts': [{'hostname': 'domain_controller'}, {'hostname': 'web_server', 'services': [{'service_name': 'WebServer'}]}, {'hostname': 'database_server', 'folders': [{'folder_name': 'database', 'files': [{'file_name': 'database.db'}]}]}, {'hostname': 'backup_server'}, {'hostname': 'security_suite'}, {'hostname': 'client_1'}, {'hostname': 'client_2'}], 'num_services': 1, 'num_applications': 0, 'num_folders': 1, 'num_files': 1, 'num_nics': 2, 'include_num_access': False, 'include_nmne': True, 'routers': [{'hostname': 'router_1'}], 'num_ports': 0, 'ip_list': ['192.168.1.10', '192.168.1.12', '192.168.1.14', '192.168.1.16', '192.168.1.110', '192.168.10.21', '192.168.10.22', '192.168.10.110'], 'wildcard_list': ['0.0.0.1'], 'port_list': [80, 5432], 'protocol_list': ['ICMP', 'TCP', 'UDP'], 'num_rules': 10}}, {'type': 'LINKS', 'label': 'LINKS', 'options': {'link_references': ['router_1:eth-1<->switch_1:eth-8', 'router_1:eth-2<->switch_2:eth-8', 'switch_1:eth-1<->domain_controller:eth-1', 'switch_1:eth-2<->web_server:eth-1', 'switch_1:eth-3<->database_server:eth-1', 'switch_1:eth-4<->backup_server:eth-1', 'switch_1:eth-7<->security_suite:eth-1', 'switch_2:eth-1<->client_1:eth-1', 'switch_2:eth-2<->client_2:eth-1', 'switch_2:eth-7<->security_suite:eth-2']}}, {'type': 'NONE', 'label': 'ICS', 'options': {}}]}}\n"
     ]
    },
    {
     "name": "stderr",
     "output_type": "stream",
     "text": [
      "2024-04-08 15:01:37,246: Resetting environment, episode 386, avg. reward: 0.8999999999999937\n",
      "2024-04-08 15:01:37,249: Saving agent action log to C:\\Users\\CharlieCrane\\primaite\\3.0.0b7\\sessions\\2024-04-08\\14-49-25\\agent_actions\\episode_386.json\n"
     ]
    },
    {
     "name": "stdout",
     "output_type": "stream",
     "text": [
      "{'type': 'CUSTOM', 'options': {'components': [{'type': 'NODES', 'label': 'NODES', 'options': {'hosts': [{'hostname': 'domain_controller'}, {'hostname': 'web_server', 'services': [{'service_name': 'WebServer'}]}, {'hostname': 'database_server', 'folders': [{'folder_name': 'database', 'files': [{'file_name': 'database.db'}]}]}, {'hostname': 'backup_server'}, {'hostname': 'security_suite'}, {'hostname': 'client_1'}, {'hostname': 'client_2'}], 'num_services': 1, 'num_applications': 0, 'num_folders': 1, 'num_files': 1, 'num_nics': 2, 'include_num_access': False, 'include_nmne': True, 'routers': [{'hostname': 'router_1'}], 'num_ports': 0, 'ip_list': ['192.168.1.10', '192.168.1.12', '192.168.1.14', '192.168.1.16', '192.168.1.110', '192.168.10.21', '192.168.10.22', '192.168.10.110'], 'wildcard_list': ['0.0.0.1'], 'port_list': [80, 5432], 'protocol_list': ['ICMP', 'TCP', 'UDP'], 'num_rules': 10}}, {'type': 'LINKS', 'label': 'LINKS', 'options': {'link_references': ['router_1:eth-1<->switch_1:eth-8', 'router_1:eth-2<->switch_2:eth-8', 'switch_1:eth-1<->domain_controller:eth-1', 'switch_1:eth-2<->web_server:eth-1', 'switch_1:eth-3<->database_server:eth-1', 'switch_1:eth-4<->backup_server:eth-1', 'switch_1:eth-7<->security_suite:eth-1', 'switch_2:eth-1<->client_1:eth-1', 'switch_2:eth-2<->client_2:eth-1', 'switch_2:eth-7<->security_suite:eth-2']}}, {'type': 'NONE', 'label': 'ICS', 'options': {}}]}}\n"
     ]
    },
    {
     "name": "stderr",
     "output_type": "stream",
     "text": [
      "2024-04-08 15:01:38,777: Resetting environment, episode 387, avg. reward: -13.35\n",
      "2024-04-08 15:01:38,780: Saving agent action log to C:\\Users\\CharlieCrane\\primaite\\3.0.0b7\\sessions\\2024-04-08\\14-49-25\\agent_actions\\episode_387.json\n"
     ]
    },
    {
     "name": "stdout",
     "output_type": "stream",
     "text": [
      "{'type': 'CUSTOM', 'options': {'components': [{'type': 'NODES', 'label': 'NODES', 'options': {'hosts': [{'hostname': 'domain_controller'}, {'hostname': 'web_server', 'services': [{'service_name': 'WebServer'}]}, {'hostname': 'database_server', 'folders': [{'folder_name': 'database', 'files': [{'file_name': 'database.db'}]}]}, {'hostname': 'backup_server'}, {'hostname': 'security_suite'}, {'hostname': 'client_1'}, {'hostname': 'client_2'}], 'num_services': 1, 'num_applications': 0, 'num_folders': 1, 'num_files': 1, 'num_nics': 2, 'include_num_access': False, 'include_nmne': True, 'routers': [{'hostname': 'router_1'}], 'num_ports': 0, 'ip_list': ['192.168.1.10', '192.168.1.12', '192.168.1.14', '192.168.1.16', '192.168.1.110', '192.168.10.21', '192.168.10.22', '192.168.10.110'], 'wildcard_list': ['0.0.0.1'], 'port_list': [80, 5432], 'protocol_list': ['ICMP', 'TCP', 'UDP'], 'num_rules': 10}}, {'type': 'LINKS', 'label': 'LINKS', 'options': {'link_references': ['router_1:eth-1<->switch_1:eth-8', 'router_1:eth-2<->switch_2:eth-8', 'switch_1:eth-1<->domain_controller:eth-1', 'switch_1:eth-2<->web_server:eth-1', 'switch_1:eth-3<->database_server:eth-1', 'switch_1:eth-4<->backup_server:eth-1', 'switch_1:eth-7<->security_suite:eth-1', 'switch_2:eth-1<->client_1:eth-1', 'switch_2:eth-2<->client_2:eth-1', 'switch_2:eth-7<->security_suite:eth-2']}}, {'type': 'NONE', 'label': 'ICS', 'options': {}}]}}\n"
     ]
    },
    {
     "name": "stderr",
     "output_type": "stream",
     "text": [
      "2024-04-08 15:01:40,765: Resetting environment, episode 388, avg. reward: -66.39999999999996\n",
      "2024-04-08 15:01:40,765: Saving agent action log to C:\\Users\\CharlieCrane\\primaite\\3.0.0b7\\sessions\\2024-04-08\\14-49-25\\agent_actions\\episode_388.json\n"
     ]
    },
    {
     "name": "stdout",
     "output_type": "stream",
     "text": [
      "{'type': 'CUSTOM', 'options': {'components': [{'type': 'NODES', 'label': 'NODES', 'options': {'hosts': [{'hostname': 'domain_controller'}, {'hostname': 'web_server', 'services': [{'service_name': 'WebServer'}]}, {'hostname': 'database_server', 'folders': [{'folder_name': 'database', 'files': [{'file_name': 'database.db'}]}]}, {'hostname': 'backup_server'}, {'hostname': 'security_suite'}, {'hostname': 'client_1'}, {'hostname': 'client_2'}], 'num_services': 1, 'num_applications': 0, 'num_folders': 1, 'num_files': 1, 'num_nics': 2, 'include_num_access': False, 'include_nmne': True, 'routers': [{'hostname': 'router_1'}], 'num_ports': 0, 'ip_list': ['192.168.1.10', '192.168.1.12', '192.168.1.14', '192.168.1.16', '192.168.1.110', '192.168.10.21', '192.168.10.22', '192.168.10.110'], 'wildcard_list': ['0.0.0.1'], 'port_list': [80, 5432], 'protocol_list': ['ICMP', 'TCP', 'UDP'], 'num_rules': 10}}, {'type': 'LINKS', 'label': 'LINKS', 'options': {'link_references': ['router_1:eth-1<->switch_1:eth-8', 'router_1:eth-2<->switch_2:eth-8', 'switch_1:eth-1<->domain_controller:eth-1', 'switch_1:eth-2<->web_server:eth-1', 'switch_1:eth-3<->database_server:eth-1', 'switch_1:eth-4<->backup_server:eth-1', 'switch_1:eth-7<->security_suite:eth-1', 'switch_2:eth-1<->client_1:eth-1', 'switch_2:eth-2<->client_2:eth-1', 'switch_2:eth-7<->security_suite:eth-2']}}, {'type': 'NONE', 'label': 'ICS', 'options': {}}]}}\n"
     ]
    },
    {
     "name": "stderr",
     "output_type": "stream",
     "text": [
      "2024-04-08 15:01:43,096: Resetting environment, episode 389, avg. reward: -60.40000000000004\n",
      "2024-04-08 15:01:43,098: Saving agent action log to C:\\Users\\CharlieCrane\\primaite\\3.0.0b7\\sessions\\2024-04-08\\14-49-25\\agent_actions\\episode_389.json\n"
     ]
    },
    {
     "name": "stdout",
     "output_type": "stream",
     "text": [
      "{'type': 'CUSTOM', 'options': {'components': [{'type': 'NODES', 'label': 'NODES', 'options': {'hosts': [{'hostname': 'domain_controller'}, {'hostname': 'web_server', 'services': [{'service_name': 'WebServer'}]}, {'hostname': 'database_server', 'folders': [{'folder_name': 'database', 'files': [{'file_name': 'database.db'}]}]}, {'hostname': 'backup_server'}, {'hostname': 'security_suite'}, {'hostname': 'client_1'}, {'hostname': 'client_2'}], 'num_services': 1, 'num_applications': 0, 'num_folders': 1, 'num_files': 1, 'num_nics': 2, 'include_num_access': False, 'include_nmne': True, 'routers': [{'hostname': 'router_1'}], 'num_ports': 0, 'ip_list': ['192.168.1.10', '192.168.1.12', '192.168.1.14', '192.168.1.16', '192.168.1.110', '192.168.10.21', '192.168.10.22', '192.168.10.110'], 'wildcard_list': ['0.0.0.1'], 'port_list': [80, 5432], 'protocol_list': ['ICMP', 'TCP', 'UDP'], 'num_rules': 10}}, {'type': 'LINKS', 'label': 'LINKS', 'options': {'link_references': ['router_1:eth-1<->switch_1:eth-8', 'router_1:eth-2<->switch_2:eth-8', 'switch_1:eth-1<->domain_controller:eth-1', 'switch_1:eth-2<->web_server:eth-1', 'switch_1:eth-3<->database_server:eth-1', 'switch_1:eth-4<->backup_server:eth-1', 'switch_1:eth-7<->security_suite:eth-1', 'switch_2:eth-1<->client_1:eth-1', 'switch_2:eth-2<->client_2:eth-1', 'switch_2:eth-7<->security_suite:eth-2']}}, {'type': 'NONE', 'label': 'ICS', 'options': {}}]}}\n"
     ]
    },
    {
     "name": "stderr",
     "output_type": "stream",
     "text": [
      "2024-04-08 15:01:45,309: Resetting environment, episode 390, avg. reward: -40.299999999999976\n",
      "2024-04-08 15:01:45,312: Saving agent action log to C:\\Users\\CharlieCrane\\primaite\\3.0.0b7\\sessions\\2024-04-08\\14-49-25\\agent_actions\\episode_390.json\n"
     ]
    },
    {
     "name": "stdout",
     "output_type": "stream",
     "text": [
      "{'type': 'CUSTOM', 'options': {'components': [{'type': 'NODES', 'label': 'NODES', 'options': {'hosts': [{'hostname': 'domain_controller'}, {'hostname': 'web_server', 'services': [{'service_name': 'WebServer'}]}, {'hostname': 'database_server', 'folders': [{'folder_name': 'database', 'files': [{'file_name': 'database.db'}]}]}, {'hostname': 'backup_server'}, {'hostname': 'security_suite'}, {'hostname': 'client_1'}, {'hostname': 'client_2'}], 'num_services': 1, 'num_applications': 0, 'num_folders': 1, 'num_files': 1, 'num_nics': 2, 'include_num_access': False, 'include_nmne': True, 'routers': [{'hostname': 'router_1'}], 'num_ports': 0, 'ip_list': ['192.168.1.10', '192.168.1.12', '192.168.1.14', '192.168.1.16', '192.168.1.110', '192.168.10.21', '192.168.10.22', '192.168.10.110'], 'wildcard_list': ['0.0.0.1'], 'port_list': [80, 5432], 'protocol_list': ['ICMP', 'TCP', 'UDP'], 'num_rules': 10}}, {'type': 'LINKS', 'label': 'LINKS', 'options': {'link_references': ['router_1:eth-1<->switch_1:eth-8', 'router_1:eth-2<->switch_2:eth-8', 'switch_1:eth-1<->domain_controller:eth-1', 'switch_1:eth-2<->web_server:eth-1', 'switch_1:eth-3<->database_server:eth-1', 'switch_1:eth-4<->backup_server:eth-1', 'switch_1:eth-7<->security_suite:eth-1', 'switch_2:eth-1<->client_1:eth-1', 'switch_2:eth-2<->client_2:eth-1', 'switch_2:eth-7<->security_suite:eth-2']}}, {'type': 'NONE', 'label': 'ICS', 'options': {}}]}}\n"
     ]
    },
    {
     "name": "stderr",
     "output_type": "stream",
     "text": [
      "2024-04-08 15:01:47,533: Resetting environment, episode 391, avg. reward: -9.300000000000024\n",
      "2024-04-08 15:01:47,536: Saving agent action log to C:\\Users\\CharlieCrane\\primaite\\3.0.0b7\\sessions\\2024-04-08\\14-49-25\\agent_actions\\episode_391.json\n"
     ]
    },
    {
     "name": "stdout",
     "output_type": "stream",
     "text": [
      "{'type': 'CUSTOM', 'options': {'components': [{'type': 'NODES', 'label': 'NODES', 'options': {'hosts': [{'hostname': 'domain_controller'}, {'hostname': 'web_server', 'services': [{'service_name': 'WebServer'}]}, {'hostname': 'database_server', 'folders': [{'folder_name': 'database', 'files': [{'file_name': 'database.db'}]}]}, {'hostname': 'backup_server'}, {'hostname': 'security_suite'}, {'hostname': 'client_1'}, {'hostname': 'client_2'}], 'num_services': 1, 'num_applications': 0, 'num_folders': 1, 'num_files': 1, 'num_nics': 2, 'include_num_access': False, 'include_nmne': True, 'routers': [{'hostname': 'router_1'}], 'num_ports': 0, 'ip_list': ['192.168.1.10', '192.168.1.12', '192.168.1.14', '192.168.1.16', '192.168.1.110', '192.168.10.21', '192.168.10.22', '192.168.10.110'], 'wildcard_list': ['0.0.0.1'], 'port_list': [80, 5432], 'protocol_list': ['ICMP', 'TCP', 'UDP'], 'num_rules': 10}}, {'type': 'LINKS', 'label': 'LINKS', 'options': {'link_references': ['router_1:eth-1<->switch_1:eth-8', 'router_1:eth-2<->switch_2:eth-8', 'switch_1:eth-1<->domain_controller:eth-1', 'switch_1:eth-2<->web_server:eth-1', 'switch_1:eth-3<->database_server:eth-1', 'switch_1:eth-4<->backup_server:eth-1', 'switch_1:eth-7<->security_suite:eth-1', 'switch_2:eth-1<->client_1:eth-1', 'switch_2:eth-2<->client_2:eth-1', 'switch_2:eth-7<->security_suite:eth-2']}}, {'type': 'NONE', 'label': 'ICS', 'options': {}}]}}\n"
     ]
    },
    {
     "name": "stderr",
     "output_type": "stream",
     "text": [
      "2024-04-08 15:01:49,645: Resetting environment, episode 392, avg. reward: -68.20000000000002\n",
      "2024-04-08 15:01:49,650: Saving agent action log to C:\\Users\\CharlieCrane\\primaite\\3.0.0b7\\sessions\\2024-04-08\\14-49-25\\agent_actions\\episode_392.json\n"
     ]
    },
    {
     "name": "stdout",
     "output_type": "stream",
     "text": [
      "{'type': 'CUSTOM', 'options': {'components': [{'type': 'NODES', 'label': 'NODES', 'options': {'hosts': [{'hostname': 'domain_controller'}, {'hostname': 'web_server', 'services': [{'service_name': 'WebServer'}]}, {'hostname': 'database_server', 'folders': [{'folder_name': 'database', 'files': [{'file_name': 'database.db'}]}]}, {'hostname': 'backup_server'}, {'hostname': 'security_suite'}, {'hostname': 'client_1'}, {'hostname': 'client_2'}], 'num_services': 1, 'num_applications': 0, 'num_folders': 1, 'num_files': 1, 'num_nics': 2, 'include_num_access': False, 'include_nmne': True, 'routers': [{'hostname': 'router_1'}], 'num_ports': 0, 'ip_list': ['192.168.1.10', '192.168.1.12', '192.168.1.14', '192.168.1.16', '192.168.1.110', '192.168.10.21', '192.168.10.22', '192.168.10.110'], 'wildcard_list': ['0.0.0.1'], 'port_list': [80, 5432], 'protocol_list': ['ICMP', 'TCP', 'UDP'], 'num_rules': 10}}, {'type': 'LINKS', 'label': 'LINKS', 'options': {'link_references': ['router_1:eth-1<->switch_1:eth-8', 'router_1:eth-2<->switch_2:eth-8', 'switch_1:eth-1<->domain_controller:eth-1', 'switch_1:eth-2<->web_server:eth-1', 'switch_1:eth-3<->database_server:eth-1', 'switch_1:eth-4<->backup_server:eth-1', 'switch_1:eth-7<->security_suite:eth-1', 'switch_2:eth-1<->client_1:eth-1', 'switch_2:eth-2<->client_2:eth-1', 'switch_2:eth-7<->security_suite:eth-2']}}, {'type': 'NONE', 'label': 'ICS', 'options': {}}]}}\n"
     ]
    },
    {
     "name": "stderr",
     "output_type": "stream",
     "text": [
      "2024-04-08 15:01:51,698: Resetting environment, episode 393, avg. reward: -12.050000000000015\n",
      "2024-04-08 15:01:51,698: Saving agent action log to C:\\Users\\CharlieCrane\\primaite\\3.0.0b7\\sessions\\2024-04-08\\14-49-25\\agent_actions\\episode_393.json\n"
     ]
    },
    {
     "name": "stdout",
     "output_type": "stream",
     "text": [
      "{'type': 'CUSTOM', 'options': {'components': [{'type': 'NODES', 'label': 'NODES', 'options': {'hosts': [{'hostname': 'domain_controller'}, {'hostname': 'web_server', 'services': [{'service_name': 'WebServer'}]}, {'hostname': 'database_server', 'folders': [{'folder_name': 'database', 'files': [{'file_name': 'database.db'}]}]}, {'hostname': 'backup_server'}, {'hostname': 'security_suite'}, {'hostname': 'client_1'}, {'hostname': 'client_2'}], 'num_services': 1, 'num_applications': 0, 'num_folders': 1, 'num_files': 1, 'num_nics': 2, 'include_num_access': False, 'include_nmne': True, 'routers': [{'hostname': 'router_1'}], 'num_ports': 0, 'ip_list': ['192.168.1.10', '192.168.1.12', '192.168.1.14', '192.168.1.16', '192.168.1.110', '192.168.10.21', '192.168.10.22', '192.168.10.110'], 'wildcard_list': ['0.0.0.1'], 'port_list': [80, 5432], 'protocol_list': ['ICMP', 'TCP', 'UDP'], 'num_rules': 10}}, {'type': 'LINKS', 'label': 'LINKS', 'options': {'link_references': ['router_1:eth-1<->switch_1:eth-8', 'router_1:eth-2<->switch_2:eth-8', 'switch_1:eth-1<->domain_controller:eth-1', 'switch_1:eth-2<->web_server:eth-1', 'switch_1:eth-3<->database_server:eth-1', 'switch_1:eth-4<->backup_server:eth-1', 'switch_1:eth-7<->security_suite:eth-1', 'switch_2:eth-1<->client_1:eth-1', 'switch_2:eth-2<->client_2:eth-1', 'switch_2:eth-7<->security_suite:eth-2']}}, {'type': 'NONE', 'label': 'ICS', 'options': {}}]}}\n"
     ]
    },
    {
     "name": "stderr",
     "output_type": "stream",
     "text": [
      "2024-04-08 15:01:53,431: Resetting environment, episode 394, avg. reward: -45.90000000000007\n",
      "2024-04-08 15:01:53,434: Saving agent action log to C:\\Users\\CharlieCrane\\primaite\\3.0.0b7\\sessions\\2024-04-08\\14-49-25\\agent_actions\\episode_394.json\n"
     ]
    },
    {
     "name": "stdout",
     "output_type": "stream",
     "text": [
      "{'type': 'CUSTOM', 'options': {'components': [{'type': 'NODES', 'label': 'NODES', 'options': {'hosts': [{'hostname': 'domain_controller'}, {'hostname': 'web_server', 'services': [{'service_name': 'WebServer'}]}, {'hostname': 'database_server', 'folders': [{'folder_name': 'database', 'files': [{'file_name': 'database.db'}]}]}, {'hostname': 'backup_server'}, {'hostname': 'security_suite'}, {'hostname': 'client_1'}, {'hostname': 'client_2'}], 'num_services': 1, 'num_applications': 0, 'num_folders': 1, 'num_files': 1, 'num_nics': 2, 'include_num_access': False, 'include_nmne': True, 'routers': [{'hostname': 'router_1'}], 'num_ports': 0, 'ip_list': ['192.168.1.10', '192.168.1.12', '192.168.1.14', '192.168.1.16', '192.168.1.110', '192.168.10.21', '192.168.10.22', '192.168.10.110'], 'wildcard_list': ['0.0.0.1'], 'port_list': [80, 5432], 'protocol_list': ['ICMP', 'TCP', 'UDP'], 'num_rules': 10}}, {'type': 'LINKS', 'label': 'LINKS', 'options': {'link_references': ['router_1:eth-1<->switch_1:eth-8', 'router_1:eth-2<->switch_2:eth-8', 'switch_1:eth-1<->domain_controller:eth-1', 'switch_1:eth-2<->web_server:eth-1', 'switch_1:eth-3<->database_server:eth-1', 'switch_1:eth-4<->backup_server:eth-1', 'switch_1:eth-7<->security_suite:eth-1', 'switch_2:eth-1<->client_1:eth-1', 'switch_2:eth-2<->client_2:eth-1', 'switch_2:eth-7<->security_suite:eth-2']}}, {'type': 'NONE', 'label': 'ICS', 'options': {}}]}}\n"
     ]
    },
    {
     "name": "stderr",
     "output_type": "stream",
     "text": [
      "2024-04-08 15:01:55,444: Resetting environment, episode 395, avg. reward: -7.850000000000001\n",
      "2024-04-08 15:01:55,444: Saving agent action log to C:\\Users\\CharlieCrane\\primaite\\3.0.0b7\\sessions\\2024-04-08\\14-49-25\\agent_actions\\episode_395.json\n"
     ]
    },
    {
     "name": "stdout",
     "output_type": "stream",
     "text": [
      "{'type': 'CUSTOM', 'options': {'components': [{'type': 'NODES', 'label': 'NODES', 'options': {'hosts': [{'hostname': 'domain_controller'}, {'hostname': 'web_server', 'services': [{'service_name': 'WebServer'}]}, {'hostname': 'database_server', 'folders': [{'folder_name': 'database', 'files': [{'file_name': 'database.db'}]}]}, {'hostname': 'backup_server'}, {'hostname': 'security_suite'}, {'hostname': 'client_1'}, {'hostname': 'client_2'}], 'num_services': 1, 'num_applications': 0, 'num_folders': 1, 'num_files': 1, 'num_nics': 2, 'include_num_access': False, 'include_nmne': True, 'routers': [{'hostname': 'router_1'}], 'num_ports': 0, 'ip_list': ['192.168.1.10', '192.168.1.12', '192.168.1.14', '192.168.1.16', '192.168.1.110', '192.168.10.21', '192.168.10.22', '192.168.10.110'], 'wildcard_list': ['0.0.0.1'], 'port_list': [80, 5432], 'protocol_list': ['ICMP', 'TCP', 'UDP'], 'num_rules': 10}}, {'type': 'LINKS', 'label': 'LINKS', 'options': {'link_references': ['router_1:eth-1<->switch_1:eth-8', 'router_1:eth-2<->switch_2:eth-8', 'switch_1:eth-1<->domain_controller:eth-1', 'switch_1:eth-2<->web_server:eth-1', 'switch_1:eth-3<->database_server:eth-1', 'switch_1:eth-4<->backup_server:eth-1', 'switch_1:eth-7<->security_suite:eth-1', 'switch_2:eth-1<->client_1:eth-1', 'switch_2:eth-2<->client_2:eth-1', 'switch_2:eth-7<->security_suite:eth-2']}}, {'type': 'NONE', 'label': 'ICS', 'options': {}}]}}\n"
     ]
    },
    {
     "name": "stderr",
     "output_type": "stream",
     "text": [
      "2024-04-08 15:01:57,778: Resetting environment, episode 396, avg. reward: -81.24999999999994\n",
      "2024-04-08 15:01:57,783: Saving agent action log to C:\\Users\\CharlieCrane\\primaite\\3.0.0b7\\sessions\\2024-04-08\\14-49-25\\agent_actions\\episode_396.json\n"
     ]
    },
    {
     "name": "stdout",
     "output_type": "stream",
     "text": [
      "{'type': 'CUSTOM', 'options': {'components': [{'type': 'NODES', 'label': 'NODES', 'options': {'hosts': [{'hostname': 'domain_controller'}, {'hostname': 'web_server', 'services': [{'service_name': 'WebServer'}]}, {'hostname': 'database_server', 'folders': [{'folder_name': 'database', 'files': [{'file_name': 'database.db'}]}]}, {'hostname': 'backup_server'}, {'hostname': 'security_suite'}, {'hostname': 'client_1'}, {'hostname': 'client_2'}], 'num_services': 1, 'num_applications': 0, 'num_folders': 1, 'num_files': 1, 'num_nics': 2, 'include_num_access': False, 'include_nmne': True, 'routers': [{'hostname': 'router_1'}], 'num_ports': 0, 'ip_list': ['192.168.1.10', '192.168.1.12', '192.168.1.14', '192.168.1.16', '192.168.1.110', '192.168.10.21', '192.168.10.22', '192.168.10.110'], 'wildcard_list': ['0.0.0.1'], 'port_list': [80, 5432], 'protocol_list': ['ICMP', 'TCP', 'UDP'], 'num_rules': 10}}, {'type': 'LINKS', 'label': 'LINKS', 'options': {'link_references': ['router_1:eth-1<->switch_1:eth-8', 'router_1:eth-2<->switch_2:eth-8', 'switch_1:eth-1<->domain_controller:eth-1', 'switch_1:eth-2<->web_server:eth-1', 'switch_1:eth-3<->database_server:eth-1', 'switch_1:eth-4<->backup_server:eth-1', 'switch_1:eth-7<->security_suite:eth-1', 'switch_2:eth-1<->client_1:eth-1', 'switch_2:eth-2<->client_2:eth-1', 'switch_2:eth-7<->security_suite:eth-2']}}, {'type': 'NONE', 'label': 'ICS', 'options': {}}]}}\n"
     ]
    },
    {
     "name": "stderr",
     "output_type": "stream",
     "text": [
      "2024-04-08 15:02:00,035: Resetting environment, episode 397, avg. reward: 35.40000000000004\n",
      "2024-04-08 15:02:00,039: Saving agent action log to C:\\Users\\CharlieCrane\\primaite\\3.0.0b7\\sessions\\2024-04-08\\14-49-25\\agent_actions\\episode_397.json\n"
     ]
    },
    {
     "name": "stdout",
     "output_type": "stream",
     "text": [
      "{'type': 'CUSTOM', 'options': {'components': [{'type': 'NODES', 'label': 'NODES', 'options': {'hosts': [{'hostname': 'domain_controller'}, {'hostname': 'web_server', 'services': [{'service_name': 'WebServer'}]}, {'hostname': 'database_server', 'folders': [{'folder_name': 'database', 'files': [{'file_name': 'database.db'}]}]}, {'hostname': 'backup_server'}, {'hostname': 'security_suite'}, {'hostname': 'client_1'}, {'hostname': 'client_2'}], 'num_services': 1, 'num_applications': 0, 'num_folders': 1, 'num_files': 1, 'num_nics': 2, 'include_num_access': False, 'include_nmne': True, 'routers': [{'hostname': 'router_1'}], 'num_ports': 0, 'ip_list': ['192.168.1.10', '192.168.1.12', '192.168.1.14', '192.168.1.16', '192.168.1.110', '192.168.10.21', '192.168.10.22', '192.168.10.110'], 'wildcard_list': ['0.0.0.1'], 'port_list': [80, 5432], 'protocol_list': ['ICMP', 'TCP', 'UDP'], 'num_rules': 10}}, {'type': 'LINKS', 'label': 'LINKS', 'options': {'link_references': ['router_1:eth-1<->switch_1:eth-8', 'router_1:eth-2<->switch_2:eth-8', 'switch_1:eth-1<->domain_controller:eth-1', 'switch_1:eth-2<->web_server:eth-1', 'switch_1:eth-3<->database_server:eth-1', 'switch_1:eth-4<->backup_server:eth-1', 'switch_1:eth-7<->security_suite:eth-1', 'switch_2:eth-1<->client_1:eth-1', 'switch_2:eth-2<->client_2:eth-1', 'switch_2:eth-7<->security_suite:eth-2']}}, {'type': 'NONE', 'label': 'ICS', 'options': {}}]}}\n"
     ]
    },
    {
     "name": "stderr",
     "output_type": "stream",
     "text": [
      "2024-04-08 15:02:02,146: Resetting environment, episode 398, avg. reward: -9.550000000000082\n",
      "2024-04-08 15:02:02,148: Saving agent action log to C:\\Users\\CharlieCrane\\primaite\\3.0.0b7\\sessions\\2024-04-08\\14-49-25\\agent_actions\\episode_398.json\n"
     ]
    },
    {
     "name": "stdout",
     "output_type": "stream",
     "text": [
      "{'type': 'CUSTOM', 'options': {'components': [{'type': 'NODES', 'label': 'NODES', 'options': {'hosts': [{'hostname': 'domain_controller'}, {'hostname': 'web_server', 'services': [{'service_name': 'WebServer'}]}, {'hostname': 'database_server', 'folders': [{'folder_name': 'database', 'files': [{'file_name': 'database.db'}]}]}, {'hostname': 'backup_server'}, {'hostname': 'security_suite'}, {'hostname': 'client_1'}, {'hostname': 'client_2'}], 'num_services': 1, 'num_applications': 0, 'num_folders': 1, 'num_files': 1, 'num_nics': 2, 'include_num_access': False, 'include_nmne': True, 'routers': [{'hostname': 'router_1'}], 'num_ports': 0, 'ip_list': ['192.168.1.10', '192.168.1.12', '192.168.1.14', '192.168.1.16', '192.168.1.110', '192.168.10.21', '192.168.10.22', '192.168.10.110'], 'wildcard_list': ['0.0.0.1'], 'port_list': [80, 5432], 'protocol_list': ['ICMP', 'TCP', 'UDP'], 'num_rules': 10}}, {'type': 'LINKS', 'label': 'LINKS', 'options': {'link_references': ['router_1:eth-1<->switch_1:eth-8', 'router_1:eth-2<->switch_2:eth-8', 'switch_1:eth-1<->domain_controller:eth-1', 'switch_1:eth-2<->web_server:eth-1', 'switch_1:eth-3<->database_server:eth-1', 'switch_1:eth-4<->backup_server:eth-1', 'switch_1:eth-7<->security_suite:eth-1', 'switch_2:eth-1<->client_1:eth-1', 'switch_2:eth-2<->client_2:eth-1', 'switch_2:eth-7<->security_suite:eth-2']}}, {'type': 'NONE', 'label': 'ICS', 'options': {}}]}}\n"
     ]
    },
    {
     "name": "stderr",
     "output_type": "stream",
     "text": [
      "2024-04-08 15:02:04,122: Resetting environment, episode 399, avg. reward: 10.550000000000026\n",
      "2024-04-08 15:02:04,126: Saving agent action log to C:\\Users\\CharlieCrane\\primaite\\3.0.0b7\\sessions\\2024-04-08\\14-49-25\\agent_actions\\episode_399.json\n"
     ]
    },
    {
     "name": "stdout",
     "output_type": "stream",
     "text": [
      "{'type': 'CUSTOM', 'options': {'components': [{'type': 'NODES', 'label': 'NODES', 'options': {'hosts': [{'hostname': 'domain_controller'}, {'hostname': 'web_server', 'services': [{'service_name': 'WebServer'}]}, {'hostname': 'database_server', 'folders': [{'folder_name': 'database', 'files': [{'file_name': 'database.db'}]}]}, {'hostname': 'backup_server'}, {'hostname': 'security_suite'}, {'hostname': 'client_1'}, {'hostname': 'client_2'}], 'num_services': 1, 'num_applications': 0, 'num_folders': 1, 'num_files': 1, 'num_nics': 2, 'include_num_access': False, 'include_nmne': True, 'routers': [{'hostname': 'router_1'}], 'num_ports': 0, 'ip_list': ['192.168.1.10', '192.168.1.12', '192.168.1.14', '192.168.1.16', '192.168.1.110', '192.168.10.21', '192.168.10.22', '192.168.10.110'], 'wildcard_list': ['0.0.0.1'], 'port_list': [80, 5432], 'protocol_list': ['ICMP', 'TCP', 'UDP'], 'num_rules': 10}}, {'type': 'LINKS', 'label': 'LINKS', 'options': {'link_references': ['router_1:eth-1<->switch_1:eth-8', 'router_1:eth-2<->switch_2:eth-8', 'switch_1:eth-1<->domain_controller:eth-1', 'switch_1:eth-2<->web_server:eth-1', 'switch_1:eth-3<->database_server:eth-1', 'switch_1:eth-4<->backup_server:eth-1', 'switch_1:eth-7<->security_suite:eth-1', 'switch_2:eth-1<->client_1:eth-1', 'switch_2:eth-2<->client_2:eth-1', 'switch_2:eth-7<->security_suite:eth-2']}}, {'type': 'NONE', 'label': 'ICS', 'options': {}}]}}\n"
     ]
    },
    {
     "name": "stderr",
     "output_type": "stream",
     "text": [
      "2024-04-08 15:02:06,128: Resetting environment, episode 400, avg. reward: -2.7499999999999734\n",
      "2024-04-08 15:02:06,132: Saving agent action log to C:\\Users\\CharlieCrane\\primaite\\3.0.0b7\\sessions\\2024-04-08\\14-49-25\\agent_actions\\episode_400.json\n"
     ]
    },
    {
     "name": "stdout",
     "output_type": "stream",
     "text": [
      "{'type': 'CUSTOM', 'options': {'components': [{'type': 'NODES', 'label': 'NODES', 'options': {'hosts': [{'hostname': 'domain_controller'}, {'hostname': 'web_server', 'services': [{'service_name': 'WebServer'}]}, {'hostname': 'database_server', 'folders': [{'folder_name': 'database', 'files': [{'file_name': 'database.db'}]}]}, {'hostname': 'backup_server'}, {'hostname': 'security_suite'}, {'hostname': 'client_1'}, {'hostname': 'client_2'}], 'num_services': 1, 'num_applications': 0, 'num_folders': 1, 'num_files': 1, 'num_nics': 2, 'include_num_access': False, 'include_nmne': True, 'routers': [{'hostname': 'router_1'}], 'num_ports': 0, 'ip_list': ['192.168.1.10', '192.168.1.12', '192.168.1.14', '192.168.1.16', '192.168.1.110', '192.168.10.21', '192.168.10.22', '192.168.10.110'], 'wildcard_list': ['0.0.0.1'], 'port_list': [80, 5432], 'protocol_list': ['ICMP', 'TCP', 'UDP'], 'num_rules': 10}}, {'type': 'LINKS', 'label': 'LINKS', 'options': {'link_references': ['router_1:eth-1<->switch_1:eth-8', 'router_1:eth-2<->switch_2:eth-8', 'switch_1:eth-1<->domain_controller:eth-1', 'switch_1:eth-2<->web_server:eth-1', 'switch_1:eth-3<->database_server:eth-1', 'switch_1:eth-4<->backup_server:eth-1', 'switch_1:eth-7<->security_suite:eth-1', 'switch_2:eth-1<->client_1:eth-1', 'switch_2:eth-2<->client_2:eth-1', 'switch_2:eth-7<->security_suite:eth-2']}}, {'type': 'NONE', 'label': 'ICS', 'options': {}}]}}\n"
     ]
    },
    {
     "name": "stderr",
     "output_type": "stream",
     "text": [
      "2024-04-08 15:02:08,277: Resetting environment, episode 401, avg. reward: 11.199999999999974\n",
      "2024-04-08 15:02:08,281: Saving agent action log to C:\\Users\\CharlieCrane\\primaite\\3.0.0b7\\sessions\\2024-04-08\\14-49-25\\agent_actions\\episode_401.json\n"
     ]
    },
    {
     "name": "stdout",
     "output_type": "stream",
     "text": [
      "{'type': 'CUSTOM', 'options': {'components': [{'type': 'NODES', 'label': 'NODES', 'options': {'hosts': [{'hostname': 'domain_controller'}, {'hostname': 'web_server', 'services': [{'service_name': 'WebServer'}]}, {'hostname': 'database_server', 'folders': [{'folder_name': 'database', 'files': [{'file_name': 'database.db'}]}]}, {'hostname': 'backup_server'}, {'hostname': 'security_suite'}, {'hostname': 'client_1'}, {'hostname': 'client_2'}], 'num_services': 1, 'num_applications': 0, 'num_folders': 1, 'num_files': 1, 'num_nics': 2, 'include_num_access': False, 'include_nmne': True, 'routers': [{'hostname': 'router_1'}], 'num_ports': 0, 'ip_list': ['192.168.1.10', '192.168.1.12', '192.168.1.14', '192.168.1.16', '192.168.1.110', '192.168.10.21', '192.168.10.22', '192.168.10.110'], 'wildcard_list': ['0.0.0.1'], 'port_list': [80, 5432], 'protocol_list': ['ICMP', 'TCP', 'UDP'], 'num_rules': 10}}, {'type': 'LINKS', 'label': 'LINKS', 'options': {'link_references': ['router_1:eth-1<->switch_1:eth-8', 'router_1:eth-2<->switch_2:eth-8', 'switch_1:eth-1<->domain_controller:eth-1', 'switch_1:eth-2<->web_server:eth-1', 'switch_1:eth-3<->database_server:eth-1', 'switch_1:eth-4<->backup_server:eth-1', 'switch_1:eth-7<->security_suite:eth-1', 'switch_2:eth-1<->client_1:eth-1', 'switch_2:eth-2<->client_2:eth-1', 'switch_2:eth-7<->security_suite:eth-2']}}, {'type': 'NONE', 'label': 'ICS', 'options': {}}]}}\n"
     ]
    },
    {
     "name": "stderr",
     "output_type": "stream",
     "text": [
      "2024-04-08 15:02:10,123: Resetting environment, episode 402, avg. reward: 38.94999999999992\n",
      "2024-04-08 15:02:10,126: Saving agent action log to C:\\Users\\CharlieCrane\\primaite\\3.0.0b7\\sessions\\2024-04-08\\14-49-25\\agent_actions\\episode_402.json\n"
     ]
    },
    {
     "name": "stdout",
     "output_type": "stream",
     "text": [
      "{'type': 'CUSTOM', 'options': {'components': [{'type': 'NODES', 'label': 'NODES', 'options': {'hosts': [{'hostname': 'domain_controller'}, {'hostname': 'web_server', 'services': [{'service_name': 'WebServer'}]}, {'hostname': 'database_server', 'folders': [{'folder_name': 'database', 'files': [{'file_name': 'database.db'}]}]}, {'hostname': 'backup_server'}, {'hostname': 'security_suite'}, {'hostname': 'client_1'}, {'hostname': 'client_2'}], 'num_services': 1, 'num_applications': 0, 'num_folders': 1, 'num_files': 1, 'num_nics': 2, 'include_num_access': False, 'include_nmne': True, 'routers': [{'hostname': 'router_1'}], 'num_ports': 0, 'ip_list': ['192.168.1.10', '192.168.1.12', '192.168.1.14', '192.168.1.16', '192.168.1.110', '192.168.10.21', '192.168.10.22', '192.168.10.110'], 'wildcard_list': ['0.0.0.1'], 'port_list': [80, 5432], 'protocol_list': ['ICMP', 'TCP', 'UDP'], 'num_rules': 10}}, {'type': 'LINKS', 'label': 'LINKS', 'options': {'link_references': ['router_1:eth-1<->switch_1:eth-8', 'router_1:eth-2<->switch_2:eth-8', 'switch_1:eth-1<->domain_controller:eth-1', 'switch_1:eth-2<->web_server:eth-1', 'switch_1:eth-3<->database_server:eth-1', 'switch_1:eth-4<->backup_server:eth-1', 'switch_1:eth-7<->security_suite:eth-1', 'switch_2:eth-1<->client_1:eth-1', 'switch_2:eth-2<->client_2:eth-1', 'switch_2:eth-7<->security_suite:eth-2']}}, {'type': 'NONE', 'label': 'ICS', 'options': {}}]}}\n"
     ]
    },
    {
     "name": "stderr",
     "output_type": "stream",
     "text": [
      "2024-04-08 15:02:12,770: Resetting environment, episode 403, avg. reward: 40.150000000000006\n",
      "2024-04-08 15:02:12,774: Saving agent action log to C:\\Users\\CharlieCrane\\primaite\\3.0.0b7\\sessions\\2024-04-08\\14-49-25\\agent_actions\\episode_403.json\n"
     ]
    },
    {
     "name": "stdout",
     "output_type": "stream",
     "text": [
      "{'type': 'CUSTOM', 'options': {'components': [{'type': 'NODES', 'label': 'NODES', 'options': {'hosts': [{'hostname': 'domain_controller'}, {'hostname': 'web_server', 'services': [{'service_name': 'WebServer'}]}, {'hostname': 'database_server', 'folders': [{'folder_name': 'database', 'files': [{'file_name': 'database.db'}]}]}, {'hostname': 'backup_server'}, {'hostname': 'security_suite'}, {'hostname': 'client_1'}, {'hostname': 'client_2'}], 'num_services': 1, 'num_applications': 0, 'num_folders': 1, 'num_files': 1, 'num_nics': 2, 'include_num_access': False, 'include_nmne': True, 'routers': [{'hostname': 'router_1'}], 'num_ports': 0, 'ip_list': ['192.168.1.10', '192.168.1.12', '192.168.1.14', '192.168.1.16', '192.168.1.110', '192.168.10.21', '192.168.10.22', '192.168.10.110'], 'wildcard_list': ['0.0.0.1'], 'port_list': [80, 5432], 'protocol_list': ['ICMP', 'TCP', 'UDP'], 'num_rules': 10}}, {'type': 'LINKS', 'label': 'LINKS', 'options': {'link_references': ['router_1:eth-1<->switch_1:eth-8', 'router_1:eth-2<->switch_2:eth-8', 'switch_1:eth-1<->domain_controller:eth-1', 'switch_1:eth-2<->web_server:eth-1', 'switch_1:eth-3<->database_server:eth-1', 'switch_1:eth-4<->backup_server:eth-1', 'switch_1:eth-7<->security_suite:eth-1', 'switch_2:eth-1<->client_1:eth-1', 'switch_2:eth-2<->client_2:eth-1', 'switch_2:eth-7<->security_suite:eth-2']}}, {'type': 'NONE', 'label': 'ICS', 'options': {}}]}}\n"
     ]
    },
    {
     "name": "stderr",
     "output_type": "stream",
     "text": [
      "2024-04-08 15:02:14,630: Resetting environment, episode 404, avg. reward: -28.65000000000003\n",
      "2024-04-08 15:02:14,633: Saving agent action log to C:\\Users\\CharlieCrane\\primaite\\3.0.0b7\\sessions\\2024-04-08\\14-49-25\\agent_actions\\episode_404.json\n"
     ]
    },
    {
     "name": "stdout",
     "output_type": "stream",
     "text": [
      "{'type': 'CUSTOM', 'options': {'components': [{'type': 'NODES', 'label': 'NODES', 'options': {'hosts': [{'hostname': 'domain_controller'}, {'hostname': 'web_server', 'services': [{'service_name': 'WebServer'}]}, {'hostname': 'database_server', 'folders': [{'folder_name': 'database', 'files': [{'file_name': 'database.db'}]}]}, {'hostname': 'backup_server'}, {'hostname': 'security_suite'}, {'hostname': 'client_1'}, {'hostname': 'client_2'}], 'num_services': 1, 'num_applications': 0, 'num_folders': 1, 'num_files': 1, 'num_nics': 2, 'include_num_access': False, 'include_nmne': True, 'routers': [{'hostname': 'router_1'}], 'num_ports': 0, 'ip_list': ['192.168.1.10', '192.168.1.12', '192.168.1.14', '192.168.1.16', '192.168.1.110', '192.168.10.21', '192.168.10.22', '192.168.10.110'], 'wildcard_list': ['0.0.0.1'], 'port_list': [80, 5432], 'protocol_list': ['ICMP', 'TCP', 'UDP'], 'num_rules': 10}}, {'type': 'LINKS', 'label': 'LINKS', 'options': {'link_references': ['router_1:eth-1<->switch_1:eth-8', 'router_1:eth-2<->switch_2:eth-8', 'switch_1:eth-1<->domain_controller:eth-1', 'switch_1:eth-2<->web_server:eth-1', 'switch_1:eth-3<->database_server:eth-1', 'switch_1:eth-4<->backup_server:eth-1', 'switch_1:eth-7<->security_suite:eth-1', 'switch_2:eth-1<->client_1:eth-1', 'switch_2:eth-2<->client_2:eth-1', 'switch_2:eth-7<->security_suite:eth-2']}}, {'type': 'NONE', 'label': 'ICS', 'options': {}}]}}\n"
     ]
    },
    {
     "name": "stderr",
     "output_type": "stream",
     "text": [
      "2024-04-08 15:02:16,440: Resetting environment, episode 405, avg. reward: 32.25000000000001\n",
      "2024-04-08 15:02:16,443: Saving agent action log to C:\\Users\\CharlieCrane\\primaite\\3.0.0b7\\sessions\\2024-04-08\\14-49-25\\agent_actions\\episode_405.json\n"
     ]
    },
    {
     "name": "stdout",
     "output_type": "stream",
     "text": [
      "{'type': 'CUSTOM', 'options': {'components': [{'type': 'NODES', 'label': 'NODES', 'options': {'hosts': [{'hostname': 'domain_controller'}, {'hostname': 'web_server', 'services': [{'service_name': 'WebServer'}]}, {'hostname': 'database_server', 'folders': [{'folder_name': 'database', 'files': [{'file_name': 'database.db'}]}]}, {'hostname': 'backup_server'}, {'hostname': 'security_suite'}, {'hostname': 'client_1'}, {'hostname': 'client_2'}], 'num_services': 1, 'num_applications': 0, 'num_folders': 1, 'num_files': 1, 'num_nics': 2, 'include_num_access': False, 'include_nmne': True, 'routers': [{'hostname': 'router_1'}], 'num_ports': 0, 'ip_list': ['192.168.1.10', '192.168.1.12', '192.168.1.14', '192.168.1.16', '192.168.1.110', '192.168.10.21', '192.168.10.22', '192.168.10.110'], 'wildcard_list': ['0.0.0.1'], 'port_list': [80, 5432], 'protocol_list': ['ICMP', 'TCP', 'UDP'], 'num_rules': 10}}, {'type': 'LINKS', 'label': 'LINKS', 'options': {'link_references': ['router_1:eth-1<->switch_1:eth-8', 'router_1:eth-2<->switch_2:eth-8', 'switch_1:eth-1<->domain_controller:eth-1', 'switch_1:eth-2<->web_server:eth-1', 'switch_1:eth-3<->database_server:eth-1', 'switch_1:eth-4<->backup_server:eth-1', 'switch_1:eth-7<->security_suite:eth-1', 'switch_2:eth-1<->client_1:eth-1', 'switch_2:eth-2<->client_2:eth-1', 'switch_2:eth-7<->security_suite:eth-2']}}, {'type': 'NONE', 'label': 'ICS', 'options': {}}]}}\n"
     ]
    },
    {
     "name": "stderr",
     "output_type": "stream",
     "text": [
      "2024-04-08 15:02:18,127: Resetting environment, episode 406, avg. reward: -11.699999999999982\n",
      "2024-04-08 15:02:18,130: Saving agent action log to C:\\Users\\CharlieCrane\\primaite\\3.0.0b7\\sessions\\2024-04-08\\14-49-25\\agent_actions\\episode_406.json\n"
     ]
    },
    {
     "name": "stdout",
     "output_type": "stream",
     "text": [
      "{'type': 'CUSTOM', 'options': {'components': [{'type': 'NODES', 'label': 'NODES', 'options': {'hosts': [{'hostname': 'domain_controller'}, {'hostname': 'web_server', 'services': [{'service_name': 'WebServer'}]}, {'hostname': 'database_server', 'folders': [{'folder_name': 'database', 'files': [{'file_name': 'database.db'}]}]}, {'hostname': 'backup_server'}, {'hostname': 'security_suite'}, {'hostname': 'client_1'}, {'hostname': 'client_2'}], 'num_services': 1, 'num_applications': 0, 'num_folders': 1, 'num_files': 1, 'num_nics': 2, 'include_num_access': False, 'include_nmne': True, 'routers': [{'hostname': 'router_1'}], 'num_ports': 0, 'ip_list': ['192.168.1.10', '192.168.1.12', '192.168.1.14', '192.168.1.16', '192.168.1.110', '192.168.10.21', '192.168.10.22', '192.168.10.110'], 'wildcard_list': ['0.0.0.1'], 'port_list': [80, 5432], 'protocol_list': ['ICMP', 'TCP', 'UDP'], 'num_rules': 10}}, {'type': 'LINKS', 'label': 'LINKS', 'options': {'link_references': ['router_1:eth-1<->switch_1:eth-8', 'router_1:eth-2<->switch_2:eth-8', 'switch_1:eth-1<->domain_controller:eth-1', 'switch_1:eth-2<->web_server:eth-1', 'switch_1:eth-3<->database_server:eth-1', 'switch_1:eth-4<->backup_server:eth-1', 'switch_1:eth-7<->security_suite:eth-1', 'switch_2:eth-1<->client_1:eth-1', 'switch_2:eth-2<->client_2:eth-1', 'switch_2:eth-7<->security_suite:eth-2']}}, {'type': 'NONE', 'label': 'ICS', 'options': {}}]}}\n"
     ]
    },
    {
     "name": "stderr",
     "output_type": "stream",
     "text": [
      "2024-04-08 15:02:20,294: Resetting environment, episode 407, avg. reward: 51.299999999999976\n",
      "2024-04-08 15:02:20,297: Saving agent action log to C:\\Users\\CharlieCrane\\primaite\\3.0.0b7\\sessions\\2024-04-08\\14-49-25\\agent_actions\\episode_407.json\n"
     ]
    },
    {
     "name": "stdout",
     "output_type": "stream",
     "text": [
      "{'type': 'CUSTOM', 'options': {'components': [{'type': 'NODES', 'label': 'NODES', 'options': {'hosts': [{'hostname': 'domain_controller'}, {'hostname': 'web_server', 'services': [{'service_name': 'WebServer'}]}, {'hostname': 'database_server', 'folders': [{'folder_name': 'database', 'files': [{'file_name': 'database.db'}]}]}, {'hostname': 'backup_server'}, {'hostname': 'security_suite'}, {'hostname': 'client_1'}, {'hostname': 'client_2'}], 'num_services': 1, 'num_applications': 0, 'num_folders': 1, 'num_files': 1, 'num_nics': 2, 'include_num_access': False, 'include_nmne': True, 'routers': [{'hostname': 'router_1'}], 'num_ports': 0, 'ip_list': ['192.168.1.10', '192.168.1.12', '192.168.1.14', '192.168.1.16', '192.168.1.110', '192.168.10.21', '192.168.10.22', '192.168.10.110'], 'wildcard_list': ['0.0.0.1'], 'port_list': [80, 5432], 'protocol_list': ['ICMP', 'TCP', 'UDP'], 'num_rules': 10}}, {'type': 'LINKS', 'label': 'LINKS', 'options': {'link_references': ['router_1:eth-1<->switch_1:eth-8', 'router_1:eth-2<->switch_2:eth-8', 'switch_1:eth-1<->domain_controller:eth-1', 'switch_1:eth-2<->web_server:eth-1', 'switch_1:eth-3<->database_server:eth-1', 'switch_1:eth-4<->backup_server:eth-1', 'switch_1:eth-7<->security_suite:eth-1', 'switch_2:eth-1<->client_1:eth-1', 'switch_2:eth-2<->client_2:eth-1', 'switch_2:eth-7<->security_suite:eth-2']}}, {'type': 'NONE', 'label': 'ICS', 'options': {}}]}}\n"
     ]
    },
    {
     "name": "stderr",
     "output_type": "stream",
     "text": [
      "2024-04-08 15:02:22,154: Resetting environment, episode 408, avg. reward: 10.399999999999963\n",
      "2024-04-08 15:02:22,157: Saving agent action log to C:\\Users\\CharlieCrane\\primaite\\3.0.0b7\\sessions\\2024-04-08\\14-49-25\\agent_actions\\episode_408.json\n"
     ]
    },
    {
     "name": "stdout",
     "output_type": "stream",
     "text": [
      "{'type': 'CUSTOM', 'options': {'components': [{'type': 'NODES', 'label': 'NODES', 'options': {'hosts': [{'hostname': 'domain_controller'}, {'hostname': 'web_server', 'services': [{'service_name': 'WebServer'}]}, {'hostname': 'database_server', 'folders': [{'folder_name': 'database', 'files': [{'file_name': 'database.db'}]}]}, {'hostname': 'backup_server'}, {'hostname': 'security_suite'}, {'hostname': 'client_1'}, {'hostname': 'client_2'}], 'num_services': 1, 'num_applications': 0, 'num_folders': 1, 'num_files': 1, 'num_nics': 2, 'include_num_access': False, 'include_nmne': True, 'routers': [{'hostname': 'router_1'}], 'num_ports': 0, 'ip_list': ['192.168.1.10', '192.168.1.12', '192.168.1.14', '192.168.1.16', '192.168.1.110', '192.168.10.21', '192.168.10.22', '192.168.10.110'], 'wildcard_list': ['0.0.0.1'], 'port_list': [80, 5432], 'protocol_list': ['ICMP', 'TCP', 'UDP'], 'num_rules': 10}}, {'type': 'LINKS', 'label': 'LINKS', 'options': {'link_references': ['router_1:eth-1<->switch_1:eth-8', 'router_1:eth-2<->switch_2:eth-8', 'switch_1:eth-1<->domain_controller:eth-1', 'switch_1:eth-2<->web_server:eth-1', 'switch_1:eth-3<->database_server:eth-1', 'switch_1:eth-4<->backup_server:eth-1', 'switch_1:eth-7<->security_suite:eth-1', 'switch_2:eth-1<->client_1:eth-1', 'switch_2:eth-2<->client_2:eth-1', 'switch_2:eth-7<->security_suite:eth-2']}}, {'type': 'NONE', 'label': 'ICS', 'options': {}}]}}\n"
     ]
    },
    {
     "name": "stderr",
     "output_type": "stream",
     "text": [
      "2024-04-08 15:02:24,369: Resetting environment, episode 409, avg. reward: -12.599999999999984\n",
      "2024-04-08 15:02:24,373: Saving agent action log to C:\\Users\\CharlieCrane\\primaite\\3.0.0b7\\sessions\\2024-04-08\\14-49-25\\agent_actions\\episode_409.json\n"
     ]
    },
    {
     "name": "stdout",
     "output_type": "stream",
     "text": [
      "{'type': 'CUSTOM', 'options': {'components': [{'type': 'NODES', 'label': 'NODES', 'options': {'hosts': [{'hostname': 'domain_controller'}, {'hostname': 'web_server', 'services': [{'service_name': 'WebServer'}]}, {'hostname': 'database_server', 'folders': [{'folder_name': 'database', 'files': [{'file_name': 'database.db'}]}]}, {'hostname': 'backup_server'}, {'hostname': 'security_suite'}, {'hostname': 'client_1'}, {'hostname': 'client_2'}], 'num_services': 1, 'num_applications': 0, 'num_folders': 1, 'num_files': 1, 'num_nics': 2, 'include_num_access': False, 'include_nmne': True, 'routers': [{'hostname': 'router_1'}], 'num_ports': 0, 'ip_list': ['192.168.1.10', '192.168.1.12', '192.168.1.14', '192.168.1.16', '192.168.1.110', '192.168.10.21', '192.168.10.22', '192.168.10.110'], 'wildcard_list': ['0.0.0.1'], 'port_list': [80, 5432], 'protocol_list': ['ICMP', 'TCP', 'UDP'], 'num_rules': 10}}, {'type': 'LINKS', 'label': 'LINKS', 'options': {'link_references': ['router_1:eth-1<->switch_1:eth-8', 'router_1:eth-2<->switch_2:eth-8', 'switch_1:eth-1<->domain_controller:eth-1', 'switch_1:eth-2<->web_server:eth-1', 'switch_1:eth-3<->database_server:eth-1', 'switch_1:eth-4<->backup_server:eth-1', 'switch_1:eth-7<->security_suite:eth-1', 'switch_2:eth-1<->client_1:eth-1', 'switch_2:eth-2<->client_2:eth-1', 'switch_2:eth-7<->security_suite:eth-2']}}, {'type': 'NONE', 'label': 'ICS', 'options': {}}]}}\n"
     ]
    },
    {
     "name": "stderr",
     "output_type": "stream",
     "text": [
      "2024-04-08 15:02:26,758: Resetting environment, episode 410, avg. reward: 13.600000000000026\n",
      "2024-04-08 15:02:26,761: Saving agent action log to C:\\Users\\CharlieCrane\\primaite\\3.0.0b7\\sessions\\2024-04-08\\14-49-25\\agent_actions\\episode_410.json\n"
     ]
    },
    {
     "name": "stdout",
     "output_type": "stream",
     "text": [
      "{'type': 'CUSTOM', 'options': {'components': [{'type': 'NODES', 'label': 'NODES', 'options': {'hosts': [{'hostname': 'domain_controller'}, {'hostname': 'web_server', 'services': [{'service_name': 'WebServer'}]}, {'hostname': 'database_server', 'folders': [{'folder_name': 'database', 'files': [{'file_name': 'database.db'}]}]}, {'hostname': 'backup_server'}, {'hostname': 'security_suite'}, {'hostname': 'client_1'}, {'hostname': 'client_2'}], 'num_services': 1, 'num_applications': 0, 'num_folders': 1, 'num_files': 1, 'num_nics': 2, 'include_num_access': False, 'include_nmne': True, 'routers': [{'hostname': 'router_1'}], 'num_ports': 0, 'ip_list': ['192.168.1.10', '192.168.1.12', '192.168.1.14', '192.168.1.16', '192.168.1.110', '192.168.10.21', '192.168.10.22', '192.168.10.110'], 'wildcard_list': ['0.0.0.1'], 'port_list': [80, 5432], 'protocol_list': ['ICMP', 'TCP', 'UDP'], 'num_rules': 10}}, {'type': 'LINKS', 'label': 'LINKS', 'options': {'link_references': ['router_1:eth-1<->switch_1:eth-8', 'router_1:eth-2<->switch_2:eth-8', 'switch_1:eth-1<->domain_controller:eth-1', 'switch_1:eth-2<->web_server:eth-1', 'switch_1:eth-3<->database_server:eth-1', 'switch_1:eth-4<->backup_server:eth-1', 'switch_1:eth-7<->security_suite:eth-1', 'switch_2:eth-1<->client_1:eth-1', 'switch_2:eth-2<->client_2:eth-1', 'switch_2:eth-7<->security_suite:eth-2']}}, {'type': 'NONE', 'label': 'ICS', 'options': {}}]}}\n"
     ]
    },
    {
     "name": "stderr",
     "output_type": "stream",
     "text": [
      "2024-04-08 15:02:30,043: Resetting environment, episode 411, avg. reward: 31.89999999999995\n",
      "2024-04-08 15:02:30,047: Saving agent action log to C:\\Users\\CharlieCrane\\primaite\\3.0.0b7\\sessions\\2024-04-08\\14-49-25\\agent_actions\\episode_411.json\n"
     ]
    },
    {
     "name": "stdout",
     "output_type": "stream",
     "text": [
      "{'type': 'CUSTOM', 'options': {'components': [{'type': 'NODES', 'label': 'NODES', 'options': {'hosts': [{'hostname': 'domain_controller'}, {'hostname': 'web_server', 'services': [{'service_name': 'WebServer'}]}, {'hostname': 'database_server', 'folders': [{'folder_name': 'database', 'files': [{'file_name': 'database.db'}]}]}, {'hostname': 'backup_server'}, {'hostname': 'security_suite'}, {'hostname': 'client_1'}, {'hostname': 'client_2'}], 'num_services': 1, 'num_applications': 0, 'num_folders': 1, 'num_files': 1, 'num_nics': 2, 'include_num_access': False, 'include_nmne': True, 'routers': [{'hostname': 'router_1'}], 'num_ports': 0, 'ip_list': ['192.168.1.10', '192.168.1.12', '192.168.1.14', '192.168.1.16', '192.168.1.110', '192.168.10.21', '192.168.10.22', '192.168.10.110'], 'wildcard_list': ['0.0.0.1'], 'port_list': [80, 5432], 'protocol_list': ['ICMP', 'TCP', 'UDP'], 'num_rules': 10}}, {'type': 'LINKS', 'label': 'LINKS', 'options': {'link_references': ['router_1:eth-1<->switch_1:eth-8', 'router_1:eth-2<->switch_2:eth-8', 'switch_1:eth-1<->domain_controller:eth-1', 'switch_1:eth-2<->web_server:eth-1', 'switch_1:eth-3<->database_server:eth-1', 'switch_1:eth-4<->backup_server:eth-1', 'switch_1:eth-7<->security_suite:eth-1', 'switch_2:eth-1<->client_1:eth-1', 'switch_2:eth-2<->client_2:eth-1', 'switch_2:eth-7<->security_suite:eth-2']}}, {'type': 'NONE', 'label': 'ICS', 'options': {}}]}}\n"
     ]
    },
    {
     "name": "stderr",
     "output_type": "stream",
     "text": [
      "2024-04-08 15:02:32,018: Resetting environment, episode 412, avg. reward: 22.050000000000054\n",
      "2024-04-08 15:02:32,021: Saving agent action log to C:\\Users\\CharlieCrane\\primaite\\3.0.0b7\\sessions\\2024-04-08\\14-49-25\\agent_actions\\episode_412.json\n"
     ]
    },
    {
     "name": "stdout",
     "output_type": "stream",
     "text": [
      "{'type': 'CUSTOM', 'options': {'components': [{'type': 'NODES', 'label': 'NODES', 'options': {'hosts': [{'hostname': 'domain_controller'}, {'hostname': 'web_server', 'services': [{'service_name': 'WebServer'}]}, {'hostname': 'database_server', 'folders': [{'folder_name': 'database', 'files': [{'file_name': 'database.db'}]}]}, {'hostname': 'backup_server'}, {'hostname': 'security_suite'}, {'hostname': 'client_1'}, {'hostname': 'client_2'}], 'num_services': 1, 'num_applications': 0, 'num_folders': 1, 'num_files': 1, 'num_nics': 2, 'include_num_access': False, 'include_nmne': True, 'routers': [{'hostname': 'router_1'}], 'num_ports': 0, 'ip_list': ['192.168.1.10', '192.168.1.12', '192.168.1.14', '192.168.1.16', '192.168.1.110', '192.168.10.21', '192.168.10.22', '192.168.10.110'], 'wildcard_list': ['0.0.0.1'], 'port_list': [80, 5432], 'protocol_list': ['ICMP', 'TCP', 'UDP'], 'num_rules': 10}}, {'type': 'LINKS', 'label': 'LINKS', 'options': {'link_references': ['router_1:eth-1<->switch_1:eth-8', 'router_1:eth-2<->switch_2:eth-8', 'switch_1:eth-1<->domain_controller:eth-1', 'switch_1:eth-2<->web_server:eth-1', 'switch_1:eth-3<->database_server:eth-1', 'switch_1:eth-4<->backup_server:eth-1', 'switch_1:eth-7<->security_suite:eth-1', 'switch_2:eth-1<->client_1:eth-1', 'switch_2:eth-2<->client_2:eth-1', 'switch_2:eth-7<->security_suite:eth-2']}}, {'type': 'NONE', 'label': 'ICS', 'options': {}}]}}\n"
     ]
    },
    {
     "name": "stderr",
     "output_type": "stream",
     "text": [
      "2024-04-08 15:02:33,671: Resetting environment, episode 413, avg. reward: 38.74999999999982\n",
      "2024-04-08 15:02:33,674: Saving agent action log to C:\\Users\\CharlieCrane\\primaite\\3.0.0b7\\sessions\\2024-04-08\\14-49-25\\agent_actions\\episode_413.json\n"
     ]
    },
    {
     "name": "stdout",
     "output_type": "stream",
     "text": [
      "{'type': 'CUSTOM', 'options': {'components': [{'type': 'NODES', 'label': 'NODES', 'options': {'hosts': [{'hostname': 'domain_controller'}, {'hostname': 'web_server', 'services': [{'service_name': 'WebServer'}]}, {'hostname': 'database_server', 'folders': [{'folder_name': 'database', 'files': [{'file_name': 'database.db'}]}]}, {'hostname': 'backup_server'}, {'hostname': 'security_suite'}, {'hostname': 'client_1'}, {'hostname': 'client_2'}], 'num_services': 1, 'num_applications': 0, 'num_folders': 1, 'num_files': 1, 'num_nics': 2, 'include_num_access': False, 'include_nmne': True, 'routers': [{'hostname': 'router_1'}], 'num_ports': 0, 'ip_list': ['192.168.1.10', '192.168.1.12', '192.168.1.14', '192.168.1.16', '192.168.1.110', '192.168.10.21', '192.168.10.22', '192.168.10.110'], 'wildcard_list': ['0.0.0.1'], 'port_list': [80, 5432], 'protocol_list': ['ICMP', 'TCP', 'UDP'], 'num_rules': 10}}, {'type': 'LINKS', 'label': 'LINKS', 'options': {'link_references': ['router_1:eth-1<->switch_1:eth-8', 'router_1:eth-2<->switch_2:eth-8', 'switch_1:eth-1<->domain_controller:eth-1', 'switch_1:eth-2<->web_server:eth-1', 'switch_1:eth-3<->database_server:eth-1', 'switch_1:eth-4<->backup_server:eth-1', 'switch_1:eth-7<->security_suite:eth-1', 'switch_2:eth-1<->client_1:eth-1', 'switch_2:eth-2<->client_2:eth-1', 'switch_2:eth-7<->security_suite:eth-2']}}, {'type': 'NONE', 'label': 'ICS', 'options': {}}]}}\n"
     ]
    },
    {
     "name": "stderr",
     "output_type": "stream",
     "text": [
      "2024-04-08 15:02:35,754: Resetting environment, episode 414, avg. reward: 21.250000000000092\n",
      "2024-04-08 15:02:35,757: Saving agent action log to C:\\Users\\CharlieCrane\\primaite\\3.0.0b7\\sessions\\2024-04-08\\14-49-25\\agent_actions\\episode_414.json\n"
     ]
    },
    {
     "name": "stdout",
     "output_type": "stream",
     "text": [
      "{'type': 'CUSTOM', 'options': {'components': [{'type': 'NODES', 'label': 'NODES', 'options': {'hosts': [{'hostname': 'domain_controller'}, {'hostname': 'web_server', 'services': [{'service_name': 'WebServer'}]}, {'hostname': 'database_server', 'folders': [{'folder_name': 'database', 'files': [{'file_name': 'database.db'}]}]}, {'hostname': 'backup_server'}, {'hostname': 'security_suite'}, {'hostname': 'client_1'}, {'hostname': 'client_2'}], 'num_services': 1, 'num_applications': 0, 'num_folders': 1, 'num_files': 1, 'num_nics': 2, 'include_num_access': False, 'include_nmne': True, 'routers': [{'hostname': 'router_1'}], 'num_ports': 0, 'ip_list': ['192.168.1.10', '192.168.1.12', '192.168.1.14', '192.168.1.16', '192.168.1.110', '192.168.10.21', '192.168.10.22', '192.168.10.110'], 'wildcard_list': ['0.0.0.1'], 'port_list': [80, 5432], 'protocol_list': ['ICMP', 'TCP', 'UDP'], 'num_rules': 10}}, {'type': 'LINKS', 'label': 'LINKS', 'options': {'link_references': ['router_1:eth-1<->switch_1:eth-8', 'router_1:eth-2<->switch_2:eth-8', 'switch_1:eth-1<->domain_controller:eth-1', 'switch_1:eth-2<->web_server:eth-1', 'switch_1:eth-3<->database_server:eth-1', 'switch_1:eth-4<->backup_server:eth-1', 'switch_1:eth-7<->security_suite:eth-1', 'switch_2:eth-1<->client_1:eth-1', 'switch_2:eth-2<->client_2:eth-1', 'switch_2:eth-7<->security_suite:eth-2']}}, {'type': 'NONE', 'label': 'ICS', 'options': {}}]}}\n"
     ]
    },
    {
     "name": "stderr",
     "output_type": "stream",
     "text": [
      "2024-04-08 15:02:37,697: Resetting environment, episode 415, avg. reward: 52.64999999999991\n",
      "2024-04-08 15:02:37,704: Saving agent action log to C:\\Users\\CharlieCrane\\primaite\\3.0.0b7\\sessions\\2024-04-08\\14-49-25\\agent_actions\\episode_415.json\n"
     ]
    },
    {
     "name": "stdout",
     "output_type": "stream",
     "text": [
      "{'type': 'CUSTOM', 'options': {'components': [{'type': 'NODES', 'label': 'NODES', 'options': {'hosts': [{'hostname': 'domain_controller'}, {'hostname': 'web_server', 'services': [{'service_name': 'WebServer'}]}, {'hostname': 'database_server', 'folders': [{'folder_name': 'database', 'files': [{'file_name': 'database.db'}]}]}, {'hostname': 'backup_server'}, {'hostname': 'security_suite'}, {'hostname': 'client_1'}, {'hostname': 'client_2'}], 'num_services': 1, 'num_applications': 0, 'num_folders': 1, 'num_files': 1, 'num_nics': 2, 'include_num_access': False, 'include_nmne': True, 'routers': [{'hostname': 'router_1'}], 'num_ports': 0, 'ip_list': ['192.168.1.10', '192.168.1.12', '192.168.1.14', '192.168.1.16', '192.168.1.110', '192.168.10.21', '192.168.10.22', '192.168.10.110'], 'wildcard_list': ['0.0.0.1'], 'port_list': [80, 5432], 'protocol_list': ['ICMP', 'TCP', 'UDP'], 'num_rules': 10}}, {'type': 'LINKS', 'label': 'LINKS', 'options': {'link_references': ['router_1:eth-1<->switch_1:eth-8', 'router_1:eth-2<->switch_2:eth-8', 'switch_1:eth-1<->domain_controller:eth-1', 'switch_1:eth-2<->web_server:eth-1', 'switch_1:eth-3<->database_server:eth-1', 'switch_1:eth-4<->backup_server:eth-1', 'switch_1:eth-7<->security_suite:eth-1', 'switch_2:eth-1<->client_1:eth-1', 'switch_2:eth-2<->client_2:eth-1', 'switch_2:eth-7<->security_suite:eth-2']}}, {'type': 'NONE', 'label': 'ICS', 'options': {}}]}}\n"
     ]
    },
    {
     "name": "stderr",
     "output_type": "stream",
     "text": [
      "2024-04-08 15:02:39,371: Resetting environment, episode 416, avg. reward: 15.300000000000079\n",
      "2024-04-08 15:02:39,374: Saving agent action log to C:\\Users\\CharlieCrane\\primaite\\3.0.0b7\\sessions\\2024-04-08\\14-49-25\\agent_actions\\episode_416.json\n"
     ]
    },
    {
     "name": "stdout",
     "output_type": "stream",
     "text": [
      "{'type': 'CUSTOM', 'options': {'components': [{'type': 'NODES', 'label': 'NODES', 'options': {'hosts': [{'hostname': 'domain_controller'}, {'hostname': 'web_server', 'services': [{'service_name': 'WebServer'}]}, {'hostname': 'database_server', 'folders': [{'folder_name': 'database', 'files': [{'file_name': 'database.db'}]}]}, {'hostname': 'backup_server'}, {'hostname': 'security_suite'}, {'hostname': 'client_1'}, {'hostname': 'client_2'}], 'num_services': 1, 'num_applications': 0, 'num_folders': 1, 'num_files': 1, 'num_nics': 2, 'include_num_access': False, 'include_nmne': True, 'routers': [{'hostname': 'router_1'}], 'num_ports': 0, 'ip_list': ['192.168.1.10', '192.168.1.12', '192.168.1.14', '192.168.1.16', '192.168.1.110', '192.168.10.21', '192.168.10.22', '192.168.10.110'], 'wildcard_list': ['0.0.0.1'], 'port_list': [80, 5432], 'protocol_list': ['ICMP', 'TCP', 'UDP'], 'num_rules': 10}}, {'type': 'LINKS', 'label': 'LINKS', 'options': {'link_references': ['router_1:eth-1<->switch_1:eth-8', 'router_1:eth-2<->switch_2:eth-8', 'switch_1:eth-1<->domain_controller:eth-1', 'switch_1:eth-2<->web_server:eth-1', 'switch_1:eth-3<->database_server:eth-1', 'switch_1:eth-4<->backup_server:eth-1', 'switch_1:eth-7<->security_suite:eth-1', 'switch_2:eth-1<->client_1:eth-1', 'switch_2:eth-2<->client_2:eth-1', 'switch_2:eth-7<->security_suite:eth-2']}}, {'type': 'NONE', 'label': 'ICS', 'options': {}}]}}\n"
     ]
    },
    {
     "name": "stderr",
     "output_type": "stream",
     "text": [
      "2024-04-08 15:02:40,894: Resetting environment, episode 417, avg. reward: -0.24999999999995826\n",
      "2024-04-08 15:02:40,896: Saving agent action log to C:\\Users\\CharlieCrane\\primaite\\3.0.0b7\\sessions\\2024-04-08\\14-49-25\\agent_actions\\episode_417.json\n"
     ]
    },
    {
     "name": "stdout",
     "output_type": "stream",
     "text": [
      "{'type': 'CUSTOM', 'options': {'components': [{'type': 'NODES', 'label': 'NODES', 'options': {'hosts': [{'hostname': 'domain_controller'}, {'hostname': 'web_server', 'services': [{'service_name': 'WebServer'}]}, {'hostname': 'database_server', 'folders': [{'folder_name': 'database', 'files': [{'file_name': 'database.db'}]}]}, {'hostname': 'backup_server'}, {'hostname': 'security_suite'}, {'hostname': 'client_1'}, {'hostname': 'client_2'}], 'num_services': 1, 'num_applications': 0, 'num_folders': 1, 'num_files': 1, 'num_nics': 2, 'include_num_access': False, 'include_nmne': True, 'routers': [{'hostname': 'router_1'}], 'num_ports': 0, 'ip_list': ['192.168.1.10', '192.168.1.12', '192.168.1.14', '192.168.1.16', '192.168.1.110', '192.168.10.21', '192.168.10.22', '192.168.10.110'], 'wildcard_list': ['0.0.0.1'], 'port_list': [80, 5432], 'protocol_list': ['ICMP', 'TCP', 'UDP'], 'num_rules': 10}}, {'type': 'LINKS', 'label': 'LINKS', 'options': {'link_references': ['router_1:eth-1<->switch_1:eth-8', 'router_1:eth-2<->switch_2:eth-8', 'switch_1:eth-1<->domain_controller:eth-1', 'switch_1:eth-2<->web_server:eth-1', 'switch_1:eth-3<->database_server:eth-1', 'switch_1:eth-4<->backup_server:eth-1', 'switch_1:eth-7<->security_suite:eth-1', 'switch_2:eth-1<->client_1:eth-1', 'switch_2:eth-2<->client_2:eth-1', 'switch_2:eth-7<->security_suite:eth-2']}}, {'type': 'NONE', 'label': 'ICS', 'options': {}}]}}\n"
     ]
    },
    {
     "name": "stderr",
     "output_type": "stream",
     "text": [
      "2024-04-08 15:02:42,813: Resetting environment, episode 418, avg. reward: -22.05000000000004\n",
      "2024-04-08 15:02:42,817: Saving agent action log to C:\\Users\\CharlieCrane\\primaite\\3.0.0b7\\sessions\\2024-04-08\\14-49-25\\agent_actions\\episode_418.json\n"
     ]
    },
    {
     "name": "stdout",
     "output_type": "stream",
     "text": [
      "{'type': 'CUSTOM', 'options': {'components': [{'type': 'NODES', 'label': 'NODES', 'options': {'hosts': [{'hostname': 'domain_controller'}, {'hostname': 'web_server', 'services': [{'service_name': 'WebServer'}]}, {'hostname': 'database_server', 'folders': [{'folder_name': 'database', 'files': [{'file_name': 'database.db'}]}]}, {'hostname': 'backup_server'}, {'hostname': 'security_suite'}, {'hostname': 'client_1'}, {'hostname': 'client_2'}], 'num_services': 1, 'num_applications': 0, 'num_folders': 1, 'num_files': 1, 'num_nics': 2, 'include_num_access': False, 'include_nmne': True, 'routers': [{'hostname': 'router_1'}], 'num_ports': 0, 'ip_list': ['192.168.1.10', '192.168.1.12', '192.168.1.14', '192.168.1.16', '192.168.1.110', '192.168.10.21', '192.168.10.22', '192.168.10.110'], 'wildcard_list': ['0.0.0.1'], 'port_list': [80, 5432], 'protocol_list': ['ICMP', 'TCP', 'UDP'], 'num_rules': 10}}, {'type': 'LINKS', 'label': 'LINKS', 'options': {'link_references': ['router_1:eth-1<->switch_1:eth-8', 'router_1:eth-2<->switch_2:eth-8', 'switch_1:eth-1<->domain_controller:eth-1', 'switch_1:eth-2<->web_server:eth-1', 'switch_1:eth-3<->database_server:eth-1', 'switch_1:eth-4<->backup_server:eth-1', 'switch_1:eth-7<->security_suite:eth-1', 'switch_2:eth-1<->client_1:eth-1', 'switch_2:eth-2<->client_2:eth-1', 'switch_2:eth-7<->security_suite:eth-2']}}, {'type': 'NONE', 'label': 'ICS', 'options': {}}]}}\n"
     ]
    },
    {
     "name": "stderr",
     "output_type": "stream",
     "text": [
      "2024-04-08 15:02:44,725: Resetting environment, episode 419, avg. reward: -54.89999999999997\n",
      "2024-04-08 15:02:44,727: Saving agent action log to C:\\Users\\CharlieCrane\\primaite\\3.0.0b7\\sessions\\2024-04-08\\14-49-25\\agent_actions\\episode_419.json\n"
     ]
    },
    {
     "name": "stdout",
     "output_type": "stream",
     "text": [
      "{'type': 'CUSTOM', 'options': {'components': [{'type': 'NODES', 'label': 'NODES', 'options': {'hosts': [{'hostname': 'domain_controller'}, {'hostname': 'web_server', 'services': [{'service_name': 'WebServer'}]}, {'hostname': 'database_server', 'folders': [{'folder_name': 'database', 'files': [{'file_name': 'database.db'}]}]}, {'hostname': 'backup_server'}, {'hostname': 'security_suite'}, {'hostname': 'client_1'}, {'hostname': 'client_2'}], 'num_services': 1, 'num_applications': 0, 'num_folders': 1, 'num_files': 1, 'num_nics': 2, 'include_num_access': False, 'include_nmne': True, 'routers': [{'hostname': 'router_1'}], 'num_ports': 0, 'ip_list': ['192.168.1.10', '192.168.1.12', '192.168.1.14', '192.168.1.16', '192.168.1.110', '192.168.10.21', '192.168.10.22', '192.168.10.110'], 'wildcard_list': ['0.0.0.1'], 'port_list': [80, 5432], 'protocol_list': ['ICMP', 'TCP', 'UDP'], 'num_rules': 10}}, {'type': 'LINKS', 'label': 'LINKS', 'options': {'link_references': ['router_1:eth-1<->switch_1:eth-8', 'router_1:eth-2<->switch_2:eth-8', 'switch_1:eth-1<->domain_controller:eth-1', 'switch_1:eth-2<->web_server:eth-1', 'switch_1:eth-3<->database_server:eth-1', 'switch_1:eth-4<->backup_server:eth-1', 'switch_1:eth-7<->security_suite:eth-1', 'switch_2:eth-1<->client_1:eth-1', 'switch_2:eth-2<->client_2:eth-1', 'switch_2:eth-7<->security_suite:eth-2']}}, {'type': 'NONE', 'label': 'ICS', 'options': {}}]}}\n"
     ]
    },
    {
     "name": "stderr",
     "output_type": "stream",
     "text": [
      "2024-04-08 15:02:48,515: Resetting environment, episode 420, avg. reward: -15.04999999999997\n",
      "2024-04-08 15:02:48,518: Saving agent action log to C:\\Users\\CharlieCrane\\primaite\\3.0.0b7\\sessions\\2024-04-08\\14-49-25\\agent_actions\\episode_420.json\n"
     ]
    },
    {
     "name": "stdout",
     "output_type": "stream",
     "text": [
      "{'type': 'CUSTOM', 'options': {'components': [{'type': 'NODES', 'label': 'NODES', 'options': {'hosts': [{'hostname': 'domain_controller'}, {'hostname': 'web_server', 'services': [{'service_name': 'WebServer'}]}, {'hostname': 'database_server', 'folders': [{'folder_name': 'database', 'files': [{'file_name': 'database.db'}]}]}, {'hostname': 'backup_server'}, {'hostname': 'security_suite'}, {'hostname': 'client_1'}, {'hostname': 'client_2'}], 'num_services': 1, 'num_applications': 0, 'num_folders': 1, 'num_files': 1, 'num_nics': 2, 'include_num_access': False, 'include_nmne': True, 'routers': [{'hostname': 'router_1'}], 'num_ports': 0, 'ip_list': ['192.168.1.10', '192.168.1.12', '192.168.1.14', '192.168.1.16', '192.168.1.110', '192.168.10.21', '192.168.10.22', '192.168.10.110'], 'wildcard_list': ['0.0.0.1'], 'port_list': [80, 5432], 'protocol_list': ['ICMP', 'TCP', 'UDP'], 'num_rules': 10}}, {'type': 'LINKS', 'label': 'LINKS', 'options': {'link_references': ['router_1:eth-1<->switch_1:eth-8', 'router_1:eth-2<->switch_2:eth-8', 'switch_1:eth-1<->domain_controller:eth-1', 'switch_1:eth-2<->web_server:eth-1', 'switch_1:eth-3<->database_server:eth-1', 'switch_1:eth-4<->backup_server:eth-1', 'switch_1:eth-7<->security_suite:eth-1', 'switch_2:eth-1<->client_1:eth-1', 'switch_2:eth-2<->client_2:eth-1', 'switch_2:eth-7<->security_suite:eth-2']}}, {'type': 'NONE', 'label': 'ICS', 'options': {}}]}}\n"
     ]
    },
    {
     "name": "stderr",
     "output_type": "stream",
     "text": [
      "2024-04-08 15:02:50,655: Resetting environment, episode 421, avg. reward: -56.94999999999997\n",
      "2024-04-08 15:02:50,659: Saving agent action log to C:\\Users\\CharlieCrane\\primaite\\3.0.0b7\\sessions\\2024-04-08\\14-49-25\\agent_actions\\episode_421.json\n"
     ]
    },
    {
     "name": "stdout",
     "output_type": "stream",
     "text": [
      "{'type': 'CUSTOM', 'options': {'components': [{'type': 'NODES', 'label': 'NODES', 'options': {'hosts': [{'hostname': 'domain_controller'}, {'hostname': 'web_server', 'services': [{'service_name': 'WebServer'}]}, {'hostname': 'database_server', 'folders': [{'folder_name': 'database', 'files': [{'file_name': 'database.db'}]}]}, {'hostname': 'backup_server'}, {'hostname': 'security_suite'}, {'hostname': 'client_1'}, {'hostname': 'client_2'}], 'num_services': 1, 'num_applications': 0, 'num_folders': 1, 'num_files': 1, 'num_nics': 2, 'include_num_access': False, 'include_nmne': True, 'routers': [{'hostname': 'router_1'}], 'num_ports': 0, 'ip_list': ['192.168.1.10', '192.168.1.12', '192.168.1.14', '192.168.1.16', '192.168.1.110', '192.168.10.21', '192.168.10.22', '192.168.10.110'], 'wildcard_list': ['0.0.0.1'], 'port_list': [80, 5432], 'protocol_list': ['ICMP', 'TCP', 'UDP'], 'num_rules': 10}}, {'type': 'LINKS', 'label': 'LINKS', 'options': {'link_references': ['router_1:eth-1<->switch_1:eth-8', 'router_1:eth-2<->switch_2:eth-8', 'switch_1:eth-1<->domain_controller:eth-1', 'switch_1:eth-2<->web_server:eth-1', 'switch_1:eth-3<->database_server:eth-1', 'switch_1:eth-4<->backup_server:eth-1', 'switch_1:eth-7<->security_suite:eth-1', 'switch_2:eth-1<->client_1:eth-1', 'switch_2:eth-2<->client_2:eth-1', 'switch_2:eth-7<->security_suite:eth-2']}}, {'type': 'NONE', 'label': 'ICS', 'options': {}}]}}\n"
     ]
    },
    {
     "name": "stderr",
     "output_type": "stream",
     "text": [
      "2024-04-08 15:02:52,515: Resetting environment, episode 422, avg. reward: -68.70000000000003\n",
      "2024-04-08 15:02:52,517: Saving agent action log to C:\\Users\\CharlieCrane\\primaite\\3.0.0b7\\sessions\\2024-04-08\\14-49-25\\agent_actions\\episode_422.json\n"
     ]
    },
    {
     "name": "stdout",
     "output_type": "stream",
     "text": [
      "{'type': 'CUSTOM', 'options': {'components': [{'type': 'NODES', 'label': 'NODES', 'options': {'hosts': [{'hostname': 'domain_controller'}, {'hostname': 'web_server', 'services': [{'service_name': 'WebServer'}]}, {'hostname': 'database_server', 'folders': [{'folder_name': 'database', 'files': [{'file_name': 'database.db'}]}]}, {'hostname': 'backup_server'}, {'hostname': 'security_suite'}, {'hostname': 'client_1'}, {'hostname': 'client_2'}], 'num_services': 1, 'num_applications': 0, 'num_folders': 1, 'num_files': 1, 'num_nics': 2, 'include_num_access': False, 'include_nmne': True, 'routers': [{'hostname': 'router_1'}], 'num_ports': 0, 'ip_list': ['192.168.1.10', '192.168.1.12', '192.168.1.14', '192.168.1.16', '192.168.1.110', '192.168.10.21', '192.168.10.22', '192.168.10.110'], 'wildcard_list': ['0.0.0.1'], 'port_list': [80, 5432], 'protocol_list': ['ICMP', 'TCP', 'UDP'], 'num_rules': 10}}, {'type': 'LINKS', 'label': 'LINKS', 'options': {'link_references': ['router_1:eth-1<->switch_1:eth-8', 'router_1:eth-2<->switch_2:eth-8', 'switch_1:eth-1<->domain_controller:eth-1', 'switch_1:eth-2<->web_server:eth-1', 'switch_1:eth-3<->database_server:eth-1', 'switch_1:eth-4<->backup_server:eth-1', 'switch_1:eth-7<->security_suite:eth-1', 'switch_2:eth-1<->client_1:eth-1', 'switch_2:eth-2<->client_2:eth-1', 'switch_2:eth-7<->security_suite:eth-2']}}, {'type': 'NONE', 'label': 'ICS', 'options': {}}]}}\n"
     ]
    },
    {
     "name": "stderr",
     "output_type": "stream",
     "text": [
      "2024-04-08 15:02:54,132: Resetting environment, episode 423, avg. reward: -72.89999999999996\n",
      "2024-04-08 15:02:54,134: Saving agent action log to C:\\Users\\CharlieCrane\\primaite\\3.0.0b7\\sessions\\2024-04-08\\14-49-25\\agent_actions\\episode_423.json\n"
     ]
    },
    {
     "name": "stdout",
     "output_type": "stream",
     "text": [
      "{'type': 'CUSTOM', 'options': {'components': [{'type': 'NODES', 'label': 'NODES', 'options': {'hosts': [{'hostname': 'domain_controller'}, {'hostname': 'web_server', 'services': [{'service_name': 'WebServer'}]}, {'hostname': 'database_server', 'folders': [{'folder_name': 'database', 'files': [{'file_name': 'database.db'}]}]}, {'hostname': 'backup_server'}, {'hostname': 'security_suite'}, {'hostname': 'client_1'}, {'hostname': 'client_2'}], 'num_services': 1, 'num_applications': 0, 'num_folders': 1, 'num_files': 1, 'num_nics': 2, 'include_num_access': False, 'include_nmne': True, 'routers': [{'hostname': 'router_1'}], 'num_ports': 0, 'ip_list': ['192.168.1.10', '192.168.1.12', '192.168.1.14', '192.168.1.16', '192.168.1.110', '192.168.10.21', '192.168.10.22', '192.168.10.110'], 'wildcard_list': ['0.0.0.1'], 'port_list': [80, 5432], 'protocol_list': ['ICMP', 'TCP', 'UDP'], 'num_rules': 10}}, {'type': 'LINKS', 'label': 'LINKS', 'options': {'link_references': ['router_1:eth-1<->switch_1:eth-8', 'router_1:eth-2<->switch_2:eth-8', 'switch_1:eth-1<->domain_controller:eth-1', 'switch_1:eth-2<->web_server:eth-1', 'switch_1:eth-3<->database_server:eth-1', 'switch_1:eth-4<->backup_server:eth-1', 'switch_1:eth-7<->security_suite:eth-1', 'switch_2:eth-1<->client_1:eth-1', 'switch_2:eth-2<->client_2:eth-1', 'switch_2:eth-7<->security_suite:eth-2']}}, {'type': 'NONE', 'label': 'ICS', 'options': {}}]}}\n"
     ]
    },
    {
     "name": "stderr",
     "output_type": "stream",
     "text": [
      "2024-04-08 15:02:55,908: Resetting environment, episode 424, avg. reward: 17.449999999999946\n",
      "2024-04-08 15:02:55,911: Saving agent action log to C:\\Users\\CharlieCrane\\primaite\\3.0.0b7\\sessions\\2024-04-08\\14-49-25\\agent_actions\\episode_424.json\n"
     ]
    },
    {
     "name": "stdout",
     "output_type": "stream",
     "text": [
      "{'type': 'CUSTOM', 'options': {'components': [{'type': 'NODES', 'label': 'NODES', 'options': {'hosts': [{'hostname': 'domain_controller'}, {'hostname': 'web_server', 'services': [{'service_name': 'WebServer'}]}, {'hostname': 'database_server', 'folders': [{'folder_name': 'database', 'files': [{'file_name': 'database.db'}]}]}, {'hostname': 'backup_server'}, {'hostname': 'security_suite'}, {'hostname': 'client_1'}, {'hostname': 'client_2'}], 'num_services': 1, 'num_applications': 0, 'num_folders': 1, 'num_files': 1, 'num_nics': 2, 'include_num_access': False, 'include_nmne': True, 'routers': [{'hostname': 'router_1'}], 'num_ports': 0, 'ip_list': ['192.168.1.10', '192.168.1.12', '192.168.1.14', '192.168.1.16', '192.168.1.110', '192.168.10.21', '192.168.10.22', '192.168.10.110'], 'wildcard_list': ['0.0.0.1'], 'port_list': [80, 5432], 'protocol_list': ['ICMP', 'TCP', 'UDP'], 'num_rules': 10}}, {'type': 'LINKS', 'label': 'LINKS', 'options': {'link_references': ['router_1:eth-1<->switch_1:eth-8', 'router_1:eth-2<->switch_2:eth-8', 'switch_1:eth-1<->domain_controller:eth-1', 'switch_1:eth-2<->web_server:eth-1', 'switch_1:eth-3<->database_server:eth-1', 'switch_1:eth-4<->backup_server:eth-1', 'switch_1:eth-7<->security_suite:eth-1', 'switch_2:eth-1<->client_1:eth-1', 'switch_2:eth-2<->client_2:eth-1', 'switch_2:eth-7<->security_suite:eth-2']}}, {'type': 'NONE', 'label': 'ICS', 'options': {}}]}}\n"
     ]
    },
    {
     "name": "stderr",
     "output_type": "stream",
     "text": [
      "2024-04-08 15:02:57,497: Resetting environment, episode 425, avg. reward: -27.14999999999995\n",
      "2024-04-08 15:02:57,501: Saving agent action log to C:\\Users\\CharlieCrane\\primaite\\3.0.0b7\\sessions\\2024-04-08\\14-49-25\\agent_actions\\episode_425.json\n"
     ]
    },
    {
     "name": "stdout",
     "output_type": "stream",
     "text": [
      "{'type': 'CUSTOM', 'options': {'components': [{'type': 'NODES', 'label': 'NODES', 'options': {'hosts': [{'hostname': 'domain_controller'}, {'hostname': 'web_server', 'services': [{'service_name': 'WebServer'}]}, {'hostname': 'database_server', 'folders': [{'folder_name': 'database', 'files': [{'file_name': 'database.db'}]}]}, {'hostname': 'backup_server'}, {'hostname': 'security_suite'}, {'hostname': 'client_1'}, {'hostname': 'client_2'}], 'num_services': 1, 'num_applications': 0, 'num_folders': 1, 'num_files': 1, 'num_nics': 2, 'include_num_access': False, 'include_nmne': True, 'routers': [{'hostname': 'router_1'}], 'num_ports': 0, 'ip_list': ['192.168.1.10', '192.168.1.12', '192.168.1.14', '192.168.1.16', '192.168.1.110', '192.168.10.21', '192.168.10.22', '192.168.10.110'], 'wildcard_list': ['0.0.0.1'], 'port_list': [80, 5432], 'protocol_list': ['ICMP', 'TCP', 'UDP'], 'num_rules': 10}}, {'type': 'LINKS', 'label': 'LINKS', 'options': {'link_references': ['router_1:eth-1<->switch_1:eth-8', 'router_1:eth-2<->switch_2:eth-8', 'switch_1:eth-1<->domain_controller:eth-1', 'switch_1:eth-2<->web_server:eth-1', 'switch_1:eth-3<->database_server:eth-1', 'switch_1:eth-4<->backup_server:eth-1', 'switch_1:eth-7<->security_suite:eth-1', 'switch_2:eth-1<->client_1:eth-1', 'switch_2:eth-2<->client_2:eth-1', 'switch_2:eth-7<->security_suite:eth-2']}}, {'type': 'NONE', 'label': 'ICS', 'options': {}}]}}\n"
     ]
    },
    {
     "name": "stderr",
     "output_type": "stream",
     "text": [
      "2024-04-08 15:02:59,501: Resetting environment, episode 426, avg. reward: -67.6\n",
      "2024-04-08 15:02:59,504: Saving agent action log to C:\\Users\\CharlieCrane\\primaite\\3.0.0b7\\sessions\\2024-04-08\\14-49-25\\agent_actions\\episode_426.json\n"
     ]
    },
    {
     "name": "stdout",
     "output_type": "stream",
     "text": [
      "{'type': 'CUSTOM', 'options': {'components': [{'type': 'NODES', 'label': 'NODES', 'options': {'hosts': [{'hostname': 'domain_controller'}, {'hostname': 'web_server', 'services': [{'service_name': 'WebServer'}]}, {'hostname': 'database_server', 'folders': [{'folder_name': 'database', 'files': [{'file_name': 'database.db'}]}]}, {'hostname': 'backup_server'}, {'hostname': 'security_suite'}, {'hostname': 'client_1'}, {'hostname': 'client_2'}], 'num_services': 1, 'num_applications': 0, 'num_folders': 1, 'num_files': 1, 'num_nics': 2, 'include_num_access': False, 'include_nmne': True, 'routers': [{'hostname': 'router_1'}], 'num_ports': 0, 'ip_list': ['192.168.1.10', '192.168.1.12', '192.168.1.14', '192.168.1.16', '192.168.1.110', '192.168.10.21', '192.168.10.22', '192.168.10.110'], 'wildcard_list': ['0.0.0.1'], 'port_list': [80, 5432], 'protocol_list': ['ICMP', 'TCP', 'UDP'], 'num_rules': 10}}, {'type': 'LINKS', 'label': 'LINKS', 'options': {'link_references': ['router_1:eth-1<->switch_1:eth-8', 'router_1:eth-2<->switch_2:eth-8', 'switch_1:eth-1<->domain_controller:eth-1', 'switch_1:eth-2<->web_server:eth-1', 'switch_1:eth-3<->database_server:eth-1', 'switch_1:eth-4<->backup_server:eth-1', 'switch_1:eth-7<->security_suite:eth-1', 'switch_2:eth-1<->client_1:eth-1', 'switch_2:eth-2<->client_2:eth-1', 'switch_2:eth-7<->security_suite:eth-2']}}, {'type': 'NONE', 'label': 'ICS', 'options': {}}]}}\n"
     ]
    },
    {
     "name": "stderr",
     "output_type": "stream",
     "text": [
      "2024-04-08 15:03:01,163: Resetting environment, episode 427, avg. reward: 27.7999999999999\n",
      "2024-04-08 15:03:01,166: Saving agent action log to C:\\Users\\CharlieCrane\\primaite\\3.0.0b7\\sessions\\2024-04-08\\14-49-25\\agent_actions\\episode_427.json\n"
     ]
    },
    {
     "name": "stdout",
     "output_type": "stream",
     "text": [
      "{'type': 'CUSTOM', 'options': {'components': [{'type': 'NODES', 'label': 'NODES', 'options': {'hosts': [{'hostname': 'domain_controller'}, {'hostname': 'web_server', 'services': [{'service_name': 'WebServer'}]}, {'hostname': 'database_server', 'folders': [{'folder_name': 'database', 'files': [{'file_name': 'database.db'}]}]}, {'hostname': 'backup_server'}, {'hostname': 'security_suite'}, {'hostname': 'client_1'}, {'hostname': 'client_2'}], 'num_services': 1, 'num_applications': 0, 'num_folders': 1, 'num_files': 1, 'num_nics': 2, 'include_num_access': False, 'include_nmne': True, 'routers': [{'hostname': 'router_1'}], 'num_ports': 0, 'ip_list': ['192.168.1.10', '192.168.1.12', '192.168.1.14', '192.168.1.16', '192.168.1.110', '192.168.10.21', '192.168.10.22', '192.168.10.110'], 'wildcard_list': ['0.0.0.1'], 'port_list': [80, 5432], 'protocol_list': ['ICMP', 'TCP', 'UDP'], 'num_rules': 10}}, {'type': 'LINKS', 'label': 'LINKS', 'options': {'link_references': ['router_1:eth-1<->switch_1:eth-8', 'router_1:eth-2<->switch_2:eth-8', 'switch_1:eth-1<->domain_controller:eth-1', 'switch_1:eth-2<->web_server:eth-1', 'switch_1:eth-3<->database_server:eth-1', 'switch_1:eth-4<->backup_server:eth-1', 'switch_1:eth-7<->security_suite:eth-1', 'switch_2:eth-1<->client_1:eth-1', 'switch_2:eth-2<->client_2:eth-1', 'switch_2:eth-7<->security_suite:eth-2']}}, {'type': 'NONE', 'label': 'ICS', 'options': {}}]}}\n"
     ]
    },
    {
     "name": "stderr",
     "output_type": "stream",
     "text": [
      "2024-04-08 15:03:02,845: Resetting environment, episode 428, avg. reward: 43.599999999999895\n",
      "2024-04-08 15:03:02,849: Saving agent action log to C:\\Users\\CharlieCrane\\primaite\\3.0.0b7\\sessions\\2024-04-08\\14-49-25\\agent_actions\\episode_428.json\n"
     ]
    },
    {
     "name": "stdout",
     "output_type": "stream",
     "text": [
      "{'type': 'CUSTOM', 'options': {'components': [{'type': 'NODES', 'label': 'NODES', 'options': {'hosts': [{'hostname': 'domain_controller'}, {'hostname': 'web_server', 'services': [{'service_name': 'WebServer'}]}, {'hostname': 'database_server', 'folders': [{'folder_name': 'database', 'files': [{'file_name': 'database.db'}]}]}, {'hostname': 'backup_server'}, {'hostname': 'security_suite'}, {'hostname': 'client_1'}, {'hostname': 'client_2'}], 'num_services': 1, 'num_applications': 0, 'num_folders': 1, 'num_files': 1, 'num_nics': 2, 'include_num_access': False, 'include_nmne': True, 'routers': [{'hostname': 'router_1'}], 'num_ports': 0, 'ip_list': ['192.168.1.10', '192.168.1.12', '192.168.1.14', '192.168.1.16', '192.168.1.110', '192.168.10.21', '192.168.10.22', '192.168.10.110'], 'wildcard_list': ['0.0.0.1'], 'port_list': [80, 5432], 'protocol_list': ['ICMP', 'TCP', 'UDP'], 'num_rules': 10}}, {'type': 'LINKS', 'label': 'LINKS', 'options': {'link_references': ['router_1:eth-1<->switch_1:eth-8', 'router_1:eth-2<->switch_2:eth-8', 'switch_1:eth-1<->domain_controller:eth-1', 'switch_1:eth-2<->web_server:eth-1', 'switch_1:eth-3<->database_server:eth-1', 'switch_1:eth-4<->backup_server:eth-1', 'switch_1:eth-7<->security_suite:eth-1', 'switch_2:eth-1<->client_1:eth-1', 'switch_2:eth-2<->client_2:eth-1', 'switch_2:eth-7<->security_suite:eth-2']}}, {'type': 'NONE', 'label': 'ICS', 'options': {}}]}}\n"
     ]
    },
    {
     "name": "stderr",
     "output_type": "stream",
     "text": [
      "2024-04-08 15:03:04,688: Resetting environment, episode 429, avg. reward: 10.649999999999995\n",
      "2024-04-08 15:03:04,691: Saving agent action log to C:\\Users\\CharlieCrane\\primaite\\3.0.0b7\\sessions\\2024-04-08\\14-49-25\\agent_actions\\episode_429.json\n"
     ]
    },
    {
     "name": "stdout",
     "output_type": "stream",
     "text": [
      "{'type': 'CUSTOM', 'options': {'components': [{'type': 'NODES', 'label': 'NODES', 'options': {'hosts': [{'hostname': 'domain_controller'}, {'hostname': 'web_server', 'services': [{'service_name': 'WebServer'}]}, {'hostname': 'database_server', 'folders': [{'folder_name': 'database', 'files': [{'file_name': 'database.db'}]}]}, {'hostname': 'backup_server'}, {'hostname': 'security_suite'}, {'hostname': 'client_1'}, {'hostname': 'client_2'}], 'num_services': 1, 'num_applications': 0, 'num_folders': 1, 'num_files': 1, 'num_nics': 2, 'include_num_access': False, 'include_nmne': True, 'routers': [{'hostname': 'router_1'}], 'num_ports': 0, 'ip_list': ['192.168.1.10', '192.168.1.12', '192.168.1.14', '192.168.1.16', '192.168.1.110', '192.168.10.21', '192.168.10.22', '192.168.10.110'], 'wildcard_list': ['0.0.0.1'], 'port_list': [80, 5432], 'protocol_list': ['ICMP', 'TCP', 'UDP'], 'num_rules': 10}}, {'type': 'LINKS', 'label': 'LINKS', 'options': {'link_references': ['router_1:eth-1<->switch_1:eth-8', 'router_1:eth-2<->switch_2:eth-8', 'switch_1:eth-1<->domain_controller:eth-1', 'switch_1:eth-2<->web_server:eth-1', 'switch_1:eth-3<->database_server:eth-1', 'switch_1:eth-4<->backup_server:eth-1', 'switch_1:eth-7<->security_suite:eth-1', 'switch_2:eth-1<->client_1:eth-1', 'switch_2:eth-2<->client_2:eth-1', 'switch_2:eth-7<->security_suite:eth-2']}}, {'type': 'NONE', 'label': 'ICS', 'options': {}}]}}\n"
     ]
    },
    {
     "name": "stderr",
     "output_type": "stream",
     "text": [
      "2024-04-08 15:03:06,537: Resetting environment, episode 430, avg. reward: 6.549999999999988\n",
      "2024-04-08 15:03:06,540: Saving agent action log to C:\\Users\\CharlieCrane\\primaite\\3.0.0b7\\sessions\\2024-04-08\\14-49-25\\agent_actions\\episode_430.json\n"
     ]
    },
    {
     "name": "stdout",
     "output_type": "stream",
     "text": [
      "{'type': 'CUSTOM', 'options': {'components': [{'type': 'NODES', 'label': 'NODES', 'options': {'hosts': [{'hostname': 'domain_controller'}, {'hostname': 'web_server', 'services': [{'service_name': 'WebServer'}]}, {'hostname': 'database_server', 'folders': [{'folder_name': 'database', 'files': [{'file_name': 'database.db'}]}]}, {'hostname': 'backup_server'}, {'hostname': 'security_suite'}, {'hostname': 'client_1'}, {'hostname': 'client_2'}], 'num_services': 1, 'num_applications': 0, 'num_folders': 1, 'num_files': 1, 'num_nics': 2, 'include_num_access': False, 'include_nmne': True, 'routers': [{'hostname': 'router_1'}], 'num_ports': 0, 'ip_list': ['192.168.1.10', '192.168.1.12', '192.168.1.14', '192.168.1.16', '192.168.1.110', '192.168.10.21', '192.168.10.22', '192.168.10.110'], 'wildcard_list': ['0.0.0.1'], 'port_list': [80, 5432], 'protocol_list': ['ICMP', 'TCP', 'UDP'], 'num_rules': 10}}, {'type': 'LINKS', 'label': 'LINKS', 'options': {'link_references': ['router_1:eth-1<->switch_1:eth-8', 'router_1:eth-2<->switch_2:eth-8', 'switch_1:eth-1<->domain_controller:eth-1', 'switch_1:eth-2<->web_server:eth-1', 'switch_1:eth-3<->database_server:eth-1', 'switch_1:eth-4<->backup_server:eth-1', 'switch_1:eth-7<->security_suite:eth-1', 'switch_2:eth-1<->client_1:eth-1', 'switch_2:eth-2<->client_2:eth-1', 'switch_2:eth-7<->security_suite:eth-2']}}, {'type': 'NONE', 'label': 'ICS', 'options': {}}]}}\n"
     ]
    },
    {
     "name": "stderr",
     "output_type": "stream",
     "text": [
      "2024-04-08 15:03:08,508: Resetting environment, episode 431, avg. reward: -53.84999999999999\n",
      "2024-04-08 15:03:08,510: Saving agent action log to C:\\Users\\CharlieCrane\\primaite\\3.0.0b7\\sessions\\2024-04-08\\14-49-25\\agent_actions\\episode_431.json\n"
     ]
    },
    {
     "name": "stdout",
     "output_type": "stream",
     "text": [
      "{'type': 'CUSTOM', 'options': {'components': [{'type': 'NODES', 'label': 'NODES', 'options': {'hosts': [{'hostname': 'domain_controller'}, {'hostname': 'web_server', 'services': [{'service_name': 'WebServer'}]}, {'hostname': 'database_server', 'folders': [{'folder_name': 'database', 'files': [{'file_name': 'database.db'}]}]}, {'hostname': 'backup_server'}, {'hostname': 'security_suite'}, {'hostname': 'client_1'}, {'hostname': 'client_2'}], 'num_services': 1, 'num_applications': 0, 'num_folders': 1, 'num_files': 1, 'num_nics': 2, 'include_num_access': False, 'include_nmne': True, 'routers': [{'hostname': 'router_1'}], 'num_ports': 0, 'ip_list': ['192.168.1.10', '192.168.1.12', '192.168.1.14', '192.168.1.16', '192.168.1.110', '192.168.10.21', '192.168.10.22', '192.168.10.110'], 'wildcard_list': ['0.0.0.1'], 'port_list': [80, 5432], 'protocol_list': ['ICMP', 'TCP', 'UDP'], 'num_rules': 10}}, {'type': 'LINKS', 'label': 'LINKS', 'options': {'link_references': ['router_1:eth-1<->switch_1:eth-8', 'router_1:eth-2<->switch_2:eth-8', 'switch_1:eth-1<->domain_controller:eth-1', 'switch_1:eth-2<->web_server:eth-1', 'switch_1:eth-3<->database_server:eth-1', 'switch_1:eth-4<->backup_server:eth-1', 'switch_1:eth-7<->security_suite:eth-1', 'switch_2:eth-1<->client_1:eth-1', 'switch_2:eth-2<->client_2:eth-1', 'switch_2:eth-7<->security_suite:eth-2']}}, {'type': 'NONE', 'label': 'ICS', 'options': {}}]}}\n"
     ]
    },
    {
     "name": "stderr",
     "output_type": "stream",
     "text": [
      "2024-04-08 15:03:10,547: Resetting environment, episode 432, avg. reward: -16.399999999999995\n",
      "2024-04-08 15:03:10,550: Saving agent action log to C:\\Users\\CharlieCrane\\primaite\\3.0.0b7\\sessions\\2024-04-08\\14-49-25\\agent_actions\\episode_432.json\n"
     ]
    },
    {
     "name": "stdout",
     "output_type": "stream",
     "text": [
      "{'type': 'CUSTOM', 'options': {'components': [{'type': 'NODES', 'label': 'NODES', 'options': {'hosts': [{'hostname': 'domain_controller'}, {'hostname': 'web_server', 'services': [{'service_name': 'WebServer'}]}, {'hostname': 'database_server', 'folders': [{'folder_name': 'database', 'files': [{'file_name': 'database.db'}]}]}, {'hostname': 'backup_server'}, {'hostname': 'security_suite'}, {'hostname': 'client_1'}, {'hostname': 'client_2'}], 'num_services': 1, 'num_applications': 0, 'num_folders': 1, 'num_files': 1, 'num_nics': 2, 'include_num_access': False, 'include_nmne': True, 'routers': [{'hostname': 'router_1'}], 'num_ports': 0, 'ip_list': ['192.168.1.10', '192.168.1.12', '192.168.1.14', '192.168.1.16', '192.168.1.110', '192.168.10.21', '192.168.10.22', '192.168.10.110'], 'wildcard_list': ['0.0.0.1'], 'port_list': [80, 5432], 'protocol_list': ['ICMP', 'TCP', 'UDP'], 'num_rules': 10}}, {'type': 'LINKS', 'label': 'LINKS', 'options': {'link_references': ['router_1:eth-1<->switch_1:eth-8', 'router_1:eth-2<->switch_2:eth-8', 'switch_1:eth-1<->domain_controller:eth-1', 'switch_1:eth-2<->web_server:eth-1', 'switch_1:eth-3<->database_server:eth-1', 'switch_1:eth-4<->backup_server:eth-1', 'switch_1:eth-7<->security_suite:eth-1', 'switch_2:eth-1<->client_1:eth-1', 'switch_2:eth-2<->client_2:eth-1', 'switch_2:eth-7<->security_suite:eth-2']}}, {'type': 'NONE', 'label': 'ICS', 'options': {}}]}}\n"
     ]
    },
    {
     "name": "stderr",
     "output_type": "stream",
     "text": [
      "2024-04-08 15:03:12,415: Resetting environment, episode 433, avg. reward: 26.500000000000014\n",
      "2024-04-08 15:03:12,418: Saving agent action log to C:\\Users\\CharlieCrane\\primaite\\3.0.0b7\\sessions\\2024-04-08\\14-49-25\\agent_actions\\episode_433.json\n"
     ]
    },
    {
     "name": "stdout",
     "output_type": "stream",
     "text": [
      "{'type': 'CUSTOM', 'options': {'components': [{'type': 'NODES', 'label': 'NODES', 'options': {'hosts': [{'hostname': 'domain_controller'}, {'hostname': 'web_server', 'services': [{'service_name': 'WebServer'}]}, {'hostname': 'database_server', 'folders': [{'folder_name': 'database', 'files': [{'file_name': 'database.db'}]}]}, {'hostname': 'backup_server'}, {'hostname': 'security_suite'}, {'hostname': 'client_1'}, {'hostname': 'client_2'}], 'num_services': 1, 'num_applications': 0, 'num_folders': 1, 'num_files': 1, 'num_nics': 2, 'include_num_access': False, 'include_nmne': True, 'routers': [{'hostname': 'router_1'}], 'num_ports': 0, 'ip_list': ['192.168.1.10', '192.168.1.12', '192.168.1.14', '192.168.1.16', '192.168.1.110', '192.168.10.21', '192.168.10.22', '192.168.10.110'], 'wildcard_list': ['0.0.0.1'], 'port_list': [80, 5432], 'protocol_list': ['ICMP', 'TCP', 'UDP'], 'num_rules': 10}}, {'type': 'LINKS', 'label': 'LINKS', 'options': {'link_references': ['router_1:eth-1<->switch_1:eth-8', 'router_1:eth-2<->switch_2:eth-8', 'switch_1:eth-1<->domain_controller:eth-1', 'switch_1:eth-2<->web_server:eth-1', 'switch_1:eth-3<->database_server:eth-1', 'switch_1:eth-4<->backup_server:eth-1', 'switch_1:eth-7<->security_suite:eth-1', 'switch_2:eth-1<->client_1:eth-1', 'switch_2:eth-2<->client_2:eth-1', 'switch_2:eth-7<->security_suite:eth-2']}}, {'type': 'NONE', 'label': 'ICS', 'options': {}}]}}\n"
     ]
    },
    {
     "name": "stderr",
     "output_type": "stream",
     "text": [
      "2024-04-08 15:03:13,905: Resetting environment, episode 434, avg. reward: -9.04999999999999\n",
      "2024-04-08 15:03:13,909: Saving agent action log to C:\\Users\\CharlieCrane\\primaite\\3.0.0b7\\sessions\\2024-04-08\\14-49-25\\agent_actions\\episode_434.json\n"
     ]
    },
    {
     "name": "stdout",
     "output_type": "stream",
     "text": [
      "{'type': 'CUSTOM', 'options': {'components': [{'type': 'NODES', 'label': 'NODES', 'options': {'hosts': [{'hostname': 'domain_controller'}, {'hostname': 'web_server', 'services': [{'service_name': 'WebServer'}]}, {'hostname': 'database_server', 'folders': [{'folder_name': 'database', 'files': [{'file_name': 'database.db'}]}]}, {'hostname': 'backup_server'}, {'hostname': 'security_suite'}, {'hostname': 'client_1'}, {'hostname': 'client_2'}], 'num_services': 1, 'num_applications': 0, 'num_folders': 1, 'num_files': 1, 'num_nics': 2, 'include_num_access': False, 'include_nmne': True, 'routers': [{'hostname': 'router_1'}], 'num_ports': 0, 'ip_list': ['192.168.1.10', '192.168.1.12', '192.168.1.14', '192.168.1.16', '192.168.1.110', '192.168.10.21', '192.168.10.22', '192.168.10.110'], 'wildcard_list': ['0.0.0.1'], 'port_list': [80, 5432], 'protocol_list': ['ICMP', 'TCP', 'UDP'], 'num_rules': 10}}, {'type': 'LINKS', 'label': 'LINKS', 'options': {'link_references': ['router_1:eth-1<->switch_1:eth-8', 'router_1:eth-2<->switch_2:eth-8', 'switch_1:eth-1<->domain_controller:eth-1', 'switch_1:eth-2<->web_server:eth-1', 'switch_1:eth-3<->database_server:eth-1', 'switch_1:eth-4<->backup_server:eth-1', 'switch_1:eth-7<->security_suite:eth-1', 'switch_2:eth-1<->client_1:eth-1', 'switch_2:eth-2<->client_2:eth-1', 'switch_2:eth-7<->security_suite:eth-2']}}, {'type': 'NONE', 'label': 'ICS', 'options': {}}]}}\n"
     ]
    },
    {
     "name": "stderr",
     "output_type": "stream",
     "text": [
      "2024-04-08 15:03:15,659: Resetting environment, episode 435, avg. reward: -70.59999999999998\n",
      "2024-04-08 15:03:15,662: Saving agent action log to C:\\Users\\CharlieCrane\\primaite\\3.0.0b7\\sessions\\2024-04-08\\14-49-25\\agent_actions\\episode_435.json\n"
     ]
    },
    {
     "name": "stdout",
     "output_type": "stream",
     "text": [
      "{'type': 'CUSTOM', 'options': {'components': [{'type': 'NODES', 'label': 'NODES', 'options': {'hosts': [{'hostname': 'domain_controller'}, {'hostname': 'web_server', 'services': [{'service_name': 'WebServer'}]}, {'hostname': 'database_server', 'folders': [{'folder_name': 'database', 'files': [{'file_name': 'database.db'}]}]}, {'hostname': 'backup_server'}, {'hostname': 'security_suite'}, {'hostname': 'client_1'}, {'hostname': 'client_2'}], 'num_services': 1, 'num_applications': 0, 'num_folders': 1, 'num_files': 1, 'num_nics': 2, 'include_num_access': False, 'include_nmne': True, 'routers': [{'hostname': 'router_1'}], 'num_ports': 0, 'ip_list': ['192.168.1.10', '192.168.1.12', '192.168.1.14', '192.168.1.16', '192.168.1.110', '192.168.10.21', '192.168.10.22', '192.168.10.110'], 'wildcard_list': ['0.0.0.1'], 'port_list': [80, 5432], 'protocol_list': ['ICMP', 'TCP', 'UDP'], 'num_rules': 10}}, {'type': 'LINKS', 'label': 'LINKS', 'options': {'link_references': ['router_1:eth-1<->switch_1:eth-8', 'router_1:eth-2<->switch_2:eth-8', 'switch_1:eth-1<->domain_controller:eth-1', 'switch_1:eth-2<->web_server:eth-1', 'switch_1:eth-3<->database_server:eth-1', 'switch_1:eth-4<->backup_server:eth-1', 'switch_1:eth-7<->security_suite:eth-1', 'switch_2:eth-1<->client_1:eth-1', 'switch_2:eth-2<->client_2:eth-1', 'switch_2:eth-7<->security_suite:eth-2']}}, {'type': 'NONE', 'label': 'ICS', 'options': {}}]}}\n"
     ]
    },
    {
     "name": "stderr",
     "output_type": "stream",
     "text": [
      "2024-04-08 15:03:17,377: Resetting environment, episode 436, avg. reward: 8.600000000000009\n",
      "2024-04-08 15:03:17,381: Saving agent action log to C:\\Users\\CharlieCrane\\primaite\\3.0.0b7\\sessions\\2024-04-08\\14-49-25\\agent_actions\\episode_436.json\n"
     ]
    },
    {
     "name": "stdout",
     "output_type": "stream",
     "text": [
      "{'type': 'CUSTOM', 'options': {'components': [{'type': 'NODES', 'label': 'NODES', 'options': {'hosts': [{'hostname': 'domain_controller'}, {'hostname': 'web_server', 'services': [{'service_name': 'WebServer'}]}, {'hostname': 'database_server', 'folders': [{'folder_name': 'database', 'files': [{'file_name': 'database.db'}]}]}, {'hostname': 'backup_server'}, {'hostname': 'security_suite'}, {'hostname': 'client_1'}, {'hostname': 'client_2'}], 'num_services': 1, 'num_applications': 0, 'num_folders': 1, 'num_files': 1, 'num_nics': 2, 'include_num_access': False, 'include_nmne': True, 'routers': [{'hostname': 'router_1'}], 'num_ports': 0, 'ip_list': ['192.168.1.10', '192.168.1.12', '192.168.1.14', '192.168.1.16', '192.168.1.110', '192.168.10.21', '192.168.10.22', '192.168.10.110'], 'wildcard_list': ['0.0.0.1'], 'port_list': [80, 5432], 'protocol_list': ['ICMP', 'TCP', 'UDP'], 'num_rules': 10}}, {'type': 'LINKS', 'label': 'LINKS', 'options': {'link_references': ['router_1:eth-1<->switch_1:eth-8', 'router_1:eth-2<->switch_2:eth-8', 'switch_1:eth-1<->domain_controller:eth-1', 'switch_1:eth-2<->web_server:eth-1', 'switch_1:eth-3<->database_server:eth-1', 'switch_1:eth-4<->backup_server:eth-1', 'switch_1:eth-7<->security_suite:eth-1', 'switch_2:eth-1<->client_1:eth-1', 'switch_2:eth-2<->client_2:eth-1', 'switch_2:eth-7<->security_suite:eth-2']}}, {'type': 'NONE', 'label': 'ICS', 'options': {}}]}}\n"
     ]
    },
    {
     "name": "stderr",
     "output_type": "stream",
     "text": [
      "2024-04-08 15:03:19,455: Resetting environment, episode 437, avg. reward: 84.10000000000014\n",
      "2024-04-08 15:03:19,458: Saving agent action log to C:\\Users\\CharlieCrane\\primaite\\3.0.0b7\\sessions\\2024-04-08\\14-49-25\\agent_actions\\episode_437.json\n"
     ]
    },
    {
     "name": "stdout",
     "output_type": "stream",
     "text": [
      "{'type': 'CUSTOM', 'options': {'components': [{'type': 'NODES', 'label': 'NODES', 'options': {'hosts': [{'hostname': 'domain_controller'}, {'hostname': 'web_server', 'services': [{'service_name': 'WebServer'}]}, {'hostname': 'database_server', 'folders': [{'folder_name': 'database', 'files': [{'file_name': 'database.db'}]}]}, {'hostname': 'backup_server'}, {'hostname': 'security_suite'}, {'hostname': 'client_1'}, {'hostname': 'client_2'}], 'num_services': 1, 'num_applications': 0, 'num_folders': 1, 'num_files': 1, 'num_nics': 2, 'include_num_access': False, 'include_nmne': True, 'routers': [{'hostname': 'router_1'}], 'num_ports': 0, 'ip_list': ['192.168.1.10', '192.168.1.12', '192.168.1.14', '192.168.1.16', '192.168.1.110', '192.168.10.21', '192.168.10.22', '192.168.10.110'], 'wildcard_list': ['0.0.0.1'], 'port_list': [80, 5432], 'protocol_list': ['ICMP', 'TCP', 'UDP'], 'num_rules': 10}}, {'type': 'LINKS', 'label': 'LINKS', 'options': {'link_references': ['router_1:eth-1<->switch_1:eth-8', 'router_1:eth-2<->switch_2:eth-8', 'switch_1:eth-1<->domain_controller:eth-1', 'switch_1:eth-2<->web_server:eth-1', 'switch_1:eth-3<->database_server:eth-1', 'switch_1:eth-4<->backup_server:eth-1', 'switch_1:eth-7<->security_suite:eth-1', 'switch_2:eth-1<->client_1:eth-1', 'switch_2:eth-2<->client_2:eth-1', 'switch_2:eth-7<->security_suite:eth-2']}}, {'type': 'NONE', 'label': 'ICS', 'options': {}}]}}\n"
     ]
    },
    {
     "name": "stderr",
     "output_type": "stream",
     "text": [
      "2024-04-08 15:03:21,741: Resetting environment, episode 438, avg. reward: -52.299999999999976\n",
      "2024-04-08 15:03:21,744: Saving agent action log to C:\\Users\\CharlieCrane\\primaite\\3.0.0b7\\sessions\\2024-04-08\\14-49-25\\agent_actions\\episode_438.json\n"
     ]
    },
    {
     "name": "stdout",
     "output_type": "stream",
     "text": [
      "{'type': 'CUSTOM', 'options': {'components': [{'type': 'NODES', 'label': 'NODES', 'options': {'hosts': [{'hostname': 'domain_controller'}, {'hostname': 'web_server', 'services': [{'service_name': 'WebServer'}]}, {'hostname': 'database_server', 'folders': [{'folder_name': 'database', 'files': [{'file_name': 'database.db'}]}]}, {'hostname': 'backup_server'}, {'hostname': 'security_suite'}, {'hostname': 'client_1'}, {'hostname': 'client_2'}], 'num_services': 1, 'num_applications': 0, 'num_folders': 1, 'num_files': 1, 'num_nics': 2, 'include_num_access': False, 'include_nmne': True, 'routers': [{'hostname': 'router_1'}], 'num_ports': 0, 'ip_list': ['192.168.1.10', '192.168.1.12', '192.168.1.14', '192.168.1.16', '192.168.1.110', '192.168.10.21', '192.168.10.22', '192.168.10.110'], 'wildcard_list': ['0.0.0.1'], 'port_list': [80, 5432], 'protocol_list': ['ICMP', 'TCP', 'UDP'], 'num_rules': 10}}, {'type': 'LINKS', 'label': 'LINKS', 'options': {'link_references': ['router_1:eth-1<->switch_1:eth-8', 'router_1:eth-2<->switch_2:eth-8', 'switch_1:eth-1<->domain_controller:eth-1', 'switch_1:eth-2<->web_server:eth-1', 'switch_1:eth-3<->database_server:eth-1', 'switch_1:eth-4<->backup_server:eth-1', 'switch_1:eth-7<->security_suite:eth-1', 'switch_2:eth-1<->client_1:eth-1', 'switch_2:eth-2<->client_2:eth-1', 'switch_2:eth-7<->security_suite:eth-2']}}, {'type': 'NONE', 'label': 'ICS', 'options': {}}]}}\n"
     ]
    },
    {
     "name": "stderr",
     "output_type": "stream",
     "text": [
      "2024-04-08 15:03:23,696: Resetting environment, episode 439, avg. reward: 20.199999999999957\n",
      "2024-04-08 15:03:23,700: Saving agent action log to C:\\Users\\CharlieCrane\\primaite\\3.0.0b7\\sessions\\2024-04-08\\14-49-25\\agent_actions\\episode_439.json\n"
     ]
    },
    {
     "name": "stdout",
     "output_type": "stream",
     "text": [
      "{'type': 'CUSTOM', 'options': {'components': [{'type': 'NODES', 'label': 'NODES', 'options': {'hosts': [{'hostname': 'domain_controller'}, {'hostname': 'web_server', 'services': [{'service_name': 'WebServer'}]}, {'hostname': 'database_server', 'folders': [{'folder_name': 'database', 'files': [{'file_name': 'database.db'}]}]}, {'hostname': 'backup_server'}, {'hostname': 'security_suite'}, {'hostname': 'client_1'}, {'hostname': 'client_2'}], 'num_services': 1, 'num_applications': 0, 'num_folders': 1, 'num_files': 1, 'num_nics': 2, 'include_num_access': False, 'include_nmne': True, 'routers': [{'hostname': 'router_1'}], 'num_ports': 0, 'ip_list': ['192.168.1.10', '192.168.1.12', '192.168.1.14', '192.168.1.16', '192.168.1.110', '192.168.10.21', '192.168.10.22', '192.168.10.110'], 'wildcard_list': ['0.0.0.1'], 'port_list': [80, 5432], 'protocol_list': ['ICMP', 'TCP', 'UDP'], 'num_rules': 10}}, {'type': 'LINKS', 'label': 'LINKS', 'options': {'link_references': ['router_1:eth-1<->switch_1:eth-8', 'router_1:eth-2<->switch_2:eth-8', 'switch_1:eth-1<->domain_controller:eth-1', 'switch_1:eth-2<->web_server:eth-1', 'switch_1:eth-3<->database_server:eth-1', 'switch_1:eth-4<->backup_server:eth-1', 'switch_1:eth-7<->security_suite:eth-1', 'switch_2:eth-1<->client_1:eth-1', 'switch_2:eth-2<->client_2:eth-1', 'switch_2:eth-7<->security_suite:eth-2']}}, {'type': 'NONE', 'label': 'ICS', 'options': {}}]}}\n"
     ]
    },
    {
     "name": "stderr",
     "output_type": "stream",
     "text": [
      "2024-04-08 15:03:25,663: Resetting environment, episode 440, avg. reward: -79.10000000000002\n",
      "2024-04-08 15:03:25,667: Saving agent action log to C:\\Users\\CharlieCrane\\primaite\\3.0.0b7\\sessions\\2024-04-08\\14-49-25\\agent_actions\\episode_440.json\n"
     ]
    },
    {
     "name": "stdout",
     "output_type": "stream",
     "text": [
      "{'type': 'CUSTOM', 'options': {'components': [{'type': 'NODES', 'label': 'NODES', 'options': {'hosts': [{'hostname': 'domain_controller'}, {'hostname': 'web_server', 'services': [{'service_name': 'WebServer'}]}, {'hostname': 'database_server', 'folders': [{'folder_name': 'database', 'files': [{'file_name': 'database.db'}]}]}, {'hostname': 'backup_server'}, {'hostname': 'security_suite'}, {'hostname': 'client_1'}, {'hostname': 'client_2'}], 'num_services': 1, 'num_applications': 0, 'num_folders': 1, 'num_files': 1, 'num_nics': 2, 'include_num_access': False, 'include_nmne': True, 'routers': [{'hostname': 'router_1'}], 'num_ports': 0, 'ip_list': ['192.168.1.10', '192.168.1.12', '192.168.1.14', '192.168.1.16', '192.168.1.110', '192.168.10.21', '192.168.10.22', '192.168.10.110'], 'wildcard_list': ['0.0.0.1'], 'port_list': [80, 5432], 'protocol_list': ['ICMP', 'TCP', 'UDP'], 'num_rules': 10}}, {'type': 'LINKS', 'label': 'LINKS', 'options': {'link_references': ['router_1:eth-1<->switch_1:eth-8', 'router_1:eth-2<->switch_2:eth-8', 'switch_1:eth-1<->domain_controller:eth-1', 'switch_1:eth-2<->web_server:eth-1', 'switch_1:eth-3<->database_server:eth-1', 'switch_1:eth-4<->backup_server:eth-1', 'switch_1:eth-7<->security_suite:eth-1', 'switch_2:eth-1<->client_1:eth-1', 'switch_2:eth-2<->client_2:eth-1', 'switch_2:eth-7<->security_suite:eth-2']}}, {'type': 'NONE', 'label': 'ICS', 'options': {}}]}}\n"
     ]
    },
    {
     "name": "stderr",
     "output_type": "stream",
     "text": [
      "2024-04-08 15:03:27,924: Resetting environment, episode 441, avg. reward: 58.799999999999876\n",
      "2024-04-08 15:03:27,928: Saving agent action log to C:\\Users\\CharlieCrane\\primaite\\3.0.0b7\\sessions\\2024-04-08\\14-49-25\\agent_actions\\episode_441.json\n"
     ]
    },
    {
     "name": "stdout",
     "output_type": "stream",
     "text": [
      "{'type': 'CUSTOM', 'options': {'components': [{'type': 'NODES', 'label': 'NODES', 'options': {'hosts': [{'hostname': 'domain_controller'}, {'hostname': 'web_server', 'services': [{'service_name': 'WebServer'}]}, {'hostname': 'database_server', 'folders': [{'folder_name': 'database', 'files': [{'file_name': 'database.db'}]}]}, {'hostname': 'backup_server'}, {'hostname': 'security_suite'}, {'hostname': 'client_1'}, {'hostname': 'client_2'}], 'num_services': 1, 'num_applications': 0, 'num_folders': 1, 'num_files': 1, 'num_nics': 2, 'include_num_access': False, 'include_nmne': True, 'routers': [{'hostname': 'router_1'}], 'num_ports': 0, 'ip_list': ['192.168.1.10', '192.168.1.12', '192.168.1.14', '192.168.1.16', '192.168.1.110', '192.168.10.21', '192.168.10.22', '192.168.10.110'], 'wildcard_list': ['0.0.0.1'], 'port_list': [80, 5432], 'protocol_list': ['ICMP', 'TCP', 'UDP'], 'num_rules': 10}}, {'type': 'LINKS', 'label': 'LINKS', 'options': {'link_references': ['router_1:eth-1<->switch_1:eth-8', 'router_1:eth-2<->switch_2:eth-8', 'switch_1:eth-1<->domain_controller:eth-1', 'switch_1:eth-2<->web_server:eth-1', 'switch_1:eth-3<->database_server:eth-1', 'switch_1:eth-4<->backup_server:eth-1', 'switch_1:eth-7<->security_suite:eth-1', 'switch_2:eth-1<->client_1:eth-1', 'switch_2:eth-2<->client_2:eth-1', 'switch_2:eth-7<->security_suite:eth-2']}}, {'type': 'NONE', 'label': 'ICS', 'options': {}}]}}\n"
     ]
    },
    {
     "name": "stderr",
     "output_type": "stream",
     "text": [
      "2024-04-08 15:03:29,603: Resetting environment, episode 442, avg. reward: -35.64999999999998\n",
      "2024-04-08 15:03:29,606: Saving agent action log to C:\\Users\\CharlieCrane\\primaite\\3.0.0b7\\sessions\\2024-04-08\\14-49-25\\agent_actions\\episode_442.json\n"
     ]
    },
    {
     "name": "stdout",
     "output_type": "stream",
     "text": [
      "{'type': 'CUSTOM', 'options': {'components': [{'type': 'NODES', 'label': 'NODES', 'options': {'hosts': [{'hostname': 'domain_controller'}, {'hostname': 'web_server', 'services': [{'service_name': 'WebServer'}]}, {'hostname': 'database_server', 'folders': [{'folder_name': 'database', 'files': [{'file_name': 'database.db'}]}]}, {'hostname': 'backup_server'}, {'hostname': 'security_suite'}, {'hostname': 'client_1'}, {'hostname': 'client_2'}], 'num_services': 1, 'num_applications': 0, 'num_folders': 1, 'num_files': 1, 'num_nics': 2, 'include_num_access': False, 'include_nmne': True, 'routers': [{'hostname': 'router_1'}], 'num_ports': 0, 'ip_list': ['192.168.1.10', '192.168.1.12', '192.168.1.14', '192.168.1.16', '192.168.1.110', '192.168.10.21', '192.168.10.22', '192.168.10.110'], 'wildcard_list': ['0.0.0.1'], 'port_list': [80, 5432], 'protocol_list': ['ICMP', 'TCP', 'UDP'], 'num_rules': 10}}, {'type': 'LINKS', 'label': 'LINKS', 'options': {'link_references': ['router_1:eth-1<->switch_1:eth-8', 'router_1:eth-2<->switch_2:eth-8', 'switch_1:eth-1<->domain_controller:eth-1', 'switch_1:eth-2<->web_server:eth-1', 'switch_1:eth-3<->database_server:eth-1', 'switch_1:eth-4<->backup_server:eth-1', 'switch_1:eth-7<->security_suite:eth-1', 'switch_2:eth-1<->client_1:eth-1', 'switch_2:eth-2<->client_2:eth-1', 'switch_2:eth-7<->security_suite:eth-2']}}, {'type': 'NONE', 'label': 'ICS', 'options': {}}]}}\n"
     ]
    },
    {
     "name": "stderr",
     "output_type": "stream",
     "text": [
      "2024-04-08 15:03:31,271: Resetting environment, episode 443, avg. reward: -0.7500000000000195\n",
      "2024-04-08 15:03:31,274: Saving agent action log to C:\\Users\\CharlieCrane\\primaite\\3.0.0b7\\sessions\\2024-04-08\\14-49-25\\agent_actions\\episode_443.json\n"
     ]
    },
    {
     "name": "stdout",
     "output_type": "stream",
     "text": [
      "{'type': 'CUSTOM', 'options': {'components': [{'type': 'NODES', 'label': 'NODES', 'options': {'hosts': [{'hostname': 'domain_controller'}, {'hostname': 'web_server', 'services': [{'service_name': 'WebServer'}]}, {'hostname': 'database_server', 'folders': [{'folder_name': 'database', 'files': [{'file_name': 'database.db'}]}]}, {'hostname': 'backup_server'}, {'hostname': 'security_suite'}, {'hostname': 'client_1'}, {'hostname': 'client_2'}], 'num_services': 1, 'num_applications': 0, 'num_folders': 1, 'num_files': 1, 'num_nics': 2, 'include_num_access': False, 'include_nmne': True, 'routers': [{'hostname': 'router_1'}], 'num_ports': 0, 'ip_list': ['192.168.1.10', '192.168.1.12', '192.168.1.14', '192.168.1.16', '192.168.1.110', '192.168.10.21', '192.168.10.22', '192.168.10.110'], 'wildcard_list': ['0.0.0.1'], 'port_list': [80, 5432], 'protocol_list': ['ICMP', 'TCP', 'UDP'], 'num_rules': 10}}, {'type': 'LINKS', 'label': 'LINKS', 'options': {'link_references': ['router_1:eth-1<->switch_1:eth-8', 'router_1:eth-2<->switch_2:eth-8', 'switch_1:eth-1<->domain_controller:eth-1', 'switch_1:eth-2<->web_server:eth-1', 'switch_1:eth-3<->database_server:eth-1', 'switch_1:eth-4<->backup_server:eth-1', 'switch_1:eth-7<->security_suite:eth-1', 'switch_2:eth-1<->client_1:eth-1', 'switch_2:eth-2<->client_2:eth-1', 'switch_2:eth-7<->security_suite:eth-2']}}, {'type': 'NONE', 'label': 'ICS', 'options': {}}]}}\n"
     ]
    },
    {
     "name": "stderr",
     "output_type": "stream",
     "text": [
      "2024-04-08 15:03:33,199: Resetting environment, episode 444, avg. reward: -83.49999999999989\n",
      "2024-04-08 15:03:33,203: Saving agent action log to C:\\Users\\CharlieCrane\\primaite\\3.0.0b7\\sessions\\2024-04-08\\14-49-25\\agent_actions\\episode_444.json\n"
     ]
    },
    {
     "name": "stdout",
     "output_type": "stream",
     "text": [
      "{'type': 'CUSTOM', 'options': {'components': [{'type': 'NODES', 'label': 'NODES', 'options': {'hosts': [{'hostname': 'domain_controller'}, {'hostname': 'web_server', 'services': [{'service_name': 'WebServer'}]}, {'hostname': 'database_server', 'folders': [{'folder_name': 'database', 'files': [{'file_name': 'database.db'}]}]}, {'hostname': 'backup_server'}, {'hostname': 'security_suite'}, {'hostname': 'client_1'}, {'hostname': 'client_2'}], 'num_services': 1, 'num_applications': 0, 'num_folders': 1, 'num_files': 1, 'num_nics': 2, 'include_num_access': False, 'include_nmne': True, 'routers': [{'hostname': 'router_1'}], 'num_ports': 0, 'ip_list': ['192.168.1.10', '192.168.1.12', '192.168.1.14', '192.168.1.16', '192.168.1.110', '192.168.10.21', '192.168.10.22', '192.168.10.110'], 'wildcard_list': ['0.0.0.1'], 'port_list': [80, 5432], 'protocol_list': ['ICMP', 'TCP', 'UDP'], 'num_rules': 10}}, {'type': 'LINKS', 'label': 'LINKS', 'options': {'link_references': ['router_1:eth-1<->switch_1:eth-8', 'router_1:eth-2<->switch_2:eth-8', 'switch_1:eth-1<->domain_controller:eth-1', 'switch_1:eth-2<->web_server:eth-1', 'switch_1:eth-3<->database_server:eth-1', 'switch_1:eth-4<->backup_server:eth-1', 'switch_1:eth-7<->security_suite:eth-1', 'switch_2:eth-1<->client_1:eth-1', 'switch_2:eth-2<->client_2:eth-1', 'switch_2:eth-7<->security_suite:eth-2']}}, {'type': 'NONE', 'label': 'ICS', 'options': {}}]}}\n"
     ]
    },
    {
     "name": "stderr",
     "output_type": "stream",
     "text": [
      "2024-04-08 15:03:35,706: Resetting environment, episode 445, avg. reward: 58.54999999999981\n",
      "2024-04-08 15:03:35,710: Saving agent action log to C:\\Users\\CharlieCrane\\primaite\\3.0.0b7\\sessions\\2024-04-08\\14-49-25\\agent_actions\\episode_445.json\n"
     ]
    },
    {
     "name": "stdout",
     "output_type": "stream",
     "text": [
      "{'type': 'CUSTOM', 'options': {'components': [{'type': 'NODES', 'label': 'NODES', 'options': {'hosts': [{'hostname': 'domain_controller'}, {'hostname': 'web_server', 'services': [{'service_name': 'WebServer'}]}, {'hostname': 'database_server', 'folders': [{'folder_name': 'database', 'files': [{'file_name': 'database.db'}]}]}, {'hostname': 'backup_server'}, {'hostname': 'security_suite'}, {'hostname': 'client_1'}, {'hostname': 'client_2'}], 'num_services': 1, 'num_applications': 0, 'num_folders': 1, 'num_files': 1, 'num_nics': 2, 'include_num_access': False, 'include_nmne': True, 'routers': [{'hostname': 'router_1'}], 'num_ports': 0, 'ip_list': ['192.168.1.10', '192.168.1.12', '192.168.1.14', '192.168.1.16', '192.168.1.110', '192.168.10.21', '192.168.10.22', '192.168.10.110'], 'wildcard_list': ['0.0.0.1'], 'port_list': [80, 5432], 'protocol_list': ['ICMP', 'TCP', 'UDP'], 'num_rules': 10}}, {'type': 'LINKS', 'label': 'LINKS', 'options': {'link_references': ['router_1:eth-1<->switch_1:eth-8', 'router_1:eth-2<->switch_2:eth-8', 'switch_1:eth-1<->domain_controller:eth-1', 'switch_1:eth-2<->web_server:eth-1', 'switch_1:eth-3<->database_server:eth-1', 'switch_1:eth-4<->backup_server:eth-1', 'switch_1:eth-7<->security_suite:eth-1', 'switch_2:eth-1<->client_1:eth-1', 'switch_2:eth-2<->client_2:eth-1', 'switch_2:eth-7<->security_suite:eth-2']}}, {'type': 'NONE', 'label': 'ICS', 'options': {}}]}}\n"
     ]
    },
    {
     "name": "stderr",
     "output_type": "stream",
     "text": [
      "2024-04-08 15:03:37,671: Resetting environment, episode 446, avg. reward: -39.45000000000003\n",
      "2024-04-08 15:03:37,673: Saving agent action log to C:\\Users\\CharlieCrane\\primaite\\3.0.0b7\\sessions\\2024-04-08\\14-49-25\\agent_actions\\episode_446.json\n"
     ]
    },
    {
     "name": "stdout",
     "output_type": "stream",
     "text": [
      "{'type': 'CUSTOM', 'options': {'components': [{'type': 'NODES', 'label': 'NODES', 'options': {'hosts': [{'hostname': 'domain_controller'}, {'hostname': 'web_server', 'services': [{'service_name': 'WebServer'}]}, {'hostname': 'database_server', 'folders': [{'folder_name': 'database', 'files': [{'file_name': 'database.db'}]}]}, {'hostname': 'backup_server'}, {'hostname': 'security_suite'}, {'hostname': 'client_1'}, {'hostname': 'client_2'}], 'num_services': 1, 'num_applications': 0, 'num_folders': 1, 'num_files': 1, 'num_nics': 2, 'include_num_access': False, 'include_nmne': True, 'routers': [{'hostname': 'router_1'}], 'num_ports': 0, 'ip_list': ['192.168.1.10', '192.168.1.12', '192.168.1.14', '192.168.1.16', '192.168.1.110', '192.168.10.21', '192.168.10.22', '192.168.10.110'], 'wildcard_list': ['0.0.0.1'], 'port_list': [80, 5432], 'protocol_list': ['ICMP', 'TCP', 'UDP'], 'num_rules': 10}}, {'type': 'LINKS', 'label': 'LINKS', 'options': {'link_references': ['router_1:eth-1<->switch_1:eth-8', 'router_1:eth-2<->switch_2:eth-8', 'switch_1:eth-1<->domain_controller:eth-1', 'switch_1:eth-2<->web_server:eth-1', 'switch_1:eth-3<->database_server:eth-1', 'switch_1:eth-4<->backup_server:eth-1', 'switch_1:eth-7<->security_suite:eth-1', 'switch_2:eth-1<->client_1:eth-1', 'switch_2:eth-2<->client_2:eth-1', 'switch_2:eth-7<->security_suite:eth-2']}}, {'type': 'NONE', 'label': 'ICS', 'options': {}}]}}\n"
     ]
    },
    {
     "name": "stderr",
     "output_type": "stream",
     "text": [
      "2024-04-08 15:03:40,320: Resetting environment, episode 447, avg. reward: -63.049999999999955\n",
      "2024-04-08 15:03:40,324: Saving agent action log to C:\\Users\\CharlieCrane\\primaite\\3.0.0b7\\sessions\\2024-04-08\\14-49-25\\agent_actions\\episode_447.json\n"
     ]
    },
    {
     "name": "stdout",
     "output_type": "stream",
     "text": [
      "{'type': 'CUSTOM', 'options': {'components': [{'type': 'NODES', 'label': 'NODES', 'options': {'hosts': [{'hostname': 'domain_controller'}, {'hostname': 'web_server', 'services': [{'service_name': 'WebServer'}]}, {'hostname': 'database_server', 'folders': [{'folder_name': 'database', 'files': [{'file_name': 'database.db'}]}]}, {'hostname': 'backup_server'}, {'hostname': 'security_suite'}, {'hostname': 'client_1'}, {'hostname': 'client_2'}], 'num_services': 1, 'num_applications': 0, 'num_folders': 1, 'num_files': 1, 'num_nics': 2, 'include_num_access': False, 'include_nmne': True, 'routers': [{'hostname': 'router_1'}], 'num_ports': 0, 'ip_list': ['192.168.1.10', '192.168.1.12', '192.168.1.14', '192.168.1.16', '192.168.1.110', '192.168.10.21', '192.168.10.22', '192.168.10.110'], 'wildcard_list': ['0.0.0.1'], 'port_list': [80, 5432], 'protocol_list': ['ICMP', 'TCP', 'UDP'], 'num_rules': 10}}, {'type': 'LINKS', 'label': 'LINKS', 'options': {'link_references': ['router_1:eth-1<->switch_1:eth-8', 'router_1:eth-2<->switch_2:eth-8', 'switch_1:eth-1<->domain_controller:eth-1', 'switch_1:eth-2<->web_server:eth-1', 'switch_1:eth-3<->database_server:eth-1', 'switch_1:eth-4<->backup_server:eth-1', 'switch_1:eth-7<->security_suite:eth-1', 'switch_2:eth-1<->client_1:eth-1', 'switch_2:eth-2<->client_2:eth-1', 'switch_2:eth-7<->security_suite:eth-2']}}, {'type': 'NONE', 'label': 'ICS', 'options': {}}]}}\n"
     ]
    },
    {
     "name": "stderr",
     "output_type": "stream",
     "text": [
      "2024-04-08 15:03:42,333: Resetting environment, episode 448, avg. reward: -48.29999999999998\n",
      "2024-04-08 15:03:42,336: Saving agent action log to C:\\Users\\CharlieCrane\\primaite\\3.0.0b7\\sessions\\2024-04-08\\14-49-25\\agent_actions\\episode_448.json\n"
     ]
    },
    {
     "name": "stdout",
     "output_type": "stream",
     "text": [
      "{'type': 'CUSTOM', 'options': {'components': [{'type': 'NODES', 'label': 'NODES', 'options': {'hosts': [{'hostname': 'domain_controller'}, {'hostname': 'web_server', 'services': [{'service_name': 'WebServer'}]}, {'hostname': 'database_server', 'folders': [{'folder_name': 'database', 'files': [{'file_name': 'database.db'}]}]}, {'hostname': 'backup_server'}, {'hostname': 'security_suite'}, {'hostname': 'client_1'}, {'hostname': 'client_2'}], 'num_services': 1, 'num_applications': 0, 'num_folders': 1, 'num_files': 1, 'num_nics': 2, 'include_num_access': False, 'include_nmne': True, 'routers': [{'hostname': 'router_1'}], 'num_ports': 0, 'ip_list': ['192.168.1.10', '192.168.1.12', '192.168.1.14', '192.168.1.16', '192.168.1.110', '192.168.10.21', '192.168.10.22', '192.168.10.110'], 'wildcard_list': ['0.0.0.1'], 'port_list': [80, 5432], 'protocol_list': ['ICMP', 'TCP', 'UDP'], 'num_rules': 10}}, {'type': 'LINKS', 'label': 'LINKS', 'options': {'link_references': ['router_1:eth-1<->switch_1:eth-8', 'router_1:eth-2<->switch_2:eth-8', 'switch_1:eth-1<->domain_controller:eth-1', 'switch_1:eth-2<->web_server:eth-1', 'switch_1:eth-3<->database_server:eth-1', 'switch_1:eth-4<->backup_server:eth-1', 'switch_1:eth-7<->security_suite:eth-1', 'switch_2:eth-1<->client_1:eth-1', 'switch_2:eth-2<->client_2:eth-1', 'switch_2:eth-7<->security_suite:eth-2']}}, {'type': 'NONE', 'label': 'ICS', 'options': {}}]}}\n"
     ]
    },
    {
     "name": "stderr",
     "output_type": "stream",
     "text": [
      "2024-04-08 15:03:44,621: Resetting environment, episode 449, avg. reward: 87.55000000000031\n",
      "2024-04-08 15:03:44,625: Saving agent action log to C:\\Users\\CharlieCrane\\primaite\\3.0.0b7\\sessions\\2024-04-08\\14-49-25\\agent_actions\\episode_449.json\n"
     ]
    },
    {
     "name": "stdout",
     "output_type": "stream",
     "text": [
      "{'type': 'CUSTOM', 'options': {'components': [{'type': 'NODES', 'label': 'NODES', 'options': {'hosts': [{'hostname': 'domain_controller'}, {'hostname': 'web_server', 'services': [{'service_name': 'WebServer'}]}, {'hostname': 'database_server', 'folders': [{'folder_name': 'database', 'files': [{'file_name': 'database.db'}]}]}, {'hostname': 'backup_server'}, {'hostname': 'security_suite'}, {'hostname': 'client_1'}, {'hostname': 'client_2'}], 'num_services': 1, 'num_applications': 0, 'num_folders': 1, 'num_files': 1, 'num_nics': 2, 'include_num_access': False, 'include_nmne': True, 'routers': [{'hostname': 'router_1'}], 'num_ports': 0, 'ip_list': ['192.168.1.10', '192.168.1.12', '192.168.1.14', '192.168.1.16', '192.168.1.110', '192.168.10.21', '192.168.10.22', '192.168.10.110'], 'wildcard_list': ['0.0.0.1'], 'port_list': [80, 5432], 'protocol_list': ['ICMP', 'TCP', 'UDP'], 'num_rules': 10}}, {'type': 'LINKS', 'label': 'LINKS', 'options': {'link_references': ['router_1:eth-1<->switch_1:eth-8', 'router_1:eth-2<->switch_2:eth-8', 'switch_1:eth-1<->domain_controller:eth-1', 'switch_1:eth-2<->web_server:eth-1', 'switch_1:eth-3<->database_server:eth-1', 'switch_1:eth-4<->backup_server:eth-1', 'switch_1:eth-7<->security_suite:eth-1', 'switch_2:eth-1<->client_1:eth-1', 'switch_2:eth-2<->client_2:eth-1', 'switch_2:eth-7<->security_suite:eth-2']}}, {'type': 'NONE', 'label': 'ICS', 'options': {}}]}}\n"
     ]
    },
    {
     "name": "stderr",
     "output_type": "stream",
     "text": [
      "2024-04-08 15:03:46,958: Resetting environment, episode 450, avg. reward: 59.89999999999991\n",
      "2024-04-08 15:03:46,962: Saving agent action log to C:\\Users\\CharlieCrane\\primaite\\3.0.0b7\\sessions\\2024-04-08\\14-49-25\\agent_actions\\episode_450.json\n"
     ]
    },
    {
     "name": "stdout",
     "output_type": "stream",
     "text": [
      "{'type': 'CUSTOM', 'options': {'components': [{'type': 'NODES', 'label': 'NODES', 'options': {'hosts': [{'hostname': 'domain_controller'}, {'hostname': 'web_server', 'services': [{'service_name': 'WebServer'}]}, {'hostname': 'database_server', 'folders': [{'folder_name': 'database', 'files': [{'file_name': 'database.db'}]}]}, {'hostname': 'backup_server'}, {'hostname': 'security_suite'}, {'hostname': 'client_1'}, {'hostname': 'client_2'}], 'num_services': 1, 'num_applications': 0, 'num_folders': 1, 'num_files': 1, 'num_nics': 2, 'include_num_access': False, 'include_nmne': True, 'routers': [{'hostname': 'router_1'}], 'num_ports': 0, 'ip_list': ['192.168.1.10', '192.168.1.12', '192.168.1.14', '192.168.1.16', '192.168.1.110', '192.168.10.21', '192.168.10.22', '192.168.10.110'], 'wildcard_list': ['0.0.0.1'], 'port_list': [80, 5432], 'protocol_list': ['ICMP', 'TCP', 'UDP'], 'num_rules': 10}}, {'type': 'LINKS', 'label': 'LINKS', 'options': {'link_references': ['router_1:eth-1<->switch_1:eth-8', 'router_1:eth-2<->switch_2:eth-8', 'switch_1:eth-1<->domain_controller:eth-1', 'switch_1:eth-2<->web_server:eth-1', 'switch_1:eth-3<->database_server:eth-1', 'switch_1:eth-4<->backup_server:eth-1', 'switch_1:eth-7<->security_suite:eth-1', 'switch_2:eth-1<->client_1:eth-1', 'switch_2:eth-2<->client_2:eth-1', 'switch_2:eth-7<->security_suite:eth-2']}}, {'type': 'NONE', 'label': 'ICS', 'options': {}}]}}\n"
     ]
    },
    {
     "name": "stderr",
     "output_type": "stream",
     "text": [
      "2024-04-08 15:03:49,779: Resetting environment, episode 451, avg. reward: -35.349999999999994\n",
      "2024-04-08 15:03:49,783: Saving agent action log to C:\\Users\\CharlieCrane\\primaite\\3.0.0b7\\sessions\\2024-04-08\\14-49-25\\agent_actions\\episode_451.json\n"
     ]
    },
    {
     "name": "stdout",
     "output_type": "stream",
     "text": [
      "{'type': 'CUSTOM', 'options': {'components': [{'type': 'NODES', 'label': 'NODES', 'options': {'hosts': [{'hostname': 'domain_controller'}, {'hostname': 'web_server', 'services': [{'service_name': 'WebServer'}]}, {'hostname': 'database_server', 'folders': [{'folder_name': 'database', 'files': [{'file_name': 'database.db'}]}]}, {'hostname': 'backup_server'}, {'hostname': 'security_suite'}, {'hostname': 'client_1'}, {'hostname': 'client_2'}], 'num_services': 1, 'num_applications': 0, 'num_folders': 1, 'num_files': 1, 'num_nics': 2, 'include_num_access': False, 'include_nmne': True, 'routers': [{'hostname': 'router_1'}], 'num_ports': 0, 'ip_list': ['192.168.1.10', '192.168.1.12', '192.168.1.14', '192.168.1.16', '192.168.1.110', '192.168.10.21', '192.168.10.22', '192.168.10.110'], 'wildcard_list': ['0.0.0.1'], 'port_list': [80, 5432], 'protocol_list': ['ICMP', 'TCP', 'UDP'], 'num_rules': 10}}, {'type': 'LINKS', 'label': 'LINKS', 'options': {'link_references': ['router_1:eth-1<->switch_1:eth-8', 'router_1:eth-2<->switch_2:eth-8', 'switch_1:eth-1<->domain_controller:eth-1', 'switch_1:eth-2<->web_server:eth-1', 'switch_1:eth-3<->database_server:eth-1', 'switch_1:eth-4<->backup_server:eth-1', 'switch_1:eth-7<->security_suite:eth-1', 'switch_2:eth-1<->client_1:eth-1', 'switch_2:eth-2<->client_2:eth-1', 'switch_2:eth-7<->security_suite:eth-2']}}, {'type': 'NONE', 'label': 'ICS', 'options': {}}]}}\n"
     ]
    },
    {
     "name": "stderr",
     "output_type": "stream",
     "text": [
      "2024-04-08 15:03:51,834: Resetting environment, episode 452, avg. reward: -61.19999999999991\n",
      "2024-04-08 15:03:51,837: Saving agent action log to C:\\Users\\CharlieCrane\\primaite\\3.0.0b7\\sessions\\2024-04-08\\14-49-25\\agent_actions\\episode_452.json\n"
     ]
    },
    {
     "name": "stdout",
     "output_type": "stream",
     "text": [
      "{'type': 'CUSTOM', 'options': {'components': [{'type': 'NODES', 'label': 'NODES', 'options': {'hosts': [{'hostname': 'domain_controller'}, {'hostname': 'web_server', 'services': [{'service_name': 'WebServer'}]}, {'hostname': 'database_server', 'folders': [{'folder_name': 'database', 'files': [{'file_name': 'database.db'}]}]}, {'hostname': 'backup_server'}, {'hostname': 'security_suite'}, {'hostname': 'client_1'}, {'hostname': 'client_2'}], 'num_services': 1, 'num_applications': 0, 'num_folders': 1, 'num_files': 1, 'num_nics': 2, 'include_num_access': False, 'include_nmne': True, 'routers': [{'hostname': 'router_1'}], 'num_ports': 0, 'ip_list': ['192.168.1.10', '192.168.1.12', '192.168.1.14', '192.168.1.16', '192.168.1.110', '192.168.10.21', '192.168.10.22', '192.168.10.110'], 'wildcard_list': ['0.0.0.1'], 'port_list': [80, 5432], 'protocol_list': ['ICMP', 'TCP', 'UDP'], 'num_rules': 10}}, {'type': 'LINKS', 'label': 'LINKS', 'options': {'link_references': ['router_1:eth-1<->switch_1:eth-8', 'router_1:eth-2<->switch_2:eth-8', 'switch_1:eth-1<->domain_controller:eth-1', 'switch_1:eth-2<->web_server:eth-1', 'switch_1:eth-3<->database_server:eth-1', 'switch_1:eth-4<->backup_server:eth-1', 'switch_1:eth-7<->security_suite:eth-1', 'switch_2:eth-1<->client_1:eth-1', 'switch_2:eth-2<->client_2:eth-1', 'switch_2:eth-7<->security_suite:eth-2']}}, {'type': 'NONE', 'label': 'ICS', 'options': {}}]}}\n"
     ]
    },
    {
     "name": "stderr",
     "output_type": "stream",
     "text": [
      "2024-04-08 15:03:53,774: Resetting environment, episode 453, avg. reward: 1.6000000000000005\n",
      "2024-04-08 15:03:53,777: Saving agent action log to C:\\Users\\CharlieCrane\\primaite\\3.0.0b7\\sessions\\2024-04-08\\14-49-25\\agent_actions\\episode_453.json\n"
     ]
    },
    {
     "name": "stdout",
     "output_type": "stream",
     "text": [
      "{'type': 'CUSTOM', 'options': {'components': [{'type': 'NODES', 'label': 'NODES', 'options': {'hosts': [{'hostname': 'domain_controller'}, {'hostname': 'web_server', 'services': [{'service_name': 'WebServer'}]}, {'hostname': 'database_server', 'folders': [{'folder_name': 'database', 'files': [{'file_name': 'database.db'}]}]}, {'hostname': 'backup_server'}, {'hostname': 'security_suite'}, {'hostname': 'client_1'}, {'hostname': 'client_2'}], 'num_services': 1, 'num_applications': 0, 'num_folders': 1, 'num_files': 1, 'num_nics': 2, 'include_num_access': False, 'include_nmne': True, 'routers': [{'hostname': 'router_1'}], 'num_ports': 0, 'ip_list': ['192.168.1.10', '192.168.1.12', '192.168.1.14', '192.168.1.16', '192.168.1.110', '192.168.10.21', '192.168.10.22', '192.168.10.110'], 'wildcard_list': ['0.0.0.1'], 'port_list': [80, 5432], 'protocol_list': ['ICMP', 'TCP', 'UDP'], 'num_rules': 10}}, {'type': 'LINKS', 'label': 'LINKS', 'options': {'link_references': ['router_1:eth-1<->switch_1:eth-8', 'router_1:eth-2<->switch_2:eth-8', 'switch_1:eth-1<->domain_controller:eth-1', 'switch_1:eth-2<->web_server:eth-1', 'switch_1:eth-3<->database_server:eth-1', 'switch_1:eth-4<->backup_server:eth-1', 'switch_1:eth-7<->security_suite:eth-1', 'switch_2:eth-1<->client_1:eth-1', 'switch_2:eth-2<->client_2:eth-1', 'switch_2:eth-7<->security_suite:eth-2']}}, {'type': 'NONE', 'label': 'ICS', 'options': {}}]}}\n"
     ]
    },
    {
     "name": "stderr",
     "output_type": "stream",
     "text": [
      "2024-04-08 15:03:56,025: Resetting environment, episode 454, avg. reward: 13.14999999999995\n",
      "2024-04-08 15:03:56,028: Saving agent action log to C:\\Users\\CharlieCrane\\primaite\\3.0.0b7\\sessions\\2024-04-08\\14-49-25\\agent_actions\\episode_454.json\n"
     ]
    },
    {
     "name": "stdout",
     "output_type": "stream",
     "text": [
      "{'type': 'CUSTOM', 'options': {'components': [{'type': 'NODES', 'label': 'NODES', 'options': {'hosts': [{'hostname': 'domain_controller'}, {'hostname': 'web_server', 'services': [{'service_name': 'WebServer'}]}, {'hostname': 'database_server', 'folders': [{'folder_name': 'database', 'files': [{'file_name': 'database.db'}]}]}, {'hostname': 'backup_server'}, {'hostname': 'security_suite'}, {'hostname': 'client_1'}, {'hostname': 'client_2'}], 'num_services': 1, 'num_applications': 0, 'num_folders': 1, 'num_files': 1, 'num_nics': 2, 'include_num_access': False, 'include_nmne': True, 'routers': [{'hostname': 'router_1'}], 'num_ports': 0, 'ip_list': ['192.168.1.10', '192.168.1.12', '192.168.1.14', '192.168.1.16', '192.168.1.110', '192.168.10.21', '192.168.10.22', '192.168.10.110'], 'wildcard_list': ['0.0.0.1'], 'port_list': [80, 5432], 'protocol_list': ['ICMP', 'TCP', 'UDP'], 'num_rules': 10}}, {'type': 'LINKS', 'label': 'LINKS', 'options': {'link_references': ['router_1:eth-1<->switch_1:eth-8', 'router_1:eth-2<->switch_2:eth-8', 'switch_1:eth-1<->domain_controller:eth-1', 'switch_1:eth-2<->web_server:eth-1', 'switch_1:eth-3<->database_server:eth-1', 'switch_1:eth-4<->backup_server:eth-1', 'switch_1:eth-7<->security_suite:eth-1', 'switch_2:eth-1<->client_1:eth-1', 'switch_2:eth-2<->client_2:eth-1', 'switch_2:eth-7<->security_suite:eth-2']}}, {'type': 'NONE', 'label': 'ICS', 'options': {}}]}}\n"
     ]
    },
    {
     "name": "stderr",
     "output_type": "stream",
     "text": [
      "2024-04-08 15:03:58,535: Resetting environment, episode 455, avg. reward: 19.950000000000003\n",
      "2024-04-08 15:03:58,538: Saving agent action log to C:\\Users\\CharlieCrane\\primaite\\3.0.0b7\\sessions\\2024-04-08\\14-49-25\\agent_actions\\episode_455.json\n"
     ]
    },
    {
     "name": "stdout",
     "output_type": "stream",
     "text": [
      "{'type': 'CUSTOM', 'options': {'components': [{'type': 'NODES', 'label': 'NODES', 'options': {'hosts': [{'hostname': 'domain_controller'}, {'hostname': 'web_server', 'services': [{'service_name': 'WebServer'}]}, {'hostname': 'database_server', 'folders': [{'folder_name': 'database', 'files': [{'file_name': 'database.db'}]}]}, {'hostname': 'backup_server'}, {'hostname': 'security_suite'}, {'hostname': 'client_1'}, {'hostname': 'client_2'}], 'num_services': 1, 'num_applications': 0, 'num_folders': 1, 'num_files': 1, 'num_nics': 2, 'include_num_access': False, 'include_nmne': True, 'routers': [{'hostname': 'router_1'}], 'num_ports': 0, 'ip_list': ['192.168.1.10', '192.168.1.12', '192.168.1.14', '192.168.1.16', '192.168.1.110', '192.168.10.21', '192.168.10.22', '192.168.10.110'], 'wildcard_list': ['0.0.0.1'], 'port_list': [80, 5432], 'protocol_list': ['ICMP', 'TCP', 'UDP'], 'num_rules': 10}}, {'type': 'LINKS', 'label': 'LINKS', 'options': {'link_references': ['router_1:eth-1<->switch_1:eth-8', 'router_1:eth-2<->switch_2:eth-8', 'switch_1:eth-1<->domain_controller:eth-1', 'switch_1:eth-2<->web_server:eth-1', 'switch_1:eth-3<->database_server:eth-1', 'switch_1:eth-4<->backup_server:eth-1', 'switch_1:eth-7<->security_suite:eth-1', 'switch_2:eth-1<->client_1:eth-1', 'switch_2:eth-2<->client_2:eth-1', 'switch_2:eth-7<->security_suite:eth-2']}}, {'type': 'NONE', 'label': 'ICS', 'options': {}}]}}\n"
     ]
    },
    {
     "name": "stderr",
     "output_type": "stream",
     "text": [
      "2024-04-08 15:04:00,845: Resetting environment, episode 456, avg. reward: -33.04999999999999\n",
      "2024-04-08 15:04:00,848: Saving agent action log to C:\\Users\\CharlieCrane\\primaite\\3.0.0b7\\sessions\\2024-04-08\\14-49-25\\agent_actions\\episode_456.json\n"
     ]
    },
    {
     "name": "stdout",
     "output_type": "stream",
     "text": [
      "{'type': 'CUSTOM', 'options': {'components': [{'type': 'NODES', 'label': 'NODES', 'options': {'hosts': [{'hostname': 'domain_controller'}, {'hostname': 'web_server', 'services': [{'service_name': 'WebServer'}]}, {'hostname': 'database_server', 'folders': [{'folder_name': 'database', 'files': [{'file_name': 'database.db'}]}]}, {'hostname': 'backup_server'}, {'hostname': 'security_suite'}, {'hostname': 'client_1'}, {'hostname': 'client_2'}], 'num_services': 1, 'num_applications': 0, 'num_folders': 1, 'num_files': 1, 'num_nics': 2, 'include_num_access': False, 'include_nmne': True, 'routers': [{'hostname': 'router_1'}], 'num_ports': 0, 'ip_list': ['192.168.1.10', '192.168.1.12', '192.168.1.14', '192.168.1.16', '192.168.1.110', '192.168.10.21', '192.168.10.22', '192.168.10.110'], 'wildcard_list': ['0.0.0.1'], 'port_list': [80, 5432], 'protocol_list': ['ICMP', 'TCP', 'UDP'], 'num_rules': 10}}, {'type': 'LINKS', 'label': 'LINKS', 'options': {'link_references': ['router_1:eth-1<->switch_1:eth-8', 'router_1:eth-2<->switch_2:eth-8', 'switch_1:eth-1<->domain_controller:eth-1', 'switch_1:eth-2<->web_server:eth-1', 'switch_1:eth-3<->database_server:eth-1', 'switch_1:eth-4<->backup_server:eth-1', 'switch_1:eth-7<->security_suite:eth-1', 'switch_2:eth-1<->client_1:eth-1', 'switch_2:eth-2<->client_2:eth-1', 'switch_2:eth-7<->security_suite:eth-2']}}, {'type': 'NONE', 'label': 'ICS', 'options': {}}]}}\n"
     ]
    },
    {
     "name": "stderr",
     "output_type": "stream",
     "text": [
      "2024-04-08 15:04:02,904: Resetting environment, episode 457, avg. reward: 39.59999999999999\n",
      "2024-04-08 15:04:02,909: Saving agent action log to C:\\Users\\CharlieCrane\\primaite\\3.0.0b7\\sessions\\2024-04-08\\14-49-25\\agent_actions\\episode_457.json\n"
     ]
    },
    {
     "name": "stdout",
     "output_type": "stream",
     "text": [
      "{'type': 'CUSTOM', 'options': {'components': [{'type': 'NODES', 'label': 'NODES', 'options': {'hosts': [{'hostname': 'domain_controller'}, {'hostname': 'web_server', 'services': [{'service_name': 'WebServer'}]}, {'hostname': 'database_server', 'folders': [{'folder_name': 'database', 'files': [{'file_name': 'database.db'}]}]}, {'hostname': 'backup_server'}, {'hostname': 'security_suite'}, {'hostname': 'client_1'}, {'hostname': 'client_2'}], 'num_services': 1, 'num_applications': 0, 'num_folders': 1, 'num_files': 1, 'num_nics': 2, 'include_num_access': False, 'include_nmne': True, 'routers': [{'hostname': 'router_1'}], 'num_ports': 0, 'ip_list': ['192.168.1.10', '192.168.1.12', '192.168.1.14', '192.168.1.16', '192.168.1.110', '192.168.10.21', '192.168.10.22', '192.168.10.110'], 'wildcard_list': ['0.0.0.1'], 'port_list': [80, 5432], 'protocol_list': ['ICMP', 'TCP', 'UDP'], 'num_rules': 10}}, {'type': 'LINKS', 'label': 'LINKS', 'options': {'link_references': ['router_1:eth-1<->switch_1:eth-8', 'router_1:eth-2<->switch_2:eth-8', 'switch_1:eth-1<->domain_controller:eth-1', 'switch_1:eth-2<->web_server:eth-1', 'switch_1:eth-3<->database_server:eth-1', 'switch_1:eth-4<->backup_server:eth-1', 'switch_1:eth-7<->security_suite:eth-1', 'switch_2:eth-1<->client_1:eth-1', 'switch_2:eth-2<->client_2:eth-1', 'switch_2:eth-7<->security_suite:eth-2']}}, {'type': 'NONE', 'label': 'ICS', 'options': {}}]}}\n"
     ]
    },
    {
     "name": "stderr",
     "output_type": "stream",
     "text": [
      "2024-04-08 15:04:05,202: Resetting environment, episode 458, avg. reward: -8.300000000000002\n",
      "2024-04-08 15:04:05,206: Saving agent action log to C:\\Users\\CharlieCrane\\primaite\\3.0.0b7\\sessions\\2024-04-08\\14-49-25\\agent_actions\\episode_458.json\n"
     ]
    },
    {
     "name": "stdout",
     "output_type": "stream",
     "text": [
      "{'type': 'CUSTOM', 'options': {'components': [{'type': 'NODES', 'label': 'NODES', 'options': {'hosts': [{'hostname': 'domain_controller'}, {'hostname': 'web_server', 'services': [{'service_name': 'WebServer'}]}, {'hostname': 'database_server', 'folders': [{'folder_name': 'database', 'files': [{'file_name': 'database.db'}]}]}, {'hostname': 'backup_server'}, {'hostname': 'security_suite'}, {'hostname': 'client_1'}, {'hostname': 'client_2'}], 'num_services': 1, 'num_applications': 0, 'num_folders': 1, 'num_files': 1, 'num_nics': 2, 'include_num_access': False, 'include_nmne': True, 'routers': [{'hostname': 'router_1'}], 'num_ports': 0, 'ip_list': ['192.168.1.10', '192.168.1.12', '192.168.1.14', '192.168.1.16', '192.168.1.110', '192.168.10.21', '192.168.10.22', '192.168.10.110'], 'wildcard_list': ['0.0.0.1'], 'port_list': [80, 5432], 'protocol_list': ['ICMP', 'TCP', 'UDP'], 'num_rules': 10}}, {'type': 'LINKS', 'label': 'LINKS', 'options': {'link_references': ['router_1:eth-1<->switch_1:eth-8', 'router_1:eth-2<->switch_2:eth-8', 'switch_1:eth-1<->domain_controller:eth-1', 'switch_1:eth-2<->web_server:eth-1', 'switch_1:eth-3<->database_server:eth-1', 'switch_1:eth-4<->backup_server:eth-1', 'switch_1:eth-7<->security_suite:eth-1', 'switch_2:eth-1<->client_1:eth-1', 'switch_2:eth-2<->client_2:eth-1', 'switch_2:eth-7<->security_suite:eth-2']}}, {'type': 'NONE', 'label': 'ICS', 'options': {}}]}}\n"
     ]
    },
    {
     "name": "stderr",
     "output_type": "stream",
     "text": [
      "2024-04-08 15:04:07,216: Resetting environment, episode 459, avg. reward: -85.5\n",
      "2024-04-08 15:04:07,219: Saving agent action log to C:\\Users\\CharlieCrane\\primaite\\3.0.0b7\\sessions\\2024-04-08\\14-49-25\\agent_actions\\episode_459.json\n"
     ]
    },
    {
     "name": "stdout",
     "output_type": "stream",
     "text": [
      "{'type': 'CUSTOM', 'options': {'components': [{'type': 'NODES', 'label': 'NODES', 'options': {'hosts': [{'hostname': 'domain_controller'}, {'hostname': 'web_server', 'services': [{'service_name': 'WebServer'}]}, {'hostname': 'database_server', 'folders': [{'folder_name': 'database', 'files': [{'file_name': 'database.db'}]}]}, {'hostname': 'backup_server'}, {'hostname': 'security_suite'}, {'hostname': 'client_1'}, {'hostname': 'client_2'}], 'num_services': 1, 'num_applications': 0, 'num_folders': 1, 'num_files': 1, 'num_nics': 2, 'include_num_access': False, 'include_nmne': True, 'routers': [{'hostname': 'router_1'}], 'num_ports': 0, 'ip_list': ['192.168.1.10', '192.168.1.12', '192.168.1.14', '192.168.1.16', '192.168.1.110', '192.168.10.21', '192.168.10.22', '192.168.10.110'], 'wildcard_list': ['0.0.0.1'], 'port_list': [80, 5432], 'protocol_list': ['ICMP', 'TCP', 'UDP'], 'num_rules': 10}}, {'type': 'LINKS', 'label': 'LINKS', 'options': {'link_references': ['router_1:eth-1<->switch_1:eth-8', 'router_1:eth-2<->switch_2:eth-8', 'switch_1:eth-1<->domain_controller:eth-1', 'switch_1:eth-2<->web_server:eth-1', 'switch_1:eth-3<->database_server:eth-1', 'switch_1:eth-4<->backup_server:eth-1', 'switch_1:eth-7<->security_suite:eth-1', 'switch_2:eth-1<->client_1:eth-1', 'switch_2:eth-2<->client_2:eth-1', 'switch_2:eth-7<->security_suite:eth-2']}}, {'type': 'NONE', 'label': 'ICS', 'options': {}}]}}\n"
     ]
    },
    {
     "name": "stderr",
     "output_type": "stream",
     "text": [
      "2024-04-08 15:04:09,300: Resetting environment, episode 460, avg. reward: 42.149999999999935\n",
      "2024-04-08 15:04:09,304: Saving agent action log to C:\\Users\\CharlieCrane\\primaite\\3.0.0b7\\sessions\\2024-04-08\\14-49-25\\agent_actions\\episode_460.json\n"
     ]
    },
    {
     "name": "stdout",
     "output_type": "stream",
     "text": [
      "{'type': 'CUSTOM', 'options': {'components': [{'type': 'NODES', 'label': 'NODES', 'options': {'hosts': [{'hostname': 'domain_controller'}, {'hostname': 'web_server', 'services': [{'service_name': 'WebServer'}]}, {'hostname': 'database_server', 'folders': [{'folder_name': 'database', 'files': [{'file_name': 'database.db'}]}]}, {'hostname': 'backup_server'}, {'hostname': 'security_suite'}, {'hostname': 'client_1'}, {'hostname': 'client_2'}], 'num_services': 1, 'num_applications': 0, 'num_folders': 1, 'num_files': 1, 'num_nics': 2, 'include_num_access': False, 'include_nmne': True, 'routers': [{'hostname': 'router_1'}], 'num_ports': 0, 'ip_list': ['192.168.1.10', '192.168.1.12', '192.168.1.14', '192.168.1.16', '192.168.1.110', '192.168.10.21', '192.168.10.22', '192.168.10.110'], 'wildcard_list': ['0.0.0.1'], 'port_list': [80, 5432], 'protocol_list': ['ICMP', 'TCP', 'UDP'], 'num_rules': 10}}, {'type': 'LINKS', 'label': 'LINKS', 'options': {'link_references': ['router_1:eth-1<->switch_1:eth-8', 'router_1:eth-2<->switch_2:eth-8', 'switch_1:eth-1<->domain_controller:eth-1', 'switch_1:eth-2<->web_server:eth-1', 'switch_1:eth-3<->database_server:eth-1', 'switch_1:eth-4<->backup_server:eth-1', 'switch_1:eth-7<->security_suite:eth-1', 'switch_2:eth-1<->client_1:eth-1', 'switch_2:eth-2<->client_2:eth-1', 'switch_2:eth-7<->security_suite:eth-2']}}, {'type': 'NONE', 'label': 'ICS', 'options': {}}]}}\n"
     ]
    },
    {
     "name": "stderr",
     "output_type": "stream",
     "text": [
      "2024-04-08 15:04:11,700: Resetting environment, episode 461, avg. reward: -7.00000000000005\n",
      "2024-04-08 15:04:11,703: Saving agent action log to C:\\Users\\CharlieCrane\\primaite\\3.0.0b7\\sessions\\2024-04-08\\14-49-25\\agent_actions\\episode_461.json\n"
     ]
    },
    {
     "name": "stdout",
     "output_type": "stream",
     "text": [
      "{'type': 'CUSTOM', 'options': {'components': [{'type': 'NODES', 'label': 'NODES', 'options': {'hosts': [{'hostname': 'domain_controller'}, {'hostname': 'web_server', 'services': [{'service_name': 'WebServer'}]}, {'hostname': 'database_server', 'folders': [{'folder_name': 'database', 'files': [{'file_name': 'database.db'}]}]}, {'hostname': 'backup_server'}, {'hostname': 'security_suite'}, {'hostname': 'client_1'}, {'hostname': 'client_2'}], 'num_services': 1, 'num_applications': 0, 'num_folders': 1, 'num_files': 1, 'num_nics': 2, 'include_num_access': False, 'include_nmne': True, 'routers': [{'hostname': 'router_1'}], 'num_ports': 0, 'ip_list': ['192.168.1.10', '192.168.1.12', '192.168.1.14', '192.168.1.16', '192.168.1.110', '192.168.10.21', '192.168.10.22', '192.168.10.110'], 'wildcard_list': ['0.0.0.1'], 'port_list': [80, 5432], 'protocol_list': ['ICMP', 'TCP', 'UDP'], 'num_rules': 10}}, {'type': 'LINKS', 'label': 'LINKS', 'options': {'link_references': ['router_1:eth-1<->switch_1:eth-8', 'router_1:eth-2<->switch_2:eth-8', 'switch_1:eth-1<->domain_controller:eth-1', 'switch_1:eth-2<->web_server:eth-1', 'switch_1:eth-3<->database_server:eth-1', 'switch_1:eth-4<->backup_server:eth-1', 'switch_1:eth-7<->security_suite:eth-1', 'switch_2:eth-1<->client_1:eth-1', 'switch_2:eth-2<->client_2:eth-1', 'switch_2:eth-7<->security_suite:eth-2']}}, {'type': 'NONE', 'label': 'ICS', 'options': {}}]}}\n"
     ]
    },
    {
     "name": "stderr",
     "output_type": "stream",
     "text": [
      "2024-04-08 15:04:13,865: Resetting environment, episode 462, avg. reward: 44.99999999999982\n",
      "2024-04-08 15:04:13,868: Saving agent action log to C:\\Users\\CharlieCrane\\primaite\\3.0.0b7\\sessions\\2024-04-08\\14-49-25\\agent_actions\\episode_462.json\n"
     ]
    },
    {
     "name": "stdout",
     "output_type": "stream",
     "text": [
      "{'type': 'CUSTOM', 'options': {'components': [{'type': 'NODES', 'label': 'NODES', 'options': {'hosts': [{'hostname': 'domain_controller'}, {'hostname': 'web_server', 'services': [{'service_name': 'WebServer'}]}, {'hostname': 'database_server', 'folders': [{'folder_name': 'database', 'files': [{'file_name': 'database.db'}]}]}, {'hostname': 'backup_server'}, {'hostname': 'security_suite'}, {'hostname': 'client_1'}, {'hostname': 'client_2'}], 'num_services': 1, 'num_applications': 0, 'num_folders': 1, 'num_files': 1, 'num_nics': 2, 'include_num_access': False, 'include_nmne': True, 'routers': [{'hostname': 'router_1'}], 'num_ports': 0, 'ip_list': ['192.168.1.10', '192.168.1.12', '192.168.1.14', '192.168.1.16', '192.168.1.110', '192.168.10.21', '192.168.10.22', '192.168.10.110'], 'wildcard_list': ['0.0.0.1'], 'port_list': [80, 5432], 'protocol_list': ['ICMP', 'TCP', 'UDP'], 'num_rules': 10}}, {'type': 'LINKS', 'label': 'LINKS', 'options': {'link_references': ['router_1:eth-1<->switch_1:eth-8', 'router_1:eth-2<->switch_2:eth-8', 'switch_1:eth-1<->domain_controller:eth-1', 'switch_1:eth-2<->web_server:eth-1', 'switch_1:eth-3<->database_server:eth-1', 'switch_1:eth-4<->backup_server:eth-1', 'switch_1:eth-7<->security_suite:eth-1', 'switch_2:eth-1<->client_1:eth-1', 'switch_2:eth-2<->client_2:eth-1', 'switch_2:eth-7<->security_suite:eth-2']}}, {'type': 'NONE', 'label': 'ICS', 'options': {}}]}}\n"
     ]
    },
    {
     "name": "stderr",
     "output_type": "stream",
     "text": [
      "2024-04-08 15:04:15,915: Resetting environment, episode 463, avg. reward: -14.150000000000015\n",
      "2024-04-08 15:04:15,919: Saving agent action log to C:\\Users\\CharlieCrane\\primaite\\3.0.0b7\\sessions\\2024-04-08\\14-49-25\\agent_actions\\episode_463.json\n"
     ]
    },
    {
     "name": "stdout",
     "output_type": "stream",
     "text": [
      "{'type': 'CUSTOM', 'options': {'components': [{'type': 'NODES', 'label': 'NODES', 'options': {'hosts': [{'hostname': 'domain_controller'}, {'hostname': 'web_server', 'services': [{'service_name': 'WebServer'}]}, {'hostname': 'database_server', 'folders': [{'folder_name': 'database', 'files': [{'file_name': 'database.db'}]}]}, {'hostname': 'backup_server'}, {'hostname': 'security_suite'}, {'hostname': 'client_1'}, {'hostname': 'client_2'}], 'num_services': 1, 'num_applications': 0, 'num_folders': 1, 'num_files': 1, 'num_nics': 2, 'include_num_access': False, 'include_nmne': True, 'routers': [{'hostname': 'router_1'}], 'num_ports': 0, 'ip_list': ['192.168.1.10', '192.168.1.12', '192.168.1.14', '192.168.1.16', '192.168.1.110', '192.168.10.21', '192.168.10.22', '192.168.10.110'], 'wildcard_list': ['0.0.0.1'], 'port_list': [80, 5432], 'protocol_list': ['ICMP', 'TCP', 'UDP'], 'num_rules': 10}}, {'type': 'LINKS', 'label': 'LINKS', 'options': {'link_references': ['router_1:eth-1<->switch_1:eth-8', 'router_1:eth-2<->switch_2:eth-8', 'switch_1:eth-1<->domain_controller:eth-1', 'switch_1:eth-2<->web_server:eth-1', 'switch_1:eth-3<->database_server:eth-1', 'switch_1:eth-4<->backup_server:eth-1', 'switch_1:eth-7<->security_suite:eth-1', 'switch_2:eth-1<->client_1:eth-1', 'switch_2:eth-2<->client_2:eth-1', 'switch_2:eth-7<->security_suite:eth-2']}}, {'type': 'NONE', 'label': 'ICS', 'options': {}}]}}\n"
     ]
    },
    {
     "name": "stderr",
     "output_type": "stream",
     "text": [
      "2024-04-08 15:04:18,129: Resetting environment, episode 464, avg. reward: -62.3\n",
      "2024-04-08 15:04:18,133: Saving agent action log to C:\\Users\\CharlieCrane\\primaite\\3.0.0b7\\sessions\\2024-04-08\\14-49-25\\agent_actions\\episode_464.json\n"
     ]
    },
    {
     "name": "stdout",
     "output_type": "stream",
     "text": [
      "{'type': 'CUSTOM', 'options': {'components': [{'type': 'NODES', 'label': 'NODES', 'options': {'hosts': [{'hostname': 'domain_controller'}, {'hostname': 'web_server', 'services': [{'service_name': 'WebServer'}]}, {'hostname': 'database_server', 'folders': [{'folder_name': 'database', 'files': [{'file_name': 'database.db'}]}]}, {'hostname': 'backup_server'}, {'hostname': 'security_suite'}, {'hostname': 'client_1'}, {'hostname': 'client_2'}], 'num_services': 1, 'num_applications': 0, 'num_folders': 1, 'num_files': 1, 'num_nics': 2, 'include_num_access': False, 'include_nmne': True, 'routers': [{'hostname': 'router_1'}], 'num_ports': 0, 'ip_list': ['192.168.1.10', '192.168.1.12', '192.168.1.14', '192.168.1.16', '192.168.1.110', '192.168.10.21', '192.168.10.22', '192.168.10.110'], 'wildcard_list': ['0.0.0.1'], 'port_list': [80, 5432], 'protocol_list': ['ICMP', 'TCP', 'UDP'], 'num_rules': 10}}, {'type': 'LINKS', 'label': 'LINKS', 'options': {'link_references': ['router_1:eth-1<->switch_1:eth-8', 'router_1:eth-2<->switch_2:eth-8', 'switch_1:eth-1<->domain_controller:eth-1', 'switch_1:eth-2<->web_server:eth-1', 'switch_1:eth-3<->database_server:eth-1', 'switch_1:eth-4<->backup_server:eth-1', 'switch_1:eth-7<->security_suite:eth-1', 'switch_2:eth-1<->client_1:eth-1', 'switch_2:eth-2<->client_2:eth-1', 'switch_2:eth-7<->security_suite:eth-2']}}, {'type': 'NONE', 'label': 'ICS', 'options': {}}]}}\n"
     ]
    },
    {
     "name": "stderr",
     "output_type": "stream",
     "text": [
      "2024-04-08 15:04:20,618: Resetting environment, episode 465, avg. reward: -21.85\n",
      "2024-04-08 15:04:20,623: Saving agent action log to C:\\Users\\CharlieCrane\\primaite\\3.0.0b7\\sessions\\2024-04-08\\14-49-25\\agent_actions\\episode_465.json\n"
     ]
    },
    {
     "name": "stdout",
     "output_type": "stream",
     "text": [
      "{'type': 'CUSTOM', 'options': {'components': [{'type': 'NODES', 'label': 'NODES', 'options': {'hosts': [{'hostname': 'domain_controller'}, {'hostname': 'web_server', 'services': [{'service_name': 'WebServer'}]}, {'hostname': 'database_server', 'folders': [{'folder_name': 'database', 'files': [{'file_name': 'database.db'}]}]}, {'hostname': 'backup_server'}, {'hostname': 'security_suite'}, {'hostname': 'client_1'}, {'hostname': 'client_2'}], 'num_services': 1, 'num_applications': 0, 'num_folders': 1, 'num_files': 1, 'num_nics': 2, 'include_num_access': False, 'include_nmne': True, 'routers': [{'hostname': 'router_1'}], 'num_ports': 0, 'ip_list': ['192.168.1.10', '192.168.1.12', '192.168.1.14', '192.168.1.16', '192.168.1.110', '192.168.10.21', '192.168.10.22', '192.168.10.110'], 'wildcard_list': ['0.0.0.1'], 'port_list': [80, 5432], 'protocol_list': ['ICMP', 'TCP', 'UDP'], 'num_rules': 10}}, {'type': 'LINKS', 'label': 'LINKS', 'options': {'link_references': ['router_1:eth-1<->switch_1:eth-8', 'router_1:eth-2<->switch_2:eth-8', 'switch_1:eth-1<->domain_controller:eth-1', 'switch_1:eth-2<->web_server:eth-1', 'switch_1:eth-3<->database_server:eth-1', 'switch_1:eth-4<->backup_server:eth-1', 'switch_1:eth-7<->security_suite:eth-1', 'switch_2:eth-1<->client_1:eth-1', 'switch_2:eth-2<->client_2:eth-1', 'switch_2:eth-7<->security_suite:eth-2']}}, {'type': 'NONE', 'label': 'ICS', 'options': {}}]}}\n"
     ]
    },
    {
     "name": "stderr",
     "output_type": "stream",
     "text": [
      "2024-04-08 15:04:22,808: Resetting environment, episode 466, avg. reward: -21.59999999999995\n",
      "2024-04-08 15:04:22,811: Saving agent action log to C:\\Users\\CharlieCrane\\primaite\\3.0.0b7\\sessions\\2024-04-08\\14-49-25\\agent_actions\\episode_466.json\n"
     ]
    },
    {
     "name": "stdout",
     "output_type": "stream",
     "text": [
      "{'type': 'CUSTOM', 'options': {'components': [{'type': 'NODES', 'label': 'NODES', 'options': {'hosts': [{'hostname': 'domain_controller'}, {'hostname': 'web_server', 'services': [{'service_name': 'WebServer'}]}, {'hostname': 'database_server', 'folders': [{'folder_name': 'database', 'files': [{'file_name': 'database.db'}]}]}, {'hostname': 'backup_server'}, {'hostname': 'security_suite'}, {'hostname': 'client_1'}, {'hostname': 'client_2'}], 'num_services': 1, 'num_applications': 0, 'num_folders': 1, 'num_files': 1, 'num_nics': 2, 'include_num_access': False, 'include_nmne': True, 'routers': [{'hostname': 'router_1'}], 'num_ports': 0, 'ip_list': ['192.168.1.10', '192.168.1.12', '192.168.1.14', '192.168.1.16', '192.168.1.110', '192.168.10.21', '192.168.10.22', '192.168.10.110'], 'wildcard_list': ['0.0.0.1'], 'port_list': [80, 5432], 'protocol_list': ['ICMP', 'TCP', 'UDP'], 'num_rules': 10}}, {'type': 'LINKS', 'label': 'LINKS', 'options': {'link_references': ['router_1:eth-1<->switch_1:eth-8', 'router_1:eth-2<->switch_2:eth-8', 'switch_1:eth-1<->domain_controller:eth-1', 'switch_1:eth-2<->web_server:eth-1', 'switch_1:eth-3<->database_server:eth-1', 'switch_1:eth-4<->backup_server:eth-1', 'switch_1:eth-7<->security_suite:eth-1', 'switch_2:eth-1<->client_1:eth-1', 'switch_2:eth-2<->client_2:eth-1', 'switch_2:eth-7<->security_suite:eth-2']}}, {'type': 'NONE', 'label': 'ICS', 'options': {}}]}}\n"
     ]
    },
    {
     "name": "stderr",
     "output_type": "stream",
     "text": [
      "2024-04-08 15:04:24,768: Resetting environment, episode 467, avg. reward: -14.950000000000008\n",
      "2024-04-08 15:04:24,772: Saving agent action log to C:\\Users\\CharlieCrane\\primaite\\3.0.0b7\\sessions\\2024-04-08\\14-49-25\\agent_actions\\episode_467.json\n"
     ]
    },
    {
     "name": "stdout",
     "output_type": "stream",
     "text": [
      "{'type': 'CUSTOM', 'options': {'components': [{'type': 'NODES', 'label': 'NODES', 'options': {'hosts': [{'hostname': 'domain_controller'}, {'hostname': 'web_server', 'services': [{'service_name': 'WebServer'}]}, {'hostname': 'database_server', 'folders': [{'folder_name': 'database', 'files': [{'file_name': 'database.db'}]}]}, {'hostname': 'backup_server'}, {'hostname': 'security_suite'}, {'hostname': 'client_1'}, {'hostname': 'client_2'}], 'num_services': 1, 'num_applications': 0, 'num_folders': 1, 'num_files': 1, 'num_nics': 2, 'include_num_access': False, 'include_nmne': True, 'routers': [{'hostname': 'router_1'}], 'num_ports': 0, 'ip_list': ['192.168.1.10', '192.168.1.12', '192.168.1.14', '192.168.1.16', '192.168.1.110', '192.168.10.21', '192.168.10.22', '192.168.10.110'], 'wildcard_list': ['0.0.0.1'], 'port_list': [80, 5432], 'protocol_list': ['ICMP', 'TCP', 'UDP'], 'num_rules': 10}}, {'type': 'LINKS', 'label': 'LINKS', 'options': {'link_references': ['router_1:eth-1<->switch_1:eth-8', 'router_1:eth-2<->switch_2:eth-8', 'switch_1:eth-1<->domain_controller:eth-1', 'switch_1:eth-2<->web_server:eth-1', 'switch_1:eth-3<->database_server:eth-1', 'switch_1:eth-4<->backup_server:eth-1', 'switch_1:eth-7<->security_suite:eth-1', 'switch_2:eth-1<->client_1:eth-1', 'switch_2:eth-2<->client_2:eth-1', 'switch_2:eth-7<->security_suite:eth-2']}}, {'type': 'NONE', 'label': 'ICS', 'options': {}}]}}\n"
     ]
    },
    {
     "name": "stderr",
     "output_type": "stream",
     "text": [
      "2024-04-08 15:04:26,660: Resetting environment, episode 468, avg. reward: 18.64999999999998\n",
      "2024-04-08 15:04:26,663: Saving agent action log to C:\\Users\\CharlieCrane\\primaite\\3.0.0b7\\sessions\\2024-04-08\\14-49-25\\agent_actions\\episode_468.json\n"
     ]
    },
    {
     "name": "stdout",
     "output_type": "stream",
     "text": [
      "{'type': 'CUSTOM', 'options': {'components': [{'type': 'NODES', 'label': 'NODES', 'options': {'hosts': [{'hostname': 'domain_controller'}, {'hostname': 'web_server', 'services': [{'service_name': 'WebServer'}]}, {'hostname': 'database_server', 'folders': [{'folder_name': 'database', 'files': [{'file_name': 'database.db'}]}]}, {'hostname': 'backup_server'}, {'hostname': 'security_suite'}, {'hostname': 'client_1'}, {'hostname': 'client_2'}], 'num_services': 1, 'num_applications': 0, 'num_folders': 1, 'num_files': 1, 'num_nics': 2, 'include_num_access': False, 'include_nmne': True, 'routers': [{'hostname': 'router_1'}], 'num_ports': 0, 'ip_list': ['192.168.1.10', '192.168.1.12', '192.168.1.14', '192.168.1.16', '192.168.1.110', '192.168.10.21', '192.168.10.22', '192.168.10.110'], 'wildcard_list': ['0.0.0.1'], 'port_list': [80, 5432], 'protocol_list': ['ICMP', 'TCP', 'UDP'], 'num_rules': 10}}, {'type': 'LINKS', 'label': 'LINKS', 'options': {'link_references': ['router_1:eth-1<->switch_1:eth-8', 'router_1:eth-2<->switch_2:eth-8', 'switch_1:eth-1<->domain_controller:eth-1', 'switch_1:eth-2<->web_server:eth-1', 'switch_1:eth-3<->database_server:eth-1', 'switch_1:eth-4<->backup_server:eth-1', 'switch_1:eth-7<->security_suite:eth-1', 'switch_2:eth-1<->client_1:eth-1', 'switch_2:eth-2<->client_2:eth-1', 'switch_2:eth-7<->security_suite:eth-2']}}, {'type': 'NONE', 'label': 'ICS', 'options': {}}]}}\n"
     ]
    },
    {
     "name": "stderr",
     "output_type": "stream",
     "text": [
      "2024-04-08 15:04:28,354: Resetting environment, episode 469, avg. reward: -10.699999999999989\n",
      "2024-04-08 15:04:28,357: Saving agent action log to C:\\Users\\CharlieCrane\\primaite\\3.0.0b7\\sessions\\2024-04-08\\14-49-25\\agent_actions\\episode_469.json\n"
     ]
    },
    {
     "name": "stdout",
     "output_type": "stream",
     "text": [
      "{'type': 'CUSTOM', 'options': {'components': [{'type': 'NODES', 'label': 'NODES', 'options': {'hosts': [{'hostname': 'domain_controller'}, {'hostname': 'web_server', 'services': [{'service_name': 'WebServer'}]}, {'hostname': 'database_server', 'folders': [{'folder_name': 'database', 'files': [{'file_name': 'database.db'}]}]}, {'hostname': 'backup_server'}, {'hostname': 'security_suite'}, {'hostname': 'client_1'}, {'hostname': 'client_2'}], 'num_services': 1, 'num_applications': 0, 'num_folders': 1, 'num_files': 1, 'num_nics': 2, 'include_num_access': False, 'include_nmne': True, 'routers': [{'hostname': 'router_1'}], 'num_ports': 0, 'ip_list': ['192.168.1.10', '192.168.1.12', '192.168.1.14', '192.168.1.16', '192.168.1.110', '192.168.10.21', '192.168.10.22', '192.168.10.110'], 'wildcard_list': ['0.0.0.1'], 'port_list': [80, 5432], 'protocol_list': ['ICMP', 'TCP', 'UDP'], 'num_rules': 10}}, {'type': 'LINKS', 'label': 'LINKS', 'options': {'link_references': ['router_1:eth-1<->switch_1:eth-8', 'router_1:eth-2<->switch_2:eth-8', 'switch_1:eth-1<->domain_controller:eth-1', 'switch_1:eth-2<->web_server:eth-1', 'switch_1:eth-3<->database_server:eth-1', 'switch_1:eth-4<->backup_server:eth-1', 'switch_1:eth-7<->security_suite:eth-1', 'switch_2:eth-1<->client_1:eth-1', 'switch_2:eth-2<->client_2:eth-1', 'switch_2:eth-7<->security_suite:eth-2']}}, {'type': 'NONE', 'label': 'ICS', 'options': {}}]}}\n"
     ]
    },
    {
     "name": "stderr",
     "output_type": "stream",
     "text": [
      "2024-04-08 15:04:30,242: Resetting environment, episode 470, avg. reward: -53.79999999999998\n",
      "2024-04-08 15:04:30,245: Saving agent action log to C:\\Users\\CharlieCrane\\primaite\\3.0.0b7\\sessions\\2024-04-08\\14-49-25\\agent_actions\\episode_470.json\n"
     ]
    },
    {
     "name": "stdout",
     "output_type": "stream",
     "text": [
      "{'type': 'CUSTOM', 'options': {'components': [{'type': 'NODES', 'label': 'NODES', 'options': {'hosts': [{'hostname': 'domain_controller'}, {'hostname': 'web_server', 'services': [{'service_name': 'WebServer'}]}, {'hostname': 'database_server', 'folders': [{'folder_name': 'database', 'files': [{'file_name': 'database.db'}]}]}, {'hostname': 'backup_server'}, {'hostname': 'security_suite'}, {'hostname': 'client_1'}, {'hostname': 'client_2'}], 'num_services': 1, 'num_applications': 0, 'num_folders': 1, 'num_files': 1, 'num_nics': 2, 'include_num_access': False, 'include_nmne': True, 'routers': [{'hostname': 'router_1'}], 'num_ports': 0, 'ip_list': ['192.168.1.10', '192.168.1.12', '192.168.1.14', '192.168.1.16', '192.168.1.110', '192.168.10.21', '192.168.10.22', '192.168.10.110'], 'wildcard_list': ['0.0.0.1'], 'port_list': [80, 5432], 'protocol_list': ['ICMP', 'TCP', 'UDP'], 'num_rules': 10}}, {'type': 'LINKS', 'label': 'LINKS', 'options': {'link_references': ['router_1:eth-1<->switch_1:eth-8', 'router_1:eth-2<->switch_2:eth-8', 'switch_1:eth-1<->domain_controller:eth-1', 'switch_1:eth-2<->web_server:eth-1', 'switch_1:eth-3<->database_server:eth-1', 'switch_1:eth-4<->backup_server:eth-1', 'switch_1:eth-7<->security_suite:eth-1', 'switch_2:eth-1<->client_1:eth-1', 'switch_2:eth-2<->client_2:eth-1', 'switch_2:eth-7<->security_suite:eth-2']}}, {'type': 'NONE', 'label': 'ICS', 'options': {}}]}}\n"
     ]
    },
    {
     "name": "stderr",
     "output_type": "stream",
     "text": [
      "2024-04-08 15:04:33,035: Resetting environment, episode 471, avg. reward: 84.70000000000006\n",
      "2024-04-08 15:04:33,038: Saving agent action log to C:\\Users\\CharlieCrane\\primaite\\3.0.0b7\\sessions\\2024-04-08\\14-49-25\\agent_actions\\episode_471.json\n"
     ]
    },
    {
     "name": "stdout",
     "output_type": "stream",
     "text": [
      "{'type': 'CUSTOM', 'options': {'components': [{'type': 'NODES', 'label': 'NODES', 'options': {'hosts': [{'hostname': 'domain_controller'}, {'hostname': 'web_server', 'services': [{'service_name': 'WebServer'}]}, {'hostname': 'database_server', 'folders': [{'folder_name': 'database', 'files': [{'file_name': 'database.db'}]}]}, {'hostname': 'backup_server'}, {'hostname': 'security_suite'}, {'hostname': 'client_1'}, {'hostname': 'client_2'}], 'num_services': 1, 'num_applications': 0, 'num_folders': 1, 'num_files': 1, 'num_nics': 2, 'include_num_access': False, 'include_nmne': True, 'routers': [{'hostname': 'router_1'}], 'num_ports': 0, 'ip_list': ['192.168.1.10', '192.168.1.12', '192.168.1.14', '192.168.1.16', '192.168.1.110', '192.168.10.21', '192.168.10.22', '192.168.10.110'], 'wildcard_list': ['0.0.0.1'], 'port_list': [80, 5432], 'protocol_list': ['ICMP', 'TCP', 'UDP'], 'num_rules': 10}}, {'type': 'LINKS', 'label': 'LINKS', 'options': {'link_references': ['router_1:eth-1<->switch_1:eth-8', 'router_1:eth-2<->switch_2:eth-8', 'switch_1:eth-1<->domain_controller:eth-1', 'switch_1:eth-2<->web_server:eth-1', 'switch_1:eth-3<->database_server:eth-1', 'switch_1:eth-4<->backup_server:eth-1', 'switch_1:eth-7<->security_suite:eth-1', 'switch_2:eth-1<->client_1:eth-1', 'switch_2:eth-2<->client_2:eth-1', 'switch_2:eth-7<->security_suite:eth-2']}}, {'type': 'NONE', 'label': 'ICS', 'options': {}}]}}\n"
     ]
    },
    {
     "name": "stderr",
     "output_type": "stream",
     "text": [
      "2024-04-08 15:04:35,091: Resetting environment, episode 472, avg. reward: -7.000000000000062\n",
      "2024-04-08 15:04:35,093: Saving agent action log to C:\\Users\\CharlieCrane\\primaite\\3.0.0b7\\sessions\\2024-04-08\\14-49-25\\agent_actions\\episode_472.json\n"
     ]
    },
    {
     "name": "stdout",
     "output_type": "stream",
     "text": [
      "{'type': 'CUSTOM', 'options': {'components': [{'type': 'NODES', 'label': 'NODES', 'options': {'hosts': [{'hostname': 'domain_controller'}, {'hostname': 'web_server', 'services': [{'service_name': 'WebServer'}]}, {'hostname': 'database_server', 'folders': [{'folder_name': 'database', 'files': [{'file_name': 'database.db'}]}]}, {'hostname': 'backup_server'}, {'hostname': 'security_suite'}, {'hostname': 'client_1'}, {'hostname': 'client_2'}], 'num_services': 1, 'num_applications': 0, 'num_folders': 1, 'num_files': 1, 'num_nics': 2, 'include_num_access': False, 'include_nmne': True, 'routers': [{'hostname': 'router_1'}], 'num_ports': 0, 'ip_list': ['192.168.1.10', '192.168.1.12', '192.168.1.14', '192.168.1.16', '192.168.1.110', '192.168.10.21', '192.168.10.22', '192.168.10.110'], 'wildcard_list': ['0.0.0.1'], 'port_list': [80, 5432], 'protocol_list': ['ICMP', 'TCP', 'UDP'], 'num_rules': 10}}, {'type': 'LINKS', 'label': 'LINKS', 'options': {'link_references': ['router_1:eth-1<->switch_1:eth-8', 'router_1:eth-2<->switch_2:eth-8', 'switch_1:eth-1<->domain_controller:eth-1', 'switch_1:eth-2<->web_server:eth-1', 'switch_1:eth-3<->database_server:eth-1', 'switch_1:eth-4<->backup_server:eth-1', 'switch_1:eth-7<->security_suite:eth-1', 'switch_2:eth-1<->client_1:eth-1', 'switch_2:eth-2<->client_2:eth-1', 'switch_2:eth-7<->security_suite:eth-2']}}, {'type': 'NONE', 'label': 'ICS', 'options': {}}]}}\n"
     ]
    },
    {
     "ename": "KeyboardInterrupt",
     "evalue": "",
     "output_type": "error",
     "traceback": [
      "\u001b[1;31m---------------------------------------------------------------------------\u001b[0m",
      "\u001b[1;31mKeyboardInterrupt\u001b[0m                         Traceback (most recent call last)",
      "Cell \u001b[1;32mIn[8], line 1\u001b[0m\n\u001b[1;32m----> 1\u001b[0m \u001b[43mmodel\u001b[49m\u001b[38;5;241;43m.\u001b[39;49m\u001b[43mlearn\u001b[49m\u001b[43m(\u001b[49m\u001b[43mtotal_timesteps\u001b[49m\u001b[38;5;241;43m=\u001b[39;49m\u001b[43mTOTAL_TIMESTEPS\u001b[49m\u001b[43m)\u001b[49m\n",
      "File \u001b[1;32mc:\\Projects\\PrimAITE\\.venv\\lib\\site-packages\\stable_baselines3\\ppo\\ppo.py:308\u001b[0m, in \u001b[0;36mPPO.learn\u001b[1;34m(self, total_timesteps, callback, log_interval, tb_log_name, reset_num_timesteps, progress_bar)\u001b[0m\n\u001b[0;32m    299\u001b[0m \u001b[38;5;28;01mdef\u001b[39;00m \u001b[38;5;21mlearn\u001b[39m(\n\u001b[0;32m    300\u001b[0m     \u001b[38;5;28mself\u001b[39m: SelfPPO,\n\u001b[0;32m    301\u001b[0m     total_timesteps: \u001b[38;5;28mint\u001b[39m,\n\u001b[1;32m   (...)\u001b[0m\n\u001b[0;32m    306\u001b[0m     progress_bar: \u001b[38;5;28mbool\u001b[39m \u001b[38;5;241m=\u001b[39m \u001b[38;5;28;01mFalse\u001b[39;00m,\n\u001b[0;32m    307\u001b[0m ) \u001b[38;5;241m-\u001b[39m\u001b[38;5;241m>\u001b[39m SelfPPO:\n\u001b[1;32m--> 308\u001b[0m     \u001b[38;5;28;01mreturn\u001b[39;00m \u001b[38;5;28;43msuper\u001b[39;49m\u001b[43m(\u001b[49m\u001b[43m)\u001b[49m\u001b[38;5;241;43m.\u001b[39;49m\u001b[43mlearn\u001b[49m\u001b[43m(\u001b[49m\n\u001b[0;32m    309\u001b[0m \u001b[43m        \u001b[49m\u001b[43mtotal_timesteps\u001b[49m\u001b[38;5;241;43m=\u001b[39;49m\u001b[43mtotal_timesteps\u001b[49m\u001b[43m,\u001b[49m\n\u001b[0;32m    310\u001b[0m \u001b[43m        \u001b[49m\u001b[43mcallback\u001b[49m\u001b[38;5;241;43m=\u001b[39;49m\u001b[43mcallback\u001b[49m\u001b[43m,\u001b[49m\n\u001b[0;32m    311\u001b[0m \u001b[43m        \u001b[49m\u001b[43mlog_interval\u001b[49m\u001b[38;5;241;43m=\u001b[39;49m\u001b[43mlog_interval\u001b[49m\u001b[43m,\u001b[49m\n\u001b[0;32m    312\u001b[0m \u001b[43m        \u001b[49m\u001b[43mtb_log_name\u001b[49m\u001b[38;5;241;43m=\u001b[39;49m\u001b[43mtb_log_name\u001b[49m\u001b[43m,\u001b[49m\n\u001b[0;32m    313\u001b[0m \u001b[43m        \u001b[49m\u001b[43mreset_num_timesteps\u001b[49m\u001b[38;5;241;43m=\u001b[39;49m\u001b[43mreset_num_timesteps\u001b[49m\u001b[43m,\u001b[49m\n\u001b[0;32m    314\u001b[0m \u001b[43m        \u001b[49m\u001b[43mprogress_bar\u001b[49m\u001b[38;5;241;43m=\u001b[39;49m\u001b[43mprogress_bar\u001b[49m\u001b[43m,\u001b[49m\n\u001b[0;32m    315\u001b[0m \u001b[43m    \u001b[49m\u001b[43m)\u001b[49m\n",
      "File \u001b[1;32mc:\\Projects\\PrimAITE\\.venv\\lib\\site-packages\\stable_baselines3\\common\\on_policy_algorithm.py:259\u001b[0m, in \u001b[0;36mOnPolicyAlgorithm.learn\u001b[1;34m(self, total_timesteps, callback, log_interval, tb_log_name, reset_num_timesteps, progress_bar)\u001b[0m\n\u001b[0;32m    256\u001b[0m \u001b[38;5;28;01massert\u001b[39;00m \u001b[38;5;28mself\u001b[39m\u001b[38;5;241m.\u001b[39menv \u001b[38;5;129;01mis\u001b[39;00m \u001b[38;5;129;01mnot\u001b[39;00m \u001b[38;5;28;01mNone\u001b[39;00m\n\u001b[0;32m    258\u001b[0m \u001b[38;5;28;01mwhile\u001b[39;00m \u001b[38;5;28mself\u001b[39m\u001b[38;5;241m.\u001b[39mnum_timesteps \u001b[38;5;241m<\u001b[39m total_timesteps:\n\u001b[1;32m--> 259\u001b[0m     continue_training \u001b[38;5;241m=\u001b[39m \u001b[38;5;28;43mself\u001b[39;49m\u001b[38;5;241;43m.\u001b[39;49m\u001b[43mcollect_rollouts\u001b[49m\u001b[43m(\u001b[49m\u001b[38;5;28;43mself\u001b[39;49m\u001b[38;5;241;43m.\u001b[39;49m\u001b[43menv\u001b[49m\u001b[43m,\u001b[49m\u001b[43m \u001b[49m\u001b[43mcallback\u001b[49m\u001b[43m,\u001b[49m\u001b[43m \u001b[49m\u001b[38;5;28;43mself\u001b[39;49m\u001b[38;5;241;43m.\u001b[39;49m\u001b[43mrollout_buffer\u001b[49m\u001b[43m,\u001b[49m\u001b[43m \u001b[49m\u001b[43mn_rollout_steps\u001b[49m\u001b[38;5;241;43m=\u001b[39;49m\u001b[38;5;28;43mself\u001b[39;49m\u001b[38;5;241;43m.\u001b[39;49m\u001b[43mn_steps\u001b[49m\u001b[43m)\u001b[49m\n\u001b[0;32m    261\u001b[0m     \u001b[38;5;28;01mif\u001b[39;00m continue_training \u001b[38;5;129;01mis\u001b[39;00m \u001b[38;5;28;01mFalse\u001b[39;00m:\n\u001b[0;32m    262\u001b[0m         \u001b[38;5;28;01mbreak\u001b[39;00m\n",
      "File \u001b[1;32mc:\\Projects\\PrimAITE\\.venv\\lib\\site-packages\\stable_baselines3\\common\\on_policy_algorithm.py:178\u001b[0m, in \u001b[0;36mOnPolicyAlgorithm.collect_rollouts\u001b[1;34m(self, env, callback, rollout_buffer, n_rollout_steps)\u001b[0m\n\u001b[0;32m    175\u001b[0m \u001b[38;5;28;01mif\u001b[39;00m \u001b[38;5;28misinstance\u001b[39m(\u001b[38;5;28mself\u001b[39m\u001b[38;5;241m.\u001b[39maction_space, spaces\u001b[38;5;241m.\u001b[39mBox):\n\u001b[0;32m    176\u001b[0m     clipped_actions \u001b[38;5;241m=\u001b[39m np\u001b[38;5;241m.\u001b[39mclip(actions, \u001b[38;5;28mself\u001b[39m\u001b[38;5;241m.\u001b[39maction_space\u001b[38;5;241m.\u001b[39mlow, \u001b[38;5;28mself\u001b[39m\u001b[38;5;241m.\u001b[39maction_space\u001b[38;5;241m.\u001b[39mhigh)\n\u001b[1;32m--> 178\u001b[0m new_obs, rewards, dones, infos \u001b[38;5;241m=\u001b[39m \u001b[43menv\u001b[49m\u001b[38;5;241;43m.\u001b[39;49m\u001b[43mstep\u001b[49m\u001b[43m(\u001b[49m\u001b[43mclipped_actions\u001b[49m\u001b[43m)\u001b[49m\n\u001b[0;32m    180\u001b[0m \u001b[38;5;28mself\u001b[39m\u001b[38;5;241m.\u001b[39mnum_timesteps \u001b[38;5;241m+\u001b[39m\u001b[38;5;241m=\u001b[39m env\u001b[38;5;241m.\u001b[39mnum_envs\n\u001b[0;32m    182\u001b[0m \u001b[38;5;66;03m# Give access to local variables\u001b[39;00m\n",
      "File \u001b[1;32mc:\\Projects\\PrimAITE\\.venv\\lib\\site-packages\\stable_baselines3\\common\\vec_env\\base_vec_env.py:197\u001b[0m, in \u001b[0;36mVecEnv.step\u001b[1;34m(self, actions)\u001b[0m\n\u001b[0;32m    190\u001b[0m \u001b[38;5;250m\u001b[39m\u001b[38;5;124;03m\"\"\"\u001b[39;00m\n\u001b[0;32m    191\u001b[0m \u001b[38;5;124;03mStep the environments with the given action\u001b[39;00m\n\u001b[0;32m    192\u001b[0m \n\u001b[0;32m    193\u001b[0m \u001b[38;5;124;03m:param actions: the action\u001b[39;00m\n\u001b[0;32m    194\u001b[0m \u001b[38;5;124;03m:return: observation, reward, done, information\u001b[39;00m\n\u001b[0;32m    195\u001b[0m \u001b[38;5;124;03m\"\"\"\u001b[39;00m\n\u001b[0;32m    196\u001b[0m \u001b[38;5;28mself\u001b[39m\u001b[38;5;241m.\u001b[39mstep_async(actions)\n\u001b[1;32m--> 197\u001b[0m \u001b[38;5;28;01mreturn\u001b[39;00m \u001b[38;5;28;43mself\u001b[39;49m\u001b[38;5;241;43m.\u001b[39;49m\u001b[43mstep_wait\u001b[49m\u001b[43m(\u001b[49m\u001b[43m)\u001b[49m\n",
      "File \u001b[1;32mc:\\Projects\\PrimAITE\\.venv\\lib\\site-packages\\stable_baselines3\\common\\vec_env\\dummy_vec_env.py:58\u001b[0m, in \u001b[0;36mDummyVecEnv.step_wait\u001b[1;34m(self)\u001b[0m\n\u001b[0;32m     55\u001b[0m \u001b[38;5;28;01mdef\u001b[39;00m \u001b[38;5;21mstep_wait\u001b[39m(\u001b[38;5;28mself\u001b[39m) \u001b[38;5;241m-\u001b[39m\u001b[38;5;241m>\u001b[39m VecEnvStepReturn:\n\u001b[0;32m     56\u001b[0m     \u001b[38;5;66;03m# Avoid circular imports\u001b[39;00m\n\u001b[0;32m     57\u001b[0m     \u001b[38;5;28;01mfor\u001b[39;00m env_idx \u001b[38;5;129;01min\u001b[39;00m \u001b[38;5;28mrange\u001b[39m(\u001b[38;5;28mself\u001b[39m\u001b[38;5;241m.\u001b[39mnum_envs):\n\u001b[1;32m---> 58\u001b[0m         obs, \u001b[38;5;28mself\u001b[39m\u001b[38;5;241m.\u001b[39mbuf_rews[env_idx], terminated, truncated, \u001b[38;5;28mself\u001b[39m\u001b[38;5;241m.\u001b[39mbuf_infos[env_idx] \u001b[38;5;241m=\u001b[39m \u001b[38;5;28;43mself\u001b[39;49m\u001b[38;5;241;43m.\u001b[39;49m\u001b[43menvs\u001b[49m\u001b[43m[\u001b[49m\u001b[43menv_idx\u001b[49m\u001b[43m]\u001b[49m\u001b[38;5;241;43m.\u001b[39;49m\u001b[43mstep\u001b[49m\u001b[43m(\u001b[49m\n\u001b[0;32m     59\u001b[0m \u001b[43m            \u001b[49m\u001b[38;5;28;43mself\u001b[39;49m\u001b[38;5;241;43m.\u001b[39;49m\u001b[43mactions\u001b[49m\u001b[43m[\u001b[49m\u001b[43menv_idx\u001b[49m\u001b[43m]\u001b[49m\n\u001b[0;32m     60\u001b[0m \u001b[43m        \u001b[49m\u001b[43m)\u001b[49m\n\u001b[0;32m     61\u001b[0m         \u001b[38;5;66;03m# convert to SB3 VecEnv api\u001b[39;00m\n\u001b[0;32m     62\u001b[0m         \u001b[38;5;28mself\u001b[39m\u001b[38;5;241m.\u001b[39mbuf_dones[env_idx] \u001b[38;5;241m=\u001b[39m terminated \u001b[38;5;129;01mor\u001b[39;00m truncated\n",
      "File \u001b[1;32mc:\\Projects\\PrimAITE\\.venv\\lib\\site-packages\\stable_baselines3\\common\\monitor.py:94\u001b[0m, in \u001b[0;36mMonitor.step\u001b[1;34m(self, action)\u001b[0m\n\u001b[0;32m     92\u001b[0m \u001b[38;5;28;01mif\u001b[39;00m \u001b[38;5;28mself\u001b[39m\u001b[38;5;241m.\u001b[39mneeds_reset:\n\u001b[0;32m     93\u001b[0m     \u001b[38;5;28;01mraise\u001b[39;00m \u001b[38;5;167;01mRuntimeError\u001b[39;00m(\u001b[38;5;124m\"\u001b[39m\u001b[38;5;124mTried to step environment that needs reset\u001b[39m\u001b[38;5;124m\"\u001b[39m)\n\u001b[1;32m---> 94\u001b[0m observation, reward, terminated, truncated, info \u001b[38;5;241m=\u001b[39m \u001b[38;5;28;43mself\u001b[39;49m\u001b[38;5;241;43m.\u001b[39;49m\u001b[43menv\u001b[49m\u001b[38;5;241;43m.\u001b[39;49m\u001b[43mstep\u001b[49m\u001b[43m(\u001b[49m\u001b[43maction\u001b[49m\u001b[43m)\u001b[49m\n\u001b[0;32m     95\u001b[0m \u001b[38;5;28mself\u001b[39m\u001b[38;5;241m.\u001b[39mrewards\u001b[38;5;241m.\u001b[39mappend(\u001b[38;5;28mfloat\u001b[39m(reward))\n\u001b[0;32m     96\u001b[0m \u001b[38;5;28;01mif\u001b[39;00m terminated \u001b[38;5;129;01mor\u001b[39;00m truncated:\n",
      "File \u001b[1;32mC:\\Projects\\PrimAITE\\src\\primaite\\session\\environment.py:54\u001b[0m, in \u001b[0;36mPrimaiteGymEnv.step\u001b[1;34m(self, action)\u001b[0m\n\u001b[0;32m     52\u001b[0m \u001b[38;5;28mself\u001b[39m\u001b[38;5;241m.\u001b[39mgame\u001b[38;5;241m.\u001b[39mapply_agent_actions()\n\u001b[0;32m     53\u001b[0m \u001b[38;5;28mself\u001b[39m\u001b[38;5;241m.\u001b[39mgame\u001b[38;5;241m.\u001b[39madvance_timestep()\n\u001b[1;32m---> 54\u001b[0m state \u001b[38;5;241m=\u001b[39m \u001b[38;5;28;43mself\u001b[39;49m\u001b[38;5;241;43m.\u001b[39;49m\u001b[43mgame\u001b[49m\u001b[38;5;241;43m.\u001b[39;49m\u001b[43mget_sim_state\u001b[49m\u001b[43m(\u001b[49m\u001b[43m)\u001b[49m\n\u001b[0;32m     55\u001b[0m \u001b[38;5;28mself\u001b[39m\u001b[38;5;241m.\u001b[39mgame\u001b[38;5;241m.\u001b[39mupdate_agents(state)\n\u001b[0;32m     57\u001b[0m next_obs \u001b[38;5;241m=\u001b[39m \u001b[38;5;28mself\u001b[39m\u001b[38;5;241m.\u001b[39m_get_obs()  \u001b[38;5;66;03m# this doesn't update observation, just gets the current observation\u001b[39;00m\n",
      "File \u001b[1;32mC:\\Projects\\PrimAITE\\src\\primaite\\game\\game.py:149\u001b[0m, in \u001b[0;36mPrimaiteGame.get_sim_state\u001b[1;34m(self)\u001b[0m\n\u001b[0;32m    147\u001b[0m \u001b[38;5;28;01mdef\u001b[39;00m \u001b[38;5;21mget_sim_state\u001b[39m(\u001b[38;5;28mself\u001b[39m) \u001b[38;5;241m-\u001b[39m\u001b[38;5;241m>\u001b[39m Dict:\n\u001b[0;32m    148\u001b[0m \u001b[38;5;250m    \u001b[39m\u001b[38;5;124;03m\"\"\"Get the current state of the simulation.\"\"\"\u001b[39;00m\n\u001b[1;32m--> 149\u001b[0m     \u001b[38;5;28;01mreturn\u001b[39;00m \u001b[38;5;28;43mself\u001b[39;49m\u001b[38;5;241;43m.\u001b[39;49m\u001b[43msimulation\u001b[49m\u001b[38;5;241;43m.\u001b[39;49m\u001b[43mdescribe_state\u001b[49m\u001b[43m(\u001b[49m\u001b[43m)\u001b[49m\n",
      "File \u001b[1;32mC:\\Projects\\PrimAITE\\src\\primaite\\simulator\\sim_container.py:56\u001b[0m, in \u001b[0;36mSimulation.describe_state\u001b[1;34m(self)\u001b[0m\n\u001b[0;32m     45\u001b[0m \u001b[38;5;250m\u001b[39m\u001b[38;5;124;03m\"\"\"\u001b[39;00m\n\u001b[0;32m     46\u001b[0m \u001b[38;5;124;03mProduce a dictionary describing the current state of this object.\u001b[39;00m\n\u001b[0;32m     47\u001b[0m \n\u001b[1;32m   (...)\u001b[0m\n\u001b[0;32m     51\u001b[0m \u001b[38;5;124;03m:rtype: Dict\u001b[39;00m\n\u001b[0;32m     52\u001b[0m \u001b[38;5;124;03m\"\"\"\u001b[39;00m\n\u001b[0;32m     53\u001b[0m state \u001b[38;5;241m=\u001b[39m \u001b[38;5;28msuper\u001b[39m()\u001b[38;5;241m.\u001b[39mdescribe_state()\n\u001b[0;32m     54\u001b[0m state\u001b[38;5;241m.\u001b[39mupdate(\n\u001b[0;32m     55\u001b[0m     {\n\u001b[1;32m---> 56\u001b[0m         \u001b[38;5;124m\"\u001b[39m\u001b[38;5;124mnetwork\u001b[39m\u001b[38;5;124m\"\u001b[39m: \u001b[38;5;28;43mself\u001b[39;49m\u001b[38;5;241;43m.\u001b[39;49m\u001b[43mnetwork\u001b[49m\u001b[38;5;241;43m.\u001b[39;49m\u001b[43mdescribe_state\u001b[49m\u001b[43m(\u001b[49m\u001b[43m)\u001b[49m,\n\u001b[0;32m     57\u001b[0m         \u001b[38;5;124m\"\u001b[39m\u001b[38;5;124mdomain\u001b[39m\u001b[38;5;124m\"\u001b[39m: \u001b[38;5;28mself\u001b[39m\u001b[38;5;241m.\u001b[39mdomain\u001b[38;5;241m.\u001b[39mdescribe_state(),\n\u001b[0;32m     58\u001b[0m     }\n\u001b[0;32m     59\u001b[0m )\n\u001b[0;32m     60\u001b[0m \u001b[38;5;28;01mreturn\u001b[39;00m state\n",
      "File \u001b[1;32mC:\\Projects\\PrimAITE\\src\\primaite\\simulator\\network\\container.py:223\u001b[0m, in \u001b[0;36mNetwork.describe_state\u001b[1;34m(self)\u001b[0m\n\u001b[0;32m    215\u001b[0m \u001b[38;5;250m\u001b[39m\u001b[38;5;124;03m\"\"\"\u001b[39;00m\n\u001b[0;32m    216\u001b[0m \u001b[38;5;124;03mProduce a dictionary describing the current state of the Network.\u001b[39;00m\n\u001b[0;32m    217\u001b[0m \n\u001b[0;32m    218\u001b[0m \u001b[38;5;124;03m:return: A dictionary capturing the current state of the Network and its child objects.\u001b[39;00m\n\u001b[0;32m    219\u001b[0m \u001b[38;5;124;03m\"\"\"\u001b[39;00m\n\u001b[0;32m    220\u001b[0m state \u001b[38;5;241m=\u001b[39m \u001b[38;5;28msuper\u001b[39m()\u001b[38;5;241m.\u001b[39mdescribe_state()\n\u001b[0;32m    221\u001b[0m state\u001b[38;5;241m.\u001b[39mupdate(\n\u001b[0;32m    222\u001b[0m     {\n\u001b[1;32m--> 223\u001b[0m         \u001b[38;5;124m\"\u001b[39m\u001b[38;5;124mnodes\u001b[39m\u001b[38;5;124m\"\u001b[39m: {node\u001b[38;5;241m.\u001b[39mhostname: node\u001b[38;5;241m.\u001b[39mdescribe_state() \u001b[38;5;28;01mfor\u001b[39;00m node \u001b[38;5;129;01min\u001b[39;00m \u001b[38;5;28mself\u001b[39m\u001b[38;5;241m.\u001b[39mnodes\u001b[38;5;241m.\u001b[39mvalues()},\n\u001b[0;32m    224\u001b[0m         \u001b[38;5;124m\"\u001b[39m\u001b[38;5;124mlinks\u001b[39m\u001b[38;5;124m\"\u001b[39m: {},\n\u001b[0;32m    225\u001b[0m     }\n\u001b[0;32m    226\u001b[0m )\n\u001b[0;32m    227\u001b[0m \u001b[38;5;66;03m# Update the links one-by-one. The key is a 4-tuple of `hostname_a, port_a, hostname_b, port_b`\u001b[39;00m\n\u001b[0;32m    228\u001b[0m \u001b[38;5;28;01mfor\u001b[39;00m _, link \u001b[38;5;129;01min\u001b[39;00m \u001b[38;5;28mself\u001b[39m\u001b[38;5;241m.\u001b[39mlinks\u001b[38;5;241m.\u001b[39mitems():\n",
      "File \u001b[1;32mC:\\Projects\\PrimAITE\\src\\primaite\\simulator\\network\\container.py:223\u001b[0m, in \u001b[0;36m<dictcomp>\u001b[1;34m(.0)\u001b[0m\n\u001b[0;32m    215\u001b[0m \u001b[38;5;250m\u001b[39m\u001b[38;5;124;03m\"\"\"\u001b[39;00m\n\u001b[0;32m    216\u001b[0m \u001b[38;5;124;03mProduce a dictionary describing the current state of the Network.\u001b[39;00m\n\u001b[0;32m    217\u001b[0m \n\u001b[0;32m    218\u001b[0m \u001b[38;5;124;03m:return: A dictionary capturing the current state of the Network and its child objects.\u001b[39;00m\n\u001b[0;32m    219\u001b[0m \u001b[38;5;124;03m\"\"\"\u001b[39;00m\n\u001b[0;32m    220\u001b[0m state \u001b[38;5;241m=\u001b[39m \u001b[38;5;28msuper\u001b[39m()\u001b[38;5;241m.\u001b[39mdescribe_state()\n\u001b[0;32m    221\u001b[0m state\u001b[38;5;241m.\u001b[39mupdate(\n\u001b[0;32m    222\u001b[0m     {\n\u001b[1;32m--> 223\u001b[0m         \u001b[38;5;124m\"\u001b[39m\u001b[38;5;124mnodes\u001b[39m\u001b[38;5;124m\"\u001b[39m: {node\u001b[38;5;241m.\u001b[39mhostname: \u001b[43mnode\u001b[49m\u001b[38;5;241;43m.\u001b[39;49m\u001b[43mdescribe_state\u001b[49m\u001b[43m(\u001b[49m\u001b[43m)\u001b[49m \u001b[38;5;28;01mfor\u001b[39;00m node \u001b[38;5;129;01min\u001b[39;00m \u001b[38;5;28mself\u001b[39m\u001b[38;5;241m.\u001b[39mnodes\u001b[38;5;241m.\u001b[39mvalues()},\n\u001b[0;32m    224\u001b[0m         \u001b[38;5;124m\"\u001b[39m\u001b[38;5;124mlinks\u001b[39m\u001b[38;5;124m\"\u001b[39m: {},\n\u001b[0;32m    225\u001b[0m     }\n\u001b[0;32m    226\u001b[0m )\n\u001b[0;32m    227\u001b[0m \u001b[38;5;66;03m# Update the links one-by-one. The key is a 4-tuple of `hostname_a, port_a, hostname_b, port_b`\u001b[39;00m\n\u001b[0;32m    228\u001b[0m \u001b[38;5;28;01mfor\u001b[39;00m _, link \u001b[38;5;129;01min\u001b[39;00m \u001b[38;5;28mself\u001b[39m\u001b[38;5;241m.\u001b[39mlinks\u001b[38;5;241m.\u001b[39mitems():\n",
      "File \u001b[1;32mC:\\Projects\\PrimAITE\\src\\primaite\\simulator\\network\\hardware\\base.py:920\u001b[0m, in \u001b[0;36mNode.describe_state\u001b[1;34m(self)\u001b[0m\n\u001b[0;32m    902\u001b[0m \u001b[38;5;250m\u001b[39m\u001b[38;5;124;03m\"\"\"\u001b[39;00m\n\u001b[0;32m    903\u001b[0m \u001b[38;5;124;03mProduce a dictionary describing the current state of this object.\u001b[39;00m\n\u001b[0;32m    904\u001b[0m \n\u001b[1;32m   (...)\u001b[0m\n\u001b[0;32m    908\u001b[0m \u001b[38;5;124;03m:rtype: Dict\u001b[39;00m\n\u001b[0;32m    909\u001b[0m \u001b[38;5;124;03m\"\"\"\u001b[39;00m\n\u001b[0;32m    910\u001b[0m state \u001b[38;5;241m=\u001b[39m \u001b[38;5;28msuper\u001b[39m()\u001b[38;5;241m.\u001b[39mdescribe_state()\n\u001b[0;32m    911\u001b[0m state\u001b[38;5;241m.\u001b[39mupdate(\n\u001b[0;32m    912\u001b[0m     {\n\u001b[0;32m    913\u001b[0m         \u001b[38;5;124m\"\u001b[39m\u001b[38;5;124mhostname\u001b[39m\u001b[38;5;124m\"\u001b[39m: \u001b[38;5;28mself\u001b[39m\u001b[38;5;241m.\u001b[39mhostname,\n\u001b[0;32m    914\u001b[0m         \u001b[38;5;124m\"\u001b[39m\u001b[38;5;124moperating_state\u001b[39m\u001b[38;5;124m\"\u001b[39m: \u001b[38;5;28mself\u001b[39m\u001b[38;5;241m.\u001b[39moperating_state\u001b[38;5;241m.\u001b[39mvalue,\n\u001b[0;32m    915\u001b[0m         \u001b[38;5;124m\"\u001b[39m\u001b[38;5;124mNICs\u001b[39m\u001b[38;5;124m\"\u001b[39m: {\n\u001b[0;32m    916\u001b[0m             eth_num: network_interface\u001b[38;5;241m.\u001b[39mdescribe_state()\n\u001b[0;32m    917\u001b[0m             \u001b[38;5;28;01mfor\u001b[39;00m eth_num, network_interface \u001b[38;5;129;01min\u001b[39;00m \u001b[38;5;28mself\u001b[39m\u001b[38;5;241m.\u001b[39mnetwork_interface\u001b[38;5;241m.\u001b[39mitems()\n\u001b[0;32m    918\u001b[0m         },\n\u001b[0;32m    919\u001b[0m         \u001b[38;5;124m\"\u001b[39m\u001b[38;5;124mfile_system\u001b[39m\u001b[38;5;124m\"\u001b[39m: \u001b[38;5;28mself\u001b[39m\u001b[38;5;241m.\u001b[39mfile_system\u001b[38;5;241m.\u001b[39mdescribe_state(),\n\u001b[1;32m--> 920\u001b[0m         \u001b[38;5;124m\"\u001b[39m\u001b[38;5;124mapplications\u001b[39m\u001b[38;5;124m\"\u001b[39m: {app\u001b[38;5;241m.\u001b[39mname: app\u001b[38;5;241m.\u001b[39mdescribe_state() \u001b[38;5;28;01mfor\u001b[39;00m app \u001b[38;5;129;01min\u001b[39;00m \u001b[38;5;28mself\u001b[39m\u001b[38;5;241m.\u001b[39mapplications\u001b[38;5;241m.\u001b[39mvalues()},\n\u001b[0;32m    921\u001b[0m         \u001b[38;5;124m\"\u001b[39m\u001b[38;5;124mservices\u001b[39m\u001b[38;5;124m\"\u001b[39m: {svc\u001b[38;5;241m.\u001b[39mname: svc\u001b[38;5;241m.\u001b[39mdescribe_state() \u001b[38;5;28;01mfor\u001b[39;00m svc \u001b[38;5;129;01min\u001b[39;00m \u001b[38;5;28mself\u001b[39m\u001b[38;5;241m.\u001b[39mservices\u001b[38;5;241m.\u001b[39mvalues()},\n\u001b[0;32m    922\u001b[0m         \u001b[38;5;124m\"\u001b[39m\u001b[38;5;124mprocess\u001b[39m\u001b[38;5;124m\"\u001b[39m: {proc\u001b[38;5;241m.\u001b[39mname: proc\u001b[38;5;241m.\u001b[39mdescribe_state() \u001b[38;5;28;01mfor\u001b[39;00m proc \u001b[38;5;129;01min\u001b[39;00m \u001b[38;5;28mself\u001b[39m\u001b[38;5;241m.\u001b[39mprocesses\u001b[38;5;241m.\u001b[39mvalues()},\n\u001b[0;32m    923\u001b[0m         \u001b[38;5;124m\"\u001b[39m\u001b[38;5;124mrevealed_to_red\u001b[39m\u001b[38;5;124m\"\u001b[39m: \u001b[38;5;28mself\u001b[39m\u001b[38;5;241m.\u001b[39mrevealed_to_red,\n\u001b[0;32m    924\u001b[0m     }\n\u001b[0;32m    925\u001b[0m )\n\u001b[0;32m    926\u001b[0m \u001b[38;5;28;01mreturn\u001b[39;00m state\n",
      "File \u001b[1;32mC:\\Projects\\PrimAITE\\src\\primaite\\simulator\\network\\hardware\\base.py:920\u001b[0m, in \u001b[0;36m<dictcomp>\u001b[1;34m(.0)\u001b[0m\n\u001b[0;32m    902\u001b[0m \u001b[38;5;250m\u001b[39m\u001b[38;5;124;03m\"\"\"\u001b[39;00m\n\u001b[0;32m    903\u001b[0m \u001b[38;5;124;03mProduce a dictionary describing the current state of this object.\u001b[39;00m\n\u001b[0;32m    904\u001b[0m \n\u001b[1;32m   (...)\u001b[0m\n\u001b[0;32m    908\u001b[0m \u001b[38;5;124;03m:rtype: Dict\u001b[39;00m\n\u001b[0;32m    909\u001b[0m \u001b[38;5;124;03m\"\"\"\u001b[39;00m\n\u001b[0;32m    910\u001b[0m state \u001b[38;5;241m=\u001b[39m \u001b[38;5;28msuper\u001b[39m()\u001b[38;5;241m.\u001b[39mdescribe_state()\n\u001b[0;32m    911\u001b[0m state\u001b[38;5;241m.\u001b[39mupdate(\n\u001b[0;32m    912\u001b[0m     {\n\u001b[0;32m    913\u001b[0m         \u001b[38;5;124m\"\u001b[39m\u001b[38;5;124mhostname\u001b[39m\u001b[38;5;124m\"\u001b[39m: \u001b[38;5;28mself\u001b[39m\u001b[38;5;241m.\u001b[39mhostname,\n\u001b[0;32m    914\u001b[0m         \u001b[38;5;124m\"\u001b[39m\u001b[38;5;124moperating_state\u001b[39m\u001b[38;5;124m\"\u001b[39m: \u001b[38;5;28mself\u001b[39m\u001b[38;5;241m.\u001b[39moperating_state\u001b[38;5;241m.\u001b[39mvalue,\n\u001b[0;32m    915\u001b[0m         \u001b[38;5;124m\"\u001b[39m\u001b[38;5;124mNICs\u001b[39m\u001b[38;5;124m\"\u001b[39m: {\n\u001b[0;32m    916\u001b[0m             eth_num: network_interface\u001b[38;5;241m.\u001b[39mdescribe_state()\n\u001b[0;32m    917\u001b[0m             \u001b[38;5;28;01mfor\u001b[39;00m eth_num, network_interface \u001b[38;5;129;01min\u001b[39;00m \u001b[38;5;28mself\u001b[39m\u001b[38;5;241m.\u001b[39mnetwork_interface\u001b[38;5;241m.\u001b[39mitems()\n\u001b[0;32m    918\u001b[0m         },\n\u001b[0;32m    919\u001b[0m         \u001b[38;5;124m\"\u001b[39m\u001b[38;5;124mfile_system\u001b[39m\u001b[38;5;124m\"\u001b[39m: \u001b[38;5;28mself\u001b[39m\u001b[38;5;241m.\u001b[39mfile_system\u001b[38;5;241m.\u001b[39mdescribe_state(),\n\u001b[1;32m--> 920\u001b[0m         \u001b[38;5;124m\"\u001b[39m\u001b[38;5;124mapplications\u001b[39m\u001b[38;5;124m\"\u001b[39m: {app\u001b[38;5;241m.\u001b[39mname: \u001b[43mapp\u001b[49m\u001b[38;5;241;43m.\u001b[39;49m\u001b[43mdescribe_state\u001b[49m\u001b[43m(\u001b[49m\u001b[43m)\u001b[49m \u001b[38;5;28;01mfor\u001b[39;00m app \u001b[38;5;129;01min\u001b[39;00m \u001b[38;5;28mself\u001b[39m\u001b[38;5;241m.\u001b[39mapplications\u001b[38;5;241m.\u001b[39mvalues()},\n\u001b[0;32m    921\u001b[0m         \u001b[38;5;124m\"\u001b[39m\u001b[38;5;124mservices\u001b[39m\u001b[38;5;124m\"\u001b[39m: {svc\u001b[38;5;241m.\u001b[39mname: svc\u001b[38;5;241m.\u001b[39mdescribe_state() \u001b[38;5;28;01mfor\u001b[39;00m svc \u001b[38;5;129;01min\u001b[39;00m \u001b[38;5;28mself\u001b[39m\u001b[38;5;241m.\u001b[39mservices\u001b[38;5;241m.\u001b[39mvalues()},\n\u001b[0;32m    922\u001b[0m         \u001b[38;5;124m\"\u001b[39m\u001b[38;5;124mprocess\u001b[39m\u001b[38;5;124m\"\u001b[39m: {proc\u001b[38;5;241m.\u001b[39mname: proc\u001b[38;5;241m.\u001b[39mdescribe_state() \u001b[38;5;28;01mfor\u001b[39;00m proc \u001b[38;5;129;01min\u001b[39;00m \u001b[38;5;28mself\u001b[39m\u001b[38;5;241m.\u001b[39mprocesses\u001b[38;5;241m.\u001b[39mvalues()},\n\u001b[0;32m    923\u001b[0m         \u001b[38;5;124m\"\u001b[39m\u001b[38;5;124mrevealed_to_red\u001b[39m\u001b[38;5;124m\"\u001b[39m: \u001b[38;5;28mself\u001b[39m\u001b[38;5;241m.\u001b[39mrevealed_to_red,\n\u001b[0;32m    924\u001b[0m     }\n\u001b[0;32m    925\u001b[0m )\n\u001b[0;32m    926\u001b[0m \u001b[38;5;28;01mreturn\u001b[39;00m state\n",
      "File \u001b[1;32mC:\\Projects\\PrimAITE\\src\\primaite\\simulator\\system\\applications\\web_browser.py:75\u001b[0m, in \u001b[0;36mWebBrowser.describe_state\u001b[1;34m(self)\u001b[0m\n\u001b[0;32m     69\u001b[0m \u001b[38;5;28;01mdef\u001b[39;00m \u001b[38;5;21mdescribe_state\u001b[39m(\u001b[38;5;28mself\u001b[39m) \u001b[38;5;241m-\u001b[39m\u001b[38;5;241m>\u001b[39m Dict:\n\u001b[0;32m     70\u001b[0m \u001b[38;5;250m    \u001b[39m\u001b[38;5;124;03m\"\"\"\u001b[39;00m\n\u001b[0;32m     71\u001b[0m \u001b[38;5;124;03m    Produce a dictionary describing the current state of the WebBrowser.\u001b[39;00m\n\u001b[0;32m     72\u001b[0m \n\u001b[0;32m     73\u001b[0m \u001b[38;5;124;03m    :return: A dictionary capturing the current state of the WebBrowser and its child objects.\u001b[39;00m\n\u001b[0;32m     74\u001b[0m \u001b[38;5;124;03m    \"\"\"\u001b[39;00m\n\u001b[1;32m---> 75\u001b[0m     state \u001b[38;5;241m=\u001b[39m \u001b[38;5;28;43msuper\u001b[39;49m\u001b[43m(\u001b[49m\u001b[43m)\u001b[49m\u001b[38;5;241;43m.\u001b[39;49m\u001b[43mdescribe_state\u001b[49m\u001b[43m(\u001b[49m\u001b[43m)\u001b[49m\n\u001b[0;32m     76\u001b[0m     state[\u001b[38;5;124m\"\u001b[39m\u001b[38;5;124mhistory\u001b[39m\u001b[38;5;124m\"\u001b[39m] \u001b[38;5;241m=\u001b[39m [hist_item\u001b[38;5;241m.\u001b[39mstate() \u001b[38;5;28;01mfor\u001b[39;00m hist_item \u001b[38;5;129;01min\u001b[39;00m \u001b[38;5;28mself\u001b[39m\u001b[38;5;241m.\u001b[39mhistory]\n\u001b[0;32m     77\u001b[0m     \u001b[38;5;28;01mreturn\u001b[39;00m state\n",
      "File \u001b[1;32mC:\\Projects\\PrimAITE\\src\\primaite\\simulator\\system\\applications\\application.py:64\u001b[0m, in \u001b[0;36mApplication.describe_state\u001b[1;34m(self)\u001b[0m\n\u001b[0;32m     54\u001b[0m \u001b[38;5;129m@abstractmethod\u001b[39m\n\u001b[0;32m     55\u001b[0m \u001b[38;5;28;01mdef\u001b[39;00m \u001b[38;5;21mdescribe_state\u001b[39m(\u001b[38;5;28mself\u001b[39m) \u001b[38;5;241m-\u001b[39m\u001b[38;5;241m>\u001b[39m Dict:\n\u001b[0;32m     56\u001b[0m \u001b[38;5;250m    \u001b[39m\u001b[38;5;124;03m\"\"\"\u001b[39;00m\n\u001b[0;32m     57\u001b[0m \u001b[38;5;124;03m    Produce a dictionary describing the current state of this object.\u001b[39;00m\n\u001b[0;32m     58\u001b[0m \n\u001b[1;32m   (...)\u001b[0m\n\u001b[0;32m     62\u001b[0m \u001b[38;5;124;03m    :rtype: Dict\u001b[39;00m\n\u001b[0;32m     63\u001b[0m \u001b[38;5;124;03m    \"\"\"\u001b[39;00m\n\u001b[1;32m---> 64\u001b[0m     state \u001b[38;5;241m=\u001b[39m \u001b[38;5;28;43msuper\u001b[39;49m\u001b[43m(\u001b[49m\u001b[43m)\u001b[49m\u001b[38;5;241;43m.\u001b[39;49m\u001b[43mdescribe_state\u001b[49m\u001b[43m(\u001b[49m\u001b[43m)\u001b[49m\n\u001b[0;32m     65\u001b[0m     state\u001b[38;5;241m.\u001b[39mupdate(\n\u001b[0;32m     66\u001b[0m         {\n\u001b[0;32m     67\u001b[0m             \u001b[38;5;124m\"\u001b[39m\u001b[38;5;124moperating_state\u001b[39m\u001b[38;5;124m\"\u001b[39m: \u001b[38;5;28mself\u001b[39m\u001b[38;5;241m.\u001b[39moperating_state\u001b[38;5;241m.\u001b[39mvalue,\n\u001b[1;32m   (...)\u001b[0m\n\u001b[0;32m     71\u001b[0m         }\n\u001b[0;32m     72\u001b[0m     )\n\u001b[0;32m     73\u001b[0m     \u001b[38;5;28;01mreturn\u001b[39;00m state\n",
      "File \u001b[1;32mC:\\Projects\\PrimAITE\\src\\primaite\\simulator\\system\\software.py:263\u001b[0m, in \u001b[0;36mIOSoftware.describe_state\u001b[1;34m(self)\u001b[0m\n\u001b[0;32m    253\u001b[0m \u001b[38;5;129m@abstractmethod\u001b[39m\n\u001b[0;32m    254\u001b[0m \u001b[38;5;28;01mdef\u001b[39;00m \u001b[38;5;21mdescribe_state\u001b[39m(\u001b[38;5;28mself\u001b[39m) \u001b[38;5;241m-\u001b[39m\u001b[38;5;241m>\u001b[39m Dict:\n\u001b[0;32m    255\u001b[0m \u001b[38;5;250m    \u001b[39m\u001b[38;5;124;03m\"\"\"\u001b[39;00m\n\u001b[0;32m    256\u001b[0m \u001b[38;5;124;03m    Produce a dictionary describing the current state of this object.\u001b[39;00m\n\u001b[0;32m    257\u001b[0m \n\u001b[1;32m   (...)\u001b[0m\n\u001b[0;32m    261\u001b[0m \u001b[38;5;124;03m    :rtype: Dict\u001b[39;00m\n\u001b[0;32m    262\u001b[0m \u001b[38;5;124;03m    \"\"\"\u001b[39;00m\n\u001b[1;32m--> 263\u001b[0m     state \u001b[38;5;241m=\u001b[39m \u001b[38;5;28;43msuper\u001b[39;49m\u001b[43m(\u001b[49m\u001b[43m)\u001b[49m\u001b[38;5;241;43m.\u001b[39;49m\u001b[43mdescribe_state\u001b[49m\u001b[43m(\u001b[49m\u001b[43m)\u001b[49m\n\u001b[0;32m    264\u001b[0m     state\u001b[38;5;241m.\u001b[39mupdate(\n\u001b[0;32m    265\u001b[0m         {\n\u001b[0;32m    266\u001b[0m             \u001b[38;5;124m\"\u001b[39m\u001b[38;5;124minstalling_count\u001b[39m\u001b[38;5;124m\"\u001b[39m: \u001b[38;5;28mself\u001b[39m\u001b[38;5;241m.\u001b[39minstalling_count,\n\u001b[1;32m   (...)\u001b[0m\n\u001b[0;32m    271\u001b[0m         }\n\u001b[0;32m    272\u001b[0m     )\n\u001b[0;32m    273\u001b[0m     \u001b[38;5;28;01mreturn\u001b[39;00m state\n",
      "File \u001b[1;32mC:\\Projects\\PrimAITE\\src\\primaite\\simulator\\system\\software.py:149\u001b[0m, in \u001b[0;36mSoftware.describe_state\u001b[1;34m(self)\u001b[0m\n\u001b[0;32m    138\u001b[0m \u001b[38;5;250m\u001b[39m\u001b[38;5;124;03m\"\"\"\u001b[39;00m\n\u001b[0;32m    139\u001b[0m \u001b[38;5;124;03mProduce a dictionary describing the current state of this object.\u001b[39;00m\n\u001b[0;32m    140\u001b[0m \n\u001b[1;32m   (...)\u001b[0m\n\u001b[0;32m    144\u001b[0m \u001b[38;5;124;03m:rtype: Dict\u001b[39;00m\n\u001b[0;32m    145\u001b[0m \u001b[38;5;124;03m\"\"\"\u001b[39;00m\n\u001b[0;32m    146\u001b[0m state \u001b[38;5;241m=\u001b[39m \u001b[38;5;28msuper\u001b[39m()\u001b[38;5;241m.\u001b[39mdescribe_state()\n\u001b[0;32m    147\u001b[0m state\u001b[38;5;241m.\u001b[39mupdate(\n\u001b[0;32m    148\u001b[0m     {\n\u001b[1;32m--> 149\u001b[0m         \u001b[38;5;124m\"\u001b[39m\u001b[38;5;124mhealth_state_actual\u001b[39m\u001b[38;5;124m\"\u001b[39m: \u001b[38;5;28;43mself\u001b[39;49m\u001b[38;5;241;43m.\u001b[39;49m\u001b[43mhealth_state_actual\u001b[49m\u001b[38;5;241;43m.\u001b[39;49m\u001b[43mvalue\u001b[49m,\n\u001b[0;32m    150\u001b[0m         \u001b[38;5;124m\"\u001b[39m\u001b[38;5;124mhealth_state_visible\u001b[39m\u001b[38;5;124m\"\u001b[39m: \u001b[38;5;28mself\u001b[39m\u001b[38;5;241m.\u001b[39mhealth_state_visible\u001b[38;5;241m.\u001b[39mvalue,\n\u001b[0;32m    151\u001b[0m         \u001b[38;5;124m\"\u001b[39m\u001b[38;5;124mcriticality\u001b[39m\u001b[38;5;124m\"\u001b[39m: \u001b[38;5;28mself\u001b[39m\u001b[38;5;241m.\u001b[39mcriticality\u001b[38;5;241m.\u001b[39mvalue,\n\u001b[0;32m    152\u001b[0m         \u001b[38;5;124m\"\u001b[39m\u001b[38;5;124mfixing_count\u001b[39m\u001b[38;5;124m\"\u001b[39m: \u001b[38;5;28mself\u001b[39m\u001b[38;5;241m.\u001b[39mfixing_count,\n\u001b[0;32m    153\u001b[0m         \u001b[38;5;124m\"\u001b[39m\u001b[38;5;124mscanning_count\u001b[39m\u001b[38;5;124m\"\u001b[39m: \u001b[38;5;28mself\u001b[39m\u001b[38;5;241m.\u001b[39mscanning_count,\n\u001b[0;32m    154\u001b[0m         \u001b[38;5;124m\"\u001b[39m\u001b[38;5;124mrevealed_to_red\u001b[39m\u001b[38;5;124m\"\u001b[39m: \u001b[38;5;28mself\u001b[39m\u001b[38;5;241m.\u001b[39mrevealed_to_red,\n\u001b[0;32m    155\u001b[0m     }\n\u001b[0;32m    156\u001b[0m )\n\u001b[0;32m    157\u001b[0m \u001b[38;5;28;01mreturn\u001b[39;00m state\n",
      "File \u001b[1;32m~\\AppData\\Local\\Programs\\Python\\Python310\\lib\\types.py:177\u001b[0m, in \u001b[0;36mDynamicClassAttribute.__get__\u001b[1;34m(self, instance, ownerclass)\u001b[0m\n\u001b[0;32m    176\u001b[0m \u001b[38;5;28;01mdef\u001b[39;00m \u001b[38;5;21m__get__\u001b[39m(\u001b[38;5;28mself\u001b[39m, instance, ownerclass\u001b[38;5;241m=\u001b[39m\u001b[38;5;28;01mNone\u001b[39;00m):\n\u001b[1;32m--> 177\u001b[0m     \u001b[38;5;28;01mif\u001b[39;00m \u001b[43minstance\u001b[49m\u001b[43m \u001b[49m\u001b[38;5;129;43;01mis\u001b[39;49;00m\u001b[43m \u001b[49m\u001b[38;5;28;43;01mNone\u001b[39;49;00m:\n\u001b[0;32m    178\u001b[0m         \u001b[38;5;28;01mif\u001b[39;00m \u001b[38;5;28mself\u001b[39m\u001b[38;5;241m.\u001b[39m__isabstractmethod__:\n\u001b[0;32m    179\u001b[0m             \u001b[38;5;28;01mreturn\u001b[39;00m \u001b[38;5;28mself\u001b[39m\n",
      "\u001b[1;31mKeyboardInterrupt\u001b[0m: "
     ]
    }
   ],
   "source": [
    "model.learn(total_timesteps=TOTAL_TIMESTEPS)\n"
   ]
  },
  {
   "cell_type": "code",
   "execution_count": 9,
   "metadata": {},
   "outputs": [],
   "source": [
    "model.save(\"PrimAITE-v3.0.0b7-PPO\")"
   ]
  },
  {
   "cell_type": "code",
   "execution_count": 10,
   "metadata": {},
   "outputs": [],
   "source": [
    "eval_model = PPO(\"MlpPolicy\", gym)\n",
    "eval_model = PPO.load(\"PrimAITE-v3.0.0b7-PPO\", gym)"
   ]
  },
  {
   "cell_type": "code",
   "execution_count": 11,
   "metadata": {},
   "outputs": [
    {
     "name": "stderr",
     "output_type": "stream",
     "text": [
      "c:\\Projects\\PrimAITE\\.venv\\lib\\site-packages\\stable_baselines3\\common\\evaluation.py:67: UserWarning: Evaluation environment is not wrapped with a ``Monitor`` wrapper. This may result in reporting modified episode lengths and rewards, if other wrappers happen to modify these. Consider wrapping environment first with ``Monitor`` wrapper.\n",
      "  warnings.warn(\n",
      "2024-04-08 15:04:51,136: Resetting environment, episode 473, avg. reward: 0.0\n",
      "2024-04-08 15:04:51,140: Saving agent action log to C:\\Users\\CharlieCrane\\primaite\\3.0.0b7\\sessions\\2024-04-08\\14-49-25\\agent_actions\\episode_473.json\n"
     ]
    },
    {
     "name": "stdout",
     "output_type": "stream",
     "text": [
      "{'type': 'CUSTOM', 'options': {'components': [{'type': 'NODES', 'label': 'NODES', 'options': {'hosts': [{'hostname': 'domain_controller'}, {'hostname': 'web_server', 'services': [{'service_name': 'WebServer'}]}, {'hostname': 'database_server', 'folders': [{'folder_name': 'database', 'files': [{'file_name': 'database.db'}]}]}, {'hostname': 'backup_server'}, {'hostname': 'security_suite'}, {'hostname': 'client_1'}, {'hostname': 'client_2'}], 'num_services': 1, 'num_applications': 0, 'num_folders': 1, 'num_files': 1, 'num_nics': 2, 'include_num_access': False, 'include_nmne': True, 'routers': [{'hostname': 'router_1'}], 'num_ports': 0, 'ip_list': ['192.168.1.10', '192.168.1.12', '192.168.1.14', '192.168.1.16', '192.168.1.110', '192.168.10.21', '192.168.10.22', '192.168.10.110'], 'wildcard_list': ['0.0.0.1'], 'port_list': [80, 5432], 'protocol_list': ['ICMP', 'TCP', 'UDP'], 'num_rules': 10}}, {'type': 'LINKS', 'label': 'LINKS', 'options': {'link_references': ['router_1:eth-1<->switch_1:eth-8', 'router_1:eth-2<->switch_2:eth-8', 'switch_1:eth-1<->domain_controller:eth-1', 'switch_1:eth-2<->web_server:eth-1', 'switch_1:eth-3<->database_server:eth-1', 'switch_1:eth-4<->backup_server:eth-1', 'switch_1:eth-7<->security_suite:eth-1', 'switch_2:eth-1<->client_1:eth-1', 'switch_2:eth-2<->client_2:eth-1', 'switch_2:eth-7<->security_suite:eth-2']}}, {'type': 'NONE', 'label': 'ICS', 'options': {}}]}}\n"
     ]
    },
    {
     "name": "stderr",
     "output_type": "stream",
     "text": [
      "2024-04-08 15:04:53,329: Resetting environment, episode 474, avg. reward: -62.59999999999992\n",
      "2024-04-08 15:04:53,332: Saving agent action log to C:\\Users\\CharlieCrane\\primaite\\3.0.0b7\\sessions\\2024-04-08\\14-49-25\\agent_actions\\episode_474.json\n"
     ]
    },
    {
     "name": "stdout",
     "output_type": "stream",
     "text": [
      "{'type': 'CUSTOM', 'options': {'components': [{'type': 'NODES', 'label': 'NODES', 'options': {'hosts': [{'hostname': 'domain_controller'}, {'hostname': 'web_server', 'services': [{'service_name': 'WebServer'}]}, {'hostname': 'database_server', 'folders': [{'folder_name': 'database', 'files': [{'file_name': 'database.db'}]}]}, {'hostname': 'backup_server'}, {'hostname': 'security_suite'}, {'hostname': 'client_1'}, {'hostname': 'client_2'}], 'num_services': 1, 'num_applications': 0, 'num_folders': 1, 'num_files': 1, 'num_nics': 2, 'include_num_access': False, 'include_nmne': True, 'routers': [{'hostname': 'router_1'}], 'num_ports': 0, 'ip_list': ['192.168.1.10', '192.168.1.12', '192.168.1.14', '192.168.1.16', '192.168.1.110', '192.168.10.21', '192.168.10.22', '192.168.10.110'], 'wildcard_list': ['0.0.0.1'], 'port_list': [80, 5432], 'protocol_list': ['ICMP', 'TCP', 'UDP'], 'num_rules': 10}}, {'type': 'LINKS', 'label': 'LINKS', 'options': {'link_references': ['router_1:eth-1<->switch_1:eth-8', 'router_1:eth-2<->switch_2:eth-8', 'switch_1:eth-1<->domain_controller:eth-1', 'switch_1:eth-2<->web_server:eth-1', 'switch_1:eth-3<->database_server:eth-1', 'switch_1:eth-4<->backup_server:eth-1', 'switch_1:eth-7<->security_suite:eth-1', 'switch_2:eth-1<->client_1:eth-1', 'switch_2:eth-2<->client_2:eth-1', 'switch_2:eth-7<->security_suite:eth-2']}}, {'type': 'NONE', 'label': 'ICS', 'options': {}}]}}\n"
     ]
    },
    {
     "name": "stderr",
     "output_type": "stream",
     "text": [
      "2024-04-08 15:04:55,400: Resetting environment, episode 475, avg. reward: -58.649999999999935\n",
      "2024-04-08 15:04:55,403: Saving agent action log to C:\\Users\\CharlieCrane\\primaite\\3.0.0b7\\sessions\\2024-04-08\\14-49-25\\agent_actions\\episode_475.json\n"
     ]
    },
    {
     "name": "stdout",
     "output_type": "stream",
     "text": [
      "{'type': 'CUSTOM', 'options': {'components': [{'type': 'NODES', 'label': 'NODES', 'options': {'hosts': [{'hostname': 'domain_controller'}, {'hostname': 'web_server', 'services': [{'service_name': 'WebServer'}]}, {'hostname': 'database_server', 'folders': [{'folder_name': 'database', 'files': [{'file_name': 'database.db'}]}]}, {'hostname': 'backup_server'}, {'hostname': 'security_suite'}, {'hostname': 'client_1'}, {'hostname': 'client_2'}], 'num_services': 1, 'num_applications': 0, 'num_folders': 1, 'num_files': 1, 'num_nics': 2, 'include_num_access': False, 'include_nmne': True, 'routers': [{'hostname': 'router_1'}], 'num_ports': 0, 'ip_list': ['192.168.1.10', '192.168.1.12', '192.168.1.14', '192.168.1.16', '192.168.1.110', '192.168.10.21', '192.168.10.22', '192.168.10.110'], 'wildcard_list': ['0.0.0.1'], 'port_list': [80, 5432], 'protocol_list': ['ICMP', 'TCP', 'UDP'], 'num_rules': 10}}, {'type': 'LINKS', 'label': 'LINKS', 'options': {'link_references': ['router_1:eth-1<->switch_1:eth-8', 'router_1:eth-2<->switch_2:eth-8', 'switch_1:eth-1<->domain_controller:eth-1', 'switch_1:eth-2<->web_server:eth-1', 'switch_1:eth-3<->database_server:eth-1', 'switch_1:eth-4<->backup_server:eth-1', 'switch_1:eth-7<->security_suite:eth-1', 'switch_2:eth-1<->client_1:eth-1', 'switch_2:eth-2<->client_2:eth-1', 'switch_2:eth-7<->security_suite:eth-2']}}, {'type': 'NONE', 'label': 'ICS', 'options': {}}]}}\n"
     ]
    },
    {
     "name": "stderr",
     "output_type": "stream",
     "text": [
      "2024-04-08 15:04:57,612: Resetting environment, episode 476, avg. reward: -54.549999999999955\n",
      "2024-04-08 15:04:57,617: Saving agent action log to C:\\Users\\CharlieCrane\\primaite\\3.0.0b7\\sessions\\2024-04-08\\14-49-25\\agent_actions\\episode_476.json\n"
     ]
    },
    {
     "name": "stdout",
     "output_type": "stream",
     "text": [
      "{'type': 'CUSTOM', 'options': {'components': [{'type': 'NODES', 'label': 'NODES', 'options': {'hosts': [{'hostname': 'domain_controller'}, {'hostname': 'web_server', 'services': [{'service_name': 'WebServer'}]}, {'hostname': 'database_server', 'folders': [{'folder_name': 'database', 'files': [{'file_name': 'database.db'}]}]}, {'hostname': 'backup_server'}, {'hostname': 'security_suite'}, {'hostname': 'client_1'}, {'hostname': 'client_2'}], 'num_services': 1, 'num_applications': 0, 'num_folders': 1, 'num_files': 1, 'num_nics': 2, 'include_num_access': False, 'include_nmne': True, 'routers': [{'hostname': 'router_1'}], 'num_ports': 0, 'ip_list': ['192.168.1.10', '192.168.1.12', '192.168.1.14', '192.168.1.16', '192.168.1.110', '192.168.10.21', '192.168.10.22', '192.168.10.110'], 'wildcard_list': ['0.0.0.1'], 'port_list': [80, 5432], 'protocol_list': ['ICMP', 'TCP', 'UDP'], 'num_rules': 10}}, {'type': 'LINKS', 'label': 'LINKS', 'options': {'link_references': ['router_1:eth-1<->switch_1:eth-8', 'router_1:eth-2<->switch_2:eth-8', 'switch_1:eth-1<->domain_controller:eth-1', 'switch_1:eth-2<->web_server:eth-1', 'switch_1:eth-3<->database_server:eth-1', 'switch_1:eth-4<->backup_server:eth-1', 'switch_1:eth-7<->security_suite:eth-1', 'switch_2:eth-1<->client_1:eth-1', 'switch_2:eth-2<->client_2:eth-1', 'switch_2:eth-7<->security_suite:eth-2']}}, {'type': 'NONE', 'label': 'ICS', 'options': {}}]}}\n"
     ]
    },
    {
     "name": "stderr",
     "output_type": "stream",
     "text": [
      "2024-04-08 15:05:02,916: Resetting environment, episode 477, avg. reward: -64.99999999999991\n",
      "2024-04-08 15:05:02,918: Saving agent action log to C:\\Users\\CharlieCrane\\primaite\\3.0.0b7\\sessions\\2024-04-08\\14-49-25\\agent_actions\\episode_477.json\n"
     ]
    },
    {
     "name": "stdout",
     "output_type": "stream",
     "text": [
      "{'type': 'CUSTOM', 'options': {'components': [{'type': 'NODES', 'label': 'NODES', 'options': {'hosts': [{'hostname': 'domain_controller'}, {'hostname': 'web_server', 'services': [{'service_name': 'WebServer'}]}, {'hostname': 'database_server', 'folders': [{'folder_name': 'database', 'files': [{'file_name': 'database.db'}]}]}, {'hostname': 'backup_server'}, {'hostname': 'security_suite'}, {'hostname': 'client_1'}, {'hostname': 'client_2'}], 'num_services': 1, 'num_applications': 0, 'num_folders': 1, 'num_files': 1, 'num_nics': 2, 'include_num_access': False, 'include_nmne': True, 'routers': [{'hostname': 'router_1'}], 'num_ports': 0, 'ip_list': ['192.168.1.10', '192.168.1.12', '192.168.1.14', '192.168.1.16', '192.168.1.110', '192.168.10.21', '192.168.10.22', '192.168.10.110'], 'wildcard_list': ['0.0.0.1'], 'port_list': [80, 5432], 'protocol_list': ['ICMP', 'TCP', 'UDP'], 'num_rules': 10}}, {'type': 'LINKS', 'label': 'LINKS', 'options': {'link_references': ['router_1:eth-1<->switch_1:eth-8', 'router_1:eth-2<->switch_2:eth-8', 'switch_1:eth-1<->domain_controller:eth-1', 'switch_1:eth-2<->web_server:eth-1', 'switch_1:eth-3<->database_server:eth-1', 'switch_1:eth-4<->backup_server:eth-1', 'switch_1:eth-7<->security_suite:eth-1', 'switch_2:eth-1<->client_1:eth-1', 'switch_2:eth-2<->client_2:eth-1', 'switch_2:eth-7<->security_suite:eth-2']}}, {'type': 'NONE', 'label': 'ICS', 'options': {}}]}}\n"
     ]
    },
    {
     "name": "stderr",
     "output_type": "stream",
     "text": [
      "2024-04-08 15:05:05,225: Resetting environment, episode 478, avg. reward: -53.19999999999996\n",
      "2024-04-08 15:05:05,228: Saving agent action log to C:\\Users\\CharlieCrane\\primaite\\3.0.0b7\\sessions\\2024-04-08\\14-49-25\\agent_actions\\episode_478.json\n"
     ]
    },
    {
     "name": "stdout",
     "output_type": "stream",
     "text": [
      "{'type': 'CUSTOM', 'options': {'components': [{'type': 'NODES', 'label': 'NODES', 'options': {'hosts': [{'hostname': 'domain_controller'}, {'hostname': 'web_server', 'services': [{'service_name': 'WebServer'}]}, {'hostname': 'database_server', 'folders': [{'folder_name': 'database', 'files': [{'file_name': 'database.db'}]}]}, {'hostname': 'backup_server'}, {'hostname': 'security_suite'}, {'hostname': 'client_1'}, {'hostname': 'client_2'}], 'num_services': 1, 'num_applications': 0, 'num_folders': 1, 'num_files': 1, 'num_nics': 2, 'include_num_access': False, 'include_nmne': True, 'routers': [{'hostname': 'router_1'}], 'num_ports': 0, 'ip_list': ['192.168.1.10', '192.168.1.12', '192.168.1.14', '192.168.1.16', '192.168.1.110', '192.168.10.21', '192.168.10.22', '192.168.10.110'], 'wildcard_list': ['0.0.0.1'], 'port_list': [80, 5432], 'protocol_list': ['ICMP', 'TCP', 'UDP'], 'num_rules': 10}}, {'type': 'LINKS', 'label': 'LINKS', 'options': {'link_references': ['router_1:eth-1<->switch_1:eth-8', 'router_1:eth-2<->switch_2:eth-8', 'switch_1:eth-1<->domain_controller:eth-1', 'switch_1:eth-2<->web_server:eth-1', 'switch_1:eth-3<->database_server:eth-1', 'switch_1:eth-4<->backup_server:eth-1', 'switch_1:eth-7<->security_suite:eth-1', 'switch_2:eth-1<->client_1:eth-1', 'switch_2:eth-2<->client_2:eth-1', 'switch_2:eth-7<->security_suite:eth-2']}}, {'type': 'NONE', 'label': 'ICS', 'options': {}}]}}\n"
     ]
    },
    {
     "name": "stderr",
     "output_type": "stream",
     "text": [
      "2024-04-08 15:05:07,766: Resetting environment, episode 479, avg. reward: -55.79999999999997\n",
      "2024-04-08 15:05:07,769: Saving agent action log to C:\\Users\\CharlieCrane\\primaite\\3.0.0b7\\sessions\\2024-04-08\\14-49-25\\agent_actions\\episode_479.json\n"
     ]
    },
    {
     "name": "stdout",
     "output_type": "stream",
     "text": [
      "{'type': 'CUSTOM', 'options': {'components': [{'type': 'NODES', 'label': 'NODES', 'options': {'hosts': [{'hostname': 'domain_controller'}, {'hostname': 'web_server', 'services': [{'service_name': 'WebServer'}]}, {'hostname': 'database_server', 'folders': [{'folder_name': 'database', 'files': [{'file_name': 'database.db'}]}]}, {'hostname': 'backup_server'}, {'hostname': 'security_suite'}, {'hostname': 'client_1'}, {'hostname': 'client_2'}], 'num_services': 1, 'num_applications': 0, 'num_folders': 1, 'num_files': 1, 'num_nics': 2, 'include_num_access': False, 'include_nmne': True, 'routers': [{'hostname': 'router_1'}], 'num_ports': 0, 'ip_list': ['192.168.1.10', '192.168.1.12', '192.168.1.14', '192.168.1.16', '192.168.1.110', '192.168.10.21', '192.168.10.22', '192.168.10.110'], 'wildcard_list': ['0.0.0.1'], 'port_list': [80, 5432], 'protocol_list': ['ICMP', 'TCP', 'UDP'], 'num_rules': 10}}, {'type': 'LINKS', 'label': 'LINKS', 'options': {'link_references': ['router_1:eth-1<->switch_1:eth-8', 'router_1:eth-2<->switch_2:eth-8', 'switch_1:eth-1<->domain_controller:eth-1', 'switch_1:eth-2<->web_server:eth-1', 'switch_1:eth-3<->database_server:eth-1', 'switch_1:eth-4<->backup_server:eth-1', 'switch_1:eth-7<->security_suite:eth-1', 'switch_2:eth-1<->client_1:eth-1', 'switch_2:eth-2<->client_2:eth-1', 'switch_2:eth-7<->security_suite:eth-2']}}, {'type': 'NONE', 'label': 'ICS', 'options': {}}]}}\n"
     ]
    },
    {
     "name": "stderr",
     "output_type": "stream",
     "text": [
      "2024-04-08 15:05:10,062: Resetting environment, episode 480, avg. reward: -32.75000000000003\n",
      "2024-04-08 15:05:10,065: Saving agent action log to C:\\Users\\CharlieCrane\\primaite\\3.0.0b7\\sessions\\2024-04-08\\14-49-25\\agent_actions\\episode_480.json\n"
     ]
    },
    {
     "name": "stdout",
     "output_type": "stream",
     "text": [
      "{'type': 'CUSTOM', 'options': {'components': [{'type': 'NODES', 'label': 'NODES', 'options': {'hosts': [{'hostname': 'domain_controller'}, {'hostname': 'web_server', 'services': [{'service_name': 'WebServer'}]}, {'hostname': 'database_server', 'folders': [{'folder_name': 'database', 'files': [{'file_name': 'database.db'}]}]}, {'hostname': 'backup_server'}, {'hostname': 'security_suite'}, {'hostname': 'client_1'}, {'hostname': 'client_2'}], 'num_services': 1, 'num_applications': 0, 'num_folders': 1, 'num_files': 1, 'num_nics': 2, 'include_num_access': False, 'include_nmne': True, 'routers': [{'hostname': 'router_1'}], 'num_ports': 0, 'ip_list': ['192.168.1.10', '192.168.1.12', '192.168.1.14', '192.168.1.16', '192.168.1.110', '192.168.10.21', '192.168.10.22', '192.168.10.110'], 'wildcard_list': ['0.0.0.1'], 'port_list': [80, 5432], 'protocol_list': ['ICMP', 'TCP', 'UDP'], 'num_rules': 10}}, {'type': 'LINKS', 'label': 'LINKS', 'options': {'link_references': ['router_1:eth-1<->switch_1:eth-8', 'router_1:eth-2<->switch_2:eth-8', 'switch_1:eth-1<->domain_controller:eth-1', 'switch_1:eth-2<->web_server:eth-1', 'switch_1:eth-3<->database_server:eth-1', 'switch_1:eth-4<->backup_server:eth-1', 'switch_1:eth-7<->security_suite:eth-1', 'switch_2:eth-1<->client_1:eth-1', 'switch_2:eth-2<->client_2:eth-1', 'switch_2:eth-7<->security_suite:eth-2']}}, {'type': 'NONE', 'label': 'ICS', 'options': {}}]}}\n"
     ]
    },
    {
     "name": "stderr",
     "output_type": "stream",
     "text": [
      "2024-04-08 15:05:12,370: Resetting environment, episode 481, avg. reward: -23.549999999999986\n",
      "2024-04-08 15:05:12,373: Saving agent action log to C:\\Users\\CharlieCrane\\primaite\\3.0.0b7\\sessions\\2024-04-08\\14-49-25\\agent_actions\\episode_481.json\n"
     ]
    },
    {
     "name": "stdout",
     "output_type": "stream",
     "text": [
      "{'type': 'CUSTOM', 'options': {'components': [{'type': 'NODES', 'label': 'NODES', 'options': {'hosts': [{'hostname': 'domain_controller'}, {'hostname': 'web_server', 'services': [{'service_name': 'WebServer'}]}, {'hostname': 'database_server', 'folders': [{'folder_name': 'database', 'files': [{'file_name': 'database.db'}]}]}, {'hostname': 'backup_server'}, {'hostname': 'security_suite'}, {'hostname': 'client_1'}, {'hostname': 'client_2'}], 'num_services': 1, 'num_applications': 0, 'num_folders': 1, 'num_files': 1, 'num_nics': 2, 'include_num_access': False, 'include_nmne': True, 'routers': [{'hostname': 'router_1'}], 'num_ports': 0, 'ip_list': ['192.168.1.10', '192.168.1.12', '192.168.1.14', '192.168.1.16', '192.168.1.110', '192.168.10.21', '192.168.10.22', '192.168.10.110'], 'wildcard_list': ['0.0.0.1'], 'port_list': [80, 5432], 'protocol_list': ['ICMP', 'TCP', 'UDP'], 'num_rules': 10}}, {'type': 'LINKS', 'label': 'LINKS', 'options': {'link_references': ['router_1:eth-1<->switch_1:eth-8', 'router_1:eth-2<->switch_2:eth-8', 'switch_1:eth-1<->domain_controller:eth-1', 'switch_1:eth-2<->web_server:eth-1', 'switch_1:eth-3<->database_server:eth-1', 'switch_1:eth-4<->backup_server:eth-1', 'switch_1:eth-7<->security_suite:eth-1', 'switch_2:eth-1<->client_1:eth-1', 'switch_2:eth-2<->client_2:eth-1', 'switch_2:eth-7<->security_suite:eth-2']}}, {'type': 'NONE', 'label': 'ICS', 'options': {}}]}}\n"
     ]
    },
    {
     "name": "stderr",
     "output_type": "stream",
     "text": [
      "2024-04-08 15:05:14,716: Resetting environment, episode 482, avg. reward: -15.04999999999997\n",
      "2024-04-08 15:05:14,719: Saving agent action log to C:\\Users\\CharlieCrane\\primaite\\3.0.0b7\\sessions\\2024-04-08\\14-49-25\\agent_actions\\episode_482.json\n"
     ]
    },
    {
     "name": "stdout",
     "output_type": "stream",
     "text": [
      "{'type': 'CUSTOM', 'options': {'components': [{'type': 'NODES', 'label': 'NODES', 'options': {'hosts': [{'hostname': 'domain_controller'}, {'hostname': 'web_server', 'services': [{'service_name': 'WebServer'}]}, {'hostname': 'database_server', 'folders': [{'folder_name': 'database', 'files': [{'file_name': 'database.db'}]}]}, {'hostname': 'backup_server'}, {'hostname': 'security_suite'}, {'hostname': 'client_1'}, {'hostname': 'client_2'}], 'num_services': 1, 'num_applications': 0, 'num_folders': 1, 'num_files': 1, 'num_nics': 2, 'include_num_access': False, 'include_nmne': True, 'routers': [{'hostname': 'router_1'}], 'num_ports': 0, 'ip_list': ['192.168.1.10', '192.168.1.12', '192.168.1.14', '192.168.1.16', '192.168.1.110', '192.168.10.21', '192.168.10.22', '192.168.10.110'], 'wildcard_list': ['0.0.0.1'], 'port_list': [80, 5432], 'protocol_list': ['ICMP', 'TCP', 'UDP'], 'num_rules': 10}}, {'type': 'LINKS', 'label': 'LINKS', 'options': {'link_references': ['router_1:eth-1<->switch_1:eth-8', 'router_1:eth-2<->switch_2:eth-8', 'switch_1:eth-1<->domain_controller:eth-1', 'switch_1:eth-2<->web_server:eth-1', 'switch_1:eth-3<->database_server:eth-1', 'switch_1:eth-4<->backup_server:eth-1', 'switch_1:eth-7<->security_suite:eth-1', 'switch_2:eth-1<->client_1:eth-1', 'switch_2:eth-2<->client_2:eth-1', 'switch_2:eth-7<->security_suite:eth-2']}}, {'type': 'NONE', 'label': 'ICS', 'options': {}}]}}\n"
     ]
    },
    {
     "name": "stderr",
     "output_type": "stream",
     "text": [
      "2024-04-08 15:05:16,779: Resetting environment, episode 483, avg. reward: -50.549999999999976\n",
      "2024-04-08 15:05:16,782: Saving agent action log to C:\\Users\\CharlieCrane\\primaite\\3.0.0b7\\sessions\\2024-04-08\\14-49-25\\agent_actions\\episode_483.json\n"
     ]
    },
    {
     "name": "stdout",
     "output_type": "stream",
     "text": [
      "{'type': 'CUSTOM', 'options': {'components': [{'type': 'NODES', 'label': 'NODES', 'options': {'hosts': [{'hostname': 'domain_controller'}, {'hostname': 'web_server', 'services': [{'service_name': 'WebServer'}]}, {'hostname': 'database_server', 'folders': [{'folder_name': 'database', 'files': [{'file_name': 'database.db'}]}]}, {'hostname': 'backup_server'}, {'hostname': 'security_suite'}, {'hostname': 'client_1'}, {'hostname': 'client_2'}], 'num_services': 1, 'num_applications': 0, 'num_folders': 1, 'num_files': 1, 'num_nics': 2, 'include_num_access': False, 'include_nmne': True, 'routers': [{'hostname': 'router_1'}], 'num_ports': 0, 'ip_list': ['192.168.1.10', '192.168.1.12', '192.168.1.14', '192.168.1.16', '192.168.1.110', '192.168.10.21', '192.168.10.22', '192.168.10.110'], 'wildcard_list': ['0.0.0.1'], 'port_list': [80, 5432], 'protocol_list': ['ICMP', 'TCP', 'UDP'], 'num_rules': 10}}, {'type': 'LINKS', 'label': 'LINKS', 'options': {'link_references': ['router_1:eth-1<->switch_1:eth-8', 'router_1:eth-2<->switch_2:eth-8', 'switch_1:eth-1<->domain_controller:eth-1', 'switch_1:eth-2<->web_server:eth-1', 'switch_1:eth-3<->database_server:eth-1', 'switch_1:eth-4<->backup_server:eth-1', 'switch_1:eth-7<->security_suite:eth-1', 'switch_2:eth-1<->client_1:eth-1', 'switch_2:eth-2<->client_2:eth-1', 'switch_2:eth-7<->security_suite:eth-2']}}, {'type': 'NONE', 'label': 'ICS', 'options': {}}]}}\n"
     ]
    },
    {
     "data": {
      "text/plain": [
       "(-47.170001389086245, 16.315777792523683)"
      ]
     },
     "execution_count": 11,
     "metadata": {},
     "output_type": "execute_result"
    }
   ],
   "source": [
    "from stable_baselines3.common.evaluation import evaluate_policy\n",
    "\n",
    "evaluate_policy(eval_model, gym, n_eval_episodes=10)"
   ]
  }
 ],
 "metadata": {
  "kernelspec": {
   "display_name": "venv",
   "language": "python",
   "name": "python3"
  },
  "language_info": {
   "codemirror_mode": {
    "name": "ipython",
    "version": 3
   },
   "file_extension": ".py",
   "mimetype": "text/x-python",
   "name": "python",
   "nbconvert_exporter": "python",
   "pygments_lexer": "ipython3",
   "version": "3.10.11"
  }
 },
 "nbformat": 4,
 "nbformat_minor": 2
}
