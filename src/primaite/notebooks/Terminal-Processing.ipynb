{
 "cells": [
  {
   "cell_type": "markdown",
   "metadata": {},
   "source": [
    "# Terminal Processing\n",
    "\n",
    "© Crown-owned copyright 2025, Defence Science and Technology Laboratory UK"
   ]
  },
  {
   "cell_type": "markdown",
   "metadata": {},
   "source": [
    "This notebook serves as a guide on the functionality and use of the `terminal` service from both the simulation and game layers."
   ]
  },
  {
   "cell_type": "code",
   "execution_count": null,
   "metadata": {},
   "outputs": [],
   "source": [
    "!primaite setup"
   ]
  },
  {
   "cell_type": "code",
   "execution_count": null,
   "metadata": {},
   "outputs": [],
   "source": [
    "from primaite.simulator.system.services.terminal.terminal import Terminal\n",
    "from primaite.simulator.network.container import Network\n",
    "from primaite.simulator.network.hardware.nodes.host.computer import Computer\n",
    "from primaite.simulator.system.applications.red_applications.ransomware_script import RansomwareScript\n",
    "from primaite.simulator.system.services.terminal.terminal import RemoteTerminalConnection\n"
   ]
  },
  {
   "cell_type": "markdown",
   "metadata": {},
   "source": [
    "## Simulation Layer Implementation."
   ]
  },
  {
   "cell_type": "markdown",
   "metadata": {},
   "source": [
    "The `terminal` service comes pre-installed on most node types. \n",
    "\n",
    "_The only exception to this being `switches` network nodes, this is because PrimAITE currently only implements 'dumb' switches. `routers` and `firewalls` however all support the `terminal`._"
   ]
  },
  {
   "cell_type": "code",
   "execution_count": null,
   "metadata": {},
   "outputs": [],
   "source": [
    "!primaite setup"
   ]
  },
  {
   "cell_type": "markdown",
   "metadata": {},
   "source": [
    "In this notebook, the terminal is demoed on a basic network consisting of two computers, connected together via a link to form a basic LAN network which can be seen by the `basic_network()` method defined below."
   ]
  },
  {
   "cell_type": "code",
   "execution_count": null,
   "metadata": {},
   "outputs": [],
   "source": [
    "def basic_network() -> Network:\n",
    "    \"\"\"Utility function for creating a default network to demonstrate Terminal functionality\"\"\"\n",
    "    network = Network()\n",
    "    node_a = Computer.from_config(\n",
    "            config = {\n",
    "            \"type\": \"computer\",\n",
    "            \"hostname\": \"node_a\",\n",
    "            \"ip_address\": \"192.168.0.10\",\n",
    "            \"subnet_mask\": \"255.255.255.0\",\n",
    "            # \"startup_duration\": 0,\n",
    "        }\n",
    "    )\n",
    "    node_a.power_on()\n",
    "    node_b = Computer.from_config(\n",
    "        config = {\n",
    "            \"type\": \"computer\",\n",
    "            \"hostname\": \"node_b\",\n",
    "            \"ip_address\": \"192.168.0.11\",\n",
    "            \"subnet_mask\": \"255.255.255.0\",\n",
    "            # \"startup_duration\": 0,\n",
    "        }\n",
    "    )\n",
    "    node_b.power_on()\n",
    "    network.connect(node_a.network_interface[1], node_b.network_interface[1])\n",
    "    return network"
   ]
  },
  {
   "cell_type": "markdown",
   "metadata": {},
   "source": [
    "After setting up the network, the terminal can be accessed from a `Node` via the `software_manager`:"
   ]
  },
  {
   "cell_type": "code",
   "execution_count": null,
   "metadata": {},
   "outputs": [],
   "source": [
    "network: Network = basic_network()\n",
    "computer_a: Computer = network.get_node_by_hostname(\"node_a\")\n",
    "terminal_a: Terminal = computer_a.software_manager.software.get(\"terminal\")\n",
    "computer_b: Computer = network.get_node_by_hostname(\"node_b\")\n",
    "terminal_b: Terminal = computer_b.software_manager.software.get(\"terminal\")"
   ]
  },
  {
   "cell_type": "markdown",
   "metadata": {},
   "source": [
    "However, before we're able to send commands from `node_a` to `node_b`, you will need to `login` to `node_b` first, using valid user credentials. \n",
    "\n",
    "After providing successful credentials, the login method will return type of `TerminalClientConnection` object which can then be used for sending commands to the node. \n",
    "\n",
    "In the example below, we are remotely logging in to the default ***'admin'*** account on `node_b`, from `node_a` (If you are not logged in, any commands sent will be rejected by the remote).\n"
   ]
  },
  {
   "cell_type": "code",
   "execution_count": null,
   "metadata": {},
   "outputs": [],
   "source": [
    "# Login to the remote (node_b) from local (node_a)\n",
    "term_a_term_b_remote_connection: RemoteTerminalConnection = terminal_a.login(username=\"admin\", password=\"admin\", ip_address=\"192.168.0.11\")"
   ]
  },
  {
   "cell_type": "markdown",
   "metadata": {},
   "source": [
    "You can view all active connections to a terminal through use of the `show()` method."
   ]
  },
  {
   "cell_type": "code",
   "execution_count": null,
   "metadata": {},
   "outputs": [],
   "source": [
    "terminal_b.show()"
   ]
  },
  {
   "cell_type": "markdown",
   "metadata": {},
   "source": [
    "As we logged into a remote node, the login method return a `RemoteTerminalConnection` which allows us to forward commands to be executed on the target node. \n",
    "\n",
    "The example below demonstrates how you can remotely install an application on the target node."
   ]
  },
  {
   "cell_type": "code",
   "execution_count": null,
   "metadata": {},
   "outputs": [],
   "source": [
    "term_a_term_b_remote_connection.execute([\"software_manager\", \"application\", \"install\", \"ransomware-script\"])"
   ]
  },
  {
   "cell_type": "code",
   "execution_count": null,
   "metadata": {},
   "outputs": [],
   "source": [
    "computer_b.software_manager.show()"
   ]
  },
  {
   "cell_type": "markdown",
   "metadata": {},
   "source": [
    "As the terminal allows us to leverage the [request system](./Requests-and-Responses.ipynb) we have full access to the request manager on any simulation component. For example, the code snippet below demonstrates how we the `terminal` allows the user of `terminal_a`, on `computer_a`, to send a command (in the form of a request) to `computer_b` to create a downloads folder. \n"
   ]
  },
  {
   "cell_type": "code",
   "execution_count": null,
   "metadata": {},
   "outputs": [],
   "source": [
    "# Display the current state of the file system on computer_b\n",
    "computer_b.file_system.show()\n",
    "\n",
    "# Send command\n",
    "term_a_term_b_remote_connection.execute([\"file_system\", \"create\", \"folder\", \"downloads\"])"
   ]
  },
  {
   "cell_type": "markdown",
   "metadata": {},
   "source": [
    "The resultant call to `computer_b.file_system.show()` shows that the new folder has been created."
   ]
  },
  {
   "cell_type": "code",
   "execution_count": null,
   "metadata": {},
   "outputs": [],
   "source": [
    "computer_b.file_system.show()"
   ]
  },
  {
   "cell_type": "markdown",
   "metadata": {},
   "source": [
    "Information about the latest response when executing a remote command can be seen by calling the `last_response` attribute within `Terminal`"
   ]
  },
  {
   "cell_type": "code",
   "execution_count": null,
   "metadata": {},
   "outputs": [],
   "source": [
    "print(terminal_a.last_response)"
   ]
  },
  {
   "cell_type": "markdown",
   "metadata": {},
   "source": [
    "When finished, the connection can be closed by calling the `disconnect` function of the Remote Client object"
   ]
  },
  {
   "cell_type": "code",
   "execution_count": null,
   "metadata": {},
   "outputs": [],
   "source": [
    "# Display active connection\n",
    "terminal_a.show()\n",
    "terminal_b.show()\n",
    "\n",
    "term_a_term_b_remote_connection.disconnect()\n",
    "\n",
    "terminal_a.show()\n",
    "terminal_b.show()"
   ]
  },
  {
   "cell_type": "markdown",
   "metadata": {},
   "source": [
    "Disconnected Terminal sessions will no longer show in the node's Terminal connection list, but will be under the historic sessions in the `user_session_manager`."
   ]
  },
  {
   "cell_type": "code",
   "execution_count": null,
   "metadata": {},
   "outputs": [],
   "source": [
    "computer_b.user_session_manager.show(include_historic=True, include_session_id=True)"
   ]
  },
  {
   "cell_type": "markdown",
   "metadata": {},
   "source": [
    "## Game Layer Implementation\n",
    "\n",
    "This notebook section will detail the implementation of how the game layer utilises the terminal to support different agent actions.\n",
    "\n",
    "The ``terminal`` is directly leveraged to implement the following agent actions.\n",
    "\n",
    "\n",
    "|  Game Layer Action                | Simulation Layer         |\n",
    "|-----------------------------------|--------------------------|\n",
    "| ``node-send-local-command``       | Uses the given user credentials, creates a ``LocalTerminalSession`` and executes the given command and returns the ``RequestResponse``.\n",
    "| ``node-session-remote-login``                 | Uses the given user credentials and remote IP to create a ``RemoteTerminalSession``.\n",
    "| ``node-send-remote-command``      | Uses the given remote IP to locate the correct ``RemoteTerminalSession``, executes the given command and returns the ``RequestsResponse``.\n",
    "\n",
    "Additionally, the `terminal` is utilised extensively by the [c2 suite](./Command-and-Control-E2E-Demonstration.ipynb) and it's related actions. "
   ]
  },
  {
   "cell_type": "markdown",
   "metadata": {},
   "source": [
    "### Game Layer Setup\n",
    "\n",
    "Similar to other notebooks, the next code cells create a custom proxy agent to demonstrate how these commands can be leveraged by agents in the ``UC2`` network environment.\n",
    "\n",
    "If you're unfamiliar with ``UC2`` then please refer to the [UC2-E2E-Demo notebook for further reference](./Data-Manipulation-E2E-Demonstration.ipynb)."
   ]
  },
  {
   "cell_type": "code",
   "execution_count": null,
   "metadata": {},
   "outputs": [],
   "source": [
    "import yaml\n",
    "from primaite.config.load import data_manipulation_config_path\n",
    "from primaite.session.environment import PrimaiteGymEnv"
   ]
  },
  {
   "cell_type": "code",
   "execution_count": null,
   "metadata": {},
   "outputs": [],
   "source": [
    "custom_terminal_agent = \"\"\"\n",
    "  - ref: CustomTerminalAgent\n",
    "    team: RED\n",
    "    type: proxy-agent\n",
    "    action_space:\n",
    "      action_map:\n",
    "        0:\n",
    "          action: do-nothing\n",
    "          options: {}\n",
    "        1:\n",
    "          action: node-send-local-command\n",
    "          options:\n",
    "            node_name: client_1\n",
    "            username: admin\n",
    "            password: admin\n",
    "            command:\n",
    "                - file_system\n",
    "                - create\n",
    "                - file\n",
    "                - downloads\n",
    "                - dog.png\n",
    "                - False\n",
    "        2:\n",
    "          action: node-session-remote-login\n",
    "          options:\n",
    "            node_name: client_1\n",
    "            username: admin\n",
    "            password: admin\n",
    "            remote_ip: 192.168.10.22\n",
    "        3:\n",
    "          action: node-send-remote-command\n",
    "          options:\n",
    "            node_name: client_1\n",
    "            remote_ip: 192.168.10.22\n",
    "            command:\n",
    "                - file_system\n",
    "                - create\n",
    "                - file\n",
    "                - downloads\n",
    "                - cat.png\n",
    "                - False\n",
    "\"\"\"\n",
    "custom_terminal_agent_yaml = yaml.safe_load(custom_terminal_agent)"
   ]
  },
  {
   "cell_type": "code",
   "execution_count": null,
   "metadata": {},
   "outputs": [],
   "source": [
    "with open(data_manipulation_config_path()) as f:\n",
    "    cfg = yaml.safe_load(f)\n",
    "    # removing all agents & adding the custom agent.\n",
    "    cfg['agents'] = {}\n",
    "    cfg['agents'] = custom_terminal_agent_yaml\n",
    "\n",
    "env = PrimaiteGymEnv(env_config=cfg)\n",
    "\n",
    "client_1: Computer = env.game.simulation.network.get_node_by_hostname(\"client_1\")\n",
    "client_2: Computer = env.game.simulation.network.get_node_by_hostname(\"client_2\")"
   ]
  },
  {
   "cell_type": "markdown",
   "metadata": {},
   "source": [
    "### Terminal Action | ``node-send-local-command`` \n",
    "\n",
    "The yaml snippet below shows all the relevant agent options for this action:\n",
    "\n",
    "```yaml\n",
    "      action_map:\n",
    "        1:\n",
    "          action: node-send-local-command\n",
    "          options:\n",
    "            node_name: client_1\n",
    "            username: admin\n",
    "            password: admin\n",
    "            command:\n",
    "                - file_system\n",
    "                - create\n",
    "                - file\n",
    "                - downloads\n",
    "                - dog.png\n",
    "                - False\n",
    "```"
   ]
  },
  {
   "cell_type": "code",
   "execution_count": null,
   "metadata": {},
   "outputs": [],
   "source": [
    "env.step(1)\n",
    "client_1.file_system.show(full=True)"
   ]
  },
  {
   "cell_type": "markdown",
   "metadata": {},
   "source": [
    "### Terminal Action | ``node-session-remote-login``  \n",
    "\n",
    "The yaml snippet below shows all the relevant agent options for this action:\n",
    "\n",
    "```yaml\n",
    "      action_map:\n",
    "        2:\n",
    "          action: node-session-remote-login\n",
    "          options:\n",
    "            node_name: client_1\n",
    "            username: admin\n",
    "            password: admin\n",
    "            remote_ip: 192.168.10.22 # client_2's ip address.\n",
    "```"
   ]
  },
  {
   "cell_type": "code",
   "execution_count": null,
   "metadata": {},
   "outputs": [],
   "source": [
    "env.step(2)\n",
    "client_2.session_manager.show()"
   ]
  },
  {
   "cell_type": "markdown",
   "metadata": {},
   "source": [
    "### Terminal Action |  ``node-send-remote-command``\n",
    "\n",
    "The yaml snippet below shows all the relevant agent options for this action:\n",
    "\n",
    "```yaml\n",
    "      action_map:\n",
    "        3:\n",
    "          action: node-send-remote-command\n",
    "          options:\n",
    "            node_name: client_1\n",
    "            remote_ip: 192.168.10.22 # client_2's ip address.\n",
    "            command:\n",
    "                - file_system\n",
    "                - create\n",
    "                - file\n",
    "                - downloads\n",
    "                - cat.png\n",
    "                - False\n",
    "```"
   ]
  },
  {
   "cell_type": "code",
   "execution_count": null,
   "metadata": {},
   "outputs": [],
   "source": [
    "env.step(3)\n",
    "client_2.file_system.show(full=True)"
   ]
  }
 ],
 "metadata": {
  "kernelspec": {
   "display_name": "Python 3 (ipykernel)",
   "language": "python",
   "name": "python3"
  },
  "language_info": {
   "codemirror_mode": {
    "name": "ipython",
    "version": 3
   },
   "file_extension": ".py",
   "mimetype": "text/x-python",
   "name": "python",
   "nbconvert_exporter": "python",
   "pygments_lexer": "ipython3",
   "version": "3.10.12"
  }
 },
 "nbformat": 4,
 "nbformat_minor": 2
}
