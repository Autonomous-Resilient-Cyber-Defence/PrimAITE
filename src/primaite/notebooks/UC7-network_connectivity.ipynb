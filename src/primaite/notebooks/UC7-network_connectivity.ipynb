{
 "cells": [
  {
   "cell_type": "markdown",
   "metadata": {},
   "source": [
    "# UC7 Demonstration\n",
    "\n",
    "© Crown-owned copyright 2025, Defence Science and Technology Laboratory UK\n"
   ]
  },
  {
   "cell_type": "markdown",
   "metadata": {},
   "source": [
    "## Network Description\n",
    "\n",
    "<p align=\"center\">\n",
    "    <a href=\"./_package_data/uc7/uc7_network_detailed_svg.svg\" target=\"_blank\">\n",
    "        <img src=\"./_package_data/uc7/uc7_network_detailed_svg.svg\" alt=\"Image\">\n",
    "    </a>  \n",
    "    \n",
    "</p>\n"
   ]
  },
  {
   "cell_type": "code",
   "execution_count": null,
   "metadata": {},
   "outputs": [],
   "source": [
    "!primaite setup"
   ]
  },
  {
   "cell_type": "code",
   "execution_count": null,
   "metadata": {},
   "outputs": [],
   "source": [
    "from primaite.session.environment import PrimaiteGymEnv\n",
    "from primaite.simulator.network.hardware.nodes.host.computer import Computer\n",
    "from primaite.simulator.network.hardware.nodes.host.server import Server\n",
    "from primaite.simulator.network.hardware.nodes.network.router import Router\n",
    "from primaite.simulator.network.hardware.nodes.network.switch import Switch\n",
    "from primaite.simulator.network.container import Network\n",
    "from primaite.simulator.network.hardware.nodes.network.firewall import Firewall\n",
    "from primaite.game.game import PrimaiteGame\n",
    "from primaite.simulator.sim_container import Simulation\n",
    "import yaml\n",
    "from pprint import pprint\n",
    "from primaite.config.load import load, _EXAMPLE_CFG"
   ]
  },
  {
   "cell_type": "code",
   "execution_count": null,
   "metadata": {},
   "outputs": [],
   "source": [
    "use_case_7_config = load(_EXAMPLE_CFG/\"uc7_config.yaml\")\n",
    "env = PrimaiteGymEnv(env_config=use_case_7_config)"
   ]
  },
  {
   "cell_type": "code",
   "execution_count": null,
   "metadata": {},
   "outputs": [],
   "source": [
    "uc7_network = env.game.simulation.network\n",
    "uc7_network.show()"
   ]
  },
  {
   "cell_type": "markdown",
   "metadata": {},
   "source": [
    "## UC7 Network | Home Office Subnet"
   ]
  },
  {
   "cell_type": "code",
   "execution_count": null,
   "metadata": {},
   "outputs": [],
   "source": [
    "home_pub_pc_1: Computer = env.game.simulation.network.get_node_by_hostname(\"HOME-PUB-PC-1\")\n",
    "home_pub_pc_2: Computer = env.game.simulation.network.get_node_by_hostname(\"HOME-PUB-PC-2\")\n",
    "home_pub_pc_srv: Server = env.game.simulation.network.get_node_by_hostname(\"HOME-PUB-SRV\")\n",
    "home_pub_rt_dr: Router = env.game.simulation.network.get_node_by_hostname(\"HOME-PUB-RT-DR\")"
   ]
  },
  {
   "cell_type": "code",
   "execution_count": null,
   "metadata": {},
   "outputs": [],
   "source": [
    "# HOME PC 1 --> HOME PC 2\n",
    "home_pub_pc_1.ping(home_pub_pc_2.network_interface[1].ip_address)"
   ]
  },
  {
   "cell_type": "code",
   "execution_count": null,
   "metadata": {},
   "outputs": [],
   "source": [
    "# HOME PC 2 --> HOME SERVER\n",
    "home_pub_pc_2.ping(home_pub_pc_srv.network_interface[1].ip_address)"
   ]
  },
  {
   "cell_type": "code",
   "execution_count": null,
   "metadata": {},
   "outputs": [],
   "source": [
    "# HOME SERVER --> HOME ROUTER\n",
    "home_pub_pc_srv.ping(home_pub_rt_dr.network_interface[1].ip_address)"
   ]
  },
  {
   "cell_type": "markdown",
   "metadata": {},
   "source": [
    "## UC7 Network | Internet"
   ]
  },
  {
   "cell_type": "code",
   "execution_count": null,
   "metadata": {},
   "outputs": [],
   "source": [
    "isp_pub_rt_br: Router = env.game.simulation.network.get_node_by_hostname(\"ISP-PUB-RT-BR\")\n",
    "isp_pub_srv_dns: Server = env.game.simulation.network.get_node_by_hostname(\"ISP-PUB-SRV-DNS\")"
   ]
  },
  {
   "cell_type": "code",
   "execution_count": null,
   "metadata": {},
   "outputs": [],
   "source": [
    "home_pub_pc_1.ping(isp_pub_srv_dns.network_interface[1].ip_address)"
   ]
  },
  {
   "cell_type": "code",
   "execution_count": null,
   "metadata": {},
   "outputs": [],
   "source": [
    "# HOME ROUTER --> INTERNET ROUTER\n",
    "home_pub_rt_dr.ping(isp_pub_rt_br.network_interface[1].ip_address)"
   ]
  },
  {
   "cell_type": "code",
   "execution_count": null,
   "metadata": {},
   "outputs": [],
   "source": [
    "home_pub_rt_dr.route_table.show()"
   ]
  },
  {
   "cell_type": "code",
   "execution_count": null,
   "metadata": {},
   "outputs": [],
   "source": [
    "# HOME ROUTER --> INTERNET ISP\n",
    "home_pub_rt_dr.ping(isp_pub_srv_dns.network_interface[1].ip_address)"
   ]
  },
  {
   "cell_type": "code",
   "execution_count": null,
   "metadata": {},
   "outputs": [],
   "source": [
    "# INTERNET ROUTER --> INTERNET DNS\n",
    "isp_pub_rt_br.ping(target_ip_address=isp_pub_srv_dns.network_interface[1].ip_address)"
   ]
  },
  {
   "cell_type": "code",
   "execution_count": null,
   "metadata": {},
   "outputs": [],
   "source": [
    "# HOME ROUTER --> INTERNET DNS\n",
    "home_pub_rt_dr.ping(target_ip_address=isp_pub_srv_dns.network_interface[1].ip_address)"
   ]
  },
  {
   "cell_type": "code",
   "execution_count": null,
   "metadata": {},
   "outputs": [],
   "source": [
    "# PC 1 --> INTERNET DNS\n",
    "\n",
    "home_pub_pc_1.ping(target_ip_address=isp_pub_srv_dns.network_interface[1].ip_address)"
   ]
  },
  {
   "cell_type": "code",
   "execution_count": null,
   "metadata": {},
   "outputs": [],
   "source": [
    "isp_pub_rt_br.show_nic()\n",
    "isp_pub_rt_br.ping(\"192.168.1.2\")\n"
   ]
  },
  {
   "cell_type": "markdown",
   "metadata": {},
   "source": [
    "## UC7 Network | Remote Site Subnet"
   ]
  },
  {
   "cell_type": "code",
   "execution_count": null,
   "metadata": {},
   "outputs": [],
   "source": [
    "network: Network = env.game.simulation.network\n",
    "\n",
    "\n",
    "rem_pub_fw: Firewall = network.get_node_by_hostname(hostname=\"REM-PUB-FW\")\n",
    "rem_pub_rt_dr: Router = network.get_node_by_hostname(hostname=\"REM-PUB-RT-DR\")\n",
    "rem_pub_sw_as: Switch = network.get_node_by_hostname(hostname=\"REM-PUB-SW-AS\")\n",
    "rem_pub_pc_1: Computer = network.get_node_by_hostname(hostname=\"REM-PUB-PC-1\")\n",
    "rem_pub_pc_2: Computer = network.get_node_by_hostname(hostname=\"REM-PUB-PC-2\")\n",
    "rem_pub_srv: Computer = network.get_node_by_hostname(hostname=\"REM-PUB-SRV\")"
   ]
  },
  {
   "cell_type": "code",
   "execution_count": null,
   "metadata": {},
   "outputs": [],
   "source": [
    "# Remote PC 1 --> Remote PC_2\n",
    "\n",
    "rem_pub_pc_1.ping(rem_pub_pc_2.network_interface[1].ip_address)"
   ]
  },
  {
   "cell_type": "code",
   "execution_count": null,
   "metadata": {},
   "outputs": [],
   "source": [
    "# Remote PC 2 --> Remote Server\n",
    "\n",
    "rem_pub_pc_2.ping(rem_pub_srv.network_interface[1].ip_address)"
   ]
  },
  {
   "cell_type": "code",
   "execution_count": null,
   "metadata": {},
   "outputs": [],
   "source": [
    "# Remote Server --> Remote Site Router\n",
    "\n",
    "rem_pub_srv.ping(rem_pub_rt_dr.network_interface[1].ip_address)"
   ]
  },
  {
   "cell_type": "code",
   "execution_count": null,
   "metadata": {},
   "outputs": [],
   "source": [
    "# Remote Site Router --> Remote Pub Firewall (Internal)\n",
    "\n",
    "rem_pub_rt_dr.ping(rem_pub_fw.network_interface[1].ip_address)"
   ]
  },
  {
   "cell_type": "code",
   "execution_count": null,
   "metadata": {},
   "outputs": [],
   "source": [
    "# Remote Site Router --> Remote Pub Firewall (External)\n",
    "\n",
    "rem_pub_rt_dr.ping(rem_pub_fw.network_interface[2].ip_address)"
   ]
  },
  {
   "cell_type": "code",
   "execution_count": null,
   "metadata": {},
   "outputs": [],
   "source": [
    "# Remote Pub Firewall (external) --> Public Internet\n",
    "\n",
    "rem_pub_fw.ping(isp_pub_rt_br.network_interface[1].ip_address)"
   ]
  },
  {
   "cell_type": "code",
   "execution_count": null,
   "metadata": {},
   "outputs": [],
   "source": [
    "# Remote Site PC 1 --> Public DNS\n",
    "\n",
    "rem_pub_pc_1.ping(target_ip_address=isp_pub_srv_dns.network_interface[1].ip_address)"
   ]
  },
  {
   "cell_type": "code",
   "execution_count": null,
   "metadata": {},
   "outputs": [],
   "source": [
    "# Remote Site PC 1 --> Home Office PC 1\n",
    "\n",
    "rem_pub_pc_1.ping(target_ip_address=home_pub_pc_1.network_interface[1].ip_address)"
   ]
  },
  {
   "cell_type": "markdown",
   "metadata": {},
   "source": [
    "## UC7 Network | SOME_TECH_DMZ"
   ]
  },
  {
   "cell_type": "code",
   "execution_count": null,
   "metadata": {},
   "outputs": [],
   "source": [
    "st_pub_fw: Firewall = network.get_node_by_hostname(hostname=\"ST-PUB-FW\")\n",
    "st_dmz_pub_srv_web: Server = network.get_node_by_hostname(hostname=\"ST-DMZ-PUB-SRV-WEB\")"
   ]
  },
  {
   "cell_type": "code",
   "execution_count": null,
   "metadata": {},
   "outputs": [],
   "source": [
    "# Some Tech Firewall --> Some Tech DMZ public web server\n",
    "\n",
    "st_pub_fw.ping(st_dmz_pub_srv_web.network_interface[1].ip_address)"
   ]
  },
  {
   "cell_type": "code",
   "execution_count": null,
   "metadata": {},
   "outputs": [],
   "source": [
    "# Some Tech Firewall --> Public DNS Server\n",
    "\n",
    "st_pub_fw.ping(isp_pub_srv_dns.network_interface[1].ip_address)"
   ]
  },
  {
   "cell_type": "code",
   "execution_count": null,
   "metadata": {},
   "outputs": [],
   "source": [
    "# Some Tech DMZ public web serv"
   ]
  },
  {
   "cell_type": "code",
   "execution_count": null,
   "metadata": {},
   "outputs": [],
   "source": [
    "# Some Tech Firewall --> Internet Router (Port 4)\n",
    "\n",
    "st_pub_fw.ping(isp_pub_rt_br.network_interface[4].ip_address)"
   ]
  },
  {
   "cell_type": "code",
   "execution_count": null,
   "metadata": {},
   "outputs": [],
   "source": []
  },
  {
   "cell_type": "markdown",
   "metadata": {},
   "source": [
    "## UC7 Network | SOME_TECH_INTRANET"
   ]
  },
  {
   "cell_type": "code",
   "execution_count": null,
   "metadata": {},
   "outputs": [],
   "source": [
    "st_intra_prv_rt_cr: Router = network.get_node_by_hostname(hostname=\"ST-INTRA-PRV-RT-CR\")\n",
    "st_intra_prv_rt_dr_1: Router = network.get_node_by_hostname(hostname=\"ST-INTRA-PRV-RT-DR-1\")\n",
    "st_intra_prv_rt_dr_2: Router = network.get_node_by_hostname(hostname=\"ST-INTRA-PRV-RT-DR-2\")"
   ]
  },
  {
   "cell_type": "code",
   "execution_count": null,
   "metadata": {},
   "outputs": [],
   "source": [
    "# Some Tech Intranet Private Router CR --> Some Tech Public Firewall\n",
    "\n",
    "st_intra_prv_rt_cr.ping(st_pub_fw.network_interface[3].ip_address)"
   ]
  },
  {
   "cell_type": "code",
   "execution_count": null,
   "metadata": {},
   "outputs": [],
   "source": [
    "# Some tech intranet router DR 1 --> Some Tech Intranet Router CR\n",
    "\n",
    "st_intra_prv_rt_dr_1.ping(st_intra_prv_rt_cr.network_interface[1].ip_address)"
   ]
  },
  {
   "cell_type": "code",
   "execution_count": null,
   "metadata": {},
   "outputs": [],
   "source": [
    "# Some tech intranet router DR 2 --> Some Tech Intranet Router CR\n",
    "\n",
    "st_intra_prv_rt_dr_2.ping(st_intra_prv_rt_cr.network_interface[1].ip_address)"
   ]
  },
  {
   "cell_type": "code",
   "execution_count": null,
   "metadata": {},
   "outputs": [],
   "source": [
    "# Some tech intranet router DR 1 --> Some tech intranet router DR 2\n",
    "\n",
    "st_intra_prv_rt_dr_1.ping(st_intra_prv_rt_dr_2.network_interface[1].ip_address)"
   ]
  },
  {
   "cell_type": "code",
   "execution_count": null,
   "metadata": {},
   "outputs": [],
   "source": [
    "# Some tech intranet router DR 1 --> Some Tech Firewall (Internal Port)\n",
    "\n",
    "st_intra_prv_rt_dr_1.ping(st_pub_fw.network_interface[3].ip_address)"
   ]
  },
  {
   "cell_type": "code",
   "execution_count": null,
   "metadata": {},
   "outputs": [],
   "source": [
    "# Some tech intranet router DR 1 --> Some Tech Firewall (DMZ Port)\n",
    "\n",
    "st_intra_prv_rt_dr_1.ping(st_pub_fw.network_interface[2].ip_address)"
   ]
  },
  {
   "cell_type": "code",
   "execution_count": null,
   "metadata": {},
   "outputs": [],
   "source": [
    "# Some tech intranet router DR 1 --> Some Tech Firewall (External Port)\n",
    "\n",
    "st_intra_prv_rt_dr_1.ping(st_pub_fw.network_interface[1].ip_address)"
   ]
  },
  {
   "cell_type": "code",
   "execution_count": null,
   "metadata": {},
   "outputs": [],
   "source": [
    "# Some Tech Intranet Router DR 1 --> Some Tech DMZ web-server\n",
    "\n",
    "st_intra_prv_rt_dr_1.ping(target_ip_address=st_dmz_pub_srv_web.network_interface[1].ip_address)"
   ]
  },
  {
   "cell_type": "code",
   "execution_count": null,
   "metadata": {},
   "outputs": [],
   "source": [
    "# Some tech intranet router DR 1 --> Public Internet\n",
    "\n",
    "st_intra_prv_rt_dr_1.ping(isp_pub_rt_br.network_interface[3].ip_address)"
   ]
  },
  {
   "cell_type": "code",
   "execution_count": null,
   "metadata": {},
   "outputs": [],
   "source": [
    "# Some tech intranet router DR 1 --> Public DNS \n",
    "\n",
    "st_intra_prv_rt_dr_1.ping(isp_pub_srv_dns.network_interface[1].ip_address)"
   ]
  },
  {
   "cell_type": "code",
   "execution_count": null,
   "metadata": {},
   "outputs": [],
   "source": [
    "# Some Tech Intranet Router DR 1 --> Home Office PC 1\n",
    "\n",
    "st_intra_prv_rt_dr_1.ping(target_ip_address=home_pub_pc_1.network_interface[1].ip_address)"
   ]
  },
  {
   "cell_type": "code",
   "execution_count": null,
   "metadata": {},
   "outputs": [],
   "source": [
    "# Some Tech Intranet Router DR 1 --> Remote Site PC 1\n",
    "\n",
    "st_intra_prv_rt_dr_1.ping(target_ip_address=rem_pub_pc_1.network_interface[1].ip_address)"
   ]
  },
  {
   "cell_type": "markdown",
   "metadata": {},
   "source": [
    "## UC7 Network | Some Tech Head Office"
   ]
  },
  {
   "cell_type": "code",
   "execution_count": null,
   "metadata": {},
   "outputs": [],
   "source": [
    "st_head_office_private_pc_1: Computer = network.get_node_by_hostname(\"ST-HO-PRV-PC-1\")\n",
    "st_head_office_private_pc_2: Computer = network.get_node_by_hostname(\"ST-HO-PRV-PC-2\")\n",
    "st_head_office_private_pc_3: Computer = network.get_node_by_hostname(\"ST-HO-PRV-PC-3\")"
   ]
  },
  {
   "cell_type": "code",
   "execution_count": null,
   "metadata": {},
   "outputs": [],
   "source": [
    "# ST Home office PC 1 --> ST Home Office PC 2\n",
    "\n",
    "st_head_office_private_pc_1.ping(st_head_office_private_pc_1.network_interface[1].ip_address)"
   ]
  },
  {
   "cell_type": "code",
   "execution_count": null,
   "metadata": {},
   "outputs": [],
   "source": [
    "# ST Home office PC 3 --> ST Router DR 2  \n",
    "\n",
    "st_head_office_private_pc_1.ping(st_intra_prv_rt_dr_2.network_interface[1].ip_address)"
   ]
  },
  {
   "cell_type": "code",
   "execution_count": null,
   "metadata": {},
   "outputs": [],
   "source": [
    "# ST Home office PC 1 --> Public DNS\n",
    "\n",
    "st_head_office_private_pc_1.ping(isp_pub_srv_dns.network_interface[1].ip_address)"
   ]
  },
  {
   "cell_type": "markdown",
   "metadata": {},
   "source": [
    "## UC7 Network | Some Tech Human Resources"
   ]
  },
  {
   "cell_type": "code",
   "execution_count": null,
   "metadata": {},
   "outputs": [],
   "source": [
    "st_human_resources_private_pc_1: Computer = network.get_node_by_hostname(\"ST-HR-PRV-PC-1\")\n",
    "st_human_resources_private_pc_2: Computer = network.get_node_by_hostname(\"ST-HR-PRV-PC-2\")\n",
    "st_human_resources_private_pc_3: Computer = network.get_node_by_hostname(\"ST-HR-PRV-PC-3\")"
   ]
  },
  {
   "cell_type": "code",
   "execution_count": null,
   "metadata": {},
   "outputs": [],
   "source": [
    "# ST Human Resources PC 1 --> ST Human Resources PC 2 \n",
    "\n",
    "st_human_resources_private_pc_1.ping(st_human_resources_private_pc_2.network_interface[1].ip_address)"
   ]
  },
  {
   "cell_type": "code",
   "execution_count": null,
   "metadata": {},
   "outputs": [],
   "source": [
    "# ST Human Resources PC 2 --> # ST Human Resources PC 3\n",
    "\n",
    "st_human_resources_private_pc_2.ping(st_human_resources_private_pc_3.network_interface[1].ip_address)"
   ]
  },
  {
   "cell_type": "code",
   "execution_count": null,
   "metadata": {},
   "outputs": [],
   "source": [
    "# ST Human Resources PC 1 --> ST Intranet Router DR 2 \n",
    "\n",
    "st_human_resources_private_pc_1.ping(st_intra_prv_rt_dr_2.network_interface[1].ip_address)"
   ]
  },
  {
   "cell_type": "code",
   "execution_count": null,
   "metadata": {},
   "outputs": [],
   "source": [
    "# ST Human Resources PC 1 --> Public DNS \n",
    "\n",
    "st_human_resources_private_pc_1.ping(isp_pub_srv_dns.network_interface[1].ip_address)"
   ]
  },
  {
   "cell_type": "markdown",
   "metadata": {},
   "source": [
    "## UC7 Network | Some Tech Data (Database / Database Backup)"
   ]
  },
  {
   "cell_type": "code",
   "execution_count": null,
   "metadata": {},
   "outputs": [],
   "source": [
    "st_data_private_server_database: Server = network.get_node_by_hostname(\"ST-DATA-PRV-SRV-DB\")\n",
    "st_data_private_server_storage: Server = network.get_node_by_hostname(\"ST-DATA-PRV-SRV-STORAGE\")"
   ]
  },
  {
   "cell_type": "code",
   "execution_count": null,
   "metadata": {},
   "outputs": [],
   "source": [
    "# ST Data Private Database --> ST Data Private Storage\n",
    "\n",
    "st_data_private_server_database.ping(st_data_private_server_storage.network_interface[1].ip_address)"
   ]
  },
  {
   "cell_type": "code",
   "execution_count": null,
   "metadata": {},
   "outputs": [],
   "source": [
    "# ST Data Private Storage --> Public DNS\n",
    "\n",
    "st_data_private_server_storage.ping(isp_pub_srv_dns.network_interface[1].ip_address)"
   ]
  },
  {
   "cell_type": "markdown",
   "metadata": {},
   "source": [
    "## UC7 Network | Some Tech Project A "
   ]
  },
  {
   "cell_type": "code",
   "execution_count": null,
   "metadata": {},
   "outputs": [],
   "source": [
    "st_project_a_private_pc_1: Computer = network.get_node_by_hostname(\"ST-PROJ-A-PRV-PC-1\")\n",
    "st_project_a_private_pc_2: Computer = network.get_node_by_hostname(\"ST-PROJ-A-PRV-PC-2\")\n",
    "st_project_a_private_pc_3: Computer = network.get_node_by_hostname(\"ST-PROJ-A-PRV-PC-3\")"
   ]
  },
  {
   "cell_type": "code",
   "execution_count": null,
   "metadata": {},
   "outputs": [],
   "source": [
    "# ST Private Project A PC 1 --> ST Private Project A PC 2\n",
    "\n",
    "st_project_a_private_pc_1.ping(st_project_a_private_pc_2.network_interface[1].ip_address)"
   ]
  },
  {
   "cell_type": "code",
   "execution_count": null,
   "metadata": {},
   "outputs": [],
   "source": [
    "# ST Private Project A PC 2 --> ST Private Project A PC 3\n",
    "\n",
    "st_project_a_private_pc_3.ping(st_project_a_private_pc_3.network_interface[1].ip_address)"
   ]
  },
  {
   "cell_type": "code",
   "execution_count": null,
   "metadata": {},
   "outputs": [],
   "source": [
    "# ST Private Project A PC 3 --> Public DNS\n",
    "\n",
    "st_project_a_private_pc_3.ping(isp_pub_srv_dns.network_interface[1].ip_address)"
   ]
  },
  {
   "cell_type": "code",
   "execution_count": null,
   "metadata": {},
   "outputs": [],
   "source": [
    "# ST Private Project A PC 1 --> ST-INTRA-PRV-RT-CR\n",
    "\n",
    "st_project_a_private_pc_1.ping(st_intra_prv_rt_cr.network_interface[1].ip_address)"
   ]
  },
  {
   "cell_type": "code",
   "execution_count": null,
   "metadata": {},
   "outputs": [],
   "source": [
    "# ST Private Project A PC 1 --> ST-INTRA-PRV-RT-DR-2\n",
    "\n",
    "st_project_a_private_pc_1.ping(\"192.168.170.2\")"
   ]
  },
  {
   "cell_type": "markdown",
   "metadata": {},
   "source": [
    "## UC7 Network | Some Tech Project B"
   ]
  },
  {
   "cell_type": "code",
   "execution_count": null,
   "metadata": {},
   "outputs": [],
   "source": [
    "st_project_b_private_pc_1: Computer = network.get_node_by_hostname(\"ST-PROJ-B-PRV-PC-1\")\n",
    "st_project_b_private_pc_2: Computer = network.get_node_by_hostname(\"ST-PROJ-B-PRV-PC-2\")\n",
    "st_project_b_private_pc_3: Computer = network.get_node_by_hostname(\"ST-PROJ-B-PRV-PC-3\")"
   ]
  },
  {
   "cell_type": "code",
   "execution_count": null,
   "metadata": {},
   "outputs": [],
   "source": [
    "# ST Private Project B PC 1 --> ST Private Project B PC 2\n",
    "\n",
    "st_project_b_private_pc_1.ping(st_project_b_private_pc_2.network_interface[1].ip_address)"
   ]
  },
  {
   "cell_type": "code",
   "execution_count": null,
   "metadata": {},
   "outputs": [],
   "source": [
    "# ST Private Project B PC 2 --> ST Private Project B PC 3\n",
    "\n",
    "st_project_b_private_pc_2.ping(st_project_b_private_pc_3.network_interface[1].ip_address)"
   ]
  },
  {
   "cell_type": "code",
   "execution_count": null,
   "metadata": {},
   "outputs": [],
   "source": [
    "# ST Private Project B PC 3 --> Public DNS\n",
    "\n",
    "st_project_b_private_pc_3.ping(isp_pub_srv_dns.network_interface[1].ip_address)"
   ]
  },
  {
   "cell_type": "markdown",
   "metadata": {},
   "source": [
    "## UC7 Network | Some Tech Project C"
   ]
  },
  {
   "cell_type": "code",
   "execution_count": null,
   "metadata": {},
   "outputs": [],
   "source": [
    "st_project_c_private_pc_1: Computer = network.get_node_by_hostname(\"ST-PROJ-C-PRV-PC-1\")\n",
    "st_project_c_private_pc_2: Computer = network.get_node_by_hostname(\"ST-PROJ-C-PRV-PC-2\")\n",
    "st_project_c_private_pc_3: Computer = network.get_node_by_hostname(\"ST-PROJ-C-PRV-PC-3\")"
   ]
  },
  {
   "cell_type": "code",
   "execution_count": null,
   "metadata": {},
   "outputs": [],
   "source": [
    "# ST Private Project C PC 1 --> ST Private Project C PC 2\n",
    "\n",
    "st_project_c_private_pc_1.ping(st_project_c_private_pc_2.network_interface[1].ip_address)"
   ]
  },
  {
   "cell_type": "code",
   "execution_count": null,
   "metadata": {},
   "outputs": [],
   "source": [
    "# ST Private Project C PC 2 --> ST Private Project C PC 3\n",
    "\n",
    "st_project_c_private_pc_2.ping(st_project_c_private_pc_3.network_interface[1].ip_address)"
   ]
  },
  {
   "cell_type": "code",
   "execution_count": null,
   "metadata": {},
   "outputs": [],
   "source": [
    "# ST Private Project c PC 3 --> Public DNS\n",
    "\n",
    "st_project_c_private_pc_3.ping(isp_pub_srv_dns.network_interface[1].ip_address)"
   ]
  },
  {
   "cell_type": "code",
   "execution_count": null,
   "metadata": {},
   "outputs": [],
   "source": [
    "st_project_c_private_pc_1.ping(st_project_b_private_pc_1.network_interface[1].ip_address)"
   ]
  },
  {
   "cell_type": "code",
   "execution_count": null,
   "metadata": {},
   "outputs": [],
   "source": [
    "st_project_b_private_pc_1.ping(st_project_a_private_pc_1.network_interface[1].ip_address)"
   ]
  },
  {
   "cell_type": "code",
   "execution_count": null,
   "metadata": {},
   "outputs": [],
   "source": [
    "st_project_a_private_pc_1.ping(st_head_office_private_pc_1.network_interface[1].ip_address)"
   ]
  },
  {
   "cell_type": "code",
   "execution_count": null,
   "metadata": {},
   "outputs": [],
   "source": [
    "st_project_a_private_pc_1.ping(st_human_resources_private_pc_1.network_interface[1].ip_address)"
   ]
  },
  {
   "cell_type": "markdown",
   "metadata": {},
   "source": [
    "## UC7 Network | Applications & Services"
   ]
  },
  {
   "cell_type": "code",
   "execution_count": null,
   "metadata": {},
   "outputs": [],
   "source": [
    "# DNS Server\n",
    "\n",
    "isp_pub_srv_dns.software_manager.show()"
   ]
  },
  {
   "cell_type": "code",
   "execution_count": null,
   "metadata": {},
   "outputs": [],
   "source": [
    "# Web Server & Web Browser\n",
    "\n",
    "st_project_a_web_browser = st_project_a_private_pc_1.software_manager.software[\"web-browser\"]\n",
    "st_project_a_web_browser.get_webpage()"
   ]
  },
  {
   "cell_type": "code",
   "execution_count": null,
   "metadata": {},
   "outputs": [],
   "source": [
    "st_web_server = st_dmz_pub_srv_web.software_manager.software[\"web-server\"]\n",
    "st_web_server.sys_log.show()"
   ]
  },
  {
   "cell_type": "code",
   "execution_count": null,
   "metadata": {},
   "outputs": [],
   "source": [
    "st_database_client = st_project_a_private_pc_1.software_manager.software[\"database-client\"]\n",
    "st_database_client.connect()\n",
    "\n",
    "st_database = st_data_private_server_database.software_manager.software[\"database-service\"]\n",
    "st_database.sys_log.show()"
   ]
  },
  {
   "cell_type": "code",
   "execution_count": null,
   "metadata": {},
   "outputs": [],
   "source": [
    "st_ftp_server = st_data_private_server_storage.software_manager.software[\"ftp-server\"]\n",
    "\n",
    "st_ftp_server.sys_log.show()"
   ]
  },
  {
   "cell_type": "code",
   "execution_count": null,
   "metadata": {},
   "outputs": [],
   "source": [
    "from primaite.simulator.system.services.dns.dns_client import DNSClient\n",
    "home_pub_rt_dr.acl.show()\n",
    "\n",
    "home_pub_pc_1: Computer = network.get_node_by_hostname(\"HOME-PUB-PC-1\")\n",
    "dns_client: DNSClient = home_pub_pc_1.software_manager.software[\"dns-client\"]\n",
    "\n",
    "dns_client.check_domain_exists(target_domain=\"some_tech.com\")\n",
    "dns_client.dns_cache.get(\"some_tech.com\", None) is not None\n",
    "len(dns_client.dns_cache) == 1\n"
   ]
  },
  {
   "cell_type": "code",
   "execution_count": null,
   "metadata": {},
   "outputs": [],
   "source": [
    "env.step(0)"
   ]
  },
  {
   "cell_type": "code",
   "execution_count": null,
   "metadata": {},
   "outputs": [],
   "source": [
    "# from primaite.simulator.system.applications.application import ApplicationOperatingState\n",
    "# from primaite.simulator.system.applications.database_client import database-client\n",
    "# from primaite.simulator.system.services.service import ServiceOperatingState\n",
    "\n",
    "# home_pub_pc_1_dns_client: dns-client = home_pub_pc_1.software_manager.software[\"dns-client\"]\n",
    "# home_pub_pc_1_database_client: database-client = home_pub_pc_1.software_manager.software[\"database-client\"]\n",
    "\n",
    "\n",
    "# home_pub_pc_1_dns_client.operating_state = ServiceOperatingState.PAUSED\n",
    "# home_pub_pc_1_database_client.operating_state = ApplicationOperatingState.CLOSED"
   ]
  },
  {
   "cell_type": "code",
   "execution_count": null,
   "metadata": {},
   "outputs": [],
   "source": [
    "env.step(0)"
   ]
  },
  {
   "cell_type": "code",
   "execution_count": null,
   "metadata": {},
   "outputs": [],
   "source": [
    "for _ in range(80):\n",
    "    env.step(0)"
   ]
  },
  {
   "cell_type": "code",
   "execution_count": null,
   "metadata": {},
   "outputs": [],
   "source": [
    "def print_agent_actions_except_do_nothing(agent_name):\n",
    "    print(f\"\\n{agent_name} actions this episode:\")\n",
    "    for item in env.game.agents[agent_name].history:\n",
    "        if item.action != \"DONOTHING\":\n",
    "            node, application = 'unknown', 'unknown'\n",
    "            if (node_id := item.parameters.get('node_id')) is not None:\n",
    "                node = env.game.agents[agent_name].action_manager.node_names[node_id]\n",
    "            if (application_id := item.parameters.get('application_id')) is not None:\n",
    "                application = env.game.agents[agent_name].action_manager.application_names[node_id][application_id]\n",
    "            print(f\"Step: {item.timestep}, action: {item.action}, {node}, {application}, response: {item.response.status}\")\n",
    "\n",
    "print_agent_actions_except_do_nothing(\"HOME_WORKER-1-DB\")"
   ]
  },
  {
   "cell_type": "code",
   "execution_count": null,
   "metadata": {},
   "outputs": [],
   "source": [
    "green_agent = env.game.agents.get(\"HOME_WORKER-1-DB\")\n",
    "green_agent.reward_function.total_reward"
   ]
  },
  {
   "cell_type": "code",
   "execution_count": null,
   "metadata": {},
   "outputs": [],
   "source": [
    "print_agent_actions_except_do_nothing(\"HOME_WORKER-1-WEB\")"
   ]
  },
  {
   "cell_type": "code",
   "execution_count": null,
   "metadata": {},
   "outputs": [],
   "source": [
    "green_agent = env.game.agents.get(\"HOME_WORKER-1-WEB\")\n",
    "green_agent.reward_function.total_reward"
   ]
  },
  {
   "cell_type": "code",
   "execution_count": null,
   "metadata": {},
   "outputs": [],
   "source": [
    "red_agent = env.game.agents.get(\"attacker\")\n",
    "red_agent.logger.show()"
   ]
  },
  {
   "cell_type": "code",
   "execution_count": null,
   "metadata": {},
   "outputs": [],
   "source": [
    "st_project_a_private_pc_1.file_system.show()\n",
    "\n",
    "# # st_project_a_private_pc_1.file_system.folders[\"exfiltration\"].show()\n",
    "\n",
    "# st_project_a_private_pc_1.software_manager.show()"
   ]
  },
  {
   "cell_type": "code",
   "execution_count": null,
   "metadata": {},
   "outputs": [],
   "source": [
    "st_intra_prv_rt_cr.acl.show()"
   ]
  }
 ],
 "metadata": {
  "kernelspec": {
   "display_name": ".venv",
   "language": "python",
   "name": "python3"
  },
  "language_info": {
   "codemirror_mode": {
    "name": "ipython",
    "version": 3
   },
   "file_extension": ".py",
   "mimetype": "text/x-python",
   "name": "python",
   "nbconvert_exporter": "python",
   "pygments_lexer": "ipython3",
   "version": "3.10.12"
  }
 },
 "nbformat": 4,
 "nbformat_minor": 2
}
