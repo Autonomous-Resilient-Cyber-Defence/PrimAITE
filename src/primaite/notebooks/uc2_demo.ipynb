{
 "cells": [
  {
   "cell_type": "markdown",
   "metadata": {},
   "source": [
    "# Data Manipulation Scenario\n"
   ]
  },
  {
   "cell_type": "markdown",
   "metadata": {},
   "source": [
    "## Scenario\n",
    "\n",
    "The network consists of an office subnet and a server subnet. Clients in the office access a website which fetches data from a database.\n",
    "\n",
    "[<img src=\"_package_data/uc2_network.png\" width=\"500\"/>](_package_data/uc2_network.png)\n",
    "\n",
    "_(click image to enlarge)_\n",
    "\n",
    "The red agent deletes the contents of the database. When this happens, the web app cannot fetch data and users navigating to the website get a 404 error.\n"
   ]
  },
  {
   "cell_type": "markdown",
   "metadata": {},
   "source": [
    "## Network\n",
    "\n",
    "- The web server has:\n",
    "    - a web service that replies to user HTTP requests\n",
    "    - a database client that fetches data for the web service\n",
    "- The database server has:\n",
    "    - a POSTGRES database service\n",
    "    - a database file which is accessed by the database service\n",
    "    - FTP client used for backing up the data to the backup_server\n",
    "- The backup server has:\n",
    "    - a copy of the database file in a known good state\n",
    "    - FTP server that can send the backed up file back to the database server\n"
   ]
  },
  {
   "cell_type": "markdown",
   "metadata": {},
   "source": [
    "## Green agent\n",
    "\n",
    "There are green agents logged onto client 1 and client 2. They use the web browser to navigate to `http://arcd.com/users`. The web server replies with a status code 200 if the data is available on the database or 404 if not available."
   ]
  },
  {
   "cell_type": "markdown",
   "metadata": {},
   "source": [
    "## Red agent\n",
    "\n",
    "At the start of every episode, the red agent randomly chooses either client 1 or client 2 to login to. It waits a bit then sends a DELETE query to the database from its chosen client. If the delete is successful, the database file is flagged as compromised to signal that data is not available.\n",
    "\n",
    "[<img src=\"_package_data/uc2_attack.png\" width=\"500\"/>](_package_data/uc2_attack.png)\n",
    "\n",
    "_(click image to enlarge)_"
   ]
  },
  {
   "cell_type": "markdown",
   "metadata": {},
   "source": [
    "## Blue agent\n",
    "\n",
    "The blue agent can view the entire network, but the health statuses of components are not updated until a scan is performed. The blue agent should restore the database file from backup after it was compromised. It can also prevent further attacks by blocking the red agent client from sending the malicious SQL query to the database server. This can be done by implementing an ACL rule on the router."
   ]
  },
  {
   "cell_type": "markdown",
   "metadata": {},
   "source": [
    "# Reinforcement learning details"
   ]
  },
  {
   "cell_type": "markdown",
   "metadata": {},
   "source": [
    "## Scripted agents:\n",
    "### Red\n",
    "The red agent sits on a client and uses an application called DataManipulationBot whose sole purpose is to send a DELETE query to the database.\n",
    "The red agent can choose one of two action each timestep:\n",
    "1. do nothing\n",
    "2. execute the data manipulation application\n",
    "The schedule for selecting when to execute the application is controlled by three parameters:\n",
    "- start time\n",
    "- frequency\n",
    "- variance\n",
    "\n",
    "Attacks start at a random timestep between (start_time - variance) and (start_time + variance). After each attack, another is attempted after a random delay between (frequency - variance) and (frequency + variance) timesteps.\n",
    "\n",
    "The data manipulation app itself has an element of randomness because the attack has a probability of success. The default is 0.8 to succeed with the port scan step and 0.8 to succeed with the attack itself.\n",
    "Upon a successful attack, the database file becomes corrupted which incurs a negative reward for the RL defender.\n",
    "\n",
    "The red agent does not use information about the state of the network to decide its action.\n",
    "\n",
    "### Green\n",
    "The green agents use the web browser application to send requests to the web server. The schedule of each green agent is currently random, meaning it will request webpage with a 50% probability, and do nothing with a 50% probability.\n",
    "\n",
    "When a green agent is blocked from accessing the data through the webpage, this incurs a negative reward to the RL defender."
   ]
  },
  {
   "cell_type": "markdown",
   "metadata": {},
   "source": [
    "## Observation Space\n",
    "\n",
    "The blue agent's observation space is structured as nested dictionary with the following information:\n",
    "```\n",
    "\n",
    "- NODES\n",
    "    - <node_id 1-7>\n",
    "        - SERVICES\n",
    "            - <service_id 1-1>\n",
    "                - operating_status\n",
    "                - health_status\n",
    "        - FOLDERS\n",
    "            - <folder_id 1-1>\n",
    "                - health_status\n",
    "                - FILES\n",
    "                    - <file_id 1-1>\n",
    "                    - health_status\n",
    "        - NICS\n",
    "            - <nic_id 1-2>\n",
    "                - nic_status\n",
    "        - operating_status\n",
    "- LINKS\n",
    "    - <link_id 1-10>\n",
    "        - PROTOCOLS\n",
    "            - ALL\n",
    "                - load\n",
    "- ACL\n",
    "    - <rule_number 1-10>\n",
    "        - position\n",
    "        - permission\n",
    "        - source_node_id\n",
    "        - source_port\n",
    "        - dest_node_id\n",
    "        - dest_port\n",
    "        - protocol\n",
    "- ICS\n",
    "```\n",
    "\n",
    "### Mappings\n",
    "\n",
    "The dict keys for `node_id` are in the following order:\n",
    "|node_id|node name|\n",
    "|--|--|\n",
    "|1|domain_controller|\n",
    "|2|web_server|\n",
    "|3|database_server|\n",
    "|4|backup_server|\n",
    "|5|security_suite|\n",
    "|6|client_1|\n",
    "|7|client_2|\n",
    "\n",
    "Service 1 on node 2 (web_server) corresponds to the Web Server service. Other services are only there for padding to ensure that each node's observation space has the same shape. They are filled with zeroes.\n",
    "\n",
    "Folder 1 on node 3 corresponds to the database folder. File 1 in that folder corresponds to the database storage file. Other files and folders are only there for padding to ensure that each node's observation space has the same shape. They are filled with zeroes.\n",
    "\n",
    "The dict keys for `link_id` are in the following order:\n",
    "|link_id|endpoint_a|endpoint_b|\n",
    "|--|--|--|\n",
    "|1|router_1|switch_1|\n",
    "|1|router_1|switch_2|\n",
    "|1|switch_1|domain_controller|\n",
    "|1|switch_1|web_server|\n",
    "|1|switch_1|database_server|\n",
    "|1|switch_1|backup_server|\n",
    "|1|switch_1|security_suite|\n",
    "|1|switch_2|client_1|\n",
    "|1|switch_2|client_2|\n",
    "|1|switch_2|security_suite|\n",
    "\n",
    "The ACL rules in the observation space appear in the same order that they do in the actual ACL. Though, only the first 10 rules are shown, there are default rules lower down that cannot be changed by the agent. The extra rules just allow the network to function normally, by allowing pings, ARP traffic, etc.\n",
    "\n",
    "Most nodes have only 1 nic, so the observation for those is placed at NIC index 1 in the observation space. Only the security suite has 2 NICs, the second NIC in the observation space is the one that connects the security suite with swtich_2.\n",
    "\n",
    "The meaning of the services' operating_state is:\n",
    "|operating_state|label|\n",
    "|--|--|\n",
    "|0|UNUSED|\n",
    "|1|RUNNING|\n",
    "|2|STOPPED|\n",
    "|3|PAUSED|\n",
    "|4|DISABLED|\n",
    "|5|INSTALLING|\n",
    "|6|RESTARTING|\n",
    "\n",
    "The meaning of the services' health_state is:\n",
    "|health_state|label|\n",
    "|--|--|\n",
    "|0|UNUSED|\n",
    "|1|GOOD|\n",
    "|2|PATCHING|\n",
    "|3|COMPROMISED|\n",
    "|4|OVERWHELMED|\n",
    "\n",
    "The meaning of the files' and folders' health_state is:\n",
    "|health_state|label|\n",
    "|--|--|\n",
    "|0|UNUSED|\n",
    "|1|GOOD|\n",
    "|2|COMPROMISED|\n",
    "|3|CORRUPT|\n",
    "|4|RESTORING|\n",
    "|5|REPAIRING|\n",
    "\n",
    "The meaning of the NICs' operating_status is:\n",
    "|operating_status|label|\n",
    "|--|--|\n",
    "|0|UNUSED|\n",
    "|1|ENABLED|\n",
    "|2|DISABLED|\n",
    "\n",
    "Link load has the following meaning:\n",
    "|load|percent utilisation|\n",
    "|--|--|\n",
    "|0|exactly 0%|\n",
    "|1|0-11%|\n",
    "|2|11-22%|\n",
    "|3|22-33%|\n",
    "|4|33-44%|\n",
    "|5|44-55%|\n",
    "|6|55-66%|\n",
    "|7|66-77%|\n",
    "|8|77-88%|\n",
    "|9|88-99%|\n",
    "|10|exactly 100%|\n",
    "\n",
    "ACL permission has the following meaning:\n",
    "|permission|label|\n",
    "|--|--|\n",
    "|0|UNUSED|\n",
    "|1|ALLOW|\n",
    "|2|DENY|\n",
    "\n",
    "ACL source / destination node ids actually correspond to IP addresses (since ACLs work with IP addresses)\n",
    "|source / dest node id|ip_address|label|\n",
    "|--|--|--|\n",
    "|0| | UNUSED|\n",
    "|1| |ALL addresses|\n",
    "|2| 192.168.1.10  | domain_controller|\n",
    "|3| 192.168.1.12  | web_server \n",
    "|4| 192.168.1.14  | database_server|\n",
    "|5| 192.168.1.16  | backup_server|\n",
    "|6| 192.168.1.110 | security_suite (eth-1)|\n",
    "|7| 192.168.10.21 | client_1|\n",
    "|8| 192.168.10.22 | client_2|\n",
    "|9| 192.168.10.110| security_suite (eth-2)|\n",
    "\n",
    "ACL source / destination port ids have the following encoding:\n",
    "|port id|port number| port use |\n",
    "|--|--|--|\n",
    "|0||UNUSED|\n",
    "|1||ALL|\n",
    "|2|219|ARP|\n",
    "|3|53|DNS|\n",
    "|4|80|HTTP|\n",
    "|5|5432|POSTGRES_SERVER|\n",
    "\n",
    "ACL protocol ids have the following encoding:\n",
    "|protocol id|label|\n",
    "|--|--|\n",
    "|0|UNUSED|\n",
    "|1|ALL|\n",
    "|2|ICMP|\n",
    "|3|TCP|\n",
    "|4|UDP|\n",
    "\n",
    "protocol"
   ]
  },
  {
   "cell_type": "markdown",
   "metadata": {},
   "source": [
    "## Action Space\n",
    "\n",
    "The blue agent chooses from a list of 54 pre-defined actions. The full list is defined in the `action_map` in the config. The most important ones are explained here:\n",
    "\n",
    "- `0`: Do nothing\n",
    "- `1`: Scan the web service - this refreshes the health status in the observation space\n",
    "- `9`: Scan the database file - this refreshes the health status of the database file\n",
    "- `13`: Patch the database service - This triggers the database to restore data from the backup server\n",
    "- `19`: Shut down client 1\n",
    "- `20`: Start up client 1\n",
    "- `22`: Block outgoing traffic from client 1\n",
    "- `23`: Block outgoing traffic from client 2\n",
    "- `26`: Block TCP traffic from client 1 to the database node\n",
    "- `27`: Block TCP traffic from client 2 to the database node\n",
    "- `28-37`: Remove ACL rules 1-10\n",
    "- `42`: Disconnect client 1 from the network\n",
    "- `43`: Reconnect client 1 to the network\n",
    "- `44`: Disconnect client 2 from the network\n",
    "- `45`: Reconnect client 2 to the network\n",
    "\n",
    "The other actions will either have no effect or will negatively impact the network, so the blue agent should avoid taking them."
   ]
  },
  {
   "cell_type": "markdown",
   "metadata": {},
   "source": [
    "## Reward Function\n",
    "\n",
    "The blue agent's reward is calculated using two measures:\n",
    "1. Whether the database file is in a good state (+1 for good, -1 for corrupted, 0 for any other state)\n",
    "2. Whether each green agents' most recent webpage request was successful (+1 for a `200` return code, -1 for a `404` return code and 0 otherwise).\n",
    "The file status reward and the two green-agent-related reward are averaged to get a total step reward.\n"
   ]
  },
  {
   "cell_type": "markdown",
   "metadata": {},
   "source": [
    "## Demonstration"
   ]
  },
  {
   "cell_type": "markdown",
   "metadata": {},
   "source": [
    "First, load the required modules"
   ]
  },
  {
   "cell_type": "code",
   "execution_count": 1,
   "metadata": {},
   "outputs": [],
   "source": [
    "%load_ext autoreload\n",
    "%autoreload 2"
   ]
  },
  {
   "cell_type": "code",
   "execution_count": 2,
   "metadata": {},
   "outputs": [
    {
     "name": "stderr",
     "output_type": "stream",
     "text": [
      "/home/cade/repos/PrimAITE/venv/lib/python3.10/site-packages/tqdm/auto.py:21: TqdmWarning: IProgress not found. Please update jupyter and ipywidgets. See https://ipywidgets.readthedocs.io/en/stable/user_install.html\n",
      "  from .autonotebook import tqdm as notebook_tqdm\n",
      "2024-02-07 10:58:13,192\tINFO util.py:159 -- Missing packages: ['ipywidgets']. Run `pip install -U ipywidgets`, then restart the notebook server for rich notebook output.\n",
      "2024-02-07 10:58:17,136\tINFO util.py:159 -- Missing packages: ['ipywidgets']. Run `pip install -U ipywidgets`, then restart the notebook server for rich notebook output.\n"
     ]
    }
   ],
   "source": [
    "# Imports\n",
    "from primaite.config.load import example_config_path\n",
    "from primaite.session.environment import PrimaiteGymEnv\n",
    "from primaite.game.game import PrimaiteGame\n",
    "import yaml\n",
    "from pprint import pprint\n"
   ]
  },
  {
   "cell_type": "markdown",
   "metadata": {},
   "source": [
    "Instantiate the environment. We also disable the agent observation flattening.\n",
    "\n",
    "This cell will print the observation when the network is healthy. You should be able to verify Node file and service statuses against the description above."
   ]
  },
  {
   "cell_type": "code",
   "execution_count": 3,
   "metadata": {},
   "outputs": [
    {
     "name": "stdout",
     "output_type": "stream",
     "text": [
      "Resetting environment, episode 0, avg. reward: 0.0\n",
      "env created successfully\n",
      "{'ACL': {1: {'dest_node_id': 0,\n",
      "             'dest_port': 0,\n",
      "             'permission': 0,\n",
      "             'position': 0,\n",
      "             'protocol': 0,\n",
      "             'source_node_id': 0,\n",
      "             'source_port': 0},\n",
      "         2: {'dest_node_id': 0,\n",
      "             'dest_port': 0,\n",
      "             'permission': 0,\n",
      "             'position': 1,\n",
      "             'protocol': 0,\n",
      "             'source_node_id': 0,\n",
      "             'source_port': 0},\n",
      "         3: {'dest_node_id': 0,\n",
      "             'dest_port': 0,\n",
      "             'permission': 0,\n",
      "             'position': 2,\n",
      "             'protocol': 0,\n",
      "             'source_node_id': 0,\n",
      "             'source_port': 0},\n",
      "         4: {'dest_node_id': 0,\n",
      "             'dest_port': 0,\n",
      "             'permission': 0,\n",
      "             'position': 3,\n",
      "             'protocol': 0,\n",
      "             'source_node_id': 0,\n",
      "             'source_port': 0},\n",
      "         5: {'dest_node_id': 0,\n",
      "             'dest_port': 0,\n",
      "             'permission': 0,\n",
      "             'position': 4,\n",
      "             'protocol': 0,\n",
      "             'source_node_id': 0,\n",
      "             'source_port': 0},\n",
      "         6: {'dest_node_id': 0,\n",
      "             'dest_port': 0,\n",
      "             'permission': 0,\n",
      "             'position': 5,\n",
      "             'protocol': 0,\n",
      "             'source_node_id': 0,\n",
      "             'source_port': 0},\n",
      "         7: {'dest_node_id': 0,\n",
      "             'dest_port': 0,\n",
      "             'permission': 0,\n",
      "             'position': 6,\n",
      "             'protocol': 0,\n",
      "             'source_node_id': 0,\n",
      "             'source_port': 0},\n",
      "         8: {'dest_node_id': 0,\n",
      "             'dest_port': 0,\n",
      "             'permission': 0,\n",
      "             'position': 7,\n",
      "             'protocol': 0,\n",
      "             'source_node_id': 0,\n",
      "             'source_port': 0},\n",
      "         9: {'dest_node_id': 0,\n",
      "             'dest_port': 0,\n",
      "             'permission': 0,\n",
      "             'position': 8,\n",
      "             'protocol': 0,\n",
      "             'source_node_id': 0,\n",
      "             'source_port': 0},\n",
      "         10: {'dest_node_id': 0,\n",
      "              'dest_port': 0,\n",
      "              'permission': 0,\n",
      "              'position': 9,\n",
      "              'protocol': 0,\n",
      "              'source_node_id': 0,\n",
      "              'source_port': 0}},\n",
      " 'ICS': 0,\n",
      " 'LINKS': {1: {'PROTOCOLS': {'ALL': 0}},\n",
      "           2: {'PROTOCOLS': {'ALL': 0}},\n",
      "           3: {'PROTOCOLS': {'ALL': 0}},\n",
      "           4: {'PROTOCOLS': {'ALL': 0}},\n",
      "           5: {'PROTOCOLS': {'ALL': 0}},\n",
      "           6: {'PROTOCOLS': {'ALL': 0}},\n",
      "           7: {'PROTOCOLS': {'ALL': 0}},\n",
      "           8: {'PROTOCOLS': {'ALL': 0}},\n",
      "           9: {'PROTOCOLS': {'ALL': 0}},\n",
      "           10: {'PROTOCOLS': {'ALL': 0}}},\n",
      " 'NODES': {1: {'FOLDERS': {1: {'FILES': {1: {'health_status': 0}},\n",
      "                               'health_status': 0}},\n",
      "               'NICS': {1: {'nic_status': 1}, 2: {'nic_status': 0}},\n",
      "               'SERVICES': {1: {'health_status': 0, 'operating_status': 1}},\n",
      "               'operating_status': 1},\n",
      "           2: {'FOLDERS': {1: {'FILES': {1: {'health_status': 0}},\n",
      "                               'health_status': 0}},\n",
      "               'NICS': {1: {'nic_status': 1}, 2: {'nic_status': 0}},\n",
      "               'SERVICES': {1: {'health_status': 0, 'operating_status': 1}},\n",
      "               'operating_status': 1},\n",
      "           3: {'FOLDERS': {1: {'FILES': {1: {'health_status': 1}},\n",
      "                               'health_status': 1}},\n",
      "               'NICS': {1: {'nic_status': 1}, 2: {'nic_status': 0}},\n",
      "               'SERVICES': {1: {'health_status': 0, 'operating_status': 0}},\n",
      "               'operating_status': 1},\n",
      "           4: {'FOLDERS': {1: {'FILES': {1: {'health_status': 0}},\n",
      "                               'health_status': 0}},\n",
      "               'NICS': {1: {'nic_status': 1}, 2: {'nic_status': 0}},\n",
      "               'SERVICES': {1: {'health_status': 0, 'operating_status': 0}},\n",
      "               'operating_status': 1},\n",
      "           5: {'FOLDERS': {1: {'FILES': {1: {'health_status': 0}},\n",
      "                               'health_status': 0}},\n",
      "               'NICS': {1: {'nic_status': 1}, 2: {'nic_status': 0}},\n",
      "               'SERVICES': {1: {'health_status': 0, 'operating_status': 0}},\n",
      "               'operating_status': 1},\n",
      "           6: {'FOLDERS': {1: {'FILES': {1: {'health_status': 0}},\n",
      "                               'health_status': 0}},\n",
      "               'NICS': {1: {'nic_status': 1}, 2: {'nic_status': 0}},\n",
      "               'SERVICES': {1: {'health_status': 0, 'operating_status': 0}},\n",
      "               'operating_status': 1},\n",
      "           7: {'FOLDERS': {1: {'FILES': {1: {'health_status': 0}},\n",
      "                               'health_status': 0}},\n",
      "               'NICS': {1: {'nic_status': 1}, 2: {'nic_status': 0}},\n",
      "               'SERVICES': {1: {'health_status': 0, 'operating_status': 0}},\n",
      "               'operating_status': 1}}}\n"
     ]
    }
   ],
   "source": [
    "# create the env\n",
    "with open(example_config_path(), 'r') as f:\n",
    "    cfg = yaml.safe_load(f)\n",
    "    # set success probability to 1.0 to avoid rerunning cells.\n",
    "    cfg['simulation']['network']['nodes'][8]['applications'][0]['options']['data_manipulation_p_of_success'] = 1.0\n",
    "    cfg['simulation']['network']['nodes'][9]['applications'][0]['options']['data_manipulation_p_of_success'] = 1.0\n",
    "    cfg['simulation']['network']['nodes'][8]['applications'][0]['options']['port_scan_p_of_success'] = 1.0\n",
    "    cfg['simulation']['network']['nodes'][9]['applications'][0]['options']['port_scan_p_of_success'] = 1.0\n",
    "game = PrimaiteGame.from_config(cfg)\n",
    "env = PrimaiteGymEnv(game = game)\n",
    "# Don't flatten obs as we are not training an agent and we wish to see the dict-formatted observations\n",
    "env.agent.flatten_obs = False\n",
    "obs, info = env.reset()\n",
    "print('env created successfully')\n",
    "pprint(obs)"
   ]
  },
  {
   "cell_type": "markdown",
   "metadata": {},
   "source": [
    "The red agent will start attacking at some point between step 20 and 30. When this happens, the reward will drop immediately, then drop to -1.0 when green agents try to access the webpage."
   ]
  },
  {
   "cell_type": "code",
   "execution_count": 4,
   "metadata": {},
   "outputs": [],
   "source": [
    "def friendly_output_red_action(info):\n",
    "    # parse the info dict form step output and write out what the red agent is doing\n",
    "    red_info = info['agent_actions']['data_manipulation_attacker']\n",
    "    red_action = red_info[0]\n",
    "    if red_action == 'DONOTHING':\n",
    "        red_str = 'DO NOTHING'\n",
    "    elif red_action == 'NODE_APPLICATION_EXECUTE':\n",
    "        client = \"client 1\" if red_info[1]['node_id'] == 0 else \"client 2\"\n",
    "        red_str = f\"ATTACK from {client}\"\n",
    "    return red_str"
   ]
  },
  {
   "cell_type": "code",
   "execution_count": 5,
   "metadata": {},
   "outputs": [
    {
     "name": "stdout",
     "output_type": "stream",
     "text": [
      "step: 1, Red action: DO NOTHING, Blue reward:0.34\n",
      "step: 2, Red action: DO NOTHING, Blue reward:1.0\n",
      "step: 3, Red action: DO NOTHING, Blue reward:1.0\n",
      "step: 4, Red action: DO NOTHING, Blue reward:1.0\n",
      "step: 5, Red action: DO NOTHING, Blue reward:1.0\n",
      "step: 6, Red action: DO NOTHING, Blue reward:1.0\n",
      "step: 7, Red action: DO NOTHING, Blue reward:1.0\n",
      "step: 8, Red action: DO NOTHING, Blue reward:1.0\n",
      "step: 9, Red action: DO NOTHING, Blue reward:1.0\n",
      "step: 10, Red action: DO NOTHING, Blue reward:1.0\n",
      "step: 11, Red action: DO NOTHING, Blue reward:1.0\n",
      "step: 12, Red action: DO NOTHING, Blue reward:1.0\n",
      "step: 13, Red action: DO NOTHING, Blue reward:1.0\n",
      "step: 14, Red action: DO NOTHING, Blue reward:1.0\n",
      "step: 15, Red action: DO NOTHING, Blue reward:1.0\n",
      "step: 16, Red action: DO NOTHING, Blue reward:1.0\n",
      "step: 17, Red action: DO NOTHING, Blue reward:1.0\n",
      "step: 18, Red action: DO NOTHING, Blue reward:1.0\n",
      "step: 19, Red action: DO NOTHING, Blue reward:1.0\n",
      "step: 20, Red action: DO NOTHING, Blue reward:1.0\n",
      "step: 21, Red action: DO NOTHING, Blue reward:1.0\n",
      "step: 22, Red action: DO NOTHING, Blue reward:1.0\n",
      "step: 23, Red action: DO NOTHING, Blue reward:1.0\n",
      "step: 24, Red action: DO NOTHING, Blue reward:1.0\n",
      "step: 25, Red action: DO NOTHING, Blue reward:1.0\n",
      "step: 26, Red action: DO NOTHING, Blue reward:1.0\n",
      "step: 27, Red action: DO NOTHING, Blue reward:1.0\n",
      "step: 28, Red action: DO NOTHING, Blue reward:1.0\n",
      "step: 29, Red action: DO NOTHING, Blue reward:1.0\n",
      "step: 30, Red action: ATTACK from client 1, Blue reward:0.32\n",
      "step: 31, Red action: DO NOTHING, Blue reward:0.32\n",
      "step: 32, Red action: DO NOTHING, Blue reward:0.32\n",
      "step: 33, Red action: DO NOTHING, Blue reward:-1.0\n",
      "step: 34, Red action: DO NOTHING, Blue reward:-1.0\n",
      "step: 35, Red action: DO NOTHING, Blue reward:-1.0\n"
     ]
    }
   ],
   "source": [
    "for step in range(35):\n",
    "    obs, reward, terminated, truncated, info = env.step(0)\n",
    "    print(f\"step: {env.game.step_counter}, Red action: {friendly_output_red_action(info)}, Blue reward:{reward}\" )"
   ]
  },
  {
   "cell_type": "markdown",
   "metadata": {},
   "source": [
    "Now the reward is -1, let's have a look at blue agent's observation."
   ]
  },
  {
   "cell_type": "code",
   "execution_count": 6,
   "metadata": {},
   "outputs": [
    {
     "name": "stdout",
     "output_type": "stream",
     "text": [
      "{1: {'FOLDERS': {1: {'FILES': {1: {'health_status': 0}}, 'health_status': 0}},\n",
      "     'NICS': {1: {'nic_status': 1}, 2: {'nic_status': 0}},\n",
      "     'SERVICES': {1: {'health_status': 0, 'operating_status': 1}},\n",
      "     'operating_status': 1},\n",
      " 2: {'FOLDERS': {1: {'FILES': {1: {'health_status': 0}}, 'health_status': 0}},\n",
      "     'NICS': {1: {'nic_status': 1}, 2: {'nic_status': 0}},\n",
      "     'SERVICES': {1: {'health_status': 0, 'operating_status': 1}},\n",
      "     'operating_status': 1},\n",
      " 3: {'FOLDERS': {1: {'FILES': {1: {'health_status': 1}}, 'health_status': 1}},\n",
      "     'NICS': {1: {'nic_status': 1}, 2: {'nic_status': 0}},\n",
      "     'SERVICES': {1: {'health_status': 0, 'operating_status': 0}},\n",
      "     'operating_status': 1},\n",
      " 4: {'FOLDERS': {1: {'FILES': {1: {'health_status': 0}}, 'health_status': 0}},\n",
      "     'NICS': {1: {'nic_status': 1}, 2: {'nic_status': 0}},\n",
      "     'SERVICES': {1: {'health_status': 0, 'operating_status': 0}},\n",
      "     'operating_status': 1},\n",
      " 5: {'FOLDERS': {1: {'FILES': {1: {'health_status': 0}}, 'health_status': 0}},\n",
      "     'NICS': {1: {'nic_status': 1}, 2: {'nic_status': 0}},\n",
      "     'SERVICES': {1: {'health_status': 0, 'operating_status': 0}},\n",
      "     'operating_status': 1},\n",
      " 6: {'FOLDERS': {1: {'FILES': {1: {'health_status': 0}}, 'health_status': 0}},\n",
      "     'NICS': {1: {'nic_status': 1}, 2: {'nic_status': 0}},\n",
      "     'SERVICES': {1: {'health_status': 0, 'operating_status': 0}},\n",
      "     'operating_status': 1},\n",
      " 7: {'FOLDERS': {1: {'FILES': {1: {'health_status': 0}}, 'health_status': 0}},\n",
      "     'NICS': {1: {'nic_status': 1}, 2: {'nic_status': 0}},\n",
      "     'SERVICES': {1: {'health_status': 0, 'operating_status': 0}},\n",
      "     'operating_status': 1}}\n"
     ]
    }
   ],
   "source": [
    "pprint(obs['NODES'])"
   ]
  },
  {
   "cell_type": "markdown",
   "metadata": {},
   "source": [
    "The true statuses of the database file and webapp are not updated. The blue agent needs to perform a scan to see that they have degraded."
   ]
  },
  {
   "cell_type": "code",
   "execution_count": 7,
   "metadata": {},
   "outputs": [
    {
     "name": "stdout",
     "output_type": "stream",
     "text": [
      "{1: {'FOLDERS': {1: {'FILES': {1: {'health_status': 0}}, 'health_status': 0}},\n",
      "     'NICS': {1: {'nic_status': 1}, 2: {'nic_status': 0}},\n",
      "     'SERVICES': {1: {'health_status': 0, 'operating_status': 1}},\n",
      "     'operating_status': 1},\n",
      " 2: {'FOLDERS': {1: {'FILES': {1: {'health_status': 0}}, 'health_status': 0}},\n",
      "     'NICS': {1: {'nic_status': 1}, 2: {'nic_status': 0}},\n",
      "     'SERVICES': {1: {'health_status': 3, 'operating_status': 1}},\n",
      "     'operating_status': 1},\n",
      " 3: {'FOLDERS': {1: {'FILES': {1: {'health_status': 2}}, 'health_status': 1}},\n",
      "     'NICS': {1: {'nic_status': 1}, 2: {'nic_status': 0}},\n",
      "     'SERVICES': {1: {'health_status': 0, 'operating_status': 0}},\n",
      "     'operating_status': 1},\n",
      " 4: {'FOLDERS': {1: {'FILES': {1: {'health_status': 0}}, 'health_status': 0}},\n",
      "     'NICS': {1: {'nic_status': 1}, 2: {'nic_status': 0}},\n",
      "     'SERVICES': {1: {'health_status': 0, 'operating_status': 0}},\n",
      "     'operating_status': 1},\n",
      " 5: {'FOLDERS': {1: {'FILES': {1: {'health_status': 0}}, 'health_status': 0}},\n",
      "     'NICS': {1: {'nic_status': 1}, 2: {'nic_status': 0}},\n",
      "     'SERVICES': {1: {'health_status': 0, 'operating_status': 0}},\n",
      "     'operating_status': 1},\n",
      " 6: {'FOLDERS': {1: {'FILES': {1: {'health_status': 0}}, 'health_status': 0}},\n",
      "     'NICS': {1: {'nic_status': 1}, 2: {'nic_status': 0}},\n",
      "     'SERVICES': {1: {'health_status': 0, 'operating_status': 0}},\n",
      "     'operating_status': 1},\n",
      " 7: {'FOLDERS': {1: {'FILES': {1: {'health_status': 0}}, 'health_status': 0}},\n",
      "     'NICS': {1: {'nic_status': 1}, 2: {'nic_status': 0}},\n",
      "     'SERVICES': {1: {'health_status': 0, 'operating_status': 0}},\n",
      "     'operating_status': 1}}\n"
     ]
    }
   ],
   "source": [
    "obs, reward, terminated, truncated, info = env.step(9)  # scan database file\n",
    "obs, reward, terminated, truncated, info = env.step(1)  # scan webapp service\n",
    "pprint(obs['NODES'])"
   ]
  },
  {
   "cell_type": "markdown",
   "metadata": {},
   "source": [
    "Now service 1 on node 2 has `health_status = 3`, indicating that the webapp is compromised.\n",
    "File 1 in folder 1 on node 3 has `health_status = 2`, indicating that the database file is compromised."
   ]
  },
  {
   "cell_type": "markdown",
   "metadata": {},
   "source": [
    "The blue agent can now patch the database to restore the file to a good health status."
   ]
  },
  {
   "cell_type": "code",
   "execution_count": 8,
   "metadata": {},
   "outputs": [
    {
     "name": "stdout",
     "output_type": "stream",
     "text": [
      "step: 38\n",
      "Red action: DONOTHING\n",
      "Green action: NODE_APPLICATION_EXECUTE\n",
      "Green action: NODE_APPLICATION_EXECUTE\n",
      "Blue reward:-1.0\n"
     ]
    }
   ],
   "source": [
    "obs, reward, terminated, truncated, info = env.step(13)  # patch the database\n",
    "print(f\"step: {env.game.step_counter}\")\n",
    "print(f\"Red action: {info['agent_actions']['data_manipulation_attacker'][0]}\" )\n",
    "print(f\"Green action: {info['agent_actions']['client_1_green_user'][0]}\" )\n",
    "print(f\"Green action: {info['agent_actions']['client_2_green_user'][0]}\" )\n",
    "print(f\"Blue reward:{reward}\" )"
   ]
  },
  {
   "cell_type": "markdown",
   "metadata": {},
   "source": [
    "The patching takes two steps, so the reward hasn't changed yet. Let's do nothing for another timestep, the reward should improve.\n",
    "\n",
    "The reward will increase slightly as soon as the file finishes restoring. Then, the reward will increase to 1 when both green agents make successful requests.\n",
    "\n",
    "Run the following cell until the green action is `NODE_APPLICATION_EXECUTE`, then the reward should become 1. If you run it enough times, another red attack will happen and the reward will drop again."
   ]
  },
  {
   "cell_type": "code",
   "execution_count": 9,
   "metadata": {},
   "outputs": [
    {
     "name": "stdout",
     "output_type": "stream",
     "text": [
      "step: 39\n",
      "Red action: DONOTHING\n",
      "Green action: NODE_APPLICATION_EXECUTE\n",
      "Green action: DONOTHING\n",
      "Blue reward:-0.32\n"
     ]
    }
   ],
   "source": [
    "obs, reward, terminated, truncated, info = env.step(0)  # patch the database\n",
    "print(f\"step: {env.game.step_counter}\")\n",
    "print(f\"Red action: {info['agent_actions']['data_manipulation_attacker'][0]}\" )\n",
    "print(f\"Green action: {info['agent_actions']['client_2_green_user'][0]}\" )\n",
    "print(f\"Green action: {info['agent_actions']['client_1_green_user'][0]}\" )\n",
    "print(f\"Blue reward:{reward}\" )"
   ]
  },
  {
   "cell_type": "markdown",
   "metadata": {},
   "source": [
    "The blue agent can prevent attacks by implementing an ACL rule to stop client_1 or client_2 from sending POSTGRES traffic to the database. (Let's also patch the database file to get the reward back up.)\n",
    "\n",
    "Let's block both clients from communicating directly with the database."
   ]
  },
  {
   "cell_type": "code",
   "execution_count": 17,
   "metadata": {},
   "outputs": [
    {
     "name": "stdout",
     "output_type": "stream",
     "text": [
      "step: 139, Red action: DONOTHING, Blue reward:-0.32\n",
      "step: 140, Red action: DONOTHING, Blue reward:-0.32\n",
      "step: 141, Red action: DONOTHING, Blue reward:-0.32\n",
      "step: 142, Red action: DONOTHING, Blue reward:-0.32\n",
      "step: 143, Red action: DONOTHING, Blue reward:-0.32\n",
      "step: 144, Red action: DONOTHING, Blue reward:-0.32\n",
      "step: 145, Red action: DONOTHING, Blue reward:-0.32\n",
      "step: 146, Red action: DONOTHING, Blue reward:-0.32\n",
      "step: 147, Red action: DONOTHING, Blue reward:-0.32\n",
      "step: 148, Red action: DONOTHING, Blue reward:-0.32\n",
      "step: 149, Red action: NODE_APPLICATION_EXECUTE, Blue reward:-0.32\n",
      "step: 150, Red action: DONOTHING, Blue reward:-0.32\n",
      "step: 151, Red action: DONOTHING, Blue reward:-0.32\n",
      "step: 152, Red action: DONOTHING, Blue reward:-0.32\n",
      "step: 153, Red action: DONOTHING, Blue reward:-0.32\n",
      "step: 154, Red action: DONOTHING, Blue reward:-0.32\n",
      "step: 155, Red action: DONOTHING, Blue reward:-0.32\n",
      "step: 156, Red action: DONOTHING, Blue reward:-0.32\n",
      "step: 157, Red action: DONOTHING, Blue reward:-0.32\n",
      "step: 158, Red action: DONOTHING, Blue reward:-0.32\n",
      "step: 159, Red action: DONOTHING, Blue reward:-0.32\n",
      "step: 160, Red action: DONOTHING, Blue reward:-0.32\n",
      "step: 161, Red action: DONOTHING, Blue reward:-0.32\n",
      "step: 162, Red action: DONOTHING, Blue reward:-0.32\n",
      "step: 163, Red action: DONOTHING, Blue reward:-0.32\n",
      "step: 164, Red action: DONOTHING, Blue reward:-0.32\n",
      "step: 165, Red action: DONOTHING, Blue reward:-0.32\n",
      "step: 166, Red action: DONOTHING, Blue reward:-0.32\n",
      "step: 167, Red action: DONOTHING, Blue reward:-0.32\n",
      "step: 168, Red action: DONOTHING, Blue reward:-0.32\n",
      "step: 169, Red action: NODE_APPLICATION_EXECUTE, Blue reward:-0.32\n",
      "step: 170, Red action: DONOTHING, Blue reward:-0.32\n",
      "step: 171, Red action: DONOTHING, Blue reward:-0.32\n"
     ]
    }
   ],
   "source": [
    "env.step(13)  # Patch the database\n",
    "print(f\"step: {env.game.step_counter}, Red action: {info['agent_actions']['data_manipulation_attacker'][0]}, Blue reward:{reward}\" )\n",
    "\n",
    "env.step(26)  # Block client 1\n",
    "print(f\"step: {env.game.step_counter}, Red action: {info['agent_actions']['data_manipulation_attacker'][0]}, Blue reward:{reward}\" )\n",
    "\n",
    "env.step(27)  # Block client 2\n",
    "print(f\"step: {env.game.step_counter}, Red action: {info['agent_actions']['data_manipulation_attacker'][0]}, Blue reward:{reward}\" )\n",
    "\n",
    "for step in range(30):\n",
    "    obs, reward, terminated, truncated, info = env.step(0)  # do nothing\n",
    "    print(f\"step: {env.game.step_counter}, Red action: {info['agent_actions']['data_manipulation_attacker'][0]}, Blue reward:{reward}\" )"
   ]
  },
  {
   "cell_type": "markdown",
   "metadata": {},
   "source": [
    "Now, even though the red agent executes an attack, the reward stays at 1.0"
   ]
  },
  {
   "cell_type": "markdown",
   "metadata": {},
   "source": [
    "Let's also have a look at the ACL observation to verify our new ACL rule at positions 5 and 6."
   ]
  },
  {
   "cell_type": "code",
   "execution_count": 18,
   "metadata": {},
   "outputs": [
    {
     "data": {
      "text/plain": [
       "{1: {'position': 0,\n",
       "  'permission': 0,\n",
       "  'source_node_id': 0,\n",
       "  'source_port': 0,\n",
       "  'dest_node_id': 0,\n",
       "  'dest_port': 0,\n",
       "  'protocol': 0},\n",
       " 2: {'position': 1,\n",
       "  'permission': 0,\n",
       "  'source_node_id': 0,\n",
       "  'source_port': 0,\n",
       "  'dest_node_id': 0,\n",
       "  'dest_port': 0,\n",
       "  'protocol': 0},\n",
       " 3: {'position': 2,\n",
       "  'permission': 0,\n",
       "  'source_node_id': 0,\n",
       "  'source_port': 0,\n",
       "  'dest_node_id': 0,\n",
       "  'dest_port': 0,\n",
       "  'protocol': 0},\n",
       " 4: {'position': 3,\n",
       "  'permission': 0,\n",
       "  'source_node_id': 0,\n",
       "  'source_port': 0,\n",
       "  'dest_node_id': 0,\n",
       "  'dest_port': 0,\n",
       "  'protocol': 0},\n",
       " 5: {'position': 4,\n",
       "  'permission': 2,\n",
       "  'source_node_id': 7,\n",
       "  'source_port': 1,\n",
       "  'dest_node_id': 4,\n",
       "  'dest_port': 1,\n",
       "  'protocol': 3},\n",
       " 6: {'position': 5,\n",
       "  'permission': 2,\n",
       "  'source_node_id': 8,\n",
       "  'source_port': 1,\n",
       "  'dest_node_id': 4,\n",
       "  'dest_port': 1,\n",
       "  'protocol': 3},\n",
       " 7: {'position': 6,\n",
       "  'permission': 0,\n",
       "  'source_node_id': 0,\n",
       "  'source_port': 0,\n",
       "  'dest_node_id': 0,\n",
       "  'dest_port': 0,\n",
       "  'protocol': 0},\n",
       " 8: {'position': 7,\n",
       "  'permission': 0,\n",
       "  'source_node_id': 0,\n",
       "  'source_port': 0,\n",
       "  'dest_node_id': 0,\n",
       "  'dest_port': 0,\n",
       "  'protocol': 0},\n",
       " 9: {'position': 8,\n",
       "  'permission': 0,\n",
       "  'source_node_id': 0,\n",
       "  'source_port': 0,\n",
       "  'dest_node_id': 0,\n",
       "  'dest_port': 0,\n",
       "  'protocol': 0},\n",
       " 10: {'position': 9,\n",
       "  'permission': 0,\n",
       "  'source_node_id': 0,\n",
       "  'source_port': 0,\n",
       "  'dest_node_id': 0,\n",
       "  'dest_port': 0,\n",
       "  'protocol': 0}}"
      ]
     },
     "execution_count": 18,
     "metadata": {},
     "output_type": "execute_result"
    }
   ],
   "source": [
    "obs['ACL']"
   ]
  },
  {
   "cell_type": "code",
   "execution_count": 13,
   "metadata": {},
   "outputs": [],
   "source": [
    "router = env.game.simulation.network.get_node_by_hostname('router_1')"
   ]
  },
  {
   "cell_type": "code",
   "execution_count": 19,
   "metadata": {},
   "outputs": [
    {
     "name": "stdout",
     "output_type": "stream",
     "text": [
      "+------------------------------------------------------------------------------------------------------------+\n",
      "|                                        router_1 Access Control List                                        |\n",
      "+-------+--------+----------+---------------+------------------------+--------------+------------------------+\n",
      "| Index | Action | Protocol | Src IP        | Src Port               | Dst IP       | Dst Port               |\n",
      "+-------+--------+----------+---------------+------------------------+--------------+------------------------+\n",
      "| 5     | DENY   | TCP      | 192.168.10.21 | ANY                    | 192.168.1.14 | ANY                    |\n",
      "| 6     | DENY   | TCP      | 192.168.10.22 | ANY                    | 192.168.1.14 | ANY                    |\n",
      "| 18    | PERMIT | ANY      | ANY           | 5432 (POSTGRES_SERVER) | ANY          | 5432 (POSTGRES_SERVER) |\n",
      "| 19    | PERMIT | ANY      | ANY           | 53 (DNS)               | ANY          | 53 (DNS)               |\n",
      "| 20    | PERMIT | ANY      | ANY           | 21 (FTP)               | ANY          | 21 (FTP)               |\n",
      "| 21    | PERMIT | ANY      | ANY           | 80 (HTTP)              | ANY          | 80 (HTTP)              |\n",
      "| 22    | PERMIT | ANY      | ANY           | 219 (ARP)              | ANY          | 219 (ARP)              |\n",
      "| 23    | PERMIT | ICMP     | ANY           | ANY                    | ANY          | ANY                    |\n",
      "| 24    | DENY   | ANY      | ANY           | ANY                    | ANY          | ANY                    |\n",
      "+-------+--------+----------+---------------+------------------------+--------------+------------------------+\n"
     ]
    }
   ],
   "source": [
    "router.acl.show()"
   ]
  },
  {
   "cell_type": "code",
   "execution_count": 22,
   "metadata": {},
   "outputs": [
    {
     "data": {
      "text/plain": [
       "[(<primaite.game.agent.rewards.DatabaseFileIntegrity at 0x7f0d587b9e40>, 0.34),\n",
       " (<primaite.game.agent.rewards.WebpageUnavailablePenalty at 0x7f0d587ba0b0>,\n",
       "  0.33),\n",
       " (<primaite.game.agent.rewards.WebpageUnavailablePenalty at 0x7f0d587ba170>,\n",
       "  0.33)]"
      ]
     },
     "execution_count": 22,
     "metadata": {},
     "output_type": "execute_result"
    }
   ],
   "source": [
    "env.agent.reward_function.reward_components"
   ]
  },
  {
   "cell_type": "code",
   "execution_count": 23,
   "metadata": {},
   "outputs": [],
   "source": [
    "client_1 = env.game.simulation.network.get_node_by_hostname('client_1')\n",
    "client_2 = env.game.simulation.network.get_node_by_hostname('client_2')"
   ]
  },
  {
   "cell_type": "code",
   "execution_count": 24,
   "metadata": {},
   "outputs": [],
   "source": [
    "client_1_browser = client_1.software_manager.software.get(\"WebBrowser\")\n",
    "client_2_browser = client_2.software_manager.software.get(\"WebBrowser\")"
   ]
  },
  {
   "cell_type": "code",
   "execution_count": 26,
   "metadata": {},
   "outputs": [
    {
     "data": {
      "text/plain": [
       "[BrowserHistoryItem(url='http://arcd.com/users/', status=<_HistoryItemStatus.LOADED: 'LOADED'>, response_code=<HttpStatusCode.OK: 200>),\n",
       " BrowserHistoryItem(url='http://arcd.com/users/', status=<_HistoryItemStatus.LOADED: 'LOADED'>, response_code=<HttpStatusCode.OK: 200>),\n",
       " BrowserHistoryItem(url='http://arcd.com/users/', status=<_HistoryItemStatus.LOADED: 'LOADED'>, response_code=<HttpStatusCode.OK: 200>),\n",
       " BrowserHistoryItem(url='http://arcd.com/users/', status=<_HistoryItemStatus.LOADED: 'LOADED'>, response_code=<HttpStatusCode.OK: 200>),\n",
       " BrowserHistoryItem(url='http://arcd.com/users/', status=<_HistoryItemStatus.LOADED: 'LOADED'>, response_code=<HttpStatusCode.OK: 200>),\n",
       " BrowserHistoryItem(url='http://arcd.com/users/', status=<_HistoryItemStatus.LOADED: 'LOADED'>, response_code=<HttpStatusCode.OK: 200>),\n",
       " BrowserHistoryItem(url='http://arcd.com/users/', status=<_HistoryItemStatus.LOADED: 'LOADED'>, response_code=<HttpStatusCode.OK: 200>),\n",
       " BrowserHistoryItem(url='http://arcd.com/users/', status=<_HistoryItemStatus.LOADED: 'LOADED'>, response_code=<HttpStatusCode.OK: 200>),\n",
       " BrowserHistoryItem(url='http://arcd.com/users/', status=<_HistoryItemStatus.LOADED: 'LOADED'>, response_code=<HttpStatusCode.OK: 200>),\n",
       " BrowserHistoryItem(url='http://arcd.com/users/', status=<_HistoryItemStatus.LOADED: 'LOADED'>, response_code=<HttpStatusCode.OK: 200>),\n",
       " BrowserHistoryItem(url='http://arcd.com/users/', status=<_HistoryItemStatus.LOADED: 'LOADED'>, response_code=<HttpStatusCode.OK: 200>),\n",
       " BrowserHistoryItem(url='http://arcd.com/users/', status=<_HistoryItemStatus.LOADED: 'LOADED'>, response_code=<HttpStatusCode.OK: 200>),\n",
       " BrowserHistoryItem(url='http://arcd.com/users/', status=<_HistoryItemStatus.LOADED: 'LOADED'>, response_code=<HttpStatusCode.OK: 200>),\n",
       " BrowserHistoryItem(url='http://arcd.com/users/', status=<_HistoryItemStatus.LOADED: 'LOADED'>, response_code=<HttpStatusCode.OK: 200>),\n",
       " BrowserHistoryItem(url='http://arcd.com/users/', status=<_HistoryItemStatus.LOADED: 'LOADED'>, response_code=<HttpStatusCode.OK: 200>),\n",
       " BrowserHistoryItem(url='http://arcd.com/users/', status=<_HistoryItemStatus.LOADED: 'LOADED'>, response_code=<HttpStatusCode.OK: 200>),\n",
       " BrowserHistoryItem(url='http://arcd.com/users/', status=<_HistoryItemStatus.LOADED: 'LOADED'>, response_code=<HttpStatusCode.NOT_FOUND: 404>),\n",
       " BrowserHistoryItem(url='http://arcd.com/users/', status=<_HistoryItemStatus.LOADED: 'LOADED'>, response_code=<HttpStatusCode.NOT_FOUND: 404>),\n",
       " BrowserHistoryItem(url='http://arcd.com/users/', status=<_HistoryItemStatus.LOADED: 'LOADED'>, response_code=<HttpStatusCode.NOT_FOUND: 404>),\n",
       " BrowserHistoryItem(url='http://arcd.com/users/', status=<_HistoryItemStatus.LOADED: 'LOADED'>, response_code=<HttpStatusCode.NOT_FOUND: 404>),\n",
       " BrowserHistoryItem(url='http://arcd.com/users/', status=<_HistoryItemStatus.LOADED: 'LOADED'>, response_code=<HttpStatusCode.NOT_FOUND: 404>),\n",
       " BrowserHistoryItem(url='http://arcd.com/users/', status=<_HistoryItemStatus.LOADED: 'LOADED'>, response_code=<HttpStatusCode.NOT_FOUND: 404>),\n",
       " BrowserHistoryItem(url='http://arcd.com/users/', status=<_HistoryItemStatus.LOADED: 'LOADED'>, response_code=<HttpStatusCode.NOT_FOUND: 404>),\n",
       " BrowserHistoryItem(url='http://arcd.com/users/', status=<_HistoryItemStatus.LOADED: 'LOADED'>, response_code=<HttpStatusCode.OK: 200>),\n",
       " BrowserHistoryItem(url='http://arcd.com/users/', status=<_HistoryItemStatus.LOADED: 'LOADED'>, response_code=<HttpStatusCode.OK: 200>),\n",
       " BrowserHistoryItem(url='http://arcd.com/users/', status=<_HistoryItemStatus.LOADED: 'LOADED'>, response_code=<HttpStatusCode.OK: 200>),\n",
       " BrowserHistoryItem(url='http://arcd.com/users/', status=<_HistoryItemStatus.LOADED: 'LOADED'>, response_code=<HttpStatusCode.OK: 200>),\n",
       " BrowserHistoryItem(url='http://arcd.com/users/', status=<_HistoryItemStatus.LOADED: 'LOADED'>, response_code=<HttpStatusCode.OK: 200>),\n",
       " BrowserHistoryItem(url='http://arcd.com/users/', status=<_HistoryItemStatus.LOADED: 'LOADED'>, response_code=<HttpStatusCode.OK: 200>),\n",
       " BrowserHistoryItem(url='http://arcd.com/users/', status=<_HistoryItemStatus.LOADED: 'LOADED'>, response_code=<HttpStatusCode.OK: 200>),\n",
       " BrowserHistoryItem(url='http://arcd.com/users/', status=<_HistoryItemStatus.LOADED: 'LOADED'>, response_code=<HttpStatusCode.OK: 200>),\n",
       " BrowserHistoryItem(url='http://arcd.com/users/', status=<_HistoryItemStatus.LOADED: 'LOADED'>, response_code=<HttpStatusCode.OK: 200>),\n",
       " BrowserHistoryItem(url='http://arcd.com/users/', status=<_HistoryItemStatus.LOADED: 'LOADED'>, response_code=<HttpStatusCode.OK: 200>),\n",
       " BrowserHistoryItem(url='http://arcd.com/users/', status=<_HistoryItemStatus.LOADED: 'LOADED'>, response_code=<HttpStatusCode.OK: 200>),\n",
       " BrowserHistoryItem(url='http://arcd.com/users/', status=<_HistoryItemStatus.LOADED: 'LOADED'>, response_code=<HttpStatusCode.OK: 200>),\n",
       " BrowserHistoryItem(url='http://arcd.com/users/', status=<_HistoryItemStatus.LOADED: 'LOADED'>, response_code=<HttpStatusCode.OK: 200>),\n",
       " BrowserHistoryItem(url='http://arcd.com/users/', status=<_HistoryItemStatus.LOADED: 'LOADED'>, response_code=<HttpStatusCode.OK: 200>),\n",
       " BrowserHistoryItem(url='http://arcd.com/users/', status=<_HistoryItemStatus.LOADED: 'LOADED'>, response_code=<HttpStatusCode.OK: 200>),\n",
       " BrowserHistoryItem(url='http://arcd.com/users/', status=<_HistoryItemStatus.LOADED: 'LOADED'>, response_code=<HttpStatusCode.OK: 200>),\n",
       " BrowserHistoryItem(url='http://arcd.com/users/', status=<_HistoryItemStatus.LOADED: 'LOADED'>, response_code=<HttpStatusCode.OK: 200>),\n",
       " BrowserHistoryItem(url='http://arcd.com/users/', status=<_HistoryItemStatus.LOADED: 'LOADED'>, response_code=<HttpStatusCode.NOT_FOUND: 404>),\n",
       " BrowserHistoryItem(url='http://arcd.com/users/', status=<_HistoryItemStatus.LOADED: 'LOADED'>, response_code=<HttpStatusCode.OK: 200>),\n",
       " BrowserHistoryItem(url='http://arcd.com/users/', status=<_HistoryItemStatus.LOADED: 'LOADED'>, response_code=<HttpStatusCode.OK: 200>),\n",
       " BrowserHistoryItem(url='http://arcd.com/users/', status=<_HistoryItemStatus.LOADED: 'LOADED'>, response_code=<HttpStatusCode.OK: 200>),\n",
       " BrowserHistoryItem(url='http://arcd.com/users/', status=<_HistoryItemStatus.LOADED: 'LOADED'>, response_code=<HttpStatusCode.OK: 200>),\n",
       " BrowserHistoryItem(url='http://arcd.com/users/', status=<_HistoryItemStatus.LOADED: 'LOADED'>, response_code=<HttpStatusCode.OK: 200>),\n",
       " BrowserHistoryItem(url='http://arcd.com/users/', status=<_HistoryItemStatus.LOADED: 'LOADED'>, response_code=<HttpStatusCode.OK: 200>),\n",
       " BrowserHistoryItem(url='http://arcd.com/users/', status=<_HistoryItemStatus.LOADED: 'LOADED'>, response_code=<HttpStatusCode.OK: 200>),\n",
       " BrowserHistoryItem(url='http://arcd.com/users/', status=<_HistoryItemStatus.LOADED: 'LOADED'>, response_code=<HttpStatusCode.OK: 200>),\n",
       " BrowserHistoryItem(url='http://arcd.com/users/', status=<_HistoryItemStatus.LOADED: 'LOADED'>, response_code=<HttpStatusCode.OK: 200>),\n",
       " BrowserHistoryItem(url='http://arcd.com/users/', status=<_HistoryItemStatus.LOADED: 'LOADED'>, response_code=<HttpStatusCode.OK: 200>),\n",
       " BrowserHistoryItem(url='http://arcd.com/users/', status=<_HistoryItemStatus.LOADED: 'LOADED'>, response_code=<HttpStatusCode.OK: 200>),\n",
       " BrowserHistoryItem(url='http://arcd.com/users/', status=<_HistoryItemStatus.LOADED: 'LOADED'>, response_code=<HttpStatusCode.OK: 200>),\n",
       " BrowserHistoryItem(url='http://arcd.com/users/', status=<_HistoryItemStatus.LOADED: 'LOADED'>, response_code=<HttpStatusCode.OK: 200>),\n",
       " BrowserHistoryItem(url='http://arcd.com/users/', status=<_HistoryItemStatus.LOADED: 'LOADED'>, response_code=<HttpStatusCode.OK: 200>),\n",
       " BrowserHistoryItem(url='http://arcd.com/users/', status=<_HistoryItemStatus.LOADED: 'LOADED'>, response_code=<HttpStatusCode.OK: 200>),\n",
       " BrowserHistoryItem(url='http://arcd.com/users/', status=<_HistoryItemStatus.LOADED: 'LOADED'>, response_code=<HttpStatusCode.OK: 200>),\n",
       " BrowserHistoryItem(url='http://arcd.com/users/', status=<_HistoryItemStatus.LOADED: 'LOADED'>, response_code=<HttpStatusCode.NOT_FOUND: 404>),\n",
       " BrowserHistoryItem(url='http://arcd.com/users/', status=<_HistoryItemStatus.LOADED: 'LOADED'>, response_code=<HttpStatusCode.NOT_FOUND: 404>),\n",
       " BrowserHistoryItem(url='http://arcd.com/users/', status=<_HistoryItemStatus.LOADED: 'LOADED'>, response_code=<HttpStatusCode.NOT_FOUND: 404>),\n",
       " BrowserHistoryItem(url='http://arcd.com/users/', status=<_HistoryItemStatus.LOADED: 'LOADED'>, response_code=<HttpStatusCode.NOT_FOUND: 404>),\n",
       " BrowserHistoryItem(url='http://arcd.com/users/', status=<_HistoryItemStatus.LOADED: 'LOADED'>, response_code=<HttpStatusCode.NOT_FOUND: 404>),\n",
       " BrowserHistoryItem(url='http://arcd.com/users/', status=<_HistoryItemStatus.LOADED: 'LOADED'>, response_code=<HttpStatusCode.NOT_FOUND: 404>),\n",
       " BrowserHistoryItem(url='http://arcd.com/users/', status=<_HistoryItemStatus.LOADED: 'LOADED'>, response_code=<HttpStatusCode.NOT_FOUND: 404>),\n",
       " BrowserHistoryItem(url='http://arcd.com/users/', status=<_HistoryItemStatus.LOADED: 'LOADED'>, response_code=<HttpStatusCode.NOT_FOUND: 404>),\n",
       " BrowserHistoryItem(url='http://arcd.com/users/', status=<_HistoryItemStatus.LOADED: 'LOADED'>, response_code=<HttpStatusCode.NOT_FOUND: 404>),\n",
       " BrowserHistoryItem(url='http://arcd.com/users/', status=<_HistoryItemStatus.LOADED: 'LOADED'>, response_code=<HttpStatusCode.NOT_FOUND: 404>),\n",
       " BrowserHistoryItem(url='http://arcd.com/users/', status=<_HistoryItemStatus.LOADED: 'LOADED'>, response_code=<HttpStatusCode.NOT_FOUND: 404>),\n",
       " BrowserHistoryItem(url='http://arcd.com/users/', status=<_HistoryItemStatus.LOADED: 'LOADED'>, response_code=<HttpStatusCode.NOT_FOUND: 404>),\n",
       " BrowserHistoryItem(url='http://arcd.com/users/', status=<_HistoryItemStatus.LOADED: 'LOADED'>, response_code=<HttpStatusCode.NOT_FOUND: 404>),\n",
       " BrowserHistoryItem(url='http://arcd.com/users/', status=<_HistoryItemStatus.LOADED: 'LOADED'>, response_code=<HttpStatusCode.NOT_FOUND: 404>),\n",
       " BrowserHistoryItem(url='http://arcd.com/users/', status=<_HistoryItemStatus.LOADED: 'LOADED'>, response_code=<HttpStatusCode.NOT_FOUND: 404>),\n",
       " BrowserHistoryItem(url='http://arcd.com/users/', status=<_HistoryItemStatus.LOADED: 'LOADED'>, response_code=<HttpStatusCode.NOT_FOUND: 404>),\n",
       " BrowserHistoryItem(url='http://arcd.com/users/', status=<_HistoryItemStatus.LOADED: 'LOADED'>, response_code=<HttpStatusCode.NOT_FOUND: 404>),\n",
       " BrowserHistoryItem(url='http://arcd.com/users/', status=<_HistoryItemStatus.LOADED: 'LOADED'>, response_code=<HttpStatusCode.NOT_FOUND: 404>),\n",
       " BrowserHistoryItem(url='http://arcd.com/users/', status=<_HistoryItemStatus.LOADED: 'LOADED'>, response_code=<HttpStatusCode.NOT_FOUND: 404>),\n",
       " BrowserHistoryItem(url='http://arcd.com/users/', status=<_HistoryItemStatus.LOADED: 'LOADED'>, response_code=<HttpStatusCode.NOT_FOUND: 404>),\n",
       " BrowserHistoryItem(url='http://arcd.com/users/', status=<_HistoryItemStatus.LOADED: 'LOADED'>, response_code=<HttpStatusCode.NOT_FOUND: 404>),\n",
       " BrowserHistoryItem(url='http://arcd.com/users/', status=<_HistoryItemStatus.LOADED: 'LOADED'>, response_code=<HttpStatusCode.NOT_FOUND: 404>),\n",
       " BrowserHistoryItem(url='http://arcd.com/users/', status=<_HistoryItemStatus.LOADED: 'LOADED'>, response_code=<HttpStatusCode.NOT_FOUND: 404>),\n",
       " BrowserHistoryItem(url='http://arcd.com/users/', status=<_HistoryItemStatus.LOADED: 'LOADED'>, response_code=<HttpStatusCode.NOT_FOUND: 404>),\n",
       " BrowserHistoryItem(url='http://arcd.com/users/', status=<_HistoryItemStatus.LOADED: 'LOADED'>, response_code=<HttpStatusCode.NOT_FOUND: 404>),\n",
       " BrowserHistoryItem(url='http://arcd.com/users/', status=<_HistoryItemStatus.LOADED: 'LOADED'>, response_code=<HttpStatusCode.NOT_FOUND: 404>),\n",
       " BrowserHistoryItem(url='http://arcd.com/users/', status=<_HistoryItemStatus.LOADED: 'LOADED'>, response_code=<HttpStatusCode.NOT_FOUND: 404>),\n",
       " BrowserHistoryItem(url='http://arcd.com/users/', status=<_HistoryItemStatus.LOADED: 'LOADED'>, response_code=<HttpStatusCode.NOT_FOUND: 404>),\n",
       " BrowserHistoryItem(url='http://arcd.com/users/', status=<_HistoryItemStatus.LOADED: 'LOADED'>, response_code=<HttpStatusCode.NOT_FOUND: 404>),\n",
       " BrowserHistoryItem(url='http://arcd.com/users/', status=<_HistoryItemStatus.LOADED: 'LOADED'>, response_code=<HttpStatusCode.NOT_FOUND: 404>),\n",
       " BrowserHistoryItem(url='http://arcd.com/users/', status=<_HistoryItemStatus.LOADED: 'LOADED'>, response_code=<HttpStatusCode.NOT_FOUND: 404>),\n",
       " BrowserHistoryItem(url='http://arcd.com/users/', status=<_HistoryItemStatus.LOADED: 'LOADED'>, response_code=<HttpStatusCode.NOT_FOUND: 404>),\n",
       " BrowserHistoryItem(url='http://arcd.com/users/', status=<_HistoryItemStatus.LOADED: 'LOADED'>, response_code=<HttpStatusCode.NOT_FOUND: 404>),\n",
       " BrowserHistoryItem(url='http://arcd.com/users/', status=<_HistoryItemStatus.LOADED: 'LOADED'>, response_code=<HttpStatusCode.NOT_FOUND: 404>),\n",
       " BrowserHistoryItem(url='http://arcd.com/users/', status=<_HistoryItemStatus.LOADED: 'LOADED'>, response_code=<HttpStatusCode.NOT_FOUND: 404>)]"
      ]
     },
     "execution_count": 26,
     "metadata": {},
     "output_type": "execute_result"
    }
   ],
   "source": [
    "client_2_browser.history"
   ]
  },
  {
   "cell_type": "code",
   "execution_count": 35,
   "metadata": {},
   "outputs": [
    {
     "data": {
      "text/plain": [
       "False"
      ]
     },
     "execution_count": 35,
     "metadata": {},
     "output_type": "execute_result"
    }
   ],
   "source": [
    "client_1_browser.get_webpage()"
   ]
  },
  {
   "cell_type": "code",
   "execution_count": 30,
   "metadata": {},
   "outputs": [],
   "source": [
    "database_server = env.game.simulation.network.get_node_by_hostname('database_server')"
   ]
  },
  {
   "cell_type": "code",
   "execution_count": 31,
   "metadata": {},
   "outputs": [
    {
     "data": {
      "text/plain": [
       "File(uuid='390c399a-c2ab-4d84-b98f-d5fc1f9114d2', name='database.db', health_status=<FileSystemItemHealthStatus.GOOD: 1>, visible_health_status=<FileSystemItemHealthStatus.GOOD: 1>, previous_hash=None, revealed_to_red=False, sys_log=<primaite.simulator.system.core.sys_log.SysLog object at 0x7f0d58908400>, deleted=False, folder_id='e602b9a6-ea1c-4c52-9025-8512d9116b1d', folder_name='database', file_type=<FileType.DB: 32>, sim_size=15360000, real=False, sim_path=None, sim_root=PosixPath('/home/cade/primaite/3.0.0b6/sessions/2024-02-07/10-58-18/simulation_output/database_server/fs'), folder=Folder(uuid='e602b9a6-ea1c-4c52-9025-8512d9116b1d', name='database', health_status=<FileSystemItemHealthStatus.GOOD: 1>, visible_health_status=<FileSystemItemHealthStatus.GOOD: 1>, previous_hash=None, revealed_to_red=False, sys_log=<primaite.simulator.system.core.sys_log.SysLog object at 0x7f0d58908400>, deleted=False, files={'390c399a-c2ab-4d84-b98f-d5fc1f9114d2': File(uuid='390c399a-c2ab-4d84-b98f-d5fc1f9114d2', name='database.db', health_status=<FileSystemItemHealthStatus.GOOD: 1>, visible_health_status=<FileSystemItemHealthStatus.GOOD: 1>, previous_hash=None, revealed_to_red=False, sys_log=<primaite.simulator.system.core.sys_log.SysLog object at 0x7f0d58908400>, deleted=False, folder_id='e602b9a6-ea1c-4c52-9025-8512d9116b1d', folder_name='database', file_type=<FileType.DB: 32>, sim_size=15360000, real=False, sim_path=None, sim_root=PosixPath('/home/cade/primaite/3.0.0b6/sessions/2024-02-07/10-58-18/simulation_output/database_server/fs'), folder=Folder(uuid='e602b9a6-ea1c-4c52-9025-8512d9116b1d', name='database', health_status=<FileSystemItemHealthStatus.GOOD: 1>, visible_health_status=<FileSystemItemHealthStatus.GOOD: 1>, previous_hash=None, revealed_to_red=False, sys_log=<primaite.simulator.system.core.sys_log.SysLog object at 0x7f0d58908400>, deleted=False, files={...}, deleted_files={'e63e23dc-c443-4434-822d-3c2c01cbfe1e': File(uuid='e63e23dc-c443-4434-822d-3c2c01cbfe1e', name='database.db', health_status=<FileSystemItemHealthStatus.COMPROMISED: 2>, visible_health_status=<FileSystemItemHealthStatus.COMPROMISED: 2>, previous_hash=None, revealed_to_red=False, sys_log=<primaite.simulator.system.core.sys_log.SysLog object at 0x7f0d58908400>, deleted=True, folder_id='e602b9a6-ea1c-4c52-9025-8512d9116b1d', folder_name='database', file_type=<FileType.DB: 32>, sim_size=15360000, real=False, sim_path=None, sim_root=PosixPath('/home/cade/primaite/3.0.0b6/sessions/2024-02-07/10-58-18/simulation_output/database_server/fs'), folder=Folder(uuid='e602b9a6-ea1c-4c52-9025-8512d9116b1d', name='database', health_status=<FileSystemItemHealthStatus.GOOD: 1>, visible_health_status=<FileSystemItemHealthStatus.GOOD: 1>, previous_hash=None, revealed_to_red=False, sys_log=<primaite.simulator.system.core.sys_log.SysLog object at 0x7f0d58908400>, deleted=False, files={...}, deleted_files={...}, scan_duration=3, scan_countdown=-1, red_scan_duration=3, red_scan_countdown=-1, restore_duration=3, restore_countdown=-1, original_file_uuids=['e63e23dc-c443-4434-822d-3c2c01cbfe1e'])), '646a198e-6ac1-4aea-b526-7ca5c2c30dfc': File(uuid='646a198e-6ac1-4aea-b526-7ca5c2c30dfc', name='database.db', health_status=<FileSystemItemHealthStatus.GOOD: 1>, visible_health_status=<FileSystemItemHealthStatus.GOOD: 1>, previous_hash=None, revealed_to_red=False, sys_log=<primaite.simulator.system.core.sys_log.SysLog object at 0x7f0d58908400>, deleted=True, folder_id='e602b9a6-ea1c-4c52-9025-8512d9116b1d', folder_name='database', file_type=<FileType.DB: 32>, sim_size=15360000, real=False, sim_path=None, sim_root=PosixPath('/home/cade/primaite/3.0.0b6/sessions/2024-02-07/10-58-18/simulation_output/database_server/fs'), folder=Folder(uuid='e602b9a6-ea1c-4c52-9025-8512d9116b1d', name='database', health_status=<FileSystemItemHealthStatus.GOOD: 1>, visible_health_status=<FileSystemItemHealthStatus.GOOD: 1>, previous_hash=None, revealed_to_red=False, sys_log=<primaite.simulator.system.core.sys_log.SysLog object at 0x7f0d58908400>, deleted=False, files={...}, deleted_files={...}, scan_duration=3, scan_countdown=-1, red_scan_duration=3, red_scan_countdown=-1, restore_duration=3, restore_countdown=-1, original_file_uuids=['e63e23dc-c443-4434-822d-3c2c01cbfe1e'])), '23df7aba-074e-4ffa-939a-d87ad1fe7af1': File(uuid='23df7aba-074e-4ffa-939a-d87ad1fe7af1', name='database.db', health_status=<FileSystemItemHealthStatus.GOOD: 1>, visible_health_status=<FileSystemItemHealthStatus.GOOD: 1>, previous_hash=None, revealed_to_red=False, sys_log=<primaite.simulator.system.core.sys_log.SysLog object at 0x7f0d58908400>, deleted=True, folder_id='e602b9a6-ea1c-4c52-9025-8512d9116b1d', folder_name='database', file_type=<FileType.DB: 32>, sim_size=15360000, real=False, sim_path=None, sim_root=PosixPath('/home/cade/primaite/3.0.0b6/sessions/2024-02-07/10-58-18/simulation_output/database_server/fs'), folder=Folder(uuid='e602b9a6-ea1c-4c52-9025-8512d9116b1d', name='database', health_status=<FileSystemItemHealthStatus.GOOD: 1>, visible_health_status=<FileSystemItemHealthStatus.GOOD: 1>, previous_hash=None, revealed_to_red=False, sys_log=<primaite.simulator.system.core.sys_log.SysLog object at 0x7f0d58908400>, deleted=False, files={...}, deleted_files={...}, scan_duration=3, scan_countdown=-1, red_scan_duration=3, red_scan_countdown=-1, restore_duration=3, restore_countdown=-1, original_file_uuids=['e63e23dc-c443-4434-822d-3c2c01cbfe1e']))}, scan_duration=3, scan_countdown=-1, red_scan_duration=3, red_scan_countdown=-1, restore_duration=3, restore_countdown=-1, original_file_uuids=['e63e23dc-c443-4434-822d-3c2c01cbfe1e']))}, deleted_files={'e63e23dc-c443-4434-822d-3c2c01cbfe1e': File(uuid='e63e23dc-c443-4434-822d-3c2c01cbfe1e', name='database.db', health_status=<FileSystemItemHealthStatus.COMPROMISED: 2>, visible_health_status=<FileSystemItemHealthStatus.COMPROMISED: 2>, previous_hash=None, revealed_to_red=False, sys_log=<primaite.simulator.system.core.sys_log.SysLog object at 0x7f0d58908400>, deleted=True, folder_id='e602b9a6-ea1c-4c52-9025-8512d9116b1d', folder_name='database', file_type=<FileType.DB: 32>, sim_size=15360000, real=False, sim_path=None, sim_root=PosixPath('/home/cade/primaite/3.0.0b6/sessions/2024-02-07/10-58-18/simulation_output/database_server/fs'), folder=Folder(uuid='e602b9a6-ea1c-4c52-9025-8512d9116b1d', name='database', health_status=<FileSystemItemHealthStatus.GOOD: 1>, visible_health_status=<FileSystemItemHealthStatus.GOOD: 1>, previous_hash=None, revealed_to_red=False, sys_log=<primaite.simulator.system.core.sys_log.SysLog object at 0x7f0d58908400>, deleted=False, files={'390c399a-c2ab-4d84-b98f-d5fc1f9114d2': File(uuid='390c399a-c2ab-4d84-b98f-d5fc1f9114d2', name='database.db', health_status=<FileSystemItemHealthStatus.GOOD: 1>, visible_health_status=<FileSystemItemHealthStatus.GOOD: 1>, previous_hash=None, revealed_to_red=False, sys_log=<primaite.simulator.system.core.sys_log.SysLog object at 0x7f0d58908400>, deleted=False, folder_id='e602b9a6-ea1c-4c52-9025-8512d9116b1d', folder_name='database', file_type=<FileType.DB: 32>, sim_size=15360000, real=False, sim_path=None, sim_root=PosixPath('/home/cade/primaite/3.0.0b6/sessions/2024-02-07/10-58-18/simulation_output/database_server/fs'), folder=Folder(uuid='e602b9a6-ea1c-4c52-9025-8512d9116b1d', name='database', health_status=<FileSystemItemHealthStatus.GOOD: 1>, visible_health_status=<FileSystemItemHealthStatus.GOOD: 1>, previous_hash=None, revealed_to_red=False, sys_log=<primaite.simulator.system.core.sys_log.SysLog object at 0x7f0d58908400>, deleted=False, files={...}, deleted_files={...}, scan_duration=3, scan_countdown=-1, red_scan_duration=3, red_scan_countdown=-1, restore_duration=3, restore_countdown=-1, original_file_uuids=['e63e23dc-c443-4434-822d-3c2c01cbfe1e']))}, deleted_files={...}, scan_duration=3, scan_countdown=-1, red_scan_duration=3, red_scan_countdown=-1, restore_duration=3, restore_countdown=-1, original_file_uuids=['e63e23dc-c443-4434-822d-3c2c01cbfe1e'])), '646a198e-6ac1-4aea-b526-7ca5c2c30dfc': File(uuid='646a198e-6ac1-4aea-b526-7ca5c2c30dfc', name='database.db', health_status=<FileSystemItemHealthStatus.GOOD: 1>, visible_health_status=<FileSystemItemHealthStatus.GOOD: 1>, previous_hash=None, revealed_to_red=False, sys_log=<primaite.simulator.system.core.sys_log.SysLog object at 0x7f0d58908400>, deleted=True, folder_id='e602b9a6-ea1c-4c52-9025-8512d9116b1d', folder_name='database', file_type=<FileType.DB: 32>, sim_size=15360000, real=False, sim_path=None, sim_root=PosixPath('/home/cade/primaite/3.0.0b6/sessions/2024-02-07/10-58-18/simulation_output/database_server/fs'), folder=Folder(uuid='e602b9a6-ea1c-4c52-9025-8512d9116b1d', name='database', health_status=<FileSystemItemHealthStatus.GOOD: 1>, visible_health_status=<FileSystemItemHealthStatus.GOOD: 1>, previous_hash=None, revealed_to_red=False, sys_log=<primaite.simulator.system.core.sys_log.SysLog object at 0x7f0d58908400>, deleted=False, files={'390c399a-c2ab-4d84-b98f-d5fc1f9114d2': File(uuid='390c399a-c2ab-4d84-b98f-d5fc1f9114d2', name='database.db', health_status=<FileSystemItemHealthStatus.GOOD: 1>, visible_health_status=<FileSystemItemHealthStatus.GOOD: 1>, previous_hash=None, revealed_to_red=False, sys_log=<primaite.simulator.system.core.sys_log.SysLog object at 0x7f0d58908400>, deleted=False, folder_id='e602b9a6-ea1c-4c52-9025-8512d9116b1d', folder_name='database', file_type=<FileType.DB: 32>, sim_size=15360000, real=False, sim_path=None, sim_root=PosixPath('/home/cade/primaite/3.0.0b6/sessions/2024-02-07/10-58-18/simulation_output/database_server/fs'), folder=Folder(uuid='e602b9a6-ea1c-4c52-9025-8512d9116b1d', name='database', health_status=<FileSystemItemHealthStatus.GOOD: 1>, visible_health_status=<FileSystemItemHealthStatus.GOOD: 1>, previous_hash=None, revealed_to_red=False, sys_log=<primaite.simulator.system.core.sys_log.SysLog object at 0x7f0d58908400>, deleted=False, files={...}, deleted_files={...}, scan_duration=3, scan_countdown=-1, red_scan_duration=3, red_scan_countdown=-1, restore_duration=3, restore_countdown=-1, original_file_uuids=['e63e23dc-c443-4434-822d-3c2c01cbfe1e']))}, deleted_files={...}, scan_duration=3, scan_countdown=-1, red_scan_duration=3, red_scan_countdown=-1, restore_duration=3, restore_countdown=-1, original_file_uuids=['e63e23dc-c443-4434-822d-3c2c01cbfe1e'])), '23df7aba-074e-4ffa-939a-d87ad1fe7af1': File(uuid='23df7aba-074e-4ffa-939a-d87ad1fe7af1', name='database.db', health_status=<FileSystemItemHealthStatus.GOOD: 1>, visible_health_status=<FileSystemItemHealthStatus.GOOD: 1>, previous_hash=None, revealed_to_red=False, sys_log=<primaite.simulator.system.core.sys_log.SysLog object at 0x7f0d58908400>, deleted=True, folder_id='e602b9a6-ea1c-4c52-9025-8512d9116b1d', folder_name='database', file_type=<FileType.DB: 32>, sim_size=15360000, real=False, sim_path=None, sim_root=PosixPath('/home/cade/primaite/3.0.0b6/sessions/2024-02-07/10-58-18/simulation_output/database_server/fs'), folder=Folder(uuid='e602b9a6-ea1c-4c52-9025-8512d9116b1d', name='database', health_status=<FileSystemItemHealthStatus.GOOD: 1>, visible_health_status=<FileSystemItemHealthStatus.GOOD: 1>, previous_hash=None, revealed_to_red=False, sys_log=<primaite.simulator.system.core.sys_log.SysLog object at 0x7f0d58908400>, deleted=False, files={'390c399a-c2ab-4d84-b98f-d5fc1f9114d2': File(uuid='390c399a-c2ab-4d84-b98f-d5fc1f9114d2', name='database.db', health_status=<FileSystemItemHealthStatus.GOOD: 1>, visible_health_status=<FileSystemItemHealthStatus.GOOD: 1>, previous_hash=None, revealed_to_red=False, sys_log=<primaite.simulator.system.core.sys_log.SysLog object at 0x7f0d58908400>, deleted=False, folder_id='e602b9a6-ea1c-4c52-9025-8512d9116b1d', folder_name='database', file_type=<FileType.DB: 32>, sim_size=15360000, real=False, sim_path=None, sim_root=PosixPath('/home/cade/primaite/3.0.0b6/sessions/2024-02-07/10-58-18/simulation_output/database_server/fs'), folder=Folder(uuid='e602b9a6-ea1c-4c52-9025-8512d9116b1d', name='database', health_status=<FileSystemItemHealthStatus.GOOD: 1>, visible_health_status=<FileSystemItemHealthStatus.GOOD: 1>, previous_hash=None, revealed_to_red=False, sys_log=<primaite.simulator.system.core.sys_log.SysLog object at 0x7f0d58908400>, deleted=False, files={...}, deleted_files={...}, scan_duration=3, scan_countdown=-1, red_scan_duration=3, red_scan_countdown=-1, restore_duration=3, restore_countdown=-1, original_file_uuids=['e63e23dc-c443-4434-822d-3c2c01cbfe1e']))}, deleted_files={...}, scan_duration=3, scan_countdown=-1, red_scan_duration=3, red_scan_countdown=-1, restore_duration=3, restore_countdown=-1, original_file_uuids=['e63e23dc-c443-4434-822d-3c2c01cbfe1e']))}, scan_duration=3, scan_countdown=-1, red_scan_duration=3, red_scan_countdown=-1, restore_duration=3, restore_countdown=-1, original_file_uuids=['e63e23dc-c443-4434-822d-3c2c01cbfe1e']))"
      ]
     },
     "execution_count": 31,
     "metadata": {},
     "output_type": "execute_result"
    }
   ],
   "source": [
    "database_server.file_system.get_file('database', 'database.db')"
   ]
  },
  {
   "cell_type": "code",
   "execution_count": null,
   "metadata": {},
   "outputs": [],
   "source": [
    "database_server."
   ]
  }
 ],
 "metadata": {
  "kernelspec": {
   "display_name": "venv",
   "language": "python",
   "name": "python3"
  },
  "language_info": {
   "codemirror_mode": {
    "name": "ipython",
    "version": 3
   },
   "file_extension": ".py",
   "mimetype": "text/x-python",
   "name": "python",
   "nbconvert_exporter": "python",
   "pygments_lexer": "ipython3",
   "version": "3.10.12"
  }
 },
 "nbformat": 4,
 "nbformat_minor": 2
}
